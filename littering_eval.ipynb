{
 "cells": [
  {
   "cell_type": "code",
   "execution_count": null,
   "id": "99b76cf4-e1a9-450f-8062-ee377f75509d",
   "metadata": {},
   "outputs": [],
   "source": [
    "!pip install roboflow"
   ]
  },
  {
   "cell_type": "code",
   "execution_count": 1,
   "id": "88be42de-1fb6-4436-a262-045908c4e8f0",
   "metadata": {},
   "outputs": [
    {
     "name": "stdout",
     "output_type": "stream",
     "text": [
      "loading Roboflow workspace...\n",
      "loading Roboflow project...\n"
     ]
    },
    {
     "name": "stderr",
     "output_type": "stream",
     "text": [
      "Downloading Dataset Version Zip in Littering--8 to yolov11:: 100%|█| 4185192/4185192 [19:11<00:00, 3633.93it/s"
     ]
    },
    {
     "name": "stdout",
     "output_type": "stream",
     "text": [
      "\n"
     ]
    },
    {
     "name": "stderr",
     "output_type": "stream",
     "text": [
      "\n",
      "Extracting Dataset Version Zip to Littering--8 in yolov11:: 100%|███████| 34812/34812 [07:36<00:00, 76.29it/s]\n"
     ]
    }
   ],
   "source": [
    "from roboflow import Roboflow\n",
    "import os\n",
    "\n",
    "rf = Roboflow(api_key=os.environ[\"ROBOFLOW_TOKEN\"])\n",
    "project = rf.workspace(\"thesis-kztn8\").project(\"littering-whlsk\")\n",
    "version = project.version(8)\n",
    "dataset = version.download(\"yolov11\")"
   ]
  },
  {
   "cell_type": "code",
   "execution_count": 1,
   "id": "7d592aaa-f2f8-48ee-9c36-1a7f8a659bf4",
   "metadata": {},
   "outputs": [],
   "source": [
    "import os\n",
    "SCRIPT_DIR = os.path.abspath(\"\")"
   ]
  },
  {
   "cell_type": "code",
   "execution_count": 2,
   "id": "6cf94010-8800-4a37-bf92-6c29d5eb6a8f",
   "metadata": {},
   "outputs": [
    {
     "ename": "KeyboardInterrupt",
     "evalue": "",
     "output_type": "error",
     "traceback": [
      "\u001b[0;31m---------------------------------------------------------------------------\u001b[0m",
      "\u001b[0;31mKeyboardInterrupt\u001b[0m                         Traceback (most recent call last)",
      "Cell \u001b[0;32mIn[2], line 1\u001b[0m\n\u001b[0;32m----> 1\u001b[0m \u001b[38;5;28;01mfrom\u001b[39;00m \u001b[38;5;21;01multralytics\u001b[39;00m \u001b[38;5;28;01mimport\u001b[39;00m YOLO\n\u001b[1;32m      2\u001b[0m \u001b[38;5;28;01mfrom\u001b[39;00m \u001b[38;5;21;01mtqdm\u001b[39;00m \u001b[38;5;28;01mimport\u001b[39;00m tqdm\n\u001b[1;32m      4\u001b[0m \u001b[38;5;66;03m# Load a model\u001b[39;00m\n",
      "File \u001b[0;32m/mnt/c/Adrianov/Projects/trash-detector/trash_venv/lib/python3.12/site-packages/ultralytics/__init__.py:11\u001b[0m\n\u001b[1;32m      8\u001b[0m \u001b[38;5;28;01mif\u001b[39;00m \u001b[38;5;129;01mnot\u001b[39;00m os\u001b[38;5;241m.\u001b[39menviron\u001b[38;5;241m.\u001b[39mget(\u001b[38;5;124m\"\u001b[39m\u001b[38;5;124mOMP_NUM_THREADS\u001b[39m\u001b[38;5;124m\"\u001b[39m):\n\u001b[1;32m      9\u001b[0m     os\u001b[38;5;241m.\u001b[39menviron[\u001b[38;5;124m\"\u001b[39m\u001b[38;5;124mOMP_NUM_THREADS\u001b[39m\u001b[38;5;124m\"\u001b[39m] \u001b[38;5;241m=\u001b[39m \u001b[38;5;124m\"\u001b[39m\u001b[38;5;124m1\u001b[39m\u001b[38;5;124m\"\u001b[39m  \u001b[38;5;66;03m# default for reduced CPU utilization during training\u001b[39;00m\n\u001b[0;32m---> 11\u001b[0m \u001b[38;5;28;01mfrom\u001b[39;00m \u001b[38;5;21;01multralytics\u001b[39;00m\u001b[38;5;21;01m.\u001b[39;00m\u001b[38;5;21;01mmodels\u001b[39;00m \u001b[38;5;28;01mimport\u001b[39;00m NAS, RTDETR, SAM, YOLO, FastSAM, YOLOWorld\n\u001b[1;32m     12\u001b[0m \u001b[38;5;28;01mfrom\u001b[39;00m \u001b[38;5;21;01multralytics\u001b[39;00m\u001b[38;5;21;01m.\u001b[39;00m\u001b[38;5;21;01mutils\u001b[39;00m \u001b[38;5;28;01mimport\u001b[39;00m ASSETS, SETTINGS\n\u001b[1;32m     13\u001b[0m \u001b[38;5;28;01mfrom\u001b[39;00m \u001b[38;5;21;01multralytics\u001b[39;00m\u001b[38;5;21;01m.\u001b[39;00m\u001b[38;5;21;01mutils\u001b[39;00m\u001b[38;5;21;01m.\u001b[39;00m\u001b[38;5;21;01mchecks\u001b[39;00m \u001b[38;5;28;01mimport\u001b[39;00m check_yolo \u001b[38;5;28;01mas\u001b[39;00m checks\n",
      "File \u001b[0;32m/mnt/c/Adrianov/Projects/trash-detector/trash_venv/lib/python3.12/site-packages/ultralytics/models/__init__.py:3\u001b[0m\n\u001b[1;32m      1\u001b[0m \u001b[38;5;66;03m# Ultralytics YOLO 🚀, AGPL-3.0 license\u001b[39;00m\n\u001b[0;32m----> 3\u001b[0m \u001b[38;5;28;01mfrom\u001b[39;00m \u001b[38;5;21;01m.\u001b[39;00m\u001b[38;5;21;01mfastsam\u001b[39;00m \u001b[38;5;28;01mimport\u001b[39;00m FastSAM\n\u001b[1;32m      4\u001b[0m \u001b[38;5;28;01mfrom\u001b[39;00m \u001b[38;5;21;01m.\u001b[39;00m\u001b[38;5;21;01mnas\u001b[39;00m \u001b[38;5;28;01mimport\u001b[39;00m NAS\n\u001b[1;32m      5\u001b[0m \u001b[38;5;28;01mfrom\u001b[39;00m \u001b[38;5;21;01m.\u001b[39;00m\u001b[38;5;21;01mrtdetr\u001b[39;00m \u001b[38;5;28;01mimport\u001b[39;00m RTDETR\n",
      "File \u001b[0;32m/mnt/c/Adrianov/Projects/trash-detector/trash_venv/lib/python3.12/site-packages/ultralytics/models/fastsam/__init__.py:3\u001b[0m\n\u001b[1;32m      1\u001b[0m \u001b[38;5;66;03m# Ultralytics YOLO 🚀, AGPL-3.0 license\u001b[39;00m\n\u001b[0;32m----> 3\u001b[0m \u001b[38;5;28;01mfrom\u001b[39;00m \u001b[38;5;21;01m.\u001b[39;00m\u001b[38;5;21;01mmodel\u001b[39;00m \u001b[38;5;28;01mimport\u001b[39;00m FastSAM\n\u001b[1;32m      4\u001b[0m \u001b[38;5;28;01mfrom\u001b[39;00m \u001b[38;5;21;01m.\u001b[39;00m\u001b[38;5;21;01mpredict\u001b[39;00m \u001b[38;5;28;01mimport\u001b[39;00m FastSAMPredictor\n\u001b[1;32m      5\u001b[0m \u001b[38;5;28;01mfrom\u001b[39;00m \u001b[38;5;21;01m.\u001b[39;00m\u001b[38;5;21;01mval\u001b[39;00m \u001b[38;5;28;01mimport\u001b[39;00m FastSAMValidator\n",
      "File \u001b[0;32m/mnt/c/Adrianov/Projects/trash-detector/trash_venv/lib/python3.12/site-packages/ultralytics/models/fastsam/model.py:5\u001b[0m\n\u001b[1;32m      1\u001b[0m \u001b[38;5;66;03m# Ultralytics YOLO 🚀, AGPL-3.0 license\u001b[39;00m\n\u001b[1;32m      3\u001b[0m \u001b[38;5;28;01mfrom\u001b[39;00m \u001b[38;5;21;01mpathlib\u001b[39;00m \u001b[38;5;28;01mimport\u001b[39;00m Path\n\u001b[0;32m----> 5\u001b[0m \u001b[38;5;28;01mfrom\u001b[39;00m \u001b[38;5;21;01multralytics\u001b[39;00m\u001b[38;5;21;01m.\u001b[39;00m\u001b[38;5;21;01mengine\u001b[39;00m\u001b[38;5;21;01m.\u001b[39;00m\u001b[38;5;21;01mmodel\u001b[39;00m \u001b[38;5;28;01mimport\u001b[39;00m Model\n\u001b[1;32m      7\u001b[0m \u001b[38;5;28;01mfrom\u001b[39;00m \u001b[38;5;21;01m.\u001b[39;00m\u001b[38;5;21;01mpredict\u001b[39;00m \u001b[38;5;28;01mimport\u001b[39;00m FastSAMPredictor\n\u001b[1;32m      8\u001b[0m \u001b[38;5;28;01mfrom\u001b[39;00m \u001b[38;5;21;01m.\u001b[39;00m\u001b[38;5;21;01mval\u001b[39;00m \u001b[38;5;28;01mimport\u001b[39;00m FastSAMValidator\n",
      "File \u001b[0;32m/mnt/c/Adrianov/Projects/trash-detector/trash_venv/lib/python3.12/site-packages/ultralytics/engine/model.py:8\u001b[0m\n\u001b[1;32m      5\u001b[0m \u001b[38;5;28;01mfrom\u001b[39;00m \u001b[38;5;21;01mtyping\u001b[39;00m \u001b[38;5;28;01mimport\u001b[39;00m Dict, List, Union\n\u001b[1;32m      7\u001b[0m \u001b[38;5;28;01mimport\u001b[39;00m \u001b[38;5;21;01mnumpy\u001b[39;00m \u001b[38;5;28;01mas\u001b[39;00m \u001b[38;5;21;01mnp\u001b[39;00m\n\u001b[0;32m----> 8\u001b[0m \u001b[38;5;28;01mimport\u001b[39;00m \u001b[38;5;21;01mtorch\u001b[39;00m\n\u001b[1;32m      9\u001b[0m \u001b[38;5;28;01mfrom\u001b[39;00m \u001b[38;5;21;01mPIL\u001b[39;00m \u001b[38;5;28;01mimport\u001b[39;00m Image\n\u001b[1;32m     11\u001b[0m \u001b[38;5;28;01mfrom\u001b[39;00m \u001b[38;5;21;01multralytics\u001b[39;00m\u001b[38;5;21;01m.\u001b[39;00m\u001b[38;5;21;01mcfg\u001b[39;00m \u001b[38;5;28;01mimport\u001b[39;00m TASK2DATA, get_cfg, get_save_dir\n",
      "File \u001b[0;32m/mnt/c/Adrianov/Projects/trash-detector/trash_venv/lib/python3.12/site-packages/torch/__init__.py:367\u001b[0m\n\u001b[1;32m    365\u001b[0m     \u001b[38;5;28;01mif\u001b[39;00m USE_GLOBAL_DEPS:\n\u001b[1;32m    366\u001b[0m         _load_global_deps()\n\u001b[0;32m--> 367\u001b[0m     \u001b[38;5;28;01mfrom\u001b[39;00m \u001b[38;5;21;01mtorch\u001b[39;00m\u001b[38;5;21;01m.\u001b[39;00m\u001b[38;5;21;01m_C\u001b[39;00m \u001b[38;5;28;01mimport\u001b[39;00m \u001b[38;5;241m*\u001b[39m  \u001b[38;5;66;03m# noqa: F403\u001b[39;00m\n\u001b[1;32m    370\u001b[0m \u001b[38;5;28;01mclass\u001b[39;00m \u001b[38;5;21;01mSymInt\u001b[39;00m:\n\u001b[1;32m    371\u001b[0m \u001b[38;5;250m    \u001b[39m\u001b[38;5;124;03m\"\"\"\u001b[39;00m\n\u001b[1;32m    372\u001b[0m \u001b[38;5;124;03m    Like an int (including magic methods), but redirects all operations on the\u001b[39;00m\n\u001b[1;32m    373\u001b[0m \u001b[38;5;124;03m    wrapped node. This is used in particular to symbolically record operations\u001b[39;00m\n\u001b[1;32m    374\u001b[0m \u001b[38;5;124;03m    in the symbolic shape workflow.\u001b[39;00m\n\u001b[1;32m    375\u001b[0m \u001b[38;5;124;03m    \"\"\"\u001b[39;00m\n",
      "File \u001b[0;32m<frozen importlib._bootstrap>:463\u001b[0m, in \u001b[0;36m_lock_unlock_module\u001b[0;34m(name)\u001b[0m\n",
      "\u001b[0;31mKeyboardInterrupt\u001b[0m: "
     ]
    }
   ],
   "source": [
    "from ultralytics import YOLO\n",
    "from tqdm import tqdm\n",
    "\n",
    "# Load a model\n",
    "model = YOLO(os.path.join(SCRIPT_DIR, \"model/Trash Detector/weights/last.pt\"))\n",
    "\n",
    "test_dir = os.path.join(SCRIPT_DIR, \"Littering--8/test/images\")\n",
    "\n",
    "files = [os.path.join(test_dir, file) for file in os.listdir(test_dir) if file.endswith(\".jpg\")]\n",
    "# Process results generator\n",
    "for i in tqdm(range(len(files))):\n",
    "    file = files[i]\n",
    "    result = model(file)[0]\n",
    "    boxes = result.boxes \n",
    "    masks = result.masks \n",
    "    keypoints = result.keypoints \n",
    "    probs = result.probs \n",
    "    obb = result.obb \n",
    "    f = os.path.join(SCRIPT_DIR,f\"yolo_res/images/result_{i}.jpg\")\n",
    "    f_text = os.path.join(SCRIPT_DIR,f\"yolo_res/label/result_{i}.txt\")\n",
    "    # print(f)\n",
    "    result.save(filename=f)\n",
    "    result.save_txt(txt_file=f_text)"
   ]
  },
  {
   "cell_type": "markdown",
   "id": "d82446f0-f7e6-4922-9ed5-70fa6eac3040",
   "metadata": {},
   "source": [
    "## Segmenting Region of Proposal"
   ]
  },
  {
   "cell_type": "code",
   "execution_count": 6,
   "id": "d226d3d9-dd77-48db-9825-e2c9b9849072",
   "metadata": {},
   "outputs": [
    {
     "name": "stderr",
     "output_type": "stream",
     "text": [
      "  0%|                             | 1/1219 [00:00<02:24,  8.44it/s]"
     ]
    },
    {
     "name": "stdout",
     "output_type": "stream",
     "text": [
      "/mnt/c/Adrianov/Projects/trash-detector/yolo_res/label/result_0.txt\n",
      "/mnt/c/Adrianov/Projects/trash-detector/yolo_res/images/result_0.jpg\n",
      "obj: 3, obj: 0\n",
      "0.9035377666666666 0.6412182333333334 0.7483167148148149 1.167885285185185\n",
      "0.874238 0.738072 0.365624 0.9054260000000001\n",
      "True\n",
      "False\n",
      "False\n",
      "True\n",
      "True\n",
      "obj: 3, obj: 1\n",
      "0.9035377666666666 0.6412182333333334 0.7483167148148149 1.167885285185185\n",
      "0.5416805 0.46925550000000005 0.386686 0.692122\n",
      "False\n",
      "False\n",
      "True\n",
      "False\n",
      "True\n",
      "obj: 3, obj: 2\n",
      "0.9035377666666666 0.6412182333333334 0.7483167148148149 1.167885285185185\n",
      "0.2321145 -5.000000000005e-07 0.637722 0.9996740000000001\n",
      "False\n",
      "False\n",
      "True\n",
      "True\n",
      "True\n",
      "['1', '0.772378', '0.958101', '0.0539862', '0.0491982']\n",
      "['0', '0.806155', '0.635525', '0.136166', '0.539802']\n",
      "Regions:  [(1417, 1678, 394, 1061)]\n",
      "Cropped image /mnt/c/Adrianov/Projects/trash-detector/yolo_res/images/result_0.jpg and saved result to /mnt/c/Adrianov/Projects/trash-detector/masks/imgs/result_0_0.jpg\n",
      "/mnt/c/Adrianov/Projects/trash-detector/yolo_res/label/result_1.txt\n",
      "/mnt/c/Adrianov/Projects/trash-detector/yolo_res/images/result_1.jpg\n"
     ]
    },
    {
     "name": "stderr",
     "output_type": "stream",
     "text": [
      "  0%|                             | 3/1219 [00:00<02:56,  6.89it/s]"
     ]
    },
    {
     "name": "stdout",
     "output_type": "stream",
     "text": [
      "Cropped image /mnt/c/Adrianov/Projects/trash-detector/yolo_res/images/result_1.jpg and saved result to None\n",
      "/mnt/c/Adrianov/Projects/trash-detector/yolo_res/label/result_2.txt\n",
      "/mnt/c/Adrianov/Projects/trash-detector/yolo_res/images/result_2.jpg\n",
      "Cropped image /mnt/c/Adrianov/Projects/trash-detector/yolo_res/images/result_2.jpg and saved result to None\n",
      "/mnt/c/Adrianov/Projects/trash-detector/yolo_res/label/result_3.txt\n",
      "/mnt/c/Adrianov/Projects/trash-detector/yolo_res/images/result_3.jpg\n"
     ]
    },
    {
     "name": "stderr",
     "output_type": "stream",
     "text": [
      "  0%|                             | 5/1219 [00:00<02:59,  6.76it/s]"
     ]
    },
    {
     "name": "stdout",
     "output_type": "stream",
     "text": [
      "Cropped image /mnt/c/Adrianov/Projects/trash-detector/yolo_res/images/result_3.jpg and saved result to None\n",
      "/mnt/c/Adrianov/Projects/trash-detector/yolo_res/label/result_4.txt\n",
      "/mnt/c/Adrianov/Projects/trash-detector/yolo_res/images/result_4.jpg\n",
      "Cropped image /mnt/c/Adrianov/Projects/trash-detector/yolo_res/images/result_4.jpg and saved result to None\n",
      "/mnt/c/Adrianov/Projects/trash-detector/yolo_res/label/result_5.txt\n",
      "/mnt/c/Adrianov/Projects/trash-detector/yolo_res/images/result_5.jpg\n"
     ]
    },
    {
     "name": "stderr",
     "output_type": "stream",
     "text": [
      "  0%|▏                            | 6/1219 [00:00<03:06,  6.51it/s]"
     ]
    },
    {
     "name": "stdout",
     "output_type": "stream",
     "text": [
      "obj: 3, obj: 0\n",
      "0.9019451166666667 0.6415948833333333 0.7449065648148148 1.1655114351851852\n",
      "0.881337 0.7582329999999999 0.368641 0.915727\n",
      "True\n",
      "False\n",
      "False\n",
      "True\n",
      "True\n",
      "obj: 3, obj: 1\n",
      "0.9019451166666667 0.6415948833333333 0.7449065648148148 1.1655114351851852\n",
      "0.5428156000000001 0.47051440000000005 0.38671450000000007 0.7085835\n",
      "False\n",
      "False\n",
      "True\n",
      "False\n",
      "True\n",
      "obj: 3, obj: 2\n",
      "0.9019451166666667 0.6415948833333333 0.7449065648148148 1.1655114351851852\n",
      "0.226762 0.0 0.635616 1.0\n",
      "False\n",
      "False\n",
      "True\n",
      "True\n",
      "True\n",
      "['1', '0.77177', '0.955209', '0.0520169', '0.0502345']\n",
      "['0', '0.819785', '0.642184', '0.123104', '0.547086']\n",
      "Regions:  [(1431, 1692, 398, 1058)]\n",
      "Cropped image /mnt/c/Adrianov/Projects/trash-detector/yolo_res/images/result_5.jpg and saved result to /mnt/c/Adrianov/Projects/trash-detector/masks/imgs/result_5_0.jpg\n",
      "/mnt/c/Adrianov/Projects/trash-detector/yolo_res/label/result_6.txt\n",
      "/mnt/c/Adrianov/Projects/trash-detector/yolo_res/images/result_6.jpg\n"
     ]
    },
    {
     "name": "stderr",
     "output_type": "stream",
     "text": [
      "  1%|▏                            | 7/1219 [00:01<03:03,  6.62it/s]"
     ]
    },
    {
     "name": "stdout",
     "output_type": "stream",
     "text": [
      "Cropped image /mnt/c/Adrianov/Projects/trash-detector/yolo_res/images/result_6.jpg and saved result to None\n",
      "/mnt/c/Adrianov/Projects/trash-detector/yolo_res/label/result_7.txt\n",
      "/mnt/c/Adrianov/Projects/trash-detector/yolo_res/images/result_7.jpg\n",
      "obj: 3, obj: 0\n",
      "0.9033100666666667 0.6420859333333333 0.7466211148148149 1.1661708851851853\n",
      "0.54503225 0.46996974999999996 0.3896385 0.7152555\n",
      "False\n",
      "False\n",
      "True\n",
      "False\n",
      "True\n",
      "obj: 3, obj: 1\n",
      "0.9033100666666667 0.6420859333333333 0.7466211148148149 1.1661708851851853\n",
      "0.8812975 0.7688665 0.36163300000000004 0.921867\n",
      "True\n",
      "False\n",
      "False\n",
      "True\n",
      "True\n",
      "obj: 3, obj: 2\n",
      "0.9033100666666667 0.6420859333333333 0.7466211148148149 1.1661708851851853\n",
      "0.223562 0.0 0.6376345 0.9999995\n",
      "False\n",
      "False\n",
      "True\n",
      "True\n",
      "True\n"
     ]
    },
    {
     "name": "stderr",
     "output_type": "stream",
     "text": [
      "  1%|▏                           | 10/1219 [00:01<02:38,  7.65it/s]"
     ]
    },
    {
     "name": "stdout",
     "output_type": "stream",
     "text": [
      "['1', '0.772698', '0.956396', '0.0528908', '0.0491794']\n",
      "['0', '0.825082', '0.64175', '0.112431', '0.560234']\n",
      "Regions:  [(1432, 1692, 390, 1059)]\n",
      "Cropped image /mnt/c/Adrianov/Projects/trash-detector/yolo_res/images/result_7.jpg and saved result to /mnt/c/Adrianov/Projects/trash-detector/masks/imgs/result_7_0.jpg\n",
      "/mnt/c/Adrianov/Projects/trash-detector/yolo_res/label/result_8.txt\n",
      "/mnt/c/Adrianov/Projects/trash-detector/yolo_res/images/result_8.jpg\n",
      "Cropped image /mnt/c/Adrianov/Projects/trash-detector/yolo_res/images/result_8.jpg and saved result to None\n",
      "/mnt/c/Adrianov/Projects/trash-detector/yolo_res/label/result_9.txt\n",
      "/mnt/c/Adrianov/Projects/trash-detector/yolo_res/images/result_9.jpg\n",
      "Cropped image /mnt/c/Adrianov/Projects/trash-detector/yolo_res/images/result_9.jpg and saved result to None\n",
      "/mnt/c/Adrianov/Projects/trash-detector/yolo_res/label/result_10.txt\n",
      "/mnt/c/Adrianov/Projects/trash-detector/yolo_res/images/result_10.jpg\n"
     ]
    },
    {
     "name": "stderr",
     "output_type": "stream",
     "text": [
      "  1%|▎                           | 12/1219 [00:01<02:50,  7.09it/s]"
     ]
    },
    {
     "name": "stdout",
     "output_type": "stream",
     "text": [
      "Cropped image /mnt/c/Adrianov/Projects/trash-detector/yolo_res/images/result_10.jpg and saved result to None\n",
      "/mnt/c/Adrianov/Projects/trash-detector/yolo_res/label/result_11.txt\n",
      "/mnt/c/Adrianov/Projects/trash-detector/yolo_res/images/result_11.jpg\n",
      "Cropped image /mnt/c/Adrianov/Projects/trash-detector/yolo_res/images/result_11.jpg and saved result to None\n",
      "/mnt/c/Adrianov/Projects/trash-detector/yolo_res/label/result_12.txt\n",
      "/mnt/c/Adrianov/Projects/trash-detector/yolo_res/images/result_12.jpg\n"
     ]
    },
    {
     "name": "stderr",
     "output_type": "stream",
     "text": [
      "  1%|▎                           | 14/1219 [00:02<02:53,  6.95it/s]"
     ]
    },
    {
     "name": "stdout",
     "output_type": "stream",
     "text": [
      "Cropped image /mnt/c/Adrianov/Projects/trash-detector/yolo_res/images/result_12.jpg and saved result to None\n",
      "/mnt/c/Adrianov/Projects/trash-detector/yolo_res/label/result_13.txt\n",
      "/mnt/c/Adrianov/Projects/trash-detector/yolo_res/images/result_13.jpg\n",
      "obj: 3, obj: 0\n",
      "0.9028407166666667 0.6453872833333333 0.7500244148148149 1.1654295851851852\n",
      "0.5497227 0.47183130000000006 0.39222650000000003 0.7194235\n",
      "False\n",
      "False\n",
      "True\n",
      "False\n",
      "True\n",
      "obj: 3, obj: 1\n",
      "0.9028407166666667 0.6453872833333333 0.7500244148148149 1.1654295851851852\n",
      "0.8851975000000001 0.7739285 0.361558 0.907786\n",
      "True\n",
      "False\n",
      "False\n",
      "True\n",
      "True\n",
      "obj: 3, obj: 2\n",
      "0.9028407166666667 0.6453872833333333 0.7500244148148149 1.1654295851851852\n",
      "0.2279405 -5.000000000005e-07 0.6401300000000001 1.0\n",
      "False\n",
      "False\n",
      "True\n",
      "True\n",
      "True\n",
      "['1', '0.774114', '0.957727', '0.0491201', '0.0450348']\n",
      "['0', '0.829563', '0.634672', '0.111269', '0.546228']\n",
      "Regions:  [(1439, 1699, 390, 1058)]\n",
      "Cropped image /mnt/c/Adrianov/Projects/trash-detector/yolo_res/images/result_13.jpg and saved result to /mnt/c/Adrianov/Projects/trash-detector/masks/imgs/result_13_0.jpg\n",
      "/mnt/c/Adrianov/Projects/trash-detector/yolo_res/label/result_14.txt\n",
      "/mnt/c/Adrianov/Projects/trash-detector/yolo_res/images/result_14.jpg\n"
     ]
    },
    {
     "name": "stderr",
     "output_type": "stream",
     "text": [
      "  1%|▎                           | 16/1219 [00:02<02:55,  6.86it/s]"
     ]
    },
    {
     "name": "stdout",
     "output_type": "stream",
     "text": [
      "Cropped image /mnt/c/Adrianov/Projects/trash-detector/yolo_res/images/result_14.jpg and saved result to None\n",
      "/mnt/c/Adrianov/Projects/trash-detector/yolo_res/label/result_15.txt\n",
      "/mnt/c/Adrianov/Projects/trash-detector/yolo_res/images/result_15.jpg\n",
      "Cropped image /mnt/c/Adrianov/Projects/trash-detector/yolo_res/images/result_15.jpg and saved result to None\n",
      "/mnt/c/Adrianov/Projects/trash-detector/yolo_res/label/result_16.txt\n",
      "/mnt/c/Adrianov/Projects/trash-detector/yolo_res/images/result_16.jpg\n"
     ]
    },
    {
     "name": "stderr",
     "output_type": "stream",
     "text": [
      "  1%|▍                           | 17/1219 [00:02<02:59,  6.70it/s]"
     ]
    },
    {
     "name": "stdout",
     "output_type": "stream",
     "text": [
      "Cropped image /mnt/c/Adrianov/Projects/trash-detector/yolo_res/images/result_16.jpg and saved result to None\n",
      "/mnt/c/Adrianov/Projects/trash-detector/yolo_res/label/result_17.txt\n",
      "/mnt/c/Adrianov/Projects/trash-detector/yolo_res/images/result_17.jpg\n"
     ]
    },
    {
     "name": "stderr",
     "output_type": "stream",
     "text": [
      "  1%|▍                           | 18/1219 [00:02<03:45,  5.33it/s]"
     ]
    },
    {
     "name": "stdout",
     "output_type": "stream",
     "text": [
      "obj: 3, obj: 0\n",
      "0.9038252666666666 0.6462867333333333 0.7500029648148148 1.1669770351851851\n",
      "0.5537584 0.47191160000000004 0.393536 0.7187720000000001\n",
      "False\n",
      "False\n",
      "True\n",
      "False\n",
      "True\n",
      "obj: 3, obj: 1\n",
      "0.9038252666666666 0.6462867333333333 0.7500029648148148 1.1669770351851851\n",
      "0.8873575 0.7759125 0.364329 0.899711\n",
      "True\n",
      "False\n",
      "False\n",
      "True\n",
      "True\n",
      "obj: 3, obj: 2\n",
      "0.9038252666666666 0.6462867333333333 0.7500029648148148 1.1669770351851851\n",
      "0.228866 0.0 0.63964 1.0\n",
      "False\n",
      "False\n",
      "True\n",
      "True\n",
      "True\n",
      "['1', '0.775056', '0.95849', '0.0492052', '0.0466037']\n",
      "['0', '0.831635', '0.63202', '0.111445', '0.535382']\n",
      "Regions:  [(1440, 1703, 393, 1060)]\n",
      "Cropped image /mnt/c/Adrianov/Projects/trash-detector/yolo_res/images/result_17.jpg and saved result to /mnt/c/Adrianov/Projects/trash-detector/masks/imgs/result_17_0.jpg\n",
      "/mnt/c/Adrianov/Projects/trash-detector/yolo_res/label/result_18.txt\n",
      "/mnt/c/Adrianov/Projects/trash-detector/yolo_res/images/result_18.jpg\n",
      "Cropped image /mnt/c/Adrianov/Projects/trash-detector/yolo_res/images/result_18.jpg and saved result to None\n",
      "/mnt/c/Adrianov/Projects/trash-detector/yolo_res/label/result_19.txt\n",
      "/mnt/c/Adrianov/Projects/trash-detector/yolo_res/images/result_19.jpg\n"
     ]
    },
    {
     "name": "stderr",
     "output_type": "stream",
     "text": [
      "  2%|▍                           | 20/1219 [00:03<03:34,  5.60it/s]"
     ]
    },
    {
     "name": "stdout",
     "output_type": "stream",
     "text": [
      "obj: 3, obj: 0\n",
      "0.9041263166666668 0.6457676833333333 0.7499524148148148 1.166905585185185\n",
      "0.5565245 0.4701274999999999 0.39629200000000003 0.724208\n",
      "False\n",
      "False\n",
      "True\n",
      "False\n",
      "True\n",
      "obj: 3, obj: 1\n",
      "0.9041263166666668 0.6457676833333333 0.7499524148148148 1.166905585185185\n",
      "0.8906395 0.7787485000000001 0.368912 0.895404\n",
      "True\n",
      "False\n",
      "False\n",
      "True\n",
      "True\n",
      "obj: 3, obj: 2\n",
      "0.9041263166666668 0.6457676833333333 0.7499524148148148 1.166905585185185\n",
      "0.23367749999999998 5.000000000005e-07 0.639454 1.0\n",
      "False\n",
      "False\n",
      "True\n",
      "True\n",
      "True\n",
      "['1', '0.774947', '0.958429', '0.0500253', '0.0465828']\n",
      "['0', '0.834694', '0.632158', '0.111891', '0.526492']\n",
      "Regions:  [(1439, 1710, 398, 1060)]\n",
      "Cropped image /mnt/c/Adrianov/Projects/trash-detector/yolo_res/images/result_19.jpg and saved result to /mnt/c/Adrianov/Projects/trash-detector/masks/imgs/result_19_0.jpg\n",
      "/mnt/c/Adrianov/Projects/trash-detector/yolo_res/label/result_20.txt\n",
      "/mnt/c/Adrianov/Projects/trash-detector/yolo_res/images/result_20.jpg\n"
     ]
    },
    {
     "name": "stderr",
     "output_type": "stream",
     "text": [
      "  2%|▍                           | 21/1219 [00:03<03:30,  5.69it/s]"
     ]
    },
    {
     "name": "stdout",
     "output_type": "stream",
     "text": [
      "Cropped image /mnt/c/Adrianov/Projects/trash-detector/yolo_res/images/result_20.jpg and saved result to None\n",
      "/mnt/c/Adrianov/Projects/trash-detector/yolo_res/label/result_21.txt\n",
      "/mnt/c/Adrianov/Projects/trash-detector/yolo_res/images/result_21.jpg\n",
      "obj: 3, obj: 0\n",
      "0.9040094666666667 0.6457065333333334 0.7498882648148149 1.1696057351851852\n",
      "0.8962595 0.7805445 0.365709 0.8927449999999999\n",
      "True\n",
      "False\n",
      "False\n",
      "True\n",
      "True\n",
      "obj: 3, obj: 1\n",
      "0.9040094666666667 0.6457065333333334 0.7498882648148149 1.1696057351851852\n",
      "0.5585451499999999 0.47040885 0.39719000000000004 0.724776\n",
      "False\n",
      "False\n",
      "True\n",
      "False\n",
      "True\n",
      "obj: 3, obj: 2\n",
      "0.9040094666666667 0.6457065333333334 0.7498882648148149 1.1696057351851852\n",
      "0.2326645 -5.000000000005e-07 0.6415175 1.0000005\n",
      "False\n",
      "False\n",
      "True\n",
      "True\n",
      "True\n"
     ]
    },
    {
     "name": "stderr",
     "output_type": "stream",
     "text": [
      "  2%|▌                           | 22/1219 [00:03<03:59,  5.00it/s]"
     ]
    },
    {
     "name": "stdout",
     "output_type": "stream",
     "text": [
      "['1', '0.774858', '0.959747', '0.0499696', '0.0493471']\n",
      "['0', '0.838402', '0.629227', '0.115715', '0.527036']\n",
      "Regions:  [(1439, 1720, 394, 1063)]\n",
      "Cropped image /mnt/c/Adrianov/Projects/trash-detector/yolo_res/images/result_21.jpg and saved result to /mnt/c/Adrianov/Projects/trash-detector/masks/imgs/result_21_0.jpg\n",
      "/mnt/c/Adrianov/Projects/trash-detector/yolo_res/label/result_22.txt\n",
      "/mnt/c/Adrianov/Projects/trash-detector/yolo_res/images/result_22.jpg\n"
     ]
    },
    {
     "name": "stderr",
     "output_type": "stream",
     "text": [
      "  2%|▌                           | 24/1219 [00:03<04:05,  4.86it/s]"
     ]
    },
    {
     "name": "stdout",
     "output_type": "stream",
     "text": [
      "Cropped image /mnt/c/Adrianov/Projects/trash-detector/yolo_res/images/result_22.jpg and saved result to None\n",
      "/mnt/c/Adrianov/Projects/trash-detector/yolo_res/label/result_23.txt\n",
      "/mnt/c/Adrianov/Projects/trash-detector/yolo_res/images/result_23.jpg\n",
      "Cropped image /mnt/c/Adrianov/Projects/trash-detector/yolo_res/images/result_23.jpg and saved result to None\n",
      "/mnt/c/Adrianov/Projects/trash-detector/yolo_res/label/result_24.txt\n",
      "/mnt/c/Adrianov/Projects/trash-detector/yolo_res/images/result_24.jpg\n"
     ]
    },
    {
     "name": "stderr",
     "output_type": "stream",
     "text": [
      "  2%|▌                           | 25/1219 [00:04<03:58,  5.01it/s]"
     ]
    },
    {
     "name": "stdout",
     "output_type": "stream",
     "text": [
      "Cropped image /mnt/c/Adrianov/Projects/trash-detector/yolo_res/images/result_24.jpg and saved result to None\n",
      "/mnt/c/Adrianov/Projects/trash-detector/yolo_res/label/result_25.txt\n",
      "/mnt/c/Adrianov/Projects/trash-detector/yolo_res/images/result_25.jpg\n",
      "obj: 3, obj: 0\n",
      "0.9043814166666666 0.6466025833333333 0.7524252148148148 1.1691527851851853\n",
      "0.90416 0.780962 0.365918 0.8923460000000001\n",
      "True\n",
      "False\n",
      "False\n",
      "True\n",
      "True\n",
      "obj: 3, obj: 1\n",
      "0.9043814166666666 0.6466025833333333 0.7524252148148148 1.1691527851851853\n",
      "0.55927835 0.47217165 0.397172 0.728332\n",
      "False\n",
      "False\n",
      "True\n",
      "False\n",
      "True\n",
      "obj: 3, obj: 2\n",
      "0.9043814166666666 0.6466025833333333 0.7524252148148148 1.1691527851851853\n",
      "0.23166 0.0 0.6436599999999999 1.0\n",
      "False\n",
      "False\n",
      "True\n",
      "True\n",
      "True\n"
     ]
    },
    {
     "name": "stderr",
     "output_type": "stream",
     "text": [
      "  2%|▌                           | 26/1219 [00:04<04:32,  4.37it/s]"
     ]
    },
    {
     "name": "stdout",
     "output_type": "stream",
     "text": [
      "['1', '0.775492', '0.960789', '0.0494455', '0.0463572']\n",
      "['0', '0.842561', '0.629132', '0.123198', '0.526428']\n",
      "Regions:  [(1441, 1735, 395, 1062)]\n",
      "Cropped image /mnt/c/Adrianov/Projects/trash-detector/yolo_res/images/result_25.jpg and saved result to /mnt/c/Adrianov/Projects/trash-detector/masks/imgs/result_25_0.jpg\n",
      "/mnt/c/Adrianov/Projects/trash-detector/yolo_res/label/result_26.txt\n",
      "/mnt/c/Adrianov/Projects/trash-detector/yolo_res/images/result_26.jpg\n"
     ]
    },
    {
     "name": "stderr",
     "output_type": "stream",
     "text": [
      "  2%|▋                           | 28/1219 [00:04<03:43,  5.33it/s]"
     ]
    },
    {
     "name": "stdout",
     "output_type": "stream",
     "text": [
      "Cropped image /mnt/c/Adrianov/Projects/trash-detector/yolo_res/images/result_26.jpg and saved result to None\n",
      "/mnt/c/Adrianov/Projects/trash-detector/yolo_res/label/result_27.txt\n",
      "/mnt/c/Adrianov/Projects/trash-detector/yolo_res/images/result_27.jpg\n",
      "Cropped image /mnt/c/Adrianov/Projects/trash-detector/yolo_res/images/result_27.jpg and saved result to None\n",
      "/mnt/c/Adrianov/Projects/trash-detector/yolo_res/label/result_28.txt\n",
      "/mnt/c/Adrianov/Projects/trash-detector/yolo_res/images/result_28.jpg\n"
     ]
    },
    {
     "name": "stderr",
     "output_type": "stream",
     "text": [
      "  2%|▋                           | 30/1219 [00:05<03:34,  5.55it/s]"
     ]
    },
    {
     "name": "stdout",
     "output_type": "stream",
     "text": [
      "Cropped image /mnt/c/Adrianov/Projects/trash-detector/yolo_res/images/result_28.jpg and saved result to None\n",
      "/mnt/c/Adrianov/Projects/trash-detector/yolo_res/label/result_29.txt\n",
      "/mnt/c/Adrianov/Projects/trash-detector/yolo_res/images/result_29.jpg\n",
      "obj: 2, obj: 0\n",
      "0.9055036666666666 0.6474883333333333 0.7543449648148148 1.168171035185185\n",
      "0.9098515 0.7830485 0.36330850000000003 0.8932415\n",
      "True\n",
      "False\n",
      "False\n",
      "True\n",
      "True\n",
      "obj: 2, obj: 1\n",
      "0.9055036666666666 0.6474883333333333 0.7543449648148148 1.168171035185185\n",
      "0.5604606999999999 0.4766873 0.39600649999999993 0.7343875\n",
      "False\n",
      "False\n",
      "True\n",
      "False\n",
      "True\n",
      "obj: 2, obj: 3\n",
      "0.9055036666666666 0.6474883333333333 0.7543449648148148 1.168171035185185\n",
      "0.23780449999999997 -5.000000000005e-07 0.6456600000000001 0.999544\n",
      "False\n",
      "False\n",
      "True\n",
      "True\n",
      "True\n",
      "['1', '0.776496', '0.961258', '0.049682', '0.0434557']\n",
      "['0', '0.84645', '0.628275', '0.126803', '0.529933']\n",
      "Regions:  [(1443, 1746, 392, 1061)]\n",
      "Cropped image /mnt/c/Adrianov/Projects/trash-detector/yolo_res/images/result_29.jpg and saved result to /mnt/c/Adrianov/Projects/trash-detector/masks/imgs/result_29_0.jpg\n",
      "/mnt/c/Adrianov/Projects/trash-detector/yolo_res/label/result_30.txt\n",
      "/mnt/c/Adrianov/Projects/trash-detector/yolo_res/images/result_30.jpg\n"
     ]
    },
    {
     "name": "stderr",
     "output_type": "stream",
     "text": [
      "  3%|▋                           | 31/1219 [00:05<03:34,  5.53it/s]"
     ]
    },
    {
     "name": "stdout",
     "output_type": "stream",
     "text": [
      "obj: 1, obj: 0\n",
      "0.7875313666666668 0.49620863333333337 0.4326953148148149 0.9674266851851852\n",
      "0.43980065 0.40208535 0.29385900000000004 0.5330130000000001\n",
      "False\n",
      "False\n",
      "True\n",
      "True\n",
      "True\n",
      "obj: 2, obj: 0\n",
      "0.43637201666666664 0.19135998333333332 0.6045958648148149 1.0284441351851852\n",
      "0.43980065 0.40208535 0.29385900000000004 0.5330130000000001\n",
      "False\n",
      "False\n",
      "False\n",
      "False\n",
      "True\n",
      "Cropped image /mnt/c/Adrianov/Projects/trash-detector/yolo_res/images/result_30.jpg and saved result to None\n",
      "/mnt/c/Adrianov/Projects/trash-detector/yolo_res/label/result_31.txt\n",
      "/mnt/c/Adrianov/Projects/trash-detector/yolo_res/images/result_31.jpg\n",
      "Cropped image /mnt/c/Adrianov/Projects/trash-detector/yolo_res/images/result_31.jpg and saved result to None\n"
     ]
    },
    {
     "name": "stderr",
     "output_type": "stream",
     "text": [
      "  3%|▋                           | 32/1219 [00:05<03:27,  5.73it/s]"
     ]
    },
    {
     "name": "stdout",
     "output_type": "stream",
     "text": [
      "/mnt/c/Adrianov/Projects/trash-detector/yolo_res/label/result_32.txt\n",
      "/mnt/c/Adrianov/Projects/trash-detector/yolo_res/images/result_32.jpg\n"
     ]
    },
    {
     "name": "stderr",
     "output_type": "stream",
     "text": [
      "  3%|▊                           | 34/1219 [00:05<03:22,  5.84it/s]"
     ]
    },
    {
     "name": "stdout",
     "output_type": "stream",
     "text": [
      "Cropped image /mnt/c/Adrianov/Projects/trash-detector/yolo_res/images/result_32.jpg and saved result to None\n",
      "/mnt/c/Adrianov/Projects/trash-detector/yolo_res/label/result_33.txt\n",
      "/mnt/c/Adrianov/Projects/trash-detector/yolo_res/images/result_33.jpg\n",
      "Cropped image /mnt/c/Adrianov/Projects/trash-detector/yolo_res/images/result_33.jpg and saved result to None\n",
      "/mnt/c/Adrianov/Projects/trash-detector/yolo_res/label/result_34.txt\n",
      "/mnt/c/Adrianov/Projects/trash-detector/yolo_res/images/result_34.jpg\n"
     ]
    },
    {
     "name": "stderr",
     "output_type": "stream",
     "text": [
      "  3%|▊                           | 35/1219 [00:06<03:42,  5.31it/s]"
     ]
    },
    {
     "name": "stdout",
     "output_type": "stream",
     "text": [
      "Cropped image /mnt/c/Adrianov/Projects/trash-detector/yolo_res/images/result_34.jpg and saved result to None\n",
      "/mnt/c/Adrianov/Projects/trash-detector/yolo_res/label/result_35.txt\n",
      "/mnt/c/Adrianov/Projects/trash-detector/yolo_res/images/result_35.jpg\n",
      "obj: 3, obj: 0\n",
      "0.9053946666666667 0.6476393333333333 0.7541290148148148 1.1699969851851852\n",
      "0.9171125 0.7812315000000001 0.3590295 0.8959585\n",
      "True\n",
      "False\n",
      "False\n",
      "True\n",
      "True\n",
      "obj: 3, obj: 1\n",
      "0.9053946666666667 0.6476393333333333 0.7541290148148148 1.1699969851851852\n",
      "0.5620442999999999 0.4795657 0.3970250000000001 0.744595\n",
      "False\n",
      "False\n",
      "True\n",
      "False\n",
      "True\n",
      "obj: 3, obj: 2\n",
      "0.9053946666666667 0.6476393333333333 0.7541290148148148 1.1699969851851852\n",
      "0.246236 0.0 0.6416465 0.9999994999999999\n",
      "False\n",
      "False\n",
      "True\n",
      "True\n",
      "True\n"
     ]
    },
    {
     "name": "stderr",
     "output_type": "stream",
     "text": [
      "  3%|▊                           | 36/1219 [00:06<04:04,  4.84it/s]"
     ]
    },
    {
     "name": "stdout",
     "output_type": "stream",
     "text": [
      "['1', '0.776517', '0.962063', '0.049422', '0.0454976']\n",
      "['0', '0.849172', '0.627494', '0.135881', '0.536929']\n",
      "Regions:  [(1443, 1760, 387, 1063)]\n",
      "Cropped image /mnt/c/Adrianov/Projects/trash-detector/yolo_res/images/result_35.jpg and saved result to /mnt/c/Adrianov/Projects/trash-detector/masks/imgs/result_35_0.jpg\n",
      "/mnt/c/Adrianov/Projects/trash-detector/yolo_res/label/result_36.txt\n",
      "/mnt/c/Adrianov/Projects/trash-detector/yolo_res/images/result_36.jpg\n"
     ]
    },
    {
     "name": "stderr",
     "output_type": "stream",
     "text": [
      "  3%|▊                           | 38/1219 [00:06<03:49,  5.15it/s]"
     ]
    },
    {
     "name": "stdout",
     "output_type": "stream",
     "text": [
      "Cropped image /mnt/c/Adrianov/Projects/trash-detector/yolo_res/images/result_36.jpg and saved result to None\n",
      "/mnt/c/Adrianov/Projects/trash-detector/yolo_res/label/result_37.txt\n",
      "/mnt/c/Adrianov/Projects/trash-detector/yolo_res/images/result_37.jpg\n",
      "obj: 3, obj: 0\n",
      "0.9054838166666667 0.6484681833333333 0.7535845148148148 1.171263485185185\n",
      "0.921534 0.791926 0.350944 0.880236\n",
      "True\n",
      "False\n",
      "False\n",
      "True\n",
      "True\n",
      "obj: 3, obj: 1\n",
      "0.9054838166666667 0.6484681833333333 0.7535845148148148 1.171263485185185\n",
      "0.56370825 0.47602175 0.4014 0.749144\n",
      "False\n",
      "False\n",
      "True\n",
      "False\n",
      "True\n",
      "obj: 3, obj: 2\n",
      "0.9054838166666667 0.6484681833333333 0.7535845148148148 1.171263485185185\n",
      "0.249534 0.0 0.6443415 1.0000005\n",
      "False\n",
      "False\n",
      "True\n",
      "True\n",
      "True\n",
      "['1', '0.776976', '0.962424', '0.0486823', '0.0473086']\n",
      "['0', '0.85673', '0.61559', '0.129608', '0.529292']\n",
      "Regions:  [(1445, 1769, 379, 1064)]\n",
      "Cropped image /mnt/c/Adrianov/Projects/trash-detector/yolo_res/images/result_37.jpg and saved result to /mnt/c/Adrianov/Projects/trash-detector/masks/imgs/result_37_0.jpg\n",
      "/mnt/c/Adrianov/Projects/trash-detector/yolo_res/label/result_38.txt\n",
      "/mnt/c/Adrianov/Projects/trash-detector/yolo_res/images/result_38.jpg\n"
     ]
    },
    {
     "name": "stderr",
     "output_type": "stream",
     "text": [
      "  3%|▉                           | 39/1219 [00:06<03:31,  5.58it/s]"
     ]
    },
    {
     "name": "stdout",
     "output_type": "stream",
     "text": [
      "Cropped image /mnt/c/Adrianov/Projects/trash-detector/yolo_res/images/result_38.jpg and saved result to None\n",
      "/mnt/c/Adrianov/Projects/trash-detector/yolo_res/label/result_39.txt\n",
      "/mnt/c/Adrianov/Projects/trash-detector/yolo_res/images/result_39.jpg\n"
     ]
    },
    {
     "name": "stderr",
     "output_type": "stream",
     "text": [
      "  3%|▉                           | 41/1219 [00:07<03:45,  5.23it/s]"
     ]
    },
    {
     "name": "stdout",
     "output_type": "stream",
     "text": [
      "Cropped image /mnt/c/Adrianov/Projects/trash-detector/yolo_res/images/result_39.jpg and saved result to None\n",
      "/mnt/c/Adrianov/Projects/trash-detector/yolo_res/label/result_40.txt\n",
      "/mnt/c/Adrianov/Projects/trash-detector/yolo_res/images/result_40.jpg\n",
      "obj: 2, obj: 0\n",
      "0.9056478666666666 0.6483341333333333 0.7540355648148148 1.171966435185185\n",
      "0.925377 0.7982049999999999 0.3529335 0.8773365\n",
      "True\n",
      "False\n",
      "False\n",
      "True\n",
      "True\n",
      "obj: 2, obj: 1\n",
      "0.9056478666666666 0.6483341333333333 0.7540355648148148 1.171966435185185\n",
      "0.56713705 0.47587295 0.403825 0.765421\n",
      "False\n",
      "False\n",
      "True\n",
      "True\n",
      "True\n",
      "obj: 2, obj: 3\n",
      "0.9056478666666666 0.6483341333333333 0.7540355648148148 1.171966435185185\n",
      "0.24741449999999998 -5.000000000005e-07 0.6458015 1.0000005\n",
      "False\n",
      "False\n",
      "True\n",
      "True\n",
      "True\n",
      "['1', '0.776991', '0.963001', '0.0489804', '0.0475605']\n",
      "['0', '0.861791', '0.615135', '0.127172', '0.524403']\n",
      "Regions:  [(1444, 1776, 381, 1065)]\n",
      "Cropped image /mnt/c/Adrianov/Projects/trash-detector/yolo_res/images/result_40.jpg and saved result to /mnt/c/Adrianov/Projects/trash-detector/masks/imgs/result_40_0.jpg\n",
      "/mnt/c/Adrianov/Projects/trash-detector/yolo_res/label/result_41.txt\n",
      "/mnt/c/Adrianov/Projects/trash-detector/yolo_res/images/result_41.jpg\n"
     ]
    },
    {
     "name": "stderr",
     "output_type": "stream",
     "text": [
      "  4%|▉                           | 43/1219 [00:07<03:58,  4.93it/s]"
     ]
    },
    {
     "name": "stdout",
     "output_type": "stream",
     "text": [
      "Cropped image /mnt/c/Adrianov/Projects/trash-detector/yolo_res/images/result_41.jpg and saved result to None\n",
      "/mnt/c/Adrianov/Projects/trash-detector/yolo_res/label/result_42.txt\n",
      "/mnt/c/Adrianov/Projects/trash-detector/yolo_res/images/result_42.jpg\n",
      "Cropped image /mnt/c/Adrianov/Projects/trash-detector/yolo_res/images/result_42.jpg and saved result to None\n",
      "/mnt/c/Adrianov/Projects/trash-detector/yolo_res/label/result_43.txt\n",
      "/mnt/c/Adrianov/Projects/trash-detector/yolo_res/images/result_43.jpg\n"
     ]
    },
    {
     "name": "stderr",
     "output_type": "stream",
     "text": [
      "  4%|█                           | 45/1219 [00:08<04:20,  4.51it/s]"
     ]
    },
    {
     "name": "stdout",
     "output_type": "stream",
     "text": [
      "Cropped image /mnt/c/Adrianov/Projects/trash-detector/yolo_res/images/result_43.jpg and saved result to None\n",
      "/mnt/c/Adrianov/Projects/trash-detector/yolo_res/label/result_44.txt\n",
      "/mnt/c/Adrianov/Projects/trash-detector/yolo_res/images/result_44.jpg\n",
      "obj: 2, obj: 0\n",
      "0.9066980666666666 0.6488679333333334 0.7532038148148148 1.1734701851851852\n",
      "0.925101 0.7988310000000001 0.345803 0.878547\n",
      "True\n",
      "False\n",
      "False\n",
      "True\n",
      "True\n",
      "obj: 2, obj: 1\n",
      "0.9066980666666666 0.6488679333333334 0.7532038148148148 1.1734701851851852\n",
      "0.57084205 0.48571395 0.40886300000000003 0.7708090000000001\n",
      "False\n",
      "False\n",
      "True\n",
      "True\n",
      "True\n",
      "obj: 2, obj: 3\n",
      "0.9066980666666666 0.6488679333333334 0.7532038148148148 1.1734701851851852\n",
      "0.2565815 4.999999999866223e-07 0.647912 1.0\n",
      "False\n",
      "False\n",
      "True\n",
      "True\n",
      "True\n",
      "['1', '0.777783', '0.963337', '0.0494968', '0.049896']\n",
      "['0', '0.861966', '0.612175', '0.12627', '0.532744']\n",
      "Regions:  [(1445, 1776, 373, 1067)]\n",
      "Cropped image /mnt/c/Adrianov/Projects/trash-detector/yolo_res/images/result_44.jpg and saved result to /mnt/c/Adrianov/Projects/trash-detector/masks/imgs/result_44_0.jpg\n",
      "/mnt/c/Adrianov/Projects/trash-detector/yolo_res/label/result_45.txt\n",
      "/mnt/c/Adrianov/Projects/trash-detector/yolo_res/images/result_45.jpg\n"
     ]
    },
    {
     "name": "stderr",
     "output_type": "stream",
     "text": [
      "  4%|█                           | 46/1219 [00:08<03:42,  5.26it/s]"
     ]
    },
    {
     "name": "stdout",
     "output_type": "stream",
     "text": [
      "Cropped image /mnt/c/Adrianov/Projects/trash-detector/yolo_res/images/result_45.jpg and saved result to None\n",
      "/mnt/c/Adrianov/Projects/trash-detector/yolo_res/label/result_46.txt\n",
      "/mnt/c/Adrianov/Projects/trash-detector/yolo_res/images/result_46.jpg\n"
     ]
    },
    {
     "name": "stderr",
     "output_type": "stream",
     "text": [
      "  4%|█                           | 47/1219 [00:08<03:50,  5.09it/s]"
     ]
    },
    {
     "name": "stdout",
     "output_type": "stream",
     "text": [
      "Cropped image /mnt/c/Adrianov/Projects/trash-detector/yolo_res/images/result_46.jpg and saved result to None\n",
      "/mnt/c/Adrianov/Projects/trash-detector/yolo_res/label/result_47.txt\n",
      "/mnt/c/Adrianov/Projects/trash-detector/yolo_res/images/result_47.jpg\n"
     ]
    },
    {
     "name": "stderr",
     "output_type": "stream",
     "text": [
      "  4%|█                           | 48/1219 [00:08<04:41,  4.16it/s]"
     ]
    },
    {
     "name": "stdout",
     "output_type": "stream",
     "text": [
      "obj: 2, obj: 0\n",
      "0.9075753166666667 0.6492406833333333 0.7534688648148148 1.175367135185185\n",
      "0.9236175 0.8000805 0.3470965 0.8777735\n",
      "True\n",
      "False\n",
      "False\n",
      "True\n",
      "True\n",
      "obj: 2, obj: 1\n",
      "0.9075753166666667 0.6492406833333333 0.7534688648148148 1.175367135185185\n",
      "0.57510335 0.48869265 0.412751 0.7697029999999999\n",
      "False\n",
      "False\n",
      "True\n",
      "True\n",
      "True\n",
      "obj: 2, obj: 3\n",
      "0.9075753166666667 0.6492406833333333 0.7534688648148148 1.175367135185185\n",
      "0.2597605 -5.000000000143778e-07 0.6473295 1.0000005\n",
      "False\n",
      "False\n",
      "True\n",
      "True\n",
      "True\n",
      "['1', '0.778408', '0.964418', '0.0500013', '0.0515279']\n",
      "['0', '0.861849', '0.612435', '0.123537', '0.530677']\n",
      "Regions:  [(1446, 1773, 374, 1069)]\n",
      "Cropped image /mnt/c/Adrianov/Projects/trash-detector/yolo_res/images/result_47.jpg and saved result to /mnt/c/Adrianov/Projects/trash-detector/masks/imgs/result_47_0.jpg\n",
      "/mnt/c/Adrianov/Projects/trash-detector/yolo_res/label/result_48.txt\n",
      "/mnt/c/Adrianov/Projects/trash-detector/yolo_res/images/result_48.jpg\n",
      "obj: 2, obj: 0\n",
      "0.9075282166666667 0.6497317833333334 0.7538657148148148 1.174720285185185\n",
      "0.922541 0.799347 0.3540875 0.8777885\n",
      "True\n",
      "False\n",
      "False\n",
      "True\n",
      "True\n",
      "obj: 2, obj: 1\n",
      "0.9075282166666667 0.6497317833333334 0.7538657148148148 1.174720285185185\n",
      "0.58058145 0.48920055 0.412292 0.770806\n",
      "False\n",
      "False\n",
      "True\n",
      "True\n",
      "True\n",
      "obj: 2, obj: 3\n",
      "0.9075282166666667 0.6497317833333334 0.7538657148148148 1.174720285185185\n",
      "0.26627049999999997 -4.999999999866223e-07 0.646007 0.999171\n",
      "False\n",
      "False\n",
      "True\n",
      "True\n",
      "True\n"
     ]
    },
    {
     "name": "stderr",
     "output_type": "stream",
     "text": [
      "  4%|█▏                          | 50/1219 [00:09<03:27,  5.64it/s]"
     ]
    },
    {
     "name": "stdout",
     "output_type": "stream",
     "text": [
      "['1', '0.77863', '0.964293', '0.0494631', '0.0504842']\n",
      "['0', '0.860944', '0.615938', '0.123194', '0.523701']\n",
      "Regions:  [(1447, 1771, 382, 1068)]\n",
      "Cropped image /mnt/c/Adrianov/Projects/trash-detector/yolo_res/images/result_48.jpg and saved result to /mnt/c/Adrianov/Projects/trash-detector/masks/imgs/result_48_0.jpg\n",
      "/mnt/c/Adrianov/Projects/trash-detector/yolo_res/label/result_49.txt\n",
      "/mnt/c/Adrianov/Projects/trash-detector/yolo_res/images/result_49.jpg\n",
      "Cropped image /mnt/c/Adrianov/Projects/trash-detector/yolo_res/images/result_49.jpg and saved result to None\n",
      "/mnt/c/Adrianov/Projects/trash-detector/yolo_res/label/result_50.txt\n",
      "/mnt/c/Adrianov/Projects/trash-detector/yolo_res/images/result_50.jpg\n"
     ]
    },
    {
     "name": "stderr",
     "output_type": "stream",
     "text": [
      "  4%|█▏                          | 53/1219 [00:09<02:47,  6.96it/s]"
     ]
    },
    {
     "name": "stdout",
     "output_type": "stream",
     "text": [
      "Cropped image /mnt/c/Adrianov/Projects/trash-detector/yolo_res/images/result_50.jpg and saved result to None\n",
      "/mnt/c/Adrianov/Projects/trash-detector/yolo_res/label/result_51.txt\n",
      "/mnt/c/Adrianov/Projects/trash-detector/yolo_res/images/result_51.jpg\n",
      "Cropped image /mnt/c/Adrianov/Projects/trash-detector/yolo_res/images/result_51.jpg and saved result to None\n",
      "/mnt/c/Adrianov/Projects/trash-detector/yolo_res/label/result_52.txt\n",
      "/mnt/c/Adrianov/Projects/trash-detector/yolo_res/images/result_52.jpg\n",
      "obj: 2, obj: 0\n",
      "0.9078256166666667 0.6500903833333334 0.7534733648148149 1.1748106351851852\n",
      "0.9204045 0.7921675 0.365091 0.879581\n",
      "True\n",
      "False\n",
      "False\n",
      "True\n",
      "True\n",
      "obj: 2, obj: 1\n",
      "0.9078256166666667 0.6500903833333334 0.7534733648148149 1.1748106351851852\n",
      "0.5816155999999999 0.49433239999999995 0.410196 0.770554\n",
      "False\n",
      "False\n",
      "True\n",
      "True\n",
      "True\n",
      "obj: 2, obj: 3\n",
      "0.9078256166666667 0.6500903833333334 0.7534733648148149 1.1748106351851852\n",
      "0.2569805 -5.000000000143778e-07 0.647307 0.999683\n",
      "False\n",
      "False\n",
      "True\n",
      "True\n",
      "True\n",
      "['1', '0.778958', '0.964142', '0.0494019', '0.0509669']\n",
      "['0', '0.856286', '0.622336', '0.128237', '0.51449']\n",
      "Regions:  [(1448, 1767, 394, 1068)]\n",
      "Cropped image /mnt/c/Adrianov/Projects/trash-detector/yolo_res/images/result_52.jpg and saved result to /mnt/c/Adrianov/Projects/trash-detector/masks/imgs/result_52_0.jpg\n",
      "/mnt/c/Adrianov/Projects/trash-detector/yolo_res/label/result_53.txt\n",
      "/mnt/c/Adrianov/Projects/trash-detector/yolo_res/images/result_53.jpg\n"
     ]
    },
    {
     "name": "stderr",
     "output_type": "stream",
     "text": [
      "  5%|█▎                          | 55/1219 [00:09<02:28,  7.82it/s]"
     ]
    },
    {
     "name": "stdout",
     "output_type": "stream",
     "text": [
      "Cropped image /mnt/c/Adrianov/Projects/trash-detector/yolo_res/images/result_53.jpg and saved result to None\n",
      "/mnt/c/Adrianov/Projects/trash-detector/yolo_res/label/result_54.txt\n",
      "/mnt/c/Adrianov/Projects/trash-detector/yolo_res/images/result_54.jpg\n",
      "Cropped image /mnt/c/Adrianov/Projects/trash-detector/yolo_res/images/result_54.jpg and saved result to None\n",
      "/mnt/c/Adrianov/Projects/trash-detector/yolo_res/label/result_55.txt\n",
      "/mnt/c/Adrianov/Projects/trash-detector/yolo_res/images/result_55.jpg\n",
      "obj: 2, obj: 0\n",
      "0.9080832666666667 0.6499487333333334 0.7526674148148148 1.175566585185185\n",
      "0.9134994999999999 0.7897965 0.36948200000000003 0.879386\n",
      "True\n",
      "False\n",
      "False\n",
      "True\n",
      "True\n",
      "obj: 2, obj: 1\n",
      "0.9080832666666667 0.6499487333333334 0.7526674148148148 1.175566585185185\n",
      "0.58287495 0.49649305000000005 0.40837650000000003 0.7692195000000001\n",
      "False\n",
      "False\n",
      "True\n",
      "True\n",
      "True\n",
      "obj: 2, obj: 3\n",
      "0.9080832666666667 0.6499487333333334 0.7526674148148148 1.175566585185185\n",
      "0.2695125 -5.000000000143778e-07 0.646786 0.99951\n",
      "False\n",
      "False\n",
      "True\n",
      "True\n",
      "True\n"
     ]
    },
    {
     "name": "stderr",
     "output_type": "stream",
     "text": [
      "  5%|█▎                          | 56/1219 [00:09<02:30,  7.73it/s]"
     ]
    },
    {
     "name": "stdout",
     "output_type": "stream",
     "text": [
      "['1', '0.779016', '0.964117', '0.0498012', '0.0525288']\n",
      "['0', '0.851648', '0.624434', '0.123703', '0.509904']\n",
      "Regions:  [(1447, 1753, 399, 1069)]\n",
      "Cropped image /mnt/c/Adrianov/Projects/trash-detector/yolo_res/images/result_55.jpg and saved result to /mnt/c/Adrianov/Projects/trash-detector/masks/imgs/result_55_0.jpg\n",
      "/mnt/c/Adrianov/Projects/trash-detector/yolo_res/label/result_56.txt\n",
      "/mnt/c/Adrianov/Projects/trash-detector/yolo_res/images/result_56.jpg\n",
      "Cropped image /mnt/c/Adrianov/Projects/trash-detector/yolo_res/images/result_56.jpg and saved result to None\n",
      "/mnt/c/Adrianov/Projects/trash-detector/yolo_res/label/result_57.txt\n",
      "/mnt/c/Adrianov/Projects/trash-detector/yolo_res/images/result_57.jpg\n"
     ]
    },
    {
     "name": "stderr",
     "output_type": "stream",
     "text": [
      "  5%|█▎                          | 58/1219 [00:09<02:15,  8.55it/s]"
     ]
    },
    {
     "name": "stdout",
     "output_type": "stream",
     "text": [
      "Cropped image /mnt/c/Adrianov/Projects/trash-detector/yolo_res/images/result_57.jpg and saved result to None\n",
      "/mnt/c/Adrianov/Projects/trash-detector/yolo_res/label/result_58.txt\n",
      "/mnt/c/Adrianov/Projects/trash-detector/yolo_res/images/result_58.jpg\n",
      "Cropped image /mnt/c/Adrianov/Projects/trash-detector/yolo_res/images/result_58.jpg and saved result to None\n",
      "/mnt/c/Adrianov/Projects/trash-detector/yolo_res/label/result_59.txt\n",
      "/mnt/c/Adrianov/Projects/trash-detector/yolo_res/images/result_59.jpg\n",
      "obj: 2, obj: 0\n",
      "0.9086209666666666 0.6498370333333333 0.7525227148148148 1.1763392851851853\n",
      "0.9080159999999999 0.7882 0.366279 0.879699\n",
      "True\n",
      "False\n",
      "False\n",
      "True\n",
      "True\n",
      "obj: 2, obj: 1\n",
      "0.9086209666666666 0.6498370333333333 0.7525227148148148 1.1763392851851853\n",
      "0.5835320500000001 0.49743395000000007 0.4024295 0.7814705\n",
      "False\n",
      "False\n",
      "True\n",
      "True\n",
      "True\n",
      "obj: 2, obj: 3\n",
      "0.9086209666666666 0.6498370333333333 0.7525227148148148 1.1763392851851853\n",
      "0.262596 0.0 0.648866 0.999866\n",
      "False\n",
      "False\n",
      "True\n",
      "True\n",
      "True\n",
      "['1', '0.779229', '0.964431', '0.0504506', '0.0534462']\n",
      "['0', '0.848108', '0.622989', '0.119816', '0.51342']\n",
      "Regions:  [(1447, 1743, 395, 1070)]\n"
     ]
    },
    {
     "name": "stderr",
     "output_type": "stream",
     "text": [
      "  5%|█▍                          | 61/1219 [00:10<02:07,  9.07it/s]"
     ]
    },
    {
     "name": "stdout",
     "output_type": "stream",
     "text": [
      "Cropped image /mnt/c/Adrianov/Projects/trash-detector/yolo_res/images/result_59.jpg and saved result to /mnt/c/Adrianov/Projects/trash-detector/masks/imgs/result_59_0.jpg\n",
      "/mnt/c/Adrianov/Projects/trash-detector/yolo_res/label/result_60.txt\n",
      "/mnt/c/Adrianov/Projects/trash-detector/yolo_res/images/result_60.jpg\n",
      "obj: 2, obj: 0\n",
      "0.9089186666666667 0.6502313333333334 0.7532122648148148 1.1764337351851852\n",
      "0.58313195 0.49706405 0.40701699999999996 0.7939849999999999\n",
      "False\n",
      "False\n",
      "True\n",
      "True\n",
      "True\n",
      "obj: 2, obj: 1\n",
      "0.9089186666666667 0.6502313333333334 0.7532122648148148 1.1764337351851852\n",
      "0.9003355 0.7915325 0.36801149999999994 0.8758465\n",
      "True\n",
      "False\n",
      "False\n",
      "True\n",
      "True\n",
      "obj: 2, obj: 3\n",
      "0.9089186666666667 0.6502313333333334 0.7532122648148148 1.1764337351851852\n",
      "0.256082 0.0 0.6480835 1.0000005\n",
      "False\n",
      "False\n",
      "True\n",
      "True\n",
      "True\n",
      "['1', '0.779575', '0.964823', '0.050354', '0.0528511']\n",
      "['0', '0.845934', '0.621929', '0.108803', '0.507835']\n",
      "Regions:  [(1448, 1728, 397, 1070)]\n",
      "Cropped image /mnt/c/Adrianov/Projects/trash-detector/yolo_res/images/result_60.jpg and saved result to /mnt/c/Adrianov/Projects/trash-detector/masks/imgs/result_60_0.jpg\n",
      "/mnt/c/Adrianov/Projects/trash-detector/yolo_res/label/result_61.txt\n",
      "/mnt/c/Adrianov/Projects/trash-detector/yolo_res/images/result_61.jpg\n",
      "Cropped image /mnt/c/Adrianov/Projects/trash-detector/yolo_res/images/result_61.jpg and saved result to None\n",
      "/mnt/c/Adrianov/Projects/trash-detector/yolo_res/label/result_62.txt\n",
      "/mnt/c/Adrianov/Projects/trash-detector/yolo_res/images/result_62.jpg\n"
     ]
    },
    {
     "name": "stderr",
     "output_type": "stream",
     "text": [
      "  5%|█▍                          | 65/1219 [00:10<01:56,  9.89it/s]"
     ]
    },
    {
     "name": "stdout",
     "output_type": "stream",
     "text": [
      "Cropped image /mnt/c/Adrianov/Projects/trash-detector/yolo_res/images/result_62.jpg and saved result to None\n",
      "/mnt/c/Adrianov/Projects/trash-detector/yolo_res/label/result_63.txt\n",
      "/mnt/c/Adrianov/Projects/trash-detector/yolo_res/images/result_63.jpg\n",
      "Cropped image /mnt/c/Adrianov/Projects/trash-detector/yolo_res/images/result_63.jpg and saved result to None\n",
      "/mnt/c/Adrianov/Projects/trash-detector/yolo_res/label/result_64.txt\n",
      "/mnt/c/Adrianov/Projects/trash-detector/yolo_res/images/result_64.jpg\n",
      "obj: 1, obj: 0\n",
      "0.8028149666666667 0.5006530333333333 0.4212583148148148 0.9733356851851851\n",
      "0.43972005 0.40270795 0.2952025 0.5329495\n",
      "False\n",
      "False\n",
      "True\n",
      "True\n",
      "True\n",
      "Cropped image /mnt/c/Adrianov/Projects/trash-detector/yolo_res/images/result_64.jpg and saved result to None\n",
      "/mnt/c/Adrianov/Projects/trash-detector/yolo_res/label/result_65.txt\n",
      "/mnt/c/Adrianov/Projects/trash-detector/yolo_res/images/result_65.jpg\n"
     ]
    },
    {
     "name": "stderr",
     "output_type": "stream",
     "text": [
      "  5%|█▌                          | 67/1219 [00:10<01:53, 10.14it/s]"
     ]
    },
    {
     "name": "stdout",
     "output_type": "stream",
     "text": [
      "Cropped image /mnt/c/Adrianov/Projects/trash-detector/yolo_res/images/result_65.jpg and saved result to None\n",
      "/mnt/c/Adrianov/Projects/trash-detector/yolo_res/label/result_66.txt\n",
      "/mnt/c/Adrianov/Projects/trash-detector/yolo_res/images/result_66.jpg\n",
      "obj: 2, obj: 0\n",
      "0.9091860666666667 0.6500399333333333 0.7533102148148147 1.1759637851851852\n",
      "0.892924 0.784378 0.3686145 0.8624054999999999\n",
      "True\n",
      "False\n",
      "False\n",
      "True\n",
      "True\n",
      "obj: 2, obj: 1\n",
      "0.9091860666666667 0.6500399333333333 0.7533102148148147 1.1759637851851852\n",
      "0.5819086 0.49534340000000004 0.413162 0.8057259999999999\n",
      "False\n",
      "False\n",
      "True\n",
      "True\n",
      "True\n",
      "obj: 2, obj: 3\n",
      "0.9091860666666667 0.6500399333333333 0.7533102148148147 1.1759637851851852\n",
      "0.2670715 4.999999999866223e-07 0.6477015 1.0000005\n",
      "False\n",
      "False\n",
      "True\n",
      "True\n",
      "True\n",
      "['1', '0.779613', '0.964637', '0.0508128', '0.0522832']\n",
      "['0', '0.838651', '0.61551', '0.108546', '0.493791']\n",
      "Regions:  [(1448, 1714, 398, 1070)]\n",
      "Cropped image /mnt/c/Adrianov/Projects/trash-detector/yolo_res/images/result_66.jpg and saved result to /mnt/c/Adrianov/Projects/trash-detector/masks/imgs/result_66_0.jpg\n",
      "/mnt/c/Adrianov/Projects/trash-detector/yolo_res/label/result_67.txt\n",
      "/mnt/c/Adrianov/Projects/trash-detector/yolo_res/images/result_67.jpg\n"
     ]
    },
    {
     "name": "stderr",
     "output_type": "stream",
     "text": [
      "  6%|█▌                          | 69/1219 [00:11<01:53, 10.10it/s]"
     ]
    },
    {
     "name": "stdout",
     "output_type": "stream",
     "text": [
      "Cropped image /mnt/c/Adrianov/Projects/trash-detector/yolo_res/images/result_67.jpg and saved result to None\n",
      "/mnt/c/Adrianov/Projects/trash-detector/yolo_res/label/result_68.txt\n",
      "/mnt/c/Adrianov/Projects/trash-detector/yolo_res/images/result_68.jpg\n",
      "Cropped image /mnt/c/Adrianov/Projects/trash-detector/yolo_res/images/result_68.jpg and saved result to None\n",
      "/mnt/c/Adrianov/Projects/trash-detector/yolo_res/label/result_69.txt\n",
      "/mnt/c/Adrianov/Projects/trash-detector/yolo_res/images/result_69.jpg\n",
      "obj: 1, obj: 0\n",
      "0.7962443166666667 0.5014716833333334 0.4116873148148149 0.9781266851851852\n",
      "0.4389144 0.4024456 0.2949545 0.5343375\n",
      "False\n",
      "False\n",
      "True\n",
      "True\n",
      "True\n",
      "obj: 2, obj: 0\n",
      "0.7709837666666667 0.5030342333333334 0.4174253148148148 0.9732406851851851\n",
      "0.4389144 0.4024456 0.2949545 0.5343375\n",
      "False\n",
      "False\n",
      "True\n",
      "True\n",
      "True\n"
     ]
    },
    {
     "name": "stderr",
     "output_type": "stream",
     "text": [
      "  6%|█▋                          | 71/1219 [00:11<01:56,  9.88it/s]"
     ]
    },
    {
     "name": "stdout",
     "output_type": "stream",
     "text": [
      "Cropped image /mnt/c/Adrianov/Projects/trash-detector/yolo_res/images/result_69.jpg and saved result to None\n",
      "/mnt/c/Adrianov/Projects/trash-detector/yolo_res/label/result_70.txt\n",
      "/mnt/c/Adrianov/Projects/trash-detector/yolo_res/images/result_70.jpg\n",
      "Cropped image /mnt/c/Adrianov/Projects/trash-detector/yolo_res/images/result_70.jpg and saved result to None\n",
      "/mnt/c/Adrianov/Projects/trash-detector/yolo_res/label/result_71.txt\n",
      "/mnt/c/Adrianov/Projects/trash-detector/yolo_res/images/result_71.jpg\n"
     ]
    },
    {
     "name": "stderr",
     "output_type": "stream",
     "text": [
      "  6%|█▋                          | 73/1219 [00:11<02:14,  8.51it/s]"
     ]
    },
    {
     "name": "stdout",
     "output_type": "stream",
     "text": [
      "Cropped image /mnt/c/Adrianov/Projects/trash-detector/yolo_res/images/result_71.jpg and saved result to None\n",
      "/mnt/c/Adrianov/Projects/trash-detector/yolo_res/label/result_72.txt\n",
      "/mnt/c/Adrianov/Projects/trash-detector/yolo_res/images/result_72.jpg\n",
      "Cropped image /mnt/c/Adrianov/Projects/trash-detector/yolo_res/images/result_72.jpg and saved result to None\n",
      "/mnt/c/Adrianov/Projects/trash-detector/yolo_res/label/result_73.txt\n",
      "/mnt/c/Adrianov/Projects/trash-detector/yolo_res/images/result_73.jpg\n"
     ]
    },
    {
     "name": "stderr",
     "output_type": "stream",
     "text": [
      "  6%|█▋                          | 75/1219 [00:11<02:11,  8.70it/s]"
     ]
    },
    {
     "name": "stdout",
     "output_type": "stream",
     "text": [
      "Cropped image /mnt/c/Adrianov/Projects/trash-detector/yolo_res/images/result_73.jpg and saved result to None\n",
      "/mnt/c/Adrianov/Projects/trash-detector/yolo_res/label/result_74.txt\n",
      "/mnt/c/Adrianov/Projects/trash-detector/yolo_res/images/result_74.jpg\n",
      "Cropped image /mnt/c/Adrianov/Projects/trash-detector/yolo_res/images/result_74.jpg and saved result to None\n",
      "/mnt/c/Adrianov/Projects/trash-detector/yolo_res/label/result_75.txt\n",
      "/mnt/c/Adrianov/Projects/trash-detector/yolo_res/images/result_75.jpg\n"
     ]
    },
    {
     "name": "stderr",
     "output_type": "stream",
     "text": [
      "  6%|█▊                          | 77/1219 [00:12<02:55,  6.49it/s]"
     ]
    },
    {
     "name": "stdout",
     "output_type": "stream",
     "text": [
      "Cropped image /mnt/c/Adrianov/Projects/trash-detector/yolo_res/images/result_75.jpg and saved result to None\n",
      "/mnt/c/Adrianov/Projects/trash-detector/yolo_res/label/result_76.txt\n",
      "/mnt/c/Adrianov/Projects/trash-detector/yolo_res/images/result_76.jpg\n",
      "Cropped image /mnt/c/Adrianov/Projects/trash-detector/yolo_res/images/result_76.jpg and saved result to None\n",
      "/mnt/c/Adrianov/Projects/trash-detector/yolo_res/label/result_77.txt\n",
      "/mnt/c/Adrianov/Projects/trash-detector/yolo_res/images/result_77.jpg\n"
     ]
    },
    {
     "name": "stderr",
     "output_type": "stream",
     "text": [
      "  6%|█▊                          | 79/1219 [00:12<02:30,  7.57it/s]"
     ]
    },
    {
     "name": "stdout",
     "output_type": "stream",
     "text": [
      "Cropped image /mnt/c/Adrianov/Projects/trash-detector/yolo_res/images/result_77.jpg and saved result to None\n",
      "/mnt/c/Adrianov/Projects/trash-detector/yolo_res/label/result_78.txt\n",
      "/mnt/c/Adrianov/Projects/trash-detector/yolo_res/images/result_78.jpg\n",
      "Cropped image /mnt/c/Adrianov/Projects/trash-detector/yolo_res/images/result_78.jpg and saved result to None\n",
      "/mnt/c/Adrianov/Projects/trash-detector/yolo_res/label/result_79.txt\n",
      "/mnt/c/Adrianov/Projects/trash-detector/yolo_res/images/result_79.jpg\n"
     ]
    },
    {
     "name": "stderr",
     "output_type": "stream",
     "text": [
      "  7%|█▊                          | 81/1219 [00:12<02:21,  8.02it/s]"
     ]
    },
    {
     "name": "stdout",
     "output_type": "stream",
     "text": [
      "Cropped image /mnt/c/Adrianov/Projects/trash-detector/yolo_res/images/result_79.jpg and saved result to None\n",
      "/mnt/c/Adrianov/Projects/trash-detector/yolo_res/label/result_80.txt\n",
      "/mnt/c/Adrianov/Projects/trash-detector/yolo_res/images/result_80.jpg\n",
      "Cropped image /mnt/c/Adrianov/Projects/trash-detector/yolo_res/images/result_80.jpg and saved result to None\n",
      "/mnt/c/Adrianov/Projects/trash-detector/yolo_res/label/result_81.txt\n",
      "/mnt/c/Adrianov/Projects/trash-detector/yolo_res/images/result_81.jpg\n"
     ]
    },
    {
     "name": "stderr",
     "output_type": "stream",
     "text": [
      "  7%|█▉                          | 83/1219 [00:12<02:22,  7.99it/s]"
     ]
    },
    {
     "name": "stdout",
     "output_type": "stream",
     "text": [
      "Cropped image /mnt/c/Adrianov/Projects/trash-detector/yolo_res/images/result_81.jpg and saved result to None\n",
      "/mnt/c/Adrianov/Projects/trash-detector/yolo_res/label/result_82.txt\n",
      "/mnt/c/Adrianov/Projects/trash-detector/yolo_res/images/result_82.jpg\n",
      "Cropped image /mnt/c/Adrianov/Projects/trash-detector/yolo_res/images/result_82.jpg and saved result to None\n",
      "/mnt/c/Adrianov/Projects/trash-detector/yolo_res/label/result_83.txt\n",
      "/mnt/c/Adrianov/Projects/trash-detector/yolo_res/images/result_83.jpg\n"
     ]
    },
    {
     "name": "stderr",
     "output_type": "stream",
     "text": [
      "  7%|█▉                          | 85/1219 [00:13<02:08,  8.81it/s]"
     ]
    },
    {
     "name": "stdout",
     "output_type": "stream",
     "text": [
      "Cropped image /mnt/c/Adrianov/Projects/trash-detector/yolo_res/images/result_83.jpg and saved result to None\n",
      "/mnt/c/Adrianov/Projects/trash-detector/yolo_res/label/result_84.txt\n",
      "/mnt/c/Adrianov/Projects/trash-detector/yolo_res/images/result_84.jpg\n",
      "Cropped image /mnt/c/Adrianov/Projects/trash-detector/yolo_res/images/result_84.jpg and saved result to None\n",
      "/mnt/c/Adrianov/Projects/trash-detector/yolo_res/label/result_85.txt\n",
      "/mnt/c/Adrianov/Projects/trash-detector/yolo_res/images/result_85.jpg\n"
     ]
    },
    {
     "name": "stderr",
     "output_type": "stream",
     "text": [
      "  7%|█▉                          | 86/1219 [00:13<02:21,  8.00it/s]"
     ]
    },
    {
     "name": "stdout",
     "output_type": "stream",
     "text": [
      "Cropped image /mnt/c/Adrianov/Projects/trash-detector/yolo_res/images/result_85.jpg and saved result to None\n",
      "/mnt/c/Adrianov/Projects/trash-detector/yolo_res/label/result_86.txt\n",
      "/mnt/c/Adrianov/Projects/trash-detector/yolo_res/images/result_86.jpg\n"
     ]
    },
    {
     "name": "stderr",
     "output_type": "stream",
     "text": [
      "  7%|██                          | 88/1219 [00:13<02:51,  6.58it/s]"
     ]
    },
    {
     "name": "stdout",
     "output_type": "stream",
     "text": [
      "Cropped image /mnt/c/Adrianov/Projects/trash-detector/yolo_res/images/result_86.jpg and saved result to None\n",
      "/mnt/c/Adrianov/Projects/trash-detector/yolo_res/label/result_87.txt\n",
      "/mnt/c/Adrianov/Projects/trash-detector/yolo_res/images/result_87.jpg\n",
      "Cropped image /mnt/c/Adrianov/Projects/trash-detector/yolo_res/images/result_87.jpg and saved result to None\n",
      "/mnt/c/Adrianov/Projects/trash-detector/yolo_res/label/result_88.txt\n",
      "/mnt/c/Adrianov/Projects/trash-detector/yolo_res/images/result_88.jpg\n"
     ]
    },
    {
     "name": "stderr",
     "output_type": "stream",
     "text": [
      "  7%|██                          | 90/1219 [00:14<03:29,  5.40it/s]"
     ]
    },
    {
     "name": "stdout",
     "output_type": "stream",
     "text": [
      "Cropped image /mnt/c/Adrianov/Projects/trash-detector/yolo_res/images/result_88.jpg and saved result to None\n",
      "/mnt/c/Adrianov/Projects/trash-detector/yolo_res/label/result_89.txt\n",
      "/mnt/c/Adrianov/Projects/trash-detector/yolo_res/images/result_89.jpg\n",
      "Cropped image /mnt/c/Adrianov/Projects/trash-detector/yolo_res/images/result_89.jpg and saved result to None\n",
      "/mnt/c/Adrianov/Projects/trash-detector/yolo_res/label/result_90.txt\n",
      "/mnt/c/Adrianov/Projects/trash-detector/yolo_res/images/result_90.jpg\n"
     ]
    },
    {
     "name": "stderr",
     "output_type": "stream",
     "text": [
      "  7%|██                          | 91/1219 [00:14<03:27,  5.45it/s]"
     ]
    },
    {
     "name": "stdout",
     "output_type": "stream",
     "text": [
      "Cropped image /mnt/c/Adrianov/Projects/trash-detector/yolo_res/images/result_90.jpg and saved result to None\n",
      "/mnt/c/Adrianov/Projects/trash-detector/yolo_res/label/result_91.txt\n",
      "/mnt/c/Adrianov/Projects/trash-detector/yolo_res/images/result_91.jpg\n",
      "obj: 2, obj: 0\n",
      "0.35739791666666665 0.11247808333333334 0.5613531648148149 0.9604708351851852\n",
      "0.8877465 0.6794195000000001 0.39675600000000005 1.0\n",
      "False\n",
      "True\n",
      "False\n",
      "True\n",
      "True\n",
      "obj: 2, obj: 1\n",
      "0.35739791666666665 0.11247808333333334 0.5613531648148149 0.9604708351851852\n",
      "0.33565829999999997 0.2429797 0.3255625000000001 0.7144555\n",
      "True\n",
      "False\n",
      "False\n",
      "True\n",
      "True\n",
      "obj: 2, obj: 3\n",
      "0.35739791666666665 0.11247808333333334 0.5613531648148149 0.9604708351851852\n",
      "0.20143650000000002 -5.000000000005e-07 0.6044645 0.9999994999999999\n",
      "True\n",
      "False\n",
      "False\n",
      "True\n",
      "True\n"
     ]
    },
    {
     "name": "stderr",
     "output_type": "stream",
     "text": [
      "  8%|██                          | 92/1219 [00:14<04:07,  4.55it/s]"
     ]
    },
    {
     "name": "stdout",
     "output_type": "stream",
     "text": [
      "['1', '0.234938', '0.760912', '0.0365865', '0.0287473']\n",
      "['0', '0.289319', '0.520009', '0.0926786', '0.388893']\n",
      "['0', '0.100718', '0.802232', '0.201437', '0.395535']\n",
      "Regions:  [(0, 644, 351, 1079)]\n",
      "Cropped image /mnt/c/Adrianov/Projects/trash-detector/yolo_res/images/result_91.jpg and saved result to /mnt/c/Adrianov/Projects/trash-detector/masks/imgs/result_91_0.jpg\n",
      "/mnt/c/Adrianov/Projects/trash-detector/yolo_res/label/result_92.txt\n",
      "/mnt/c/Adrianov/Projects/trash-detector/yolo_res/images/result_92.jpg\n"
     ]
    },
    {
     "name": "stderr",
     "output_type": "stream",
     "text": [
      "  8%|██▏                         | 93/1219 [00:14<04:41,  4.01it/s]"
     ]
    },
    {
     "name": "stdout",
     "output_type": "stream",
     "text": [
      "obj: 2, obj: 0\n",
      "0.3574246166666667 0.11207138333333334 0.5602923648148148 0.9605076351851851\n",
      "0.8832325000000001 0.6830075 0.3667835 0.9914905\n",
      "False\n",
      "True\n",
      "False\n",
      "True\n",
      "True\n",
      "obj: 2, obj: 1\n",
      "0.3574246166666667 0.11207138333333334 0.5602923648148148 0.9605076351851851\n",
      "0.33452565 0.23820034999999998 0.325195 0.7227990000000001\n",
      "True\n",
      "False\n",
      "False\n",
      "True\n",
      "True\n",
      "obj: 2, obj: 3\n",
      "0.3574246166666667 0.11207138333333334 0.5602923648148148 0.9605076351851851\n",
      "0.1839351 1.0000000000287557e-07 0.6023099999999999 1.0\n",
      "True\n",
      "False\n",
      "False\n",
      "True\n",
      "True\n",
      "['1', '0.234748', '0.7604', '0.0370199', '0.0298449']\n",
      "['0', '0.286363', '0.523997', '0.0963253', '0.397604']\n",
      "['0', '0.0919676', '0.801155', '0.183935', '0.39769']\n",
      "Regions:  [(0, 642, 351, 1080)]\n",
      "Cropped image /mnt/c/Adrianov/Projects/trash-detector/yolo_res/images/result_92.jpg and saved result to /mnt/c/Adrianov/Projects/trash-detector/masks/imgs/result_92_0.jpg\n",
      "/mnt/c/Adrianov/Projects/trash-detector/yolo_res/label/result_93.txt\n",
      "/mnt/c/Adrianov/Projects/trash-detector/yolo_res/images/result_93.jpg\n"
     ]
    },
    {
     "name": "stderr",
     "output_type": "stream",
     "text": [
      "  8%|██▏                         | 95/1219 [00:15<03:49,  4.90it/s]"
     ]
    },
    {
     "name": "stdout",
     "output_type": "stream",
     "text": [
      "Cropped image /mnt/c/Adrianov/Projects/trash-detector/yolo_res/images/result_93.jpg and saved result to None\n",
      "/mnt/c/Adrianov/Projects/trash-detector/yolo_res/label/result_94.txt\n",
      "/mnt/c/Adrianov/Projects/trash-detector/yolo_res/images/result_94.jpg\n",
      "Cropped image /mnt/c/Adrianov/Projects/trash-detector/yolo_res/images/result_94.jpg and saved result to None\n",
      "/mnt/c/Adrianov/Projects/trash-detector/yolo_res/label/result_95.txt\n",
      "/mnt/c/Adrianov/Projects/trash-detector/yolo_res/images/result_95.jpg\n",
      "obj: 2, obj: 0\n",
      "0.3566151166666667 0.11204088333333334 0.5595843148148147 0.9596636851851852\n",
      "0.8791154999999999 0.6846805 0.35043599999999997 0.985736\n",
      "False\n",
      "True\n",
      "False\n",
      "True\n",
      "True\n",
      "obj: 2, obj: 1\n",
      "0.3566151166666667 0.11204088333333334 0.5595843148148147 0.9596636851851852\n",
      "0.33296245 0.23389755 0.324499 0.727099\n",
      "True\n",
      "False\n",
      "False\n",
      "True\n",
      "True\n",
      "obj: 2, obj: 3\n",
      "0.3566151166666667 0.11204088333333334 0.5595843148148147 0.9596636851851852\n",
      "0.2278425 -5.000000000005e-07 0.6058619999999999 1.0\n",
      "True\n",
      "False\n",
      "False\n",
      "True\n",
      "True\n",
      "['1', '0.234328', '0.759624', '0.0362409', '0.029709']\n",
      "['0', '0.28343', '0.525799', '0.0990649', '0.4026']\n",
      "['0', '0.113921', '0.802931', '0.227843', '0.394138']\n",
      "Regions:  [(0, 639, 350, 1080)]\n"
     ]
    },
    {
     "name": "stderr",
     "output_type": "stream",
     "text": [
      "  8%|██▏                         | 97/1219 [00:15<04:06,  4.56it/s]"
     ]
    },
    {
     "name": "stdout",
     "output_type": "stream",
     "text": [
      "Cropped image /mnt/c/Adrianov/Projects/trash-detector/yolo_res/images/result_95.jpg and saved result to /mnt/c/Adrianov/Projects/trash-detector/masks/imgs/result_95_0.jpg\n",
      "/mnt/c/Adrianov/Projects/trash-detector/yolo_res/label/result_96.txt\n",
      "/mnt/c/Adrianov/Projects/trash-detector/yolo_res/images/result_96.jpg\n",
      "Cropped image /mnt/c/Adrianov/Projects/trash-detector/yolo_res/images/result_96.jpg and saved result to None\n",
      "/mnt/c/Adrianov/Projects/trash-detector/yolo_res/label/result_97.txt\n",
      "/mnt/c/Adrianov/Projects/trash-detector/yolo_res/images/result_97.jpg\n"
     ]
    },
    {
     "name": "stderr",
     "output_type": "stream",
     "text": [
      "  8%|██▎                         | 99/1219 [00:16<03:41,  5.06it/s]"
     ]
    },
    {
     "name": "stdout",
     "output_type": "stream",
     "text": [
      "Cropped image /mnt/c/Adrianov/Projects/trash-detector/yolo_res/images/result_97.jpg and saved result to None\n",
      "/mnt/c/Adrianov/Projects/trash-detector/yolo_res/label/result_98.txt\n",
      "/mnt/c/Adrianov/Projects/trash-detector/yolo_res/images/result_98.jpg\n",
      "Cropped image /mnt/c/Adrianov/Projects/trash-detector/yolo_res/images/result_98.jpg and saved result to None\n",
      "/mnt/c/Adrianov/Projects/trash-detector/yolo_res/label/result_99.txt\n",
      "/mnt/c/Adrianov/Projects/trash-detector/yolo_res/images/result_99.jpg\n"
     ]
    },
    {
     "name": "stderr",
     "output_type": "stream",
     "text": [
      "  8%|██▏                        | 100/1219 [00:16<03:49,  4.88it/s]"
     ]
    },
    {
     "name": "stdout",
     "output_type": "stream",
     "text": [
      "obj: 2, obj: 0\n",
      "0.3557363666666667 0.11218563333333333 0.5594666648148148 0.9588233351851851\n",
      "0.8719264999999999 0.6829255 0.335148 0.987414\n",
      "False\n",
      "True\n",
      "False\n",
      "True\n",
      "True\n",
      "obj: 2, obj: 1\n",
      "0.3557363666666667 0.11218563333333333 0.5594666648148148 0.9588233351851851\n",
      "0.3340555 0.22627049999999999 0.31969800000000004 0.72451\n",
      "True\n",
      "False\n",
      "False\n",
      "True\n",
      "True\n",
      "obj: 2, obj: 3\n",
      "0.3557363666666667 0.11218563333333333 0.5594666648148148 0.9588233351851851\n",
      "0.2006965 -4.999999999866223e-07 0.6104895 1.0000005\n",
      "True\n",
      "False\n",
      "False\n",
      "True\n",
      "True\n",
      "['1', '0.233961', '0.759145', '0.0352174', '0.0289863']\n",
      "['0', '0.280163', '0.522104', '0.107785', '0.404812']\n",
      "['0', '0.100348', '0.805245', '0.200697', '0.389511']\n",
      "Regions:  [(0, 641, 345, 1080)]\n",
      "Cropped image /mnt/c/Adrianov/Projects/trash-detector/yolo_res/images/result_99.jpg and saved result to /mnt/c/Adrianov/Projects/trash-detector/masks/imgs/result_99_0.jpg\n",
      "/mnt/c/Adrianov/Projects/trash-detector/yolo_res/label/result_100.txt\n",
      "/mnt/c/Adrianov/Projects/trash-detector/yolo_res/images/result_100.jpg\n",
      "obj: 2, obj: 0\n",
      "0.3564136666666667 0.11267033333333333 0.5590072148148149 0.9606447851851851\n",
      "0.8697280000000001 0.6816059999999999 0.319321 0.951157\n",
      "False\n",
      "True\n",
      "False\n",
      "True\n",
      "True\n",
      "obj: 2, obj: 1\n",
      "0.3564136666666667 0.11267033333333333 0.5590072148148149 0.9606447851851851\n",
      "0.3340445 0.2236455 0.32997350000000003 0.7237545\n",
      "True\n",
      "False\n",
      "False\n",
      "True\n",
      "True\n",
      "obj: 2, obj: 3\n",
      "0.3564136666666667 0.11267033333333333 0.5590072148148149 0.9606447851851851\n",
      "0.220208 0.0 0.6092095 1.0000005\n",
      "True\n",
      "False\n",
      "False\n",
      "True\n",
      "True\n"
     ]
    },
    {
     "name": "stderr",
     "output_type": "stream",
     "text": [
      "  8%|██▎                        | 102/1219 [00:16<03:09,  5.89it/s]"
     ]
    },
    {
     "name": "stdout",
     "output_type": "stream",
     "text": [
      "['1', '0.234542', '0.759826', '0.03541', '0.0312672']\n",
      "['0', '0.278845', '0.526864', '0.110399', '0.393781']\n",
      "['0', '0.110104', '0.804605', '0.220208', '0.390791']\n",
      "Regions:  [(0, 641, 356, 1080)]\n",
      "Cropped image /mnt/c/Adrianov/Projects/trash-detector/yolo_res/images/result_100.jpg and saved result to /mnt/c/Adrianov/Projects/trash-detector/masks/imgs/result_100_0.jpg\n",
      "/mnt/c/Adrianov/Projects/trash-detector/yolo_res/label/result_101.txt\n",
      "/mnt/c/Adrianov/Projects/trash-detector/yolo_res/images/result_101.jpg\n",
      "Cropped image /mnt/c/Adrianov/Projects/trash-detector/yolo_res/images/result_101.jpg and saved result to None\n",
      "/mnt/c/Adrianov/Projects/trash-detector/yolo_res/label/result_102.txt\n",
      "/mnt/c/Adrianov/Projects/trash-detector/yolo_res/images/result_102.jpg\n"
     ]
    },
    {
     "name": "stderr",
     "output_type": "stream",
     "text": [
      "  8%|██▎                        | 103/1219 [00:16<02:59,  6.21it/s]"
     ]
    },
    {
     "name": "stdout",
     "output_type": "stream",
     "text": [
      "obj: 2, obj: 0\n",
      "0.3556154166666667 0.11197258333333333 0.5591304648148149 0.9602995351851852\n",
      "0.8675335000000001 0.6803905 0.30298049999999993 0.9352795\n",
      "False\n",
      "True\n",
      "False\n",
      "True\n",
      "True\n",
      "obj: 2, obj: 1\n",
      "0.3556154166666667 0.11197258333333333 0.5591304648148149 0.9602995351851852\n",
      "0.3353275 0.21455449999999998 0.3310305 0.7218534999999999\n",
      "True\n",
      "False\n",
      "False\n",
      "True\n",
      "True\n",
      "obj: 2, obj: 3\n",
      "0.3556154166666667 0.11197258333333333 0.5591304648148149 0.9602995351851852\n",
      "0.180134 0.0 0.611504 1.0\n",
      "True\n",
      "False\n",
      "False\n",
      "True\n",
      "True\n",
      "['1', '0.233794', '0.759715', '0.0353095', '0.0307987']\n",
      "['0', '0.274941', '0.526442', '0.120773', '0.390823']\n",
      "['0', '0.090067', '0.805752', '0.180134', '0.388496']\n",
      "Regions:  [(0, 643, 357, 1080)]\n",
      "Cropped image /mnt/c/Adrianov/Projects/trash-detector/yolo_res/images/result_102.jpg and saved result to /mnt/c/Adrianov/Projects/trash-detector/masks/imgs/result_102_0.jpg\n",
      "/mnt/c/Adrianov/Projects/trash-detector/yolo_res/label/result_103.txt\n",
      "/mnt/c/Adrianov/Projects/trash-detector/yolo_res/images/result_103.jpg\n",
      "Cropped image /mnt/c/Adrianov/Projects/trash-detector/yolo_res/images/result_103.jpg and saved result to None\n",
      "/mnt/c/Adrianov/Projects/trash-detector/yolo_res/label/result_104.txt\n",
      "/mnt/c/Adrianov/Projects/trash-detector/yolo_res/images/result_104.jpg\n"
     ]
    },
    {
     "name": "stderr",
     "output_type": "stream",
     "text": [
      "  9%|██▎                        | 106/1219 [00:17<02:41,  6.90it/s]"
     ]
    },
    {
     "name": "stdout",
     "output_type": "stream",
     "text": [
      "Cropped image /mnt/c/Adrianov/Projects/trash-detector/yolo_res/images/result_104.jpg and saved result to None\n",
      "/mnt/c/Adrianov/Projects/trash-detector/yolo_res/label/result_105.txt\n",
      "/mnt/c/Adrianov/Projects/trash-detector/yolo_res/images/result_105.jpg\n",
      "obj: 2, obj: 0\n",
      "0.35635816666666664 0.11261383333333333 0.5598713148148148 0.9627046851851851\n",
      "0.862532 0.683348 0.30916499999999997 0.939481\n",
      "False\n",
      "True\n",
      "False\n",
      "True\n",
      "True\n",
      "obj: 2, obj: 1\n",
      "0.35635816666666664 0.11261383333333333 0.5598713148148148 0.9627046851851851\n",
      "0.336104 0.2172 0.3296775 0.7215185\n",
      "True\n",
      "False\n",
      "False\n",
      "True\n",
      "True\n",
      "obj: 2, obj: 3\n",
      "0.35635816666666664 0.11261383333333333 0.5598713148148148 0.9627046851851851\n",
      "0.1726112 2.0000000000575113e-07 0.6103955 1.0000005\n",
      "True\n",
      "False\n",
      "False\n",
      "True\n",
      "True\n",
      "['1', '0.234486', '0.761288', '0.035411', '0.032463']\n",
      "['0', '0.276652', '0.525598', '0.118904', '0.391841']\n",
      "['0', '0.0863057', '0.805198', '0.172611', '0.389605']\n",
      "Regions:  [(0, 645, 356, 1080)]\n",
      "Cropped image /mnt/c/Adrianov/Projects/trash-detector/yolo_res/images/result_105.jpg and saved result to /mnt/c/Adrianov/Projects/trash-detector/masks/imgs/result_105_0.jpg\n",
      "/mnt/c/Adrianov/Projects/trash-detector/yolo_res/label/result_106.txt\n",
      "/mnt/c/Adrianov/Projects/trash-detector/yolo_res/images/result_106.jpg\n"
     ]
    },
    {
     "name": "stderr",
     "output_type": "stream",
     "text": [
      "  9%|██▍                        | 108/1219 [00:17<02:16,  8.13it/s]"
     ]
    },
    {
     "name": "stdout",
     "output_type": "stream",
     "text": [
      "Cropped image /mnt/c/Adrianov/Projects/trash-detector/yolo_res/images/result_106.jpg and saved result to None\n",
      "/mnt/c/Adrianov/Projects/trash-detector/yolo_res/label/result_107.txt\n",
      "/mnt/c/Adrianov/Projects/trash-detector/yolo_res/images/result_107.jpg\n",
      "Cropped image /mnt/c/Adrianov/Projects/trash-detector/yolo_res/images/result_107.jpg and saved result to None\n",
      "/mnt/c/Adrianov/Projects/trash-detector/yolo_res/label/result_108.txt\n",
      "/mnt/c/Adrianov/Projects/trash-detector/yolo_res/images/result_108.jpg\n",
      "obj: 2, obj: 0\n",
      "0.3551830166666667 0.11174298333333334 0.5595494148148149 0.9613185851851852\n",
      "0.8564350000000001 0.6842509999999999 0.281792 0.9396119999999999\n",
      "False\n",
      "True\n",
      "False\n",
      "True\n",
      "True\n",
      "obj: 2, obj: 1\n",
      "0.3551830166666667 0.11174298333333334 0.5595494148148149 0.9613185851851852\n",
      "0.33355300000000004 0.22621500000000003 0.32681249999999995 0.7192135\n",
      "True\n",
      "False\n",
      "False\n",
      "True\n",
      "True\n",
      "obj: 2, obj: 3\n",
      "0.3551830166666667 0.11174298333333334 0.5595494148148149 0.9613185851851852\n",
      "0.17857879999999998 -1.9999999999187335e-07 0.6101300000000001 1.0\n",
      "True\n",
      "False\n",
      "False\n",
      "True\n",
      "True\n"
     ]
    },
    {
     "name": "stderr",
     "output_type": "stream",
     "text": [
      "  9%|██▍                        | 110/1219 [00:17<02:23,  7.73it/s]"
     ]
    },
    {
     "name": "stdout",
     "output_type": "stream",
     "text": [
      "['1', '0.233463', '0.760434', '0.0351067', '0.0313988']\n",
      "['0', '0.279884', '0.523013', '0.107338', '0.392401']\n",
      "['0', '0.0892893', '0.805065', '0.178579', '0.38987']\n",
      "Regions:  [(0, 640, 352, 1080)]\n",
      "Cropped image /mnt/c/Adrianov/Projects/trash-detector/yolo_res/images/result_108.jpg and saved result to /mnt/c/Adrianov/Projects/trash-detector/masks/imgs/result_108_0.jpg\n",
      "/mnt/c/Adrianov/Projects/trash-detector/yolo_res/label/result_109.txt\n",
      "/mnt/c/Adrianov/Projects/trash-detector/yolo_res/images/result_109.jpg\n",
      "obj: 2, obj: 0\n",
      "0.7101126666666667 0.4661713333333334 0.44722031481481483 0.8480696851851852\n",
      "0.7076918 0.6310602 0.3262545 0.6552995\n",
      "True\n",
      "False\n",
      "False\n",
      "True\n",
      "True\n",
      "obj: 2, obj: 1\n",
      "0.7101126666666667 0.4661713333333334 0.44722031481481483 0.8480696851851852\n",
      "0.4859851 0.4371709 0.3181385 0.5273355\n",
      "True\n",
      "False\n",
      "False\n",
      "True\n",
      "True\n",
      "['1', '0.588142', '0.647645', '0.035608', '0.030479']\n",
      "['0', '0.669376', '0.490777', '0.0766316', '0.329045']\n",
      "['0', '0.461578', '0.422737', '0.0488142', '0.209197']\n",
      "Regions:  [(839, 1358, 343, 715)]\n",
      "Cropped image /mnt/c/Adrianov/Projects/trash-detector/yolo_res/images/result_109.jpg and saved result to /mnt/c/Adrianov/Projects/trash-detector/masks/imgs/result_109_0.jpg\n",
      "/mnt/c/Adrianov/Projects/trash-detector/yolo_res/label/result_110.txt\n",
      "/mnt/c/Adrianov/Projects/trash-detector/yolo_res/images/result_110.jpg\n"
     ]
    },
    {
     "name": "stderr",
     "output_type": "stream",
     "text": [
      "  9%|██▍                        | 112/1219 [00:17<02:22,  7.75it/s]"
     ]
    },
    {
     "name": "stdout",
     "output_type": "stream",
     "text": [
      "obj: 2, obj: 0\n",
      "0.35518676666666665 0.11189123333333333 0.5598730148148148 0.9615929851851852\n",
      "0.8531489999999999 0.683557 0.287619 0.938369\n",
      "False\n",
      "True\n",
      "False\n",
      "True\n",
      "True\n",
      "obj: 2, obj: 1\n",
      "0.35518676666666665 0.11189123333333333 0.5598730148148148 0.9615929851851852\n",
      "0.3335305 0.23044550000000003 0.32137899999999997 0.7191649999999999\n",
      "True\n",
      "False\n",
      "False\n",
      "True\n",
      "True\n",
      "obj: 2, obj: 3\n",
      "0.35518676666666665 0.11189123333333333 0.5598730148148148 0.9615929851851852\n",
      "0.178729 0.0 0.6075785 0.9999994999999999\n",
      "True\n",
      "False\n",
      "False\n",
      "True\n",
      "True\n",
      "['1', '0.233539', '0.760733', '0.0349622', '0.0313496']\n",
      "['0', '0.281988', '0.520272', '0.103085', '0.397786']\n",
      "['0', '0.0893645', '0.803789', '0.178729', '0.392421']\n",
      "Regions:  [(0, 640, 347, 1079)]\n",
      "Cropped image /mnt/c/Adrianov/Projects/trash-detector/yolo_res/images/result_110.jpg and saved result to /mnt/c/Adrianov/Projects/trash-detector/masks/imgs/result_110_0.jpg\n",
      "/mnt/c/Adrianov/Projects/trash-detector/yolo_res/label/result_111.txt\n",
      "/mnt/c/Adrianov/Projects/trash-detector/yolo_res/images/result_111.jpg\n",
      "obj: 2, obj: 0\n",
      "0.7084375666666667 0.46718243333333337 0.4475711648148148 0.8454668351851851\n",
      "0.7051749 0.6303771 0.322149 0.656015\n",
      "True\n",
      "False\n",
      "False\n",
      "True\n",
      "True\n",
      "obj: 2, obj: 1\n",
      "0.7084375666666667 0.46718243333333337 0.4475711648148148 0.8454668351851851\n",
      "0.48761319999999997 0.4355348 0.3155165 0.5298075\n",
      "True\n",
      "False\n",
      "False\n",
      "True\n",
      "True\n",
      "['1', '0.58781', '0.646519', '0.0329218', '0.0275253']\n",
      "['0', '0.667776', '0.489082', '0.0747978', '0.333866']\n",
      "['0', '0.461574', '0.422662', '0.0520784', '0.214291']\n",
      "Regions:  [(836, 1353, 340, 713)]\n",
      "Cropped image /mnt/c/Adrianov/Projects/trash-detector/yolo_res/images/result_111.jpg and saved result to /mnt/c/Adrianov/Projects/trash-detector/masks/imgs/result_111_0.jpg\n",
      "/mnt/c/Adrianov/Projects/trash-detector/yolo_res/label/result_112.txt\n",
      "/mnt/c/Adrianov/Projects/trash-detector/yolo_res/images/result_112.jpg\n"
     ]
    },
    {
     "name": "stderr",
     "output_type": "stream",
     "text": [
      "  9%|██▌                        | 114/1219 [00:18<02:32,  7.22it/s]"
     ]
    },
    {
     "name": "stdout",
     "output_type": "stream",
     "text": [
      "Cropped image /mnt/c/Adrianov/Projects/trash-detector/yolo_res/images/result_112.jpg and saved result to None\n",
      "/mnt/c/Adrianov/Projects/trash-detector/yolo_res/label/result_113.txt\n",
      "/mnt/c/Adrianov/Projects/trash-detector/yolo_res/images/result_113.jpg\n",
      "obj: 2, obj: 0\n",
      "0.3559608666666667 0.11180913333333334 0.5594625648148148 0.9613654351851852\n",
      "0.85223 0.680984 0.27961549999999996 0.9387304999999999\n",
      "False\n",
      "True\n",
      "False\n",
      "True\n",
      "True\n",
      "obj: 2, obj: 1\n",
      "0.3559608666666667 0.11180913333333334 0.5594625648148148 0.9613654351851852\n",
      "0.33420625 0.24521575 0.322183 0.717237\n",
      "True\n",
      "False\n",
      "False\n",
      "True\n",
      "True\n",
      "obj: 2, obj: 3\n",
      "0.3559608666666667 0.11180913333333334 0.5594625648148148 0.9613654351851852\n",
      "0.18419 0.0 0.6105585 0.9999994999999999\n",
      "True\n",
      "False\n",
      "False\n",
      "True\n",
      "True\n",
      "['1', '0.233885', '0.760414', '0.0358184', '0.0315325']\n",
      "['0', '0.289711', '0.51971', '0.0889905', '0.395054']\n",
      "['0', '0.092095', '0.805279', '0.18419', '0.389441']\n",
      "Regions:  [(0, 641, 347, 1079)]\n",
      "Cropped image /mnt/c/Adrianov/Projects/trash-detector/yolo_res/images/result_113.jpg and saved result to /mnt/c/Adrianov/Projects/trash-detector/masks/imgs/result_113_0.jpg\n",
      "/mnt/c/Adrianov/Projects/trash-detector/yolo_res/label/result_114.txt\n",
      "/mnt/c/Adrianov/Projects/trash-detector/yolo_res/images/result_114.jpg\n"
     ]
    },
    {
     "name": "stderr",
     "output_type": "stream",
     "text": [
      "  9%|██▌                        | 115/1219 [00:18<02:20,  7.85it/s]"
     ]
    },
    {
     "name": "stdout",
     "output_type": "stream",
     "text": [
      "obj: 2, obj: 0\n",
      "0.7106116166666667 0.46840438333333334 0.4472443648148149 0.8472676351851852\n",
      "0.7047171999999999 0.6295708 0.3206845 0.6377915000000001\n",
      "True\n",
      "False\n",
      "False\n",
      "True\n",
      "True\n",
      "obj: 2, obj: 1\n",
      "0.7106116166666667 0.46840438333333334 0.4472443648148149 0.8472676351851852\n",
      "0.48757835 0.43611565 0.3084015 0.5332805\n",
      "True\n",
      "False\n",
      "False\n",
      "True\n",
      "True\n",
      "['1', '0.589508', '0.647256', '0.0338739', '0.0296529']\n",
      "['0', '0.667144', '0.479238', '0.0751464', '0.317107']\n",
      "['0', '0.461847', '0.420841', '0.0514627', '0.224879']\n",
      "Regions:  [(837, 1353, 333, 715)]\n",
      "Cropped image /mnt/c/Adrianov/Projects/trash-detector/yolo_res/images/result_114.jpg and saved result to /mnt/c/Adrianov/Projects/trash-detector/masks/imgs/result_114_0.jpg\n",
      "/mnt/c/Adrianov/Projects/trash-detector/yolo_res/label/result_115.txt\n",
      "/mnt/c/Adrianov/Projects/trash-detector/yolo_res/images/result_115.jpg\n",
      "Cropped image /mnt/c/Adrianov/Projects/trash-detector/yolo_res/images/result_115.jpg and saved result to None\n",
      "/mnt/c/Adrianov/Projects/trash-detector/yolo_res/label/result_116.txt\n",
      "/mnt/c/Adrianov/Projects/trash-detector/yolo_res/images/result_116.jpg\n",
      "obj: 2, obj: 0\n",
      "0.35201911666666663 0.09711288333333332 0.5612001148148149 0.9759738851851851\n",
      "0.3344401 0.2374879 0.3185215 0.7254565000000001\n",
      "True\n",
      "False\n",
      "False\n",
      "True\n",
      "True\n",
      "obj: 2, obj: 1\n",
      "0.35201911666666663 0.09711288333333332 0.5612001148148149 0.9759738851851851\n",
      "0.8594780000000001 0.645444 0.575241 0.9950709999999999\n",
      "False\n",
      "True\n",
      "False\n",
      "True\n",
      "True\n"
     ]
    },
    {
     "name": "stderr",
     "output_type": "stream",
     "text": [
      " 10%|██▌                        | 117/1219 [00:18<02:06,  8.73it/s]"
     ]
    },
    {
     "name": "stdout",
     "output_type": "stream",
     "text": [
      "['1', '0.224566', '0.768587', '0.0465729', '0.0444034']\n",
      "['0', '0.285964', '0.521989', '0.0969522', '0.406935']\n",
      "Regions:  [(386, 642, 344, 854)]\n",
      "Cropped image /mnt/c/Adrianov/Projects/trash-detector/yolo_res/images/result_116.jpg and saved result to /mnt/c/Adrianov/Projects/trash-detector/masks/imgs/result_116_0.jpg\n",
      "/mnt/c/Adrianov/Projects/trash-detector/yolo_res/label/result_117.txt\n",
      "/mnt/c/Adrianov/Projects/trash-detector/yolo_res/images/result_117.jpg\n",
      "Cropped image /mnt/c/Adrianov/Projects/trash-detector/yolo_res/images/result_117.jpg and saved result to None\n",
      "/mnt/c/Adrianov/Projects/trash-detector/yolo_res/label/result_118.txt\n",
      "/mnt/c/Adrianov/Projects/trash-detector/yolo_res/images/result_118.jpg\n",
      "obj: 2, obj: 0\n",
      "0.35695031666666666 0.11262968333333333 0.5601136648148148 0.9620043351851852\n",
      "0.84858 0.67802 0.283339 0.935173\n",
      "False\n",
      "True\n",
      "False\n",
      "True\n",
      "True\n",
      "obj: 2, obj: 1\n",
      "0.35695031666666666 0.11262968333333333 0.5601136648148148 0.9620043351851852\n",
      "0.33364544999999995 0.24623454999999997 0.3155220000000001 0.718426\n",
      "True\n",
      "False\n",
      "False\n",
      "True\n",
      "True\n",
      "obj: 2, obj: 3\n",
      "0.35695031666666666 0.11262968333333333 0.5601136648148148 0.9620043351851852\n",
      "0.203346 0.0 0.606916 0.9999\n",
      "True\n",
      "False\n",
      "False\n",
      "True\n",
      "True\n"
     ]
    },
    {
     "name": "stderr",
     "output_type": "stream",
     "text": [
      " 10%|██▋                        | 120/1219 [00:18<02:06,  8.71it/s]"
     ]
    },
    {
     "name": "stdout",
     "output_type": "stream",
     "text": [
      "['1', '0.23479', '0.761059', '0.0359873', '0.0315203']\n",
      "['0', '0.28994', '0.516974', '0.0874109', '0.402904']\n",
      "['0', '0.101673', '0.803408', '0.203346', '0.392984']\n",
      "Regions:  [(0, 640, 340, 1079)]\n",
      "Cropped image /mnt/c/Adrianov/Projects/trash-detector/yolo_res/images/result_118.jpg and saved result to /mnt/c/Adrianov/Projects/trash-detector/masks/imgs/result_118_0.jpg\n",
      "/mnt/c/Adrianov/Projects/trash-detector/yolo_res/label/result_119.txt\n",
      "/mnt/c/Adrianov/Projects/trash-detector/yolo_res/images/result_119.jpg\n",
      "Cropped image /mnt/c/Adrianov/Projects/trash-detector/yolo_res/images/result_119.jpg and saved result to None\n",
      "/mnt/c/Adrianov/Projects/trash-detector/yolo_res/label/result_120.txt\n",
      "/mnt/c/Adrianov/Projects/trash-detector/yolo_res/images/result_120.jpg\n",
      "obj: 2, obj: 0\n",
      "0.7067739666666666 0.4691560333333333 0.4492902648148148 0.8451637351851852\n",
      "0.70136075 0.63117525 0.31638449999999996 0.6188135\n",
      "True\n",
      "False\n",
      "False\n",
      "True\n",
      "True\n",
      "obj: 2, obj: 1\n",
      "0.7067739666666666 0.4691560333333333 0.4492902648148148 0.8451637351851852\n",
      "0.4949713 0.4411267 0.2994285 0.5398655\n",
      "True\n",
      "False\n",
      "False\n",
      "True\n",
      "True\n"
     ]
    },
    {
     "name": "stderr",
     "output_type": "stream",
     "text": [
      " 10%|██▋                        | 122/1219 [00:18<02:09,  8.48it/s]"
     ]
    },
    {
     "name": "stdout",
     "output_type": "stream",
     "text": [
      "['1', '0.587965', '0.647227', '0.0292846', '0.0255031']\n",
      "['0', '0.666268', '0.467599', '0.0701855', '0.302429']\n",
      "['0', '0.468049', '0.419647', '0.0538446', '0.240437']\n",
      "Regions:  [(846, 1346, 323, 712)]\n",
      "Cropped image /mnt/c/Adrianov/Projects/trash-detector/yolo_res/images/result_120.jpg and saved result to /mnt/c/Adrianov/Projects/trash-detector/masks/imgs/result_120_0.jpg\n",
      "/mnt/c/Adrianov/Projects/trash-detector/yolo_res/label/result_121.txt\n",
      "/mnt/c/Adrianov/Projects/trash-detector/yolo_res/images/result_121.jpg\n",
      "Cropped image /mnt/c/Adrianov/Projects/trash-detector/yolo_res/images/result_121.jpg and saved result to None\n",
      "/mnt/c/Adrianov/Projects/trash-detector/yolo_res/label/result_122.txt\n",
      "/mnt/c/Adrianov/Projects/trash-detector/yolo_res/images/result_122.jpg\n"
     ]
    },
    {
     "name": "stderr",
     "output_type": "stream",
     "text": [
      " 10%|██▋                        | 123/1219 [00:19<02:31,  7.24it/s]"
     ]
    },
    {
     "name": "stdout",
     "output_type": "stream",
     "text": [
      "obj: 3, obj: 0\n",
      "0.36014176666666664 0.11047423333333331 0.5167574648148148 0.9640625351851853\n",
      "0.8578615 0.6768164999999999 0.2733715 0.9390145\n",
      "False\n",
      "True\n",
      "False\n",
      "True\n",
      "True\n",
      "obj: 3, obj: 1\n",
      "0.36014176666666664 0.11047423333333331 0.5167574648148148 0.9640625351851853\n",
      "0.33362165 0.24622635 0.310546 0.7189300000000001\n",
      "True\n",
      "False\n",
      "False\n",
      "True\n",
      "True\n",
      "obj: 3, obj: 2\n",
      "0.36014176666666664 0.11047423333333331 0.5167574648148148 0.9640625351851853\n",
      "0.238422 0.0 0.6053014999999999 1.0000005\n",
      "True\n",
      "False\n",
      "False\n",
      "True\n",
      "True\n",
      "['1', '0.235308', '0.74041', '0.0413342', '0.0769347']\n",
      "['0', '0.289924', '0.514738', '0.0873953', '0.408384']\n",
      "['0', '0.119211', '0.802651', '0.238422', '0.394699']\n",
      "Regions:  [(0, 640, 335, 1080)]\n",
      "Cropped image /mnt/c/Adrianov/Projects/trash-detector/yolo_res/images/result_122.jpg and saved result to /mnt/c/Adrianov/Projects/trash-detector/masks/imgs/result_122_0.jpg\n",
      "/mnt/c/Adrianov/Projects/trash-detector/yolo_res/label/result_123.txt\n",
      "/mnt/c/Adrianov/Projects/trash-detector/yolo_res/images/result_123.jpg\n",
      "Cropped image /mnt/c/Adrianov/Projects/trash-detector/yolo_res/images/result_123.jpg and saved result to None\n",
      "/mnt/c/Adrianov/Projects/trash-detector/yolo_res/label/result_124.txt\n",
      "/mnt/c/Adrianov/Projects/trash-detector/yolo_res/images/result_124.jpg\n"
     ]
    },
    {
     "name": "stderr",
     "output_type": "stream",
     "text": [
      " 10%|██▊                        | 126/1219 [00:19<02:06,  8.62it/s]"
     ]
    },
    {
     "name": "stdout",
     "output_type": "stream",
     "text": [
      "Cropped image /mnt/c/Adrianov/Projects/trash-detector/yolo_res/images/result_124.jpg and saved result to None\n",
      "/mnt/c/Adrianov/Projects/trash-detector/yolo_res/label/result_125.txt\n",
      "/mnt/c/Adrianov/Projects/trash-detector/yolo_res/images/result_125.jpg\n",
      "obj: 2, obj: 0\n",
      "0.6983668166666668 0.4710831833333334 0.44880446481481484 0.8508735351851853\n",
      "0.7040509 0.6324091 0.31585450000000004 0.6301355\n",
      "True\n",
      "False\n",
      "False\n",
      "True\n",
      "True\n",
      "obj: 2, obj: 1\n",
      "0.6983668166666668 0.4710831833333334 0.44880446481481484 0.8508735351851853\n",
      "0.49417135 0.44696265 0.29801599999999995 0.537026\n",
      "True\n",
      "False\n",
      "False\n",
      "True\n",
      "True\n",
      "['1', '0.584725', '0.649839', '0.0189503', '0.0316987']\n",
      "['0', '0.66823', '0.472995', '0.0716418', '0.314281']\n",
      "['0', '0.470567', '0.417521', '0.0472087', '0.23901']\n",
      "Regions:  [(858, 1351, 321, 718)]\n",
      "Cropped image /mnt/c/Adrianov/Projects/trash-detector/yolo_res/images/result_125.jpg and saved result to /mnt/c/Adrianov/Projects/trash-detector/masks/imgs/result_125_0.jpg\n",
      "/mnt/c/Adrianov/Projects/trash-detector/yolo_res/label/result_126.txt\n",
      "/mnt/c/Adrianov/Projects/trash-detector/yolo_res/images/result_126.jpg\n",
      "Cropped image /mnt/c/Adrianov/Projects/trash-detector/yolo_res/images/result_126.jpg and saved result to None\n",
      "/mnt/c/Adrianov/Projects/trash-detector/yolo_res/label/result_127.txt\n",
      "/mnt/c/Adrianov/Projects/trash-detector/yolo_res/images/result_127.jpg\n"
     ]
    },
    {
     "name": "stderr",
     "output_type": "stream",
     "text": [
      " 11%|██▊                        | 129/1219 [00:19<01:50,  9.83it/s]"
     ]
    },
    {
     "name": "stdout",
     "output_type": "stream",
     "text": [
      "Cropped image /mnt/c/Adrianov/Projects/trash-detector/yolo_res/images/result_127.jpg and saved result to None\n",
      "/mnt/c/Adrianov/Projects/trash-detector/yolo_res/label/result_128.txt\n",
      "/mnt/c/Adrianov/Projects/trash-detector/yolo_res/images/result_128.jpg\n",
      "Cropped image /mnt/c/Adrianov/Projects/trash-detector/yolo_res/images/result_128.jpg and saved result to None\n",
      "/mnt/c/Adrianov/Projects/trash-detector/yolo_res/label/result_129.txt\n",
      "/mnt/c/Adrianov/Projects/trash-detector/yolo_res/images/result_129.jpg\n"
     ]
    },
    {
     "name": "stderr",
     "output_type": "stream",
     "text": [
      " 11%|██▉                        | 131/1219 [00:19<01:59,  9.11it/s]"
     ]
    },
    {
     "name": "stdout",
     "output_type": "stream",
     "text": [
      "Cropped image /mnt/c/Adrianov/Projects/trash-detector/yolo_res/images/result_129.jpg and saved result to None\n",
      "/mnt/c/Adrianov/Projects/trash-detector/yolo_res/label/result_130.txt\n",
      "/mnt/c/Adrianov/Projects/trash-detector/yolo_res/images/result_130.jpg\n",
      "obj: 3, obj: 0\n",
      "0.35995136666666666 0.11236063333333333 0.5149882148148148 0.9627597851851852\n",
      "0.8624364999999999 0.6665795 0.2677235 0.9305565\n",
      "False\n",
      "True\n",
      "False\n",
      "True\n",
      "True\n",
      "obj: 3, obj: 1\n",
      "0.35995136666666666 0.11236063333333333 0.5149882148148148 0.9627597851851852\n",
      "0.33415900000000004 0.22282900000000003 0.3159265 0.7181895\n",
      "True\n",
      "False\n",
      "False\n",
      "True\n",
      "True\n",
      "obj: 3, obj: 2\n",
      "0.35995136666666666 0.11236063333333333 0.5149882148148148 0.9627597851851852\n",
      "0.244202 0.0 0.603246 1.0\n",
      "True\n",
      "False\n",
      "False\n",
      "True\n",
      "True\n",
      "['1', '0.236156', '0.738874', '0.0392574', '0.0774012']\n",
      "['0', '0.278494', '0.517058', '0.11133', '0.402263']\n",
      "['0', '0.122101', '0.801623', '0.244202', '0.396754']\n",
      "Regions:  [(0, 641, 341, 1080)]\n",
      "Cropped image /mnt/c/Adrianov/Projects/trash-detector/yolo_res/images/result_130.jpg and saved result to /mnt/c/Adrianov/Projects/trash-detector/masks/imgs/result_130_0.jpg\n",
      "/mnt/c/Adrianov/Projects/trash-detector/yolo_res/label/result_131.txt\n",
      "/mnt/c/Adrianov/Projects/trash-detector/yolo_res/images/result_131.jpg\n"
     ]
    },
    {
     "name": "stderr",
     "output_type": "stream",
     "text": [
      " 11%|██▉                        | 133/1219 [00:20<02:00,  9.03it/s]"
     ]
    },
    {
     "name": "stdout",
     "output_type": "stream",
     "text": [
      "Cropped image /mnt/c/Adrianov/Projects/trash-detector/yolo_res/images/result_131.jpg and saved result to None\n",
      "/mnt/c/Adrianov/Projects/trash-detector/yolo_res/label/result_132.txt\n",
      "/mnt/c/Adrianov/Projects/trash-detector/yolo_res/images/result_132.jpg\n",
      "Cropped image /mnt/c/Adrianov/Projects/trash-detector/yolo_res/images/result_132.jpg and saved result to None\n",
      "/mnt/c/Adrianov/Projects/trash-detector/yolo_res/label/result_133.txt\n",
      "/mnt/c/Adrianov/Projects/trash-detector/yolo_res/images/result_133.jpg\n",
      "obj: 3, obj: 0\n",
      "0.35997096666666667 0.11205503333333333 0.5150715648148148 0.9624244351851852\n",
      "0.863733 0.6726530000000001 0.27515850000000003 0.9312315\n",
      "False\n",
      "True\n",
      "False\n",
      "True\n",
      "True\n",
      "obj: 3, obj: 1\n",
      "0.35997096666666667 0.11205503333333333 0.5150715648148148 0.9624244351851852\n",
      "0.3356245 0.20689349999999995 0.333526 0.728308\n",
      "True\n",
      "False\n",
      "False\n",
      "True\n",
      "True\n",
      "obj: 3, obj: 2\n",
      "0.35997096666666667 0.11205503333333333 0.5150715648148148 0.9624244351851852\n",
      "0.236384 0.0 0.6042974999999999 1.0000005\n",
      "True\n",
      "False\n",
      "False\n",
      "True\n",
      "True\n"
     ]
    },
    {
     "name": "stderr",
     "output_type": "stream",
     "text": [
      " 11%|██▉                        | 134/1219 [00:20<02:03,  8.75it/s]"
     ]
    },
    {
     "name": "stdout",
     "output_type": "stream",
     "text": [
      "['1', '0.236013', '0.738748', '0.0395826', '0.0769825']\n",
      "['0', '0.271259', '0.530917', '0.128731', '0.394782']\n",
      "['0', '0.118192', '0.802149', '0.236384', '0.395703']\n",
      "Regions:  [(0, 644, 360, 1080)]\n",
      "Cropped image /mnt/c/Adrianov/Projects/trash-detector/yolo_res/images/result_133.jpg and saved result to /mnt/c/Adrianov/Projects/trash-detector/masks/imgs/result_133_0.jpg\n",
      "/mnt/c/Adrianov/Projects/trash-detector/yolo_res/label/result_134.txt\n",
      "/mnt/c/Adrianov/Projects/trash-detector/yolo_res/images/result_134.jpg\n",
      "Cropped image /mnt/c/Adrianov/Projects/trash-detector/yolo_res/images/result_134.jpg and saved result to None\n",
      "/mnt/c/Adrianov/Projects/trash-detector/yolo_res/label/result_135.txt\n",
      "/mnt/c/Adrianov/Projects/trash-detector/yolo_res/images/result_135.jpg\n"
     ]
    },
    {
     "name": "stderr",
     "output_type": "stream",
     "text": [
      " 11%|███                        | 137/1219 [00:20<02:02,  8.86it/s]"
     ]
    },
    {
     "name": "stdout",
     "output_type": "stream",
     "text": [
      "Cropped image /mnt/c/Adrianov/Projects/trash-detector/yolo_res/images/result_135.jpg and saved result to None\n",
      "/mnt/c/Adrianov/Projects/trash-detector/yolo_res/label/result_136.txt\n",
      "/mnt/c/Adrianov/Projects/trash-detector/yolo_res/images/result_136.jpg\n",
      "obj: 3, obj: 0\n",
      "0.3604055666666667 0.11208843333333335 0.5150962148148148 0.9627077851851851\n",
      "0.864166 0.678002 0.27267099999999994 0.930277\n",
      "False\n",
      "True\n",
      "False\n",
      "True\n",
      "True\n",
      "obj: 3, obj: 1\n",
      "0.3604055666666667 0.11208843333333335 0.5150962148148148 0.9627077851851851\n",
      "0.3261535 0.2020305 0.3409555000000001 0.7333465\n",
      "True\n",
      "False\n",
      "False\n",
      "True\n",
      "True\n",
      "obj: 3, obj: 2\n",
      "0.3604055666666667 0.11208843333333335 0.5150962148148148 0.9627077851851851\n",
      "0.22764 0.0 0.6053360000000001 1.0\n",
      "True\n",
      "False\n",
      "False\n",
      "True\n",
      "True\n",
      "['1', '0.236247', '0.738902', '0.0399838', '0.0772412']\n",
      "['0', '0.264092', '0.537151', '0.124123', '0.392391']\n",
      "['0', '0.11382', '0.802668', '0.22764', '0.394664']\n",
      "Regions:  [(0, 626, 368, 1080)]\n",
      "Cropped image /mnt/c/Adrianov/Projects/trash-detector/yolo_res/images/result_136.jpg and saved result to /mnt/c/Adrianov/Projects/trash-detector/masks/imgs/result_136_0.jpg\n",
      "/mnt/c/Adrianov/Projects/trash-detector/yolo_res/label/result_137.txt\n",
      "/mnt/c/Adrianov/Projects/trash-detector/yolo_res/images/result_137.jpg\n"
     ]
    },
    {
     "name": "stderr",
     "output_type": "stream",
     "text": [
      " 11%|███                        | 139/1219 [00:20<01:59,  9.04it/s]"
     ]
    },
    {
     "name": "stdout",
     "output_type": "stream",
     "text": [
      "Cropped image /mnt/c/Adrianov/Projects/trash-detector/yolo_res/images/result_137.jpg and saved result to None\n",
      "/mnt/c/Adrianov/Projects/trash-detector/yolo_res/label/result_138.txt\n",
      "/mnt/c/Adrianov/Projects/trash-detector/yolo_res/images/result_138.jpg\n",
      "Cropped image /mnt/c/Adrianov/Projects/trash-detector/yolo_res/images/result_138.jpg and saved result to None\n",
      "/mnt/c/Adrianov/Projects/trash-detector/yolo_res/label/result_139.txt\n",
      "/mnt/c/Adrianov/Projects/trash-detector/yolo_res/images/result_139.jpg\n",
      "Cropped image /mnt/c/Adrianov/Projects/trash-detector/yolo_res/images/result_139.jpg and saved result to None\n",
      "/mnt/c/Adrianov/Projects/trash-detector/yolo_res/label/result_140.txt\n",
      "/mnt/c/Adrianov/Projects/trash-detector/yolo_res/images/result_140.jpg\n",
      "obj: 2, obj: 0\n",
      "0.7304461166666667 0.4779978833333334 0.4441909148148149 0.8519250851851852\n",
      "0.7144854500000001 0.64500455 0.32957499999999995 0.631665\n",
      "True\n",
      "False\n",
      "False\n",
      "True\n",
      "True\n",
      "obj: 2, obj: 1\n",
      "0.7304461166666667 0.4779978833333334 0.4441909148148149 0.8519250851851852\n",
      "0.50177875 0.45863725 0.30418249999999997 0.5514534999999999\n",
      "True\n",
      "False\n",
      "False\n",
      "True\n",
      "True\n"
     ]
    },
    {
     "name": "stderr",
     "output_type": "stream",
     "text": [
      " 12%|███▏                       | 142/1219 [00:21<02:19,  7.70it/s]"
     ]
    },
    {
     "name": "stdout",
     "output_type": "stream",
     "text": [
      "['1', '0.604222', '0.648058', '0.0441149', '0.0373638']\n",
      "['0', '0.679745', '0.48062', '0.0694809', '0.30209']\n",
      "['0', '0.480208', '0.427818', '0.0431415', '0.247271']\n",
      "Regions:  [(880, 1371, 328, 720)]\n",
      "Cropped image /mnt/c/Adrianov/Projects/trash-detector/yolo_res/images/result_140.jpg and saved result to /mnt/c/Adrianov/Projects/trash-detector/masks/imgs/result_140_0.jpg\n",
      "/mnt/c/Adrianov/Projects/trash-detector/yolo_res/label/result_141.txt\n",
      "/mnt/c/Adrianov/Projects/trash-detector/yolo_res/images/result_141.jpg\n",
      "Cropped image /mnt/c/Adrianov/Projects/trash-detector/yolo_res/images/result_141.jpg and saved result to None\n",
      "/mnt/c/Adrianov/Projects/trash-detector/yolo_res/label/result_142.txt\n",
      "/mnt/c/Adrianov/Projects/trash-detector/yolo_res/images/result_142.jpg\n"
     ]
    },
    {
     "name": "stderr",
     "output_type": "stream",
     "text": [
      " 12%|███▏                       | 144/1219 [00:21<02:06,  8.51it/s]"
     ]
    },
    {
     "name": "stdout",
     "output_type": "stream",
     "text": [
      "Cropped image /mnt/c/Adrianov/Projects/trash-detector/yolo_res/images/result_142.jpg and saved result to None\n",
      "/mnt/c/Adrianov/Projects/trash-detector/yolo_res/label/result_143.txt\n",
      "/mnt/c/Adrianov/Projects/trash-detector/yolo_res/images/result_143.jpg\n",
      "Cropped image /mnt/c/Adrianov/Projects/trash-detector/yolo_res/images/result_143.jpg and saved result to None\n",
      "/mnt/c/Adrianov/Projects/trash-detector/yolo_res/label/result_144.txt\n",
      "/mnt/c/Adrianov/Projects/trash-detector/yolo_res/images/result_144.jpg\n",
      "Cropped image /mnt/c/Adrianov/Projects/trash-detector/yolo_res/images/result_144.jpg and saved result to None\n",
      "/mnt/c/Adrianov/Projects/trash-detector/yolo_res/label/result_145.txt\n",
      "/mnt/c/Adrianov/Projects/trash-detector/yolo_res/images/result_145.jpg\n"
     ]
    },
    {
     "name": "stderr",
     "output_type": "stream",
     "text": [
      " 12%|███▎                       | 147/1219 [00:21<02:04,  8.59it/s]"
     ]
    },
    {
     "name": "stdout",
     "output_type": "stream",
     "text": [
      "Cropped image /mnt/c/Adrianov/Projects/trash-detector/yolo_res/images/result_145.jpg and saved result to None\n",
      "/mnt/c/Adrianov/Projects/trash-detector/yolo_res/label/result_146.txt\n",
      "/mnt/c/Adrianov/Projects/trash-detector/yolo_res/images/result_146.jpg\n",
      "obj: 2, obj: 0\n",
      "0.3519563666666667 0.10299963333333334 0.5578877148148149 0.9700762851851852\n",
      "0.3348335 0.2268285 0.32179100000000005 0.738895\n",
      "True\n",
      "False\n",
      "False\n",
      "True\n",
      "True\n",
      "obj: 2, obj: 1\n",
      "0.3519563666666667 0.10299963333333334 0.5578877148148149 0.9700762851851852\n",
      "0.855872 0.661176 0.571273 0.921587\n",
      "False\n",
      "True\n",
      "False\n",
      "True\n",
      "True\n",
      "['1', '0.227478', '0.763982', '0.0406234', '0.0418182']\n",
      "['0', '0.280831', '0.530343', '0.108005', '0.417104']\n",
      "Regions:  [(397, 642, 347, 847)]\n",
      "Cropped image /mnt/c/Adrianov/Projects/trash-detector/yolo_res/images/result_146.jpg and saved result to /mnt/c/Adrianov/Projects/trash-detector/masks/imgs/result_146_0.jpg\n",
      "/mnt/c/Adrianov/Projects/trash-detector/yolo_res/label/result_147.txt\n",
      "/mnt/c/Adrianov/Projects/trash-detector/yolo_res/images/result_147.jpg\n"
     ]
    },
    {
     "name": "stderr",
     "output_type": "stream",
     "text": [
      " 12%|███▎                       | 149/1219 [00:22<01:57,  9.09it/s]"
     ]
    },
    {
     "name": "stdout",
     "output_type": "stream",
     "text": [
      "Cropped image /mnt/c/Adrianov/Projects/trash-detector/yolo_res/images/result_147.jpg and saved result to None\n",
      "/mnt/c/Adrianov/Projects/trash-detector/yolo_res/label/result_148.txt\n",
      "/mnt/c/Adrianov/Projects/trash-detector/yolo_res/images/result_148.jpg\n",
      "Cropped image /mnt/c/Adrianov/Projects/trash-detector/yolo_res/images/result_148.jpg and saved result to None\n",
      "/mnt/c/Adrianov/Projects/trash-detector/yolo_res/label/result_149.txt\n",
      "/mnt/c/Adrianov/Projects/trash-detector/yolo_res/images/result_149.jpg\n"
     ]
    },
    {
     "name": "stderr",
     "output_type": "stream",
     "text": [
      " 12%|███▎                       | 151/1219 [00:22<01:57,  9.13it/s]"
     ]
    },
    {
     "name": "stdout",
     "output_type": "stream",
     "text": [
      "Cropped image /mnt/c/Adrianov/Projects/trash-detector/yolo_res/images/result_149.jpg and saved result to None\n",
      "/mnt/c/Adrianov/Projects/trash-detector/yolo_res/label/result_150.txt\n",
      "/mnt/c/Adrianov/Projects/trash-detector/yolo_res/images/result_150.jpg\n",
      "Cropped image /mnt/c/Adrianov/Projects/trash-detector/yolo_res/images/result_150.jpg and saved result to None\n",
      "/mnt/c/Adrianov/Projects/trash-detector/yolo_res/label/result_151.txt\n",
      "/mnt/c/Adrianov/Projects/trash-detector/yolo_res/images/result_151.jpg\n",
      "obj: 2, obj: 0\n",
      "0.3544986166666667 0.10644738333333334 0.5581790148148148 0.9666829851851851\n",
      "0.868708 0.6741820000000001 0.5497434999999999 0.9974745\n",
      "False\n",
      "True\n",
      "False\n",
      "True\n",
      "True\n",
      "obj: 2, obj: 1\n",
      "0.3544986166666667 0.10644738333333334 0.5581790148148148 0.9666829851851851\n",
      "0.33448705 0.23985095 0.31013599999999997 0.721104\n",
      "True\n",
      "False\n",
      "False\n",
      "True\n",
      "True\n",
      "obj: 2, obj: 3\n",
      "0.3544986166666667 0.10644738333333334 0.5581790148148148 0.9666829851851851\n",
      "0.2401745 -5.000000000005e-07 0.596948 0.9996860000000001\n",
      "True\n",
      "False\n",
      "False\n",
      "True\n",
      "True\n"
     ]
    },
    {
     "name": "stderr",
     "output_type": "stream",
     "text": [
      " 12%|███▎                       | 152/1219 [00:22<02:06,  8.41it/s]"
     ]
    },
    {
     "name": "stdout",
     "output_type": "stream",
     "text": [
      "['1', '0.230473', '0.762431', '0.0397179', '0.0381336']\n",
      "['0', '0.287169', '0.51562', '0.0946361', '0.410968']\n",
      "['0', '0.120087', '0.798317', '0.240175', '0.402738']\n",
      "Regions:  [(0, 642, 334, 1079)]\n",
      "Cropped image /mnt/c/Adrianov/Projects/trash-detector/yolo_res/images/result_151.jpg and saved result to /mnt/c/Adrianov/Projects/trash-detector/masks/imgs/result_151_0.jpg\n",
      "/mnt/c/Adrianov/Projects/trash-detector/yolo_res/label/result_152.txt\n",
      "/mnt/c/Adrianov/Projects/trash-detector/yolo_res/images/result_152.jpg\n",
      "Cropped image /mnt/c/Adrianov/Projects/trash-detector/yolo_res/images/result_152.jpg and saved result to None\n",
      "/mnt/c/Adrianov/Projects/trash-detector/yolo_res/label/result_153.txt\n",
      "/mnt/c/Adrianov/Projects/trash-detector/yolo_res/images/result_153.jpg\n",
      "obj: 2, obj: 0\n",
      "0.35650761666666664 0.10955438333333331 0.5607807148148148 0.9638132851851852\n",
      "0.86714 0.678914 0.5400294999999999 1.0000005\n",
      "False\n",
      "True\n",
      "False\n",
      "True\n",
      "True\n",
      "obj: 2, obj: 1\n",
      "0.35650761666666664 0.10955438333333331 0.5607807148148148 0.9638132851851852\n",
      "0.33466579999999996 0.2383262 0.3206195 0.7246845\n",
      "True\n",
      "False\n",
      "False\n",
      "True\n",
      "True\n",
      "obj: 2, obj: 3\n",
      "0.35650761666666664 0.10955438333333331 0.5607807148148148 0.9638132851851852\n",
      "0.22474 0.0 0.598444 1.0\n",
      "True\n",
      "False\n",
      "False\n",
      "True\n",
      "True\n"
     ]
    },
    {
     "name": "stderr",
     "output_type": "stream",
     "text": [
      " 13%|███▍                       | 155/1219 [00:22<02:04,  8.54it/s]"
     ]
    },
    {
     "name": "stdout",
     "output_type": "stream",
     "text": [
      "['1', '0.233031', '0.762297', '0.0386199', '0.0326622']\n",
      "['0', '0.286496', '0.522652', '0.0963396', '0.404065']\n",
      "['0', '0.11237', '0.799222', '0.22474', '0.401556']\n",
      "Regions:  [(0, 642, 346, 1080)]\n",
      "Cropped image /mnt/c/Adrianov/Projects/trash-detector/yolo_res/images/result_153.jpg and saved result to /mnt/c/Adrianov/Projects/trash-detector/masks/imgs/result_153_0.jpg\n",
      "/mnt/c/Adrianov/Projects/trash-detector/yolo_res/label/result_154.txt\n",
      "/mnt/c/Adrianov/Projects/trash-detector/yolo_res/images/result_154.jpg\n",
      "Cropped image /mnt/c/Adrianov/Projects/trash-detector/yolo_res/images/result_154.jpg and saved result to None\n",
      "/mnt/c/Adrianov/Projects/trash-detector/yolo_res/label/result_155.txt\n",
      "/mnt/c/Adrianov/Projects/trash-detector/yolo_res/images/result_155.jpg\n"
     ]
    },
    {
     "name": "stderr",
     "output_type": "stream",
     "text": [
      " 13%|███▍                       | 156/1219 [00:22<02:24,  7.35it/s]"
     ]
    },
    {
     "name": "stdout",
     "output_type": "stream",
     "text": [
      "obj: 2, obj: 0\n",
      "0.3578380166666667 0.11206998333333332 0.5593316648148148 0.9612903351851851\n",
      "0.8727755 0.6789945000000001 0.5344979999999999 1.0\n",
      "False\n",
      "True\n",
      "False\n",
      "True\n",
      "True\n",
      "obj: 2, obj: 1\n",
      "0.3578380166666667 0.11206998333333332 0.5593316648148148 0.9612903351851851\n",
      "0.33586765 0.24232435000000002 0.327507 0.7186969999999999\n",
      "True\n",
      "False\n",
      "False\n",
      "True\n",
      "True\n",
      "obj: 2, obj: 3\n",
      "0.3578380166666667 0.11206998333333332 0.5593316648148148 0.9612903351851851\n",
      "0.21932449999999998 -5.000000000005e-07 0.596902 1.0\n",
      "True\n",
      "False\n",
      "False\n",
      "True\n",
      "True\n",
      "['1', '0.234954', '0.760311', '0.0374347', '0.0315883']\n",
      "['0', '0.289096', '0.523102', '0.0935433', '0.39119']\n",
      "['0', '0.109662', '0.798451', '0.219325', '0.403098']\n",
      "Regions:  [(0, 644, 353, 1080)]\n",
      "Cropped image /mnt/c/Adrianov/Projects/trash-detector/yolo_res/images/result_155.jpg and saved result to /mnt/c/Adrianov/Projects/trash-detector/masks/imgs/result_155_0.jpg\n",
      "/mnt/c/Adrianov/Projects/trash-detector/yolo_res/label/result_156.txt\n",
      "/mnt/c/Adrianov/Projects/trash-detector/yolo_res/images/result_156.jpg\n"
     ]
    },
    {
     "name": "stderr",
     "output_type": "stream",
     "text": [
      " 13%|███▍                       | 157/1219 [00:23<02:39,  6.65it/s]"
     ]
    },
    {
     "name": "stdout",
     "output_type": "stream",
     "text": [
      "Cropped image /mnt/c/Adrianov/Projects/trash-detector/yolo_res/images/result_156.jpg and saved result to None\n",
      "/mnt/c/Adrianov/Projects/trash-detector/yolo_res/label/result_157.txt\n",
      "/mnt/c/Adrianov/Projects/trash-detector/yolo_res/images/result_157.jpg\n"
     ]
    },
    {
     "name": "stderr",
     "output_type": "stream",
     "text": [
      " 13%|███▌                       | 159/1219 [00:23<02:51,  6.17it/s]"
     ]
    },
    {
     "name": "stdout",
     "output_type": "stream",
     "text": [
      "Cropped image /mnt/c/Adrianov/Projects/trash-detector/yolo_res/images/result_157.jpg and saved result to None\n",
      "/mnt/c/Adrianov/Projects/trash-detector/yolo_res/label/result_158.txt\n",
      "/mnt/c/Adrianov/Projects/trash-detector/yolo_res/images/result_158.jpg\n",
      "Cropped image /mnt/c/Adrianov/Projects/trash-detector/yolo_res/images/result_158.jpg and saved result to None\n",
      "/mnt/c/Adrianov/Projects/trash-detector/yolo_res/label/result_159.txt\n",
      "/mnt/c/Adrianov/Projects/trash-detector/yolo_res/images/result_159.jpg\n",
      "obj: 2, obj: 0\n",
      "0.3575832166666667 0.11343878333333332 0.5535868648148148 0.9593471351851852\n",
      "0.8708835 0.6818485 0.5293760000000001 1.0\n",
      "False\n",
      "True\n",
      "False\n",
      "True\n",
      "True\n",
      "obj: 2, obj: 1\n",
      "0.3575832166666667 0.11343878333333332 0.5535868648148148 0.9593471351851852\n",
      "0.33639465 0.24376935 0.32577599999999995 0.7256319999999999\n",
      "True\n",
      "False\n",
      "False\n",
      "True\n",
      "True\n",
      "obj: 2, obj: 3\n",
      "0.3575832166666667 0.11343878333333332 0.5535868648148148 0.9593471351851852\n",
      "0.179746 0.0 0.6030439999999999 1.0\n",
      "True\n",
      "False\n",
      "False\n",
      "True\n",
      "True\n"
     ]
    },
    {
     "name": "stderr",
     "output_type": "stream",
     "text": [
      " 13%|███▌                       | 161/1219 [00:23<02:45,  6.38it/s]"
     ]
    },
    {
     "name": "stdout",
     "output_type": "stream",
     "text": [
      "['1', '0.235511', '0.756467', '0.0358111', '0.0353899']\n",
      "['0', '0.290082', '0.525704', '0.0926253', '0.399856']\n",
      "['0', '0.089873', '0.801522', '0.179746', '0.396956']\n",
      "Regions:  [(0, 645, 351, 1080)]\n",
      "Cropped image /mnt/c/Adrianov/Projects/trash-detector/yolo_res/images/result_159.jpg and saved result to /mnt/c/Adrianov/Projects/trash-detector/masks/imgs/result_159_0.jpg\n",
      "/mnt/c/Adrianov/Projects/trash-detector/yolo_res/label/result_160.txt\n",
      "/mnt/c/Adrianov/Projects/trash-detector/yolo_res/images/result_160.jpg\n",
      "obj: 3, obj: 0\n",
      "0.36054641666666665 0.11326158333333333 0.5501630148148149 0.9591189851851851\n",
      "0.87697 0.68509 0.5025919999999999 0.982834\n",
      "False\n",
      "True\n",
      "False\n",
      "True\n",
      "True\n",
      "obj: 3, obj: 1\n",
      "0.36054641666666665 0.11326158333333333 0.5501630148148149 0.9591189851851851\n",
      "0.33626065 0.24422534999999998 0.32829600000000003 0.724244\n",
      "True\n",
      "False\n",
      "False\n",
      "True\n",
      "True\n",
      "obj: 3, obj: 2\n",
      "0.36054641666666665 0.11326158333333333 0.5501630148148149 0.9591189851851851\n",
      "0.855874 0.681894 0.5040465 0.8740795\n",
      "False\n",
      "True\n",
      "False\n",
      "True\n",
      "True\n",
      "obj: 3, obj: 4\n",
      "0.36054641666666665 0.11326158333333333 0.5501630148148149 0.9591189851851851\n",
      "0.20374750000000003 5.000000000005e-07 0.6033705 0.9999994999999999\n",
      "True\n",
      "False\n",
      "False\n",
      "True\n",
      "True\n",
      "obj: 3, obj: 5\n",
      "0.36054641666666665 0.11326158333333333 0.5501630148148149 0.9591189851851851\n",
      "0.8728545 0.7406594999999999 0.50556 0.9964740000000001\n",
      "False\n",
      "True\n",
      "False\n",
      "True\n",
      "True\n",
      "['1', '0.236904', '0.754641', '0.0389515', '0.0385856']\n",
      "['0', '0.290243', '0.52627', '0.0920353', '0.395948']\n",
      "['0', '0.101874', '0.801685', '0.203747', '0.396629']\n",
      "Regions:  [(0, 645, 354, 1079)]\n",
      "Cropped image /mnt/c/Adrianov/Projects/trash-detector/yolo_res/images/result_160.jpg and saved result to /mnt/c/Adrianov/Projects/trash-detector/masks/imgs/result_160_0.jpg\n",
      "/mnt/c/Adrianov/Projects/trash-detector/yolo_res/label/result_161.txt\n",
      "/mnt/c/Adrianov/Projects/trash-detector/yolo_res/images/result_161.jpg\n"
     ]
    },
    {
     "name": "stderr",
     "output_type": "stream",
     "text": [
      " 13%|███▌                       | 163/1219 [00:24<02:36,  6.74it/s]"
     ]
    },
    {
     "name": "stdout",
     "output_type": "stream",
     "text": [
      "Cropped image /mnt/c/Adrianov/Projects/trash-detector/yolo_res/images/result_161.jpg and saved result to None\n",
      "/mnt/c/Adrianov/Projects/trash-detector/yolo_res/label/result_162.txt\n",
      "/mnt/c/Adrianov/Projects/trash-detector/yolo_res/images/result_162.jpg\n",
      "obj: 3, obj: 0\n",
      "0.35957876666666666 0.11339723333333333 0.5528977648148148 0.9592942351851852\n",
      "0.8803570000000001 0.681073 0.460813 0.993511\n",
      "False\n",
      "True\n",
      "False\n",
      "True\n",
      "True\n",
      "obj: 3, obj: 1\n",
      "0.35957876666666666 0.11339723333333333 0.5528977648148148 0.9592942351851852\n",
      "0.33661435 0.24397965000000002 0.33211 0.722244\n",
      "True\n",
      "False\n",
      "False\n",
      "True\n",
      "True\n",
      "obj: 3, obj: 2\n",
      "0.35957876666666666 0.11339723333333333 0.5528977648148148 0.9592942351851852\n",
      "0.1763042 2.0000000000575113e-07 0.604476 1.0\n",
      "True\n",
      "False\n",
      "False\n",
      "True\n",
      "True\n",
      "['1', '0.236488', '0.756096', '0.0378482', '0.0360261']\n",
      "['0', '0.290297', '0.527177', '0.0926347', '0.390134']\n",
      "['0', '0.0881522', '0.802238', '0.176304', '0.395524']\n",
      "Regions:  [(0, 646, 358, 1080)]\n",
      "Cropped image /mnt/c/Adrianov/Projects/trash-detector/yolo_res/images/result_162.jpg and saved result to /mnt/c/Adrianov/Projects/trash-detector/masks/imgs/result_162_0.jpg\n",
      "/mnt/c/Adrianov/Projects/trash-detector/yolo_res/label/result_163.txt\n",
      "/mnt/c/Adrianov/Projects/trash-detector/yolo_res/images/result_163.jpg\n"
     ]
    },
    {
     "name": "stderr",
     "output_type": "stream",
     "text": [
      " 14%|███▋                       | 165/1219 [00:24<02:22,  7.41it/s]"
     ]
    },
    {
     "name": "stdout",
     "output_type": "stream",
     "text": [
      "Cropped image /mnt/c/Adrianov/Projects/trash-detector/yolo_res/images/result_163.jpg and saved result to None\n",
      "/mnt/c/Adrianov/Projects/trash-detector/yolo_res/label/result_164.txt\n",
      "/mnt/c/Adrianov/Projects/trash-detector/yolo_res/images/result_164.jpg\n",
      "Cropped image /mnt/c/Adrianov/Projects/trash-detector/yolo_res/images/result_164.jpg and saved result to None\n",
      "/mnt/c/Adrianov/Projects/trash-detector/yolo_res/label/result_165.txt\n",
      "/mnt/c/Adrianov/Projects/trash-detector/yolo_res/images/result_165.jpg\n"
     ]
    },
    {
     "name": "stderr",
     "output_type": "stream",
     "text": [
      " 14%|███▋                       | 167/1219 [00:24<02:12,  7.93it/s]"
     ]
    },
    {
     "name": "stdout",
     "output_type": "stream",
     "text": [
      "Cropped image /mnt/c/Adrianov/Projects/trash-detector/yolo_res/images/result_165.jpg and saved result to None\n",
      "/mnt/c/Adrianov/Projects/trash-detector/yolo_res/label/result_166.txt\n",
      "/mnt/c/Adrianov/Projects/trash-detector/yolo_res/images/result_166.jpg\n",
      "obj: 2, obj: 0\n",
      "0.35924521666666664 0.11264878333333332 0.5595005648148148 0.9609294351851851\n",
      "0.8867035 0.6781745 0.41873800000000005 1.0\n",
      "False\n",
      "True\n",
      "False\n",
      "True\n",
      "True\n",
      "obj: 2, obj: 1\n",
      "0.35924521666666664 0.11264878333333332 0.5595005648148148 0.9609294351851851\n",
      "0.3362225 0.24243749999999997 0.32888699999999993 0.723665\n",
      "True\n",
      "False\n",
      "False\n",
      "True\n",
      "True\n",
      "obj: 2, obj: 3\n",
      "0.35924521666666664 0.11264878333333332 0.5595005648148148 0.9609294351851851\n",
      "0.1778261 9.999999998899778e-08 0.603812 1.0\n",
      "True\n",
      "False\n",
      "False\n",
      "True\n",
      "True\n",
      "['1', '0.235947', '0.760215', '0.0382631', '0.0310585']\n",
      "['0', '0.28933', '0.526276', '0.093785', '0.394778']\n",
      "['0', '0.0889131', '0.801906', '0.177826', '0.396188']\n",
      "Regions:  [(0, 645, 355, 1080)]\n",
      "Cropped image /mnt/c/Adrianov/Projects/trash-detector/yolo_res/images/result_166.jpg and saved result to /mnt/c/Adrianov/Projects/trash-detector/masks/imgs/result_166_0.jpg\n",
      "/mnt/c/Adrianov/Projects/trash-detector/yolo_res/label/result_167.txt\n",
      "/mnt/c/Adrianov/Projects/trash-detector/yolo_res/images/result_167.jpg\n"
     ]
    },
    {
     "name": "stderr",
     "output_type": "stream",
     "text": [
      " 14%|███▋                       | 169/1219 [00:24<02:31,  6.95it/s]"
     ]
    },
    {
     "name": "stdout",
     "output_type": "stream",
     "text": [
      "Cropped image /mnt/c/Adrianov/Projects/trash-detector/yolo_res/images/result_167.jpg and saved result to None\n",
      "/mnt/c/Adrianov/Projects/trash-detector/yolo_res/label/result_168.txt\n",
      "/mnt/c/Adrianov/Projects/trash-detector/yolo_res/images/result_168.jpg\n",
      "Cropped image /mnt/c/Adrianov/Projects/trash-detector/yolo_res/images/result_168.jpg and saved result to None\n",
      "/mnt/c/Adrianov/Projects/trash-detector/yolo_res/label/result_169.txt\n",
      "/mnt/c/Adrianov/Projects/trash-detector/yolo_res/images/result_169.jpg\n"
     ]
    },
    {
     "name": "stderr",
     "output_type": "stream",
     "text": [
      " 14%|███▊                       | 171/1219 [00:25<02:04,  8.45it/s]"
     ]
    },
    {
     "name": "stdout",
     "output_type": "stream",
     "text": [
      "Cropped image /mnt/c/Adrianov/Projects/trash-detector/yolo_res/images/result_169.jpg and saved result to None\n",
      "/mnt/c/Adrianov/Projects/trash-detector/yolo_res/label/result_170.txt\n",
      "/mnt/c/Adrianov/Projects/trash-detector/yolo_res/images/result_170.jpg\n",
      "obj: 2, obj: 0\n",
      "0.6590821166666667 0.4334318833333333 0.35015461481481486 0.7533193851851852\n",
      "0.4136575 0.2803325 0.27383850000000004 0.7884095\n",
      "False\n",
      "False\n",
      "True\n",
      "True\n",
      "True\n",
      "obj: 2, obj: 1\n",
      "0.6590821166666667 0.4334318833333333 0.35015461481481486 0.7533193851851852\n",
      "0.53395045 0.49158555 0.2354995 0.5599665\n",
      "True\n",
      "False\n",
      "False\n",
      "True\n",
      "True\n",
      "['1', '0.546257', '0.551737', '0.0173169', '0.0327944']\n",
      "['0', '0.512768', '0.397733', '0.0423649', '0.324467']\n",
      "Regions:  [(943, 1065, 254, 613)]\n",
      "Cropped image /mnt/c/Adrianov/Projects/trash-detector/yolo_res/images/result_170.jpg and saved result to /mnt/c/Adrianov/Projects/trash-detector/masks/imgs/result_170_0.jpg\n",
      "/mnt/c/Adrianov/Projects/trash-detector/yolo_res/label/result_171.txt\n",
      "/mnt/c/Adrianov/Projects/trash-detector/yolo_res/images/result_171.jpg\n"
     ]
    },
    {
     "name": "stderr",
     "output_type": "stream",
     "text": [
      " 14%|███▊                       | 173/1219 [00:25<02:36,  6.67it/s]"
     ]
    },
    {
     "name": "stdout",
     "output_type": "stream",
     "text": [
      "Cropped image /mnt/c/Adrianov/Projects/trash-detector/yolo_res/images/result_171.jpg and saved result to None\n",
      "/mnt/c/Adrianov/Projects/trash-detector/yolo_res/label/result_172.txt\n",
      "/mnt/c/Adrianov/Projects/trash-detector/yolo_res/images/result_172.jpg\n",
      "Cropped image /mnt/c/Adrianov/Projects/trash-detector/yolo_res/images/result_172.jpg and saved result to None\n",
      "/mnt/c/Adrianov/Projects/trash-detector/yolo_res/label/result_173.txt\n",
      "/mnt/c/Adrianov/Projects/trash-detector/yolo_res/images/result_173.jpg\n"
     ]
    },
    {
     "name": "stderr",
     "output_type": "stream",
     "text": [
      " 14%|███▊                       | 174/1219 [00:25<02:26,  7.15it/s]"
     ]
    },
    {
     "name": "stdout",
     "output_type": "stream",
     "text": [
      "Cropped image /mnt/c/Adrianov/Projects/trash-detector/yolo_res/images/result_173.jpg and saved result to None\n",
      "/mnt/c/Adrianov/Projects/trash-detector/yolo_res/label/result_174.txt\n",
      "/mnt/c/Adrianov/Projects/trash-detector/yolo_res/images/result_174.jpg\n"
     ]
    },
    {
     "name": "stderr",
     "output_type": "stream",
     "text": [
      " 14%|███▉                       | 176/1219 [00:25<02:57,  5.87it/s]"
     ]
    },
    {
     "name": "stdout",
     "output_type": "stream",
     "text": [
      "Cropped image /mnt/c/Adrianov/Projects/trash-detector/yolo_res/images/result_174.jpg and saved result to None\n",
      "/mnt/c/Adrianov/Projects/trash-detector/yolo_res/label/result_175.txt\n",
      "/mnt/c/Adrianov/Projects/trash-detector/yolo_res/images/result_175.jpg\n",
      "Cropped image /mnt/c/Adrianov/Projects/trash-detector/yolo_res/images/result_175.jpg and saved result to None\n",
      "/mnt/c/Adrianov/Projects/trash-detector/yolo_res/label/result_176.txt\n",
      "/mnt/c/Adrianov/Projects/trash-detector/yolo_res/images/result_176.jpg\n"
     ]
    },
    {
     "name": "stderr",
     "output_type": "stream",
     "text": [
      " 15%|███▉                       | 178/1219 [00:26<03:23,  5.11it/s]"
     ]
    },
    {
     "name": "stdout",
     "output_type": "stream",
     "text": [
      "Cropped image /mnt/c/Adrianov/Projects/trash-detector/yolo_res/images/result_176.jpg and saved result to None\n",
      "/mnt/c/Adrianov/Projects/trash-detector/yolo_res/label/result_177.txt\n",
      "/mnt/c/Adrianov/Projects/trash-detector/yolo_res/images/result_177.jpg\n",
      "obj: 2, obj: 0\n",
      "0.8730131666666667 0.5627748333333333 0.1900353148148148 0.6636826851851851\n",
      "0.413681 0.288375 0.27162899999999995 0.788675\n",
      "False\n",
      "False\n",
      "True\n",
      "True\n",
      "True\n",
      "obj: 2, obj: 1\n",
      "0.8730131666666667 0.5627748333333333 0.1900353148148148 0.6636826851851851\n",
      "0.5386926000000001 0.4876634 0.230887 0.566309\n",
      "False\n",
      "False\n",
      "True\n",
      "True\n",
      "True\n",
      "Cropped image /mnt/c/Adrianov/Projects/trash-detector/yolo_res/images/result_177.jpg and saved result to None\n",
      "/mnt/c/Adrianov/Projects/trash-detector/yolo_res/label/result_178.txt\n",
      "/mnt/c/Adrianov/Projects/trash-detector/yolo_res/images/result_178.jpg\n"
     ]
    },
    {
     "name": "stderr",
     "output_type": "stream",
     "text": [
      " 15%|███▉                       | 179/1219 [00:26<02:59,  5.78it/s]"
     ]
    },
    {
     "name": "stdout",
     "output_type": "stream",
     "text": [
      "obj: 2, obj: 0\n",
      "0.8736326666666666 0.5626833333333333 0.18907191481481483 0.6582420851851851\n",
      "0.4165225 0.2890815 0.274372 0.7831079999999999\n",
      "False\n",
      "False\n",
      "True\n",
      "True\n",
      "True\n",
      "obj: 2, obj: 1\n",
      "0.8736326666666666 0.5626833333333333 0.18907191481481483 0.6582420851851851\n",
      "0.5399081 0.4874819 0.23066350000000002 0.5689185\n",
      "False\n",
      "False\n",
      "True\n",
      "True\n",
      "True\n",
      "Cropped image /mnt/c/Adrianov/Projects/trash-detector/yolo_res/images/result_178.jpg and saved result to None\n",
      "/mnt/c/Adrianov/Projects/trash-detector/yolo_res/label/result_179.txt\n",
      "/mnt/c/Adrianov/Projects/trash-detector/yolo_res/images/result_179.jpg\n"
     ]
    },
    {
     "name": "stderr",
     "output_type": "stream",
     "text": [
      " 15%|████                       | 181/1219 [00:26<02:46,  6.22it/s]"
     ]
    },
    {
     "name": "stdout",
     "output_type": "stream",
     "text": [
      "Cropped image /mnt/c/Adrianov/Projects/trash-detector/yolo_res/images/result_179.jpg and saved result to None\n",
      "/mnt/c/Adrianov/Projects/trash-detector/yolo_res/label/result_180.txt\n",
      "/mnt/c/Adrianov/Projects/trash-detector/yolo_res/images/result_180.jpg\n",
      "Cropped image /mnt/c/Adrianov/Projects/trash-detector/yolo_res/images/result_180.jpg and saved result to None\n",
      "/mnt/c/Adrianov/Projects/trash-detector/yolo_res/label/result_181.txt\n",
      "/mnt/c/Adrianov/Projects/trash-detector/yolo_res/images/result_181.jpg\n",
      "obj: 2, obj: 0\n",
      "0.8824756666666667 0.5636303333333332 0.1860883148148148 0.6568576851851852\n",
      "0.417805 0.289539 0.2660825 0.7819775\n",
      "False\n",
      "False\n",
      "True\n",
      "True\n",
      "True\n",
      "obj: 2, obj: 1\n",
      "0.8824756666666667 0.5636303333333332 0.1860883148148148 0.6568576851851852\n",
      "0.5409453500000001 0.49028465000000004 0.230576 0.576252\n",
      "False\n",
      "False\n",
      "True\n",
      "True\n",
      "True\n",
      "obj: 3, obj: 0\n",
      "0.8468786666666668 0.5661773333333333 0.18785951481481483 0.6546664851851851\n",
      "0.417805 0.289539 0.2660825 0.7819775\n",
      "False\n",
      "False\n",
      "True\n",
      "True\n",
      "True\n",
      "obj: 3, obj: 1\n",
      "0.8468786666666668 0.5661773333333333 0.18785951481481483 0.6546664851851851\n",
      "0.5409453500000001 0.49028465000000004 0.230576 0.576252\n",
      "False\n",
      "False\n",
      "True\n",
      "True\n",
      "True\n"
     ]
    },
    {
     "name": "stderr",
     "output_type": "stream",
     "text": [
      " 15%|████                       | 183/1219 [00:27<02:17,  7.53it/s]"
     ]
    },
    {
     "name": "stdout",
     "output_type": "stream",
     "text": [
      "Cropped image /mnt/c/Adrianov/Projects/trash-detector/yolo_res/images/result_181.jpg and saved result to None\n",
      "/mnt/c/Adrianov/Projects/trash-detector/yolo_res/label/result_182.txt\n",
      "/mnt/c/Adrianov/Projects/trash-detector/yolo_res/images/result_182.jpg\n",
      "Cropped image /mnt/c/Adrianov/Projects/trash-detector/yolo_res/images/result_182.jpg and saved result to None\n",
      "/mnt/c/Adrianov/Projects/trash-detector/yolo_res/label/result_183.txt\n",
      "/mnt/c/Adrianov/Projects/trash-detector/yolo_res/images/result_183.jpg\n"
     ]
    },
    {
     "name": "stderr",
     "output_type": "stream",
     "text": [
      " 15%|████                       | 185/1219 [00:27<02:11,  7.89it/s]"
     ]
    },
    {
     "name": "stdout",
     "output_type": "stream",
     "text": [
      "Cropped image /mnt/c/Adrianov/Projects/trash-detector/yolo_res/images/result_183.jpg and saved result to None\n",
      "/mnt/c/Adrianov/Projects/trash-detector/yolo_res/label/result_184.txt\n",
      "/mnt/c/Adrianov/Projects/trash-detector/yolo_res/images/result_184.jpg\n",
      "obj: 2, obj: 0\n",
      "0.8842611666666667 0.5623808333333333 0.1864773148148148 0.6529706851851852\n",
      "0.4196045 0.2916475 0.27340400000000004 0.7787120000000001\n",
      "False\n",
      "False\n",
      "True\n",
      "True\n",
      "True\n",
      "obj: 2, obj: 1\n",
      "0.8842611666666667 0.5623808333333333 0.1864773148148148 0.6529706851851852\n",
      "0.5406157500000001 0.49046025000000004 0.231444 0.57159\n",
      "False\n",
      "False\n",
      "True\n",
      "True\n",
      "True\n",
      "Cropped image /mnt/c/Adrianov/Projects/trash-detector/yolo_res/images/result_184.jpg and saved result to None\n",
      "/mnt/c/Adrianov/Projects/trash-detector/yolo_res/label/result_185.txt\n",
      "/mnt/c/Adrianov/Projects/trash-detector/yolo_res/images/result_185.jpg\n"
     ]
    },
    {
     "name": "stderr",
     "output_type": "stream",
     "text": [
      " 15%|████                       | 186/1219 [00:29<11:04,  1.55it/s]"
     ]
    },
    {
     "name": "stdout",
     "output_type": "stream",
     "text": [
      "obj: 2, obj: 0\n",
      "0.8675028166666666 0.5647511833333333 0.1855723648148148 0.6515196351851852\n",
      "0.418831 0.293349 0.2654540000000001 0.776672\n",
      "False\n",
      "False\n",
      "True\n",
      "True\n",
      "True\n",
      "obj: 2, obj: 1\n",
      "0.8675028166666666 0.5647511833333333 0.1855723648148148 0.6515196351851852\n",
      "0.5402631999999999 0.49110079999999995 0.22917749999999998 0.5684145\n",
      "False\n",
      "False\n",
      "True\n",
      "True\n",
      "True\n",
      "obj: 3, obj: 0\n",
      "0.8434585666666666 0.5683354333333334 0.19047441481481486 0.6519375851851852\n",
      "0.418831 0.293349 0.2654540000000001 0.776672\n",
      "False\n",
      "False\n",
      "True\n",
      "True\n",
      "True\n",
      "obj: 3, obj: 1\n",
      "0.8434585666666666 0.5683354333333334 0.19047441481481486 0.6519375851851852\n",
      "0.5402631999999999 0.49110079999999995 0.22917749999999998 0.5684145\n",
      "False\n",
      "False\n",
      "True\n",
      "True\n",
      "True\n",
      "Cropped image /mnt/c/Adrianov/Projects/trash-detector/yolo_res/images/result_185.jpg and saved result to None\n",
      "/mnt/c/Adrianov/Projects/trash-detector/yolo_res/label/result_186.txt\n",
      "/mnt/c/Adrianov/Projects/trash-detector/yolo_res/images/result_186.jpg\n"
     ]
    },
    {
     "name": "stderr",
     "output_type": "stream",
     "text": [
      " 15%|████▏                      | 187/1219 [00:29<08:24,  2.05it/s]"
     ]
    },
    {
     "name": "stdout",
     "output_type": "stream",
     "text": [
      "obj: 3, obj: 0\n",
      "0.5889987666666666 0.3628592333333333 0.44186626481481484 0.8432857351851852\n",
      "0.59766405 0.54084195 0.4089825 0.7005975\n",
      "True\n",
      "False\n",
      "False\n",
      "True\n",
      "True\n",
      "obj: 3, obj: 1\n",
      "0.5889987666666666 0.3628592333333333 0.44186626481481484 0.8432857351851852\n",
      "0.3612957 0.2837923 0.4571255000000001 0.7475125\n",
      "False\n",
      "False\n",
      "True\n",
      "True\n",
      "True\n",
      "obj: 3, obj: 2\n",
      "0.5889987666666666 0.3628592333333333 0.44186626481481484 0.8432857351851852\n",
      "0.2971206 0.2370054 0.4570555 0.5795065\n",
      "False\n",
      "False\n",
      "True\n",
      "True\n",
      "True\n",
      "['1', '0.475929', '0.642576', '0.0178062', '0.0310491']\n",
      "['0', '0.569253', '0.55479', '0.0568221', '0.291615']\n",
      "Regions:  [(896, 1147, 441, 756)]\n",
      "Cropped image /mnt/c/Adrianov/Projects/trash-detector/yolo_res/images/result_186.jpg and saved result to /mnt/c/Adrianov/Projects/trash-detector/masks/imgs/result_186_0.jpg\n",
      "/mnt/c/Adrianov/Projects/trash-detector/yolo_res/label/result_187.txt\n",
      "/mnt/c/Adrianov/Projects/trash-detector/yolo_res/images/result_187.jpg\n"
     ]
    },
    {
     "name": "stderr",
     "output_type": "stream",
     "text": [
      " 16%|████▏                      | 189/1219 [00:29<05:56,  2.89it/s]"
     ]
    },
    {
     "name": "stdout",
     "output_type": "stream",
     "text": [
      "Cropped image /mnt/c/Adrianov/Projects/trash-detector/yolo_res/images/result_187.jpg and saved result to None\n",
      "/mnt/c/Adrianov/Projects/trash-detector/yolo_res/label/result_188.txt\n",
      "/mnt/c/Adrianov/Projects/trash-detector/yolo_res/images/result_188.jpg\n",
      "Cropped image /mnt/c/Adrianov/Projects/trash-detector/yolo_res/images/result_188.jpg and saved result to None\n",
      "/mnt/c/Adrianov/Projects/trash-detector/yolo_res/label/result_189.txt\n",
      "/mnt/c/Adrianov/Projects/trash-detector/yolo_res/images/result_189.jpg\n"
     ]
    },
    {
     "name": "stderr",
     "output_type": "stream",
     "text": [
      " 16%|████▏                      | 191/1219 [00:30<04:08,  4.13it/s]"
     ]
    },
    {
     "name": "stdout",
     "output_type": "stream",
     "text": [
      "Cropped image /mnt/c/Adrianov/Projects/trash-detector/yolo_res/images/result_189.jpg and saved result to None\n",
      "/mnt/c/Adrianov/Projects/trash-detector/yolo_res/label/result_190.txt\n",
      "/mnt/c/Adrianov/Projects/trash-detector/yolo_res/images/result_190.jpg\n",
      "obj: 2, obj: 0\n",
      "0.8720444666666667 0.5649375333333333 0.18334416481481483 0.6506038351851852\n",
      "0.41861000000000004 0.29535 0.26740500000000006 0.774651\n",
      "False\n",
      "False\n",
      "True\n",
      "True\n",
      "True\n",
      "obj: 2, obj: 1\n",
      "0.8720444666666667 0.5649375333333333 0.18334416481481483 0.6506038351851852\n",
      "0.5411232500000001 0.49034675000000005 0.2293395 0.5698985\n",
      "False\n",
      "False\n",
      "True\n",
      "True\n",
      "True\n",
      "Cropped image /mnt/c/Adrianov/Projects/trash-detector/yolo_res/images/result_190.jpg and saved result to None\n",
      "/mnt/c/Adrianov/Projects/trash-detector/yolo_res/label/result_191.txt\n",
      "/mnt/c/Adrianov/Projects/trash-detector/yolo_res/images/result_191.jpg\n",
      "obj: 2, obj: 0\n",
      "0.8608200666666667 0.5664299333333332 0.18534221481481483 0.6509257851851852\n",
      "0.418564 0.296908 0.263561 0.775277\n",
      "False\n",
      "False\n",
      "True\n",
      "True\n",
      "True\n",
      "obj: 2, obj: 1\n",
      "0.8608200666666667 0.5664299333333332 0.18534221481481483 0.6509257851851852\n",
      "0.5369606 0.49238540000000003 0.2293395 0.5635585\n",
      "False\n",
      "False\n",
      "True\n",
      "True\n",
      "True\n"
     ]
    },
    {
     "name": "stderr",
     "output_type": "stream",
     "text": [
      " 16%|████▎                      | 193/1219 [00:30<03:25,  5.00it/s]"
     ]
    },
    {
     "name": "stdout",
     "output_type": "stream",
     "text": [
      "Cropped image /mnt/c/Adrianov/Projects/trash-detector/yolo_res/images/result_191.jpg and saved result to None\n",
      "/mnt/c/Adrianov/Projects/trash-detector/yolo_res/label/result_192.txt\n",
      "/mnt/c/Adrianov/Projects/trash-detector/yolo_res/images/result_192.jpg\n",
      "Cropped image /mnt/c/Adrianov/Projects/trash-detector/yolo_res/images/result_192.jpg and saved result to None\n",
      "/mnt/c/Adrianov/Projects/trash-detector/yolo_res/label/result_193.txt\n",
      "/mnt/c/Adrianov/Projects/trash-detector/yolo_res/images/result_193.jpg\n"
     ]
    },
    {
     "name": "stderr",
     "output_type": "stream",
     "text": [
      " 16%|████▎                      | 194/1219 [00:30<03:20,  5.12it/s]"
     ]
    },
    {
     "name": "stdout",
     "output_type": "stream",
     "text": [
      "Cropped image /mnt/c/Adrianov/Projects/trash-detector/yolo_res/images/result_193.jpg and saved result to None\n",
      "/mnt/c/Adrianov/Projects/trash-detector/yolo_res/label/result_194.txt\n",
      "/mnt/c/Adrianov/Projects/trash-detector/yolo_res/images/result_194.jpg\n"
     ]
    },
    {
     "name": "stderr",
     "output_type": "stream",
     "text": [
      " 16%|████▎                      | 195/1219 [00:30<03:47,  4.50it/s]"
     ]
    },
    {
     "name": "stdout",
     "output_type": "stream",
     "text": [
      "Cropped image /mnt/c/Adrianov/Projects/trash-detector/yolo_res/images/result_194.jpg and saved result to None\n",
      "/mnt/c/Adrianov/Projects/trash-detector/yolo_res/label/result_195.txt\n",
      "/mnt/c/Adrianov/Projects/trash-detector/yolo_res/images/result_195.jpg\n"
     ]
    },
    {
     "name": "stderr",
     "output_type": "stream",
     "text": [
      " 16%|████▎                      | 196/1219 [00:30<03:46,  4.53it/s]"
     ]
    },
    {
     "name": "stdout",
     "output_type": "stream",
     "text": [
      "Cropped image /mnt/c/Adrianov/Projects/trash-detector/yolo_res/images/result_195.jpg and saved result to None\n",
      "/mnt/c/Adrianov/Projects/trash-detector/yolo_res/label/result_196.txt\n",
      "/mnt/c/Adrianov/Projects/trash-detector/yolo_res/images/result_196.jpg\n"
     ]
    },
    {
     "name": "stderr",
     "output_type": "stream",
     "text": [
      " 16%|████▎                      | 197/1219 [00:31<04:02,  4.21it/s]"
     ]
    },
    {
     "name": "stdout",
     "output_type": "stream",
     "text": [
      "Cropped image /mnt/c/Adrianov/Projects/trash-detector/yolo_res/images/result_196.jpg and saved result to None\n",
      "/mnt/c/Adrianov/Projects/trash-detector/yolo_res/label/result_197.txt\n",
      "/mnt/c/Adrianov/Projects/trash-detector/yolo_res/images/result_197.jpg\n",
      "obj: 2, obj: 0\n",
      "0.8637041166666667 0.5668338833333334 0.1833675648148148 0.6509424351851851\n",
      "0.4197835 0.2974745 0.26990449999999994 0.7731334999999999\n",
      "False\n",
      "False\n",
      "True\n",
      "True\n",
      "True\n",
      "obj: 2, obj: 1\n",
      "0.8637041166666667 0.5668338833333334 0.1833675648148148 0.6509424351851851\n",
      "0.5375734 0.4920566 0.22412800000000002 0.560668\n",
      "False\n",
      "False\n",
      "True\n",
      "True\n",
      "True\n",
      "obj: 3, obj: 0\n",
      "0.8393780166666667 0.5790899833333334 0.24941721481481485 0.6522667851851852\n",
      "0.4197835 0.2974745 0.26990449999999994 0.7731334999999999\n",
      "False\n",
      "False\n",
      "True\n",
      "True\n",
      "True\n",
      "obj: 3, obj: 1\n",
      "0.8393780166666667 0.5790899833333334 0.24941721481481485 0.6522667851851852\n",
      "0.5375734 0.4920566 0.22412800000000002 0.560668\n",
      "False\n",
      "False\n",
      "True\n",
      "True\n",
      "True\n",
      "obj: 4, obj: 0\n",
      "0.6482204666666667 0.4178175333333334 0.38052221481481474 0.7750217851851852\n",
      "0.4197835 0.2974745 0.26990449999999994 0.7731334999999999\n",
      "True\n",
      "False\n",
      "False\n",
      "True\n",
      "True\n",
      "obj: 4, obj: 1\n",
      "0.6482204666666667 0.4178175333333334 0.38052221481481474 0.7750217851851852\n",
      "0.5375734 0.4920566 0.22412800000000002 0.560668\n",
      "True\n",
      "False\n",
      "False\n",
      "True\n",
      "True\n"
     ]
    },
    {
     "name": "stderr",
     "output_type": "stream",
     "text": [
      " 16%|████▍                      | 198/1219 [00:31<04:08,  4.10it/s]"
     ]
    },
    {
     "name": "stdout",
     "output_type": "stream",
     "text": [
      "['1', '0.533019', '0.577772', '0.0220696', '0.0241292']\n",
      "['0', '0.358629', '0.521519', '0.122309', '0.503229']\n",
      "['0', '0.514815', '0.392398', '0.0455168', '0.33654']\n",
      "Regions:  [(571, 1044, 242, 834)]\n",
      "Cropped image /mnt/c/Adrianov/Projects/trash-detector/yolo_res/images/result_197.jpg and saved result to /mnt/c/Adrianov/Projects/trash-detector/masks/imgs/result_197_0.jpg\n",
      "/mnt/c/Adrianov/Projects/trash-detector/yolo_res/label/result_198.txt\n",
      "/mnt/c/Adrianov/Projects/trash-detector/yolo_res/images/result_198.jpg\n"
     ]
    },
    {
     "name": "stderr",
     "output_type": "stream",
     "text": [
      " 16%|████▍                      | 200/1219 [00:31<03:16,  5.20it/s]"
     ]
    },
    {
     "name": "stdout",
     "output_type": "stream",
     "text": [
      "Cropped image /mnt/c/Adrianov/Projects/trash-detector/yolo_res/images/result_198.jpg and saved result to None\n",
      "/mnt/c/Adrianov/Projects/trash-detector/yolo_res/label/result_199.txt\n",
      "/mnt/c/Adrianov/Projects/trash-detector/yolo_res/images/result_199.jpg\n",
      "Cropped image /mnt/c/Adrianov/Projects/trash-detector/yolo_res/images/result_199.jpg and saved result to None\n",
      "/mnt/c/Adrianov/Projects/trash-detector/yolo_res/label/result_200.txt\n",
      "/mnt/c/Adrianov/Projects/trash-detector/yolo_res/images/result_200.jpg\n",
      "obj: 2, obj: 0\n",
      "0.8593665666666667 0.5670434333333333 0.18403731481481483 0.6497086851851852\n",
      "0.4205175 0.2999005 0.270609 0.773105\n",
      "False\n",
      "False\n",
      "True\n",
      "True\n",
      "True\n",
      "obj: 2, obj: 1\n",
      "0.8593665666666667 0.5670434333333333 0.18403731481481483 0.6497086851851852\n",
      "0.53743065 0.49246935000000003 0.2261055 0.5539665\n",
      "False\n",
      "False\n",
      "True\n",
      "True\n",
      "True\n",
      "obj: 3, obj: 0\n",
      "0.8871826666666667 0.5665353333333334 0.18125281481481484 0.6538031851851852\n",
      "0.4205175 0.2999005 0.270609 0.773105\n",
      "False\n",
      "False\n",
      "True\n",
      "True\n",
      "True\n",
      "obj: 3, obj: 1\n",
      "0.8871826666666667 0.5665353333333334 0.18125281481481484 0.6538031851851852\n",
      "0.53743065 0.49246935000000003 0.2261055 0.5539665\n",
      "False\n",
      "False\n",
      "True\n",
      "True\n",
      "True\n",
      "obj: 4, obj: 0\n",
      "0.6483993166666667 0.41717468333333335 0.3810415648148149 0.7746244351851852\n",
      "0.4205175 0.2999005 0.270609 0.773105\n",
      "True\n",
      "False\n",
      "False\n",
      "True\n",
      "True\n",
      "obj: 4, obj: 1\n",
      "0.6483993166666667 0.41717468333333335 0.3810415648148149 0.7746244351851852\n",
      "0.53743065 0.49246935000000003 0.2261055 0.5539665\n",
      "True\n",
      "False\n",
      "False\n",
      "True\n",
      "True\n",
      "obj: 5, obj: 0\n",
      "0.8379927166666666 0.5767412833333333 0.24660831481481482 0.6506956851851852\n",
      "0.4205175 0.2999005 0.270609 0.773105\n",
      "False\n",
      "False\n",
      "True\n",
      "True\n",
      "True\n",
      "obj: 5, obj: 1\n",
      "0.8379927166666666 0.5767412833333333 0.24660831481481482 0.6506956851851852\n",
      "0.53743065 0.49246935000000003 0.2261055 0.5539665\n",
      "False\n",
      "False\n",
      "True\n",
      "True\n",
      "True\n"
     ]
    },
    {
     "name": "stderr",
     "output_type": "stream",
     "text": [
      " 16%|████▍                      | 201/1219 [00:31<02:59,  5.68it/s]"
     ]
    },
    {
     "name": "stdout",
     "output_type": "stream",
     "text": [
      "['1', '0.532787', '0.577833', '0.0228913', '0.0232125']\n",
      "['0', '0.360209', '0.521857', '0.120617', '0.502496']\n",
      "['0', '0.51495', '0.390036', '0.0449613', '0.327861']\n",
      "Regions:  [(575, 1044, 244, 834)]\n",
      "Cropped image /mnt/c/Adrianov/Projects/trash-detector/yolo_res/images/result_200.jpg and saved result to /mnt/c/Adrianov/Projects/trash-detector/masks/imgs/result_200_0.jpg\n",
      "/mnt/c/Adrianov/Projects/trash-detector/yolo_res/label/result_201.txt\n",
      "/mnt/c/Adrianov/Projects/trash-detector/yolo_res/images/result_201.jpg\n"
     ]
    },
    {
     "name": "stderr",
     "output_type": "stream",
     "text": [
      " 17%|████▍                      | 202/1219 [00:32<03:14,  5.23it/s]"
     ]
    },
    {
     "name": "stdout",
     "output_type": "stream",
     "text": [
      "Cropped image /mnt/c/Adrianov/Projects/trash-detector/yolo_res/images/result_201.jpg and saved result to None\n",
      "/mnt/c/Adrianov/Projects/trash-detector/yolo_res/label/result_202.txt\n",
      "/mnt/c/Adrianov/Projects/trash-detector/yolo_res/images/result_202.jpg\n",
      "obj: 2, obj: 0\n",
      "0.8586807666666667 0.5673732333333332 0.18440851481481482 0.6476034851851852\n",
      "0.4204545 0.30033550000000003 0.27289650000000004 0.7743175\n",
      "False\n",
      "False\n",
      "True\n",
      "True\n",
      "True\n",
      "obj: 2, obj: 1\n",
      "0.8586807666666667 0.5673732333333332 0.18440851481481482 0.6476034851851852\n",
      "0.5387449999999999 0.49130499999999994 0.22442 0.5539160000000001\n",
      "False\n",
      "False\n",
      "True\n",
      "True\n",
      "True\n",
      "obj: 3, obj: 0\n",
      "0.8868021666666668 0.5665698333333333 0.18073131481481486 0.6531746851851852\n",
      "0.4204545 0.30033550000000003 0.27289650000000004 0.7743175\n",
      "False\n",
      "False\n",
      "True\n",
      "True\n",
      "True\n",
      "obj: 3, obj: 1\n",
      "0.8868021666666668 0.5665698333333333 0.18073131481481486 0.6531746851851852\n",
      "0.5387449999999999 0.49130499999999994 0.22442 0.5539160000000001\n",
      "False\n",
      "False\n",
      "True\n",
      "True\n",
      "True\n",
      "obj: 4, obj: 0\n",
      "0.8411290666666666 0.5727569333333333 0.22514256481481482 0.6488154351851851\n",
      "0.4204545 0.30033550000000003 0.27289650000000004 0.7743175\n",
      "False\n",
      "False\n",
      "True\n",
      "True\n",
      "True\n",
      "obj: 4, obj: 1\n",
      "0.8411290666666666 0.5727569333333333 0.22514256481481482 0.6488154351851851\n",
      "0.5387449999999999 0.49130499999999994 0.22442 0.5539160000000001\n",
      "False\n",
      "False\n",
      "True\n",
      "True\n",
      "True\n"
     ]
    },
    {
     "name": "stderr",
     "output_type": "stream",
     "text": [
      " 17%|████▍                      | 203/1219 [00:32<03:22,  5.01it/s]"
     ]
    },
    {
     "name": "stdout",
     "output_type": "stream",
     "text": [
      "Cropped image /mnt/c/Adrianov/Projects/trash-detector/yolo_res/images/result_202.jpg and saved result to None\n",
      "/mnt/c/Adrianov/Projects/trash-detector/yolo_res/label/result_203.txt\n",
      "/mnt/c/Adrianov/Projects/trash-detector/yolo_res/images/result_203.jpg\n",
      "obj: 2, obj: 0\n",
      "0.8562317666666667 0.5670542333333334 0.18329576481481483 0.6474702351851852\n",
      "0.4223325 0.2996255 0.2754915 0.7672924999999999\n",
      "False\n",
      "False\n",
      "True\n",
      "True\n",
      "True\n",
      "obj: 2, obj: 1\n",
      "0.8562317666666667 0.5670542333333334 0.18329576481481483 0.6474702351851852\n",
      "0.5405002999999999 0.49186769999999996 0.2242915 0.5497785000000001\n",
      "False\n",
      "False\n",
      "True\n",
      "True\n",
      "True\n",
      "obj: 3, obj: 0\n",
      "0.8406814666666667 0.5725345333333334 0.2308786148148148 0.6481353851851852\n",
      "0.4223325 0.2996255 0.2754915 0.7672924999999999\n",
      "False\n",
      "False\n",
      "True\n",
      "True\n",
      "True\n",
      "obj: 3, obj: 1\n",
      "0.8406814666666667 0.5725345333333334 0.2308786148148148 0.6481353851851852\n",
      "0.5405002999999999 0.49186769999999996 0.2242915 0.5497785000000001\n",
      "False\n",
      "False\n",
      "True\n",
      "True\n",
      "True\n"
     ]
    },
    {
     "name": "stderr",
     "output_type": "stream",
     "text": [
      " 17%|████▌                      | 204/1219 [00:32<03:27,  4.88it/s]"
     ]
    },
    {
     "name": "stdout",
     "output_type": "stream",
     "text": [
      "Cropped image /mnt/c/Adrianov/Projects/trash-detector/yolo_res/images/result_203.jpg and saved result to None\n",
      "/mnt/c/Adrianov/Projects/trash-detector/yolo_res/label/result_204.txt\n",
      "/mnt/c/Adrianov/Projects/trash-detector/yolo_res/images/result_204.jpg\n"
     ]
    },
    {
     "name": "stderr",
     "output_type": "stream",
     "text": [
      " 17%|████▌                      | 205/1219 [00:32<04:02,  4.18it/s]"
     ]
    },
    {
     "name": "stdout",
     "output_type": "stream",
     "text": [
      "Cropped image /mnt/c/Adrianov/Projects/trash-detector/yolo_res/images/result_204.jpg and saved result to None\n",
      "/mnt/c/Adrianov/Projects/trash-detector/yolo_res/label/result_205.txt\n",
      "/mnt/c/Adrianov/Projects/trash-detector/yolo_res/images/result_205.jpg\n"
     ]
    },
    {
     "name": "stderr",
     "output_type": "stream",
     "text": [
      " 17%|████▌                      | 206/1219 [00:33<04:45,  3.54it/s]"
     ]
    },
    {
     "name": "stdout",
     "output_type": "stream",
     "text": [
      "Cropped image /mnt/c/Adrianov/Projects/trash-detector/yolo_res/images/result_205.jpg and saved result to None\n",
      "/mnt/c/Adrianov/Projects/trash-detector/yolo_res/label/result_206.txt\n",
      "/mnt/c/Adrianov/Projects/trash-detector/yolo_res/images/result_206.jpg\n"
     ]
    },
    {
     "name": "stderr",
     "output_type": "stream",
     "text": [
      " 17%|████▌                      | 207/1219 [00:33<04:35,  3.67it/s]"
     ]
    },
    {
     "name": "stdout",
     "output_type": "stream",
     "text": [
      "Cropped image /mnt/c/Adrianov/Projects/trash-detector/yolo_res/images/result_206.jpg and saved result to None\n",
      "/mnt/c/Adrianov/Projects/trash-detector/yolo_res/label/result_207.txt\n",
      "/mnt/c/Adrianov/Projects/trash-detector/yolo_res/images/result_207.jpg\n",
      "obj: 2, obj: 0\n",
      "0.8573197666666666 0.5672542333333334 0.18248781481481485 0.6480321851851851\n",
      "0.424633 0.299479 0.274355 0.767443\n",
      "False\n",
      "False\n",
      "True\n",
      "True\n",
      "True\n",
      "obj: 2, obj: 1\n",
      "0.8573197666666666 0.5672542333333334 0.18248781481481485 0.6480321851851851\n",
      "0.5400369 0.49189510000000003 0.22580199999999997 0.554752\n",
      "False\n",
      "False\n",
      "True\n",
      "True\n",
      "True\n",
      "obj: 3, obj: 0\n",
      "0.8844701666666668 0.5665458333333333 0.1798193148148148 0.6538066851851851\n",
      "0.424633 0.299479 0.274355 0.767443\n",
      "False\n",
      "False\n",
      "True\n",
      "True\n",
      "True\n",
      "obj: 3, obj: 1\n",
      "0.8844701666666668 0.5665458333333333 0.1798193148148148 0.6538066851851851\n",
      "0.5400369 0.49189510000000003 0.22580199999999997 0.554752\n",
      "False\n",
      "False\n",
      "True\n",
      "True\n",
      "True\n",
      "obj: 4, obj: 0\n",
      "0.8398652666666667 0.5723087333333333 0.2242997148148148 0.6480962851851851\n",
      "0.424633 0.299479 0.274355 0.767443\n",
      "False\n",
      "False\n",
      "True\n",
      "True\n",
      "True\n",
      "obj: 4, obj: 1\n",
      "0.8398652666666667 0.5723087333333333 0.2242997148148148 0.6480962851851851\n",
      "0.5400369 0.49189510000000003 0.22580199999999997 0.554752\n",
      "False\n",
      "False\n",
      "True\n",
      "True\n",
      "True\n"
     ]
    },
    {
     "name": "stderr",
     "output_type": "stream",
     "text": [
      " 17%|████▌                      | 208/1219 [00:33<04:43,  3.56it/s]"
     ]
    },
    {
     "name": "stdout",
     "output_type": "stream",
     "text": [
      "Cropped image /mnt/c/Adrianov/Projects/trash-detector/yolo_res/images/result_207.jpg and saved result to None\n",
      "/mnt/c/Adrianov/Projects/trash-detector/yolo_res/label/result_208.txt\n",
      "/mnt/c/Adrianov/Projects/trash-detector/yolo_res/images/result_208.jpg\n"
     ]
    },
    {
     "name": "stderr",
     "output_type": "stream",
     "text": [
      " 17%|████▋                      | 210/1219 [00:34<04:08,  4.07it/s]"
     ]
    },
    {
     "name": "stdout",
     "output_type": "stream",
     "text": [
      "Cropped image /mnt/c/Adrianov/Projects/trash-detector/yolo_res/images/result_208.jpg and saved result to None\n",
      "/mnt/c/Adrianov/Projects/trash-detector/yolo_res/label/result_209.txt\n",
      "/mnt/c/Adrianov/Projects/trash-detector/yolo_res/images/result_209.jpg\n",
      "obj: 2, obj: 0\n",
      "0.6493832166666667 0.41857078333333336 0.38179156481481485 0.7743824351851851\n",
      "0.42531850000000004 0.2990895 0.2751735 0.7705565000000001\n",
      "True\n",
      "False\n",
      "False\n",
      "True\n",
      "True\n",
      "obj: 2, obj: 1\n",
      "0.6493832166666667 0.41857078333333336 0.38179156481481485 0.7743824351851851\n",
      "0.53644565 0.49322435000000003 0.223099 0.5528770000000001\n",
      "True\n",
      "False\n",
      "False\n",
      "True\n",
      "True\n",
      "obj: 3, obj: 0\n",
      "0.8684717166666667 0.5660522833333332 0.18204501481481483 0.6503689851851852\n",
      "0.42531850000000004 0.2990895 0.2751735 0.7705565000000001\n",
      "False\n",
      "False\n",
      "True\n",
      "True\n",
      "True\n",
      "obj: 3, obj: 1\n",
      "0.8684717166666667 0.5660522833333332 0.18204501481481483 0.6503689851851852\n",
      "0.53644565 0.49322435000000003 0.223099 0.5528770000000001\n",
      "False\n",
      "False\n",
      "True\n",
      "True\n",
      "True\n",
      "['1', '0.533977', '0.578087', '0.0224791', '0.0222205']\n",
      "['0', '0.362204', '0.522865', '0.126229', '0.495383']\n",
      "['0', '0.514835', '0.387988', '0.0432213', '0.329778']\n",
      "Regions:  [(574, 1046, 240, 832)]\n",
      "Cropped image /mnt/c/Adrianov/Projects/trash-detector/yolo_res/images/result_209.jpg and saved result to /mnt/c/Adrianov/Projects/trash-detector/masks/imgs/result_209_0.jpg\n",
      "/mnt/c/Adrianov/Projects/trash-detector/yolo_res/label/result_210.txt\n",
      "/mnt/c/Adrianov/Projects/trash-detector/yolo_res/images/result_210.jpg\n"
     ]
    },
    {
     "name": "stderr",
     "output_type": "stream",
     "text": [
      " 17%|████▋                      | 211/1219 [00:34<04:21,  3.85it/s]"
     ]
    },
    {
     "name": "stdout",
     "output_type": "stream",
     "text": [
      "Cropped image /mnt/c/Adrianov/Projects/trash-detector/yolo_res/images/result_210.jpg and saved result to None\n",
      "/mnt/c/Adrianov/Projects/trash-detector/yolo_res/label/result_211.txt\n",
      "/mnt/c/Adrianov/Projects/trash-detector/yolo_res/images/result_211.jpg\n",
      "obj: 2, obj: 0\n",
      "0.6501668166666668 0.41865918333333335 0.3819582648148148 0.7742757351851852\n",
      "0.424851 0.300493 0.26966900000000005 0.766023\n",
      "True\n",
      "False\n",
      "False\n",
      "True\n",
      "True\n",
      "obj: 2, obj: 1\n",
      "0.6501668166666668 0.41865918333333335 0.3819582648148148 0.7742757351851852\n",
      "0.53694425 0.49436775 0.2237575 0.5528405000000001\n",
      "True\n",
      "False\n",
      "False\n",
      "True\n",
      "True\n"
     ]
    },
    {
     "name": "stderr",
     "output_type": "stream",
     "text": [
      " 17%|████▋                      | 212/1219 [00:34<04:58,  3.37it/s]"
     ]
    },
    {
     "name": "stdout",
     "output_type": "stream",
     "text": [
      "['1', '0.534413', '0.578117', '0.0231743', '0.0219471']\n",
      "['0', '0.362672', '0.517846', '0.124358', '0.496354']\n",
      "['0', '0.515656', '0.388299', '0.0425765', '0.329083']\n",
      "Regions:  [(576, 1048, 241, 827)]\n",
      "Cropped image /mnt/c/Adrianov/Projects/trash-detector/yolo_res/images/result_211.jpg and saved result to /mnt/c/Adrianov/Projects/trash-detector/masks/imgs/result_211_0.jpg\n",
      "/mnt/c/Adrianov/Projects/trash-detector/yolo_res/label/result_212.txt\n",
      "/mnt/c/Adrianov/Projects/trash-detector/yolo_res/images/result_212.jpg\n"
     ]
    },
    {
     "name": "stderr",
     "output_type": "stream",
     "text": [
      " 18%|████▋                      | 214/1219 [00:35<04:08,  4.05it/s]"
     ]
    },
    {
     "name": "stdout",
     "output_type": "stream",
     "text": [
      "Cropped image /mnt/c/Adrianov/Projects/trash-detector/yolo_res/images/result_212.jpg and saved result to None\n",
      "/mnt/c/Adrianov/Projects/trash-detector/yolo_res/label/result_213.txt\n",
      "/mnt/c/Adrianov/Projects/trash-detector/yolo_res/images/result_213.jpg\n",
      "Cropped image /mnt/c/Adrianov/Projects/trash-detector/yolo_res/images/result_213.jpg and saved result to None\n",
      "/mnt/c/Adrianov/Projects/trash-detector/yolo_res/label/result_214.txt\n",
      "/mnt/c/Adrianov/Projects/trash-detector/yolo_res/images/result_214.jpg\n",
      "obj: 2, obj: 0\n",
      "0.40932556666666664 0.16410043333333332 0.6355483648148148 1.0541216351851852\n",
      "0.423702 0.30601 0.26954999999999996 0.7704759999999999\n",
      "True\n",
      "False\n",
      "False\n",
      "True\n",
      "True\n",
      "obj: 2, obj: 1\n",
      "0.40932556666666664 0.16410043333333332 0.6355483648148148 1.0541216351851852\n",
      "0.5359386 0.4939214 0.2336565 0.5532535000000001\n",
      "False\n",
      "True\n",
      "False\n",
      "False\n",
      "True\n",
      "obj: 3, obj: 0\n",
      "0.6486803166666667 0.41841368333333334 0.3816292148148148 0.7743107851851851\n",
      "0.423702 0.30601 0.26954999999999996 0.7704759999999999\n",
      "True\n",
      "False\n",
      "False\n",
      "True\n",
      "True\n",
      "obj: 3, obj: 1\n",
      "0.6486803166666667 0.41841368333333334 0.3816292148148148 0.7743107851851851\n",
      "0.5359386 0.4939214 0.2336565 0.5532535000000001\n",
      "True\n",
      "False\n",
      "False\n",
      "True\n",
      "True\n"
     ]
    },
    {
     "name": "stderr",
     "output_type": "stream",
     "text": [
      " 18%|████▊                      | 215/1219 [00:35<04:06,  4.08it/s]"
     ]
    },
    {
     "name": "stdout",
     "output_type": "stream",
     "text": [
      "['1', '0.286713', '0.844835', '0.0368918', '0.0482029']\n",
      "['0', '0.364856', '0.520013', '0.117692', '0.500926']\n",
      "Regions:  [(515, 813, 291, 938)]\n",
      "['1', '0.533547', '0.57797', '0.0219333', '0.0223112']\n",
      "['0', '0.364856', '0.520013', '0.117692', '0.500926']\n",
      "['0', '0.51493', '0.393455', '0.0420172', '0.319597']\n",
      "Regions:  [(515, 813, 291, 938), (587, 1045, 252, 832)]\n",
      "Cropped image /mnt/c/Adrianov/Projects/trash-detector/yolo_res/images/result_214.jpg and saved result to /mnt/c/Adrianov/Projects/trash-detector/masks/imgs/result_214_0.jpg\n",
      "/mnt/c/Adrianov/Projects/trash-detector/yolo_res/label/result_215.txt\n",
      "/mnt/c/Adrianov/Projects/trash-detector/yolo_res/images/result_215.jpg\n",
      "obj: 2, obj: 0\n",
      "0.37726266666666664 0.1268753333333333 0.5273153648148148 0.9557906351851853\n",
      "0.3633975 0.2845545 0.45611050000000003 0.7571435\n",
      "True\n",
      "False\n",
      "False\n",
      "True\n",
      "True\n",
      "obj: 2, obj: 1\n",
      "0.37726266666666664 0.1268753333333333 0.5273153648148148 0.9557906351851853\n",
      "0.5974304 0.5538295999999999 0.40357999999999994 0.666308\n",
      "False\n",
      "True\n",
      "False\n",
      "True\n",
      "True\n",
      "obj: 2, obj: 3\n",
      "0.37726266666666664 0.1268753333333333 0.5273153648148148 0.9557906351851853\n",
      "0.2919343 0.24364969999999997 0.4511015 0.5789905\n",
      "True\n",
      "False\n",
      "False\n",
      "True\n",
      "True\n"
     ]
    },
    {
     "name": "stderr",
     "output_type": "stream",
     "text": [
      " 18%|████▊                      | 216/1219 [00:35<03:41,  4.53it/s]"
     ]
    },
    {
     "name": "stdout",
     "output_type": "stream",
     "text": [
      "['1', '0.252069', '0.741553', '0.042054', '0.0581049']\n",
      "['0', '0.323976', '0.606627', '0.078843', '0.301033']\n",
      "['0', '0.267792', '0.515046', '0.0482846', '0.127889']\n",
      "Regions:  [(443, 697, 487, 832)]\n",
      "Cropped image /mnt/c/Adrianov/Projects/trash-detector/yolo_res/images/result_215.jpg and saved result to /mnt/c/Adrianov/Projects/trash-detector/masks/imgs/result_215_0.jpg\n",
      "/mnt/c/Adrianov/Projects/trash-detector/yolo_res/label/result_216.txt\n",
      "/mnt/c/Adrianov/Projects/trash-detector/yolo_res/images/result_216.jpg\n"
     ]
    },
    {
     "name": "stderr",
     "output_type": "stream",
     "text": [
      " 18%|████▊                      | 218/1219 [00:36<03:42,  4.50it/s]"
     ]
    },
    {
     "name": "stdout",
     "output_type": "stream",
     "text": [
      "Cropped image /mnt/c/Adrianov/Projects/trash-detector/yolo_res/images/result_216.jpg and saved result to None\n",
      "/mnt/c/Adrianov/Projects/trash-detector/yolo_res/label/result_217.txt\n",
      "/mnt/c/Adrianov/Projects/trash-detector/yolo_res/images/result_217.jpg\n",
      "obj: 3, obj: 0\n",
      "0.3763501166666666 0.1274818833333333 0.5269562148148148 0.9533057851851852\n",
      "0.36409295 0.28946305 0.4562735 0.7571025\n",
      "True\n",
      "False\n",
      "False\n",
      "True\n",
      "True\n",
      "obj: 3, obj: 1\n",
      "0.3763501166666666 0.1274818833333333 0.5269562148148148 0.9533057851851852\n",
      "0.59706495 0.55341905 0.40299100000000004 0.665203\n",
      "False\n",
      "True\n",
      "False\n",
      "True\n",
      "True\n",
      "obj: 3, obj: 2\n",
      "0.3763501166666666 0.1274818833333333 0.5269562148148148 0.9533057851851852\n",
      "0.29332365 0.24312035 0.4492485 0.5798015\n",
      "True\n",
      "False\n",
      "False\n",
      "True\n",
      "True\n",
      "['1', '0.251916', '0.740131', '0.0405349', '0.0559792']\n",
      "['0', '0.326778', '0.606688', '0.0746299', '0.300829']\n",
      "['0', '0.268222', '0.514525', '0.0502033', '0.130553']\n",
      "Regions:  [(444, 699, 485, 829)]\n",
      "Cropped image /mnt/c/Adrianov/Projects/trash-detector/yolo_res/images/result_217.jpg and saved result to /mnt/c/Adrianov/Projects/trash-detector/masks/imgs/result_217_0.jpg\n",
      "/mnt/c/Adrianov/Projects/trash-detector/yolo_res/label/result_218.txt\n",
      "/mnt/c/Adrianov/Projects/trash-detector/yolo_res/images/result_218.jpg\n",
      "obj: 2, obj: 0\n",
      "0.4014783666666667 0.14982163333333334 0.6409192148148148 1.0732587851851851\n",
      "0.423109 0.30760899999999997 0.2723224999999999 0.7713095\n",
      "True\n",
      "False\n",
      "False\n",
      "True\n",
      "True\n",
      "obj: 2, obj: 1\n",
      "0.4014783666666667 0.14982163333333334 0.6409192148148148 1.0732587851851851\n",
      "0.5365253 0.4945487 0.225203 0.554165\n",
      "False\n",
      "True\n",
      "False\n",
      "False\n",
      "True\n",
      "obj: 3, obj: 0\n",
      "0.6502465666666666 0.4183434333333333 0.3813835148148148 0.7740444851851851\n",
      "0.423109 0.30760899999999997 0.2723224999999999 0.7713095\n",
      "True\n",
      "False\n",
      "False\n",
      "True\n",
      "True\n",
      "obj: 3, obj: 1\n",
      "0.6502465666666666 0.4183434333333333 0.3813835148148148 0.7740444851851851\n",
      "0.5365253 0.4945487 0.225203 0.554165\n",
      "True\n",
      "False\n",
      "False\n",
      "True\n",
      "True\n",
      "['1', '0.27565', '0.857089', '0.0433234', '0.0619692']\n",
      "['0', '0.365359', '0.521816', '0.1155', '0.498987']\n",
      "Regions:  [(487, 812, 294, 959)]\n",
      "['1', '0.534295', '0.577714', '0.0235698', '0.0222906']\n",
      "['0', '0.365359', '0.521816', '0.1155', '0.498987']\n",
      "['0', '0.515537', '0.389684', '0.0419766', '0.328962']\n",
      "Regions:  [(487, 812, 294, 959), (590, 1048, 243, 833)]\n"
     ]
    },
    {
     "name": "stderr",
     "output_type": "stream",
     "text": [
      " 18%|████▊                      | 219/1219 [00:36<04:36,  3.61it/s]"
     ]
    },
    {
     "name": "stdout",
     "output_type": "stream",
     "text": [
      "Cropped image /mnt/c/Adrianov/Projects/trash-detector/yolo_res/images/result_218.jpg and saved result to /mnt/c/Adrianov/Projects/trash-detector/masks/imgs/result_218_0.jpg\n",
      "/mnt/c/Adrianov/Projects/trash-detector/yolo_res/label/result_219.txt\n",
      "/mnt/c/Adrianov/Projects/trash-detector/yolo_res/images/result_219.jpg\n"
     ]
    },
    {
     "name": "stderr",
     "output_type": "stream",
     "text": [
      " 18%|████▊                      | 220/1219 [00:36<04:19,  3.85it/s]"
     ]
    },
    {
     "name": "stdout",
     "output_type": "stream",
     "text": [
      "Cropped image /mnt/c/Adrianov/Projects/trash-detector/yolo_res/images/result_219.jpg and saved result to None\n",
      "/mnt/c/Adrianov/Projects/trash-detector/yolo_res/label/result_220.txt\n",
      "/mnt/c/Adrianov/Projects/trash-detector/yolo_res/images/result_220.jpg\n"
     ]
    },
    {
     "name": "stderr",
     "output_type": "stream",
     "text": [
      " 18%|████▉                      | 221/1219 [00:37<04:30,  3.69it/s]"
     ]
    },
    {
     "name": "stdout",
     "output_type": "stream",
     "text": [
      "Cropped image /mnt/c/Adrianov/Projects/trash-detector/yolo_res/images/result_220.jpg and saved result to None\n",
      "/mnt/c/Adrianov/Projects/trash-detector/yolo_res/label/result_221.txt\n",
      "/mnt/c/Adrianov/Projects/trash-detector/yolo_res/images/result_221.jpg\n"
     ]
    },
    {
     "name": "stderr",
     "output_type": "stream",
     "text": [
      " 18%|████▉                      | 222/1219 [00:37<04:33,  3.64it/s]"
     ]
    },
    {
     "name": "stdout",
     "output_type": "stream",
     "text": [
      "Cropped image /mnt/c/Adrianov/Projects/trash-detector/yolo_res/images/result_221.jpg and saved result to None\n",
      "/mnt/c/Adrianov/Projects/trash-detector/yolo_res/label/result_222.txt\n",
      "/mnt/c/Adrianov/Projects/trash-detector/yolo_res/images/result_222.jpg\n"
     ]
    },
    {
     "name": "stderr",
     "output_type": "stream",
     "text": [
      " 18%|████▉                      | 223/1219 [00:37<04:30,  3.68it/s]"
     ]
    },
    {
     "name": "stdout",
     "output_type": "stream",
     "text": [
      "Cropped image /mnt/c/Adrianov/Projects/trash-detector/yolo_res/images/result_222.jpg and saved result to None\n",
      "/mnt/c/Adrianov/Projects/trash-detector/yolo_res/label/result_223.txt\n",
      "/mnt/c/Adrianov/Projects/trash-detector/yolo_res/images/result_223.jpg\n",
      "obj: 2, obj: 0\n",
      "0.39252661666666666 0.14726738333333333 0.6398490148148148 1.0657429851851852\n",
      "0.4228065 0.3081815 0.274548 0.7712760000000001\n",
      "True\n",
      "False\n",
      "False\n",
      "True\n",
      "True\n",
      "obj: 2, obj: 1\n",
      "0.39252661666666666 0.14726738333333333 0.6398490148148148 1.0657429851851852\n",
      "0.53589315 0.49565885 0.23742649999999998 0.5518955\n",
      "False\n",
      "True\n",
      "False\n",
      "False\n",
      "True\n",
      "obj: 3, obj: 0\n",
      "0.6516045666666668 0.41892143333333337 0.3805895148148148 0.7742224851851851\n",
      "0.4228065 0.3081815 0.274548 0.7712760000000001\n",
      "True\n",
      "False\n",
      "False\n",
      "True\n",
      "True\n",
      "obj: 3, obj: 1\n",
      "0.6516045666666668 0.41892143333333337 0.3805895148148148 0.7742224851851851\n",
      "0.53589315 0.49565885 0.23742649999999998 0.5518955\n",
      "True\n",
      "False\n",
      "False\n",
      "True\n",
      "True\n"
     ]
    },
    {
     "name": "stderr",
     "output_type": "stream",
     "text": [
      " 18%|████▉                      | 224/1219 [00:38<04:51,  3.41it/s]"
     ]
    },
    {
     "name": "stdout",
     "output_type": "stream",
     "text": [
      "['1', '0.269897', '0.852796', '0.0369259', '0.0555236']\n",
      "['0', '0.365494', '0.522912', '0.114625', '0.496728']\n",
      "Regions:  [(482, 811, 296, 951)]\n",
      "['1', '0.535263', '0.577406', '0.0243498', '0.0232626']\n",
      "['0', '0.365494', '0.522912', '0.114625', '0.496728']\n",
      "['0', '0.515776', '0.394661', '0.0402343', '0.314469']\n",
      "Regions:  [(482, 811, 296, 951), (591, 1051, 256, 832)]\n",
      "Cropped image /mnt/c/Adrianov/Projects/trash-detector/yolo_res/images/result_223.jpg and saved result to /mnt/c/Adrianov/Projects/trash-detector/masks/imgs/result_223_0.jpg\n",
      "/mnt/c/Adrianov/Projects/trash-detector/yolo_res/label/result_224.txt\n",
      "/mnt/c/Adrianov/Projects/trash-detector/yolo_res/images/result_224.jpg\n"
     ]
    },
    {
     "name": "stderr",
     "output_type": "stream",
     "text": [
      " 18%|████▉                      | 225/1219 [00:38<04:14,  3.91it/s]"
     ]
    },
    {
     "name": "stdout",
     "output_type": "stream",
     "text": [
      "Cropped image /mnt/c/Adrianov/Projects/trash-detector/yolo_res/images/result_224.jpg and saved result to None\n",
      "/mnt/c/Adrianov/Projects/trash-detector/yolo_res/label/result_225.txt\n",
      "/mnt/c/Adrianov/Projects/trash-detector/yolo_res/images/result_225.jpg\n"
     ]
    },
    {
     "name": "stderr",
     "output_type": "stream",
     "text": [
      " 19%|█████                      | 226/1219 [00:38<04:27,  3.71it/s]"
     ]
    },
    {
     "name": "stdout",
     "output_type": "stream",
     "text": [
      "Cropped image /mnt/c/Adrianov/Projects/trash-detector/yolo_res/images/result_225.jpg and saved result to None\n",
      "/mnt/c/Adrianov/Projects/trash-detector/yolo_res/label/result_226.txt\n",
      "/mnt/c/Adrianov/Projects/trash-detector/yolo_res/images/result_226.jpg\n"
     ]
    },
    {
     "name": "stderr",
     "output_type": "stream",
     "text": [
      " 19%|█████                      | 228/1219 [00:39<04:11,  3.93it/s]"
     ]
    },
    {
     "name": "stdout",
     "output_type": "stream",
     "text": [
      "Cropped image /mnt/c/Adrianov/Projects/trash-detector/yolo_res/images/result_226.jpg and saved result to None\n",
      "/mnt/c/Adrianov/Projects/trash-detector/yolo_res/label/result_227.txt\n",
      "/mnt/c/Adrianov/Projects/trash-detector/yolo_res/images/result_227.jpg\n",
      "Cropped image /mnt/c/Adrianov/Projects/trash-detector/yolo_res/images/result_227.jpg and saved result to None\n",
      "/mnt/c/Adrianov/Projects/trash-detector/yolo_res/label/result_228.txt\n",
      "/mnt/c/Adrianov/Projects/trash-detector/yolo_res/images/result_228.jpg\n"
     ]
    },
    {
     "name": "stderr",
     "output_type": "stream",
     "text": [
      " 19%|█████                      | 230/1219 [00:39<03:35,  4.59it/s]"
     ]
    },
    {
     "name": "stdout",
     "output_type": "stream",
     "text": [
      "Cropped image /mnt/c/Adrianov/Projects/trash-detector/yolo_res/images/result_228.jpg and saved result to None\n",
      "/mnt/c/Adrianov/Projects/trash-detector/yolo_res/label/result_229.txt\n",
      "/mnt/c/Adrianov/Projects/trash-detector/yolo_res/images/result_229.jpg\n",
      "Cropped image /mnt/c/Adrianov/Projects/trash-detector/yolo_res/images/result_229.jpg and saved result to None\n",
      "/mnt/c/Adrianov/Projects/trash-detector/yolo_res/label/result_230.txt\n",
      "/mnt/c/Adrianov/Projects/trash-detector/yolo_res/images/result_230.jpg\n"
     ]
    },
    {
     "name": "stderr",
     "output_type": "stream",
     "text": [
      " 19%|█████▏                     | 232/1219 [00:39<03:29,  4.72it/s]"
     ]
    },
    {
     "name": "stdout",
     "output_type": "stream",
     "text": [
      "Cropped image /mnt/c/Adrianov/Projects/trash-detector/yolo_res/images/result_230.jpg and saved result to None\n",
      "/mnt/c/Adrianov/Projects/trash-detector/yolo_res/label/result_231.txt\n",
      "/mnt/c/Adrianov/Projects/trash-detector/yolo_res/images/result_231.jpg\n",
      "Cropped image /mnt/c/Adrianov/Projects/trash-detector/yolo_res/images/result_231.jpg and saved result to None\n",
      "/mnt/c/Adrianov/Projects/trash-detector/yolo_res/label/result_232.txt\n",
      "/mnt/c/Adrianov/Projects/trash-detector/yolo_res/images/result_232.jpg\n"
     ]
    },
    {
     "name": "stderr",
     "output_type": "stream",
     "text": [
      " 19%|█████▏                     | 234/1219 [00:40<02:42,  6.06it/s]"
     ]
    },
    {
     "name": "stdout",
     "output_type": "stream",
     "text": [
      "Cropped image /mnt/c/Adrianov/Projects/trash-detector/yolo_res/images/result_232.jpg and saved result to None\n",
      "/mnt/c/Adrianov/Projects/trash-detector/yolo_res/label/result_233.txt\n",
      "/mnt/c/Adrianov/Projects/trash-detector/yolo_res/images/result_233.jpg\n",
      "Cropped image /mnt/c/Adrianov/Projects/trash-detector/yolo_res/images/result_233.jpg and saved result to None\n",
      "/mnt/c/Adrianov/Projects/trash-detector/yolo_res/label/result_234.txt\n",
      "/mnt/c/Adrianov/Projects/trash-detector/yolo_res/images/result_234.jpg\n"
     ]
    },
    {
     "name": "stderr",
     "output_type": "stream",
     "text": [
      " 19%|█████▏                     | 236/1219 [00:40<02:34,  6.35it/s]"
     ]
    },
    {
     "name": "stdout",
     "output_type": "stream",
     "text": [
      "Cropped image /mnt/c/Adrianov/Projects/trash-detector/yolo_res/images/result_234.jpg and saved result to None\n",
      "/mnt/c/Adrianov/Projects/trash-detector/yolo_res/label/result_235.txt\n",
      "/mnt/c/Adrianov/Projects/trash-detector/yolo_res/images/result_235.jpg\n",
      "Cropped image /mnt/c/Adrianov/Projects/trash-detector/yolo_res/images/result_235.jpg and saved result to None\n",
      "/mnt/c/Adrianov/Projects/trash-detector/yolo_res/label/result_236.txt\n",
      "/mnt/c/Adrianov/Projects/trash-detector/yolo_res/images/result_236.jpg\n"
     ]
    },
    {
     "name": "stderr",
     "output_type": "stream",
     "text": [
      " 19%|█████▏                     | 237/1219 [00:40<02:33,  6.42it/s]"
     ]
    },
    {
     "name": "stdout",
     "output_type": "stream",
     "text": [
      "Cropped image /mnt/c/Adrianov/Projects/trash-detector/yolo_res/images/result_236.jpg and saved result to None\n",
      "/mnt/c/Adrianov/Projects/trash-detector/yolo_res/label/result_237.txt\n",
      "/mnt/c/Adrianov/Projects/trash-detector/yolo_res/images/result_237.jpg\n"
     ]
    },
    {
     "name": "stderr",
     "output_type": "stream",
     "text": [
      " 20%|█████▎                     | 239/1219 [00:40<02:38,  6.19it/s]"
     ]
    },
    {
     "name": "stdout",
     "output_type": "stream",
     "text": [
      "Cropped image /mnt/c/Adrianov/Projects/trash-detector/yolo_res/images/result_237.jpg and saved result to None\n",
      "/mnt/c/Adrianov/Projects/trash-detector/yolo_res/label/result_238.txt\n",
      "/mnt/c/Adrianov/Projects/trash-detector/yolo_res/images/result_238.jpg\n",
      "Cropped image /mnt/c/Adrianov/Projects/trash-detector/yolo_res/images/result_238.jpg and saved result to None\n",
      "/mnt/c/Adrianov/Projects/trash-detector/yolo_res/label/result_239.txt\n",
      "/mnt/c/Adrianov/Projects/trash-detector/yolo_res/images/result_239.jpg\n"
     ]
    },
    {
     "name": "stderr",
     "output_type": "stream",
     "text": [
      " 20%|█████▎                     | 241/1219 [00:41<02:38,  6.16it/s]"
     ]
    },
    {
     "name": "stdout",
     "output_type": "stream",
     "text": [
      "Cropped image /mnt/c/Adrianov/Projects/trash-detector/yolo_res/images/result_239.jpg and saved result to None\n",
      "/mnt/c/Adrianov/Projects/trash-detector/yolo_res/label/result_240.txt\n",
      "/mnt/c/Adrianov/Projects/trash-detector/yolo_res/images/result_240.jpg\n",
      "Cropped image /mnt/c/Adrianov/Projects/trash-detector/yolo_res/images/result_240.jpg and saved result to None\n",
      "/mnt/c/Adrianov/Projects/trash-detector/yolo_res/label/result_241.txt\n",
      "/mnt/c/Adrianov/Projects/trash-detector/yolo_res/images/result_241.jpg\n"
     ]
    },
    {
     "name": "stderr",
     "output_type": "stream",
     "text": [
      " 20%|█████▍                     | 243/1219 [00:41<02:10,  7.46it/s]"
     ]
    },
    {
     "name": "stdout",
     "output_type": "stream",
     "text": [
      "Cropped image /mnt/c/Adrianov/Projects/trash-detector/yolo_res/images/result_241.jpg and saved result to None\n",
      "/mnt/c/Adrianov/Projects/trash-detector/yolo_res/label/result_242.txt\n",
      "/mnt/c/Adrianov/Projects/trash-detector/yolo_res/images/result_242.jpg\n",
      "Cropped image /mnt/c/Adrianov/Projects/trash-detector/yolo_res/images/result_242.jpg and saved result to None\n",
      "/mnt/c/Adrianov/Projects/trash-detector/yolo_res/label/result_243.txt\n",
      "/mnt/c/Adrianov/Projects/trash-detector/yolo_res/images/result_243.jpg\n"
     ]
    },
    {
     "name": "stderr",
     "output_type": "stream",
     "text": [
      " 20%|█████▍                     | 244/1219 [00:41<02:03,  7.88it/s]"
     ]
    },
    {
     "name": "stdout",
     "output_type": "stream",
     "text": [
      "Cropped image /mnt/c/Adrianov/Projects/trash-detector/yolo_res/images/result_243.jpg and saved result to None\n",
      "/mnt/c/Adrianov/Projects/trash-detector/yolo_res/label/result_244.txt\n",
      "/mnt/c/Adrianov/Projects/trash-detector/yolo_res/images/result_244.jpg\n",
      "Cropped image /mnt/c/Adrianov/Projects/trash-detector/yolo_res/images/result_244.jpg and saved result to None\n",
      "/mnt/c/Adrianov/Projects/trash-detector/yolo_res/label/result_245.txt\n",
      "/mnt/c/Adrianov/Projects/trash-detector/yolo_res/images/result_245.jpg\n"
     ]
    },
    {
     "name": "stderr",
     "output_type": "stream",
     "text": [
      " 20%|█████▍                     | 246/1219 [00:41<02:07,  7.66it/s]"
     ]
    },
    {
     "name": "stdout",
     "output_type": "stream",
     "text": [
      "Cropped image /mnt/c/Adrianov/Projects/trash-detector/yolo_res/images/result_245.jpg and saved result to None\n",
      "/mnt/c/Adrianov/Projects/trash-detector/yolo_res/label/result_246.txt\n",
      "/mnt/c/Adrianov/Projects/trash-detector/yolo_res/images/result_246.jpg\n"
     ]
    },
    {
     "name": "stderr",
     "output_type": "stream",
     "text": [
      " 20%|█████▍                     | 248/1219 [00:42<02:35,  6.23it/s]"
     ]
    },
    {
     "name": "stdout",
     "output_type": "stream",
     "text": [
      "Cropped image /mnt/c/Adrianov/Projects/trash-detector/yolo_res/images/result_246.jpg and saved result to None\n",
      "/mnt/c/Adrianov/Projects/trash-detector/yolo_res/label/result_247.txt\n",
      "/mnt/c/Adrianov/Projects/trash-detector/yolo_res/images/result_247.jpg\n",
      "Cropped image /mnt/c/Adrianov/Projects/trash-detector/yolo_res/images/result_247.jpg and saved result to None\n",
      "/mnt/c/Adrianov/Projects/trash-detector/yolo_res/label/result_248.txt\n",
      "/mnt/c/Adrianov/Projects/trash-detector/yolo_res/images/result_248.jpg\n"
     ]
    },
    {
     "name": "stderr",
     "output_type": "stream",
     "text": [
      " 20%|█████▌                     | 249/1219 [00:42<02:22,  6.82it/s]"
     ]
    },
    {
     "name": "stdout",
     "output_type": "stream",
     "text": [
      "Cropped image /mnt/c/Adrianov/Projects/trash-detector/yolo_res/images/result_248.jpg and saved result to None\n",
      "/mnt/c/Adrianov/Projects/trash-detector/yolo_res/label/result_249.txt\n",
      "/mnt/c/Adrianov/Projects/trash-detector/yolo_res/images/result_249.jpg\n"
     ]
    },
    {
     "name": "stderr",
     "output_type": "stream",
     "text": [
      " 21%|█████▌                     | 251/1219 [00:42<02:53,  5.58it/s]"
     ]
    },
    {
     "name": "stdout",
     "output_type": "stream",
     "text": [
      "Cropped image /mnt/c/Adrianov/Projects/trash-detector/yolo_res/images/result_249.jpg and saved result to None\n",
      "/mnt/c/Adrianov/Projects/trash-detector/yolo_res/label/result_250.txt\n",
      "/mnt/c/Adrianov/Projects/trash-detector/yolo_res/images/result_250.jpg\n",
      "Cropped image /mnt/c/Adrianov/Projects/trash-detector/yolo_res/images/result_250.jpg and saved result to None\n",
      "/mnt/c/Adrianov/Projects/trash-detector/yolo_res/label/result_251.txt\n",
      "/mnt/c/Adrianov/Projects/trash-detector/yolo_res/images/result_251.jpg\n"
     ]
    },
    {
     "name": "stderr",
     "output_type": "stream",
     "text": [
      " 21%|█████▌                     | 252/1219 [00:43<03:18,  4.86it/s]"
     ]
    },
    {
     "name": "stdout",
     "output_type": "stream",
     "text": [
      "Cropped image /mnt/c/Adrianov/Projects/trash-detector/yolo_res/images/result_251.jpg and saved result to None\n",
      "/mnt/c/Adrianov/Projects/trash-detector/yolo_res/label/result_252.txt\n",
      "/mnt/c/Adrianov/Projects/trash-detector/yolo_res/images/result_252.jpg\n"
     ]
    },
    {
     "name": "stderr",
     "output_type": "stream",
     "text": [
      " 21%|█████▌                     | 253/1219 [00:43<03:53,  4.14it/s]"
     ]
    },
    {
     "name": "stdout",
     "output_type": "stream",
     "text": [
      "Cropped image /mnt/c/Adrianov/Projects/trash-detector/yolo_res/images/result_252.jpg and saved result to None\n",
      "/mnt/c/Adrianov/Projects/trash-detector/yolo_res/label/result_253.txt\n",
      "/mnt/c/Adrianov/Projects/trash-detector/yolo_res/images/result_253.jpg\n"
     ]
    },
    {
     "name": "stderr",
     "output_type": "stream",
     "text": [
      " 21%|█████▋                     | 254/1219 [00:43<04:16,  3.77it/s]"
     ]
    },
    {
     "name": "stdout",
     "output_type": "stream",
     "text": [
      "Cropped image /mnt/c/Adrianov/Projects/trash-detector/yolo_res/images/result_253.jpg and saved result to None\n",
      "/mnt/c/Adrianov/Projects/trash-detector/yolo_res/label/result_254.txt\n",
      "/mnt/c/Adrianov/Projects/trash-detector/yolo_res/images/result_254.jpg\n"
     ]
    },
    {
     "name": "stderr",
     "output_type": "stream",
     "text": [
      " 21%|█████▋                     | 255/1219 [00:44<04:27,  3.60it/s]"
     ]
    },
    {
     "name": "stdout",
     "output_type": "stream",
     "text": [
      "Cropped image /mnt/c/Adrianov/Projects/trash-detector/yolo_res/images/result_254.jpg and saved result to None\n",
      "/mnt/c/Adrianov/Projects/trash-detector/yolo_res/label/result_255.txt\n",
      "/mnt/c/Adrianov/Projects/trash-detector/yolo_res/images/result_255.jpg\n"
     ]
    },
    {
     "name": "stderr",
     "output_type": "stream",
     "text": [
      " 21%|█████▋                     | 257/1219 [00:44<03:33,  4.50it/s]"
     ]
    },
    {
     "name": "stdout",
     "output_type": "stream",
     "text": [
      "Cropped image /mnt/c/Adrianov/Projects/trash-detector/yolo_res/images/result_255.jpg and saved result to None\n",
      "/mnt/c/Adrianov/Projects/trash-detector/yolo_res/label/result_256.txt\n",
      "/mnt/c/Adrianov/Projects/trash-detector/yolo_res/images/result_256.jpg\n",
      "Cropped image /mnt/c/Adrianov/Projects/trash-detector/yolo_res/images/result_256.jpg and saved result to None\n",
      "/mnt/c/Adrianov/Projects/trash-detector/yolo_res/label/result_257.txt\n",
      "/mnt/c/Adrianov/Projects/trash-detector/yolo_res/images/result_257.jpg\n"
     ]
    },
    {
     "name": "stderr",
     "output_type": "stream",
     "text": [
      " 21%|█████▋                     | 259/1219 [00:44<03:46,  4.24it/s]"
     ]
    },
    {
     "name": "stdout",
     "output_type": "stream",
     "text": [
      "Cropped image /mnt/c/Adrianov/Projects/trash-detector/yolo_res/images/result_257.jpg and saved result to None\n",
      "/mnt/c/Adrianov/Projects/trash-detector/yolo_res/label/result_258.txt\n",
      "/mnt/c/Adrianov/Projects/trash-detector/yolo_res/images/result_258.jpg\n",
      "Cropped image /mnt/c/Adrianov/Projects/trash-detector/yolo_res/images/result_258.jpg and saved result to None\n",
      "/mnt/c/Adrianov/Projects/trash-detector/yolo_res/label/result_259.txt\n",
      "/mnt/c/Adrianov/Projects/trash-detector/yolo_res/images/result_259.jpg\n"
     ]
    },
    {
     "name": "stderr",
     "output_type": "stream",
     "text": [
      " 21%|█████▊                     | 260/1219 [00:45<04:01,  3.98it/s]"
     ]
    },
    {
     "name": "stdout",
     "output_type": "stream",
     "text": [
      "Cropped image /mnt/c/Adrianov/Projects/trash-detector/yolo_res/images/result_259.jpg and saved result to None\n",
      "/mnt/c/Adrianov/Projects/trash-detector/yolo_res/label/result_260.txt\n",
      "/mnt/c/Adrianov/Projects/trash-detector/yolo_res/images/result_260.jpg\n",
      "obj: 2, obj: 0\n",
      "0.6813645666666667 0.43401943333333326 0.1520681148148148 0.6207298851851852\n",
      "0.3899145 0.0003675000000000206 0.21364449999999996 0.9960914999999999\n",
      "False\n",
      "False\n",
      "True\n",
      "True\n",
      "True\n",
      "obj: 2, obj: 1\n",
      "0.6813645666666667 0.43401943333333326 0.1520681148148148 0.6207298851851852\n",
      "0.3557635 0.2352725 0.29085550000000004 0.7576565000000001\n",
      "False\n",
      "False\n",
      "True\n",
      "True\n",
      "True\n",
      "Cropped image /mnt/c/Adrianov/Projects/trash-detector/yolo_res/images/result_260.jpg and saved result to None\n",
      "/mnt/c/Adrianov/Projects/trash-detector/yolo_res/label/result_261.txt\n",
      "/mnt/c/Adrianov/Projects/trash-detector/yolo_res/images/result_261.jpg\n"
     ]
    },
    {
     "name": "stderr",
     "output_type": "stream",
     "text": [
      " 21%|█████▊                     | 262/1219 [00:45<03:02,  5.25it/s]"
     ]
    },
    {
     "name": "stdout",
     "output_type": "stream",
     "text": [
      "Cropped image /mnt/c/Adrianov/Projects/trash-detector/yolo_res/images/result_261.jpg and saved result to None\n",
      "/mnt/c/Adrianov/Projects/trash-detector/yolo_res/label/result_262.txt\n",
      "/mnt/c/Adrianov/Projects/trash-detector/yolo_res/images/result_262.jpg\n",
      "obj: 2, obj: 0\n",
      "0.6812757166666666 0.4311662833333333 0.15187946481481485 0.6197765351851852\n",
      "0.3197175 0.0006384999999999863 0.23568050000000001 0.9973955000000001\n",
      "False\n",
      "False\n",
      "True\n",
      "True\n",
      "True\n",
      "obj: 2, obj: 1\n",
      "0.6812757166666666 0.4311662833333333 0.15187946481481485 0.6197765351851852\n",
      "0.367589 0.235651 0.292551 0.802219\n",
      "False\n",
      "False\n",
      "True\n",
      "True\n",
      "True\n",
      "obj: 3, obj: 0\n",
      "0.5112066666666667 0.25016533333333335 0.6706936148148148 1.1040703851851852\n",
      "0.3197175 0.0006384999999999863 0.23568050000000001 0.9973955000000001\n",
      "True\n",
      "False\n",
      "False\n",
      "True\n",
      "True\n",
      "obj: 3, obj: 1\n",
      "0.5112066666666667 0.25016533333333335 0.6706936148148148 1.1040703851851852\n",
      "0.367589 0.235651 0.292551 0.802219\n",
      "True\n",
      "False\n",
      "False\n",
      "True\n",
      "True\n",
      "['1', '0.380686', '0.887382', '0.052708', '0.0630064']\n",
      "['0', '0.160178', '0.616538', '0.319079', '0.761715']\n",
      "['0', '0.30162', '0.547385', '0.131938', '0.509668']\n",
      "Regions:  [(1, 781, 254, 1077)]\n"
     ]
    },
    {
     "name": "stderr",
     "output_type": "stream",
     "text": [
      " 22%|█████▊                     | 263/1219 [00:45<03:10,  5.01it/s]"
     ]
    },
    {
     "name": "stdout",
     "output_type": "stream",
     "text": [
      "Cropped image /mnt/c/Adrianov/Projects/trash-detector/yolo_res/images/result_262.jpg and saved result to /mnt/c/Adrianov/Projects/trash-detector/masks/imgs/result_262_0.jpg\n",
      "/mnt/c/Adrianov/Projects/trash-detector/yolo_res/label/result_263.txt\n",
      "/mnt/c/Adrianov/Projects/trash-detector/yolo_res/images/result_263.jpg\n",
      "Cropped image /mnt/c/Adrianov/Projects/trash-detector/yolo_res/images/result_263.jpg and saved result to None\n",
      "/mnt/c/Adrianov/Projects/trash-detector/yolo_res/label/result_264.txt\n",
      "/mnt/c/Adrianov/Projects/trash-detector/yolo_res/images/result_264.jpg\n"
     ]
    },
    {
     "name": "stderr",
     "output_type": "stream",
     "text": [
      " 22%|█████▉                     | 266/1219 [00:46<03:15,  4.87it/s]"
     ]
    },
    {
     "name": "stdout",
     "output_type": "stream",
     "text": [
      "Cropped image /mnt/c/Adrianov/Projects/trash-detector/yolo_res/images/result_264.jpg and saved result to None\n",
      "/mnt/c/Adrianov/Projects/trash-detector/yolo_res/label/result_265.txt\n",
      "/mnt/c/Adrianov/Projects/trash-detector/yolo_res/images/result_265.jpg\n",
      "Cropped image /mnt/c/Adrianov/Projects/trash-detector/yolo_res/images/result_265.jpg and saved result to None\n",
      "/mnt/c/Adrianov/Projects/trash-detector/yolo_res/label/result_266.txt\n",
      "/mnt/c/Adrianov/Projects/trash-detector/yolo_res/images/result_266.jpg\n"
     ]
    },
    {
     "name": "stderr",
     "output_type": "stream",
     "text": [
      " 22%|█████▉                     | 267/1219 [00:46<03:19,  4.76it/s]"
     ]
    },
    {
     "name": "stdout",
     "output_type": "stream",
     "text": [
      "obj: 2, obj: 0\n",
      "0.5099288666666666 0.2501811333333333 0.6655882148148148 1.097389785185185\n",
      "0.256175 0.0002530000000000032 0.241288 0.9997400000000001\n",
      "True\n",
      "False\n",
      "False\n",
      "True\n",
      "True\n",
      "obj: 2, obj: 1\n",
      "0.5099288666666666 0.2501811333333333 0.6655882148148148 1.097389785185185\n",
      "0.3828705 0.2365275 0.2866225 0.8354895\n",
      "True\n",
      "False\n",
      "False\n",
      "True\n",
      "True\n",
      "obj: 3, obj: 0\n",
      "0.6815033166666666 0.4302986833333333 0.15298676481481482 0.6187192351851851\n",
      "0.256175 0.0002530000000000032 0.241288 0.9997400000000001\n",
      "False\n",
      "False\n",
      "True\n",
      "True\n",
      "True\n",
      "obj: 3, obj: 1\n",
      "0.6815033166666666 0.4302986833333333 0.15298676481481482 0.6187192351851851\n",
      "0.3828705 0.2365275 0.2866225 0.8354895\n",
      "False\n",
      "False\n",
      "True\n",
      "True\n",
      "True\n",
      "['1', '0.380055', '0.881489', '0.0514144', '0.0614312']\n",
      "['0', '0.128214', '0.620514', '0.255922', '0.758452']\n",
      "['0', '0.309699', '0.561056', '0.146343', '0.548867']\n",
      "Regions:  [(0, 779, 260, 1079)]\n",
      "Cropped image /mnt/c/Adrianov/Projects/trash-detector/yolo_res/images/result_266.jpg and saved result to /mnt/c/Adrianov/Projects/trash-detector/masks/imgs/result_266_0.jpg\n",
      "/mnt/c/Adrianov/Projects/trash-detector/yolo_res/label/result_267.txt\n",
      "/mnt/c/Adrianov/Projects/trash-detector/yolo_res/images/result_267.jpg\n"
     ]
    },
    {
     "name": "stderr",
     "output_type": "stream",
     "text": [
      " 22%|█████▉                     | 269/1219 [00:46<02:53,  5.49it/s]"
     ]
    },
    {
     "name": "stdout",
     "output_type": "stream",
     "text": [
      "Cropped image /mnt/c/Adrianov/Projects/trash-detector/yolo_res/images/result_267.jpg and saved result to None\n",
      "/mnt/c/Adrianov/Projects/trash-detector/yolo_res/label/result_268.txt\n",
      "/mnt/c/Adrianov/Projects/trash-detector/yolo_res/images/result_268.jpg\n",
      "Cropped image /mnt/c/Adrianov/Projects/trash-detector/yolo_res/images/result_268.jpg and saved result to None\n",
      "/mnt/c/Adrianov/Projects/trash-detector/yolo_res/label/result_269.txt\n",
      "/mnt/c/Adrianov/Projects/trash-detector/yolo_res/images/result_269.jpg\n"
     ]
    },
    {
     "name": "stderr",
     "output_type": "stream",
     "text": [
      " 22%|█████▉                     | 270/1219 [00:47<03:03,  5.16it/s]"
     ]
    },
    {
     "name": "stdout",
     "output_type": "stream",
     "text": [
      "Cropped image /mnt/c/Adrianov/Projects/trash-detector/yolo_res/images/result_269.jpg and saved result to None\n",
      "/mnt/c/Adrianov/Projects/trash-detector/yolo_res/label/result_270.txt\n",
      "/mnt/c/Adrianov/Projects/trash-detector/yolo_res/images/result_270.jpg\n"
     ]
    },
    {
     "name": "stderr",
     "output_type": "stream",
     "text": [
      " 22%|██████                     | 272/1219 [00:47<02:58,  5.29it/s]"
     ]
    },
    {
     "name": "stdout",
     "output_type": "stream",
     "text": [
      "Cropped image /mnt/c/Adrianov/Projects/trash-detector/yolo_res/images/result_270.jpg and saved result to None\n",
      "/mnt/c/Adrianov/Projects/trash-detector/yolo_res/label/result_271.txt\n",
      "/mnt/c/Adrianov/Projects/trash-detector/yolo_res/images/result_271.jpg\n",
      "Cropped image /mnt/c/Adrianov/Projects/trash-detector/yolo_res/images/result_271.jpg and saved result to None\n",
      "/mnt/c/Adrianov/Projects/trash-detector/yolo_res/label/result_272.txt\n",
      "/mnt/c/Adrianov/Projects/trash-detector/yolo_res/images/result_272.jpg\n"
     ]
    },
    {
     "name": "stderr",
     "output_type": "stream",
     "text": [
      " 22%|██████                     | 273/1219 [00:47<03:22,  4.68it/s]"
     ]
    },
    {
     "name": "stdout",
     "output_type": "stream",
     "text": [
      "obj: 1, obj: 0\n",
      "0.5096835166666667 0.25082248333333335 0.6602595148148148 1.095190485185185\n",
      "0.38947350000000003 0.2376265 0.28851800000000005 0.845836\n",
      "True\n",
      "False\n",
      "False\n",
      "True\n",
      "True\n",
      "['1', '0.380253', '0.877725', '0.0505277', '0.0645606']\n",
      "['0', '0.31355', '0.567177', '0.151847', '0.557318']\n",
      "Regions:  [(456, 778, 311, 982)]\n",
      "Cropped image /mnt/c/Adrianov/Projects/trash-detector/yolo_res/images/result_272.jpg and saved result to /mnt/c/Adrianov/Projects/trash-detector/masks/imgs/result_272_0.jpg\n",
      "/mnt/c/Adrianov/Projects/trash-detector/yolo_res/label/result_273.txt\n",
      "/mnt/c/Adrianov/Projects/trash-detector/yolo_res/images/result_273.jpg\n"
     ]
    },
    {
     "name": "stderr",
     "output_type": "stream",
     "text": [
      " 22%|██████                     | 274/1219 [00:47<03:10,  4.96it/s]"
     ]
    },
    {
     "name": "stdout",
     "output_type": "stream",
     "text": [
      "obj: 2, obj: 0\n",
      "0.32007216666666666 -0.002698166666666668 0.4246629148148148 0.8596590851851852\n",
      "0.42828350000000004 0.3028765 0.3357035 0.9893825\n",
      "True\n",
      "False\n",
      "False\n",
      "True\n",
      "True\n",
      "obj: 2, obj: 1\n",
      "0.32007216666666666 -0.002698166666666668 0.4246629148148148 0.8596590851851852\n",
      "0.8796459999999999 0.737328 0.39238900000000004 0.9953069999999999\n",
      "False\n",
      "True\n",
      "False\n",
      "True\n",
      "True\n",
      "['1', '0.158687', '0.642161', '0.114437', '0.0646258']\n",
      "['0', '0.36558', '0.662543', '0.125407', '0.653679']\n",
      "Regions:  [(194, 822, 362, 1068)]\n",
      "Cropped image /mnt/c/Adrianov/Projects/trash-detector/yolo_res/images/result_273.jpg and saved result to /mnt/c/Adrianov/Projects/trash-detector/masks/imgs/result_273_0.jpg\n",
      "/mnt/c/Adrianov/Projects/trash-detector/yolo_res/label/result_274.txt\n",
      "/mnt/c/Adrianov/Projects/trash-detector/yolo_res/images/result_274.jpg\n"
     ]
    },
    {
     "name": "stderr",
     "output_type": "stream",
     "text": [
      " 23%|██████                     | 275/1219 [00:48<02:51,  5.49it/s]"
     ]
    },
    {
     "name": "stdout",
     "output_type": "stream",
     "text": [
      "Cropped image /mnt/c/Adrianov/Projects/trash-detector/yolo_res/images/result_274.jpg and saved result to None\n",
      "/mnt/c/Adrianov/Projects/trash-detector/yolo_res/label/result_275.txt\n",
      "/mnt/c/Adrianov/Projects/trash-detector/yolo_res/images/result_275.jpg\n"
     ]
    },
    {
     "name": "stderr",
     "output_type": "stream",
     "text": [
      " 23%|██████                     | 276/1219 [00:48<03:16,  4.81it/s]"
     ]
    },
    {
     "name": "stdout",
     "output_type": "stream",
     "text": [
      "Cropped image /mnt/c/Adrianov/Projects/trash-detector/yolo_res/images/result_275.jpg and saved result to None\n",
      "/mnt/c/Adrianov/Projects/trash-detector/yolo_res/label/result_276.txt\n",
      "/mnt/c/Adrianov/Projects/trash-detector/yolo_res/images/result_276.jpg\n",
      "obj: 2, obj: 0\n",
      "0.3195161666666667 -0.003218166666666661 0.4239524148148148 0.8580615851851852\n",
      "0.433237 0.309117 0.32769800000000004 0.93547\n",
      "True\n",
      "False\n",
      "False\n",
      "True\n",
      "True\n",
      "obj: 2, obj: 1\n",
      "0.3195161666666667 -0.003218166666666661 0.4239524148148148 0.8580615851851852\n",
      "0.8787775 0.7346865 0.39084949999999996 0.9857705\n",
      "False\n",
      "True\n",
      "False\n",
      "True\n",
      "True\n"
     ]
    },
    {
     "name": "stderr",
     "output_type": "stream",
     "text": [
      " 23%|██████▏                    | 277/1219 [00:48<03:34,  4.38it/s]"
     ]
    },
    {
     "name": "stdout",
     "output_type": "stream",
     "text": [
      "['1', '0.158149', '0.641007', '0.114401', '0.0637388']\n",
      "['0', '0.371177', '0.631584', '0.12412', '0.607772']\n",
      "Regions:  [(193, 831, 353, 1010)]\n",
      "Cropped image /mnt/c/Adrianov/Projects/trash-detector/yolo_res/images/result_276.jpg and saved result to /mnt/c/Adrianov/Projects/trash-detector/masks/imgs/result_276_0.jpg\n",
      "/mnt/c/Adrianov/Projects/trash-detector/yolo_res/label/result_277.txt\n",
      "/mnt/c/Adrianov/Projects/trash-detector/yolo_res/images/result_277.jpg\n",
      "obj: 1, obj: 0\n",
      "0.5110297666666667 0.2522542333333333 0.6595294148148148 1.0909925851851852\n",
      "0.41920399999999997 0.238682 0.286128 0.8245720000000001\n",
      "True\n",
      "False\n",
      "False\n",
      "True\n",
      "True\n",
      "obj: 1, obj: 2\n",
      "0.5110297666666667 0.2522542333333333 0.6595294148148148 1.0909925851851852\n",
      "0.3554965 0.2378995 0.28659599999999996 0.827738\n",
      "True\n",
      "False\n",
      "False\n",
      "True\n",
      "True\n"
     ]
    },
    {
     "name": "stderr",
     "output_type": "stream",
     "text": [
      " 23%|██████▏                    | 279/1219 [00:48<02:53,  5.41it/s]"
     ]
    },
    {
     "name": "stdout",
     "output_type": "stream",
     "text": [
      "['1', '0.381642', '0.875261', '0.0504422', '0.0610928']\n",
      "['0', '0.328943', '0.55535', '0.180522', '0.538444']\n",
      "['0', '0.296698', '0.557167', '0.117597', '0.541142']\n",
      "Regions:  [(456, 804, 309, 978)]\n",
      "Cropped image /mnt/c/Adrianov/Projects/trash-detector/yolo_res/images/result_277.jpg and saved result to /mnt/c/Adrianov/Projects/trash-detector/masks/imgs/result_277_0.jpg\n",
      "/mnt/c/Adrianov/Projects/trash-detector/yolo_res/label/result_278.txt\n",
      "/mnt/c/Adrianov/Projects/trash-detector/yolo_res/images/result_278.jpg\n",
      "Cropped image /mnt/c/Adrianov/Projects/trash-detector/yolo_res/images/result_278.jpg and saved result to None\n",
      "/mnt/c/Adrianov/Projects/trash-detector/yolo_res/label/result_279.txt\n",
      "/mnt/c/Adrianov/Projects/trash-detector/yolo_res/images/result_279.jpg\n"
     ]
    },
    {
     "name": "stderr",
     "output_type": "stream",
     "text": [
      " 23%|██████▏                    | 281/1219 [00:49<02:30,  6.25it/s]"
     ]
    },
    {
     "name": "stdout",
     "output_type": "stream",
     "text": [
      "obj: 2, obj: 0\n",
      "0.31875966666666666 -0.0026976666666666815 0.4237303148148148 0.8578296851851852\n",
      "0.4378285 0.31287950000000003 0.32775950000000004 0.9225045000000001\n",
      "True\n",
      "False\n",
      "False\n",
      "True\n",
      "True\n",
      "obj: 2, obj: 1\n",
      "0.31875966666666666 -0.0026976666666666815 0.4237303148148148 0.8578296851851852\n",
      "0.874534 0.726006 0.385577 0.970251\n",
      "False\n",
      "True\n",
      "False\n",
      "True\n",
      "True\n",
      "['1', '0.158031', '0.64078', '0.113124', '0.063729']\n",
      "['0', '0.375354', '0.625132', '0.124949', '0.594745']\n",
      "Regions:  [(194, 840, 353, 996)]\n",
      "Cropped image /mnt/c/Adrianov/Projects/trash-detector/yolo_res/images/result_279.jpg and saved result to /mnt/c/Adrianov/Projects/trash-detector/masks/imgs/result_279_0.jpg\n",
      "/mnt/c/Adrianov/Projects/trash-detector/yolo_res/label/result_280.txt\n",
      "/mnt/c/Adrianov/Projects/trash-detector/yolo_res/images/result_280.jpg\n",
      "Cropped image /mnt/c/Adrianov/Projects/trash-detector/yolo_res/images/result_280.jpg and saved result to None\n",
      "/mnt/c/Adrianov/Projects/trash-detector/yolo_res/label/result_281.txt\n",
      "/mnt/c/Adrianov/Projects/trash-detector/yolo_res/images/result_281.jpg\n"
     ]
    },
    {
     "name": "stderr",
     "output_type": "stream",
     "text": [
      " 23%|██████▏                    | 282/1219 [00:49<02:19,  6.70it/s]"
     ]
    },
    {
     "name": "stdout",
     "output_type": "stream",
     "text": [
      "obj: 1, obj: 0\n",
      "0.5119926666666667 0.25255533333333335 0.6592022148148148 1.089329785185185\n",
      "0.345235 0.239033 0.2859565 0.8339075\n",
      "True\n",
      "False\n",
      "False\n",
      "True\n",
      "True\n",
      "obj: 1, obj: 2\n",
      "0.5119926666666667 0.25255533333333335 0.6592022148148148 1.089329785185185\n",
      "0.40407099999999996 0.239247 0.28736350000000005 0.8310605\n",
      "True\n",
      "False\n",
      "False\n",
      "True\n",
      "True\n",
      "['1', '0.382274', '0.874266', '0.051104', '0.0597572']\n",
      "['0', '0.292134', '0.559932', '0.106202', '0.547951']\n",
      "['0', '0.321659', '0.559212', '0.164824', '0.543697']\n",
      "Regions:  [(458, 783, 308, 976)]\n",
      "Cropped image /mnt/c/Adrianov/Projects/trash-detector/yolo_res/images/result_281.jpg and saved result to /mnt/c/Adrianov/Projects/trash-detector/masks/imgs/result_281_0.jpg\n",
      "/mnt/c/Adrianov/Projects/trash-detector/yolo_res/label/result_282.txt\n",
      "/mnt/c/Adrianov/Projects/trash-detector/yolo_res/images/result_282.jpg\n"
     ]
    },
    {
     "name": "stderr",
     "output_type": "stream",
     "text": [
      " 23%|██████▎                    | 283/1219 [00:49<03:13,  4.84it/s]"
     ]
    },
    {
     "name": "stdout",
     "output_type": "stream",
     "text": [
      "obj: 1, obj: 0\n",
      "0.5133162666666666 0.25316373333333336 0.6578201148148148 1.0898338851851852\n",
      "0.3465015 0.2399005 0.283117 0.821475\n",
      "True\n",
      "False\n",
      "False\n",
      "True\n",
      "True\n",
      "obj: 1, obj: 2\n",
      "0.5133162666666666 0.25316373333333336 0.6578201148148148 1.0898338851851852\n",
      "0.42298800000000003 0.240186 0.28457050000000006 0.8315455\n",
      "True\n",
      "False\n",
      "False\n",
      "True\n",
      "True\n",
      "['1', '0.38324', '0.873827', '0.0518192', '0.0616434']\n",
      "['0', '0.293201', '0.552296', '0.106601', '0.538358']\n",
      "['0', '0.331587', '0.558058', '0.182802', '0.546975']\n",
      "Regions:  [(460, 812, 305, 977)]\n",
      "Cropped image /mnt/c/Adrianov/Projects/trash-detector/yolo_res/images/result_282.jpg and saved result to /mnt/c/Adrianov/Projects/trash-detector/masks/imgs/result_282_0.jpg\n",
      "/mnt/c/Adrianov/Projects/trash-detector/yolo_res/label/result_283.txt\n",
      "/mnt/c/Adrianov/Projects/trash-detector/yolo_res/images/result_283.jpg\n"
     ]
    },
    {
     "name": "stderr",
     "output_type": "stream",
     "text": [
      " 23%|██████▎                    | 285/1219 [00:50<02:59,  5.21it/s]"
     ]
    },
    {
     "name": "stdout",
     "output_type": "stream",
     "text": [
      "Cropped image /mnt/c/Adrianov/Projects/trash-detector/yolo_res/images/result_283.jpg and saved result to None\n",
      "/mnt/c/Adrianov/Projects/trash-detector/yolo_res/label/result_284.txt\n",
      "/mnt/c/Adrianov/Projects/trash-detector/yolo_res/images/result_284.jpg\n",
      "Cropped image /mnt/c/Adrianov/Projects/trash-detector/yolo_res/images/result_284.jpg and saved result to None\n",
      "/mnt/c/Adrianov/Projects/trash-detector/yolo_res/label/result_285.txt\n",
      "/mnt/c/Adrianov/Projects/trash-detector/yolo_res/images/result_285.jpg\n"
     ]
    },
    {
     "name": "stderr",
     "output_type": "stream",
     "text": [
      " 24%|██████▎                    | 287/1219 [00:50<02:23,  6.51it/s]"
     ]
    },
    {
     "name": "stdout",
     "output_type": "stream",
     "text": [
      "Cropped image /mnt/c/Adrianov/Projects/trash-detector/yolo_res/images/result_285.jpg and saved result to None\n",
      "/mnt/c/Adrianov/Projects/trash-detector/yolo_res/label/result_286.txt\n",
      "/mnt/c/Adrianov/Projects/trash-detector/yolo_res/images/result_286.jpg\n",
      "Cropped image /mnt/c/Adrianov/Projects/trash-detector/yolo_res/images/result_286.jpg and saved result to None\n",
      "/mnt/c/Adrianov/Projects/trash-detector/yolo_res/label/result_287.txt\n",
      "/mnt/c/Adrianov/Projects/trash-detector/yolo_res/images/result_287.jpg\n"
     ]
    },
    {
     "name": "stderr",
     "output_type": "stream",
     "text": [
      " 24%|██████▍                    | 289/1219 [00:50<02:21,  6.57it/s]"
     ]
    },
    {
     "name": "stdout",
     "output_type": "stream",
     "text": [
      "Cropped image /mnt/c/Adrianov/Projects/trash-detector/yolo_res/images/result_287.jpg and saved result to None\n",
      "/mnt/c/Adrianov/Projects/trash-detector/yolo_res/label/result_288.txt\n",
      "/mnt/c/Adrianov/Projects/trash-detector/yolo_res/images/result_288.jpg\n",
      "Cropped image /mnt/c/Adrianov/Projects/trash-detector/yolo_res/images/result_288.jpg and saved result to None\n",
      "/mnt/c/Adrianov/Projects/trash-detector/yolo_res/label/result_289.txt\n",
      "/mnt/c/Adrianov/Projects/trash-detector/yolo_res/images/result_289.jpg\n"
     ]
    },
    {
     "name": "stderr",
     "output_type": "stream",
     "text": [
      " 24%|██████▍                    | 291/1219 [00:50<02:17,  6.73it/s]"
     ]
    },
    {
     "name": "stdout",
     "output_type": "stream",
     "text": [
      "Cropped image /mnt/c/Adrianov/Projects/trash-detector/yolo_res/images/result_289.jpg and saved result to None\n",
      "/mnt/c/Adrianov/Projects/trash-detector/yolo_res/label/result_290.txt\n",
      "/mnt/c/Adrianov/Projects/trash-detector/yolo_res/images/result_290.jpg\n",
      "Cropped image /mnt/c/Adrianov/Projects/trash-detector/yolo_res/images/result_290.jpg and saved result to None\n",
      "/mnt/c/Adrianov/Projects/trash-detector/yolo_res/label/result_291.txt\n",
      "/mnt/c/Adrianov/Projects/trash-detector/yolo_res/images/result_291.jpg\n"
     ]
    },
    {
     "name": "stderr",
     "output_type": "stream",
     "text": [
      " 24%|██████▍                    | 292/1219 [00:51<02:49,  5.46it/s]"
     ]
    },
    {
     "name": "stdout",
     "output_type": "stream",
     "text": [
      "Cropped image /mnt/c/Adrianov/Projects/trash-detector/yolo_res/images/result_291.jpg and saved result to None\n",
      "/mnt/c/Adrianov/Projects/trash-detector/yolo_res/label/result_292.txt\n",
      "/mnt/c/Adrianov/Projects/trash-detector/yolo_res/images/result_292.jpg\n"
     ]
    },
    {
     "name": "stderr",
     "output_type": "stream",
     "text": [
      " 24%|██████▍                    | 293/1219 [00:51<03:00,  5.14it/s]"
     ]
    },
    {
     "name": "stdout",
     "output_type": "stream",
     "text": [
      "Cropped image /mnt/c/Adrianov/Projects/trash-detector/yolo_res/images/result_292.jpg and saved result to None\n",
      "/mnt/c/Adrianov/Projects/trash-detector/yolo_res/label/result_293.txt\n",
      "/mnt/c/Adrianov/Projects/trash-detector/yolo_res/images/result_293.jpg\n",
      "obj: 1, obj: 0\n",
      "0.5140785666666666 0.25349543333333335 0.6581241148148148 1.0915338851851852\n",
      "0.347634 0.24143 0.2817125 0.8247015\n",
      "True\n",
      "False\n",
      "False\n",
      "True\n",
      "True\n",
      "['1', '0.383787', '0.874829', '0.0522498', '0.0630394']\n",
      "['0', '0.294532', '0.553207', '0.106204', '0.542989']\n",
      "Regions:  [(463, 787, 304, 978)]\n"
     ]
    },
    {
     "name": "stderr",
     "output_type": "stream",
     "text": [
      " 24%|██████▌                    | 295/1219 [00:51<02:37,  5.87it/s]"
     ]
    },
    {
     "name": "stdout",
     "output_type": "stream",
     "text": [
      "Cropped image /mnt/c/Adrianov/Projects/trash-detector/yolo_res/images/result_293.jpg and saved result to /mnt/c/Adrianov/Projects/trash-detector/masks/imgs/result_293_0.jpg\n",
      "/mnt/c/Adrianov/Projects/trash-detector/yolo_res/label/result_294.txt\n",
      "/mnt/c/Adrianov/Projects/trash-detector/yolo_res/images/result_294.jpg\n",
      "Cropped image /mnt/c/Adrianov/Projects/trash-detector/yolo_res/images/result_294.jpg and saved result to None\n",
      "/mnt/c/Adrianov/Projects/trash-detector/yolo_res/label/result_295.txt\n",
      "/mnt/c/Adrianov/Projects/trash-detector/yolo_res/images/result_295.jpg\n",
      "Cropped image /mnt/c/Adrianov/Projects/trash-detector/yolo_res/images/result_295.jpg and saved result to None\n",
      "/mnt/c/Adrianov/Projects/trash-detector/yolo_res/label/result_296.txt\n",
      "/mnt/c/Adrianov/Projects/trash-detector/yolo_res/images/result_296.jpg\n"
     ]
    },
    {
     "name": "stderr",
     "output_type": "stream",
     "text": [
      " 24%|██████▌                    | 297/1219 [00:51<02:08,  7.18it/s]"
     ]
    },
    {
     "name": "stdout",
     "output_type": "stream",
     "text": [
      "obj: 1, obj: 0\n",
      "0.5154175166666667 0.25336648333333334 0.6569013148148148 1.090886685185185\n",
      "0.3474965 0.24406150000000001 0.2821620000000001 0.8203560000000001\n",
      "True\n",
      "False\n",
      "False\n",
      "True\n",
      "True\n",
      "['1', '0.384392', '0.873894', '0.0537177', '0.063615']\n",
      "['0', '0.295779', '0.551259', '0.103435', '0.538194']\n",
      "Regions:  [(468, 789, 304, 978)]\n",
      "Cropped image /mnt/c/Adrianov/Projects/trash-detector/yolo_res/images/result_296.jpg and saved result to /mnt/c/Adrianov/Projects/trash-detector/masks/imgs/result_296_0.jpg\n",
      "/mnt/c/Adrianov/Projects/trash-detector/yolo_res/label/result_297.txt\n",
      "/mnt/c/Adrianov/Projects/trash-detector/yolo_res/images/result_297.jpg\n"
     ]
    },
    {
     "name": "stderr",
     "output_type": "stream",
     "text": [
      " 25%|██████▌                    | 299/1219 [00:52<02:18,  6.65it/s]"
     ]
    },
    {
     "name": "stdout",
     "output_type": "stream",
     "text": [
      "Cropped image /mnt/c/Adrianov/Projects/trash-detector/yolo_res/images/result_297.jpg and saved result to None\n",
      "/mnt/c/Adrianov/Projects/trash-detector/yolo_res/label/result_298.txt\n",
      "/mnt/c/Adrianov/Projects/trash-detector/yolo_res/images/result_298.jpg\n",
      "Cropped image /mnt/c/Adrianov/Projects/trash-detector/yolo_res/images/result_298.jpg and saved result to None\n",
      "/mnt/c/Adrianov/Projects/trash-detector/yolo_res/label/result_299.txt\n",
      "/mnt/c/Adrianov/Projects/trash-detector/yolo_res/images/result_299.jpg\n"
     ]
    },
    {
     "name": "stderr",
     "output_type": "stream",
     "text": [
      " 25%|██████▋                    | 301/1219 [00:52<02:09,  7.11it/s]"
     ]
    },
    {
     "name": "stdout",
     "output_type": "stream",
     "text": [
      "Cropped image /mnt/c/Adrianov/Projects/trash-detector/yolo_res/images/result_299.jpg and saved result to None\n",
      "/mnt/c/Adrianov/Projects/trash-detector/yolo_res/label/result_300.txt\n",
      "/mnt/c/Adrianov/Projects/trash-detector/yolo_res/images/result_300.jpg\n",
      "obj: 1, obj: 0\n",
      "0.5153992666666667 0.25330473333333337 0.6555305148148148 1.090973485185185\n",
      "0.3485295 0.2453565 0.28405149999999996 0.8259725\n",
      "True\n",
      "False\n",
      "False\n",
      "True\n",
      "True\n",
      "['1', '0.384352', '0.873252', '0.0537612', '0.0650726']\n",
      "['0', '0.296943', '0.555012', '0.103173', '0.541921']\n",
      "Regions:  [(471, 789, 306, 978)]\n",
      "Cropped image /mnt/c/Adrianov/Projects/trash-detector/yolo_res/images/result_300.jpg and saved result to /mnt/c/Adrianov/Projects/trash-detector/masks/imgs/result_300_0.jpg\n",
      "/mnt/c/Adrianov/Projects/trash-detector/yolo_res/label/result_301.txt\n",
      "/mnt/c/Adrianov/Projects/trash-detector/yolo_res/images/result_301.jpg\n"
     ]
    },
    {
     "name": "stderr",
     "output_type": "stream",
     "text": [
      " 25%|██████▋                    | 303/1219 [00:52<02:04,  7.36it/s]"
     ]
    },
    {
     "name": "stdout",
     "output_type": "stream",
     "text": [
      "Cropped image /mnt/c/Adrianov/Projects/trash-detector/yolo_res/images/result_301.jpg and saved result to None\n",
      "/mnt/c/Adrianov/Projects/trash-detector/yolo_res/label/result_302.txt\n",
      "/mnt/c/Adrianov/Projects/trash-detector/yolo_res/images/result_302.jpg\n",
      "obj: 1, obj: 0\n",
      "0.5155558666666666 0.25385213333333334 0.6563116648148148 1.0897043351851852\n",
      "0.347726 0.245552 0.28588149999999996 0.8283045\n",
      "True\n",
      "False\n",
      "False\n",
      "True\n",
      "True\n",
      "obj: 2, obj: 0\n",
      "0.8546231166666667 0.5654548833333333 0.1988504148148148 0.6638635851851852\n",
      "0.347726 0.245552 0.28588149999999996 0.8283045\n",
      "False\n",
      "False\n",
      "True\n",
      "True\n",
      "True\n",
      "['1', '0.384704', '0.873008', '0.0533704', '0.0630223']\n",
      "['0', '0.296639', '0.557093', '0.102174', '0.542423']\n",
      "Regions:  [(471, 789, 308, 976)]\n",
      "Cropped image /mnt/c/Adrianov/Projects/trash-detector/yolo_res/images/result_302.jpg and saved result to /mnt/c/Adrianov/Projects/trash-detector/masks/imgs/result_302_0.jpg\n",
      "/mnt/c/Adrianov/Projects/trash-detector/yolo_res/label/result_303.txt\n",
      "/mnt/c/Adrianov/Projects/trash-detector/yolo_res/images/result_303.jpg\n"
     ]
    },
    {
     "name": "stderr",
     "output_type": "stream",
     "text": [
      " 25%|██████▊                    | 305/1219 [00:53<02:19,  6.53it/s]"
     ]
    },
    {
     "name": "stdout",
     "output_type": "stream",
     "text": [
      "Cropped image /mnt/c/Adrianov/Projects/trash-detector/yolo_res/images/result_303.jpg and saved result to None\n",
      "/mnt/c/Adrianov/Projects/trash-detector/yolo_res/label/result_304.txt\n",
      "/mnt/c/Adrianov/Projects/trash-detector/yolo_res/images/result_304.jpg\n",
      "Cropped image /mnt/c/Adrianov/Projects/trash-detector/yolo_res/images/result_304.jpg and saved result to None\n",
      "/mnt/c/Adrianov/Projects/trash-detector/yolo_res/label/result_305.txt\n",
      "/mnt/c/Adrianov/Projects/trash-detector/yolo_res/images/result_305.jpg\n"
     ]
    },
    {
     "name": "stderr",
     "output_type": "stream",
     "text": [
      " 25%|██████▊                    | 306/1219 [00:53<02:35,  5.87it/s]"
     ]
    },
    {
     "name": "stdout",
     "output_type": "stream",
     "text": [
      "obj: 2, obj: 0\n",
      "0.32052416666666667 -0.0032981666666666576 0.4243372148148148 0.8575447851851852\n",
      "0.4364905 0.31109549999999997 0.3285285 0.9297715\n",
      "True\n",
      "False\n",
      "False\n",
      "True\n",
      "True\n",
      "obj: 2, obj: 1\n",
      "0.32052416666666667 -0.0032981666666666576 0.4243372148148148 0.8575447851851852\n",
      "0.8769899999999999 0.733044 0.386936 0.9814940000000001\n",
      "False\n",
      "True\n",
      "False\n",
      "True\n",
      "True\n",
      "['1', '0.158613', '0.640941', '0.115489', '0.0628372']\n",
      "['0', '0.373793', '0.62915', '0.125395', '0.601243']\n",
      "Regions:  [(193, 838, 354, 1004)]\n",
      "Cropped image /mnt/c/Adrianov/Projects/trash-detector/yolo_res/images/result_305.jpg and saved result to /mnt/c/Adrianov/Projects/trash-detector/masks/imgs/result_305_0.jpg\n",
      "/mnt/c/Adrianov/Projects/trash-detector/yolo_res/label/result_306.txt\n",
      "/mnt/c/Adrianov/Projects/trash-detector/yolo_res/images/result_306.jpg\n"
     ]
    },
    {
     "name": "stderr",
     "output_type": "stream",
     "text": [
      " 25%|██████▊                    | 307/1219 [00:53<02:49,  5.37it/s]"
     ]
    },
    {
     "name": "stdout",
     "output_type": "stream",
     "text": [
      "Cropped image /mnt/c/Adrianov/Projects/trash-detector/yolo_res/images/result_306.jpg and saved result to None\n",
      "/mnt/c/Adrianov/Projects/trash-detector/yolo_res/label/result_307.txt\n",
      "/mnt/c/Adrianov/Projects/trash-detector/yolo_res/images/result_307.jpg\n",
      "obj: 1, obj: 0\n",
      "0.5157613666666667 0.2542686333333333 0.6567352148148149 1.0894507851851851\n",
      "0.348449 0.248103 0.29038949999999997 0.8266924999999999\n",
      "True\n",
      "False\n",
      "False\n",
      "True\n",
      "True\n",
      "obj: 2, obj: 0\n",
      "0.8559911166666666 0.5657388833333333 0.19823986481481481 0.6634981351851852\n",
      "0.348449 0.248103 0.29038949999999997 0.8266924999999999\n",
      "False\n",
      "False\n",
      "True\n",
      "True\n",
      "True\n"
     ]
    },
    {
     "name": "stderr",
     "output_type": "stream",
     "text": [
      " 25%|██████▊                    | 308/1219 [00:53<03:33,  4.28it/s]"
     ]
    },
    {
     "name": "stdout",
     "output_type": "stream",
     "text": [
      "['1', '0.385015', '0.873093', '0.0531594', '0.0623452']\n",
      "['0', '0.298276', '0.558541', '0.100346', '0.536303']\n",
      "Regions:  [(476, 790, 313, 976)]\n",
      "Cropped image /mnt/c/Adrianov/Projects/trash-detector/yolo_res/images/result_307.jpg and saved result to /mnt/c/Adrianov/Projects/trash-detector/masks/imgs/result_307_0.jpg\n",
      "/mnt/c/Adrianov/Projects/trash-detector/yolo_res/label/result_308.txt\n",
      "/mnt/c/Adrianov/Projects/trash-detector/yolo_res/images/result_308.jpg\n"
     ]
    },
    {
     "name": "stderr",
     "output_type": "stream",
     "text": [
      " 25%|██████▊                    | 309/1219 [00:54<03:34,  4.25it/s]"
     ]
    },
    {
     "name": "stdout",
     "output_type": "stream",
     "text": [
      "Cropped image /mnt/c/Adrianov/Projects/trash-detector/yolo_res/images/result_308.jpg and saved result to None\n",
      "/mnt/c/Adrianov/Projects/trash-detector/yolo_res/label/result_309.txt\n",
      "/mnt/c/Adrianov/Projects/trash-detector/yolo_res/images/result_309.jpg\n"
     ]
    },
    {
     "name": "stderr",
     "output_type": "stream",
     "text": [
      " 26%|██████▉                    | 311/1219 [00:54<03:16,  4.62it/s]"
     ]
    },
    {
     "name": "stdout",
     "output_type": "stream",
     "text": [
      "Cropped image /mnt/c/Adrianov/Projects/trash-detector/yolo_res/images/result_309.jpg and saved result to None\n",
      "/mnt/c/Adrianov/Projects/trash-detector/yolo_res/label/result_310.txt\n",
      "/mnt/c/Adrianov/Projects/trash-detector/yolo_res/images/result_310.jpg\n",
      "Cropped image /mnt/c/Adrianov/Projects/trash-detector/yolo_res/images/result_310.jpg and saved result to None\n",
      "/mnt/c/Adrianov/Projects/trash-detector/yolo_res/label/result_311.txt\n",
      "/mnt/c/Adrianov/Projects/trash-detector/yolo_res/images/result_311.jpg\n"
     ]
    },
    {
     "name": "stderr",
     "output_type": "stream",
     "text": [
      " 26%|██████▉                    | 312/1219 [00:54<03:26,  4.39it/s]"
     ]
    },
    {
     "name": "stdout",
     "output_type": "stream",
     "text": [
      "Cropped image /mnt/c/Adrianov/Projects/trash-detector/yolo_res/images/result_311.jpg and saved result to None\n",
      "/mnt/c/Adrianov/Projects/trash-detector/yolo_res/label/result_312.txt\n",
      "/mnt/c/Adrianov/Projects/trash-detector/yolo_res/images/result_312.jpg\n",
      "obj: 1, obj: 0\n",
      "0.5159350666666667 0.2550969333333334 0.6568906648148148 1.0890033351851853\n",
      "0.3506495 0.24964250000000002 0.288667 0.823377\n",
      "True\n",
      "False\n",
      "False\n",
      "True\n",
      "True\n",
      "obj: 2, obj: 0\n",
      "0.8559075666666667 0.5657704333333333 0.19804991481481482 0.6607880851851852\n",
      "0.3506495 0.24964250000000002 0.288667 0.823377\n",
      "False\n",
      "False\n",
      "True\n",
      "True\n",
      "True\n"
     ]
    },
    {
     "name": "stderr",
     "output_type": "stream",
     "text": [
      " 26%|██████▉                    | 313/1219 [00:55<03:57,  3.81it/s]"
     ]
    },
    {
     "name": "stdout",
     "output_type": "stream",
     "text": [
      "['1', '0.385516', '0.872947', '0.0525048', '0.0617423']\n",
      "['0', '0.300146', '0.556022', '0.101007', '0.53471']\n",
      "Regions:  [(479, 790, 311, 976)]\n",
      "Cropped image /mnt/c/Adrianov/Projects/trash-detector/yolo_res/images/result_312.jpg and saved result to /mnt/c/Adrianov/Projects/trash-detector/masks/imgs/result_312_0.jpg\n",
      "/mnt/c/Adrianov/Projects/trash-detector/yolo_res/label/result_313.txt\n",
      "/mnt/c/Adrianov/Projects/trash-detector/yolo_res/images/result_313.jpg\n"
     ]
    },
    {
     "name": "stderr",
     "output_type": "stream",
     "text": [
      " 26%|██████▉                    | 314/1219 [00:55<04:03,  3.72it/s]"
     ]
    },
    {
     "name": "stdout",
     "output_type": "stream",
     "text": [
      "Cropped image /mnt/c/Adrianov/Projects/trash-detector/yolo_res/images/result_313.jpg and saved result to None\n",
      "/mnt/c/Adrianov/Projects/trash-detector/yolo_res/label/result_314.txt\n",
      "/mnt/c/Adrianov/Projects/trash-detector/yolo_res/images/result_314.jpg\n"
     ]
    },
    {
     "name": "stderr",
     "output_type": "stream",
     "text": [
      " 26%|██████▉                    | 315/1219 [00:55<04:14,  3.55it/s]"
     ]
    },
    {
     "name": "stdout",
     "output_type": "stream",
     "text": [
      "Cropped image /mnt/c/Adrianov/Projects/trash-detector/yolo_res/images/result_314.jpg and saved result to None\n",
      "/mnt/c/Adrianov/Projects/trash-detector/yolo_res/label/result_315.txt\n",
      "/mnt/c/Adrianov/Projects/trash-detector/yolo_res/images/result_315.jpg\n"
     ]
    },
    {
     "name": "stderr",
     "output_type": "stream",
     "text": [
      " 26%|██████▉                    | 316/1219 [00:55<04:10,  3.61it/s]"
     ]
    },
    {
     "name": "stdout",
     "output_type": "stream",
     "text": [
      "Cropped image /mnt/c/Adrianov/Projects/trash-detector/yolo_res/images/result_315.jpg and saved result to None\n",
      "/mnt/c/Adrianov/Projects/trash-detector/yolo_res/label/result_316.txt\n",
      "/mnt/c/Adrianov/Projects/trash-detector/yolo_res/images/result_316.jpg\n",
      "obj: 1, obj: 0\n",
      "0.5161477666666667 0.25569823333333336 0.6568959148148148 1.0884220851851851\n",
      "0.35331900000000005 0.250533 0.29036749999999995 0.8204285\n",
      "True\n",
      "False\n",
      "False\n",
      "True\n",
      "True\n",
      "obj: 2, obj: 0\n",
      "0.8574527166666667 0.5656872833333334 0.1980746148148148 0.6618253851851852\n",
      "0.35331900000000005 0.250533 0.29036749999999995 0.8204285\n",
      "False\n",
      "False\n",
      "True\n",
      "True\n",
      "True\n",
      "obj: 3, obj: 0\n",
      "0.6870839666666667 0.4379480333333333 0.14883951481481486 0.6140344851851852\n",
      "0.35331900000000005 0.250533 0.29036749999999995 0.8204285\n",
      "False\n",
      "False\n",
      "True\n",
      "True\n",
      "True\n"
     ]
    },
    {
     "name": "stderr",
     "output_type": "stream",
     "text": [
      " 26%|███████                    | 317/1219 [00:56<04:14,  3.54it/s]"
     ]
    },
    {
     "name": "stdout",
     "output_type": "stream",
     "text": [
      "['1', '0.385923', '0.872659', '0.0521162', '0.0611558']\n",
      "['0', '0.301926', '0.555398', '0.102786', '0.530061']\n",
      "Regions:  [(481, 791, 313, 975)]\n",
      "Cropped image /mnt/c/Adrianov/Projects/trash-detector/yolo_res/images/result_316.jpg and saved result to /mnt/c/Adrianov/Projects/trash-detector/masks/imgs/result_316_0.jpg\n",
      "/mnt/c/Adrianov/Projects/trash-detector/yolo_res/label/result_317.txt\n",
      "/mnt/c/Adrianov/Projects/trash-detector/yolo_res/images/result_317.jpg\n"
     ]
    },
    {
     "name": "stderr",
     "output_type": "stream",
     "text": [
      " 26%|███████                    | 319/1219 [00:56<03:50,  3.91it/s]"
     ]
    },
    {
     "name": "stdout",
     "output_type": "stream",
     "text": [
      "Cropped image /mnt/c/Adrianov/Projects/trash-detector/yolo_res/images/result_317.jpg and saved result to None\n",
      "/mnt/c/Adrianov/Projects/trash-detector/yolo_res/label/result_318.txt\n",
      "/mnt/c/Adrianov/Projects/trash-detector/yolo_res/images/result_318.jpg\n",
      "Cropped image /mnt/c/Adrianov/Projects/trash-detector/yolo_res/images/result_318.jpg and saved result to None\n",
      "/mnt/c/Adrianov/Projects/trash-detector/yolo_res/label/result_319.txt\n",
      "/mnt/c/Adrianov/Projects/trash-detector/yolo_res/images/result_319.jpg\n"
     ]
    },
    {
     "name": "stderr",
     "output_type": "stream",
     "text": [
      " 26%|███████                    | 320/1219 [00:57<04:08,  3.62it/s]"
     ]
    },
    {
     "name": "stdout",
     "output_type": "stream",
     "text": [
      "obj: 1, obj: 0\n",
      "0.5162159166666667 0.2550280833333334 0.6553322148148149 1.0880837851851852\n",
      "0.35014104999999995 0.25338295 0.28988499999999995 0.820641\n",
      "True\n",
      "False\n",
      "False\n",
      "True\n",
      "True\n",
      "obj: 2, obj: 0\n",
      "0.8561675666666666 0.5657464333333333 0.19801236481481482 0.6612776351851852\n",
      "0.35014104999999995 0.25338295 0.28988499999999995 0.820641\n",
      "False\n",
      "False\n",
      "True\n",
      "True\n",
      "True\n",
      "['1', '0.385622', '0.871708', '0.0528545', '0.0623812']\n",
      "['0', '0.301762', '0.555263', '0.0967581', '0.530756']\n",
      "Regions:  [(486, 791, 313, 975)]\n",
      "Cropped image /mnt/c/Adrianov/Projects/trash-detector/yolo_res/images/result_319.jpg and saved result to /mnt/c/Adrianov/Projects/trash-detector/masks/imgs/result_319_0.jpg\n",
      "/mnt/c/Adrianov/Projects/trash-detector/yolo_res/label/result_320.txt\n",
      "/mnt/c/Adrianov/Projects/trash-detector/yolo_res/images/result_320.jpg\n"
     ]
    },
    {
     "name": "stderr",
     "output_type": "stream",
     "text": [
      " 26%|███████                    | 321/1219 [00:57<04:36,  3.24it/s]"
     ]
    },
    {
     "name": "stdout",
     "output_type": "stream",
     "text": [
      "Cropped image /mnt/c/Adrianov/Projects/trash-detector/yolo_res/images/result_320.jpg and saved result to None\n",
      "/mnt/c/Adrianov/Projects/trash-detector/yolo_res/label/result_321.txt\n",
      "/mnt/c/Adrianov/Projects/trash-detector/yolo_res/images/result_321.jpg\n"
     ]
    },
    {
     "name": "stderr",
     "output_type": "stream",
     "text": [
      " 26%|███████▏                   | 322/1219 [00:57<04:56,  3.02it/s]"
     ]
    },
    {
     "name": "stdout",
     "output_type": "stream",
     "text": [
      "Cropped image /mnt/c/Adrianov/Projects/trash-detector/yolo_res/images/result_321.jpg and saved result to None\n",
      "/mnt/c/Adrianov/Projects/trash-detector/yolo_res/label/result_322.txt\n",
      "/mnt/c/Adrianov/Projects/trash-detector/yolo_res/images/result_322.jpg\n"
     ]
    },
    {
     "name": "stderr",
     "output_type": "stream",
     "text": [
      " 26%|███████▏                   | 323/1219 [00:58<04:44,  3.15it/s]"
     ]
    },
    {
     "name": "stdout",
     "output_type": "stream",
     "text": [
      "Cropped image /mnt/c/Adrianov/Projects/trash-detector/yolo_res/images/result_322.jpg and saved result to None\n",
      "/mnt/c/Adrianov/Projects/trash-detector/yolo_res/label/result_323.txt\n",
      "/mnt/c/Adrianov/Projects/trash-detector/yolo_res/images/result_323.jpg\n",
      "obj: 1, obj: 0\n",
      "0.5165183166666667 0.2546976833333333 0.6531056148148148 1.0884743851851852\n",
      "0.35012719999999997 0.2548888 0.28876499999999994 0.816325\n",
      "True\n",
      "False\n",
      "False\n",
      "True\n",
      "True\n",
      "obj: 2, obj: 0\n",
      "0.5406118666666667 0.30954013333333336 0.4952848148148148 0.9210651851851852\n",
      "0.35012719999999997 0.2548888 0.28876499999999994 0.816325\n",
      "True\n",
      "False\n",
      "False\n",
      "True\n",
      "True\n",
      "obj: 3, obj: 0\n",
      "0.8558380166666666 0.5661239833333334 0.19778926481481485 0.6613207351851852\n",
      "0.35012719999999997 0.2548888 0.28876499999999994 0.816325\n",
      "False\n",
      "False\n",
      "True\n",
      "True\n",
      "True\n"
     ]
    },
    {
     "name": "stderr",
     "output_type": "stream",
     "text": [
      " 27%|███████▏                   | 324/1219 [00:58<04:59,  2.98it/s]"
     ]
    },
    {
     "name": "stdout",
     "output_type": "stream",
     "text": [
      "['1', '0.385608', '0.87079', '0.0534873', '0.0649984']\n",
      "['0', '0.302508', '0.552545', '0.0952384', '0.52756']\n",
      "Regions:  [(489, 791, 311, 975)]\n",
      "['1', '0.425076', '0.708175', '0.0227384', '0.05541']\n",
      "['0', '0.302508', '0.552545', '0.0952384', '0.52756']\n",
      "Regions:  [(489, 791, 311, 975), (489, 837, 311, 881)]\n",
      "Cropped image /mnt/c/Adrianov/Projects/trash-detector/yolo_res/images/result_323.jpg and saved result to /mnt/c/Adrianov/Projects/trash-detector/masks/imgs/result_323_0.jpg\n",
      "/mnt/c/Adrianov/Projects/trash-detector/yolo_res/label/result_324.txt\n",
      "/mnt/c/Adrianov/Projects/trash-detector/yolo_res/images/result_324.jpg\n"
     ]
    },
    {
     "name": "stderr",
     "output_type": "stream",
     "text": [
      " 27%|███████▏                   | 325/1219 [00:58<04:20,  3.43it/s]"
     ]
    },
    {
     "name": "stdout",
     "output_type": "stream",
     "text": [
      "Cropped image /mnt/c/Adrianov/Projects/trash-detector/yolo_res/images/result_324.jpg and saved result to None\n",
      "/mnt/c/Adrianov/Projects/trash-detector/yolo_res/label/result_325.txt\n",
      "/mnt/c/Adrianov/Projects/trash-detector/yolo_res/images/result_325.jpg\n"
     ]
    },
    {
     "name": "stderr",
     "output_type": "stream",
     "text": [
      " 27%|███████▏                   | 326/1219 [00:59<04:43,  3.15it/s]"
     ]
    },
    {
     "name": "stdout",
     "output_type": "stream",
     "text": [
      "Cropped image /mnt/c/Adrianov/Projects/trash-detector/yolo_res/images/result_325.jpg and saved result to None\n",
      "/mnt/c/Adrianov/Projects/trash-detector/yolo_res/label/result_326.txt\n",
      "/mnt/c/Adrianov/Projects/trash-detector/yolo_res/images/result_326.jpg\n"
     ]
    },
    {
     "name": "stderr",
     "output_type": "stream",
     "text": [
      " 27%|███████▏                   | 327/1219 [00:59<05:00,  2.97it/s]"
     ]
    },
    {
     "name": "stdout",
     "output_type": "stream",
     "text": [
      "Cropped image /mnt/c/Adrianov/Projects/trash-detector/yolo_res/images/result_326.jpg and saved result to None\n",
      "/mnt/c/Adrianov/Projects/trash-detector/yolo_res/label/result_327.txt\n",
      "/mnt/c/Adrianov/Projects/trash-detector/yolo_res/images/result_327.jpg\n",
      "obj: 1, obj: 0\n",
      "0.5165544666666667 0.25480153333333333 0.6536545148148147 1.0868134851851852\n",
      "0.35151235 0.25609765 0.28841700000000003 0.807837\n",
      "True\n",
      "False\n",
      "False\n",
      "True\n",
      "True\n",
      "obj: 2, obj: 0\n",
      "0.5400584166666667 0.30892358333333336 0.4931422148148149 0.9212657851851852\n",
      "0.35151235 0.25609765 0.28841700000000003 0.807837\n",
      "True\n",
      "False\n",
      "False\n",
      "True\n",
      "True\n",
      "obj: 3, obj: 0\n",
      "0.8562952666666666 0.5666067333333333 0.19699311481481485 0.6590048851851852\n",
      "0.35151235 0.25609765 0.28841700000000003 0.807837\n",
      "False\n",
      "False\n",
      "True\n",
      "True\n",
      "True\n",
      "['1', '0.385678', '0.870234', '0.0534196', '0.0627886']\n",
      "['0', '0.303805', '0.548127', '0.0954147', '0.51942']\n",
      "Regions:  [(491, 791, 311, 973)]\n"
     ]
    },
    {
     "name": "stderr",
     "output_type": "stream",
     "text": [
      " 27%|███████▎                   | 329/1219 [00:59<03:55,  3.78it/s]"
     ]
    },
    {
     "name": "stdout",
     "output_type": "stream",
     "text": [
      "['1', '0.424491', '0.707204', '0.0228015', '0.0577532']\n",
      "['0', '0.303805', '0.548127', '0.0954147', '0.51942']\n",
      "Regions:  [(491, 791, 311, 973), (491, 836, 311, 872)]\n",
      "Cropped image /mnt/c/Adrianov/Projects/trash-detector/yolo_res/images/result_327.jpg and saved result to /mnt/c/Adrianov/Projects/trash-detector/masks/imgs/result_327_0.jpg\n",
      "/mnt/c/Adrianov/Projects/trash-detector/yolo_res/label/result_328.txt\n",
      "/mnt/c/Adrianov/Projects/trash-detector/yolo_res/images/result_328.jpg\n",
      "Cropped image /mnt/c/Adrianov/Projects/trash-detector/yolo_res/images/result_328.jpg and saved result to None\n",
      "/mnt/c/Adrianov/Projects/trash-detector/yolo_res/label/result_329.txt\n",
      "/mnt/c/Adrianov/Projects/trash-detector/yolo_res/images/result_329.jpg\n"
     ]
    },
    {
     "name": "stderr",
     "output_type": "stream",
     "text": [
      " 27%|███████▎                   | 330/1219 [01:00<03:44,  3.95it/s]"
     ]
    },
    {
     "name": "stdout",
     "output_type": "stream",
     "text": [
      "Cropped image /mnt/c/Adrianov/Projects/trash-detector/yolo_res/images/result_329.jpg and saved result to None\n",
      "/mnt/c/Adrianov/Projects/trash-detector/yolo_res/label/result_330.txt\n",
      "/mnt/c/Adrianov/Projects/trash-detector/yolo_res/images/result_330.jpg\n"
     ]
    },
    {
     "name": "stderr",
     "output_type": "stream",
     "text": [
      " 27%|███████▎                   | 331/1219 [01:00<03:56,  3.76it/s]"
     ]
    },
    {
     "name": "stdout",
     "output_type": "stream",
     "text": [
      "Cropped image /mnt/c/Adrianov/Projects/trash-detector/yolo_res/images/result_330.jpg and saved result to None\n",
      "/mnt/c/Adrianov/Projects/trash-detector/yolo_res/label/result_331.txt\n",
      "/mnt/c/Adrianov/Projects/trash-detector/yolo_res/images/result_331.jpg\n"
     ]
    },
    {
     "name": "stderr",
     "output_type": "stream",
     "text": [
      " 27%|███████▍                   | 333/1219 [01:00<03:33,  4.15it/s]"
     ]
    },
    {
     "name": "stdout",
     "output_type": "stream",
     "text": [
      "Cropped image /mnt/c/Adrianov/Projects/trash-detector/yolo_res/images/result_331.jpg and saved result to None\n",
      "/mnt/c/Adrianov/Projects/trash-detector/yolo_res/label/result_332.txt\n",
      "/mnt/c/Adrianov/Projects/trash-detector/yolo_res/images/result_332.jpg\n",
      "Cropped image /mnt/c/Adrianov/Projects/trash-detector/yolo_res/images/result_332.jpg and saved result to None\n",
      "/mnt/c/Adrianov/Projects/trash-detector/yolo_res/label/result_333.txt\n",
      "/mnt/c/Adrianov/Projects/trash-detector/yolo_res/images/result_333.jpg\n"
     ]
    },
    {
     "name": "stderr",
     "output_type": "stream",
     "text": [
      " 27%|███████▍                   | 334/1219 [01:01<03:13,  4.59it/s]"
     ]
    },
    {
     "name": "stdout",
     "output_type": "stream",
     "text": [
      "Cropped image /mnt/c/Adrianov/Projects/trash-detector/yolo_res/images/result_333.jpg and saved result to None\n",
      "/mnt/c/Adrianov/Projects/trash-detector/yolo_res/label/result_334.txt\n",
      "/mnt/c/Adrianov/Projects/trash-detector/yolo_res/images/result_334.jpg\n",
      "obj: 1, obj: 0\n",
      "0.5160412666666667 0.25499073333333333 0.6535408148148147 1.0850811851851851\n",
      "0.3507051 0.2582729 0.28895449999999995 0.8148314999999999\n",
      "True\n",
      "False\n",
      "False\n",
      "True\n",
      "True\n",
      "obj: 2, obj: 0\n",
      "0.5423185666666667 0.3083614333333333 0.4949910648148148 0.9176529351851852\n",
      "0.3507051 0.2582729 0.28895449999999995 0.8148314999999999\n",
      "True\n",
      "False\n",
      "False\n",
      "True\n",
      "True\n",
      "obj: 3, obj: 0\n",
      "0.8594295166666668 0.5680204833333333 0.19589651481481485 0.6581214851851852\n",
      "0.3507051 0.2582729 0.28895449999999995 0.8148314999999999\n",
      "False\n",
      "False\n",
      "True\n",
      "True\n",
      "True\n",
      "['1', '0.385516', '0.869311', '0.0527172', '0.06117']\n",
      "['0', '0.304489', '0.551893', '0.0924322', '0.525877']\n",
      "Regions:  [(495, 790, 312, 971)]\n"
     ]
    },
    {
     "name": "stderr",
     "output_type": "stream",
     "text": [
      " 27%|███████▍                   | 335/1219 [01:01<03:23,  4.34it/s]"
     ]
    },
    {
     "name": "stdout",
     "output_type": "stream",
     "text": [
      "['1', '0.42534', '0.706322', '0.0256238', '0.0522915']\n",
      "['0', '0.304489', '0.551893', '0.0924322', '0.525877']\n",
      "Regions:  [(495, 790, 312, 971), (495, 841, 312, 880)]\n",
      "Cropped image /mnt/c/Adrianov/Projects/trash-detector/yolo_res/images/result_334.jpg and saved result to /mnt/c/Adrianov/Projects/trash-detector/masks/imgs/result_334_0.jpg\n",
      "/mnt/c/Adrianov/Projects/trash-detector/yolo_res/label/result_335.txt\n",
      "/mnt/c/Adrianov/Projects/trash-detector/yolo_res/images/result_335.jpg\n"
     ]
    },
    {
     "name": "stderr",
     "output_type": "stream",
     "text": [
      " 28%|███████▍                   | 336/1219 [01:02<09:59,  1.47it/s]"
     ]
    },
    {
     "name": "stdout",
     "output_type": "stream",
     "text": [
      "Cropped image /mnt/c/Adrianov/Projects/trash-detector/yolo_res/images/result_335.jpg and saved result to None\n",
      "/mnt/c/Adrianov/Projects/trash-detector/yolo_res/label/result_336.txt\n",
      "/mnt/c/Adrianov/Projects/trash-detector/yolo_res/images/result_336.jpg\n"
     ]
    },
    {
     "name": "stderr",
     "output_type": "stream",
     "text": [
      " 28%|███████▍                   | 337/1219 [01:03<08:03,  1.83it/s]"
     ]
    },
    {
     "name": "stdout",
     "output_type": "stream",
     "text": [
      "Cropped image /mnt/c/Adrianov/Projects/trash-detector/yolo_res/images/result_336.jpg and saved result to None\n",
      "/mnt/c/Adrianov/Projects/trash-detector/yolo_res/label/result_337.txt\n",
      "/mnt/c/Adrianov/Projects/trash-detector/yolo_res/images/result_337.jpg\n"
     ]
    },
    {
     "name": "stderr",
     "output_type": "stream",
     "text": [
      " 28%|███████▌                   | 339/1219 [01:03<05:21,  2.73it/s]"
     ]
    },
    {
     "name": "stdout",
     "output_type": "stream",
     "text": [
      "Cropped image /mnt/c/Adrianov/Projects/trash-detector/yolo_res/images/result_337.jpg and saved result to None\n",
      "/mnt/c/Adrianov/Projects/trash-detector/yolo_res/label/result_338.txt\n",
      "/mnt/c/Adrianov/Projects/trash-detector/yolo_res/images/result_338.jpg\n",
      "Cropped image /mnt/c/Adrianov/Projects/trash-detector/yolo_res/images/result_338.jpg and saved result to None\n",
      "/mnt/c/Adrianov/Projects/trash-detector/yolo_res/label/result_339.txt\n",
      "/mnt/c/Adrianov/Projects/trash-detector/yolo_res/images/result_339.jpg\n"
     ]
    },
    {
     "name": "stderr",
     "output_type": "stream",
     "text": [
      " 28%|███████▌                   | 340/1219 [01:03<04:47,  3.06it/s]"
     ]
    },
    {
     "name": "stdout",
     "output_type": "stream",
     "text": [
      "Cropped image /mnt/c/Adrianov/Projects/trash-detector/yolo_res/images/result_339.jpg and saved result to None\n",
      "/mnt/c/Adrianov/Projects/trash-detector/yolo_res/label/result_340.txt\n",
      "/mnt/c/Adrianov/Projects/trash-detector/yolo_res/images/result_340.jpg\n"
     ]
    },
    {
     "name": "stderr",
     "output_type": "stream",
     "text": [
      " 28%|███████▌                   | 341/1219 [01:04<04:22,  3.34it/s]"
     ]
    },
    {
     "name": "stdout",
     "output_type": "stream",
     "text": [
      "Cropped image /mnt/c/Adrianov/Projects/trash-detector/yolo_res/images/result_340.jpg and saved result to None\n",
      "/mnt/c/Adrianov/Projects/trash-detector/yolo_res/label/result_341.txt\n",
      "/mnt/c/Adrianov/Projects/trash-detector/yolo_res/images/result_341.jpg\n"
     ]
    },
    {
     "name": "stderr",
     "output_type": "stream",
     "text": [
      " 28%|███████▌                   | 342/1219 [01:04<04:00,  3.64it/s]"
     ]
    },
    {
     "name": "stdout",
     "output_type": "stream",
     "text": [
      "Cropped image /mnt/c/Adrianov/Projects/trash-detector/yolo_res/images/result_341.jpg and saved result to None\n",
      "/mnt/c/Adrianov/Projects/trash-detector/yolo_res/label/result_342.txt\n",
      "/mnt/c/Adrianov/Projects/trash-detector/yolo_res/images/result_342.jpg\n"
     ]
    },
    {
     "name": "stderr",
     "output_type": "stream",
     "text": [
      " 28%|███████▌                   | 344/1219 [01:04<03:21,  4.35it/s]"
     ]
    },
    {
     "name": "stdout",
     "output_type": "stream",
     "text": [
      "Cropped image /mnt/c/Adrianov/Projects/trash-detector/yolo_res/images/result_342.jpg and saved result to None\n",
      "/mnt/c/Adrianov/Projects/trash-detector/yolo_res/label/result_343.txt\n",
      "/mnt/c/Adrianov/Projects/trash-detector/yolo_res/images/result_343.jpg\n",
      "Cropped image /mnt/c/Adrianov/Projects/trash-detector/yolo_res/images/result_343.jpg and saved result to None\n",
      "/mnt/c/Adrianov/Projects/trash-detector/yolo_res/label/result_344.txt\n",
      "/mnt/c/Adrianov/Projects/trash-detector/yolo_res/images/result_344.jpg\n"
     ]
    },
    {
     "name": "stderr",
     "output_type": "stream",
     "text": [
      " 28%|███████▋                   | 345/1219 [01:04<03:23,  4.28it/s]"
     ]
    },
    {
     "name": "stdout",
     "output_type": "stream",
     "text": [
      "Cropped image /mnt/c/Adrianov/Projects/trash-detector/yolo_res/images/result_344.jpg and saved result to None\n",
      "/mnt/c/Adrianov/Projects/trash-detector/yolo_res/label/result_345.txt\n",
      "/mnt/c/Adrianov/Projects/trash-detector/yolo_res/images/result_345.jpg\n"
     ]
    },
    {
     "name": "stderr",
     "output_type": "stream",
     "text": [
      " 28%|███████▋                   | 346/1219 [01:05<03:24,  4.27it/s]"
     ]
    },
    {
     "name": "stdout",
     "output_type": "stream",
     "text": [
      "Cropped image /mnt/c/Adrianov/Projects/trash-detector/yolo_res/images/result_345.jpg and saved result to None\n",
      "/mnt/c/Adrianov/Projects/trash-detector/yolo_res/label/result_346.txt\n",
      "/mnt/c/Adrianov/Projects/trash-detector/yolo_res/images/result_346.jpg\n"
     ]
    },
    {
     "name": "stderr",
     "output_type": "stream",
     "text": [
      " 28%|███████▋                   | 347/1219 [01:05<03:25,  4.24it/s]"
     ]
    },
    {
     "name": "stdout",
     "output_type": "stream",
     "text": [
      "Cropped image /mnt/c/Adrianov/Projects/trash-detector/yolo_res/images/result_346.jpg and saved result to None\n",
      "/mnt/c/Adrianov/Projects/trash-detector/yolo_res/label/result_347.txt\n",
      "/mnt/c/Adrianov/Projects/trash-detector/yolo_res/images/result_347.jpg\n"
     ]
    },
    {
     "name": "stderr",
     "output_type": "stream",
     "text": [
      " 29%|███████▋                   | 349/1219 [01:05<02:50,  5.11it/s]"
     ]
    },
    {
     "name": "stdout",
     "output_type": "stream",
     "text": [
      "Cropped image /mnt/c/Adrianov/Projects/trash-detector/yolo_res/images/result_347.jpg and saved result to None\n",
      "/mnt/c/Adrianov/Projects/trash-detector/yolo_res/label/result_348.txt\n",
      "/mnt/c/Adrianov/Projects/trash-detector/yolo_res/images/result_348.jpg\n",
      "Cropped image /mnt/c/Adrianov/Projects/trash-detector/yolo_res/images/result_348.jpg and saved result to None\n",
      "/mnt/c/Adrianov/Projects/trash-detector/yolo_res/label/result_349.txt\n",
      "/mnt/c/Adrianov/Projects/trash-detector/yolo_res/images/result_349.jpg\n"
     ]
    },
    {
     "name": "stderr",
     "output_type": "stream",
     "text": [
      " 29%|███████▊                   | 351/1219 [01:06<02:45,  5.25it/s]"
     ]
    },
    {
     "name": "stdout",
     "output_type": "stream",
     "text": [
      "Cropped image /mnt/c/Adrianov/Projects/trash-detector/yolo_res/images/result_349.jpg and saved result to None\n",
      "/mnt/c/Adrianov/Projects/trash-detector/yolo_res/label/result_350.txt\n",
      "/mnt/c/Adrianov/Projects/trash-detector/yolo_res/images/result_350.jpg\n",
      "Cropped image /mnt/c/Adrianov/Projects/trash-detector/yolo_res/images/result_350.jpg and saved result to None\n",
      "/mnt/c/Adrianov/Projects/trash-detector/yolo_res/label/result_351.txt\n",
      "/mnt/c/Adrianov/Projects/trash-detector/yolo_res/images/result_351.jpg\n",
      "Cropped image /mnt/c/Adrianov/Projects/trash-detector/yolo_res/images/result_351.jpg and saved result to None\n",
      "/mnt/c/Adrianov/Projects/trash-detector/yolo_res/label/result_352.txt\n",
      "/mnt/c/Adrianov/Projects/trash-detector/yolo_res/images/result_352.jpg\n"
     ]
    },
    {
     "name": "stderr",
     "output_type": "stream",
     "text": [
      " 29%|███████▊                   | 354/1219 [01:06<02:24,  6.00it/s]"
     ]
    },
    {
     "name": "stdout",
     "output_type": "stream",
     "text": [
      "Cropped image /mnt/c/Adrianov/Projects/trash-detector/yolo_res/images/result_352.jpg and saved result to None\n",
      "/mnt/c/Adrianov/Projects/trash-detector/yolo_res/label/result_353.txt\n",
      "/mnt/c/Adrianov/Projects/trash-detector/yolo_res/images/result_353.jpg\n",
      "Cropped image /mnt/c/Adrianov/Projects/trash-detector/yolo_res/images/result_353.jpg and saved result to None\n",
      "/mnt/c/Adrianov/Projects/trash-detector/yolo_res/label/result_354.txt\n",
      "/mnt/c/Adrianov/Projects/trash-detector/yolo_res/images/result_354.jpg\n"
     ]
    },
    {
     "name": "stderr",
     "output_type": "stream",
     "text": [
      " 29%|███████▊                   | 355/1219 [01:06<02:36,  5.51it/s]"
     ]
    },
    {
     "name": "stdout",
     "output_type": "stream",
     "text": [
      "Cropped image /mnt/c/Adrianov/Projects/trash-detector/yolo_res/images/result_354.jpg and saved result to None\n",
      "/mnt/c/Adrianov/Projects/trash-detector/yolo_res/label/result_355.txt\n",
      "/mnt/c/Adrianov/Projects/trash-detector/yolo_res/images/result_355.jpg\n"
     ]
    },
    {
     "name": "stderr",
     "output_type": "stream",
     "text": [
      " 29%|███████▉                   | 356/1219 [01:07<03:11,  4.50it/s]"
     ]
    },
    {
     "name": "stdout",
     "output_type": "stream",
     "text": [
      "Cropped image /mnt/c/Adrianov/Projects/trash-detector/yolo_res/images/result_355.jpg and saved result to None\n",
      "/mnt/c/Adrianov/Projects/trash-detector/yolo_res/label/result_356.txt\n",
      "/mnt/c/Adrianov/Projects/trash-detector/yolo_res/images/result_356.jpg\n"
     ]
    },
    {
     "name": "stderr",
     "output_type": "stream",
     "text": [
      " 29%|███████▉                   | 358/1219 [01:07<03:05,  4.64it/s]"
     ]
    },
    {
     "name": "stdout",
     "output_type": "stream",
     "text": [
      "Cropped image /mnt/c/Adrianov/Projects/trash-detector/yolo_res/images/result_356.jpg and saved result to None\n",
      "/mnt/c/Adrianov/Projects/trash-detector/yolo_res/label/result_357.txt\n",
      "/mnt/c/Adrianov/Projects/trash-detector/yolo_res/images/result_357.jpg\n",
      "Cropped image /mnt/c/Adrianov/Projects/trash-detector/yolo_res/images/result_357.jpg and saved result to None\n",
      "/mnt/c/Adrianov/Projects/trash-detector/yolo_res/label/result_358.txt\n",
      "/mnt/c/Adrianov/Projects/trash-detector/yolo_res/images/result_358.jpg\n"
     ]
    },
    {
     "name": "stderr",
     "output_type": "stream",
     "text": [
      " 30%|███████▉                   | 360/1219 [01:07<02:37,  5.45it/s]"
     ]
    },
    {
     "name": "stdout",
     "output_type": "stream",
     "text": [
      "Cropped image /mnt/c/Adrianov/Projects/trash-detector/yolo_res/images/result_358.jpg and saved result to None\n",
      "/mnt/c/Adrianov/Projects/trash-detector/yolo_res/label/result_359.txt\n",
      "/mnt/c/Adrianov/Projects/trash-detector/yolo_res/images/result_359.jpg\n",
      "Cropped image /mnt/c/Adrianov/Projects/trash-detector/yolo_res/images/result_359.jpg and saved result to None\n",
      "/mnt/c/Adrianov/Projects/trash-detector/yolo_res/label/result_360.txt\n",
      "/mnt/c/Adrianov/Projects/trash-detector/yolo_res/images/result_360.jpg\n"
     ]
    },
    {
     "name": "stderr",
     "output_type": "stream",
     "text": [
      " 30%|████████                   | 362/1219 [01:08<02:45,  5.18it/s]"
     ]
    },
    {
     "name": "stdout",
     "output_type": "stream",
     "text": [
      "Cropped image /mnt/c/Adrianov/Projects/trash-detector/yolo_res/images/result_360.jpg and saved result to None\n",
      "/mnt/c/Adrianov/Projects/trash-detector/yolo_res/label/result_361.txt\n",
      "/mnt/c/Adrianov/Projects/trash-detector/yolo_res/images/result_361.jpg\n",
      "Cropped image /mnt/c/Adrianov/Projects/trash-detector/yolo_res/images/result_361.jpg and saved result to None\n",
      "/mnt/c/Adrianov/Projects/trash-detector/yolo_res/label/result_362.txt\n",
      "/mnt/c/Adrianov/Projects/trash-detector/yolo_res/images/result_362.jpg\n"
     ]
    },
    {
     "name": "stderr",
     "output_type": "stream",
     "text": [
      " 30%|████████                   | 364/1219 [01:08<02:45,  5.17it/s]"
     ]
    },
    {
     "name": "stdout",
     "output_type": "stream",
     "text": [
      "Cropped image /mnt/c/Adrianov/Projects/trash-detector/yolo_res/images/result_362.jpg and saved result to None\n",
      "/mnt/c/Adrianov/Projects/trash-detector/yolo_res/label/result_363.txt\n",
      "/mnt/c/Adrianov/Projects/trash-detector/yolo_res/images/result_363.jpg\n",
      "Cropped image /mnt/c/Adrianov/Projects/trash-detector/yolo_res/images/result_363.jpg and saved result to None\n",
      "/mnt/c/Adrianov/Projects/trash-detector/yolo_res/label/result_364.txt\n",
      "/mnt/c/Adrianov/Projects/trash-detector/yolo_res/images/result_364.jpg\n"
     ]
    },
    {
     "name": "stderr",
     "output_type": "stream",
     "text": [
      " 30%|████████                   | 365/1219 [01:09<03:09,  4.51it/s]"
     ]
    },
    {
     "name": "stdout",
     "output_type": "stream",
     "text": [
      "Cropped image /mnt/c/Adrianov/Projects/trash-detector/yolo_res/images/result_364.jpg and saved result to None\n",
      "/mnt/c/Adrianov/Projects/trash-detector/yolo_res/label/result_365.txt\n",
      "/mnt/c/Adrianov/Projects/trash-detector/yolo_res/images/result_365.jpg\n"
     ]
    },
    {
     "name": "stderr",
     "output_type": "stream",
     "text": [
      " 30%|████████                   | 366/1219 [01:09<03:07,  4.54it/s]"
     ]
    },
    {
     "name": "stdout",
     "output_type": "stream",
     "text": [
      "Cropped image /mnt/c/Adrianov/Projects/trash-detector/yolo_res/images/result_365.jpg and saved result to None\n",
      "/mnt/c/Adrianov/Projects/trash-detector/yolo_res/label/result_366.txt\n",
      "/mnt/c/Adrianov/Projects/trash-detector/yolo_res/images/result_366.jpg\n"
     ]
    },
    {
     "name": "stderr",
     "output_type": "stream",
     "text": [
      " 30%|████████▏                  | 367/1219 [01:09<03:28,  4.09it/s]"
     ]
    },
    {
     "name": "stdout",
     "output_type": "stream",
     "text": [
      "Cropped image /mnt/c/Adrianov/Projects/trash-detector/yolo_res/images/result_366.jpg and saved result to None\n",
      "/mnt/c/Adrianov/Projects/trash-detector/yolo_res/label/result_367.txt\n",
      "/mnt/c/Adrianov/Projects/trash-detector/yolo_res/images/result_367.jpg\n"
     ]
    },
    {
     "name": "stderr",
     "output_type": "stream",
     "text": [
      " 30%|████████▏                  | 368/1219 [01:09<03:56,  3.60it/s]"
     ]
    },
    {
     "name": "stdout",
     "output_type": "stream",
     "text": [
      "Cropped image /mnt/c/Adrianov/Projects/trash-detector/yolo_res/images/result_367.jpg and saved result to None\n",
      "/mnt/c/Adrianov/Projects/trash-detector/yolo_res/label/result_368.txt\n",
      "/mnt/c/Adrianov/Projects/trash-detector/yolo_res/images/result_368.jpg\n"
     ]
    },
    {
     "name": "stderr",
     "output_type": "stream",
     "text": [
      " 30%|████████▏                  | 369/1219 [01:10<03:57,  3.58it/s]"
     ]
    },
    {
     "name": "stdout",
     "output_type": "stream",
     "text": [
      "Cropped image /mnt/c/Adrianov/Projects/trash-detector/yolo_res/images/result_368.jpg and saved result to None\n",
      "/mnt/c/Adrianov/Projects/trash-detector/yolo_res/label/result_369.txt\n",
      "/mnt/c/Adrianov/Projects/trash-detector/yolo_res/images/result_369.jpg\n",
      "Cropped image /mnt/c/Adrianov/Projects/trash-detector/yolo_res/images/result_369.jpg and saved result to None\n"
     ]
    },
    {
     "name": "stderr",
     "output_type": "stream",
     "text": [
      " 30%|████████▏                  | 371/1219 [01:10<03:15,  4.33it/s]"
     ]
    },
    {
     "name": "stdout",
     "output_type": "stream",
     "text": [
      "/mnt/c/Adrianov/Projects/trash-detector/yolo_res/label/result_370.txt\n",
      "/mnt/c/Adrianov/Projects/trash-detector/yolo_res/images/result_370.jpg\n",
      "Cropped image /mnt/c/Adrianov/Projects/trash-detector/yolo_res/images/result_370.jpg and saved result to None\n",
      "/mnt/c/Adrianov/Projects/trash-detector/yolo_res/label/result_371.txt\n",
      "/mnt/c/Adrianov/Projects/trash-detector/yolo_res/images/result_371.jpg\n"
     ]
    },
    {
     "name": "stderr",
     "output_type": "stream",
     "text": [
      " 31%|████████▎                  | 373/1219 [01:10<02:29,  5.66it/s]"
     ]
    },
    {
     "name": "stdout",
     "output_type": "stream",
     "text": [
      "Cropped image /mnt/c/Adrianov/Projects/trash-detector/yolo_res/images/result_371.jpg and saved result to None\n",
      "/mnt/c/Adrianov/Projects/trash-detector/yolo_res/label/result_372.txt\n",
      "/mnt/c/Adrianov/Projects/trash-detector/yolo_res/images/result_372.jpg\n",
      "Cropped image /mnt/c/Adrianov/Projects/trash-detector/yolo_res/images/result_372.jpg and saved result to None\n",
      "/mnt/c/Adrianov/Projects/trash-detector/yolo_res/label/result_373.txt\n",
      "/mnt/c/Adrianov/Projects/trash-detector/yolo_res/images/result_373.jpg\n"
     ]
    },
    {
     "name": "stderr",
     "output_type": "stream",
     "text": [
      " 31%|████████▎                  | 375/1219 [01:11<02:06,  6.67it/s]"
     ]
    },
    {
     "name": "stdout",
     "output_type": "stream",
     "text": [
      "Cropped image /mnt/c/Adrianov/Projects/trash-detector/yolo_res/images/result_373.jpg and saved result to None\n",
      "/mnt/c/Adrianov/Projects/trash-detector/yolo_res/label/result_374.txt\n",
      "/mnt/c/Adrianov/Projects/trash-detector/yolo_res/images/result_374.jpg\n",
      "Cropped image /mnt/c/Adrianov/Projects/trash-detector/yolo_res/images/result_374.jpg and saved result to None\n",
      "/mnt/c/Adrianov/Projects/trash-detector/yolo_res/label/result_375.txt\n",
      "/mnt/c/Adrianov/Projects/trash-detector/yolo_res/images/result_375.jpg\n"
     ]
    },
    {
     "name": "stderr",
     "output_type": "stream",
     "text": [
      " 31%|████████▎                  | 377/1219 [01:11<02:44,  5.11it/s]"
     ]
    },
    {
     "name": "stdout",
     "output_type": "stream",
     "text": [
      "Cropped image /mnt/c/Adrianov/Projects/trash-detector/yolo_res/images/result_375.jpg and saved result to None\n",
      "/mnt/c/Adrianov/Projects/trash-detector/yolo_res/label/result_376.txt\n",
      "/mnt/c/Adrianov/Projects/trash-detector/yolo_res/images/result_376.jpg\n",
      "Cropped image /mnt/c/Adrianov/Projects/trash-detector/yolo_res/images/result_376.jpg and saved result to None\n",
      "/mnt/c/Adrianov/Projects/trash-detector/yolo_res/label/result_377.txt\n",
      "/mnt/c/Adrianov/Projects/trash-detector/yolo_res/images/result_377.jpg\n"
     ]
    },
    {
     "name": "stderr",
     "output_type": "stream",
     "text": [
      " 31%|████████▍                  | 379/1219 [01:12<02:59,  4.68it/s]"
     ]
    },
    {
     "name": "stdout",
     "output_type": "stream",
     "text": [
      "Cropped image /mnt/c/Adrianov/Projects/trash-detector/yolo_res/images/result_377.jpg and saved result to None\n",
      "/mnt/c/Adrianov/Projects/trash-detector/yolo_res/label/result_378.txt\n",
      "/mnt/c/Adrianov/Projects/trash-detector/yolo_res/images/result_378.jpg\n",
      "Cropped image /mnt/c/Adrianov/Projects/trash-detector/yolo_res/images/result_378.jpg and saved result to None\n",
      "/mnt/c/Adrianov/Projects/trash-detector/yolo_res/label/result_379.txt\n",
      "/mnt/c/Adrianov/Projects/trash-detector/yolo_res/images/result_379.jpg\n"
     ]
    },
    {
     "name": "stderr",
     "output_type": "stream",
     "text": [
      " 31%|████████▍                  | 381/1219 [01:12<02:30,  5.57it/s]"
     ]
    },
    {
     "name": "stdout",
     "output_type": "stream",
     "text": [
      "Cropped image /mnt/c/Adrianov/Projects/trash-detector/yolo_res/images/result_379.jpg and saved result to None\n",
      "/mnt/c/Adrianov/Projects/trash-detector/yolo_res/label/result_380.txt\n",
      "/mnt/c/Adrianov/Projects/trash-detector/yolo_res/images/result_380.jpg\n",
      "Cropped image /mnt/c/Adrianov/Projects/trash-detector/yolo_res/images/result_380.jpg and saved result to None\n",
      "/mnt/c/Adrianov/Projects/trash-detector/yolo_res/label/result_381.txt\n",
      "/mnt/c/Adrianov/Projects/trash-detector/yolo_res/images/result_381.jpg\n"
     ]
    },
    {
     "name": "stderr",
     "output_type": "stream",
     "text": [
      " 31%|████████▍                  | 383/1219 [01:12<02:34,  5.43it/s]"
     ]
    },
    {
     "name": "stdout",
     "output_type": "stream",
     "text": [
      "Cropped image /mnt/c/Adrianov/Projects/trash-detector/yolo_res/images/result_381.jpg and saved result to None\n",
      "/mnt/c/Adrianov/Projects/trash-detector/yolo_res/label/result_382.txt\n",
      "/mnt/c/Adrianov/Projects/trash-detector/yolo_res/images/result_382.jpg\n",
      "Cropped image /mnt/c/Adrianov/Projects/trash-detector/yolo_res/images/result_382.jpg and saved result to None\n",
      "/mnt/c/Adrianov/Projects/trash-detector/yolo_res/label/result_383.txt\n",
      "/mnt/c/Adrianov/Projects/trash-detector/yolo_res/images/result_383.jpg\n"
     ]
    },
    {
     "name": "stderr",
     "output_type": "stream",
     "text": [
      " 32%|████████▌                  | 385/1219 [01:13<02:22,  5.86it/s]"
     ]
    },
    {
     "name": "stdout",
     "output_type": "stream",
     "text": [
      "Cropped image /mnt/c/Adrianov/Projects/trash-detector/yolo_res/images/result_383.jpg and saved result to None\n",
      "/mnt/c/Adrianov/Projects/trash-detector/yolo_res/label/result_384.txt\n",
      "/mnt/c/Adrianov/Projects/trash-detector/yolo_res/images/result_384.jpg\n",
      "Cropped image /mnt/c/Adrianov/Projects/trash-detector/yolo_res/images/result_384.jpg and saved result to None\n",
      "/mnt/c/Adrianov/Projects/trash-detector/yolo_res/label/result_385.txt\n",
      "/mnt/c/Adrianov/Projects/trash-detector/yolo_res/images/result_385.jpg\n"
     ]
    },
    {
     "name": "stderr",
     "output_type": "stream",
     "text": [
      " 32%|████████▌                  | 387/1219 [01:13<02:23,  5.82it/s]"
     ]
    },
    {
     "name": "stdout",
     "output_type": "stream",
     "text": [
      "Cropped image /mnt/c/Adrianov/Projects/trash-detector/yolo_res/images/result_385.jpg and saved result to None\n",
      "/mnt/c/Adrianov/Projects/trash-detector/yolo_res/label/result_386.txt\n",
      "/mnt/c/Adrianov/Projects/trash-detector/yolo_res/images/result_386.jpg\n",
      "Cropped image /mnt/c/Adrianov/Projects/trash-detector/yolo_res/images/result_386.jpg and saved result to None\n",
      "/mnt/c/Adrianov/Projects/trash-detector/yolo_res/label/result_387.txt\n",
      "/mnt/c/Adrianov/Projects/trash-detector/yolo_res/images/result_387.jpg\n"
     ]
    },
    {
     "name": "stderr",
     "output_type": "stream",
     "text": [
      " 32%|████████▌                  | 389/1219 [01:13<02:14,  6.19it/s]"
     ]
    },
    {
     "name": "stdout",
     "output_type": "stream",
     "text": [
      "Cropped image /mnt/c/Adrianov/Projects/trash-detector/yolo_res/images/result_387.jpg and saved result to None\n",
      "/mnt/c/Adrianov/Projects/trash-detector/yolo_res/label/result_388.txt\n",
      "/mnt/c/Adrianov/Projects/trash-detector/yolo_res/images/result_388.jpg\n",
      "Cropped image /mnt/c/Adrianov/Projects/trash-detector/yolo_res/images/result_388.jpg and saved result to None\n",
      "/mnt/c/Adrianov/Projects/trash-detector/yolo_res/label/result_389.txt\n",
      "/mnt/c/Adrianov/Projects/trash-detector/yolo_res/images/result_389.jpg\n"
     ]
    },
    {
     "name": "stderr",
     "output_type": "stream",
     "text": [
      " 32%|████████▋                  | 391/1219 [01:14<02:04,  6.64it/s]"
     ]
    },
    {
     "name": "stdout",
     "output_type": "stream",
     "text": [
      "Cropped image /mnt/c/Adrianov/Projects/trash-detector/yolo_res/images/result_389.jpg and saved result to None\n",
      "/mnt/c/Adrianov/Projects/trash-detector/yolo_res/label/result_390.txt\n",
      "/mnt/c/Adrianov/Projects/trash-detector/yolo_res/images/result_390.jpg\n",
      "Cropped image /mnt/c/Adrianov/Projects/trash-detector/yolo_res/images/result_390.jpg and saved result to None\n",
      "/mnt/c/Adrianov/Projects/trash-detector/yolo_res/label/result_391.txt\n",
      "/mnt/c/Adrianov/Projects/trash-detector/yolo_res/images/result_391.jpg\n"
     ]
    },
    {
     "name": "stderr",
     "output_type": "stream",
     "text": [
      " 32%|████████▋                  | 393/1219 [01:14<01:54,  7.21it/s]"
     ]
    },
    {
     "name": "stdout",
     "output_type": "stream",
     "text": [
      "Cropped image /mnt/c/Adrianov/Projects/trash-detector/yolo_res/images/result_391.jpg and saved result to None\n",
      "/mnt/c/Adrianov/Projects/trash-detector/yolo_res/label/result_392.txt\n",
      "/mnt/c/Adrianov/Projects/trash-detector/yolo_res/images/result_392.jpg\n",
      "Cropped image /mnt/c/Adrianov/Projects/trash-detector/yolo_res/images/result_392.jpg and saved result to None\n",
      "/mnt/c/Adrianov/Projects/trash-detector/yolo_res/label/result_393.txt\n",
      "/mnt/c/Adrianov/Projects/trash-detector/yolo_res/images/result_393.jpg\n"
     ]
    },
    {
     "name": "stderr",
     "output_type": "stream",
     "text": [
      " 32%|████████▋                  | 395/1219 [01:14<02:04,  6.61it/s]"
     ]
    },
    {
     "name": "stdout",
     "output_type": "stream",
     "text": [
      "Cropped image /mnt/c/Adrianov/Projects/trash-detector/yolo_res/images/result_393.jpg and saved result to None\n",
      "/mnt/c/Adrianov/Projects/trash-detector/yolo_res/label/result_394.txt\n",
      "/mnt/c/Adrianov/Projects/trash-detector/yolo_res/images/result_394.jpg\n",
      "Cropped image /mnt/c/Adrianov/Projects/trash-detector/yolo_res/images/result_394.jpg and saved result to None\n",
      "/mnt/c/Adrianov/Projects/trash-detector/yolo_res/label/result_395.txt\n",
      "/mnt/c/Adrianov/Projects/trash-detector/yolo_res/images/result_395.jpg\n"
     ]
    },
    {
     "name": "stderr",
     "output_type": "stream",
     "text": [
      " 33%|████████▊                  | 397/1219 [01:14<02:05,  6.57it/s]"
     ]
    },
    {
     "name": "stdout",
     "output_type": "stream",
     "text": [
      "Cropped image /mnt/c/Adrianov/Projects/trash-detector/yolo_res/images/result_395.jpg and saved result to None\n",
      "/mnt/c/Adrianov/Projects/trash-detector/yolo_res/label/result_396.txt\n",
      "/mnt/c/Adrianov/Projects/trash-detector/yolo_res/images/result_396.jpg\n",
      "Cropped image /mnt/c/Adrianov/Projects/trash-detector/yolo_res/images/result_396.jpg and saved result to None\n",
      "/mnt/c/Adrianov/Projects/trash-detector/yolo_res/label/result_397.txt\n",
      "/mnt/c/Adrianov/Projects/trash-detector/yolo_res/images/result_397.jpg\n"
     ]
    },
    {
     "name": "stderr",
     "output_type": "stream",
     "text": [
      " 33%|████████▊                  | 399/1219 [01:15<02:15,  6.07it/s]"
     ]
    },
    {
     "name": "stdout",
     "output_type": "stream",
     "text": [
      "Cropped image /mnt/c/Adrianov/Projects/trash-detector/yolo_res/images/result_397.jpg and saved result to None\n",
      "/mnt/c/Adrianov/Projects/trash-detector/yolo_res/label/result_398.txt\n",
      "/mnt/c/Adrianov/Projects/trash-detector/yolo_res/images/result_398.jpg\n",
      "Cropped image /mnt/c/Adrianov/Projects/trash-detector/yolo_res/images/result_398.jpg and saved result to None\n",
      "/mnt/c/Adrianov/Projects/trash-detector/yolo_res/label/result_399.txt\n",
      "/mnt/c/Adrianov/Projects/trash-detector/yolo_res/images/result_399.jpg\n"
     ]
    },
    {
     "name": "stderr",
     "output_type": "stream",
     "text": [
      " 33%|████████▊                  | 400/1219 [01:15<02:02,  6.67it/s]"
     ]
    },
    {
     "name": "stdout",
     "output_type": "stream",
     "text": [
      "Cropped image /mnt/c/Adrianov/Projects/trash-detector/yolo_res/images/result_399.jpg and saved result to None\n",
      "/mnt/c/Adrianov/Projects/trash-detector/yolo_res/label/result_400.txt\n",
      "/mnt/c/Adrianov/Projects/trash-detector/yolo_res/images/result_400.jpg\n"
     ]
    },
    {
     "name": "stderr",
     "output_type": "stream",
     "text": [
      " 33%|████████▉                  | 402/1219 [01:15<02:12,  6.16it/s]"
     ]
    },
    {
     "name": "stdout",
     "output_type": "stream",
     "text": [
      "Cropped image /mnt/c/Adrianov/Projects/trash-detector/yolo_res/images/result_400.jpg and saved result to None\n",
      "/mnt/c/Adrianov/Projects/trash-detector/yolo_res/label/result_401.txt\n",
      "/mnt/c/Adrianov/Projects/trash-detector/yolo_res/images/result_401.jpg\n",
      "Cropped image /mnt/c/Adrianov/Projects/trash-detector/yolo_res/images/result_401.jpg and saved result to None\n",
      "/mnt/c/Adrianov/Projects/trash-detector/yolo_res/label/result_402.txt\n",
      "/mnt/c/Adrianov/Projects/trash-detector/yolo_res/images/result_402.jpg\n"
     ]
    },
    {
     "name": "stderr",
     "output_type": "stream",
     "text": [
      " 33%|████████▉                  | 404/1219 [01:16<02:07,  6.37it/s]"
     ]
    },
    {
     "name": "stdout",
     "output_type": "stream",
     "text": [
      "Cropped image /mnt/c/Adrianov/Projects/trash-detector/yolo_res/images/result_402.jpg and saved result to None\n",
      "/mnt/c/Adrianov/Projects/trash-detector/yolo_res/label/result_403.txt\n",
      "/mnt/c/Adrianov/Projects/trash-detector/yolo_res/images/result_403.jpg\n",
      "Cropped image /mnt/c/Adrianov/Projects/trash-detector/yolo_res/images/result_403.jpg and saved result to None\n",
      "/mnt/c/Adrianov/Projects/trash-detector/yolo_res/label/result_404.txt\n",
      "/mnt/c/Adrianov/Projects/trash-detector/yolo_res/images/result_404.jpg\n"
     ]
    },
    {
     "name": "stderr",
     "output_type": "stream",
     "text": [
      " 33%|████████▉                  | 405/1219 [01:16<02:37,  5.17it/s]"
     ]
    },
    {
     "name": "stdout",
     "output_type": "stream",
     "text": [
      "Cropped image /mnt/c/Adrianov/Projects/trash-detector/yolo_res/images/result_404.jpg and saved result to None\n",
      "/mnt/c/Adrianov/Projects/trash-detector/yolo_res/label/result_405.txt\n",
      "/mnt/c/Adrianov/Projects/trash-detector/yolo_res/images/result_405.jpg\n"
     ]
    },
    {
     "name": "stderr",
     "output_type": "stream",
     "text": [
      " 33%|████████▉                  | 406/1219 [01:16<02:43,  4.98it/s]"
     ]
    },
    {
     "name": "stdout",
     "output_type": "stream",
     "text": [
      "Cropped image /mnt/c/Adrianov/Projects/trash-detector/yolo_res/images/result_405.jpg and saved result to None\n",
      "/mnt/c/Adrianov/Projects/trash-detector/yolo_res/label/result_406.txt\n",
      "/mnt/c/Adrianov/Projects/trash-detector/yolo_res/images/result_406.jpg\n",
      "Cropped image /mnt/c/Adrianov/Projects/trash-detector/yolo_res/images/result_406.jpg and saved result to None\n"
     ]
    },
    {
     "name": "stderr",
     "output_type": "stream",
     "text": [
      " 33%|█████████                  | 408/1219 [01:16<02:41,  5.03it/s]"
     ]
    },
    {
     "name": "stdout",
     "output_type": "stream",
     "text": [
      "/mnt/c/Adrianov/Projects/trash-detector/yolo_res/label/result_407.txt\n",
      "/mnt/c/Adrianov/Projects/trash-detector/yolo_res/images/result_407.jpg\n",
      "Cropped image /mnt/c/Adrianov/Projects/trash-detector/yolo_res/images/result_407.jpg and saved result to None\n",
      "/mnt/c/Adrianov/Projects/trash-detector/yolo_res/label/result_408.txt\n",
      "/mnt/c/Adrianov/Projects/trash-detector/yolo_res/images/result_408.jpg\n"
     ]
    },
    {
     "name": "stderr",
     "output_type": "stream",
     "text": [
      " 34%|█████████                  | 410/1219 [01:17<02:13,  6.06it/s]"
     ]
    },
    {
     "name": "stdout",
     "output_type": "stream",
     "text": [
      "Cropped image /mnt/c/Adrianov/Projects/trash-detector/yolo_res/images/result_408.jpg and saved result to None\n",
      "/mnt/c/Adrianov/Projects/trash-detector/yolo_res/label/result_409.txt\n",
      "/mnt/c/Adrianov/Projects/trash-detector/yolo_res/images/result_409.jpg\n",
      "Cropped image /mnt/c/Adrianov/Projects/trash-detector/yolo_res/images/result_409.jpg and saved result to None\n",
      "/mnt/c/Adrianov/Projects/trash-detector/yolo_res/label/result_410.txt\n",
      "/mnt/c/Adrianov/Projects/trash-detector/yolo_res/images/result_410.jpg\n"
     ]
    },
    {
     "name": "stderr",
     "output_type": "stream",
     "text": [
      " 34%|█████████▏                 | 412/1219 [01:17<02:34,  5.23it/s]"
     ]
    },
    {
     "name": "stdout",
     "output_type": "stream",
     "text": [
      "Cropped image /mnt/c/Adrianov/Projects/trash-detector/yolo_res/images/result_410.jpg and saved result to None\n",
      "/mnt/c/Adrianov/Projects/trash-detector/yolo_res/label/result_411.txt\n",
      "/mnt/c/Adrianov/Projects/trash-detector/yolo_res/images/result_411.jpg\n",
      "Cropped image /mnt/c/Adrianov/Projects/trash-detector/yolo_res/images/result_411.jpg and saved result to None\n",
      "/mnt/c/Adrianov/Projects/trash-detector/yolo_res/label/result_412.txt\n",
      "/mnt/c/Adrianov/Projects/trash-detector/yolo_res/images/result_412.jpg\n"
     ]
    },
    {
     "name": "stderr",
     "output_type": "stream",
     "text": [
      " 34%|█████████▏                 | 414/1219 [01:17<02:00,  6.69it/s]"
     ]
    },
    {
     "name": "stdout",
     "output_type": "stream",
     "text": [
      "Cropped image /mnt/c/Adrianov/Projects/trash-detector/yolo_res/images/result_412.jpg and saved result to None\n",
      "/mnt/c/Adrianov/Projects/trash-detector/yolo_res/label/result_413.txt\n",
      "/mnt/c/Adrianov/Projects/trash-detector/yolo_res/images/result_413.jpg\n",
      "Cropped image /mnt/c/Adrianov/Projects/trash-detector/yolo_res/images/result_413.jpg and saved result to None\n",
      "/mnt/c/Adrianov/Projects/trash-detector/yolo_res/label/result_414.txt\n",
      "/mnt/c/Adrianov/Projects/trash-detector/yolo_res/images/result_414.jpg\n"
     ]
    },
    {
     "name": "stderr",
     "output_type": "stream",
     "text": [
      " 34%|█████████▏                 | 415/1219 [01:18<02:02,  6.55it/s]"
     ]
    },
    {
     "name": "stdout",
     "output_type": "stream",
     "text": [
      "Cropped image /mnt/c/Adrianov/Projects/trash-detector/yolo_res/images/result_414.jpg and saved result to None\n",
      "/mnt/c/Adrianov/Projects/trash-detector/yolo_res/label/result_415.txt\n",
      "/mnt/c/Adrianov/Projects/trash-detector/yolo_res/images/result_415.jpg\n"
     ]
    },
    {
     "name": "stderr",
     "output_type": "stream",
     "text": [
      " 34%|█████████▏                 | 416/1219 [01:18<02:29,  5.39it/s]"
     ]
    },
    {
     "name": "stdout",
     "output_type": "stream",
     "text": [
      "Cropped image /mnt/c/Adrianov/Projects/trash-detector/yolo_res/images/result_415.jpg and saved result to None\n",
      "/mnt/c/Adrianov/Projects/trash-detector/yolo_res/label/result_416.txt\n",
      "/mnt/c/Adrianov/Projects/trash-detector/yolo_res/images/result_416.jpg\n"
     ]
    },
    {
     "name": "stderr",
     "output_type": "stream",
     "text": [
      " 34%|█████████▏                 | 417/1219 [01:18<02:39,  5.04it/s]"
     ]
    },
    {
     "name": "stdout",
     "output_type": "stream",
     "text": [
      "Cropped image /mnt/c/Adrianov/Projects/trash-detector/yolo_res/images/result_416.jpg and saved result to None\n",
      "/mnt/c/Adrianov/Projects/trash-detector/yolo_res/label/result_417.txt\n",
      "/mnt/c/Adrianov/Projects/trash-detector/yolo_res/images/result_417.jpg\n"
     ]
    },
    {
     "name": "stderr",
     "output_type": "stream",
     "text": [
      " 34%|█████████▎                 | 418/1219 [01:18<03:21,  3.97it/s]"
     ]
    },
    {
     "name": "stdout",
     "output_type": "stream",
     "text": [
      "Cropped image /mnt/c/Adrianov/Projects/trash-detector/yolo_res/images/result_417.jpg and saved result to None\n",
      "/mnt/c/Adrianov/Projects/trash-detector/yolo_res/label/result_418.txt\n",
      "/mnt/c/Adrianov/Projects/trash-detector/yolo_res/images/result_418.jpg\n"
     ]
    },
    {
     "name": "stderr",
     "output_type": "stream",
     "text": [
      " 34%|█████████▎                 | 420/1219 [01:19<03:01,  4.40it/s]"
     ]
    },
    {
     "name": "stdout",
     "output_type": "stream",
     "text": [
      "Cropped image /mnt/c/Adrianov/Projects/trash-detector/yolo_res/images/result_418.jpg and saved result to None\n",
      "/mnt/c/Adrianov/Projects/trash-detector/yolo_res/label/result_419.txt\n",
      "/mnt/c/Adrianov/Projects/trash-detector/yolo_res/images/result_419.jpg\n",
      "Cropped image /mnt/c/Adrianov/Projects/trash-detector/yolo_res/images/result_419.jpg and saved result to None\n",
      "/mnt/c/Adrianov/Projects/trash-detector/yolo_res/label/result_420.txt\n",
      "/mnt/c/Adrianov/Projects/trash-detector/yolo_res/images/result_420.jpg\n"
     ]
    },
    {
     "name": "stderr",
     "output_type": "stream",
     "text": [
      " 35%|█████████▎                 | 422/1219 [01:19<02:35,  5.13it/s]"
     ]
    },
    {
     "name": "stdout",
     "output_type": "stream",
     "text": [
      "Cropped image /mnt/c/Adrianov/Projects/trash-detector/yolo_res/images/result_420.jpg and saved result to None\n",
      "/mnt/c/Adrianov/Projects/trash-detector/yolo_res/label/result_421.txt\n",
      "/mnt/c/Adrianov/Projects/trash-detector/yolo_res/images/result_421.jpg\n",
      "Cropped image /mnt/c/Adrianov/Projects/trash-detector/yolo_res/images/result_421.jpg and saved result to None\n",
      "/mnt/c/Adrianov/Projects/trash-detector/yolo_res/label/result_422.txt\n",
      "/mnt/c/Adrianov/Projects/trash-detector/yolo_res/images/result_422.jpg\n"
     ]
    },
    {
     "name": "stderr",
     "output_type": "stream",
     "text": [
      " 35%|█████████▎                 | 423/1219 [01:19<02:39,  4.98it/s]"
     ]
    },
    {
     "name": "stdout",
     "output_type": "stream",
     "text": [
      "Cropped image /mnt/c/Adrianov/Projects/trash-detector/yolo_res/images/result_422.jpg and saved result to None\n",
      "/mnt/c/Adrianov/Projects/trash-detector/yolo_res/label/result_423.txt\n",
      "/mnt/c/Adrianov/Projects/trash-detector/yolo_res/images/result_423.jpg\n"
     ]
    },
    {
     "name": "stderr",
     "output_type": "stream",
     "text": [
      " 35%|█████████▍                 | 425/1219 [01:20<02:45,  4.78it/s]"
     ]
    },
    {
     "name": "stdout",
     "output_type": "stream",
     "text": [
      "Cropped image /mnt/c/Adrianov/Projects/trash-detector/yolo_res/images/result_423.jpg and saved result to None\n",
      "/mnt/c/Adrianov/Projects/trash-detector/yolo_res/label/result_424.txt\n",
      "/mnt/c/Adrianov/Projects/trash-detector/yolo_res/images/result_424.jpg\n",
      "Cropped image /mnt/c/Adrianov/Projects/trash-detector/yolo_res/images/result_424.jpg and saved result to None\n",
      "/mnt/c/Adrianov/Projects/trash-detector/yolo_res/label/result_425.txt\n",
      "/mnt/c/Adrianov/Projects/trash-detector/yolo_res/images/result_425.jpg\n"
     ]
    },
    {
     "name": "stderr",
     "output_type": "stream",
     "text": [
      " 35%|█████████▍                 | 426/1219 [01:20<02:23,  5.51it/s]"
     ]
    },
    {
     "name": "stdout",
     "output_type": "stream",
     "text": [
      "Cropped image /mnt/c/Adrianov/Projects/trash-detector/yolo_res/images/result_425.jpg and saved result to None\n",
      "/mnt/c/Adrianov/Projects/trash-detector/yolo_res/label/result_426.txt\n",
      "/mnt/c/Adrianov/Projects/trash-detector/yolo_res/images/result_426.jpg\n"
     ]
    },
    {
     "name": "stderr",
     "output_type": "stream",
     "text": [
      " 35%|█████████▍                 | 427/1219 [01:20<02:56,  4.50it/s]"
     ]
    },
    {
     "name": "stdout",
     "output_type": "stream",
     "text": [
      "Cropped image /mnt/c/Adrianov/Projects/trash-detector/yolo_res/images/result_426.jpg and saved result to None\n",
      "/mnt/c/Adrianov/Projects/trash-detector/yolo_res/label/result_427.txt\n",
      "/mnt/c/Adrianov/Projects/trash-detector/yolo_res/images/result_427.jpg\n"
     ]
    },
    {
     "name": "stderr",
     "output_type": "stream",
     "text": [
      " 35%|█████████▌                 | 429/1219 [01:21<02:48,  4.68it/s]"
     ]
    },
    {
     "name": "stdout",
     "output_type": "stream",
     "text": [
      "Cropped image /mnt/c/Adrianov/Projects/trash-detector/yolo_res/images/result_427.jpg and saved result to None\n",
      "/mnt/c/Adrianov/Projects/trash-detector/yolo_res/label/result_428.txt\n",
      "/mnt/c/Adrianov/Projects/trash-detector/yolo_res/images/result_428.jpg\n",
      "Cropped image /mnt/c/Adrianov/Projects/trash-detector/yolo_res/images/result_428.jpg and saved result to None\n",
      "/mnt/c/Adrianov/Projects/trash-detector/yolo_res/label/result_429.txt\n",
      "/mnt/c/Adrianov/Projects/trash-detector/yolo_res/images/result_429.jpg\n"
     ]
    },
    {
     "name": "stderr",
     "output_type": "stream",
     "text": [
      " 35%|█████████▌                 | 430/1219 [01:21<02:53,  4.55it/s]"
     ]
    },
    {
     "name": "stdout",
     "output_type": "stream",
     "text": [
      "Cropped image /mnt/c/Adrianov/Projects/trash-detector/yolo_res/images/result_429.jpg and saved result to None\n",
      "/mnt/c/Adrianov/Projects/trash-detector/yolo_res/label/result_430.txt\n",
      "/mnt/c/Adrianov/Projects/trash-detector/yolo_res/images/result_430.jpg\n"
     ]
    },
    {
     "name": "stderr",
     "output_type": "stream",
     "text": [
      " 35%|█████████▌                 | 431/1219 [01:21<02:55,  4.48it/s]"
     ]
    },
    {
     "name": "stdout",
     "output_type": "stream",
     "text": [
      "Cropped image /mnt/c/Adrianov/Projects/trash-detector/yolo_res/images/result_430.jpg and saved result to None\n",
      "/mnt/c/Adrianov/Projects/trash-detector/yolo_res/label/result_431.txt\n",
      "/mnt/c/Adrianov/Projects/trash-detector/yolo_res/images/result_431.jpg\n"
     ]
    },
    {
     "name": "stderr",
     "output_type": "stream",
     "text": [
      " 36%|█████████▌                 | 433/1219 [01:22<02:25,  5.40it/s]"
     ]
    },
    {
     "name": "stdout",
     "output_type": "stream",
     "text": [
      "Cropped image /mnt/c/Adrianov/Projects/trash-detector/yolo_res/images/result_431.jpg and saved result to None\n",
      "/mnt/c/Adrianov/Projects/trash-detector/yolo_res/label/result_432.txt\n",
      "/mnt/c/Adrianov/Projects/trash-detector/yolo_res/images/result_432.jpg\n",
      "Cropped image /mnt/c/Adrianov/Projects/trash-detector/yolo_res/images/result_432.jpg and saved result to None\n",
      "/mnt/c/Adrianov/Projects/trash-detector/yolo_res/label/result_433.txt\n",
      "/mnt/c/Adrianov/Projects/trash-detector/yolo_res/images/result_433.jpg\n"
     ]
    },
    {
     "name": "stderr",
     "output_type": "stream",
     "text": [
      " 36%|█████████▌                 | 434/1219 [01:22<02:36,  5.02it/s]"
     ]
    },
    {
     "name": "stdout",
     "output_type": "stream",
     "text": [
      "Cropped image /mnt/c/Adrianov/Projects/trash-detector/yolo_res/images/result_433.jpg and saved result to None\n",
      "/mnt/c/Adrianov/Projects/trash-detector/yolo_res/label/result_434.txt\n",
      "/mnt/c/Adrianov/Projects/trash-detector/yolo_res/images/result_434.jpg\n"
     ]
    },
    {
     "name": "stderr",
     "output_type": "stream",
     "text": [
      " 36%|█████████▋                 | 435/1219 [01:22<02:38,  4.93it/s]"
     ]
    },
    {
     "name": "stdout",
     "output_type": "stream",
     "text": [
      "Cropped image /mnt/c/Adrianov/Projects/trash-detector/yolo_res/images/result_434.jpg and saved result to None\n",
      "/mnt/c/Adrianov/Projects/trash-detector/yolo_res/label/result_435.txt\n",
      "/mnt/c/Adrianov/Projects/trash-detector/yolo_res/images/result_435.jpg\n"
     ]
    },
    {
     "name": "stderr",
     "output_type": "stream",
     "text": [
      " 36%|█████████▋                 | 437/1219 [01:22<02:23,  5.45it/s]"
     ]
    },
    {
     "name": "stdout",
     "output_type": "stream",
     "text": [
      "Cropped image /mnt/c/Adrianov/Projects/trash-detector/yolo_res/images/result_435.jpg and saved result to None\n",
      "/mnt/c/Adrianov/Projects/trash-detector/yolo_res/label/result_436.txt\n",
      "/mnt/c/Adrianov/Projects/trash-detector/yolo_res/images/result_436.jpg\n",
      "Cropped image /mnt/c/Adrianov/Projects/trash-detector/yolo_res/images/result_436.jpg and saved result to None\n",
      "/mnt/c/Adrianov/Projects/trash-detector/yolo_res/label/result_437.txt\n",
      "/mnt/c/Adrianov/Projects/trash-detector/yolo_res/images/result_437.jpg\n"
     ]
    },
    {
     "name": "stderr",
     "output_type": "stream",
     "text": [
      " 36%|█████████▋                 | 438/1219 [01:22<02:07,  6.12it/s]"
     ]
    },
    {
     "name": "stdout",
     "output_type": "stream",
     "text": [
      "Cropped image /mnt/c/Adrianov/Projects/trash-detector/yolo_res/images/result_437.jpg and saved result to None\n",
      "/mnt/c/Adrianov/Projects/trash-detector/yolo_res/label/result_438.txt\n",
      "/mnt/c/Adrianov/Projects/trash-detector/yolo_res/images/result_438.jpg\n"
     ]
    },
    {
     "name": "stderr",
     "output_type": "stream",
     "text": [
      " 36%|█████████▋                 | 440/1219 [01:23<02:13,  5.85it/s]"
     ]
    },
    {
     "name": "stdout",
     "output_type": "stream",
     "text": [
      "Cropped image /mnt/c/Adrianov/Projects/trash-detector/yolo_res/images/result_438.jpg and saved result to None\n",
      "/mnt/c/Adrianov/Projects/trash-detector/yolo_res/label/result_439.txt\n",
      "/mnt/c/Adrianov/Projects/trash-detector/yolo_res/images/result_439.jpg\n",
      "Cropped image /mnt/c/Adrianov/Projects/trash-detector/yolo_res/images/result_439.jpg and saved result to None\n",
      "/mnt/c/Adrianov/Projects/trash-detector/yolo_res/label/result_440.txt\n",
      "/mnt/c/Adrianov/Projects/trash-detector/yolo_res/images/result_440.jpg\n"
     ]
    },
    {
     "name": "stderr",
     "output_type": "stream",
     "text": [
      " 36%|█████████▊                 | 442/1219 [01:23<02:01,  6.38it/s]"
     ]
    },
    {
     "name": "stdout",
     "output_type": "stream",
     "text": [
      "Cropped image /mnt/c/Adrianov/Projects/trash-detector/yolo_res/images/result_440.jpg and saved result to None\n",
      "/mnt/c/Adrianov/Projects/trash-detector/yolo_res/label/result_441.txt\n",
      "/mnt/c/Adrianov/Projects/trash-detector/yolo_res/images/result_441.jpg\n",
      "Cropped image /mnt/c/Adrianov/Projects/trash-detector/yolo_res/images/result_441.jpg and saved result to None\n",
      "/mnt/c/Adrianov/Projects/trash-detector/yolo_res/label/result_442.txt\n",
      "/mnt/c/Adrianov/Projects/trash-detector/yolo_res/images/result_442.jpg\n"
     ]
    },
    {
     "name": "stderr",
     "output_type": "stream",
     "text": [
      " 36%|█████████▊                 | 443/1219 [01:23<02:48,  4.62it/s]"
     ]
    },
    {
     "name": "stdout",
     "output_type": "stream",
     "text": [
      "Cropped image /mnt/c/Adrianov/Projects/trash-detector/yolo_res/images/result_442.jpg and saved result to None\n",
      "/mnt/c/Adrianov/Projects/trash-detector/yolo_res/label/result_443.txt\n",
      "/mnt/c/Adrianov/Projects/trash-detector/yolo_res/images/result_443.jpg\n"
     ]
    },
    {
     "name": "stderr",
     "output_type": "stream",
     "text": [
      " 36%|█████████▊                 | 444/1219 [01:24<02:52,  4.49it/s]"
     ]
    },
    {
     "name": "stdout",
     "output_type": "stream",
     "text": [
      "Cropped image /mnt/c/Adrianov/Projects/trash-detector/yolo_res/images/result_443.jpg and saved result to None\n",
      "/mnt/c/Adrianov/Projects/trash-detector/yolo_res/label/result_444.txt\n",
      "/mnt/c/Adrianov/Projects/trash-detector/yolo_res/images/result_444.jpg\n"
     ]
    },
    {
     "name": "stderr",
     "output_type": "stream",
     "text": [
      " 37%|█████████▊                 | 445/1219 [01:24<02:59,  4.31it/s]"
     ]
    },
    {
     "name": "stdout",
     "output_type": "stream",
     "text": [
      "Cropped image /mnt/c/Adrianov/Projects/trash-detector/yolo_res/images/result_444.jpg and saved result to None\n",
      "/mnt/c/Adrianov/Projects/trash-detector/yolo_res/label/result_445.txt\n",
      "/mnt/c/Adrianov/Projects/trash-detector/yolo_res/images/result_445.jpg\n"
     ]
    },
    {
     "name": "stderr",
     "output_type": "stream",
     "text": [
      " 37%|█████████▉                 | 446/1219 [01:24<03:27,  3.72it/s]"
     ]
    },
    {
     "name": "stdout",
     "output_type": "stream",
     "text": [
      "Cropped image /mnt/c/Adrianov/Projects/trash-detector/yolo_res/images/result_445.jpg and saved result to None\n",
      "/mnt/c/Adrianov/Projects/trash-detector/yolo_res/label/result_446.txt\n",
      "/mnt/c/Adrianov/Projects/trash-detector/yolo_res/images/result_446.jpg\n"
     ]
    },
    {
     "name": "stderr",
     "output_type": "stream",
     "text": [
      " 37%|█████████▉                 | 447/1219 [01:25<05:26,  2.36it/s]"
     ]
    },
    {
     "name": "stdout",
     "output_type": "stream",
     "text": [
      "Cropped image /mnt/c/Adrianov/Projects/trash-detector/yolo_res/images/result_446.jpg and saved result to None\n",
      "/mnt/c/Adrianov/Projects/trash-detector/yolo_res/label/result_447.txt\n",
      "/mnt/c/Adrianov/Projects/trash-detector/yolo_res/images/result_447.jpg\n"
     ]
    },
    {
     "name": "stderr",
     "output_type": "stream",
     "text": [
      " 37%|█████████▉                 | 448/1219 [01:25<05:10,  2.48it/s]"
     ]
    },
    {
     "name": "stdout",
     "output_type": "stream",
     "text": [
      "Cropped image /mnt/c/Adrianov/Projects/trash-detector/yolo_res/images/result_447.jpg and saved result to None\n",
      "/mnt/c/Adrianov/Projects/trash-detector/yolo_res/label/result_448.txt\n",
      "/mnt/c/Adrianov/Projects/trash-detector/yolo_res/images/result_448.jpg\n"
     ]
    },
    {
     "name": "stderr",
     "output_type": "stream",
     "text": [
      " 37%|█████████▉                 | 449/1219 [01:26<04:52,  2.64it/s]"
     ]
    },
    {
     "name": "stdout",
     "output_type": "stream",
     "text": [
      "Cropped image /mnt/c/Adrianov/Projects/trash-detector/yolo_res/images/result_448.jpg and saved result to None\n",
      "/mnt/c/Adrianov/Projects/trash-detector/yolo_res/label/result_449.txt\n",
      "/mnt/c/Adrianov/Projects/trash-detector/yolo_res/images/result_449.jpg\n"
     ]
    },
    {
     "name": "stderr",
     "output_type": "stream",
     "text": [
      " 37%|█████████▉                 | 450/1219 [01:26<05:03,  2.53it/s]"
     ]
    },
    {
     "name": "stdout",
     "output_type": "stream",
     "text": [
      "Cropped image /mnt/c/Adrianov/Projects/trash-detector/yolo_res/images/result_449.jpg and saved result to None\n",
      "/mnt/c/Adrianov/Projects/trash-detector/yolo_res/label/result_450.txt\n",
      "/mnt/c/Adrianov/Projects/trash-detector/yolo_res/images/result_450.jpg\n"
     ]
    },
    {
     "name": "stderr",
     "output_type": "stream",
     "text": [
      " 37%|██████████                 | 452/1219 [01:27<04:06,  3.12it/s]"
     ]
    },
    {
     "name": "stdout",
     "output_type": "stream",
     "text": [
      "Cropped image /mnt/c/Adrianov/Projects/trash-detector/yolo_res/images/result_450.jpg and saved result to None\n",
      "/mnt/c/Adrianov/Projects/trash-detector/yolo_res/label/result_451.txt\n",
      "/mnt/c/Adrianov/Projects/trash-detector/yolo_res/images/result_451.jpg\n",
      "Cropped image /mnt/c/Adrianov/Projects/trash-detector/yolo_res/images/result_451.jpg and saved result to None\n",
      "/mnt/c/Adrianov/Projects/trash-detector/yolo_res/label/result_452.txt\n",
      "/mnt/c/Adrianov/Projects/trash-detector/yolo_res/images/result_452.jpg\n"
     ]
    },
    {
     "name": "stderr",
     "output_type": "stream",
     "text": [
      " 37%|██████████                 | 453/1219 [01:27<04:31,  2.82it/s]"
     ]
    },
    {
     "name": "stdout",
     "output_type": "stream",
     "text": [
      "Cropped image /mnt/c/Adrianov/Projects/trash-detector/yolo_res/images/result_452.jpg and saved result to None\n",
      "/mnt/c/Adrianov/Projects/trash-detector/yolo_res/label/result_453.txt\n",
      "/mnt/c/Adrianov/Projects/trash-detector/yolo_res/images/result_453.jpg\n"
     ]
    },
    {
     "name": "stderr",
     "output_type": "stream",
     "text": [
      " 37%|██████████                 | 454/1219 [01:28<04:36,  2.77it/s]"
     ]
    },
    {
     "name": "stdout",
     "output_type": "stream",
     "text": [
      "Cropped image /mnt/c/Adrianov/Projects/trash-detector/yolo_res/images/result_453.jpg and saved result to None\n",
      "/mnt/c/Adrianov/Projects/trash-detector/yolo_res/label/result_454.txt\n",
      "/mnt/c/Adrianov/Projects/trash-detector/yolo_res/images/result_454.jpg\n"
     ]
    },
    {
     "name": "stderr",
     "output_type": "stream",
     "text": [
      " 37%|██████████                 | 456/1219 [01:29<06:19,  2.01it/s]"
     ]
    },
    {
     "name": "stdout",
     "output_type": "stream",
     "text": [
      "Cropped image /mnt/c/Adrianov/Projects/trash-detector/yolo_res/images/result_454.jpg and saved result to None\n",
      "/mnt/c/Adrianov/Projects/trash-detector/yolo_res/label/result_455.txt\n",
      "/mnt/c/Adrianov/Projects/trash-detector/yolo_res/images/result_455.jpg\n",
      "Cropped image /mnt/c/Adrianov/Projects/trash-detector/yolo_res/images/result_455.jpg and saved result to None\n",
      "/mnt/c/Adrianov/Projects/trash-detector/yolo_res/label/result_456.txt\n",
      "/mnt/c/Adrianov/Projects/trash-detector/yolo_res/images/result_456.jpg\n"
     ]
    },
    {
     "name": "stderr",
     "output_type": "stream",
     "text": [
      " 38%|██████████▏                | 458/1219 [01:29<03:55,  3.23it/s]"
     ]
    },
    {
     "name": "stdout",
     "output_type": "stream",
     "text": [
      "Cropped image /mnt/c/Adrianov/Projects/trash-detector/yolo_res/images/result_456.jpg and saved result to None\n",
      "/mnt/c/Adrianov/Projects/trash-detector/yolo_res/label/result_457.txt\n",
      "/mnt/c/Adrianov/Projects/trash-detector/yolo_res/images/result_457.jpg\n",
      "Cropped image /mnt/c/Adrianov/Projects/trash-detector/yolo_res/images/result_457.jpg and saved result to None\n",
      "/mnt/c/Adrianov/Projects/trash-detector/yolo_res/label/result_458.txt\n",
      "/mnt/c/Adrianov/Projects/trash-detector/yolo_res/images/result_458.jpg\n"
     ]
    },
    {
     "name": "stderr",
     "output_type": "stream",
     "text": [
      " 38%|██████████▏                | 460/1219 [01:29<02:36,  4.87it/s]"
     ]
    },
    {
     "name": "stdout",
     "output_type": "stream",
     "text": [
      "Cropped image /mnt/c/Adrianov/Projects/trash-detector/yolo_res/images/result_458.jpg and saved result to None\n",
      "/mnt/c/Adrianov/Projects/trash-detector/yolo_res/label/result_459.txt\n",
      "/mnt/c/Adrianov/Projects/trash-detector/yolo_res/images/result_459.jpg\n",
      "Cropped image /mnt/c/Adrianov/Projects/trash-detector/yolo_res/images/result_459.jpg and saved result to None\n",
      "/mnt/c/Adrianov/Projects/trash-detector/yolo_res/label/result_460.txt\n",
      "/mnt/c/Adrianov/Projects/trash-detector/yolo_res/images/result_460.jpg\n"
     ]
    },
    {
     "name": "stderr",
     "output_type": "stream",
     "text": [
      " 38%|██████████▎                | 463/1219 [01:30<01:42,  7.35it/s]"
     ]
    },
    {
     "name": "stdout",
     "output_type": "stream",
     "text": [
      "Cropped image /mnt/c/Adrianov/Projects/trash-detector/yolo_res/images/result_460.jpg and saved result to None\n",
      "/mnt/c/Adrianov/Projects/trash-detector/yolo_res/label/result_461.txt\n",
      "/mnt/c/Adrianov/Projects/trash-detector/yolo_res/images/result_461.jpg\n",
      "Cropped image /mnt/c/Adrianov/Projects/trash-detector/yolo_res/images/result_461.jpg and saved result to None\n",
      "/mnt/c/Adrianov/Projects/trash-detector/yolo_res/label/result_462.txt\n",
      "/mnt/c/Adrianov/Projects/trash-detector/yolo_res/images/result_462.jpg\n",
      "Cropped image /mnt/c/Adrianov/Projects/trash-detector/yolo_res/images/result_462.jpg and saved result to None\n",
      "/mnt/c/Adrianov/Projects/trash-detector/yolo_res/label/result_463.txt\n",
      "/mnt/c/Adrianov/Projects/trash-detector/yolo_res/images/result_463.jpg\n"
     ]
    },
    {
     "name": "stderr",
     "output_type": "stream",
     "text": [
      " 38%|██████████▎                | 464/1219 [01:30<01:36,  7.80it/s]"
     ]
    },
    {
     "name": "stdout",
     "output_type": "stream",
     "text": [
      "Cropped image /mnt/c/Adrianov/Projects/trash-detector/yolo_res/images/result_463.jpg and saved result to None\n",
      "/mnt/c/Adrianov/Projects/trash-detector/yolo_res/label/result_464.txt\n",
      "/mnt/c/Adrianov/Projects/trash-detector/yolo_res/images/result_464.jpg\n",
      "Cropped image /mnt/c/Adrianov/Projects/trash-detector/yolo_res/images/result_464.jpg and saved result to None\n",
      "/mnt/c/Adrianov/Projects/trash-detector/yolo_res/label/result_465.txt\n",
      "/mnt/c/Adrianov/Projects/trash-detector/yolo_res/images/result_465.jpg\n"
     ]
    },
    {
     "name": "stderr",
     "output_type": "stream",
     "text": [
      " 38%|██████████▎                | 467/1219 [01:30<01:40,  7.50it/s]"
     ]
    },
    {
     "name": "stdout",
     "output_type": "stream",
     "text": [
      "Cropped image /mnt/c/Adrianov/Projects/trash-detector/yolo_res/images/result_465.jpg and saved result to None\n",
      "/mnt/c/Adrianov/Projects/trash-detector/yolo_res/label/result_466.txt\n",
      "/mnt/c/Adrianov/Projects/trash-detector/yolo_res/images/result_466.jpg\n",
      "Cropped image /mnt/c/Adrianov/Projects/trash-detector/yolo_res/images/result_466.jpg and saved result to None\n",
      "/mnt/c/Adrianov/Projects/trash-detector/yolo_res/label/result_467.txt\n",
      "/mnt/c/Adrianov/Projects/trash-detector/yolo_res/images/result_467.jpg\n"
     ]
    },
    {
     "name": "stderr",
     "output_type": "stream",
     "text": [
      " 39%|██████████▍                | 470/1219 [01:31<01:27,  8.57it/s]"
     ]
    },
    {
     "name": "stdout",
     "output_type": "stream",
     "text": [
      "Cropped image /mnt/c/Adrianov/Projects/trash-detector/yolo_res/images/result_467.jpg and saved result to None\n",
      "/mnt/c/Adrianov/Projects/trash-detector/yolo_res/label/result_468.txt\n",
      "/mnt/c/Adrianov/Projects/trash-detector/yolo_res/images/result_468.jpg\n",
      "Cropped image /mnt/c/Adrianov/Projects/trash-detector/yolo_res/images/result_468.jpg and saved result to None\n",
      "/mnt/c/Adrianov/Projects/trash-detector/yolo_res/label/result_469.txt\n",
      "/mnt/c/Adrianov/Projects/trash-detector/yolo_res/images/result_469.jpg\n",
      "Cropped image /mnt/c/Adrianov/Projects/trash-detector/yolo_res/images/result_469.jpg and saved result to None\n",
      "/mnt/c/Adrianov/Projects/trash-detector/yolo_res/label/result_470.txt\n",
      "/mnt/c/Adrianov/Projects/trash-detector/yolo_res/images/result_470.jpg\n"
     ]
    },
    {
     "name": "stderr",
     "output_type": "stream",
     "text": [
      " 39%|██████████▍                | 472/1219 [01:31<01:26,  8.60it/s]"
     ]
    },
    {
     "name": "stdout",
     "output_type": "stream",
     "text": [
      "Cropped image /mnt/c/Adrianov/Projects/trash-detector/yolo_res/images/result_470.jpg and saved result to None\n",
      "/mnt/c/Adrianov/Projects/trash-detector/yolo_res/label/result_471.txt\n",
      "/mnt/c/Adrianov/Projects/trash-detector/yolo_res/images/result_471.jpg\n",
      "Cropped image /mnt/c/Adrianov/Projects/trash-detector/yolo_res/images/result_471.jpg and saved result to None\n",
      "/mnt/c/Adrianov/Projects/trash-detector/yolo_res/label/result_472.txt\n",
      "/mnt/c/Adrianov/Projects/trash-detector/yolo_res/images/result_472.jpg\n"
     ]
    },
    {
     "name": "stderr",
     "output_type": "stream",
     "text": [
      " 39%|██████████▍                | 473/1219 [01:31<01:46,  6.97it/s]"
     ]
    },
    {
     "name": "stdout",
     "output_type": "stream",
     "text": [
      "Cropped image /mnt/c/Adrianov/Projects/trash-detector/yolo_res/images/result_472.jpg and saved result to None\n",
      "/mnt/c/Adrianov/Projects/trash-detector/yolo_res/label/result_473.txt\n",
      "/mnt/c/Adrianov/Projects/trash-detector/yolo_res/images/result_473.jpg\n"
     ]
    },
    {
     "name": "stderr",
     "output_type": "stream",
     "text": [
      " 39%|██████████▌                | 475/1219 [01:31<01:55,  6.44it/s]"
     ]
    },
    {
     "name": "stdout",
     "output_type": "stream",
     "text": [
      "Cropped image /mnt/c/Adrianov/Projects/trash-detector/yolo_res/images/result_473.jpg and saved result to None\n",
      "/mnt/c/Adrianov/Projects/trash-detector/yolo_res/label/result_474.txt\n",
      "/mnt/c/Adrianov/Projects/trash-detector/yolo_res/images/result_474.jpg\n",
      "Cropped image /mnt/c/Adrianov/Projects/trash-detector/yolo_res/images/result_474.jpg and saved result to None\n",
      "/mnt/c/Adrianov/Projects/trash-detector/yolo_res/label/result_475.txt\n",
      "/mnt/c/Adrianov/Projects/trash-detector/yolo_res/images/result_475.jpg\n"
     ]
    },
    {
     "name": "stderr",
     "output_type": "stream",
     "text": [
      " 39%|██████████▌                | 476/1219 [01:32<01:46,  7.01it/s]"
     ]
    },
    {
     "name": "stdout",
     "output_type": "stream",
     "text": [
      "Cropped image /mnt/c/Adrianov/Projects/trash-detector/yolo_res/images/result_475.jpg and saved result to None\n",
      "/mnt/c/Adrianov/Projects/trash-detector/yolo_res/label/result_476.txt\n",
      "/mnt/c/Adrianov/Projects/trash-detector/yolo_res/images/result_476.jpg\n",
      "Cropped image /mnt/c/Adrianov/Projects/trash-detector/yolo_res/images/result_476.jpg and saved result to None\n",
      "/mnt/c/Adrianov/Projects/trash-detector/yolo_res/label/result_477.txt\n",
      "/mnt/c/Adrianov/Projects/trash-detector/yolo_res/images/result_477.jpg\n"
     ]
    },
    {
     "name": "stderr",
     "output_type": "stream",
     "text": [
      " 39%|██████████▌                | 479/1219 [01:32<01:32,  7.96it/s]"
     ]
    },
    {
     "name": "stdout",
     "output_type": "stream",
     "text": [
      "Cropped image /mnt/c/Adrianov/Projects/trash-detector/yolo_res/images/result_477.jpg and saved result to None\n",
      "/mnt/c/Adrianov/Projects/trash-detector/yolo_res/label/result_478.txt\n",
      "/mnt/c/Adrianov/Projects/trash-detector/yolo_res/images/result_478.jpg\n",
      "Cropped image /mnt/c/Adrianov/Projects/trash-detector/yolo_res/images/result_478.jpg and saved result to None\n",
      "/mnt/c/Adrianov/Projects/trash-detector/yolo_res/label/result_479.txt\n",
      "/mnt/c/Adrianov/Projects/trash-detector/yolo_res/images/result_479.jpg\n"
     ]
    },
    {
     "name": "stderr",
     "output_type": "stream",
     "text": [
      " 39%|██████████▋                | 481/1219 [01:32<01:30,  8.19it/s]"
     ]
    },
    {
     "name": "stdout",
     "output_type": "stream",
     "text": [
      "Cropped image /mnt/c/Adrianov/Projects/trash-detector/yolo_res/images/result_479.jpg and saved result to None\n",
      "/mnt/c/Adrianov/Projects/trash-detector/yolo_res/label/result_480.txt\n",
      "/mnt/c/Adrianov/Projects/trash-detector/yolo_res/images/result_480.jpg\n",
      "Cropped image /mnt/c/Adrianov/Projects/trash-detector/yolo_res/images/result_480.jpg and saved result to None\n",
      "/mnt/c/Adrianov/Projects/trash-detector/yolo_res/label/result_481.txt\n",
      "/mnt/c/Adrianov/Projects/trash-detector/yolo_res/images/result_481.jpg\n"
     ]
    },
    {
     "name": "stderr",
     "output_type": "stream",
     "text": [
      " 40%|██████████▋                | 483/1219 [01:32<01:48,  6.81it/s]"
     ]
    },
    {
     "name": "stdout",
     "output_type": "stream",
     "text": [
      "Cropped image /mnt/c/Adrianov/Projects/trash-detector/yolo_res/images/result_481.jpg and saved result to None\n",
      "/mnt/c/Adrianov/Projects/trash-detector/yolo_res/label/result_482.txt\n",
      "/mnt/c/Adrianov/Projects/trash-detector/yolo_res/images/result_482.jpg\n",
      "Cropped image /mnt/c/Adrianov/Projects/trash-detector/yolo_res/images/result_482.jpg and saved result to None\n",
      "/mnt/c/Adrianov/Projects/trash-detector/yolo_res/label/result_483.txt\n",
      "/mnt/c/Adrianov/Projects/trash-detector/yolo_res/images/result_483.jpg\n"
     ]
    },
    {
     "name": "stderr",
     "output_type": "stream",
     "text": [
      " 40%|██████████▋                | 485/1219 [01:33<01:31,  8.02it/s]"
     ]
    },
    {
     "name": "stdout",
     "output_type": "stream",
     "text": [
      "Cropped image /mnt/c/Adrianov/Projects/trash-detector/yolo_res/images/result_483.jpg and saved result to None\n",
      "/mnt/c/Adrianov/Projects/trash-detector/yolo_res/label/result_484.txt\n",
      "/mnt/c/Adrianov/Projects/trash-detector/yolo_res/images/result_484.jpg\n",
      "Cropped image /mnt/c/Adrianov/Projects/trash-detector/yolo_res/images/result_484.jpg and saved result to None\n",
      "/mnt/c/Adrianov/Projects/trash-detector/yolo_res/label/result_485.txt\n",
      "/mnt/c/Adrianov/Projects/trash-detector/yolo_res/images/result_485.jpg\n"
     ]
    },
    {
     "name": "stderr",
     "output_type": "stream",
     "text": [
      " 40%|██████████▊                | 487/1219 [01:33<01:41,  7.21it/s]"
     ]
    },
    {
     "name": "stdout",
     "output_type": "stream",
     "text": [
      "Cropped image /mnt/c/Adrianov/Projects/trash-detector/yolo_res/images/result_485.jpg and saved result to None\n",
      "/mnt/c/Adrianov/Projects/trash-detector/yolo_res/label/result_486.txt\n",
      "/mnt/c/Adrianov/Projects/trash-detector/yolo_res/images/result_486.jpg\n",
      "Cropped image /mnt/c/Adrianov/Projects/trash-detector/yolo_res/images/result_486.jpg and saved result to None\n",
      "/mnt/c/Adrianov/Projects/trash-detector/yolo_res/label/result_487.txt\n",
      "/mnt/c/Adrianov/Projects/trash-detector/yolo_res/images/result_487.jpg\n"
     ]
    },
    {
     "name": "stderr",
     "output_type": "stream",
     "text": [
      " 40%|██████████▊                | 488/1219 [01:33<01:45,  6.92it/s]"
     ]
    },
    {
     "name": "stdout",
     "output_type": "stream",
     "text": [
      "obj: 3, obj: 0\n",
      "0.4200329166666667 0.16460308333333334 0.7307037148148148 1.1657942851851852\n",
      "0.5856716999999999 0.5096423 0.33689 0.667974\n",
      "False\n",
      "True\n",
      "False\n",
      "False\n",
      "True\n",
      "obj: 3, obj: 1\n",
      "0.4200329166666667 0.16460308333333334 0.7307037148148148 1.1657942851851852\n",
      "0.29339899999999997 0.165631 0.24818649999999998 0.9437355\n",
      "True\n",
      "False\n",
      "False\n",
      "True\n",
      "True\n",
      "obj: 3, obj: 2\n",
      "0.4200329166666667 0.16460308333333334 0.7307037148148148 1.1657942851851852\n",
      "0.6800855 0.5871445000000001 0.370256 0.6221479999999999\n",
      "False\n",
      "True\n",
      "False\n",
      "False\n",
      "True\n",
      "['1', '0.292318', '0.948249', '0.0470965', '0.0647202']\n",
      "['0', '0.229515', '0.595961', '0.127768', '0.695549']\n",
      "Regions:  [(318, 606, 268, 1059)]\n",
      "Cropped image /mnt/c/Adrianov/Projects/trash-detector/yolo_res/images/result_487.jpg and saved result to /mnt/c/Adrianov/Projects/trash-detector/masks/imgs/result_487_0.jpg\n",
      "/mnt/c/Adrianov/Projects/trash-detector/yolo_res/label/result_488.txt\n",
      "/mnt/c/Adrianov/Projects/trash-detector/yolo_res/images/result_488.jpg\n"
     ]
    },
    {
     "name": "stderr",
     "output_type": "stream",
     "text": [
      " 40%|██████████▊                | 490/1219 [01:33<01:52,  6.49it/s]"
     ]
    },
    {
     "name": "stdout",
     "output_type": "stream",
     "text": [
      "Cropped image /mnt/c/Adrianov/Projects/trash-detector/yolo_res/images/result_488.jpg and saved result to None\n",
      "/mnt/c/Adrianov/Projects/trash-detector/yolo_res/label/result_489.txt\n",
      "/mnt/c/Adrianov/Projects/trash-detector/yolo_res/images/result_489.jpg\n",
      "obj: 2, obj: 0\n",
      "0.33062861666666665 0.09010138333333333 0.5284476148148148 0.9445583851851852\n",
      "0.6358039000000001 0.5557921 0.26369999999999993 0.623958\n",
      "False\n",
      "True\n",
      "False\n",
      "True\n",
      "True\n",
      "obj: 2, obj: 1\n",
      "0.33062861666666665 0.09010138333333333 0.5284476148148148 0.9445583851851852\n",
      "0.167222 0.043492 0.274253 0.779207\n",
      "True\n",
      "False\n",
      "False\n",
      "True\n",
      "True\n",
      "obj: 3, obj: 0\n",
      "0.7559509666666666 0.5191970333333333 0.42235661481481485 0.8147653851851853\n",
      "0.6358039000000001 0.5557921 0.26369999999999993 0.623958\n",
      "True\n",
      "False\n",
      "False\n",
      "True\n",
      "True\n",
      "obj: 3, obj: 1\n",
      "0.7559509666666666 0.5191970333333333 0.42235661481481485 0.8147653851851853\n",
      "0.167222 0.043492 0.274253 0.779207\n",
      "False\n",
      "False\n",
      "True\n",
      "True\n",
      "True\n",
      "['1', '0.210365', '0.736503', '0.0321939', '0.0457404']\n",
      "['0', '0.105357', '0.52673', '0.12373', '0.504954']\n",
      "Regions:  [(83, 434, 296, 841)]\n",
      "['1', '0.637574', '0.618561', '0.0284206', '0.0220384']\n",
      "['0', '0.595798', '0.443829', '0.0800118', '0.360258']\n",
      "Regions:  [(83, 434, 296, 841), (1067, 1251, 284, 679)]\n",
      "Cropped image /mnt/c/Adrianov/Projects/trash-detector/yolo_res/images/result_489.jpg and saved result to /mnt/c/Adrianov/Projects/trash-detector/masks/imgs/result_489_0.jpg\n",
      "/mnt/c/Adrianov/Projects/trash-detector/yolo_res/label/result_490.txt\n",
      "/mnt/c/Adrianov/Projects/trash-detector/yolo_res/images/result_490.jpg\n"
     ]
    },
    {
     "name": "stderr",
     "output_type": "stream",
     "text": [
      " 40%|██████████▉                | 492/1219 [01:34<01:49,  6.65it/s]"
     ]
    },
    {
     "name": "stdout",
     "output_type": "stream",
     "text": [
      "Cropped image /mnt/c/Adrianov/Projects/trash-detector/yolo_res/images/result_490.jpg and saved result to None\n",
      "/mnt/c/Adrianov/Projects/trash-detector/yolo_res/label/result_491.txt\n",
      "/mnt/c/Adrianov/Projects/trash-detector/yolo_res/images/result_491.jpg\n",
      "obj: 3, obj: 0\n",
      "0.4208140166666666 0.16519798333333333 0.7310723648148149 1.1657336351851852\n",
      "0.29412550000000004 0.1670385 0.2553515 0.9427665000000001\n",
      "True\n",
      "False\n",
      "False\n",
      "True\n",
      "True\n",
      "obj: 3, obj: 1\n",
      "0.4208140166666666 0.16519798333333333 0.7310723648148149 1.1657336351851852\n",
      "0.582111 0.503463 0.33894149999999995 0.6670624999999999\n",
      "False\n",
      "True\n",
      "False\n",
      "False\n",
      "True\n",
      "obj: 3, obj: 2\n",
      "0.4208140166666666 0.16519798333333333 0.7310723648148149 1.1657336351851852\n",
      "0.6804395999999999 0.5883904 0.37684799999999996 0.629296\n",
      "False\n",
      "True\n",
      "False\n",
      "False\n",
      "True\n",
      "['1', '0.293006', '0.948403', '0.0472827', '0.0642909']\n",
      "['0', '0.230582', '0.599059', '0.127087', '0.687415']\n",
      "Regions:  [(320, 607, 275, 1058)]\n",
      "Cropped image /mnt/c/Adrianov/Projects/trash-detector/yolo_res/images/result_491.jpg and saved result to /mnt/c/Adrianov/Projects/trash-detector/masks/imgs/result_491_0.jpg\n",
      "/mnt/c/Adrianov/Projects/trash-detector/yolo_res/label/result_492.txt\n",
      "/mnt/c/Adrianov/Projects/trash-detector/yolo_res/images/result_492.jpg\n"
     ]
    },
    {
     "name": "stderr",
     "output_type": "stream",
     "text": [
      " 41%|██████████▉                | 494/1219 [01:34<01:40,  7.23it/s]"
     ]
    },
    {
     "name": "stdout",
     "output_type": "stream",
     "text": [
      "obj: 2, obj: 0\n",
      "0.32951901666666666 0.09036298333333331 0.5292048148148149 0.9481711851851852\n",
      "0.63626195 0.55656605 0.26324200000000003 0.612304\n",
      "False\n",
      "True\n",
      "False\n",
      "True\n",
      "True\n",
      "obj: 2, obj: 1\n",
      "0.32951901666666666 0.09036298333333331 0.5292048148148149 0.9481711851851852\n",
      "0.1668 0.03705800000000001 0.27617749999999996 0.8082285\n",
      "True\n",
      "False\n",
      "False\n",
      "True\n",
      "True\n",
      "['1', '0.209941', '0.738688', '0.0308227', '0.048596']\n",
      "['0', '0.101929', '0.542203', '0.129742', '0.532051']\n",
      "Regions:  [(71, 432, 298, 872)]\n",
      "Cropped image /mnt/c/Adrianov/Projects/trash-detector/yolo_res/images/result_492.jpg and saved result to /mnt/c/Adrianov/Projects/trash-detector/masks/imgs/result_492_0.jpg\n",
      "/mnt/c/Adrianov/Projects/trash-detector/yolo_res/label/result_493.txt\n",
      "/mnt/c/Adrianov/Projects/trash-detector/yolo_res/images/result_493.jpg\n",
      "obj: 2, obj: 0\n",
      "0.3308070666666667 0.08915893333333333 0.5280705148148148 0.9472614851851853\n",
      "0.1680195 0.033030500000000004 0.27582100000000004 0.814193\n",
      "True\n",
      "False\n",
      "False\n",
      "True\n",
      "True\n",
      "obj: 2, obj: 1\n",
      "0.3308070666666667 0.08915893333333333 0.5280705148148148 0.9472614851851853\n",
      "0.6369932500000001 0.55609275 0.2664015 0.5981245\n",
      "False\n",
      "True\n",
      "False\n",
      "True\n",
      "True\n",
      "['1', '0.209983', '0.737666', '0.0333148', '0.0488206']\n",
      "['0', '0.100525', '0.545007', '0.134989', '0.538372']\n",
      "Regions:  [(63, 435, 297, 879)]\n",
      "Cropped image /mnt/c/Adrianov/Projects/trash-detector/yolo_res/images/result_493.jpg and saved result to /mnt/c/Adrianov/Projects/trash-detector/masks/imgs/result_493_0.jpg\n",
      "/mnt/c/Adrianov/Projects/trash-detector/yolo_res/label/result_494.txt\n",
      "/mnt/c/Adrianov/Projects/trash-detector/yolo_res/images/result_494.jpg\n"
     ]
    },
    {
     "name": "stderr",
     "output_type": "stream",
     "text": [
      " 41%|██████████▉                | 495/1219 [01:34<01:48,  6.66it/s]"
     ]
    },
    {
     "name": "stdout",
     "output_type": "stream",
     "text": [
      "obj: 3, obj: 0\n",
      "0.42005356666666666 0.16603243333333334 0.7320832148148149 1.1646307851851851\n",
      "0.5826975 0.5026145000000001 0.34139499999999995 0.667073\n",
      "False\n",
      "True\n",
      "False\n",
      "False\n",
      "True\n",
      "obj: 3, obj: 1\n",
      "0.42005356666666666 0.16603243333333334 0.7320832148148149 1.1646307851851851\n",
      "0.29521200000000003 0.168056 0.260007 0.940435\n",
      "True\n",
      "False\n",
      "False\n",
      "True\n",
      "True\n",
      "obj: 3, obj: 2\n",
      "0.42005356666666666 0.16603243333333334 0.7320832148148149 1.1646307851851851\n",
      "0.6788545500000001 0.58915545 0.376228 0.6343179999999999\n",
      "False\n",
      "True\n",
      "False\n",
      "False\n",
      "True\n",
      "['1', '0.293043', '0.948357', '0.0456878', '0.0621772']\n",
      "['0', '0.231634', '0.600221', '0.127156', '0.680428']\n",
      "Regions:  [(322, 606, 280, 1057)]\n",
      "Cropped image /mnt/c/Adrianov/Projects/trash-detector/yolo_res/images/result_494.jpg and saved result to /mnt/c/Adrianov/Projects/trash-detector/masks/imgs/result_494_0.jpg\n",
      "/mnt/c/Adrianov/Projects/trash-detector/yolo_res/label/result_495.txt\n",
      "/mnt/c/Adrianov/Projects/trash-detector/yolo_res/images/result_495.jpg\n"
     ]
    },
    {
     "name": "stderr",
     "output_type": "stream",
     "text": [
      " 41%|███████████                | 497/1219 [01:35<01:59,  6.02it/s]"
     ]
    },
    {
     "name": "stdout",
     "output_type": "stream",
     "text": [
      "Cropped image /mnt/c/Adrianov/Projects/trash-detector/yolo_res/images/result_495.jpg and saved result to None\n",
      "/mnt/c/Adrianov/Projects/trash-detector/yolo_res/label/result_496.txt\n",
      "/mnt/c/Adrianov/Projects/trash-detector/yolo_res/images/result_496.jpg\n",
      "Cropped image /mnt/c/Adrianov/Projects/trash-detector/yolo_res/images/result_496.jpg and saved result to None\n",
      "/mnt/c/Adrianov/Projects/trash-detector/yolo_res/label/result_497.txt\n",
      "/mnt/c/Adrianov/Projects/trash-detector/yolo_res/images/result_497.jpg\n"
     ]
    },
    {
     "name": "stderr",
     "output_type": "stream",
     "text": [
      " 41%|███████████                | 498/1219 [01:36<07:23,  1.63it/s]"
     ]
    },
    {
     "name": "stdout",
     "output_type": "stream",
     "text": [
      "obj: 3, obj: 0\n",
      "0.4199219166666667 0.16607408333333332 0.7325352148148149 1.164868785185185\n",
      "0.5782894000000001 0.4986046 0.340785 0.6656650000000001\n",
      "False\n",
      "True\n",
      "False\n",
      "False\n",
      "True\n",
      "obj: 3, obj: 1\n",
      "0.4199219166666667 0.16607408333333332 0.7325352148148149 1.164868785185185\n",
      "0.295107 0.17080499999999998 0.2617595 0.9392525\n",
      "True\n",
      "False\n",
      "False\n",
      "True\n",
      "True\n",
      "obj: 3, obj: 2\n",
      "0.4199219166666667 0.16607408333333332 0.7325352148148149 1.164868785185185\n",
      "0.67910225 0.5868417499999999 0.38530800000000004 0.6364400000000001\n",
      "False\n",
      "True\n",
      "False\n",
      "False\n",
      "True\n",
      "['1', '0.292998', '0.948702', '0.0455145', '0.0619632']\n",
      "['0', '0.232956', '0.600506', '0.124302', '0.677493']\n",
      "Regions:  [(327, 606, 282, 1058)]\n",
      "Cropped image /mnt/c/Adrianov/Projects/trash-detector/yolo_res/images/result_497.jpg and saved result to /mnt/c/Adrianov/Projects/trash-detector/masks/imgs/result_497_0.jpg\n",
      "/mnt/c/Adrianov/Projects/trash-detector/yolo_res/label/result_498.txt\n",
      "/mnt/c/Adrianov/Projects/trash-detector/yolo_res/images/result_498.jpg\n"
     ]
    },
    {
     "name": "stderr",
     "output_type": "stream",
     "text": [
      " 41%|███████████                | 500/1219 [01:36<04:29,  2.66it/s]"
     ]
    },
    {
     "name": "stdout",
     "output_type": "stream",
     "text": [
      "Cropped image /mnt/c/Adrianov/Projects/trash-detector/yolo_res/images/result_498.jpg and saved result to None\n",
      "/mnt/c/Adrianov/Projects/trash-detector/yolo_res/label/result_499.txt\n",
      "/mnt/c/Adrianov/Projects/trash-detector/yolo_res/images/result_499.jpg\n",
      "obj: 2, obj: 0\n",
      "0.3273326666666667 0.08937133333333333 0.5281726648148148 0.9511933351851851\n",
      "0.1683445 0.03461550000000001 0.278289 0.814999\n",
      "True\n",
      "False\n",
      "False\n",
      "True\n",
      "True\n",
      "obj: 2, obj: 1\n",
      "0.3273326666666667 0.08937133333333333 0.5281726648148148 0.9511933351851851\n",
      "0.63855555 0.55584045 0.26807800000000004 0.590974\n",
      "False\n",
      "True\n",
      "False\n",
      "True\n",
      "True\n",
      "obj: 3, obj: 0\n",
      "0.7560982166666667 0.5178637833333334 0.4231426648148148 0.8194253351851851\n",
      "0.1683445 0.03461550000000001 0.278289 0.814999\n",
      "False\n",
      "False\n",
      "True\n",
      "True\n",
      "True\n",
      "obj: 3, obj: 1\n",
      "0.7560982166666667 0.5178637833333334 0.4231426648148148 0.8194253351851851\n",
      "0.63855555 0.55584045 0.26807800000000004 0.590974\n",
      "True\n",
      "False\n",
      "False\n",
      "True\n",
      "True\n",
      "['1', '0.208352', '0.739683', '0.029628', '0.0526503']\n",
      "['0', '0.10148', '0.546644', '0.133729', '0.53671']\n",
      "Regions:  [(66, 428, 300, 880)]\n",
      "['1', '0.636981', '0.621284', '0.0299011', '0.0259123']\n",
      "['0', '0.597198', '0.429526', '0.0827151', '0.322896']\n",
      "Regions:  [(66, 428, 300, 880), (1067, 1251, 289, 684)]\n",
      "Cropped image /mnt/c/Adrianov/Projects/trash-detector/yolo_res/images/result_499.jpg and saved result to /mnt/c/Adrianov/Projects/trash-detector/masks/imgs/result_499_0.jpg\n",
      "/mnt/c/Adrianov/Projects/trash-detector/yolo_res/label/result_500.txt\n",
      "/mnt/c/Adrianov/Projects/trash-detector/yolo_res/images/result_500.jpg\n"
     ]
    },
    {
     "name": "stderr",
     "output_type": "stream",
     "text": [
      " 41%|███████████                | 502/1219 [01:37<02:55,  4.09it/s]"
     ]
    },
    {
     "name": "stdout",
     "output_type": "stream",
     "text": [
      "obj: 2, obj: 0\n",
      "0.7551454666666667 0.5189425333333334 0.42349911481481484 0.8194988851851852\n",
      "0.1660195 0.03725450000000001 0.27845050000000005 0.8143515\n",
      "False\n",
      "False\n",
      "True\n",
      "True\n",
      "True\n",
      "obj: 2, obj: 1\n",
      "0.7551454666666667 0.5189425333333334 0.42349911481481484 0.8194988851851852\n",
      "0.63770465 0.55473735 0.2669665 0.5899375\n",
      "True\n",
      "False\n",
      "False\n",
      "True\n",
      "True\n",
      "obj: 3, obj: 0\n",
      "0.3272319166666667 0.08911808333333332 0.5286860648148148 0.9516919351851851\n",
      "0.1660195 0.03725450000000001 0.27845050000000005 0.8143515\n",
      "True\n",
      "False\n",
      "False\n",
      "True\n",
      "True\n",
      "obj: 3, obj: 1\n",
      "0.3272319166666667 0.08911808333333332 0.5286860648148148 0.9516919351851851\n",
      "0.63770465 0.55473735 0.2669665 0.5899375\n",
      "False\n",
      "True\n",
      "False\n",
      "True\n",
      "True\n",
      "['1', '0.637044', '0.621499', '0.0278696', '0.0256294']\n",
      "['0', '0.596221', '0.428452', '0.0829673', '0.322971']\n",
      "Regions:  [(1065, 1249, 288, 685)]\n",
      "['1', '0.208175', '0.740189', '0.0297805', '0.0526355']\n",
      "['0', '0.101637', '0.546401', '0.128765', '0.535901']\n",
      "Regions:  [(1065, 1249, 288, 685), (71, 428, 300, 879)]\n",
      "Cropped image /mnt/c/Adrianov/Projects/trash-detector/yolo_res/images/result_500.jpg and saved result to /mnt/c/Adrianov/Projects/trash-detector/masks/imgs/result_500_0.jpg\n",
      "/mnt/c/Adrianov/Projects/trash-detector/yolo_res/label/result_501.txt\n",
      "/mnt/c/Adrianov/Projects/trash-detector/yolo_res/images/result_501.jpg\n",
      "obj: 3, obj: 0\n",
      "0.41977756666666666 0.16614043333333336 0.7327557648148149 1.164466235185185\n",
      "0.5762101 0.4942899 0.33519249999999995 0.6677074999999999\n",
      "False\n",
      "True\n",
      "False\n",
      "False\n",
      "True\n",
      "obj: 3, obj: 1\n",
      "0.41977756666666666 0.16614043333333336 0.7327557648148149 1.164466235185185\n",
      "0.30189 0.17339 0.268315 0.930839\n",
      "True\n",
      "False\n",
      "False\n",
      "True\n",
      "True\n",
      "obj: 3, obj: 2\n",
      "0.41977756666666666 0.16614043333333336 0.7327557648148149 1.164466235185185\n",
      "0.6729345 0.5894675 0.384351 0.6359929999999999\n",
      "False\n",
      "True\n",
      "False\n",
      "False\n",
      "True\n",
      "['1', '0.292959', '0.948611', '0.0453038', '0.0613401']\n",
      "['0', '0.23764', '0.599577', '0.1285', '0.662524']\n",
      "Regions:  [(332, 605, 289, 1057)]\n",
      "Cropped image /mnt/c/Adrianov/Projects/trash-detector/yolo_res/images/result_501.jpg and saved result to /mnt/c/Adrianov/Projects/trash-detector/masks/imgs/result_501_0.jpg\n",
      "/mnt/c/Adrianov/Projects/trash-detector/yolo_res/label/result_502.txt\n",
      "/mnt/c/Adrianov/Projects/trash-detector/yolo_res/images/result_502.jpg\n"
     ]
    },
    {
     "name": "stderr",
     "output_type": "stream",
     "text": [
      " 41%|███████████▏               | 504/1219 [01:37<02:07,  5.59it/s]"
     ]
    },
    {
     "name": "stdout",
     "output_type": "stream",
     "text": [
      "Cropped image /mnt/c/Adrianov/Projects/trash-detector/yolo_res/images/result_502.jpg and saved result to None\n",
      "/mnt/c/Adrianov/Projects/trash-detector/yolo_res/label/result_503.txt\n",
      "/mnt/c/Adrianov/Projects/trash-detector/yolo_res/images/result_503.jpg\n",
      "Cropped image /mnt/c/Adrianov/Projects/trash-detector/yolo_res/images/result_503.jpg and saved result to None\n",
      "/mnt/c/Adrianov/Projects/trash-detector/yolo_res/label/result_504.txt\n",
      "/mnt/c/Adrianov/Projects/trash-detector/yolo_res/images/result_504.jpg\n"
     ]
    },
    {
     "name": "stderr",
     "output_type": "stream",
     "text": [
      " 42%|███████████▏               | 506/1219 [01:37<01:50,  6.47it/s]"
     ]
    },
    {
     "name": "stdout",
     "output_type": "stream",
     "text": [
      "Cropped image /mnt/c/Adrianov/Projects/trash-detector/yolo_res/images/result_504.jpg and saved result to None\n",
      "/mnt/c/Adrianov/Projects/trash-detector/yolo_res/label/result_505.txt\n",
      "/mnt/c/Adrianov/Projects/trash-detector/yolo_res/images/result_505.jpg\n",
      "obj: 2, obj: 0\n",
      "0.7545333166666667 0.5193406833333333 0.4242773648148148 0.8195926351851852\n",
      "0.63774955 0.55279445 0.26691699999999996 0.590287\n",
      "True\n",
      "False\n",
      "False\n",
      "True\n",
      "True\n",
      "obj: 2, obj: 1\n",
      "0.7545333166666667 0.5193406833333333 0.4242773648148148 0.8195926351851852\n",
      "0.160507 0.040989000000000005 0.28070199999999995 0.8155159999999999\n",
      "False\n",
      "False\n",
      "True\n",
      "True\n",
      "True\n",
      "obj: 3, obj: 0\n",
      "0.3271043166666667 0.08975968333333334 0.5296122648148148 0.9517477351851852\n",
      "0.63774955 0.55279445 0.26691699999999996 0.590287\n",
      "False\n",
      "True\n",
      "False\n",
      "True\n",
      "True\n",
      "obj: 3, obj: 1\n",
      "0.3271043166666667 0.08975968333333334 0.5296122648148148 0.9517477351851852\n",
      "0.160507 0.040989000000000005 0.28070199999999995 0.8155159999999999\n",
      "True\n",
      "False\n",
      "False\n",
      "True\n",
      "True\n",
      "['1', '0.636937', '0.621935', '0.0268593', '0.0249449']\n",
      "['0', '0.595272', '0.428602', '0.0849551', '0.32337']\n",
      "Regions:  [(1061, 1248, 288, 685)]\n",
      "['1', '0.208432', '0.74068', '0.0290113', '0.0517651']\n",
      "['0', '0.100748', '0.548109', '0.119518', '0.534814']\n",
      "Regions:  [(1061, 1248, 288, 685), (78, 428, 303, 880)]\n",
      "Cropped image /mnt/c/Adrianov/Projects/trash-detector/yolo_res/images/result_505.jpg and saved result to /mnt/c/Adrianov/Projects/trash-detector/masks/imgs/result_505_0.jpg\n",
      "/mnt/c/Adrianov/Projects/trash-detector/yolo_res/label/result_506.txt\n",
      "/mnt/c/Adrianov/Projects/trash-detector/yolo_res/images/result_506.jpg\n"
     ]
    },
    {
     "name": "stderr",
     "output_type": "stream",
     "text": [
      " 42%|███████████▎               | 508/1219 [01:37<01:36,  7.38it/s]"
     ]
    },
    {
     "name": "stdout",
     "output_type": "stream",
     "text": [
      "Cropped image /mnt/c/Adrianov/Projects/trash-detector/yolo_res/images/result_506.jpg and saved result to None\n",
      "/mnt/c/Adrianov/Projects/trash-detector/yolo_res/label/result_507.txt\n",
      "/mnt/c/Adrianov/Projects/trash-detector/yolo_res/images/result_507.jpg\n",
      "obj: 3, obj: 0\n",
      "0.41982091666666665 0.16639708333333333 0.7327368648148148 1.164587135185185\n",
      "0.5726306 0.4923374 0.33306499999999994 0.668809\n",
      "False\n",
      "True\n",
      "False\n",
      "False\n",
      "True\n",
      "obj: 3, obj: 1\n",
      "0.41982091666666665 0.16639708333333333 0.7327368648148148 1.164587135185185\n",
      "0.302891 0.177207 0.26397050000000005 0.9477935\n",
      "True\n",
      "False\n",
      "False\n",
      "True\n",
      "True\n",
      "obj: 3, obj: 2\n",
      "0.41982091666666665 0.16639708333333333 0.7327368648148148 1.164587135185185\n",
      "0.6681580500000001 0.59307795 0.3847275 0.5950725\n",
      "False\n",
      "True\n",
      "False\n",
      "False\n",
      "True\n",
      "['1', '0.293109', '0.948662', '0.0450905', '0.0614799']\n",
      "['0', '0.240049', '0.605882', '0.125684', '0.683823']\n",
      "Regions:  [(340, 606, 285, 1057)]\n",
      "Cropped image /mnt/c/Adrianov/Projects/trash-detector/yolo_res/images/result_507.jpg and saved result to /mnt/c/Adrianov/Projects/trash-detector/masks/imgs/result_507_0.jpg\n",
      "/mnt/c/Adrianov/Projects/trash-detector/yolo_res/label/result_508.txt\n",
      "/mnt/c/Adrianov/Projects/trash-detector/yolo_res/images/result_508.jpg\n"
     ]
    },
    {
     "name": "stderr",
     "output_type": "stream",
     "text": [
      " 42%|███████████▎               | 510/1219 [01:38<01:45,  6.69it/s]"
     ]
    },
    {
     "name": "stdout",
     "output_type": "stream",
     "text": [
      "Cropped image /mnt/c/Adrianov/Projects/trash-detector/yolo_res/images/result_508.jpg and saved result to None\n",
      "/mnt/c/Adrianov/Projects/trash-detector/yolo_res/label/result_509.txt\n",
      "/mnt/c/Adrianov/Projects/trash-detector/yolo_res/images/result_509.jpg\n",
      "Cropped image /mnt/c/Adrianov/Projects/trash-detector/yolo_res/images/result_509.jpg and saved result to None\n",
      "/mnt/c/Adrianov/Projects/trash-detector/yolo_res/label/result_510.txt\n",
      "/mnt/c/Adrianov/Projects/trash-detector/yolo_res/images/result_510.jpg\n",
      "Cropped image /mnt/c/Adrianov/Projects/trash-detector/yolo_res/images/result_510.jpg and saved result to None\n",
      "/mnt/c/Adrianov/Projects/trash-detector/yolo_res/label/result_511.txt\n",
      "/mnt/c/Adrianov/Projects/trash-detector/yolo_res/images/result_511.jpg\n"
     ]
    },
    {
     "name": "stderr",
     "output_type": "stream",
     "text": [
      " 42%|███████████▎               | 512/1219 [01:38<01:40,  7.04it/s]"
     ]
    },
    {
     "name": "stdout",
     "output_type": "stream",
     "text": [
      "Cropped image /mnt/c/Adrianov/Projects/trash-detector/yolo_res/images/result_511.jpg and saved result to None\n",
      "/mnt/c/Adrianov/Projects/trash-detector/yolo_res/label/result_512.txt\n",
      "/mnt/c/Adrianov/Projects/trash-detector/yolo_res/images/result_512.jpg\n",
      "obj: 2, obj: 0\n",
      "0.32728311666666665 0.09050288333333333 0.5307555648148148 0.9514544351851852\n",
      "0.63767975 0.5520302500000001 0.265282 0.5908559999999999\n",
      "False\n",
      "True\n",
      "False\n",
      "True\n",
      "True\n",
      "obj: 2, obj: 1\n",
      "0.32728311666666665 0.09050288333333333 0.5307555648148148 0.9514544351851852\n",
      "0.16006399999999998 0.042838 0.2825425 0.8085355000000001\n",
      "True\n",
      "False\n",
      "False\n",
      "True\n",
      "True\n",
      "obj: 3, obj: 0\n",
      "0.7549527666666667 0.5206692333333334 0.42399451481481476 0.8186894851851851\n",
      "0.63767975 0.5520302500000001 0.265282 0.5908559999999999\n",
      "True\n",
      "False\n",
      "False\n",
      "True\n",
      "True\n",
      "obj: 3, obj: 1\n",
      "0.7549527666666667 0.5206692333333334 0.42399451481481476 0.8186894851851851\n",
      "0.16006399999999998 0.042838 0.2825425 0.8085355000000001\n",
      "False\n",
      "False\n",
      "True\n",
      "True\n",
      "True\n",
      "['1', '0.208893', '0.741105', '0.0284469', '0.0503285']\n",
      "['0', '0.101451', '0.545539', '0.117226', '0.525993']\n",
      "Regions:  [(82, 428, 305, 873)]\n"
     ]
    },
    {
     "name": "stderr",
     "output_type": "stream",
     "text": [
      " 42%|███████████▍               | 514/1219 [01:38<01:45,  6.69it/s]"
     ]
    },
    {
     "name": "stdout",
     "output_type": "stream",
     "text": [
      "['1', '0.637811', '0.621342', '0.0259502', '0.0243246']\n",
      "['0', '0.594855', '0.428069', '0.0856495', '0.325574']\n",
      "Regions:  [(82, 428, 305, 873), (1059, 1249, 286, 684)]\n",
      "Cropped image /mnt/c/Adrianov/Projects/trash-detector/yolo_res/images/result_512.jpg and saved result to /mnt/c/Adrianov/Projects/trash-detector/masks/imgs/result_512_0.jpg\n",
      "/mnt/c/Adrianov/Projects/trash-detector/yolo_res/label/result_513.txt\n",
      "/mnt/c/Adrianov/Projects/trash-detector/yolo_res/images/result_513.jpg\n",
      "Cropped image /mnt/c/Adrianov/Projects/trash-detector/yolo_res/images/result_513.jpg and saved result to None\n",
      "/mnt/c/Adrianov/Projects/trash-detector/yolo_res/label/result_514.txt\n",
      "/mnt/c/Adrianov/Projects/trash-detector/yolo_res/images/result_514.jpg\n"
     ]
    },
    {
     "name": "stderr",
     "output_type": "stream",
     "text": [
      " 42%|███████████▍               | 515/1219 [01:38<01:41,  6.97it/s]"
     ]
    },
    {
     "name": "stdout",
     "output_type": "stream",
     "text": [
      "Cropped image /mnt/c/Adrianov/Projects/trash-detector/yolo_res/images/result_514.jpg and saved result to None\n",
      "/mnt/c/Adrianov/Projects/trash-detector/yolo_res/label/result_515.txt\n",
      "/mnt/c/Adrianov/Projects/trash-detector/yolo_res/images/result_515.jpg\n",
      "obj: 2, obj: 0\n",
      "0.3272615166666667 0.09053448333333333 0.5332549148148148 0.9507070851851852\n",
      "0.6360855 0.5527945 0.267408 0.588746\n",
      "False\n",
      "True\n",
      "False\n",
      "True\n",
      "True\n",
      "obj: 2, obj: 1\n",
      "0.3272615166666667 0.09053448333333333 0.5332549148148148 0.9507070851851852\n",
      "0.165292 0.04183800000000001 0.28612800000000005 0.813926\n",
      "True\n",
      "False\n",
      "False\n",
      "True\n",
      "True\n",
      "obj: 3, obj: 0\n",
      "0.7538648166666666 0.5218691833333333 0.4245096148148148 0.8179903851851851\n",
      "0.6360855 0.5527945 0.267408 0.588746\n",
      "True\n",
      "False\n",
      "False\n",
      "True\n",
      "True\n",
      "obj: 3, obj: 1\n",
      "0.7538648166666666 0.5218691833333333 0.4245096148148148 0.8179903851851851\n",
      "0.165292 0.04183800000000001 0.28612800000000005 0.813926\n",
      "False\n",
      "False\n",
      "True\n",
      "True\n",
      "True\n",
      "['1', '0.208898', '0.741981', '0.0283937', '0.0470818']\n",
      "['0', '0.103565', '0.550027', '0.123454', '0.527798']\n",
      "Regions:  [(80, 428, 309, 879)]\n",
      "['1', '0.637867', '0.62125', '0.0236623', '0.0231104']\n",
      "['0', '0.59444', '0.428077', '0.083291', '0.321338']\n",
      "Regions:  [(80, 428, 309, 879), (1061, 1247, 288, 683)]\n"
     ]
    },
    {
     "name": "stderr",
     "output_type": "stream",
     "text": [
      " 42%|███████████▍               | 517/1219 [01:39<01:47,  6.52it/s]"
     ]
    },
    {
     "name": "stdout",
     "output_type": "stream",
     "text": [
      "Cropped image /mnt/c/Adrianov/Projects/trash-detector/yolo_res/images/result_515.jpg and saved result to /mnt/c/Adrianov/Projects/trash-detector/masks/imgs/result_515_0.jpg\n",
      "/mnt/c/Adrianov/Projects/trash-detector/yolo_res/label/result_516.txt\n",
      "/mnt/c/Adrianov/Projects/trash-detector/yolo_res/images/result_516.jpg\n",
      "Cropped image /mnt/c/Adrianov/Projects/trash-detector/yolo_res/images/result_516.jpg and saved result to None\n",
      "/mnt/c/Adrianov/Projects/trash-detector/yolo_res/label/result_517.txt\n",
      "/mnt/c/Adrianov/Projects/trash-detector/yolo_res/images/result_517.jpg\n"
     ]
    },
    {
     "name": "stderr",
     "output_type": "stream",
     "text": [
      " 43%|███████████▍               | 519/1219 [01:39<01:28,  7.95it/s]"
     ]
    },
    {
     "name": "stdout",
     "output_type": "stream",
     "text": [
      "Cropped image /mnt/c/Adrianov/Projects/trash-detector/yolo_res/images/result_517.jpg and saved result to None\n",
      "/mnt/c/Adrianov/Projects/trash-detector/yolo_res/label/result_518.txt\n",
      "/mnt/c/Adrianov/Projects/trash-detector/yolo_res/images/result_518.jpg\n",
      "Cropped image /mnt/c/Adrianov/Projects/trash-detector/yolo_res/images/result_518.jpg and saved result to None\n",
      "/mnt/c/Adrianov/Projects/trash-detector/yolo_res/label/result_519.txt\n",
      "/mnt/c/Adrianov/Projects/trash-detector/yolo_res/images/result_519.jpg\n"
     ]
    },
    {
     "name": "stderr",
     "output_type": "stream",
     "text": [
      " 43%|███████████▌               | 521/1219 [01:39<01:30,  7.70it/s]"
     ]
    },
    {
     "name": "stdout",
     "output_type": "stream",
     "text": [
      "Cropped image /mnt/c/Adrianov/Projects/trash-detector/yolo_res/images/result_519.jpg and saved result to None\n",
      "/mnt/c/Adrianov/Projects/trash-detector/yolo_res/label/result_520.txt\n",
      "/mnt/c/Adrianov/Projects/trash-detector/yolo_res/images/result_520.jpg\n",
      "obj: 2, obj: 0\n",
      "0.32740291666666665 0.08986508333333332 0.5337707648148148 0.9509212351851851\n",
      "0.6362625 0.5532375 0.264574 0.589446\n",
      "False\n",
      "True\n",
      "False\n",
      "True\n",
      "True\n",
      "obj: 2, obj: 1\n",
      "0.32740291666666665 0.08986508333333332 0.5337707648148148 0.9509212351851851\n",
      "0.1598134 0.039227399999999996 0.294523 0.816437\n",
      "True\n",
      "False\n",
      "False\n",
      "True\n",
      "True\n",
      "obj: 3, obj: 0\n",
      "0.7533746166666667 0.5222313833333333 0.4254167148148148 0.8188192851851851\n",
      "0.6362625 0.5532375 0.264574 0.589446\n",
      "True\n",
      "False\n",
      "False\n",
      "True\n",
      "True\n",
      "obj: 3, obj: 1\n",
      "0.7533746166666667 0.5222313833333333 0.4254167148148148 0.8188192851851851\n",
      "0.1598134 0.039227399999999996 0.294523 0.816437\n",
      "False\n",
      "False\n",
      "True\n",
      "True\n",
      "True\n",
      "['1', '0.208634', '0.742346', '0.0292045', '0.0467801']\n",
      "['0', '0.0995204', '0.55548', '0.120586', '0.521914']\n",
      "Regions:  [(75, 428, 318, 881)]\n",
      "['1', '0.637803', '0.622118', '0.0228099', '0.0230322']\n",
      "['0', '0.59475', '0.42701', '0.083025', '0.324872']\n",
      "Regions:  [(75, 428, 318, 881), (1062, 1246, 285, 684)]\n",
      "Cropped image /mnt/c/Adrianov/Projects/trash-detector/yolo_res/images/result_520.jpg and saved result to /mnt/c/Adrianov/Projects/trash-detector/masks/imgs/result_520_0.jpg\n",
      "/mnt/c/Adrianov/Projects/trash-detector/yolo_res/label/result_521.txt\n",
      "/mnt/c/Adrianov/Projects/trash-detector/yolo_res/images/result_521.jpg\n"
     ]
    },
    {
     "name": "stderr",
     "output_type": "stream",
     "text": [
      " 43%|███████████▌               | 523/1219 [01:39<01:19,  8.72it/s]"
     ]
    },
    {
     "name": "stdout",
     "output_type": "stream",
     "text": [
      "Cropped image /mnt/c/Adrianov/Projects/trash-detector/yolo_res/images/result_521.jpg and saved result to None\n",
      "/mnt/c/Adrianov/Projects/trash-detector/yolo_res/label/result_522.txt\n",
      "/mnt/c/Adrianov/Projects/trash-detector/yolo_res/images/result_522.jpg\n",
      "Cropped image /mnt/c/Adrianov/Projects/trash-detector/yolo_res/images/result_522.jpg and saved result to None\n",
      "/mnt/c/Adrianov/Projects/trash-detector/yolo_res/label/result_523.txt\n",
      "/mnt/c/Adrianov/Projects/trash-detector/yolo_res/images/result_523.jpg\n"
     ]
    },
    {
     "name": "stderr",
     "output_type": "stream",
     "text": [
      " 43%|███████████▌               | 524/1219 [01:40<01:22,  8.42it/s]"
     ]
    },
    {
     "name": "stdout",
     "output_type": "stream",
     "text": [
      "Cropped image /mnt/c/Adrianov/Projects/trash-detector/yolo_res/images/result_523.jpg and saved result to None\n",
      "/mnt/c/Adrianov/Projects/trash-detector/yolo_res/label/result_524.txt\n",
      "/mnt/c/Adrianov/Projects/trash-detector/yolo_res/images/result_524.jpg\n",
      "obj: 2, obj: 0\n",
      "0.33005931666666666 0.08886468333333333 0.5334267148148149 0.9503292851851852\n",
      "0.6337448 0.5578671999999999 0.2648195 0.5894165\n",
      "False\n",
      "True\n",
      "False\n",
      "True\n",
      "True\n",
      "obj: 2, obj: 1\n",
      "0.33005931666666666 0.08886468333333333 0.5334267148148149 0.9503292851851852\n",
      "0.155859 0.036655999999999994 0.292514 0.8183640000000001\n",
      "True\n",
      "False\n",
      "False\n",
      "True\n",
      "True\n",
      "obj: 3, obj: 0\n",
      "0.7532567166666666 0.5225632833333334 0.42416681481481483 0.8184131851851852\n",
      "0.6337448 0.5578671999999999 0.2648195 0.5894165\n",
      "True\n",
      "False\n",
      "False\n",
      "True\n",
      "True\n",
      "obj: 3, obj: 1\n",
      "0.7532567166666666 0.5225632833333334 0.42416681481481483 0.8184131851851852\n",
      "0.155859 0.036655999999999994 0.292514 0.8183640000000001\n",
      "False\n",
      "False\n",
      "True\n",
      "True\n",
      "True\n",
      "['1', '0.209462', '0.741878', '0.0328613', '0.0465322']\n",
      "['0', '0.0962575', '0.555439', '0.119203', '0.52585']\n",
      "Regions:  [(70, 433, 315, 883)]\n",
      "['1', '0.63791', '0.62129', '0.0223601', '0.023876']\n",
      "['0', '0.595806', '0.427118', '0.0758776', '0.324597']\n",
      "Regions:  [(70, 433, 315, 883), (1071, 1246, 286, 683)]\n"
     ]
    },
    {
     "name": "stderr",
     "output_type": "stream",
     "text": [
      " 43%|███████████▋               | 525/1219 [01:40<02:12,  5.23it/s]"
     ]
    },
    {
     "name": "stdout",
     "output_type": "stream",
     "text": [
      "Cropped image /mnt/c/Adrianov/Projects/trash-detector/yolo_res/images/result_524.jpg and saved result to /mnt/c/Adrianov/Projects/trash-detector/masks/imgs/result_524_0.jpg\n",
      "/mnt/c/Adrianov/Projects/trash-detector/yolo_res/label/result_525.txt\n",
      "/mnt/c/Adrianov/Projects/trash-detector/yolo_res/images/result_525.jpg\n"
     ]
    },
    {
     "name": "stderr",
     "output_type": "stream",
     "text": [
      "\n"
     ]
    },
    {
     "ename": "FileNotFoundError",
     "evalue": "[Errno 2] No such file or directory: '/mnt/c/Adrianov/Projects/trash-detector/yolo_res/label/result_525.txt'",
     "output_type": "error",
     "traceback": [
      "\u001b[0;31m---------------------------------------------------------------------------\u001b[0m",
      "\u001b[0;31mFileNotFoundError\u001b[0m                         Traceback (most recent call last)",
      "Cell \u001b[0;32mIn[6], line 11\u001b[0m\n\u001b[1;32m      9\u001b[0m \u001b[38;5;28mprint\u001b[39m(label)\n\u001b[1;32m     10\u001b[0m \u001b[38;5;28mprint\u001b[39m(img)\n\u001b[0;32m---> 11\u001b[0m overlaps \u001b[38;5;241m=\u001b[39m \u001b[43msegment\u001b[49m\u001b[38;5;241;43m.\u001b[39;49m\u001b[43mfind_overlapping_regions\u001b[49m\u001b[43m(\u001b[49m\u001b[43mlabel\u001b[49m\u001b[43m,\u001b[49m\u001b[43m \u001b[49m\u001b[43mimg\u001b[49m\u001b[43m)\u001b[49m\n\u001b[1;32m     12\u001b[0m cropped_regions \u001b[38;5;241m=\u001b[39m segment\u001b[38;5;241m.\u001b[39mcrop_regions(img, overlaps, label, i, os\u001b[38;5;241m.\u001b[39mpath\u001b[38;5;241m.\u001b[39mjoin(SCRIPT_DIR,\u001b[38;5;124mf\u001b[39m\u001b[38;5;124m\"\u001b[39m\u001b[38;5;124mmasks/imgs/\u001b[39m\u001b[38;5;124m\"\u001b[39m))\n",
      "File \u001b[0;32m/mnt/c/Adrianov/Projects/trash-detector/classifier/segment.py:9\u001b[0m, in \u001b[0;36mfind_overlapping_regions\u001b[0;34m(src_label_path, src_image_path, max_dist)\u001b[0m\n\u001b[1;32m      7\u001b[0m img \u001b[38;5;241m=\u001b[39m cv2\u001b[38;5;241m.\u001b[39mimread(src_image_path)\n\u001b[1;32m      8\u001b[0m height, width, _ \u001b[38;5;241m=\u001b[39m img\u001b[38;5;241m.\u001b[39mshape\n\u001b[0;32m----> 9\u001b[0m \u001b[38;5;28;01mwith\u001b[39;00m \u001b[38;5;28;43mopen\u001b[39;49m\u001b[43m(\u001b[49m\u001b[43msrc_label_path\u001b[49m\u001b[43m,\u001b[49m\u001b[43m \u001b[49m\u001b[38;5;124;43m'\u001b[39;49m\u001b[38;5;124;43mr\u001b[39;49m\u001b[38;5;124;43m'\u001b[39;49m\u001b[43m)\u001b[49m \u001b[38;5;28;01mas\u001b[39;00m file:\n\u001b[1;32m     10\u001b[0m     src_file \u001b[38;5;241m=\u001b[39m [line\u001b[38;5;241m.\u001b[39mstrip() \u001b[38;5;28;01mfor\u001b[39;00m line \u001b[38;5;129;01min\u001b[39;00m file]\n\u001b[1;32m     11\u001b[0m     \u001b[38;5;28;01mfor\u001b[39;00m i \u001b[38;5;129;01min\u001b[39;00m \u001b[38;5;28mrange\u001b[39m(\u001b[38;5;28mlen\u001b[39m(src_file)):\n",
      "\u001b[0;31mFileNotFoundError\u001b[0m: [Errno 2] No such file or directory: '/mnt/c/Adrianov/Projects/trash-detector/yolo_res/label/result_525.txt'"
     ]
    }
   ],
   "source": [
    "from classifier import segment\n",
    "from tqdm import tqdm\n",
    "\n",
    "labels = [f for f in os.listdir(os.path.join(SCRIPT_DIR,f\"yolo_res/label/\")) if f.endswith(\".txt\")]\n",
    "\n",
    "for i in tqdm(range(len(labels))):\n",
    "    label = os.path.join(SCRIPT_DIR, f\"yolo_res/label/result_{i}.txt\")\n",
    "    img = os.path.join(SCRIPT_DIR, f\"yolo_res/images/result_{i}.jpg\")\n",
    "    print(label)\n",
    "    print(img)\n",
    "    overlaps = segment.find_overlapping_regions(label, img)\n",
    "    cropped_regions = segment.crop_regions(img, overlaps, label, i, os.path.join(SCRIPT_DIR,f\"masks/imgs/\"))"
   ]
  },
  {
   "cell_type": "code",
   "execution_count": 5,
   "id": "8b78934f-de16-4166-8467-985fd372d970",
   "metadata": {},
   "outputs": [
    {
     "name": "stdout",
     "output_type": "stream",
     "text": [
      "Cropped image /mnt/c/Adrianov/Projects/trash-detector/yolo_res/images/result_713.jpg and saved result to None\n"
     ]
    }
   ],
   "source": [
    "import cv2\n",
    "\n",
    "i = 713\n",
    "label = os.path.join(SCRIPT_DIR, f\"yolo_res/label/result_{i}.txt\")\n",
    "img = os.path.join(SCRIPT_DIR, f\"yolo_res/images/result_{i}.jpg\")\n",
    "overlaps = segment.find_overlapping_regions(label, img)\n",
    "cropped_regions = segment.crop_regions(img, overlaps, label, i, os.path.join(SCRIPT_DIR,f\"masks/imgs/\"))"
   ]
  },
  {
   "cell_type": "code",
   "execution_count": null,
   "id": "1b5844d1-28b4-4a37-8162-a528566edc05",
   "metadata": {},
   "outputs": [],
   "source": []
  }
 ],
 "metadata": {
  "kernelspec": {
   "display_name": "Python (trah_venv)",
   "language": "python",
   "name": "trash_venv"
  },
  "language_info": {
   "codemirror_mode": {
    "name": "ipython",
    "version": 3
   },
   "file_extension": ".py",
   "mimetype": "text/x-python",
   "name": "python",
   "nbconvert_exporter": "python",
   "pygments_lexer": "ipython3",
   "version": "3.12.3"
  }
 },
 "nbformat": 4,
 "nbformat_minor": 5
}
