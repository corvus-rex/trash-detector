{
 "cells": [
  {
   "cell_type": "code",
   "execution_count": null,
   "id": "99b76cf4-e1a9-450f-8062-ee377f75509d",
   "metadata": {},
   "outputs": [],
   "source": [
    "!pip install roboflow"
   ]
  },
  {
   "cell_type": "code",
   "execution_count": 1,
   "id": "88be42de-1fb6-4436-a262-045908c4e8f0",
   "metadata": {},
   "outputs": [
    {
     "name": "stdout",
     "output_type": "stream",
     "text": [
      "loading Roboflow workspace...\n",
      "loading Roboflow project...\n"
     ]
    },
    {
     "name": "stderr",
     "output_type": "stream",
     "text": [
      "Downloading Dataset Version Zip in Littering--8 to yolov11:: 100%|█| 4185192/4185192 [19:11<00:00, 3633.93it/s"
     ]
    },
    {
     "name": "stdout",
     "output_type": "stream",
     "text": [
      "\n"
     ]
    },
    {
     "name": "stderr",
     "output_type": "stream",
     "text": [
      "\n",
      "Extracting Dataset Version Zip to Littering--8 in yolov11:: 100%|███████| 34812/34812 [07:36<00:00, 76.29it/s]\n"
     ]
    }
   ],
   "source": [
    "from roboflow import Roboflow\n",
    "import os\n",
    "\n",
    "rf = Roboflow(api_key=os.environ[\"ROBOFLOW_TOKEN\"])\n",
    "project = rf.workspace(\"thesis-kztn8\").project(\"littering-whlsk\")\n",
    "version = project.version(8)\n",
    "dataset = version.download(\"yolov11\")"
   ]
  },
  {
   "cell_type": "code",
   "execution_count": 1,
   "id": "7d592aaa-f2f8-48ee-9c36-1a7f8a659bf4",
   "metadata": {},
   "outputs": [],
   "source": [
    "import os\n",
    "SCRIPT_DIR = os.path.abspath(\"\")"
   ]
  },
  {
   "cell_type": "code",
   "execution_count": 19,
   "id": "6cf94010-8800-4a37-bf92-6c29d5eb6a8f",
   "metadata": {},
   "outputs": [
    {
     "name": "stderr",
     "output_type": "stream",
     "text": [
      "  0%|                                                                                | 0/1232 [00:00<?, ?it/s]"
     ]
    },
    {
     "name": "stdout",
     "output_type": "stream",
     "text": [
      "\n",
      "image 1/1 /mnt/c/Adrianov/Projects/trash-detector/Littering--8/test/images/video_10_10_jpg.rf.059be12201aa9c4292f1ac05c7d68c97.jpg: 256x416 3 Persons, 1 Trash, 15.0ms\n",
      "Speed: 2.1ms preprocess, 15.0ms inference, 1.3ms postprocess per image at shape (1, 3, 256, 416)\n"
     ]
    },
    {
     "name": "stderr",
     "output_type": "stream",
     "text": [
      "  0%|                                                                        | 1/1232 [00:00<06:32,  3.14it/s]"
     ]
    },
    {
     "name": "stdout",
     "output_type": "stream",
     "text": [
      "\n",
      "image 1/1 /mnt/c/Adrianov/Projects/trash-detector/Littering--8/test/images/video_10_10_jpg.rf.6d0c0afdc15ff6dd3fb52b4afbcd179d.jpg: 256x416 2 Persons, 13.5ms\n",
      "Speed: 1.9ms preprocess, 13.5ms inference, 2.2ms postprocess per image at shape (1, 3, 256, 416)\n",
      "\n",
      "image 1/1 /mnt/c/Adrianov/Projects/trash-detector/Littering--8/test/images/video_10_10_jpg.rf.b627b50071c29661fde78e76977f3225.jpg: 256x416 3 Persons, 13.3ms\n",
      "Speed: 2.5ms preprocess, 13.3ms inference, 1.6ms postprocess per image at shape (1, 3, 256, 416)\n"
     ]
    },
    {
     "name": "stderr",
     "output_type": "stream",
     "text": [
      "  0%|▏                                                                       | 3/1232 [00:00<03:04,  6.64it/s]"
     ]
    },
    {
     "name": "stdout",
     "output_type": "stream",
     "text": [
      "\n",
      "image 1/1 /mnt/c/Adrianov/Projects/trash-detector/Littering--8/test/images/video_10_11_jpg.rf.9a731ac40e65b799a1e267e549d0404c.jpg: 256x416 2 Persons, 11.5ms\n",
      "Speed: 3.1ms preprocess, 11.5ms inference, 2.8ms postprocess per image at shape (1, 3, 256, 416)\n",
      "\n",
      "image 1/1 /mnt/c/Adrianov/Projects/trash-detector/Littering--8/test/images/video_10_11_jpg.rf.ad022ca99e5dfd698b649fe9e8fc1d81.jpg: 256x416 2 Persons, 11.1ms\n",
      "Speed: 1.8ms preprocess, 11.1ms inference, 1.3ms postprocess per image at shape (1, 3, 256, 416)\n"
     ]
    },
    {
     "name": "stderr",
     "output_type": "stream",
     "text": [
      "  0%|▎                                                                       | 5/1232 [00:00<02:24,  8.49it/s]"
     ]
    },
    {
     "name": "stdout",
     "output_type": "stream",
     "text": [
      "\n",
      "image 1/1 /mnt/c/Adrianov/Projects/trash-detector/Littering--8/test/images/video_10_11_jpg.rf.c76029cf2707de6d4a72364f9ef0459d.jpg: 256x416 3 Persons, 1 Trash, 17.6ms\n",
      "Speed: 2.0ms preprocess, 17.6ms inference, 2.0ms postprocess per image at shape (1, 3, 256, 416)\n"
     ]
    },
    {
     "name": "stderr",
     "output_type": "stream",
     "text": [
      "  0%|▎                                                                       | 6/1232 [00:00<02:23,  8.56it/s]"
     ]
    },
    {
     "name": "stdout",
     "output_type": "stream",
     "text": [
      "\n",
      "image 1/1 /mnt/c/Adrianov/Projects/trash-detector/Littering--8/test/images/video_10_12_jpg.rf.11f57de7d09d6ce7eb0c9ec7109497cc.jpg: 256x416 4 Persons, 11.3ms\n",
      "Speed: 1.9ms preprocess, 11.3ms inference, 1.4ms postprocess per image at shape (1, 3, 256, 416)\n",
      "\n",
      "image 1/1 /mnt/c/Adrianov/Projects/trash-detector/Littering--8/test/images/video_10_12_jpg.rf.f33eb52b62c2700cfafecc204ef0db56.jpg: 256x416 3 Persons, 1 Trash, 18.6ms\n",
      "Speed: 1.8ms preprocess, 18.6ms inference, 2.7ms postprocess per image at shape (1, 3, 256, 416)\n"
     ]
    },
    {
     "name": "stderr",
     "output_type": "stream",
     "text": [
      "  1%|▍                                                                       | 8/1232 [00:00<02:11,  9.32it/s]"
     ]
    },
    {
     "name": "stdout",
     "output_type": "stream",
     "text": [
      "\n",
      "image 1/1 /mnt/c/Adrianov/Projects/trash-detector/Littering--8/test/images/video_10_12_jpg.rf.f6e701fc9636396200a7c8ad85fb22d0.jpg: 256x416 2 Persons, 22.8ms\n",
      "Speed: 2.7ms preprocess, 22.8ms inference, 2.6ms postprocess per image at shape (1, 3, 256, 416)\n",
      "\n",
      "image 1/1 /mnt/c/Adrianov/Projects/trash-detector/Littering--8/test/images/video_10_13_jpg.rf.16d9e9afce8e353f4d63533f18ef300d.jpg: 256x416 3 Persons, 12.7ms\n",
      "Speed: 2.1ms preprocess, 12.7ms inference, 1.2ms postprocess per image at shape (1, 3, 256, 416)\n"
     ]
    },
    {
     "name": "stderr",
     "output_type": "stream",
     "text": [
      "  1%|▌                                                                      | 10/1232 [00:01<02:04,  9.84it/s]"
     ]
    },
    {
     "name": "stdout",
     "output_type": "stream",
     "text": [
      "\n",
      "image 1/1 /mnt/c/Adrianov/Projects/trash-detector/Littering--8/test/images/video_10_13_jpg.rf.274450c13bc12863b525f40cefafa08e.jpg: 256x416 3 Persons, 11.6ms\n",
      "Speed: 4.1ms preprocess, 11.6ms inference, 2.2ms postprocess per image at shape (1, 3, 256, 416)\n",
      "\n",
      "image 1/1 /mnt/c/Adrianov/Projects/trash-detector/Littering--8/test/images/video_10_13_jpg.rf.744e54ac8a6e699db6cea3e54c42dc70.jpg: 256x416 2 Persons, 25.9ms\n",
      "Speed: 2.0ms preprocess, 25.9ms inference, 3.6ms postprocess per image at shape (1, 3, 256, 416)\n"
     ]
    },
    {
     "name": "stderr",
     "output_type": "stream",
     "text": [
      "  1%|▋                                                                      | 12/1232 [00:01<02:11,  9.26it/s]"
     ]
    },
    {
     "name": "stdout",
     "output_type": "stream",
     "text": [
      "\n",
      "image 1/1 /mnt/c/Adrianov/Projects/trash-detector/Littering--8/test/images/video_10_14_jpg.rf.0895e2b8d1c7d5a4e780a1449b244580.jpg: 256x416 4 Persons, 16.3ms\n",
      "Speed: 5.2ms preprocess, 16.3ms inference, 2.6ms postprocess per image at shape (1, 3, 256, 416)\n",
      "\n",
      "image 1/1 /mnt/c/Adrianov/Projects/trash-detector/Littering--8/test/images/video_10_14_jpg.rf.801bd7d5a94b5f0b73f378d55b1faf62.jpg: 256x416 3 Persons, 1 Trash, 11.2ms\n",
      "Speed: 2.0ms preprocess, 11.2ms inference, 1.7ms postprocess per image at shape (1, 3, 256, 416)\n"
     ]
    },
    {
     "name": "stderr",
     "output_type": "stream",
     "text": [
      "  1%|▊                                                                      | 14/1232 [00:01<02:08,  9.48it/s]"
     ]
    },
    {
     "name": "stdout",
     "output_type": "stream",
     "text": [
      "\n",
      "image 1/1 /mnt/c/Adrianov/Projects/trash-detector/Littering--8/test/images/video_10_14_jpg.rf.84cea285e34cdca12db4861c8bb55ce5.jpg: 256x416 3 Persons, 11.4ms\n",
      "Speed: 2.1ms preprocess, 11.4ms inference, 1.5ms postprocess per image at shape (1, 3, 256, 416)\n",
      "\n",
      "image 1/1 /mnt/c/Adrianov/Projects/trash-detector/Littering--8/test/images/video_10_15_jpg.rf.4d794415133246f870e2efa1c53af7c1.jpg: 256x416 4 Persons, 12.5ms\n",
      "Speed: 1.9ms preprocess, 12.5ms inference, 1.4ms postprocess per image at shape (1, 3, 256, 416)\n"
     ]
    },
    {
     "name": "stderr",
     "output_type": "stream",
     "text": [
      "  1%|▉                                                                      | 16/1232 [00:01<02:02,  9.92it/s]"
     ]
    },
    {
     "name": "stdout",
     "output_type": "stream",
     "text": [
      "\n",
      "image 1/1 /mnt/c/Adrianov/Projects/trash-detector/Littering--8/test/images/video_10_15_jpg.rf.83ddffb707013ba7aa30b34dfc70dbc6.jpg: 256x416 2 Persons, 11.2ms\n",
      "Speed: 2.9ms preprocess, 11.2ms inference, 1.8ms postprocess per image at shape (1, 3, 256, 416)\n",
      "\n",
      "image 1/1 /mnt/c/Adrianov/Projects/trash-detector/Littering--8/test/images/video_10_15_jpg.rf.bbbf2ac14356d8113af4469cd05b3e72.jpg: 256x416 3 Persons, 1 Trash, 11.5ms\n",
      "Speed: 2.2ms preprocess, 11.5ms inference, 3.6ms postprocess per image at shape (1, 3, 256, 416)\n"
     ]
    },
    {
     "name": "stderr",
     "output_type": "stream",
     "text": [
      "  1%|█                                                                      | 18/1232 [00:01<01:59, 10.14it/s]"
     ]
    },
    {
     "name": "stdout",
     "output_type": "stream",
     "text": [
      "\n",
      "image 1/1 /mnt/c/Adrianov/Projects/trash-detector/Littering--8/test/images/video_10_16_jpg.rf.53894630e1cd831acfa2a97c7972de01.jpg: 256x416 4 Persons, 11.1ms\n",
      "Speed: 2.2ms preprocess, 11.1ms inference, 1.7ms postprocess per image at shape (1, 3, 256, 416)\n",
      "\n",
      "image 1/1 /mnt/c/Adrianov/Projects/trash-detector/Littering--8/test/images/video_10_16_jpg.rf.5e7d45fde6fe54d1ab1f7e3565253017.jpg: 256x416 3 Persons, 1 Trash, 14.4ms\n",
      "Speed: 2.2ms preprocess, 14.4ms inference, 2.1ms postprocess per image at shape (1, 3, 256, 416)\n"
     ]
    },
    {
     "name": "stderr",
     "output_type": "stream",
     "text": [
      "  2%|█▏                                                                     | 20/1232 [00:02<01:57, 10.30it/s]"
     ]
    },
    {
     "name": "stdout",
     "output_type": "stream",
     "text": [
      "\n",
      "image 1/1 /mnt/c/Adrianov/Projects/trash-detector/Littering--8/test/images/video_10_16_jpg.rf.b5168dba9a78fb93ea8ccb3b3d529002.jpg: 256x416 2 Persons, 14.4ms\n",
      "Speed: 3.3ms preprocess, 14.4ms inference, 2.0ms postprocess per image at shape (1, 3, 256, 416)\n",
      "\n",
      "image 1/1 /mnt/c/Adrianov/Projects/trash-detector/Littering--8/test/images/video_10_17_jpg.rf.034de6a514b3c5c819053ff9c2877d8d.jpg: 256x416 3 Persons, 1 Trash, 15.9ms\n",
      "Speed: 2.5ms preprocess, 15.9ms inference, 3.3ms postprocess per image at shape (1, 3, 256, 416)\n"
     ]
    },
    {
     "name": "stderr",
     "output_type": "stream",
     "text": [
      "  2%|█▎                                                                     | 22/1232 [00:02<01:58, 10.18it/s]"
     ]
    },
    {
     "name": "stdout",
     "output_type": "stream",
     "text": [
      "\n",
      "image 1/1 /mnt/c/Adrianov/Projects/trash-detector/Littering--8/test/images/video_10_17_jpg.rf.3cfe67765b7fc7a17a11363c7587233b.jpg: 256x416 4 Persons, 13.5ms\n",
      "Speed: 4.9ms preprocess, 13.5ms inference, 1.9ms postprocess per image at shape (1, 3, 256, 416)\n",
      "\n",
      "image 1/1 /mnt/c/Adrianov/Projects/trash-detector/Littering--8/test/images/video_10_17_jpg.rf.54d06d1bef97153b9fed4b02d3e86636.jpg: 256x416 2 Persons, 13.3ms\n",
      "Speed: 2.2ms preprocess, 13.3ms inference, 1.4ms postprocess per image at shape (1, 3, 256, 416)\n"
     ]
    },
    {
     "name": "stderr",
     "output_type": "stream",
     "text": [
      "  2%|█▍                                                                     | 24/1232 [00:02<01:57, 10.30it/s]"
     ]
    },
    {
     "name": "stdout",
     "output_type": "stream",
     "text": [
      "\n",
      "image 1/1 /mnt/c/Adrianov/Projects/trash-detector/Littering--8/test/images/video_10_18_jpg.rf.4cfb6c498adbb385e24a3eacd7d02eaa.jpg: 256x416 4 Persons, 15.2ms\n",
      "Speed: 3.1ms preprocess, 15.2ms inference, 1.8ms postprocess per image at shape (1, 3, 256, 416)\n",
      "\n",
      "image 1/1 /mnt/c/Adrianov/Projects/trash-detector/Littering--8/test/images/video_10_18_jpg.rf.86a44222c4728fca25b2c0de88dc1d49.jpg: 256x416 3 Persons, 1 Trash, 12.9ms\n",
      "Speed: 2.2ms preprocess, 12.9ms inference, 3.1ms postprocess per image at shape (1, 3, 256, 416)\n"
     ]
    },
    {
     "name": "stderr",
     "output_type": "stream",
     "text": [
      "  2%|█▍                                                                     | 26/1232 [00:02<01:58, 10.17it/s]"
     ]
    },
    {
     "name": "stdout",
     "output_type": "stream",
     "text": [
      "\n",
      "image 1/1 /mnt/c/Adrianov/Projects/trash-detector/Littering--8/test/images/video_10_18_jpg.rf.8ff33611a4299246ed1f00d2d0d74da1.jpg: 256x416 2 Persons, 12.8ms\n",
      "Speed: 2.2ms preprocess, 12.8ms inference, 1.9ms postprocess per image at shape (1, 3, 256, 416)\n",
      "\n",
      "image 1/1 /mnt/c/Adrianov/Projects/trash-detector/Littering--8/test/images/video_10_19_jpg.rf.51043ccc3b12fcfc1246521a2af9887f.jpg: 256x416 2 Persons, 13.4ms\n",
      "Speed: 2.0ms preprocess, 13.4ms inference, 1.3ms postprocess per image at shape (1, 3, 256, 416)\n"
     ]
    },
    {
     "name": "stderr",
     "output_type": "stream",
     "text": [
      "  2%|█▌                                                                     | 28/1232 [00:02<01:55, 10.47it/s]"
     ]
    },
    {
     "name": "stdout",
     "output_type": "stream",
     "text": [
      "\n",
      "image 1/1 /mnt/c/Adrianov/Projects/trash-detector/Littering--8/test/images/video_10_19_jpg.rf.c8bd73aaa853eb43d29adb38c2cd3fc9.jpg: 256x416 2 Persons, 21.0ms\n",
      "Speed: 1.7ms preprocess, 21.0ms inference, 2.1ms postprocess per image at shape (1, 3, 256, 416)\n",
      "\n",
      "image 1/1 /mnt/c/Adrianov/Projects/trash-detector/Littering--8/test/images/video_10_19_jpg.rf.f751d1d768b29ea67eb39027cd144f15.jpg: 256x416 3 Persons, 1 Trash, 12.8ms\n",
      "Speed: 2.2ms preprocess, 12.8ms inference, 1.4ms postprocess per image at shape (1, 3, 256, 416)\n"
     ]
    },
    {
     "name": "stderr",
     "output_type": "stream",
     "text": [
      "  2%|█▋                                                                     | 30/1232 [00:03<01:52, 10.64it/s]"
     ]
    },
    {
     "name": "stdout",
     "output_type": "stream",
     "text": [
      "\n",
      "image 1/1 /mnt/c/Adrianov/Projects/trash-detector/Littering--8/test/images/video_10_1_jpg.rf.3653a7b433ee4a75b92b72b50ae1e0d8.jpg: 256x416 1 Person, 2 Trashs, 12.9ms\n",
      "Speed: 1.7ms preprocess, 12.9ms inference, 1.9ms postprocess per image at shape (1, 3, 256, 416)\n",
      "\n",
      "image 1/1 /mnt/c/Adrianov/Projects/trash-detector/Littering--8/test/images/video_10_1_jpg.rf.655617ea1ee44177a64913891fdcd6cc.jpg: 256x416 2 Persons, 13.1ms\n",
      "Speed: 2.0ms preprocess, 13.1ms inference, 1.9ms postprocess per image at shape (1, 3, 256, 416)\n"
     ]
    },
    {
     "name": "stderr",
     "output_type": "stream",
     "text": [
      "  3%|█▊                                                                     | 32/1232 [00:03<01:56, 10.32it/s]"
     ]
    },
    {
     "name": "stdout",
     "output_type": "stream",
     "text": [
      "\n",
      "image 1/1 /mnt/c/Adrianov/Projects/trash-detector/Littering--8/test/images/video_10_1_jpg.rf.714172cbca8987056ed42088c11dc1b2.jpg: 256x416 5 Persons, 13.8ms\n",
      "Speed: 2.1ms preprocess, 13.8ms inference, 1.8ms postprocess per image at shape (1, 3, 256, 416)\n",
      "\n",
      "image 1/1 /mnt/c/Adrianov/Projects/trash-detector/Littering--8/test/images/video_10_20_jpg.rf.70ef1f1ad0380a3d6426f3b16c49ae17.jpg: 256x416 4 Persons, 22.8ms\n",
      "Speed: 1.9ms preprocess, 22.8ms inference, 2.6ms postprocess per image at shape (1, 3, 256, 416)\n"
     ]
    },
    {
     "name": "stderr",
     "output_type": "stream",
     "text": [
      "  3%|█▉                                                                     | 34/1232 [00:03<01:56, 10.32it/s]"
     ]
    },
    {
     "name": "stdout",
     "output_type": "stream",
     "text": [
      "\n",
      "image 1/1 /mnt/c/Adrianov/Projects/trash-detector/Littering--8/test/images/video_10_20_jpg.rf.99c544b2e9d248de034cf387323bd0a7.jpg: 256x416 2 Persons, 12.8ms\n",
      "Speed: 2.1ms preprocess, 12.8ms inference, 1.6ms postprocess per image at shape (1, 3, 256, 416)\n",
      "\n",
      "image 1/1 /mnt/c/Adrianov/Projects/trash-detector/Littering--8/test/images/video_10_20_jpg.rf.fa690ac5ec2779d57f34f3f7be5f0438.jpg: 256x416 3 Persons, 1 Trash, 13.0ms\n",
      "Speed: 1.8ms preprocess, 13.0ms inference, 1.5ms postprocess per image at shape (1, 3, 256, 416)\n"
     ]
    },
    {
     "name": "stderr",
     "output_type": "stream",
     "text": [
      "  3%|██                                                                     | 36/1232 [00:03<01:53, 10.49it/s]"
     ]
    },
    {
     "name": "stdout",
     "output_type": "stream",
     "text": [
      "\n",
      "image 1/1 /mnt/c/Adrianov/Projects/trash-detector/Littering--8/test/images/video_10_21_jpg.rf.4e383df8e9c0d0afc5962cc593081fdc.jpg: 256x416 2 Persons, 21.3ms\n",
      "Speed: 2.3ms preprocess, 21.3ms inference, 2.5ms postprocess per image at shape (1, 3, 256, 416)\n",
      "\n",
      "image 1/1 /mnt/c/Adrianov/Projects/trash-detector/Littering--8/test/images/video_10_21_jpg.rf.8ff8f8baf628c95325f30b8cc3a35941.jpg: 256x416 3 Persons, 1 Trash, 12.8ms\n",
      "Speed: 2.2ms preprocess, 12.8ms inference, 1.9ms postprocess per image at shape (1, 3, 256, 416)\n"
     ]
    },
    {
     "name": "stderr",
     "output_type": "stream",
     "text": [
      "  3%|██▏                                                                    | 38/1232 [00:04<02:20,  8.49it/s]"
     ]
    },
    {
     "name": "stdout",
     "output_type": "stream",
     "text": [
      "\n",
      "image 1/1 /mnt/c/Adrianov/Projects/trash-detector/Littering--8/test/images/video_10_21_jpg.rf.f921a97857ef8404ce40e8f99dc1ae56.jpg: 256x416 5 Persons, 20.3ms\n",
      "Speed: 2.3ms preprocess, 20.3ms inference, 2.5ms postprocess per image at shape (1, 3, 256, 416)\n"
     ]
    },
    {
     "name": "stderr",
     "output_type": "stream",
     "text": [
      "  3%|██▏                                                                    | 39/1232 [00:04<02:27,  8.10it/s]"
     ]
    },
    {
     "name": "stdout",
     "output_type": "stream",
     "text": [
      "\n",
      "image 1/1 /mnt/c/Adrianov/Projects/trash-detector/Littering--8/test/images/video_10_22_jpg.rf.9eda7facff7b5be8205e3aed77a3a5e0.jpg: 256x416 2 Persons, 13.3ms\n",
      "Speed: 2.6ms preprocess, 13.3ms inference, 1.4ms postprocess per image at shape (1, 3, 256, 416)\n"
     ]
    },
    {
     "name": "stderr",
     "output_type": "stream",
     "text": [
      "  3%|██▎                                                                    | 40/1232 [00:04<02:27,  8.10it/s]"
     ]
    },
    {
     "name": "stdout",
     "output_type": "stream",
     "text": [
      "\n",
      "image 1/1 /mnt/c/Adrianov/Projects/trash-detector/Littering--8/test/images/video_10_22_jpg.rf.af08980cea6d7d3f3d1066da8c660b4c.jpg: 256x416 3 Persons, 1 Trash, 17.3ms\n",
      "Speed: 4.5ms preprocess, 17.3ms inference, 5.5ms postprocess per image at shape (1, 3, 256, 416)\n"
     ]
    },
    {
     "name": "stderr",
     "output_type": "stream",
     "text": [
      "  3%|██▎                                                                    | 41/1232 [00:04<02:56,  6.76it/s]"
     ]
    },
    {
     "name": "stdout",
     "output_type": "stream",
     "text": [
      "\n",
      "image 1/1 /mnt/c/Adrianov/Projects/trash-detector/Littering--8/test/images/video_10_22_jpg.rf.b0f68b212e289b2e6d6fd9ac1e28031f.jpg: 256x416 4 Persons, 17.4ms\n",
      "Speed: 1.8ms preprocess, 17.4ms inference, 1.4ms postprocess per image at shape (1, 3, 256, 416)\n"
     ]
    },
    {
     "name": "stderr",
     "output_type": "stream",
     "text": [
      "  3%|██▍                                                                    | 42/1232 [00:04<02:54,  6.83it/s]"
     ]
    },
    {
     "name": "stdout",
     "output_type": "stream",
     "text": [
      "\n",
      "image 1/1 /mnt/c/Adrianov/Projects/trash-detector/Littering--8/test/images/video_10_23_jpg.rf.6833a37872a992194ba05404b1afeaae.jpg: 256x416 2 Persons, 21.0ms\n",
      "Speed: 3.0ms preprocess, 21.0ms inference, 1.5ms postprocess per image at shape (1, 3, 256, 416)\n",
      "\n",
      "image 1/1 /mnt/c/Adrianov/Projects/trash-detector/Littering--8/test/images/video_10_23_jpg.rf.bb8e8c26af8b728fc4ae4edf37ec6ffd.jpg: 256x416 5 Persons, 12.9ms\n",
      "Speed: 1.9ms preprocess, 12.9ms inference, 4.7ms postprocess per image at shape (1, 3, 256, 416)\n"
     ]
    },
    {
     "name": "stderr",
     "output_type": "stream",
     "text": [
      "  4%|██▌                                                                    | 44/1232 [00:04<02:29,  7.96it/s]"
     ]
    },
    {
     "name": "stdout",
     "output_type": "stream",
     "text": [
      "\n",
      "image 1/1 /mnt/c/Adrianov/Projects/trash-detector/Littering--8/test/images/video_10_23_jpg.rf.de3ded8457cf15b24b917f51253b6887.jpg: 256x416 3 Persons, 1 Trash, 12.9ms\n",
      "Speed: 2.1ms preprocess, 12.9ms inference, 1.7ms postprocess per image at shape (1, 3, 256, 416)\n",
      "\n",
      "image 1/1 /mnt/c/Adrianov/Projects/trash-detector/Littering--8/test/images/video_10_24_jpg.rf.479e09a9c4727167bd3b346709ed2fae.jpg: 256x416 4 Persons, 22.0ms\n",
      "Speed: 2.1ms preprocess, 22.0ms inference, 3.0ms postprocess per image at shape (1, 3, 256, 416)\n"
     ]
    },
    {
     "name": "stderr",
     "output_type": "stream",
     "text": [
      "  4%|██▋                                                                    | 46/1232 [00:05<02:16,  8.69it/s]"
     ]
    },
    {
     "name": "stdout",
     "output_type": "stream",
     "text": [
      "\n",
      "image 1/1 /mnt/c/Adrianov/Projects/trash-detector/Littering--8/test/images/video_10_24_jpg.rf.5618a2472a47eca87dd5919c9521acd2.jpg: 256x416 2 Persons, 13.0ms\n",
      "Speed: 1.6ms preprocess, 13.0ms inference, 3.0ms postprocess per image at shape (1, 3, 256, 416)\n",
      "\n",
      "image 1/1 /mnt/c/Adrianov/Projects/trash-detector/Littering--8/test/images/video_10_24_jpg.rf.5a963cad0b7de0dfffbc145256a52585.jpg: 256x416 3 Persons, 1 Trash, 19.4ms\n",
      "Speed: 2.3ms preprocess, 19.4ms inference, 2.7ms postprocess per image at shape (1, 3, 256, 416)\n"
     ]
    },
    {
     "name": "stderr",
     "output_type": "stream",
     "text": [
      "  4%|██▊                                                                    | 48/1232 [00:05<02:08,  9.19it/s]"
     ]
    },
    {
     "name": "stdout",
     "output_type": "stream",
     "text": [
      "\n",
      "image 1/1 /mnt/c/Adrianov/Projects/trash-detector/Littering--8/test/images/video_10_25_jpg.rf.80397afa87a029d9f485505d0906e9af.jpg: 256x416 3 Persons, 1 Trash, 12.9ms\n",
      "Speed: 2.4ms preprocess, 12.9ms inference, 1.6ms postprocess per image at shape (1, 3, 256, 416)\n",
      "\n",
      "image 1/1 /mnt/c/Adrianov/Projects/trash-detector/Littering--8/test/images/video_10_25_jpg.rf.92579e583b68844d502e91aa6e18bcab.jpg: 256x416 2 Persons, 12.9ms\n",
      "Speed: 2.1ms preprocess, 12.9ms inference, 2.3ms postprocess per image at shape (1, 3, 256, 416)\n"
     ]
    },
    {
     "name": "stderr",
     "output_type": "stream",
     "text": [
      "  4%|██▉                                                                    | 50/1232 [00:05<02:02,  9.64it/s]"
     ]
    },
    {
     "name": "stdout",
     "output_type": "stream",
     "text": [
      "\n",
      "image 1/1 /mnt/c/Adrianov/Projects/trash-detector/Littering--8/test/images/video_10_25_jpg.rf.9882f324c19ac0716140bd26e0eae8c3.jpg: 256x416 5 Persons, 18.2ms\n",
      "Speed: 1.8ms preprocess, 18.2ms inference, 2.8ms postprocess per image at shape (1, 3, 256, 416)\n",
      "\n",
      "image 1/1 /mnt/c/Adrianov/Projects/trash-detector/Littering--8/test/images/video_10_26_jpg.rf.a133b0eed2d3b1f7bfb6fbb3927cbe05.jpg: 256x416 2 Persons, 12.9ms\n",
      "Speed: 1.6ms preprocess, 12.9ms inference, 1.7ms postprocess per image at shape (1, 3, 256, 416)\n"
     ]
    },
    {
     "name": "stderr",
     "output_type": "stream",
     "text": [
      "  4%|██▉                                                                    | 52/1232 [00:05<01:58,  9.93it/s]"
     ]
    },
    {
     "name": "stdout",
     "output_type": "stream",
     "text": [
      "\n",
      "image 1/1 /mnt/c/Adrianov/Projects/trash-detector/Littering--8/test/images/video_10_26_jpg.rf.ac9b3c89add73b2878d3e96fc9414d86.jpg: 256x416 3 Persons, 1 Trash, 12.9ms\n",
      "Speed: 2.1ms preprocess, 12.9ms inference, 1.7ms postprocess per image at shape (1, 3, 256, 416)\n",
      "\n",
      "image 1/1 /mnt/c/Adrianov/Projects/trash-detector/Littering--8/test/images/video_10_26_jpg.rf.e6058c3682351500d9f918478b7f0445.jpg: 256x416 4 Persons, 12.9ms\n",
      "Speed: 2.1ms preprocess, 12.9ms inference, 1.5ms postprocess per image at shape (1, 3, 256, 416)\n"
     ]
    },
    {
     "name": "stderr",
     "output_type": "stream",
     "text": [
      "  4%|███                                                                    | 54/1232 [00:05<01:55, 10.17it/s]"
     ]
    },
    {
     "name": "stdout",
     "output_type": "stream",
     "text": [
      "\n",
      "image 1/1 /mnt/c/Adrianov/Projects/trash-detector/Littering--8/test/images/video_10_27_jpg.rf.783e33587237c8c0ab61f4ec7dba88d5.jpg: 256x416 2 Persons, 13.1ms\n",
      "Speed: 3.3ms preprocess, 13.1ms inference, 1.8ms postprocess per image at shape (1, 3, 256, 416)\n",
      "\n",
      "image 1/1 /mnt/c/Adrianov/Projects/trash-detector/Littering--8/test/images/video_10_27_jpg.rf.e1beada2e59551f5591405fe13e5a82b.jpg: 256x416 3 Persons, 1 Trash, 12.8ms\n",
      "Speed: 1.6ms preprocess, 12.8ms inference, 2.0ms postprocess per image at shape (1, 3, 256, 416)\n"
     ]
    },
    {
     "name": "stderr",
     "output_type": "stream",
     "text": [
      "  5%|███▏                                                                   | 56/1232 [00:06<01:52, 10.45it/s]"
     ]
    },
    {
     "name": "stdout",
     "output_type": "stream",
     "text": [
      "\n",
      "image 1/1 /mnt/c/Adrianov/Projects/trash-detector/Littering--8/test/images/video_10_27_jpg.rf.fe028cb225a9e2cfe80075afd2e1890c.jpg: 256x416 4 Persons, 12.9ms\n",
      "Speed: 3.7ms preprocess, 12.9ms inference, 1.4ms postprocess per image at shape (1, 3, 256, 416)\n",
      "\n",
      "image 1/1 /mnt/c/Adrianov/Projects/trash-detector/Littering--8/test/images/video_10_28_jpg.rf.015266c449371a3154ecd3ed4ad858a1.jpg: 256x416 4 Persons, 12.8ms\n",
      "Speed: 1.6ms preprocess, 12.8ms inference, 1.3ms postprocess per image at shape (1, 3, 256, 416)\n"
     ]
    },
    {
     "name": "stderr",
     "output_type": "stream",
     "text": [
      "  5%|███▎                                                                   | 58/1232 [00:06<01:49, 10.72it/s]"
     ]
    },
    {
     "name": "stdout",
     "output_type": "stream",
     "text": [
      "\n",
      "image 1/1 /mnt/c/Adrianov/Projects/trash-detector/Littering--8/test/images/video_10_28_jpg.rf.2230042e41c3eccd8571b18ace9be36d.jpg: 256x416 2 Persons, 12.9ms\n",
      "Speed: 2.0ms preprocess, 12.9ms inference, 3.5ms postprocess per image at shape (1, 3, 256, 416)\n",
      "\n",
      "image 1/1 /mnt/c/Adrianov/Projects/trash-detector/Littering--8/test/images/video_10_28_jpg.rf.6109be1964d4c7d39e215cb8534ef672.jpg: 256x416 3 Persons, 1 Trash, 13.3ms\n",
      "Speed: 1.6ms preprocess, 13.3ms inference, 1.8ms postprocess per image at shape (1, 3, 256, 416)\n"
     ]
    },
    {
     "name": "stderr",
     "output_type": "stream",
     "text": [
      "  5%|███▍                                                                   | 60/1232 [00:06<01:49, 10.70it/s]"
     ]
    },
    {
     "name": "stdout",
     "output_type": "stream",
     "text": [
      "\n",
      "image 1/1 /mnt/c/Adrianov/Projects/trash-detector/Littering--8/test/images/video_10_29_jpg.rf.d497b12965ecbc4fd62cf25b65f6b700.jpg: 256x416 3 Persons, 1 Trash, 12.9ms\n",
      "Speed: 1.9ms preprocess, 12.9ms inference, 1.8ms postprocess per image at shape (1, 3, 256, 416)\n",
      "\n",
      "image 1/1 /mnt/c/Adrianov/Projects/trash-detector/Littering--8/test/images/video_10_29_jpg.rf.dc92ae3541e36955d6a5d520c111a912.jpg: 256x416 4 Persons, 12.8ms\n",
      "Speed: 2.0ms preprocess, 12.8ms inference, 2.4ms postprocess per image at shape (1, 3, 256, 416)\n"
     ]
    },
    {
     "name": "stderr",
     "output_type": "stream",
     "text": [
      "  5%|███▌                                                                   | 62/1232 [00:06<01:47, 10.85it/s]"
     ]
    },
    {
     "name": "stdout",
     "output_type": "stream",
     "text": [
      "\n",
      "image 1/1 /mnt/c/Adrianov/Projects/trash-detector/Littering--8/test/images/video_10_29_jpg.rf.e46b8f6bf03efe9a52af55a7089239a5.jpg: 256x416 2 Persons, 14.0ms\n",
      "Speed: 2.1ms preprocess, 14.0ms inference, 2.2ms postprocess per image at shape (1, 3, 256, 416)\n",
      "\n",
      "image 1/1 /mnt/c/Adrianov/Projects/trash-detector/Littering--8/test/images/video_10_2_jpg.rf.07f94be325e31f3c71180bd5713295f1.jpg: 256x416 3 Persons, 13.5ms\n",
      "Speed: 2.4ms preprocess, 13.5ms inference, 2.1ms postprocess per image at shape (1, 3, 256, 416)\n"
     ]
    },
    {
     "name": "stderr",
     "output_type": "stream",
     "text": [
      "  5%|███▋                                                                   | 64/1232 [00:06<01:48, 10.79it/s]"
     ]
    },
    {
     "name": "stdout",
     "output_type": "stream",
     "text": [
      "\n",
      "image 1/1 /mnt/c/Adrianov/Projects/trash-detector/Littering--8/test/images/video_10_2_jpg.rf.25fff4fb4ebb99052dc8766fbbbbe0ff.jpg: 256x416 1 Person, 1 Trash, 13.4ms\n",
      "Speed: 2.3ms preprocess, 13.4ms inference, 1.7ms postprocess per image at shape (1, 3, 256, 416)\n",
      "\n",
      "image 1/1 /mnt/c/Adrianov/Projects/trash-detector/Littering--8/test/images/video_10_2_jpg.rf.5d76b8c1377552be3e41231ac862a607.jpg: 256x416 4 Persons, 13.7ms\n",
      "Speed: 3.2ms preprocess, 13.7ms inference, 1.9ms postprocess per image at shape (1, 3, 256, 416)\n"
     ]
    },
    {
     "name": "stderr",
     "output_type": "stream",
     "text": [
      "  5%|███▊                                                                   | 66/1232 [00:06<02:01,  9.60it/s]"
     ]
    },
    {
     "name": "stdout",
     "output_type": "stream",
     "text": [
      "\n",
      "image 1/1 /mnt/c/Adrianov/Projects/trash-detector/Littering--8/test/images/video_10_30_jpg.rf.1421eeff11d0eb0278c3ad0d4db21b3c.jpg: 256x416 3 Persons, 1 Trash, 17.3ms\n",
      "Speed: 3.1ms preprocess, 17.3ms inference, 2.9ms postprocess per image at shape (1, 3, 256, 416)\n"
     ]
    },
    {
     "name": "stderr",
     "output_type": "stream",
     "text": [
      "  5%|███▊                                                                   | 67/1232 [00:07<02:06,  9.21it/s]"
     ]
    },
    {
     "name": "stdout",
     "output_type": "stream",
     "text": [
      "\n",
      "image 1/1 /mnt/c/Adrianov/Projects/trash-detector/Littering--8/test/images/video_10_30_jpg.rf.5d15ba185b74578c10b76bd157dffd8d.jpg: 256x416 2 Persons, 13.8ms\n",
      "Speed: 2.2ms preprocess, 13.8ms inference, 1.6ms postprocess per image at shape (1, 3, 256, 416)\n"
     ]
    },
    {
     "name": "stderr",
     "output_type": "stream",
     "text": [
      "  6%|███▉                                                                   | 68/1232 [00:07<02:06,  9.17it/s]"
     ]
    },
    {
     "name": "stdout",
     "output_type": "stream",
     "text": [
      "\n",
      "image 1/1 /mnt/c/Adrianov/Projects/trash-detector/Littering--8/test/images/video_10_3_jpg.rf.4380073e62bdeed59b6caf517c1c9b10.jpg: 256x416 4 Persons, 12.8ms\n",
      "Speed: 2.2ms preprocess, 12.8ms inference, 1.4ms postprocess per image at shape (1, 3, 256, 416)\n"
     ]
    },
    {
     "name": "stderr",
     "output_type": "stream",
     "text": [
      "  6%|███▉                                                                   | 69/1232 [00:07<02:13,  8.69it/s]"
     ]
    },
    {
     "name": "stdout",
     "output_type": "stream",
     "text": [
      "\n",
      "image 1/1 /mnt/c/Adrianov/Projects/trash-detector/Littering--8/test/images/video_10_3_jpg.rf.69cf62c5c692c9ba988ead3b3be8016e.jpg: 256x416 1 Person, 2 Trashs, 20.0ms\n",
      "Speed: 2.1ms preprocess, 20.0ms inference, 2.7ms postprocess per image at shape (1, 3, 256, 416)\n"
     ]
    },
    {
     "name": "stderr",
     "output_type": "stream",
     "text": [
      "  6%|████                                                                   | 70/1232 [00:07<02:17,  8.45it/s]"
     ]
    },
    {
     "name": "stdout",
     "output_type": "stream",
     "text": [
      "\n",
      "image 1/1 /mnt/c/Adrianov/Projects/trash-detector/Littering--8/test/images/video_10_3_jpg.rf.6cafe915d255b880b43805fcbe9b6ed6.jpg: 256x416 3 Persons, 12.8ms\n",
      "Speed: 2.1ms preprocess, 12.8ms inference, 1.7ms postprocess per image at shape (1, 3, 256, 416)\n",
      "\n",
      "image 1/1 /mnt/c/Adrianov/Projects/trash-detector/Littering--8/test/images/video_10_4_jpg.rf.0fdddb5386da5f4ce1d1372d058e1223.jpg: 256x416 4 Persons, 12.8ms\n",
      "Speed: 1.8ms preprocess, 12.8ms inference, 1.8ms postprocess per image at shape (1, 3, 256, 416)\n"
     ]
    },
    {
     "name": "stderr",
     "output_type": "stream",
     "text": [
      "  6%|████▏                                                                  | 72/1232 [00:07<02:05,  9.21it/s]"
     ]
    },
    {
     "name": "stdout",
     "output_type": "stream",
     "text": [
      "\n",
      "image 1/1 /mnt/c/Adrianov/Projects/trash-detector/Littering--8/test/images/video_10_4_jpg.rf.5eb2ec6ba57f369b571e943e8450e4af.jpg: 256x416 3 Persons, 13.0ms\n",
      "Speed: 2.1ms preprocess, 13.0ms inference, 2.0ms postprocess per image at shape (1, 3, 256, 416)\n",
      "\n",
      "image 1/1 /mnt/c/Adrianov/Projects/trash-detector/Littering--8/test/images/video_10_4_jpg.rf.f6d9eb582babf3f0795f27838620243c.jpg: 256x416 1 Person, 13.1ms\n",
      "Speed: 2.5ms preprocess, 13.1ms inference, 3.4ms postprocess per image at shape (1, 3, 256, 416)\n"
     ]
    },
    {
     "name": "stderr",
     "output_type": "stream",
     "text": [
      "  6%|████▎                                                                  | 74/1232 [00:07<01:59,  9.69it/s]"
     ]
    },
    {
     "name": "stdout",
     "output_type": "stream",
     "text": [
      "\n",
      "image 1/1 /mnt/c/Adrianov/Projects/trash-detector/Littering--8/test/images/video_10_5_jpg.rf.72c495dc17fd62a678e3812dc0620571.jpg: 256x416 1 Person, 16.4ms\n",
      "Speed: 2.4ms preprocess, 16.4ms inference, 1.9ms postprocess per image at shape (1, 3, 256, 416)\n"
     ]
    },
    {
     "name": "stderr",
     "output_type": "stream",
     "text": [
      "  6%|████▎                                                                  | 75/1232 [00:08<02:28,  7.79it/s]"
     ]
    },
    {
     "name": "stdout",
     "output_type": "stream",
     "text": [
      "\n",
      "image 1/1 /mnt/c/Adrianov/Projects/trash-detector/Littering--8/test/images/video_10_5_jpg.rf.7798bb7276833d2fffecbf1d0c2d3d38.jpg: 256x416 4 Persons, 16.3ms\n",
      "Speed: 2.2ms preprocess, 16.3ms inference, 2.3ms postprocess per image at shape (1, 3, 256, 416)\n"
     ]
    },
    {
     "name": "stderr",
     "output_type": "stream",
     "text": [
      "  6%|████▍                                                                  | 76/1232 [00:08<02:31,  7.66it/s]"
     ]
    },
    {
     "name": "stdout",
     "output_type": "stream",
     "text": [
      "\n",
      "image 1/1 /mnt/c/Adrianov/Projects/trash-detector/Littering--8/test/images/video_10_5_jpg.rf.db37cec8cc2fe25de22223ca3677de27.jpg: 256x416 3 Persons, 12.8ms\n",
      "Speed: 2.2ms preprocess, 12.8ms inference, 1.9ms postprocess per image at shape (1, 3, 256, 416)\n",
      "\n",
      "image 1/1 /mnt/c/Adrianov/Projects/trash-detector/Littering--8/test/images/video_10_6_jpg.rf.4ed9b670b799b775954e6d9f51ded068.jpg: 256x416 4 Persons, 13.1ms\n",
      "Speed: 1.8ms preprocess, 13.1ms inference, 1.4ms postprocess per image at shape (1, 3, 256, 416)\n"
     ]
    },
    {
     "name": "stderr",
     "output_type": "stream",
     "text": [
      "  6%|████▍                                                                  | 78/1232 [00:08<02:11,  8.79it/s]"
     ]
    },
    {
     "name": "stdout",
     "output_type": "stream",
     "text": [
      "\n",
      "image 1/1 /mnt/c/Adrianov/Projects/trash-detector/Littering--8/test/images/video_10_6_jpg.rf.a934c217b1bef28a15ff53b54f379db4.jpg: 256x416 3 Persons, 13.2ms\n",
      "Speed: 2.1ms preprocess, 13.2ms inference, 1.3ms postprocess per image at shape (1, 3, 256, 416)\n",
      "\n",
      "image 1/1 /mnt/c/Adrianov/Projects/trash-detector/Littering--8/test/images/video_10_6_jpg.rf.e98ac11690e6479440659d4eb2aa7057.jpg: 256x416 1 Person, 12.9ms\n",
      "Speed: 5.1ms preprocess, 12.9ms inference, 1.7ms postprocess per image at shape (1, 3, 256, 416)\n"
     ]
    },
    {
     "name": "stderr",
     "output_type": "stream",
     "text": [
      "  6%|████▌                                                                  | 80/1232 [00:08<02:00,  9.52it/s]"
     ]
    },
    {
     "name": "stdout",
     "output_type": "stream",
     "text": [
      "\n",
      "image 1/1 /mnt/c/Adrianov/Projects/trash-detector/Littering--8/test/images/video_10_7_jpg.rf.26a47386eec4f5d878787c60965dabcf.jpg: 256x416 3 Persons, 16.4ms\n",
      "Speed: 2.1ms preprocess, 16.4ms inference, 2.4ms postprocess per image at shape (1, 3, 256, 416)\n",
      "\n",
      "image 1/1 /mnt/c/Adrianov/Projects/trash-detector/Littering--8/test/images/video_10_7_jpg.rf.5b4503fe1d9835756d23b49ca0bb2d77.jpg: 256x416 4 Persons, 21.9ms\n",
      "Speed: 2.2ms preprocess, 21.9ms inference, 2.9ms postprocess per image at shape (1, 3, 256, 416)\n"
     ]
    },
    {
     "name": "stderr",
     "output_type": "stream",
     "text": [
      "  7%|████▋                                                                  | 82/1232 [00:08<01:58,  9.71it/s]"
     ]
    },
    {
     "name": "stdout",
     "output_type": "stream",
     "text": [
      "\n",
      "image 1/1 /mnt/c/Adrianov/Projects/trash-detector/Littering--8/test/images/video_10_7_jpg.rf.85a2c00dd0c208cd52f50ec064eb1a07.jpg: 256x416 2 Persons, 12.9ms\n",
      "Speed: 1.7ms preprocess, 12.9ms inference, 1.9ms postprocess per image at shape (1, 3, 256, 416)\n",
      "\n",
      "image 1/1 /mnt/c/Adrianov/Projects/trash-detector/Littering--8/test/images/video_10_8_jpg.rf.02a26622824886b7ee2243d759060688.jpg: 256x416 4 Persons, 12.9ms\n",
      "Speed: 1.9ms preprocess, 12.9ms inference, 2.8ms postprocess per image at shape (1, 3, 256, 416)\n"
     ]
    },
    {
     "name": "stderr",
     "output_type": "stream",
     "text": [
      "  7%|████▊                                                                  | 84/1232 [00:09<02:06,  9.05it/s]"
     ]
    },
    {
     "name": "stdout",
     "output_type": "stream",
     "text": [
      "\n",
      "image 1/1 /mnt/c/Adrianov/Projects/trash-detector/Littering--8/test/images/video_10_8_jpg.rf.0be87fc9940791bc1918e0cedda5e09d.jpg: 256x416 3 Persons, 13.1ms\n",
      "Speed: 2.2ms preprocess, 13.1ms inference, 3.1ms postprocess per image at shape (1, 3, 256, 416)\n"
     ]
    },
    {
     "name": "stderr",
     "output_type": "stream",
     "text": [
      "  7%|████▉                                                                  | 85/1232 [00:09<02:15,  8.47it/s]"
     ]
    },
    {
     "name": "stdout",
     "output_type": "stream",
     "text": [
      "\n",
      "image 1/1 /mnt/c/Adrianov/Projects/trash-detector/Littering--8/test/images/video_10_8_jpg.rf.d1688c8063ef4c2f890bb8ec8acf20e8.jpg: 256x416 2 Persons, 14.7ms\n",
      "Speed: 3.3ms preprocess, 14.7ms inference, 1.6ms postprocess per image at shape (1, 3, 256, 416)\n"
     ]
    },
    {
     "name": "stderr",
     "output_type": "stream",
     "text": [
      "  7%|████▉                                                                  | 86/1232 [00:09<02:17,  8.32it/s]"
     ]
    },
    {
     "name": "stdout",
     "output_type": "stream",
     "text": [
      "\n",
      "image 1/1 /mnt/c/Adrianov/Projects/trash-detector/Littering--8/test/images/video_10_9_jpg.rf.75bba86f89d270304ba0f008bb988659.jpg: 256x416 4 Persons, 13.3ms\n",
      "Speed: 3.9ms preprocess, 13.3ms inference, 1.2ms postprocess per image at shape (1, 3, 256, 416)\n"
     ]
    },
    {
     "name": "stderr",
     "output_type": "stream",
     "text": [
      "  7%|█████                                                                  | 87/1232 [00:09<02:26,  7.81it/s]"
     ]
    },
    {
     "name": "stdout",
     "output_type": "stream",
     "text": [
      "\n",
      "image 1/1 /mnt/c/Adrianov/Projects/trash-detector/Littering--8/test/images/video_10_9_jpg.rf.9abbb2db57be60798e2b93de98ddf5c3.jpg: 256x416 2 Persons, 13.8ms\n",
      "Speed: 3.1ms preprocess, 13.8ms inference, 3.2ms postprocess per image at shape (1, 3, 256, 416)\n"
     ]
    },
    {
     "name": "stderr",
     "output_type": "stream",
     "text": [
      "  7%|█████                                                                  | 88/1232 [00:09<02:28,  7.70it/s]"
     ]
    },
    {
     "name": "stdout",
     "output_type": "stream",
     "text": [
      "\n",
      "image 1/1 /mnt/c/Adrianov/Projects/trash-detector/Littering--8/test/images/video_10_9_jpg.rf.a4ad1321c90a2b0f128c28ace5c4b6e9.jpg: 256x416 3 Persons, 14.7ms\n",
      "Speed: 2.4ms preprocess, 14.7ms inference, 1.3ms postprocess per image at shape (1, 3, 256, 416)\n",
      "\n",
      "image 1/1 /mnt/c/Adrianov/Projects/trash-detector/Littering--8/test/images/video_11_10_jpg.rf.15f502e41767d29babfc526c6b9adf1a.jpg: 256x416 2 Persons, 12.8ms\n",
      "Speed: 2.0ms preprocess, 12.8ms inference, 2.3ms postprocess per image at shape (1, 3, 256, 416)\n"
     ]
    },
    {
     "name": "stderr",
     "output_type": "stream",
     "text": [
      "  7%|█████▏                                                                 | 90/1232 [00:09<02:09,  8.83it/s]"
     ]
    },
    {
     "name": "stdout",
     "output_type": "stream",
     "text": [
      "\n",
      "image 1/1 /mnt/c/Adrianov/Projects/trash-detector/Littering--8/test/images/video_11_10_jpg.rf.bee3f8e11652112c2b2df31e86c11d96.jpg: 256x416 3 Persons, 13.2ms\n",
      "Speed: 1.6ms preprocess, 13.2ms inference, 1.5ms postprocess per image at shape (1, 3, 256, 416)\n",
      "\n",
      "image 1/1 /mnt/c/Adrianov/Projects/trash-detector/Littering--8/test/images/video_11_10_jpg.rf.cdd642b18ab737c556ce33af123d8142.jpg: 256x416 3 Persons, 1 Trash, 12.8ms\n",
      "Speed: 2.0ms preprocess, 12.8ms inference, 1.7ms postprocess per image at shape (1, 3, 256, 416)\n"
     ]
    },
    {
     "name": "stderr",
     "output_type": "stream",
     "text": [
      "  7%|█████▎                                                                 | 92/1232 [00:09<02:01,  9.35it/s]"
     ]
    },
    {
     "name": "stdout",
     "output_type": "stream",
     "text": [
      "\n",
      "image 1/1 /mnt/c/Adrianov/Projects/trash-detector/Littering--8/test/images/video_11_11_jpg.rf.bdfed7c89271811320a83df6f8ebc425.jpg: 256x416 3 Persons, 1 Trash, 14.3ms\n",
      "Speed: 1.9ms preprocess, 14.3ms inference, 2.0ms postprocess per image at shape (1, 3, 256, 416)\n"
     ]
    },
    {
     "name": "stderr",
     "output_type": "stream",
     "text": [
      "  8%|█████▎                                                                 | 93/1232 [00:10<02:00,  9.44it/s]"
     ]
    },
    {
     "name": "stdout",
     "output_type": "stream",
     "text": [
      "\n",
      "image 1/1 /mnt/c/Adrianov/Projects/trash-detector/Littering--8/test/images/video_11_11_jpg.rf.d88bcb4c7c2fe48c17c68cb31951433b.jpg: 256x416 2 Persons, 12.9ms\n",
      "Speed: 2.8ms preprocess, 12.9ms inference, 2.7ms postprocess per image at shape (1, 3, 256, 416)\n",
      "\n",
      "image 1/1 /mnt/c/Adrianov/Projects/trash-detector/Littering--8/test/images/video_11_12_jpg.rf.276de31610611e2a66de9b3d6e426bec.jpg: 256x416 3 Persons, 20.0ms\n",
      "Speed: 1.8ms preprocess, 20.0ms inference, 2.5ms postprocess per image at shape (1, 3, 256, 416)\n"
     ]
    },
    {
     "name": "stderr",
     "output_type": "stream",
     "text": [
      "  8%|█████▍                                                                 | 95/1232 [00:10<01:53, 10.02it/s]"
     ]
    },
    {
     "name": "stdout",
     "output_type": "stream",
     "text": [
      "\n",
      "image 1/1 /mnt/c/Adrianov/Projects/trash-detector/Littering--8/test/images/video_11_12_jpg.rf.604384fcbcb9b4b36d6a359fb1c195d5.jpg: 256x416 3 Persons, 1 Trash, 13.4ms\n",
      "Speed: 1.5ms preprocess, 13.4ms inference, 1.6ms postprocess per image at shape (1, 3, 256, 416)\n",
      "\n",
      "image 1/1 /mnt/c/Adrianov/Projects/trash-detector/Littering--8/test/images/video_11_12_jpg.rf.e7f7ee1c114bb68e11aadf9df886d651.jpg: 256x416 2 Persons, 12.8ms\n",
      "Speed: 2.4ms preprocess, 12.8ms inference, 1.6ms postprocess per image at shape (1, 3, 256, 416)\n"
     ]
    },
    {
     "name": "stderr",
     "output_type": "stream",
     "text": [
      "  8%|█████▌                                                                 | 97/1232 [00:10<01:48, 10.42it/s]"
     ]
    },
    {
     "name": "stdout",
     "output_type": "stream",
     "text": [
      "\n",
      "image 1/1 /mnt/c/Adrianov/Projects/trash-detector/Littering--8/test/images/video_11_13_jpg.rf.7640c25f013ef663ddc9413107df6ef2.jpg: 256x416 3 Persons, 17.6ms\n",
      "Speed: 1.7ms preprocess, 17.6ms inference, 3.0ms postprocess per image at shape (1, 3, 256, 416)\n",
      "\n",
      "image 1/1 /mnt/c/Adrianov/Projects/trash-detector/Littering--8/test/images/video_11_13_jpg.rf.7ae1775c2165a072259244d6f5d794d6.jpg: 256x416 2 Persons, 13.1ms\n",
      "Speed: 2.1ms preprocess, 13.1ms inference, 1.5ms postprocess per image at shape (1, 3, 256, 416)\n"
     ]
    },
    {
     "name": "stderr",
     "output_type": "stream",
     "text": [
      "  8%|█████▋                                                                 | 99/1232 [00:10<01:45, 10.74it/s]"
     ]
    },
    {
     "name": "stdout",
     "output_type": "stream",
     "text": [
      "\n",
      "image 1/1 /mnt/c/Adrianov/Projects/trash-detector/Littering--8/test/images/video_11_13_jpg.rf.d295458917f8cbc83a286915418e07b7.jpg: 256x416 3 Persons, 1 Trash, 13.8ms\n",
      "Speed: 3.5ms preprocess, 13.8ms inference, 1.4ms postprocess per image at shape (1, 3, 256, 416)\n",
      "\n",
      "image 1/1 /mnt/c/Adrianov/Projects/trash-detector/Littering--8/test/images/video_11_14_jpg.rf.2a2380df4dda0ad793fc4d7fbe6f96c8.jpg: 256x416 3 Persons, 1 Trash, 13.1ms\n",
      "Speed: 1.9ms preprocess, 13.1ms inference, 2.1ms postprocess per image at shape (1, 3, 256, 416)\n"
     ]
    },
    {
     "name": "stderr",
     "output_type": "stream",
     "text": [
      "  8%|█████▋                                                                | 101/1232 [00:10<01:45, 10.71it/s]"
     ]
    },
    {
     "name": "stdout",
     "output_type": "stream",
     "text": [
      "\n",
      "image 1/1 /mnt/c/Adrianov/Projects/trash-detector/Littering--8/test/images/video_11_14_jpg.rf.a36ba055e2ef9ca45471bed1636a4e90.jpg: 256x416 2 Persons, 12.8ms\n",
      "Speed: 1.8ms preprocess, 12.8ms inference, 1.5ms postprocess per image at shape (1, 3, 256, 416)\n",
      "\n",
      "image 1/1 /mnt/c/Adrianov/Projects/trash-detector/Littering--8/test/images/video_11_15_jpg.rf.563b52def75b03c5daada995283c4cbf.jpg: 256x416 3 Persons, 1 Trash, 12.8ms\n",
      "Speed: 1.8ms preprocess, 12.8ms inference, 1.7ms postprocess per image at shape (1, 3, 256, 416)\n"
     ]
    },
    {
     "name": "stderr",
     "output_type": "stream",
     "text": [
      "  8%|█████▊                                                                | 103/1232 [00:10<01:44, 10.81it/s]"
     ]
    },
    {
     "name": "stdout",
     "output_type": "stream",
     "text": [
      "\n",
      "image 1/1 /mnt/c/Adrianov/Projects/trash-detector/Littering--8/test/images/video_11_15_jpg.rf.94551a1d03edadec743a7021af119605.jpg: 256x416 2 Persons, 13.7ms\n",
      "Speed: 1.8ms preprocess, 13.7ms inference, 2.8ms postprocess per image at shape (1, 3, 256, 416)\n",
      "\n",
      "image 1/1 /mnt/c/Adrianov/Projects/trash-detector/Littering--8/test/images/video_11_15_jpg.rf.e5f66134f017bc4a0c1b38dcfb06570a.jpg: 256x416 2 Persons, 15.3ms\n",
      "Speed: 1.9ms preprocess, 15.3ms inference, 2.7ms postprocess per image at shape (1, 3, 256, 416)\n"
     ]
    },
    {
     "name": "stderr",
     "output_type": "stream",
     "text": [
      "  9%|█████▉                                                                | 105/1232 [00:11<01:42, 10.97it/s]"
     ]
    },
    {
     "name": "stdout",
     "output_type": "stream",
     "text": [
      "\n",
      "image 1/1 /mnt/c/Adrianov/Projects/trash-detector/Littering--8/test/images/video_11_16_jpg.rf.2aa77fcac6b18debdb0deaff24427ba2.jpg: 256x416 3 Persons, 1 Trash, 15.9ms\n",
      "Speed: 1.6ms preprocess, 15.9ms inference, 1.6ms postprocess per image at shape (1, 3, 256, 416)\n",
      "\n",
      "image 1/1 /mnt/c/Adrianov/Projects/trash-detector/Littering--8/test/images/video_11_16_jpg.rf.4250c328c418cbe305776afe341c6c61.jpg: 256x416 3 Persons, 12.8ms\n",
      "Speed: 2.5ms preprocess, 12.8ms inference, 2.5ms postprocess per image at shape (1, 3, 256, 416)\n"
     ]
    },
    {
     "name": "stderr",
     "output_type": "stream",
     "text": [
      "  9%|██████                                                                | 107/1232 [00:11<01:42, 11.02it/s]"
     ]
    },
    {
     "name": "stdout",
     "output_type": "stream",
     "text": [
      "\n",
      "image 1/1 /mnt/c/Adrianov/Projects/trash-detector/Littering--8/test/images/video_11_16_jpg.rf.f619b3490320f15462cc8d12ac5dcc05.jpg: 256x416 2 Persons, 16.1ms\n",
      "Speed: 2.0ms preprocess, 16.1ms inference, 1.6ms postprocess per image at shape (1, 3, 256, 416)\n",
      "\n",
      "image 1/1 /mnt/c/Adrianov/Projects/trash-detector/Littering--8/test/images/video_11_17_jpg.rf.579a14efeaaa0c1278707d375552a4ae.jpg: 256x416 3 Persons, 1 Trash, 12.9ms\n",
      "Speed: 2.1ms preprocess, 12.9ms inference, 1.8ms postprocess per image at shape (1, 3, 256, 416)\n"
     ]
    },
    {
     "name": "stderr",
     "output_type": "stream",
     "text": [
      "  9%|██████▏                                                               | 109/1232 [00:11<02:06,  8.87it/s]"
     ]
    },
    {
     "name": "stdout",
     "output_type": "stream",
     "text": [
      "\n",
      "image 1/1 /mnt/c/Adrianov/Projects/trash-detector/Littering--8/test/images/video_11_17_jpg.rf.8be287e1a3ae3d39aa3cff93405af747.jpg: 256x416 2 Persons, 1 Trash, 14.2ms\n",
      "Speed: 2.3ms preprocess, 14.2ms inference, 1.6ms postprocess per image at shape (1, 3, 256, 416)\n",
      "\n",
      "image 1/1 /mnt/c/Adrianov/Projects/trash-detector/Littering--8/test/images/video_11_18_jpg.rf.0129d34a02f611e3300da4fc06d3f9c0.jpg: 256x416 3 Persons, 1 Trash, 13.0ms\n",
      "Speed: 2.2ms preprocess, 13.0ms inference, 1.3ms postprocess per image at shape (1, 3, 256, 416)\n"
     ]
    },
    {
     "name": "stderr",
     "output_type": "stream",
     "text": [
      "  9%|██████▎                                                               | 111/1232 [00:11<01:57,  9.51it/s]"
     ]
    },
    {
     "name": "stdout",
     "output_type": "stream",
     "text": [
      "\n",
      "image 1/1 /mnt/c/Adrianov/Projects/trash-detector/Littering--8/test/images/video_11_18_jpg.rf.1ce68122344a7104dbbf8929a6b238e0.jpg: 256x416 2 Persons, 1 Trash, 12.8ms\n",
      "Speed: 1.9ms preprocess, 12.8ms inference, 1.8ms postprocess per image at shape (1, 3, 256, 416)\n",
      "\n",
      "image 1/1 /mnt/c/Adrianov/Projects/trash-detector/Littering--8/test/images/video_11_19_jpg.rf.0969ba29299decfe8652d55889fe2c30.jpg: 256x416 4 Persons, 12.8ms\n",
      "Speed: 1.7ms preprocess, 12.8ms inference, 1.7ms postprocess per image at shape (1, 3, 256, 416)\n"
     ]
    },
    {
     "name": "stderr",
     "output_type": "stream",
     "text": [
      "  9%|██████▍                                                               | 113/1232 [00:12<01:51, 10.08it/s]"
     ]
    },
    {
     "name": "stdout",
     "output_type": "stream",
     "text": [
      "\n",
      "image 1/1 /mnt/c/Adrianov/Projects/trash-detector/Littering--8/test/images/video_11_19_jpg.rf.0e32d3d8efa0ea454877f42b987dccd8.jpg: 256x416 3 Persons, 1 Trash, 15.1ms\n",
      "Speed: 2.2ms preprocess, 15.1ms inference, 2.7ms postprocess per image at shape (1, 3, 256, 416)\n",
      "\n",
      "image 1/1 /mnt/c/Adrianov/Projects/trash-detector/Littering--8/test/images/video_11_19_jpg.rf.cb96eaf78f29c849c3364548209c6f37.jpg: 256x416 2 Persons, 1 Trash, 13.3ms\n",
      "Speed: 2.2ms preprocess, 13.3ms inference, 2.0ms postprocess per image at shape (1, 3, 256, 416)\n"
     ]
    },
    {
     "name": "stderr",
     "output_type": "stream",
     "text": [
      "  9%|██████▌                                                               | 115/1232 [00:12<02:08,  8.73it/s]"
     ]
    },
    {
     "name": "stdout",
     "output_type": "stream",
     "text": [
      "\n",
      "image 1/1 /mnt/c/Adrianov/Projects/trash-detector/Littering--8/test/images/video_11_1_jpg.rf.d6e5365b05bdcc653a82a64826770b89.jpg: 256x416 2 Persons, 13.1ms\n",
      "Speed: 5.3ms preprocess, 13.1ms inference, 1.5ms postprocess per image at shape (1, 3, 256, 416)\n",
      "\n",
      "image 1/1 /mnt/c/Adrianov/Projects/trash-detector/Littering--8/test/images/video_11_1_jpg.rf.eccb4e3c91d84df0f0daab63d41029cc.jpg: 256x416 2 Persons, 1 Trash, 15.6ms\n",
      "Speed: 2.5ms preprocess, 15.6ms inference, 2.2ms postprocess per image at shape (1, 3, 256, 416)\n"
     ]
    },
    {
     "name": "stderr",
     "output_type": "stream",
     "text": [
      "  9%|██████▋                                                               | 117/1232 [00:12<02:01,  9.17it/s]"
     ]
    },
    {
     "name": "stdout",
     "output_type": "stream",
     "text": [
      "\n",
      "image 1/1 /mnt/c/Adrianov/Projects/trash-detector/Littering--8/test/images/video_11_20_jpg.rf.20608ddf6290bd1017ca76860a726a1d.jpg: 256x416 4 Persons, 12.9ms\n",
      "Speed: 2.1ms preprocess, 12.9ms inference, 2.3ms postprocess per image at shape (1, 3, 256, 416)\n",
      "\n",
      "image 1/1 /mnt/c/Adrianov/Projects/trash-detector/Littering--8/test/images/video_11_20_jpg.rf.622e69187e245a70a75a931e53a80915.jpg: 256x416 3 Persons, 1 Trash, 17.1ms\n",
      "Speed: 1.8ms preprocess, 17.1ms inference, 1.8ms postprocess per image at shape (1, 3, 256, 416)\n"
     ]
    },
    {
     "name": "stderr",
     "output_type": "stream",
     "text": [
      " 10%|██████▊                                                               | 119/1232 [00:12<01:59,  9.30it/s]"
     ]
    },
    {
     "name": "stdout",
     "output_type": "stream",
     "text": [
      "\n",
      "image 1/1 /mnt/c/Adrianov/Projects/trash-detector/Littering--8/test/images/video_11_20_jpg.rf.af046978b52de877bc5a9b5c6d79e200.jpg: 256x416 2 Persons, 15.4ms\n",
      "Speed: 1.7ms preprocess, 15.4ms inference, 2.8ms postprocess per image at shape (1, 3, 256, 416)\n"
     ]
    },
    {
     "name": "stderr",
     "output_type": "stream",
     "text": [
      " 10%|██████▊                                                               | 120/1232 [00:12<02:05,  8.87it/s]"
     ]
    },
    {
     "name": "stdout",
     "output_type": "stream",
     "text": [
      "\n",
      "image 1/1 /mnt/c/Adrianov/Projects/trash-detector/Littering--8/test/images/video_11_21_jpg.rf.69d3308c01c5dce439591d8272eaae35.jpg: 256x416 2 Persons, 1 Trash, 14.9ms\n",
      "Speed: 2.6ms preprocess, 14.9ms inference, 1.6ms postprocess per image at shape (1, 3, 256, 416)\n"
     ]
    },
    {
     "name": "stderr",
     "output_type": "stream",
     "text": [
      " 10%|██████▉                                                               | 121/1232 [00:13<02:16,  8.16it/s]"
     ]
    },
    {
     "name": "stdout",
     "output_type": "stream",
     "text": [
      "\n",
      "image 1/1 /mnt/c/Adrianov/Projects/trash-detector/Littering--8/test/images/video_11_21_jpg.rf.d5f157381984c90774c6cb3617250f47.jpg: 256x416 3 Persons, 13.0ms\n",
      "Speed: 5.1ms preprocess, 13.0ms inference, 1.5ms postprocess per image at shape (1, 3, 256, 416)\n"
     ]
    },
    {
     "name": "stderr",
     "output_type": "stream",
     "text": [
      " 10%|██████▉                                                               | 122/1232 [00:13<02:15,  8.18it/s]"
     ]
    },
    {
     "name": "stdout",
     "output_type": "stream",
     "text": [
      "\n",
      "image 1/1 /mnt/c/Adrianov/Projects/trash-detector/Littering--8/test/images/video_11_22_jpg.rf.2b778263c472fe148e615ac2332564ed.jpg: 256x416 3 Persons, 1 Trash, 12.8ms\n",
      "Speed: 1.9ms preprocess, 12.8ms inference, 1.8ms postprocess per image at shape (1, 3, 256, 416)\n",
      "\n",
      "image 1/1 /mnt/c/Adrianov/Projects/trash-detector/Littering--8/test/images/video_11_22_jpg.rf.8ffe2432629d2d248effb2ed5ba4e4a4.jpg: 256x416 2 Persons, 14.5ms\n",
      "Speed: 2.1ms preprocess, 14.5ms inference, 2.5ms postprocess per image at shape (1, 3, 256, 416)\n"
     ]
    },
    {
     "name": "stderr",
     "output_type": "stream",
     "text": [
      " 10%|███████                                                               | 124/1232 [00:13<02:03,  8.98it/s]"
     ]
    },
    {
     "name": "stdout",
     "output_type": "stream",
     "text": [
      "\n",
      "image 1/1 /mnt/c/Adrianov/Projects/trash-detector/Littering--8/test/images/video_11_23_jpg.rf.a4515f11b69aaf021424dc330e00a695.jpg: 256x416 3 Persons, 12.9ms\n",
      "Speed: 2.2ms preprocess, 12.9ms inference, 3.0ms postprocess per image at shape (1, 3, 256, 416)\n",
      "\n",
      "image 1/1 /mnt/c/Adrianov/Projects/trash-detector/Littering--8/test/images/video_11_23_jpg.rf.abba92417a3dc74fa4e9fa174da6d009.jpg: 256x416 2 Persons, 1 Trash, 13.1ms\n",
      "Speed: 2.3ms preprocess, 13.1ms inference, 2.1ms postprocess per image at shape (1, 3, 256, 416)\n"
     ]
    },
    {
     "name": "stderr",
     "output_type": "stream",
     "text": [
      " 10%|███████▏                                                              | 126/1232 [00:13<01:56,  9.46it/s]"
     ]
    },
    {
     "name": "stdout",
     "output_type": "stream",
     "text": [
      "\n",
      "image 1/1 /mnt/c/Adrianov/Projects/trash-detector/Littering--8/test/images/video_11_23_jpg.rf.c4f76d54bbda67da17e8a4ffeca36917.jpg: 256x416 3 Persons, 13.5ms\n",
      "Speed: 2.5ms preprocess, 13.5ms inference, 1.7ms postprocess per image at shape (1, 3, 256, 416)\n",
      "\n",
      "image 1/1 /mnt/c/Adrianov/Projects/trash-detector/Littering--8/test/images/video_11_24_jpg.rf.6552f199628779c6b7393656a17598df.jpg: 256x416 4 Persons, 12.9ms\n",
      "Speed: 1.9ms preprocess, 12.9ms inference, 2.8ms postprocess per image at shape (1, 3, 256, 416)\n"
     ]
    },
    {
     "name": "stderr",
     "output_type": "stream",
     "text": [
      " 10%|███████▎                                                              | 128/1232 [00:13<01:49, 10.05it/s]"
     ]
    },
    {
     "name": "stdout",
     "output_type": "stream",
     "text": [
      "\n",
      "image 1/1 /mnt/c/Adrianov/Projects/trash-detector/Littering--8/test/images/video_11_24_jpg.rf.adde1042195b01a2bd7f8417147e6cf3.jpg: 256x416 2 Persons, 14.5ms\n",
      "Speed: 2.2ms preprocess, 14.5ms inference, 1.2ms postprocess per image at shape (1, 3, 256, 416)\n",
      "\n",
      "image 1/1 /mnt/c/Adrianov/Projects/trash-detector/Littering--8/test/images/video_11_24_jpg.rf.d8f7b1075879d0bf3d52b79c3d970e61.jpg: 256x416 3 Persons, 13.0ms\n",
      "Speed: 1.8ms preprocess, 13.0ms inference, 1.4ms postprocess per image at shape (1, 3, 256, 416)\n"
     ]
    },
    {
     "name": "stderr",
     "output_type": "stream",
     "text": [
      " 11%|███████▍                                                              | 130/1232 [00:13<01:46, 10.33it/s]"
     ]
    },
    {
     "name": "stdout",
     "output_type": "stream",
     "text": [
      "\n",
      "image 1/1 /mnt/c/Adrianov/Projects/trash-detector/Littering--8/test/images/video_11_25_jpg.rf.110cd3aa3d0afbeb250e111cf216f551.jpg: 256x416 3 Persons, 1 Trash, 14.5ms\n",
      "Speed: 2.8ms preprocess, 14.5ms inference, 2.5ms postprocess per image at shape (1, 3, 256, 416)\n",
      "\n",
      "image 1/1 /mnt/c/Adrianov/Projects/trash-detector/Littering--8/test/images/video_11_25_jpg.rf.7488c4c806c0da34a36b1a42ee1176fd.jpg: 256x416 3 Persons, 16.2ms\n",
      "Speed: 2.3ms preprocess, 16.2ms inference, 2.0ms postprocess per image at shape (1, 3, 256, 416)\n"
     ]
    },
    {
     "name": "stderr",
     "output_type": "stream",
     "text": [
      " 11%|███████▌                                                              | 132/1232 [00:14<01:48, 10.14it/s]"
     ]
    },
    {
     "name": "stdout",
     "output_type": "stream",
     "text": [
      "\n",
      "image 1/1 /mnt/c/Adrianov/Projects/trash-detector/Littering--8/test/images/video_11_25_jpg.rf.9b1323b66b5363245cf165c10321575a.jpg: 256x416 2 Persons, 14.0ms\n",
      "Speed: 1.5ms preprocess, 14.0ms inference, 1.9ms postprocess per image at shape (1, 3, 256, 416)\n",
      "\n",
      "image 1/1 /mnt/c/Adrianov/Projects/trash-detector/Littering--8/test/images/video_11_26_jpg.rf.466e024646edeee02c0a36c09981449e.jpg: 256x416 3 Persons, 1 Trash, 13.4ms\n",
      "Speed: 2.0ms preprocess, 13.4ms inference, 1.8ms postprocess per image at shape (1, 3, 256, 416)\n"
     ]
    },
    {
     "name": "stderr",
     "output_type": "stream",
     "text": [
      " 11%|███████▌                                                              | 134/1232 [00:14<01:55,  9.53it/s]"
     ]
    },
    {
     "name": "stdout",
     "output_type": "stream",
     "text": [
      "\n",
      "image 1/1 /mnt/c/Adrianov/Projects/trash-detector/Littering--8/test/images/video_11_26_jpg.rf.96c388abfb499d9095034a71b544b37e.jpg: 256x416 2 Persons, 13.1ms\n",
      "Speed: 2.7ms preprocess, 13.1ms inference, 2.5ms postprocess per image at shape (1, 3, 256, 416)\n"
     ]
    },
    {
     "name": "stderr",
     "output_type": "stream",
     "text": [
      " 11%|███████▋                                                              | 135/1232 [00:14<02:03,  8.90it/s]"
     ]
    },
    {
     "name": "stdout",
     "output_type": "stream",
     "text": [
      "\n",
      "image 1/1 /mnt/c/Adrianov/Projects/trash-detector/Littering--8/test/images/video_11_26_jpg.rf.abde4ce20bf31a95ab3169e92a4581fb.jpg: 256x416 4 Persons, 15.2ms\n",
      "Speed: 2.4ms preprocess, 15.2ms inference, 2.6ms postprocess per image at shape (1, 3, 256, 416)\n"
     ]
    },
    {
     "name": "stderr",
     "output_type": "stream",
     "text": [
      " 11%|███████▋                                                              | 136/1232 [00:14<02:08,  8.56it/s]"
     ]
    },
    {
     "name": "stdout",
     "output_type": "stream",
     "text": [
      "\n",
      "image 1/1 /mnt/c/Adrianov/Projects/trash-detector/Littering--8/test/images/video_11_27_jpg.rf.5a2b9a93262c8ddc08d88c96a8b4ab50.jpg: 256x416 3 Persons, 1 Trash, 13.9ms\n",
      "Speed: 2.4ms preprocess, 13.9ms inference, 3.0ms postprocess per image at shape (1, 3, 256, 416)\n"
     ]
    },
    {
     "name": "stderr",
     "output_type": "stream",
     "text": [
      " 11%|███████▊                                                              | 137/1232 [00:14<02:24,  7.56it/s]"
     ]
    },
    {
     "name": "stdout",
     "output_type": "stream",
     "text": [
      "\n",
      "image 1/1 /mnt/c/Adrianov/Projects/trash-detector/Littering--8/test/images/video_11_27_jpg.rf.f39169f38c3bda5b0456ab44f898757f.jpg: 256x416 2 Persons, 17.2ms\n",
      "Speed: 2.9ms preprocess, 17.2ms inference, 2.2ms postprocess per image at shape (1, 3, 256, 416)\n"
     ]
    },
    {
     "name": "stderr",
     "output_type": "stream",
     "text": [
      " 11%|███████▊                                                              | 138/1232 [00:14<02:21,  7.74it/s]"
     ]
    },
    {
     "name": "stdout",
     "output_type": "stream",
     "text": [
      "\n",
      "image 1/1 /mnt/c/Adrianov/Projects/trash-detector/Littering--8/test/images/video_11_28_jpg.rf.44c950a03afee03ab7a6830b3c7e221a.jpg: 256x416 3 Persons, 13.0ms\n",
      "Speed: 1.9ms preprocess, 13.0ms inference, 1.7ms postprocess per image at shape (1, 3, 256, 416)\n",
      "\n",
      "image 1/1 /mnt/c/Adrianov/Projects/trash-detector/Littering--8/test/images/video_11_28_jpg.rf.823860d255c83f83baa12b19dde74c53.jpg: 256x416 3 Persons, 12.8ms\n",
      "Speed: 4.9ms preprocess, 12.8ms inference, 2.8ms postprocess per image at shape (1, 3, 256, 416)\n"
     ]
    },
    {
     "name": "stderr",
     "output_type": "stream",
     "text": [
      " 11%|███████▉                                                              | 140/1232 [00:15<02:11,  8.30it/s]"
     ]
    },
    {
     "name": "stdout",
     "output_type": "stream",
     "text": [
      "\n",
      "image 1/1 /mnt/c/Adrianov/Projects/trash-detector/Littering--8/test/images/video_11_28_jpg.rf.a57772e0e9546f77299bfab7181d7aa6.jpg: 256x416 2 Persons, 1 Trash, 12.9ms\n",
      "Speed: 4.8ms preprocess, 12.9ms inference, 1.9ms postprocess per image at shape (1, 3, 256, 416)\n"
     ]
    },
    {
     "name": "stderr",
     "output_type": "stream",
     "text": [
      " 11%|████████                                                              | 141/1232 [00:15<02:06,  8.62it/s]"
     ]
    },
    {
     "name": "stdout",
     "output_type": "stream",
     "text": [
      "\n",
      "image 1/1 /mnt/c/Adrianov/Projects/trash-detector/Littering--8/test/images/video_11_29_jpg.rf.6c0f74d2e909f0f183aca486a15849e0.jpg: 256x416 2 Persons, 12.9ms\n",
      "Speed: 3.9ms preprocess, 12.9ms inference, 2.7ms postprocess per image at shape (1, 3, 256, 416)\n",
      "\n",
      "image 1/1 /mnt/c/Adrianov/Projects/trash-detector/Littering--8/test/images/video_11_29_jpg.rf.6f11dfad6fdc690e77c3a107b9b536c0.jpg: 256x416 4 Persons, 12.9ms\n",
      "Speed: 1.7ms preprocess, 12.9ms inference, 1.6ms postprocess per image at shape (1, 3, 256, 416)\n"
     ]
    },
    {
     "name": "stderr",
     "output_type": "stream",
     "text": [
      " 12%|████████▏                                                             | 143/1232 [00:15<01:52,  9.71it/s]"
     ]
    },
    {
     "name": "stdout",
     "output_type": "stream",
     "text": [
      "\n",
      "image 1/1 /mnt/c/Adrianov/Projects/trash-detector/Littering--8/test/images/video_11_29_jpg.rf.fef914739d9cb429956c50801d8adcaf.jpg: 256x416 3 Persons, 13.0ms\n",
      "Speed: 3.0ms preprocess, 13.0ms inference, 3.6ms postprocess per image at shape (1, 3, 256, 416)\n",
      "\n",
      "image 1/1 /mnt/c/Adrianov/Projects/trash-detector/Littering--8/test/images/video_11_2_jpg.rf.9d319c513cfba571c10614baed944751.jpg: 256x416 5 Persons, 13.2ms\n",
      "Speed: 4.6ms preprocess, 13.2ms inference, 1.6ms postprocess per image at shape (1, 3, 256, 416)\n"
     ]
    },
    {
     "name": "stderr",
     "output_type": "stream",
     "text": [
      " 12%|████████▏                                                             | 145/1232 [00:15<01:47, 10.12it/s]"
     ]
    },
    {
     "name": "stdout",
     "output_type": "stream",
     "text": [
      "\n",
      "image 1/1 /mnt/c/Adrianov/Projects/trash-detector/Littering--8/test/images/video_11_2_jpg.rf.d4f898b786adc9fcf7556ecc8d3b8420.jpg: 256x416 2 Persons, 14.7ms\n",
      "Speed: 3.0ms preprocess, 14.7ms inference, 1.7ms postprocess per image at shape (1, 3, 256, 416)\n",
      "\n",
      "image 1/1 /mnt/c/Adrianov/Projects/trash-detector/Littering--8/test/images/video_11_2_jpg.rf.e9fa1de01845225fc20ec446498dce7f.jpg: 256x416 2 Persons, 1 Trash, 12.9ms\n",
      "Speed: 3.2ms preprocess, 12.9ms inference, 1.5ms postprocess per image at shape (1, 3, 256, 416)\n"
     ]
    },
    {
     "name": "stderr",
     "output_type": "stream",
     "text": [
      " 12%|████████▎                                                             | 147/1232 [00:15<01:45, 10.28it/s]"
     ]
    },
    {
     "name": "stdout",
     "output_type": "stream",
     "text": [
      "\n",
      "image 1/1 /mnt/c/Adrianov/Projects/trash-detector/Littering--8/test/images/video_11_30_jpg.rf.90ff458cf52917072983fd24ae19ef38.jpg: 256x416 2 Persons, 12.8ms\n",
      "Speed: 2.0ms preprocess, 12.8ms inference, 1.4ms postprocess per image at shape (1, 3, 256, 416)\n",
      "\n",
      "image 1/1 /mnt/c/Adrianov/Projects/trash-detector/Littering--8/test/images/video_11_30_jpg.rf.babd2b56f6dfdfadc51081ea93f7ab9f.jpg: 256x416 2 Persons, 13.4ms\n",
      "Speed: 2.3ms preprocess, 13.4ms inference, 1.6ms postprocess per image at shape (1, 3, 256, 416)\n"
     ]
    },
    {
     "name": "stderr",
     "output_type": "stream",
     "text": [
      " 12%|████████▍                                                             | 149/1232 [00:15<01:44, 10.39it/s]"
     ]
    },
    {
     "name": "stdout",
     "output_type": "stream",
     "text": [
      "\n",
      "image 1/1 /mnt/c/Adrianov/Projects/trash-detector/Littering--8/test/images/video_11_30_jpg.rf.cf394f8f5e944494a415bb2c61ca4d07.jpg: 256x416 4 Persons, 15.6ms\n",
      "Speed: 2.3ms preprocess, 15.6ms inference, 1.4ms postprocess per image at shape (1, 3, 256, 416)\n",
      "\n",
      "image 1/1 /mnt/c/Adrianov/Projects/trash-detector/Littering--8/test/images/video_11_3_jpg.rf.86e0ca56ad9a1af466a0deee7b7f531d.jpg: 256x416 2 Persons, 13.4ms\n",
      "Speed: 2.0ms preprocess, 13.4ms inference, 1.5ms postprocess per image at shape (1, 3, 256, 416)\n"
     ]
    },
    {
     "name": "stderr",
     "output_type": "stream",
     "text": [
      " 12%|████████▌                                                             | 151/1232 [00:16<01:48,  9.92it/s]"
     ]
    },
    {
     "name": "stdout",
     "output_type": "stream",
     "text": [
      "\n",
      "image 1/1 /mnt/c/Adrianov/Projects/trash-detector/Littering--8/test/images/video_11_3_jpg.rf.c30b035c840a4fda3ff1d3bc9afdf1b4.jpg: 256x416 3 Persons, 1 Trash, 12.8ms\n",
      "Speed: 2.0ms preprocess, 12.8ms inference, 2.0ms postprocess per image at shape (1, 3, 256, 416)\n"
     ]
    },
    {
     "name": "stderr",
     "output_type": "stream",
     "text": [
      " 12%|████████▋                                                             | 152/1232 [00:16<01:56,  9.27it/s]"
     ]
    },
    {
     "name": "stdout",
     "output_type": "stream",
     "text": [
      "\n",
      "image 1/1 /mnt/c/Adrianov/Projects/trash-detector/Littering--8/test/images/video_11_4_jpg.rf.4e10ddb059a3bce17cdbd640c1bd0d48.jpg: 256x416 2 Persons, 13.1ms\n",
      "Speed: 2.7ms preprocess, 13.1ms inference, 1.8ms postprocess per image at shape (1, 3, 256, 416)\n"
     ]
    },
    {
     "name": "stderr",
     "output_type": "stream",
     "text": [
      " 12%|████████▋                                                             | 153/1232 [00:16<02:07,  8.47it/s]"
     ]
    },
    {
     "name": "stdout",
     "output_type": "stream",
     "text": [
      "\n",
      "image 1/1 /mnt/c/Adrianov/Projects/trash-detector/Littering--8/test/images/video_11_4_jpg.rf.ae50aae474ef2d2e5290bf2567efd836.jpg: 256x416 3 Persons, 1 Trash, 14.9ms\n",
      "Speed: 2.8ms preprocess, 14.9ms inference, 2.5ms postprocess per image at shape (1, 3, 256, 416)\n"
     ]
    },
    {
     "name": "stderr",
     "output_type": "stream",
     "text": [
      " 12%|████████▊                                                             | 154/1232 [00:16<02:15,  7.96it/s]"
     ]
    },
    {
     "name": "stdout",
     "output_type": "stream",
     "text": [
      "\n",
      "image 1/1 /mnt/c/Adrianov/Projects/trash-detector/Littering--8/test/images/video_11_5_jpg.rf.024514c58711afe9835b60ab6ceb4d6e.jpg: 256x416 2 Persons, 13.0ms\n",
      "Speed: 2.0ms preprocess, 13.0ms inference, 1.5ms postprocess per image at shape (1, 3, 256, 416)\n"
     ]
    },
    {
     "name": "stderr",
     "output_type": "stream",
     "text": [
      " 13%|████████▊                                                             | 155/1232 [00:16<02:13,  8.06it/s]"
     ]
    },
    {
     "name": "stdout",
     "output_type": "stream",
     "text": [
      "\n",
      "image 1/1 /mnt/c/Adrianov/Projects/trash-detector/Littering--8/test/images/video_11_5_jpg.rf.89ce89795840aed90f35fe4d3a4c44ed.jpg: 256x416 3 Persons, 1 Trash, 20.1ms\n",
      "Speed: 2.4ms preprocess, 20.1ms inference, 2.6ms postprocess per image at shape (1, 3, 256, 416)\n"
     ]
    },
    {
     "name": "stderr",
     "output_type": "stream",
     "text": [
      " 13%|████████▊                                                             | 156/1232 [00:16<02:11,  8.21it/s]"
     ]
    },
    {
     "name": "stdout",
     "output_type": "stream",
     "text": [
      "\n",
      "image 1/1 /mnt/c/Adrianov/Projects/trash-detector/Littering--8/test/images/video_11_5_jpg.rf.b3f7369f58774b18d7e42d448b130862.jpg: 256x416 3 Persons, 12.9ms\n",
      "Speed: 1.9ms preprocess, 12.9ms inference, 1.5ms postprocess per image at shape (1, 3, 256, 416)\n",
      "\n",
      "image 1/1 /mnt/c/Adrianov/Projects/trash-detector/Littering--8/test/images/video_11_6_jpg.rf.c6d7ea6e4e0080f1ce51e214b7cd9fff.jpg: 256x416 3 Persons, 12.9ms\n",
      "Speed: 2.1ms preprocess, 12.9ms inference, 1.7ms postprocess per image at shape (1, 3, 256, 416)\n"
     ]
    },
    {
     "name": "stderr",
     "output_type": "stream",
     "text": [
      " 13%|████████▉                                                             | 158/1232 [00:17<01:52,  9.56it/s]"
     ]
    },
    {
     "name": "stdout",
     "output_type": "stream",
     "text": [
      "\n",
      "image 1/1 /mnt/c/Adrianov/Projects/trash-detector/Littering--8/test/images/video_11_6_jpg.rf.dae36c6655757776355fd624308c7c77.jpg: 256x416 2 Persons, 15.3ms\n",
      "Speed: 2.1ms preprocess, 15.3ms inference, 2.2ms postprocess per image at shape (1, 3, 256, 416)\n",
      "\n",
      "image 1/1 /mnt/c/Adrianov/Projects/trash-detector/Littering--8/test/images/video_11_6_jpg.rf.ef2a662b4b5f0e428472715e760e5b09.jpg: 256x416 3 Persons, 1 Trash, 12.9ms\n",
      "Speed: 2.3ms preprocess, 12.9ms inference, 1.5ms postprocess per image at shape (1, 3, 256, 416)\n"
     ]
    },
    {
     "name": "stderr",
     "output_type": "stream",
     "text": [
      " 13%|█████████                                                             | 160/1232 [00:17<01:44, 10.28it/s]"
     ]
    },
    {
     "name": "stdout",
     "output_type": "stream",
     "text": [
      "\n",
      "image 1/1 /mnt/c/Adrianov/Projects/trash-detector/Littering--8/test/images/video_11_7_jpg.rf.e6eb7ab53640db3255a3307b52cf6880.jpg: 256x416 5 Persons, 1 Trash, 12.8ms\n",
      "Speed: 1.9ms preprocess, 12.8ms inference, 1.6ms postprocess per image at shape (1, 3, 256, 416)\n",
      "\n",
      "image 1/1 /mnt/c/Adrianov/Projects/trash-detector/Littering--8/test/images/video_11_7_jpg.rf.ef2a6919388d5c523c0eab0c8e7ae763.jpg: 256x416 2 Persons, 12.9ms\n",
      "Speed: 3.6ms preprocess, 12.9ms inference, 1.6ms postprocess per image at shape (1, 3, 256, 416)\n"
     ]
    },
    {
     "name": "stderr",
     "output_type": "stream",
     "text": [
      " 13%|█████████▏                                                            | 162/1232 [00:17<01:43, 10.38it/s]"
     ]
    },
    {
     "name": "stdout",
     "output_type": "stream",
     "text": [
      "\n",
      "image 1/1 /mnt/c/Adrianov/Projects/trash-detector/Littering--8/test/images/video_11_8_jpg.rf.468df6f6694a1c83fed2bcb1bf3f7552.jpg: 256x416 3 Persons, 1 Trash, 13.2ms\n",
      "Speed: 2.1ms preprocess, 13.2ms inference, 2.1ms postprocess per image at shape (1, 3, 256, 416)\n",
      "\n",
      "image 1/1 /mnt/c/Adrianov/Projects/trash-detector/Littering--8/test/images/video_11_8_jpg.rf.b52fb76c5f7eb1c560222c21733b7810.jpg: 256x416 2 Persons, 12.9ms\n",
      "Speed: 2.0ms preprocess, 12.9ms inference, 1.6ms postprocess per image at shape (1, 3, 256, 416)\n"
     ]
    },
    {
     "name": "stderr",
     "output_type": "stream",
     "text": [
      " 13%|█████████▎                                                            | 164/1232 [00:17<01:42, 10.46it/s]"
     ]
    },
    {
     "name": "stdout",
     "output_type": "stream",
     "text": [
      "\n",
      "image 1/1 /mnt/c/Adrianov/Projects/trash-detector/Littering--8/test/images/video_11_9_jpg.rf.255857b77d25088271f1930101f5c6e0.jpg: 256x416 2 Persons, 13.0ms\n",
      "Speed: 2.6ms preprocess, 13.0ms inference, 3.2ms postprocess per image at shape (1, 3, 256, 416)\n",
      "\n",
      "image 1/1 /mnt/c/Adrianov/Projects/trash-detector/Littering--8/test/images/video_11_9_jpg.rf.6261c77f89681f73116fa58a7d612f60.jpg: 256x416 4 Persons, 18.3ms\n",
      "Speed: 2.4ms preprocess, 18.3ms inference, 1.7ms postprocess per image at shape (1, 3, 256, 416)\n"
     ]
    },
    {
     "name": "stderr",
     "output_type": "stream",
     "text": [
      " 13%|█████████▍                                                            | 166/1232 [00:17<01:41, 10.49it/s]"
     ]
    },
    {
     "name": "stdout",
     "output_type": "stream",
     "text": [
      "\n",
      "image 1/1 /mnt/c/Adrianov/Projects/trash-detector/Littering--8/test/images/video_11_9_jpg.rf.e780f57700b6b48275a6bde5adfc4d48.jpg: 256x416 3 Persons, 1 Trash, 16.7ms\n",
      "Speed: 2.2ms preprocess, 16.7ms inference, 2.6ms postprocess per image at shape (1, 3, 256, 416)\n",
      "\n",
      "image 1/1 /mnt/c/Adrianov/Projects/trash-detector/Littering--8/test/images/video_12_10_jpg.rf.40995ba7f9654d858a82d92cdf16d3c7.jpg: 256x416 3 Persons, 12.9ms\n",
      "Speed: 2.0ms preprocess, 12.9ms inference, 2.1ms postprocess per image at shape (1, 3, 256, 416)\n"
     ]
    },
    {
     "name": "stderr",
     "output_type": "stream",
     "text": [
      " 14%|█████████▌                                                            | 168/1232 [00:17<01:41, 10.50it/s]"
     ]
    },
    {
     "name": "stdout",
     "output_type": "stream",
     "text": [
      "\n",
      "image 1/1 /mnt/c/Adrianov/Projects/trash-detector/Littering--8/test/images/video_12_10_jpg.rf.a33339f88483c6085622f5ba37a011da.jpg: 256x416 2 Persons, 13.2ms\n",
      "Speed: 3.8ms preprocess, 13.2ms inference, 1.6ms postprocess per image at shape (1, 3, 256, 416)\n",
      "\n",
      "image 1/1 /mnt/c/Adrianov/Projects/trash-detector/Littering--8/test/images/video_12_10_jpg.rf.dca85f569b4950ac85ccf7c55122d54f.jpg: 256x416 2 Persons, 13.3ms\n",
      "Speed: 2.2ms preprocess, 13.3ms inference, 1.7ms postprocess per image at shape (1, 3, 256, 416)\n"
     ]
    },
    {
     "name": "stderr",
     "output_type": "stream",
     "text": [
      " 14%|█████████▋                                                            | 170/1232 [00:18<01:40, 10.62it/s]"
     ]
    },
    {
     "name": "stdout",
     "output_type": "stream",
     "text": [
      "\n",
      "image 1/1 /mnt/c/Adrianov/Projects/trash-detector/Littering--8/test/images/video_12_11_jpg.rf.330be75153adfc8f24cbbf46b5e2f46c.jpg: 256x416 2 Persons, 1 Trash, 12.9ms\n",
      "Speed: 1.8ms preprocess, 12.9ms inference, 1.7ms postprocess per image at shape (1, 3, 256, 416)\n",
      "\n",
      "image 1/1 /mnt/c/Adrianov/Projects/trash-detector/Littering--8/test/images/video_12_11_jpg.rf.87e6edbeded4629d71e1d40ff0e91b22.jpg: 256x416 2 Persons, 16.4ms\n",
      "Speed: 2.1ms preprocess, 16.4ms inference, 2.4ms postprocess per image at shape (1, 3, 256, 416)\n"
     ]
    },
    {
     "name": "stderr",
     "output_type": "stream",
     "text": [
      " 14%|█████████▊                                                            | 172/1232 [00:18<02:01,  8.74it/s]"
     ]
    },
    {
     "name": "stdout",
     "output_type": "stream",
     "text": [
      "\n",
      "image 1/1 /mnt/c/Adrianov/Projects/trash-detector/Littering--8/test/images/video_12_12_jpg.rf.08b86156d9a0fa63f760b1d1e487c72f.jpg: 256x416 3 Persons, 14.1ms\n",
      "Speed: 2.2ms preprocess, 14.1ms inference, 3.3ms postprocess per image at shape (1, 3, 256, 416)\n",
      "\n",
      "image 1/1 /mnt/c/Adrianov/Projects/trash-detector/Littering--8/test/images/video_12_12_jpg.rf.26294f25513e5876746c10320d6d78fe.jpg: 256x416 2 Persons, 18.5ms\n",
      "Speed: 2.7ms preprocess, 18.5ms inference, 2.4ms postprocess per image at shape (1, 3, 256, 416)\n"
     ]
    },
    {
     "name": "stderr",
     "output_type": "stream",
     "text": [
      " 14%|█████████▉                                                            | 174/1232 [00:18<01:53,  9.33it/s]"
     ]
    },
    {
     "name": "stdout",
     "output_type": "stream",
     "text": [
      "\n",
      "image 1/1 /mnt/c/Adrianov/Projects/trash-detector/Littering--8/test/images/video_12_12_jpg.rf.9f7a554768dd3008ea51c96906e783d2.jpg: 256x416 2 Persons, 19.2ms\n",
      "Speed: 2.5ms preprocess, 19.2ms inference, 1.8ms postprocess per image at shape (1, 3, 256, 416)\n",
      "\n",
      "image 1/1 /mnt/c/Adrianov/Projects/trash-detector/Littering--8/test/images/video_12_13_jpg.rf.5d94814658d8e1177df113a2a6a6371e.jpg: 256x416 3 Persons, 12.9ms\n",
      "Speed: 1.6ms preprocess, 12.9ms inference, 1.6ms postprocess per image at shape (1, 3, 256, 416)\n"
     ]
    },
    {
     "name": "stderr",
     "output_type": "stream",
     "text": [
      " 14%|██████████                                                            | 176/1232 [00:18<01:51,  9.48it/s]"
     ]
    },
    {
     "name": "stdout",
     "output_type": "stream",
     "text": [
      "\n",
      "image 1/1 /mnt/c/Adrianov/Projects/trash-detector/Littering--8/test/images/video_12_13_jpg.rf.a77484c7e92196346ec3c08cbc42b1a2.jpg: 256x416 3 Persons, 12.9ms\n",
      "Speed: 2.4ms preprocess, 12.9ms inference, 1.6ms postprocess per image at shape (1, 3, 256, 416)\n"
     ]
    },
    {
     "name": "stderr",
     "output_type": "stream",
     "text": [
      " 14%|██████████                                                            | 177/1232 [00:18<01:56,  9.08it/s]"
     ]
    },
    {
     "name": "stdout",
     "output_type": "stream",
     "text": [
      "\n",
      "image 1/1 /mnt/c/Adrianov/Projects/trash-detector/Littering--8/test/images/video_12_13_jpg.rf.d144f40b773bba674158b84c67c58b8f.jpg: 256x416 2 Persons, 1 Trash, 13.0ms\n",
      "Speed: 2.4ms preprocess, 13.0ms inference, 1.8ms postprocess per image at shape (1, 3, 256, 416)\n"
     ]
    },
    {
     "name": "stderr",
     "output_type": "stream",
     "text": [
      " 14%|██████████                                                            | 178/1232 [00:19<02:10,  8.06it/s]"
     ]
    },
    {
     "name": "stdout",
     "output_type": "stream",
     "text": [
      "\n",
      "image 1/1 /mnt/c/Adrianov/Projects/trash-detector/Littering--8/test/images/video_12_14_jpg.rf.22f051b487fd419ceb9feb39c69ccedb.jpg: 256x416 2 Persons, 1 Trash, 17.1ms\n",
      "Speed: 2.2ms preprocess, 17.1ms inference, 4.0ms postprocess per image at shape (1, 3, 256, 416)\n"
     ]
    },
    {
     "name": "stderr",
     "output_type": "stream",
     "text": [
      " 15%|██████████▏                                                           | 179/1232 [00:19<02:15,  7.75it/s]"
     ]
    },
    {
     "name": "stdout",
     "output_type": "stream",
     "text": [
      "\n",
      "image 1/1 /mnt/c/Adrianov/Projects/trash-detector/Littering--8/test/images/video_12_14_jpg.rf.6e2d6f52cf3f37149a3a0844190e747c.jpg: 256x416 2 Persons, 13.1ms\n",
      "Speed: 1.7ms preprocess, 13.1ms inference, 1.5ms postprocess per image at shape (1, 3, 256, 416)\n",
      "\n",
      "image 1/1 /mnt/c/Adrianov/Projects/trash-detector/Littering--8/test/images/video_12_14_jpg.rf.c5537f251d36976b51743e569c7895bf.jpg: 256x416 3 Persons, 12.9ms\n",
      "Speed: 2.0ms preprocess, 12.9ms inference, 1.4ms postprocess per image at shape (1, 3, 256, 416)\n"
     ]
    },
    {
     "name": "stderr",
     "output_type": "stream",
     "text": [
      " 15%|██████████▎                                                           | 181/1232 [00:19<01:57,  8.93it/s]"
     ]
    },
    {
     "name": "stdout",
     "output_type": "stream",
     "text": [
      "\n",
      "image 1/1 /mnt/c/Adrianov/Projects/trash-detector/Littering--8/test/images/video_12_15_jpg.rf.6db066ac6b217a665089310199a896f3.jpg: 256x416 2 Persons, 2 Trashs, 12.9ms\n",
      "Speed: 2.0ms preprocess, 12.9ms inference, 1.7ms postprocess per image at shape (1, 3, 256, 416)\n",
      "\n",
      "image 1/1 /mnt/c/Adrianov/Projects/trash-detector/Littering--8/test/images/video_12_15_jpg.rf.c14dd039c8dd157327f84e930adf5361.jpg: 256x416 2 Persons, 12.8ms\n",
      "Speed: 1.9ms preprocess, 12.8ms inference, 1.6ms postprocess per image at shape (1, 3, 256, 416)\n"
     ]
    },
    {
     "name": "stderr",
     "output_type": "stream",
     "text": [
      " 15%|██████████▍                                                           | 183/1232 [00:19<01:48,  9.71it/s]"
     ]
    },
    {
     "name": "stdout",
     "output_type": "stream",
     "text": [
      "\n",
      "image 1/1 /mnt/c/Adrianov/Projects/trash-detector/Littering--8/test/images/video_12_16_jpg.rf.3c619fcd2ce6da5502e4e31cf146ba68.jpg: 256x416 2 Persons, 12.8ms\n",
      "Speed: 2.2ms preprocess, 12.8ms inference, 1.4ms postprocess per image at shape (1, 3, 256, 416)\n",
      "\n",
      "image 1/1 /mnt/c/Adrianov/Projects/trash-detector/Littering--8/test/images/video_12_16_jpg.rf.f60d26468a6cec701acc404e63fe28e4.jpg: 256x416 2 Persons, 1 Trash, 13.0ms\n",
      "Speed: 2.4ms preprocess, 13.0ms inference, 1.4ms postprocess per image at shape (1, 3, 256, 416)\n"
     ]
    },
    {
     "name": "stderr",
     "output_type": "stream",
     "text": [
      " 15%|██████████▌                                                           | 185/1232 [00:19<01:48,  9.65it/s]"
     ]
    },
    {
     "name": "stdout",
     "output_type": "stream",
     "text": [
      "\n",
      "image 1/1 /mnt/c/Adrianov/Projects/trash-detector/Littering--8/test/images/video_12_17_jpg.rf.8c86a9d64adc9f51ba02e1687745814a.jpg: 256x416 2 Persons, 2 Trashs, 20.9ms\n",
      "Speed: 5.2ms preprocess, 20.9ms inference, 2.7ms postprocess per image at shape (1, 3, 256, 416)\n"
     ]
    },
    {
     "name": "stderr",
     "output_type": "stream",
     "text": [
      " 15%|██████████▌                                                           | 186/1232 [00:19<01:52,  9.29it/s]"
     ]
    },
    {
     "name": "stdout",
     "output_type": "stream",
     "text": [
      "\n",
      "image 1/1 /mnt/c/Adrianov/Projects/trash-detector/Littering--8/test/images/video_12_17_jpg.rf.985622f0b42a3a78f5841780fab19500.jpg: 256x416 3 Persons, 1 Trash, 17.1ms\n",
      "Speed: 2.1ms preprocess, 17.1ms inference, 1.6ms postprocess per image at shape (1, 3, 256, 416)\n"
     ]
    },
    {
     "name": "stderr",
     "output_type": "stream",
     "text": [
      " 15%|██████████▋                                                           | 187/1232 [00:20<02:02,  8.53it/s]"
     ]
    },
    {
     "name": "stdout",
     "output_type": "stream",
     "text": [
      "\n",
      "image 1/1 /mnt/c/Adrianov/Projects/trash-detector/Littering--8/test/images/video_12_17_jpg.rf.abf1b5600ae6fb856240af6b35699f2f.jpg: 256x416 2 Persons, 17.9ms\n",
      "Speed: 2.1ms preprocess, 17.9ms inference, 1.8ms postprocess per image at shape (1, 3, 256, 416)\n"
     ]
    },
    {
     "name": "stderr",
     "output_type": "stream",
     "text": [
      " 15%|██████████▋                                                           | 188/1232 [00:20<02:13,  7.85it/s]"
     ]
    },
    {
     "name": "stdout",
     "output_type": "stream",
     "text": [
      "\n",
      "image 1/1 /mnt/c/Adrianov/Projects/trash-detector/Littering--8/test/images/video_12_18_jpg.rf.73b98a760f795f0f1a93cc6262b794d5.jpg: 256x416 2 Persons, 13.1ms\n",
      "Speed: 1.5ms preprocess, 13.1ms inference, 1.9ms postprocess per image at shape (1, 3, 256, 416)\n"
     ]
    },
    {
     "name": "stderr",
     "output_type": "stream",
     "text": [
      " 15%|██████████▋                                                           | 189/1232 [00:20<02:20,  7.40it/s]"
     ]
    },
    {
     "name": "stdout",
     "output_type": "stream",
     "text": [
      "\n",
      "image 1/1 /mnt/c/Adrianov/Projects/trash-detector/Littering--8/test/images/video_12_18_jpg.rf.bc2b4a2dc5b903b8d0358ff9359c698b.jpg: 256x416 3 Persons, 13.1ms\n",
      "Speed: 2.6ms preprocess, 13.1ms inference, 1.6ms postprocess per image at shape (1, 3, 256, 416)\n",
      "\n",
      "image 1/1 /mnt/c/Adrianov/Projects/trash-detector/Littering--8/test/images/video_12_18_jpg.rf.f09fb90b14dd122035e312f19f3d7769.jpg: 256x416 2 Persons, 1 Trash, 12.9ms\n",
      "Speed: 1.8ms preprocess, 12.9ms inference, 1.6ms postprocess per image at shape (1, 3, 256, 416)\n"
     ]
    },
    {
     "name": "stderr",
     "output_type": "stream",
     "text": [
      " 16%|██████████▊                                                           | 191/1232 [00:20<02:05,  8.31it/s]"
     ]
    },
    {
     "name": "stdout",
     "output_type": "stream",
     "text": [
      "\n",
      "image 1/1 /mnt/c/Adrianov/Projects/trash-detector/Littering--8/test/images/video_12_19_jpg.rf.56a3842df553b954507ee3aa6d12cc5c.jpg: 256x416 2 Persons, 1 Trash, 13.0ms\n",
      "Speed: 2.3ms preprocess, 13.0ms inference, 1.9ms postprocess per image at shape (1, 3, 256, 416)\n",
      "\n",
      "image 1/1 /mnt/c/Adrianov/Projects/trash-detector/Littering--8/test/images/video_12_19_jpg.rf.a132bb0ebcf957c693a1ee779d3cbafd.jpg: 256x416 2 Persons, 15.8ms\n",
      "Speed: 2.6ms preprocess, 15.8ms inference, 1.8ms postprocess per image at shape (1, 3, 256, 416)\n"
     ]
    },
    {
     "name": "stderr",
     "output_type": "stream",
     "text": [
      " 16%|██████████▉                                                           | 193/1232 [00:20<02:07,  8.13it/s]"
     ]
    },
    {
     "name": "stdout",
     "output_type": "stream",
     "text": [
      "\n",
      "image 1/1 /mnt/c/Adrianov/Projects/trash-detector/Littering--8/test/images/video_12_1_jpg.rf.2665c19b70bea84fc9269ce22e039383.jpg: 256x416 2 Persons, 16.7ms\n",
      "Speed: 2.1ms preprocess, 16.7ms inference, 2.0ms postprocess per image at shape (1, 3, 256, 416)\n"
     ]
    },
    {
     "name": "stderr",
     "output_type": "stream",
     "text": [
      " 16%|███████████                                                           | 194/1232 [00:21<02:08,  8.06it/s]"
     ]
    },
    {
     "name": "stdout",
     "output_type": "stream",
     "text": [
      "\n",
      "image 1/1 /mnt/c/Adrianov/Projects/trash-detector/Littering--8/test/images/video_12_1_jpg.rf.badb7f47e9f158fe96479d7e90b2c326.jpg: 256x416 3 Persons, 13.1ms\n",
      "Speed: 3.0ms preprocess, 13.1ms inference, 3.0ms postprocess per image at shape (1, 3, 256, 416)\n"
     ]
    },
    {
     "name": "stderr",
     "output_type": "stream",
     "text": [
      " 16%|███████████                                                           | 195/1232 [00:21<02:12,  7.83it/s]"
     ]
    },
    {
     "name": "stdout",
     "output_type": "stream",
     "text": [
      "\n",
      "image 1/1 /mnt/c/Adrianov/Projects/trash-detector/Littering--8/test/images/video_12_1_jpg.rf.d81f1c1ba0205723f2029644638070c6.jpg: 256x416 2 Persons, 12.9ms\n",
      "Speed: 2.2ms preprocess, 12.9ms inference, 2.6ms postprocess per image at shape (1, 3, 256, 416)\n",
      "\n",
      "image 1/1 /mnt/c/Adrianov/Projects/trash-detector/Littering--8/test/images/video_12_20_jpg.rf.3a95547df77ffc303dbc8611cf426fd9.jpg: 256x416 3 Persons, 13.0ms\n",
      "Speed: 2.2ms preprocess, 13.0ms inference, 2.2ms postprocess per image at shape (1, 3, 256, 416)\n"
     ]
    },
    {
     "name": "stderr",
     "output_type": "stream",
     "text": [
      " 16%|███████████▏                                                          | 197/1232 [00:21<01:57,  8.79it/s]"
     ]
    },
    {
     "name": "stdout",
     "output_type": "stream",
     "text": [
      "\n",
      "image 1/1 /mnt/c/Adrianov/Projects/trash-detector/Littering--8/test/images/video_12_20_jpg.rf.a51fd9cf3567715fff14542f146bf0c4.jpg: 256x416 2 Persons, 3 Trashs, 13.4ms\n",
      "Speed: 2.4ms preprocess, 13.4ms inference, 2.4ms postprocess per image at shape (1, 3, 256, 416)\n"
     ]
    },
    {
     "name": "stderr",
     "output_type": "stream",
     "text": [
      " 16%|███████████▎                                                          | 198/1232 [00:21<01:54,  9.03it/s]"
     ]
    },
    {
     "name": "stdout",
     "output_type": "stream",
     "text": [
      "\n",
      "image 1/1 /mnt/c/Adrianov/Projects/trash-detector/Littering--8/test/images/video_12_20_jpg.rf.bb29e85000c70bab7a40cdf1e5f8bd38.jpg: 256x416 2 Persons, 12.8ms\n",
      "Speed: 2.0ms preprocess, 12.8ms inference, 1.4ms postprocess per image at shape (1, 3, 256, 416)\n",
      "\n",
      "image 1/1 /mnt/c/Adrianov/Projects/trash-detector/Littering--8/test/images/video_12_21_jpg.rf.755eb2f852821067f17acf12d9762add.jpg: 256x416 2 Persons, 12.9ms\n",
      "Speed: 1.9ms preprocess, 12.9ms inference, 1.7ms postprocess per image at shape (1, 3, 256, 416)\n"
     ]
    },
    {
     "name": "stderr",
     "output_type": "stream",
     "text": [
      " 16%|███████████▎                                                          | 200/1232 [00:21<01:49,  9.44it/s]"
     ]
    },
    {
     "name": "stdout",
     "output_type": "stream",
     "text": [
      "\n",
      "image 1/1 /mnt/c/Adrianov/Projects/trash-detector/Littering--8/test/images/video_12_21_jpg.rf.e882eb8ebed121636e8cac37efe61591.jpg: 256x416 2 Persons, 4 Trashs, 13.6ms\n",
      "Speed: 5.5ms preprocess, 13.6ms inference, 1.7ms postprocess per image at shape (1, 3, 256, 416)\n"
     ]
    },
    {
     "name": "stderr",
     "output_type": "stream",
     "text": [
      " 16%|███████████▍                                                          | 201/1232 [00:21<01:51,  9.22it/s]"
     ]
    },
    {
     "name": "stdout",
     "output_type": "stream",
     "text": [
      "\n",
      "image 1/1 /mnt/c/Adrianov/Projects/trash-detector/Littering--8/test/images/video_12_22_jpg.rf.623080c21442958fefc9412b3e565019.jpg: 256x416 2 Persons, 12.8ms\n",
      "Speed: 3.2ms preprocess, 12.8ms inference, 2.1ms postprocess per image at shape (1, 3, 256, 416)\n",
      "\n",
      "image 1/1 /mnt/c/Adrianov/Projects/trash-detector/Littering--8/test/images/video_12_22_jpg.rf.e040a698af736b571ea29e13a86616e2.jpg: 256x416 2 Persons, 3 Trashs, 12.9ms\n",
      "Speed: 1.8ms preprocess, 12.9ms inference, 3.0ms postprocess per image at shape (1, 3, 256, 416)\n"
     ]
    },
    {
     "name": "stderr",
     "output_type": "stream",
     "text": [
      " 16%|███████████▌                                                          | 203/1232 [00:21<01:47,  9.54it/s]"
     ]
    },
    {
     "name": "stdout",
     "output_type": "stream",
     "text": [
      "\n",
      "image 1/1 /mnt/c/Adrianov/Projects/trash-detector/Littering--8/test/images/video_12_23_jpg.rf.13c15d4b91a71c4eb881a63803500d08.jpg: 256x416 2 Persons, 2 Trashs, 13.0ms\n",
      "Speed: 2.0ms preprocess, 13.0ms inference, 1.4ms postprocess per image at shape (1, 3, 256, 416)\n",
      "\n",
      "image 1/1 /mnt/c/Adrianov/Projects/trash-detector/Littering--8/test/images/video_12_23_jpg.rf.7b1ec7a4f6af7171d726711cb81d52a7.jpg: 256x416 2 Persons, 16.9ms\n",
      "Speed: 2.1ms preprocess, 16.9ms inference, 1.5ms postprocess per image at shape (1, 3, 256, 416)\n"
     ]
    },
    {
     "name": "stderr",
     "output_type": "stream",
     "text": [
      " 17%|███████████▋                                                          | 205/1232 [00:22<01:44,  9.83it/s]"
     ]
    },
    {
     "name": "stdout",
     "output_type": "stream",
     "text": [
      "\n",
      "image 1/1 /mnt/c/Adrianov/Projects/trash-detector/Littering--8/test/images/video_12_24_jpg.rf.63d33f924d228e887c7e248d7190354e.jpg: 256x416 3 Persons, 15.8ms\n",
      "Speed: 1.8ms preprocess, 15.8ms inference, 1.4ms postprocess per image at shape (1, 3, 256, 416)\n",
      "\n",
      "image 1/1 /mnt/c/Adrianov/Projects/trash-detector/Littering--8/test/images/video_12_24_jpg.rf.bf5111c91ef166d7d131e060d85b8f3e.jpg: 256x416 2 Persons, 13.1ms\n",
      "Speed: 2.7ms preprocess, 13.1ms inference, 1.7ms postprocess per image at shape (1, 3, 256, 416)\n"
     ]
    },
    {
     "name": "stderr",
     "output_type": "stream",
     "text": [
      " 17%|███████████▊                                                          | 207/1232 [00:22<01:41, 10.13it/s]"
     ]
    },
    {
     "name": "stdout",
     "output_type": "stream",
     "text": [
      "\n",
      "image 1/1 /mnt/c/Adrianov/Projects/trash-detector/Littering--8/test/images/video_12_24_jpg.rf.daf3c0a18afd9aaa515df846379c4e48.jpg: 256x416 2 Persons, 3 Trashs, 13.6ms\n",
      "Speed: 2.0ms preprocess, 13.6ms inference, 2.2ms postprocess per image at shape (1, 3, 256, 416)\n",
      "\n",
      "image 1/1 /mnt/c/Adrianov/Projects/trash-detector/Littering--8/test/images/video_12_25_jpg.rf.80b66c444fc144ec4604bc401db3b99c.jpg: 256x416 2 Persons, 12.8ms\n",
      "Speed: 2.2ms preprocess, 12.8ms inference, 1.7ms postprocess per image at shape (1, 3, 256, 416)\n"
     ]
    },
    {
     "name": "stderr",
     "output_type": "stream",
     "text": [
      " 17%|███████████▉                                                          | 209/1232 [00:22<01:41, 10.04it/s]"
     ]
    },
    {
     "name": "stdout",
     "output_type": "stream",
     "text": [
      "\n",
      "image 1/1 /mnt/c/Adrianov/Projects/trash-detector/Littering--8/test/images/video_12_25_jpg.rf.d7eb18380b5bfefc7e77bfd00ac86aa7.jpg: 256x416 2 Persons, 2 Trashs, 14.1ms\n",
      "Speed: 2.4ms preprocess, 14.1ms inference, 1.4ms postprocess per image at shape (1, 3, 256, 416)\n",
      "\n",
      "image 1/1 /mnt/c/Adrianov/Projects/trash-detector/Littering--8/test/images/video_12_26_jpg.rf.08308a838db935938b1a2ddfcd2eb054.jpg: 256x416 2 Persons, 12.8ms\n",
      "Speed: 2.2ms preprocess, 12.8ms inference, 1.6ms postprocess per image at shape (1, 3, 256, 416)\n"
     ]
    },
    {
     "name": "stderr",
     "output_type": "stream",
     "text": [
      " 17%|███████████▉                                                          | 211/1232 [00:22<01:39, 10.28it/s]"
     ]
    },
    {
     "name": "stdout",
     "output_type": "stream",
     "text": [
      "\n",
      "image 1/1 /mnt/c/Adrianov/Projects/trash-detector/Littering--8/test/images/video_12_26_jpg.rf.2581ebf18f8207ae95a73799770d7952.jpg: 256x416 2 Persons, 1 Trash, 13.1ms\n",
      "Speed: 3.3ms preprocess, 13.1ms inference, 1.4ms postprocess per image at shape (1, 3, 256, 416)\n",
      "\n",
      "image 1/1 /mnt/c/Adrianov/Projects/trash-detector/Littering--8/test/images/video_12_27_jpg.rf.1f92cded1eca4068b35db6f030dcede3.jpg: 256x416 2 Persons, 12.9ms\n",
      "Speed: 2.0ms preprocess, 12.9ms inference, 1.6ms postprocess per image at shape (1, 3, 256, 416)\n"
     ]
    },
    {
     "name": "stderr",
     "output_type": "stream",
     "text": [
      " 17%|████████████                                                          | 213/1232 [00:22<01:35, 10.62it/s]"
     ]
    },
    {
     "name": "stdout",
     "output_type": "stream",
     "text": [
      "\n",
      "image 1/1 /mnt/c/Adrianov/Projects/trash-detector/Littering--8/test/images/video_12_27_jpg.rf.e09ca59d193419984bd57177721c3f73.jpg: 256x416 2 Persons, 13.8ms\n",
      "Speed: 2.3ms preprocess, 13.8ms inference, 1.9ms postprocess per image at shape (1, 3, 256, 416)\n",
      "\n",
      "image 1/1 /mnt/c/Adrianov/Projects/trash-detector/Littering--8/test/images/video_12_28_jpg.rf.10fc4f806c9ac58618ac8cc5676fe2ef.jpg: 256x416 2 Persons, 2 Trashs, 12.8ms\n",
      "Speed: 1.5ms preprocess, 12.8ms inference, 1.4ms postprocess per image at shape (1, 3, 256, 416)\n"
     ]
    },
    {
     "name": "stderr",
     "output_type": "stream",
     "text": [
      " 17%|████████████▏                                                         | 215/1232 [00:23<01:35, 10.64it/s]"
     ]
    },
    {
     "name": "stdout",
     "output_type": "stream",
     "text": [
      "\n",
      "image 1/1 /mnt/c/Adrianov/Projects/trash-detector/Littering--8/test/images/video_12_28_jpg.rf.5536483b7202e6f5b6fa340b7514534d.jpg: 256x416 3 Persons, 1 Trash, 12.9ms\n",
      "Speed: 2.5ms preprocess, 12.9ms inference, 2.8ms postprocess per image at shape (1, 3, 256, 416)\n",
      "\n",
      "image 1/1 /mnt/c/Adrianov/Projects/trash-detector/Littering--8/test/images/video_12_28_jpg.rf.e08ca22b02f7bd480929716f6ac7d9b2.jpg: 256x416 2 Persons, 12.9ms\n",
      "Speed: 2.1ms preprocess, 12.9ms inference, 1.6ms postprocess per image at shape (1, 3, 256, 416)\n"
     ]
    },
    {
     "name": "stderr",
     "output_type": "stream",
     "text": [
      " 18%|████████████▎                                                         | 217/1232 [00:23<01:34, 10.69it/s]"
     ]
    },
    {
     "name": "stdout",
     "output_type": "stream",
     "text": [
      "\n",
      "image 1/1 /mnt/c/Adrianov/Projects/trash-detector/Littering--8/test/images/video_12_29_jpg.rf.52d5743348e7ea70192a507315396be3.jpg: 256x416 3 Persons, 1 Trash, 16.4ms\n",
      "Speed: 2.6ms preprocess, 16.4ms inference, 1.9ms postprocess per image at shape (1, 3, 256, 416)\n",
      "\n",
      "image 1/1 /mnt/c/Adrianov/Projects/trash-detector/Littering--8/test/images/video_12_29_jpg.rf.7654dd5cd640b241b1f75193c19d77e9.jpg: 256x416 2 Persons, 2 Trashs, 13.0ms\n",
      "Speed: 2.1ms preprocess, 13.0ms inference, 1.6ms postprocess per image at shape (1, 3, 256, 416)\n"
     ]
    },
    {
     "name": "stderr",
     "output_type": "stream",
     "text": [
      " 18%|████████████▍                                                         | 219/1232 [00:23<01:48,  9.34it/s]"
     ]
    },
    {
     "name": "stdout",
     "output_type": "stream",
     "text": [
      "\n",
      "image 1/1 /mnt/c/Adrianov/Projects/trash-detector/Littering--8/test/images/video_12_29_jpg.rf.dc248e6b302bafbc38b41415d0a2df70.jpg: 256x416 2 Persons, 13.5ms\n",
      "Speed: 4.9ms preprocess, 13.5ms inference, 1.7ms postprocess per image at shape (1, 3, 256, 416)\n"
     ]
    },
    {
     "name": "stderr",
     "output_type": "stream",
     "text": [
      " 18%|████████████▌                                                         | 220/1232 [00:23<01:48,  9.34it/s]"
     ]
    },
    {
     "name": "stdout",
     "output_type": "stream",
     "text": [
      "\n",
      "image 1/1 /mnt/c/Adrianov/Projects/trash-detector/Littering--8/test/images/video_12_2_jpg.rf.325519cda0015b543416b426c68053e5.jpg: 256x416 2 Persons, 13.2ms\n",
      "Speed: 2.2ms preprocess, 13.2ms inference, 1.7ms postprocess per image at shape (1, 3, 256, 416)\n"
     ]
    },
    {
     "name": "stderr",
     "output_type": "stream",
     "text": [
      " 18%|████████████▌                                                         | 221/1232 [00:23<02:00,  8.41it/s]"
     ]
    },
    {
     "name": "stdout",
     "output_type": "stream",
     "text": [
      "\n",
      "image 1/1 /mnt/c/Adrianov/Projects/trash-detector/Littering--8/test/images/video_12_2_jpg.rf.4a8f152e07ba6f7a62e973370147f3b2.jpg: 256x416 3 Persons, 16.9ms\n",
      "Speed: 2.4ms preprocess, 16.9ms inference, 1.6ms postprocess per image at shape (1, 3, 256, 416)\n"
     ]
    },
    {
     "name": "stderr",
     "output_type": "stream",
     "text": [
      " 18%|████████████▌                                                         | 222/1232 [00:23<02:01,  8.35it/s]"
     ]
    },
    {
     "name": "stdout",
     "output_type": "stream",
     "text": [
      "\n",
      "image 1/1 /mnt/c/Adrianov/Projects/trash-detector/Littering--8/test/images/video_12_2_jpg.rf.6a812fc025f21d6a9438875ec33f9119.jpg: 256x416 3 Persons, 13.0ms\n",
      "Speed: 2.0ms preprocess, 13.0ms inference, 1.4ms postprocess per image at shape (1, 3, 256, 416)\n",
      "\n",
      "image 1/1 /mnt/c/Adrianov/Projects/trash-detector/Littering--8/test/images/video_12_30_jpg.rf.3767ab8996dfbd4d8b25902b98ada7b4.jpg: 256x416 2 Persons, 2 Trashs, 12.8ms\n",
      "Speed: 1.7ms preprocess, 12.8ms inference, 1.9ms postprocess per image at shape (1, 3, 256, 416)\n"
     ]
    },
    {
     "name": "stderr",
     "output_type": "stream",
     "text": [
      " 18%|████████████▋                                                         | 224/1232 [00:24<01:49,  9.23it/s]"
     ]
    },
    {
     "name": "stdout",
     "output_type": "stream",
     "text": [
      "\n",
      "image 1/1 /mnt/c/Adrianov/Projects/trash-detector/Littering--8/test/images/video_12_30_jpg.rf.6cb9b92867c9cc3bd587ab5664052674.jpg: 256x416 2 Persons, 14.6ms\n",
      "Speed: 3.6ms preprocess, 14.6ms inference, 1.6ms postprocess per image at shape (1, 3, 256, 416)\n",
      "\n",
      "image 1/1 /mnt/c/Adrianov/Projects/trash-detector/Littering--8/test/images/video_12_3_jpg.rf.1b24d518f690987bed2f9518b32c8e5d.jpg: 256x416 3 Persons, 12.9ms\n",
      "Speed: 2.5ms preprocess, 12.9ms inference, 1.9ms postprocess per image at shape (1, 3, 256, 416)\n"
     ]
    },
    {
     "name": "stderr",
     "output_type": "stream",
     "text": [
      " 18%|████████████▊                                                         | 226/1232 [00:24<01:48,  9.26it/s]"
     ]
    },
    {
     "name": "stdout",
     "output_type": "stream",
     "text": [
      "\n",
      "image 1/1 /mnt/c/Adrianov/Projects/trash-detector/Littering--8/test/images/video_12_3_jpg.rf.4730958aefa03d48489e1f0a1f3c60ca.jpg: 256x416 2 Persons, 12.9ms\n",
      "Speed: 2.2ms preprocess, 12.9ms inference, 1.7ms postprocess per image at shape (1, 3, 256, 416)\n"
     ]
    },
    {
     "name": "stderr",
     "output_type": "stream",
     "text": [
      " 18%|████████████▉                                                         | 227/1232 [00:24<02:01,  8.25it/s]"
     ]
    },
    {
     "name": "stdout",
     "output_type": "stream",
     "text": [
      "\n",
      "image 1/1 /mnt/c/Adrianov/Projects/trash-detector/Littering--8/test/images/video_12_3_jpg.rf.e35c1cff506c092442428a3e6afc0ecb.jpg: 256x416 2 Persons, 12.9ms\n",
      "Speed: 2.3ms preprocess, 12.9ms inference, 1.6ms postprocess per image at shape (1, 3, 256, 416)\n"
     ]
    },
    {
     "name": "stderr",
     "output_type": "stream",
     "text": [
      " 19%|████████████▉                                                         | 228/1232 [00:24<01:58,  8.50it/s]"
     ]
    },
    {
     "name": "stdout",
     "output_type": "stream",
     "text": [
      "\n",
      "image 1/1 /mnt/c/Adrianov/Projects/trash-detector/Littering--8/test/images/video_12_4_jpg.rf.17360d870ce5d3f79dd6d96c204f25bb.jpg: 256x416 3 Persons, 20.1ms\n",
      "Speed: 3.6ms preprocess, 20.1ms inference, 2.6ms postprocess per image at shape (1, 3, 256, 416)\n"
     ]
    },
    {
     "name": "stderr",
     "output_type": "stream",
     "text": [
      " 19%|█████████████                                                         | 229/1232 [00:24<02:01,  8.26it/s]"
     ]
    },
    {
     "name": "stdout",
     "output_type": "stream",
     "text": [
      "\n",
      "image 1/1 /mnt/c/Adrianov/Projects/trash-detector/Littering--8/test/images/video_12_4_jpg.rf.d14db7b770d5ce5662c99d1c08314dfb.jpg: 256x416 2 Persons, 20.7ms\n",
      "Speed: 2.5ms preprocess, 20.7ms inference, 2.5ms postprocess per image at shape (1, 3, 256, 416)\n"
     ]
    },
    {
     "name": "stderr",
     "output_type": "stream",
     "text": [
      " 19%|█████████████                                                         | 230/1232 [00:24<02:13,  7.51it/s]"
     ]
    },
    {
     "name": "stdout",
     "output_type": "stream",
     "text": [
      "\n",
      "image 1/1 /mnt/c/Adrianov/Projects/trash-detector/Littering--8/test/images/video_12_4_jpg.rf.eeeeeea3ad2ac429ab9898843af3fa2f.jpg: 256x416 2 Persons, 21.3ms\n",
      "Speed: 2.2ms preprocess, 21.3ms inference, 3.2ms postprocess per image at shape (1, 3, 256, 416)\n"
     ]
    },
    {
     "name": "stderr",
     "output_type": "stream",
     "text": [
      " 19%|█████████████▏                                                        | 231/1232 [00:25<02:07,  7.84it/s]"
     ]
    },
    {
     "name": "stdout",
     "output_type": "stream",
     "text": [
      "\n",
      "image 1/1 /mnt/c/Adrianov/Projects/trash-detector/Littering--8/test/images/video_12_5_jpg.rf.1da7ff78af23fe3aad032444b55c59db.jpg: 256x416 3 Persons, 12.9ms\n",
      "Speed: 1.9ms preprocess, 12.9ms inference, 1.6ms postprocess per image at shape (1, 3, 256, 416)\n"
     ]
    },
    {
     "name": "stderr",
     "output_type": "stream",
     "text": [
      " 19%|█████████████▏                                                        | 232/1232 [00:25<02:08,  7.79it/s]"
     ]
    },
    {
     "name": "stdout",
     "output_type": "stream",
     "text": [
      "\n",
      "image 1/1 /mnt/c/Adrianov/Projects/trash-detector/Littering--8/test/images/video_12_5_jpg.rf.4db17d3abd989a0207596ae9eac9eb35.jpg: 256x416 2 Persons, 13.5ms\n",
      "Speed: 2.8ms preprocess, 13.5ms inference, 1.6ms postprocess per image at shape (1, 3, 256, 416)\n"
     ]
    },
    {
     "name": "stderr",
     "output_type": "stream",
     "text": [
      " 19%|█████████████▏                                                        | 233/1232 [00:25<02:22,  7.00it/s]"
     ]
    },
    {
     "name": "stdout",
     "output_type": "stream",
     "text": [
      "\n",
      "image 1/1 /mnt/c/Adrianov/Projects/trash-detector/Littering--8/test/images/video_12_5_jpg.rf.ae5febf0d20703f6a0cbdd01508b3f5b.jpg: 256x416 2 Persons, 12.8ms\n",
      "Speed: 1.8ms preprocess, 12.8ms inference, 1.8ms postprocess per image at shape (1, 3, 256, 416)\n",
      "\n",
      "image 1/1 /mnt/c/Adrianov/Projects/trash-detector/Littering--8/test/images/video_12_6_jpg.rf.6e342a72530ac588d61fc422b872bb2d.jpg: 256x416 2 Persons, 12.8ms\n",
      "Speed: 1.9ms preprocess, 12.8ms inference, 1.6ms postprocess per image at shape (1, 3, 256, 416)\n"
     ]
    },
    {
     "name": "stderr",
     "output_type": "stream",
     "text": [
      " 19%|█████████████▎                                                        | 235/1232 [00:25<01:54,  8.69it/s]"
     ]
    },
    {
     "name": "stdout",
     "output_type": "stream",
     "text": [
      "\n",
      "image 1/1 /mnt/c/Adrianov/Projects/trash-detector/Littering--8/test/images/video_12_6_jpg.rf.c2412acb74d0d5840e928204e7b1564a.jpg: 256x416 2 Persons, 13.2ms\n",
      "Speed: 4.3ms preprocess, 13.2ms inference, 1.7ms postprocess per image at shape (1, 3, 256, 416)\n",
      "\n",
      "image 1/1 /mnt/c/Adrianov/Projects/trash-detector/Littering--8/test/images/video_12_6_jpg.rf.f079acb3c10985c0b90d80c0ca559f0c.jpg: 256x416 3 Persons, 12.8ms\n",
      "Speed: 1.8ms preprocess, 12.8ms inference, 1.6ms postprocess per image at shape (1, 3, 256, 416)\n"
     ]
    },
    {
     "name": "stderr",
     "output_type": "stream",
     "text": [
      " 19%|█████████████▍                                                        | 237/1232 [00:25<01:41,  9.77it/s]"
     ]
    },
    {
     "name": "stdout",
     "output_type": "stream",
     "text": [
      "\n",
      "image 1/1 /mnt/c/Adrianov/Projects/trash-detector/Littering--8/test/images/video_12_7_jpg.rf.0f8a5651414122909e5fa9ef30fc8e49.jpg: 256x416 3 Persons, 16.6ms\n",
      "Speed: 1.8ms preprocess, 16.6ms inference, 1.7ms postprocess per image at shape (1, 3, 256, 416)\n",
      "\n",
      "image 1/1 /mnt/c/Adrianov/Projects/trash-detector/Littering--8/test/images/video_12_7_jpg.rf.84ffd15a05fd16925d4aa464a0b1e6d9.jpg: 256x416 2 Persons, 13.3ms\n",
      "Speed: 2.7ms preprocess, 13.3ms inference, 3.0ms postprocess per image at shape (1, 3, 256, 416)\n"
     ]
    },
    {
     "name": "stderr",
     "output_type": "stream",
     "text": [
      " 19%|█████████████▌                                                        | 239/1232 [00:25<01:36, 10.24it/s]"
     ]
    },
    {
     "name": "stdout",
     "output_type": "stream",
     "text": [
      "\n",
      "image 1/1 /mnt/c/Adrianov/Projects/trash-detector/Littering--8/test/images/video_12_7_jpg.rf.beef4e0907316f54a6ae90a02e1af417.jpg: 256x416 2 Persons, 12.8ms\n",
      "Speed: 2.1ms preprocess, 12.8ms inference, 1.5ms postprocess per image at shape (1, 3, 256, 416)\n",
      "\n",
      "image 1/1 /mnt/c/Adrianov/Projects/trash-detector/Littering--8/test/images/video_12_8_jpg.rf.66d55d0114ec8abb475ec0fd392919d2.jpg: 256x416 3 Persons, 13.5ms\n",
      "Speed: 2.1ms preprocess, 13.5ms inference, 1.4ms postprocess per image at shape (1, 3, 256, 416)\n"
     ]
    },
    {
     "name": "stderr",
     "output_type": "stream",
     "text": [
      " 20%|█████████████▋                                                        | 241/1232 [00:26<01:32, 10.67it/s]"
     ]
    },
    {
     "name": "stdout",
     "output_type": "stream",
     "text": [
      "\n",
      "image 1/1 /mnt/c/Adrianov/Projects/trash-detector/Littering--8/test/images/video_12_8_jpg.rf.700c4f6dda3535afb7ac299b5e8d3a89.jpg: 256x416 3 Persons, 12.9ms\n",
      "Speed: 2.9ms preprocess, 12.9ms inference, 2.1ms postprocess per image at shape (1, 3, 256, 416)\n",
      "\n",
      "image 1/1 /mnt/c/Adrianov/Projects/trash-detector/Littering--8/test/images/video_12_8_jpg.rf.a432dfdfa38989fa3068880e9e2d47c2.jpg: 256x416 2 Persons, 12.8ms\n",
      "Speed: 1.8ms preprocess, 12.8ms inference, 1.4ms postprocess per image at shape (1, 3, 256, 416)\n"
     ]
    },
    {
     "name": "stderr",
     "output_type": "stream",
     "text": [
      " 20%|█████████████▊                                                        | 243/1232 [00:26<01:29, 11.02it/s]"
     ]
    },
    {
     "name": "stdout",
     "output_type": "stream",
     "text": [
      "\n",
      "image 1/1 /mnt/c/Adrianov/Projects/trash-detector/Littering--8/test/images/video_12_9_jpg.rf.cd92f3d7964cc5c4cf3cd913b6c7fe2a.jpg: 256x416 2 Persons, 12.9ms\n",
      "Speed: 2.0ms preprocess, 12.9ms inference, 1.5ms postprocess per image at shape (1, 3, 256, 416)\n",
      "\n",
      "image 1/1 /mnt/c/Adrianov/Projects/trash-detector/Littering--8/test/images/video_12_9_jpg.rf.f04a212a1aaf512a006f27277dc8294f.jpg: 256x416 3 Persons, 13.8ms\n",
      "Speed: 2.2ms preprocess, 13.8ms inference, 2.7ms postprocess per image at shape (1, 3, 256, 416)\n"
     ]
    },
    {
     "name": "stderr",
     "output_type": "stream",
     "text": [
      " 20%|█████████████▉                                                        | 245/1232 [00:26<01:27, 11.25it/s]"
     ]
    },
    {
     "name": "stdout",
     "output_type": "stream",
     "text": [
      "\n",
      "image 1/1 /mnt/c/Adrianov/Projects/trash-detector/Littering--8/test/images/video_12_9_jpg.rf.f342e5ae7ea5b21b4176d462f51b8ddb.jpg: 256x416 2 Persons, 14.7ms\n",
      "Speed: 2.0ms preprocess, 14.7ms inference, 1.4ms postprocess per image at shape (1, 3, 256, 416)\n",
      "\n",
      "image 1/1 /mnt/c/Adrianov/Projects/trash-detector/Littering--8/test/images/video_1_10_jpg.rf.3de4dc95e422c4447cdf69831fe87816.jpg: 256x416 2 Persons, 12.8ms\n",
      "Speed: 1.8ms preprocess, 12.8ms inference, 1.6ms postprocess per image at shape (1, 3, 256, 416)\n"
     ]
    },
    {
     "name": "stderr",
     "output_type": "stream",
     "text": [
      " 20%|██████████████                                                        | 247/1232 [00:26<01:23, 11.74it/s]"
     ]
    },
    {
     "name": "stdout",
     "output_type": "stream",
     "text": [
      "\n",
      "image 1/1 /mnt/c/Adrianov/Projects/trash-detector/Littering--8/test/images/video_1_10_jpg.rf.5a2515d6736aa60811636472354323a5.jpg: 256x416 2 Persons, 12.8ms\n",
      "Speed: 2.0ms preprocess, 12.8ms inference, 1.6ms postprocess per image at shape (1, 3, 256, 416)\n",
      "\n",
      "image 1/1 /mnt/c/Adrianov/Projects/trash-detector/Littering--8/test/images/video_1_10_jpg.rf.6c3ffefb42bb8c07dcdf11f3f25ad1ff.jpg: 256x416 4 Persons, 13.0ms\n",
      "Speed: 2.0ms preprocess, 13.0ms inference, 1.4ms postprocess per image at shape (1, 3, 256, 416)\n"
     ]
    },
    {
     "name": "stderr",
     "output_type": "stream",
     "text": [
      " 20%|██████████████▏                                                       | 249/1232 [00:26<01:23, 11.82it/s]"
     ]
    },
    {
     "name": "stdout",
     "output_type": "stream",
     "text": [
      "\n",
      "image 1/1 /mnt/c/Adrianov/Projects/trash-detector/Littering--8/test/images/video_1_10_jpg.rf.8d934157df2645323c39cad73148ebcc.jpg: 256x416 1 Person, 12.8ms\n",
      "Speed: 1.8ms preprocess, 12.8ms inference, 1.4ms postprocess per image at shape (1, 3, 256, 416)\n",
      "\n",
      "image 1/1 /mnt/c/Adrianov/Projects/trash-detector/Littering--8/test/images/video_1_11_jpg.rf.3bd50e0d0699eefb39c063bb66d0acdc.jpg: 256x416 4 Persons, 12.9ms\n",
      "Speed: 3.2ms preprocess, 12.9ms inference, 1.6ms postprocess per image at shape (1, 3, 256, 416)\n"
     ]
    },
    {
     "name": "stderr",
     "output_type": "stream",
     "text": [
      " 20%|██████████████▎                                                       | 251/1232 [00:26<01:22, 11.91it/s]"
     ]
    },
    {
     "name": "stdout",
     "output_type": "stream",
     "text": [
      "\n",
      "image 1/1 /mnt/c/Adrianov/Projects/trash-detector/Littering--8/test/images/video_1_11_jpg.rf.6bec2b198f3ba0dd0ab5d52642c02b33.jpg: 256x416 2 Persons, 16.6ms\n",
      "Speed: 2.1ms preprocess, 16.6ms inference, 1.4ms postprocess per image at shape (1, 3, 256, 416)\n",
      "\n",
      "image 1/1 /mnt/c/Adrianov/Projects/trash-detector/Littering--8/test/images/video_1_11_jpg.rf.ed1ace6345a1acd0c5c6ff667fae0cb7.jpg: 256x416 1 Person, 14.5ms\n",
      "Speed: 1.9ms preprocess, 14.5ms inference, 1.9ms postprocess per image at shape (1, 3, 256, 416)\n"
     ]
    },
    {
     "name": "stderr",
     "output_type": "stream",
     "text": [
      " 21%|██████████████▍                                                       | 253/1232 [00:26<01:21, 12.00it/s]"
     ]
    },
    {
     "name": "stdout",
     "output_type": "stream",
     "text": [
      "\n",
      "image 1/1 /mnt/c/Adrianov/Projects/trash-detector/Littering--8/test/images/video_1_11_jpg.rf.f15f8a9684372cb5cb443b65e27a9d2f.jpg: 256x416 2 Persons, 12.9ms\n",
      "Speed: 2.0ms preprocess, 12.9ms inference, 1.7ms postprocess per image at shape (1, 3, 256, 416)\n",
      "\n",
      "image 1/1 /mnt/c/Adrianov/Projects/trash-detector/Littering--8/test/images/video_1_12_jpg.rf.0776dd99957824be5e9e2ea5d09b2dd9.jpg: 256x416 2 Persons, 12.8ms\n",
      "Speed: 1.7ms preprocess, 12.8ms inference, 1.4ms postprocess per image at shape (1, 3, 256, 416)\n"
     ]
    },
    {
     "name": "stderr",
     "output_type": "stream",
     "text": [
      " 21%|██████████████▍                                                       | 255/1232 [00:27<01:20, 12.12it/s]"
     ]
    },
    {
     "name": "stdout",
     "output_type": "stream",
     "text": [
      "\n",
      "image 1/1 /mnt/c/Adrianov/Projects/trash-detector/Littering--8/test/images/video_1_12_jpg.rf.7fc37651eb5d9113c2db993057d617fc.jpg: 256x416 2 Persons, 13.1ms\n",
      "Speed: 2.5ms preprocess, 13.1ms inference, 1.4ms postprocess per image at shape (1, 3, 256, 416)\n",
      "\n",
      "image 1/1 /mnt/c/Adrianov/Projects/trash-detector/Littering--8/test/images/video_1_12_jpg.rf.978336b0039e6dddaefcbb8633dec569.jpg: 256x416 2 Persons, 13.1ms\n",
      "Speed: 1.9ms preprocess, 13.1ms inference, 1.4ms postprocess per image at shape (1, 3, 256, 416)\n"
     ]
    },
    {
     "name": "stderr",
     "output_type": "stream",
     "text": [
      " 21%|██████████████▌                                                       | 257/1232 [00:27<01:19, 12.28it/s]"
     ]
    },
    {
     "name": "stdout",
     "output_type": "stream",
     "text": [
      "\n",
      "image 1/1 /mnt/c/Adrianov/Projects/trash-detector/Littering--8/test/images/video_1_12_jpg.rf.be7ea97606ec882b30961c5fe9748327.jpg: 256x416 5 Persons, 13.0ms\n",
      "Speed: 1.7ms preprocess, 13.0ms inference, 1.4ms postprocess per image at shape (1, 3, 256, 416)\n",
      "\n",
      "image 1/1 /mnt/c/Adrianov/Projects/trash-detector/Littering--8/test/images/video_1_13_jpg.rf.0264d3a0b3c27a1573e24794c76e2978.jpg: 256x416 2 Persons, 13.1ms\n",
      "Speed: 1.8ms preprocess, 13.1ms inference, 1.9ms postprocess per image at shape (1, 3, 256, 416)\n"
     ]
    },
    {
     "name": "stderr",
     "output_type": "stream",
     "text": [
      " 21%|██████████████▋                                                       | 259/1232 [00:27<01:22, 11.85it/s]"
     ]
    },
    {
     "name": "stdout",
     "output_type": "stream",
     "text": [
      "\n",
      "image 1/1 /mnt/c/Adrianov/Projects/trash-detector/Littering--8/test/images/video_1_13_jpg.rf.6928916a16187ad2371336517b5a9d5c.jpg: 256x416 5 Persons, 13.2ms\n",
      "Speed: 1.7ms preprocess, 13.2ms inference, 1.4ms postprocess per image at shape (1, 3, 256, 416)\n",
      "\n",
      "image 1/1 /mnt/c/Adrianov/Projects/trash-detector/Littering--8/test/images/video_1_13_jpg.rf.9f38924f817970ab5f737bc560b27531.jpg: 256x416 2 Persons, 1 Trash, 12.9ms\n",
      "Speed: 1.9ms preprocess, 12.9ms inference, 1.6ms postprocess per image at shape (1, 3, 256, 416)\n"
     ]
    },
    {
     "name": "stderr",
     "output_type": "stream",
     "text": [
      " 21%|██████████████▊                                                       | 261/1232 [00:27<01:39,  9.77it/s]"
     ]
    },
    {
     "name": "stdout",
     "output_type": "stream",
     "text": [
      "\n",
      "image 1/1 /mnt/c/Adrianov/Projects/trash-detector/Littering--8/test/images/video_1_13_jpg.rf.a898f3da3bbaee6198d008911386f144.jpg: 256x416 2 Persons, 13.3ms\n",
      "Speed: 2.8ms preprocess, 13.3ms inference, 1.6ms postprocess per image at shape (1, 3, 256, 416)\n",
      "\n",
      "image 1/1 /mnt/c/Adrianov/Projects/trash-detector/Littering--8/test/images/video_1_14_jpg.rf.0282181f4f354f5aadd7fc0405af700c.jpg: 256x416 2 Persons, 2 Trashs, 20.2ms\n",
      "Speed: 2.0ms preprocess, 20.2ms inference, 2.6ms postprocess per image at shape (1, 3, 256, 416)\n"
     ]
    },
    {
     "name": "stderr",
     "output_type": "stream",
     "text": [
      " 21%|██████████████▉                                                       | 263/1232 [00:27<01:38,  9.80it/s]"
     ]
    },
    {
     "name": "stdout",
     "output_type": "stream",
     "text": [
      "\n",
      "image 1/1 /mnt/c/Adrianov/Projects/trash-detector/Littering--8/test/images/video_1_14_jpg.rf.9a94d4627df8fbe1bb547f996ded7fcb.jpg: 256x416 2 Persons, 13.7ms\n",
      "Speed: 2.1ms preprocess, 13.7ms inference, 2.3ms postprocess per image at shape (1, 3, 256, 416)\n",
      "\n",
      "image 1/1 /mnt/c/Adrianov/Projects/trash-detector/Littering--8/test/images/video_1_14_jpg.rf.a2c4b25910059f84982188e0e6a963ef.jpg: 256x416 5 Persons, 12.9ms\n",
      "Speed: 2.0ms preprocess, 12.9ms inference, 1.6ms postprocess per image at shape (1, 3, 256, 416)\n"
     ]
    },
    {
     "name": "stderr",
     "output_type": "stream",
     "text": [
      " 22%|███████████████                                                       | 265/1232 [00:28<01:34, 10.21it/s]"
     ]
    },
    {
     "name": "stdout",
     "output_type": "stream",
     "text": [
      "\n",
      "image 1/1 /mnt/c/Adrianov/Projects/trash-detector/Littering--8/test/images/video_1_14_jpg.rf.fa9c91665076f10a3d33d577ae884f4f.jpg: 256x416 2 Persons, 13.2ms\n",
      "Speed: 2.9ms preprocess, 13.2ms inference, 1.5ms postprocess per image at shape (1, 3, 256, 416)\n",
      "\n",
      "image 1/1 /mnt/c/Adrianov/Projects/trash-detector/Littering--8/test/images/video_1_15_jpg.rf.2007601c4915b67ef5fd1d937e9b3d89.jpg: 256x416 2 Persons, 2 Trashs, 13.1ms\n",
      "Speed: 2.1ms preprocess, 13.1ms inference, 2.0ms postprocess per image at shape (1, 3, 256, 416)\n"
     ]
    },
    {
     "name": "stderr",
     "output_type": "stream",
     "text": [
      " 22%|███████████████▏                                                      | 267/1232 [00:28<01:30, 10.63it/s]"
     ]
    },
    {
     "name": "stdout",
     "output_type": "stream",
     "text": [
      "\n",
      "image 1/1 /mnt/c/Adrianov/Projects/trash-detector/Littering--8/test/images/video_1_15_jpg.rf.2ed65c71721640e263ac572c86857405.jpg: 256x416 2 Persons, 12.9ms\n",
      "Speed: 2.1ms preprocess, 12.9ms inference, 1.6ms postprocess per image at shape (1, 3, 256, 416)\n",
      "\n",
      "image 1/1 /mnt/c/Adrianov/Projects/trash-detector/Littering--8/test/images/video_1_15_jpg.rf.3e8ac2ee4dd4c2cb98b7fa2b7d61ce65.jpg: 256x416 2 Persons, 13.1ms\n",
      "Speed: 1.8ms preprocess, 13.1ms inference, 2.7ms postprocess per image at shape (1, 3, 256, 416)\n"
     ]
    },
    {
     "name": "stderr",
     "output_type": "stream",
     "text": [
      " 22%|███████████████▎                                                      | 269/1232 [00:28<01:28, 10.82it/s]"
     ]
    },
    {
     "name": "stdout",
     "output_type": "stream",
     "text": [
      "\n",
      "image 1/1 /mnt/c/Adrianov/Projects/trash-detector/Littering--8/test/images/video_1_15_jpg.rf.b7ac04c0f961223909bf04daacdd5ed8.jpg: 256x416 5 Persons, 12.9ms\n",
      "Speed: 2.5ms preprocess, 12.9ms inference, 2.3ms postprocess per image at shape (1, 3, 256, 416)\n",
      "\n",
      "image 1/1 /mnt/c/Adrianov/Projects/trash-detector/Littering--8/test/images/video_1_16_jpg.rf.6a845683ddbe3da20fab768a5b1f75ee.jpg: 256x416 2 Persons, 12.8ms\n",
      "Speed: 1.7ms preprocess, 12.8ms inference, 1.5ms postprocess per image at shape (1, 3, 256, 416)\n"
     ]
    },
    {
     "name": "stderr",
     "output_type": "stream",
     "text": [
      " 22%|███████████████▍                                                      | 271/1232 [00:28<01:54,  8.36it/s]"
     ]
    },
    {
     "name": "stdout",
     "output_type": "stream",
     "text": [
      "\n",
      "image 1/1 /mnt/c/Adrianov/Projects/trash-detector/Littering--8/test/images/video_1_16_jpg.rf.72ad3e23a831d448a61a4b51787d107b.jpg: 256x416 4 Persons, 12.9ms\n",
      "Speed: 1.9ms preprocess, 12.9ms inference, 1.3ms postprocess per image at shape (1, 3, 256, 416)\n",
      "\n",
      "image 1/1 /mnt/c/Adrianov/Projects/trash-detector/Littering--8/test/images/video_1_16_jpg.rf.7ceb06104f2a1bcc28d305c3be28d027.jpg: 256x416 1 Person, 1 Trash, 13.0ms\n",
      "Speed: 2.0ms preprocess, 13.0ms inference, 1.3ms postprocess per image at shape (1, 3, 256, 416)\n"
     ]
    },
    {
     "name": "stderr",
     "output_type": "stream",
     "text": [
      " 22%|███████████████▌                                                      | 273/1232 [00:29<01:46,  9.01it/s]"
     ]
    },
    {
     "name": "stdout",
     "output_type": "stream",
     "text": [
      "\n",
      "image 1/1 /mnt/c/Adrianov/Projects/trash-detector/Littering--8/test/images/video_1_16_jpg.rf.9930e48ef67cb25f229f0171cf53ec3e.jpg: 256x416 2 Persons, 1 Trash, 13.2ms\n",
      "Speed: 2.3ms preprocess, 13.2ms inference, 1.4ms postprocess per image at shape (1, 3, 256, 416)\n",
      "\n",
      "image 1/1 /mnt/c/Adrianov/Projects/trash-detector/Littering--8/test/images/video_1_17_jpg.rf.316bcd6dd1f0735956a114eb7046c10b.jpg: 256x416 2 Persons, 14.9ms\n",
      "Speed: 2.3ms preprocess, 14.9ms inference, 1.4ms postprocess per image at shape (1, 3, 256, 416)\n"
     ]
    },
    {
     "name": "stderr",
     "output_type": "stream",
     "text": [
      " 22%|███████████████▋                                                      | 275/1232 [00:29<01:38,  9.76it/s]"
     ]
    },
    {
     "name": "stdout",
     "output_type": "stream",
     "text": [
      "\n",
      "image 1/1 /mnt/c/Adrianov/Projects/trash-detector/Littering--8/test/images/video_1_17_jpg.rf.4a539ead9f7403a2c7d3ef614cc67be0.jpg: 256x416 4 Persons, 13.1ms\n",
      "Speed: 2.4ms preprocess, 13.1ms inference, 1.4ms postprocess per image at shape (1, 3, 256, 416)\n",
      "\n",
      "image 1/1 /mnt/c/Adrianov/Projects/trash-detector/Littering--8/test/images/video_1_17_jpg.rf.8b2c3539932046adf9ac2b828d0b90b2.jpg: 256x416 2 Persons, 1 Trash, 12.9ms\n",
      "Speed: 1.9ms preprocess, 12.9ms inference, 1.4ms postprocess per image at shape (1, 3, 256, 416)\n"
     ]
    },
    {
     "name": "stderr",
     "output_type": "stream",
     "text": [
      " 22%|███████████████▋                                                      | 277/1232 [00:29<01:33, 10.21it/s]"
     ]
    },
    {
     "name": "stdout",
     "output_type": "stream",
     "text": [
      "\n",
      "image 1/1 /mnt/c/Adrianov/Projects/trash-detector/Littering--8/test/images/video_1_17_jpg.rf.e8362cdad2d21bc6a1fa6ffd2f139f83.jpg: 256x416 2 Persons, 1 Trash, 13.4ms\n",
      "Speed: 2.5ms preprocess, 13.4ms inference, 1.5ms postprocess per image at shape (1, 3, 256, 416)\n",
      "\n",
      "image 1/1 /mnt/c/Adrianov/Projects/trash-detector/Littering--8/test/images/video_1_18_jpg.rf.24bb71ba4f9bd74cfae32e6904a9a3fb.jpg: 256x416 2 Persons, 12.8ms\n",
      "Speed: 2.1ms preprocess, 12.8ms inference, 1.3ms postprocess per image at shape (1, 3, 256, 416)\n"
     ]
    },
    {
     "name": "stderr",
     "output_type": "stream",
     "text": [
      " 23%|███████████████▊                                                      | 279/1232 [00:29<01:29, 10.61it/s]"
     ]
    },
    {
     "name": "stdout",
     "output_type": "stream",
     "text": [
      "\n",
      "image 1/1 /mnt/c/Adrianov/Projects/trash-detector/Littering--8/test/images/video_1_18_jpg.rf.3a31aac02033c0a370a11a37f423fc1b.jpg: 256x416 2 Persons, 1 Trash, 13.6ms\n",
      "Speed: 2.2ms preprocess, 13.6ms inference, 1.5ms postprocess per image at shape (1, 3, 256, 416)\n",
      "\n",
      "image 1/1 /mnt/c/Adrianov/Projects/trash-detector/Littering--8/test/images/video_1_18_jpg.rf.c6725ab2cb3c7c3291a9ea2f97b35af5.jpg: 256x416 4 Persons, 12.9ms\n",
      "Speed: 2.2ms preprocess, 12.9ms inference, 1.6ms postprocess per image at shape (1, 3, 256, 416)\n"
     ]
    },
    {
     "name": "stderr",
     "output_type": "stream",
     "text": [
      " 23%|███████████████▉                                                      | 281/1232 [00:29<01:28, 10.72it/s]"
     ]
    },
    {
     "name": "stdout",
     "output_type": "stream",
     "text": [
      "\n",
      "image 1/1 /mnt/c/Adrianov/Projects/trash-detector/Littering--8/test/images/video_1_18_jpg.rf.e172a23a6877ba5675c604c138b2fa25.jpg: 256x416 2 Persons, 1 Trash, 12.9ms\n",
      "Speed: 2.3ms preprocess, 12.9ms inference, 1.5ms postprocess per image at shape (1, 3, 256, 416)\n",
      "\n",
      "image 1/1 /mnt/c/Adrianov/Projects/trash-detector/Littering--8/test/images/video_1_19_jpg.rf.09dce96c61ae540e82e664627e49598c.jpg: 256x416 2 Persons, 1 Trash, 16.2ms\n",
      "Speed: 2.1ms preprocess, 16.2ms inference, 1.7ms postprocess per image at shape (1, 3, 256, 416)\n"
     ]
    },
    {
     "name": "stderr",
     "output_type": "stream",
     "text": [
      " 23%|████████████████                                                      | 283/1232 [00:29<01:26, 11.03it/s]"
     ]
    },
    {
     "name": "stdout",
     "output_type": "stream",
     "text": [
      "\n",
      "image 1/1 /mnt/c/Adrianov/Projects/trash-detector/Littering--8/test/images/video_1_19_jpg.rf.9679a9ef5b5cfdeaf79aad731b0025d4.jpg: 256x416 4 Persons, 13.6ms\n",
      "Speed: 2.4ms preprocess, 13.6ms inference, 1.5ms postprocess per image at shape (1, 3, 256, 416)\n",
      "\n",
      "image 1/1 /mnt/c/Adrianov/Projects/trash-detector/Littering--8/test/images/video_1_19_jpg.rf.d7393a87d163b4c71431b4856fd5cae3.jpg: 256x416 2 Persons, 13.0ms\n",
      "Speed: 1.9ms preprocess, 13.0ms inference, 1.5ms postprocess per image at shape (1, 3, 256, 416)\n"
     ]
    },
    {
     "name": "stderr",
     "output_type": "stream",
     "text": [
      " 23%|████████████████▏                                                     | 285/1232 [00:30<01:25, 11.11it/s]"
     ]
    },
    {
     "name": "stdout",
     "output_type": "stream",
     "text": [
      "\n",
      "image 1/1 /mnt/c/Adrianov/Projects/trash-detector/Littering--8/test/images/video_1_19_jpg.rf.ef561d3f196a0faa5150ddeffdca7dd7.jpg: 256x416 2 Persons, 13.5ms\n",
      "Speed: 2.0ms preprocess, 13.5ms inference, 1.8ms postprocess per image at shape (1, 3, 256, 416)\n",
      "\n",
      "image 1/1 /mnt/c/Adrianov/Projects/trash-detector/Littering--8/test/images/video_1_1_jpg.rf.1f706338279dea3181448a9ed38e7877.jpg: 256x416 4 Persons, 13.3ms\n",
      "Speed: 1.8ms preprocess, 13.3ms inference, 1.4ms postprocess per image at shape (1, 3, 256, 416)\n"
     ]
    },
    {
     "name": "stderr",
     "output_type": "stream",
     "text": [
      " 23%|████████████████▎                                                     | 287/1232 [00:30<01:25, 11.04it/s]"
     ]
    },
    {
     "name": "stdout",
     "output_type": "stream",
     "text": [
      "\n",
      "image 1/1 /mnt/c/Adrianov/Projects/trash-detector/Littering--8/test/images/video_1_1_jpg.rf.26ae4adaf72f5f36506bca0a5c98f857.jpg: 256x416 2 Persons, 13.2ms\n",
      "Speed: 2.0ms preprocess, 13.2ms inference, 1.5ms postprocess per image at shape (1, 3, 256, 416)\n",
      "\n",
      "image 1/1 /mnt/c/Adrianov/Projects/trash-detector/Littering--8/test/images/video_1_1_jpg.rf.4e3d07b524f1aa7437a590d9d071b84e.jpg: 256x416 2 Persons, 13.0ms\n",
      "Speed: 1.6ms preprocess, 13.0ms inference, 1.5ms postprocess per image at shape (1, 3, 256, 416)\n"
     ]
    },
    {
     "name": "stderr",
     "output_type": "stream",
     "text": [
      " 23%|████████████████▍                                                     | 289/1232 [00:30<01:25, 11.05it/s]"
     ]
    },
    {
     "name": "stdout",
     "output_type": "stream",
     "text": [
      "\n",
      "image 1/1 /mnt/c/Adrianov/Projects/trash-detector/Littering--8/test/images/video_1_1_jpg.rf.bf8ee9b84430d5718ca3be128258d5ca.jpg: 256x416 2 Persons, 12.9ms\n",
      "Speed: 2.1ms preprocess, 12.9ms inference, 1.5ms postprocess per image at shape (1, 3, 256, 416)\n",
      "\n",
      "image 1/1 /mnt/c/Adrianov/Projects/trash-detector/Littering--8/test/images/video_1_20_jpg.rf.11c49ca41c2fee398c813f00ab967a59.jpg: 256x416 4 Persons, 12.9ms\n",
      "Speed: 1.7ms preprocess, 12.9ms inference, 1.8ms postprocess per image at shape (1, 3, 256, 416)\n"
     ]
    },
    {
     "name": "stderr",
     "output_type": "stream",
     "text": [
      " 24%|████████████████▌                                                     | 291/1232 [00:30<01:24, 11.12it/s]"
     ]
    },
    {
     "name": "stdout",
     "output_type": "stream",
     "text": [
      "\n",
      "image 1/1 /mnt/c/Adrianov/Projects/trash-detector/Littering--8/test/images/video_1_20_jpg.rf.42f8917b698b5f7fb4f017612988b95d.jpg: 256x416 2 Persons, 12.9ms\n",
      "Speed: 2.3ms preprocess, 12.9ms inference, 1.7ms postprocess per image at shape (1, 3, 256, 416)\n",
      "\n",
      "image 1/1 /mnt/c/Adrianov/Projects/trash-detector/Littering--8/test/images/video_1_20_jpg.rf.506e8ea36fe8e8a959271002e5425e43.jpg: 256x416 2 Persons, 13.7ms\n",
      "Speed: 1.9ms preprocess, 13.7ms inference, 1.6ms postprocess per image at shape (1, 3, 256, 416)\n"
     ]
    },
    {
     "name": "stderr",
     "output_type": "stream",
     "text": [
      " 24%|████████████████▋                                                     | 293/1232 [00:30<01:43,  9.11it/s]"
     ]
    },
    {
     "name": "stdout",
     "output_type": "stream",
     "text": [
      "\n",
      "image 1/1 /mnt/c/Adrianov/Projects/trash-detector/Littering--8/test/images/video_1_20_jpg.rf.61c255b96bb9753310b89fd513047add.jpg: 256x416 1 Person, 1 Trash, 15.9ms\n",
      "Speed: 2.9ms preprocess, 15.9ms inference, 2.3ms postprocess per image at shape (1, 3, 256, 416)\n"
     ]
    },
    {
     "name": "stderr",
     "output_type": "stream",
     "text": [
      " 24%|████████████████▋                                                     | 294/1232 [00:31<01:42,  9.16it/s]"
     ]
    },
    {
     "name": "stdout",
     "output_type": "stream",
     "text": [
      "\n",
      "image 1/1 /mnt/c/Adrianov/Projects/trash-detector/Littering--8/test/images/video_1_21_jpg.rf.31a9d5daf50d5d15978bd0d91a5493f0.jpg: 256x416 2 Persons, 12.9ms\n",
      "Speed: 2.1ms preprocess, 12.9ms inference, 1.7ms postprocess per image at shape (1, 3, 256, 416)\n",
      "\n",
      "image 1/1 /mnt/c/Adrianov/Projects/trash-detector/Littering--8/test/images/video_1_21_jpg.rf.6e9a86b70dd5ec7dc17fd2f79072a6f0.jpg: 256x416 2 Persons, 17.5ms\n",
      "Speed: 2.0ms preprocess, 17.5ms inference, 2.9ms postprocess per image at shape (1, 3, 256, 416)\n"
     ]
    },
    {
     "name": "stderr",
     "output_type": "stream",
     "text": [
      " 24%|████████████████▊                                                     | 296/1232 [00:31<01:32, 10.13it/s]"
     ]
    },
    {
     "name": "stdout",
     "output_type": "stream",
     "text": [
      "\n",
      "image 1/1 /mnt/c/Adrianov/Projects/trash-detector/Littering--8/test/images/video_1_21_jpg.rf.7cff296c50f434d08b110339dfb65c81.jpg: 256x416 1 Person, 1 Trash, 13.1ms\n",
      "Speed: 2.3ms preprocess, 13.1ms inference, 1.9ms postprocess per image at shape (1, 3, 256, 416)\n",
      "\n",
      "image 1/1 /mnt/c/Adrianov/Projects/trash-detector/Littering--8/test/images/video_1_21_jpg.rf.967bfff172f0b010aaf8c7ea12867d6f.jpg: 256x416 4 Persons, 15.9ms\n",
      "Speed: 1.8ms preprocess, 15.9ms inference, 2.8ms postprocess per image at shape (1, 3, 256, 416)\n"
     ]
    },
    {
     "name": "stderr",
     "output_type": "stream",
     "text": [
      " 24%|████████████████▉                                                     | 298/1232 [00:31<01:37,  9.53it/s]"
     ]
    },
    {
     "name": "stdout",
     "output_type": "stream",
     "text": [
      "\n",
      "image 1/1 /mnt/c/Adrianov/Projects/trash-detector/Littering--8/test/images/video_1_22_jpg.rf.138d5fc26d1f2ae05e0d1c8bc8ee1af4.jpg: 256x416 5 Persons, 14.2ms\n",
      "Speed: 2.7ms preprocess, 14.2ms inference, 1.7ms postprocess per image at shape (1, 3, 256, 416)\n"
     ]
    },
    {
     "name": "stderr",
     "output_type": "stream",
     "text": [
      " 24%|████████████████▉                                                     | 299/1232 [00:31<01:44,  8.93it/s]"
     ]
    },
    {
     "name": "stdout",
     "output_type": "stream",
     "text": [
      "\n",
      "image 1/1 /mnt/c/Adrianov/Projects/trash-detector/Littering--8/test/images/video_1_22_jpg.rf.2812d0f10c1b51da8fe6c6c4b55c1b7c.jpg: 256x416 2 Persons, 13.0ms\n",
      "Speed: 1.9ms preprocess, 13.0ms inference, 2.6ms postprocess per image at shape (1, 3, 256, 416)\n",
      "\n",
      "image 1/1 /mnt/c/Adrianov/Projects/trash-detector/Littering--8/test/images/video_1_22_jpg.rf.a92ee8d612a7fd0b74eb9f2ac3b78690.jpg: 256x416 1 Person, 1 Trash, 16.3ms\n",
      "Speed: 2.0ms preprocess, 16.3ms inference, 1.8ms postprocess per image at shape (1, 3, 256, 416)\n"
     ]
    },
    {
     "name": "stderr",
     "output_type": "stream",
     "text": [
      " 24%|█████████████████                                                     | 301/1232 [00:31<01:38,  9.41it/s]"
     ]
    },
    {
     "name": "stdout",
     "output_type": "stream",
     "text": [
      "\n",
      "image 1/1 /mnt/c/Adrianov/Projects/trash-detector/Littering--8/test/images/video_1_22_jpg.rf.b620d63bf171b7392eb07d8f6a2abcf4.jpg: 256x416 2 Persons, 12.9ms\n",
      "Speed: 2.2ms preprocess, 12.9ms inference, 2.2ms postprocess per image at shape (1, 3, 256, 416)\n",
      "\n",
      "image 1/1 /mnt/c/Adrianov/Projects/trash-detector/Littering--8/test/images/video_1_23_jpg.rf.1b1617913ee39905ed203cf053e23c1a.jpg: 256x416 1 Person, 2 Trashs, 12.9ms\n",
      "Speed: 2.0ms preprocess, 12.9ms inference, 1.4ms postprocess per image at shape (1, 3, 256, 416)\n"
     ]
    },
    {
     "name": "stderr",
     "output_type": "stream",
     "text": [
      " 25%|█████████████████▏                                                    | 303/1232 [00:31<01:33,  9.94it/s]"
     ]
    },
    {
     "name": "stdout",
     "output_type": "stream",
     "text": [
      "\n",
      "image 1/1 /mnt/c/Adrianov/Projects/trash-detector/Littering--8/test/images/video_1_23_jpg.rf.2c65b4eca0a2d4719d2875e78ed4e0c6.jpg: 256x416 5 Persons, 13.4ms\n",
      "Speed: 2.0ms preprocess, 13.4ms inference, 2.0ms postprocess per image at shape (1, 3, 256, 416)\n",
      "\n",
      "image 1/1 /mnt/c/Adrianov/Projects/trash-detector/Littering--8/test/images/video_1_23_jpg.rf.9aad1c344ea66e82028a6911bee68f9f.jpg: 256x416 2 Persons, 14.6ms\n",
      "Speed: 2.0ms preprocess, 14.6ms inference, 1.5ms postprocess per image at shape (1, 3, 256, 416)\n"
     ]
    },
    {
     "name": "stderr",
     "output_type": "stream",
     "text": [
      " 25%|█████████████████▎                                                    | 305/1232 [00:32<01:31, 10.13it/s]"
     ]
    },
    {
     "name": "stdout",
     "output_type": "stream",
     "text": [
      "\n",
      "image 1/1 /mnt/c/Adrianov/Projects/trash-detector/Littering--8/test/images/video_1_23_jpg.rf.a34d171d96435c79b5e6e8cad4cab871.jpg: 256x416 2 Persons, 1 Trash, 13.1ms\n",
      "Speed: 2.1ms preprocess, 13.1ms inference, 2.0ms postprocess per image at shape (1, 3, 256, 416)\n",
      "\n",
      "image 1/1 /mnt/c/Adrianov/Projects/trash-detector/Littering--8/test/images/video_1_24_jpg.rf.40f7f486c14d3774793aa72d295930d5.jpg: 256x416 2 Persons, 20.0ms\n",
      "Speed: 3.3ms preprocess, 20.0ms inference, 4.9ms postprocess per image at shape (1, 3, 256, 416)\n"
     ]
    },
    {
     "name": "stderr",
     "output_type": "stream",
     "text": [
      " 25%|█████████████████▍                                                    | 307/1232 [00:32<01:49,  8.41it/s]"
     ]
    },
    {
     "name": "stdout",
     "output_type": "stream",
     "text": [
      "\n",
      "image 1/1 /mnt/c/Adrianov/Projects/trash-detector/Littering--8/test/images/video_1_24_jpg.rf.5daa76d1b5231db6287622d60d174986.jpg: 256x416 1 Person, 2 Trashs, 22.0ms\n",
      "Speed: 2.3ms preprocess, 22.0ms inference, 1.8ms postprocess per image at shape (1, 3, 256, 416)\n"
     ]
    },
    {
     "name": "stderr",
     "output_type": "stream",
     "text": [
      " 25%|█████████████████▌                                                    | 308/1232 [00:32<01:53,  8.11it/s]"
     ]
    },
    {
     "name": "stdout",
     "output_type": "stream",
     "text": [
      "\n",
      "image 1/1 /mnt/c/Adrianov/Projects/trash-detector/Littering--8/test/images/video_1_24_jpg.rf.6158dce1581dabacfc544423addb85b3.jpg: 256x416 5 Persons, 16.9ms\n",
      "Speed: 2.5ms preprocess, 16.9ms inference, 1.4ms postprocess per image at shape (1, 3, 256, 416)\n"
     ]
    },
    {
     "name": "stderr",
     "output_type": "stream",
     "text": [
      " 25%|█████████████████▌                                                    | 309/1232 [00:32<01:51,  8.29it/s]"
     ]
    },
    {
     "name": "stdout",
     "output_type": "stream",
     "text": [
      "\n",
      "image 1/1 /mnt/c/Adrianov/Projects/trash-detector/Littering--8/test/images/video_1_24_jpg.rf.d1405ad7f04d40209c434416b8ff0616.jpg: 256x416 2 Persons, 14.3ms\n",
      "Speed: 3.9ms preprocess, 14.3ms inference, 2.0ms postprocess per image at shape (1, 3, 256, 416)\n"
     ]
    },
    {
     "name": "stderr",
     "output_type": "stream",
     "text": [
      " 25%|█████████████████▌                                                    | 310/1232 [00:32<01:52,  8.21it/s]"
     ]
    },
    {
     "name": "stdout",
     "output_type": "stream",
     "text": [
      "\n",
      "image 1/1 /mnt/c/Adrianov/Projects/trash-detector/Littering--8/test/images/video_1_25_jpg.rf.951c0ec66f68020ef753f1a82e02a30e.jpg: 256x416 2 Persons, 12.9ms\n",
      "Speed: 2.1ms preprocess, 12.9ms inference, 1.7ms postprocess per image at shape (1, 3, 256, 416)\n"
     ]
    },
    {
     "name": "stderr",
     "output_type": "stream",
     "text": [
      " 25%|█████████████████▋                                                    | 311/1232 [00:32<01:49,  8.45it/s]"
     ]
    },
    {
     "name": "stdout",
     "output_type": "stream",
     "text": [
      "\n",
      "image 1/1 /mnt/c/Adrianov/Projects/trash-detector/Littering--8/test/images/video_1_25_jpg.rf.d7580c0ac3d75b2c14011a515555ccad.jpg: 256x416 4 Persons, 13.0ms\n",
      "Speed: 2.2ms preprocess, 13.0ms inference, 3.0ms postprocess per image at shape (1, 3, 256, 416)\n"
     ]
    },
    {
     "name": "stderr",
     "output_type": "stream",
     "text": [
      " 25%|█████████████████▋                                                    | 312/1232 [00:33<01:56,  7.87it/s]"
     ]
    },
    {
     "name": "stdout",
     "output_type": "stream",
     "text": [
      "\n",
      "image 1/1 /mnt/c/Adrianov/Projects/trash-detector/Littering--8/test/images/video_1_25_jpg.rf.df3f34bc800b6a0865bf74df494502ee.jpg: 256x416 1 Person, 2 Trashs, 15.5ms\n",
      "Speed: 2.4ms preprocess, 15.5ms inference, 1.3ms postprocess per image at shape (1, 3, 256, 416)\n"
     ]
    },
    {
     "name": "stderr",
     "output_type": "stream",
     "text": [
      " 25%|█████████████████▊                                                    | 313/1232 [00:33<01:52,  8.17it/s]"
     ]
    },
    {
     "name": "stdout",
     "output_type": "stream",
     "text": [
      "\n",
      "image 1/1 /mnt/c/Adrianov/Projects/trash-detector/Littering--8/test/images/video_1_25_jpg.rf.e950da605e57f5af05288f3756060643.jpg: 256x416 2 Persons, 12.9ms\n",
      "Speed: 2.6ms preprocess, 12.9ms inference, 1.6ms postprocess per image at shape (1, 3, 256, 416)\n"
     ]
    },
    {
     "name": "stderr",
     "output_type": "stream",
     "text": [
      " 25%|█████████████████▊                                                    | 314/1232 [00:33<02:06,  7.26it/s]"
     ]
    },
    {
     "name": "stdout",
     "output_type": "stream",
     "text": [
      "\n",
      "image 1/1 /mnt/c/Adrianov/Projects/trash-detector/Littering--8/test/images/video_1_26_jpg.rf.8617e38280c8cfdc801308f93eab191d.jpg: 256x416 2 Persons, 14.8ms\n",
      "Speed: 2.0ms preprocess, 14.8ms inference, 2.8ms postprocess per image at shape (1, 3, 256, 416)\n"
     ]
    },
    {
     "name": "stderr",
     "output_type": "stream",
     "text": [
      " 26%|█████████████████▉                                                    | 315/1232 [00:33<02:18,  6.63it/s]"
     ]
    },
    {
     "name": "stdout",
     "output_type": "stream",
     "text": [
      "\n",
      "image 1/1 /mnt/c/Adrianov/Projects/trash-detector/Littering--8/test/images/video_1_26_jpg.rf.952ab12d500fcd43270d447c9c084a38.jpg: 256x416 2 Persons, 21.8ms\n",
      "Speed: 2.6ms preprocess, 21.8ms inference, 3.0ms postprocess per image at shape (1, 3, 256, 416)\n"
     ]
    },
    {
     "name": "stderr",
     "output_type": "stream",
     "text": [
      " 26%|█████████████████▉                                                    | 316/1232 [00:33<02:33,  5.97it/s]"
     ]
    },
    {
     "name": "stdout",
     "output_type": "stream",
     "text": [
      "\n",
      "image 1/1 /mnt/c/Adrianov/Projects/trash-detector/Littering--8/test/images/video_1_26_jpg.rf.c3567c71e7dee35f329069879f2ca3d3.jpg: 256x416 1 Person, 3 Trashs, 13.5ms\n",
      "Speed: 2.6ms preprocess, 13.5ms inference, 4.6ms postprocess per image at shape (1, 3, 256, 416)\n"
     ]
    },
    {
     "name": "stderr",
     "output_type": "stream",
     "text": [
      " 26%|██████████████████                                                    | 317/1232 [00:33<02:28,  6.15it/s]"
     ]
    },
    {
     "name": "stdout",
     "output_type": "stream",
     "text": [
      "\n",
      "image 1/1 /mnt/c/Adrianov/Projects/trash-detector/Littering--8/test/images/video_1_26_jpg.rf.d025b98781bb88f74fe6dde435b91571.jpg: 256x416 4 Persons, 13.2ms\n",
      "Speed: 2.2ms preprocess, 13.2ms inference, 2.1ms postprocess per image at shape (1, 3, 256, 416)\n"
     ]
    },
    {
     "name": "stderr",
     "output_type": "stream",
     "text": [
      " 26%|██████████████████                                                    | 318/1232 [00:34<02:33,  5.95it/s]"
     ]
    },
    {
     "name": "stdout",
     "output_type": "stream",
     "text": [
      "\n",
      "image 1/1 /mnt/c/Adrianov/Projects/trash-detector/Littering--8/test/images/video_1_27_jpg.rf.002c91010a246295a0e4ff05ae168e48.jpg: 256x416 2 Persons, 13.1ms\n",
      "Speed: 1.7ms preprocess, 13.1ms inference, 1.5ms postprocess per image at shape (1, 3, 256, 416)\n"
     ]
    },
    {
     "name": "stderr",
     "output_type": "stream",
     "text": [
      " 26%|██████████████████▏                                                   | 319/1232 [00:34<02:19,  6.53it/s]"
     ]
    },
    {
     "name": "stdout",
     "output_type": "stream",
     "text": [
      "\n",
      "image 1/1 /mnt/c/Adrianov/Projects/trash-detector/Littering--8/test/images/video_1_27_jpg.rf.26e9ebcea854f59dfa7df1f384f89a6e.jpg: 256x416 1 Person, 2 Trashs, 13.0ms\n",
      "Speed: 2.5ms preprocess, 13.0ms inference, 2.7ms postprocess per image at shape (1, 3, 256, 416)\n"
     ]
    },
    {
     "name": "stderr",
     "output_type": "stream",
     "text": [
      " 26%|██████████████████▏                                                   | 320/1232 [00:34<02:07,  7.13it/s]"
     ]
    },
    {
     "name": "stdout",
     "output_type": "stream",
     "text": [
      "\n",
      "image 1/1 /mnt/c/Adrianov/Projects/trash-detector/Littering--8/test/images/video_1_27_jpg.rf.504815b355cae5e6ed2129c8c6b173c8.jpg: 256x416 5 Persons, 13.3ms\n",
      "Speed: 2.4ms preprocess, 13.3ms inference, 2.0ms postprocess per image at shape (1, 3, 256, 416)\n"
     ]
    },
    {
     "name": "stderr",
     "output_type": "stream",
     "text": [
      " 26%|██████████████████▏                                                   | 321/1232 [00:34<02:00,  7.57it/s]"
     ]
    },
    {
     "name": "stdout",
     "output_type": "stream",
     "text": [
      "\n",
      "image 1/1 /mnt/c/Adrianov/Projects/trash-detector/Littering--8/test/images/video_1_27_jpg.rf.a86ca24d7d159d280fa3fc8cd469fc86.jpg: 256x416 2 Persons, 13.0ms\n",
      "Speed: 1.9ms preprocess, 13.0ms inference, 1.6ms postprocess per image at shape (1, 3, 256, 416)\n",
      "\n",
      "image 1/1 /mnt/c/Adrianov/Projects/trash-detector/Littering--8/test/images/video_1_28_jpg.rf.0d1c9b2939d357dc1ddc033686c1e290.jpg: 256x416 2 Persons, 12.9ms\n",
      "Speed: 1.9ms preprocess, 12.9ms inference, 1.3ms postprocess per image at shape (1, 3, 256, 416)\n"
     ]
    },
    {
     "name": "stderr",
     "output_type": "stream",
     "text": [
      " 26%|██████████████████▎                                                   | 323/1232 [00:34<01:40,  9.07it/s]"
     ]
    },
    {
     "name": "stdout",
     "output_type": "stream",
     "text": [
      "\n",
      "image 1/1 /mnt/c/Adrianov/Projects/trash-detector/Littering--8/test/images/video_1_28_jpg.rf.43dcafd1c6bb7d2d6afd087d1d466a32.jpg: 256x416 1 Person, 3 Trashs, 13.2ms\n",
      "Speed: 2.1ms preprocess, 13.2ms inference, 2.0ms postprocess per image at shape (1, 3, 256, 416)\n",
      "\n",
      "image 1/1 /mnt/c/Adrianov/Projects/trash-detector/Littering--8/test/images/video_1_28_jpg.rf.5639a36cae23bbfee25a075c41df1c9e.jpg: 256x416 2 Persons, 12.9ms\n",
      "Speed: 2.0ms preprocess, 12.9ms inference, 2.0ms postprocess per image at shape (1, 3, 256, 416)\n"
     ]
    },
    {
     "name": "stderr",
     "output_type": "stream",
     "text": [
      " 26%|██████████████████▍                                                   | 325/1232 [00:34<01:32,  9.84it/s]"
     ]
    },
    {
     "name": "stdout",
     "output_type": "stream",
     "text": [
      "\n",
      "image 1/1 /mnt/c/Adrianov/Projects/trash-detector/Littering--8/test/images/video_1_28_jpg.rf.c4cb88fc759a75f5e87b56adcb07b583.jpg: 256x416 5 Persons, 13.5ms\n",
      "Speed: 1.7ms preprocess, 13.5ms inference, 2.1ms postprocess per image at shape (1, 3, 256, 416)\n",
      "\n",
      "image 1/1 /mnt/c/Adrianov/Projects/trash-detector/Littering--8/test/images/video_1_29_jpg.rf.22c75a333d389945b19a7652a184b5c1.jpg: 256x416 5 Persons, 12.9ms\n",
      "Speed: 1.9ms preprocess, 12.9ms inference, 1.3ms postprocess per image at shape (1, 3, 256, 416)\n"
     ]
    },
    {
     "name": "stderr",
     "output_type": "stream",
     "text": [
      " 27%|██████████████████▌                                                   | 327/1232 [00:34<01:29, 10.16it/s]"
     ]
    },
    {
     "name": "stdout",
     "output_type": "stream",
     "text": [
      "\n",
      "image 1/1 /mnt/c/Adrianov/Projects/trash-detector/Littering--8/test/images/video_1_29_jpg.rf.9c606ead59593f21ad783aa15aab8c10.jpg: 256x416 1 Person, 3 Trashs, 13.1ms\n",
      "Speed: 2.1ms preprocess, 13.1ms inference, 2.3ms postprocess per image at shape (1, 3, 256, 416)\n",
      "\n",
      "image 1/1 /mnt/c/Adrianov/Projects/trash-detector/Littering--8/test/images/video_1_29_jpg.rf.ad974d01d0e056d3ff2dfbfdcbade1cb.jpg: 256x416 2 Persons, 13.0ms\n",
      "Speed: 2.0ms preprocess, 13.0ms inference, 3.0ms postprocess per image at shape (1, 3, 256, 416)\n"
     ]
    },
    {
     "name": "stderr",
     "output_type": "stream",
     "text": [
      " 27%|██████████████████▋                                                   | 329/1232 [00:35<01:24, 10.71it/s]"
     ]
    },
    {
     "name": "stdout",
     "output_type": "stream",
     "text": [
      "\n",
      "image 1/1 /mnt/c/Adrianov/Projects/trash-detector/Littering--8/test/images/video_1_29_jpg.rf.d46e8679a5bf9c9696671e298929fd23.jpg: 256x416 2 Persons, 12.9ms\n",
      "Speed: 2.0ms preprocess, 12.9ms inference, 3.0ms postprocess per image at shape (1, 3, 256, 416)\n",
      "\n",
      "image 1/1 /mnt/c/Adrianov/Projects/trash-detector/Littering--8/test/images/video_1_2_jpg.rf.2ff9c29d7422a923d01288a9e1e408d3.jpg: 256x416 2 Persons, 12.9ms\n",
      "Speed: 1.9ms preprocess, 12.9ms inference, 1.4ms postprocess per image at shape (1, 3, 256, 416)\n"
     ]
    },
    {
     "name": "stderr",
     "output_type": "stream",
     "text": [
      " 27%|██████████████████▊                                                   | 331/1232 [00:35<01:20, 11.16it/s]"
     ]
    },
    {
     "name": "stdout",
     "output_type": "stream",
     "text": [
      "\n",
      "image 1/1 /mnt/c/Adrianov/Projects/trash-detector/Littering--8/test/images/video_1_2_jpg.rf.3c7acbb79d30a223d889ff82f610bcc0.jpg: 256x416 5 Persons, 12.9ms\n",
      "Speed: 2.9ms preprocess, 12.9ms inference, 1.4ms postprocess per image at shape (1, 3, 256, 416)\n",
      "\n",
      "image 1/1 /mnt/c/Adrianov/Projects/trash-detector/Littering--8/test/images/video_1_2_jpg.rf.5348ac544a8c7455f87e6facd95e4e00.jpg: 256x416 2 Persons, 19.3ms\n",
      "Speed: 2.5ms preprocess, 19.3ms inference, 2.6ms postprocess per image at shape (1, 3, 256, 416)\n"
     ]
    },
    {
     "name": "stderr",
     "output_type": "stream",
     "text": [
      " 27%|██████████████████▉                                                   | 333/1232 [00:35<01:21, 11.09it/s]"
     ]
    },
    {
     "name": "stdout",
     "output_type": "stream",
     "text": [
      "\n",
      "image 1/1 /mnt/c/Adrianov/Projects/trash-detector/Littering--8/test/images/video_1_2_jpg.rf.9efbb75942335a6b62820d8ab704d23d.jpg: 256x416 2 Persons, 20.0ms\n",
      "Speed: 1.8ms preprocess, 20.0ms inference, 1.4ms postprocess per image at shape (1, 3, 256, 416)\n",
      "\n",
      "image 1/1 /mnt/c/Adrianov/Projects/trash-detector/Littering--8/test/images/video_1_30_jpg.rf.13fdfcb7b8494dcf1a5b49d088f3f727.jpg: 256x416 1 Person, 3 Trashs, 16.6ms\n",
      "Speed: 2.0ms preprocess, 16.6ms inference, 1.5ms postprocess per image at shape (1, 3, 256, 416)\n"
     ]
    },
    {
     "name": "stderr",
     "output_type": "stream",
     "text": [
      " 27%|███████████████████                                                   | 335/1232 [00:35<01:21, 11.03it/s]"
     ]
    },
    {
     "name": "stdout",
     "output_type": "stream",
     "text": [
      "\n",
      "image 1/1 /mnt/c/Adrianov/Projects/trash-detector/Littering--8/test/images/video_1_30_jpg.rf.25c7e53dd9ae57a884f9ac48d2347ee8.jpg: 256x416 2 Persons, 13.6ms\n",
      "Speed: 2.3ms preprocess, 13.6ms inference, 1.4ms postprocess per image at shape (1, 3, 256, 416)\n",
      "\n",
      "image 1/1 /mnt/c/Adrianov/Projects/trash-detector/Littering--8/test/images/video_1_30_jpg.rf.7648893453944e0e232e42a076bb5a30.jpg: 256x416 2 Persons, 13.5ms\n",
      "Speed: 2.1ms preprocess, 13.5ms inference, 2.8ms postprocess per image at shape (1, 3, 256, 416)\n"
     ]
    },
    {
     "name": "stderr",
     "output_type": "stream",
     "text": [
      " 27%|███████████████████▏                                                  | 337/1232 [00:35<01:18, 11.39it/s]"
     ]
    },
    {
     "name": "stdout",
     "output_type": "stream",
     "text": [
      "\n",
      "image 1/1 /mnt/c/Adrianov/Projects/trash-detector/Littering--8/test/images/video_1_30_jpg.rf.e1903c67c10fe7883614bf0aa5bb22fb.jpg: 256x416 4 Persons, 12.9ms\n",
      "Speed: 2.2ms preprocess, 12.9ms inference, 1.5ms postprocess per image at shape (1, 3, 256, 416)\n",
      "\n",
      "image 1/1 /mnt/c/Adrianov/Projects/trash-detector/Littering--8/test/images/video_1_3_jpg.rf.3132bbd6e0f948c5ea2e5290ed537012.jpg: 256x416 2 Persons, 12.9ms\n",
      "Speed: 2.2ms preprocess, 12.9ms inference, 3.1ms postprocess per image at shape (1, 3, 256, 416)\n"
     ]
    },
    {
     "name": "stderr",
     "output_type": "stream",
     "text": [
      " 28%|███████████████████▎                                                  | 339/1232 [00:36<01:18, 11.40it/s]"
     ]
    },
    {
     "name": "stdout",
     "output_type": "stream",
     "text": [
      "\n",
      "image 1/1 /mnt/c/Adrianov/Projects/trash-detector/Littering--8/test/images/video_1_3_jpg.rf.7e8871ee2f6ca9295388576a586a9df6.jpg: 256x416 2 Persons, 13.0ms\n",
      "Speed: 1.6ms preprocess, 13.0ms inference, 2.0ms postprocess per image at shape (1, 3, 256, 416)\n",
      "\n",
      "image 1/1 /mnt/c/Adrianov/Projects/trash-detector/Littering--8/test/images/video_1_3_jpg.rf.bb55f376ce4d9f3e103df7a7768b9c75.jpg: 256x416 2 Persons, 18.4ms\n",
      "Speed: 2.8ms preprocess, 18.4ms inference, 2.0ms postprocess per image at shape (1, 3, 256, 416)\n"
     ]
    },
    {
     "name": "stderr",
     "output_type": "stream",
     "text": [
      " 28%|███████████████████▍                                                  | 341/1232 [00:36<01:18, 11.41it/s]"
     ]
    },
    {
     "name": "stdout",
     "output_type": "stream",
     "text": [
      "\n",
      "image 1/1 /mnt/c/Adrianov/Projects/trash-detector/Littering--8/test/images/video_1_3_jpg.rf.df6baec2d29ae4f00fd323adff43c523.jpg: 256x416 6 Persons, 13.2ms\n",
      "Speed: 2.3ms preprocess, 13.2ms inference, 3.0ms postprocess per image at shape (1, 3, 256, 416)\n",
      "\n",
      "image 1/1 /mnt/c/Adrianov/Projects/trash-detector/Littering--8/test/images/video_1_4_jpg.rf.26b2ad2d74caf7419754c7bdee7ee9d5.jpg: 256x416 2 Persons, 13.0ms\n",
      "Speed: 1.9ms preprocess, 13.0ms inference, 2.6ms postprocess per image at shape (1, 3, 256, 416)\n"
     ]
    },
    {
     "name": "stderr",
     "output_type": "stream",
     "text": [
      " 28%|███████████████████▍                                                  | 343/1232 [00:36<01:19, 11.18it/s]"
     ]
    },
    {
     "name": "stdout",
     "output_type": "stream",
     "text": [
      "\n",
      "image 1/1 /mnt/c/Adrianov/Projects/trash-detector/Littering--8/test/images/video_1_4_jpg.rf.34d7464f676694fa790a4fed948fb885.jpg: 256x416 2 Persons, 20.5ms\n",
      "Speed: 2.8ms preprocess, 20.5ms inference, 2.8ms postprocess per image at shape (1, 3, 256, 416)\n",
      "\n",
      "image 1/1 /mnt/c/Adrianov/Projects/trash-detector/Littering--8/test/images/video_1_4_jpg.rf.a75b0624d1a45a238d46c145fd108f08.jpg: 256x416 5 Persons, 14.3ms\n",
      "Speed: 2.3ms preprocess, 14.3ms inference, 3.2ms postprocess per image at shape (1, 3, 256, 416)\n"
     ]
    },
    {
     "name": "stderr",
     "output_type": "stream",
     "text": [
      " 28%|███████████████████▌                                                  | 345/1232 [00:36<01:26, 10.25it/s]"
     ]
    },
    {
     "name": "stdout",
     "output_type": "stream",
     "text": [
      "\n",
      "image 1/1 /mnt/c/Adrianov/Projects/trash-detector/Littering--8/test/images/video_1_4_jpg.rf.b3a331444f52ed5dae9640b01881b347.jpg: 256x416 2 Persons, 12.8ms\n",
      "Speed: 2.2ms preprocess, 12.8ms inference, 2.8ms postprocess per image at shape (1, 3, 256, 416)\n",
      "\n",
      "image 1/1 /mnt/c/Adrianov/Projects/trash-detector/Littering--8/test/images/video_1_5_jpg.rf.1414007307f4c3e1e83f1bd2d37cbe02.jpg: 256x416 2 Persons, 14.2ms\n",
      "Speed: 3.5ms preprocess, 14.2ms inference, 4.1ms postprocess per image at shape (1, 3, 256, 416)\n"
     ]
    },
    {
     "name": "stderr",
     "output_type": "stream",
     "text": [
      " 28%|███████████████████▋                                                  | 347/1232 [00:36<01:40,  8.78it/s]"
     ]
    },
    {
     "name": "stdout",
     "output_type": "stream",
     "text": [
      "\n",
      "image 1/1 /mnt/c/Adrianov/Projects/trash-detector/Littering--8/test/images/video_1_5_jpg.rf.731caadc1267da76223ab7761c37fbc6.jpg: 256x416 4 Persons, 12.9ms\n",
      "Speed: 1.9ms preprocess, 12.9ms inference, 1.5ms postprocess per image at shape (1, 3, 256, 416)\n",
      "\n",
      "image 1/1 /mnt/c/Adrianov/Projects/trash-detector/Littering--8/test/images/video_1_5_jpg.rf.79d081ba3aff0583686ba3126f01ba73.jpg: 256x416 2 Persons, 16.0ms\n",
      "Speed: 2.0ms preprocess, 16.0ms inference, 1.9ms postprocess per image at shape (1, 3, 256, 416)\n"
     ]
    },
    {
     "name": "stderr",
     "output_type": "stream",
     "text": [
      " 28%|███████████████████▊                                                  | 349/1232 [00:37<01:33,  9.40it/s]"
     ]
    },
    {
     "name": "stdout",
     "output_type": "stream",
     "text": [
      "\n",
      "image 1/1 /mnt/c/Adrianov/Projects/trash-detector/Littering--8/test/images/video_1_5_jpg.rf.9088595f587b8e461da477beadc5c04b.jpg: 256x416 2 Persons, 13.1ms\n",
      "Speed: 2.0ms preprocess, 13.1ms inference, 1.6ms postprocess per image at shape (1, 3, 256, 416)\n",
      "\n",
      "image 1/1 /mnt/c/Adrianov/Projects/trash-detector/Littering--8/test/images/video_1_6_jpg.rf.3082eaaa4e4a1870dfc5630e65d0d3fa.jpg: 256x416 5 Persons, 12.8ms\n",
      "Speed: 1.6ms preprocess, 12.8ms inference, 1.4ms postprocess per image at shape (1, 3, 256, 416)\n"
     ]
    },
    {
     "name": "stderr",
     "output_type": "stream",
     "text": [
      " 28%|███████████████████▉                                                  | 351/1232 [00:37<01:28, 10.00it/s]"
     ]
    },
    {
     "name": "stdout",
     "output_type": "stream",
     "text": [
      "\n",
      "image 1/1 /mnt/c/Adrianov/Projects/trash-detector/Littering--8/test/images/video_1_6_jpg.rf.5d780ab967a5556294ed5ff29b745b95.jpg: 256x416 2 Persons, 12.9ms\n",
      "Speed: 2.0ms preprocess, 12.9ms inference, 1.6ms postprocess per image at shape (1, 3, 256, 416)\n",
      "\n",
      "image 1/1 /mnt/c/Adrianov/Projects/trash-detector/Littering--8/test/images/video_1_6_jpg.rf.d4adc7cb2ef7745ceb0422ecc33004dd.jpg: 256x416 2 Persons, 13.1ms\n",
      "Speed: 3.8ms preprocess, 13.1ms inference, 1.6ms postprocess per image at shape (1, 3, 256, 416)\n"
     ]
    },
    {
     "name": "stderr",
     "output_type": "stream",
     "text": [
      " 29%|████████████████████                                                  | 353/1232 [00:37<01:25, 10.30it/s]"
     ]
    },
    {
     "name": "stdout",
     "output_type": "stream",
     "text": [
      "\n",
      "image 1/1 /mnt/c/Adrianov/Projects/trash-detector/Littering--8/test/images/video_1_6_jpg.rf.ff8fca94b3da2bc0c39791d618b6fd19.jpg: 256x416 2 Persons, 12.9ms\n",
      "Speed: 4.1ms preprocess, 12.9ms inference, 1.6ms postprocess per image at shape (1, 3, 256, 416)\n",
      "\n",
      "image 1/1 /mnt/c/Adrianov/Projects/trash-detector/Littering--8/test/images/video_1_7_jpg.rf.213819ecd075750aee8cd635b58e1c5f.jpg: 256x416 2 Persons, 17.1ms\n",
      "Speed: 2.4ms preprocess, 17.1ms inference, 3.0ms postprocess per image at shape (1, 3, 256, 416)\n"
     ]
    },
    {
     "name": "stderr",
     "output_type": "stream",
     "text": [
      " 29%|████████████████████▏                                                 | 355/1232 [00:37<01:39,  8.80it/s]"
     ]
    },
    {
     "name": "stdout",
     "output_type": "stream",
     "text": [
      "\n",
      "image 1/1 /mnt/c/Adrianov/Projects/trash-detector/Littering--8/test/images/video_1_7_jpg.rf.3e9b8a0034c13eb71be96d7f22d4e05a.jpg: 256x416 1 Person, 12.9ms\n",
      "Speed: 2.1ms preprocess, 12.9ms inference, 1.7ms postprocess per image at shape (1, 3, 256, 416)\n",
      "\n",
      "image 1/1 /mnt/c/Adrianov/Projects/trash-detector/Littering--8/test/images/video_1_7_jpg.rf.b3ae00c85556b8d5bf8802fe1f0f8255.jpg: 256x416 2 Persons, 13.3ms\n",
      "Speed: 1.9ms preprocess, 13.3ms inference, 1.6ms postprocess per image at shape (1, 3, 256, 416)\n"
     ]
    },
    {
     "name": "stderr",
     "output_type": "stream",
     "text": [
      " 29%|████████████████████▎                                                 | 357/1232 [00:37<01:32,  9.45it/s]"
     ]
    },
    {
     "name": "stdout",
     "output_type": "stream",
     "text": [
      "\n",
      "image 1/1 /mnt/c/Adrianov/Projects/trash-detector/Littering--8/test/images/video_1_7_jpg.rf.d38b158e7891bdb09a7283b7614d78e1.jpg: 256x416 4 Persons, 13.0ms\n",
      "Speed: 2.1ms preprocess, 13.0ms inference, 2.0ms postprocess per image at shape (1, 3, 256, 416)\n",
      "\n",
      "image 1/1 /mnt/c/Adrianov/Projects/trash-detector/Littering--8/test/images/video_1_8_jpg.rf.0aee5d53c7c2c88edbadc20302b78d29.jpg: 256x416 2 Persons, 13.0ms\n",
      "Speed: 2.1ms preprocess, 13.0ms inference, 2.5ms postprocess per image at shape (1, 3, 256, 416)\n"
     ]
    },
    {
     "name": "stderr",
     "output_type": "stream",
     "text": [
      " 29%|████████████████████▍                                                 | 359/1232 [00:38<01:28,  9.81it/s]"
     ]
    },
    {
     "name": "stdout",
     "output_type": "stream",
     "text": [
      "\n",
      "image 1/1 /mnt/c/Adrianov/Projects/trash-detector/Littering--8/test/images/video_1_8_jpg.rf.47e3155fcddee0d75d11ddf2b3b8c72c.jpg: 256x416 5 Persons, 13.0ms\n",
      "Speed: 1.9ms preprocess, 13.0ms inference, 1.9ms postprocess per image at shape (1, 3, 256, 416)\n",
      "\n",
      "image 1/1 /mnt/c/Adrianov/Projects/trash-detector/Littering--8/test/images/video_1_8_jpg.rf.5ec1c4e4d3af4426055f49040c13ad41.jpg: 256x416 1 Person, 14.6ms\n",
      "Speed: 2.7ms preprocess, 14.6ms inference, 2.4ms postprocess per image at shape (1, 3, 256, 416)\n"
     ]
    },
    {
     "name": "stderr",
     "output_type": "stream",
     "text": [
      " 29%|████████████████████▌                                                 | 361/1232 [00:38<01:41,  8.59it/s]"
     ]
    },
    {
     "name": "stdout",
     "output_type": "stream",
     "text": [
      "\n",
      "image 1/1 /mnt/c/Adrianov/Projects/trash-detector/Littering--8/test/images/video_1_8_jpg.rf.a3d006330ee3103aa86f7a6b3ac00228.jpg: 256x416 2 Persons, 12.9ms\n",
      "Speed: 2.4ms preprocess, 12.9ms inference, 1.7ms postprocess per image at shape (1, 3, 256, 416)\n"
     ]
    },
    {
     "name": "stderr",
     "output_type": "stream",
     "text": [
      " 29%|████████████████████▌                                                 | 362/1232 [00:38<01:38,  8.79it/s]"
     ]
    },
    {
     "name": "stdout",
     "output_type": "stream",
     "text": [
      "\n",
      "image 1/1 /mnt/c/Adrianov/Projects/trash-detector/Littering--8/test/images/video_1_9_jpg.rf.2375864f5313075312749480110ad80a.jpg: 256x416 2 Persons, 22.7ms\n",
      "Speed: 2.0ms preprocess, 22.7ms inference, 3.1ms postprocess per image at shape (1, 3, 256, 416)\n"
     ]
    },
    {
     "name": "stderr",
     "output_type": "stream",
     "text": [
      " 29%|████████████████████▋                                                 | 363/1232 [00:38<01:36,  8.99it/s]"
     ]
    },
    {
     "name": "stdout",
     "output_type": "stream",
     "text": [
      "\n",
      "image 1/1 /mnt/c/Adrianov/Projects/trash-detector/Littering--8/test/images/video_1_9_jpg.rf.34bd97f43eef4c605d75131226772bd3.jpg: 256x416 2 Persons, 12.8ms\n",
      "Speed: 1.9ms preprocess, 12.8ms inference, 1.4ms postprocess per image at shape (1, 3, 256, 416)\n",
      "\n",
      "image 1/1 /mnt/c/Adrianov/Projects/trash-detector/Littering--8/test/images/video_1_9_jpg.rf.39c172f08bb2111b137479c7ce43b8dd.jpg: 256x416 4 Persons, 13.6ms\n",
      "Speed: 1.7ms preprocess, 13.6ms inference, 1.4ms postprocess per image at shape (1, 3, 256, 416)\n"
     ]
    },
    {
     "name": "stderr",
     "output_type": "stream",
     "text": [
      " 30%|████████████████████▋                                                 | 365/1232 [00:38<01:28,  9.78it/s]"
     ]
    },
    {
     "name": "stdout",
     "output_type": "stream",
     "text": [
      "\n",
      "image 1/1 /mnt/c/Adrianov/Projects/trash-detector/Littering--8/test/images/video_1_9_jpg.rf.db02cfdb81a3823151c735fef94702c0.jpg: 256x416 1 Person, 12.9ms\n",
      "Speed: 1.9ms preprocess, 12.9ms inference, 1.6ms postprocess per image at shape (1, 3, 256, 416)\n",
      "\n",
      "image 1/1 /mnt/c/Adrianov/Projects/trash-detector/Littering--8/test/images/video_2_10_jpg.rf.1d526d701d15941dd5911bd8fff1565f.jpg: 256x416 1 Person, 17.4ms\n",
      "Speed: 1.7ms preprocess, 17.4ms inference, 2.0ms postprocess per image at shape (1, 3, 256, 416)\n"
     ]
    },
    {
     "name": "stderr",
     "output_type": "stream",
     "text": [
      " 30%|████████████████████▊                                                 | 367/1232 [00:38<01:25, 10.16it/s]"
     ]
    },
    {
     "name": "stdout",
     "output_type": "stream",
     "text": [
      "\n",
      "image 1/1 /mnt/c/Adrianov/Projects/trash-detector/Littering--8/test/images/video_2_10_jpg.rf.3103517d35ce8c549878ed6f4e330890.jpg: 256x416 2 Persons, 14.7ms\n",
      "Speed: 1.8ms preprocess, 14.7ms inference, 2.6ms postprocess per image at shape (1, 3, 256, 416)\n",
      "\n",
      "image 1/1 /mnt/c/Adrianov/Projects/trash-detector/Littering--8/test/images/video_2_10_jpg.rf.5d00608d17643138abcd5df5cf6d83b3.jpg: 256x416 2 Persons, 14.0ms\n",
      "Speed: 2.0ms preprocess, 14.0ms inference, 1.7ms postprocess per image at shape (1, 3, 256, 416)\n"
     ]
    },
    {
     "name": "stderr",
     "output_type": "stream",
     "text": [
      " 30%|████████████████████▉                                                 | 369/1232 [00:39<01:22, 10.40it/s]"
     ]
    },
    {
     "name": "stdout",
     "output_type": "stream",
     "text": [
      "\n",
      "image 1/1 /mnt/c/Adrianov/Projects/trash-detector/Littering--8/test/images/video_2_10_jpg.rf.f3930c6667385f12fe81d868f007c405.jpg: 256x416 2 Persons, 13.2ms\n",
      "Speed: 2.3ms preprocess, 13.2ms inference, 1.9ms postprocess per image at shape (1, 3, 256, 416)\n",
      "\n",
      "image 1/1 /mnt/c/Adrianov/Projects/trash-detector/Littering--8/test/images/video_2_11_jpg.rf.2a0b94f8202d4a0ced725abf00f3b03c.jpg: 256x416 2 Persons, 14.7ms\n",
      "Speed: 1.9ms preprocess, 14.7ms inference, 2.7ms postprocess per image at shape (1, 3, 256, 416)\n"
     ]
    },
    {
     "name": "stderr",
     "output_type": "stream",
     "text": [
      " 30%|█████████████████████                                                 | 371/1232 [00:39<01:22, 10.49it/s]"
     ]
    },
    {
     "name": "stdout",
     "output_type": "stream",
     "text": [
      "\n",
      "image 1/1 /mnt/c/Adrianov/Projects/trash-detector/Littering--8/test/images/video_2_11_jpg.rf.56609fdf709cfe9b9e7ac796ee4c876b.jpg: 256x416 1 Person, 13.0ms\n",
      "Speed: 2.1ms preprocess, 13.0ms inference, 1.9ms postprocess per image at shape (1, 3, 256, 416)\n",
      "\n",
      "image 1/1 /mnt/c/Adrianov/Projects/trash-detector/Littering--8/test/images/video_2_11_jpg.rf.5afcaae7d1d1264b3e89bf9f8aa1ce24.jpg: 256x416 2 Persons, 13.8ms\n",
      "Speed: 1.7ms preprocess, 13.8ms inference, 1.5ms postprocess per image at shape (1, 3, 256, 416)\n"
     ]
    },
    {
     "name": "stderr",
     "output_type": "stream",
     "text": [
      " 30%|█████████████████████▏                                                | 373/1232 [00:39<01:20, 10.62it/s]"
     ]
    },
    {
     "name": "stdout",
     "output_type": "stream",
     "text": [
      "\n",
      "image 1/1 /mnt/c/Adrianov/Projects/trash-detector/Littering--8/test/images/video_2_11_jpg.rf.fc331b07df3b19ee94f93a9f98be8bec.jpg: 256x416 2 Persons, 13.7ms\n",
      "Speed: 1.8ms preprocess, 13.7ms inference, 3.1ms postprocess per image at shape (1, 3, 256, 416)\n",
      "\n",
      "image 1/1 /mnt/c/Adrianov/Projects/trash-detector/Littering--8/test/images/video_2_12_jpg.rf.74ab570bbb2245475521a144560e6104.jpg: 256x416 2 Persons, 18.1ms\n",
      "Speed: 2.2ms preprocess, 18.1ms inference, 3.1ms postprocess per image at shape (1, 3, 256, 416)\n"
     ]
    },
    {
     "name": "stderr",
     "output_type": "stream",
     "text": [
      " 30%|█████████████████████▎                                                | 375/1232 [00:39<01:20, 10.61it/s]"
     ]
    },
    {
     "name": "stdout",
     "output_type": "stream",
     "text": [
      "\n",
      "image 1/1 /mnt/c/Adrianov/Projects/trash-detector/Littering--8/test/images/video_2_12_jpg.rf.a6c818e25b09a44d1897663d2e8d6552.jpg: 256x416 1 Person, 15.3ms\n",
      "Speed: 2.1ms preprocess, 15.3ms inference, 1.6ms postprocess per image at shape (1, 3, 256, 416)\n",
      "\n",
      "image 1/1 /mnt/c/Adrianov/Projects/trash-detector/Littering--8/test/images/video_2_12_jpg.rf.c06685271a639da3c3a15602d323a33e.jpg: 256x416 2 Persons, 12.9ms\n",
      "Speed: 2.2ms preprocess, 12.9ms inference, 1.6ms postprocess per image at shape (1, 3, 256, 416)\n"
     ]
    },
    {
     "name": "stderr",
     "output_type": "stream",
     "text": [
      " 31%|█████████████████████▍                                                | 377/1232 [00:39<01:20, 10.62it/s]"
     ]
    },
    {
     "name": "stdout",
     "output_type": "stream",
     "text": [
      "\n",
      "image 1/1 /mnt/c/Adrianov/Projects/trash-detector/Littering--8/test/images/video_2_12_jpg.rf.f9a9ca25d178165b62a1f91fce2489c1.jpg: 256x416 2 Persons, 15.8ms\n",
      "Speed: 2.8ms preprocess, 15.8ms inference, 2.1ms postprocess per image at shape (1, 3, 256, 416)\n",
      "\n",
      "image 1/1 /mnt/c/Adrianov/Projects/trash-detector/Littering--8/test/images/video_2_13_jpg.rf.0d6b046c464b73cb69dff719dc8ddf27.jpg: 256x416 1 Person, 14.0ms\n",
      "Speed: 1.6ms preprocess, 14.0ms inference, 3.6ms postprocess per image at shape (1, 3, 256, 416)\n"
     ]
    },
    {
     "name": "stderr",
     "output_type": "stream",
     "text": [
      " 31%|█████████████████████▌                                                | 379/1232 [00:40<01:23, 10.26it/s]"
     ]
    },
    {
     "name": "stdout",
     "output_type": "stream",
     "text": [
      "\n",
      "image 1/1 /mnt/c/Adrianov/Projects/trash-detector/Littering--8/test/images/video_2_13_jpg.rf.31543a892eedac7dc4072c31f4ca7d7c.jpg: 256x416 2 Persons, 16.2ms\n",
      "Speed: 2.0ms preprocess, 16.2ms inference, 2.2ms postprocess per image at shape (1, 3, 256, 416)\n",
      "\n",
      "image 1/1 /mnt/c/Adrianov/Projects/trash-detector/Littering--8/test/images/video_2_13_jpg.rf.55082e4984ace55bd65d52b6b8c9f8e1.jpg: 256x416 2 Persons, 15.2ms\n",
      "Speed: 2.3ms preprocess, 15.2ms inference, 1.5ms postprocess per image at shape (1, 3, 256, 416)\n"
     ]
    },
    {
     "name": "stderr",
     "output_type": "stream",
     "text": [
      " 31%|█████████████████████▋                                                | 381/1232 [00:40<01:26,  9.81it/s]"
     ]
    },
    {
     "name": "stdout",
     "output_type": "stream",
     "text": [
      "\n",
      "image 1/1 /mnt/c/Adrianov/Projects/trash-detector/Littering--8/test/images/video_2_13_jpg.rf.f6a7e9022c94fbedd265bd70aab51ef2.jpg: 256x416 2 Persons, 15.8ms\n",
      "Speed: 2.1ms preprocess, 15.8ms inference, 1.5ms postprocess per image at shape (1, 3, 256, 416)\n"
     ]
    },
    {
     "name": "stderr",
     "output_type": "stream",
     "text": [
      " 31%|█████████████████████▋                                                | 382/1232 [00:40<01:28,  9.57it/s]"
     ]
    },
    {
     "name": "stdout",
     "output_type": "stream",
     "text": [
      "\n",
      "image 1/1 /mnt/c/Adrianov/Projects/trash-detector/Littering--8/test/images/video_2_14_jpg.rf.0435b3ad7e4f87e505785cd261306ab5.jpg: 256x416 2 Persons, 19.9ms\n",
      "Speed: 2.2ms preprocess, 19.9ms inference, 3.8ms postprocess per image at shape (1, 3, 256, 416)\n"
     ]
    },
    {
     "name": "stderr",
     "output_type": "stream",
     "text": [
      " 31%|█████████████████████▊                                                | 383/1232 [00:40<01:39,  8.50it/s]"
     ]
    },
    {
     "name": "stdout",
     "output_type": "stream",
     "text": [
      "\n",
      "image 1/1 /mnt/c/Adrianov/Projects/trash-detector/Littering--8/test/images/video_2_14_jpg.rf.7e6d75823383f288f6cbbb9e9dd55e02.jpg: 256x416 1 Person, 13.4ms\n",
      "Speed: 2.2ms preprocess, 13.4ms inference, 1.8ms postprocess per image at shape (1, 3, 256, 416)\n"
     ]
    },
    {
     "name": "stderr",
     "output_type": "stream",
     "text": [
      " 31%|█████████████████████▊                                                | 384/1232 [00:40<01:45,  8.04it/s]"
     ]
    },
    {
     "name": "stdout",
     "output_type": "stream",
     "text": [
      "\n",
      "image 1/1 /mnt/c/Adrianov/Projects/trash-detector/Littering--8/test/images/video_2_14_jpg.rf.a47d67e8cf8bb163fb4b28bbcaae19f2.jpg: 256x416 2 Persons, 13.4ms\n",
      "Speed: 4.4ms preprocess, 13.4ms inference, 1.9ms postprocess per image at shape (1, 3, 256, 416)\n",
      "\n",
      "image 1/1 /mnt/c/Adrianov/Projects/trash-detector/Littering--8/test/images/video_2_14_jpg.rf.ed8f3200ccf6012c98292548c77239cd.jpg: 256x416 2 Persons, 13.2ms\n",
      "Speed: 1.8ms preprocess, 13.2ms inference, 1.7ms postprocess per image at shape (1, 3, 256, 416)\n"
     ]
    },
    {
     "name": "stderr",
     "output_type": "stream",
     "text": [
      " 31%|█████████████████████▉                                                | 386/1232 [00:40<01:33,  9.05it/s]"
     ]
    },
    {
     "name": "stdout",
     "output_type": "stream",
     "text": [
      "\n",
      "image 1/1 /mnt/c/Adrianov/Projects/trash-detector/Littering--8/test/images/video_2_15_jpg.rf.3d21518cf5af3801dba34cc3ef954703.jpg: 256x416 2 Persons, 14.7ms\n",
      "Speed: 1.9ms preprocess, 14.7ms inference, 2.5ms postprocess per image at shape (1, 3, 256, 416)\n",
      "\n",
      "image 1/1 /mnt/c/Adrianov/Projects/trash-detector/Littering--8/test/images/video_2_15_jpg.rf.472d715054004928be07c17086f3b76d.jpg: 256x416 2 Persons, 19.1ms\n",
      "Speed: 2.6ms preprocess, 19.1ms inference, 1.3ms postprocess per image at shape (1, 3, 256, 416)\n"
     ]
    },
    {
     "name": "stderr",
     "output_type": "stream",
     "text": [
      " 31%|██████████████████████                                                | 388/1232 [00:41<01:28,  9.58it/s]"
     ]
    },
    {
     "name": "stdout",
     "output_type": "stream",
     "text": [
      "\n",
      "image 1/1 /mnt/c/Adrianov/Projects/trash-detector/Littering--8/test/images/video_2_15_jpg.rf.5ddb03a14c13b35bd593087455cb21bb.jpg: 256x416 1 Person, 16.8ms\n",
      "Speed: 1.9ms preprocess, 16.8ms inference, 3.1ms postprocess per image at shape (1, 3, 256, 416)\n"
     ]
    },
    {
     "name": "stderr",
     "output_type": "stream",
     "text": [
      " 32%|██████████████████████                                                | 389/1232 [00:41<01:27,  9.60it/s]"
     ]
    },
    {
     "name": "stdout",
     "output_type": "stream",
     "text": [
      "\n",
      "image 1/1 /mnt/c/Adrianov/Projects/trash-detector/Littering--8/test/images/video_2_15_jpg.rf.c92f20c2b283d8f09cc9d2f495a5cd88.jpg: 256x416 2 Persons, 12.9ms\n",
      "Speed: 1.7ms preprocess, 12.9ms inference, 3.1ms postprocess per image at shape (1, 3, 256, 416)\n",
      "\n",
      "image 1/1 /mnt/c/Adrianov/Projects/trash-detector/Littering--8/test/images/video_2_16_jpg.rf.21f2d0a477bc20c85faf9dc7ecbde303.jpg: 256x416 2 Persons, 12.8ms\n",
      "Speed: 1.7ms preprocess, 12.8ms inference, 1.8ms postprocess per image at shape (1, 3, 256, 416)\n"
     ]
    },
    {
     "name": "stderr",
     "output_type": "stream",
     "text": [
      " 32%|██████████████████████▏                                               | 391/1232 [00:41<01:22, 10.14it/s]"
     ]
    },
    {
     "name": "stdout",
     "output_type": "stream",
     "text": [
      "\n",
      "image 1/1 /mnt/c/Adrianov/Projects/trash-detector/Littering--8/test/images/video_2_16_jpg.rf.4c530a933459d6b8c54c77c84c511a11.jpg: 256x416 2 Persons, 14.7ms\n",
      "Speed: 1.8ms preprocess, 14.7ms inference, 1.4ms postprocess per image at shape (1, 3, 256, 416)\n",
      "\n",
      "image 1/1 /mnt/c/Adrianov/Projects/trash-detector/Littering--8/test/images/video_2_16_jpg.rf.4f047f9f24faddc2417ceadd28b17bb7.jpg: 256x416 2 Persons, 12.8ms\n",
      "Speed: 1.9ms preprocess, 12.8ms inference, 1.7ms postprocess per image at shape (1, 3, 256, 416)\n"
     ]
    },
    {
     "name": "stderr",
     "output_type": "stream",
     "text": [
      " 32%|██████████████████████▎                                               | 393/1232 [00:41<01:19, 10.56it/s]"
     ]
    },
    {
     "name": "stdout",
     "output_type": "stream",
     "text": [
      "\n",
      "image 1/1 /mnt/c/Adrianov/Projects/trash-detector/Littering--8/test/images/video_2_16_jpg.rf.a018e7349344bcf9664e4217c06d3083.jpg: 256x416 2 Persons, 14.8ms\n",
      "Speed: 1.8ms preprocess, 14.8ms inference, 1.6ms postprocess per image at shape (1, 3, 256, 416)\n",
      "\n",
      "image 1/1 /mnt/c/Adrianov/Projects/trash-detector/Littering--8/test/images/video_2_17_jpg.rf.09bdb2c9f2ea25216960372720df0697.jpg: 256x416 2 Persons, 13.1ms\n",
      "Speed: 2.0ms preprocess, 13.1ms inference, 1.8ms postprocess per image at shape (1, 3, 256, 416)\n"
     ]
    },
    {
     "name": "stderr",
     "output_type": "stream",
     "text": [
      " 32%|██████████████████████▍                                               | 395/1232 [00:41<01:23,  9.97it/s]"
     ]
    },
    {
     "name": "stdout",
     "output_type": "stream",
     "text": [
      "\n",
      "image 1/1 /mnt/c/Adrianov/Projects/trash-detector/Littering--8/test/images/video_2_17_jpg.rf.b60746ffbdd0f9f44bd81ea13c390324.jpg: 256x416 2 Persons, 13.9ms\n",
      "Speed: 2.4ms preprocess, 13.9ms inference, 1.6ms postprocess per image at shape (1, 3, 256, 416)\n",
      "\n",
      "image 1/1 /mnt/c/Adrianov/Projects/trash-detector/Littering--8/test/images/video_2_17_jpg.rf.c530d279bba6b7c3f9d0b1004b6795ff.jpg: 256x416 2 Persons, 14.6ms\n",
      "Speed: 2.1ms preprocess, 14.6ms inference, 1.4ms postprocess per image at shape (1, 3, 256, 416)\n"
     ]
    },
    {
     "name": "stderr",
     "output_type": "stream",
     "text": [
      " 32%|██████████████████████▌                                               | 397/1232 [00:42<01:37,  8.56it/s]"
     ]
    },
    {
     "name": "stdout",
     "output_type": "stream",
     "text": [
      "\n",
      "image 1/1 /mnt/c/Adrianov/Projects/trash-detector/Littering--8/test/images/video_2_17_jpg.rf.d8a3a4298e1b78c4eb087a419efe26b9.jpg: 256x416 2 Persons, 16.4ms\n",
      "Speed: 2.5ms preprocess, 16.4ms inference, 2.9ms postprocess per image at shape (1, 3, 256, 416)\n"
     ]
    },
    {
     "name": "stderr",
     "output_type": "stream",
     "text": [
      " 32%|██████████████████████▌                                               | 398/1232 [00:42<01:40,  8.28it/s]"
     ]
    },
    {
     "name": "stdout",
     "output_type": "stream",
     "text": [
      "\n",
      "image 1/1 /mnt/c/Adrianov/Projects/trash-detector/Littering--8/test/images/video_2_18_jpg.rf.2b290f1afcb17da20936491c91ebca42.jpg: 256x416 2 Persons, 21.5ms\n",
      "Speed: 2.5ms preprocess, 21.5ms inference, 8.0ms postprocess per image at shape (1, 3, 256, 416)\n"
     ]
    },
    {
     "name": "stderr",
     "output_type": "stream",
     "text": [
      " 32%|██████████████████████▋                                               | 399/1232 [00:42<01:41,  8.19it/s]"
     ]
    },
    {
     "name": "stdout",
     "output_type": "stream",
     "text": [
      "\n",
      "image 1/1 /mnt/c/Adrianov/Projects/trash-detector/Littering--8/test/images/video_2_18_jpg.rf.9121bed2f0485ee5b8d8bb9ebb7492f1.jpg: 256x416 2 Persons, 15.6ms\n",
      "Speed: 4.6ms preprocess, 15.6ms inference, 3.6ms postprocess per image at shape (1, 3, 256, 416)\n"
     ]
    },
    {
     "name": "stderr",
     "output_type": "stream",
     "text": [
      " 32%|██████████████████████▋                                               | 400/1232 [00:42<01:38,  8.47it/s]"
     ]
    },
    {
     "name": "stdout",
     "output_type": "stream",
     "text": [
      "\n",
      "image 1/1 /mnt/c/Adrianov/Projects/trash-detector/Littering--8/test/images/video_2_18_jpg.rf.b10aa202f7388a547b6528c7a235bf30.jpg: 256x416 2 Persons, 12.9ms\n",
      "Speed: 2.4ms preprocess, 12.9ms inference, 1.4ms postprocess per image at shape (1, 3, 256, 416)\n",
      "\n",
      "image 1/1 /mnt/c/Adrianov/Projects/trash-detector/Littering--8/test/images/video_2_18_jpg.rf.e889ea4e2ab9d0c1aac3b3e5ded5a4ef.jpg: 256x416 1 Person, 14.8ms\n",
      "Speed: 2.3ms preprocess, 14.8ms inference, 1.4ms postprocess per image at shape (1, 3, 256, 416)\n"
     ]
    },
    {
     "name": "stderr",
     "output_type": "stream",
     "text": [
      " 33%|██████████████████████▊                                               | 402/1232 [00:42<01:27,  9.50it/s]"
     ]
    },
    {
     "name": "stdout",
     "output_type": "stream",
     "text": [
      "\n",
      "image 1/1 /mnt/c/Adrianov/Projects/trash-detector/Littering--8/test/images/video_2_19_jpg.rf.13b3c97e78a3a8ac9eedc16a3900a251.jpg: 256x416 2 Persons, 13.0ms\n",
      "Speed: 1.8ms preprocess, 13.0ms inference, 2.8ms postprocess per image at shape (1, 3, 256, 416)\n",
      "\n",
      "image 1/1 /mnt/c/Adrianov/Projects/trash-detector/Littering--8/test/images/video_2_19_jpg.rf.3c2808f3b4516c9f5ddc6f220301b362.jpg: 256x416 2 Persons, 12.9ms\n",
      "Speed: 2.1ms preprocess, 12.9ms inference, 1.6ms postprocess per image at shape (1, 3, 256, 416)\n"
     ]
    },
    {
     "name": "stderr",
     "output_type": "stream",
     "text": [
      " 33%|██████████████████████▉                                               | 404/1232 [00:42<01:22, 10.00it/s]"
     ]
    },
    {
     "name": "stdout",
     "output_type": "stream",
     "text": [
      "\n",
      "image 1/1 /mnt/c/Adrianov/Projects/trash-detector/Littering--8/test/images/video_2_19_jpg.rf.53d8e4d639df6b27c5458b0827758f1b.jpg: 256x416 1 Person, 17.8ms\n",
      "Speed: 2.2ms preprocess, 17.8ms inference, 1.5ms postprocess per image at shape (1, 3, 256, 416)\n",
      "\n",
      "image 1/1 /mnt/c/Adrianov/Projects/trash-detector/Littering--8/test/images/video_2_19_jpg.rf.f307e1fb82b2dfa540655c0afc942a0d.jpg: 256x416 2 Persons, 12.8ms\n",
      "Speed: 1.8ms preprocess, 12.8ms inference, 1.6ms postprocess per image at shape (1, 3, 256, 416)\n"
     ]
    },
    {
     "name": "stderr",
     "output_type": "stream",
     "text": [
      " 33%|███████████████████████                                               | 406/1232 [00:43<01:20, 10.22it/s]"
     ]
    },
    {
     "name": "stdout",
     "output_type": "stream",
     "text": [
      "\n",
      "image 1/1 /mnt/c/Adrianov/Projects/trash-detector/Littering--8/test/images/video_2_1_jpg.rf.0d6701de98bde6ef22402bdb770ea715.jpg: 256x416 2 Persons, 16.3ms\n",
      "Speed: 2.1ms preprocess, 16.3ms inference, 1.4ms postprocess per image at shape (1, 3, 256, 416)\n",
      "\n",
      "image 1/1 /mnt/c/Adrianov/Projects/trash-detector/Littering--8/test/images/video_2_1_jpg.rf.3873a9a3d0682aa2c57ce7eb0f250850.jpg: 256x416 2 Persons, 12.9ms\n",
      "Speed: 2.1ms preprocess, 12.9ms inference, 1.8ms postprocess per image at shape (1, 3, 256, 416)\n"
     ]
    },
    {
     "name": "stderr",
     "output_type": "stream",
     "text": [
      " 33%|███████████████████████▏                                              | 408/1232 [00:43<01:20, 10.27it/s]"
     ]
    },
    {
     "name": "stdout",
     "output_type": "stream",
     "text": [
      "\n",
      "image 1/1 /mnt/c/Adrianov/Projects/trash-detector/Littering--8/test/images/video_2_1_jpg.rf.dc5218701a3ceb6964e6989ebd3aee2c.jpg: 256x416 2 Persons, 12.9ms\n",
      "Speed: 1.6ms preprocess, 12.9ms inference, 3.4ms postprocess per image at shape (1, 3, 256, 416)\n",
      "\n",
      "image 1/1 /mnt/c/Adrianov/Projects/trash-detector/Littering--8/test/images/video_2_1_jpg.rf.f8ac77fcc031e3cfd595349b1949e5ad.jpg: 256x416 1 Person, 12.9ms\n",
      "Speed: 2.1ms preprocess, 12.9ms inference, 1.4ms postprocess per image at shape (1, 3, 256, 416)\n"
     ]
    },
    {
     "name": "stderr",
     "output_type": "stream",
     "text": [
      " 33%|███████████████████████▎                                              | 410/1232 [00:43<01:16, 10.74it/s]"
     ]
    },
    {
     "name": "stdout",
     "output_type": "stream",
     "text": [
      "\n",
      "image 1/1 /mnt/c/Adrianov/Projects/trash-detector/Littering--8/test/images/video_2_20_jpg.rf.633e05583a33f042576ebbe149887e15.jpg: 256x416 1 Person, 12.9ms\n",
      "Speed: 2.1ms preprocess, 12.9ms inference, 1.7ms postprocess per image at shape (1, 3, 256, 416)\n",
      "\n",
      "image 1/1 /mnt/c/Adrianov/Projects/trash-detector/Littering--8/test/images/video_2_20_jpg.rf.74e4764d8c594d1e2bcadefa66a6a249.jpg: 256x416 2 Persons, 12.8ms\n",
      "Speed: 1.9ms preprocess, 12.8ms inference, 1.5ms postprocess per image at shape (1, 3, 256, 416)\n"
     ]
    },
    {
     "name": "stderr",
     "output_type": "stream",
     "text": [
      " 33%|███████████████████████▍                                              | 412/1232 [00:43<01:13, 11.11it/s]"
     ]
    },
    {
     "name": "stdout",
     "output_type": "stream",
     "text": [
      "\n",
      "image 1/1 /mnt/c/Adrianov/Projects/trash-detector/Littering--8/test/images/video_2_20_jpg.rf.823a017dcdcb9bb3d753d1906214393b.jpg: 256x416 2 Persons, 13.4ms\n",
      "Speed: 1.8ms preprocess, 13.4ms inference, 1.4ms postprocess per image at shape (1, 3, 256, 416)\n",
      "\n",
      "image 1/1 /mnt/c/Adrianov/Projects/trash-detector/Littering--8/test/images/video_2_20_jpg.rf.b4428c212a074fda7616460b817e414e.jpg: 256x416 2 Persons, 12.9ms\n",
      "Speed: 1.7ms preprocess, 12.9ms inference, 3.2ms postprocess per image at shape (1, 3, 256, 416)\n"
     ]
    },
    {
     "name": "stderr",
     "output_type": "stream",
     "text": [
      " 34%|███████████████████████▌                                              | 414/1232 [00:43<01:13, 11.19it/s]"
     ]
    },
    {
     "name": "stdout",
     "output_type": "stream",
     "text": [
      "\n",
      "image 1/1 /mnt/c/Adrianov/Projects/trash-detector/Littering--8/test/images/video_2_21_jpg.rf.76e9a519b37dca6d50e4b29f68d1f13a.jpg: 256x416 2 Persons, 12.9ms\n",
      "Speed: 1.9ms preprocess, 12.9ms inference, 1.5ms postprocess per image at shape (1, 3, 256, 416)\n",
      "\n",
      "image 1/1 /mnt/c/Adrianov/Projects/trash-detector/Littering--8/test/images/video_2_21_jpg.rf.91b49abb307f63781eb1697af11dd204.jpg: 256x416 2 Persons, 13.0ms\n",
      "Speed: 2.2ms preprocess, 13.0ms inference, 3.4ms postprocess per image at shape (1, 3, 256, 416)\n"
     ]
    },
    {
     "name": "stderr",
     "output_type": "stream",
     "text": [
      " 34%|███████████████████████▋                                              | 416/1232 [00:43<01:13, 11.13it/s]"
     ]
    },
    {
     "name": "stdout",
     "output_type": "stream",
     "text": [
      "\n",
      "image 1/1 /mnt/c/Adrianov/Projects/trash-detector/Littering--8/test/images/video_2_21_jpg.rf.c71ad38c3a53a88b07268660129cff16.jpg: 256x416 2 Persons, 12.8ms\n",
      "Speed: 1.8ms preprocess, 12.8ms inference, 1.9ms postprocess per image at shape (1, 3, 256, 416)\n",
      "\n",
      "image 1/1 /mnt/c/Adrianov/Projects/trash-detector/Littering--8/test/images/video_2_21_jpg.rf.e636508e266c030c5953ec60d55640ec.jpg: 256x416 1 Person, 12.8ms\n",
      "Speed: 1.6ms preprocess, 12.8ms inference, 1.8ms postprocess per image at shape (1, 3, 256, 416)\n"
     ]
    },
    {
     "name": "stderr",
     "output_type": "stream",
     "text": [
      " 34%|███████████████████████▊                                              | 418/1232 [00:44<01:11, 11.32it/s]"
     ]
    },
    {
     "name": "stdout",
     "output_type": "stream",
     "text": [
      "\n",
      "image 1/1 /mnt/c/Adrianov/Projects/trash-detector/Littering--8/test/images/video_2_22_jpg.rf.1ebc100bb78c383b072ec2fdf0f68ca1.jpg: 256x416 1 Person, 13.6ms\n",
      "Speed: 1.8ms preprocess, 13.6ms inference, 2.7ms postprocess per image at shape (1, 3, 256, 416)\n",
      "\n",
      "image 1/1 /mnt/c/Adrianov/Projects/trash-detector/Littering--8/test/images/video_2_22_jpg.rf.4580f8a8e1d8242a2b1028bf88655d43.jpg: 256x416 2 Persons, 16.5ms\n",
      "Speed: 2.3ms preprocess, 16.5ms inference, 1.5ms postprocess per image at shape (1, 3, 256, 416)\n"
     ]
    },
    {
     "name": "stderr",
     "output_type": "stream",
     "text": [
      " 34%|███████████████████████▊                                              | 420/1232 [00:44<01:13, 11.04it/s]"
     ]
    },
    {
     "name": "stdout",
     "output_type": "stream",
     "text": [
      "\n",
      "image 1/1 /mnt/c/Adrianov/Projects/trash-detector/Littering--8/test/images/video_2_22_jpg.rf.579898b3e33a5c118a9ebf2234986c5c.jpg: 256x416 2 Persons, 16.8ms\n",
      "Speed: 2.1ms preprocess, 16.8ms inference, 1.5ms postprocess per image at shape (1, 3, 256, 416)\n",
      "\n",
      "image 1/1 /mnt/c/Adrianov/Projects/trash-detector/Littering--8/test/images/video_2_22_jpg.rf.598bea731d166590c4a16e5b9b7b45fe.jpg: 256x416 2 Persons, 16.6ms\n",
      "Speed: 2.4ms preprocess, 16.6ms inference, 1.9ms postprocess per image at shape (1, 3, 256, 416)\n"
     ]
    },
    {
     "name": "stderr",
     "output_type": "stream",
     "text": [
      " 34%|███████████████████████▉                                              | 422/1232 [00:44<01:26,  9.32it/s]"
     ]
    },
    {
     "name": "stdout",
     "output_type": "stream",
     "text": [
      "\n",
      "image 1/1 /mnt/c/Adrianov/Projects/trash-detector/Littering--8/test/images/video_2_23_jpg.rf.07802124604ba676117e019eeb74171f.jpg: 256x416 2 Persons, 13.1ms\n",
      "Speed: 2.8ms preprocess, 13.1ms inference, 2.7ms postprocess per image at shape (1, 3, 256, 416)\n"
     ]
    },
    {
     "name": "stderr",
     "output_type": "stream",
     "text": [
      " 34%|████████████████████████                                              | 423/1232 [00:44<01:28,  9.16it/s]"
     ]
    },
    {
     "name": "stdout",
     "output_type": "stream",
     "text": [
      "\n",
      "image 1/1 /mnt/c/Adrianov/Projects/trash-detector/Littering--8/test/images/video_2_23_jpg.rf.1156ff1b59296294fa39bbd2d32099cf.jpg: 256x416 2 Persons, 21.2ms\n",
      "Speed: 2.4ms preprocess, 21.2ms inference, 1.9ms postprocess per image at shape (1, 3, 256, 416)\n"
     ]
    },
    {
     "name": "stderr",
     "output_type": "stream",
     "text": [
      " 34%|████████████████████████                                              | 424/1232 [00:44<01:26,  9.31it/s]"
     ]
    },
    {
     "name": "stdout",
     "output_type": "stream",
     "text": [
      "\n",
      "image 1/1 /mnt/c/Adrianov/Projects/trash-detector/Littering--8/test/images/video_2_23_jpg.rf.66536f08caf90d379c36aa918eb0304d.jpg: 256x416 2 Persons, 12.9ms\n",
      "Speed: 1.9ms preprocess, 12.9ms inference, 2.4ms postprocess per image at shape (1, 3, 256, 416)\n",
      "\n",
      "image 1/1 /mnt/c/Adrianov/Projects/trash-detector/Littering--8/test/images/video_2_23_jpg.rf.8c0757e213c86c15cc9b9eafb7c54f82.jpg: 256x416 1 Person, 17.0ms\n",
      "Speed: 2.1ms preprocess, 17.0ms inference, 1.5ms postprocess per image at shape (1, 3, 256, 416)\n"
     ]
    },
    {
     "name": "stderr",
     "output_type": "stream",
     "text": [
      " 35%|████████████████████████▏                                             | 426/1232 [00:44<01:21,  9.83it/s]"
     ]
    },
    {
     "name": "stdout",
     "output_type": "stream",
     "text": [
      "\n",
      "image 1/1 /mnt/c/Adrianov/Projects/trash-detector/Littering--8/test/images/video_2_24_jpg.rf.80dc9896faa767057664d4df79f9671f.jpg: 256x416 2 Persons, 12.9ms\n",
      "Speed: 5.4ms preprocess, 12.9ms inference, 1.6ms postprocess per image at shape (1, 3, 256, 416)\n",
      "\n",
      "image 1/1 /mnt/c/Adrianov/Projects/trash-detector/Littering--8/test/images/video_2_24_jpg.rf.901ce3d43c22ae797fdf85496f18ee4a.jpg: 256x416 2 Persons, 13.2ms\n",
      "Speed: 2.0ms preprocess, 13.2ms inference, 1.8ms postprocess per image at shape (1, 3, 256, 416)\n"
     ]
    },
    {
     "name": "stderr",
     "output_type": "stream",
     "text": [
      " 35%|████████████████████████▎                                             | 428/1232 [00:45<01:22,  9.74it/s]"
     ]
    },
    {
     "name": "stdout",
     "output_type": "stream",
     "text": [
      "\n",
      "image 1/1 /mnt/c/Adrianov/Projects/trash-detector/Littering--8/test/images/video_2_24_jpg.rf.b5113784784d36c35c6bb4dc5ebd4fb7.jpg: 256x416 1 Person, 12.8ms\n",
      "Speed: 2.0ms preprocess, 12.8ms inference, 1.6ms postprocess per image at shape (1, 3, 256, 416)\n"
     ]
    },
    {
     "name": "stderr",
     "output_type": "stream",
     "text": [
      " 35%|████████████████████████▍                                             | 429/1232 [00:45<01:31,  8.78it/s]"
     ]
    },
    {
     "name": "stdout",
     "output_type": "stream",
     "text": [
      "\n",
      "image 1/1 /mnt/c/Adrianov/Projects/trash-detector/Littering--8/test/images/video_2_24_jpg.rf.d7426f40e10dc1ab7627318a189c9d58.jpg: 256x416 2 Persons, 20.7ms\n",
      "Speed: 2.7ms preprocess, 20.7ms inference, 2.6ms postprocess per image at shape (1, 3, 256, 416)\n"
     ]
    },
    {
     "name": "stderr",
     "output_type": "stream",
     "text": [
      " 35%|████████████████████████▍                                             | 430/1232 [00:45<01:31,  8.74it/s]"
     ]
    },
    {
     "name": "stdout",
     "output_type": "stream",
     "text": [
      "\n",
      "image 1/1 /mnt/c/Adrianov/Projects/trash-detector/Littering--8/test/images/video_2_25_jpg.rf.1f3af960c84a36a502e2fd4ecfd2b836.jpg: 256x416 1 Person, 12.9ms\n",
      "Speed: 3.7ms preprocess, 12.9ms inference, 3.2ms postprocess per image at shape (1, 3, 256, 416)\n"
     ]
    },
    {
     "name": "stderr",
     "output_type": "stream",
     "text": [
      " 35%|████████████████████████▍                                             | 431/1232 [00:45<01:41,  7.92it/s]"
     ]
    },
    {
     "name": "stdout",
     "output_type": "stream",
     "text": [
      "\n",
      "image 1/1 /mnt/c/Adrianov/Projects/trash-detector/Littering--8/test/images/video_2_25_jpg.rf.2d442296b20698f70957faad26ed7640.jpg: 256x416 2 Persons, 13.2ms\n",
      "Speed: 2.1ms preprocess, 13.2ms inference, 1.8ms postprocess per image at shape (1, 3, 256, 416)\n"
     ]
    },
    {
     "name": "stderr",
     "output_type": "stream",
     "text": [
      " 35%|████████████████████████▌                                             | 432/1232 [00:45<01:42,  7.81it/s]"
     ]
    },
    {
     "name": "stdout",
     "output_type": "stream",
     "text": [
      "\n",
      "image 1/1 /mnt/c/Adrianov/Projects/trash-detector/Littering--8/test/images/video_2_25_jpg.rf.899facb2bc1c1b5eb9cdd2d1d458f2d0.jpg: 256x416 2 Persons, 18.5ms\n",
      "Speed: 4.4ms preprocess, 18.5ms inference, 1.8ms postprocess per image at shape (1, 3, 256, 416)\n",
      "\n",
      "image 1/1 /mnt/c/Adrianov/Projects/trash-detector/Littering--8/test/images/video_2_25_jpg.rf.972298b84b8c6e8165d5cecfde9d5009.jpg: 256x416 2 Persons, 15.2ms\n",
      "Speed: 1.9ms preprocess, 15.2ms inference, 2.4ms postprocess per image at shape (1, 3, 256, 416)\n"
     ]
    },
    {
     "name": "stderr",
     "output_type": "stream",
     "text": [
      " 35%|████████████████████████▋                                             | 434/1232 [00:45<01:31,  8.68it/s]"
     ]
    },
    {
     "name": "stdout",
     "output_type": "stream",
     "text": [
      "\n",
      "image 1/1 /mnt/c/Adrianov/Projects/trash-detector/Littering--8/test/images/video_2_26_jpg.rf.0a4b7b2713e346e829aabe47f4fda1dc.jpg: 256x416 2 Persons, 13.0ms\n",
      "Speed: 2.1ms preprocess, 13.0ms inference, 2.1ms postprocess per image at shape (1, 3, 256, 416)\n",
      "\n",
      "image 1/1 /mnt/c/Adrianov/Projects/trash-detector/Littering--8/test/images/video_2_26_jpg.rf.9d9ea89f4f881720d4a1cf14b6277a40.jpg: 256x416 2 Persons, 12.8ms\n",
      "Speed: 1.7ms preprocess, 12.8ms inference, 1.5ms postprocess per image at shape (1, 3, 256, 416)\n"
     ]
    },
    {
     "name": "stderr",
     "output_type": "stream",
     "text": [
      " 35%|████████████████████████▊                                             | 436/1232 [00:46<01:23,  9.55it/s]"
     ]
    },
    {
     "name": "stdout",
     "output_type": "stream",
     "text": [
      "\n",
      "image 1/1 /mnt/c/Adrianov/Projects/trash-detector/Littering--8/test/images/video_2_26_jpg.rf.ac466cb20cc3c796c13e7db0311d8fc8.jpg: 256x416 1 Person, 13.1ms\n",
      "Speed: 2.5ms preprocess, 13.1ms inference, 3.2ms postprocess per image at shape (1, 3, 256, 416)\n"
     ]
    },
    {
     "name": "stderr",
     "output_type": "stream",
     "text": [
      " 35%|████████████████████████▊                                             | 437/1232 [00:46<01:26,  9.23it/s]"
     ]
    },
    {
     "name": "stdout",
     "output_type": "stream",
     "text": [
      "\n",
      "image 1/1 /mnt/c/Adrianov/Projects/trash-detector/Littering--8/test/images/video_2_26_jpg.rf.e60d4ee46f1f7e87bcb370a4ad61fe6a.jpg: 256x416 2 Persons, 13.2ms\n",
      "Speed: 1.7ms preprocess, 13.2ms inference, 1.8ms postprocess per image at shape (1, 3, 256, 416)\n"
     ]
    },
    {
     "name": "stderr",
     "output_type": "stream",
     "text": [
      " 36%|████████████████████████▉                                             | 438/1232 [00:46<01:30,  8.75it/s]"
     ]
    },
    {
     "name": "stdout",
     "output_type": "stream",
     "text": [
      "\n",
      "image 1/1 /mnt/c/Adrianov/Projects/trash-detector/Littering--8/test/images/video_2_27_jpg.rf.26a10503ca6bcddeadf863c9fe8daadd.jpg: 256x416 2 Persons, 13.4ms\n",
      "Speed: 2.0ms preprocess, 13.4ms inference, 3.6ms postprocess per image at shape (1, 3, 256, 416)\n"
     ]
    },
    {
     "name": "stderr",
     "output_type": "stream",
     "text": [
      " 36%|████████████████████████▉                                             | 439/1232 [00:46<01:46,  7.48it/s]"
     ]
    },
    {
     "name": "stdout",
     "output_type": "stream",
     "text": [
      "\n",
      "image 1/1 /mnt/c/Adrianov/Projects/trash-detector/Littering--8/test/images/video_2_27_jpg.rf.742af948e41aab1162c84f0446a6399b.jpg: 256x416 1 Person, 14.8ms\n",
      "Speed: 2.2ms preprocess, 14.8ms inference, 1.5ms postprocess per image at shape (1, 3, 256, 416)\n"
     ]
    },
    {
     "name": "stderr",
     "output_type": "stream",
     "text": [
      " 36%|█████████████████████████                                             | 440/1232 [00:46<01:45,  7.53it/s]"
     ]
    },
    {
     "name": "stdout",
     "output_type": "stream",
     "text": [
      "\n",
      "image 1/1 /mnt/c/Adrianov/Projects/trash-detector/Littering--8/test/images/video_2_27_jpg.rf.8af1dba5f7efbcd0bfda890488beb3e1.jpg: 256x416 2 Persons, 15.5ms\n",
      "Speed: 2.9ms preprocess, 15.5ms inference, 2.4ms postprocess per image at shape (1, 3, 256, 416)\n"
     ]
    },
    {
     "name": "stderr",
     "output_type": "stream",
     "text": [
      " 36%|█████████████████████████                                             | 441/1232 [00:46<01:49,  7.20it/s]"
     ]
    },
    {
     "name": "stdout",
     "output_type": "stream",
     "text": [
      "\n",
      "image 1/1 /mnt/c/Adrianov/Projects/trash-detector/Littering--8/test/images/video_2_27_jpg.rf.8b7eac1f75230a311abe9af5cb98d4b3.jpg: 256x416 2 Persons, 14.3ms\n",
      "Speed: 2.2ms preprocess, 14.3ms inference, 2.3ms postprocess per image at shape (1, 3, 256, 416)\n"
     ]
    },
    {
     "name": "stderr",
     "output_type": "stream",
     "text": [
      " 36%|█████████████████████████                                             | 442/1232 [00:47<02:00,  6.54it/s]"
     ]
    },
    {
     "name": "stdout",
     "output_type": "stream",
     "text": [
      "\n",
      "image 1/1 /mnt/c/Adrianov/Projects/trash-detector/Littering--8/test/images/video_2_28_jpg.rf.09aa0d9c03942c67a04d50f335653133.jpg: 256x416 2 Persons, 13.0ms\n",
      "Speed: 2.0ms preprocess, 13.0ms inference, 2.1ms postprocess per image at shape (1, 3, 256, 416)\n"
     ]
    },
    {
     "name": "stderr",
     "output_type": "stream",
     "text": [
      " 36%|█████████████████████████▏                                            | 443/1232 [00:47<01:49,  7.23it/s]"
     ]
    },
    {
     "name": "stdout",
     "output_type": "stream",
     "text": [
      "\n",
      "image 1/1 /mnt/c/Adrianov/Projects/trash-detector/Littering--8/test/images/video_2_28_jpg.rf.2f376e9c54c8049e7e616ba85a9a8369.jpg: 256x416 2 Persons, 13.4ms\n",
      "Speed: 2.2ms preprocess, 13.4ms inference, 2.1ms postprocess per image at shape (1, 3, 256, 416)\n",
      "\n",
      "image 1/1 /mnt/c/Adrianov/Projects/trash-detector/Littering--8/test/images/video_2_28_jpg.rf.534d0c5f74816e25e6f2e6911ffe64cb.jpg: 256x416 2 Persons, 13.2ms\n",
      "Speed: 1.9ms preprocess, 13.2ms inference, 2.3ms postprocess per image at shape (1, 3, 256, 416)\n"
     ]
    },
    {
     "name": "stderr",
     "output_type": "stream",
     "text": [
      " 36%|█████████████████████████▎                                            | 445/1232 [00:47<01:33,  8.43it/s]"
     ]
    },
    {
     "name": "stdout",
     "output_type": "stream",
     "text": [
      "\n",
      "image 1/1 /mnt/c/Adrianov/Projects/trash-detector/Littering--8/test/images/video_2_28_jpg.rf.6f15d22666902288235b06dc7e6bec3f.jpg: 256x416 1 Person, 13.1ms\n",
      "Speed: 2.2ms preprocess, 13.1ms inference, 1.4ms postprocess per image at shape (1, 3, 256, 416)\n",
      "\n",
      "image 1/1 /mnt/c/Adrianov/Projects/trash-detector/Littering--8/test/images/video_2_29_jpg.rf.4e25358556f0c780600cdf533585518a.jpg: 256x416 2 Persons, 13.0ms\n",
      "Speed: 3.2ms preprocess, 13.0ms inference, 1.4ms postprocess per image at shape (1, 3, 256, 416)\n"
     ]
    },
    {
     "name": "stderr",
     "output_type": "stream",
     "text": [
      " 36%|█████████████████████████▍                                            | 447/1232 [00:47<01:25,  9.15it/s]"
     ]
    },
    {
     "name": "stdout",
     "output_type": "stream",
     "text": [
      "\n",
      "image 1/1 /mnt/c/Adrianov/Projects/trash-detector/Littering--8/test/images/video_2_29_jpg.rf.7a1ac3a535e4ddc1f7fa7ff64a011685.jpg: 256x416 1 Person, 12.9ms\n",
      "Speed: 2.1ms preprocess, 12.9ms inference, 1.7ms postprocess per image at shape (1, 3, 256, 416)\n"
     ]
    },
    {
     "name": "stderr",
     "output_type": "stream",
     "text": [
      " 36%|█████████████████████████▍                                            | 448/1232 [00:47<01:24,  9.32it/s]"
     ]
    },
    {
     "name": "stdout",
     "output_type": "stream",
     "text": [
      "\n",
      "image 1/1 /mnt/c/Adrianov/Projects/trash-detector/Littering--8/test/images/video_2_29_jpg.rf.9ee840c35f5b536f684a1a9567fecd89.jpg: 256x416 2 Persons, 13.0ms\n",
      "Speed: 2.4ms preprocess, 13.0ms inference, 2.0ms postprocess per image at shape (1, 3, 256, 416)\n",
      "\n",
      "image 1/1 /mnt/c/Adrianov/Projects/trash-detector/Littering--8/test/images/video_2_29_jpg.rf.a7e953a7cc7dbc745952ff0563eacc46.jpg: 256x416 2 Persons, 18.0ms\n",
      "Speed: 4.5ms preprocess, 18.0ms inference, 2.4ms postprocess per image at shape (1, 3, 256, 416)\n"
     ]
    },
    {
     "name": "stderr",
     "output_type": "stream",
     "text": [
      " 37%|█████████████████████████▌                                            | 450/1232 [00:47<01:18, 10.00it/s]"
     ]
    },
    {
     "name": "stdout",
     "output_type": "stream",
     "text": [
      "\n",
      "image 1/1 /mnt/c/Adrianov/Projects/trash-detector/Littering--8/test/images/video_2_2_jpg.rf.1dd98156fd8273244a743945733cc4a8.jpg: 256x416 2 Persons, 15.7ms\n",
      "Speed: 2.2ms preprocess, 15.7ms inference, 1.5ms postprocess per image at shape (1, 3, 256, 416)\n",
      "\n",
      "image 1/1 /mnt/c/Adrianov/Projects/trash-detector/Littering--8/test/images/video_2_2_jpg.rf.5cbccbda80d35ebc4c83c59616758b56.jpg: 256x416 2 Persons, 13.0ms\n",
      "Speed: 2.3ms preprocess, 13.0ms inference, 3.1ms postprocess per image at shape (1, 3, 256, 416)\n"
     ]
    },
    {
     "name": "stderr",
     "output_type": "stream",
     "text": [
      " 37%|█████████████████████████▋                                            | 452/1232 [00:47<01:14, 10.52it/s]"
     ]
    },
    {
     "name": "stdout",
     "output_type": "stream",
     "text": [
      "\n",
      "image 1/1 /mnt/c/Adrianov/Projects/trash-detector/Littering--8/test/images/video_2_2_jpg.rf.a18f66fb4eb905bd1e135b4389935079.jpg: 256x416 1 Person, 13.0ms\n",
      "Speed: 2.6ms preprocess, 13.0ms inference, 1.7ms postprocess per image at shape (1, 3, 256, 416)\n",
      "\n",
      "image 1/1 /mnt/c/Adrianov/Projects/trash-detector/Littering--8/test/images/video_2_2_jpg.rf.ca80bc24b2b3f1c82a427d258ce6ef19.jpg: 256x416 2 Persons, 13.8ms\n",
      "Speed: 2.1ms preprocess, 13.8ms inference, 1.6ms postprocess per image at shape (1, 3, 256, 416)\n"
     ]
    },
    {
     "name": "stderr",
     "output_type": "stream",
     "text": [
      " 37%|█████████████████████████▊                                            | 454/1232 [00:48<01:10, 11.02it/s]"
     ]
    },
    {
     "name": "stdout",
     "output_type": "stream",
     "text": [
      "\n",
      "image 1/1 /mnt/c/Adrianov/Projects/trash-detector/Littering--8/test/images/video_2_30_jpg.rf.212d9d883d3d13c2268af3f172ebfeef.jpg: 256x416 2 Persons, 13.3ms\n",
      "Speed: 1.6ms preprocess, 13.3ms inference, 1.5ms postprocess per image at shape (1, 3, 256, 416)\n",
      "\n",
      "image 1/1 /mnt/c/Adrianov/Projects/trash-detector/Littering--8/test/images/video_2_30_jpg.rf.8b9710bf7a681389fb68211ff2d260c8.jpg: 256x416 1 Person, 20.9ms\n",
      "Speed: 1.8ms preprocess, 20.9ms inference, 2.6ms postprocess per image at shape (1, 3, 256, 416)\n"
     ]
    },
    {
     "name": "stderr",
     "output_type": "stream",
     "text": [
      " 37%|█████████████████████████▉                                            | 456/1232 [00:48<01:10, 11.06it/s]"
     ]
    },
    {
     "name": "stdout",
     "output_type": "stream",
     "text": [
      "\n",
      "image 1/1 /mnt/c/Adrianov/Projects/trash-detector/Littering--8/test/images/video_2_30_jpg.rf.9fa87005a400337a8b498690e4b34d0a.jpg: 256x416 2 Persons, 12.9ms\n",
      "Speed: 1.9ms preprocess, 12.9ms inference, 2.2ms postprocess per image at shape (1, 3, 256, 416)\n",
      "\n",
      "image 1/1 /mnt/c/Adrianov/Projects/trash-detector/Littering--8/test/images/video_2_30_jpg.rf.a0a057e70d542f3d69dc80b1ef2729dd.jpg: 256x416 2 Persons, 13.2ms\n",
      "Speed: 2.1ms preprocess, 13.2ms inference, 1.4ms postprocess per image at shape (1, 3, 256, 416)\n"
     ]
    },
    {
     "name": "stderr",
     "output_type": "stream",
     "text": [
      " 37%|██████████████████████████                                            | 458/1232 [00:48<01:09, 11.14it/s]"
     ]
    },
    {
     "name": "stdout",
     "output_type": "stream",
     "text": [
      "\n",
      "image 1/1 /mnt/c/Adrianov/Projects/trash-detector/Littering--8/test/images/video_2_3_jpg.rf.1e7ff8183af7e5e11c7c47ec04937889.jpg: 256x416 2 Persons, 13.0ms\n",
      "Speed: 2.1ms preprocess, 13.0ms inference, 1.7ms postprocess per image at shape (1, 3, 256, 416)\n",
      "\n",
      "image 1/1 /mnt/c/Adrianov/Projects/trash-detector/Littering--8/test/images/video_2_3_jpg.rf.301645809073a476e72b29555e6b63e8.jpg: 256x416 1 Person, 12.9ms\n",
      "Speed: 1.8ms preprocess, 12.9ms inference, 1.3ms postprocess per image at shape (1, 3, 256, 416)\n"
     ]
    },
    {
     "name": "stderr",
     "output_type": "stream",
     "text": [
      " 37%|██████████████████████████▏                                           | 460/1232 [00:48<01:08, 11.28it/s]"
     ]
    },
    {
     "name": "stdout",
     "output_type": "stream",
     "text": [
      "\n",
      "image 1/1 /mnt/c/Adrianov/Projects/trash-detector/Littering--8/test/images/video_2_3_jpg.rf.a9efddc6069ad0062657100aef960a6f.jpg: 256x416 2 Persons, 12.8ms\n",
      "Speed: 2.0ms preprocess, 12.8ms inference, 9.6ms postprocess per image at shape (1, 3, 256, 416)\n",
      "\n",
      "image 1/1 /mnt/c/Adrianov/Projects/trash-detector/Littering--8/test/images/video_2_3_jpg.rf.f7d9e81491425f9d75cbd08cc305ae4c.jpg: 256x416 2 Persons, 12.9ms\n",
      "Speed: 1.9ms preprocess, 12.9ms inference, 2.0ms postprocess per image at shape (1, 3, 256, 416)\n"
     ]
    },
    {
     "name": "stderr",
     "output_type": "stream",
     "text": [
      " 38%|██████████████████████████▎                                           | 462/1232 [00:48<01:10, 10.90it/s]"
     ]
    },
    {
     "name": "stdout",
     "output_type": "stream",
     "text": [
      "\n",
      "image 1/1 /mnt/c/Adrianov/Projects/trash-detector/Littering--8/test/images/video_2_4_jpg.rf.9c0a710e32ef62a95513f551e3390943.jpg: 256x416 2 Persons, 14.5ms\n",
      "Speed: 2.0ms preprocess, 14.5ms inference, 1.7ms postprocess per image at shape (1, 3, 256, 416)\n",
      "\n",
      "image 1/1 /mnt/c/Adrianov/Projects/trash-detector/Littering--8/test/images/video_2_4_jpg.rf.a7e47968da0f4e5f085e075126a5f74d.jpg: 256x416 2 Persons, 12.9ms\n",
      "Speed: 1.9ms preprocess, 12.9ms inference, 1.5ms postprocess per image at shape (1, 3, 256, 416)\n"
     ]
    },
    {
     "name": "stderr",
     "output_type": "stream",
     "text": [
      " 38%|██████████████████████████▎                                           | 464/1232 [00:49<01:12, 10.59it/s]"
     ]
    },
    {
     "name": "stdout",
     "output_type": "stream",
     "text": [
      "\n",
      "image 1/1 /mnt/c/Adrianov/Projects/trash-detector/Littering--8/test/images/video_2_4_jpg.rf.ad00a9baad2c5c0df593477cd03f375d.jpg: 256x416 2 Persons, 12.8ms\n",
      "Speed: 1.9ms preprocess, 12.8ms inference, 1.4ms postprocess per image at shape (1, 3, 256, 416)\n",
      "\n",
      "image 1/1 /mnt/c/Adrianov/Projects/trash-detector/Littering--8/test/images/video_2_4_jpg.rf.aefd03e0db6c907673a4548297d8a4cf.jpg: 256x416 1 Person, 12.9ms\n",
      "Speed: 3.0ms preprocess, 12.9ms inference, 3.0ms postprocess per image at shape (1, 3, 256, 416)\n"
     ]
    },
    {
     "name": "stderr",
     "output_type": "stream",
     "text": [
      " 38%|██████████████████████████▍                                           | 466/1232 [00:49<01:14, 10.24it/s]"
     ]
    },
    {
     "name": "stdout",
     "output_type": "stream",
     "text": [
      "\n",
      "image 1/1 /mnt/c/Adrianov/Projects/trash-detector/Littering--8/test/images/video_2_5_jpg.rf.5d5050bce2cca1bb82bd534f51196b42.jpg: 256x416 1 Person, 16.8ms\n",
      "Speed: 2.2ms preprocess, 16.8ms inference, 1.9ms postprocess per image at shape (1, 3, 256, 416)\n",
      "\n",
      "image 1/1 /mnt/c/Adrianov/Projects/trash-detector/Littering--8/test/images/video_2_5_jpg.rf.6ccafaf5ef985220887dd2c5d9a0065b.jpg: 256x416 2 Persons, 13.4ms\n",
      "Speed: 3.1ms preprocess, 13.4ms inference, 1.6ms postprocess per image at shape (1, 3, 256, 416)\n"
     ]
    },
    {
     "name": "stderr",
     "output_type": "stream",
     "text": [
      " 38%|██████████████████████████▌                                           | 468/1232 [00:49<01:26,  8.83it/s]"
     ]
    },
    {
     "name": "stdout",
     "output_type": "stream",
     "text": [
      "\n",
      "image 1/1 /mnt/c/Adrianov/Projects/trash-detector/Littering--8/test/images/video_2_5_jpg.rf.97efb1f3f6ac42dfe68a6f7bfcbee2db.jpg: 256x416 2 Persons, 12.9ms\n",
      "Speed: 2.6ms preprocess, 12.9ms inference, 2.6ms postprocess per image at shape (1, 3, 256, 416)\n"
     ]
    },
    {
     "name": "stderr",
     "output_type": "stream",
     "text": [
      " 38%|██████████████████████████▋                                           | 469/1232 [00:49<01:29,  8.48it/s]"
     ]
    },
    {
     "name": "stdout",
     "output_type": "stream",
     "text": [
      "\n",
      "image 1/1 /mnt/c/Adrianov/Projects/trash-detector/Littering--8/test/images/video_2_5_jpg.rf.b8e2bacf8988998ae117ea9228a2b9b3.jpg: 256x416 2 Persons, 13.1ms\n",
      "Speed: 3.0ms preprocess, 13.1ms inference, 2.1ms postprocess per image at shape (1, 3, 256, 416)\n"
     ]
    },
    {
     "name": "stderr",
     "output_type": "stream",
     "text": [
      " 38%|██████████████████████████▋                                           | 470/1232 [00:49<01:31,  8.32it/s]"
     ]
    },
    {
     "name": "stdout",
     "output_type": "stream",
     "text": [
      "\n",
      "image 1/1 /mnt/c/Adrianov/Projects/trash-detector/Littering--8/test/images/video_2_6_jpg.rf.11741f685d53f8f62d70ba0ddf0af655.jpg: 256x416 2 Persons, 12.9ms\n",
      "Speed: 2.1ms preprocess, 12.9ms inference, 1.9ms postprocess per image at shape (1, 3, 256, 416)\n"
     ]
    },
    {
     "name": "stderr",
     "output_type": "stream",
     "text": [
      " 38%|██████████████████████████▊                                           | 471/1232 [00:49<01:32,  8.21it/s]"
     ]
    },
    {
     "name": "stdout",
     "output_type": "stream",
     "text": [
      "\n",
      "image 1/1 /mnt/c/Adrianov/Projects/trash-detector/Littering--8/test/images/video_2_6_jpg.rf.434e11916ed4939606fbd8c4c8eff82f.jpg: 256x416 2 Persons, 13.3ms\n",
      "Speed: 3.5ms preprocess, 13.3ms inference, 1.6ms postprocess per image at shape (1, 3, 256, 416)\n",
      "\n",
      "image 1/1 /mnt/c/Adrianov/Projects/trash-detector/Littering--8/test/images/video_2_6_jpg.rf.459ba30e0603d26873c0a9deedf2ebb4.jpg: 256x416 2 Persons, 17.2ms\n",
      "Speed: 2.2ms preprocess, 17.2ms inference, 1.5ms postprocess per image at shape (1, 3, 256, 416)\n"
     ]
    },
    {
     "name": "stderr",
     "output_type": "stream",
     "text": [
      " 38%|██████████████████████████▉                                           | 473/1232 [00:50<01:20,  9.42it/s]"
     ]
    },
    {
     "name": "stdout",
     "output_type": "stream",
     "text": [
      "\n",
      "image 1/1 /mnt/c/Adrianov/Projects/trash-detector/Littering--8/test/images/video_2_6_jpg.rf.61c5df5950eca52836ad902a29606acf.jpg: 256x416 1 Person, 12.8ms\n",
      "Speed: 1.7ms preprocess, 12.8ms inference, 2.8ms postprocess per image at shape (1, 3, 256, 416)\n",
      "\n",
      "image 1/1 /mnt/c/Adrianov/Projects/trash-detector/Littering--8/test/images/video_2_7_jpg.rf.0f055f601a11396bd8fbc16a0a28559a.jpg: 256x416 2 Persons, 20.6ms\n",
      "Speed: 3.7ms preprocess, 20.6ms inference, 2.8ms postprocess per image at shape (1, 3, 256, 416)\n"
     ]
    },
    {
     "name": "stderr",
     "output_type": "stream",
     "text": [
      " 39%|██████████████████████████▉                                           | 475/1232 [00:50<01:17,  9.72it/s]"
     ]
    },
    {
     "name": "stdout",
     "output_type": "stream",
     "text": [
      "\n",
      "image 1/1 /mnt/c/Adrianov/Projects/trash-detector/Littering--8/test/images/video_2_7_jpg.rf.512a985e0f4644bcd758c22021829a7b.jpg: 256x416 2 Persons, 13.0ms\n",
      "Speed: 1.9ms preprocess, 13.0ms inference, 1.6ms postprocess per image at shape (1, 3, 256, 416)\n"
     ]
    },
    {
     "name": "stderr",
     "output_type": "stream",
     "text": [
      " 39%|███████████████████████████                                           | 476/1232 [00:50<01:17,  9.75it/s]"
     ]
    },
    {
     "name": "stdout",
     "output_type": "stream",
     "text": [
      "\n",
      "image 1/1 /mnt/c/Adrianov/Projects/trash-detector/Littering--8/test/images/video_2_7_jpg.rf.60df69bcc785f5eaff43848a6ae46a6c.jpg: 256x416 3 Persons, 12.9ms\n",
      "Speed: 2.0ms preprocess, 12.9ms inference, 2.2ms postprocess per image at shape (1, 3, 256, 416)\n",
      "\n",
      "image 1/1 /mnt/c/Adrianov/Projects/trash-detector/Littering--8/test/images/video_2_7_jpg.rf.b90c9bc26ccbe1339163b44de4086ca6.jpg: 256x416 1 Person, 16.3ms\n",
      "Speed: 2.0ms preprocess, 16.3ms inference, 2.6ms postprocess per image at shape (1, 3, 256, 416)\n"
     ]
    },
    {
     "name": "stderr",
     "output_type": "stream",
     "text": [
      " 39%|███████████████████████████▏                                          | 478/1232 [00:50<01:16,  9.82it/s]"
     ]
    },
    {
     "name": "stdout",
     "output_type": "stream",
     "text": [
      "\n",
      "image 1/1 /mnt/c/Adrianov/Projects/trash-detector/Littering--8/test/images/video_2_8_jpg.rf.5b292f4070f0adfc433ae1ddf0d0a4d4.jpg: 256x416 1 Person, 12.8ms\n",
      "Speed: 2.7ms preprocess, 12.8ms inference, 1.7ms postprocess per image at shape (1, 3, 256, 416)\n",
      "\n",
      "image 1/1 /mnt/c/Adrianov/Projects/trash-detector/Littering--8/test/images/video_2_8_jpg.rf.ed62a75e8650eff0f91556a1b058f1b9.jpg: 256x416 2 Persons, 12.9ms\n",
      "Speed: 2.2ms preprocess, 12.9ms inference, 1.6ms postprocess per image at shape (1, 3, 256, 416)\n"
     ]
    },
    {
     "name": "stderr",
     "output_type": "stream",
     "text": [
      " 39%|███████████████████████████▎                                          | 480/1232 [00:50<01:13, 10.25it/s]"
     ]
    },
    {
     "name": "stdout",
     "output_type": "stream",
     "text": [
      "\n",
      "image 1/1 /mnt/c/Adrianov/Projects/trash-detector/Littering--8/test/images/video_2_8_jpg.rf.f2153cd03c3471d493468f00f0a7fc84.jpg: 256x416 2 Persons, 13.2ms\n",
      "Speed: 2.2ms preprocess, 13.2ms inference, 1.9ms postprocess per image at shape (1, 3, 256, 416)\n",
      "\n",
      "image 1/1 /mnt/c/Adrianov/Projects/trash-detector/Littering--8/test/images/video_2_8_jpg.rf.ffb5b1308d50590bf9e42e8d968a6f55.jpg: 256x416 2 Persons, 13.0ms\n",
      "Speed: 1.9ms preprocess, 13.0ms inference, 1.9ms postprocess per image at shape (1, 3, 256, 416)\n"
     ]
    },
    {
     "name": "stderr",
     "output_type": "stream",
     "text": [
      " 39%|███████████████████████████▍                                          | 482/1232 [00:50<01:08, 10.98it/s]"
     ]
    },
    {
     "name": "stdout",
     "output_type": "stream",
     "text": [
      "\n",
      "image 1/1 /mnt/c/Adrianov/Projects/trash-detector/Littering--8/test/images/video_2_9_jpg.rf.52ba3f520699b4de4f2f660cb3b94e42.jpg: 256x416 2 Persons, 14.0ms\n",
      "Speed: 2.0ms preprocess, 14.0ms inference, 1.6ms postprocess per image at shape (1, 3, 256, 416)\n",
      "\n",
      "image 1/1 /mnt/c/Adrianov/Projects/trash-detector/Littering--8/test/images/video_2_9_jpg.rf.5f45ed7574d19142be4349ca320ea5e7.jpg: 256x416 2 Persons, 20.1ms\n",
      "Speed: 2.3ms preprocess, 20.1ms inference, 2.1ms postprocess per image at shape (1, 3, 256, 416)\n"
     ]
    },
    {
     "name": "stderr",
     "output_type": "stream",
     "text": [
      " 39%|███████████████████████████▌                                          | 484/1232 [00:51<01:07, 11.10it/s]"
     ]
    },
    {
     "name": "stdout",
     "output_type": "stream",
     "text": [
      "\n",
      "image 1/1 /mnt/c/Adrianov/Projects/trash-detector/Littering--8/test/images/video_2_9_jpg.rf.741a4136e402bd2e545d516fa6a4223b.jpg: 256x416 2 Persons, 12.9ms\n",
      "Speed: 2.1ms preprocess, 12.9ms inference, 1.3ms postprocess per image at shape (1, 3, 256, 416)\n",
      "\n",
      "image 1/1 /mnt/c/Adrianov/Projects/trash-detector/Littering--8/test/images/video_2_9_jpg.rf.d5aaf22343102fd838fd1f00e53ca0bb.jpg: 256x416 1 Person, 12.8ms\n",
      "Speed: 2.0ms preprocess, 12.8ms inference, 1.4ms postprocess per image at shape (1, 3, 256, 416)\n"
     ]
    },
    {
     "name": "stderr",
     "output_type": "stream",
     "text": [
      " 39%|███████████████████████████▌                                          | 486/1232 [00:51<01:06, 11.20it/s]"
     ]
    },
    {
     "name": "stdout",
     "output_type": "stream",
     "text": [
      "\n",
      "image 1/1 /mnt/c/Adrianov/Projects/trash-detector/Littering--8/test/images/video_3_10_jpg.rf.76a61744199cb3259d11f9c52dc1fbbb.jpg: 256x416 2 Persons, 12.9ms\n",
      "Speed: 3.1ms preprocess, 12.9ms inference, 1.5ms postprocess per image at shape (1, 3, 256, 416)\n",
      "\n",
      "image 1/1 /mnt/c/Adrianov/Projects/trash-detector/Littering--8/test/images/video_3_10_jpg.rf.917505ffe4b402fb829cd0567bb8c025.jpg: 256x416 3 Persons, 1 Trash, 13.8ms\n",
      "Speed: 1.8ms preprocess, 13.8ms inference, 2.6ms postprocess per image at shape (1, 3, 256, 416)\n"
     ]
    },
    {
     "name": "stderr",
     "output_type": "stream",
     "text": [
      " 40%|███████████████████████████▋                                          | 488/1232 [00:51<01:05, 11.38it/s]"
     ]
    },
    {
     "name": "stdout",
     "output_type": "stream",
     "text": [
      "\n",
      "image 1/1 /mnt/c/Adrianov/Projects/trash-detector/Littering--8/test/images/video_3_10_jpg.rf.af16b6af55cd146f6f7988a87769a78b.jpg: 256x416 1 Trash, 13.8ms\n",
      "Speed: 2.6ms preprocess, 13.8ms inference, 1.4ms postprocess per image at shape (1, 3, 256, 416)\n",
      "\n",
      "image 1/1 /mnt/c/Adrianov/Projects/trash-detector/Littering--8/test/images/video_3_10_jpg.rf.e86ede3091979d26acca96782a8a9c8d.jpg: 256x416 2 Persons, 2 Trashs, 16.7ms\n",
      "Speed: 2.1ms preprocess, 16.7ms inference, 1.4ms postprocess per image at shape (1, 3, 256, 416)\n"
     ]
    },
    {
     "name": "stderr",
     "output_type": "stream",
     "text": [
      " 40%|███████████████████████████▊                                          | 490/1232 [00:51<01:05, 11.24it/s]"
     ]
    },
    {
     "name": "stdout",
     "output_type": "stream",
     "text": [
      "\n",
      "image 1/1 /mnt/c/Adrianov/Projects/trash-detector/Littering--8/test/images/video_3_11_jpg.rf.0a39deeb434e112d178144e16496fb61.jpg: 256x416 1 Trash, 20.0ms\n",
      "Speed: 1.9ms preprocess, 20.0ms inference, 2.8ms postprocess per image at shape (1, 3, 256, 416)\n",
      "\n",
      "image 1/1 /mnt/c/Adrianov/Projects/trash-detector/Littering--8/test/images/video_3_11_jpg.rf.2ff078f780042c80a1b7b7fcbfa492e6.jpg: 256x416 3 Persons, 1 Trash, 20.6ms\n",
      "Speed: 2.3ms preprocess, 20.6ms inference, 2.6ms postprocess per image at shape (1, 3, 256, 416)\n"
     ]
    },
    {
     "name": "stderr",
     "output_type": "stream",
     "text": [
      " 40%|███████████████████████████▉                                          | 492/1232 [00:51<01:08, 10.85it/s]"
     ]
    },
    {
     "name": "stdout",
     "output_type": "stream",
     "text": [
      "\n",
      "image 1/1 /mnt/c/Adrianov/Projects/trash-detector/Littering--8/test/images/video_3_11_jpg.rf.8a6fd523c0fb928611c7f388dd085bf4.jpg: 256x416 2 Persons, 1 Trash, 13.5ms\n",
      "Speed: 2.1ms preprocess, 13.5ms inference, 3.0ms postprocess per image at shape (1, 3, 256, 416)\n",
      "\n",
      "image 1/1 /mnt/c/Adrianov/Projects/trash-detector/Littering--8/test/images/video_3_12_jpg.rf.8ef1623d211deecd2e37fb53116210d5.jpg: 256x416 2 Persons, 1 Trash, 12.8ms\n",
      "Speed: 1.8ms preprocess, 12.8ms inference, 1.8ms postprocess per image at shape (1, 3, 256, 416)\n"
     ]
    },
    {
     "name": "stderr",
     "output_type": "stream",
     "text": [
      " 40%|████████████████████████████                                          | 494/1232 [00:52<01:06, 11.17it/s]"
     ]
    },
    {
     "name": "stdout",
     "output_type": "stream",
     "text": [
      "\n",
      "image 1/1 /mnt/c/Adrianov/Projects/trash-detector/Littering--8/test/images/video_3_12_jpg.rf.955049887228bae1fdc3004fcfde0c24.jpg: 256x416 3 Persons, 1 Trash, 12.8ms\n",
      "Speed: 1.8ms preprocess, 12.8ms inference, 1.7ms postprocess per image at shape (1, 3, 256, 416)\n",
      "\n",
      "image 1/1 /mnt/c/Adrianov/Projects/trash-detector/Littering--8/test/images/video_3_12_jpg.rf.e969e91205a1c518e87432ccb7723947.jpg: 256x416 1 Trash, 13.1ms\n",
      "Speed: 1.9ms preprocess, 13.1ms inference, 1.4ms postprocess per image at shape (1, 3, 256, 416)\n"
     ]
    },
    {
     "name": "stderr",
     "output_type": "stream",
     "text": [
      " 40%|████████████████████████████▏                                         | 496/1232 [00:52<01:05, 11.15it/s]"
     ]
    },
    {
     "name": "stdout",
     "output_type": "stream",
     "text": [
      "\n",
      "image 1/1 /mnt/c/Adrianov/Projects/trash-detector/Littering--8/test/images/video_3_13_jpg.rf.1702a87e233f6905de4215d836baf4a5.jpg: 256x416 1 Trash, 15.3ms\n",
      "Speed: 2.0ms preprocess, 15.3ms inference, 1.5ms postprocess per image at shape (1, 3, 256, 416)\n",
      "\n",
      "image 1/1 /mnt/c/Adrianov/Projects/trash-detector/Littering--8/test/images/video_3_13_jpg.rf.5addaa1e3dc6a28704878acc5d96bd44.jpg: 256x416 3 Persons, 1 Trash, 12.9ms\n",
      "Speed: 2.2ms preprocess, 12.9ms inference, 1.8ms postprocess per image at shape (1, 3, 256, 416)\n"
     ]
    },
    {
     "name": "stderr",
     "output_type": "stream",
     "text": [
      " 40%|████████████████████████████▎                                         | 498/1232 [00:52<01:19,  9.18it/s]"
     ]
    },
    {
     "name": "stdout",
     "output_type": "stream",
     "text": [
      "\n",
      "image 1/1 /mnt/c/Adrianov/Projects/trash-detector/Littering--8/test/images/video_3_13_jpg.rf.7308801905c288c5fb47984820e03fe5.jpg: 256x416 2 Persons, 13.3ms\n",
      "Speed: 2.0ms preprocess, 13.3ms inference, 2.3ms postprocess per image at shape (1, 3, 256, 416)\n",
      "\n",
      "image 1/1 /mnt/c/Adrianov/Projects/trash-detector/Littering--8/test/images/video_3_13_jpg.rf.bff0ef923248c4f96f0a6e9f5c149906.jpg: 256x416 2 Persons, 2 Trashs, 17.1ms\n",
      "Speed: 2.1ms preprocess, 17.1ms inference, 2.5ms postprocess per image at shape (1, 3, 256, 416)\n"
     ]
    },
    {
     "name": "stderr",
     "output_type": "stream",
     "text": [
      " 41%|████████████████████████████▍                                         | 500/1232 [00:52<01:14,  9.78it/s]"
     ]
    },
    {
     "name": "stdout",
     "output_type": "stream",
     "text": [
      "\n",
      "image 1/1 /mnt/c/Adrianov/Projects/trash-detector/Littering--8/test/images/video_3_14_jpg.rf.44ab6cb18b14e11e93f8a55f263464b1.jpg: 256x416 2 Persons, 2 Trashs, 13.7ms\n",
      "Speed: 2.1ms preprocess, 13.7ms inference, 1.5ms postprocess per image at shape (1, 3, 256, 416)\n",
      "\n",
      "image 1/1 /mnt/c/Adrianov/Projects/trash-detector/Littering--8/test/images/video_3_14_jpg.rf.92d1e42c48bf8a5a902ca2dd8cd36121.jpg: 256x416 3 Persons, 1 Trash, 12.9ms\n",
      "Speed: 2.0ms preprocess, 12.9ms inference, 1.9ms postprocess per image at shape (1, 3, 256, 416)\n"
     ]
    },
    {
     "name": "stderr",
     "output_type": "stream",
     "text": [
      " 41%|████████████████████████████▌                                         | 502/1232 [00:52<01:12, 10.08it/s]"
     ]
    },
    {
     "name": "stdout",
     "output_type": "stream",
     "text": [
      "\n",
      "image 1/1 /mnt/c/Adrianov/Projects/trash-detector/Littering--8/test/images/video_3_14_jpg.rf.954c43447aecd865faa4072d98d7d4df.jpg: 256x416 2 Persons, 17.4ms\n",
      "Speed: 1.7ms preprocess, 17.4ms inference, 1.7ms postprocess per image at shape (1, 3, 256, 416)\n",
      "\n",
      "image 1/1 /mnt/c/Adrianov/Projects/trash-detector/Littering--8/test/images/video_3_14_jpg.rf.e0d018fa9fbe61d8dcb6bcfc86db80b1.jpg: 256x416 1 Trash, 13.5ms\n",
      "Speed: 1.9ms preprocess, 13.5ms inference, 1.8ms postprocess per image at shape (1, 3, 256, 416)\n"
     ]
    },
    {
     "name": "stderr",
     "output_type": "stream",
     "text": [
      " 41%|████████████████████████████▋                                         | 504/1232 [00:53<01:10, 10.30it/s]"
     ]
    },
    {
     "name": "stdout",
     "output_type": "stream",
     "text": [
      "\n",
      "image 1/1 /mnt/c/Adrianov/Projects/trash-detector/Littering--8/test/images/video_3_15_jpg.rf.08276547a910f9235f7caff018ed84cb.jpg: 256x416 1 Trash, 12.8ms\n",
      "Speed: 1.6ms preprocess, 12.8ms inference, 2.7ms postprocess per image at shape (1, 3, 256, 416)\n",
      "\n",
      "image 1/1 /mnt/c/Adrianov/Projects/trash-detector/Littering--8/test/images/video_3_15_jpg.rf.4494a701693b659cdd767d5aaee42473.jpg: 256x416 2 Persons, 2 Trashs, 16.6ms\n",
      "Speed: 2.8ms preprocess, 16.6ms inference, 2.0ms postprocess per image at shape (1, 3, 256, 416)\n"
     ]
    },
    {
     "name": "stderr",
     "output_type": "stream",
     "text": [
      " 41%|████████████████████████████▊                                         | 506/1232 [00:53<01:24,  8.55it/s]"
     ]
    },
    {
     "name": "stdout",
     "output_type": "stream",
     "text": [
      "\n",
      "image 1/1 /mnt/c/Adrianov/Projects/trash-detector/Littering--8/test/images/video_3_15_jpg.rf.78bc5dcbd0a31fe4f635b5a723102ec9.jpg: 256x416 2 Persons, 13.4ms\n",
      "Speed: 1.9ms preprocess, 13.4ms inference, 2.6ms postprocess per image at shape (1, 3, 256, 416)\n",
      "\n",
      "image 1/1 /mnt/c/Adrianov/Projects/trash-detector/Littering--8/test/images/video_3_15_jpg.rf.df83e9d2d40e8e002690fa148a652116.jpg: 256x416 3 Persons, 1 Trash, 12.9ms\n",
      "Speed: 2.1ms preprocess, 12.9ms inference, 1.6ms postprocess per image at shape (1, 3, 256, 416)\n"
     ]
    },
    {
     "name": "stderr",
     "output_type": "stream",
     "text": [
      " 41%|████████████████████████████▊                                         | 508/1232 [00:53<01:17,  9.31it/s]"
     ]
    },
    {
     "name": "stdout",
     "output_type": "stream",
     "text": [
      "\n",
      "image 1/1 /mnt/c/Adrianov/Projects/trash-detector/Littering--8/test/images/video_3_16_jpg.rf.213179193de0cb3dbe10369dc80d4b14.jpg: 256x416 2 Persons, 13.0ms\n",
      "Speed: 2.1ms preprocess, 13.0ms inference, 2.9ms postprocess per image at shape (1, 3, 256, 416)\n",
      "\n",
      "image 1/1 /mnt/c/Adrianov/Projects/trash-detector/Littering--8/test/images/video_3_16_jpg.rf.8b300924059a6ec7b6290bc6fde709ff.jpg: 256x416 1 Trash, 12.9ms\n",
      "Speed: 2.6ms preprocess, 12.9ms inference, 1.5ms postprocess per image at shape (1, 3, 256, 416)\n"
     ]
    },
    {
     "name": "stderr",
     "output_type": "stream",
     "text": [
      " 41%|████████████████████████████▉                                         | 510/1232 [00:53<01:13,  9.87it/s]"
     ]
    },
    {
     "name": "stdout",
     "output_type": "stream",
     "text": [
      "\n",
      "image 1/1 /mnt/c/Adrianov/Projects/trash-detector/Littering--8/test/images/video_3_16_jpg.rf.d4b111b0079caab92dcb3b930e5f8a33.jpg: 256x416 2 Persons, 15.4ms\n",
      "Speed: 1.8ms preprocess, 15.4ms inference, 1.3ms postprocess per image at shape (1, 3, 256, 416)\n",
      "\n",
      "image 1/1 /mnt/c/Adrianov/Projects/trash-detector/Littering--8/test/images/video_3_16_jpg.rf.f3840e2d9be2cd097759456b7c1e81fb.jpg: 256x416 3 Persons, 13.2ms\n",
      "Speed: 3.1ms preprocess, 13.2ms inference, 1.9ms postprocess per image at shape (1, 3, 256, 416)\n"
     ]
    },
    {
     "name": "stderr",
     "output_type": "stream",
     "text": [
      " 42%|█████████████████████████████                                         | 512/1232 [00:53<01:16,  9.42it/s]"
     ]
    },
    {
     "name": "stdout",
     "output_type": "stream",
     "text": [
      "\n",
      "image 1/1 /mnt/c/Adrianov/Projects/trash-detector/Littering--8/test/images/video_3_16_jpg.rf.f99c2081ebb166988de9224c59f4cf6d.jpg: 256x416 2 Persons, 2 Trashs, 12.9ms\n",
      "Speed: 2.0ms preprocess, 12.9ms inference, 2.3ms postprocess per image at shape (1, 3, 256, 416)\n"
     ]
    },
    {
     "name": "stderr",
     "output_type": "stream",
     "text": [
      " 42%|█████████████████████████████▏                                        | 513/1232 [00:54<01:22,  8.66it/s]"
     ]
    },
    {
     "name": "stdout",
     "output_type": "stream",
     "text": [
      "\n",
      "image 1/1 /mnt/c/Adrianov/Projects/trash-detector/Littering--8/test/images/video_3_17_jpg.rf.02470a72081bed7a01fe9398cf83ca85.jpg: 256x416 2 Persons, 15.3ms\n",
      "Speed: 2.2ms preprocess, 15.3ms inference, 2.6ms postprocess per image at shape (1, 3, 256, 416)\n"
     ]
    },
    {
     "name": "stderr",
     "output_type": "stream",
     "text": [
      " 42%|█████████████████████████████▏                                        | 514/1232 [00:54<01:30,  7.91it/s]"
     ]
    },
    {
     "name": "stdout",
     "output_type": "stream",
     "text": [
      "\n",
      "image 1/1 /mnt/c/Adrianov/Projects/trash-detector/Littering--8/test/images/video_3_17_jpg.rf.0c216c988f00e5de08c7a23b8cb34f2e.jpg: 256x416 1 Trash, 15.9ms\n",
      "Speed: 1.7ms preprocess, 15.9ms inference, 1.8ms postprocess per image at shape (1, 3, 256, 416)\n",
      "\n",
      "image 1/1 /mnt/c/Adrianov/Projects/trash-detector/Littering--8/test/images/video_3_17_jpg.rf.c0224ea76140751ffd8a30c41becf263.jpg: 256x416 2 Persons, 2 Trashs, 12.8ms\n",
      "Speed: 2.1ms preprocess, 12.8ms inference, 1.4ms postprocess per image at shape (1, 3, 256, 416)\n"
     ]
    },
    {
     "name": "stderr",
     "output_type": "stream",
     "text": [
      " 42%|█████████████████████████████▎                                        | 516/1232 [00:54<01:20,  8.88it/s]"
     ]
    },
    {
     "name": "stdout",
     "output_type": "stream",
     "text": [
      "\n",
      "image 1/1 /mnt/c/Adrianov/Projects/trash-detector/Littering--8/test/images/video_3_17_jpg.rf.c6f072ea7a3f7e621e9623f7b163d60e.jpg: 256x416 3 Persons, 12.9ms\n",
      "Speed: 1.9ms preprocess, 12.9ms inference, 1.4ms postprocess per image at shape (1, 3, 256, 416)\n",
      "\n",
      "image 1/1 /mnt/c/Adrianov/Projects/trash-detector/Littering--8/test/images/video_3_18_jpg.rf.3c71fe4145e7491680af8c6f924348b1.jpg: 256x416 3 Persons, 12.9ms\n",
      "Speed: 2.0ms preprocess, 12.9ms inference, 3.2ms postprocess per image at shape (1, 3, 256, 416)\n"
     ]
    },
    {
     "name": "stderr",
     "output_type": "stream",
     "text": [
      " 42%|█████████████████████████████▍                                        | 518/1232 [00:54<01:14,  9.56it/s]"
     ]
    },
    {
     "name": "stdout",
     "output_type": "stream",
     "text": [
      "\n",
      "image 1/1 /mnt/c/Adrianov/Projects/trash-detector/Littering--8/test/images/video_3_18_jpg.rf.5b2fd4a790919850691e04f4bc6b136e.jpg: 256x416 2 Persons, 14.7ms\n",
      "Speed: 1.9ms preprocess, 14.7ms inference, 1.5ms postprocess per image at shape (1, 3, 256, 416)\n"
     ]
    },
    {
     "name": "stderr",
     "output_type": "stream",
     "text": [
      " 42%|█████████████████████████████▍                                        | 519/1232 [00:54<01:15,  9.40it/s]"
     ]
    },
    {
     "name": "stdout",
     "output_type": "stream",
     "text": [
      "\n",
      "image 1/1 /mnt/c/Adrianov/Projects/trash-detector/Littering--8/test/images/video_3_18_jpg.rf.c6fa62ede87310bb0622addace0ae9ec.jpg: 256x416 1 Trash, 13.1ms\n",
      "Speed: 3.0ms preprocess, 13.1ms inference, 1.6ms postprocess per image at shape (1, 3, 256, 416)\n"
     ]
    },
    {
     "name": "stderr",
     "output_type": "stream",
     "text": [
      " 42%|█████████████████████████████▌                                        | 520/1232 [00:54<01:18,  9.04it/s]"
     ]
    },
    {
     "name": "stdout",
     "output_type": "stream",
     "text": [
      "\n",
      "image 1/1 /mnt/c/Adrianov/Projects/trash-detector/Littering--8/test/images/video_3_18_jpg.rf.f11ff8ca7a7174126fc008b865d47ba4.jpg: 256x416 2 Persons, 2 Trashs, 16.7ms\n",
      "Speed: 2.0ms preprocess, 16.7ms inference, 1.6ms postprocess per image at shape (1, 3, 256, 416)\n",
      "\n",
      "image 1/1 /mnt/c/Adrianov/Projects/trash-detector/Littering--8/test/images/video_3_19_jpg.rf.6296e607706ac10c26076eb7c810df6f.jpg: 256x416 2 Persons, 12.9ms\n",
      "Speed: 1.8ms preprocess, 12.9ms inference, 1.4ms postprocess per image at shape (1, 3, 256, 416)\n"
     ]
    },
    {
     "name": "stderr",
     "output_type": "stream",
     "text": [
      " 42%|█████████████████████████████▋                                        | 522/1232 [00:55<01:11,  9.90it/s]"
     ]
    },
    {
     "name": "stdout",
     "output_type": "stream",
     "text": [
      "\n",
      "image 1/1 /mnt/c/Adrianov/Projects/trash-detector/Littering--8/test/images/video_3_19_jpg.rf.7e3e2e433f7ab9fc9b871b4c9e2f84a7.jpg: 256x416 1 Trash, 13.0ms\n",
      "Speed: 2.2ms preprocess, 13.0ms inference, 1.4ms postprocess per image at shape (1, 3, 256, 416)\n",
      "\n",
      "image 1/1 /mnt/c/Adrianov/Projects/trash-detector/Littering--8/test/images/video_3_19_jpg.rf.a3e3699b4941665d1b680c5d26c8943c.jpg: 256x416 3 Persons, 13.3ms\n",
      "Speed: 2.0ms preprocess, 13.3ms inference, 1.5ms postprocess per image at shape (1, 3, 256, 416)\n"
     ]
    },
    {
     "name": "stderr",
     "output_type": "stream",
     "text": [
      " 43%|█████████████████████████████▊                                        | 524/1232 [00:55<01:09, 10.19it/s]"
     ]
    },
    {
     "name": "stdout",
     "output_type": "stream",
     "text": [
      "\n",
      "image 1/1 /mnt/c/Adrianov/Projects/trash-detector/Littering--8/test/images/video_3_19_jpg.rf.c1d9363b18852ffec112cf0631bdc333.jpg: 256x416 2 Persons, 2 Trashs, 16.6ms\n",
      "Speed: 2.0ms preprocess, 16.6ms inference, 2.7ms postprocess per image at shape (1, 3, 256, 416)\n",
      "\n",
      "image 1/1 /mnt/c/Adrianov/Projects/trash-detector/Littering--8/test/images/video_3_1_jpg.rf.11fdba9df00f4ad399da4f343bb0b1f4.jpg: 256x416 (no detections), 18.4ms\n",
      "Speed: 2.2ms preprocess, 18.4ms inference, 0.5ms postprocess per image at shape (1, 3, 256, 416)\n"
     ]
    },
    {
     "name": "stderr",
     "output_type": "stream",
     "text": [
      " 43%|█████████████████████████████▉                                        | 526/1232 [00:55<01:07, 10.46it/s]"
     ]
    },
    {
     "name": "stdout",
     "output_type": "stream",
     "text": [
      "\n",
      "image 1/1 /mnt/c/Adrianov/Projects/trash-detector/Littering--8/test/images/video_3_1_jpg.rf.582bfa5f513421e356be6c4061642b45.jpg: 256x416 2 Persons, 13.8ms\n",
      "Speed: 2.1ms preprocess, 13.8ms inference, 1.4ms postprocess per image at shape (1, 3, 256, 416)\n",
      "\n",
      "image 1/1 /mnt/c/Adrianov/Projects/trash-detector/Littering--8/test/images/video_3_1_jpg.rf.751b151c604a16b073f6fb550cac1220.jpg: 256x416 2 Persons, 12.8ms\n",
      "Speed: 2.2ms preprocess, 12.8ms inference, 1.7ms postprocess per image at shape (1, 3, 256, 416)\n"
     ]
    },
    {
     "name": "stderr",
     "output_type": "stream",
     "text": [
      " 43%|██████████████████████████████                                        | 528/1232 [00:55<01:03, 11.02it/s]"
     ]
    },
    {
     "name": "stdout",
     "output_type": "stream",
     "text": [
      "\n",
      "image 1/1 /mnt/c/Adrianov/Projects/trash-detector/Littering--8/test/images/video_3_1_jpg.rf.8b052ab155d39cd5936675782b46bd00.jpg: 256x416 2 Persons, 13.9ms\n",
      "Speed: 2.0ms preprocess, 13.9ms inference, 1.4ms postprocess per image at shape (1, 3, 256, 416)\n",
      "\n",
      "image 1/1 /mnt/c/Adrianov/Projects/trash-detector/Littering--8/test/images/video_3_20_jpg.rf.51d7f7a43f5b3b53ba39722f9f0bd33b.jpg: 256x416 2 Persons, 1 Trash, 13.0ms\n",
      "Speed: 3.7ms preprocess, 13.0ms inference, 3.1ms postprocess per image at shape (1, 3, 256, 416)\n"
     ]
    },
    {
     "name": "stderr",
     "output_type": "stream",
     "text": [
      " 43%|██████████████████████████████                                        | 530/1232 [00:55<01:02, 11.20it/s]"
     ]
    },
    {
     "name": "stdout",
     "output_type": "stream",
     "text": [
      "\n",
      "image 1/1 /mnt/c/Adrianov/Projects/trash-detector/Littering--8/test/images/video_3_20_jpg.rf.762886e486acf15ab441561ab420188d.jpg: 256x416 3 Persons, 1 Trash, 13.1ms\n",
      "Speed: 1.8ms preprocess, 13.1ms inference, 1.4ms postprocess per image at shape (1, 3, 256, 416)\n",
      "\n",
      "image 1/1 /mnt/c/Adrianov/Projects/trash-detector/Littering--8/test/images/video_3_20_jpg.rf.8c1c1254181c7fbe0004e2df3de19665.jpg: 256x416 (no detections), 17.5ms\n",
      "Speed: 5.0ms preprocess, 17.5ms inference, 0.8ms postprocess per image at shape (1, 3, 256, 416)\n"
     ]
    },
    {
     "name": "stderr",
     "output_type": "stream",
     "text": [
      " 43%|██████████████████████████████▏                                       | 532/1232 [00:55<01:06, 10.60it/s]"
     ]
    },
    {
     "name": "stdout",
     "output_type": "stream",
     "text": [
      "\n",
      "image 1/1 /mnt/c/Adrianov/Projects/trash-detector/Littering--8/test/images/video_3_21_jpg.rf.4cbf9498369cfa757555791174b8b9df.jpg: 256x416 2 Persons, 15.2ms\n",
      "Speed: 1.5ms preprocess, 15.2ms inference, 1.5ms postprocess per image at shape (1, 3, 256, 416)\n",
      "\n",
      "image 1/1 /mnt/c/Adrianov/Projects/trash-detector/Littering--8/test/images/video_3_21_jpg.rf.7c9165bb011e5a3b09bc592c39d6f3b7.jpg: 256x416 3 Persons, 1 Trash, 13.8ms\n",
      "Speed: 2.1ms preprocess, 13.8ms inference, 1.3ms postprocess per image at shape (1, 3, 256, 416)\n"
     ]
    },
    {
     "name": "stderr",
     "output_type": "stream",
     "text": [
      " 43%|██████████████████████████████▎                                       | 534/1232 [00:56<01:08, 10.20it/s]"
     ]
    },
    {
     "name": "stdout",
     "output_type": "stream",
     "text": [
      "\n",
      "image 1/1 /mnt/c/Adrianov/Projects/trash-detector/Littering--8/test/images/video_3_21_jpg.rf.b263d6cd612c2b94edbae9c971005360.jpg: 256x416 2 Persons, 12.8ms\n",
      "Speed: 2.1ms preprocess, 12.8ms inference, 1.5ms postprocess per image at shape (1, 3, 256, 416)\n",
      "\n",
      "image 1/1 /mnt/c/Adrianov/Projects/trash-detector/Littering--8/test/images/video_3_21_jpg.rf.e0d6f94c3ffb713c3a08e7a50226b100.jpg: 256x416 (no detections), 18.1ms\n",
      "Speed: 1.8ms preprocess, 18.1ms inference, 0.9ms postprocess per image at shape (1, 3, 256, 416)\n"
     ]
    },
    {
     "name": "stderr",
     "output_type": "stream",
     "text": [
      " 44%|██████████████████████████████▍                                       | 536/1232 [00:56<01:14,  9.39it/s]"
     ]
    },
    {
     "name": "stdout",
     "output_type": "stream",
     "text": [
      "\n",
      "image 1/1 /mnt/c/Adrianov/Projects/trash-detector/Littering--8/test/images/video_3_21_jpg.rf.fac13300efbe5fb3a0ec7a458d299fe0.jpg: 256x416 2 Persons, 1 Trash, 12.8ms\n",
      "Speed: 2.3ms preprocess, 12.8ms inference, 1.5ms postprocess per image at shape (1, 3, 256, 416)\n"
     ]
    },
    {
     "name": "stderr",
     "output_type": "stream",
     "text": [
      " 44%|██████████████████████████████▌                                       | 537/1232 [00:56<01:20,  8.65it/s]"
     ]
    },
    {
     "name": "stdout",
     "output_type": "stream",
     "text": [
      "\n",
      "image 1/1 /mnt/c/Adrianov/Projects/trash-detector/Littering--8/test/images/video_3_22_jpg.rf.49d835269ffde00791630e76a91172da.jpg: 256x416 (no detections), 12.9ms\n",
      "Speed: 2.5ms preprocess, 12.9ms inference, 0.6ms postprocess per image at shape (1, 3, 256, 416)\n"
     ]
    },
    {
     "name": "stderr",
     "output_type": "stream",
     "text": [
      " 44%|██████████████████████████████▌                                       | 538/1232 [00:56<01:24,  8.21it/s]"
     ]
    },
    {
     "name": "stdout",
     "output_type": "stream",
     "text": [
      "\n",
      "image 1/1 /mnt/c/Adrianov/Projects/trash-detector/Littering--8/test/images/video_3_22_jpg.rf.5deffd98fb45013b5447cb4409bc3ce4.jpg: 256x416 2 Persons, 1 Trash, 12.8ms\n",
      "Speed: 2.1ms preprocess, 12.8ms inference, 2.2ms postprocess per image at shape (1, 3, 256, 416)\n"
     ]
    },
    {
     "name": "stderr",
     "output_type": "stream",
     "text": [
      " 44%|██████████████████████████████▋                                       | 539/1232 [00:56<01:21,  8.55it/s]"
     ]
    },
    {
     "name": "stdout",
     "output_type": "stream",
     "text": [
      "\n",
      "image 1/1 /mnt/c/Adrianov/Projects/trash-detector/Littering--8/test/images/video_3_22_jpg.rf.b76e832ee1e716ae51540f65cdb4c4ec.jpg: 256x416 2 Persons, 1 Trash, 19.4ms\n",
      "Speed: 2.1ms preprocess, 19.4ms inference, 2.8ms postprocess per image at shape (1, 3, 256, 416)\n"
     ]
    },
    {
     "name": "stderr",
     "output_type": "stream",
     "text": [
      " 44%|██████████████████████████████▋                                       | 540/1232 [00:56<01:18,  8.80it/s]"
     ]
    },
    {
     "name": "stdout",
     "output_type": "stream",
     "text": [
      "\n",
      "image 1/1 /mnt/c/Adrianov/Projects/trash-detector/Littering--8/test/images/video_3_22_jpg.rf.ba051919eeb430eda666d54f1e91f7b3.jpg: 256x416 3 Persons, 1 Trash, 15.5ms\n",
      "Speed: 2.3ms preprocess, 15.5ms inference, 1.3ms postprocess per image at shape (1, 3, 256, 416)\n"
     ]
    },
    {
     "name": "stderr",
     "output_type": "stream",
     "text": [
      " 44%|██████████████████████████████▋                                       | 541/1232 [00:57<01:17,  8.97it/s]"
     ]
    },
    {
     "name": "stdout",
     "output_type": "stream",
     "text": [
      "\n",
      "image 1/1 /mnt/c/Adrianov/Projects/trash-detector/Littering--8/test/images/video_3_22_jpg.rf.e3405b77cbaae38e2dc20a073deec712.jpg: 256x416 2 Persons, 12.9ms\n",
      "Speed: 1.6ms preprocess, 12.9ms inference, 1.7ms postprocess per image at shape (1, 3, 256, 416)\n"
     ]
    },
    {
     "name": "stderr",
     "output_type": "stream",
     "text": [
      " 44%|██████████████████████████████▊                                       | 542/1232 [00:57<01:16,  9.04it/s]"
     ]
    },
    {
     "name": "stdout",
     "output_type": "stream",
     "text": [
      "\n",
      "image 1/1 /mnt/c/Adrianov/Projects/trash-detector/Littering--8/test/images/video_3_23_jpg.rf.08d1cd625c06e043cd37c8d9b1cd73bf.jpg: 256x416 (no detections), 13.0ms\n",
      "Speed: 2.5ms preprocess, 13.0ms inference, 0.6ms postprocess per image at shape (1, 3, 256, 416)\n"
     ]
    },
    {
     "name": "stderr",
     "output_type": "stream",
     "text": [
      " 44%|██████████████████████████████▊                                       | 543/1232 [00:57<01:14,  9.23it/s]"
     ]
    },
    {
     "name": "stdout",
     "output_type": "stream",
     "text": [
      "\n",
      "image 1/1 /mnt/c/Adrianov/Projects/trash-detector/Littering--8/test/images/video_3_23_jpg.rf.41c3c1d0f15b7646fbf597425f33b87f.jpg: 256x416 2 Persons, 12.8ms\n",
      "Speed: 2.3ms preprocess, 12.8ms inference, 1.7ms postprocess per image at shape (1, 3, 256, 416)\n",
      "\n",
      "image 1/1 /mnt/c/Adrianov/Projects/trash-detector/Littering--8/test/images/video_3_23_jpg.rf.aeac31555f521492f86c9c1b716a5b98.jpg: 256x416 3 Persons, 1 Trash, 16.5ms\n",
      "Speed: 1.7ms preprocess, 16.5ms inference, 2.7ms postprocess per image at shape (1, 3, 256, 416)\n"
     ]
    },
    {
     "name": "stderr",
     "output_type": "stream",
     "text": [
      " 44%|██████████████████████████████▉                                       | 545/1232 [00:57<01:11,  9.66it/s]"
     ]
    },
    {
     "name": "stdout",
     "output_type": "stream",
     "text": [
      "\n",
      "image 1/1 /mnt/c/Adrianov/Projects/trash-detector/Littering--8/test/images/video_3_23_jpg.rf.f142f762882efd7f683623477b78d33f.jpg: 256x416 2 Persons, 1 Trash, 12.9ms\n",
      "Speed: 1.8ms preprocess, 12.9ms inference, 1.4ms postprocess per image at shape (1, 3, 256, 416)\n",
      "\n",
      "image 1/1 /mnt/c/Adrianov/Projects/trash-detector/Littering--8/test/images/video_3_24_jpg.rf.2531fc763f04b4fa6c8a548416bb16e9.jpg: 256x416 2 Persons, 1 Trash, 13.0ms\n",
      "Speed: 2.0ms preprocess, 13.0ms inference, 1.5ms postprocess per image at shape (1, 3, 256, 416)\n"
     ]
    },
    {
     "name": "stderr",
     "output_type": "stream",
     "text": [
      " 44%|███████████████████████████████                                       | 547/1232 [00:57<01:12,  9.46it/s]"
     ]
    },
    {
     "name": "stdout",
     "output_type": "stream",
     "text": [
      "\n",
      "image 1/1 /mnt/c/Adrianov/Projects/trash-detector/Littering--8/test/images/video_3_24_jpg.rf.3bae67491234c004478a2624a6fb84bb.jpg: 256x416 2 Persons, 1 Trash, 14.5ms\n",
      "Speed: 3.1ms preprocess, 14.5ms inference, 1.8ms postprocess per image at shape (1, 3, 256, 416)\n"
     ]
    },
    {
     "name": "stderr",
     "output_type": "stream",
     "text": [
      " 44%|███████████████████████████████▏                                      | 548/1232 [00:57<01:17,  8.81it/s]"
     ]
    },
    {
     "name": "stdout",
     "output_type": "stream",
     "text": [
      "\n",
      "image 1/1 /mnt/c/Adrianov/Projects/trash-detector/Littering--8/test/images/video_3_24_jpg.rf.99afc32e74944f5c5921f78b6cb9bc53.jpg: 256x416 (no detections), 18.4ms\n",
      "Speed: 2.7ms preprocess, 18.4ms inference, 0.9ms postprocess per image at shape (1, 3, 256, 416)\n"
     ]
    },
    {
     "name": "stderr",
     "output_type": "stream",
     "text": [
      " 45%|███████████████████████████████▏                                      | 549/1232 [00:57<01:22,  8.29it/s]"
     ]
    },
    {
     "name": "stdout",
     "output_type": "stream",
     "text": [
      "\n",
      "image 1/1 /mnt/c/Adrianov/Projects/trash-detector/Littering--8/test/images/video_3_24_jpg.rf.9b254e97746062725efd19812ddbe3d9.jpg: 256x416 3 Persons, 1 Trash, 13.8ms\n",
      "Speed: 2.2ms preprocess, 13.8ms inference, 1.4ms postprocess per image at shape (1, 3, 256, 416)\n"
     ]
    },
    {
     "name": "stderr",
     "output_type": "stream",
     "text": [
      " 45%|███████████████████████████████▎                                      | 550/1232 [00:58<01:21,  8.38it/s]"
     ]
    },
    {
     "name": "stdout",
     "output_type": "stream",
     "text": [
      "\n",
      "image 1/1 /mnt/c/Adrianov/Projects/trash-detector/Littering--8/test/images/video_3_25_jpg.rf.3228aae3c7e6b1b58bc51101c0297939.jpg: 256x416 (no detections), 12.8ms\n",
      "Speed: 2.2ms preprocess, 12.8ms inference, 0.9ms postprocess per image at shape (1, 3, 256, 416)\n",
      "\n",
      "image 1/1 /mnt/c/Adrianov/Projects/trash-detector/Littering--8/test/images/video_3_25_jpg.rf.b3d366545144ac3b5084c9f0b54ce3ed.jpg: 256x416 2 Persons, 12.9ms\n",
      "Speed: 1.9ms preprocess, 12.9ms inference, 2.6ms postprocess per image at shape (1, 3, 256, 416)\n"
     ]
    },
    {
     "name": "stderr",
     "output_type": "stream",
     "text": [
      " 45%|███████████████████████████████▎                                      | 552/1232 [00:58<01:15,  9.06it/s]"
     ]
    },
    {
     "name": "stdout",
     "output_type": "stream",
     "text": [
      "\n",
      "image 1/1 /mnt/c/Adrianov/Projects/trash-detector/Littering--8/test/images/video_3_25_jpg.rf.dcedeb941f902118964b651b0ad250a2.jpg: 256x416 3 Persons, 1 Trash, 13.1ms\n",
      "Speed: 3.0ms preprocess, 13.1ms inference, 1.9ms postprocess per image at shape (1, 3, 256, 416)\n"
     ]
    },
    {
     "name": "stderr",
     "output_type": "stream",
     "text": [
      " 45%|███████████████████████████████▍                                      | 553/1232 [00:58<01:19,  8.56it/s]"
     ]
    },
    {
     "name": "stdout",
     "output_type": "stream",
     "text": [
      "\n",
      "image 1/1 /mnt/c/Adrianov/Projects/trash-detector/Littering--8/test/images/video_3_25_jpg.rf.e742ce78f2ca528ceedce9656dc03904.jpg: 256x416 2 Persons, 1 Trash, 13.0ms\n",
      "Speed: 1.7ms preprocess, 13.0ms inference, 1.9ms postprocess per image at shape (1, 3, 256, 416)\n"
     ]
    },
    {
     "name": "stderr",
     "output_type": "stream",
     "text": [
      " 45%|███████████████████████████████▍                                      | 554/1232 [00:58<01:21,  8.30it/s]"
     ]
    },
    {
     "name": "stdout",
     "output_type": "stream",
     "text": [
      "\n",
      "image 1/1 /mnt/c/Adrianov/Projects/trash-detector/Littering--8/test/images/video_3_25_jpg.rf.fcdc4201ad5ebeab50c664a58ba454c6.jpg: 256x416 2 Persons, 2 Trashs, 21.0ms\n",
      "Speed: 2.2ms preprocess, 21.0ms inference, 2.8ms postprocess per image at shape (1, 3, 256, 416)\n"
     ]
    },
    {
     "name": "stderr",
     "output_type": "stream",
     "text": [
      " 45%|███████████████████████████████▌                                      | 555/1232 [00:58<01:29,  7.58it/s]"
     ]
    },
    {
     "name": "stdout",
     "output_type": "stream",
     "text": [
      "\n",
      "image 1/1 /mnt/c/Adrianov/Projects/trash-detector/Littering--8/test/images/video_3_26_jpg.rf.250ea31ee8997f562c65b9d65a90de89.jpg: 256x416 2 Persons, 13.3ms\n",
      "Speed: 2.1ms preprocess, 13.3ms inference, 2.9ms postprocess per image at shape (1, 3, 256, 416)\n"
     ]
    },
    {
     "name": "stderr",
     "output_type": "stream",
     "text": [
      " 45%|███████████████████████████████▌                                      | 556/1232 [00:58<01:35,  7.06it/s]"
     ]
    },
    {
     "name": "stdout",
     "output_type": "stream",
     "text": [
      "\n",
      "image 1/1 /mnt/c/Adrianov/Projects/trash-detector/Littering--8/test/images/video_3_26_jpg.rf.46a543ee5b154534b47a1ef57ec4a59f.jpg: 256x416 3 Persons, 1 Trash, 12.8ms\n",
      "Speed: 1.7ms preprocess, 12.8ms inference, 1.4ms postprocess per image at shape (1, 3, 256, 416)\n"
     ]
    },
    {
     "name": "stderr",
     "output_type": "stream",
     "text": [
      " 45%|███████████████████████████████▋                                      | 557/1232 [00:59<01:31,  7.35it/s]"
     ]
    },
    {
     "name": "stdout",
     "output_type": "stream",
     "text": [
      "\n",
      "image 1/1 /mnt/c/Adrianov/Projects/trash-detector/Littering--8/test/images/video_3_26_jpg.rf.6d8ebddd2d1228b1e1d42a60ed651bea.jpg: 256x416 2 Persons, 1 Trash, 17.6ms\n",
      "Speed: 2.7ms preprocess, 17.6ms inference, 2.6ms postprocess per image at shape (1, 3, 256, 416)\n"
     ]
    },
    {
     "name": "stderr",
     "output_type": "stream",
     "text": [
      " 45%|███████████████████████████████▋                                      | 558/1232 [00:59<01:31,  7.40it/s]"
     ]
    },
    {
     "name": "stdout",
     "output_type": "stream",
     "text": [
      "\n",
      "image 1/1 /mnt/c/Adrianov/Projects/trash-detector/Littering--8/test/images/video_3_26_jpg.rf.8dd2ee4861add87cde31f9aa02d65778.jpg: 256x416 2 Persons, 1 Trash, 13.0ms\n",
      "Speed: 2.2ms preprocess, 13.0ms inference, 1.9ms postprocess per image at shape (1, 3, 256, 416)\n"
     ]
    },
    {
     "name": "stderr",
     "output_type": "stream",
     "text": [
      " 45%|███████████████████████████████▊                                      | 559/1232 [00:59<01:32,  7.30it/s]"
     ]
    },
    {
     "name": "stdout",
     "output_type": "stream",
     "text": [
      "\n",
      "image 1/1 /mnt/c/Adrianov/Projects/trash-detector/Littering--8/test/images/video_3_26_jpg.rf.c1d95c16bc8137bb4d5ad44ea9d205bd.jpg: 256x416 (no detections), 13.4ms\n",
      "Speed: 1.9ms preprocess, 13.4ms inference, 0.9ms postprocess per image at shape (1, 3, 256, 416)\n"
     ]
    },
    {
     "name": "stderr",
     "output_type": "stream",
     "text": [
      " 45%|███████████████████████████████▊                                      | 560/1232 [00:59<01:37,  6.89it/s]"
     ]
    },
    {
     "name": "stdout",
     "output_type": "stream",
     "text": [
      "\n",
      "image 1/1 /mnt/c/Adrianov/Projects/trash-detector/Littering--8/test/images/video_3_27_jpg.rf.0bcf664327ff29546b63811a7c051749.jpg: 256x416 3 Persons, 1 Trash, 15.6ms\n",
      "Speed: 2.1ms preprocess, 15.6ms inference, 1.4ms postprocess per image at shape (1, 3, 256, 416)\n"
     ]
    },
    {
     "name": "stderr",
     "output_type": "stream",
     "text": [
      " 46%|███████████████████████████████▉                                      | 561/1232 [00:59<01:31,  7.37it/s]"
     ]
    },
    {
     "name": "stdout",
     "output_type": "stream",
     "text": [
      "\n",
      "image 1/1 /mnt/c/Adrianov/Projects/trash-detector/Littering--8/test/images/video_3_27_jpg.rf.5d4d279686c39fc65338dd022988ba5a.jpg: 256x416 2 Persons, 18.2ms\n",
      "Speed: 2.3ms preprocess, 18.2ms inference, 2.6ms postprocess per image at shape (1, 3, 256, 416)\n"
     ]
    },
    {
     "name": "stderr",
     "output_type": "stream",
     "text": [
      " 46%|███████████████████████████████▉                                      | 562/1232 [00:59<01:36,  6.94it/s]"
     ]
    },
    {
     "name": "stdout",
     "output_type": "stream",
     "text": [
      "\n",
      "image 1/1 /mnt/c/Adrianov/Projects/trash-detector/Littering--8/test/images/video_3_27_jpg.rf.9c81017cc2a2996bed288e2733c8ef3d.jpg: 256x416 1 Trash, 12.9ms\n",
      "Speed: 2.3ms preprocess, 12.9ms inference, 1.5ms postprocess per image at shape (1, 3, 256, 416)\n"
     ]
    },
    {
     "name": "stderr",
     "output_type": "stream",
     "text": [
      " 46%|███████████████████████████████▉                                      | 563/1232 [00:59<01:42,  6.55it/s]"
     ]
    },
    {
     "name": "stdout",
     "output_type": "stream",
     "text": [
      "\n",
      "image 1/1 /mnt/c/Adrianov/Projects/trash-detector/Littering--8/test/images/video_3_27_jpg.rf.f27d9a9825f2a7a246a41cfe67ca2a65.jpg: 256x416 2 Persons, 1 Trash, 13.4ms\n",
      "Speed: 2.9ms preprocess, 13.4ms inference, 2.5ms postprocess per image at shape (1, 3, 256, 416)\n"
     ]
    },
    {
     "name": "stderr",
     "output_type": "stream",
     "text": [
      " 46%|████████████████████████████████                                      | 564/1232 [01:00<01:54,  5.85it/s]"
     ]
    },
    {
     "name": "stdout",
     "output_type": "stream",
     "text": [
      "\n",
      "image 1/1 /mnt/c/Adrianov/Projects/trash-detector/Littering--8/test/images/video_3_28_jpg.rf.4fdeb4484397f204cbecfd5fdd771121.jpg: 256x416 3 Persons, 1 Trash, 13.4ms\n",
      "Speed: 2.0ms preprocess, 13.4ms inference, 1.7ms postprocess per image at shape (1, 3, 256, 416)\n"
     ]
    },
    {
     "name": "stderr",
     "output_type": "stream",
     "text": [
      " 46%|████████████████████████████████                                      | 565/1232 [01:00<01:41,  6.57it/s]"
     ]
    },
    {
     "name": "stdout",
     "output_type": "stream",
     "text": [
      "\n",
      "image 1/1 /mnt/c/Adrianov/Projects/trash-detector/Littering--8/test/images/video_3_28_jpg.rf.6944b5639b888634b22382c104192112.jpg: 256x416 2 Persons, 1 Trash, 13.0ms\n",
      "Speed: 1.9ms preprocess, 13.0ms inference, 1.7ms postprocess per image at shape (1, 3, 256, 416)\n",
      "\n",
      "image 1/1 /mnt/c/Adrianov/Projects/trash-detector/Littering--8/test/images/video_3_28_jpg.rf.6a19dee81abd51908c1eb208bc36bd26.jpg: 256x416 2 Persons, 13.0ms\n",
      "Speed: 1.7ms preprocess, 13.0ms inference, 2.0ms postprocess per image at shape (1, 3, 256, 416)\n"
     ]
    },
    {
     "name": "stderr",
     "output_type": "stream",
     "text": [
      " 46%|████████████████████████████████▏                                     | 567/1232 [01:00<01:23,  7.99it/s]"
     ]
    },
    {
     "name": "stdout",
     "output_type": "stream",
     "text": [
      "\n",
      "image 1/1 /mnt/c/Adrianov/Projects/trash-detector/Littering--8/test/images/video_3_28_jpg.rf.70690bd6691f15c4bcc3321eb90f7ef2.jpg: 256x416 (no detections), 13.0ms\n",
      "Speed: 1.7ms preprocess, 13.0ms inference, 0.5ms postprocess per image at shape (1, 3, 256, 416)\n",
      "\n",
      "image 1/1 /mnt/c/Adrianov/Projects/trash-detector/Littering--8/test/images/video_3_28_jpg.rf.81ce5051a11fe7fd94fad807997b70ab.jpg: 256x416 2 Persons, 12.9ms\n",
      "Speed: 2.1ms preprocess, 12.9ms inference, 2.7ms postprocess per image at shape (1, 3, 256, 416)\n"
     ]
    },
    {
     "name": "stderr",
     "output_type": "stream",
     "text": [
      " 46%|████████████████████████████████▎                                     | 569/1232 [01:00<01:13,  9.08it/s]"
     ]
    },
    {
     "name": "stdout",
     "output_type": "stream",
     "text": [
      "\n",
      "image 1/1 /mnt/c/Adrianov/Projects/trash-detector/Littering--8/test/images/video_3_29_jpg.rf.2969d17928783e1e5386031220deaa44.jpg: 256x416 2 Persons, 1 Trash, 13.3ms\n",
      "Speed: 2.3ms preprocess, 13.3ms inference, 2.7ms postprocess per image at shape (1, 3, 256, 416)\n",
      "\n",
      "image 1/1 /mnt/c/Adrianov/Projects/trash-detector/Littering--8/test/images/video_3_29_jpg.rf.5aa17a114c7a2c09c556511ee005bf7b.jpg: 256x416 2 Persons, 1 Trash, 13.0ms\n",
      "Speed: 1.6ms preprocess, 13.0ms inference, 2.2ms postprocess per image at shape (1, 3, 256, 416)\n"
     ]
    },
    {
     "name": "stderr",
     "output_type": "stream",
     "text": [
      " 46%|████████████████████████████████▍                                     | 571/1232 [01:00<01:11,  9.26it/s]"
     ]
    },
    {
     "name": "stdout",
     "output_type": "stream",
     "text": [
      "\n",
      "image 1/1 /mnt/c/Adrianov/Projects/trash-detector/Littering--8/test/images/video_3_29_jpg.rf.c62be8aaed49e23538f2ec8f0f1d14e0.jpg: 256x416 2 Persons, 1 Trash, 12.9ms\n",
      "Speed: 2.1ms preprocess, 12.9ms inference, 1.8ms postprocess per image at shape (1, 3, 256, 416)\n",
      "\n",
      "image 1/1 /mnt/c/Adrianov/Projects/trash-detector/Littering--8/test/images/video_3_29_jpg.rf.f3b4d0d1d4a9720883b84585c40171d0.jpg: 256x416 (no detections), 19.4ms\n",
      "Speed: 1.9ms preprocess, 19.4ms inference, 0.9ms postprocess per image at shape (1, 3, 256, 416)\n"
     ]
    },
    {
     "name": "stderr",
     "output_type": "stream",
     "text": [
      " 47%|████████████████████████████████▌                                     | 573/1232 [01:00<01:07,  9.74it/s]"
     ]
    },
    {
     "name": "stdout",
     "output_type": "stream",
     "text": [
      "\n",
      "image 1/1 /mnt/c/Adrianov/Projects/trash-detector/Littering--8/test/images/video_3_29_jpg.rf.fa62030f33d5c0bdc31ca8a7a9c5aa37.jpg: 256x416 2 Persons, 14.7ms\n",
      "Speed: 2.3ms preprocess, 14.7ms inference, 1.7ms postprocess per image at shape (1, 3, 256, 416)\n"
     ]
    },
    {
     "name": "stderr",
     "output_type": "stream",
     "text": [
      " 47%|████████████████████████████████▌                                     | 574/1232 [01:01<01:07,  9.78it/s]"
     ]
    },
    {
     "name": "stdout",
     "output_type": "stream",
     "text": [
      "\n",
      "image 1/1 /mnt/c/Adrianov/Projects/trash-detector/Littering--8/test/images/video_3_2_jpg.rf.563d6c18eb41d9f21671a1892922b2b4.jpg: 256x416 2 Persons, 1 Trash, 12.8ms\n",
      "Speed: 2.0ms preprocess, 12.8ms inference, 2.8ms postprocess per image at shape (1, 3, 256, 416)\n",
      "\n",
      "image 1/1 /mnt/c/Adrianov/Projects/trash-detector/Littering--8/test/images/video_3_2_jpg.rf.6017f4aee8bc9cb70dc2800a80cec0b1.jpg: 256x416 2 Persons, 1 Trash, 13.5ms\n",
      "Speed: 2.3ms preprocess, 13.5ms inference, 1.4ms postprocess per image at shape (1, 3, 256, 416)\n"
     ]
    },
    {
     "name": "stderr",
     "output_type": "stream",
     "text": [
      " 47%|████████████████████████████████▋                                     | 576/1232 [01:01<01:04, 10.14it/s]"
     ]
    },
    {
     "name": "stdout",
     "output_type": "stream",
     "text": [
      "\n",
      "image 1/1 /mnt/c/Adrianov/Projects/trash-detector/Littering--8/test/images/video_3_2_jpg.rf.aa3e4142fe65b30b20b9443c17e8cee2.jpg: 256x416 (no detections), 16.9ms\n",
      "Speed: 2.2ms preprocess, 16.9ms inference, 0.7ms postprocess per image at shape (1, 3, 256, 416)\n",
      "\n",
      "image 1/1 /mnt/c/Adrianov/Projects/trash-detector/Littering--8/test/images/video_3_2_jpg.rf.d74e59ad728de597648066a38bd420ed.jpg: 256x416 2 Persons, 15.5ms\n",
      "Speed: 2.5ms preprocess, 15.5ms inference, 2.7ms postprocess per image at shape (1, 3, 256, 416)\n"
     ]
    },
    {
     "name": "stderr",
     "output_type": "stream",
     "text": [
      " 47%|████████████████████████████████▊                                     | 578/1232 [01:01<01:01, 10.56it/s]"
     ]
    },
    {
     "name": "stdout",
     "output_type": "stream",
     "text": [
      "\n",
      "image 1/1 /mnt/c/Adrianov/Projects/trash-detector/Littering--8/test/images/video_3_30_jpg.rf.00c2b83c0ed6d1bca0c334c6cba1ce69.jpg: 256x416 2 Persons, 13.2ms\n",
      "Speed: 2.3ms preprocess, 13.2ms inference, 1.4ms postprocess per image at shape (1, 3, 256, 416)\n",
      "\n",
      "image 1/1 /mnt/c/Adrianov/Projects/trash-detector/Littering--8/test/images/video_3_30_jpg.rf.19f65ec28d8243da2ca9ba0b28cbfa27.jpg: 256x416 1 Trash, 17.5ms\n",
      "Speed: 2.2ms preprocess, 17.5ms inference, 1.5ms postprocess per image at shape (1, 3, 256, 416)\n"
     ]
    },
    {
     "name": "stderr",
     "output_type": "stream",
     "text": [
      " 47%|████████████████████████████████▉                                     | 580/1232 [01:01<01:01, 10.62it/s]"
     ]
    },
    {
     "name": "stdout",
     "output_type": "stream",
     "text": [
      "\n",
      "image 1/1 /mnt/c/Adrianov/Projects/trash-detector/Littering--8/test/images/video_3_30_jpg.rf.25487f2d35006da3ef9b8e20450ca721.jpg: 256x416 2 Persons, 13.1ms\n",
      "Speed: 2.0ms preprocess, 13.1ms inference, 1.5ms postprocess per image at shape (1, 3, 256, 416)\n",
      "\n",
      "image 1/1 /mnt/c/Adrianov/Projects/trash-detector/Littering--8/test/images/video_3_30_jpg.rf.7882eba070668de4293e27806a081154.jpg: 256x416 3 Persons, 1 Trash, 12.9ms\n",
      "Speed: 2.4ms preprocess, 12.9ms inference, 1.7ms postprocess per image at shape (1, 3, 256, 416)\n"
     ]
    },
    {
     "name": "stderr",
     "output_type": "stream",
     "text": [
      " 47%|█████████████████████████████████                                     | 582/1232 [01:01<00:59, 10.96it/s]"
     ]
    },
    {
     "name": "stdout",
     "output_type": "stream",
     "text": [
      "\n",
      "image 1/1 /mnt/c/Adrianov/Projects/trash-detector/Littering--8/test/images/video_3_3_jpg.rf.35a76820e2781f47d1f8ef93f2766c24.jpg: 256x416 2 Persons, 20.1ms\n",
      "Speed: 2.3ms preprocess, 20.1ms inference, 2.5ms postprocess per image at shape (1, 3, 256, 416)\n",
      "\n",
      "image 1/1 /mnt/c/Adrianov/Projects/trash-detector/Littering--8/test/images/video_3_3_jpg.rf.93af445a5e12ba06d65511d3b1338fc7.jpg: 256x416 2 Persons, 1 Trash, 14.2ms\n",
      "Speed: 1.9ms preprocess, 14.2ms inference, 3.5ms postprocess per image at shape (1, 3, 256, 416)\n"
     ]
    },
    {
     "name": "stderr",
     "output_type": "stream",
     "text": [
      " 47%|█████████████████████████████████▏                                    | 584/1232 [01:01<00:59, 10.95it/s]"
     ]
    },
    {
     "name": "stdout",
     "output_type": "stream",
     "text": [
      "\n",
      "image 1/1 /mnt/c/Adrianov/Projects/trash-detector/Littering--8/test/images/video_3_3_jpg.rf.ade5cd0a86a173be441ec4b397af464b.jpg: 256x416 2 Persons, 13.1ms\n",
      "Speed: 2.6ms preprocess, 13.1ms inference, 3.1ms postprocess per image at shape (1, 3, 256, 416)\n",
      "\n",
      "image 1/1 /mnt/c/Adrianov/Projects/trash-detector/Littering--8/test/images/video_3_3_jpg.rf.ebd79b46ea869176a2a8a9057a5833f1.jpg: 256x416 (no detections), 16.5ms\n",
      "Speed: 2.2ms preprocess, 16.5ms inference, 0.4ms postprocess per image at shape (1, 3, 256, 416)\n"
     ]
    },
    {
     "name": "stderr",
     "output_type": "stream",
     "text": [
      " 48%|█████████████████████████████████▎                                    | 586/1232 [01:02<00:57, 11.25it/s]"
     ]
    },
    {
     "name": "stdout",
     "output_type": "stream",
     "text": [
      "\n",
      "image 1/1 /mnt/c/Adrianov/Projects/trash-detector/Littering--8/test/images/video_3_4_jpg.rf.56bd154dccd9a54d7f9d3629ec3c6608.jpg: 256x416 (no detections), 14.6ms\n",
      "Speed: 3.7ms preprocess, 14.6ms inference, 0.5ms postprocess per image at shape (1, 3, 256, 416)\n",
      "\n",
      "image 1/1 /mnt/c/Adrianov/Projects/trash-detector/Littering--8/test/images/video_3_4_jpg.rf.61d13b09d9c5dff288079a4b750b2c24.jpg: 256x416 2 Persons, 1 Trash, 12.8ms\n",
      "Speed: 2.4ms preprocess, 12.8ms inference, 2.0ms postprocess per image at shape (1, 3, 256, 416)\n"
     ]
    },
    {
     "name": "stderr",
     "output_type": "stream",
     "text": [
      " 48%|█████████████████████████████████▍                                    | 588/1232 [01:02<00:56, 11.39it/s]"
     ]
    },
    {
     "name": "stdout",
     "output_type": "stream",
     "text": [
      "\n",
      "image 1/1 /mnt/c/Adrianov/Projects/trash-detector/Littering--8/test/images/video_3_4_jpg.rf.6809e180fe9a24e23b422f339e669644.jpg: 256x416 2 Persons, 1 Trash, 13.0ms\n",
      "Speed: 2.1ms preprocess, 13.0ms inference, 2.7ms postprocess per image at shape (1, 3, 256, 416)\n",
      "\n",
      "image 1/1 /mnt/c/Adrianov/Projects/trash-detector/Littering--8/test/images/video_3_5_jpg.rf.3dfad4bb1e064cd25349cb0eee8ae890.jpg: 256x416 2 Persons, 1 Trash, 18.0ms\n",
      "Speed: 2.3ms preprocess, 18.0ms inference, 1.3ms postprocess per image at shape (1, 3, 256, 416)\n"
     ]
    },
    {
     "name": "stderr",
     "output_type": "stream",
     "text": [
      " 48%|█████████████████████████████████▌                                    | 590/1232 [01:02<00:55, 11.58it/s]"
     ]
    },
    {
     "name": "stdout",
     "output_type": "stream",
     "text": [
      "\n",
      "image 1/1 /mnt/c/Adrianov/Projects/trash-detector/Littering--8/test/images/video_3_5_jpg.rf.9aee68fbff0eea3695b934ea5d69d9d2.jpg: 256x416 2 Persons, 1 Trash, 12.9ms\n",
      "Speed: 2.4ms preprocess, 12.9ms inference, 1.6ms postprocess per image at shape (1, 3, 256, 416)\n",
      "\n",
      "image 1/1 /mnt/c/Adrianov/Projects/trash-detector/Littering--8/test/images/video_3_5_jpg.rf.abd63f761fb49aa81761a50e268eb484.jpg: 256x416 1 Trash, 13.3ms\n",
      "Speed: 4.1ms preprocess, 13.3ms inference, 1.4ms postprocess per image at shape (1, 3, 256, 416)\n"
     ]
    },
    {
     "name": "stderr",
     "output_type": "stream",
     "text": [
      " 48%|█████████████████████████████████▋                                    | 592/1232 [01:02<01:09,  9.20it/s]"
     ]
    },
    {
     "name": "stdout",
     "output_type": "stream",
     "text": [
      "\n",
      "image 1/1 /mnt/c/Adrianov/Projects/trash-detector/Littering--8/test/images/video_3_6_jpg.rf.6601503b10d7080d9ac61c2542d8ee7b.jpg: 256x416 1 Trash, 13.1ms\n",
      "Speed: 2.0ms preprocess, 13.1ms inference, 1.7ms postprocess per image at shape (1, 3, 256, 416)\n"
     ]
    },
    {
     "name": "stderr",
     "output_type": "stream",
     "text": [
      " 48%|█████████████████████████████████▋                                    | 593/1232 [01:02<01:13,  8.67it/s]"
     ]
    },
    {
     "name": "stdout",
     "output_type": "stream",
     "text": [
      "\n",
      "image 1/1 /mnt/c/Adrianov/Projects/trash-detector/Littering--8/test/images/video_3_6_jpg.rf.748a03dac6751423835d7f0a87ce4eb9.jpg: 256x416 3 Persons, 2 Trashs, 12.9ms\n",
      "Speed: 2.1ms preprocess, 12.9ms inference, 1.8ms postprocess per image at shape (1, 3, 256, 416)\n"
     ]
    },
    {
     "name": "stderr",
     "output_type": "stream",
     "text": [
      " 48%|█████████████████████████████████▊                                    | 594/1232 [01:03<01:12,  8.76it/s]"
     ]
    },
    {
     "name": "stdout",
     "output_type": "stream",
     "text": [
      "\n",
      "image 1/1 /mnt/c/Adrianov/Projects/trash-detector/Littering--8/test/images/video_3_6_jpg.rf.888014000ec11fe21261068ba8903922.jpg: 256x416 2 Persons, 2 Trashs, 15.9ms\n",
      "Speed: 2.2ms preprocess, 15.9ms inference, 1.6ms postprocess per image at shape (1, 3, 256, 416)\n",
      "\n",
      "image 1/1 /mnt/c/Adrianov/Projects/trash-detector/Littering--8/test/images/video_3_7_jpg.rf.63fb6d60855d1aee1c6fc16759c7de99.jpg: 256x416 2 Persons, 2 Trashs, 17.1ms\n",
      "Speed: 1.8ms preprocess, 17.1ms inference, 2.2ms postprocess per image at shape (1, 3, 256, 416)\n"
     ]
    },
    {
     "name": "stderr",
     "output_type": "stream",
     "text": [
      " 48%|█████████████████████████████████▊                                    | 596/1232 [01:03<01:08,  9.35it/s]"
     ]
    },
    {
     "name": "stdout",
     "output_type": "stream",
     "text": [
      "\n",
      "image 1/1 /mnt/c/Adrianov/Projects/trash-detector/Littering--8/test/images/video_3_7_jpg.rf.8ef42f2fae1f694742fb07958957ace2.jpg: 256x416 1 Trash, 16.5ms\n",
      "Speed: 1.7ms preprocess, 16.5ms inference, 1.8ms postprocess per image at shape (1, 3, 256, 416)\n"
     ]
    },
    {
     "name": "stderr",
     "output_type": "stream",
     "text": [
      " 48%|█████████████████████████████████▉                                    | 597/1232 [01:03<01:08,  9.29it/s]"
     ]
    },
    {
     "name": "stdout",
     "output_type": "stream",
     "text": [
      "\n",
      "image 1/1 /mnt/c/Adrianov/Projects/trash-detector/Littering--8/test/images/video_3_7_jpg.rf.ea550bf748da4bebd3953b7617adfbe8.jpg: 256x416 3 Persons, 12.9ms\n",
      "Speed: 2.2ms preprocess, 12.9ms inference, 1.9ms postprocess per image at shape (1, 3, 256, 416)\n"
     ]
    },
    {
     "name": "stderr",
     "output_type": "stream",
     "text": [
      " 49%|█████████████████████████████████▉                                    | 598/1232 [01:03<01:07,  9.40it/s]"
     ]
    },
    {
     "name": "stdout",
     "output_type": "stream",
     "text": [
      "\n",
      "image 1/1 /mnt/c/Adrianov/Projects/trash-detector/Littering--8/test/images/video_3_8_jpg.rf.8aa63daef3ead586daa2a3b7be80a1c7.jpg: 256x416 3 Persons, 13.6ms\n",
      "Speed: 2.9ms preprocess, 13.6ms inference, 1.7ms postprocess per image at shape (1, 3, 256, 416)\n"
     ]
    },
    {
     "name": "stderr",
     "output_type": "stream",
     "text": [
      " 49%|██████████████████████████████████                                    | 599/1232 [01:03<01:16,  8.29it/s]"
     ]
    },
    {
     "name": "stdout",
     "output_type": "stream",
     "text": [
      "\n",
      "image 1/1 /mnt/c/Adrianov/Projects/trash-detector/Littering--8/test/images/video_3_8_jpg.rf.998b94da170aec1cd85f694cd925473b.jpg: 256x416 1 Trash, 13.0ms\n",
      "Speed: 2.5ms preprocess, 13.0ms inference, 1.7ms postprocess per image at shape (1, 3, 256, 416)\n"
     ]
    },
    {
     "name": "stderr",
     "output_type": "stream",
     "text": [
      " 49%|██████████████████████████████████                                    | 600/1232 [01:03<01:29,  7.03it/s]"
     ]
    },
    {
     "name": "stdout",
     "output_type": "stream",
     "text": [
      "\n",
      "image 1/1 /mnt/c/Adrianov/Projects/trash-detector/Littering--8/test/images/video_3_8_jpg.rf.a3e3dcb3287c6b750dfce8e612fdb14f.jpg: 256x416 2 Persons, 12.9ms\n",
      "Speed: 1.9ms preprocess, 12.9ms inference, 1.6ms postprocess per image at shape (1, 3, 256, 416)\n",
      "\n",
      "image 1/1 /mnt/c/Adrianov/Projects/trash-detector/Littering--8/test/images/video_3_8_jpg.rf.a96bb1520f7d6e8216ac3dc8c60e1f73.jpg: 256x416 2 Persons, 2 Trashs, 17.1ms\n",
      "Speed: 1.7ms preprocess, 17.1ms inference, 2.9ms postprocess per image at shape (1, 3, 256, 416)\n"
     ]
    },
    {
     "name": "stderr",
     "output_type": "stream",
     "text": [
      " 49%|██████████████████████████████████▏                                   | 602/1232 [01:03<01:15,  8.35it/s]"
     ]
    },
    {
     "name": "stdout",
     "output_type": "stream",
     "text": [
      "\n",
      "image 1/1 /mnt/c/Adrianov/Projects/trash-detector/Littering--8/test/images/video_3_9_jpg.rf.36d4d6f3c36e1b7d69587641cfcb65d5.jpg: 256x416 3 Persons, 1 Trash, 13.0ms\n",
      "Speed: 2.0ms preprocess, 13.0ms inference, 2.2ms postprocess per image at shape (1, 3, 256, 416)\n",
      "\n",
      "image 1/1 /mnt/c/Adrianov/Projects/trash-detector/Littering--8/test/images/video_3_9_jpg.rf.73dbb18da610ed4778c0aad4d6377b5f.jpg: 256x416 2 Persons, 12.9ms\n",
      "Speed: 4.6ms preprocess, 12.9ms inference, 2.0ms postprocess per image at shape (1, 3, 256, 416)\n"
     ]
    },
    {
     "name": "stderr",
     "output_type": "stream",
     "text": [
      " 49%|██████████████████████████████████▎                                   | 604/1232 [01:04<01:08,  9.12it/s]"
     ]
    },
    {
     "name": "stdout",
     "output_type": "stream",
     "text": [
      "\n",
      "image 1/1 /mnt/c/Adrianov/Projects/trash-detector/Littering--8/test/images/video_3_9_jpg.rf.ddc6d0d51aae6241d9644c2ca40f2180.jpg: 256x416 1 Trash, 14.2ms\n",
      "Speed: 1.8ms preprocess, 14.2ms inference, 1.4ms postprocess per image at shape (1, 3, 256, 416)\n"
     ]
    },
    {
     "name": "stderr",
     "output_type": "stream",
     "text": [
      " 49%|██████████████████████████████████▍                                   | 605/1232 [01:04<01:07,  9.26it/s]"
     ]
    },
    {
     "name": "stdout",
     "output_type": "stream",
     "text": [
      "\n",
      "image 1/1 /mnt/c/Adrianov/Projects/trash-detector/Littering--8/test/images/video_3_9_jpg.rf.ec18cc824a717f0e6795537deb46e9b2.jpg: 256x416 2 Persons, 2 Trashs, 13.6ms\n",
      "Speed: 2.2ms preprocess, 13.6ms inference, 1.7ms postprocess per image at shape (1, 3, 256, 416)\n",
      "\n",
      "image 1/1 /mnt/c/Adrianov/Projects/trash-detector/Littering--8/test/images/video_4_10_jpg.rf.43beb5d9c1a931627664066d47f6fbf5.jpg: 256x416 4 Persons, 12.9ms\n",
      "Speed: 2.1ms preprocess, 12.9ms inference, 1.7ms postprocess per image at shape (1, 3, 256, 416)\n"
     ]
    },
    {
     "name": "stderr",
     "output_type": "stream",
     "text": [
      " 49%|██████████████████████████████████▍                                   | 607/1232 [01:04<01:04,  9.69it/s]"
     ]
    },
    {
     "name": "stdout",
     "output_type": "stream",
     "text": [
      "\n",
      "image 1/1 /mnt/c/Adrianov/Projects/trash-detector/Littering--8/test/images/video_4_10_jpg.rf.84945cee6c62d0ddd4aadd838ee87d14.jpg: 256x416 2 Persons, 1 Trash, 15.5ms\n",
      "Speed: 1.8ms preprocess, 15.5ms inference, 1.4ms postprocess per image at shape (1, 3, 256, 416)\n",
      "\n",
      "image 1/1 /mnt/c/Adrianov/Projects/trash-detector/Littering--8/test/images/video_4_10_jpg.rf.9210444db2233555e2ba9120a3764b92.jpg: 256x416 2 Persons, 12.8ms\n",
      "Speed: 2.2ms preprocess, 12.8ms inference, 1.4ms postprocess per image at shape (1, 3, 256, 416)\n"
     ]
    },
    {
     "name": "stderr",
     "output_type": "stream",
     "text": [
      " 49%|██████████████████████████████████▌                                   | 609/1232 [01:04<01:00, 10.30it/s]"
     ]
    },
    {
     "name": "stdout",
     "output_type": "stream",
     "text": [
      "\n",
      "image 1/1 /mnt/c/Adrianov/Projects/trash-detector/Littering--8/test/images/video_4_11_jpg.rf.8c4bdfb0d4b6bac095c1f5266dd728cf.jpg: 256x416 2 Persons, 14.4ms\n",
      "Speed: 2.3ms preprocess, 14.4ms inference, 2.7ms postprocess per image at shape (1, 3, 256, 416)\n",
      "\n",
      "image 1/1 /mnt/c/Adrianov/Projects/trash-detector/Littering--8/test/images/video_4_11_jpg.rf.99c34eb118c90dc0d2e8213d2553e4c1.jpg: 256x416 2 Persons, 12.8ms\n",
      "Speed: 2.4ms preprocess, 12.8ms inference, 1.6ms postprocess per image at shape (1, 3, 256, 416)\n"
     ]
    },
    {
     "name": "stderr",
     "output_type": "stream",
     "text": [
      " 50%|██████████████████████████████████▋                                   | 611/1232 [01:04<01:02,  9.90it/s]"
     ]
    },
    {
     "name": "stdout",
     "output_type": "stream",
     "text": [
      "\n",
      "image 1/1 /mnt/c/Adrianov/Projects/trash-detector/Littering--8/test/images/video_4_11_jpg.rf.c55a7f493b511c5d66585e6514ee63c6.jpg: 256x416 3 Persons, 13.0ms\n",
      "Speed: 3.0ms preprocess, 13.0ms inference, 1.7ms postprocess per image at shape (1, 3, 256, 416)\n"
     ]
    },
    {
     "name": "stderr",
     "output_type": "stream",
     "text": [
      " 50%|██████████████████████████████████▊                                   | 612/1232 [01:04<01:03,  9.75it/s]"
     ]
    },
    {
     "name": "stdout",
     "output_type": "stream",
     "text": [
      "\n",
      "image 1/1 /mnt/c/Adrianov/Projects/trash-detector/Littering--8/test/images/video_4_11_jpg.rf.ce450ca7381cc27b532021a38c95f05c.jpg: 256x416 2 Persons, 16.5ms\n",
      "Speed: 3.1ms preprocess, 16.5ms inference, 1.5ms postprocess per image at shape (1, 3, 256, 416)\n"
     ]
    },
    {
     "name": "stderr",
     "output_type": "stream",
     "text": [
      " 50%|██████████████████████████████████▊                                   | 613/1232 [01:05<01:03,  9.71it/s]"
     ]
    },
    {
     "name": "stdout",
     "output_type": "stream",
     "text": [
      "\n",
      "image 1/1 /mnt/c/Adrianov/Projects/trash-detector/Littering--8/test/images/video_4_12_jpg.rf.6270a3921d9c1ee11fac95ef06aef118.jpg: 256x416 2 Persons, 1 Trash, 13.7ms\n",
      "Speed: 2.1ms preprocess, 13.7ms inference, 3.0ms postprocess per image at shape (1, 3, 256, 416)\n"
     ]
    },
    {
     "name": "stderr",
     "output_type": "stream",
     "text": [
      " 50%|██████████████████████████████████▉                                   | 614/1232 [01:05<01:14,  8.25it/s]"
     ]
    },
    {
     "name": "stdout",
     "output_type": "stream",
     "text": [
      "\n",
      "image 1/1 /mnt/c/Adrianov/Projects/trash-detector/Littering--8/test/images/video_4_12_jpg.rf.8f9a21c2cb5f3f09118fa3f013abac52.jpg: 256x416 3 Persons, 16.8ms\n",
      "Speed: 2.4ms preprocess, 16.8ms inference, 2.1ms postprocess per image at shape (1, 3, 256, 416)\n"
     ]
    },
    {
     "name": "stderr",
     "output_type": "stream",
     "text": [
      " 50%|██████████████████████████████████▉                                   | 615/1232 [01:05<01:17,  7.95it/s]"
     ]
    },
    {
     "name": "stdout",
     "output_type": "stream",
     "text": [
      "\n",
      "image 1/1 /mnt/c/Adrianov/Projects/trash-detector/Littering--8/test/images/video_4_12_jpg.rf.caf395571bf2186e01e721063957d4be.jpg: 256x416 2 Persons, 13.1ms\n",
      "Speed: 2.3ms preprocess, 13.1ms inference, 2.5ms postprocess per image at shape (1, 3, 256, 416)\n"
     ]
    },
    {
     "name": "stderr",
     "output_type": "stream",
     "text": [
      " 50%|███████████████████████████████████                                   | 616/1232 [01:05<01:18,  7.83it/s]"
     ]
    },
    {
     "name": "stdout",
     "output_type": "stream",
     "text": [
      "\n",
      "image 1/1 /mnt/c/Adrianov/Projects/trash-detector/Littering--8/test/images/video_4_12_jpg.rf.cfa39a50afb915f76a124f9fb708aa29.jpg: 256x416 2 Persons, 13.3ms\n",
      "Speed: 1.9ms preprocess, 13.3ms inference, 4.3ms postprocess per image at shape (1, 3, 256, 416)\n"
     ]
    },
    {
     "name": "stderr",
     "output_type": "stream",
     "text": [
      " 50%|███████████████████████████████████                                   | 617/1232 [01:05<01:18,  7.80it/s]"
     ]
    },
    {
     "name": "stdout",
     "output_type": "stream",
     "text": [
      "\n",
      "image 1/1 /mnt/c/Adrianov/Projects/trash-detector/Littering--8/test/images/video_4_13_jpg.rf.179a5f4a6437dd5be7a15e553367b0dd.jpg: 256x416 2 Persons, 1 Trash, 16.5ms\n",
      "Speed: 2.4ms preprocess, 16.5ms inference, 3.4ms postprocess per image at shape (1, 3, 256, 416)\n"
     ]
    },
    {
     "name": "stderr",
     "output_type": "stream",
     "text": [
      " 50%|███████████████████████████████████                                   | 618/1232 [01:05<01:23,  7.38it/s]"
     ]
    },
    {
     "name": "stdout",
     "output_type": "stream",
     "text": [
      "\n",
      "image 1/1 /mnt/c/Adrianov/Projects/trash-detector/Littering--8/test/images/video_4_13_jpg.rf.ab9d67bb0acd4a653e78c528b0503e10.jpg: 256x416 2 Persons, 12.9ms\n",
      "Speed: 2.2ms preprocess, 12.9ms inference, 2.5ms postprocess per image at shape (1, 3, 256, 416)\n"
     ]
    },
    {
     "name": "stderr",
     "output_type": "stream",
     "text": [
      " 50%|███████████████████████████████████▏                                  | 619/1232 [01:05<01:22,  7.41it/s]"
     ]
    },
    {
     "name": "stdout",
     "output_type": "stream",
     "text": [
      "\n",
      "image 1/1 /mnt/c/Adrianov/Projects/trash-detector/Littering--8/test/images/video_4_13_jpg.rf.b7a902cdd02952e80c1f727ae843ff35.jpg: 256x416 3 Persons, 16.0ms\n",
      "Speed: 2.4ms preprocess, 16.0ms inference, 1.5ms postprocess per image at shape (1, 3, 256, 416)\n"
     ]
    },
    {
     "name": "stderr",
     "output_type": "stream",
     "text": [
      " 50%|███████████████████████████████████▏                                  | 620/1232 [01:06<01:22,  7.41it/s]"
     ]
    },
    {
     "name": "stdout",
     "output_type": "stream",
     "text": [
      "\n",
      "image 1/1 /mnt/c/Adrianov/Projects/trash-detector/Littering--8/test/images/video_4_14_jpg.rf.410bd943bdb6dc188ff2f44bf6efcf02.jpg: 256x416 2 Persons, 12.8ms\n",
      "Speed: 2.2ms preprocess, 12.8ms inference, 1.6ms postprocess per image at shape (1, 3, 256, 416)\n"
     ]
    },
    {
     "name": "stderr",
     "output_type": "stream",
     "text": [
      " 50%|███████████████████████████████████▎                                  | 621/1232 [01:06<01:21,  7.47it/s]"
     ]
    },
    {
     "name": "stdout",
     "output_type": "stream",
     "text": [
      "\n",
      "image 1/1 /mnt/c/Adrianov/Projects/trash-detector/Littering--8/test/images/video_4_14_jpg.rf.6d9689d3e1c1b08079bd4409fb093891.jpg: 256x416 3 Persons, 13.0ms\n",
      "Speed: 2.2ms preprocess, 13.0ms inference, 4.8ms postprocess per image at shape (1, 3, 256, 416)\n"
     ]
    },
    {
     "name": "stderr",
     "output_type": "stream",
     "text": [
      " 50%|███████████████████████████████████▎                                  | 622/1232 [01:06<01:22,  7.37it/s]"
     ]
    },
    {
     "name": "stdout",
     "output_type": "stream",
     "text": [
      "\n",
      "image 1/1 /mnt/c/Adrianov/Projects/trash-detector/Littering--8/test/images/video_4_14_jpg.rf.9dbf93ab5e294f6f3ffbf687449d408c.jpg: 256x416 2 Persons, 1 Trash, 13.0ms\n",
      "Speed: 2.0ms preprocess, 13.0ms inference, 2.0ms postprocess per image at shape (1, 3, 256, 416)\n"
     ]
    },
    {
     "name": "stderr",
     "output_type": "stream",
     "text": [
      " 51%|███████████████████████████████████▍                                  | 623/1232 [01:06<01:25,  7.12it/s]"
     ]
    },
    {
     "name": "stdout",
     "output_type": "stream",
     "text": [
      "\n",
      "image 1/1 /mnt/c/Adrianov/Projects/trash-detector/Littering--8/test/images/video_4_15_jpg.rf.343bd69ab8c54872be4e9e490e51ceeb.jpg: 256x416 2 Persons, 13.0ms\n",
      "Speed: 2.8ms preprocess, 13.0ms inference, 2.1ms postprocess per image at shape (1, 3, 256, 416)\n"
     ]
    },
    {
     "name": "stderr",
     "output_type": "stream",
     "text": [
      " 51%|███████████████████████████████████▍                                  | 624/1232 [01:06<01:33,  6.51it/s]"
     ]
    },
    {
     "name": "stdout",
     "output_type": "stream",
     "text": [
      "\n",
      "image 1/1 /mnt/c/Adrianov/Projects/trash-detector/Littering--8/test/images/video_4_15_jpg.rf.a8bc87993167957951d47e92d03d1f4f.jpg: 256x416 3 Persons, 24.4ms\n",
      "Speed: 3.0ms preprocess, 24.4ms inference, 3.1ms postprocess per image at shape (1, 3, 256, 416)\n"
     ]
    },
    {
     "name": "stderr",
     "output_type": "stream",
     "text": [
      " 51%|███████████████████████████████████▌                                  | 625/1232 [01:06<01:43,  5.85it/s]"
     ]
    },
    {
     "name": "stdout",
     "output_type": "stream",
     "text": [
      "\n",
      "image 1/1 /mnt/c/Adrianov/Projects/trash-detector/Littering--8/test/images/video_4_15_jpg.rf.cc2dfb5e6ac481e84d578dd852d3fbf2.jpg: 256x416 2 Persons, 1 Trash, 18.4ms\n",
      "Speed: 2.2ms preprocess, 18.4ms inference, 3.4ms postprocess per image at shape (1, 3, 256, 416)\n"
     ]
    },
    {
     "name": "stderr",
     "output_type": "stream",
     "text": [
      " 51%|███████████████████████████████████▌                                  | 626/1232 [01:07<01:58,  5.12it/s]"
     ]
    },
    {
     "name": "stdout",
     "output_type": "stream",
     "text": [
      "\n",
      "image 1/1 /mnt/c/Adrianov/Projects/trash-detector/Littering--8/test/images/video_4_16_jpg.rf.79548bcbae9fa5ee5b144027826ba14a.jpg: 256x416 2 Persons, 1 Trash, 13.5ms\n",
      "Speed: 2.3ms preprocess, 13.5ms inference, 2.8ms postprocess per image at shape (1, 3, 256, 416)\n"
     ]
    },
    {
     "name": "stderr",
     "output_type": "stream",
     "text": [
      " 51%|███████████████████████████████████▋                                  | 627/1232 [01:07<01:48,  5.60it/s]"
     ]
    },
    {
     "name": "stdout",
     "output_type": "stream",
     "text": [
      "\n",
      "image 1/1 /mnt/c/Adrianov/Projects/trash-detector/Littering--8/test/images/video_4_16_jpg.rf.8640fff750f9f25558cb256e3afa8c74.jpg: 256x416 2 Persons, 13.3ms\n",
      "Speed: 2.1ms preprocess, 13.3ms inference, 2.6ms postprocess per image at shape (1, 3, 256, 416)\n",
      "\n",
      "image 1/1 /mnt/c/Adrianov/Projects/trash-detector/Littering--8/test/images/video_4_16_jpg.rf.99baab66e2596f5faad3ad65e2968ab8.jpg: 256x416 3 Persons, 13.0ms\n",
      "Speed: 1.9ms preprocess, 13.0ms inference, 1.5ms postprocess per image at shape (1, 3, 256, 416)\n"
     ]
    },
    {
     "name": "stderr",
     "output_type": "stream",
     "text": [
      " 51%|███████████████████████████████████▋                                  | 629/1232 [01:07<01:23,  7.26it/s]"
     ]
    },
    {
     "name": "stdout",
     "output_type": "stream",
     "text": [
      "\n",
      "image 1/1 /mnt/c/Adrianov/Projects/trash-detector/Littering--8/test/images/video_4_17_jpg.rf.07a922ab46b888aea6933120d6bd1304.jpg: 256x416 3 Persons, 14.9ms\n",
      "Speed: 2.4ms preprocess, 14.9ms inference, 1.8ms postprocess per image at shape (1, 3, 256, 416)\n",
      "\n",
      "image 1/1 /mnt/c/Adrianov/Projects/trash-detector/Littering--8/test/images/video_4_17_jpg.rf.63b0d54b81b10c0b57bde22e2f9e2134.jpg: 256x416 2 Persons, 16.6ms\n",
      "Speed: 2.1ms preprocess, 16.6ms inference, 2.8ms postprocess per image at shape (1, 3, 256, 416)\n"
     ]
    },
    {
     "name": "stderr",
     "output_type": "stream",
     "text": [
      " 51%|███████████████████████████████████▊                                  | 631/1232 [01:07<01:12,  8.26it/s]"
     ]
    },
    {
     "name": "stdout",
     "output_type": "stream",
     "text": [
      "\n",
      "image 1/1 /mnt/c/Adrianov/Projects/trash-detector/Littering--8/test/images/video_4_17_jpg.rf.9f6329d2a8a8c2e6d111282878a3abdc.jpg: 256x416 2 Persons, 1 Trash, 13.3ms\n",
      "Speed: 2.0ms preprocess, 13.3ms inference, 2.3ms postprocess per image at shape (1, 3, 256, 416)\n"
     ]
    },
    {
     "name": "stderr",
     "output_type": "stream",
     "text": [
      " 51%|███████████████████████████████████▉                                  | 632/1232 [01:07<01:10,  8.56it/s]"
     ]
    },
    {
     "name": "stdout",
     "output_type": "stream",
     "text": [
      "\n",
      "image 1/1 /mnt/c/Adrianov/Projects/trash-detector/Littering--8/test/images/video_4_17_jpg.rf.eee15dcdba87b83b39e64bf1d577ad55.jpg: 256x416 2 Persons, 14.3ms\n",
      "Speed: 2.5ms preprocess, 14.3ms inference, 1.7ms postprocess per image at shape (1, 3, 256, 416)\n"
     ]
    },
    {
     "name": "stderr",
     "output_type": "stream",
     "text": [
      " 51%|███████████████████████████████████▉                                  | 633/1232 [01:07<01:10,  8.49it/s]"
     ]
    },
    {
     "name": "stdout",
     "output_type": "stream",
     "text": [
      "\n",
      "image 1/1 /mnt/c/Adrianov/Projects/trash-detector/Littering--8/test/images/video_4_18_jpg.rf.199e84b8f5660a2660c164bc6a73b166.jpg: 256x416 2 Persons, 17.2ms\n",
      "Speed: 2.0ms preprocess, 17.2ms inference, 2.7ms postprocess per image at shape (1, 3, 256, 416)\n"
     ]
    },
    {
     "name": "stderr",
     "output_type": "stream",
     "text": [
      " 51%|████████████████████████████████████                                  | 634/1232 [01:08<01:09,  8.55it/s]"
     ]
    },
    {
     "name": "stdout",
     "output_type": "stream",
     "text": [
      "\n",
      "image 1/1 /mnt/c/Adrianov/Projects/trash-detector/Littering--8/test/images/video_4_18_jpg.rf.42258cad38afb02c2608ac79066088af.jpg: 256x416 2 Persons, 1 Trash, 12.9ms\n",
      "Speed: 2.3ms preprocess, 12.9ms inference, 1.9ms postprocess per image at shape (1, 3, 256, 416)\n"
     ]
    },
    {
     "name": "stderr",
     "output_type": "stream",
     "text": [
      " 52%|████████████████████████████████████                                  | 635/1232 [01:08<01:09,  8.64it/s]"
     ]
    },
    {
     "name": "stdout",
     "output_type": "stream",
     "text": [
      "\n",
      "image 1/1 /mnt/c/Adrianov/Projects/trash-detector/Littering--8/test/images/video_4_18_jpg.rf.61954cbcfa0a3374e0dfa2a5ce491869.jpg: 256x416 3 Persons, 14.0ms\n",
      "Speed: 3.3ms preprocess, 14.0ms inference, 1.9ms postprocess per image at shape (1, 3, 256, 416)\n"
     ]
    },
    {
     "name": "stderr",
     "output_type": "stream",
     "text": [
      " 52%|████████████████████████████████████▏                                 | 636/1232 [01:08<01:07,  8.78it/s]"
     ]
    },
    {
     "name": "stdout",
     "output_type": "stream",
     "text": [
      "\n",
      "image 1/1 /mnt/c/Adrianov/Projects/trash-detector/Littering--8/test/images/video_4_19_jpg.rf.27f7c005e1dd412f141bb5c18a949817.jpg: 256x416 2 Persons, 22.4ms\n",
      "Speed: 2.7ms preprocess, 22.4ms inference, 2.1ms postprocess per image at shape (1, 3, 256, 416)\n",
      "\n",
      "image 1/1 /mnt/c/Adrianov/Projects/trash-detector/Littering--8/test/images/video_4_19_jpg.rf.4774077edd45e4d697ace975fbca3127.jpg: 256x416 2 Persons, 1 Trash, 12.9ms\n",
      "Speed: 1.7ms preprocess, 12.9ms inference, 1.6ms postprocess per image at shape (1, 3, 256, 416)\n"
     ]
    },
    {
     "name": "stderr",
     "output_type": "stream",
     "text": [
      " 52%|████████████████████████████████████▎                                 | 638/1232 [01:08<01:02,  9.48it/s]"
     ]
    },
    {
     "name": "stdout",
     "output_type": "stream",
     "text": [
      "\n",
      "image 1/1 /mnt/c/Adrianov/Projects/trash-detector/Littering--8/test/images/video_4_19_jpg.rf.c8011264ad79648ab30132d3f6776de3.jpg: 256x416 3 Persons, 12.8ms\n",
      "Speed: 1.9ms preprocess, 12.8ms inference, 1.4ms postprocess per image at shape (1, 3, 256, 416)\n",
      "\n",
      "image 1/1 /mnt/c/Adrianov/Projects/trash-detector/Littering--8/test/images/video_4_19_jpg.rf.ec4a56ec644c6123efa59a46838fbe4a.jpg: 256x416 2 Persons, 1 Trash, 12.9ms\n",
      "Speed: 2.0ms preprocess, 12.9ms inference, 2.8ms postprocess per image at shape (1, 3, 256, 416)\n"
     ]
    },
    {
     "name": "stderr",
     "output_type": "stream",
     "text": [
      " 52%|████████████████████████████████████▎                                 | 640/1232 [01:08<01:00,  9.86it/s]"
     ]
    },
    {
     "name": "stdout",
     "output_type": "stream",
     "text": [
      "\n",
      "image 1/1 /mnt/c/Adrianov/Projects/trash-detector/Littering--8/test/images/video_4_1_jpg.rf.7f2aecfeb45d2aecc5c8982ba3b4072b.jpg: 256x416 2 Persons, 1 Trash, 12.9ms\n",
      "Speed: 2.1ms preprocess, 12.9ms inference, 2.0ms postprocess per image at shape (1, 3, 256, 416)\n",
      "\n",
      "image 1/1 /mnt/c/Adrianov/Projects/trash-detector/Littering--8/test/images/video_4_1_jpg.rf.c6c5e487ca55d6b6dcfd23eaae90b72c.jpg: 256x416 3 Persons, 12.9ms\n",
      "Speed: 3.1ms preprocess, 12.9ms inference, 1.7ms postprocess per image at shape (1, 3, 256, 416)\n"
     ]
    },
    {
     "name": "stderr",
     "output_type": "stream",
     "text": [
      " 52%|████████████████████████████████████▍                                 | 642/1232 [01:08<00:59,  9.95it/s]"
     ]
    },
    {
     "name": "stdout",
     "output_type": "stream",
     "text": [
      "\n",
      "image 1/1 /mnt/c/Adrianov/Projects/trash-detector/Littering--8/test/images/video_4_1_jpg.rf.e1112788313f64490618166929a295a7.jpg: 256x416 2 Persons, 12.9ms\n",
      "Speed: 1.6ms preprocess, 12.9ms inference, 1.9ms postprocess per image at shape (1, 3, 256, 416)\n",
      "\n",
      "image 1/1 /mnt/c/Adrianov/Projects/trash-detector/Littering--8/test/images/video_4_20_jpg.rf.136302679e3fe587580667dc9159937b.jpg: 256x416 2 Persons, 20.2ms\n",
      "Speed: 2.0ms preprocess, 20.2ms inference, 2.5ms postprocess per image at shape (1, 3, 256, 416)\n"
     ]
    },
    {
     "name": "stderr",
     "output_type": "stream",
     "text": [
      " 52%|████████████████████████████████████▌                                 | 644/1232 [01:08<00:57, 10.19it/s]"
     ]
    },
    {
     "name": "stdout",
     "output_type": "stream",
     "text": [
      "\n",
      "image 1/1 /mnt/c/Adrianov/Projects/trash-detector/Littering--8/test/images/video_4_20_jpg.rf.20b41bf95efe52b51d247c2131dcde53.jpg: 256x416 2 Persons, 19.4ms\n",
      "Speed: 2.4ms preprocess, 19.4ms inference, 2.9ms postprocess per image at shape (1, 3, 256, 416)\n",
      "\n",
      "image 1/1 /mnt/c/Adrianov/Projects/trash-detector/Littering--8/test/images/video_4_20_jpg.rf.37972952817e8cf1e6c414bee2eb78ff.jpg: 256x416 2 Persons, 1 Trash, 12.9ms\n",
      "Speed: 1.9ms preprocess, 12.9ms inference, 1.9ms postprocess per image at shape (1, 3, 256, 416)\n"
     ]
    },
    {
     "name": "stderr",
     "output_type": "stream",
     "text": [
      " 52%|████████████████████████████████████▋                                 | 646/1232 [01:09<00:57, 10.14it/s]"
     ]
    },
    {
     "name": "stdout",
     "output_type": "stream",
     "text": [
      "\n",
      "image 1/1 /mnt/c/Adrianov/Projects/trash-detector/Littering--8/test/images/video_4_20_jpg.rf.7c05ee08809a569ef7307fb757fcf03d.jpg: 256x416 3 Persons, 13.0ms\n",
      "Speed: 2.2ms preprocess, 13.0ms inference, 1.4ms postprocess per image at shape (1, 3, 256, 416)\n",
      "\n",
      "image 1/1 /mnt/c/Adrianov/Projects/trash-detector/Littering--8/test/images/video_4_21_jpg.rf.064d53fbf7c7d05f06d2d98d3657911d.jpg: 256x416 3 Persons, 12.8ms\n",
      "Speed: 2.4ms preprocess, 12.8ms inference, 1.7ms postprocess per image at shape (1, 3, 256, 416)\n"
     ]
    },
    {
     "name": "stderr",
     "output_type": "stream",
     "text": [
      " 53%|████████████████████████████████████▊                                 | 648/1232 [01:09<00:55, 10.53it/s]"
     ]
    },
    {
     "name": "stdout",
     "output_type": "stream",
     "text": [
      "\n",
      "image 1/1 /mnt/c/Adrianov/Projects/trash-detector/Littering--8/test/images/video_4_21_jpg.rf.ce397dfc5cfcdef03927fd60013d9fea.jpg: 256x416 2 Persons, 1 Trash, 12.9ms\n",
      "Speed: 1.8ms preprocess, 12.9ms inference, 1.5ms postprocess per image at shape (1, 3, 256, 416)\n",
      "\n",
      "image 1/1 /mnt/c/Adrianov/Projects/trash-detector/Littering--8/test/images/video_4_21_jpg.rf.e4356cabed83cc1a532f62e2e4604000.jpg: 256x416 2 Persons, 12.9ms\n",
      "Speed: 2.0ms preprocess, 12.9ms inference, 1.4ms postprocess per image at shape (1, 3, 256, 416)\n"
     ]
    },
    {
     "name": "stderr",
     "output_type": "stream",
     "text": [
      " 53%|████████████████████████████████████▉                                 | 650/1232 [01:09<00:53, 10.96it/s]"
     ]
    },
    {
     "name": "stdout",
     "output_type": "stream",
     "text": [
      "\n",
      "image 1/1 /mnt/c/Adrianov/Projects/trash-detector/Littering--8/test/images/video_4_22_jpg.rf.33950becf2b0f88a6ed6023fba0f59f3.jpg: 256x416 2 Persons, 12.8ms\n",
      "Speed: 2.0ms preprocess, 12.8ms inference, 1.4ms postprocess per image at shape (1, 3, 256, 416)\n",
      "\n",
      "image 1/1 /mnt/c/Adrianov/Projects/trash-detector/Littering--8/test/images/video_4_22_jpg.rf.66d96fc17d1d33c6a0175012344d839b.jpg: 256x416 4 Persons, 13.1ms\n",
      "Speed: 2.0ms preprocess, 13.1ms inference, 1.5ms postprocess per image at shape (1, 3, 256, 416)\n"
     ]
    },
    {
     "name": "stderr",
     "output_type": "stream",
     "text": [
      " 53%|█████████████████████████████████████                                 | 652/1232 [01:09<00:52, 11.08it/s]"
     ]
    },
    {
     "name": "stdout",
     "output_type": "stream",
     "text": [
      "\n",
      "image 1/1 /mnt/c/Adrianov/Projects/trash-detector/Littering--8/test/images/video_4_22_jpg.rf.800603186f6ee95bcd2e2d401a1044d6.jpg: 256x416 2 Persons, 12.8ms\n",
      "Speed: 2.3ms preprocess, 12.8ms inference, 2.0ms postprocess per image at shape (1, 3, 256, 416)\n",
      "\n",
      "image 1/1 /mnt/c/Adrianov/Projects/trash-detector/Littering--8/test/images/video_4_22_jpg.rf.c9aeab756cd865928b6fe87584d1d90c.jpg: 256x416 2 Persons, 2 Trashs, 14.4ms\n",
      "Speed: 2.0ms preprocess, 14.4ms inference, 1.4ms postprocess per image at shape (1, 3, 256, 416)\n"
     ]
    },
    {
     "name": "stderr",
     "output_type": "stream",
     "text": [
      " 53%|█████████████████████████████████████▏                                | 654/1232 [01:09<00:51, 11.17it/s]"
     ]
    },
    {
     "name": "stdout",
     "output_type": "stream",
     "text": [
      "\n",
      "image 1/1 /mnt/c/Adrianov/Projects/trash-detector/Littering--8/test/images/video_4_23_jpg.rf.0708b9421aec98c0ae39995e084c55c9.jpg: 256x416 2 Persons, 12.8ms\n",
      "Speed: 1.5ms preprocess, 12.8ms inference, 1.4ms postprocess per image at shape (1, 3, 256, 416)\n",
      "\n",
      "image 1/1 /mnt/c/Adrianov/Projects/trash-detector/Littering--8/test/images/video_4_23_jpg.rf.d40a2e2c98f0fc3a75b37ca2911105a9.jpg: 256x416 4 Persons, 15.1ms\n",
      "Speed: 1.9ms preprocess, 15.1ms inference, 1.6ms postprocess per image at shape (1, 3, 256, 416)\n"
     ]
    },
    {
     "name": "stderr",
     "output_type": "stream",
     "text": [
      " 53%|█████████████████████████████████████▎                                | 656/1232 [01:10<00:50, 11.37it/s]"
     ]
    },
    {
     "name": "stdout",
     "output_type": "stream",
     "text": [
      "\n",
      "image 1/1 /mnt/c/Adrianov/Projects/trash-detector/Littering--8/test/images/video_4_23_jpg.rf.f347b51973cbc8166b8fe41422e5ced4.jpg: 256x416 2 Persons, 2 Trashs, 12.8ms\n",
      "Speed: 1.9ms preprocess, 12.8ms inference, 1.5ms postprocess per image at shape (1, 3, 256, 416)\n",
      "\n",
      "image 1/1 /mnt/c/Adrianov/Projects/trash-detector/Littering--8/test/images/video_4_24_jpg.rf.286e461b570da1252a4e3f0c9194e2eb.jpg: 256x416 3 Persons, 12.9ms\n",
      "Speed: 2.0ms preprocess, 12.9ms inference, 1.4ms postprocess per image at shape (1, 3, 256, 416)\n"
     ]
    },
    {
     "name": "stderr",
     "output_type": "stream",
     "text": [
      " 53%|█████████████████████████████████████▍                                | 658/1232 [01:10<00:51, 11.17it/s]"
     ]
    },
    {
     "name": "stdout",
     "output_type": "stream",
     "text": [
      "\n",
      "image 1/1 /mnt/c/Adrianov/Projects/trash-detector/Littering--8/test/images/video_4_24_jpg.rf.4fb80df7f492fe18f8bf51898cd4fb9d.jpg: 256x416 2 Persons, 1 Trash, 12.8ms\n",
      "Speed: 2.0ms preprocess, 12.8ms inference, 2.7ms postprocess per image at shape (1, 3, 256, 416)\n",
      "\n",
      "image 1/1 /mnt/c/Adrianov/Projects/trash-detector/Littering--8/test/images/video_4_24_jpg.rf.695a06c3abced59620b1fb586b99a24f.jpg: 256x416 2 Persons, 12.9ms\n",
      "Speed: 1.8ms preprocess, 12.9ms inference, 1.6ms postprocess per image at shape (1, 3, 256, 416)\n"
     ]
    },
    {
     "name": "stderr",
     "output_type": "stream",
     "text": [
      " 54%|█████████████████████████████████████▌                                | 660/1232 [01:10<00:50, 11.29it/s]"
     ]
    },
    {
     "name": "stdout",
     "output_type": "stream",
     "text": [
      "\n",
      "image 1/1 /mnt/c/Adrianov/Projects/trash-detector/Littering--8/test/images/video_4_24_jpg.rf.6c1b6bd1823eefc41bec0b3913d7b558.jpg: 256x416 3 Persons, 12.9ms\n",
      "Speed: 1.8ms preprocess, 12.9ms inference, 1.4ms postprocess per image at shape (1, 3, 256, 416)\n",
      "\n",
      "image 1/1 /mnt/c/Adrianov/Projects/trash-detector/Littering--8/test/images/video_4_24_jpg.rf.703f949c6be9bcc55af36a5a9b6cb3d1.jpg: 256x416 2 Persons, 12.8ms\n",
      "Speed: 2.2ms preprocess, 12.8ms inference, 1.5ms postprocess per image at shape (1, 3, 256, 416)\n"
     ]
    },
    {
     "name": "stderr",
     "output_type": "stream",
     "text": [
      " 54%|█████████████████████████████████████▌                                | 662/1232 [01:10<00:51, 11.01it/s]"
     ]
    },
    {
     "name": "stdout",
     "output_type": "stream",
     "text": [
      "\n",
      "image 1/1 /mnt/c/Adrianov/Projects/trash-detector/Littering--8/test/images/video_4_25_jpg.rf.1667d4f33dd9d8fb7c3474ee48d3de41.jpg: 256x416 2 Persons, 2 Trashs, 12.9ms\n",
      "Speed: 2.0ms preprocess, 12.9ms inference, 1.5ms postprocess per image at shape (1, 3, 256, 416)\n",
      "\n",
      "image 1/1 /mnt/c/Adrianov/Projects/trash-detector/Littering--8/test/images/video_4_25_jpg.rf.64a20fceb5c4de07fb3a0674bbcddd25.jpg: 256x416 3 Persons, 14.6ms\n",
      "Speed: 1.9ms preprocess, 14.6ms inference, 1.5ms postprocess per image at shape (1, 3, 256, 416)\n"
     ]
    },
    {
     "name": "stderr",
     "output_type": "stream",
     "text": [
      " 54%|█████████████████████████████████████▋                                | 664/1232 [01:10<01:00,  9.44it/s]"
     ]
    },
    {
     "name": "stdout",
     "output_type": "stream",
     "text": [
      "\n",
      "image 1/1 /mnt/c/Adrianov/Projects/trash-detector/Littering--8/test/images/video_4_25_jpg.rf.9f7a7e3ed300dfeae81152167f90cce5.jpg: 256x416 2 Persons, 13.3ms\n",
      "Speed: 2.3ms preprocess, 13.3ms inference, 2.2ms postprocess per image at shape (1, 3, 256, 416)\n"
     ]
    },
    {
     "name": "stderr",
     "output_type": "stream",
     "text": [
      " 54%|█████████████████████████████████████▊                                | 665/1232 [01:11<01:04,  8.75it/s]"
     ]
    },
    {
     "name": "stdout",
     "output_type": "stream",
     "text": [
      "\n",
      "image 1/1 /mnt/c/Adrianov/Projects/trash-detector/Littering--8/test/images/video_4_26_jpg.rf.5426ed19d8f167210ebd31a566fc376b.jpg: 256x416 2 Persons, 13.0ms\n",
      "Speed: 1.9ms preprocess, 13.0ms inference, 1.4ms postprocess per image at shape (1, 3, 256, 416)\n",
      "\n",
      "image 1/1 /mnt/c/Adrianov/Projects/trash-detector/Littering--8/test/images/video_4_26_jpg.rf.55990d2ef29da44d4fd6256162d7a7a1.jpg: 256x416 3 Persons, 13.2ms\n",
      "Speed: 1.8ms preprocess, 13.2ms inference, 1.5ms postprocess per image at shape (1, 3, 256, 416)\n"
     ]
    },
    {
     "name": "stderr",
     "output_type": "stream",
     "text": [
      " 54%|█████████████████████████████████████▉                                | 667/1232 [01:11<00:59,  9.53it/s]"
     ]
    },
    {
     "name": "stdout",
     "output_type": "stream",
     "text": [
      "\n",
      "image 1/1 /mnt/c/Adrianov/Projects/trash-detector/Littering--8/test/images/video_4_26_jpg.rf.8fcf6a346c89e2abd33d8b3fe8bc90a2.jpg: 256x416 2 Persons, 1 Trash, 12.9ms\n",
      "Speed: 2.2ms preprocess, 12.9ms inference, 1.4ms postprocess per image at shape (1, 3, 256, 416)\n",
      "\n",
      "image 1/1 /mnt/c/Adrianov/Projects/trash-detector/Littering--8/test/images/video_4_27_jpg.rf.29de00b8f32c45c8ed246de1c6239311.jpg: 256x416 2 Persons, 1 Trash, 13.0ms\n",
      "Speed: 1.8ms preprocess, 13.0ms inference, 1.5ms postprocess per image at shape (1, 3, 256, 416)\n"
     ]
    },
    {
     "name": "stderr",
     "output_type": "stream",
     "text": [
      " 54%|██████████████████████████████████████                                | 669/1232 [01:11<00:55, 10.12it/s]"
     ]
    },
    {
     "name": "stdout",
     "output_type": "stream",
     "text": [
      "\n",
      "image 1/1 /mnt/c/Adrianov/Projects/trash-detector/Littering--8/test/images/video_4_27_jpg.rf.624a92c0f4c45de343ff2ce69c3a1994.jpg: 256x416 2 Persons, 12.8ms\n",
      "Speed: 1.9ms preprocess, 12.8ms inference, 1.6ms postprocess per image at shape (1, 3, 256, 416)\n",
      "\n",
      "image 1/1 /mnt/c/Adrianov/Projects/trash-detector/Littering--8/test/images/video_4_27_jpg.rf.caa10dfe0c8fc674d024dc79ea25935a.jpg: 256x416 3 Persons, 15.4ms\n",
      "Speed: 2.4ms preprocess, 15.4ms inference, 1.4ms postprocess per image at shape (1, 3, 256, 416)\n"
     ]
    },
    {
     "name": "stderr",
     "output_type": "stream",
     "text": [
      " 54%|██████████████████████████████████████▏                               | 671/1232 [01:11<00:54, 10.22it/s]"
     ]
    },
    {
     "name": "stdout",
     "output_type": "stream",
     "text": [
      "\n",
      "image 1/1 /mnt/c/Adrianov/Projects/trash-detector/Littering--8/test/images/video_4_28_jpg.rf.2840477b3d1fbe326d258657b0f2aabf.jpg: 256x416 3 Persons, 15.9ms\n",
      "Speed: 2.1ms preprocess, 15.9ms inference, 1.5ms postprocess per image at shape (1, 3, 256, 416)\n",
      "\n",
      "image 1/1 /mnt/c/Adrianov/Projects/trash-detector/Littering--8/test/images/video_4_28_jpg.rf.a1f123d425f7a3647e74b6de5cf77fe1.jpg: 256x416 2 Persons, 1 Trash, 12.9ms\n",
      "Speed: 2.1ms preprocess, 12.9ms inference, 1.7ms postprocess per image at shape (1, 3, 256, 416)\n"
     ]
    },
    {
     "name": "stderr",
     "output_type": "stream",
     "text": [
      " 55%|██████████████████████████████████████▏                               | 673/1232 [01:11<00:58,  9.60it/s]"
     ]
    },
    {
     "name": "stdout",
     "output_type": "stream",
     "text": [
      "\n",
      "image 1/1 /mnt/c/Adrianov/Projects/trash-detector/Littering--8/test/images/video_4_28_jpg.rf.a5f8af188c50997b5cb5d2d4bd5870f9.jpg: 256x416 3 Persons, 13.8ms\n",
      "Speed: 3.1ms preprocess, 13.8ms inference, 2.3ms postprocess per image at shape (1, 3, 256, 416)\n"
     ]
    },
    {
     "name": "stderr",
     "output_type": "stream",
     "text": [
      " 55%|██████████████████████████████████████▎                               | 674/1232 [01:11<01:01,  9.02it/s]"
     ]
    },
    {
     "name": "stdout",
     "output_type": "stream",
     "text": [
      "\n",
      "image 1/1 /mnt/c/Adrianov/Projects/trash-detector/Littering--8/test/images/video_4_28_jpg.rf.db1e5750f2bbd1fc458d54782239a35b.jpg: 256x416 2 Persons, 16.1ms\n",
      "Speed: 2.0ms preprocess, 16.1ms inference, 1.6ms postprocess per image at shape (1, 3, 256, 416)\n"
     ]
    },
    {
     "name": "stderr",
     "output_type": "stream",
     "text": [
      " 55%|██████████████████████████████████████▎                               | 675/1232 [01:12<01:07,  8.30it/s]"
     ]
    },
    {
     "name": "stdout",
     "output_type": "stream",
     "text": [
      "\n",
      "image 1/1 /mnt/c/Adrianov/Projects/trash-detector/Littering--8/test/images/video_4_29_jpg.rf.0a23defbd5a6e30493df8fb39d1ece5a.jpg: 256x416 3 Persons, 13.0ms\n",
      "Speed: 1.8ms preprocess, 13.0ms inference, 2.4ms postprocess per image at shape (1, 3, 256, 416)\n"
     ]
    },
    {
     "name": "stderr",
     "output_type": "stream",
     "text": [
      " 55%|██████████████████████████████████████▍                               | 676/1232 [01:12<01:06,  8.39it/s]"
     ]
    },
    {
     "name": "stdout",
     "output_type": "stream",
     "text": [
      "\n",
      "image 1/1 /mnt/c/Adrianov/Projects/trash-detector/Littering--8/test/images/video_4_29_jpg.rf.27e1c7742f6a44562d155b3a1b7cb6fb.jpg: 256x416 2 Persons, 1 Trash, 12.9ms\n",
      "Speed: 1.7ms preprocess, 12.9ms inference, 3.2ms postprocess per image at shape (1, 3, 256, 416)\n",
      "\n",
      "image 1/1 /mnt/c/Adrianov/Projects/trash-detector/Littering--8/test/images/video_4_29_jpg.rf.4405ba60f56f2051b0556fac8ee3a0c8.jpg: 256x416 2 Persons, 13.2ms\n",
      "Speed: 2.3ms preprocess, 13.2ms inference, 1.6ms postprocess per image at shape (1, 3, 256, 416)\n"
     ]
    },
    {
     "name": "stderr",
     "output_type": "stream",
     "text": [
      " 55%|██████████████████████████████████████▌                               | 678/1232 [01:12<00:59,  9.31it/s]"
     ]
    },
    {
     "name": "stdout",
     "output_type": "stream",
     "text": [
      "\n",
      "image 1/1 /mnt/c/Adrianov/Projects/trash-detector/Littering--8/test/images/video_4_29_jpg.rf.cbeeeadffecc6f30ce30d456bdcf29e2.jpg: 256x416 3 Persons, 15.2ms\n",
      "Speed: 2.7ms preprocess, 15.2ms inference, 1.3ms postprocess per image at shape (1, 3, 256, 416)\n"
     ]
    },
    {
     "name": "stderr",
     "output_type": "stream",
     "text": [
      " 55%|██████████████████████████████████████▌                               | 679/1232 [01:12<01:04,  8.56it/s]"
     ]
    },
    {
     "name": "stdout",
     "output_type": "stream",
     "text": [
      "\n",
      "image 1/1 /mnt/c/Adrianov/Projects/trash-detector/Littering--8/test/images/video_4_2_jpg.rf.b561c5cd4711f1b1fd4b9b9036448855.jpg: 256x416 2 Persons, 1 Trash, 12.9ms\n",
      "Speed: 2.0ms preprocess, 12.9ms inference, 1.6ms postprocess per image at shape (1, 3, 256, 416)\n"
     ]
    },
    {
     "name": "stderr",
     "output_type": "stream",
     "text": [
      " 55%|██████████████████████████████████████▋                               | 680/1232 [01:12<01:11,  7.77it/s]"
     ]
    },
    {
     "name": "stdout",
     "output_type": "stream",
     "text": [
      "\n",
      "image 1/1 /mnt/c/Adrianov/Projects/trash-detector/Littering--8/test/images/video_4_2_jpg.rf.d7cd86286aa181d4e3058b2d7ae4552b.jpg: 256x416 3 Persons, 20.9ms\n",
      "Speed: 2.9ms preprocess, 20.9ms inference, 4.2ms postprocess per image at shape (1, 3, 256, 416)\n"
     ]
    },
    {
     "name": "stderr",
     "output_type": "stream",
     "text": [
      " 55%|██████████████████████████████████████▋                               | 681/1232 [01:12<01:12,  7.58it/s]"
     ]
    },
    {
     "name": "stdout",
     "output_type": "stream",
     "text": [
      "\n",
      "image 1/1 /mnt/c/Adrianov/Projects/trash-detector/Littering--8/test/images/video_4_2_jpg.rf.f7f3911a516692ed138f4a21e4c4ac20.jpg: 256x416 2 Persons, 13.1ms\n",
      "Speed: 2.1ms preprocess, 13.1ms inference, 1.6ms postprocess per image at shape (1, 3, 256, 416)\n",
      "\n",
      "image 1/1 /mnt/c/Adrianov/Projects/trash-detector/Littering--8/test/images/video_4_30_jpg.rf.515783b6889bbe5bafcd951db2bb4527.jpg: 256x416 3 Persons, 13.0ms\n",
      "Speed: 2.6ms preprocess, 13.0ms inference, 1.7ms postprocess per image at shape (1, 3, 256, 416)\n"
     ]
    },
    {
     "name": "stderr",
     "output_type": "stream",
     "text": [
      " 55%|██████████████████████████████████████▊                               | 683/1232 [01:13<01:02,  8.81it/s]"
     ]
    },
    {
     "name": "stdout",
     "output_type": "stream",
     "text": [
      "\n",
      "image 1/1 /mnt/c/Adrianov/Projects/trash-detector/Littering--8/test/images/video_4_30_jpg.rf.af8d03d8792c25775fa5c637e426f829.jpg: 256x416 2 Persons, 13.0ms\n",
      "Speed: 1.8ms preprocess, 13.0ms inference, 1.5ms postprocess per image at shape (1, 3, 256, 416)\n",
      "\n",
      "image 1/1 /mnt/c/Adrianov/Projects/trash-detector/Littering--8/test/images/video_4_30_jpg.rf.ea80442118a56b9c195eb76aed1b92ae.jpg: 256x416 2 Persons, 1 Trash, 13.1ms\n",
      "Speed: 1.9ms preprocess, 13.1ms inference, 2.5ms postprocess per image at shape (1, 3, 256, 416)\n"
     ]
    },
    {
     "name": "stderr",
     "output_type": "stream",
     "text": [
      " 56%|██████████████████████████████████████▉                               | 685/1232 [01:13<00:57,  9.51it/s]"
     ]
    },
    {
     "name": "stdout",
     "output_type": "stream",
     "text": [
      "\n",
      "image 1/1 /mnt/c/Adrianov/Projects/trash-detector/Littering--8/test/images/video_4_30_jpg.rf.f88e029a16904b8f8720ba717c9a4f06.jpg: 256x416 2 Persons, 12.9ms\n",
      "Speed: 1.8ms preprocess, 12.9ms inference, 1.7ms postprocess per image at shape (1, 3, 256, 416)\n",
      "\n",
      "image 1/1 /mnt/c/Adrianov/Projects/trash-detector/Littering--8/test/images/video_4_3_jpg.rf.4c62436e0a11fb64fe0b82a1d8c1d57d.jpg: 256x416 3 Persons, 12.9ms\n",
      "Speed: 2.0ms preprocess, 12.9ms inference, 1.5ms postprocess per image at shape (1, 3, 256, 416)\n"
     ]
    },
    {
     "name": "stderr",
     "output_type": "stream",
     "text": [
      " 56%|███████████████████████████████████████                               | 687/1232 [01:13<00:53, 10.13it/s]"
     ]
    },
    {
     "name": "stdout",
     "output_type": "stream",
     "text": [
      "\n",
      "image 1/1 /mnt/c/Adrianov/Projects/trash-detector/Littering--8/test/images/video_4_3_jpg.rf.4f919b89cfdc388c333dfb168dff3e8f.jpg: 256x416 2 Persons, 13.3ms\n",
      "Speed: 2.0ms preprocess, 13.3ms inference, 1.3ms postprocess per image at shape (1, 3, 256, 416)\n",
      "\n",
      "image 1/1 /mnt/c/Adrianov/Projects/trash-detector/Littering--8/test/images/video_4_3_jpg.rf.bbc8baec3873e0b3f2ef690456dad098.jpg: 256x416 2 Persons, 1 Trash, 12.8ms\n",
      "Speed: 1.9ms preprocess, 12.8ms inference, 1.6ms postprocess per image at shape (1, 3, 256, 416)\n"
     ]
    },
    {
     "name": "stderr",
     "output_type": "stream",
     "text": [
      " 56%|███████████████████████████████████████▏                              | 689/1232 [01:13<00:51, 10.57it/s]"
     ]
    },
    {
     "name": "stdout",
     "output_type": "stream",
     "text": [
      "\n",
      "image 1/1 /mnt/c/Adrianov/Projects/trash-detector/Littering--8/test/images/video_4_4_jpg.rf.2a31fc33347da8ce64844bc2b88bb869.jpg: 256x416 2 Persons, 1 Trash, 12.9ms\n",
      "Speed: 1.9ms preprocess, 12.9ms inference, 1.5ms postprocess per image at shape (1, 3, 256, 416)\n",
      "\n",
      "image 1/1 /mnt/c/Adrianov/Projects/trash-detector/Littering--8/test/images/video_4_4_jpg.rf.6b9d55cd1ea08b8e5620832fe6e388f6.jpg: 256x416 2 Persons, 1 Trash, 16.2ms\n",
      "Speed: 2.0ms preprocess, 16.2ms inference, 1.5ms postprocess per image at shape (1, 3, 256, 416)\n"
     ]
    },
    {
     "name": "stderr",
     "output_type": "stream",
     "text": [
      " 56%|███████████████████████████████████████▎                              | 691/1232 [01:13<00:56,  9.54it/s]"
     ]
    },
    {
     "name": "stdout",
     "output_type": "stream",
     "text": [
      "\n",
      "image 1/1 /mnt/c/Adrianov/Projects/trash-detector/Littering--8/test/images/video_4_4_jpg.rf.82fbc89cf074b0486e83dbc19d074dca.jpg: 256x416 2 Persons, 14.5ms\n",
      "Speed: 2.4ms preprocess, 14.5ms inference, 2.4ms postprocess per image at shape (1, 3, 256, 416)\n"
     ]
    },
    {
     "name": "stderr",
     "output_type": "stream",
     "text": [
      " 56%|███████████████████████████████████████▎                              | 692/1232 [01:13<00:59,  9.02it/s]"
     ]
    },
    {
     "name": "stdout",
     "output_type": "stream",
     "text": [
      "\n",
      "image 1/1 /mnt/c/Adrianov/Projects/trash-detector/Littering--8/test/images/video_4_4_jpg.rf.fd290d9be7ea64f02ad1a1316e9b1c88.jpg: 256x416 3 Persons, 29.2ms\n",
      "Speed: 2.9ms preprocess, 29.2ms inference, 2.7ms postprocess per image at shape (1, 3, 256, 416)\n"
     ]
    },
    {
     "name": "stderr",
     "output_type": "stream",
     "text": [
      " 56%|███████████████████████████████████████▍                              | 693/1232 [01:14<01:06,  8.08it/s]"
     ]
    },
    {
     "name": "stdout",
     "output_type": "stream",
     "text": [
      "\n",
      "image 1/1 /mnt/c/Adrianov/Projects/trash-detector/Littering--8/test/images/video_4_5_jpg.rf.2235e86c7268f8c5a27edb2fd18aa809.jpg: 256x416 2 Persons, 1 Trash, 12.9ms\n",
      "Speed: 2.2ms preprocess, 12.9ms inference, 1.4ms postprocess per image at shape (1, 3, 256, 416)\n"
     ]
    },
    {
     "name": "stderr",
     "output_type": "stream",
     "text": [
      " 56%|███████████████████████████████████████▍                              | 694/1232 [01:14<01:09,  7.72it/s]"
     ]
    },
    {
     "name": "stdout",
     "output_type": "stream",
     "text": [
      "\n",
      "image 1/1 /mnt/c/Adrianov/Projects/trash-detector/Littering--8/test/images/video_4_5_jpg.rf.40b29c67fef61a8370fa80f1cdde12f8.jpg: 256x416 1 Person, 14.9ms\n",
      "Speed: 2.8ms preprocess, 14.9ms inference, 1.8ms postprocess per image at shape (1, 3, 256, 416)\n"
     ]
    },
    {
     "name": "stderr",
     "output_type": "stream",
     "text": [
      " 56%|███████████████████████████████████████▍                              | 695/1232 [01:14<01:16,  7.06it/s]"
     ]
    },
    {
     "name": "stdout",
     "output_type": "stream",
     "text": [
      "\n",
      "image 1/1 /mnt/c/Adrianov/Projects/trash-detector/Littering--8/test/images/video_4_5_jpg.rf.8c7b654427939bf9c9e3b9e05b521497.jpg: 256x416 3 Persons, 12.8ms\n",
      "Speed: 3.4ms preprocess, 12.8ms inference, 1.7ms postprocess per image at shape (1, 3, 256, 416)\n",
      "\n",
      "image 1/1 /mnt/c/Adrianov/Projects/trash-detector/Littering--8/test/images/video_4_5_jpg.rf.ccadbf6f90217fc0cf91fb15c7c965ae.jpg: 256x416 2 Persons, 1 Trash, 12.9ms\n",
      "Speed: 2.6ms preprocess, 12.9ms inference, 1.6ms postprocess per image at shape (1, 3, 256, 416)\n"
     ]
    },
    {
     "name": "stderr",
     "output_type": "stream",
     "text": [
      " 57%|███████████████████████████████████████▌                              | 697/1232 [01:14<01:05,  8.15it/s]"
     ]
    },
    {
     "name": "stdout",
     "output_type": "stream",
     "text": [
      "\n",
      "image 1/1 /mnt/c/Adrianov/Projects/trash-detector/Littering--8/test/images/video_4_6_jpg.rf.55b44c32f20db26c50b032abeffe5c1a.jpg: 256x416 1 Person, 12.9ms\n",
      "Speed: 2.2ms preprocess, 12.9ms inference, 1.4ms postprocess per image at shape (1, 3, 256, 416)\n",
      "\n",
      "image 1/1 /mnt/c/Adrianov/Projects/trash-detector/Littering--8/test/images/video_4_6_jpg.rf.5c2236943deab384becbc6bd8d9cf7ef.jpg: 256x416 2 Persons, 1 Trash, 12.9ms\n",
      "Speed: 1.8ms preprocess, 12.9ms inference, 1.5ms postprocess per image at shape (1, 3, 256, 416)\n"
     ]
    },
    {
     "name": "stderr",
     "output_type": "stream",
     "text": [
      " 57%|███████████████████████████████████████▋                              | 699/1232 [01:14<00:58,  9.11it/s]"
     ]
    },
    {
     "name": "stdout",
     "output_type": "stream",
     "text": [
      "\n",
      "image 1/1 /mnt/c/Adrianov/Projects/trash-detector/Littering--8/test/images/video_4_6_jpg.rf.6868f40950eec2defbb89347b843c8b9.jpg: 256x416 3 Persons, 12.8ms\n",
      "Speed: 1.6ms preprocess, 12.8ms inference, 1.4ms postprocess per image at shape (1, 3, 256, 416)\n",
      "\n",
      "image 1/1 /mnt/c/Adrianov/Projects/trash-detector/Littering--8/test/images/video_4_6_jpg.rf.9aa1ab3d82f4d9eb1496188184ea169e.jpg: 256x416 2 Persons, 1 Trash, 12.9ms\n",
      "Speed: 2.3ms preprocess, 12.9ms inference, 2.0ms postprocess per image at shape (1, 3, 256, 416)\n"
     ]
    },
    {
     "name": "stderr",
     "output_type": "stream",
     "text": [
      " 57%|███████████████████████████████████████▊                              | 701/1232 [01:15<00:55,  9.61it/s]"
     ]
    },
    {
     "name": "stdout",
     "output_type": "stream",
     "text": [
      "\n",
      "image 1/1 /mnt/c/Adrianov/Projects/trash-detector/Littering--8/test/images/video_4_7_jpg.rf.53117282505a33654a1f41f1933103be.jpg: 256x416 1 Person, 13.0ms\n",
      "Speed: 2.0ms preprocess, 13.0ms inference, 2.9ms postprocess per image at shape (1, 3, 256, 416)\n",
      "\n",
      "image 1/1 /mnt/c/Adrianov/Projects/trash-detector/Littering--8/test/images/video_4_7_jpg.rf.7022bd7dd011cc2c2c2e91650348b0f8.jpg: 256x416 2 Persons, 13.5ms\n",
      "Speed: 2.8ms preprocess, 13.5ms inference, 1.4ms postprocess per image at shape (1, 3, 256, 416)\n"
     ]
    },
    {
     "name": "stderr",
     "output_type": "stream",
     "text": [
      " 57%|███████████████████████████████████████▉                              | 703/1232 [01:15<00:51, 10.21it/s]"
     ]
    },
    {
     "name": "stdout",
     "output_type": "stream",
     "text": [
      "\n",
      "image 1/1 /mnt/c/Adrianov/Projects/trash-detector/Littering--8/test/images/video_4_7_jpg.rf.89eb7d8a3d2cd03c7713b4ad2e767b64.jpg: 256x416 2 Persons, 12.8ms\n",
      "Speed: 1.6ms preprocess, 12.8ms inference, 1.6ms postprocess per image at shape (1, 3, 256, 416)\n",
      "\n",
      "image 1/1 /mnt/c/Adrianov/Projects/trash-detector/Littering--8/test/images/video_4_7_jpg.rf.fb251166742e8ce7baa53aa60f002d17.jpg: 256x416 3 Persons, 13.0ms\n",
      "Speed: 2.1ms preprocess, 13.0ms inference, 1.9ms postprocess per image at shape (1, 3, 256, 416)\n"
     ]
    },
    {
     "name": "stderr",
     "output_type": "stream",
     "text": [
      " 57%|████████████████████████████████████████                              | 705/1232 [01:15<00:50, 10.43it/s]"
     ]
    },
    {
     "name": "stdout",
     "output_type": "stream",
     "text": [
      "\n",
      "image 1/1 /mnt/c/Adrianov/Projects/trash-detector/Littering--8/test/images/video_4_8_jpg.rf.540229cce86d6cfb78096f51d04ee183.jpg: 256x416 3 Persons, 17.9ms\n",
      "Speed: 2.1ms preprocess, 17.9ms inference, 3.0ms postprocess per image at shape (1, 3, 256, 416)\n",
      "\n",
      "image 1/1 /mnt/c/Adrianov/Projects/trash-detector/Littering--8/test/images/video_4_8_jpg.rf.a0cdeb44516256f94aa1917eb4a18677.jpg: 256x416 2 Persons, 1 Trash, 13.4ms\n",
      "Speed: 1.7ms preprocess, 13.4ms inference, 2.2ms postprocess per image at shape (1, 3, 256, 416)\n"
     ]
    },
    {
     "name": "stderr",
     "output_type": "stream",
     "text": [
      " 57%|████████████████████████████████████████▏                             | 707/1232 [01:15<00:50, 10.45it/s]"
     ]
    },
    {
     "name": "stdout",
     "output_type": "stream",
     "text": [
      "\n",
      "image 1/1 /mnt/c/Adrianov/Projects/trash-detector/Littering--8/test/images/video_4_8_jpg.rf.ba855ecb54def92b27f5589db817d1d5.jpg: 256x416 1 Person, 12.9ms\n",
      "Speed: 2.0ms preprocess, 12.9ms inference, 1.4ms postprocess per image at shape (1, 3, 256, 416)\n",
      "\n",
      "image 1/1 /mnt/c/Adrianov/Projects/trash-detector/Littering--8/test/images/video_4_9_jpg.rf.02bab51bb5a0a44e96043cec8a3d092b.jpg: 256x416 1 Person, 13.1ms\n",
      "Speed: 1.9ms preprocess, 13.1ms inference, 1.5ms postprocess per image at shape (1, 3, 256, 416)\n"
     ]
    },
    {
     "name": "stderr",
     "output_type": "stream",
     "text": [
      " 58%|████████████████████████████████████████▎                             | 709/1232 [01:15<00:47, 11.05it/s]"
     ]
    },
    {
     "name": "stdout",
     "output_type": "stream",
     "text": [
      "\n",
      "image 1/1 /mnt/c/Adrianov/Projects/trash-detector/Littering--8/test/images/video_4_9_jpg.rf.300bff159a533efbeed7d4a3ba71b2b4.jpg: 256x416 3 Persons, 12.8ms\n",
      "Speed: 2.1ms preprocess, 12.8ms inference, 1.5ms postprocess per image at shape (1, 3, 256, 416)\n",
      "\n",
      "image 1/1 /mnt/c/Adrianov/Projects/trash-detector/Littering--8/test/images/video_4_9_jpg.rf.e2d395c9b254edb00c2c9511d6387a0f.jpg: 256x416 2 Persons, 1 Trash, 12.9ms\n",
      "Speed: 2.2ms preprocess, 12.9ms inference, 2.8ms postprocess per image at shape (1, 3, 256, 416)\n"
     ]
    },
    {
     "name": "stderr",
     "output_type": "stream",
     "text": [
      " 58%|████████████████████████████████████████▍                             | 711/1232 [01:15<00:48, 10.82it/s]"
     ]
    },
    {
     "name": "stdout",
     "output_type": "stream",
     "text": [
      "\n",
      "image 1/1 /mnt/c/Adrianov/Projects/trash-detector/Littering--8/test/images/video_5_10_jpg.rf.85d990eb0d10b82200eb288d470bea3e.jpg: 256x416 2 Persons, 1 Trash, 12.8ms\n",
      "Speed: 2.2ms preprocess, 12.8ms inference, 2.8ms postprocess per image at shape (1, 3, 256, 416)\n",
      "\n",
      "image 1/1 /mnt/c/Adrianov/Projects/trash-detector/Littering--8/test/images/video_5_10_jpg.rf.d426484965f8b6a69c86b911784f2808.jpg: 256x416 11 Persons, 1 Trash, 13.2ms\n",
      "Speed: 1.7ms preprocess, 13.2ms inference, 1.6ms postprocess per image at shape (1, 3, 256, 416)\n"
     ]
    },
    {
     "name": "stderr",
     "output_type": "stream",
     "text": [
      " 58%|████████████████████████████████████████▌                             | 713/1232 [01:16<00:49, 10.47it/s]"
     ]
    },
    {
     "name": "stdout",
     "output_type": "stream",
     "text": [
      "\n",
      "image 1/1 /mnt/c/Adrianov/Projects/trash-detector/Littering--8/test/images/video_5_10_jpg.rf.f53a8fbf7af46443534458d9a2134e41.jpg: 256x416 2 Persons, 15.3ms\n",
      "Speed: 1.9ms preprocess, 15.3ms inference, 3.1ms postprocess per image at shape (1, 3, 256, 416)\n",
      "\n",
      "image 1/1 /mnt/c/Adrianov/Projects/trash-detector/Littering--8/test/images/video_5_11_jpg.rf.3618f52597d270ceeb12b0e03969d5f4.jpg: 256x416 11 Persons, 1 Trash, 16.9ms\n",
      "Speed: 1.7ms preprocess, 16.9ms inference, 2.7ms postprocess per image at shape (1, 3, 256, 416)\n"
     ]
    },
    {
     "name": "stderr",
     "output_type": "stream",
     "text": [
      " 58%|████████████████████████████████████████▋                             | 715/1232 [01:16<00:50, 10.24it/s]"
     ]
    },
    {
     "name": "stdout",
     "output_type": "stream",
     "text": [
      "\n",
      "image 1/1 /mnt/c/Adrianov/Projects/trash-detector/Littering--8/test/images/video_5_11_jpg.rf.60c7bcfc83a490457969401b9d4570c6.jpg: 256x416 2 Persons, 1 Trash, 14.3ms\n",
      "Speed: 2.0ms preprocess, 14.3ms inference, 1.3ms postprocess per image at shape (1, 3, 256, 416)\n",
      "\n",
      "image 1/1 /mnt/c/Adrianov/Projects/trash-detector/Littering--8/test/images/video_5_11_jpg.rf.74b6d938a878bef211bc0311ce4e59ee.jpg: 256x416 2 Persons, 12.9ms\n",
      "Speed: 1.8ms preprocess, 12.9ms inference, 1.4ms postprocess per image at shape (1, 3, 256, 416)\n"
     ]
    },
    {
     "name": "stderr",
     "output_type": "stream",
     "text": [
      " 58%|████████████████████████████████████████▋                             | 717/1232 [01:16<00:48, 10.69it/s]"
     ]
    },
    {
     "name": "stdout",
     "output_type": "stream",
     "text": [
      "\n",
      "image 1/1 /mnt/c/Adrianov/Projects/trash-detector/Littering--8/test/images/video_5_11_jpg.rf.7707008022d2568c6f1f01416fa194fc.jpg: 256x416 4 Persons, 12.8ms\n",
      "Speed: 2.1ms preprocess, 12.8ms inference, 1.4ms postprocess per image at shape (1, 3, 256, 416)\n",
      "\n",
      "image 1/1 /mnt/c/Adrianov/Projects/trash-detector/Littering--8/test/images/video_5_12_jpg.rf.0931c7fdb410445e47a92d9878981ec1.jpg: 256x416 11 Persons, 1 Trash, 12.9ms\n",
      "Speed: 1.9ms preprocess, 12.9ms inference, 2.8ms postprocess per image at shape (1, 3, 256, 416)\n"
     ]
    },
    {
     "name": "stderr",
     "output_type": "stream",
     "text": [
      " 58%|████████████████████████████████████████▊                             | 719/1232 [01:16<00:50, 10.26it/s]"
     ]
    },
    {
     "name": "stdout",
     "output_type": "stream",
     "text": [
      "\n",
      "image 1/1 /mnt/c/Adrianov/Projects/trash-detector/Littering--8/test/images/video_5_12_jpg.rf.217f8de7052e039d2ed56f038f56982e.jpg: 256x416 2 Persons, 1 Trash, 12.9ms\n",
      "Speed: 2.5ms preprocess, 12.9ms inference, 1.7ms postprocess per image at shape (1, 3, 256, 416)\n",
      "\n",
      "image 1/1 /mnt/c/Adrianov/Projects/trash-detector/Littering--8/test/images/video_5_12_jpg.rf.73c6e1d0bf90c526ec69e4276439107e.jpg: 256x416 3 Persons, 13.2ms\n",
      "Speed: 2.5ms preprocess, 13.2ms inference, 2.0ms postprocess per image at shape (1, 3, 256, 416)\n"
     ]
    },
    {
     "name": "stderr",
     "output_type": "stream",
     "text": [
      " 59%|████████████████████████████████████████▉                             | 721/1232 [01:16<00:50, 10.06it/s]"
     ]
    },
    {
     "name": "stdout",
     "output_type": "stream",
     "text": [
      "\n",
      "image 1/1 /mnt/c/Adrianov/Projects/trash-detector/Littering--8/test/images/video_5_12_jpg.rf.82791ba8c9d0c328f294722b56630cc5.jpg: 256x416 3 Persons, 13.2ms\n",
      "Speed: 2.1ms preprocess, 13.2ms inference, 1.9ms postprocess per image at shape (1, 3, 256, 416)\n",
      "\n",
      "image 1/1 /mnt/c/Adrianov/Projects/trash-detector/Littering--8/test/images/video_5_12_jpg.rf.c36d3cf787fd55ded8fed4ec73106cc0.jpg: 256x416 3 Persons, 12.8ms\n",
      "Speed: 1.7ms preprocess, 12.8ms inference, 1.5ms postprocess per image at shape (1, 3, 256, 416)\n"
     ]
    },
    {
     "name": "stderr",
     "output_type": "stream",
     "text": [
      " 59%|█████████████████████████████████████████                             | 723/1232 [01:17<00:53,  9.60it/s]"
     ]
    },
    {
     "name": "stdout",
     "output_type": "stream",
     "text": [
      "\n",
      "image 1/1 /mnt/c/Adrianov/Projects/trash-detector/Littering--8/test/images/video_5_13_jpg.rf.6257d6740f086232f9c8f431a0599c41.jpg: 256x416 2 Persons, 13.2ms\n",
      "Speed: 2.4ms preprocess, 13.2ms inference, 1.9ms postprocess per image at shape (1, 3, 256, 416)\n"
     ]
    },
    {
     "name": "stderr",
     "output_type": "stream",
     "text": [
      " 59%|█████████████████████████████████████████▏                            | 724/1232 [01:17<00:56,  8.99it/s]"
     ]
    },
    {
     "name": "stdout",
     "output_type": "stream",
     "text": [
      "\n",
      "image 1/1 /mnt/c/Adrianov/Projects/trash-detector/Littering--8/test/images/video_5_13_jpg.rf.69817d95322a0a5abd9933ac876f45e9.jpg: 256x416 2 Persons, 13.0ms\n",
      "Speed: 2.1ms preprocess, 13.0ms inference, 1.8ms postprocess per image at shape (1, 3, 256, 416)\n",
      "\n",
      "image 1/1 /mnt/c/Adrianov/Projects/trash-detector/Littering--8/test/images/video_5_13_jpg.rf.6ff1de013a0e34bd989afd0726fda614.jpg: 256x416 11 Persons, 1 Trash, 13.0ms\n",
      "Speed: 1.8ms preprocess, 13.0ms inference, 2.6ms postprocess per image at shape (1, 3, 256, 416)\n"
     ]
    },
    {
     "name": "stderr",
     "output_type": "stream",
     "text": [
      " 59%|█████████████████████████████████████████▎                            | 726/1232 [01:17<00:55,  9.11it/s]"
     ]
    },
    {
     "name": "stdout",
     "output_type": "stream",
     "text": [
      "\n",
      "image 1/1 /mnt/c/Adrianov/Projects/trash-detector/Littering--8/test/images/video_5_13_jpg.rf.924af8e3382d4ede0ab4fd386524bdb6.jpg: 256x416 2 Persons, 1 Trash, 13.0ms\n",
      "Speed: 1.8ms preprocess, 13.0ms inference, 1.6ms postprocess per image at shape (1, 3, 256, 416)\n",
      "\n",
      "image 1/1 /mnt/c/Adrianov/Projects/trash-detector/Littering--8/test/images/video_5_14_jpg.rf.1c8620da3574537f3067e33be6495950.jpg: 256x416 2 Persons, 12.9ms\n",
      "Speed: 1.6ms preprocess, 12.9ms inference, 2.8ms postprocess per image at shape (1, 3, 256, 416)\n"
     ]
    },
    {
     "name": "stderr",
     "output_type": "stream",
     "text": [
      " 59%|█████████████████████████████████████████▎                            | 728/1232 [01:17<00:51,  9.77it/s]"
     ]
    },
    {
     "name": "stdout",
     "output_type": "stream",
     "text": [
      "\n",
      "image 1/1 /mnt/c/Adrianov/Projects/trash-detector/Littering--8/test/images/video_5_14_jpg.rf.9d2ae680412f94684d7c6090d61d833e.jpg: 256x416 2 Persons, 1 Trash, 17.3ms\n",
      "Speed: 2.2ms preprocess, 17.3ms inference, 2.6ms postprocess per image at shape (1, 3, 256, 416)\n",
      "\n",
      "image 1/1 /mnt/c/Adrianov/Projects/trash-detector/Littering--8/test/images/video_5_14_jpg.rf.a1c3f2318b23390d105076938d96212b.jpg: 256x416 9 Persons, 1 Trash, 13.0ms\n",
      "Speed: 1.9ms preprocess, 13.0ms inference, 1.6ms postprocess per image at shape (1, 3, 256, 416)\n"
     ]
    },
    {
     "name": "stderr",
     "output_type": "stream",
     "text": [
      " 59%|█████████████████████████████████████████▍                            | 730/1232 [01:17<00:51,  9.81it/s]"
     ]
    },
    {
     "name": "stdout",
     "output_type": "stream",
     "text": [
      "\n",
      "image 1/1 /mnt/c/Adrianov/Projects/trash-detector/Littering--8/test/images/video_5_14_jpg.rf.e45410ea676a1f3245f252fe13ede2ec.jpg: 256x416 4 Persons, 14.7ms\n",
      "Speed: 3.0ms preprocess, 14.7ms inference, 1.4ms postprocess per image at shape (1, 3, 256, 416)\n"
     ]
    },
    {
     "name": "stderr",
     "output_type": "stream",
     "text": [
      " 59%|█████████████████████████████████████████▌                            | 731/1232 [01:18<00:56,  8.87it/s]"
     ]
    },
    {
     "name": "stdout",
     "output_type": "stream",
     "text": [
      "\n",
      "image 1/1 /mnt/c/Adrianov/Projects/trash-detector/Littering--8/test/images/video_5_15_jpg.rf.7b2de9b52f115e5d1192cf0814fbe455.jpg: 256x416 2 Persons, 12.8ms\n",
      "Speed: 2.2ms preprocess, 12.8ms inference, 2.0ms postprocess per image at shape (1, 3, 256, 416)\n"
     ]
    },
    {
     "name": "stderr",
     "output_type": "stream",
     "text": [
      " 59%|█████████████████████████████████████████▌                            | 732/1232 [01:18<00:59,  8.34it/s]"
     ]
    },
    {
     "name": "stdout",
     "output_type": "stream",
     "text": [
      "\n",
      "image 1/1 /mnt/c/Adrianov/Projects/trash-detector/Littering--8/test/images/video_5_15_jpg.rf.b1894314896a0ac667a29cc70df0c049.jpg: 256x416 10 Persons, 1 Trash, 13.0ms\n",
      "Speed: 1.9ms preprocess, 13.0ms inference, 1.7ms postprocess per image at shape (1, 3, 256, 416)\n"
     ]
    },
    {
     "name": "stderr",
     "output_type": "stream",
     "text": [
      " 59%|█████████████████████████████████████████▋                            | 733/1232 [01:18<01:01,  8.17it/s]"
     ]
    },
    {
     "name": "stdout",
     "output_type": "stream",
     "text": [
      "\n",
      "image 1/1 /mnt/c/Adrianov/Projects/trash-detector/Littering--8/test/images/video_5_15_jpg.rf.b27a598e97c7ba2179282e07875df910.jpg: 256x416 2 Persons, 1 Trash, 13.2ms\n",
      "Speed: 2.1ms preprocess, 13.2ms inference, 2.9ms postprocess per image at shape (1, 3, 256, 416)\n",
      "\n",
      "image 1/1 /mnt/c/Adrianov/Projects/trash-detector/Littering--8/test/images/video_5_15_jpg.rf.f7e14e13cf872e356f6621fc4ba07c06.jpg: 256x416 2 Persons, 13.2ms\n",
      "Speed: 1.6ms preprocess, 13.2ms inference, 1.6ms postprocess per image at shape (1, 3, 256, 416)\n"
     ]
    },
    {
     "name": "stderr",
     "output_type": "stream",
     "text": [
      " 60%|█████████████████████████████████████████▊                            | 735/1232 [01:18<00:54,  9.14it/s]"
     ]
    },
    {
     "name": "stdout",
     "output_type": "stream",
     "text": [
      "\n",
      "image 1/1 /mnt/c/Adrianov/Projects/trash-detector/Littering--8/test/images/video_5_16_jpg.rf.16584d67c838dc4eb4e967dec2a9e52f.jpg: 256x416 2 Persons, 2 Trashs, 12.8ms\n",
      "Speed: 2.5ms preprocess, 12.8ms inference, 1.5ms postprocess per image at shape (1, 3, 256, 416)\n"
     ]
    },
    {
     "name": "stderr",
     "output_type": "stream",
     "text": [
      " 60%|█████████████████████████████████████████▊                            | 736/1232 [01:18<00:54,  9.08it/s]"
     ]
    },
    {
     "name": "stdout",
     "output_type": "stream",
     "text": [
      "\n",
      "image 1/1 /mnt/c/Adrianov/Projects/trash-detector/Littering--8/test/images/video_5_16_jpg.rf.41183eb4964d032749c8f2799035d807.jpg: 256x416 2 Persons, 17.7ms\n",
      "Speed: 2.5ms preprocess, 17.7ms inference, 2.7ms postprocess per image at shape (1, 3, 256, 416)\n"
     ]
    },
    {
     "name": "stderr",
     "output_type": "stream",
     "text": [
      " 60%|█████████████████████████████████████████▉                            | 737/1232 [01:18<00:56,  8.81it/s]"
     ]
    },
    {
     "name": "stdout",
     "output_type": "stream",
     "text": [
      "\n",
      "image 1/1 /mnt/c/Adrianov/Projects/trash-detector/Littering--8/test/images/video_5_16_jpg.rf.8c5597653c5c2041f204f3fe6a23dbe4.jpg: 256x416 2 Persons, 18.1ms\n",
      "Speed: 3.2ms preprocess, 18.1ms inference, 1.8ms postprocess per image at shape (1, 3, 256, 416)\n"
     ]
    },
    {
     "name": "stderr",
     "output_type": "stream",
     "text": [
      " 60%|█████████████████████████████████████████▉                            | 738/1232 [01:18<00:56,  8.69it/s]"
     ]
    },
    {
     "name": "stdout",
     "output_type": "stream",
     "text": [
      "\n",
      "image 1/1 /mnt/c/Adrianov/Projects/trash-detector/Littering--8/test/images/video_5_16_jpg.rf.ae1083ab554d5662d0bb78ddcbf42166.jpg: 256x416 10 Persons, 1 Trash, 12.9ms\n",
      "Speed: 2.1ms preprocess, 12.9ms inference, 1.6ms postprocess per image at shape (1, 3, 256, 416)\n"
     ]
    },
    {
     "name": "stderr",
     "output_type": "stream",
     "text": [
      " 60%|█████████████████████████████████████████▉                            | 739/1232 [01:18<01:02,  7.95it/s]"
     ]
    },
    {
     "name": "stdout",
     "output_type": "stream",
     "text": [
      "\n",
      "image 1/1 /mnt/c/Adrianov/Projects/trash-detector/Littering--8/test/images/video_5_17_jpg.rf.11936f57116db76dff02b0b8f5583e3e.jpg: 256x416 2 Persons, 1 Trash, 14.2ms\n",
      "Speed: 2.6ms preprocess, 14.2ms inference, 2.9ms postprocess per image at shape (1, 3, 256, 416)\n",
      "\n",
      "image 1/1 /mnt/c/Adrianov/Projects/trash-detector/Littering--8/test/images/video_5_17_jpg.rf.36ffe2b2c0648bb0cd5d5b6d1e8515c0.jpg: 256x416 2 Persons, 12.9ms\n",
      "Speed: 1.8ms preprocess, 12.9ms inference, 2.8ms postprocess per image at shape (1, 3, 256, 416)\n"
     ]
    },
    {
     "name": "stderr",
     "output_type": "stream",
     "text": [
      " 60%|██████████████████████████████████████████                            | 741/1232 [01:19<00:54,  8.98it/s]"
     ]
    },
    {
     "name": "stdout",
     "output_type": "stream",
     "text": [
      "\n",
      "image 1/1 /mnt/c/Adrianov/Projects/trash-detector/Littering--8/test/images/video_5_17_jpg.rf.7b483785ef9c7c5b0a1ed3d004714057.jpg: 256x416 10 Persons, 12.8ms\n",
      "Speed: 2.1ms preprocess, 12.8ms inference, 1.5ms postprocess per image at shape (1, 3, 256, 416)\n"
     ]
    },
    {
     "name": "stderr",
     "output_type": "stream",
     "text": [
      " 60%|██████████████████████████████████████████▏                           | 742/1232 [01:19<00:54,  8.92it/s]"
     ]
    },
    {
     "name": "stdout",
     "output_type": "stream",
     "text": [
      "\n",
      "image 1/1 /mnt/c/Adrianov/Projects/trash-detector/Littering--8/test/images/video_5_17_jpg.rf.de5a6fdc7f70f0b7e783dcc937295d5b.jpg: 256x416 2 Persons, 12.9ms\n",
      "Speed: 1.5ms preprocess, 12.9ms inference, 1.9ms postprocess per image at shape (1, 3, 256, 416)\n",
      "\n",
      "image 1/1 /mnt/c/Adrianov/Projects/trash-detector/Littering--8/test/images/video_5_18_jpg.rf.1e42d693e90acd835b4f02f2042b125a.jpg: 256x416 3 Persons, 13.6ms\n",
      "Speed: 2.2ms preprocess, 13.6ms inference, 1.4ms postprocess per image at shape (1, 3, 256, 416)\n"
     ]
    },
    {
     "name": "stderr",
     "output_type": "stream",
     "text": [
      " 60%|██████████████████████████████████████████▎                           | 744/1232 [01:19<00:49,  9.78it/s]"
     ]
    },
    {
     "name": "stdout",
     "output_type": "stream",
     "text": [
      "\n",
      "image 1/1 /mnt/c/Adrianov/Projects/trash-detector/Littering--8/test/images/video_5_18_jpg.rf.7c918b325f7c093b796b4722e4b2a545.jpg: 256x416 2 Persons, 1 Trash, 12.9ms\n",
      "Speed: 1.8ms preprocess, 12.9ms inference, 2.7ms postprocess per image at shape (1, 3, 256, 416)\n",
      "\n",
      "image 1/1 /mnt/c/Adrianov/Projects/trash-detector/Littering--8/test/images/video_5_18_jpg.rf.aa29e38c79fb0432fa125fff28b1b9fb.jpg: 256x416 10 Persons, 13.1ms\n",
      "Speed: 1.8ms preprocess, 13.1ms inference, 2.3ms postprocess per image at shape (1, 3, 256, 416)\n"
     ]
    },
    {
     "name": "stderr",
     "output_type": "stream",
     "text": [
      " 61%|██████████████████████████████████████████▍                           | 746/1232 [01:19<00:48,  9.96it/s]"
     ]
    },
    {
     "name": "stdout",
     "output_type": "stream",
     "text": [
      "\n",
      "image 1/1 /mnt/c/Adrianov/Projects/trash-detector/Littering--8/test/images/video_5_19_jpg.rf.647945f956782994f1203535f51d04f8.jpg: 256x416 9 Persons, 12.8ms\n",
      "Speed: 1.8ms preprocess, 12.8ms inference, 1.5ms postprocess per image at shape (1, 3, 256, 416)\n"
     ]
    },
    {
     "name": "stderr",
     "output_type": "stream",
     "text": [
      " 61%|██████████████████████████████████████████▍                           | 747/1232 [01:19<00:49,  9.75it/s]"
     ]
    },
    {
     "name": "stdout",
     "output_type": "stream",
     "text": [
      "\n",
      "image 1/1 /mnt/c/Adrianov/Projects/trash-detector/Littering--8/test/images/video_5_19_jpg.rf.ba892a639bc56717baf10c847cd642a2.jpg: 256x416 2 Persons, 1 Trash, 15.6ms\n",
      "Speed: 2.0ms preprocess, 15.6ms inference, 1.4ms postprocess per image at shape (1, 3, 256, 416)\n",
      "\n",
      "image 1/1 /mnt/c/Adrianov/Projects/trash-detector/Littering--8/test/images/video_5_19_jpg.rf.c8e76563411cdb08844fb9006e4dddf8.jpg: 256x416 2 Persons, 13.0ms\n",
      "Speed: 3.0ms preprocess, 13.0ms inference, 1.5ms postprocess per image at shape (1, 3, 256, 416)\n"
     ]
    },
    {
     "name": "stderr",
     "output_type": "stream",
     "text": [
      " 61%|██████████████████████████████████████████▌                           | 749/1232 [01:19<00:46, 10.40it/s]"
     ]
    },
    {
     "name": "stdout",
     "output_type": "stream",
     "text": [
      "\n",
      "image 1/1 /mnt/c/Adrianov/Projects/trash-detector/Littering--8/test/images/video_5_19_jpg.rf.dd00cb822ae2c5f880bc688939dd42cb.jpg: 256x416 2 Persons, 15.2ms\n",
      "Speed: 2.1ms preprocess, 15.2ms inference, 1.4ms postprocess per image at shape (1, 3, 256, 416)\n",
      "\n",
      "image 1/1 /mnt/c/Adrianov/Projects/trash-detector/Littering--8/test/images/video_5_1_jpg.rf.a01224d06327fc4b4c607516ab96010f.jpg: 256x416 3 Persons, 12.8ms\n",
      "Speed: 1.6ms preprocess, 12.8ms inference, 1.6ms postprocess per image at shape (1, 3, 256, 416)\n"
     ]
    },
    {
     "name": "stderr",
     "output_type": "stream",
     "text": [
      " 61%|██████████████████████████████████████████▋                           | 751/1232 [01:20<00:46, 10.38it/s]"
     ]
    },
    {
     "name": "stdout",
     "output_type": "stream",
     "text": [
      "\n",
      "image 1/1 /mnt/c/Adrianov/Projects/trash-detector/Littering--8/test/images/video_5_1_jpg.rf.a8467d219e6fcd1a381ac867ce42d748.jpg: 256x416 10 Persons, 1 Trash, 12.9ms\n",
      "Speed: 2.3ms preprocess, 12.9ms inference, 1.5ms postprocess per image at shape (1, 3, 256, 416)\n",
      "\n",
      "image 1/1 /mnt/c/Adrianov/Projects/trash-detector/Littering--8/test/images/video_5_1_jpg.rf.db4c18920376e73c143e5a9713a9ebf4.jpg: 256x416 2 Persons, 1 Trash, 12.9ms\n",
      "Speed: 1.8ms preprocess, 12.9ms inference, 1.8ms postprocess per image at shape (1, 3, 256, 416)\n"
     ]
    },
    {
     "name": "stderr",
     "output_type": "stream",
     "text": [
      " 61%|██████████████████████████████████████████▊                           | 753/1232 [01:20<00:46, 10.22it/s]"
     ]
    },
    {
     "name": "stdout",
     "output_type": "stream",
     "text": [
      "\n",
      "image 1/1 /mnt/c/Adrianov/Projects/trash-detector/Littering--8/test/images/video_5_20_jpg.rf.01380c41742dfd739cb24ff4ff87032a.jpg: 256x416 2 Persons, 1 Trash, 12.9ms\n",
      "Speed: 1.9ms preprocess, 12.9ms inference, 2.8ms postprocess per image at shape (1, 3, 256, 416)\n",
      "\n",
      "image 1/1 /mnt/c/Adrianov/Projects/trash-detector/Littering--8/test/images/video_5_20_jpg.rf.0708624387a64b65e4d88d6b10ce74e7.jpg: 256x416 2 Persons, 15.4ms\n",
      "Speed: 2.5ms preprocess, 15.4ms inference, 2.0ms postprocess per image at shape (1, 3, 256, 416)\n"
     ]
    },
    {
     "name": "stderr",
     "output_type": "stream",
     "text": [
      " 61%|██████████████████████████████████████████▉                           | 755/1232 [01:20<00:51,  9.22it/s]"
     ]
    },
    {
     "name": "stdout",
     "output_type": "stream",
     "text": [
      "\n",
      "image 1/1 /mnt/c/Adrianov/Projects/trash-detector/Littering--8/test/images/video_5_20_jpg.rf.5c4f4581bd0d74e85e43da94d2219d94.jpg: 256x416 2 Persons, 12.9ms\n",
      "Speed: 2.3ms preprocess, 12.9ms inference, 1.8ms postprocess per image at shape (1, 3, 256, 416)\n"
     ]
    },
    {
     "name": "stderr",
     "output_type": "stream",
     "text": [
      " 61%|██████████████████████████████████████████▉                           | 756/1232 [01:20<00:52,  9.07it/s]"
     ]
    },
    {
     "name": "stdout",
     "output_type": "stream",
     "text": [
      "\n",
      "image 1/1 /mnt/c/Adrianov/Projects/trash-detector/Littering--8/test/images/video_5_20_jpg.rf.815f06d33b41d65ba24e5a1310fc895a.jpg: 256x416 4 Persons, 12.9ms\n",
      "Speed: 1.7ms preprocess, 12.9ms inference, 1.4ms postprocess per image at shape (1, 3, 256, 416)\n",
      "\n",
      "image 1/1 /mnt/c/Adrianov/Projects/trash-detector/Littering--8/test/images/video_5_20_jpg.rf.93b9e814b5980fe385f91fd18a05a1bd.jpg: 256x416 10 Persons, 13.0ms\n",
      "Speed: 1.8ms preprocess, 13.0ms inference, 1.6ms postprocess per image at shape (1, 3, 256, 416)\n"
     ]
    },
    {
     "name": "stderr",
     "output_type": "stream",
     "text": [
      " 62%|███████████████████████████████████████████                           | 758/1232 [01:20<00:49,  9.50it/s]"
     ]
    },
    {
     "name": "stdout",
     "output_type": "stream",
     "text": [
      "\n",
      "image 1/1 /mnt/c/Adrianov/Projects/trash-detector/Littering--8/test/images/video_5_21_jpg.rf.4c06511e34b820d8ecabb29c8d0ab8a5.jpg: 256x416 2 Persons, 15.6ms\n",
      "Speed: 2.0ms preprocess, 15.6ms inference, 1.6ms postprocess per image at shape (1, 3, 256, 416)\n",
      "\n",
      "image 1/1 /mnt/c/Adrianov/Projects/trash-detector/Littering--8/test/images/video_5_21_jpg.rf.7ff84fd75b1d7245e6f79fac52d554ee.jpg: 256x416 2 Persons, 18.5ms\n",
      "Speed: 2.4ms preprocess, 18.5ms inference, 1.5ms postprocess per image at shape (1, 3, 256, 416)\n"
     ]
    },
    {
     "name": "stderr",
     "output_type": "stream",
     "text": [
      " 62%|███████████████████████████████████████████▏                          | 760/1232 [01:21<00:52,  9.07it/s]"
     ]
    },
    {
     "name": "stdout",
     "output_type": "stream",
     "text": [
      "\n",
      "image 1/1 /mnt/c/Adrianov/Projects/trash-detector/Littering--8/test/images/video_5_21_jpg.rf.9b8272af3ab98101b7a187435a50356a.jpg: 256x416 4 Persons, 13.1ms\n",
      "Speed: 2.3ms preprocess, 13.1ms inference, 1.9ms postprocess per image at shape (1, 3, 256, 416)\n"
     ]
    },
    {
     "name": "stderr",
     "output_type": "stream",
     "text": [
      " 62%|███████████████████████████████████████████▏                          | 761/1232 [01:21<00:53,  8.79it/s]"
     ]
    },
    {
     "name": "stdout",
     "output_type": "stream",
     "text": [
      "\n",
      "image 1/1 /mnt/c/Adrianov/Projects/trash-detector/Littering--8/test/images/video_5_21_jpg.rf.a215eecef927ed1a64ee48398549fdbc.jpg: 256x416 2 Persons, 1 Trash, 13.0ms\n",
      "Speed: 2.6ms preprocess, 13.0ms inference, 2.3ms postprocess per image at shape (1, 3, 256, 416)\n",
      "\n",
      "image 1/1 /mnt/c/Adrianov/Projects/trash-detector/Littering--8/test/images/video_5_21_jpg.rf.e00bced83ab6d4782e4dbe1df6bfda6a.jpg: 256x416 8 Persons, 12.8ms\n",
      "Speed: 2.2ms preprocess, 12.8ms inference, 1.4ms postprocess per image at shape (1, 3, 256, 416)\n"
     ]
    },
    {
     "name": "stderr",
     "output_type": "stream",
     "text": [
      " 62%|███████████████████████████████████████████▎                          | 763/1232 [01:21<00:49,  9.39it/s]"
     ]
    },
    {
     "name": "stdout",
     "output_type": "stream",
     "text": [
      "\n",
      "image 1/1 /mnt/c/Adrianov/Projects/trash-detector/Littering--8/test/images/video_5_22_jpg.rf.8f3010f44b0363b99b20311bb121ac92.jpg: 256x416 8 Persons, 1 Trash, 30.8ms\n",
      "Speed: 1.9ms preprocess, 30.8ms inference, 1.7ms postprocess per image at shape (1, 3, 256, 416)\n"
     ]
    },
    {
     "name": "stderr",
     "output_type": "stream",
     "text": [
      " 62%|███████████████████████████████████████████▍                          | 764/1232 [01:21<00:51,  9.06it/s]"
     ]
    },
    {
     "name": "stdout",
     "output_type": "stream",
     "text": [
      "\n",
      "image 1/1 /mnt/c/Adrianov/Projects/trash-detector/Littering--8/test/images/video_5_22_jpg.rf.93677b5ac66e70221e3cc0dca6078a95.jpg: 256x416 2 Persons, 12.9ms\n",
      "Speed: 1.7ms preprocess, 12.9ms inference, 3.3ms postprocess per image at shape (1, 3, 256, 416)\n",
      "\n",
      "image 1/1 /mnt/c/Adrianov/Projects/trash-detector/Littering--8/test/images/video_5_22_jpg.rf.b48191da3703f4128c958ce8015be2b6.jpg: 256x416 2 Persons, 1 Trash, 13.0ms\n",
      "Speed: 2.3ms preprocess, 13.0ms inference, 1.9ms postprocess per image at shape (1, 3, 256, 416)\n"
     ]
    },
    {
     "name": "stderr",
     "output_type": "stream",
     "text": [
      " 62%|███████████████████████████████████████████▌                          | 766/1232 [01:21<00:51,  8.97it/s]"
     ]
    },
    {
     "name": "stdout",
     "output_type": "stream",
     "text": [
      "\n",
      "image 1/1 /mnt/c/Adrianov/Projects/trash-detector/Littering--8/test/images/video_5_22_jpg.rf.c9d065224a71b2f1c6bdb96b1bc71da7.jpg: 256x416 2 Persons, 12.9ms\n",
      "Speed: 2.0ms preprocess, 12.9ms inference, 1.5ms postprocess per image at shape (1, 3, 256, 416)\n"
     ]
    },
    {
     "name": "stderr",
     "output_type": "stream",
     "text": [
      " 62%|███████████████████████████████████████████▌                          | 767/1232 [01:21<00:53,  8.76it/s]"
     ]
    },
    {
     "name": "stdout",
     "output_type": "stream",
     "text": [
      "\n",
      "image 1/1 /mnt/c/Adrianov/Projects/trash-detector/Littering--8/test/images/video_5_23_jpg.rf.0da3cdf83cd5b838f41087c92ba85c2b.jpg: 256x416 2 Persons, 20.7ms\n",
      "Speed: 3.0ms preprocess, 20.7ms inference, 2.7ms postprocess per image at shape (1, 3, 256, 416)\n"
     ]
    },
    {
     "name": "stderr",
     "output_type": "stream",
     "text": [
      " 62%|███████████████████████████████████████████▋                          | 768/1232 [01:22<00:57,  8.06it/s]"
     ]
    },
    {
     "name": "stdout",
     "output_type": "stream",
     "text": [
      "\n",
      "image 1/1 /mnt/c/Adrianov/Projects/trash-detector/Littering--8/test/images/video_5_23_jpg.rf.1e99608826066224fab1f2e4d838fed7.jpg: 256x416 7 Persons, 1 Trash, 12.9ms\n",
      "Speed: 2.1ms preprocess, 12.9ms inference, 1.5ms postprocess per image at shape (1, 3, 256, 416)\n"
     ]
    },
    {
     "name": "stderr",
     "output_type": "stream",
     "text": [
      " 62%|███████████████████████████████████████████▋                          | 769/1232 [01:22<00:55,  8.34it/s]"
     ]
    },
    {
     "name": "stdout",
     "output_type": "stream",
     "text": [
      "\n",
      "image 1/1 /mnt/c/Adrianov/Projects/trash-detector/Littering--8/test/images/video_5_23_jpg.rf.35b0182b65bb1a43dc0f4809043b773e.jpg: 256x416 2 Persons, 1 Trash, 20.0ms\n",
      "Speed: 2.3ms preprocess, 20.0ms inference, 3.1ms postprocess per image at shape (1, 3, 256, 416)\n",
      "\n",
      "image 1/1 /mnt/c/Adrianov/Projects/trash-detector/Littering--8/test/images/video_5_23_jpg.rf.474fb2ca3aee319720ea93c9fe7c7347.jpg: 256x416 3 Persons, 21.0ms\n",
      "Speed: 2.1ms preprocess, 21.0ms inference, 2.6ms postprocess per image at shape (1, 3, 256, 416)\n"
     ]
    },
    {
     "name": "stderr",
     "output_type": "stream",
     "text": [
      " 63%|███████████████████████████████████████████▊                          | 771/1232 [01:22<00:50,  9.09it/s]"
     ]
    },
    {
     "name": "stdout",
     "output_type": "stream",
     "text": [
      "\n",
      "image 1/1 /mnt/c/Adrianov/Projects/trash-detector/Littering--8/test/images/video_5_24_jpg.rf.25186da0933afb419bae6d08c0175ac5.jpg: 256x416 8 Persons, 1 Trash, 12.8ms\n",
      "Speed: 1.9ms preprocess, 12.8ms inference, 1.6ms postprocess per image at shape (1, 3, 256, 416)\n"
     ]
    },
    {
     "name": "stderr",
     "output_type": "stream",
     "text": [
      " 63%|███████████████████████████████████████████▊                          | 772/1232 [01:22<00:57,  8.00it/s]"
     ]
    },
    {
     "name": "stdout",
     "output_type": "stream",
     "text": [
      "\n",
      "image 1/1 /mnt/c/Adrianov/Projects/trash-detector/Littering--8/test/images/video_5_24_jpg.rf.32dd6ff18ad7249673f81a32a06a3091.jpg: 256x416 2 Persons, 14.9ms\n",
      "Speed: 2.3ms preprocess, 14.9ms inference, 1.4ms postprocess per image at shape (1, 3, 256, 416)\n"
     ]
    },
    {
     "name": "stderr",
     "output_type": "stream",
     "text": [
      " 63%|███████████████████████████████████████████▉                          | 773/1232 [01:22<00:57,  8.01it/s]"
     ]
    },
    {
     "name": "stdout",
     "output_type": "stream",
     "text": [
      "\n",
      "image 1/1 /mnt/c/Adrianov/Projects/trash-detector/Littering--8/test/images/video_5_24_jpg.rf.651360db2127d10a23babb36dc40b94f.jpg: 256x416 2 Persons, 13.0ms\n",
      "Speed: 2.3ms preprocess, 13.0ms inference, 1.7ms postprocess per image at shape (1, 3, 256, 416)\n"
     ]
    },
    {
     "name": "stderr",
     "output_type": "stream",
     "text": [
      " 63%|███████████████████████████████████████████▉                          | 774/1232 [01:22<01:01,  7.45it/s]"
     ]
    },
    {
     "name": "stdout",
     "output_type": "stream",
     "text": [
      "\n",
      "image 1/1 /mnt/c/Adrianov/Projects/trash-detector/Littering--8/test/images/video_5_24_jpg.rf.7cf320c8a3445b57ac22fd3e18a63e03.jpg: 256x416 2 Persons, 1 Trash, 13.3ms\n",
      "Speed: 2.1ms preprocess, 13.3ms inference, 3.6ms postprocess per image at shape (1, 3, 256, 416)\n"
     ]
    },
    {
     "name": "stderr",
     "output_type": "stream",
     "text": [
      " 63%|████████████████████████████████████████████                          | 775/1232 [01:23<01:07,  6.76it/s]"
     ]
    },
    {
     "name": "stdout",
     "output_type": "stream",
     "text": [
      "\n",
      "image 1/1 /mnt/c/Adrianov/Projects/trash-detector/Littering--8/test/images/video_5_25_jpg.rf.064b955486cb696c505080c1d827f32f.jpg: 256x416 2 Persons, 15.6ms\n",
      "Speed: 2.0ms preprocess, 15.6ms inference, 2.7ms postprocess per image at shape (1, 3, 256, 416)\n",
      "\n",
      "image 1/1 /mnt/c/Adrianov/Projects/trash-detector/Littering--8/test/images/video_5_25_jpg.rf.24fbf2af9b6db0c93d802998a98e7f91.jpg: 256x416 7 Persons, 1 Trash, 15.8ms\n",
      "Speed: 2.1ms preprocess, 15.8ms inference, 2.8ms postprocess per image at shape (1, 3, 256, 416)\n"
     ]
    },
    {
     "name": "stderr",
     "output_type": "stream",
     "text": [
      " 63%|████████████████████████████████████████████▏                         | 777/1232 [01:23<00:58,  7.79it/s]"
     ]
    },
    {
     "name": "stdout",
     "output_type": "stream",
     "text": [
      "\n",
      "image 1/1 /mnt/c/Adrianov/Projects/trash-detector/Littering--8/test/images/video_5_25_jpg.rf.497701044a0c7a9cbcbb939bd91dacf6.jpg: 256x416 2 Persons, 18.4ms\n",
      "Speed: 1.8ms preprocess, 18.4ms inference, 2.7ms postprocess per image at shape (1, 3, 256, 416)\n",
      "\n",
      "image 1/1 /mnt/c/Adrianov/Projects/trash-detector/Littering--8/test/images/video_5_25_jpg.rf.4b1d53a830e22779ae272a8235db4742.jpg: 256x416 3 Persons, 17.7ms\n",
      "Speed: 2.6ms preprocess, 17.7ms inference, 1.5ms postprocess per image at shape (1, 3, 256, 416)\n"
     ]
    },
    {
     "name": "stderr",
     "output_type": "stream",
     "text": [
      " 63%|████████████████████████████████████████████▎                         | 779/1232 [01:23<00:51,  8.71it/s]"
     ]
    },
    {
     "name": "stdout",
     "output_type": "stream",
     "text": [
      "\n",
      "image 1/1 /mnt/c/Adrianov/Projects/trash-detector/Littering--8/test/images/video_5_25_jpg.rf.a157c0d62847aaed4d599d89629985e8.jpg: 256x416 2 Persons, 12.9ms\n",
      "Speed: 2.1ms preprocess, 12.9ms inference, 1.8ms postprocess per image at shape (1, 3, 256, 416)\n",
      "\n",
      "image 1/1 /mnt/c/Adrianov/Projects/trash-detector/Littering--8/test/images/video_5_26_jpg.rf.32db2446a58ad42ef520f5cfb1da320c.jpg: 256x416 4 Persons, 12.8ms\n",
      "Speed: 2.2ms preprocess, 12.8ms inference, 1.5ms postprocess per image at shape (1, 3, 256, 416)\n"
     ]
    },
    {
     "name": "stderr",
     "output_type": "stream",
     "text": [
      " 63%|████████████████████████████████████████████▍                         | 781/1232 [01:23<00:47,  9.56it/s]"
     ]
    },
    {
     "name": "stdout",
     "output_type": "stream",
     "text": [
      "\n",
      "image 1/1 /mnt/c/Adrianov/Projects/trash-detector/Littering--8/test/images/video_5_26_jpg.rf.59a4e8b132a42a705a2170071c2d6d75.jpg: 256x416 2 Persons, 14.8ms\n",
      "Speed: 2.2ms preprocess, 14.8ms inference, 1.5ms postprocess per image at shape (1, 3, 256, 416)\n",
      "\n",
      "image 1/1 /mnt/c/Adrianov/Projects/trash-detector/Littering--8/test/images/video_5_26_jpg.rf.63f8b48ab2155b7450d314e9d0683381.jpg: 256x416 2 Persons, 15.0ms\n",
      "Speed: 1.9ms preprocess, 15.0ms inference, 3.1ms postprocess per image at shape (1, 3, 256, 416)\n"
     ]
    },
    {
     "name": "stderr",
     "output_type": "stream",
     "text": [
      " 64%|████████████████████████████████████████████▍                         | 783/1232 [01:23<00:43, 10.21it/s]"
     ]
    },
    {
     "name": "stdout",
     "output_type": "stream",
     "text": [
      "\n",
      "image 1/1 /mnt/c/Adrianov/Projects/trash-detector/Littering--8/test/images/video_5_26_jpg.rf.808b0a8df1180f31fc98d7d763c158d3.jpg: 256x416 7 Persons, 1 Trash, 12.9ms\n",
      "Speed: 2.2ms preprocess, 12.9ms inference, 1.5ms postprocess per image at shape (1, 3, 256, 416)\n",
      "\n",
      "image 1/1 /mnt/c/Adrianov/Projects/trash-detector/Littering--8/test/images/video_5_26_jpg.rf.b02f064e5f0212466efaa1d4fa1f82cf.jpg: 256x416 2 Persons, 1 Trash, 16.3ms\n",
      "Speed: 2.1ms preprocess, 16.3ms inference, 1.4ms postprocess per image at shape (1, 3, 256, 416)\n"
     ]
    },
    {
     "name": "stderr",
     "output_type": "stream",
     "text": [
      " 64%|████████████████████████████████████████████▌                         | 785/1232 [01:24<00:45,  9.87it/s]"
     ]
    },
    {
     "name": "stdout",
     "output_type": "stream",
     "text": [
      "\n",
      "image 1/1 /mnt/c/Adrianov/Projects/trash-detector/Littering--8/test/images/video_5_27_jpg.rf.0f1a9aa12ab2058bddfdf637064317d4.jpg: 256x416 2 Persons, 15.8ms\n",
      "Speed: 2.2ms preprocess, 15.8ms inference, 1.3ms postprocess per image at shape (1, 3, 256, 416)\n",
      "\n",
      "image 1/1 /mnt/c/Adrianov/Projects/trash-detector/Littering--8/test/images/video_5_27_jpg.rf.2c80d716552cef3d377fd55a9916ac87.jpg: 256x416 2 Persons, 12.8ms\n",
      "Speed: 2.2ms preprocess, 12.8ms inference, 1.6ms postprocess per image at shape (1, 3, 256, 416)\n"
     ]
    },
    {
     "name": "stderr",
     "output_type": "stream",
     "text": [
      " 64%|████████████████████████████████████████████▋                         | 787/1232 [01:24<00:44, 10.10it/s]"
     ]
    },
    {
     "name": "stdout",
     "output_type": "stream",
     "text": [
      "\n",
      "image 1/1 /mnt/c/Adrianov/Projects/trash-detector/Littering--8/test/images/video_5_27_jpg.rf.3365f03678e4107defe18c94c612c384.jpg: 256x416 2 Persons, 1 Trash, 13.9ms\n",
      "Speed: 2.3ms preprocess, 13.9ms inference, 1.7ms postprocess per image at shape (1, 3, 256, 416)\n",
      "\n",
      "image 1/1 /mnt/c/Adrianov/Projects/trash-detector/Littering--8/test/images/video_5_27_jpg.rf.5e5f55f8e3067975a81f2797ab88ab5a.jpg: 256x416 7 Persons, 1 Trash, 16.8ms\n",
      "Speed: 2.0ms preprocess, 16.8ms inference, 4.3ms postprocess per image at shape (1, 3, 256, 416)\n"
     ]
    },
    {
     "name": "stderr",
     "output_type": "stream",
     "text": [
      " 64%|████████████████████████████████████████████▊                         | 789/1232 [01:24<00:44,  9.95it/s]"
     ]
    },
    {
     "name": "stdout",
     "output_type": "stream",
     "text": [
      "\n",
      "image 1/1 /mnt/c/Adrianov/Projects/trash-detector/Littering--8/test/images/video_5_28_jpg.rf.04bb6a37c0350290dfaca6032c47fb8a.jpg: 256x416 2 Persons, 1 Trash, 13.6ms\n",
      "Speed: 2.0ms preprocess, 13.6ms inference, 2.1ms postprocess per image at shape (1, 3, 256, 416)\n",
      "\n",
      "image 1/1 /mnt/c/Adrianov/Projects/trash-detector/Littering--8/test/images/video_5_28_jpg.rf.1791045f6ce16406731c5062563b1c79.jpg: 256x416 8 Persons, 1 Trash, 13.0ms\n",
      "Speed: 1.9ms preprocess, 13.0ms inference, 1.5ms postprocess per image at shape (1, 3, 256, 416)\n"
     ]
    },
    {
     "name": "stderr",
     "output_type": "stream",
     "text": [
      " 64%|████████████████████████████████████████████▉                         | 791/1232 [01:24<00:44,  9.87it/s]"
     ]
    },
    {
     "name": "stdout",
     "output_type": "stream",
     "text": [
      "\n",
      "image 1/1 /mnt/c/Adrianov/Projects/trash-detector/Littering--8/test/images/video_5_28_jpg.rf.3797fc2092d3cfb6f8e0437d918625dd.jpg: 256x416 4 Persons, 13.6ms\n",
      "Speed: 2.2ms preprocess, 13.6ms inference, 1.4ms postprocess per image at shape (1, 3, 256, 416)\n"
     ]
    },
    {
     "name": "stderr",
     "output_type": "stream",
     "text": [
      " 64%|█████████████████████████████████████████████                         | 792/1232 [01:24<00:44,  9.86it/s]"
     ]
    },
    {
     "name": "stdout",
     "output_type": "stream",
     "text": [
      "\n",
      "image 1/1 /mnt/c/Adrianov/Projects/trash-detector/Littering--8/test/images/video_5_28_jpg.rf.48e98a5a8e6b1cc014d65fab8fc1ab6c.jpg: 256x416 2 Persons, 12.9ms\n",
      "Speed: 7.6ms preprocess, 12.9ms inference, 2.0ms postprocess per image at shape (1, 3, 256, 416)\n"
     ]
    },
    {
     "name": "stderr",
     "output_type": "stream",
     "text": [
      " 64%|█████████████████████████████████████████████                         | 793/1232 [01:24<00:44,  9.89it/s]"
     ]
    },
    {
     "name": "stdout",
     "output_type": "stream",
     "text": [
      "\n",
      "image 1/1 /mnt/c/Adrianov/Projects/trash-detector/Littering--8/test/images/video_5_28_jpg.rf.fa057f49e650f93d672a136cec953664.jpg: 256x416 3 Persons, 13.0ms\n",
      "Speed: 1.8ms preprocess, 13.0ms inference, 1.4ms postprocess per image at shape (1, 3, 256, 416)\n",
      "\n",
      "image 1/1 /mnt/c/Adrianov/Projects/trash-detector/Littering--8/test/images/video_5_29_jpg.rf.509bcac9311ad209d184b43093482c68.jpg: 256x416 8 Persons, 1 Trash, 13.6ms\n",
      "Speed: 2.0ms preprocess, 13.6ms inference, 1.6ms postprocess per image at shape (1, 3, 256, 416)\n"
     ]
    },
    {
     "name": "stderr",
     "output_type": "stream",
     "text": [
      " 65%|█████████████████████████████████████████████▏                        | 795/1232 [01:25<00:46,  9.45it/s]"
     ]
    },
    {
     "name": "stdout",
     "output_type": "stream",
     "text": [
      "\n",
      "image 1/1 /mnt/c/Adrianov/Projects/trash-detector/Littering--8/test/images/video_5_29_jpg.rf.c754c2268f6a51d1bd2fe6c1c6ef4973.jpg: 256x416 3 Persons, 13.7ms\n",
      "Speed: 2.3ms preprocess, 13.7ms inference, 3.0ms postprocess per image at shape (1, 3, 256, 416)\n"
     ]
    },
    {
     "name": "stderr",
     "output_type": "stream",
     "text": [
      " 65%|█████████████████████████████████████████████▏                        | 796/1232 [01:25<00:53,  8.12it/s]"
     ]
    },
    {
     "name": "stdout",
     "output_type": "stream",
     "text": [
      "\n",
      "image 1/1 /mnt/c/Adrianov/Projects/trash-detector/Littering--8/test/images/video_5_29_jpg.rf.c83167f7d1968c60be531f4d44d1e6d8.jpg: 256x416 2 Persons, 1 Trash, 14.0ms\n",
      "Speed: 2.2ms preprocess, 14.0ms inference, 1.4ms postprocess per image at shape (1, 3, 256, 416)\n"
     ]
    },
    {
     "name": "stderr",
     "output_type": "stream",
     "text": [
      " 65%|█████████████████████████████████████████████▎                        | 797/1232 [01:25<00:53,  8.17it/s]"
     ]
    },
    {
     "name": "stdout",
     "output_type": "stream",
     "text": [
      "\n",
      "image 1/1 /mnt/c/Adrianov/Projects/trash-detector/Littering--8/test/images/video_5_29_jpg.rf.d5cb1a943d337aec9c1454d2efa4ffcc.jpg: 256x416 2 Persons, 13.1ms\n",
      "Speed: 2.2ms preprocess, 13.1ms inference, 3.0ms postprocess per image at shape (1, 3, 256, 416)\n",
      "\n",
      "image 1/1 /mnt/c/Adrianov/Projects/trash-detector/Littering--8/test/images/video_5_29_jpg.rf.f54f30e863aa5b9c96a5fd3394dc8201.jpg: 256x416 2 Persons, 12.8ms\n",
      "Speed: 2.0ms preprocess, 12.8ms inference, 1.4ms postprocess per image at shape (1, 3, 256, 416)\n"
     ]
    },
    {
     "name": "stderr",
     "output_type": "stream",
     "text": [
      " 65%|█████████████████████████████████████████████▍                        | 799/1232 [01:25<00:46,  9.29it/s]"
     ]
    },
    {
     "name": "stdout",
     "output_type": "stream",
     "text": [
      "\n",
      "image 1/1 /mnt/c/Adrianov/Projects/trash-detector/Littering--8/test/images/video_5_2_jpg.rf.67fe9be3204ebc51ae50dcf4ceac136e.jpg: 256x416 11 Persons, 1 Trash, 12.9ms\n",
      "Speed: 1.9ms preprocess, 12.9ms inference, 3.3ms postprocess per image at shape (1, 3, 256, 416)\n"
     ]
    },
    {
     "name": "stderr",
     "output_type": "stream",
     "text": [
      " 65%|█████████████████████████████████████████████▍                        | 800/1232 [01:25<00:47,  9.17it/s]"
     ]
    },
    {
     "name": "stdout",
     "output_type": "stream",
     "text": [
      "\n",
      "image 1/1 /mnt/c/Adrianov/Projects/trash-detector/Littering--8/test/images/video_5_2_jpg.rf.932a0a9ac24660a0b8d9c1035a611379.jpg: 256x416 2 Persons, 1 Trash, 13.9ms\n",
      "Speed: 2.1ms preprocess, 13.9ms inference, 1.4ms postprocess per image at shape (1, 3, 256, 416)\n"
     ]
    },
    {
     "name": "stderr",
     "output_type": "stream",
     "text": [
      " 65%|█████████████████████████████████████████████▌                        | 801/1232 [01:25<00:47,  9.08it/s]"
     ]
    },
    {
     "name": "stdout",
     "output_type": "stream",
     "text": [
      "\n",
      "image 1/1 /mnt/c/Adrianov/Projects/trash-detector/Littering--8/test/images/video_5_2_jpg.rf.c02d793ca1d3f3742f36894efc053154.jpg: 256x416 3 Persons, 13.0ms\n",
      "Speed: 2.7ms preprocess, 13.0ms inference, 2.0ms postprocess per image at shape (1, 3, 256, 416)\n",
      "\n",
      "image 1/1 /mnt/c/Adrianov/Projects/trash-detector/Littering--8/test/images/video_5_2_jpg.rf.e691ac0ece31ab95d675165ba11251cd.jpg: 256x416 3 Persons, 12.9ms\n",
      "Speed: 1.9ms preprocess, 12.9ms inference, 1.6ms postprocess per image at shape (1, 3, 256, 416)\n"
     ]
    },
    {
     "name": "stderr",
     "output_type": "stream",
     "text": [
      " 65%|█████████████████████████████████████████████▋                        | 803/1232 [01:25<00:44,  9.66it/s]"
     ]
    },
    {
     "name": "stdout",
     "output_type": "stream",
     "text": [
      "\n",
      "image 1/1 /mnt/c/Adrianov/Projects/trash-detector/Littering--8/test/images/video_5_30_jpg.rf.30e2899f4df20eddfb9f841315de010e.jpg: 256x416 8 Persons, 13.6ms\n",
      "Speed: 4.8ms preprocess, 13.6ms inference, 1.9ms postprocess per image at shape (1, 3, 256, 416)\n"
     ]
    },
    {
     "name": "stderr",
     "output_type": "stream",
     "text": [
      " 65%|█████████████████████████████████████████████▋                        | 804/1232 [01:26<00:45,  9.44it/s]"
     ]
    },
    {
     "name": "stdout",
     "output_type": "stream",
     "text": [
      "\n",
      "image 1/1 /mnt/c/Adrianov/Projects/trash-detector/Littering--8/test/images/video_5_30_jpg.rf.a1e5f5f02e2e692f4bd21d130e8a51a4.jpg: 256x416 1 Person, 13.0ms\n",
      "Speed: 2.1ms preprocess, 13.0ms inference, 2.1ms postprocess per image at shape (1, 3, 256, 416)\n",
      "\n",
      "image 1/1 /mnt/c/Adrianov/Projects/trash-detector/Littering--8/test/images/video_5_30_jpg.rf.b9e5180b26b14fee61daf97835915127.jpg: 256x416 2 Persons, 15.5ms\n",
      "Speed: 2.0ms preprocess, 15.5ms inference, 2.6ms postprocess per image at shape (1, 3, 256, 416)\n"
     ]
    },
    {
     "name": "stderr",
     "output_type": "stream",
     "text": [
      " 65%|█████████████████████████████████████████████▊                        | 806/1232 [01:26<00:42, 10.10it/s]"
     ]
    },
    {
     "name": "stdout",
     "output_type": "stream",
     "text": [
      "\n",
      "image 1/1 /mnt/c/Adrianov/Projects/trash-detector/Littering--8/test/images/video_5_30_jpg.rf.d7c608c42be4d2ce6a13aa37f7659bbf.jpg: 256x416 2 Persons, 1 Trash, 13.0ms\n",
      "Speed: 1.9ms preprocess, 13.0ms inference, 1.4ms postprocess per image at shape (1, 3, 256, 416)\n",
      "\n",
      "image 1/1 /mnt/c/Adrianov/Projects/trash-detector/Littering--8/test/images/video_5_3_jpg.rf.2849b6b350a581d8f0b7cf9779f6c060.jpg: 256x416 2 Persons, 1 Trash, 12.9ms\n",
      "Speed: 1.8ms preprocess, 12.9ms inference, 3.4ms postprocess per image at shape (1, 3, 256, 416)\n"
     ]
    },
    {
     "name": "stderr",
     "output_type": "stream",
     "text": [
      " 66%|█████████████████████████████████████████████▉                        | 808/1232 [01:26<00:40, 10.57it/s]"
     ]
    },
    {
     "name": "stdout",
     "output_type": "stream",
     "text": [
      "\n",
      "image 1/1 /mnt/c/Adrianov/Projects/trash-detector/Littering--8/test/images/video_5_3_jpg.rf.5f5123b41d3aa6b7a899459be1d47b6d.jpg: 256x416 4 Persons, 12.9ms\n",
      "Speed: 2.1ms preprocess, 12.9ms inference, 2.0ms postprocess per image at shape (1, 3, 256, 416)\n",
      "\n",
      "image 1/1 /mnt/c/Adrianov/Projects/trash-detector/Littering--8/test/images/video_5_3_jpg.rf.866a930240556f38287eeb29545a7f14.jpg: 256x416 9 Persons, 1 Trash, 12.9ms\n",
      "Speed: 1.9ms preprocess, 12.9ms inference, 1.5ms postprocess per image at shape (1, 3, 256, 416)\n"
     ]
    },
    {
     "name": "stderr",
     "output_type": "stream",
     "text": [
      " 66%|██████████████████████████████████████████████                        | 810/1232 [01:26<00:40, 10.38it/s]"
     ]
    },
    {
     "name": "stdout",
     "output_type": "stream",
     "text": [
      "\n",
      "image 1/1 /mnt/c/Adrianov/Projects/trash-detector/Littering--8/test/images/video_5_3_jpg.rf.ae17b496fd1f00cde3f3f0c6a44bb144.jpg: 256x416 2 Persons, 12.9ms\n",
      "Speed: 1.8ms preprocess, 12.9ms inference, 1.6ms postprocess per image at shape (1, 3, 256, 416)\n",
      "\n",
      "image 1/1 /mnt/c/Adrianov/Projects/trash-detector/Littering--8/test/images/video_5_4_jpg.rf.81497c89dd0fabfc610a8895e66a298e.jpg: 256x416 2 Persons, 1 Trash, 16.3ms\n",
      "Speed: 2.9ms preprocess, 16.3ms inference, 2.6ms postprocess per image at shape (1, 3, 256, 416)\n"
     ]
    },
    {
     "name": "stderr",
     "output_type": "stream",
     "text": [
      " 66%|██████████████████████████████████████████████▏                       | 812/1232 [01:26<00:41, 10.07it/s]"
     ]
    },
    {
     "name": "stdout",
     "output_type": "stream",
     "text": [
      "\n",
      "image 1/1 /mnt/c/Adrianov/Projects/trash-detector/Littering--8/test/images/video_5_4_jpg.rf.8767cfbfd92340d1a9d7082ce494dba3.jpg: 256x416 3 Persons, 13.0ms\n",
      "Speed: 1.8ms preprocess, 13.0ms inference, 3.4ms postprocess per image at shape (1, 3, 256, 416)\n",
      "\n",
      "image 1/1 /mnt/c/Adrianov/Projects/trash-detector/Littering--8/test/images/video_5_4_jpg.rf.c0f7b918ff5e4447acddf80344952f18.jpg: 256x416 2 Persons, 13.0ms\n",
      "Speed: 2.1ms preprocess, 13.0ms inference, 1.5ms postprocess per image at shape (1, 3, 256, 416)\n"
     ]
    },
    {
     "name": "stderr",
     "output_type": "stream",
     "text": [
      " 66%|██████████████████████████████████████████████▎                       | 814/1232 [01:26<00:39, 10.54it/s]"
     ]
    },
    {
     "name": "stdout",
     "output_type": "stream",
     "text": [
      "\n",
      "image 1/1 /mnt/c/Adrianov/Projects/trash-detector/Littering--8/test/images/video_5_4_jpg.rf.c79dc847a83c14fa2c23bf867c74ad1d.jpg: 256x416 9 Persons, 1 Trash, 12.9ms\n",
      "Speed: 3.8ms preprocess, 12.9ms inference, 1.7ms postprocess per image at shape (1, 3, 256, 416)\n",
      "\n",
      "image 1/1 /mnt/c/Adrianov/Projects/trash-detector/Littering--8/test/images/video_5_5_jpg.rf.b134bc387f4422913f6029a55d55b43b.jpg: 256x416 2 Persons, 1 Trash, 12.9ms\n",
      "Speed: 2.1ms preprocess, 12.9ms inference, 1.9ms postprocess per image at shape (1, 3, 256, 416)\n"
     ]
    },
    {
     "name": "stderr",
     "output_type": "stream",
     "text": [
      " 66%|██████████████████████████████████████████████▎                       | 816/1232 [01:27<00:48,  8.54it/s]"
     ]
    },
    {
     "name": "stdout",
     "output_type": "stream",
     "text": [
      "\n",
      "image 1/1 /mnt/c/Adrianov/Projects/trash-detector/Littering--8/test/images/video_5_5_jpg.rf.d259d35f86707a1ec122075c4773ddf2.jpg: 256x416 3 Persons, 12.9ms\n",
      "Speed: 2.0ms preprocess, 12.9ms inference, 1.7ms postprocess per image at shape (1, 3, 256, 416)\n",
      "\n",
      "image 1/1 /mnt/c/Adrianov/Projects/trash-detector/Littering--8/test/images/video_5_5_jpg.rf.da60d66af0c47885e017ec118e76aba5.jpg: 256x416 10 Persons, 1 Trash, 12.8ms\n",
      "Speed: 1.7ms preprocess, 12.8ms inference, 2.3ms postprocess per image at shape (1, 3, 256, 416)\n"
     ]
    },
    {
     "name": "stderr",
     "output_type": "stream",
     "text": [
      " 66%|██████████████████████████████████████████████▍                       | 818/1232 [01:27<00:47,  8.77it/s]"
     ]
    },
    {
     "name": "stdout",
     "output_type": "stream",
     "text": [
      "\n",
      "image 1/1 /mnt/c/Adrianov/Projects/trash-detector/Littering--8/test/images/video_5_6_jpg.rf.0c86c8bbaaf95f01c0ada23184f1be4a.jpg: 256x416 3 Persons, 13.3ms\n",
      "Speed: 1.8ms preprocess, 13.3ms inference, 2.6ms postprocess per image at shape (1, 3, 256, 416)\n",
      "\n",
      "image 1/1 /mnt/c/Adrianov/Projects/trash-detector/Littering--8/test/images/video_5_6_jpg.rf.77915879a5415ed3dbe9359fee36bb82.jpg: 256x416 2 Persons, 13.9ms\n",
      "Speed: 2.1ms preprocess, 13.9ms inference, 1.6ms postprocess per image at shape (1, 3, 256, 416)\n"
     ]
    },
    {
     "name": "stderr",
     "output_type": "stream",
     "text": [
      " 67%|██████████████████████████████████████████████▌                       | 820/1232 [01:27<00:43,  9.52it/s]"
     ]
    },
    {
     "name": "stdout",
     "output_type": "stream",
     "text": [
      "\n",
      "image 1/1 /mnt/c/Adrianov/Projects/trash-detector/Littering--8/test/images/video_5_6_jpg.rf.c8c4c72a442875ca3c1bc728395d7507.jpg: 256x416 10 Persons, 1 Trash, 13.0ms\n",
      "Speed: 2.7ms preprocess, 13.0ms inference, 3.2ms postprocess per image at shape (1, 3, 256, 416)\n",
      "\n",
      "image 1/1 /mnt/c/Adrianov/Projects/trash-detector/Littering--8/test/images/video_5_6_jpg.rf.ddfd91fcf76ff5674c84691824f2b5dd.jpg: 256x416 2 Persons, 1 Trash, 12.8ms\n",
      "Speed: 2.0ms preprocess, 12.8ms inference, 1.6ms postprocess per image at shape (1, 3, 256, 416)\n"
     ]
    },
    {
     "name": "stderr",
     "output_type": "stream",
     "text": [
      " 67%|██████████████████████████████████████████████▋                       | 822/1232 [01:27<00:42,  9.54it/s]"
     ]
    },
    {
     "name": "stdout",
     "output_type": "stream",
     "text": [
      "\n",
      "image 1/1 /mnt/c/Adrianov/Projects/trash-detector/Littering--8/test/images/video_5_7_jpg.rf.024b12ee9e368d4397427ec06147687c.jpg: 256x416 9 Persons, 1 Trash, 12.8ms\n",
      "Speed: 2.2ms preprocess, 12.8ms inference, 2.7ms postprocess per image at shape (1, 3, 256, 416)\n"
     ]
    },
    {
     "name": "stderr",
     "output_type": "stream",
     "text": [
      " 67%|██████████████████████████████████████████████▊                       | 823/1232 [01:28<00:42,  9.53it/s]"
     ]
    },
    {
     "name": "stdout",
     "output_type": "stream",
     "text": [
      "\n",
      "image 1/1 /mnt/c/Adrianov/Projects/trash-detector/Littering--8/test/images/video_5_7_jpg.rf.4114c0b7de1b7e50371b437938a9ea11.jpg: 256x416 2 Persons, 19.3ms\n",
      "Speed: 2.2ms preprocess, 19.3ms inference, 4.4ms postprocess per image at shape (1, 3, 256, 416)\n",
      "\n",
      "image 1/1 /mnt/c/Adrianov/Projects/trash-detector/Littering--8/test/images/video_5_7_jpg.rf.804080d9927b2992c2feaf1e168769be.jpg: 256x416 2 Persons, 1 Trash, 13.8ms\n",
      "Speed: 2.0ms preprocess, 13.8ms inference, 2.7ms postprocess per image at shape (1, 3, 256, 416)\n"
     ]
    },
    {
     "name": "stderr",
     "output_type": "stream",
     "text": [
      " 67%|██████████████████████████████████████████████▉                       | 825/1232 [01:28<00:39, 10.26it/s]"
     ]
    },
    {
     "name": "stdout",
     "output_type": "stream",
     "text": [
      "\n",
      "image 1/1 /mnt/c/Adrianov/Projects/trash-detector/Littering--8/test/images/video_5_7_jpg.rf.d4bdee9761d3b91ffa5a6232bad5dd4c.jpg: 256x416 2 Persons, 15.1ms\n",
      "Speed: 2.0ms preprocess, 15.1ms inference, 1.4ms postprocess per image at shape (1, 3, 256, 416)\n",
      "\n",
      "image 1/1 /mnt/c/Adrianov/Projects/trash-detector/Littering--8/test/images/video_5_8_jpg.rf.a38493953a56ccf69c5789c9098e9c4e.jpg: 256x416 10 Persons, 1 Trash, 13.3ms\n",
      "Speed: 2.5ms preprocess, 13.3ms inference, 1.4ms postprocess per image at shape (1, 3, 256, 416)\n"
     ]
    },
    {
     "name": "stderr",
     "output_type": "stream",
     "text": [
      " 67%|██████████████████████████████████████████████▉                       | 827/1232 [01:28<00:40, 10.06it/s]"
     ]
    },
    {
     "name": "stdout",
     "output_type": "stream",
     "text": [
      "\n",
      "image 1/1 /mnt/c/Adrianov/Projects/trash-detector/Littering--8/test/images/video_5_8_jpg.rf.d08137bf43383ef985974f90dbb86423.jpg: 256x416 3 Persons, 12.9ms\n",
      "Speed: 1.9ms preprocess, 12.9ms inference, 1.5ms postprocess per image at shape (1, 3, 256, 416)\n",
      "\n",
      "image 1/1 /mnt/c/Adrianov/Projects/trash-detector/Littering--8/test/images/video_5_8_jpg.rf.e46f62611f877064e219f4fe84d6bf39.jpg: 256x416 2 Persons, 1 Trash, 13.4ms\n",
      "Speed: 2.0ms preprocess, 13.4ms inference, 1.3ms postprocess per image at shape (1, 3, 256, 416)\n"
     ]
    },
    {
     "name": "stderr",
     "output_type": "stream",
     "text": [
      " 67%|███████████████████████████████████████████████                       | 829/1232 [01:28<00:38, 10.52it/s]"
     ]
    },
    {
     "name": "stdout",
     "output_type": "stream",
     "text": [
      "\n",
      "image 1/1 /mnt/c/Adrianov/Projects/trash-detector/Littering--8/test/images/video_5_8_jpg.rf.ff03c1d964f851f645c49825219ef336.jpg: 256x416 2 Persons, 12.9ms\n",
      "Speed: 2.0ms preprocess, 12.9ms inference, 2.5ms postprocess per image at shape (1, 3, 256, 416)\n",
      "\n",
      "image 1/1 /mnt/c/Adrianov/Projects/trash-detector/Littering--8/test/images/video_5_9_jpg.rf.3932ceabb8cf59f47016a10a595922a5.jpg: 256x416 2 Persons, 1 Trash, 12.9ms\n",
      "Speed: 2.2ms preprocess, 12.9ms inference, 1.5ms postprocess per image at shape (1, 3, 256, 416)\n"
     ]
    },
    {
     "name": "stderr",
     "output_type": "stream",
     "text": [
      " 67%|███████████████████████████████████████████████▏                      | 831/1232 [01:28<00:36, 10.86it/s]"
     ]
    },
    {
     "name": "stdout",
     "output_type": "stream",
     "text": [
      "\n",
      "image 1/1 /mnt/c/Adrianov/Projects/trash-detector/Littering--8/test/images/video_5_9_jpg.rf.521d57b6e82c5ba721513cdbddb39829.jpg: 256x416 10 Persons, 1 Trash, 13.4ms\n",
      "Speed: 2.0ms preprocess, 13.4ms inference, 1.3ms postprocess per image at shape (1, 3, 256, 416)\n",
      "\n",
      "image 1/1 /mnt/c/Adrianov/Projects/trash-detector/Littering--8/test/images/video_5_9_jpg.rf.5ae723b7ebb5fdaeab7114b2635306bc.jpg: 256x416 2 Persons, 14.6ms\n",
      "Speed: 2.5ms preprocess, 14.6ms inference, 1.4ms postprocess per image at shape (1, 3, 256, 416)\n"
     ]
    },
    {
     "name": "stderr",
     "output_type": "stream",
     "text": [
      " 68%|███████████████████████████████████████████████▎                      | 833/1232 [01:28<00:38, 10.48it/s]"
     ]
    },
    {
     "name": "stdout",
     "output_type": "stream",
     "text": [
      "\n",
      "image 1/1 /mnt/c/Adrianov/Projects/trash-detector/Littering--8/test/images/video_5_9_jpg.rf.b63b4d31438c8d6e57609f098c9322b9.jpg: 256x416 2 Persons, 13.0ms\n",
      "Speed: 2.1ms preprocess, 13.0ms inference, 1.5ms postprocess per image at shape (1, 3, 256, 416)\n",
      "\n",
      "image 1/1 /mnt/c/Adrianov/Projects/trash-detector/Littering--8/test/images/video_6_10_jpg.rf.3a5f622d1403e24105d129b5632b2c7e.jpg: 256x416 2 Persons, 1 Trash, 12.9ms\n",
      "Speed: 2.5ms preprocess, 12.9ms inference, 2.5ms postprocess per image at shape (1, 3, 256, 416)\n"
     ]
    },
    {
     "name": "stderr",
     "output_type": "stream",
     "text": [
      " 68%|███████████████████████████████████████████████▍                      | 835/1232 [01:29<00:36, 10.81it/s]"
     ]
    },
    {
     "name": "stdout",
     "output_type": "stream",
     "text": [
      "\n",
      "image 1/1 /mnt/c/Adrianov/Projects/trash-detector/Littering--8/test/images/video_6_10_jpg.rf.856d6d0aff3fe3dc33da65ec7a53392c.jpg: 256x416 2 Persons, 13.1ms\n",
      "Speed: 2.5ms preprocess, 13.1ms inference, 2.4ms postprocess per image at shape (1, 3, 256, 416)\n",
      "\n",
      "image 1/1 /mnt/c/Adrianov/Projects/trash-detector/Littering--8/test/images/video_6_10_jpg.rf.949421418ed39dafc41b14001fd19271.jpg: 256x416 2 Persons, 14.0ms\n",
      "Speed: 2.5ms preprocess, 14.0ms inference, 1.4ms postprocess per image at shape (1, 3, 256, 416)\n"
     ]
    },
    {
     "name": "stderr",
     "output_type": "stream",
     "text": [
      " 68%|███████████████████████████████████████████████▌                      | 837/1232 [01:29<00:36, 10.93it/s]"
     ]
    },
    {
     "name": "stdout",
     "output_type": "stream",
     "text": [
      "\n",
      "image 1/1 /mnt/c/Adrianov/Projects/trash-detector/Littering--8/test/images/video_6_10_jpg.rf.c9d027308e7101895644843935a0c3df.jpg: 256x416 2 Persons, 20.2ms\n",
      "Speed: 2.0ms preprocess, 20.2ms inference, 2.7ms postprocess per image at shape (1, 3, 256, 416)\n",
      "\n",
      "image 1/1 /mnt/c/Adrianov/Projects/trash-detector/Littering--8/test/images/video_6_11_jpg.rf.512adbf9ed3652c46b764a358cecc057.jpg: 256x416 2 Persons, 16.6ms\n",
      "Speed: 3.7ms preprocess, 16.6ms inference, 2.6ms postprocess per image at shape (1, 3, 256, 416)\n"
     ]
    },
    {
     "name": "stderr",
     "output_type": "stream",
     "text": [
      " 68%|███████████████████████████████████████████████▋                      | 839/1232 [01:29<00:37, 10.60it/s]"
     ]
    },
    {
     "name": "stdout",
     "output_type": "stream",
     "text": [
      "\n",
      "image 1/1 /mnt/c/Adrianov/Projects/trash-detector/Littering--8/test/images/video_6_11_jpg.rf.63df2b55fb1bfc985efbeae8ee1b08ad.jpg: 256x416 2 Persons, 12.8ms\n",
      "Speed: 2.1ms preprocess, 12.8ms inference, 1.8ms postprocess per image at shape (1, 3, 256, 416)\n",
      "\n",
      "image 1/1 /mnt/c/Adrianov/Projects/trash-detector/Littering--8/test/images/video_6_11_jpg.rf.8d7171a3d0e4eddd3dd37490dcdeba20.jpg: 256x416 3 Persons, 13.3ms\n",
      "Speed: 2.4ms preprocess, 13.3ms inference, 1.4ms postprocess per image at shape (1, 3, 256, 416)\n"
     ]
    },
    {
     "name": "stderr",
     "output_type": "stream",
     "text": [
      " 68%|███████████████████████████████████████████████▊                      | 841/1232 [01:29<00:38, 10.19it/s]"
     ]
    },
    {
     "name": "stdout",
     "output_type": "stream",
     "text": [
      "\n",
      "image 1/1 /mnt/c/Adrianov/Projects/trash-detector/Littering--8/test/images/video_6_11_jpg.rf.c71ce884154c9068ac893f56bb143dfa.jpg: 256x416 1 Person, 13.0ms\n",
      "Speed: 2.1ms preprocess, 13.0ms inference, 2.0ms postprocess per image at shape (1, 3, 256, 416)\n",
      "\n",
      "image 1/1 /mnt/c/Adrianov/Projects/trash-detector/Littering--8/test/images/video_6_12_jpg.rf.28f321e27bb0a1f29a503e7cceabc42e.jpg: 256x416 3 Persons, 22.4ms\n",
      "Speed: 2.4ms preprocess, 22.4ms inference, 1.6ms postprocess per image at shape (1, 3, 256, 416)\n"
     ]
    },
    {
     "name": "stderr",
     "output_type": "stream",
     "text": [
      " 68%|███████████████████████████████████████████████▉                      | 843/1232 [01:29<00:43,  9.01it/s]"
     ]
    },
    {
     "name": "stdout",
     "output_type": "stream",
     "text": [
      "\n",
      "image 1/1 /mnt/c/Adrianov/Projects/trash-detector/Littering--8/test/images/video_6_12_jpg.rf.5e5c0f22ec428247807f4e0cc062881b.jpg: 256x416 3 Persons, 17.3ms\n",
      "Speed: 2.4ms preprocess, 17.3ms inference, 2.6ms postprocess per image at shape (1, 3, 256, 416)\n"
     ]
    },
    {
     "name": "stderr",
     "output_type": "stream",
     "text": [
      " 69%|███████████████████████████████████████████████▉                      | 844/1232 [01:30<00:43,  8.82it/s]"
     ]
    },
    {
     "name": "stdout",
     "output_type": "stream",
     "text": [
      "\n",
      "image 1/1 /mnt/c/Adrianov/Projects/trash-detector/Littering--8/test/images/video_6_12_jpg.rf.6c70d1723fdd27de62fbb0736cd7020f.jpg: 256x416 2 Persons, 20.0ms\n",
      "Speed: 2.9ms preprocess, 20.0ms inference, 2.8ms postprocess per image at shape (1, 3, 256, 416)\n"
     ]
    },
    {
     "name": "stderr",
     "output_type": "stream",
     "text": [
      " 69%|████████████████████████████████████████████████                      | 845/1232 [01:30<00:49,  7.82it/s]"
     ]
    },
    {
     "name": "stdout",
     "output_type": "stream",
     "text": [
      "\n",
      "image 1/1 /mnt/c/Adrianov/Projects/trash-detector/Littering--8/test/images/video_6_12_jpg.rf.ac6d08c5931aebc3d57367b7fb3833c6.jpg: 256x416 2 Persons, 13.0ms\n",
      "Speed: 2.5ms preprocess, 13.0ms inference, 1.6ms postprocess per image at shape (1, 3, 256, 416)\n"
     ]
    },
    {
     "name": "stderr",
     "output_type": "stream",
     "text": [
      " 69%|████████████████████████████████████████████████                      | 846/1232 [01:30<00:47,  8.12it/s]"
     ]
    },
    {
     "name": "stdout",
     "output_type": "stream",
     "text": [
      "\n",
      "image 1/1 /mnt/c/Adrianov/Projects/trash-detector/Littering--8/test/images/video_6_13_jpg.rf.524cd46fb7b86729041476868e4a9567.jpg: 256x416 2 Persons, 14.4ms\n",
      "Speed: 2.2ms preprocess, 14.4ms inference, 1.8ms postprocess per image at shape (1, 3, 256, 416)\n",
      "\n",
      "image 1/1 /mnt/c/Adrianov/Projects/trash-detector/Littering--8/test/images/video_6_13_jpg.rf.5d76613b696762afa58a8cf6a4152ef6.jpg: 256x416 2 Persons, 12.9ms\n",
      "Speed: 2.0ms preprocess, 12.9ms inference, 1.5ms postprocess per image at shape (1, 3, 256, 416)\n"
     ]
    },
    {
     "name": "stderr",
     "output_type": "stream",
     "text": [
      " 69%|████████████████████████████████████████████████▏                     | 848/1232 [01:30<00:41,  9.31it/s]"
     ]
    },
    {
     "name": "stdout",
     "output_type": "stream",
     "text": [
      "\n",
      "image 1/1 /mnt/c/Adrianov/Projects/trash-detector/Littering--8/test/images/video_6_13_jpg.rf.8e987104dd1176412494f8c1701320b4.jpg: 256x416 3 Persons, 17.2ms\n",
      "Speed: 1.9ms preprocess, 17.2ms inference, 2.6ms postprocess per image at shape (1, 3, 256, 416)\n",
      "\n",
      "image 1/1 /mnt/c/Adrianov/Projects/trash-detector/Littering--8/test/images/video_6_13_jpg.rf.e731d965ad1db391a4140e020163dcfc.jpg: 256x416 2 Persons, 1 Trash, 12.8ms\n",
      "Speed: 2.1ms preprocess, 12.8ms inference, 1.4ms postprocess per image at shape (1, 3, 256, 416)\n"
     ]
    },
    {
     "name": "stderr",
     "output_type": "stream",
     "text": [
      " 69%|████████████████████████████████████████████████▎                     | 850/1232 [01:30<00:38,  9.88it/s]"
     ]
    },
    {
     "name": "stdout",
     "output_type": "stream",
     "text": [
      "\n",
      "image 1/1 /mnt/c/Adrianov/Projects/trash-detector/Littering--8/test/images/video_6_13_jpg.rf.f167bc474d880cd61791893a9145cc9a.jpg: 256x416 2 Persons, 16.4ms\n",
      "Speed: 1.9ms preprocess, 16.4ms inference, 2.6ms postprocess per image at shape (1, 3, 256, 416)\n"
     ]
    },
    {
     "name": "stderr",
     "output_type": "stream",
     "text": [
      " 69%|████████████████████████████████████████████████▎                     | 851/1232 [01:30<00:38,  9.86it/s]"
     ]
    },
    {
     "name": "stdout",
     "output_type": "stream",
     "text": [
      "\n",
      "image 1/1 /mnt/c/Adrianov/Projects/trash-detector/Littering--8/test/images/video_6_14_jpg.rf.04c79a10115623cb7237cabe71314246.jpg: 256x416 2 Persons, 12.9ms\n",
      "Speed: 1.7ms preprocess, 12.9ms inference, 1.4ms postprocess per image at shape (1, 3, 256, 416)\n",
      "\n",
      "image 1/1 /mnt/c/Adrianov/Projects/trash-detector/Littering--8/test/images/video_6_14_jpg.rf.4be11be3ddeb9451ff61ee9012d9e8a4.jpg: 256x416 2 Persons, 2 Trashs, 13.0ms\n",
      "Speed: 1.9ms preprocess, 13.0ms inference, 1.8ms postprocess per image at shape (1, 3, 256, 416)\n"
     ]
    },
    {
     "name": "stderr",
     "output_type": "stream",
     "text": [
      " 69%|████████████████████████████████████████████████▍                     | 853/1232 [01:31<00:36, 10.44it/s]"
     ]
    },
    {
     "name": "stdout",
     "output_type": "stream",
     "text": [
      "\n",
      "image 1/1 /mnt/c/Adrianov/Projects/trash-detector/Littering--8/test/images/video_6_14_jpg.rf.868c3d965ed95253d21956ef7d58c376.jpg: 256x416 1 Person, 14.6ms\n",
      "Speed: 2.1ms preprocess, 14.6ms inference, 2.1ms postprocess per image at shape (1, 3, 256, 416)\n",
      "\n",
      "image 1/1 /mnt/c/Adrianov/Projects/trash-detector/Littering--8/test/images/video_6_14_jpg.rf.b302daedc99b7e862b196d65a0bc1bac.jpg: 256x416 2 Persons, 13.2ms\n",
      "Speed: 3.2ms preprocess, 13.2ms inference, 1.5ms postprocess per image at shape (1, 3, 256, 416)\n"
     ]
    },
    {
     "name": "stderr",
     "output_type": "stream",
     "text": [
      " 69%|████████████████████████████████████████████████▌                     | 855/1232 [01:31<00:35, 10.62it/s]"
     ]
    },
    {
     "name": "stdout",
     "output_type": "stream",
     "text": [
      "\n",
      "image 1/1 /mnt/c/Adrianov/Projects/trash-detector/Littering--8/test/images/video_6_15_jpg.rf.11f1b44dcf4865221719038648e20a9f.jpg: 256x416 2 Persons, 12.9ms\n",
      "Speed: 1.9ms preprocess, 12.9ms inference, 1.9ms postprocess per image at shape (1, 3, 256, 416)\n",
      "\n",
      "image 1/1 /mnt/c/Adrianov/Projects/trash-detector/Littering--8/test/images/video_6_15_jpg.rf.9ef30253ba145d7f945bfcc2795ab478.jpg: 256x416 2 Persons, 2 Trashs, 13.0ms\n",
      "Speed: 2.2ms preprocess, 13.0ms inference, 1.6ms postprocess per image at shape (1, 3, 256, 416)\n"
     ]
    },
    {
     "name": "stderr",
     "output_type": "stream",
     "text": [
      " 70%|████████████████████████████████████████████████▋                     | 857/1232 [01:31<00:34, 10.99it/s]"
     ]
    },
    {
     "name": "stdout",
     "output_type": "stream",
     "text": [
      "\n",
      "image 1/1 /mnt/c/Adrianov/Projects/trash-detector/Littering--8/test/images/video_6_15_jpg.rf.bd1dd12aba1980368a323d48159a5340.jpg: 256x416 1 Person, 12.8ms\n",
      "Speed: 1.8ms preprocess, 12.8ms inference, 1.5ms postprocess per image at shape (1, 3, 256, 416)\n",
      "\n",
      "image 1/1 /mnt/c/Adrianov/Projects/trash-detector/Littering--8/test/images/video_6_15_jpg.rf.d8f58db5c95ba7284f5f9a8dd7700a93.jpg: 256x416 2 Persons, 18.3ms\n",
      "Speed: 2.1ms preprocess, 18.3ms inference, 1.4ms postprocess per image at shape (1, 3, 256, 416)\n"
     ]
    },
    {
     "name": "stderr",
     "output_type": "stream",
     "text": [
      " 70%|████████████████████████████████████████████████▊                     | 859/1232 [01:31<00:34, 10.81it/s]"
     ]
    },
    {
     "name": "stdout",
     "output_type": "stream",
     "text": [
      "\n",
      "image 1/1 /mnt/c/Adrianov/Projects/trash-detector/Littering--8/test/images/video_6_16_jpg.rf.208ba84192344c6eea7aa954e9093ccb.jpg: 256x416 2 Persons, 12.9ms\n",
      "Speed: 2.1ms preprocess, 12.9ms inference, 2.2ms postprocess per image at shape (1, 3, 256, 416)\n",
      "\n",
      "image 1/1 /mnt/c/Adrianov/Projects/trash-detector/Littering--8/test/images/video_6_16_jpg.rf.371da4c0088cfe9ee0c31785e522edd8.jpg: 256x416 1 Person, 12.8ms\n",
      "Speed: 2.2ms preprocess, 12.8ms inference, 1.7ms postprocess per image at shape (1, 3, 256, 416)\n"
     ]
    },
    {
     "name": "stderr",
     "output_type": "stream",
     "text": [
      " 70%|████████████████████████████████████████████████▉                     | 861/1232 [01:31<00:33, 10.94it/s]"
     ]
    },
    {
     "name": "stdout",
     "output_type": "stream",
     "text": [
      "\n",
      "image 1/1 /mnt/c/Adrianov/Projects/trash-detector/Littering--8/test/images/video_6_16_jpg.rf.f9dcd90bd2212b177ed41f414a10f044.jpg: 256x416 2 Persons, 13.0ms\n",
      "Speed: 2.2ms preprocess, 13.0ms inference, 1.6ms postprocess per image at shape (1, 3, 256, 416)\n",
      "\n",
      "image 1/1 /mnt/c/Adrianov/Projects/trash-detector/Littering--8/test/images/video_6_16_jpg.rf.fea20d1218edb2230e61a028bfc8dc5e.jpg: 256x416 2 Persons, 13.1ms\n",
      "Speed: 2.8ms preprocess, 13.1ms inference, 1.6ms postprocess per image at shape (1, 3, 256, 416)\n"
     ]
    },
    {
     "name": "stderr",
     "output_type": "stream",
     "text": [
      " 70%|█████████████████████████████████████████████████                     | 863/1232 [01:31<00:32, 11.23it/s]"
     ]
    },
    {
     "name": "stdout",
     "output_type": "stream",
     "text": [
      "\n",
      "image 1/1 /mnt/c/Adrianov/Projects/trash-detector/Littering--8/test/images/video_6_17_jpg.rf.1c5e9090143d9bbfff3552f8c98ceaf4.jpg: 256x416 2 Persons, 12.8ms\n",
      "Speed: 1.6ms preprocess, 12.8ms inference, 1.3ms postprocess per image at shape (1, 3, 256, 416)\n",
      "\n",
      "image 1/1 /mnt/c/Adrianov/Projects/trash-detector/Littering--8/test/images/video_6_17_jpg.rf.96ed4287a03e9d071dc8a43c862b4a56.jpg: 256x416 2 Persons, 13.1ms\n",
      "Speed: 1.9ms preprocess, 13.1ms inference, 2.3ms postprocess per image at shape (1, 3, 256, 416)\n"
     ]
    },
    {
     "name": "stderr",
     "output_type": "stream",
     "text": [
      " 70%|█████████████████████████████████████████████████▏                    | 865/1232 [01:32<00:32, 11.18it/s]"
     ]
    },
    {
     "name": "stdout",
     "output_type": "stream",
     "text": [
      "\n",
      "image 1/1 /mnt/c/Adrianov/Projects/trash-detector/Littering--8/test/images/video_6_17_jpg.rf.e401f58f9626f24e8bf2c3b2f11208f0.jpg: 256x416 2 Persons, 1 Trash, 13.3ms\n",
      "Speed: 1.7ms preprocess, 13.3ms inference, 1.3ms postprocess per image at shape (1, 3, 256, 416)\n",
      "\n",
      "image 1/1 /mnt/c/Adrianov/Projects/trash-detector/Littering--8/test/images/video_6_17_jpg.rf.f5b97533409dc9ffa0781be92533ce14.jpg: 256x416 3 Persons, 17.3ms\n",
      "Speed: 2.1ms preprocess, 17.3ms inference, 2.8ms postprocess per image at shape (1, 3, 256, 416)\n"
     ]
    },
    {
     "name": "stderr",
     "output_type": "stream",
     "text": [
      " 70%|█████████████████████████████████████████████████▎                    | 867/1232 [01:32<00:33, 11.02it/s]"
     ]
    },
    {
     "name": "stdout",
     "output_type": "stream",
     "text": [
      "\n",
      "image 1/1 /mnt/c/Adrianov/Projects/trash-detector/Littering--8/test/images/video_6_18_jpg.rf.1a3675c5d42607f646cdd0789bea94f8.jpg: 256x416 2 Persons, 12.9ms\n",
      "Speed: 2.1ms preprocess, 12.9ms inference, 2.0ms postprocess per image at shape (1, 3, 256, 416)\n",
      "\n",
      "image 1/1 /mnt/c/Adrianov/Projects/trash-detector/Littering--8/test/images/video_6_18_jpg.rf.cf41cde86505d50c41c8d7bbfd651656.jpg: 256x416 2 Persons, 1 Trash, 12.8ms\n",
      "Speed: 1.9ms preprocess, 12.8ms inference, 1.6ms postprocess per image at shape (1, 3, 256, 416)\n"
     ]
    },
    {
     "name": "stderr",
     "output_type": "stream",
     "text": [
      " 71%|█████████████████████████████████████████████████▍                    | 869/1232 [01:32<00:41,  8.75it/s]"
     ]
    },
    {
     "name": "stdout",
     "output_type": "stream",
     "text": [
      "\n",
      "image 1/1 /mnt/c/Adrianov/Projects/trash-detector/Littering--8/test/images/video_6_18_jpg.rf.f3828bfcae8cbbc64f953455101f30fc.jpg: 256x416 2 Persons, 12.9ms\n",
      "Speed: 2.1ms preprocess, 12.9ms inference, 1.5ms postprocess per image at shape (1, 3, 256, 416)\n",
      "\n",
      "image 1/1 /mnt/c/Adrianov/Projects/trash-detector/Littering--8/test/images/video_6_18_jpg.rf.f72842baf074cc4ca0ccc25bb05ead9a.jpg: 256x416 2 Persons, 12.9ms\n",
      "Speed: 4.1ms preprocess, 12.9ms inference, 8.4ms postprocess per image at shape (1, 3, 256, 416)\n"
     ]
    },
    {
     "name": "stderr",
     "output_type": "stream",
     "text": [
      " 71%|█████████████████████████████████████████████████▍                    | 871/1232 [01:32<00:40,  8.92it/s]"
     ]
    },
    {
     "name": "stdout",
     "output_type": "stream",
     "text": [
      "\n",
      "image 1/1 /mnt/c/Adrianov/Projects/trash-detector/Littering--8/test/images/video_6_19_jpg.rf.325e307d007f915370e0c2608e2a132f.jpg: 256x416 3 Persons, 12.8ms\n",
      "Speed: 1.7ms preprocess, 12.8ms inference, 1.4ms postprocess per image at shape (1, 3, 256, 416)\n",
      "\n",
      "image 1/1 /mnt/c/Adrianov/Projects/trash-detector/Littering--8/test/images/video_6_19_jpg.rf.4b547790793bccfb8460c0e500e20e40.jpg: 256x416 2 Persons, 1 Trash, 15.7ms\n",
      "Speed: 2.1ms preprocess, 15.7ms inference, 2.8ms postprocess per image at shape (1, 3, 256, 416)\n"
     ]
    },
    {
     "name": "stderr",
     "output_type": "stream",
     "text": [
      " 71%|█████████████████████████████████████████████████▌                    | 873/1232 [01:32<00:37,  9.46it/s]"
     ]
    },
    {
     "name": "stdout",
     "output_type": "stream",
     "text": [
      "\n",
      "image 1/1 /mnt/c/Adrianov/Projects/trash-detector/Littering--8/test/images/video_6_19_jpg.rf.8fe1cc6a0236cd58d9ed052fe10eca6d.jpg: 256x416 2 Persons, 12.9ms\n",
      "Speed: 1.8ms preprocess, 12.9ms inference, 2.0ms postprocess per image at shape (1, 3, 256, 416)\n"
     ]
    },
    {
     "name": "stderr",
     "output_type": "stream",
     "text": [
      " 71%|█████████████████████████████████████████████████▋                    | 874/1232 [01:33<00:37,  9.47it/s]"
     ]
    },
    {
     "name": "stdout",
     "output_type": "stream",
     "text": [
      "\n",
      "image 1/1 /mnt/c/Adrianov/Projects/trash-detector/Littering--8/test/images/video_6_19_jpg.rf.a21d8a0f5a17471de1aac4d9817ecf52.jpg: 256x416 1 Person, 12.9ms\n",
      "Speed: 2.1ms preprocess, 12.9ms inference, 1.7ms postprocess per image at shape (1, 3, 256, 416)\n",
      "\n",
      "image 1/1 /mnt/c/Adrianov/Projects/trash-detector/Littering--8/test/images/video_6_1_jpg.rf.80060bf64123b4b39fc1fada64874987.jpg: 256x416 2 Persons, 12.9ms\n",
      "Speed: 1.9ms preprocess, 12.9ms inference, 1.8ms postprocess per image at shape (1, 3, 256, 416)\n"
     ]
    },
    {
     "name": "stderr",
     "output_type": "stream",
     "text": [
      " 71%|█████████████████████████████████████████████████▊                    | 876/1232 [01:33<00:35, 10.04it/s]"
     ]
    },
    {
     "name": "stdout",
     "output_type": "stream",
     "text": [
      "\n",
      "image 1/1 /mnt/c/Adrianov/Projects/trash-detector/Littering--8/test/images/video_6_1_jpg.rf.8f7ad18826af6453da61238f21ed1682.jpg: 256x416 5 Persons, 13.1ms\n",
      "Speed: 2.0ms preprocess, 13.1ms inference, 1.6ms postprocess per image at shape (1, 3, 256, 416)\n",
      "\n",
      "image 1/1 /mnt/c/Adrianov/Projects/trash-detector/Littering--8/test/images/video_6_1_jpg.rf.e7b38916ca90960349b01320e5cdc48b.jpg: 256x416 1 Person, 13.2ms\n",
      "Speed: 2.5ms preprocess, 13.2ms inference, 1.7ms postprocess per image at shape (1, 3, 256, 416)\n"
     ]
    },
    {
     "name": "stderr",
     "output_type": "stream",
     "text": [
      " 71%|█████████████████████████████████████████████████▉                    | 878/1232 [01:33<00:35,  9.94it/s]"
     ]
    },
    {
     "name": "stdout",
     "output_type": "stream",
     "text": [
      "\n",
      "image 1/1 /mnt/c/Adrianov/Projects/trash-detector/Littering--8/test/images/video_6_1_jpg.rf.efd31c49ddb4bdec185929786017defc.jpg: 256x416 2 Persons, 12.8ms\n",
      "Speed: 2.1ms preprocess, 12.8ms inference, 1.9ms postprocess per image at shape (1, 3, 256, 416)\n",
      "\n",
      "image 1/1 /mnt/c/Adrianov/Projects/trash-detector/Littering--8/test/images/video_6_20_jpg.rf.8845508b52e388d6b3b277d15a835186.jpg: 256x416 2 Persons, 12.8ms\n",
      "Speed: 2.1ms preprocess, 12.8ms inference, 1.6ms postprocess per image at shape (1, 3, 256, 416)\n"
     ]
    },
    {
     "name": "stderr",
     "output_type": "stream",
     "text": [
      " 71%|██████████████████████████████████████████████████                    | 880/1232 [01:33<00:33, 10.44it/s]"
     ]
    },
    {
     "name": "stdout",
     "output_type": "stream",
     "text": [
      "\n",
      "image 1/1 /mnt/c/Adrianov/Projects/trash-detector/Littering--8/test/images/video_6_20_jpg.rf.92ddaab1cbf9a408e1fe2c8afb967019.jpg: 256x416 2 Persons, 12.8ms\n",
      "Speed: 1.9ms preprocess, 12.8ms inference, 1.4ms postprocess per image at shape (1, 3, 256, 416)\n",
      "\n",
      "image 1/1 /mnt/c/Adrianov/Projects/trash-detector/Littering--8/test/images/video_6_20_jpg.rf.ab16bbd3fbf4a9f706a4236013acaa18.jpg: 256x416 2 Persons, 14.2ms\n",
      "Speed: 2.3ms preprocess, 14.2ms inference, 2.7ms postprocess per image at shape (1, 3, 256, 416)\n"
     ]
    },
    {
     "name": "stderr",
     "output_type": "stream",
     "text": [
      " 72%|██████████████████████████████████████████████████                    | 882/1232 [01:33<00:34, 10.26it/s]"
     ]
    },
    {
     "name": "stdout",
     "output_type": "stream",
     "text": [
      "\n",
      "image 1/1 /mnt/c/Adrianov/Projects/trash-detector/Littering--8/test/images/video_6_20_jpg.rf.d7c1385781b5b5f4526f0a822f3c51c1.jpg: 256x416 2 Persons, 13.6ms\n",
      "Speed: 1.9ms preprocess, 13.6ms inference, 1.4ms postprocess per image at shape (1, 3, 256, 416)\n",
      "\n",
      "image 1/1 /mnt/c/Adrianov/Projects/trash-detector/Littering--8/test/images/video_6_21_jpg.rf.ad8d79b8a91b352324ba1d92e1821198.jpg: 256x416 2 Persons, 13.1ms\n",
      "Speed: 2.9ms preprocess, 13.1ms inference, 1.7ms postprocess per image at shape (1, 3, 256, 416)\n"
     ]
    },
    {
     "name": "stderr",
     "output_type": "stream",
     "text": [
      " 72%|██████████████████████████████████████████████████▏                   | 884/1232 [01:34<00:36,  9.48it/s]"
     ]
    },
    {
     "name": "stdout",
     "output_type": "stream",
     "text": [
      "\n",
      "image 1/1 /mnt/c/Adrianov/Projects/trash-detector/Littering--8/test/images/video_6_21_jpg.rf.c7ca53e6782e77297e56c1cba48bc0d8.jpg: 256x416 2 Persons, 13.0ms\n",
      "Speed: 2.4ms preprocess, 13.0ms inference, 2.4ms postprocess per image at shape (1, 3, 256, 416)\n"
     ]
    },
    {
     "name": "stderr",
     "output_type": "stream",
     "text": [
      " 72%|██████████████████████████████████████████████████▎                   | 885/1232 [01:34<00:38,  9.13it/s]"
     ]
    },
    {
     "name": "stdout",
     "output_type": "stream",
     "text": [
      "\n",
      "image 1/1 /mnt/c/Adrianov/Projects/trash-detector/Littering--8/test/images/video_6_21_jpg.rf.de497fc8903aa7530e91bb8157048a2b.jpg: 256x416 1 Person, 13.1ms\n",
      "Speed: 2.8ms preprocess, 13.1ms inference, 3.5ms postprocess per image at shape (1, 3, 256, 416)\n"
     ]
    },
    {
     "name": "stderr",
     "output_type": "stream",
     "text": [
      " 72%|██████████████████████████████████████████████████▎                   | 886/1232 [01:34<00:42,  8.17it/s]"
     ]
    },
    {
     "name": "stdout",
     "output_type": "stream",
     "text": [
      "\n",
      "image 1/1 /mnt/c/Adrianov/Projects/trash-detector/Littering--8/test/images/video_6_21_jpg.rf.e51a54f6f82110f23e93cd3af58000a8.jpg: 256x416 2 Persons, 13.0ms\n",
      "Speed: 2.2ms preprocess, 13.0ms inference, 2.4ms postprocess per image at shape (1, 3, 256, 416)\n"
     ]
    },
    {
     "name": "stderr",
     "output_type": "stream",
     "text": [
      " 72%|██████████████████████████████████████████████████▍                   | 887/1232 [01:34<00:43,  7.97it/s]"
     ]
    },
    {
     "name": "stdout",
     "output_type": "stream",
     "text": [
      "\n",
      "image 1/1 /mnt/c/Adrianov/Projects/trash-detector/Littering--8/test/images/video_6_21_jpg.rf.f7bc62656e4287035996435829c68032.jpg: 256x416 1 Person, 13.2ms\n",
      "Speed: 2.2ms preprocess, 13.2ms inference, 2.2ms postprocess per image at shape (1, 3, 256, 416)\n"
     ]
    },
    {
     "name": "stderr",
     "output_type": "stream",
     "text": [
      " 72%|██████████████████████████████████████████████████▍                   | 888/1232 [01:34<00:41,  8.38it/s]"
     ]
    },
    {
     "name": "stdout",
     "output_type": "stream",
     "text": [
      "\n",
      "image 1/1 /mnt/c/Adrianov/Projects/trash-detector/Littering--8/test/images/video_6_22_jpg.rf.5010c0c27534cb931d0a36e38a42fa1a.jpg: 256x416 3 Persons, 13.0ms\n",
      "Speed: 2.4ms preprocess, 13.0ms inference, 1.5ms postprocess per image at shape (1, 3, 256, 416)\n",
      "\n",
      "image 1/1 /mnt/c/Adrianov/Projects/trash-detector/Littering--8/test/images/video_6_22_jpg.rf.692649b16ee94fd19c27d646899e5a8e.jpg: 256x416 2 Persons, 14.8ms\n",
      "Speed: 2.8ms preprocess, 14.8ms inference, 1.4ms postprocess per image at shape (1, 3, 256, 416)\n"
     ]
    },
    {
     "name": "stderr",
     "output_type": "stream",
     "text": [
      " 72%|██████████████████████████████████████████████████▌                   | 890/1232 [01:34<00:35,  9.63it/s]"
     ]
    },
    {
     "name": "stdout",
     "output_type": "stream",
     "text": [
      "\n",
      "image 1/1 /mnt/c/Adrianov/Projects/trash-detector/Littering--8/test/images/video_6_22_jpg.rf.77a42210f2e208dd52b38029c3284d68.jpg: 256x416 2 Persons, 13.0ms\n",
      "Speed: 3.4ms preprocess, 13.0ms inference, 1.6ms postprocess per image at shape (1, 3, 256, 416)\n",
      "\n",
      "image 1/1 /mnt/c/Adrianov/Projects/trash-detector/Littering--8/test/images/video_6_22_jpg.rf.9af209d2e097a2a59b7fbbac7eefc5c5.jpg: 256x416 2 Persons, 13.7ms\n",
      "Speed: 2.0ms preprocess, 13.7ms inference, 2.1ms postprocess per image at shape (1, 3, 256, 416)\n"
     ]
    },
    {
     "name": "stderr",
     "output_type": "stream",
     "text": [
      " 72%|██████████████████████████████████████████████████▋                   | 892/1232 [01:35<00:37,  9.15it/s]"
     ]
    },
    {
     "name": "stdout",
     "output_type": "stream",
     "text": [
      "\n",
      "image 1/1 /mnt/c/Adrianov/Projects/trash-detector/Littering--8/test/images/video_6_22_jpg.rf.fb1fb24b04cc38f0494f7a99af24f8d1.jpg: 256x416 1 Person, 13.5ms\n",
      "Speed: 2.1ms preprocess, 13.5ms inference, 4.1ms postprocess per image at shape (1, 3, 256, 416)\n"
     ]
    },
    {
     "name": "stderr",
     "output_type": "stream",
     "text": [
      " 72%|██████████████████████████████████████████████████▋                   | 893/1232 [01:35<00:39,  8.66it/s]"
     ]
    },
    {
     "name": "stdout",
     "output_type": "stream",
     "text": [
      "\n",
      "image 1/1 /mnt/c/Adrianov/Projects/trash-detector/Littering--8/test/images/video_6_23_jpg.rf.0cb011ee6f41079c8c9be5c3239fb3ef.jpg: 256x416 1 Person, 12.9ms\n",
      "Speed: 3.7ms preprocess, 12.9ms inference, 1.6ms postprocess per image at shape (1, 3, 256, 416)\n"
     ]
    },
    {
     "name": "stderr",
     "output_type": "stream",
     "text": [
      " 73%|██████████████████████████████████████████████████▊                   | 894/1232 [01:35<00:41,  8.13it/s]"
     ]
    },
    {
     "name": "stdout",
     "output_type": "stream",
     "text": [
      "\n",
      "image 1/1 /mnt/c/Adrianov/Projects/trash-detector/Littering--8/test/images/video_6_23_jpg.rf.26e9877cbf79bf128bc8284e41028db8.jpg: 256x416 2 Persons, 13.0ms\n",
      "Speed: 2.3ms preprocess, 13.0ms inference, 1.4ms postprocess per image at shape (1, 3, 256, 416)\n"
     ]
    },
    {
     "name": "stderr",
     "output_type": "stream",
     "text": [
      " 73%|██████████████████████████████████████████████████▊                   | 895/1232 [01:35<00:39,  8.43it/s]"
     ]
    },
    {
     "name": "stdout",
     "output_type": "stream",
     "text": [
      "\n",
      "image 1/1 /mnt/c/Adrianov/Projects/trash-detector/Littering--8/test/images/video_6_23_jpg.rf.66f4b98f815999bad480d1b55f5b45f6.jpg: 256x416 2 Persons, 12.8ms\n",
      "Speed: 1.7ms preprocess, 12.8ms inference, 3.0ms postprocess per image at shape (1, 3, 256, 416)\n",
      "\n",
      "image 1/1 /mnt/c/Adrianov/Projects/trash-detector/Littering--8/test/images/video_6_23_jpg.rf.81618a553ac594075d3dd6a24e792d93.jpg: 256x416 3 Persons, 13.1ms\n",
      "Speed: 1.9ms preprocess, 13.1ms inference, 1.4ms postprocess per image at shape (1, 3, 256, 416)\n"
     ]
    },
    {
     "name": "stderr",
     "output_type": "stream",
     "text": [
      " 73%|██████████████████████████████████████████████████▉                   | 897/1232 [01:35<00:36,  9.28it/s]"
     ]
    },
    {
     "name": "stdout",
     "output_type": "stream",
     "text": [
      "\n",
      "image 1/1 /mnt/c/Adrianov/Projects/trash-detector/Littering--8/test/images/video_6_23_jpg.rf.c96a96e0c8486765702acdc8f4a9bbb1.jpg: 256x416 3 Persons, 12.9ms\n",
      "Speed: 1.7ms preprocess, 12.9ms inference, 1.5ms postprocess per image at shape (1, 3, 256, 416)\n",
      "\n",
      "image 1/1 /mnt/c/Adrianov/Projects/trash-detector/Littering--8/test/images/video_6_24_jpg.rf.7043abd5fbc0b52d00f0236c9003ad1c.jpg: 256x416 2 Persons, 13.0ms\n",
      "Speed: 1.9ms preprocess, 13.0ms inference, 2.8ms postprocess per image at shape (1, 3, 256, 416)\n"
     ]
    },
    {
     "name": "stderr",
     "output_type": "stream",
     "text": [
      " 73%|███████████████████████████████████████████████████                   | 899/1232 [01:35<00:32, 10.15it/s]"
     ]
    },
    {
     "name": "stdout",
     "output_type": "stream",
     "text": [
      "\n",
      "image 1/1 /mnt/c/Adrianov/Projects/trash-detector/Littering--8/test/images/video_6_24_jpg.rf.7e88d8992a744a709a7778406e7d7fd3.jpg: 256x416 2 Persons, 13.0ms\n",
      "Speed: 2.3ms preprocess, 13.0ms inference, 1.4ms postprocess per image at shape (1, 3, 256, 416)\n",
      "\n",
      "image 1/1 /mnt/c/Adrianov/Projects/trash-detector/Littering--8/test/images/video_6_24_jpg.rf.b9a3ada48bd7da1f1888cb8c22d0f1ea.jpg: 256x416 3 Persons, 12.9ms\n",
      "Speed: 1.8ms preprocess, 12.9ms inference, 1.5ms postprocess per image at shape (1, 3, 256, 416)\n"
     ]
    },
    {
     "name": "stderr",
     "output_type": "stream",
     "text": [
      " 73%|███████████████████████████████████████████████████▏                  | 901/1232 [01:35<00:31, 10.50it/s]"
     ]
    },
    {
     "name": "stdout",
     "output_type": "stream",
     "text": [
      "\n",
      "image 1/1 /mnt/c/Adrianov/Projects/trash-detector/Littering--8/test/images/video_6_24_jpg.rf.c8c3fd5817952b5a2333123a718794bd.jpg: 256x416 2 Persons, 18.7ms\n",
      "Speed: 2.1ms preprocess, 18.7ms inference, 2.4ms postprocess per image at shape (1, 3, 256, 416)\n",
      "\n",
      "image 1/1 /mnt/c/Adrianov/Projects/trash-detector/Littering--8/test/images/video_6_25_jpg.rf.029dd3e60e2bf680eaeb8663f84f07d7.jpg: 256x416 3 Persons, 12.9ms\n",
      "Speed: 2.0ms preprocess, 12.9ms inference, 3.1ms postprocess per image at shape (1, 3, 256, 416)\n"
     ]
    },
    {
     "name": "stderr",
     "output_type": "stream",
     "text": [
      " 73%|███████████████████████████████████████████████████▎                  | 903/1232 [01:36<00:31, 10.61it/s]"
     ]
    },
    {
     "name": "stdout",
     "output_type": "stream",
     "text": [
      "\n",
      "image 1/1 /mnt/c/Adrianov/Projects/trash-detector/Littering--8/test/images/video_6_25_jpg.rf.1aa6f40eac358566af2a548c52cdd5db.jpg: 256x416 2 Persons, 12.8ms\n",
      "Speed: 1.8ms preprocess, 12.8ms inference, 2.3ms postprocess per image at shape (1, 3, 256, 416)\n",
      "\n",
      "image 1/1 /mnt/c/Adrianov/Projects/trash-detector/Littering--8/test/images/video_6_25_jpg.rf.380a6895518867f115996ab873791bad.jpg: 256x416 2 Persons, 12.8ms\n",
      "Speed: 1.7ms preprocess, 12.8ms inference, 1.4ms postprocess per image at shape (1, 3, 256, 416)\n"
     ]
    },
    {
     "name": "stderr",
     "output_type": "stream",
     "text": [
      " 73%|███████████████████████████████████████████████████▍                  | 905/1232 [01:36<00:29, 11.03it/s]"
     ]
    },
    {
     "name": "stdout",
     "output_type": "stream",
     "text": [
      "\n",
      "image 1/1 /mnt/c/Adrianov/Projects/trash-detector/Littering--8/test/images/video_6_25_jpg.rf.92c93c5267cc7eafbca3a3f21e6452a9.jpg: 256x416 2 Persons, 12.8ms\n",
      "Speed: 2.2ms preprocess, 12.8ms inference, 2.7ms postprocess per image at shape (1, 3, 256, 416)\n",
      "\n",
      "image 1/1 /mnt/c/Adrianov/Projects/trash-detector/Littering--8/test/images/video_6_25_jpg.rf.d5058f94b841388a7f8c99f33977c41f.jpg: 256x416 2 Persons, 12.9ms\n",
      "Speed: 2.2ms preprocess, 12.9ms inference, 1.5ms postprocess per image at shape (1, 3, 256, 416)\n"
     ]
    },
    {
     "name": "stderr",
     "output_type": "stream",
     "text": [
      " 74%|███████████████████████████████████████████████████▌                  | 907/1232 [01:36<00:29, 11.08it/s]"
     ]
    },
    {
     "name": "stdout",
     "output_type": "stream",
     "text": [
      "\n",
      "image 1/1 /mnt/c/Adrianov/Projects/trash-detector/Littering--8/test/images/video_6_26_jpg.rf.2c7ecfd2fef73ca0ae825e3b5b42c62c.jpg: 256x416 2 Persons, 15.5ms\n",
      "Speed: 1.8ms preprocess, 15.5ms inference, 1.7ms postprocess per image at shape (1, 3, 256, 416)\n",
      "\n",
      "image 1/1 /mnt/c/Adrianov/Projects/trash-detector/Littering--8/test/images/video_6_26_jpg.rf.2f0e85b5b9b2fb69cc05bd3222e79222.jpg: 256x416 2 Persons, 12.9ms\n",
      "Speed: 1.8ms preprocess, 12.9ms inference, 1.9ms postprocess per image at shape (1, 3, 256, 416)\n"
     ]
    },
    {
     "name": "stderr",
     "output_type": "stream",
     "text": [
      " 74%|███████████████████████████████████████████████████▋                  | 909/1232 [01:36<00:28, 11.33it/s]"
     ]
    },
    {
     "name": "stdout",
     "output_type": "stream",
     "text": [
      "\n",
      "image 1/1 /mnt/c/Adrianov/Projects/trash-detector/Littering--8/test/images/video_6_26_jpg.rf.3d7a9fefd2c32856f43a0b116a2a4bc1.jpg: 256x416 2 Persons, 13.2ms\n",
      "Speed: 2.4ms preprocess, 13.2ms inference, 1.4ms postprocess per image at shape (1, 3, 256, 416)\n",
      "\n",
      "image 1/1 /mnt/c/Adrianov/Projects/trash-detector/Littering--8/test/images/video_6_26_jpg.rf.8f8f63de39ae81687327f1ce2bdf9f40.jpg: 256x416 2 Persons, 13.6ms\n",
      "Speed: 2.0ms preprocess, 13.6ms inference, 1.8ms postprocess per image at shape (1, 3, 256, 416)\n"
     ]
    },
    {
     "name": "stderr",
     "output_type": "stream",
     "text": [
      " 74%|███████████████████████████████████████████████████▊                  | 911/1232 [01:36<00:28, 11.35it/s]"
     ]
    },
    {
     "name": "stdout",
     "output_type": "stream",
     "text": [
      "\n",
      "image 1/1 /mnt/c/Adrianov/Projects/trash-detector/Littering--8/test/images/video_6_26_jpg.rf.f5e427d31f9089639c740c20db73d131.jpg: 256x416 2 Persons, 14.5ms\n",
      "Speed: 2.1ms preprocess, 14.5ms inference, 2.9ms postprocess per image at shape (1, 3, 256, 416)\n",
      "\n",
      "image 1/1 /mnt/c/Adrianov/Projects/trash-detector/Littering--8/test/images/video_6_27_jpg.rf.0460d6b828272b863dd7b5a32aa63d53.jpg: 256x416 2 Persons, 15.0ms\n",
      "Speed: 1.9ms preprocess, 15.0ms inference, 1.5ms postprocess per image at shape (1, 3, 256, 416)\n"
     ]
    },
    {
     "name": "stderr",
     "output_type": "stream",
     "text": [
      " 74%|███████████████████████████████████████████████████▉                  | 913/1232 [01:37<00:28, 11.39it/s]"
     ]
    },
    {
     "name": "stdout",
     "output_type": "stream",
     "text": [
      "\n",
      "image 1/1 /mnt/c/Adrianov/Projects/trash-detector/Littering--8/test/images/video_6_27_jpg.rf.0bb6cd1ed2f21e65014080ef93c94a38.jpg: 256x416 2 Persons, 12.9ms\n",
      "Speed: 2.1ms preprocess, 12.9ms inference, 2.6ms postprocess per image at shape (1, 3, 256, 416)\n",
      "\n",
      "image 1/1 /mnt/c/Adrianov/Projects/trash-detector/Littering--8/test/images/video_6_27_jpg.rf.af8137ddfc9e27afdca6e33ae809c65f.jpg: 256x416 3 Persons, 13.6ms\n",
      "Speed: 3.0ms preprocess, 13.6ms inference, 1.8ms postprocess per image at shape (1, 3, 256, 416)\n"
     ]
    },
    {
     "name": "stderr",
     "output_type": "stream",
     "text": [
      " 74%|███████████████████████████████████████████████████▉                  | 915/1232 [01:37<00:32,  9.79it/s]"
     ]
    },
    {
     "name": "stdout",
     "output_type": "stream",
     "text": [
      "\n",
      "image 1/1 /mnt/c/Adrianov/Projects/trash-detector/Littering--8/test/images/video_6_27_jpg.rf.cef72397f2c83a544a2dcf5082657a0b.jpg: 256x416 2 Persons, 13.9ms\n",
      "Speed: 2.2ms preprocess, 13.9ms inference, 1.6ms postprocess per image at shape (1, 3, 256, 416)\n",
      "\n",
      "image 1/1 /mnt/c/Adrianov/Projects/trash-detector/Littering--8/test/images/video_6_28_jpg.rf.198a1087ceeb2431af69ac597c705f88.jpg: 256x416 2 Persons, 13.8ms\n",
      "Speed: 2.0ms preprocess, 13.8ms inference, 1.3ms postprocess per image at shape (1, 3, 256, 416)\n"
     ]
    },
    {
     "name": "stderr",
     "output_type": "stream",
     "text": [
      " 74%|████████████████████████████████████████████████████                  | 917/1232 [01:37<00:33,  9.53it/s]"
     ]
    },
    {
     "name": "stdout",
     "output_type": "stream",
     "text": [
      "\n",
      "image 1/1 /mnt/c/Adrianov/Projects/trash-detector/Littering--8/test/images/video_6_28_jpg.rf.1ed87e1822ef1d829bd9e1e1eaf3d36c.jpg: 256x416 2 Persons, 12.8ms\n",
      "Speed: 2.2ms preprocess, 12.8ms inference, 1.6ms postprocess per image at shape (1, 3, 256, 416)\n",
      "\n",
      "image 1/1 /mnt/c/Adrianov/Projects/trash-detector/Littering--8/test/images/video_6_28_jpg.rf.45ce9da85682ce8e7ed672c11d0af5ab.jpg: 256x416 2 Persons, 18.3ms\n",
      "Speed: 2.2ms preprocess, 18.3ms inference, 1.3ms postprocess per image at shape (1, 3, 256, 416)\n"
     ]
    },
    {
     "name": "stderr",
     "output_type": "stream",
     "text": [
      " 75%|████████████████████████████████████████████████████▏                 | 919/1232 [01:37<00:31, 10.08it/s]"
     ]
    },
    {
     "name": "stdout",
     "output_type": "stream",
     "text": [
      "\n",
      "image 1/1 /mnt/c/Adrianov/Projects/trash-detector/Littering--8/test/images/video_6_28_jpg.rf.4b069197f2ba25d3751da79ca5605ca5.jpg: 256x416 1 Person, 12.8ms\n",
      "Speed: 2.0ms preprocess, 12.8ms inference, 1.6ms postprocess per image at shape (1, 3, 256, 416)\n",
      "\n",
      "image 1/1 /mnt/c/Adrianov/Projects/trash-detector/Littering--8/test/images/video_6_28_jpg.rf.686816c52e270e38b3b1741d5074869b.jpg: 256x416 2 Persons, 16.4ms\n",
      "Speed: 2.5ms preprocess, 16.4ms inference, 1.4ms postprocess per image at shape (1, 3, 256, 416)\n"
     ]
    },
    {
     "name": "stderr",
     "output_type": "stream",
     "text": [
      " 75%|████████████████████████████████████████████████████▎                 | 921/1232 [01:37<00:29, 10.51it/s]"
     ]
    },
    {
     "name": "stdout",
     "output_type": "stream",
     "text": [
      "\n",
      "image 1/1 /mnt/c/Adrianov/Projects/trash-detector/Littering--8/test/images/video_6_29_jpg.rf.1c9c5622e0ca4f5c977eb7db12f2e6f5.jpg: 256x416 2 Persons, 12.8ms\n",
      "Speed: 2.5ms preprocess, 12.8ms inference, 2.8ms postprocess per image at shape (1, 3, 256, 416)\n",
      "\n",
      "image 1/1 /mnt/c/Adrianov/Projects/trash-detector/Littering--8/test/images/video_6_29_jpg.rf.4abfb1bef37a954073d24cb811de08c5.jpg: 256x416 2 Persons, 19.8ms\n",
      "Speed: 2.5ms preprocess, 19.8ms inference, 2.3ms postprocess per image at shape (1, 3, 256, 416)\n"
     ]
    },
    {
     "name": "stderr",
     "output_type": "stream",
     "text": [
      " 75%|████████████████████████████████████████████████████▍                 | 923/1232 [01:38<00:28, 10.92it/s]"
     ]
    },
    {
     "name": "stdout",
     "output_type": "stream",
     "text": [
      "\n",
      "image 1/1 /mnt/c/Adrianov/Projects/trash-detector/Littering--8/test/images/video_6_29_jpg.rf.6e77f624ba60c17e25f1ef79a5361bc9.jpg: 256x416 1 Person, 20.1ms\n",
      "Speed: 2.3ms preprocess, 20.1ms inference, 2.6ms postprocess per image at shape (1, 3, 256, 416)\n",
      "\n",
      "image 1/1 /mnt/c/Adrianov/Projects/trash-detector/Littering--8/test/images/video_6_29_jpg.rf.79b98873fe6a5e362cda2ed49200e6f2.jpg: 256x416 4 Persons, 19.2ms\n",
      "Speed: 2.0ms preprocess, 19.2ms inference, 2.7ms postprocess per image at shape (1, 3, 256, 416)\n"
     ]
    },
    {
     "name": "stderr",
     "output_type": "stream",
     "text": [
      " 75%|████████████████████████████████████████████████████▌                 | 925/1232 [01:38<00:28, 10.70it/s]"
     ]
    },
    {
     "name": "stdout",
     "output_type": "stream",
     "text": [
      "\n",
      "image 1/1 /mnt/c/Adrianov/Projects/trash-detector/Littering--8/test/images/video_6_2_jpg.rf.01498f17279f0d11928c32c79028da23.jpg: 256x416 1 Person, 12.9ms\n",
      "Speed: 1.8ms preprocess, 12.9ms inference, 2.2ms postprocess per image at shape (1, 3, 256, 416)\n",
      "\n",
      "image 1/1 /mnt/c/Adrianov/Projects/trash-detector/Littering--8/test/images/video_6_2_jpg.rf.292d8ede7dbb4bc20db262f7afc07a89.jpg: 256x416 2 Persons, 13.2ms\n",
      "Speed: 1.9ms preprocess, 13.2ms inference, 3.1ms postprocess per image at shape (1, 3, 256, 416)\n"
     ]
    },
    {
     "name": "stderr",
     "output_type": "stream",
     "text": [
      " 75%|████████████████████████████████████████████████████▋                 | 927/1232 [01:38<00:28, 10.84it/s]"
     ]
    },
    {
     "name": "stdout",
     "output_type": "stream",
     "text": [
      "\n",
      "image 1/1 /mnt/c/Adrianov/Projects/trash-detector/Littering--8/test/images/video_6_2_jpg.rf.2c3c703bc8c1346e55c87a85bd497058.jpg: 256x416 4 Persons, 13.1ms\n",
      "Speed: 2.1ms preprocess, 13.1ms inference, 1.7ms postprocess per image at shape (1, 3, 256, 416)\n",
      "\n",
      "image 1/1 /mnt/c/Adrianov/Projects/trash-detector/Littering--8/test/images/video_6_2_jpg.rf.58329b526b91b47f975a135199a98536.jpg: 256x416 2 Persons, 13.1ms\n",
      "Speed: 2.1ms preprocess, 13.1ms inference, 1.8ms postprocess per image at shape (1, 3, 256, 416)\n"
     ]
    },
    {
     "name": "stderr",
     "output_type": "stream",
     "text": [
      " 75%|████████████████████████████████████████████████████▊                 | 929/1232 [01:38<00:27, 11.13it/s]"
     ]
    },
    {
     "name": "stdout",
     "output_type": "stream",
     "text": [
      "\n",
      "image 1/1 /mnt/c/Adrianov/Projects/trash-detector/Littering--8/test/images/video_6_30_jpg.rf.201c52757bfa02477fc2253064d39153.jpg: 256x416 2 Persons, 14.6ms\n",
      "Speed: 2.1ms preprocess, 14.6ms inference, 1.9ms postprocess per image at shape (1, 3, 256, 416)\n",
      "\n",
      "image 1/1 /mnt/c/Adrianov/Projects/trash-detector/Littering--8/test/images/video_6_30_jpg.rf.8a5722e9d7104ef4f512e054e2c2d03f.jpg: 256x416 1 Person, 13.0ms\n",
      "Speed: 1.9ms preprocess, 13.0ms inference, 1.5ms postprocess per image at shape (1, 3, 256, 416)\n"
     ]
    },
    {
     "name": "stderr",
     "output_type": "stream",
     "text": [
      " 76%|████████████████████████████████████████████████████▉                 | 931/1232 [01:38<00:29, 10.06it/s]"
     ]
    },
    {
     "name": "stdout",
     "output_type": "stream",
     "text": [
      "\n",
      "image 1/1 /mnt/c/Adrianov/Projects/trash-detector/Littering--8/test/images/video_6_30_jpg.rf.9a1c3cbf9a87c1625db835a6dc3167b4.jpg: 256x416 4 Persons, 14.2ms\n",
      "Speed: 2.8ms preprocess, 14.2ms inference, 2.3ms postprocess per image at shape (1, 3, 256, 416)\n",
      "\n",
      "image 1/1 /mnt/c/Adrianov/Projects/trash-detector/Littering--8/test/images/video_6_30_jpg.rf.ab146a47b65b5341467387d811b3c8ef.jpg: 256x416 2 Persons, 13.2ms\n",
      "Speed: 3.2ms preprocess, 13.2ms inference, 1.6ms postprocess per image at shape (1, 3, 256, 416)\n"
     ]
    },
    {
     "name": "stderr",
     "output_type": "stream",
     "text": [
      " 76%|█████████████████████████████████████████████████████                 | 933/1232 [01:39<00:32,  9.32it/s]"
     ]
    },
    {
     "name": "stdout",
     "output_type": "stream",
     "text": [
      "\n",
      "image 1/1 /mnt/c/Adrianov/Projects/trash-detector/Littering--8/test/images/video_6_30_jpg.rf.d3be41374b1cd44753a3ec07b26e39ba.jpg: 256x416 2 Persons, 19.6ms\n",
      "Speed: 2.1ms preprocess, 19.6ms inference, 2.5ms postprocess per image at shape (1, 3, 256, 416)\n",
      "\n",
      "image 1/1 /mnt/c/Adrianov/Projects/trash-detector/Littering--8/test/images/video_6_3_jpg.rf.448aa8c8bd177f51ee00ac56826736cb.jpg: 256x416 2 Persons, 13.0ms\n",
      "Speed: 2.2ms preprocess, 13.0ms inference, 2.7ms postprocess per image at shape (1, 3, 256, 416)\n"
     ]
    },
    {
     "name": "stderr",
     "output_type": "stream",
     "text": [
      " 76%|█████████████████████████████████████████████████████▏                | 935/1232 [01:39<00:30,  9.65it/s]"
     ]
    },
    {
     "name": "stdout",
     "output_type": "stream",
     "text": [
      "\n",
      "image 1/1 /mnt/c/Adrianov/Projects/trash-detector/Littering--8/test/images/video_6_3_jpg.rf.4c30aa2cdebc45904201baff4b4f87c8.jpg: 256x416 2 Persons, 1 Trash, 16.2ms\n",
      "Speed: 2.1ms preprocess, 16.2ms inference, 2.7ms postprocess per image at shape (1, 3, 256, 416)\n",
      "\n",
      "image 1/1 /mnt/c/Adrianov/Projects/trash-detector/Littering--8/test/images/video_6_3_jpg.rf.e93cbdb0815da96dc767f6e0146904e8.jpg: 256x416 1 Person, 13.6ms\n",
      "Speed: 2.0ms preprocess, 13.6ms inference, 1.3ms postprocess per image at shape (1, 3, 256, 416)\n"
     ]
    },
    {
     "name": "stderr",
     "output_type": "stream",
     "text": [
      " 76%|█████████████████████████████████████████████████████▏                | 937/1232 [01:39<00:29,  9.98it/s]"
     ]
    },
    {
     "name": "stdout",
     "output_type": "stream",
     "text": [
      "\n",
      "image 1/1 /mnt/c/Adrianov/Projects/trash-detector/Littering--8/test/images/video_6_3_jpg.rf.f280902aba6b42405d8d1d7e04a35e6d.jpg: 256x416 4 Persons, 12.8ms\n",
      "Speed: 2.2ms preprocess, 12.8ms inference, 1.5ms postprocess per image at shape (1, 3, 256, 416)\n",
      "\n",
      "image 1/1 /mnt/c/Adrianov/Projects/trash-detector/Littering--8/test/images/video_6_4_jpg.rf.27cf5a1c47b978e7d3923bcad3f136d8.jpg: 256x416 2 Persons, 13.3ms\n",
      "Speed: 2.1ms preprocess, 13.3ms inference, 2.9ms postprocess per image at shape (1, 3, 256, 416)\n"
     ]
    },
    {
     "name": "stderr",
     "output_type": "stream",
     "text": [
      " 76%|█████████████████████████████████████████████████████▎                | 939/1232 [01:39<00:27, 10.53it/s]"
     ]
    },
    {
     "name": "stdout",
     "output_type": "stream",
     "text": [
      "\n",
      "image 1/1 /mnt/c/Adrianov/Projects/trash-detector/Littering--8/test/images/video_6_4_jpg.rf.2ae235508ecf49ed9b5a0dbed732e673.jpg: 256x416 1 Person, 13.1ms\n",
      "Speed: 1.9ms preprocess, 13.1ms inference, 1.4ms postprocess per image at shape (1, 3, 256, 416)\n",
      "\n",
      "image 1/1 /mnt/c/Adrianov/Projects/trash-detector/Littering--8/test/images/video_6_4_jpg.rf.732a751d0113d198ca7fe87aa9967b6d.jpg: 256x416 2 Persons, 12.9ms\n",
      "Speed: 2.2ms preprocess, 12.9ms inference, 1.6ms postprocess per image at shape (1, 3, 256, 416)\n"
     ]
    },
    {
     "name": "stderr",
     "output_type": "stream",
     "text": [
      " 76%|█████████████████████████████████████████████████████▍                | 941/1232 [01:39<00:26, 10.84it/s]"
     ]
    },
    {
     "name": "stdout",
     "output_type": "stream",
     "text": [
      "\n",
      "image 1/1 /mnt/c/Adrianov/Projects/trash-detector/Littering--8/test/images/video_6_4_jpg.rf.ebefe9eed4bae05604bbb522803f2d3e.jpg: 256x416 2 Persons, 12.8ms\n",
      "Speed: 2.3ms preprocess, 12.8ms inference, 1.5ms postprocess per image at shape (1, 3, 256, 416)\n",
      "\n",
      "image 1/1 /mnt/c/Adrianov/Projects/trash-detector/Littering--8/test/images/video_6_5_jpg.rf.1092694a03eb15fc0c34a14ecf881ce6.jpg: 256x416 2 Persons, 12.9ms\n",
      "Speed: 2.3ms preprocess, 12.9ms inference, 1.7ms postprocess per image at shape (1, 3, 256, 416)\n"
     ]
    },
    {
     "name": "stderr",
     "output_type": "stream",
     "text": [
      " 77%|█████████████████████████████████████████████████████▌                | 943/1232 [01:39<00:25, 11.33it/s]"
     ]
    },
    {
     "name": "stdout",
     "output_type": "stream",
     "text": [
      "\n",
      "image 1/1 /mnt/c/Adrianov/Projects/trash-detector/Littering--8/test/images/video_6_5_jpg.rf.21c5eea2d576015dd4f0270ad9627904.jpg: 256x416 2 Persons, 13.1ms\n",
      "Speed: 1.8ms preprocess, 13.1ms inference, 1.4ms postprocess per image at shape (1, 3, 256, 416)\n",
      "\n",
      "image 1/1 /mnt/c/Adrianov/Projects/trash-detector/Littering--8/test/images/video_6_5_jpg.rf.7fc71fe40c3c2be5faf6e7a2d9412eaa.jpg: 256x416 1 Person, 12.9ms\n",
      "Speed: 2.1ms preprocess, 12.9ms inference, 1.7ms postprocess per image at shape (1, 3, 256, 416)\n"
     ]
    },
    {
     "name": "stderr",
     "output_type": "stream",
     "text": [
      " 77%|█████████████████████████████████████████████████████▋                | 945/1232 [01:40<00:25, 11.37it/s]"
     ]
    },
    {
     "name": "stdout",
     "output_type": "stream",
     "text": [
      "\n",
      "image 1/1 /mnt/c/Adrianov/Projects/trash-detector/Littering--8/test/images/video_6_5_jpg.rf.bde9603667c175ac8a0fe5d7859eb485.jpg: 256x416 2 Persons, 12.9ms\n",
      "Speed: 2.1ms preprocess, 12.9ms inference, 2.7ms postprocess per image at shape (1, 3, 256, 416)\n",
      "\n",
      "image 1/1 /mnt/c/Adrianov/Projects/trash-detector/Littering--8/test/images/video_6_6_jpg.rf.0b6f8afdfbb32bb09079aadb4840a16d.jpg: 256x416 2 Persons, 12.9ms\n",
      "Speed: 2.7ms preprocess, 12.9ms inference, 1.3ms postprocess per image at shape (1, 3, 256, 416)\n"
     ]
    },
    {
     "name": "stderr",
     "output_type": "stream",
     "text": [
      " 77%|█████████████████████████████████████████████████████▊                | 947/1232 [01:40<00:25, 11.37it/s]"
     ]
    },
    {
     "name": "stdout",
     "output_type": "stream",
     "text": [
      "\n",
      "image 1/1 /mnt/c/Adrianov/Projects/trash-detector/Littering--8/test/images/video_6_6_jpg.rf.85049093ccfc2c9530725c6a0bccd382.jpg: 256x416 2 Persons, 12.8ms\n",
      "Speed: 2.1ms preprocess, 12.8ms inference, 1.6ms postprocess per image at shape (1, 3, 256, 416)\n",
      "\n",
      "image 1/1 /mnt/c/Adrianov/Projects/trash-detector/Littering--8/test/images/video_6_6_jpg.rf.8d1e00930f45fa8a8302385654251487.jpg: 256x416 3 Persons, 12.8ms\n",
      "Speed: 1.9ms preprocess, 12.8ms inference, 1.6ms postprocess per image at shape (1, 3, 256, 416)\n"
     ]
    },
    {
     "name": "stderr",
     "output_type": "stream",
     "text": [
      " 77%|█████████████████████████████████████████████████████▉                | 949/1232 [01:40<00:24, 11.51it/s]"
     ]
    },
    {
     "name": "stdout",
     "output_type": "stream",
     "text": [
      "\n",
      "image 1/1 /mnt/c/Adrianov/Projects/trash-detector/Littering--8/test/images/video_6_6_jpg.rf.9f065d85723bccc8b5309906e4db538e.jpg: 256x416 3 Persons, 13.7ms\n",
      "Speed: 2.2ms preprocess, 13.7ms inference, 1.5ms postprocess per image at shape (1, 3, 256, 416)\n",
      "\n",
      "image 1/1 /mnt/c/Adrianov/Projects/trash-detector/Littering--8/test/images/video_6_7_jpg.rf.2a4e1ece775223ada8c511d35c5c75f6.jpg: 256x416 2 Persons, 13.2ms\n",
      "Speed: 2.2ms preprocess, 13.2ms inference, 10.8ms postprocess per image at shape (1, 3, 256, 416)\n"
     ]
    },
    {
     "name": "stderr",
     "output_type": "stream",
     "text": [
      " 77%|██████████████████████████████████████████████████████                | 951/1232 [01:40<00:32,  8.74it/s]"
     ]
    },
    {
     "name": "stdout",
     "output_type": "stream",
     "text": [
      "\n",
      "image 1/1 /mnt/c/Adrianov/Projects/trash-detector/Littering--8/test/images/video_6_7_jpg.rf.859c77cac3b273e00d97b6bd36d3d4c6.jpg: 256x416 2 Persons, 12.9ms\n",
      "Speed: 2.2ms preprocess, 12.9ms inference, 1.3ms postprocess per image at shape (1, 3, 256, 416)\n",
      "\n",
      "image 1/1 /mnt/c/Adrianov/Projects/trash-detector/Littering--8/test/images/video_6_7_jpg.rf.8dbebe774c0b2528d49cd902aa7597ee.jpg: 256x416 1 Person, 15.7ms\n",
      "Speed: 2.4ms preprocess, 15.7ms inference, 2.0ms postprocess per image at shape (1, 3, 256, 416)\n"
     ]
    },
    {
     "name": "stderr",
     "output_type": "stream",
     "text": [
      " 77%|██████████████████████████████████████████████████████▏               | 953/1232 [01:40<00:30,  9.05it/s]"
     ]
    },
    {
     "name": "stdout",
     "output_type": "stream",
     "text": [
      "\n",
      "image 1/1 /mnt/c/Adrianov/Projects/trash-detector/Littering--8/test/images/video_6_7_jpg.rf.c45502fbdf83b3e1ab83e15e6a2dd620.jpg: 256x416 2 Persons, 12.9ms\n",
      "Speed: 2.1ms preprocess, 12.9ms inference, 1.6ms postprocess per image at shape (1, 3, 256, 416)\n",
      "\n",
      "image 1/1 /mnt/c/Adrianov/Projects/trash-detector/Littering--8/test/images/video_6_8_jpg.rf.6bf3d66366b75f6cd097f78ada8822dc.jpg: 256x416 2 Persons, 12.8ms\n",
      "Speed: 2.3ms preprocess, 12.8ms inference, 1.8ms postprocess per image at shape (1, 3, 256, 416)\n"
     ]
    },
    {
     "name": "stderr",
     "output_type": "stream",
     "text": [
      " 78%|██████████████████████████████████████████████████████▎               | 955/1232 [01:41<00:28,  9.70it/s]"
     ]
    },
    {
     "name": "stdout",
     "output_type": "stream",
     "text": [
      "\n",
      "image 1/1 /mnt/c/Adrianov/Projects/trash-detector/Littering--8/test/images/video_6_8_jpg.rf.76e7e04f7736684fd6478bce8b59b754.jpg: 256x416 2 Persons, 17.0ms\n",
      "Speed: 2.0ms preprocess, 17.0ms inference, 1.8ms postprocess per image at shape (1, 3, 256, 416)\n",
      "\n",
      "image 1/1 /mnt/c/Adrianov/Projects/trash-detector/Littering--8/test/images/video_6_8_jpg.rf.896ceb6c00e6b2b45fb3bf85b4a3e31a.jpg: 256x416 2 Persons, 13.1ms\n",
      "Speed: 2.6ms preprocess, 13.1ms inference, 1.5ms postprocess per image at shape (1, 3, 256, 416)\n"
     ]
    },
    {
     "name": "stderr",
     "output_type": "stream",
     "text": [
      " 78%|██████████████████████████████████████████████████████▍               | 957/1232 [01:41<00:26, 10.19it/s]"
     ]
    },
    {
     "name": "stdout",
     "output_type": "stream",
     "text": [
      "\n",
      "image 1/1 /mnt/c/Adrianov/Projects/trash-detector/Littering--8/test/images/video_6_8_jpg.rf.9b3a4f797902d539332bc34bce708630.jpg: 256x416 2 Persons, 19.3ms\n",
      "Speed: 2.0ms preprocess, 19.3ms inference, 2.7ms postprocess per image at shape (1, 3, 256, 416)\n",
      "\n",
      "image 1/1 /mnt/c/Adrianov/Projects/trash-detector/Littering--8/test/images/video_6_9_jpg.rf.1c6c9647a3bdd83c88ebcdff453fa5a4.jpg: 256x416 1 Person, 12.9ms\n",
      "Speed: 1.9ms preprocess, 12.9ms inference, 1.5ms postprocess per image at shape (1, 3, 256, 416)\n"
     ]
    },
    {
     "name": "stderr",
     "output_type": "stream",
     "text": [
      " 78%|██████████████████████████████████████████████████████▍               | 959/1232 [01:41<00:26, 10.20it/s]"
     ]
    },
    {
     "name": "stdout",
     "output_type": "stream",
     "text": [
      "\n",
      "image 1/1 /mnt/c/Adrianov/Projects/trash-detector/Littering--8/test/images/video_6_9_jpg.rf.6340ed6ebc13bb874c586d271a432c4d.jpg: 256x416 2 Persons, 12.9ms\n",
      "Speed: 2.4ms preprocess, 12.9ms inference, 1.4ms postprocess per image at shape (1, 3, 256, 416)\n",
      "\n",
      "image 1/1 /mnt/c/Adrianov/Projects/trash-detector/Littering--8/test/images/video_6_9_jpg.rf.68371f17f1c47af47a42eec4958b05fe.jpg: 256x416 2 Persons, 1 Trash, 12.8ms\n",
      "Speed: 3.3ms preprocess, 12.8ms inference, 1.4ms postprocess per image at shape (1, 3, 256, 416)\n"
     ]
    },
    {
     "name": "stderr",
     "output_type": "stream",
     "text": [
      " 78%|██████████████████████████████████████████████████████▌               | 961/1232 [01:41<00:25, 10.56it/s]"
     ]
    },
    {
     "name": "stdout",
     "output_type": "stream",
     "text": [
      "\n",
      "image 1/1 /mnt/c/Adrianov/Projects/trash-detector/Littering--8/test/images/video_6_9_jpg.rf.7d896fe2ae803b0eda17d5b872ec989b.jpg: 256x416 3 Persons, 14.8ms\n",
      "Speed: 2.0ms preprocess, 14.8ms inference, 1.7ms postprocess per image at shape (1, 3, 256, 416)\n",
      "\n",
      "image 1/1 /mnt/c/Adrianov/Projects/trash-detector/Littering--8/test/images/video_7_10_jpg.rf.43ecd58ceba4ec354b2e6452254ec1c7.jpg: 256x416 3 Persons, 16.3ms\n",
      "Speed: 1.6ms preprocess, 16.3ms inference, 2.5ms postprocess per image at shape (1, 3, 256, 416)\n"
     ]
    },
    {
     "name": "stderr",
     "output_type": "stream",
     "text": [
      " 78%|██████████████████████████████████████████████████████▋               | 963/1232 [01:41<00:24, 11.06it/s]"
     ]
    },
    {
     "name": "stdout",
     "output_type": "stream",
     "text": [
      "\n",
      "image 1/1 /mnt/c/Adrianov/Projects/trash-detector/Littering--8/test/images/video_7_10_jpg.rf.905ff5ed39f014dba95616eb0028ddbc.jpg: 256x416 2 Persons, 19.6ms\n",
      "Speed: 1.9ms preprocess, 19.6ms inference, 2.6ms postprocess per image at shape (1, 3, 256, 416)\n",
      "\n",
      "image 1/1 /mnt/c/Adrianov/Projects/trash-detector/Littering--8/test/images/video_7_10_jpg.rf.c0364459d8e9ae5230a61cfcd77f62fa.jpg: 256x416 2 Persons, 13.0ms\n",
      "Speed: 1.8ms preprocess, 13.0ms inference, 1.7ms postprocess per image at shape (1, 3, 256, 416)\n"
     ]
    },
    {
     "name": "stderr",
     "output_type": "stream",
     "text": [
      " 78%|██████████████████████████████████████████████████████▊               | 965/1232 [01:42<00:23, 11.39it/s]"
     ]
    },
    {
     "name": "stdout",
     "output_type": "stream",
     "text": [
      "\n",
      "image 1/1 /mnt/c/Adrianov/Projects/trash-detector/Littering--8/test/images/video_7_11_jpg.rf.3fe86c4564fb5da12fcd4224b6c4b503.jpg: 256x416 2 Persons, 17.8ms\n",
      "Speed: 2.5ms preprocess, 17.8ms inference, 1.3ms postprocess per image at shape (1, 3, 256, 416)\n",
      "\n",
      "image 1/1 /mnt/c/Adrianov/Projects/trash-detector/Littering--8/test/images/video_7_11_jpg.rf.ac28121e8120b5826aecc5a02f575b5c.jpg: 256x416 3 Persons, 14.7ms\n",
      "Speed: 2.1ms preprocess, 14.7ms inference, 2.7ms postprocess per image at shape (1, 3, 256, 416)\n"
     ]
    },
    {
     "name": "stderr",
     "output_type": "stream",
     "text": [
      " 78%|██████████████████████████████████████████████████████▉               | 967/1232 [01:42<00:23, 11.36it/s]"
     ]
    },
    {
     "name": "stdout",
     "output_type": "stream",
     "text": [
      "\n",
      "image 1/1 /mnt/c/Adrianov/Projects/trash-detector/Littering--8/test/images/video_7_11_jpg.rf.c196bf30653768543db76477831f93c8.jpg: 256x416 2 Persons, 13.0ms\n",
      "Speed: 1.7ms preprocess, 13.0ms inference, 1.5ms postprocess per image at shape (1, 3, 256, 416)\n",
      "\n",
      "image 1/1 /mnt/c/Adrianov/Projects/trash-detector/Littering--8/test/images/video_7_12_jpg.rf.9a917969b1572d43b5f16b03444e1c98.jpg: 256x416 3 Persons, 12.8ms\n",
      "Speed: 2.4ms preprocess, 12.8ms inference, 2.5ms postprocess per image at shape (1, 3, 256, 416)\n"
     ]
    },
    {
     "name": "stderr",
     "output_type": "stream",
     "text": [
      " 79%|███████████████████████████████████████████████████████               | 969/1232 [01:42<00:22, 11.56it/s]"
     ]
    },
    {
     "name": "stdout",
     "output_type": "stream",
     "text": [
      "\n",
      "image 1/1 /mnt/c/Adrianov/Projects/trash-detector/Littering--8/test/images/video_7_12_jpg.rf.a2bf3d87eae73a1d419d4bf356671c1b.jpg: 256x416 2 Persons, 12.9ms\n",
      "Speed: 2.3ms preprocess, 12.9ms inference, 1.7ms postprocess per image at shape (1, 3, 256, 416)\n",
      "\n",
      "image 1/1 /mnt/c/Adrianov/Projects/trash-detector/Littering--8/test/images/video_7_12_jpg.rf.be66329e6a11052c5e65fc571bc93788.jpg: 256x416 2 Persons, 13.1ms\n",
      "Speed: 2.0ms preprocess, 13.1ms inference, 1.6ms postprocess per image at shape (1, 3, 256, 416)\n"
     ]
    },
    {
     "name": "stderr",
     "output_type": "stream",
     "text": [
      " 79%|███████████████████████████████████████████████████████▏              | 971/1232 [01:42<00:22, 11.65it/s]"
     ]
    },
    {
     "name": "stdout",
     "output_type": "stream",
     "text": [
      "\n",
      "image 1/1 /mnt/c/Adrianov/Projects/trash-detector/Littering--8/test/images/video_7_13_jpg.rf.05f4e9a760b5724fa2cc0270cb371b33.jpg: 256x416 2 Persons, 16.3ms\n",
      "Speed: 1.9ms preprocess, 16.3ms inference, 1.6ms postprocess per image at shape (1, 3, 256, 416)\n",
      "\n",
      "image 1/1 /mnt/c/Adrianov/Projects/trash-detector/Littering--8/test/images/video_7_13_jpg.rf.64a0ba2f8f2684844dab2057c8b2a4b5.jpg: 256x416 2 Persons, 16.2ms\n",
      "Speed: 2.2ms preprocess, 16.2ms inference, 1.5ms postprocess per image at shape (1, 3, 256, 416)\n"
     ]
    },
    {
     "name": "stderr",
     "output_type": "stream",
     "text": [
      " 79%|███████████████████████████████████████████████████████▎              | 973/1232 [01:42<00:23, 11.11it/s]"
     ]
    },
    {
     "name": "stdout",
     "output_type": "stream",
     "text": [
      "\n",
      "image 1/1 /mnt/c/Adrianov/Projects/trash-detector/Littering--8/test/images/video_7_13_jpg.rf.771223704f5fbb1ae55dda11aec6eea1.jpg: 256x416 2 Persons, 13.3ms\n",
      "Speed: 2.3ms preprocess, 13.3ms inference, 1.6ms postprocess per image at shape (1, 3, 256, 416)\n",
      "\n",
      "image 1/1 /mnt/c/Adrianov/Projects/trash-detector/Littering--8/test/images/video_7_14_jpg.rf.4a3fb3b3676dee66c710ceebeed9014c.jpg: 256x416 2 Persons, 13.3ms\n",
      "Speed: 2.4ms preprocess, 13.3ms inference, 2.9ms postprocess per image at shape (1, 3, 256, 416)\n"
     ]
    },
    {
     "name": "stderr",
     "output_type": "stream",
     "text": [
      " 79%|███████████████████████████████████████████████████████▍              | 975/1232 [01:43<00:28,  9.03it/s]"
     ]
    },
    {
     "name": "stdout",
     "output_type": "stream",
     "text": [
      "\n",
      "image 1/1 /mnt/c/Adrianov/Projects/trash-detector/Littering--8/test/images/video_7_14_jpg.rf.a26aad295f0318f5403cd82aa4b1f59a.jpg: 256x416 2 Persons, 13.1ms\n",
      "Speed: 2.7ms preprocess, 13.1ms inference, 1.8ms postprocess per image at shape (1, 3, 256, 416)\n",
      "\n",
      "image 1/1 /mnt/c/Adrianov/Projects/trash-detector/Littering--8/test/images/video_7_14_jpg.rf.c3814f1f6a25b99873f9630503958cd0.jpg: 256x416 3 Persons, 12.8ms\n",
      "Speed: 2.2ms preprocess, 12.8ms inference, 1.4ms postprocess per image at shape (1, 3, 256, 416)\n"
     ]
    },
    {
     "name": "stderr",
     "output_type": "stream",
     "text": [
      " 79%|███████████████████████████████████████████████████████▌              | 977/1232 [01:43<00:26,  9.72it/s]"
     ]
    },
    {
     "name": "stdout",
     "output_type": "stream",
     "text": [
      "\n",
      "image 1/1 /mnt/c/Adrianov/Projects/trash-detector/Littering--8/test/images/video_7_15_jpg.rf.5015b147d989a8ef4ab157707cb6f64f.jpg: 256x416 2 Persons, 14.7ms\n",
      "Speed: 2.5ms preprocess, 14.7ms inference, 2.4ms postprocess per image at shape (1, 3, 256, 416)\n",
      "\n",
      "image 1/1 /mnt/c/Adrianov/Projects/trash-detector/Littering--8/test/images/video_7_15_jpg.rf.678ef56b34e72b1b32558345abbbaf6d.jpg: 256x416 3 Persons, 12.9ms\n",
      "Speed: 2.3ms preprocess, 12.9ms inference, 2.9ms postprocess per image at shape (1, 3, 256, 416)\n"
     ]
    },
    {
     "name": "stderr",
     "output_type": "stream",
     "text": [
      " 79%|███████████████████████████████████████████████████████▋              | 979/1232 [01:43<00:25,  9.97it/s]"
     ]
    },
    {
     "name": "stdout",
     "output_type": "stream",
     "text": [
      "\n",
      "image 1/1 /mnt/c/Adrianov/Projects/trash-detector/Littering--8/test/images/video_7_15_jpg.rf.9129813a7a14a8fafb2159e8ff9c3a5c.jpg: 256x416 2 Persons, 12.8ms\n",
      "Speed: 1.9ms preprocess, 12.8ms inference, 1.7ms postprocess per image at shape (1, 3, 256, 416)\n",
      "\n",
      "image 1/1 /mnt/c/Adrianov/Projects/trash-detector/Littering--8/test/images/video_7_16_jpg.rf.baaf58a2521227528af9559390679f12.jpg: 256x416 2 Persons, 12.9ms\n",
      "Speed: 2.1ms preprocess, 12.9ms inference, 2.9ms postprocess per image at shape (1, 3, 256, 416)\n"
     ]
    },
    {
     "name": "stderr",
     "output_type": "stream",
     "text": [
      " 80%|███████████████████████████████████████████████████████▋              | 981/1232 [01:43<00:23, 10.49it/s]"
     ]
    },
    {
     "name": "stdout",
     "output_type": "stream",
     "text": [
      "\n",
      "image 1/1 /mnt/c/Adrianov/Projects/trash-detector/Littering--8/test/images/video_7_16_jpg.rf.e10bad1c9f47537a3f7932b913533e2e.jpg: 256x416 2 Persons, 13.0ms\n",
      "Speed: 1.9ms preprocess, 13.0ms inference, 1.7ms postprocess per image at shape (1, 3, 256, 416)\n",
      "\n",
      "image 1/1 /mnt/c/Adrianov/Projects/trash-detector/Littering--8/test/images/video_7_16_jpg.rf.fe8806de9ce0f773319dab19e298a51a.jpg: 256x416 3 Persons, 13.0ms\n",
      "Speed: 1.7ms preprocess, 13.0ms inference, 1.4ms postprocess per image at shape (1, 3, 256, 416)\n"
     ]
    },
    {
     "name": "stderr",
     "output_type": "stream",
     "text": [
      " 80%|███████████████████████████████████████████████████████▊              | 983/1232 [01:43<00:22, 11.01it/s]"
     ]
    },
    {
     "name": "stdout",
     "output_type": "stream",
     "text": [
      "\n",
      "image 1/1 /mnt/c/Adrianov/Projects/trash-detector/Littering--8/test/images/video_7_17_jpg.rf.2f7cbb2de29f70ede83ba5271a3100a9.jpg: 256x416 2 Persons, 12.9ms\n",
      "Speed: 1.8ms preprocess, 12.9ms inference, 2.4ms postprocess per image at shape (1, 3, 256, 416)\n",
      "\n",
      "image 1/1 /mnt/c/Adrianov/Projects/trash-detector/Littering--8/test/images/video_7_17_jpg.rf.9c1950509d473155554b59c1d845c09a.jpg: 256x416 2 Persons, 17.4ms\n",
      "Speed: 2.0ms preprocess, 17.4ms inference, 1.9ms postprocess per image at shape (1, 3, 256, 416)\n"
     ]
    },
    {
     "name": "stderr",
     "output_type": "stream",
     "text": [
      " 80%|███████████████████████████████████████████████████████▉              | 985/1232 [01:43<00:21, 11.28it/s]"
     ]
    },
    {
     "name": "stdout",
     "output_type": "stream",
     "text": [
      "\n",
      "image 1/1 /mnt/c/Adrianov/Projects/trash-detector/Littering--8/test/images/video_7_17_jpg.rf.d3c883b084c11f96d0eb3d24fa8979f7.jpg: 256x416 3 Persons, 13.1ms\n",
      "Speed: 1.9ms preprocess, 13.1ms inference, 1.4ms postprocess per image at shape (1, 3, 256, 416)\n",
      "\n",
      "image 1/1 /mnt/c/Adrianov/Projects/trash-detector/Littering--8/test/images/video_7_18_jpg.rf.5c4a40a20980c248ebb6632cb14b368e.jpg: 256x416 2 Persons, 13.2ms\n",
      "Speed: 3.1ms preprocess, 13.2ms inference, 1.7ms postprocess per image at shape (1, 3, 256, 416)\n"
     ]
    },
    {
     "name": "stderr",
     "output_type": "stream",
     "text": [
      " 80%|████████████████████████████████████████████████████████              | 987/1232 [01:44<00:24, 10.02it/s]"
     ]
    },
    {
     "name": "stdout",
     "output_type": "stream",
     "text": [
      "\n",
      "image 1/1 /mnt/c/Adrianov/Projects/trash-detector/Littering--8/test/images/video_7_18_jpg.rf.96b48194f78851ca1a128a129bc8e681.jpg: 256x416 2 Persons, 13.2ms\n",
      "Speed: 1.9ms preprocess, 13.2ms inference, 2.6ms postprocess per image at shape (1, 3, 256, 416)\n",
      "\n",
      "image 1/1 /mnt/c/Adrianov/Projects/trash-detector/Littering--8/test/images/video_7_18_jpg.rf.b477b752c242f1fece31f6df2ba768b9.jpg: 256x416 2 Persons, 13.2ms\n",
      "Speed: 1.8ms preprocess, 13.2ms inference, 1.5ms postprocess per image at shape (1, 3, 256, 416)\n"
     ]
    },
    {
     "name": "stderr",
     "output_type": "stream",
     "text": [
      " 80%|████████████████████████████████████████████████████████▏             | 989/1232 [01:44<00:27,  8.91it/s]"
     ]
    },
    {
     "name": "stdout",
     "output_type": "stream",
     "text": [
      "\n",
      "image 1/1 /mnt/c/Adrianov/Projects/trash-detector/Littering--8/test/images/video_7_19_jpg.rf.22e08db081b8cb921188a0f2fa495142.jpg: 256x416 2 Persons, 12.8ms\n",
      "Speed: 1.6ms preprocess, 12.8ms inference, 1.6ms postprocess per image at shape (1, 3, 256, 416)\n",
      "\n",
      "image 1/1 /mnt/c/Adrianov/Projects/trash-detector/Littering--8/test/images/video_7_19_jpg.rf.bb2250c699efc2f4f0cb51d263679125.jpg: 256x416 3 Persons, 12.9ms\n",
      "Speed: 2.4ms preprocess, 12.9ms inference, 1.5ms postprocess per image at shape (1, 3, 256, 416)\n"
     ]
    },
    {
     "name": "stderr",
     "output_type": "stream",
     "text": [
      " 80%|████████████████████████████████████████████████████████▎             | 991/1232 [01:44<00:24,  9.81it/s]"
     ]
    },
    {
     "name": "stdout",
     "output_type": "stream",
     "text": [
      "\n",
      "image 1/1 /mnt/c/Adrianov/Projects/trash-detector/Littering--8/test/images/video_7_19_jpg.rf.daf7e39bdbc8f69ec5e1f3801a92c381.jpg: 256x416 2 Persons, 12.9ms\n",
      "Speed: 1.8ms preprocess, 12.9ms inference, 1.6ms postprocess per image at shape (1, 3, 256, 416)\n",
      "\n",
      "image 1/1 /mnt/c/Adrianov/Projects/trash-detector/Littering--8/test/images/video_7_1_jpg.rf.27b49986199833678e80b29325f98822.jpg: 256x416 2 Persons, 19.8ms\n",
      "Speed: 2.0ms preprocess, 19.8ms inference, 8.0ms postprocess per image at shape (1, 3, 256, 416)\n"
     ]
    },
    {
     "name": "stderr",
     "output_type": "stream",
     "text": [
      " 81%|████████████████████████████████████████████████████████▍             | 993/1232 [01:44<00:23, 10.16it/s]"
     ]
    },
    {
     "name": "stdout",
     "output_type": "stream",
     "text": [
      "\n",
      "image 1/1 /mnt/c/Adrianov/Projects/trash-detector/Littering--8/test/images/video_7_1_jpg.rf.8e552f8295f6a8f721cdb139adecd227.jpg: 256x416 2 Persons, 12.9ms\n",
      "Speed: 1.9ms preprocess, 12.9ms inference, 1.7ms postprocess per image at shape (1, 3, 256, 416)\n",
      "\n",
      "image 1/1 /mnt/c/Adrianov/Projects/trash-detector/Littering--8/test/images/video_7_1_jpg.rf.afe74f57583caf778f222ee9bc1c556e.jpg: 256x416 2 Persons, 13.0ms\n",
      "Speed: 2.0ms preprocess, 13.0ms inference, 1.6ms postprocess per image at shape (1, 3, 256, 416)\n"
     ]
    },
    {
     "name": "stderr",
     "output_type": "stream",
     "text": [
      " 81%|████████████████████████████████████████████████████████▌             | 995/1232 [01:44<00:22, 10.47it/s]"
     ]
    },
    {
     "name": "stdout",
     "output_type": "stream",
     "text": [
      "\n",
      "image 1/1 /mnt/c/Adrianov/Projects/trash-detector/Littering--8/test/images/video_7_20_jpg.rf.670942e861e365a5aaef9ecd8200443b.jpg: 256x416 2 Persons, 12.9ms\n",
      "Speed: 2.4ms preprocess, 12.9ms inference, 4.0ms postprocess per image at shape (1, 3, 256, 416)\n",
      "\n",
      "image 1/1 /mnt/c/Adrianov/Projects/trash-detector/Littering--8/test/images/video_7_20_jpg.rf.9cf4614664b73b172ec677a7a7f018bd.jpg: 256x416 3 Persons, 12.9ms\n",
      "Speed: 2.8ms preprocess, 12.9ms inference, 1.6ms postprocess per image at shape (1, 3, 256, 416)\n"
     ]
    },
    {
     "name": "stderr",
     "output_type": "stream",
     "text": [
      " 81%|████████████████████████████████████████████████████████▋             | 997/1232 [01:45<00:26,  8.99it/s]"
     ]
    },
    {
     "name": "stdout",
     "output_type": "stream",
     "text": [
      "\n",
      "image 1/1 /mnt/c/Adrianov/Projects/trash-detector/Littering--8/test/images/video_7_20_jpg.rf.eeba3719d6a1f739c542d61e072d65a1.jpg: 256x416 2 Persons, 12.9ms\n",
      "Speed: 1.8ms preprocess, 12.9ms inference, 2.0ms postprocess per image at shape (1, 3, 256, 416)\n",
      "\n",
      "image 1/1 /mnt/c/Adrianov/Projects/trash-detector/Littering--8/test/images/video_7_21_jpg.rf.5f8c64ded93e51c825d77a53d233aa69.jpg: 256x416 2 Persons, 12.9ms\n",
      "Speed: 1.6ms preprocess, 12.9ms inference, 4.6ms postprocess per image at shape (1, 3, 256, 416)\n"
     ]
    },
    {
     "name": "stderr",
     "output_type": "stream",
     "text": [
      " 81%|████████████████████████████████████████████████████████▊             | 999/1232 [01:45<00:24,  9.66it/s]"
     ]
    },
    {
     "name": "stdout",
     "output_type": "stream",
     "text": [
      "\n",
      "image 1/1 /mnt/c/Adrianov/Projects/trash-detector/Littering--8/test/images/video_7_21_jpg.rf.a711b1d272531160e452dc1cd47bc73e.jpg: 256x416 4 Persons, 13.9ms\n",
      "Speed: 2.1ms preprocess, 13.9ms inference, 1.3ms postprocess per image at shape (1, 3, 256, 416)\n",
      "\n",
      "image 1/1 /mnt/c/Adrianov/Projects/trash-detector/Littering--8/test/images/video_7_21_jpg.rf.e8d8e6f9da86717b702864da780d45bb.jpg: 256x416 2 Persons, 12.9ms\n",
      "Speed: 1.7ms preprocess, 12.9ms inference, 1.6ms postprocess per image at shape (1, 3, 256, 416)\n"
     ]
    },
    {
     "name": "stderr",
     "output_type": "stream",
     "text": [
      " 81%|████████████████████████████████████████████████████████             | 1001/1232 [01:45<00:22, 10.28it/s]"
     ]
    },
    {
     "name": "stdout",
     "output_type": "stream",
     "text": [
      "\n",
      "image 1/1 /mnt/c/Adrianov/Projects/trash-detector/Littering--8/test/images/video_7_22_jpg.rf.5c182f3e72dcd9ecb7f45383564fa55a.jpg: 256x416 4 Persons, 13.1ms\n",
      "Speed: 2.0ms preprocess, 13.1ms inference, 2.1ms postprocess per image at shape (1, 3, 256, 416)\n",
      "\n",
      "image 1/1 /mnt/c/Adrianov/Projects/trash-detector/Littering--8/test/images/video_7_22_jpg.rf.71be54838734bd68ab15731f83fe4e16.jpg: 256x416 2 Persons, 28.5ms\n",
      "Speed: 3.3ms preprocess, 28.5ms inference, 1.5ms postprocess per image at shape (1, 3, 256, 416)\n"
     ]
    },
    {
     "name": "stderr",
     "output_type": "stream",
     "text": [
      " 81%|████████████████████████████████████████████████████████▏            | 1003/1232 [01:45<00:27,  8.24it/s]"
     ]
    },
    {
     "name": "stdout",
     "output_type": "stream",
     "text": [
      "\n",
      "image 1/1 /mnt/c/Adrianov/Projects/trash-detector/Littering--8/test/images/video_7_22_jpg.rf.b756c0788dcc3dfafd442a18f0f1d7d6.jpg: 256x416 2 Persons, 16.8ms\n",
      "Speed: 2.1ms preprocess, 16.8ms inference, 1.6ms postprocess per image at shape (1, 3, 256, 416)\n"
     ]
    },
    {
     "name": "stderr",
     "output_type": "stream",
     "text": [
      " 81%|████████████████████████████████████████████████████████▏            | 1004/1232 [01:46<00:28,  7.96it/s]"
     ]
    },
    {
     "name": "stdout",
     "output_type": "stream",
     "text": [
      "\n",
      "image 1/1 /mnt/c/Adrianov/Projects/trash-detector/Littering--8/test/images/video_7_23_jpg.rf.c0d13747664553c662f1101daecf54fa.jpg: 256x416 3 Persons, 13.0ms\n",
      "Speed: 1.9ms preprocess, 13.0ms inference, 3.1ms postprocess per image at shape (1, 3, 256, 416)\n",
      "\n",
      "image 1/1 /mnt/c/Adrianov/Projects/trash-detector/Littering--8/test/images/video_7_23_jpg.rf.d259cb93cb9387a54107c56c56dc3990.jpg: 256x416 2 Persons, 12.9ms\n",
      "Speed: 1.6ms preprocess, 12.9ms inference, 1.6ms postprocess per image at shape (1, 3, 256, 416)\n"
     ]
    },
    {
     "name": "stderr",
     "output_type": "stream",
     "text": [
      " 82%|████████████████████████████████████████████████████████▎            | 1006/1232 [01:46<00:25,  8.89it/s]"
     ]
    },
    {
     "name": "stdout",
     "output_type": "stream",
     "text": [
      "\n",
      "image 1/1 /mnt/c/Adrianov/Projects/trash-detector/Littering--8/test/images/video_7_23_jpg.rf.f15b3a6c954aa335484d5ac566027428.jpg: 256x416 2 Persons, 13.1ms\n",
      "Speed: 2.4ms preprocess, 13.1ms inference, 1.5ms postprocess per image at shape (1, 3, 256, 416)\n",
      "\n",
      "image 1/1 /mnt/c/Adrianov/Projects/trash-detector/Littering--8/test/images/video_7_24_jpg.rf.045de1f20c0d47da05c853fbe32fa633.jpg: 256x416 2 Persons, 13.9ms\n",
      "Speed: 2.1ms preprocess, 13.9ms inference, 1.4ms postprocess per image at shape (1, 3, 256, 416)\n"
     ]
    },
    {
     "name": "stderr",
     "output_type": "stream",
     "text": [
      " 82%|████████████████████████████████████████████████████████▍            | 1008/1232 [01:46<00:22,  9.78it/s]"
     ]
    },
    {
     "name": "stdout",
     "output_type": "stream",
     "text": [
      "\n",
      "image 1/1 /mnt/c/Adrianov/Projects/trash-detector/Littering--8/test/images/video_7_24_jpg.rf.5734dfcfddc8dffe6e2e92538e07ca36.jpg: 256x416 2 Persons, 12.9ms\n",
      "Speed: 2.1ms preprocess, 12.9ms inference, 1.4ms postprocess per image at shape (1, 3, 256, 416)\n",
      "\n",
      "image 1/1 /mnt/c/Adrianov/Projects/trash-detector/Littering--8/test/images/video_7_24_jpg.rf.e25da07598a4f81fca2b99e4e68f0af9.jpg: 256x416 3 Persons, 17.9ms\n",
      "Speed: 2.2ms preprocess, 17.9ms inference, 2.7ms postprocess per image at shape (1, 3, 256, 416)\n"
     ]
    },
    {
     "name": "stderr",
     "output_type": "stream",
     "text": [
      " 82%|████████████████████████████████████████████████████████▌            | 1010/1232 [01:46<00:21, 10.30it/s]"
     ]
    },
    {
     "name": "stdout",
     "output_type": "stream",
     "text": [
      "\n",
      "image 1/1 /mnt/c/Adrianov/Projects/trash-detector/Littering--8/test/images/video_7_25_jpg.rf.3150ad4f941fd621a771e35e229694e1.jpg: 256x416 2 Persons, 13.0ms\n",
      "Speed: 2.3ms preprocess, 13.0ms inference, 1.6ms postprocess per image at shape (1, 3, 256, 416)\n",
      "\n",
      "image 1/1 /mnt/c/Adrianov/Projects/trash-detector/Littering--8/test/images/video_7_25_jpg.rf.5802c66490233ace7f18f89a0483a423.jpg: 256x416 2 Persons, 14.2ms\n",
      "Speed: 2.1ms preprocess, 14.2ms inference, 1.4ms postprocess per image at shape (1, 3, 256, 416)\n"
     ]
    },
    {
     "name": "stderr",
     "output_type": "stream",
     "text": [
      " 82%|████████████████████████████████████████████████████████▋            | 1012/1232 [01:46<00:20, 10.78it/s]"
     ]
    },
    {
     "name": "stdout",
     "output_type": "stream",
     "text": [
      "\n",
      "image 1/1 /mnt/c/Adrianov/Projects/trash-detector/Littering--8/test/images/video_7_25_jpg.rf.d0fe07d7e4ecf4cb5f49994d88f35704.jpg: 256x416 2 Persons, 16.3ms\n",
      "Speed: 2.0ms preprocess, 16.3ms inference, 1.3ms postprocess per image at shape (1, 3, 256, 416)\n",
      "\n",
      "image 1/1 /mnt/c/Adrianov/Projects/trash-detector/Littering--8/test/images/video_7_26_jpg.rf.89f65d0712d974c897cbc4b22df33b16.jpg: 256x416 3 Persons, 1 Trash, 16.2ms\n",
      "Speed: 2.1ms preprocess, 16.2ms inference, 1.3ms postprocess per image at shape (1, 3, 256, 416)\n"
     ]
    },
    {
     "name": "stderr",
     "output_type": "stream",
     "text": [
      " 82%|████████████████████████████████████████████████████████▊            | 1014/1232 [01:46<00:19, 11.02it/s]"
     ]
    },
    {
     "name": "stdout",
     "output_type": "stream",
     "text": [
      "\n",
      "image 1/1 /mnt/c/Adrianov/Projects/trash-detector/Littering--8/test/images/video_7_26_jpg.rf.b870fd498664285b81d40034375f03af.jpg: 256x416 2 Persons, 19.6ms\n",
      "Speed: 1.9ms preprocess, 19.6ms inference, 2.5ms postprocess per image at shape (1, 3, 256, 416)\n",
      "\n",
      "image 1/1 /mnt/c/Adrianov/Projects/trash-detector/Littering--8/test/images/video_7_26_jpg.rf.c6d2274011fca34f4e40c5a8d664b7f0.jpg: 256x416 2 Persons, 12.9ms\n",
      "Speed: 2.2ms preprocess, 12.9ms inference, 3.8ms postprocess per image at shape (1, 3, 256, 416)\n"
     ]
    },
    {
     "name": "stderr",
     "output_type": "stream",
     "text": [
      " 82%|████████████████████████████████████████████████████████▉            | 1016/1232 [01:47<00:19, 11.10it/s]"
     ]
    },
    {
     "name": "stdout",
     "output_type": "stream",
     "text": [
      "\n",
      "image 1/1 /mnt/c/Adrianov/Projects/trash-detector/Littering--8/test/images/video_7_27_jpg.rf.3a299a9fcebd47361cbe0ae99ebf1783.jpg: 256x416 2 Persons, 20.0ms\n",
      "Speed: 2.3ms preprocess, 20.0ms inference, 2.7ms postprocess per image at shape (1, 3, 256, 416)\n",
      "\n",
      "image 1/1 /mnt/c/Adrianov/Projects/trash-detector/Littering--8/test/images/video_7_27_jpg.rf.e49f3ad750a03b9cb619088f5b473c43.jpg: 256x416 2 Persons, 1 Trash, 18.0ms\n",
      "Speed: 2.0ms preprocess, 18.0ms inference, 2.5ms postprocess per image at shape (1, 3, 256, 416)\n"
     ]
    },
    {
     "name": "stderr",
     "output_type": "stream",
     "text": [
      " 83%|█████████████████████████████████████████████████████████            | 1018/1232 [01:47<00:19, 11.21it/s]"
     ]
    },
    {
     "name": "stdout",
     "output_type": "stream",
     "text": [
      "\n",
      "image 1/1 /mnt/c/Adrianov/Projects/trash-detector/Littering--8/test/images/video_7_27_jpg.rf.ed3b045cd1e4bafbcf88e0bdeadd7e0d.jpg: 256x416 2 Persons, 14.4ms\n",
      "Speed: 3.4ms preprocess, 14.4ms inference, 2.9ms postprocess per image at shape (1, 3, 256, 416)\n",
      "\n",
      "image 1/1 /mnt/c/Adrianov/Projects/trash-detector/Littering--8/test/images/video_7_28_jpg.rf.111e4e86f139a6043da10ebf437cc2ae.jpg: 256x416 2 Persons, 12.8ms\n",
      "Speed: 2.9ms preprocess, 12.8ms inference, 1.4ms postprocess per image at shape (1, 3, 256, 416)\n"
     ]
    },
    {
     "name": "stderr",
     "output_type": "stream",
     "text": [
      " 83%|█████████████████████████████████████████████████████████▏           | 1020/1232 [01:47<00:19, 10.91it/s]"
     ]
    },
    {
     "name": "stdout",
     "output_type": "stream",
     "text": [
      "\n",
      "image 1/1 /mnt/c/Adrianov/Projects/trash-detector/Littering--8/test/images/video_7_28_jpg.rf.66c86654714e9249b039423a4a049bcb.jpg: 256x416 2 Persons, 12.9ms\n",
      "Speed: 2.1ms preprocess, 12.9ms inference, 1.8ms postprocess per image at shape (1, 3, 256, 416)\n",
      "\n",
      "image 1/1 /mnt/c/Adrianov/Projects/trash-detector/Littering--8/test/images/video_7_28_jpg.rf.93826efad9703ae87e5ed61d880c229a.jpg: 256x416 2 Persons, 13.6ms\n",
      "Speed: 1.9ms preprocess, 13.6ms inference, 1.6ms postprocess per image at shape (1, 3, 256, 416)\n"
     ]
    },
    {
     "name": "stderr",
     "output_type": "stream",
     "text": [
      " 83%|█████████████████████████████████████████████████████████▏           | 1022/1232 [01:47<00:18, 11.08it/s]"
     ]
    },
    {
     "name": "stdout",
     "output_type": "stream",
     "text": [
      "\n",
      "image 1/1 /mnt/c/Adrianov/Projects/trash-detector/Littering--8/test/images/video_7_29_jpg.rf.7dcc1a1b2cadb8ef3dd6b5b43b26b289.jpg: 256x416 2 Persons, 13.1ms\n",
      "Speed: 1.9ms preprocess, 13.1ms inference, 1.6ms postprocess per image at shape (1, 3, 256, 416)\n",
      "\n",
      "image 1/1 /mnt/c/Adrianov/Projects/trash-detector/Littering--8/test/images/video_7_29_jpg.rf.945b35cfa12d0fe5a57970ef50906b17.jpg: 256x416 2 Persons, 12.9ms\n",
      "Speed: 2.3ms preprocess, 12.9ms inference, 2.4ms postprocess per image at shape (1, 3, 256, 416)\n"
     ]
    },
    {
     "name": "stderr",
     "output_type": "stream",
     "text": [
      " 83%|█████████████████████████████████████████████████████████▎           | 1024/1232 [01:47<00:18, 11.39it/s]"
     ]
    },
    {
     "name": "stdout",
     "output_type": "stream",
     "text": [
      "\n",
      "image 1/1 /mnt/c/Adrianov/Projects/trash-detector/Littering--8/test/images/video_7_29_jpg.rf.ce169fb590136060eddb026132a74a16.jpg: 256x416 2 Persons, 12.8ms\n",
      "Speed: 2.2ms preprocess, 12.8ms inference, 3.1ms postprocess per image at shape (1, 3, 256, 416)\n",
      "\n",
      "image 1/1 /mnt/c/Adrianov/Projects/trash-detector/Littering--8/test/images/video_7_2_jpg.rf.6223fd11d60c86b39cd1db009088ad39.jpg: 256x416 2 Persons, 13.2ms\n",
      "Speed: 2.2ms preprocess, 13.2ms inference, 2.6ms postprocess per image at shape (1, 3, 256, 416)\n"
     ]
    },
    {
     "name": "stderr",
     "output_type": "stream",
     "text": [
      " 83%|█████████████████████████████████████████████████████████▍           | 1026/1232 [01:47<00:17, 11.62it/s]"
     ]
    },
    {
     "name": "stdout",
     "output_type": "stream",
     "text": [
      "\n",
      "image 1/1 /mnt/c/Adrianov/Projects/trash-detector/Littering--8/test/images/video_7_2_jpg.rf.b4697d79a5a6846714ead99d3ac147be.jpg: 256x416 3 Persons, 12.9ms\n",
      "Speed: 2.8ms preprocess, 12.9ms inference, 2.1ms postprocess per image at shape (1, 3, 256, 416)\n",
      "\n",
      "image 1/1 /mnt/c/Adrianov/Projects/trash-detector/Littering--8/test/images/video_7_2_jpg.rf.df4cf4b8659c3f09074b86ad3591ec8e.jpg: 256x416 2 Persons, 13.3ms\n",
      "Speed: 2.0ms preprocess, 13.3ms inference, 1.5ms postprocess per image at shape (1, 3, 256, 416)\n"
     ]
    },
    {
     "name": "stderr",
     "output_type": "stream",
     "text": [
      " 83%|█████████████████████████████████████████████████████████▌           | 1028/1232 [01:48<00:17, 11.92it/s]"
     ]
    },
    {
     "name": "stdout",
     "output_type": "stream",
     "text": [
      "\n",
      "image 1/1 /mnt/c/Adrianov/Projects/trash-detector/Littering--8/test/images/video_7_30_jpg.rf.05b31cf168f04b9e6c2d26a19df1816f.jpg: 256x416 2 Persons, 13.0ms\n",
      "Speed: 2.1ms preprocess, 13.0ms inference, 11.7ms postprocess per image at shape (1, 3, 256, 416)\n",
      "\n",
      "image 1/1 /mnt/c/Adrianov/Projects/trash-detector/Littering--8/test/images/video_7_30_jpg.rf.25bd12b7591eb98ee30330565f4ff9a7.jpg: 256x416 2 Persons, 18.9ms\n",
      "Speed: 1.9ms preprocess, 18.9ms inference, 2.5ms postprocess per image at shape (1, 3, 256, 416)\n"
     ]
    },
    {
     "name": "stderr",
     "output_type": "stream",
     "text": [
      " 84%|█████████████████████████████████████████████████████████▋           | 1030/1232 [01:48<00:18, 10.79it/s]"
     ]
    },
    {
     "name": "stdout",
     "output_type": "stream",
     "text": [
      "\n",
      "image 1/1 /mnt/c/Adrianov/Projects/trash-detector/Littering--8/test/images/video_7_30_jpg.rf.8695c179c6fdb7ce84462302d6ce6819.jpg: 256x416 2 Persons, 13.2ms\n",
      "Speed: 5.0ms preprocess, 13.2ms inference, 1.5ms postprocess per image at shape (1, 3, 256, 416)\n",
      "\n",
      "image 1/1 /mnt/c/Adrianov/Projects/trash-detector/Littering--8/test/images/video_7_3_jpg.rf.2cddd4560d8df23386fed2cdeffa87b3.jpg: 256x416 3 Persons, 20.1ms\n",
      "Speed: 2.2ms preprocess, 20.1ms inference, 2.6ms postprocess per image at shape (1, 3, 256, 416)\n"
     ]
    },
    {
     "name": "stderr",
     "output_type": "stream",
     "text": [
      " 84%|█████████████████████████████████████████████████████████▊           | 1032/1232 [01:48<00:23,  8.47it/s]"
     ]
    },
    {
     "name": "stdout",
     "output_type": "stream",
     "text": [
      "\n",
      "image 1/1 /mnt/c/Adrianov/Projects/trash-detector/Littering--8/test/images/video_7_3_jpg.rf.b6b38117e597843f53aef9e27f6e4af6.jpg: 256x416 3 Persons, 12.9ms\n",
      "Speed: 1.7ms preprocess, 12.9ms inference, 1.7ms postprocess per image at shape (1, 3, 256, 416)\n"
     ]
    },
    {
     "name": "stderr",
     "output_type": "stream",
     "text": [
      " 84%|█████████████████████████████████████████████████████████▊           | 1033/1232 [01:48<00:22,  8.68it/s]"
     ]
    },
    {
     "name": "stdout",
     "output_type": "stream",
     "text": [
      "\n",
      "image 1/1 /mnt/c/Adrianov/Projects/trash-detector/Littering--8/test/images/video_7_3_jpg.rf.fe430b5080cb569a7ffb3465b3aa40cd.jpg: 256x416 2 Persons, 12.9ms\n",
      "Speed: 2.1ms preprocess, 12.9ms inference, 1.4ms postprocess per image at shape (1, 3, 256, 416)\n",
      "\n",
      "image 1/1 /mnt/c/Adrianov/Projects/trash-detector/Littering--8/test/images/video_7_4_jpg.rf.3d52c051a89e18de43dc0381068c2b4e.jpg: 256x416 2 Persons, 12.8ms\n",
      "Speed: 2.2ms preprocess, 12.8ms inference, 1.6ms postprocess per image at shape (1, 3, 256, 416)\n"
     ]
    },
    {
     "name": "stderr",
     "output_type": "stream",
     "text": [
      " 84%|█████████████████████████████████████████████████████████▉           | 1035/1232 [01:48<00:20,  9.54it/s]"
     ]
    },
    {
     "name": "stdout",
     "output_type": "stream",
     "text": [
      "\n",
      "image 1/1 /mnt/c/Adrianov/Projects/trash-detector/Littering--8/test/images/video_7_4_jpg.rf.6a832467fb4222c92fd845da1ced00ca.jpg: 256x416 2 Persons, 12.8ms\n",
      "Speed: 1.7ms preprocess, 12.8ms inference, 1.8ms postprocess per image at shape (1, 3, 256, 416)\n",
      "\n",
      "image 1/1 /mnt/c/Adrianov/Projects/trash-detector/Littering--8/test/images/video_7_4_jpg.rf.951f514f619dbd1f2009e8ba196e825e.jpg: 256x416 4 Persons, 15.8ms\n",
      "Speed: 1.7ms preprocess, 15.8ms inference, 2.0ms postprocess per image at shape (1, 3, 256, 416)\n"
     ]
    },
    {
     "name": "stderr",
     "output_type": "stream",
     "text": [
      " 84%|██████████████████████████████████████████████████████████           | 1037/1232 [01:49<00:19, 10.15it/s]"
     ]
    },
    {
     "name": "stdout",
     "output_type": "stream",
     "text": [
      "\n",
      "image 1/1 /mnt/c/Adrianov/Projects/trash-detector/Littering--8/test/images/video_7_5_jpg.rf.398d8434bc7148700db6adc26639b38b.jpg: 256x416 2 Persons, 13.0ms\n",
      "Speed: 2.1ms preprocess, 13.0ms inference, 1.6ms postprocess per image at shape (1, 3, 256, 416)\n",
      "\n",
      "image 1/1 /mnt/c/Adrianov/Projects/trash-detector/Littering--8/test/images/video_7_5_jpg.rf.5061a46de63fd4c94ffd942bfb68c378.jpg: 256x416 2 Persons, 12.9ms\n",
      "Speed: 2.1ms preprocess, 12.9ms inference, 1.7ms postprocess per image at shape (1, 3, 256, 416)\n"
     ]
    },
    {
     "name": "stderr",
     "output_type": "stream",
     "text": [
      " 84%|██████████████████████████████████████████████████████████▏          | 1039/1232 [01:49<00:18, 10.62it/s]"
     ]
    },
    {
     "name": "stdout",
     "output_type": "stream",
     "text": [
      "\n",
      "image 1/1 /mnt/c/Adrianov/Projects/trash-detector/Littering--8/test/images/video_7_5_jpg.rf.c6839630a8d3be0e0064af2899f08e9c.jpg: 256x416 2 Persons, 20.4ms\n",
      "Speed: 2.2ms preprocess, 20.4ms inference, 3.6ms postprocess per image at shape (1, 3, 256, 416)\n",
      "\n",
      "image 1/1 /mnt/c/Adrianov/Projects/trash-detector/Littering--8/test/images/video_7_6_jpg.rf.04f89a7d3aee948288444ab80b7b24fc.jpg: 256x416 2 Persons, 13.1ms\n",
      "Speed: 2.1ms preprocess, 13.1ms inference, 1.7ms postprocess per image at shape (1, 3, 256, 416)\n"
     ]
    },
    {
     "name": "stderr",
     "output_type": "stream",
     "text": [
      " 84%|██████████████████████████████████████████████████████████▎          | 1041/1232 [01:49<00:19,  9.88it/s]"
     ]
    },
    {
     "name": "stdout",
     "output_type": "stream",
     "text": [
      "\n",
      "image 1/1 /mnt/c/Adrianov/Projects/trash-detector/Littering--8/test/images/video_7_6_jpg.rf.bdf0bd367347cba5c3310966c60e464e.jpg: 256x416 3 Persons, 12.9ms\n",
      "Speed: 2.2ms preprocess, 12.9ms inference, 1.7ms postprocess per image at shape (1, 3, 256, 416)\n",
      "\n",
      "image 1/1 /mnt/c/Adrianov/Projects/trash-detector/Littering--8/test/images/video_7_6_jpg.rf.ced688d146dfd74166d81e31e4f2d1bb.jpg: 256x416 2 Persons, 20.6ms\n",
      "Speed: 3.6ms preprocess, 20.6ms inference, 2.8ms postprocess per image at shape (1, 3, 256, 416)\n"
     ]
    },
    {
     "name": "stderr",
     "output_type": "stream",
     "text": [
      " 85%|██████████████████████████████████████████████████████████▍          | 1043/1232 [01:49<00:23,  8.20it/s]"
     ]
    },
    {
     "name": "stdout",
     "output_type": "stream",
     "text": [
      "\n",
      "image 1/1 /mnt/c/Adrianov/Projects/trash-detector/Littering--8/test/images/video_7_7_jpg.rf.2503b1980e2ff91cf9825af11fa11152.jpg: 256x416 2 Persons, 12.8ms\n",
      "Speed: 2.1ms preprocess, 12.8ms inference, 1.9ms postprocess per image at shape (1, 3, 256, 416)\n",
      "\n",
      "image 1/1 /mnt/c/Adrianov/Projects/trash-detector/Littering--8/test/images/video_7_7_jpg.rf.43eb0324f9445897a9ee5c85219cbe7c.jpg: 256x416 2 Persons, 16.5ms\n",
      "Speed: 2.3ms preprocess, 16.5ms inference, 2.6ms postprocess per image at shape (1, 3, 256, 416)\n"
     ]
    },
    {
     "name": "stderr",
     "output_type": "stream",
     "text": [
      " 85%|██████████████████████████████████████████████████████████▌          | 1045/1232 [01:50<00:20,  9.09it/s]"
     ]
    },
    {
     "name": "stdout",
     "output_type": "stream",
     "text": [
      "\n",
      "image 1/1 /mnt/c/Adrianov/Projects/trash-detector/Littering--8/test/images/video_7_7_jpg.rf.fac9f2cc927b19f00d6dc942690a8d68.jpg: 256x416 2 Persons, 18.2ms\n",
      "Speed: 1.8ms preprocess, 18.2ms inference, 1.8ms postprocess per image at shape (1, 3, 256, 416)\n",
      "\n",
      "image 1/1 /mnt/c/Adrianov/Projects/trash-detector/Littering--8/test/images/video_7_8_jpg.rf.5ab1efb4ad704ae2644f20cea80781d8.jpg: 256x416 2 Persons, 12.9ms\n",
      "Speed: 2.3ms preprocess, 12.9ms inference, 1.7ms postprocess per image at shape (1, 3, 256, 416)\n"
     ]
    },
    {
     "name": "stderr",
     "output_type": "stream",
     "text": [
      " 85%|██████████████████████████████████████████████████████████▋          | 1047/1232 [01:50<00:19,  9.65it/s]"
     ]
    },
    {
     "name": "stdout",
     "output_type": "stream",
     "text": [
      "\n",
      "image 1/1 /mnt/c/Adrianov/Projects/trash-detector/Littering--8/test/images/video_7_8_jpg.rf.69ac97ace3705564b6b43a7c8aa8f331.jpg: 256x416 2 Persons, 13.0ms\n",
      "Speed: 1.9ms preprocess, 13.0ms inference, 1.8ms postprocess per image at shape (1, 3, 256, 416)\n",
      "\n",
      "image 1/1 /mnt/c/Adrianov/Projects/trash-detector/Littering--8/test/images/video_7_8_jpg.rf.d34221df6005cc59f05184781908b2f9.jpg: 256x416 2 Persons, 12.8ms\n",
      "Speed: 1.9ms preprocess, 12.8ms inference, 1.4ms postprocess per image at shape (1, 3, 256, 416)\n"
     ]
    },
    {
     "name": "stderr",
     "output_type": "stream",
     "text": [
      " 85%|██████████████████████████████████████████████████████████▊          | 1049/1232 [01:50<00:17, 10.20it/s]"
     ]
    },
    {
     "name": "stdout",
     "output_type": "stream",
     "text": [
      "\n",
      "image 1/1 /mnt/c/Adrianov/Projects/trash-detector/Littering--8/test/images/video_7_9_jpg.rf.09185bfd52fe80729db89b7e38d8045d.jpg: 256x416 2 Persons, 12.9ms\n",
      "Speed: 2.3ms preprocess, 12.9ms inference, 2.5ms postprocess per image at shape (1, 3, 256, 416)\n",
      "\n",
      "image 1/1 /mnt/c/Adrianov/Projects/trash-detector/Littering--8/test/images/video_7_9_jpg.rf.78621aa52ffd60709f45069443b10af7.jpg: 256x416 3 Persons, 18.1ms\n",
      "Speed: 1.8ms preprocess, 18.1ms inference, 3.2ms postprocess per image at shape (1, 3, 256, 416)\n"
     ]
    },
    {
     "name": "stderr",
     "output_type": "stream",
     "text": [
      " 85%|██████████████████████████████████████████████████████████▊          | 1051/1232 [01:50<00:17, 10.43it/s]"
     ]
    },
    {
     "name": "stdout",
     "output_type": "stream",
     "text": [
      "\n",
      "image 1/1 /mnt/c/Adrianov/Projects/trash-detector/Littering--8/test/images/video_7_9_jpg.rf.a67e6c7e4ed7c6033fc31a5c7089f890.jpg: 256x416 2 Persons, 15.5ms\n",
      "Speed: 1.9ms preprocess, 15.5ms inference, 1.8ms postprocess per image at shape (1, 3, 256, 416)\n",
      "\n",
      "image 1/1 /mnt/c/Adrianov/Projects/trash-detector/Littering--8/test/images/video_8_10_jpg.rf.0fb0fc704be3b4010e3313ee89111772.jpg: 256x416 3 Persons, 13.3ms\n",
      "Speed: 2.0ms preprocess, 13.3ms inference, 1.5ms postprocess per image at shape (1, 3, 256, 416)\n"
     ]
    },
    {
     "name": "stderr",
     "output_type": "stream",
     "text": [
      " 85%|██████████████████████████████████████████████████████████▉          | 1053/1232 [01:50<00:16, 10.85it/s]"
     ]
    },
    {
     "name": "stdout",
     "output_type": "stream",
     "text": [
      "\n",
      "image 1/1 /mnt/c/Adrianov/Projects/trash-detector/Littering--8/test/images/video_8_10_jpg.rf.4a1e7ae654c9e802d9f2211aaeb2ad74.jpg: 256x416 2 Persons, 12.8ms\n",
      "Speed: 1.9ms preprocess, 12.8ms inference, 1.5ms postprocess per image at shape (1, 3, 256, 416)\n",
      "\n",
      "image 1/1 /mnt/c/Adrianov/Projects/trash-detector/Littering--8/test/images/video_8_10_jpg.rf.574811bb2bb2637f3d4ee46159108900.jpg: 256x416 2 Persons, 1 Trash, 15.3ms\n",
      "Speed: 1.9ms preprocess, 15.3ms inference, 1.5ms postprocess per image at shape (1, 3, 256, 416)\n"
     ]
    },
    {
     "name": "stderr",
     "output_type": "stream",
     "text": [
      " 86%|███████████████████████████████████████████████████████████          | 1055/1232 [01:50<00:16, 10.96it/s]"
     ]
    },
    {
     "name": "stdout",
     "output_type": "stream",
     "text": [
      "\n",
      "image 1/1 /mnt/c/Adrianov/Projects/trash-detector/Littering--8/test/images/video_8_11_jpg.rf.4b0974664d63f9e87cb180051413438d.jpg: 256x416 2 Persons, 13.0ms\n",
      "Speed: 1.9ms preprocess, 13.0ms inference, 2.5ms postprocess per image at shape (1, 3, 256, 416)\n",
      "\n",
      "image 1/1 /mnt/c/Adrianov/Projects/trash-detector/Littering--8/test/images/video_8_11_jpg.rf.a8802b6fda19b5858b04c3fed4d957e5.jpg: 256x416 2 Persons, 14.3ms\n",
      "Speed: 2.0ms preprocess, 14.3ms inference, 2.5ms postprocess per image at shape (1, 3, 256, 416)\n"
     ]
    },
    {
     "name": "stderr",
     "output_type": "stream",
     "text": [
      " 86%|███████████████████████████████████████████████████████████▏         | 1057/1232 [01:51<00:15, 11.01it/s]"
     ]
    },
    {
     "name": "stdout",
     "output_type": "stream",
     "text": [
      "\n",
      "image 1/1 /mnt/c/Adrianov/Projects/trash-detector/Littering--8/test/images/video_8_11_jpg.rf.c2426dd01668de4d5c9c6d39a05f64c3.jpg: 256x416 3 Persons, 13.2ms\n",
      "Speed: 2.1ms preprocess, 13.2ms inference, 1.3ms postprocess per image at shape (1, 3, 256, 416)\n",
      "\n",
      "image 1/1 /mnt/c/Adrianov/Projects/trash-detector/Littering--8/test/images/video_8_12_jpg.rf.1161928b294fea88b7fdeb9321894322.jpg: 256x416 2 Persons, 16.7ms\n",
      "Speed: 1.9ms preprocess, 16.7ms inference, 1.4ms postprocess per image at shape (1, 3, 256, 416)\n"
     ]
    },
    {
     "name": "stderr",
     "output_type": "stream",
     "text": [
      " 86%|███████████████████████████████████████████████████████████▎         | 1059/1232 [01:51<00:15, 11.25it/s]"
     ]
    },
    {
     "name": "stdout",
     "output_type": "stream",
     "text": [
      "\n",
      "image 1/1 /mnt/c/Adrianov/Projects/trash-detector/Littering--8/test/images/video_8_12_jpg.rf.a012cebacdacb3954bc8f8dc59d8a11e.jpg: 256x416 3 Persons, 13.1ms\n",
      "Speed: 2.2ms preprocess, 13.1ms inference, 1.8ms postprocess per image at shape (1, 3, 256, 416)\n",
      "\n",
      "image 1/1 /mnt/c/Adrianov/Projects/trash-detector/Littering--8/test/images/video_8_12_jpg.rf.eb2ca6ef0e164cc0f48e69a68a44a8dc.jpg: 256x416 2 Persons, 1 Trash, 18.8ms\n",
      "Speed: 1.8ms preprocess, 18.8ms inference, 2.5ms postprocess per image at shape (1, 3, 256, 416)\n"
     ]
    },
    {
     "name": "stderr",
     "output_type": "stream",
     "text": [
      " 86%|███████████████████████████████████████████████████████████▍         | 1061/1232 [01:51<00:15, 11.25it/s]"
     ]
    },
    {
     "name": "stdout",
     "output_type": "stream",
     "text": [
      "\n",
      "image 1/1 /mnt/c/Adrianov/Projects/trash-detector/Littering--8/test/images/video_8_13_jpg.rf.15e8a0bb1888f5f88505fc21f8b5f2a6.jpg: 256x416 2 Persons, 12.8ms\n",
      "Speed: 1.6ms preprocess, 12.8ms inference, 2.7ms postprocess per image at shape (1, 3, 256, 416)\n",
      "\n",
      "image 1/1 /mnt/c/Adrianov/Projects/trash-detector/Littering--8/test/images/video_8_13_jpg.rf.8deeab41c4706a370161d1fbba34af63.jpg: 256x416 3 Persons, 12.9ms\n",
      "Speed: 2.2ms preprocess, 12.9ms inference, 3.1ms postprocess per image at shape (1, 3, 256, 416)\n"
     ]
    },
    {
     "name": "stderr",
     "output_type": "stream",
     "text": [
      " 86%|███████████████████████████████████████████████████████████▌         | 1063/1232 [01:51<00:14, 11.56it/s]"
     ]
    },
    {
     "name": "stdout",
     "output_type": "stream",
     "text": [
      "\n",
      "image 1/1 /mnt/c/Adrianov/Projects/trash-detector/Littering--8/test/images/video_8_13_jpg.rf.afccae4064b4ec387c8449b1ed948e13.jpg: 256x416 2 Persons, 1 Trash, 20.1ms\n",
      "Speed: 2.2ms preprocess, 20.1ms inference, 2.2ms postprocess per image at shape (1, 3, 256, 416)\n",
      "\n",
      "image 1/1 /mnt/c/Adrianov/Projects/trash-detector/Littering--8/test/images/video_8_14_jpg.rf.1189fab3979a688205a7e48886781fd4.jpg: 256x416 2 Persons, 14.5ms\n",
      "Speed: 2.2ms preprocess, 14.5ms inference, 1.8ms postprocess per image at shape (1, 3, 256, 416)\n"
     ]
    },
    {
     "name": "stderr",
     "output_type": "stream",
     "text": [
      " 86%|███████████████████████████████████████████████████████████▋         | 1065/1232 [01:51<00:15, 11.06it/s]"
     ]
    },
    {
     "name": "stdout",
     "output_type": "stream",
     "text": [
      "\n",
      "image 1/1 /mnt/c/Adrianov/Projects/trash-detector/Littering--8/test/images/video_8_14_jpg.rf.b36a19cfd5e53a80d9dbf9c0b54043e6.jpg: 256x416 2 Persons, 1 Trash, 12.9ms\n",
      "Speed: 2.5ms preprocess, 12.9ms inference, 2.6ms postprocess per image at shape (1, 3, 256, 416)\n",
      "\n",
      "image 1/1 /mnt/c/Adrianov/Projects/trash-detector/Littering--8/test/images/video_8_14_jpg.rf.f6a4129d969766db2fd865156bcf179a.jpg: 256x416 3 Persons, 17.6ms\n",
      "Speed: 2.4ms preprocess, 17.6ms inference, 2.4ms postprocess per image at shape (1, 3, 256, 416)\n"
     ]
    },
    {
     "name": "stderr",
     "output_type": "stream",
     "text": [
      " 87%|███████████████████████████████████████████████████████████▊         | 1067/1232 [01:52<00:18,  8.86it/s]"
     ]
    },
    {
     "name": "stdout",
     "output_type": "stream",
     "text": [
      "\n",
      "image 1/1 /mnt/c/Adrianov/Projects/trash-detector/Littering--8/test/images/video_8_15_jpg.rf.24a873b953dfded47e4f502948b94480.jpg: 256x416 2 Persons, 13.0ms\n",
      "Speed: 1.6ms preprocess, 13.0ms inference, 1.9ms postprocess per image at shape (1, 3, 256, 416)\n"
     ]
    },
    {
     "name": "stderr",
     "output_type": "stream",
     "text": [
      " 87%|███████████████████████████████████████████████████████████▊         | 1068/1232 [01:52<00:18,  8.99it/s]"
     ]
    },
    {
     "name": "stdout",
     "output_type": "stream",
     "text": [
      "\n",
      "image 1/1 /mnt/c/Adrianov/Projects/trash-detector/Littering--8/test/images/video_8_15_jpg.rf.76dcc3667d62cf7a799c3b77c2482379.jpg: 256x416 3 Persons, 13.8ms\n",
      "Speed: 4.4ms preprocess, 13.8ms inference, 1.4ms postprocess per image at shape (1, 3, 256, 416)\n",
      "\n",
      "image 1/1 /mnt/c/Adrianov/Projects/trash-detector/Littering--8/test/images/video_8_15_jpg.rf.d4377e27aec5d00e90ad75ecacc5be19.jpg: 256x416 2 Persons, 13.0ms\n",
      "Speed: 1.9ms preprocess, 13.0ms inference, 3.0ms postprocess per image at shape (1, 3, 256, 416)\n"
     ]
    },
    {
     "name": "stderr",
     "output_type": "stream",
     "text": [
      " 87%|███████████████████████████████████████████████████████████▉         | 1070/1232 [01:52<00:16,  9.65it/s]"
     ]
    },
    {
     "name": "stdout",
     "output_type": "stream",
     "text": [
      "\n",
      "image 1/1 /mnt/c/Adrianov/Projects/trash-detector/Littering--8/test/images/video_8_16_jpg.rf.2c83c99461fe0db7306099c14b5d52b9.jpg: 256x416 2 Persons, 12.8ms\n",
      "Speed: 2.0ms preprocess, 12.8ms inference, 1.6ms postprocess per image at shape (1, 3, 256, 416)\n",
      "\n",
      "image 1/1 /mnt/c/Adrianov/Projects/trash-detector/Littering--8/test/images/video_8_16_jpg.rf.8c66173614f4ab9bc747e8b260812d25.jpg: 256x416 2 Persons, 1 Trash, 13.0ms\n",
      "Speed: 2.9ms preprocess, 13.0ms inference, 1.4ms postprocess per image at shape (1, 3, 256, 416)\n"
     ]
    },
    {
     "name": "stderr",
     "output_type": "stream",
     "text": [
      " 87%|████████████████████████████████████████████████████████████         | 1072/1232 [01:52<00:18,  8.88it/s]"
     ]
    },
    {
     "name": "stdout",
     "output_type": "stream",
     "text": [
      "\n",
      "image 1/1 /mnt/c/Adrianov/Projects/trash-detector/Littering--8/test/images/video_8_16_jpg.rf.93fa6dd1aeae0aa5f275fdc342591a6e.jpg: 256x416 3 Persons, 35.8ms\n",
      "Speed: 5.3ms preprocess, 35.8ms inference, 7.8ms postprocess per image at shape (1, 3, 256, 416)\n"
     ]
    },
    {
     "name": "stderr",
     "output_type": "stream",
     "text": [
      " 87%|████████████████████████████████████████████████████████████         | 1073/1232 [01:52<00:20,  7.81it/s]"
     ]
    },
    {
     "name": "stdout",
     "output_type": "stream",
     "text": [
      "\n",
      "image 1/1 /mnt/c/Adrianov/Projects/trash-detector/Littering--8/test/images/video_8_17_jpg.rf.48419920d3c5823e9b2e452e59f972d9.jpg: 256x416 3 Persons, 13.4ms\n",
      "Speed: 1.8ms preprocess, 13.4ms inference, 2.1ms postprocess per image at shape (1, 3, 256, 416)\n",
      "\n",
      "image 1/1 /mnt/c/Adrianov/Projects/trash-detector/Littering--8/test/images/video_8_17_jpg.rf.72928fc7555b192f53d671bc447365cd.jpg: 256x416 2 Persons, 1 Trash, 12.8ms\n",
      "Speed: 1.9ms preprocess, 12.8ms inference, 2.6ms postprocess per image at shape (1, 3, 256, 416)\n"
     ]
    },
    {
     "name": "stderr",
     "output_type": "stream",
     "text": [
      " 87%|████████████████████████████████████████████████████████████▏        | 1075/1232 [01:53<00:17,  8.89it/s]"
     ]
    },
    {
     "name": "stdout",
     "output_type": "stream",
     "text": [
      "\n",
      "image 1/1 /mnt/c/Adrianov/Projects/trash-detector/Littering--8/test/images/video_8_17_jpg.rf.c67e1a4328e2311bf38a08323902530d.jpg: 256x416 3 Persons, 12.9ms\n",
      "Speed: 1.6ms preprocess, 12.9ms inference, 2.7ms postprocess per image at shape (1, 3, 256, 416)\n",
      "\n",
      "image 1/1 /mnt/c/Adrianov/Projects/trash-detector/Littering--8/test/images/video_8_18_jpg.rf.06d54906bd702b70d2df2c455feaf1fc.jpg: 256x416 3 Persons, 15.5ms\n",
      "Speed: 2.1ms preprocess, 15.5ms inference, 1.7ms postprocess per image at shape (1, 3, 256, 416)\n"
     ]
    },
    {
     "name": "stderr",
     "output_type": "stream",
     "text": [
      " 87%|████████████████████████████████████████████████████████████▎        | 1077/1232 [01:53<00:16,  9.42it/s]"
     ]
    },
    {
     "name": "stdout",
     "output_type": "stream",
     "text": [
      "\n",
      "image 1/1 /mnt/c/Adrianov/Projects/trash-detector/Littering--8/test/images/video_8_18_jpg.rf.6719dfc3ac0bc59d4422b7793530a71d.jpg: 256x416 2 Persons, 1 Trash, 13.9ms\n",
      "Speed: 2.2ms preprocess, 13.9ms inference, 1.6ms postprocess per image at shape (1, 3, 256, 416)\n"
     ]
    },
    {
     "name": "stderr",
     "output_type": "stream",
     "text": [
      " 88%|████████████████████████████████████████████████████████████▍        | 1078/1232 [01:53<00:16,  9.45it/s]"
     ]
    },
    {
     "name": "stdout",
     "output_type": "stream",
     "text": [
      "\n",
      "image 1/1 /mnt/c/Adrianov/Projects/trash-detector/Littering--8/test/images/video_8_18_jpg.rf.9c384eff869c40b8d0181ba9e2ad09d6.jpg: 256x416 2 Persons, 12.9ms\n",
      "Speed: 1.9ms preprocess, 12.9ms inference, 2.1ms postprocess per image at shape (1, 3, 256, 416)\n",
      "\n",
      "image 1/1 /mnt/c/Adrianov/Projects/trash-detector/Littering--8/test/images/video_8_19_jpg.rf.12cc2e0ee3f1738419fa7d0894c24a14.jpg: 256x416 2 Persons, 21.1ms\n",
      "Speed: 2.1ms preprocess, 21.1ms inference, 3.1ms postprocess per image at shape (1, 3, 256, 416)\n"
     ]
    },
    {
     "name": "stderr",
     "output_type": "stream",
     "text": [
      " 88%|████████████████████████████████████████████████████████████▍        | 1080/1232 [01:53<00:15,  9.87it/s]"
     ]
    },
    {
     "name": "stdout",
     "output_type": "stream",
     "text": [
      "\n",
      "image 1/1 /mnt/c/Adrianov/Projects/trash-detector/Littering--8/test/images/video_8_19_jpg.rf.bfa8d8530aece0c14417d868aab06ba7.jpg: 256x416 3 Persons, 12.9ms\n",
      "Speed: 2.0ms preprocess, 12.9ms inference, 1.6ms postprocess per image at shape (1, 3, 256, 416)\n"
     ]
    },
    {
     "name": "stderr",
     "output_type": "stream",
     "text": [
      " 88%|████████████████████████████████████████████████████████████▌        | 1081/1232 [01:53<00:16,  9.09it/s]"
     ]
    },
    {
     "name": "stdout",
     "output_type": "stream",
     "text": [
      "\n",
      "image 1/1 /mnt/c/Adrianov/Projects/trash-detector/Littering--8/test/images/video_8_19_jpg.rf.f44190636ea40aa7da7e123867f80abd.jpg: 256x416 2 Persons, 1 Trash, 16.1ms\n",
      "Speed: 3.1ms preprocess, 16.1ms inference, 2.1ms postprocess per image at shape (1, 3, 256, 416)\n"
     ]
    },
    {
     "name": "stderr",
     "output_type": "stream",
     "text": [
      " 88%|████████████████████████████████████████████████████████████▌        | 1082/1232 [01:53<00:17,  8.46it/s]"
     ]
    },
    {
     "name": "stdout",
     "output_type": "stream",
     "text": [
      "\n",
      "image 1/1 /mnt/c/Adrianov/Projects/trash-detector/Littering--8/test/images/video_8_1_jpg.rf.0e8176dad4bcb5d3db98816e1ddd5fc6.jpg: 256x416 2 Persons, 13.9ms\n",
      "Speed: 1.7ms preprocess, 13.9ms inference, 3.2ms postprocess per image at shape (1, 3, 256, 416)\n"
     ]
    },
    {
     "name": "stderr",
     "output_type": "stream",
     "text": [
      " 88%|████████████████████████████████████████████████████████████▋        | 1083/1232 [01:53<00:18,  8.11it/s]"
     ]
    },
    {
     "name": "stdout",
     "output_type": "stream",
     "text": [
      "\n",
      "image 1/1 /mnt/c/Adrianov/Projects/trash-detector/Littering--8/test/images/video_8_1_jpg.rf.aa80a82bfae0c221d733c238df6bf2d2.jpg: 256x416 2 Persons, 26.9ms\n",
      "Speed: 2.1ms preprocess, 26.9ms inference, 5.3ms postprocess per image at shape (1, 3, 256, 416)\n"
     ]
    },
    {
     "name": "stderr",
     "output_type": "stream",
     "text": [
      " 88%|████████████████████████████████████████████████████████████▋        | 1084/1232 [01:54<00:18,  7.83it/s]"
     ]
    },
    {
     "name": "stdout",
     "output_type": "stream",
     "text": [
      "\n",
      "image 1/1 /mnt/c/Adrianov/Projects/trash-detector/Littering--8/test/images/video_8_1_jpg.rf.bf7b319274579f6608fa1943f5c8dbc7.jpg: 256x416 2 Persons, 18.3ms\n",
      "Speed: 2.6ms preprocess, 18.3ms inference, 5.1ms postprocess per image at shape (1, 3, 256, 416)\n"
     ]
    },
    {
     "name": "stderr",
     "output_type": "stream",
     "text": [
      " 88%|████████████████████████████████████████████████████████████▊        | 1085/1232 [01:54<00:20,  7.21it/s]"
     ]
    },
    {
     "name": "stdout",
     "output_type": "stream",
     "text": [
      "\n",
      "image 1/1 /mnt/c/Adrianov/Projects/trash-detector/Littering--8/test/images/video_8_20_jpg.rf.31fd3ca353dc2139f3c010e08eca769f.jpg: 256x416 1 Person, 1 Trash, 17.9ms\n",
      "Speed: 2.7ms preprocess, 17.9ms inference, 4.6ms postprocess per image at shape (1, 3, 256, 416)\n"
     ]
    },
    {
     "name": "stderr",
     "output_type": "stream",
     "text": [
      " 88%|████████████████████████████████████████████████████████████▊        | 1086/1232 [01:54<00:20,  7.04it/s]"
     ]
    },
    {
     "name": "stdout",
     "output_type": "stream",
     "text": [
      "\n",
      "image 1/1 /mnt/c/Adrianov/Projects/trash-detector/Littering--8/test/images/video_8_20_jpg.rf.a5a4ba01d04539520409aed2bc9abc99.jpg: 256x416 2 Persons, 20.0ms\n",
      "Speed: 2.6ms preprocess, 20.0ms inference, 5.5ms postprocess per image at shape (1, 3, 256, 416)\n"
     ]
    },
    {
     "name": "stderr",
     "output_type": "stream",
     "text": [
      " 88%|████████████████████████████████████████████████████████████▉        | 1087/1232 [01:54<00:20,  7.01it/s]"
     ]
    },
    {
     "name": "stdout",
     "output_type": "stream",
     "text": [
      "\n",
      "image 1/1 /mnt/c/Adrianov/Projects/trash-detector/Littering--8/test/images/video_8_20_jpg.rf.e03679751e9acc18a164b42a49762f9f.jpg: 256x416 2 Persons, 16.3ms\n",
      "Speed: 2.9ms preprocess, 16.3ms inference, 2.1ms postprocess per image at shape (1, 3, 256, 416)\n"
     ]
    },
    {
     "name": "stderr",
     "output_type": "stream",
     "text": [
      " 88%|████████████████████████████████████████████████████████████▉        | 1088/1232 [01:54<00:20,  7.11it/s]"
     ]
    },
    {
     "name": "stdout",
     "output_type": "stream",
     "text": [
      "\n",
      "image 1/1 /mnt/c/Adrianov/Projects/trash-detector/Littering--8/test/images/video_8_21_jpg.rf.3c1bdbafe21e741d5eee8c44906d2fe5.jpg: 256x416 1 Person, 1 Trash, 13.4ms\n",
      "Speed: 3.0ms preprocess, 13.4ms inference, 1.6ms postprocess per image at shape (1, 3, 256, 416)\n"
     ]
    },
    {
     "name": "stderr",
     "output_type": "stream",
     "text": [
      " 88%|████████████████████████████████████████████████████████████▉        | 1089/1232 [01:54<00:19,  7.43it/s]"
     ]
    },
    {
     "name": "stdout",
     "output_type": "stream",
     "text": [
      "\n",
      "image 1/1 /mnt/c/Adrianov/Projects/trash-detector/Littering--8/test/images/video_8_21_jpg.rf.6097459ef8d66e47fb3143e8b4f80a5b.jpg: 256x416 2 Persons, 15.9ms\n",
      "Speed: 2.8ms preprocess, 15.9ms inference, 1.9ms postprocess per image at shape (1, 3, 256, 416)\n"
     ]
    },
    {
     "name": "stderr",
     "output_type": "stream",
     "text": [
      " 88%|█████████████████████████████████████████████████████████████        | 1090/1232 [01:54<00:18,  7.79it/s]"
     ]
    },
    {
     "name": "stdout",
     "output_type": "stream",
     "text": [
      "\n",
      "image 1/1 /mnt/c/Adrianov/Projects/trash-detector/Littering--8/test/images/video_8_21_jpg.rf.8f0c80b718a7abe89b3e6a0f7d682cb1.jpg: 256x416 2 Persons, 2 Trashs, 18.5ms\n",
      "Speed: 2.5ms preprocess, 18.5ms inference, 2.3ms postprocess per image at shape (1, 3, 256, 416)\n"
     ]
    },
    {
     "name": "stderr",
     "output_type": "stream",
     "text": [
      " 89%|█████████████████████████████████████████████████████████████        | 1091/1232 [01:55<00:18,  7.69it/s]"
     ]
    },
    {
     "name": "stdout",
     "output_type": "stream",
     "text": [
      "\n",
      "image 1/1 /mnt/c/Adrianov/Projects/trash-detector/Littering--8/test/images/video_8_22_jpg.rf.83e9ec40fb584cd89c6ad2233166bb08.jpg: 256x416 2 Persons, 13.3ms\n",
      "Speed: 2.7ms preprocess, 13.3ms inference, 2.2ms postprocess per image at shape (1, 3, 256, 416)\n"
     ]
    },
    {
     "name": "stderr",
     "output_type": "stream",
     "text": [
      " 89%|█████████████████████████████████████████████████████████████▏       | 1092/1232 [01:55<00:17,  8.09it/s]"
     ]
    },
    {
     "name": "stdout",
     "output_type": "stream",
     "text": [
      "\n",
      "image 1/1 /mnt/c/Adrianov/Projects/trash-detector/Littering--8/test/images/video_8_22_jpg.rf.aa8f28a930f13feb292f2e5a2689d2d4.jpg: 256x416 1 Person, 1 Trash, 14.5ms\n",
      "Speed: 1.9ms preprocess, 14.5ms inference, 1.9ms postprocess per image at shape (1, 3, 256, 416)\n"
     ]
    },
    {
     "name": "stderr",
     "output_type": "stream",
     "text": [
      " 89%|█████████████████████████████████████████████████████████████▏       | 1093/1232 [01:55<00:17,  8.16it/s]"
     ]
    },
    {
     "name": "stdout",
     "output_type": "stream",
     "text": [
      "\n",
      "image 1/1 /mnt/c/Adrianov/Projects/trash-detector/Littering--8/test/images/video_8_22_jpg.rf.ca92df12abd4b6b7a121cd8127d6d6c2.jpg: 256x416 2 Persons, 1 Trash, 14.2ms\n",
      "Speed: 2.4ms preprocess, 14.2ms inference, 1.9ms postprocess per image at shape (1, 3, 256, 416)\n"
     ]
    },
    {
     "name": "stderr",
     "output_type": "stream",
     "text": [
      " 89%|█████████████████████████████████████████████████████████████▎       | 1094/1232 [01:55<00:16,  8.14it/s]"
     ]
    },
    {
     "name": "stdout",
     "output_type": "stream",
     "text": [
      "\n",
      "image 1/1 /mnt/c/Adrianov/Projects/trash-detector/Littering--8/test/images/video_8_23_jpg.rf.6632c133ab2ced3cda04f6a95765159a.jpg: 256x416 2 Persons, 13.0ms\n",
      "Speed: 2.3ms preprocess, 13.0ms inference, 1.8ms postprocess per image at shape (1, 3, 256, 416)\n"
     ]
    },
    {
     "name": "stderr",
     "output_type": "stream",
     "text": [
      " 89%|█████████████████████████████████████████████████████████████▎       | 1095/1232 [01:55<00:16,  8.39it/s]"
     ]
    },
    {
     "name": "stdout",
     "output_type": "stream",
     "text": [
      "\n",
      "image 1/1 /mnt/c/Adrianov/Projects/trash-detector/Littering--8/test/images/video_8_23_jpg.rf.7be78111d55ea98b005df4eed016d843.jpg: 256x416 2 Persons, 1 Trash, 13.3ms\n",
      "Speed: 2.0ms preprocess, 13.3ms inference, 2.2ms postprocess per image at shape (1, 3, 256, 416)\n"
     ]
    },
    {
     "name": "stderr",
     "output_type": "stream",
     "text": [
      " 89%|█████████████████████████████████████████████████████████████▍       | 1096/1232 [01:55<00:18,  7.36it/s]"
     ]
    },
    {
     "name": "stdout",
     "output_type": "stream",
     "text": [
      "\n",
      "image 1/1 /mnt/c/Adrianov/Projects/trash-detector/Littering--8/test/images/video_8_23_jpg.rf.a627f2be7e8873a710f567a7abca1cba.jpg: 256x416 1 Person, 12.8ms\n",
      "Speed: 2.6ms preprocess, 12.8ms inference, 1.7ms postprocess per image at shape (1, 3, 256, 416)\n"
     ]
    },
    {
     "name": "stderr",
     "output_type": "stream",
     "text": [
      " 89%|█████████████████████████████████████████████████████████████▍       | 1097/1232 [01:55<00:19,  6.78it/s]"
     ]
    },
    {
     "name": "stdout",
     "output_type": "stream",
     "text": [
      "\n",
      "image 1/1 /mnt/c/Adrianov/Projects/trash-detector/Littering--8/test/images/video_8_24_jpg.rf.d8ac357f3488e66662d489fe7fac19f8.jpg: 256x416 2 Persons, 1 Trash, 17.4ms\n",
      "Speed: 2.5ms preprocess, 17.4ms inference, 2.5ms postprocess per image at shape (1, 3, 256, 416)\n"
     ]
    },
    {
     "name": "stderr",
     "output_type": "stream",
     "text": [
      " 89%|█████████████████████████████████████████████████████████████▍       | 1098/1232 [01:56<00:19,  6.75it/s]"
     ]
    },
    {
     "name": "stdout",
     "output_type": "stream",
     "text": [
      "\n",
      "image 1/1 /mnt/c/Adrianov/Projects/trash-detector/Littering--8/test/images/video_8_24_jpg.rf.f83aa665c853b770f9d863adbef679cb.jpg: 256x416 1 Person, 13.0ms\n",
      "Speed: 2.6ms preprocess, 13.0ms inference, 3.4ms postprocess per image at shape (1, 3, 256, 416)\n"
     ]
    },
    {
     "name": "stderr",
     "output_type": "stream",
     "text": [
      " 89%|█████████████████████████████████████████████████████████████▌       | 1099/1232 [01:56<00:18,  7.23it/s]"
     ]
    },
    {
     "name": "stdout",
     "output_type": "stream",
     "text": [
      "\n",
      "image 1/1 /mnt/c/Adrianov/Projects/trash-detector/Littering--8/test/images/video_8_24_jpg.rf.fa2ca505407c4b611141d1162a6fffc2.jpg: 256x416 1 Person, 19.6ms\n",
      "Speed: 2.3ms preprocess, 19.6ms inference, 2.7ms postprocess per image at shape (1, 3, 256, 416)\n"
     ]
    },
    {
     "name": "stderr",
     "output_type": "stream",
     "text": [
      " 89%|█████████████████████████████████████████████████████████████▌       | 1100/1232 [01:56<00:17,  7.55it/s]"
     ]
    },
    {
     "name": "stdout",
     "output_type": "stream",
     "text": [
      "\n",
      "image 1/1 /mnt/c/Adrianov/Projects/trash-detector/Littering--8/test/images/video_8_25_jpg.rf.014024bbca8e26dcbd4a238be95c0b6d.jpg: 256x416 1 Person, 12.9ms\n",
      "Speed: 2.0ms preprocess, 12.9ms inference, 1.4ms postprocess per image at shape (1, 3, 256, 416)\n"
     ]
    },
    {
     "name": "stderr",
     "output_type": "stream",
     "text": [
      " 89%|█████████████████████████████████████████████████████████████▋       | 1101/1232 [01:56<00:17,  7.34it/s]"
     ]
    },
    {
     "name": "stdout",
     "output_type": "stream",
     "text": [
      "\n",
      "image 1/1 /mnt/c/Adrianov/Projects/trash-detector/Littering--8/test/images/video_8_25_jpg.rf.446decddf237f065b14359c371fd1d36.jpg: 256x416 1 Person, 12.9ms\n",
      "Speed: 2.3ms preprocess, 12.9ms inference, 1.8ms postprocess per image at shape (1, 3, 256, 416)\n"
     ]
    },
    {
     "name": "stderr",
     "output_type": "stream",
     "text": [
      " 89%|█████████████████████████████████████████████████████████████▋       | 1102/1232 [01:56<00:18,  7.05it/s]"
     ]
    },
    {
     "name": "stdout",
     "output_type": "stream",
     "text": [
      "\n",
      "image 1/1 /mnt/c/Adrianov/Projects/trash-detector/Littering--8/test/images/video_8_25_jpg.rf.8b458eeef5c0dc4423c31645a97bfb08.jpg: 256x416 2 Persons, 12.9ms\n",
      "Speed: 1.8ms preprocess, 12.9ms inference, 2.0ms postprocess per image at shape (1, 3, 256, 416)\n"
     ]
    },
    {
     "name": "stderr",
     "output_type": "stream",
     "text": [
      " 90%|█████████████████████████████████████████████████████████████▊       | 1103/1232 [01:56<00:18,  6.84it/s]"
     ]
    },
    {
     "name": "stdout",
     "output_type": "stream",
     "text": [
      "\n",
      "image 1/1 /mnt/c/Adrianov/Projects/trash-detector/Littering--8/test/images/video_8_26_jpg.rf.599714cfd42a2d3703d97c5bd3d8b58e.jpg: 256x416 1 Person, 13.6ms\n",
      "Speed: 2.5ms preprocess, 13.6ms inference, 2.1ms postprocess per image at shape (1, 3, 256, 416)\n"
     ]
    },
    {
     "name": "stderr",
     "output_type": "stream",
     "text": [
      " 90%|█████████████████████████████████████████████████████████████▊       | 1104/1232 [01:56<00:18,  6.95it/s]"
     ]
    },
    {
     "name": "stdout",
     "output_type": "stream",
     "text": [
      "\n",
      "image 1/1 /mnt/c/Adrianov/Projects/trash-detector/Littering--8/test/images/video_8_26_jpg.rf.747cf186867a1f972f39c8f78265282b.jpg: 256x416 2 Persons, 13.0ms\n",
      "Speed: 2.1ms preprocess, 13.0ms inference, 1.9ms postprocess per image at shape (1, 3, 256, 416)\n"
     ]
    },
    {
     "name": "stderr",
     "output_type": "stream",
     "text": [
      " 90%|█████████████████████████████████████████████████████████████▉       | 1105/1232 [01:56<00:17,  7.40it/s]"
     ]
    },
    {
     "name": "stdout",
     "output_type": "stream",
     "text": [
      "\n",
      "image 1/1 /mnt/c/Adrianov/Projects/trash-detector/Littering--8/test/images/video_8_26_jpg.rf.f9f16389624ef90b45d40142a8b396e4.jpg: 256x416 2 Persons, 1 Trash, 12.9ms\n",
      "Speed: 2.2ms preprocess, 12.9ms inference, 4.0ms postprocess per image at shape (1, 3, 256, 416)\n",
      "\n",
      "image 1/1 /mnt/c/Adrianov/Projects/trash-detector/Littering--8/test/images/video_8_27_jpg.rf.01212f8a66728ca74e7cd51946dc6791.jpg: 256x416 2 Persons, 12.8ms\n",
      "Speed: 2.0ms preprocess, 12.8ms inference, 1.5ms postprocess per image at shape (1, 3, 256, 416)\n"
     ]
    },
    {
     "name": "stderr",
     "output_type": "stream",
     "text": [
      " 90%|█████████████████████████████████████████████████████████████▉       | 1107/1232 [01:57<00:15,  8.08it/s]"
     ]
    },
    {
     "name": "stdout",
     "output_type": "stream",
     "text": [
      "\n",
      "image 1/1 /mnt/c/Adrianov/Projects/trash-detector/Littering--8/test/images/video_8_27_jpg.rf.aced9f045004ade9fa1ff0c59bb6985b.jpg: 256x416 2 Persons, 1 Trash, 13.0ms\n",
      "Speed: 2.1ms preprocess, 13.0ms inference, 1.9ms postprocess per image at shape (1, 3, 256, 416)\n"
     ]
    },
    {
     "name": "stderr",
     "output_type": "stream",
     "text": [
      " 90%|██████████████████████████████████████████████████████████████       | 1108/1232 [01:57<00:16,  7.36it/s]"
     ]
    },
    {
     "name": "stdout",
     "output_type": "stream",
     "text": [
      "\n",
      "image 1/1 /mnt/c/Adrianov/Projects/trash-detector/Littering--8/test/images/video_8_27_jpg.rf.ee51371271540795ef492bfe986ffb02.jpg: 256x416 1 Person, 12.9ms\n",
      "Speed: 2.8ms preprocess, 12.9ms inference, 2.2ms postprocess per image at shape (1, 3, 256, 416)\n"
     ]
    },
    {
     "name": "stderr",
     "output_type": "stream",
     "text": [
      " 90%|██████████████████████████████████████████████████████████████       | 1109/1232 [01:57<00:16,  7.67it/s]"
     ]
    },
    {
     "name": "stdout",
     "output_type": "stream",
     "text": [
      "\n",
      "image 1/1 /mnt/c/Adrianov/Projects/trash-detector/Littering--8/test/images/video_8_28_jpg.rf.0ddc33072faaf590d3439a87da5f0fb8.jpg: 256x416 2 Persons, 1 Trash, 13.0ms\n",
      "Speed: 2.3ms preprocess, 13.0ms inference, 1.8ms postprocess per image at shape (1, 3, 256, 416)\n"
     ]
    },
    {
     "name": "stderr",
     "output_type": "stream",
     "text": [
      " 90%|██████████████████████████████████████████████████████████████▏      | 1110/1232 [01:57<00:21,  5.72it/s]"
     ]
    },
    {
     "name": "stdout",
     "output_type": "stream",
     "text": [
      "\n",
      "image 1/1 /mnt/c/Adrianov/Projects/trash-detector/Littering--8/test/images/video_8_28_jpg.rf.8c874469236880444ddfb5862748744f.jpg: 256x416 2 Persons, 12.9ms\n",
      "Speed: 2.1ms preprocess, 12.9ms inference, 2.8ms postprocess per image at shape (1, 3, 256, 416)\n"
     ]
    },
    {
     "name": "stderr",
     "output_type": "stream",
     "text": [
      " 90%|██████████████████████████████████████████████████████████████▏      | 1111/1232 [01:58<00:23,  5.19it/s]"
     ]
    },
    {
     "name": "stdout",
     "output_type": "stream",
     "text": [
      "\n",
      "image 1/1 /mnt/c/Adrianov/Projects/trash-detector/Littering--8/test/images/video_8_28_jpg.rf.cc073f7e91429310f4ae20867131b705.jpg: 256x416 1 Person, 12.8ms\n",
      "Speed: 2.2ms preprocess, 12.8ms inference, 1.5ms postprocess per image at shape (1, 3, 256, 416)\n"
     ]
    },
    {
     "name": "stderr",
     "output_type": "stream",
     "text": [
      " 90%|██████████████████████████████████████████████████████████████▎      | 1112/1232 [01:58<00:21,  5.47it/s]"
     ]
    },
    {
     "name": "stdout",
     "output_type": "stream",
     "text": [
      "\n",
      "image 1/1 /mnt/c/Adrianov/Projects/trash-detector/Littering--8/test/images/video_8_29_jpg.rf.7ae5d6ec40613d9edd474687fc892746.jpg: 256x416 2 Persons, 1 Trash, 13.0ms\n",
      "Speed: 1.9ms preprocess, 13.0ms inference, 1.6ms postprocess per image at shape (1, 3, 256, 416)\n"
     ]
    },
    {
     "name": "stderr",
     "output_type": "stream",
     "text": [
      " 90%|██████████████████████████████████████████████████████████████▎      | 1113/1232 [01:58<00:19,  6.15it/s]"
     ]
    },
    {
     "name": "stdout",
     "output_type": "stream",
     "text": [
      "\n",
      "image 1/1 /mnt/c/Adrianov/Projects/trash-detector/Littering--8/test/images/video_8_29_jpg.rf.8e846d8e7493970f8bb6fd8631c6c4cd.jpg: 256x416 2 Persons, 13.1ms\n",
      "Speed: 5.1ms preprocess, 13.1ms inference, 1.9ms postprocess per image at shape (1, 3, 256, 416)\n"
     ]
    },
    {
     "name": "stderr",
     "output_type": "stream",
     "text": [
      " 90%|██████████████████████████████████████████████████████████████▍      | 1114/1232 [01:58<00:19,  6.04it/s]"
     ]
    },
    {
     "name": "stdout",
     "output_type": "stream",
     "text": [
      "\n",
      "image 1/1 /mnt/c/Adrianov/Projects/trash-detector/Littering--8/test/images/video_8_29_jpg.rf.d73f04ebc9504c9069ca64d44cc86064.jpg: 256x416 1 Person, 13.8ms\n",
      "Speed: 2.2ms preprocess, 13.8ms inference, 3.6ms postprocess per image at shape (1, 3, 256, 416)\n"
     ]
    },
    {
     "name": "stderr",
     "output_type": "stream",
     "text": [
      " 91%|██████████████████████████████████████████████████████████████▍      | 1115/1232 [01:58<00:17,  6.62it/s]"
     ]
    },
    {
     "name": "stdout",
     "output_type": "stream",
     "text": [
      "\n",
      "image 1/1 /mnt/c/Adrianov/Projects/trash-detector/Littering--8/test/images/video_8_2_jpg.rf.1a5d57e10add0842a6b049b38eff2afb.jpg: 256x416 2 Persons, 13.4ms\n",
      "Speed: 2.1ms preprocess, 13.4ms inference, 3.3ms postprocess per image at shape (1, 3, 256, 416)\n",
      "\n",
      "image 1/1 /mnt/c/Adrianov/Projects/trash-detector/Littering--8/test/images/video_8_2_jpg.rf.3984dd7e9136f2e876b76c4d1d380a51.jpg: 256x416 3 Persons, 12.9ms\n",
      "Speed: 2.4ms preprocess, 12.9ms inference, 1.8ms postprocess per image at shape (1, 3, 256, 416)\n"
     ]
    },
    {
     "name": "stderr",
     "output_type": "stream",
     "text": [
      " 91%|██████████████████████████████████████████████████████████████▌      | 1117/1232 [01:58<00:14,  7.90it/s]"
     ]
    },
    {
     "name": "stdout",
     "output_type": "stream",
     "text": [
      "\n",
      "image 1/1 /mnt/c/Adrianov/Projects/trash-detector/Littering--8/test/images/video_8_2_jpg.rf.ce6ba825edb6cf995040b25bcbe777c8.jpg: 256x416 3 Persons, 12.9ms\n",
      "Speed: 1.6ms preprocess, 12.9ms inference, 2.0ms postprocess per image at shape (1, 3, 256, 416)\n",
      "\n",
      "image 1/1 /mnt/c/Adrianov/Projects/trash-detector/Littering--8/test/images/video_8_30_jpg.rf.81b7713b439d4ee11e6dc5f2b735b069.jpg: 256x416 1 Person, 13.3ms\n",
      "Speed: 2.6ms preprocess, 13.3ms inference, 2.7ms postprocess per image at shape (1, 3, 256, 416)\n"
     ]
    },
    {
     "name": "stderr",
     "output_type": "stream",
     "text": [
      " 91%|██████████████████████████████████████████████████████████████▋      | 1119/1232 [01:58<00:12,  9.04it/s]"
     ]
    },
    {
     "name": "stdout",
     "output_type": "stream",
     "text": [
      "\n",
      "image 1/1 /mnt/c/Adrianov/Projects/trash-detector/Littering--8/test/images/video_8_30_jpg.rf.834ff697a1cbf48ccb0a749b0c1d6f90.jpg: 256x416 2 Persons, 12.9ms\n",
      "Speed: 2.6ms preprocess, 12.9ms inference, 1.6ms postprocess per image at shape (1, 3, 256, 416)\n",
      "\n",
      "image 1/1 /mnt/c/Adrianov/Projects/trash-detector/Littering--8/test/images/video_8_30_jpg.rf.dedf8c34321ff8a66f27c442bb3fedda.jpg: 256x416 2 Persons, 13.0ms\n",
      "Speed: 2.0ms preprocess, 13.0ms inference, 1.8ms postprocess per image at shape (1, 3, 256, 416)\n"
     ]
    },
    {
     "name": "stderr",
     "output_type": "stream",
     "text": [
      " 91%|██████████████████████████████████████████████████████████████▊      | 1121/1232 [01:59<00:11,  9.97it/s]"
     ]
    },
    {
     "name": "stdout",
     "output_type": "stream",
     "text": [
      "\n",
      "image 1/1 /mnt/c/Adrianov/Projects/trash-detector/Littering--8/test/images/video_8_3_jpg.rf.66b33bbe312ef42f4f15d5069b110228.jpg: 256x416 1 Person, 13.0ms\n",
      "Speed: 1.9ms preprocess, 13.0ms inference, 1.6ms postprocess per image at shape (1, 3, 256, 416)\n",
      "\n",
      "image 1/1 /mnt/c/Adrianov/Projects/trash-detector/Littering--8/test/images/video_8_3_jpg.rf.9c430317f7d83089543b1019c3a28410.jpg: 256x416 2 Persons, 12.9ms\n",
      "Speed: 2.2ms preprocess, 12.9ms inference, 1.5ms postprocess per image at shape (1, 3, 256, 416)\n"
     ]
    },
    {
     "name": "stderr",
     "output_type": "stream",
     "text": [
      " 91%|██████████████████████████████████████████████████████████████▉      | 1123/1232 [01:59<00:10, 10.29it/s]"
     ]
    },
    {
     "name": "stdout",
     "output_type": "stream",
     "text": [
      "\n",
      "image 1/1 /mnt/c/Adrianov/Projects/trash-detector/Littering--8/test/images/video_8_3_jpg.rf.a8bc79c7c3ffae109cefd8abd53df4ee.jpg: 256x416 2 Persons, 12.8ms\n",
      "Speed: 2.1ms preprocess, 12.8ms inference, 2.6ms postprocess per image at shape (1, 3, 256, 416)\n",
      "\n",
      "image 1/1 /mnt/c/Adrianov/Projects/trash-detector/Littering--8/test/images/video_8_4_jpg.rf.71c545534a6ce45ac15907b2b19c0850.jpg: 256x416 2 Persons, 12.8ms\n",
      "Speed: 1.9ms preprocess, 12.8ms inference, 1.5ms postprocess per image at shape (1, 3, 256, 416)\n"
     ]
    },
    {
     "name": "stderr",
     "output_type": "stream",
     "text": [
      " 91%|███████████████████████████████████████████████████████████████      | 1125/1232 [01:59<00:09, 10.84it/s]"
     ]
    },
    {
     "name": "stdout",
     "output_type": "stream",
     "text": [
      "\n",
      "image 1/1 /mnt/c/Adrianov/Projects/trash-detector/Littering--8/test/images/video_8_4_jpg.rf.c2da0445ae5c2c17c5189eac8c19ef38.jpg: 256x416 2 Persons, 12.9ms\n",
      "Speed: 1.7ms preprocess, 12.9ms inference, 1.5ms postprocess per image at shape (1, 3, 256, 416)\n",
      "\n",
      "image 1/1 /mnt/c/Adrianov/Projects/trash-detector/Littering--8/test/images/video_8_4_jpg.rf.e614f95d4cd41c73b20fcf1e91df0b02.jpg: 256x416 2 Persons, 12.9ms\n",
      "Speed: 1.9ms preprocess, 12.9ms inference, 1.5ms postprocess per image at shape (1, 3, 256, 416)\n"
     ]
    },
    {
     "name": "stderr",
     "output_type": "stream",
     "text": [
      " 91%|███████████████████████████████████████████████████████████████      | 1127/1232 [01:59<00:09, 11.38it/s]"
     ]
    },
    {
     "name": "stdout",
     "output_type": "stream",
     "text": [
      "\n",
      "image 1/1 /mnt/c/Adrianov/Projects/trash-detector/Littering--8/test/images/video_8_5_jpg.rf.2dc9cb8646720b3ab413a7a622b596c6.jpg: 256x416 1 Person, 13.0ms\n",
      "Speed: 1.7ms preprocess, 13.0ms inference, 1.8ms postprocess per image at shape (1, 3, 256, 416)\n",
      "\n",
      "image 1/1 /mnt/c/Adrianov/Projects/trash-detector/Littering--8/test/images/video_8_5_jpg.rf.669dde4ba561fc760de0c1767748fb69.jpg: 256x416 2 Persons, 12.8ms\n",
      "Speed: 1.7ms preprocess, 12.8ms inference, 1.4ms postprocess per image at shape (1, 3, 256, 416)\n"
     ]
    },
    {
     "name": "stderr",
     "output_type": "stream",
     "text": [
      " 92%|███████████████████████████████████████████████████████████████▏     | 1129/1232 [01:59<00:09, 11.13it/s]"
     ]
    },
    {
     "name": "stdout",
     "output_type": "stream",
     "text": [
      "\n",
      "image 1/1 /mnt/c/Adrianov/Projects/trash-detector/Littering--8/test/images/video_8_5_jpg.rf.c1ed57e277a12d74bdd8b0737e1a6838.jpg: 256x416 2 Persons, 12.8ms\n",
      "Speed: 2.3ms preprocess, 12.8ms inference, 1.3ms postprocess per image at shape (1, 3, 256, 416)\n",
      "\n",
      "image 1/1 /mnt/c/Adrianov/Projects/trash-detector/Littering--8/test/images/video_8_6_jpg.rf.331efc5b2381da810299c49d26c54108.jpg: 256x416 2 Persons, 12.9ms\n",
      "Speed: 1.9ms preprocess, 12.9ms inference, 1.7ms postprocess per image at shape (1, 3, 256, 416)\n"
     ]
    },
    {
     "name": "stderr",
     "output_type": "stream",
     "text": [
      " 92%|███████████████████████████████████████████████████████████████▎     | 1131/1232 [02:00<00:09, 10.92it/s]"
     ]
    },
    {
     "name": "stdout",
     "output_type": "stream",
     "text": [
      "\n",
      "image 1/1 /mnt/c/Adrianov/Projects/trash-detector/Littering--8/test/images/video_8_6_jpg.rf.7a355f7ffe2b042d0aa48d5248a16e4c.jpg: 256x416 3 Persons, 12.9ms\n",
      "Speed: 1.9ms preprocess, 12.9ms inference, 1.8ms postprocess per image at shape (1, 3, 256, 416)\n",
      "\n",
      "image 1/1 /mnt/c/Adrianov/Projects/trash-detector/Littering--8/test/images/video_8_6_jpg.rf.8a1cb8ab017e2e0bf3d87f3ee970a8de.jpg: 256x416 2 Persons, 13.3ms\n",
      "Speed: 1.9ms preprocess, 13.3ms inference, 2.9ms postprocess per image at shape (1, 3, 256, 416)\n"
     ]
    },
    {
     "name": "stderr",
     "output_type": "stream",
     "text": [
      " 92%|███████████████████████████████████████████████████████████████▍     | 1133/1232 [02:00<00:09, 10.71it/s]"
     ]
    },
    {
     "name": "stdout",
     "output_type": "stream",
     "text": [
      "\n",
      "image 1/1 /mnt/c/Adrianov/Projects/trash-detector/Littering--8/test/images/video_8_7_jpg.rf.14f183be3d25df9f7e2395264e517772.jpg: 256x416 2 Persons, 1 Trash, 15.3ms\n",
      "Speed: 2.0ms preprocess, 15.3ms inference, 1.6ms postprocess per image at shape (1, 3, 256, 416)\n",
      "\n",
      "image 1/1 /mnt/c/Adrianov/Projects/trash-detector/Littering--8/test/images/video_8_7_jpg.rf.50a446f3a578bc1b86744b2073fc1d53.jpg: 256x416 2 Persons, 13.0ms\n",
      "Speed: 2.1ms preprocess, 13.0ms inference, 2.2ms postprocess per image at shape (1, 3, 256, 416)\n"
     ]
    },
    {
     "name": "stderr",
     "output_type": "stream",
     "text": [
      " 92%|███████████████████████████████████████████████████████████████▌     | 1135/1232 [02:00<00:08, 10.84it/s]"
     ]
    },
    {
     "name": "stdout",
     "output_type": "stream",
     "text": [
      "\n",
      "image 1/1 /mnt/c/Adrianov/Projects/trash-detector/Littering--8/test/images/video_8_7_jpg.rf.eadf4867ea0c4db7374523eae669fecc.jpg: 256x416 2 Persons, 22.4ms\n",
      "Speed: 4.1ms preprocess, 22.4ms inference, 3.6ms postprocess per image at shape (1, 3, 256, 416)\n",
      "\n",
      "image 1/1 /mnt/c/Adrianov/Projects/trash-detector/Littering--8/test/images/video_8_8_jpg.rf.26ab1d59bf341ea05ca443774c0042d6.jpg: 256x416 3 Persons, 12.9ms\n",
      "Speed: 2.0ms preprocess, 12.9ms inference, 1.8ms postprocess per image at shape (1, 3, 256, 416)\n"
     ]
    },
    {
     "name": "stderr",
     "output_type": "stream",
     "text": [
      " 92%|███████████████████████████████████████████████████████████████▋     | 1137/1232 [02:00<00:08, 11.02it/s]"
     ]
    },
    {
     "name": "stdout",
     "output_type": "stream",
     "text": [
      "\n",
      "image 1/1 /mnt/c/Adrianov/Projects/trash-detector/Littering--8/test/images/video_8_8_jpg.rf.937844cb937a1686fbd358d02cba2465.jpg: 256x416 2 Persons, 13.0ms\n",
      "Speed: 2.2ms preprocess, 13.0ms inference, 1.6ms postprocess per image at shape (1, 3, 256, 416)\n",
      "\n",
      "image 1/1 /mnt/c/Adrianov/Projects/trash-detector/Littering--8/test/images/video_8_8_jpg.rf.c8807c15895ead6879fc5efb8aa2aef1.jpg: 256x416 2 Persons, 13.0ms\n",
      "Speed: 4.3ms preprocess, 13.0ms inference, 2.5ms postprocess per image at shape (1, 3, 256, 416)\n"
     ]
    },
    {
     "name": "stderr",
     "output_type": "stream",
     "text": [
      " 92%|███████████████████████████████████████████████████████████████▊     | 1139/1232 [02:00<00:08, 10.77it/s]"
     ]
    },
    {
     "name": "stdout",
     "output_type": "stream",
     "text": [
      "\n",
      "image 1/1 /mnt/c/Adrianov/Projects/trash-detector/Littering--8/test/images/video_8_9_jpg.rf.3bc9d06cc1df250e891b0aae94a8675c.jpg: 256x416 2 Persons, 1 Trash, 13.1ms\n",
      "Speed: 2.0ms preprocess, 13.1ms inference, 1.9ms postprocess per image at shape (1, 3, 256, 416)\n",
      "\n",
      "image 1/1 /mnt/c/Adrianov/Projects/trash-detector/Littering--8/test/images/video_8_9_jpg.rf.622375b54ea0eecd9838a84e9b2f6aec.jpg: 256x416 2 Persons, 13.4ms\n",
      "Speed: 2.0ms preprocess, 13.4ms inference, 3.5ms postprocess per image at shape (1, 3, 256, 416)\n"
     ]
    },
    {
     "name": "stderr",
     "output_type": "stream",
     "text": [
      " 93%|███████████████████████████████████████████████████████████████▉     | 1141/1232 [02:00<00:08, 10.56it/s]"
     ]
    },
    {
     "name": "stdout",
     "output_type": "stream",
     "text": [
      "\n",
      "image 1/1 /mnt/c/Adrianov/Projects/trash-detector/Littering--8/test/images/video_8_9_jpg.rf.ad76ac81e129a6ca327c2b38f65019d6.jpg: 256x416 2 Persons, 12.8ms\n",
      "Speed: 1.6ms preprocess, 12.8ms inference, 1.4ms postprocess per image at shape (1, 3, 256, 416)\n",
      "\n",
      "image 1/1 /mnt/c/Adrianov/Projects/trash-detector/Littering--8/test/images/video_9_10_jpg.rf.40f599d2c17d1141ebad25e55717c38d.jpg: 256x416 2 Persons, 12.9ms\n",
      "Speed: 2.6ms preprocess, 12.9ms inference, 3.0ms postprocess per image at shape (1, 3, 256, 416)\n"
     ]
    },
    {
     "name": "stderr",
     "output_type": "stream",
     "text": [
      " 93%|████████████████████████████████████████████████████████████████     | 1143/1232 [02:01<00:10,  8.20it/s]"
     ]
    },
    {
     "name": "stdout",
     "output_type": "stream",
     "text": [
      "\n",
      "image 1/1 /mnt/c/Adrianov/Projects/trash-detector/Littering--8/test/images/video_9_10_jpg.rf.53ec7aa3b094d9080365f237c69bfb9a.jpg: 256x416 2 Persons, 13.0ms\n",
      "Speed: 4.8ms preprocess, 13.0ms inference, 1.6ms postprocess per image at shape (1, 3, 256, 416)\n",
      "\n",
      "image 1/1 /mnt/c/Adrianov/Projects/trash-detector/Littering--8/test/images/video_9_10_jpg.rf.7371c826ca7a47eb96c67079810b452a.jpg: 256x416 2 Persons, 19.8ms\n",
      "Speed: 2.1ms preprocess, 19.8ms inference, 2.5ms postprocess per image at shape (1, 3, 256, 416)\n"
     ]
    },
    {
     "name": "stderr",
     "output_type": "stream",
     "text": [
      " 93%|████████████████████████████████████████████████████████████████▏    | 1145/1232 [02:01<00:09,  8.83it/s]"
     ]
    },
    {
     "name": "stdout",
     "output_type": "stream",
     "text": [
      "\n",
      "image 1/1 /mnt/c/Adrianov/Projects/trash-detector/Littering--8/test/images/video_9_11_jpg.rf.03761c23d0fe0a6d62bda201b35ed8b2.jpg: 256x416 2 Persons, 14.7ms\n",
      "Speed: 2.1ms preprocess, 14.7ms inference, 1.4ms postprocess per image at shape (1, 3, 256, 416)\n",
      "\n",
      "image 1/1 /mnt/c/Adrianov/Projects/trash-detector/Littering--8/test/images/video_9_11_jpg.rf.2f2c66ea3c7ea175eac72ff0f81d80e3.jpg: 256x416 2 Persons, 12.8ms\n",
      "Speed: 2.3ms preprocess, 12.8ms inference, 1.7ms postprocess per image at shape (1, 3, 256, 416)\n"
     ]
    },
    {
     "name": "stderr",
     "output_type": "stream",
     "text": [
      " 93%|████████████████████████████████████████████████████████████████▏    | 1147/1232 [02:01<00:09,  9.40it/s]"
     ]
    },
    {
     "name": "stdout",
     "output_type": "stream",
     "text": [
      "\n",
      "image 1/1 /mnt/c/Adrianov/Projects/trash-detector/Littering--8/test/images/video_9_11_jpg.rf.6f36032b5ea4db08d1bdabf4f6bf1bf2.jpg: 256x416 2 Persons, 12.8ms\n",
      "Speed: 1.9ms preprocess, 12.8ms inference, 1.4ms postprocess per image at shape (1, 3, 256, 416)\n",
      "\n",
      "image 1/1 /mnt/c/Adrianov/Projects/trash-detector/Littering--8/test/images/video_9_12_jpg.rf.2b362b65aa0a7f368cc92c15fdd638d2.jpg: 256x416 2 Persons, 12.9ms\n",
      "Speed: 2.0ms preprocess, 12.9ms inference, 1.4ms postprocess per image at shape (1, 3, 256, 416)\n"
     ]
    },
    {
     "name": "stderr",
     "output_type": "stream",
     "text": [
      " 93%|████████████████████████████████████████████████████████████████▎    | 1149/1232 [02:01<00:08, 10.11it/s]"
     ]
    },
    {
     "name": "stdout",
     "output_type": "stream",
     "text": [
      "\n",
      "image 1/1 /mnt/c/Adrianov/Projects/trash-detector/Littering--8/test/images/video_9_12_jpg.rf.4329dfc9fbb611942a023f7458cee582.jpg: 256x416 2 Persons, 16.2ms\n",
      "Speed: 1.7ms preprocess, 16.2ms inference, 1.4ms postprocess per image at shape (1, 3, 256, 416)\n",
      "\n",
      "image 1/1 /mnt/c/Adrianov/Projects/trash-detector/Littering--8/test/images/video_9_12_jpg.rf.ea57f9778950b6373efc1771eabc1f11.jpg: 256x416 2 Persons, 18.3ms\n",
      "Speed: 1.9ms preprocess, 18.3ms inference, 2.5ms postprocess per image at shape (1, 3, 256, 416)\n"
     ]
    },
    {
     "name": "stderr",
     "output_type": "stream",
     "text": [
      " 93%|████████████████████████████████████████████████████████████████▍    | 1151/1232 [02:02<00:07, 10.43it/s]"
     ]
    },
    {
     "name": "stdout",
     "output_type": "stream",
     "text": [
      "\n",
      "image 1/1 /mnt/c/Adrianov/Projects/trash-detector/Littering--8/test/images/video_9_13_jpg.rf.6f53229c9d534dbd20b44af200839f9a.jpg: 256x416 2 Persons, 15.2ms\n",
      "Speed: 2.0ms preprocess, 15.2ms inference, 1.4ms postprocess per image at shape (1, 3, 256, 416)\n",
      "\n",
      "image 1/1 /mnt/c/Adrianov/Projects/trash-detector/Littering--8/test/images/video_9_13_jpg.rf.ce0f695604098794a488c4ca9655edc0.jpg: 256x416 2 Persons, 13.0ms\n",
      "Speed: 2.0ms preprocess, 13.0ms inference, 2.2ms postprocess per image at shape (1, 3, 256, 416)\n"
     ]
    },
    {
     "name": "stderr",
     "output_type": "stream",
     "text": [
      " 94%|████████████████████████████████████████████████████████████████▌    | 1153/1232 [02:02<00:07, 10.78it/s]"
     ]
    },
    {
     "name": "stdout",
     "output_type": "stream",
     "text": [
      "\n",
      "image 1/1 /mnt/c/Adrianov/Projects/trash-detector/Littering--8/test/images/video_9_13_jpg.rf.d6f858e98f9433fbf8830e431d76992e.jpg: 256x416 2 Persons, 12.9ms\n",
      "Speed: 2.1ms preprocess, 12.9ms inference, 1.4ms postprocess per image at shape (1, 3, 256, 416)\n",
      "\n",
      "image 1/1 /mnt/c/Adrianov/Projects/trash-detector/Littering--8/test/images/video_9_14_jpg.rf.5f013073faf0308250beb74ac8931692.jpg: 256x416 2 Persons, 13.1ms\n",
      "Speed: 1.9ms preprocess, 13.1ms inference, 1.8ms postprocess per image at shape (1, 3, 256, 416)\n"
     ]
    },
    {
     "name": "stderr",
     "output_type": "stream",
     "text": [
      " 94%|████████████████████████████████████████████████████████████████▋    | 1155/1232 [02:02<00:07, 10.99it/s]"
     ]
    },
    {
     "name": "stdout",
     "output_type": "stream",
     "text": [
      "\n",
      "image 1/1 /mnt/c/Adrianov/Projects/trash-detector/Littering--8/test/images/video_9_14_jpg.rf.82bc1c9513ee815cf63c655c1465f86b.jpg: 256x416 2 Persons, 13.0ms\n",
      "Speed: 2.1ms preprocess, 13.0ms inference, 1.6ms postprocess per image at shape (1, 3, 256, 416)\n",
      "\n",
      "image 1/1 /mnt/c/Adrianov/Projects/trash-detector/Littering--8/test/images/video_9_14_jpg.rf.dff037ea8bd9083822270e4130708dda.jpg: 256x416 2 Persons, 12.8ms\n",
      "Speed: 4.0ms preprocess, 12.8ms inference, 1.6ms postprocess per image at shape (1, 3, 256, 416)\n"
     ]
    },
    {
     "name": "stderr",
     "output_type": "stream",
     "text": [
      " 94%|████████████████████████████████████████████████████████████████▊    | 1157/1232 [02:02<00:06, 11.05it/s]"
     ]
    },
    {
     "name": "stdout",
     "output_type": "stream",
     "text": [
      "\n",
      "image 1/1 /mnt/c/Adrianov/Projects/trash-detector/Littering--8/test/images/video_9_15_jpg.rf.514d033a1901b77aff19d947e84eb3c0.jpg: 256x416 2 Persons, 13.7ms\n",
      "Speed: 1.7ms preprocess, 13.7ms inference, 2.2ms postprocess per image at shape (1, 3, 256, 416)\n",
      "\n",
      "image 1/1 /mnt/c/Adrianov/Projects/trash-detector/Littering--8/test/images/video_9_15_jpg.rf.5f4712438fdfcdb963fc1c4896be53f8.jpg: 256x416 2 Persons, 13.1ms\n",
      "Speed: 2.0ms preprocess, 13.1ms inference, 1.4ms postprocess per image at shape (1, 3, 256, 416)\n"
     ]
    },
    {
     "name": "stderr",
     "output_type": "stream",
     "text": [
      " 94%|████████████████████████████████████████████████████████████████▉    | 1159/1232 [02:02<00:06, 11.12it/s]"
     ]
    },
    {
     "name": "stdout",
     "output_type": "stream",
     "text": [
      "\n",
      "image 1/1 /mnt/c/Adrianov/Projects/trash-detector/Littering--8/test/images/video_9_15_jpg.rf.d167044ad5aa468d4940811b8e1e9db3.jpg: 256x416 2 Persons, 13.5ms\n",
      "Speed: 1.7ms preprocess, 13.5ms inference, 1.4ms postprocess per image at shape (1, 3, 256, 416)\n",
      "\n",
      "image 1/1 /mnt/c/Adrianov/Projects/trash-detector/Littering--8/test/images/video_9_16_jpg.rf.936dc22d9cbc73aece583047592f29c7.jpg: 256x416 2 Persons, 15.2ms\n",
      "Speed: 2.4ms preprocess, 15.2ms inference, 2.6ms postprocess per image at shape (1, 3, 256, 416)\n"
     ]
    },
    {
     "name": "stderr",
     "output_type": "stream",
     "text": [
      " 94%|█████████████████████████████████████████████████████████████████    | 1161/1232 [02:02<00:06, 11.42it/s]"
     ]
    },
    {
     "name": "stdout",
     "output_type": "stream",
     "text": [
      "\n",
      "image 1/1 /mnt/c/Adrianov/Projects/trash-detector/Littering--8/test/images/video_9_16_jpg.rf.a26812058faf42b17d90be786d29228a.jpg: 256x416 2 Persons, 12.9ms\n",
      "Speed: 2.2ms preprocess, 12.9ms inference, 1.9ms postprocess per image at shape (1, 3, 256, 416)\n",
      "\n",
      "image 1/1 /mnt/c/Adrianov/Projects/trash-detector/Littering--8/test/images/video_9_16_jpg.rf.c68312b87c0fb13312a8fba152b755d8.jpg: 256x416 2 Persons, 12.8ms\n",
      "Speed: 2.1ms preprocess, 12.8ms inference, 1.5ms postprocess per image at shape (1, 3, 256, 416)\n"
     ]
    },
    {
     "name": "stderr",
     "output_type": "stream",
     "text": [
      " 94%|█████████████████████████████████████████████████████████████████▏   | 1163/1232 [02:03<00:05, 11.70it/s]"
     ]
    },
    {
     "name": "stdout",
     "output_type": "stream",
     "text": [
      "\n",
      "image 1/1 /mnt/c/Adrianov/Projects/trash-detector/Littering--8/test/images/video_9_17_jpg.rf.2e2ec709e23ce9f1c12554cc3dcd899c.jpg: 256x416 2 Persons, 19.2ms\n",
      "Speed: 2.3ms preprocess, 19.2ms inference, 1.5ms postprocess per image at shape (1, 3, 256, 416)\n",
      "\n",
      "image 1/1 /mnt/c/Adrianov/Projects/trash-detector/Littering--8/test/images/video_9_17_jpg.rf.50b63fe8d93a5dccf3c7f4e4d9eca513.jpg: 256x416 2 Persons, 19.8ms\n",
      "Speed: 1.8ms preprocess, 19.8ms inference, 2.5ms postprocess per image at shape (1, 3, 256, 416)\n"
     ]
    },
    {
     "name": "stderr",
     "output_type": "stream",
     "text": [
      " 95%|█████████████████████████████████████████████████████████████████▏   | 1165/1232 [02:03<00:05, 11.44it/s]"
     ]
    },
    {
     "name": "stdout",
     "output_type": "stream",
     "text": [
      "\n",
      "image 1/1 /mnt/c/Adrianov/Projects/trash-detector/Littering--8/test/images/video_9_17_jpg.rf.f272be423f27e25ac9465abd68aa96db.jpg: 256x416 2 Persons, 12.8ms\n",
      "Speed: 2.2ms preprocess, 12.8ms inference, 1.6ms postprocess per image at shape (1, 3, 256, 416)\n",
      "\n",
      "image 1/1 /mnt/c/Adrianov/Projects/trash-detector/Littering--8/test/images/video_9_18_jpg.rf.6e426f4c9f10768953aecac634f3a717.jpg: 256x416 2 Persons, 12.9ms\n",
      "Speed: 2.1ms preprocess, 12.9ms inference, 1.6ms postprocess per image at shape (1, 3, 256, 416)\n"
     ]
    },
    {
     "name": "stderr",
     "output_type": "stream",
     "text": [
      " 95%|█████████████████████████████████████████████████████████████████▎   | 1167/1232 [02:03<00:05, 11.40it/s]"
     ]
    },
    {
     "name": "stdout",
     "output_type": "stream",
     "text": [
      "\n",
      "image 1/1 /mnt/c/Adrianov/Projects/trash-detector/Littering--8/test/images/video_9_18_jpg.rf.704663544b19c6845ff842fbb7f7f94f.jpg: 256x416 1 Person, 16.8ms\n",
      "Speed: 2.2ms preprocess, 16.8ms inference, 1.5ms postprocess per image at shape (1, 3, 256, 416)\n",
      "\n",
      "image 1/1 /mnt/c/Adrianov/Projects/trash-detector/Littering--8/test/images/video_9_18_jpg.rf.80807ec895d04ffdefd4afdea6c221de.jpg: 256x416 2 Persons, 16.0ms\n",
      "Speed: 2.2ms preprocess, 16.0ms inference, 1.4ms postprocess per image at shape (1, 3, 256, 416)\n"
     ]
    },
    {
     "name": "stderr",
     "output_type": "stream",
     "text": [
      " 95%|█████████████████████████████████████████████████████████████████▍   | 1169/1232 [02:03<00:05, 11.45it/s]"
     ]
    },
    {
     "name": "stdout",
     "output_type": "stream",
     "text": [
      "\n",
      "image 1/1 /mnt/c/Adrianov/Projects/trash-detector/Littering--8/test/images/video_9_19_jpg.rf.c18149221c094108aed619667d18969c.jpg: 256x416 2 Persons, 12.8ms\n",
      "Speed: 1.6ms preprocess, 12.8ms inference, 2.1ms postprocess per image at shape (1, 3, 256, 416)\n",
      "\n",
      "image 1/1 /mnt/c/Adrianov/Projects/trash-detector/Littering--8/test/images/video_9_19_jpg.rf.c5146a925a0599991511f8ef206bda1b.jpg: 256x416 1 Person, 14.2ms\n",
      "Speed: 2.7ms preprocess, 14.2ms inference, 2.1ms postprocess per image at shape (1, 3, 256, 416)\n"
     ]
    },
    {
     "name": "stderr",
     "output_type": "stream",
     "text": [
      " 95%|█████████████████████████████████████████████████████████████████▌   | 1171/1232 [02:03<00:06,  9.99it/s]"
     ]
    },
    {
     "name": "stdout",
     "output_type": "stream",
     "text": [
      "\n",
      "image 1/1 /mnt/c/Adrianov/Projects/trash-detector/Littering--8/test/images/video_9_19_jpg.rf.f2655418d57ad21421aad522c17e2506.jpg: 256x416 2 Persons, 13.6ms\n",
      "Speed: 4.6ms preprocess, 13.6ms inference, 1.6ms postprocess per image at shape (1, 3, 256, 416)\n",
      "\n",
      "image 1/1 /mnt/c/Adrianov/Projects/trash-detector/Littering--8/test/images/video_9_1_jpg.rf.0709329bad23db9971ec9a8a7441f5d7.jpg: 256x416 2 Persons, 13.1ms\n",
      "Speed: 2.2ms preprocess, 13.1ms inference, 1.5ms postprocess per image at shape (1, 3, 256, 416)\n"
     ]
    },
    {
     "name": "stderr",
     "output_type": "stream",
     "text": [
      " 95%|█████████████████████████████████████████████████████████████████▋   | 1173/1232 [02:04<00:05, 10.24it/s]"
     ]
    },
    {
     "name": "stdout",
     "output_type": "stream",
     "text": [
      "\n",
      "image 1/1 /mnt/c/Adrianov/Projects/trash-detector/Littering--8/test/images/video_9_1_jpg.rf.55927f05642c5962abf72d2fbe47c51d.jpg: 256x416 2 Persons, 13.2ms\n",
      "Speed: 2.1ms preprocess, 13.2ms inference, 1.4ms postprocess per image at shape (1, 3, 256, 416)\n",
      "\n",
      "image 1/1 /mnt/c/Adrianov/Projects/trash-detector/Littering--8/test/images/video_9_1_jpg.rf.a540328298b0caa24ba775d53c6a112d.jpg: 256x416 2 Persons, 13.0ms\n",
      "Speed: 2.1ms preprocess, 13.0ms inference, 1.6ms postprocess per image at shape (1, 3, 256, 416)\n"
     ]
    },
    {
     "name": "stderr",
     "output_type": "stream",
     "text": [
      " 95%|█████████████████████████████████████████████████████████████████▊   | 1175/1232 [02:04<00:05, 10.59it/s]"
     ]
    },
    {
     "name": "stdout",
     "output_type": "stream",
     "text": [
      "\n",
      "image 1/1 /mnt/c/Adrianov/Projects/trash-detector/Littering--8/test/images/video_9_20_jpg.rf.acc8cd24935cdd94d322f1ca2079805f.jpg: 256x416 2 Persons, 18.6ms\n",
      "Speed: 2.0ms preprocess, 18.6ms inference, 2.5ms postprocess per image at shape (1, 3, 256, 416)\n",
      "\n",
      "image 1/1 /mnt/c/Adrianov/Projects/trash-detector/Littering--8/test/images/video_9_20_jpg.rf.cfc44baf1c3c1abb271c7c845636934f.jpg: 256x416 1 Person, 13.4ms\n",
      "Speed: 2.2ms preprocess, 13.4ms inference, 3.8ms postprocess per image at shape (1, 3, 256, 416)\n"
     ]
    },
    {
     "name": "stderr",
     "output_type": "stream",
     "text": [
      " 96%|█████████████████████████████████████████████████████████████████▉   | 1177/1232 [02:04<00:06,  8.76it/s]"
     ]
    },
    {
     "name": "stdout",
     "output_type": "stream",
     "text": [
      "\n",
      "image 1/1 /mnt/c/Adrianov/Projects/trash-detector/Littering--8/test/images/video_9_20_jpg.rf.e662df5f72c290a6e9eac479bc8623cf.jpg: 256x416 2 Persons, 12.8ms\n",
      "Speed: 2.0ms preprocess, 12.8ms inference, 1.8ms postprocess per image at shape (1, 3, 256, 416)\n",
      "\n",
      "image 1/1 /mnt/c/Adrianov/Projects/trash-detector/Littering--8/test/images/video_9_21_jpg.rf.22fdd0b4ffb18b3da4fd009af1f409e5.jpg: 256x416 2 Persons, 13.2ms\n",
      "Speed: 2.1ms preprocess, 13.2ms inference, 2.5ms postprocess per image at shape (1, 3, 256, 416)\n"
     ]
    },
    {
     "name": "stderr",
     "output_type": "stream",
     "text": [
      " 96%|██████████████████████████████████████████████████████████████████   | 1179/1232 [02:04<00:05,  9.34it/s]"
     ]
    },
    {
     "name": "stdout",
     "output_type": "stream",
     "text": [
      "\n",
      "image 1/1 /mnt/c/Adrianov/Projects/trash-detector/Littering--8/test/images/video_9_21_jpg.rf.44496b3f25f6e20e331576c42d36088b.jpg: 256x416 2 Persons, 12.9ms\n",
      "Speed: 1.9ms preprocess, 12.9ms inference, 1.8ms postprocess per image at shape (1, 3, 256, 416)\n",
      "\n",
      "image 1/1 /mnt/c/Adrianov/Projects/trash-detector/Littering--8/test/images/video_9_21_jpg.rf.c7a8b3050d55b3c1fbf3f5a5a91f0c23.jpg: 256x416 1 Person, 14.3ms\n",
      "Speed: 2.3ms preprocess, 14.3ms inference, 3.0ms postprocess per image at shape (1, 3, 256, 416)\n"
     ]
    },
    {
     "name": "stderr",
     "output_type": "stream",
     "text": [
      " 96%|██████████████████████████████████████████████████████████████████▏  | 1181/1232 [02:04<00:05,  9.84it/s]"
     ]
    },
    {
     "name": "stdout",
     "output_type": "stream",
     "text": [
      "\n",
      "image 1/1 /mnt/c/Adrianov/Projects/trash-detector/Littering--8/test/images/video_9_22_jpg.rf.07ae54407020dd21a2a4bf8db8b8e080.jpg: 256x416 2 Persons, 12.9ms\n",
      "Speed: 2.3ms preprocess, 12.9ms inference, 1.6ms postprocess per image at shape (1, 3, 256, 416)\n",
      "\n",
      "image 1/1 /mnt/c/Adrianov/Projects/trash-detector/Littering--8/test/images/video_9_22_jpg.rf.5df6580d8f13548133d237ade147fbb3.jpg: 256x416 1 Person, 12.9ms\n",
      "Speed: 1.6ms preprocess, 12.9ms inference, 1.7ms postprocess per image at shape (1, 3, 256, 416)\n"
     ]
    },
    {
     "name": "stderr",
     "output_type": "stream",
     "text": [
      " 96%|██████████████████████████████████████████████████████████████████▎  | 1183/1232 [02:05<00:04, 10.41it/s]"
     ]
    },
    {
     "name": "stdout",
     "output_type": "stream",
     "text": [
      "\n",
      "image 1/1 /mnt/c/Adrianov/Projects/trash-detector/Littering--8/test/images/video_9_22_jpg.rf.b5c90e92033ee21e00c587eae877877d.jpg: 256x416 2 Persons, 14.1ms\n",
      "Speed: 1.7ms preprocess, 14.1ms inference, 1.6ms postprocess per image at shape (1, 3, 256, 416)\n",
      "\n",
      "image 1/1 /mnt/c/Adrianov/Projects/trash-detector/Littering--8/test/images/video_9_23_jpg.rf.17c7314fa3024c0343f6b1dee0aed6fd.jpg: 256x416 2 Persons, 13.1ms\n",
      "Speed: 2.4ms preprocess, 13.1ms inference, 2.5ms postprocess per image at shape (1, 3, 256, 416)\n"
     ]
    },
    {
     "name": "stderr",
     "output_type": "stream",
     "text": [
      " 96%|██████████████████████████████████████████████████████████████████▎  | 1185/1232 [02:05<00:05,  9.24it/s]"
     ]
    },
    {
     "name": "stdout",
     "output_type": "stream",
     "text": [
      "\n",
      "image 1/1 /mnt/c/Adrianov/Projects/trash-detector/Littering--8/test/images/video_9_23_jpg.rf.31428119594c7f1cf9848e1495c72a3c.jpg: 256x416 2 Persons, 20.1ms\n",
      "Speed: 2.7ms preprocess, 20.1ms inference, 2.6ms postprocess per image at shape (1, 3, 256, 416)\n"
     ]
    },
    {
     "name": "stderr",
     "output_type": "stream",
     "text": [
      " 96%|██████████████████████████████████████████████████████████████████▍  | 1186/1232 [02:05<00:05,  8.66it/s]"
     ]
    },
    {
     "name": "stdout",
     "output_type": "stream",
     "text": [
      "\n",
      "image 1/1 /mnt/c/Adrianov/Projects/trash-detector/Littering--8/test/images/video_9_23_jpg.rf.cba22ca3a8e604b8fbf82e07c7cb12c5.jpg: 256x416 2 Persons, 20.3ms\n",
      "Speed: 2.1ms preprocess, 20.3ms inference, 2.7ms postprocess per image at shape (1, 3, 256, 416)\n"
     ]
    },
    {
     "name": "stderr",
     "output_type": "stream",
     "text": [
      " 96%|██████████████████████████████████████████████████████████████████▍  | 1187/1232 [02:05<00:05,  8.24it/s]"
     ]
    },
    {
     "name": "stdout",
     "output_type": "stream",
     "text": [
      "\n",
      "image 1/1 /mnt/c/Adrianov/Projects/trash-detector/Littering--8/test/images/video_9_24_jpg.rf.0339df9161ea226d92262d296b54ca40.jpg: 256x416 2 Persons, 12.8ms\n",
      "Speed: 1.9ms preprocess, 12.8ms inference, 2.0ms postprocess per image at shape (1, 3, 256, 416)\n",
      "\n",
      "image 1/1 /mnt/c/Adrianov/Projects/trash-detector/Littering--8/test/images/video_9_24_jpg.rf.edc1750c122dad3021294477fd302d38.jpg: 256x416 2 Persons, 18.5ms\n",
      "Speed: 1.9ms preprocess, 18.5ms inference, 2.6ms postprocess per image at shape (1, 3, 256, 416)\n"
     ]
    },
    {
     "name": "stderr",
     "output_type": "stream",
     "text": [
      " 97%|██████████████████████████████████████████████████████████████████▌  | 1189/1232 [02:05<00:04,  9.25it/s]"
     ]
    },
    {
     "name": "stdout",
     "output_type": "stream",
     "text": [
      "\n",
      "image 1/1 /mnt/c/Adrianov/Projects/trash-detector/Littering--8/test/images/video_9_24_jpg.rf.eff31a80de8c800b4dcbfbf8a08e5daa.jpg: 256x416 3 Persons, 14.4ms\n",
      "Speed: 2.3ms preprocess, 14.4ms inference, 1.8ms postprocess per image at shape (1, 3, 256, 416)\n",
      "\n",
      "image 1/1 /mnt/c/Adrianov/Projects/trash-detector/Littering--8/test/images/video_9_25_jpg.rf.40023580657bd4302feaad541edb8fb6.jpg: 256x416 2 Persons, 12.8ms\n",
      "Speed: 2.2ms preprocess, 12.8ms inference, 1.6ms postprocess per image at shape (1, 3, 256, 416)\n"
     ]
    },
    {
     "name": "stderr",
     "output_type": "stream",
     "text": [
      " 97%|██████████████████████████████████████████████████████████████████▋  | 1191/1232 [02:05<00:04,  9.97it/s]"
     ]
    },
    {
     "name": "stdout",
     "output_type": "stream",
     "text": [
      "\n",
      "image 1/1 /mnt/c/Adrianov/Projects/trash-detector/Littering--8/test/images/video_9_25_jpg.rf.5dd774664bfa30c1e897b127db5285d5.jpg: 256x416 2 Persons, 15.5ms\n",
      "Speed: 1.8ms preprocess, 15.5ms inference, 1.6ms postprocess per image at shape (1, 3, 256, 416)\n",
      "\n",
      "image 1/1 /mnt/c/Adrianov/Projects/trash-detector/Littering--8/test/images/video_9_25_jpg.rf.e093a585a144a19dff7dc0605ba2a5f6.jpg: 256x416 3 Persons, 14.6ms\n",
      "Speed: 1.9ms preprocess, 14.6ms inference, 1.4ms postprocess per image at shape (1, 3, 256, 416)\n"
     ]
    },
    {
     "name": "stderr",
     "output_type": "stream",
     "text": [
      " 97%|██████████████████████████████████████████████████████████████████▊  | 1193/1232 [02:06<00:03, 10.64it/s]"
     ]
    },
    {
     "name": "stdout",
     "output_type": "stream",
     "text": [
      "\n",
      "image 1/1 /mnt/c/Adrianov/Projects/trash-detector/Littering--8/test/images/video_9_26_jpg.rf.0220b4f5ff66eaf6c0339fef04f9e45d.jpg: 256x416 2 Persons, 13.0ms\n",
      "Speed: 1.6ms preprocess, 13.0ms inference, 1.6ms postprocess per image at shape (1, 3, 256, 416)\n",
      "\n",
      "image 1/1 /mnt/c/Adrianov/Projects/trash-detector/Littering--8/test/images/video_9_26_jpg.rf.16aea32aaca68a35b51eb6d09bde55a8.jpg: 256x416 2 Persons, 13.0ms\n",
      "Speed: 2.2ms preprocess, 13.0ms inference, 1.6ms postprocess per image at shape (1, 3, 256, 416)\n"
     ]
    },
    {
     "name": "stderr",
     "output_type": "stream",
     "text": [
      " 97%|██████████████████████████████████████████████████████████████████▉  | 1195/1232 [02:06<00:03, 10.89it/s]"
     ]
    },
    {
     "name": "stdout",
     "output_type": "stream",
     "text": [
      "\n",
      "image 1/1 /mnt/c/Adrianov/Projects/trash-detector/Littering--8/test/images/video_9_26_jpg.rf.a6f3cc79d928f9778336208ec0c8d1e9.jpg: 256x416 3 Persons, 14.4ms\n",
      "Speed: 2.0ms preprocess, 14.4ms inference, 2.8ms postprocess per image at shape (1, 3, 256, 416)\n",
      "\n",
      "image 1/1 /mnt/c/Adrianov/Projects/trash-detector/Littering--8/test/images/video_9_27_jpg.rf.7e6a1e2b33c9cfcede2b2457506ae134.jpg: 256x416 2 Persons, 12.8ms\n",
      "Speed: 2.1ms preprocess, 12.8ms inference, 1.4ms postprocess per image at shape (1, 3, 256, 416)\n"
     ]
    },
    {
     "name": "stderr",
     "output_type": "stream",
     "text": [
      " 97%|███████████████████████████████████████████████████████████████████  | 1197/1232 [02:06<00:03, 11.09it/s]"
     ]
    },
    {
     "name": "stdout",
     "output_type": "stream",
     "text": [
      "\n",
      "image 1/1 /mnt/c/Adrianov/Projects/trash-detector/Littering--8/test/images/video_9_27_jpg.rf.8051a66ee54d7c0362cec004932b967f.jpg: 256x416 2 Persons, 18.0ms\n",
      "Speed: 2.0ms preprocess, 18.0ms inference, 1.5ms postprocess per image at shape (1, 3, 256, 416)\n",
      "\n",
      "image 1/1 /mnt/c/Adrianov/Projects/trash-detector/Littering--8/test/images/video_9_27_jpg.rf.cd17d314b7ebe0e6069b13f9e9e93288.jpg: 256x416 3 Persons, 18.6ms\n",
      "Speed: 2.1ms preprocess, 18.6ms inference, 2.6ms postprocess per image at shape (1, 3, 256, 416)\n"
     ]
    },
    {
     "name": "stderr",
     "output_type": "stream",
     "text": [
      " 97%|███████████████████████████████████████████████████████████████████▏ | 1199/1232 [02:06<00:02, 11.06it/s]"
     ]
    },
    {
     "name": "stdout",
     "output_type": "stream",
     "text": [
      "\n",
      "image 1/1 /mnt/c/Adrianov/Projects/trash-detector/Littering--8/test/images/video_9_28_jpg.rf.01de5a50a41554b7559995bf708a7fbd.jpg: 256x416 3 Persons, 19.3ms\n",
      "Speed: 2.0ms preprocess, 19.3ms inference, 2.6ms postprocess per image at shape (1, 3, 256, 416)\n",
      "\n",
      "image 1/1 /mnt/c/Adrianov/Projects/trash-detector/Littering--8/test/images/video_9_28_jpg.rf.1158907adbd6a9bff5f6b9a39edf9261.jpg: 256x416 2 Persons, 12.9ms\n",
      "Speed: 2.0ms preprocess, 12.9ms inference, 3.1ms postprocess per image at shape (1, 3, 256, 416)\n"
     ]
    },
    {
     "name": "stderr",
     "output_type": "stream",
     "text": [
      " 97%|███████████████████████████████████████████████████████████████████▎ | 1201/1232 [02:06<00:02, 10.94it/s]"
     ]
    },
    {
     "name": "stdout",
     "output_type": "stream",
     "text": [
      "\n",
      "image 1/1 /mnt/c/Adrianov/Projects/trash-detector/Littering--8/test/images/video_9_28_jpg.rf.c1175076beec1d4228c67145035534db.jpg: 256x416 2 Persons, 12.9ms\n",
      "Speed: 3.5ms preprocess, 12.9ms inference, 1.5ms postprocess per image at shape (1, 3, 256, 416)\n",
      "\n",
      "image 1/1 /mnt/c/Adrianov/Projects/trash-detector/Littering--8/test/images/video_9_29_jpg.rf.7ca463eb12d4d69c92f604e76d3971e6.jpg: 256x416 3 Persons, 12.8ms\n",
      "Speed: 1.6ms preprocess, 12.8ms inference, 1.9ms postprocess per image at shape (1, 3, 256, 416)\n"
     ]
    },
    {
     "name": "stderr",
     "output_type": "stream",
     "text": [
      " 98%|███████████████████████████████████████████████████████████████████▍ | 1203/1232 [02:07<00:02, 11.01it/s]"
     ]
    },
    {
     "name": "stdout",
     "output_type": "stream",
     "text": [
      "\n",
      "image 1/1 /mnt/c/Adrianov/Projects/trash-detector/Littering--8/test/images/video_9_29_jpg.rf.c4b802ae80e07aafb548cc82ccefe4ff.jpg: 256x416 2 Persons, 12.9ms\n",
      "Speed: 1.9ms preprocess, 12.9ms inference, 2.7ms postprocess per image at shape (1, 3, 256, 416)\n",
      "\n",
      "image 1/1 /mnt/c/Adrianov/Projects/trash-detector/Littering--8/test/images/video_9_29_jpg.rf.ca5b7ad7f0a08b6f41eee5cfeb096a82.jpg: 256x416 2 Persons, 12.8ms\n",
      "Speed: 2.5ms preprocess, 12.8ms inference, 1.5ms postprocess per image at shape (1, 3, 256, 416)\n"
     ]
    },
    {
     "name": "stderr",
     "output_type": "stream",
     "text": [
      " 98%|███████████████████████████████████████████████████████████████████▍ | 1205/1232 [02:07<00:02, 11.35it/s]"
     ]
    },
    {
     "name": "stdout",
     "output_type": "stream",
     "text": [
      "\n",
      "image 1/1 /mnt/c/Adrianov/Projects/trash-detector/Littering--8/test/images/video_9_2_jpg.rf.10fdaa2b8a9d3d120eae973bd20fca2c.jpg: 256x416 2 Persons, 20.4ms\n",
      "Speed: 2.3ms preprocess, 20.4ms inference, 2.8ms postprocess per image at shape (1, 3, 256, 416)\n",
      "\n",
      "image 1/1 /mnt/c/Adrianov/Projects/trash-detector/Littering--8/test/images/video_9_2_jpg.rf.405055ff5d6e029ac9a3be94068a6800.jpg: 256x416 2 Persons, 13.4ms\n",
      "Speed: 2.1ms preprocess, 13.4ms inference, 1.4ms postprocess per image at shape (1, 3, 256, 416)\n"
     ]
    },
    {
     "name": "stderr",
     "output_type": "stream",
     "text": [
      " 98%|███████████████████████████████████████████████████████████████████▌ | 1207/1232 [02:07<00:02, 11.18it/s]"
     ]
    },
    {
     "name": "stdout",
     "output_type": "stream",
     "text": [
      "\n",
      "image 1/1 /mnt/c/Adrianov/Projects/trash-detector/Littering--8/test/images/video_9_2_jpg.rf.b1bc209a46b8ed13eb085caa5f613d8b.jpg: 256x416 2 Persons, 13.2ms\n",
      "Speed: 2.0ms preprocess, 13.2ms inference, 1.4ms postprocess per image at shape (1, 3, 256, 416)\n",
      "\n",
      "image 1/1 /mnt/c/Adrianov/Projects/trash-detector/Littering--8/test/images/video_9_30_jpg.rf.8f9aefac0d6ac55263193bd0f451f5ee.jpg: 256x416 2 Persons, 13.0ms\n",
      "Speed: 4.2ms preprocess, 13.0ms inference, 1.8ms postprocess per image at shape (1, 3, 256, 416)\n"
     ]
    },
    {
     "name": "stderr",
     "output_type": "stream",
     "text": [
      " 98%|███████████████████████████████████████████████████████████████████▋ | 1209/1232 [02:07<00:02,  9.93it/s]"
     ]
    },
    {
     "name": "stdout",
     "output_type": "stream",
     "text": [
      "\n",
      "image 1/1 /mnt/c/Adrianov/Projects/trash-detector/Littering--8/test/images/video_9_30_jpg.rf.d88b5a7c6116e73c36440e92631f38a6.jpg: 256x416 2 Persons, 13.6ms\n",
      "Speed: 2.4ms preprocess, 13.6ms inference, 1.9ms postprocess per image at shape (1, 3, 256, 416)\n",
      "\n",
      "image 1/1 /mnt/c/Adrianov/Projects/trash-detector/Littering--8/test/images/video_9_30_jpg.rf.d9dd3fdc302481af687c3cb0e52f8cbe.jpg: 256x416 2 Persons, 13.9ms\n",
      "Speed: 3.2ms preprocess, 13.9ms inference, 1.9ms postprocess per image at shape (1, 3, 256, 416)\n"
     ]
    },
    {
     "name": "stderr",
     "output_type": "stream",
     "text": [
      " 98%|███████████████████████████████████████████████████████████████████▊ | 1211/1232 [02:07<00:02,  7.98it/s]"
     ]
    },
    {
     "name": "stdout",
     "output_type": "stream",
     "text": [
      "\n",
      "image 1/1 /mnt/c/Adrianov/Projects/trash-detector/Littering--8/test/images/video_9_3_jpg.rf.1f9060ba0b934a02fc9a9ed35e794f8b.jpg: 256x416 2 Persons, 12.9ms\n",
      "Speed: 2.0ms preprocess, 12.9ms inference, 1.4ms postprocess per image at shape (1, 3, 256, 416)\n",
      "\n",
      "image 1/1 /mnt/c/Adrianov/Projects/trash-detector/Littering--8/test/images/video_9_3_jpg.rf.6ee5a7c38e72f96031b86a558cbfbbfd.jpg: 256x416 2 Persons, 19.7ms\n",
      "Speed: 2.0ms preprocess, 19.7ms inference, 2.6ms postprocess per image at shape (1, 3, 256, 416)\n"
     ]
    },
    {
     "name": "stderr",
     "output_type": "stream",
     "text": [
      " 98%|███████████████████████████████████████████████████████████████████▉ | 1213/1232 [02:08<00:02,  8.75it/s]"
     ]
    },
    {
     "name": "stdout",
     "output_type": "stream",
     "text": [
      "\n",
      "image 1/1 /mnt/c/Adrianov/Projects/trash-detector/Littering--8/test/images/video_9_3_jpg.rf.f6ee4ae71890a9dd459b30da8408eefc.jpg: 256x416 2 Persons, 19.6ms\n",
      "Speed: 4.4ms preprocess, 19.6ms inference, 1.3ms postprocess per image at shape (1, 3, 256, 416)\n",
      "\n",
      "image 1/1 /mnt/c/Adrianov/Projects/trash-detector/Littering--8/test/images/video_9_4_jpg.rf.c092f714257f4dfb97b1649a1f37af6f.jpg: 256x416 2 Persons, 19.9ms\n",
      "Speed: 2.2ms preprocess, 19.9ms inference, 2.3ms postprocess per image at shape (1, 3, 256, 416)\n"
     ]
    },
    {
     "name": "stderr",
     "output_type": "stream",
     "text": [
      " 99%|████████████████████████████████████████████████████████████████████ | 1215/1232 [02:08<00:01,  9.25it/s]"
     ]
    },
    {
     "name": "stdout",
     "output_type": "stream",
     "text": [
      "\n",
      "image 1/1 /mnt/c/Adrianov/Projects/trash-detector/Littering--8/test/images/video_9_4_jpg.rf.e6214ec78bfb0c911469c3f75d70e766.jpg: 256x416 2 Persons, 14.3ms\n",
      "Speed: 1.8ms preprocess, 14.3ms inference, 1.4ms postprocess per image at shape (1, 3, 256, 416)\n",
      "\n",
      "image 1/1 /mnt/c/Adrianov/Projects/trash-detector/Littering--8/test/images/video_9_4_jpg.rf.e98dd0f6bfa0a6b59ed5668de6add947.jpg: 256x416 2 Persons, 12.9ms\n",
      "Speed: 2.2ms preprocess, 12.9ms inference, 1.4ms postprocess per image at shape (1, 3, 256, 416)\n"
     ]
    },
    {
     "name": "stderr",
     "output_type": "stream",
     "text": [
      " 99%|████████████████████████████████████████████████████████████████████▏| 1217/1232 [02:08<00:01,  9.96it/s]"
     ]
    },
    {
     "name": "stdout",
     "output_type": "stream",
     "text": [
      "\n",
      "image 1/1 /mnt/c/Adrianov/Projects/trash-detector/Littering--8/test/images/video_9_5_jpg.rf.0e362b02c22cc0d5de5de3215c9046ba.jpg: 256x416 2 Persons, 12.8ms\n",
      "Speed: 2.2ms preprocess, 12.8ms inference, 1.8ms postprocess per image at shape (1, 3, 256, 416)\n",
      "\n",
      "image 1/1 /mnt/c/Adrianov/Projects/trash-detector/Littering--8/test/images/video_9_5_jpg.rf.1fe859cc7d40a54a5aca59bbaef2f544.jpg: 256x416 2 Persons, 14.8ms\n",
      "Speed: 1.7ms preprocess, 14.8ms inference, 2.5ms postprocess per image at shape (1, 3, 256, 416)\n"
     ]
    },
    {
     "name": "stderr",
     "output_type": "stream",
     "text": [
      " 99%|████████████████████████████████████████████████████████████████████▎| 1219/1232 [02:08<00:01, 10.24it/s]"
     ]
    },
    {
     "name": "stdout",
     "output_type": "stream",
     "text": [
      "\n",
      "image 1/1 /mnt/c/Adrianov/Projects/trash-detector/Littering--8/test/images/video_9_5_jpg.rf.b55aaf8cab999c0c3dd498b534c123b6.jpg: 256x416 2 Persons, 15.3ms\n",
      "Speed: 2.6ms preprocess, 15.3ms inference, 1.8ms postprocess per image at shape (1, 3, 256, 416)\n",
      "\n",
      "image 1/1 /mnt/c/Adrianov/Projects/trash-detector/Littering--8/test/images/video_9_6_jpg.rf.89af1001714bf8fe2c670b9383ed92ce.jpg: 256x416 2 Persons, 12.9ms\n",
      "Speed: 2.2ms preprocess, 12.9ms inference, 1.5ms postprocess per image at shape (1, 3, 256, 416)\n"
     ]
    },
    {
     "name": "stderr",
     "output_type": "stream",
     "text": [
      " 99%|████████████████████████████████████████████████████████████████████▍| 1221/1232 [02:08<00:01, 10.39it/s]"
     ]
    },
    {
     "name": "stdout",
     "output_type": "stream",
     "text": [
      "\n",
      "image 1/1 /mnt/c/Adrianov/Projects/trash-detector/Littering--8/test/images/video_9_6_jpg.rf.babcc19a5f1cf6f7369265f9ec48c018.jpg: 256x416 2 Persons, 13.1ms\n",
      "Speed: 2.0ms preprocess, 13.1ms inference, 1.7ms postprocess per image at shape (1, 3, 256, 416)\n",
      "\n",
      "image 1/1 /mnt/c/Adrianov/Projects/trash-detector/Littering--8/test/images/video_9_6_jpg.rf.d8023fb232e910e1ce5fe917ee45bfc0.jpg: 256x416 2 Persons, 18.8ms\n",
      "Speed: 1.9ms preprocess, 18.8ms inference, 2.6ms postprocess per image at shape (1, 3, 256, 416)\n"
     ]
    },
    {
     "name": "stderr",
     "output_type": "stream",
     "text": [
      " 99%|████████████████████████████████████████████████████████████████████▍| 1223/1232 [02:09<00:00, 10.63it/s]"
     ]
    },
    {
     "name": "stdout",
     "output_type": "stream",
     "text": [
      "\n",
      "image 1/1 /mnt/c/Adrianov/Projects/trash-detector/Littering--8/test/images/video_9_7_jpg.rf.2f0fa6500e24c096bea018a20fc136bf.jpg: 256x416 2 Persons, 18.4ms\n",
      "Speed: 2.0ms preprocess, 18.4ms inference, 1.6ms postprocess per image at shape (1, 3, 256, 416)\n",
      "\n",
      "image 1/1 /mnt/c/Adrianov/Projects/trash-detector/Littering--8/test/images/video_9_7_jpg.rf.a871af4c7dd992f8b6983f42ed7d08d9.jpg: 256x416 2 Persons, 13.4ms\n",
      "Speed: 1.8ms preprocess, 13.4ms inference, 1.5ms postprocess per image at shape (1, 3, 256, 416)\n"
     ]
    },
    {
     "name": "stderr",
     "output_type": "stream",
     "text": [
      " 99%|████████████████████████████████████████████████████████████████████▌| 1225/1232 [02:09<00:00, 10.64it/s]"
     ]
    },
    {
     "name": "stdout",
     "output_type": "stream",
     "text": [
      "\n",
      "image 1/1 /mnt/c/Adrianov/Projects/trash-detector/Littering--8/test/images/video_9_7_jpg.rf.c0192d5ca64741c0dd9e3aeb6488fdad.jpg: 256x416 2 Persons, 12.8ms\n",
      "Speed: 1.7ms preprocess, 12.8ms inference, 1.7ms postprocess per image at shape (1, 3, 256, 416)\n",
      "\n",
      "image 1/1 /mnt/c/Adrianov/Projects/trash-detector/Littering--8/test/images/video_9_8_jpg.rf.3d9dd0a90c0addff65d6e159d4d1c454.jpg: 256x416 2 Persons, 14.0ms\n",
      "Speed: 2.1ms preprocess, 14.0ms inference, 1.5ms postprocess per image at shape (1, 3, 256, 416)\n"
     ]
    },
    {
     "name": "stderr",
     "output_type": "stream",
     "text": [
      "100%|████████████████████████████████████████████████████████████████████▋| 1227/1232 [02:09<00:00, 10.76it/s]"
     ]
    },
    {
     "name": "stdout",
     "output_type": "stream",
     "text": [
      "\n",
      "image 1/1 /mnt/c/Adrianov/Projects/trash-detector/Littering--8/test/images/video_9_8_jpg.rf.9535233f58bb505273b2461481276a18.jpg: 256x416 2 Persons, 13.7ms\n",
      "Speed: 2.5ms preprocess, 13.7ms inference, 3.5ms postprocess per image at shape (1, 3, 256, 416)\n",
      "\n",
      "image 1/1 /mnt/c/Adrianov/Projects/trash-detector/Littering--8/test/images/video_9_8_jpg.rf.fe8e315d2c9559c8c47f4df95671e27a.jpg: 256x416 2 Persons, 13.0ms\n",
      "Speed: 4.4ms preprocess, 13.0ms inference, 1.9ms postprocess per image at shape (1, 3, 256, 416)\n"
     ]
    },
    {
     "name": "stderr",
     "output_type": "stream",
     "text": [
      "100%|████████████████████████████████████████████████████████████████████▊| 1229/1232 [02:09<00:00,  8.80it/s]"
     ]
    },
    {
     "name": "stdout",
     "output_type": "stream",
     "text": [
      "\n",
      "image 1/1 /mnt/c/Adrianov/Projects/trash-detector/Littering--8/test/images/video_9_9_jpg.rf.091a57f09839a85ce67f102cc2e259b1.jpg: 256x416 2 Persons, 13.0ms\n",
      "Speed: 2.7ms preprocess, 13.0ms inference, 2.0ms postprocess per image at shape (1, 3, 256, 416)\n"
     ]
    },
    {
     "name": "stderr",
     "output_type": "stream",
     "text": [
      "100%|████████████████████████████████████████████████████████████████████▉| 1230/1232 [02:09<00:00,  8.88it/s]"
     ]
    },
    {
     "name": "stdout",
     "output_type": "stream",
     "text": [
      "\n",
      "image 1/1 /mnt/c/Adrianov/Projects/trash-detector/Littering--8/test/images/video_9_9_jpg.rf.1621882e52fbd06b9399f2f741d1b719.jpg: 256x416 2 Persons, 12.8ms\n",
      "Speed: 2.1ms preprocess, 12.8ms inference, 2.5ms postprocess per image at shape (1, 3, 256, 416)\n",
      "\n",
      "image 1/1 /mnt/c/Adrianov/Projects/trash-detector/Littering--8/test/images/video_9_9_jpg.rf.d5aec234f188938ac729f06f427e82d6.jpg: 256x416 2 Persons, 13.7ms\n",
      "Speed: 2.5ms preprocess, 13.7ms inference, 1.6ms postprocess per image at shape (1, 3, 256, 416)\n"
     ]
    },
    {
     "name": "stderr",
     "output_type": "stream",
     "text": [
      "100%|█████████████████████████████████████████████████████████████████████| 1232/1232 [02:10<00:00,  9.47it/s]\n"
     ]
    }
   ],
   "source": [
    "from ultralytics import YOLO\n",
    "from tqdm import tqdm\n",
    "\n",
    "# Load a model\n",
    "model = YOLO(os.path.join(SCRIPT_DIR, \"model/Trash Detector/weights/last.pt\"))\n",
    "\n",
    "test_dir = os.path.join(SCRIPT_DIR, \"Littering--8/test/images\")\n",
    "\n",
    "files = [os.path.join(test_dir, file) for file in os.listdir(test_dir) if file.endswith(\".jpg\")]\n",
    "# Process results generator\n",
    "for i in tqdm(range(len(files))):\n",
    "    file = files[i]\n",
    "    result = model(file)[0]\n",
    "    boxes = result.boxes \n",
    "    masks = result.masks \n",
    "    keypoints = result.keypoints \n",
    "    probs = result.probs \n",
    "    obb = result.obb \n",
    "    f = os.path.join(SCRIPT_DIR,f\"yolo_res/images/result_{i}.jpg\")\n",
    "    f_text = os.path.join(SCRIPT_DIR,f\"yolo_res/label/result_{i}.txt\")\n",
    "    # print(f)\n",
    "    result.save(filename=f)\n",
    "    result.save_txt(txt_file=f_text)"
   ]
  },
  {
   "cell_type": "markdown",
   "id": "d82446f0-f7e6-4922-9ed5-70fa6eac3040",
   "metadata": {},
   "source": [
    "## Segmenting Region of Proposal"
   ]
  },
  {
   "cell_type": "code",
   "execution_count": 3,
   "id": "d226d3d9-dd77-48db-9825-e2c9b9849072",
   "metadata": {},
   "outputs": [
    {
     "name": "stderr",
     "output_type": "stream",
     "text": [
      "  0%|                                                                                | 0/1219 [00:00<?, ?it/s]\n"
     ]
    }
   ],
   "source": [
    "from classifier import segment\n",
    "from tqdm import tqdm\n",
    "\n",
    "labels = [f for f in os.listdir(os.path.join(SCRIPT_DIR,f\"yolo_res/label/\")) if f.endswith(\".txt\")]\n",
    "imgs = [f for f in os.listdir(os.path.join(SCRIPT_DIR,f\"yolo_res/images/\")) if f.endswith(\".jpg\")]\n",
    "\n",
    "for i in tqdm(range(len(labels))):\n",
    "    label = os.path.join(SCRIPT_DIR, f\"yolo_res/label/{labels[i]}\")\n",
    "    img = os.path.join(SCRIPT_DIR, f\"yolo_res/images/{imgs[i]}\")\n",
    "    overlaps = segment.find_overlapping_regions(label)\n",
    "    cropped_regions = segment.crop_regions(img, overlaps, label, i, os.path.join(SCRIPT_DIR,f\"masks/imgs/\"))\n",
    "    break"
   ]
  },
  {
   "cell_type": "code",
   "execution_count": null,
   "id": "8b78934f-de16-4166-8467-985fd372d970",
   "metadata": {},
   "outputs": [],
   "source": []
  },
  {
   "cell_type": "code",
   "execution_count": null,
   "id": "1b5844d1-28b4-4a37-8162-a528566edc05",
   "metadata": {},
   "outputs": [],
   "source": []
  }
 ],
 "metadata": {
  "kernelspec": {
   "display_name": "Python (trah_venv)",
   "language": "python",
   "name": "trash_venv"
  },
  "language_info": {
   "codemirror_mode": {
    "name": "ipython",
    "version": 3
   },
   "file_extension": ".py",
   "mimetype": "text/x-python",
   "name": "python",
   "nbconvert_exporter": "python",
   "pygments_lexer": "ipython3",
   "version": "3.12.3"
  }
 },
 "nbformat": 4,
 "nbformat_minor": 5
}
