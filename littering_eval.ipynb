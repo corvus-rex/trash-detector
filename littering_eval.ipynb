{
 "cells": [
  {
   "cell_type": "code",
   "execution_count": null,
   "id": "99b76cf4-e1a9-450f-8062-ee377f75509d",
   "metadata": {},
   "outputs": [],
   "source": [
    "!pip install roboflow"
   ]
  },
  {
   "cell_type": "code",
   "execution_count": 1,
   "id": "88be42de-1fb6-4436-a262-045908c4e8f0",
   "metadata": {},
   "outputs": [
    {
     "name": "stdout",
     "output_type": "stream",
     "text": [
      "loading Roboflow workspace...\n",
      "loading Roboflow project...\n"
     ]
    },
    {
     "name": "stderr",
     "output_type": "stream",
     "text": [
      "Downloading Dataset Version Zip in Littering--8 to yolov11:: 100%|█| 4185192/4185192 [19:11<00:00, 3633.93it/s"
     ]
    },
    {
     "name": "stdout",
     "output_type": "stream",
     "text": [
      "\n"
     ]
    },
    {
     "name": "stderr",
     "output_type": "stream",
     "text": [
      "\n",
      "Extracting Dataset Version Zip to Littering--8 in yolov11:: 100%|███████| 34812/34812 [07:36<00:00, 76.29it/s]\n"
     ]
    }
   ],
   "source": [
    "from roboflow import Roboflow\n",
    "import os\n",
    "\n",
    "rf = Roboflow(api_key=os.environ[\"ROBOFLOW_TOKEN\"])\n",
    "project = rf.workspace(\"thesis-kztn8\").project(\"littering-whlsk\")\n",
    "version = project.version(8)\n",
    "dataset = version.download(\"yolov11\")"
   ]
  },
  {
   "cell_type": "code",
   "execution_count": 1,
   "id": "7d592aaa-f2f8-48ee-9c36-1a7f8a659bf4",
   "metadata": {},
   "outputs": [],
   "source": [
    "import os\n",
    "SCRIPT_DIR = os.path.abspath(\"\")"
   ]
  },
  {
   "cell_type": "code",
   "execution_count": 2,
   "id": "6cf94010-8800-4a37-bf92-6c29d5eb6a8f",
   "metadata": {},
   "outputs": [
    {
     "ename": "KeyboardInterrupt",
     "evalue": "",
     "output_type": "error",
     "traceback": [
      "\u001b[0;31m---------------------------------------------------------------------------\u001b[0m",
      "\u001b[0;31mKeyboardInterrupt\u001b[0m                         Traceback (most recent call last)",
      "Cell \u001b[0;32mIn[2], line 1\u001b[0m\n\u001b[0;32m----> 1\u001b[0m \u001b[38;5;28;01mfrom\u001b[39;00m \u001b[38;5;21;01multralytics\u001b[39;00m \u001b[38;5;28;01mimport\u001b[39;00m YOLO\n\u001b[1;32m      2\u001b[0m \u001b[38;5;28;01mfrom\u001b[39;00m \u001b[38;5;21;01mtqdm\u001b[39;00m \u001b[38;5;28;01mimport\u001b[39;00m tqdm\n\u001b[1;32m      4\u001b[0m \u001b[38;5;66;03m# Load a model\u001b[39;00m\n",
      "File \u001b[0;32m/mnt/c/Adrianov/Projects/trash-detector/trash_venv/lib/python3.12/site-packages/ultralytics/__init__.py:11\u001b[0m\n\u001b[1;32m      8\u001b[0m \u001b[38;5;28;01mif\u001b[39;00m \u001b[38;5;129;01mnot\u001b[39;00m os\u001b[38;5;241m.\u001b[39menviron\u001b[38;5;241m.\u001b[39mget(\u001b[38;5;124m\"\u001b[39m\u001b[38;5;124mOMP_NUM_THREADS\u001b[39m\u001b[38;5;124m\"\u001b[39m):\n\u001b[1;32m      9\u001b[0m     os\u001b[38;5;241m.\u001b[39menviron[\u001b[38;5;124m\"\u001b[39m\u001b[38;5;124mOMP_NUM_THREADS\u001b[39m\u001b[38;5;124m\"\u001b[39m] \u001b[38;5;241m=\u001b[39m \u001b[38;5;124m\"\u001b[39m\u001b[38;5;124m1\u001b[39m\u001b[38;5;124m\"\u001b[39m  \u001b[38;5;66;03m# default for reduced CPU utilization during training\u001b[39;00m\n\u001b[0;32m---> 11\u001b[0m \u001b[38;5;28;01mfrom\u001b[39;00m \u001b[38;5;21;01multralytics\u001b[39;00m\u001b[38;5;21;01m.\u001b[39;00m\u001b[38;5;21;01mmodels\u001b[39;00m \u001b[38;5;28;01mimport\u001b[39;00m NAS, RTDETR, SAM, YOLO, FastSAM, YOLOWorld\n\u001b[1;32m     12\u001b[0m \u001b[38;5;28;01mfrom\u001b[39;00m \u001b[38;5;21;01multralytics\u001b[39;00m\u001b[38;5;21;01m.\u001b[39;00m\u001b[38;5;21;01mutils\u001b[39;00m \u001b[38;5;28;01mimport\u001b[39;00m ASSETS, SETTINGS\n\u001b[1;32m     13\u001b[0m \u001b[38;5;28;01mfrom\u001b[39;00m \u001b[38;5;21;01multralytics\u001b[39;00m\u001b[38;5;21;01m.\u001b[39;00m\u001b[38;5;21;01mutils\u001b[39;00m\u001b[38;5;21;01m.\u001b[39;00m\u001b[38;5;21;01mchecks\u001b[39;00m \u001b[38;5;28;01mimport\u001b[39;00m check_yolo \u001b[38;5;28;01mas\u001b[39;00m checks\n",
      "File \u001b[0;32m/mnt/c/Adrianov/Projects/trash-detector/trash_venv/lib/python3.12/site-packages/ultralytics/models/__init__.py:3\u001b[0m\n\u001b[1;32m      1\u001b[0m \u001b[38;5;66;03m# Ultralytics YOLO 🚀, AGPL-3.0 license\u001b[39;00m\n\u001b[0;32m----> 3\u001b[0m \u001b[38;5;28;01mfrom\u001b[39;00m \u001b[38;5;21;01m.\u001b[39;00m\u001b[38;5;21;01mfastsam\u001b[39;00m \u001b[38;5;28;01mimport\u001b[39;00m FastSAM\n\u001b[1;32m      4\u001b[0m \u001b[38;5;28;01mfrom\u001b[39;00m \u001b[38;5;21;01m.\u001b[39;00m\u001b[38;5;21;01mnas\u001b[39;00m \u001b[38;5;28;01mimport\u001b[39;00m NAS\n\u001b[1;32m      5\u001b[0m \u001b[38;5;28;01mfrom\u001b[39;00m \u001b[38;5;21;01m.\u001b[39;00m\u001b[38;5;21;01mrtdetr\u001b[39;00m \u001b[38;5;28;01mimport\u001b[39;00m RTDETR\n",
      "File \u001b[0;32m/mnt/c/Adrianov/Projects/trash-detector/trash_venv/lib/python3.12/site-packages/ultralytics/models/fastsam/__init__.py:3\u001b[0m\n\u001b[1;32m      1\u001b[0m \u001b[38;5;66;03m# Ultralytics YOLO 🚀, AGPL-3.0 license\u001b[39;00m\n\u001b[0;32m----> 3\u001b[0m \u001b[38;5;28;01mfrom\u001b[39;00m \u001b[38;5;21;01m.\u001b[39;00m\u001b[38;5;21;01mmodel\u001b[39;00m \u001b[38;5;28;01mimport\u001b[39;00m FastSAM\n\u001b[1;32m      4\u001b[0m \u001b[38;5;28;01mfrom\u001b[39;00m \u001b[38;5;21;01m.\u001b[39;00m\u001b[38;5;21;01mpredict\u001b[39;00m \u001b[38;5;28;01mimport\u001b[39;00m FastSAMPredictor\n\u001b[1;32m      5\u001b[0m \u001b[38;5;28;01mfrom\u001b[39;00m \u001b[38;5;21;01m.\u001b[39;00m\u001b[38;5;21;01mval\u001b[39;00m \u001b[38;5;28;01mimport\u001b[39;00m FastSAMValidator\n",
      "File \u001b[0;32m/mnt/c/Adrianov/Projects/trash-detector/trash_venv/lib/python3.12/site-packages/ultralytics/models/fastsam/model.py:5\u001b[0m\n\u001b[1;32m      1\u001b[0m \u001b[38;5;66;03m# Ultralytics YOLO 🚀, AGPL-3.0 license\u001b[39;00m\n\u001b[1;32m      3\u001b[0m \u001b[38;5;28;01mfrom\u001b[39;00m \u001b[38;5;21;01mpathlib\u001b[39;00m \u001b[38;5;28;01mimport\u001b[39;00m Path\n\u001b[0;32m----> 5\u001b[0m \u001b[38;5;28;01mfrom\u001b[39;00m \u001b[38;5;21;01multralytics\u001b[39;00m\u001b[38;5;21;01m.\u001b[39;00m\u001b[38;5;21;01mengine\u001b[39;00m\u001b[38;5;21;01m.\u001b[39;00m\u001b[38;5;21;01mmodel\u001b[39;00m \u001b[38;5;28;01mimport\u001b[39;00m Model\n\u001b[1;32m      7\u001b[0m \u001b[38;5;28;01mfrom\u001b[39;00m \u001b[38;5;21;01m.\u001b[39;00m\u001b[38;5;21;01mpredict\u001b[39;00m \u001b[38;5;28;01mimport\u001b[39;00m FastSAMPredictor\n\u001b[1;32m      8\u001b[0m \u001b[38;5;28;01mfrom\u001b[39;00m \u001b[38;5;21;01m.\u001b[39;00m\u001b[38;5;21;01mval\u001b[39;00m \u001b[38;5;28;01mimport\u001b[39;00m FastSAMValidator\n",
      "File \u001b[0;32m/mnt/c/Adrianov/Projects/trash-detector/trash_venv/lib/python3.12/site-packages/ultralytics/engine/model.py:8\u001b[0m\n\u001b[1;32m      5\u001b[0m \u001b[38;5;28;01mfrom\u001b[39;00m \u001b[38;5;21;01mtyping\u001b[39;00m \u001b[38;5;28;01mimport\u001b[39;00m Dict, List, Union\n\u001b[1;32m      7\u001b[0m \u001b[38;5;28;01mimport\u001b[39;00m \u001b[38;5;21;01mnumpy\u001b[39;00m \u001b[38;5;28;01mas\u001b[39;00m \u001b[38;5;21;01mnp\u001b[39;00m\n\u001b[0;32m----> 8\u001b[0m \u001b[38;5;28;01mimport\u001b[39;00m \u001b[38;5;21;01mtorch\u001b[39;00m\n\u001b[1;32m      9\u001b[0m \u001b[38;5;28;01mfrom\u001b[39;00m \u001b[38;5;21;01mPIL\u001b[39;00m \u001b[38;5;28;01mimport\u001b[39;00m Image\n\u001b[1;32m     11\u001b[0m \u001b[38;5;28;01mfrom\u001b[39;00m \u001b[38;5;21;01multralytics\u001b[39;00m\u001b[38;5;21;01m.\u001b[39;00m\u001b[38;5;21;01mcfg\u001b[39;00m \u001b[38;5;28;01mimport\u001b[39;00m TASK2DATA, get_cfg, get_save_dir\n",
      "File \u001b[0;32m/mnt/c/Adrianov/Projects/trash-detector/trash_venv/lib/python3.12/site-packages/torch/__init__.py:367\u001b[0m\n\u001b[1;32m    365\u001b[0m     \u001b[38;5;28;01mif\u001b[39;00m USE_GLOBAL_DEPS:\n\u001b[1;32m    366\u001b[0m         _load_global_deps()\n\u001b[0;32m--> 367\u001b[0m     \u001b[38;5;28;01mfrom\u001b[39;00m \u001b[38;5;21;01mtorch\u001b[39;00m\u001b[38;5;21;01m.\u001b[39;00m\u001b[38;5;21;01m_C\u001b[39;00m \u001b[38;5;28;01mimport\u001b[39;00m \u001b[38;5;241m*\u001b[39m  \u001b[38;5;66;03m# noqa: F403\u001b[39;00m\n\u001b[1;32m    370\u001b[0m \u001b[38;5;28;01mclass\u001b[39;00m \u001b[38;5;21;01mSymInt\u001b[39;00m:\n\u001b[1;32m    371\u001b[0m \u001b[38;5;250m    \u001b[39m\u001b[38;5;124;03m\"\"\"\u001b[39;00m\n\u001b[1;32m    372\u001b[0m \u001b[38;5;124;03m    Like an int (including magic methods), but redirects all operations on the\u001b[39;00m\n\u001b[1;32m    373\u001b[0m \u001b[38;5;124;03m    wrapped node. This is used in particular to symbolically record operations\u001b[39;00m\n\u001b[1;32m    374\u001b[0m \u001b[38;5;124;03m    in the symbolic shape workflow.\u001b[39;00m\n\u001b[1;32m    375\u001b[0m \u001b[38;5;124;03m    \"\"\"\u001b[39;00m\n",
      "File \u001b[0;32m<frozen importlib._bootstrap>:463\u001b[0m, in \u001b[0;36m_lock_unlock_module\u001b[0;34m(name)\u001b[0m\n",
      "\u001b[0;31mKeyboardInterrupt\u001b[0m: "
     ]
    }
   ],
   "source": [
    "from ultralytics import YOLO\n",
    "from tqdm import tqdm\n",
    "\n",
    "# Load a model\n",
    "model = YOLO(os.path.join(SCRIPT_DIR, \"model/Trash Detector/weights/last.pt\"))\n",
    "\n",
    "test_dir = os.path.join(SCRIPT_DIR, \"Littering--8/test/images\")\n",
    "\n",
    "files = [os.path.join(test_dir, file) for file in os.listdir(test_dir) if file.endswith(\".jpg\")]\n",
    "# Process results generator\n",
    "for i in tqdm(range(len(files))):\n",
    "    file = files[i]\n",
    "    result = model(file)[0]\n",
    "    boxes = result.boxes \n",
    "    masks = result.masks \n",
    "    keypoints = result.keypoints \n",
    "    probs = result.probs \n",
    "    obb = result.obb \n",
    "    f = os.path.join(SCRIPT_DIR,f\"yolo_res/images/result_{i}.jpg\")\n",
    "    f_text = os.path.join(SCRIPT_DIR,f\"yolo_res/label/result_{i}.txt\")\n",
    "    # print(f)\n",
    "    result.save(filename=f)\n",
    "    result.save_txt(txt_file=f_text)"
   ]
  },
  {
   "cell_type": "markdown",
   "id": "d82446f0-f7e6-4922-9ed5-70fa6eac3040",
   "metadata": {},
   "source": [
    "## Segmenting Region of Proposal"
   ]
  },
  {
   "cell_type": "code",
   "execution_count": null,
   "id": "d226d3d9-dd77-48db-9825-e2c9b9849072",
   "metadata": {},
   "outputs": [
    {
     "name": "stderr",
     "output_type": "stream",
     "text": [
      "  0%|                             | 1/1219 [00:00<02:04,  9.78it/s]"
     ]
    },
    {
     "name": "stdout",
     "output_type": "stream",
     "text": [
      "/mnt/c/Adrianov/Projects/trash-detector/yolo_res/label/result_0.txt\n",
      "/mnt/c/Adrianov/Projects/trash-detector/yolo_res/images/result_0.jpg\n",
      "obj: 3, obj: 0\n",
      "0.9035377666666666 0.6412182333333334 0.7483167148148149 1.167885285185185\n",
      "0.874238 0.738072 0.365624 0.9054260000000001\n",
      "True\n",
      "False\n",
      "False\n",
      "True\n",
      "True\n",
      "obj: 3, obj: 1\n",
      "0.9035377666666666 0.6412182333333334 0.7483167148148149 1.167885285185185\n",
      "0.5416805 0.46925550000000005 0.386686 0.692122\n",
      "False\n",
      "False\n",
      "True\n",
      "False\n",
      "True\n",
      "obj: 3, obj: 2\n",
      "0.9035377666666666 0.6412182333333334 0.7483167148148149 1.167885285185185\n",
      "0.2321145 -5.000000000005e-07 0.637722 0.9996740000000001\n",
      "False\n",
      "False\n",
      "True\n",
      "True\n",
      "True\n",
      "['1', '0.772378', '0.958101', '0.0539862', '0.0491982']\n",
      "['0', '0.806155', '0.635525', '0.136166', '0.539802']\n",
      "Regions:  [(1417, 1678, 394, 1061)]\n",
      "Cropped image /mnt/c/Adrianov/Projects/trash-detector/yolo_res/images/result_0.jpg and saved result to /mnt/c/Adrianov/Projects/trash-detector/masks/imgs/result_0_0.jpg\n",
      "/mnt/c/Adrianov/Projects/trash-detector/yolo_res/label/result_1.txt\n",
      "/mnt/c/Adrianov/Projects/trash-detector/yolo_res/images/result_1.jpg\n",
      "Cropped image /mnt/c/Adrianov/Projects/trash-detector/yolo_res/images/result_1.jpg and saved result to None\n",
      "/mnt/c/Adrianov/Projects/trash-detector/yolo_res/label/result_10.txt\n",
      "/mnt/c/Adrianov/Projects/trash-detector/yolo_res/images/result_10.jpg\n"
     ]
    },
    {
     "name": "stderr",
     "output_type": "stream",
     "text": [
      "  0%|                             | 3/1219 [00:00<01:55, 10.50it/s]"
     ]
    },
    {
     "name": "stdout",
     "output_type": "stream",
     "text": [
      "Cropped image /mnt/c/Adrianov/Projects/trash-detector/yolo_res/images/result_10.jpg and saved result to None\n",
      "/mnt/c/Adrianov/Projects/trash-detector/yolo_res/label/result_100.txt\n",
      "/mnt/c/Adrianov/Projects/trash-detector/yolo_res/images/result_100.jpg\n",
      "obj: 2, obj: 0\n",
      "0.3564136666666667 0.11267033333333333 0.5590072148148149 0.9606447851851851\n",
      "0.8697280000000001 0.6816059999999999 0.319321 0.951157\n",
      "False\n",
      "True\n",
      "False\n",
      "True\n",
      "True\n",
      "obj: 2, obj: 1\n",
      "0.3564136666666667 0.11267033333333333 0.5590072148148149 0.9606447851851851\n",
      "0.3340445 0.2236455 0.32997350000000003 0.7237545\n",
      "True\n",
      "False\n",
      "False\n",
      "True\n",
      "True\n",
      "obj: 2, obj: 3\n",
      "0.3564136666666667 0.11267033333333333 0.5590072148148149 0.9606447851851851\n",
      "0.220208 0.0 0.6092095 1.0000005\n",
      "True\n",
      "False\n",
      "False\n",
      "True\n",
      "True\n",
      "['1', '0.234542', '0.759826', '0.03541', '0.0312672']\n",
      "['0', '0.278845', '0.526864', '0.110399', '0.393781']\n",
      "['0', '0.110104', '0.804605', '0.220208', '0.390791']\n",
      "Regions:  [(0, 641, 356, 1080)]\n",
      "Cropped image /mnt/c/Adrianov/Projects/trash-detector/yolo_res/images/result_100.jpg and saved result to /mnt/c/Adrianov/Projects/trash-detector/masks/imgs/result_3_0.jpg\n",
      "/mnt/c/Adrianov/Projects/trash-detector/yolo_res/label/result_1000.txt\n",
      "/mnt/c/Adrianov/Projects/trash-detector/yolo_res/images/result_1000.jpg\n"
     ]
    },
    {
     "name": "stderr",
     "output_type": "stream",
     "text": [
      "  1%|▏                            | 7/1219 [00:01<07:19,  2.76it/s]"
     ]
    },
    {
     "name": "stdout",
     "output_type": "stream",
     "text": [
      "Cropped image /mnt/c/Adrianov/Projects/trash-detector/yolo_res/images/result_1000.jpg and saved result to None\n",
      "/mnt/c/Adrianov/Projects/trash-detector/yolo_res/label/result_1001.txt\n",
      "/mnt/c/Adrianov/Projects/trash-detector/yolo_res/images/result_1001.jpg\n",
      "Cropped image /mnt/c/Adrianov/Projects/trash-detector/yolo_res/images/result_1001.jpg and saved result to None\n",
      "/mnt/c/Adrianov/Projects/trash-detector/yolo_res/label/result_1002.txt\n",
      "/mnt/c/Adrianov/Projects/trash-detector/yolo_res/images/result_1002.jpg\n",
      "Cropped image /mnt/c/Adrianov/Projects/trash-detector/yolo_res/images/result_1002.jpg and saved result to None\n",
      "/mnt/c/Adrianov/Projects/trash-detector/yolo_res/label/result_1003.txt\n",
      "/mnt/c/Adrianov/Projects/trash-detector/yolo_res/images/result_1003.jpg\n"
     ]
    },
    {
     "name": "stderr",
     "output_type": "stream",
     "text": [
      "  1%|▏                            | 9/1219 [00:02<05:13,  3.86it/s]"
     ]
    },
    {
     "name": "stdout",
     "output_type": "stream",
     "text": [
      "Cropped image /mnt/c/Adrianov/Projects/trash-detector/yolo_res/images/result_1003.jpg and saved result to None\n",
      "/mnt/c/Adrianov/Projects/trash-detector/yolo_res/label/result_1004.txt\n",
      "/mnt/c/Adrianov/Projects/trash-detector/yolo_res/images/result_1004.jpg\n",
      "Cropped image /mnt/c/Adrianov/Projects/trash-detector/yolo_res/images/result_1004.jpg and saved result to None\n",
      "/mnt/c/Adrianov/Projects/trash-detector/yolo_res/label/result_1005.txt\n",
      "/mnt/c/Adrianov/Projects/trash-detector/yolo_res/images/result_1005.jpg\n",
      "Cropped image /mnt/c/Adrianov/Projects/trash-detector/yolo_res/images/result_1005.jpg and saved result to None\n",
      "/mnt/c/Adrianov/Projects/trash-detector/yolo_res/label/result_1006.txt\n",
      "/mnt/c/Adrianov/Projects/trash-detector/yolo_res/images/result_1006.jpg\n"
     ]
    },
    {
     "name": "stderr",
     "output_type": "stream",
     "text": [
      "  1%|▎                           | 13/1219 [00:02<03:13,  6.24it/s]"
     ]
    },
    {
     "name": "stdout",
     "output_type": "stream",
     "text": [
      "Cropped image /mnt/c/Adrianov/Projects/trash-detector/yolo_res/images/result_1006.jpg and saved result to None\n",
      "/mnt/c/Adrianov/Projects/trash-detector/yolo_res/label/result_1007.txt\n",
      "/mnt/c/Adrianov/Projects/trash-detector/yolo_res/images/result_1007.jpg\n",
      "Cropped image /mnt/c/Adrianov/Projects/trash-detector/yolo_res/images/result_1007.jpg and saved result to None\n",
      "/mnt/c/Adrianov/Projects/trash-detector/yolo_res/label/result_1008.txt\n",
      "/mnt/c/Adrianov/Projects/trash-detector/yolo_res/images/result_1008.jpg\n",
      "Cropped image /mnt/c/Adrianov/Projects/trash-detector/yolo_res/images/result_1008.jpg and saved result to None\n",
      "/mnt/c/Adrianov/Projects/trash-detector/yolo_res/label/result_1009.txt\n",
      "/mnt/c/Adrianov/Projects/trash-detector/yolo_res/images/result_1009.jpg\n"
     ]
    },
    {
     "name": "stderr",
     "output_type": "stream",
     "text": [
      "  1%|▎                           | 15/1219 [00:02<02:48,  7.14it/s]"
     ]
    },
    {
     "name": "stdout",
     "output_type": "stream",
     "text": [
      "Cropped image /mnt/c/Adrianov/Projects/trash-detector/yolo_res/images/result_1009.jpg and saved result to None\n",
      "/mnt/c/Adrianov/Projects/trash-detector/yolo_res/label/result_101.txt\n",
      "/mnt/c/Adrianov/Projects/trash-detector/yolo_res/images/result_101.jpg\n",
      "Cropped image /mnt/c/Adrianov/Projects/trash-detector/yolo_res/images/result_101.jpg and saved result to None\n",
      "/mnt/c/Adrianov/Projects/trash-detector/yolo_res/label/result_1010.txt\n",
      "/mnt/c/Adrianov/Projects/trash-detector/yolo_res/images/result_1010.jpg\n",
      "Cropped image /mnt/c/Adrianov/Projects/trash-detector/yolo_res/images/result_1010.jpg and saved result to None\n"
     ]
    },
    {
     "name": "stderr",
     "output_type": "stream",
     "text": [
      "  1%|▍                           | 17/1219 [00:02<02:30,  7.96it/s]"
     ]
    },
    {
     "name": "stdout",
     "output_type": "stream",
     "text": [
      "/mnt/c/Adrianov/Projects/trash-detector/yolo_res/label/result_1011.txt\n",
      "/mnt/c/Adrianov/Projects/trash-detector/yolo_res/images/result_1011.jpg\n",
      "Cropped image /mnt/c/Adrianov/Projects/trash-detector/yolo_res/images/result_1011.jpg and saved result to None\n",
      "/mnt/c/Adrianov/Projects/trash-detector/yolo_res/label/result_1012.txt\n",
      "/mnt/c/Adrianov/Projects/trash-detector/yolo_res/images/result_1012.jpg\n",
      "Cropped image /mnt/c/Adrianov/Projects/trash-detector/yolo_res/images/result_1012.jpg and saved result to None\n",
      "/mnt/c/Adrianov/Projects/trash-detector/yolo_res/label/result_1013.txt\n",
      "/mnt/c/Adrianov/Projects/trash-detector/yolo_res/images/result_1013.jpg\n"
     ]
    },
    {
     "name": "stderr",
     "output_type": "stream",
     "text": [
      "  2%|▍                           | 19/1219 [00:03<02:21,  8.49it/s]"
     ]
    },
    {
     "name": "stdout",
     "output_type": "stream",
     "text": [
      "obj: 2, obj: 0\n",
      "0.7180274166666666 0.4608205833333333 0.6760376648148148 1.1225063351851852\n",
      "0.5793485 0.3794455 0.34261850000000005 0.9565955\n",
      "True\n",
      "False\n",
      "False\n",
      "True\n",
      "True\n",
      "obj: 2, obj: 1\n",
      "0.7180274166666666 0.4608205833333333 0.6760376648148148 1.1225063351851852\n",
      "0.41996495 0.35662105 0.3062665 0.6098695\n",
      "False\n",
      "False\n",
      "True\n",
      "False\n",
      "True\n",
      "obj: 2, obj: 3\n",
      "0.7180274166666666 0.4608205833333333 0.6760376648148148 1.1225063351851852\n",
      "0.74984325 0.72369875 0.313926 0.452726\n",
      "False\n",
      "True\n",
      "False\n",
      "False\n",
      "True\n",
      "['1', '0.589424', '0.899272', '0.0488735', '0.0760983']\n",
      "['0', '0.479397', '0.649607', '0.199903', '0.613977']\n",
      "Regions:  [(728, 1178, 370, 1033)]\n",
      "Cropped image /mnt/c/Adrianov/Projects/trash-detector/yolo_res/images/result_1013.jpg and saved result to /mnt/c/Adrianov/Projects/trash-detector/masks/imgs/result_18_0.jpg\n",
      "/mnt/c/Adrianov/Projects/trash-detector/yolo_res/label/result_1014.txt\n",
      "/mnt/c/Adrianov/Projects/trash-detector/yolo_res/images/result_1014.jpg\n",
      "Cropped image /mnt/c/Adrianov/Projects/trash-detector/yolo_res/images/result_1014.jpg and saved result to None\n",
      "/mnt/c/Adrianov/Projects/trash-detector/yolo_res/label/result_1015.txt\n",
      "/mnt/c/Adrianov/Projects/trash-detector/yolo_res/images/result_1015.jpg\n"
     ]
    },
    {
     "name": "stderr",
     "output_type": "stream",
     "text": [
      "  2%|▌                           | 23/1219 [00:03<02:04,  9.60it/s]"
     ]
    },
    {
     "name": "stdout",
     "output_type": "stream",
     "text": [
      "Cropped image /mnt/c/Adrianov/Projects/trash-detector/yolo_res/images/result_1015.jpg and saved result to None\n",
      "/mnt/c/Adrianov/Projects/trash-detector/yolo_res/label/result_1016.txt\n",
      "/mnt/c/Adrianov/Projects/trash-detector/yolo_res/images/result_1016.jpg\n",
      "Cropped image /mnt/c/Adrianov/Projects/trash-detector/yolo_res/images/result_1016.jpg and saved result to None\n",
      "/mnt/c/Adrianov/Projects/trash-detector/yolo_res/label/result_1017.txt\n",
      "/mnt/c/Adrianov/Projects/trash-detector/yolo_res/images/result_1017.jpg\n",
      "obj: 2, obj: 0\n",
      "0.7786446666666667 0.46088733333333337 0.6741718648148148 1.1268221351851853\n",
      "0.573261 0.37916700000000003 0.3387655 0.9552544999999999\n",
      "True\n",
      "False\n",
      "False\n",
      "True\n",
      "True\n",
      "obj: 2, obj: 1\n",
      "0.7786446666666667 0.46088733333333337 0.6741718648148148 1.1268221351851853\n",
      "0.41894224999999996 0.35527975 0.316878 0.60654\n",
      "False\n",
      "False\n",
      "True\n",
      "False\n",
      "True\n",
      "['1', '0.619766', '0.900497', '0.109424', '0.0822799']\n",
      "['0', '0.476214', '0.64701', '0.194094', '0.616489']\n",
      "Regions:  [(728, 1294, 365, 1031)]\n",
      "Cropped image /mnt/c/Adrianov/Projects/trash-detector/yolo_res/images/result_1017.jpg and saved result to /mnt/c/Adrianov/Projects/trash-detector/masks/imgs/result_22_0.jpg\n",
      "/mnt/c/Adrianov/Projects/trash-detector/yolo_res/label/result_1018.txt\n",
      "/mnt/c/Adrianov/Projects/trash-detector/yolo_res/images/result_1018.jpg\n"
     ]
    },
    {
     "name": "stderr",
     "output_type": "stream",
     "text": [
      "  2%|▌                           | 25/1219 [00:03<02:07,  9.39it/s]"
     ]
    },
    {
     "name": "stdout",
     "output_type": "stream",
     "text": [
      "Cropped image /mnt/c/Adrianov/Projects/trash-detector/yolo_res/images/result_1018.jpg and saved result to None\n",
      "/mnt/c/Adrianov/Projects/trash-detector/yolo_res/label/result_1019.txt\n",
      "/mnt/c/Adrianov/Projects/trash-detector/yolo_res/images/result_1019.jpg\n",
      "Cropped image /mnt/c/Adrianov/Projects/trash-detector/yolo_res/images/result_1019.jpg and saved result to None\n",
      "/mnt/c/Adrianov/Projects/trash-detector/yolo_res/label/result_102.txt\n",
      "/mnt/c/Adrianov/Projects/trash-detector/yolo_res/images/result_102.jpg\n",
      "obj: 2, obj: 0\n",
      "0.3556154166666667 0.11197258333333333 0.5591304648148149 0.9602995351851852\n",
      "0.8675335000000001 0.6803905 0.30298049999999993 0.9352795\n",
      "False\n",
      "True\n",
      "False\n",
      "True\n",
      "True\n",
      "obj: 2, obj: 1\n",
      "0.3556154166666667 0.11197258333333333 0.5591304648148149 0.9602995351851852\n",
      "0.3353275 0.21455449999999998 0.3310305 0.7218534999999999\n",
      "True\n",
      "False\n",
      "False\n",
      "True\n",
      "True\n",
      "obj: 2, obj: 3\n",
      "0.3556154166666667 0.11197258333333333 0.5591304648148149 0.9602995351851852\n",
      "0.180134 0.0 0.611504 1.0\n",
      "True\n",
      "False\n",
      "False\n",
      "True\n",
      "True\n"
     ]
    },
    {
     "name": "stderr",
     "output_type": "stream",
     "text": [
      "  2%|▌                           | 27/1219 [00:03<02:05,  9.51it/s]"
     ]
    },
    {
     "name": "stdout",
     "output_type": "stream",
     "text": [
      "['1', '0.233794', '0.759715', '0.0353095', '0.0307987']\n",
      "['0', '0.274941', '0.526442', '0.120773', '0.390823']\n",
      "['0', '0.090067', '0.805752', '0.180134', '0.388496']\n",
      "Regions:  [(0, 643, 357, 1080)]\n",
      "Cropped image /mnt/c/Adrianov/Projects/trash-detector/yolo_res/images/result_102.jpg and saved result to /mnt/c/Adrianov/Projects/trash-detector/masks/imgs/result_25_0.jpg\n",
      "/mnt/c/Adrianov/Projects/trash-detector/yolo_res/label/result_1020.txt\n",
      "/mnt/c/Adrianov/Projects/trash-detector/yolo_res/images/result_1020.jpg\n",
      "Cropped image /mnt/c/Adrianov/Projects/trash-detector/yolo_res/images/result_1020.jpg and saved result to None\n",
      "/mnt/c/Adrianov/Projects/trash-detector/yolo_res/label/result_1021.txt\n",
      "/mnt/c/Adrianov/Projects/trash-detector/yolo_res/images/result_1021.jpg\n"
     ]
    },
    {
     "name": "stderr",
     "output_type": "stream",
     "text": [
      "  2%|▋                           | 29/1219 [00:04<02:17,  8.69it/s]"
     ]
    },
    {
     "name": "stdout",
     "output_type": "stream",
     "text": [
      "Cropped image /mnt/c/Adrianov/Projects/trash-detector/yolo_res/images/result_1021.jpg and saved result to None\n",
      "/mnt/c/Adrianov/Projects/trash-detector/yolo_res/label/result_1022.txt\n",
      "/mnt/c/Adrianov/Projects/trash-detector/yolo_res/images/result_1022.jpg\n",
      "Cropped image /mnt/c/Adrianov/Projects/trash-detector/yolo_res/images/result_1022.jpg and saved result to None\n",
      "/mnt/c/Adrianov/Projects/trash-detector/yolo_res/label/result_1023.txt\n",
      "/mnt/c/Adrianov/Projects/trash-detector/yolo_res/images/result_1023.jpg\n"
     ]
    },
    {
     "name": "stderr",
     "output_type": "stream",
     "text": [
      "  3%|▋                           | 31/1219 [00:04<02:43,  7.25it/s]"
     ]
    },
    {
     "name": "stdout",
     "output_type": "stream",
     "text": [
      "Cropped image /mnt/c/Adrianov/Projects/trash-detector/yolo_res/images/result_1023.jpg and saved result to None\n",
      "/mnt/c/Adrianov/Projects/trash-detector/yolo_res/label/result_1024.txt\n",
      "/mnt/c/Adrianov/Projects/trash-detector/yolo_res/images/result_1024.jpg\n",
      "Cropped image /mnt/c/Adrianov/Projects/trash-detector/yolo_res/images/result_1024.jpg and saved result to None\n",
      "/mnt/c/Adrianov/Projects/trash-detector/yolo_res/label/result_1025.txt\n",
      "/mnt/c/Adrianov/Projects/trash-detector/yolo_res/images/result_1025.jpg\n"
     ]
    },
    {
     "name": "stderr",
     "output_type": "stream",
     "text": [
      "  3%|▊                           | 33/1219 [00:04<02:40,  7.37it/s]"
     ]
    },
    {
     "name": "stdout",
     "output_type": "stream",
     "text": [
      "Cropped image /mnt/c/Adrianov/Projects/trash-detector/yolo_res/images/result_1025.jpg and saved result to None\n",
      "/mnt/c/Adrianov/Projects/trash-detector/yolo_res/label/result_1026.txt\n",
      "/mnt/c/Adrianov/Projects/trash-detector/yolo_res/images/result_1026.jpg\n",
      "Cropped image /mnt/c/Adrianov/Projects/trash-detector/yolo_res/images/result_1026.jpg and saved result to None\n",
      "/mnt/c/Adrianov/Projects/trash-detector/yolo_res/label/result_1027.txt\n",
      "/mnt/c/Adrianov/Projects/trash-detector/yolo_res/images/result_1027.jpg\n"
     ]
    },
    {
     "name": "stderr",
     "output_type": "stream",
     "text": [
      "  3%|▊                           | 36/1219 [00:04<02:09,  9.17it/s]"
     ]
    },
    {
     "name": "stdout",
     "output_type": "stream",
     "text": [
      "Cropped image /mnt/c/Adrianov/Projects/trash-detector/yolo_res/images/result_1027.jpg and saved result to None\n",
      "/mnt/c/Adrianov/Projects/trash-detector/yolo_res/label/result_1028.txt\n",
      "/mnt/c/Adrianov/Projects/trash-detector/yolo_res/images/result_1028.jpg\n",
      "Cropped image /mnt/c/Adrianov/Projects/trash-detector/yolo_res/images/result_1028.jpg and saved result to None\n",
      "/mnt/c/Adrianov/Projects/trash-detector/yolo_res/label/result_1029.txt\n",
      "/mnt/c/Adrianov/Projects/trash-detector/yolo_res/images/result_1029.jpg\n",
      "Cropped image /mnt/c/Adrianov/Projects/trash-detector/yolo_res/images/result_1029.jpg and saved result to None\n",
      "/mnt/c/Adrianov/Projects/trash-detector/yolo_res/label/result_103.txt\n",
      "/mnt/c/Adrianov/Projects/trash-detector/yolo_res/images/result_103.jpg\n"
     ]
    },
    {
     "name": "stderr",
     "output_type": "stream",
     "text": [
      "  3%|▊                           | 38/1219 [00:05<01:56, 10.14it/s]"
     ]
    },
    {
     "name": "stdout",
     "output_type": "stream",
     "text": [
      "Cropped image /mnt/c/Adrianov/Projects/trash-detector/yolo_res/images/result_103.jpg and saved result to None\n",
      "/mnt/c/Adrianov/Projects/trash-detector/yolo_res/label/result_1030.txt\n",
      "/mnt/c/Adrianov/Projects/trash-detector/yolo_res/images/result_1030.jpg\n",
      "Cropped image /mnt/c/Adrianov/Projects/trash-detector/yolo_res/images/result_1030.jpg and saved result to None\n",
      "/mnt/c/Adrianov/Projects/trash-detector/yolo_res/label/result_1031.txt\n",
      "/mnt/c/Adrianov/Projects/trash-detector/yolo_res/images/result_1031.jpg\n",
      "Cropped image /mnt/c/Adrianov/Projects/trash-detector/yolo_res/images/result_1031.jpg and saved result to None\n",
      "/mnt/c/Adrianov/Projects/trash-detector/yolo_res/label/result_1032.txt\n",
      "/mnt/c/Adrianov/Projects/trash-detector/yolo_res/images/result_1032.jpg\n"
     ]
    },
    {
     "name": "stderr",
     "output_type": "stream",
     "text": [
      "  3%|▉                           | 42/1219 [00:05<01:51, 10.60it/s]"
     ]
    },
    {
     "name": "stdout",
     "output_type": "stream",
     "text": [
      "Cropped image /mnt/c/Adrianov/Projects/trash-detector/yolo_res/images/result_1032.jpg and saved result to None\n",
      "/mnt/c/Adrianov/Projects/trash-detector/yolo_res/label/result_1033.txt\n",
      "/mnt/c/Adrianov/Projects/trash-detector/yolo_res/images/result_1033.jpg\n",
      "Cropped image /mnt/c/Adrianov/Projects/trash-detector/yolo_res/images/result_1033.jpg and saved result to None\n",
      "/mnt/c/Adrianov/Projects/trash-detector/yolo_res/label/result_1034.txt\n",
      "/mnt/c/Adrianov/Projects/trash-detector/yolo_res/images/result_1034.jpg\n",
      "Cropped image /mnt/c/Adrianov/Projects/trash-detector/yolo_res/images/result_1034.jpg and saved result to None\n",
      "/mnt/c/Adrianov/Projects/trash-detector/yolo_res/label/result_1035.txt\n",
      "/mnt/c/Adrianov/Projects/trash-detector/yolo_res/images/result_1035.jpg\n"
     ]
    },
    {
     "name": "stderr",
     "output_type": "stream",
     "text": [
      "  4%|█                           | 44/1219 [00:05<01:55, 10.14it/s]"
     ]
    },
    {
     "name": "stdout",
     "output_type": "stream",
     "text": [
      "Cropped image /mnt/c/Adrianov/Projects/trash-detector/yolo_res/images/result_1035.jpg and saved result to None\n",
      "/mnt/c/Adrianov/Projects/trash-detector/yolo_res/label/result_1036.txt\n",
      "/mnt/c/Adrianov/Projects/trash-detector/yolo_res/images/result_1036.jpg\n",
      "Cropped image /mnt/c/Adrianov/Projects/trash-detector/yolo_res/images/result_1036.jpg and saved result to None\n",
      "/mnt/c/Adrianov/Projects/trash-detector/yolo_res/label/result_1037.txt\n",
      "/mnt/c/Adrianov/Projects/trash-detector/yolo_res/images/result_1037.jpg\n",
      "Cropped image /mnt/c/Adrianov/Projects/trash-detector/yolo_res/images/result_1037.jpg and saved result to None\n",
      "/mnt/c/Adrianov/Projects/trash-detector/yolo_res/label/result_1038.txt\n",
      "/mnt/c/Adrianov/Projects/trash-detector/yolo_res/images/result_1038.jpg\n"
     ]
    },
    {
     "name": "stderr",
     "output_type": "stream",
     "text": [
      "  4%|█                           | 46/1219 [00:05<01:52, 10.47it/s]"
     ]
    },
    {
     "name": "stdout",
     "output_type": "stream",
     "text": [
      "Cropped image /mnt/c/Adrianov/Projects/trash-detector/yolo_res/images/result_1038.jpg and saved result to None\n",
      "/mnt/c/Adrianov/Projects/trash-detector/yolo_res/label/result_1039.txt\n",
      "/mnt/c/Adrianov/Projects/trash-detector/yolo_res/images/result_1039.jpg\n",
      "Cropped image /mnt/c/Adrianov/Projects/trash-detector/yolo_res/images/result_1039.jpg and saved result to None\n",
      "/mnt/c/Adrianov/Projects/trash-detector/yolo_res/label/result_104.txt\n",
      "/mnt/c/Adrianov/Projects/trash-detector/yolo_res/images/result_104.jpg\n"
     ]
    },
    {
     "name": "stderr",
     "output_type": "stream",
     "text": [
      "  4%|█▏                          | 49/1219 [00:06<02:17,  8.50it/s]"
     ]
    },
    {
     "name": "stdout",
     "output_type": "stream",
     "text": [
      "Cropped image /mnt/c/Adrianov/Projects/trash-detector/yolo_res/images/result_104.jpg and saved result to None\n",
      "/mnt/c/Adrianov/Projects/trash-detector/yolo_res/label/result_1040.txt\n",
      "/mnt/c/Adrianov/Projects/trash-detector/yolo_res/images/result_1040.jpg\n",
      "Cropped image /mnt/c/Adrianov/Projects/trash-detector/yolo_res/images/result_1040.jpg and saved result to None\n",
      "/mnt/c/Adrianov/Projects/trash-detector/yolo_res/label/result_1041.txt\n",
      "/mnt/c/Adrianov/Projects/trash-detector/yolo_res/images/result_1041.jpg\n"
     ]
    },
    {
     "name": "stderr",
     "output_type": "stream",
     "text": [
      "  4%|█▏                          | 51/1219 [00:06<02:07,  9.16it/s]"
     ]
    },
    {
     "name": "stdout",
     "output_type": "stream",
     "text": [
      "Cropped image /mnt/c/Adrianov/Projects/trash-detector/yolo_res/images/result_1041.jpg and saved result to None\n",
      "/mnt/c/Adrianov/Projects/trash-detector/yolo_res/label/result_1042.txt\n",
      "/mnt/c/Adrianov/Projects/trash-detector/yolo_res/images/result_1042.jpg\n",
      "Cropped image /mnt/c/Adrianov/Projects/trash-detector/yolo_res/images/result_1042.jpg and saved result to None\n",
      "/mnt/c/Adrianov/Projects/trash-detector/yolo_res/label/result_1043.txt\n",
      "/mnt/c/Adrianov/Projects/trash-detector/yolo_res/images/result_1043.jpg\n"
     ]
    },
    {
     "name": "stderr",
     "output_type": "stream",
     "text": [
      "  4%|█▏                          | 53/1219 [00:06<02:29,  7.80it/s]"
     ]
    },
    {
     "name": "stdout",
     "output_type": "stream",
     "text": [
      "Cropped image /mnt/c/Adrianov/Projects/trash-detector/yolo_res/images/result_1043.jpg and saved result to None\n",
      "/mnt/c/Adrianov/Projects/trash-detector/yolo_res/label/result_1044.txt\n",
      "/mnt/c/Adrianov/Projects/trash-detector/yolo_res/images/result_1044.jpg\n",
      "Cropped image /mnt/c/Adrianov/Projects/trash-detector/yolo_res/images/result_1044.jpg and saved result to None\n",
      "/mnt/c/Adrianov/Projects/trash-detector/yolo_res/label/result_1045.txt\n",
      "/mnt/c/Adrianov/Projects/trash-detector/yolo_res/images/result_1045.jpg\n"
     ]
    },
    {
     "name": "stderr",
     "output_type": "stream",
     "text": [
      "  5%|█▎                          | 56/1219 [00:07<02:16,  8.53it/s]"
     ]
    },
    {
     "name": "stdout",
     "output_type": "stream",
     "text": [
      "Cropped image /mnt/c/Adrianov/Projects/trash-detector/yolo_res/images/result_1045.jpg and saved result to None\n",
      "/mnt/c/Adrianov/Projects/trash-detector/yolo_res/label/result_1046.txt\n",
      "/mnt/c/Adrianov/Projects/trash-detector/yolo_res/images/result_1046.jpg\n",
      "Cropped image /mnt/c/Adrianov/Projects/trash-detector/yolo_res/images/result_1046.jpg and saved result to None\n",
      "/mnt/c/Adrianov/Projects/trash-detector/yolo_res/label/result_1047.txt\n",
      "/mnt/c/Adrianov/Projects/trash-detector/yolo_res/images/result_1047.jpg\n",
      "Cropped image /mnt/c/Adrianov/Projects/trash-detector/yolo_res/images/result_1047.jpg and saved result to None\n",
      "/mnt/c/Adrianov/Projects/trash-detector/yolo_res/label/result_1048.txt\n",
      "/mnt/c/Adrianov/Projects/trash-detector/yolo_res/images/result_1048.jpg\n"
     ]
    },
    {
     "name": "stderr",
     "output_type": "stream",
     "text": [
      "  5%|█▎                          | 58/1219 [00:07<02:04,  9.32it/s]"
     ]
    },
    {
     "name": "stdout",
     "output_type": "stream",
     "text": [
      "Cropped image /mnt/c/Adrianov/Projects/trash-detector/yolo_res/images/result_1048.jpg and saved result to None\n",
      "/mnt/c/Adrianov/Projects/trash-detector/yolo_res/label/result_1049.txt\n",
      "/mnt/c/Adrianov/Projects/trash-detector/yolo_res/images/result_1049.jpg\n",
      "Cropped image /mnt/c/Adrianov/Projects/trash-detector/yolo_res/images/result_1049.jpg and saved result to None\n",
      "/mnt/c/Adrianov/Projects/trash-detector/yolo_res/label/result_105.txt\n",
      "/mnt/c/Adrianov/Projects/trash-detector/yolo_res/images/result_105.jpg\n",
      "obj: 2, obj: 0\n",
      "0.35635816666666664 0.11261383333333333 0.5598713148148148 0.9627046851851851\n",
      "0.862532 0.683348 0.30916499999999997 0.939481\n",
      "False\n",
      "True\n",
      "False\n",
      "True\n",
      "True\n",
      "obj: 2, obj: 1\n",
      "0.35635816666666664 0.11261383333333333 0.5598713148148148 0.9627046851851851\n",
      "0.336104 0.2172 0.3296775 0.7215185\n",
      "True\n",
      "False\n",
      "False\n",
      "True\n",
      "True\n",
      "obj: 2, obj: 3\n",
      "0.35635816666666664 0.11261383333333333 0.5598713148148148 0.9627046851851851\n",
      "0.1726112 2.0000000000575113e-07 0.6103955 1.0000005\n",
      "True\n",
      "False\n",
      "False\n",
      "True\n",
      "True\n",
      "['1', '0.234486', '0.761288', '0.035411', '0.032463']\n",
      "['0', '0.276652', '0.525598', '0.118904', '0.391841']\n",
      "['0', '0.0863057', '0.805198', '0.172611', '0.389605']\n",
      "Regions:  [(0, 645, 356, 1080)]\n"
     ]
    },
    {
     "name": "stderr",
     "output_type": "stream",
     "text": [
      "  5%|█▍                          | 60/1219 [00:07<02:04,  9.30it/s]"
     ]
    },
    {
     "name": "stdout",
     "output_type": "stream",
     "text": [
      "Cropped image /mnt/c/Adrianov/Projects/trash-detector/yolo_res/images/result_105.jpg and saved result to /mnt/c/Adrianov/Projects/trash-detector/masks/imgs/result_58_0.jpg\n",
      "/mnt/c/Adrianov/Projects/trash-detector/yolo_res/label/result_1050.txt\n",
      "/mnt/c/Adrianov/Projects/trash-detector/yolo_res/images/result_1050.jpg\n",
      "Cropped image /mnt/c/Adrianov/Projects/trash-detector/yolo_res/images/result_1050.jpg and saved result to None\n",
      "/mnt/c/Adrianov/Projects/trash-detector/yolo_res/label/result_1051.txt\n",
      "/mnt/c/Adrianov/Projects/trash-detector/yolo_res/images/result_1051.jpg\n",
      "Cropped image /mnt/c/Adrianov/Projects/trash-detector/yolo_res/images/result_1051.jpg and saved result to None\n",
      "/mnt/c/Adrianov/Projects/trash-detector/yolo_res/label/result_1052.txt\n",
      "/mnt/c/Adrianov/Projects/trash-detector/yolo_res/images/result_1052.jpg\n"
     ]
    },
    {
     "name": "stderr",
     "output_type": "stream",
     "text": [
      "  5%|█▍                          | 64/1219 [00:07<01:50, 10.49it/s]"
     ]
    },
    {
     "name": "stdout",
     "output_type": "stream",
     "text": [
      "Cropped image /mnt/c/Adrianov/Projects/trash-detector/yolo_res/images/result_1052.jpg and saved result to None\n",
      "/mnt/c/Adrianov/Projects/trash-detector/yolo_res/label/result_1053.txt\n",
      "/mnt/c/Adrianov/Projects/trash-detector/yolo_res/images/result_1053.jpg\n",
      "Cropped image /mnt/c/Adrianov/Projects/trash-detector/yolo_res/images/result_1053.jpg and saved result to None\n",
      "/mnt/c/Adrianov/Projects/trash-detector/yolo_res/label/result_1054.txt\n",
      "/mnt/c/Adrianov/Projects/trash-detector/yolo_res/images/result_1054.jpg\n",
      "obj: 2, obj: 0\n",
      "0.7541639166666666 0.5256460833333333 0.5885082148148149 0.9864777851851851\n",
      "0.4135063 0.3446597 0.44092200000000004 0.734896\n",
      "False\n",
      "False\n",
      "True\n",
      "True\n",
      "True\n",
      "obj: 2, obj: 1\n",
      "0.7541639166666666 0.5256460833333333 0.5885082148148149 0.9864777851851851\n",
      "0.72020655 0.6437254499999999 0.44476650000000006 0.7902175\n",
      "True\n",
      "False\n",
      "False\n",
      "True\n",
      "True\n",
      "['1', '0.639905', '0.787493', '0.0201845', '0.0275992']\n",
      "['0', '0.681966', '0.617492', '0.0764811', '0.345451']\n",
      "Regions:  [(1209, 1382, 480, 865)]\n",
      "Cropped image /mnt/c/Adrianov/Projects/trash-detector/yolo_res/images/result_1054.jpg and saved result to /mnt/c/Adrianov/Projects/trash-detector/masks/imgs/result_63_0.jpg\n",
      "/mnt/c/Adrianov/Projects/trash-detector/yolo_res/label/result_1055.txt\n",
      "/mnt/c/Adrianov/Projects/trash-detector/yolo_res/images/result_1055.jpg\n"
     ]
    },
    {
     "name": "stderr",
     "output_type": "stream",
     "text": [
      "  5%|█▌                          | 66/1219 [00:08<02:03,  9.35it/s]"
     ]
    },
    {
     "name": "stdout",
     "output_type": "stream",
     "text": [
      "Cropped image /mnt/c/Adrianov/Projects/trash-detector/yolo_res/images/result_1055.jpg and saved result to None\n",
      "/mnt/c/Adrianov/Projects/trash-detector/yolo_res/label/result_1056.txt\n",
      "/mnt/c/Adrianov/Projects/trash-detector/yolo_res/images/result_1056.jpg\n",
      "Cropped image /mnt/c/Adrianov/Projects/trash-detector/yolo_res/images/result_1056.jpg and saved result to None\n",
      "/mnt/c/Adrianov/Projects/trash-detector/yolo_res/label/result_1057.txt\n",
      "/mnt/c/Adrianov/Projects/trash-detector/yolo_res/images/result_1057.jpg\n"
     ]
    },
    {
     "name": "stderr",
     "output_type": "stream",
     "text": [
      "  6%|█▌                          | 69/1219 [00:08<02:00,  9.55it/s]"
     ]
    },
    {
     "name": "stdout",
     "output_type": "stream",
     "text": [
      "Cropped image /mnt/c/Adrianov/Projects/trash-detector/yolo_res/images/result_1057.jpg and saved result to None\n",
      "/mnt/c/Adrianov/Projects/trash-detector/yolo_res/label/result_1058.txt\n",
      "/mnt/c/Adrianov/Projects/trash-detector/yolo_res/images/result_1058.jpg\n",
      "Cropped image /mnt/c/Adrianov/Projects/trash-detector/yolo_res/images/result_1058.jpg and saved result to None\n",
      "/mnt/c/Adrianov/Projects/trash-detector/yolo_res/label/result_1059.txt\n",
      "/mnt/c/Adrianov/Projects/trash-detector/yolo_res/images/result_1059.jpg\n",
      "Cropped image /mnt/c/Adrianov/Projects/trash-detector/yolo_res/images/result_1059.jpg and saved result to None\n",
      "/mnt/c/Adrianov/Projects/trash-detector/yolo_res/label/result_106.txt\n",
      "/mnt/c/Adrianov/Projects/trash-detector/yolo_res/images/result_106.jpg\n"
     ]
    },
    {
     "name": "stderr",
     "output_type": "stream",
     "text": [
      "  6%|█▋                          | 71/1219 [00:08<01:57,  9.81it/s]"
     ]
    },
    {
     "name": "stdout",
     "output_type": "stream",
     "text": [
      "Cropped image /mnt/c/Adrianov/Projects/trash-detector/yolo_res/images/result_106.jpg and saved result to None\n",
      "/mnt/c/Adrianov/Projects/trash-detector/yolo_res/label/result_1060.txt\n",
      "/mnt/c/Adrianov/Projects/trash-detector/yolo_res/images/result_1060.jpg\n",
      "obj: 2, obj: 0\n",
      "0.7287499166666667 0.49338208333333333 0.45337551481481475 0.8569124851851851\n",
      "0.70097265 0.62857735 0.3156785 0.6308435\n",
      "True\n",
      "False\n",
      "False\n",
      "True\n",
      "True\n",
      "obj: 2, obj: 1\n",
      "0.7287499166666667 0.49338208333333333 0.45337551481481475 0.8569124851851851\n",
      "0.3083087 0.23538130000000002 0.35865199999999997 0.640078\n",
      "False\n",
      "False\n",
      "True\n",
      "True\n",
      "True\n",
      "['1', '0.611066', '0.655144', '0.0270345', '0.0331666']\n",
      "['0', '0.664775', '0.473261', '0.0723953', '0.315165']\n",
      "Regions:  [(1147, 1345, 340, 725)]\n",
      "Cropped image /mnt/c/Adrianov/Projects/trash-detector/yolo_res/images/result_1060.jpg and saved result to /mnt/c/Adrianov/Projects/trash-detector/masks/imgs/result_70_0.jpg\n",
      "/mnt/c/Adrianov/Projects/trash-detector/yolo_res/label/result_1061.txt\n",
      "/mnt/c/Adrianov/Projects/trash-detector/yolo_res/images/result_1061.jpg\n"
     ]
    },
    {
     "name": "stderr",
     "output_type": "stream",
     "text": [
      "  6%|█▋                          | 73/1219 [00:09<02:26,  7.84it/s]"
     ]
    },
    {
     "name": "stdout",
     "output_type": "stream",
     "text": [
      "Cropped image /mnt/c/Adrianov/Projects/trash-detector/yolo_res/images/result_1061.jpg and saved result to None\n",
      "/mnt/c/Adrianov/Projects/trash-detector/yolo_res/label/result_1062.txt\n",
      "/mnt/c/Adrianov/Projects/trash-detector/yolo_res/images/result_1062.jpg\n",
      "Cropped image /mnt/c/Adrianov/Projects/trash-detector/yolo_res/images/result_1062.jpg and saved result to None\n",
      "/mnt/c/Adrianov/Projects/trash-detector/yolo_res/label/result_1063.txt\n",
      "/mnt/c/Adrianov/Projects/trash-detector/yolo_res/images/result_1063.jpg\n"
     ]
    },
    {
     "name": "stderr",
     "output_type": "stream",
     "text": [
      "  6%|█▋                          | 74/1219 [00:09<02:46,  6.89it/s]"
     ]
    },
    {
     "name": "stdout",
     "output_type": "stream",
     "text": [
      "obj: 2, obj: 0\n",
      "0.7532047166666667 0.5273052833333334 0.5934122148148149 0.9843397851851852\n",
      "0.72832145 0.66819455 0.43832699999999997 0.798265\n",
      "True\n",
      "False\n",
      "False\n",
      "True\n",
      "True\n",
      "obj: 2, obj: 1\n",
      "0.7532047166666667 0.5273052833333334 0.5934122148148149 0.9843397851851852\n",
      "0.41429165 0.34130235 0.43749000000000005 0.74406\n",
      "False\n",
      "False\n",
      "True\n",
      "True\n",
      "True\n",
      "['1', '0.640255', '0.788876', '0.0175661', '0.0205572']\n",
      "['0', '0.698258', '0.618296', '0.0601269', '0.359938']\n",
      "Regions:  [(1212, 1398, 473, 863)]\n",
      "Cropped image /mnt/c/Adrianov/Projects/trash-detector/yolo_res/images/result_1063.jpg and saved result to /mnt/c/Adrianov/Projects/trash-detector/masks/imgs/result_73_0.jpg\n",
      "/mnt/c/Adrianov/Projects/trash-detector/yolo_res/label/result_1064.txt\n",
      "/mnt/c/Adrianov/Projects/trash-detector/yolo_res/images/result_1064.jpg\n"
     ]
    },
    {
     "name": "stderr",
     "output_type": "stream",
     "text": [
      "  6%|█▋                          | 76/1219 [00:09<02:44,  6.96it/s]"
     ]
    },
    {
     "name": "stdout",
     "output_type": "stream",
     "text": [
      "Cropped image /mnt/c/Adrianov/Projects/trash-detector/yolo_res/images/result_1064.jpg and saved result to None\n",
      "/mnt/c/Adrianov/Projects/trash-detector/yolo_res/label/result_1065.txt\n",
      "/mnt/c/Adrianov/Projects/trash-detector/yolo_res/images/result_1065.jpg\n",
      "obj: 2, obj: 0\n",
      "0.7531094666666667 0.5285505333333333 0.5903266148148149 0.9814653851851852\n",
      "0.72835585 0.6705341499999999 0.44915499999999997 0.793841\n",
      "True\n",
      "False\n",
      "False\n",
      "True\n",
      "True\n",
      "obj: 2, obj: 1\n",
      "0.7531094666666667 0.5285505333333333 0.5903266148148149 0.9814653851851852\n",
      "0.41470965 0.34896435 0.4439305 0.7435335000000001\n",
      "False\n",
      "False\n",
      "True\n",
      "True\n",
      "True\n",
      "['1', '0.64083', '0.785896', '0.0162256', '0.0207684']\n",
      "['0', '0.699445', '0.621498', '0.0578217', '0.344686']\n",
      "Regions:  [(1214, 1398, 485, 859)]\n",
      "Cropped image /mnt/c/Adrianov/Projects/trash-detector/yolo_res/images/result_1065.jpg and saved result to /mnt/c/Adrianov/Projects/trash-detector/masks/imgs/result_75_0.jpg\n",
      "/mnt/c/Adrianov/Projects/trash-detector/yolo_res/label/result_1066.txt\n",
      "/mnt/c/Adrianov/Projects/trash-detector/yolo_res/images/result_1066.jpg\n"
     ]
    },
    {
     "name": "stderr",
     "output_type": "stream",
     "text": [
      "  6%|█▊                          | 78/1219 [00:09<02:21,  8.05it/s]"
     ]
    },
    {
     "name": "stdout",
     "output_type": "stream",
     "text": [
      "Cropped image /mnt/c/Adrianov/Projects/trash-detector/yolo_res/images/result_1066.jpg and saved result to None\n",
      "/mnt/c/Adrianov/Projects/trash-detector/yolo_res/label/result_1067.txt\n",
      "/mnt/c/Adrianov/Projects/trash-detector/yolo_res/images/result_1067.jpg\n",
      "Cropped image /mnt/c/Adrianov/Projects/trash-detector/yolo_res/images/result_1067.jpg and saved result to None\n",
      "/mnt/c/Adrianov/Projects/trash-detector/yolo_res/label/result_1068.txt\n",
      "/mnt/c/Adrianov/Projects/trash-detector/yolo_res/images/result_1068.jpg\n"
     ]
    },
    {
     "name": "stderr",
     "output_type": "stream",
     "text": [
      "  7%|█▊                          | 80/1219 [00:09<02:14,  8.48it/s]"
     ]
    },
    {
     "name": "stdout",
     "output_type": "stream",
     "text": [
      "Cropped image /mnt/c/Adrianov/Projects/trash-detector/yolo_res/images/result_1068.jpg and saved result to None\n",
      "/mnt/c/Adrianov/Projects/trash-detector/yolo_res/label/result_1069.txt\n",
      "/mnt/c/Adrianov/Projects/trash-detector/yolo_res/images/result_1069.jpg\n",
      "Cropped image /mnt/c/Adrianov/Projects/trash-detector/yolo_res/images/result_1069.jpg and saved result to None\n",
      "/mnt/c/Adrianov/Projects/trash-detector/yolo_res/label/result_107.txt\n",
      "/mnt/c/Adrianov/Projects/trash-detector/yolo_res/images/result_107.jpg\n"
     ]
    },
    {
     "name": "stderr",
     "output_type": "stream",
     "text": [
      "  7%|█▉                          | 82/1219 [00:10<02:32,  7.45it/s]"
     ]
    },
    {
     "name": "stdout",
     "output_type": "stream",
     "text": [
      "Cropped image /mnt/c/Adrianov/Projects/trash-detector/yolo_res/images/result_107.jpg and saved result to None\n",
      "/mnt/c/Adrianov/Projects/trash-detector/yolo_res/label/result_1070.txt\n",
      "/mnt/c/Adrianov/Projects/trash-detector/yolo_res/images/result_1070.jpg\n",
      "Cropped image /mnt/c/Adrianov/Projects/trash-detector/yolo_res/images/result_1070.jpg and saved result to None\n",
      "/mnt/c/Adrianov/Projects/trash-detector/yolo_res/label/result_1071.txt\n",
      "/mnt/c/Adrianov/Projects/trash-detector/yolo_res/images/result_1071.jpg\n"
     ]
    },
    {
     "name": "stderr",
     "output_type": "stream",
     "text": [
      "  7%|█▉                          | 83/1219 [00:10<03:10,  5.95it/s]"
     ]
    },
    {
     "name": "stdout",
     "output_type": "stream",
     "text": [
      "obj: 2, obj: 0\n",
      "0.7281103666666666 0.4969396333333333 0.45331126481481476 0.8572247351851852\n",
      "0.70482225 0.63713575 0.3180885 0.6251295\n",
      "True\n",
      "False\n",
      "False\n",
      "True\n",
      "True\n",
      "obj: 2, obj: 1\n",
      "0.7281103666666666 0.4969396333333333 0.45331126481481476 0.8572247351851852\n",
      "0.3159368 0.25965720000000003 0.33833399999999997 0.6311439999999999\n",
      "False\n",
      "False\n",
      "True\n",
      "True\n",
      "True\n",
      "['1', '0.612525', '0.655268', '0.0228374', '0.0335431']\n",
      "['0', '0.670979', '0.471609', '0.0676865', '0.307041']\n",
      "Regions:  [(1154, 1353, 343, 725)]\n",
      "Cropped image /mnt/c/Adrianov/Projects/trash-detector/yolo_res/images/result_1071.jpg and saved result to /mnt/c/Adrianov/Projects/trash-detector/masks/imgs/result_82_0.jpg\n",
      "/mnt/c/Adrianov/Projects/trash-detector/yolo_res/label/result_1072.txt\n",
      "/mnt/c/Adrianov/Projects/trash-detector/yolo_res/images/result_1072.jpg\n"
     ]
    },
    {
     "name": "stderr",
     "output_type": "stream",
     "text": [
      "  7%|█▉                          | 85/1219 [00:10<02:51,  6.61it/s]"
     ]
    },
    {
     "name": "stdout",
     "output_type": "stream",
     "text": [
      "Cropped image /mnt/c/Adrianov/Projects/trash-detector/yolo_res/images/result_1072.jpg and saved result to None\n",
      "/mnt/c/Adrianov/Projects/trash-detector/yolo_res/label/result_1073.txt\n",
      "/mnt/c/Adrianov/Projects/trash-detector/yolo_res/images/result_1073.jpg\n",
      "Cropped image /mnt/c/Adrianov/Projects/trash-detector/yolo_res/images/result_1073.jpg and saved result to None\n",
      "/mnt/c/Adrianov/Projects/trash-detector/yolo_res/label/result_1074.txt\n",
      "/mnt/c/Adrianov/Projects/trash-detector/yolo_res/images/result_1074.jpg\n"
     ]
    },
    {
     "name": "stderr",
     "output_type": "stream",
     "text": [
      "  7%|█▉                          | 86/1219 [00:10<02:53,  6.52it/s]"
     ]
    },
    {
     "name": "stdout",
     "output_type": "stream",
     "text": [
      "obj: 2, obj: 0\n",
      "0.4508367166666667 0.22216128333333332 0.5757385648148148 0.9789134351851851\n",
      "0.7376659 0.6738881 0.4461165 0.8022795\n",
      "False\n",
      "True\n",
      "False\n",
      "True\n",
      "True\n",
      "obj: 2, obj: 1\n",
      "0.4508367166666667 0.22216128333333332 0.5757385648148148 0.9789134351851851\n",
      "0.41443395 0.35471804999999995 0.44758950000000003 0.7448305\n",
      "True\n",
      "False\n",
      "False\n",
      "True\n",
      "True\n",
      "['1', '0.336499', '0.777326', '0.0203421', '0.0328045']\n",
      "['0', '0.384576', '0.59621', '0.0597159', '0.297241']\n",
      "Regions:  [(626, 795, 483, 857)]\n",
      "Cropped image /mnt/c/Adrianov/Projects/trash-detector/yolo_res/images/result_1074.jpg and saved result to /mnt/c/Adrianov/Projects/trash-detector/masks/imgs/result_85_0.jpg\n",
      "/mnt/c/Adrianov/Projects/trash-detector/yolo_res/label/result_1075.txt\n",
      "/mnt/c/Adrianov/Projects/trash-detector/yolo_res/images/result_1075.jpg\n"
     ]
    },
    {
     "name": "stderr",
     "output_type": "stream",
     "text": [
      "  7%|██                          | 88/1219 [00:11<02:53,  6.53it/s]"
     ]
    },
    {
     "name": "stdout",
     "output_type": "stream",
     "text": [
      "Cropped image /mnt/c/Adrianov/Projects/trash-detector/yolo_res/images/result_1075.jpg and saved result to None\n",
      "/mnt/c/Adrianov/Projects/trash-detector/yolo_res/label/result_1076.txt\n",
      "/mnt/c/Adrianov/Projects/trash-detector/yolo_res/images/result_1076.jpg\n",
      "Cropped image /mnt/c/Adrianov/Projects/trash-detector/yolo_res/images/result_1076.jpg and saved result to None\n",
      "/mnt/c/Adrianov/Projects/trash-detector/yolo_res/label/result_1077.txt\n",
      "/mnt/c/Adrianov/Projects/trash-detector/yolo_res/images/result_1077.jpg\n"
     ]
    },
    {
     "name": "stderr",
     "output_type": "stream",
     "text": [
      "  7%|██                          | 90/1219 [00:11<02:32,  7.41it/s]"
     ]
    },
    {
     "name": "stdout",
     "output_type": "stream",
     "text": [
      "obj: 2, obj: 0\n",
      "0.7548380166666666 0.5297399833333334 0.5892851648148149 0.9817648351851852\n",
      "0.4149697 0.3602423 0.44675049999999994 0.7443375\n",
      "False\n",
      "False\n",
      "True\n",
      "True\n",
      "True\n",
      "obj: 2, obj: 1\n",
      "0.7548380166666666 0.5297399833333334 0.5892851648148149 0.9817648351851852\n",
      "0.7400248 0.6773431999999999 0.43899 0.807274\n",
      "True\n",
      "False\n",
      "False\n",
      "True\n",
      "True\n",
      "['1', '0.642289', '0.785525', '0.0167647', '0.0221093']\n",
      "['0', '0.708684', '0.623132', '0.0626816', '0.368284']\n",
      "Regions:  [(1217, 1420, 474, 871)]\n",
      "Cropped image /mnt/c/Adrianov/Projects/trash-detector/yolo_res/images/result_1077.jpg and saved result to /mnt/c/Adrianov/Projects/trash-detector/masks/imgs/result_88_0.jpg\n",
      "/mnt/c/Adrianov/Projects/trash-detector/yolo_res/label/result_1078.txt\n",
      "/mnt/c/Adrianov/Projects/trash-detector/yolo_res/images/result_1078.jpg\n",
      "Cropped image /mnt/c/Adrianov/Projects/trash-detector/yolo_res/images/result_1078.jpg and saved result to None\n",
      "/mnt/c/Adrianov/Projects/trash-detector/yolo_res/label/result_1079.txt\n",
      "/mnt/c/Adrianov/Projects/trash-detector/yolo_res/images/result_1079.jpg\n"
     ]
    },
    {
     "name": "stderr",
     "output_type": "stream",
     "text": [
      "  8%|██                          | 92/1219 [00:11<02:27,  7.66it/s]"
     ]
    },
    {
     "name": "stdout",
     "output_type": "stream",
     "text": [
      "Cropped image /mnt/c/Adrianov/Projects/trash-detector/yolo_res/images/result_1079.jpg and saved result to None\n",
      "/mnt/c/Adrianov/Projects/trash-detector/yolo_res/label/result_108.txt\n",
      "/mnt/c/Adrianov/Projects/trash-detector/yolo_res/images/result_108.jpg\n",
      "obj: 2, obj: 0\n",
      "0.3551830166666667 0.11174298333333334 0.5595494148148149 0.9613185851851852\n",
      "0.8564350000000001 0.6842509999999999 0.281792 0.9396119999999999\n",
      "False\n",
      "True\n",
      "False\n",
      "True\n",
      "True\n",
      "obj: 2, obj: 1\n",
      "0.3551830166666667 0.11174298333333334 0.5595494148148149 0.9613185851851852\n",
      "0.33355300000000004 0.22621500000000003 0.32681249999999995 0.7192135\n",
      "True\n",
      "False\n",
      "False\n",
      "True\n",
      "True\n",
      "obj: 2, obj: 3\n",
      "0.3551830166666667 0.11174298333333334 0.5595494148148149 0.9613185851851852\n",
      "0.17857879999999998 -1.9999999999187335e-07 0.6101300000000001 1.0\n",
      "True\n",
      "False\n",
      "False\n",
      "True\n",
      "True\n",
      "['1', '0.233463', '0.760434', '0.0351067', '0.0313988']\n",
      "['0', '0.279884', '0.523013', '0.107338', '0.392401']\n",
      "['0', '0.0892893', '0.805065', '0.178579', '0.38987']\n",
      "Regions:  [(0, 640, 352, 1080)]\n",
      "Cropped image /mnt/c/Adrianov/Projects/trash-detector/yolo_res/images/result_108.jpg and saved result to /mnt/c/Adrianov/Projects/trash-detector/masks/imgs/result_91_0.jpg\n",
      "/mnt/c/Adrianov/Projects/trash-detector/yolo_res/label/result_1080.txt\n",
      "/mnt/c/Adrianov/Projects/trash-detector/yolo_res/images/result_1080.jpg\n"
     ]
    },
    {
     "name": "stderr",
     "output_type": "stream",
     "text": [
      "  8%|██▏                         | 93/1219 [00:11<02:25,  7.73it/s]"
     ]
    },
    {
     "name": "stdout",
     "output_type": "stream",
     "text": [
      "Cropped image /mnt/c/Adrianov/Projects/trash-detector/yolo_res/images/result_1080.jpg and saved result to None\n",
      "/mnt/c/Adrianov/Projects/trash-detector/yolo_res/label/result_1081.txt\n",
      "/mnt/c/Adrianov/Projects/trash-detector/yolo_res/images/result_1081.jpg\n",
      "obj: 2, obj: 0\n",
      "0.7288354166666666 0.4974665833333333 0.45218911481481483 0.8579548851851851\n",
      "0.7114962 0.6388658 0.3145345 0.6134795\n",
      "True\n",
      "False\n",
      "False\n",
      "True\n",
      "True\n",
      "obj: 2, obj: 1\n",
      "0.7288354166666666 0.4974665833333333 0.45218911481481483 0.8579548851851851\n",
      "0.32210500000000003 0.275653 0.3288145 0.6194575\n",
      "False\n",
      "False\n",
      "True\n",
      "True\n",
      "True\n"
     ]
    },
    {
     "name": "stderr",
     "output_type": "stream",
     "text": [
      "  8%|██▏                         | 95/1219 [00:12<03:05,  6.06it/s]"
     ]
    },
    {
     "name": "stdout",
     "output_type": "stream",
     "text": [
      "['1', '0.613151', '0.655072', '0.0230355', '0.0353954']\n",
      "['0', '0.675181', '0.464007', '0.0726304', '0.298945']\n",
      "Regions:  [(1155, 1366, 339, 726)]\n",
      "Cropped image /mnt/c/Adrianov/Projects/trash-detector/yolo_res/images/result_1081.jpg and saved result to /mnt/c/Adrianov/Projects/trash-detector/masks/imgs/result_93_0.jpg\n",
      "/mnt/c/Adrianov/Projects/trash-detector/yolo_res/label/result_1082.txt\n",
      "/mnt/c/Adrianov/Projects/trash-detector/yolo_res/images/result_1082.jpg\n",
      "Cropped image /mnt/c/Adrianov/Projects/trash-detector/yolo_res/images/result_1082.jpg and saved result to None\n",
      "/mnt/c/Adrianov/Projects/trash-detector/yolo_res/label/result_1083.txt\n",
      "/mnt/c/Adrianov/Projects/trash-detector/yolo_res/images/result_1083.jpg\n"
     ]
    },
    {
     "name": "stderr",
     "output_type": "stream",
     "text": [
      "  8%|██▏                         | 97/1219 [00:12<03:00,  6.23it/s]"
     ]
    },
    {
     "name": "stdout",
     "output_type": "stream",
     "text": [
      "Cropped image /mnt/c/Adrianov/Projects/trash-detector/yolo_res/images/result_1083.jpg and saved result to None\n",
      "/mnt/c/Adrianov/Projects/trash-detector/yolo_res/label/result_1084.txt\n",
      "/mnt/c/Adrianov/Projects/trash-detector/yolo_res/images/result_1084.jpg\n",
      "Cropped image /mnt/c/Adrianov/Projects/trash-detector/yolo_res/images/result_1084.jpg and saved result to None\n",
      "/mnt/c/Adrianov/Projects/trash-detector/yolo_res/label/result_1085.txt\n",
      "/mnt/c/Adrianov/Projects/trash-detector/yolo_res/images/result_1085.jpg\n",
      "obj: 1, obj: 0\n",
      "0.7294035166666666 0.4977224833333333 0.4512790648148148 0.8580749351851851\n",
      "0.7126119000000001 0.6383841 0.314426 0.6102460000000001\n",
      "True\n",
      "False\n",
      "False\n",
      "True\n",
      "True\n"
     ]
    },
    {
     "name": "stderr",
     "output_type": "stream",
     "text": [
      "  8%|██▎                         | 99/1219 [00:12<02:23,  7.81it/s]"
     ]
    },
    {
     "name": "stdout",
     "output_type": "stream",
     "text": [
      "['1', '0.613563', '0.654677', '0.0233477', '0.0364255']\n",
      "['0', '0.675498', '0.462336', '0.0742278', '0.29582']\n",
      "Regions:  [(1155, 1368, 339, 726)]\n",
      "Cropped image /mnt/c/Adrianov/Projects/trash-detector/yolo_res/images/result_1085.jpg and saved result to /mnt/c/Adrianov/Projects/trash-detector/masks/imgs/result_97_0.jpg\n",
      "/mnt/c/Adrianov/Projects/trash-detector/yolo_res/label/result_1086.txt\n",
      "/mnt/c/Adrianov/Projects/trash-detector/yolo_res/images/result_1086.jpg\n",
      "Cropped image /mnt/c/Adrianov/Projects/trash-detector/yolo_res/images/result_1086.jpg and saved result to None\n",
      "/mnt/c/Adrianov/Projects/trash-detector/yolo_res/label/result_1087.txt\n",
      "/mnt/c/Adrianov/Projects/trash-detector/yolo_res/images/result_1087.jpg\n",
      "Cropped image /mnt/c/Adrianov/Projects/trash-detector/yolo_res/images/result_1087.jpg and saved result to None\n",
      "/mnt/c/Adrianov/Projects/trash-detector/yolo_res/label/result_1088.txt\n",
      "/mnt/c/Adrianov/Projects/trash-detector/yolo_res/images/result_1088.jpg\n"
     ]
    },
    {
     "name": "stderr",
     "output_type": "stream",
     "text": [
      "  8%|██▏                        | 101/1219 [00:12<02:12,  8.42it/s]"
     ]
    },
    {
     "name": "stdout",
     "output_type": "stream",
     "text": [
      "obj: 1, obj: 0\n",
      "0.7294371166666667 0.49757488333333333 0.45223236481481477 0.8584516351851852\n",
      "0.7137587 0.6397113 0.297146 0.607936\n",
      "True\n",
      "False\n",
      "False\n",
      "True\n",
      "True\n",
      "['1', '0.613506', '0.655342', '0.0235289', '0.0358489']\n",
      "['0', '0.676735', '0.452541', '0.0740474', '0.31079']\n",
      "Regions:  [(1155, 1370, 320, 727)]\n",
      "Cropped image /mnt/c/Adrianov/Projects/trash-detector/yolo_res/images/result_1088.jpg and saved result to /mnt/c/Adrianov/Projects/trash-detector/masks/imgs/result_100_0.jpg\n",
      "/mnt/c/Adrianov/Projects/trash-detector/yolo_res/label/result_1089.txt\n",
      "/mnt/c/Adrianov/Projects/trash-detector/yolo_res/images/result_1089.jpg\n",
      "Cropped image /mnt/c/Adrianov/Projects/trash-detector/yolo_res/images/result_1089.jpg and saved result to None\n",
      "/mnt/c/Adrianov/Projects/trash-detector/yolo_res/label/result_109.txt\n",
      "/mnt/c/Adrianov/Projects/trash-detector/yolo_res/images/result_109.jpg\n",
      "obj: 2, obj: 0\n",
      "0.7101126666666667 0.4661713333333334 0.44722031481481483 0.8480696851851852\n",
      "0.7076918 0.6310602 0.3262545 0.6552995\n",
      "True\n",
      "False\n",
      "False\n",
      "True\n",
      "True\n",
      "obj: 2, obj: 1\n",
      "0.7101126666666667 0.4661713333333334 0.44722031481481483 0.8480696851851852\n",
      "0.4859851 0.4371709 0.3181385 0.5273355\n",
      "True\n",
      "False\n",
      "False\n",
      "True\n",
      "True\n"
     ]
    },
    {
     "name": "stderr",
     "output_type": "stream",
     "text": [
      "  9%|██▎                        | 104/1219 [00:13<02:05,  8.92it/s]"
     ]
    },
    {
     "name": "stdout",
     "output_type": "stream",
     "text": [
      "['1', '0.588142', '0.647645', '0.035608', '0.030479']\n",
      "['0', '0.669376', '0.490777', '0.0766316', '0.329045']\n",
      "['0', '0.461578', '0.422737', '0.0488142', '0.209197']\n",
      "Regions:  [(839, 1358, 343, 715)]\n",
      "Cropped image /mnt/c/Adrianov/Projects/trash-detector/yolo_res/images/result_109.jpg and saved result to /mnt/c/Adrianov/Projects/trash-detector/masks/imgs/result_102_0.jpg\n",
      "/mnt/c/Adrianov/Projects/trash-detector/yolo_res/label/result_1090.txt\n",
      "/mnt/c/Adrianov/Projects/trash-detector/yolo_res/images/result_1090.jpg\n",
      "obj: 2, obj: 0\n",
      "0.43040191666666666 0.2053720833333333 0.5269806648148149 0.9225613351851852\n",
      "0.41810339999999996 0.3660986 0.4437725 0.7438155000000001\n",
      "True\n",
      "False\n",
      "False\n",
      "True\n",
      "True\n",
      "obj: 2, obj: 1\n",
      "0.43040191666666666 0.2053720833333333 0.5269806648148149 0.9225613351851852\n",
      "0.7459563499999999 0.68413565 0.44504250000000006 0.7992935000000001\n",
      "False\n",
      "True\n",
      "False\n",
      "True\n",
      "True\n",
      "obj: 3, obj: 0\n",
      "0.7592168166666666 0.5300571833333334 0.5882950648148149 0.9827289351851851\n",
      "0.41810339999999996 0.3660986 0.4437725 0.7438155000000001\n",
      "False\n",
      "False\n",
      "True\n",
      "True\n",
      "True\n",
      "obj: 3, obj: 1\n",
      "0.7592168166666666 0.5300571833333334 0.5882950648148149 0.9827289351851851\n",
      "0.7459563499999999 0.68413565 0.44504250000000006 0.7992935000000001\n",
      "True\n",
      "False\n",
      "False\n",
      "True\n",
      "True\n",
      "['1', '0.317887', '0.724771', '0.0166965', '0.0252103']\n",
      "['0', '0.392101', '0.593794', '0.0520048', '0.300043']\n",
      "Regions:  [(594, 802, 479, 803)]\n",
      "['1', '0.644637', '0.785512', '0.0208263', '0.0240635']\n",
      "['0', '0.715046', '0.622168', '0.0618207', '0.354251']\n",
      "Regions:  [(594, 802, 479, 803), (1217, 1432, 480, 863)]\n",
      "Cropped image /mnt/c/Adrianov/Projects/trash-detector/yolo_res/images/result_1090.jpg and saved result to /mnt/c/Adrianov/Projects/trash-detector/masks/imgs/result_103_0.jpg\n",
      "/mnt/c/Adrianov/Projects/trash-detector/yolo_res/label/result_1091.txt\n",
      "/mnt/c/Adrianov/Projects/trash-detector/yolo_res/images/result_1091.jpg\n"
     ]
    },
    {
     "name": "stderr",
     "output_type": "stream",
     "text": [
      "  9%|██▎                        | 106/1219 [00:13<02:13,  8.32it/s]"
     ]
    },
    {
     "name": "stdout",
     "output_type": "stream",
     "text": [
      "Cropped image /mnt/c/Adrianov/Projects/trash-detector/yolo_res/images/result_1091.jpg and saved result to None\n",
      "/mnt/c/Adrianov/Projects/trash-detector/yolo_res/label/result_1092.txt\n",
      "/mnt/c/Adrianov/Projects/trash-detector/yolo_res/images/result_1092.jpg\n",
      "obj: 1, obj: 0\n",
      "0.7291984666666667 0.49745153333333336 0.45108946481481477 0.8579325351851852\n",
      "0.7139295999999999 0.6452084 0.2973635 0.6057225\n",
      "True\n",
      "False\n",
      "False\n",
      "True\n",
      "True\n",
      "['1', '0.613325', '0.654511', '0.0234136', '0.0364727']\n",
      "['0', '0.679569', '0.451543', '0.0687212', '0.308359']\n",
      "Regions:  [(1155, 1370, 321, 726)]\n",
      "Cropped image /mnt/c/Adrianov/Projects/trash-detector/yolo_res/images/result_1092.jpg and saved result to /mnt/c/Adrianov/Projects/trash-detector/masks/imgs/result_105_0.jpg\n",
      "/mnt/c/Adrianov/Projects/trash-detector/yolo_res/label/result_1093.txt\n",
      "/mnt/c/Adrianov/Projects/trash-detector/yolo_res/images/result_1093.jpg\n"
     ]
    },
    {
     "name": "stderr",
     "output_type": "stream",
     "text": [
      "  9%|██▎                        | 107/1219 [00:13<02:12,  8.42it/s]"
     ]
    },
    {
     "name": "stdout",
     "output_type": "stream",
     "text": [
      "obj: 2, obj: 0\n",
      "0.7597270666666667 0.5316549333333334 0.5879938148148148 0.9827921851851852\n",
      "0.41924249999999996 0.3675855 0.44551100000000005 0.7417830000000001\n",
      "False\n",
      "False\n",
      "True\n",
      "True\n",
      "True\n",
      "obj: 2, obj: 1\n",
      "0.7597270666666667 0.5316549333333334 0.5879938148148148 0.9827921851851852\n",
      "0.74975315 0.6854728499999999 0.44041149999999996 0.8098185\n",
      "True\n",
      "False\n",
      "False\n",
      "True\n",
      "True\n",
      "['1', '0.645691', '0.785393', '0.0197388', '0.024428']\n",
      "['0', '0.717613', '0.625115', '0.0642803', '0.369407']\n",
      "Regions:  [(1220, 1439, 475, 874)]\n",
      "Cropped image /mnt/c/Adrianov/Projects/trash-detector/yolo_res/images/result_1093.jpg and saved result to /mnt/c/Adrianov/Projects/trash-detector/masks/imgs/result_106_0.jpg\n",
      "/mnt/c/Adrianov/Projects/trash-detector/yolo_res/label/result_1094.txt\n",
      "/mnt/c/Adrianov/Projects/trash-detector/yolo_res/images/result_1094.jpg\n",
      "Cropped image /mnt/c/Adrianov/Projects/trash-detector/yolo_res/images/result_1094.jpg and saved result to None\n",
      "/mnt/c/Adrianov/Projects/trash-detector/yolo_res/label/result_1095.txt\n",
      "/mnt/c/Adrianov/Projects/trash-detector/yolo_res/images/result_1095.jpg\n",
      "obj: 2, obj: 0\n",
      "0.7613462666666667 0.5316737333333333 0.5857248148148149 0.9810551851851852\n",
      "0.4198861 0.3634319 0.447828 0.7364419999999999\n",
      "False\n",
      "False\n",
      "True\n",
      "True\n",
      "True\n",
      "obj: 2, obj: 1\n",
      "0.7613462666666667 0.5316737333333333 0.5857248148148149 0.9810551851851852\n",
      "0.75880805 0.68982595 0.42564599999999997 0.805112\n",
      "True\n",
      "False\n",
      "False\n",
      "True\n",
      "True\n"
     ]
    },
    {
     "name": "stderr",
     "output_type": "stream",
     "text": [
      "  9%|██▍                        | 109/1219 [00:13<01:59,  9.31it/s]"
     ]
    },
    {
     "name": "stdout",
     "output_type": "stream",
     "text": [
      "['1', '0.64651', '0.78339', '0.0213392', '0.02496']\n",
      "['0', '0.724317', '0.615379', '0.0689821', '0.379466']\n",
      "Regions:  [(1220, 1456, 459, 869)]\n",
      "Cropped image /mnt/c/Adrianov/Projects/trash-detector/yolo_res/images/result_1095.jpg and saved result to /mnt/c/Adrianov/Projects/trash-detector/masks/imgs/result_108_0.jpg\n",
      "/mnt/c/Adrianov/Projects/trash-detector/yolo_res/label/result_1096.txt\n",
      "/mnt/c/Adrianov/Projects/trash-detector/yolo_res/images/result_1096.jpg\n",
      "Cropped image /mnt/c/Adrianov/Projects/trash-detector/yolo_res/images/result_1096.jpg and saved result to None\n",
      "/mnt/c/Adrianov/Projects/trash-detector/yolo_res/label/result_1097.txt\n",
      "/mnt/c/Adrianov/Projects/trash-detector/yolo_res/images/result_1097.jpg\n",
      "obj: 2, obj: 0\n",
      "0.7615618666666667 0.5323701333333334 0.5854622648148149 0.9796957351851852\n",
      "0.41916915 0.36569485 0.44688549999999994 0.7422265\n",
      "False\n",
      "False\n",
      "True\n",
      "True\n",
      "True\n",
      "obj: 2, obj: 1\n",
      "0.7615618666666667 0.5323701333333334 0.5854622648148149 0.9796957351851852\n",
      "0.76476995 0.69644405 0.42013199999999995 0.803866\n",
      "True\n",
      "False\n",
      "False\n",
      "True\n",
      "True\n"
     ]
    },
    {
     "name": "stderr",
     "output_type": "stream",
     "text": [
      "  9%|██▍                        | 112/1219 [00:14<02:06,  8.76it/s]"
     ]
    },
    {
     "name": "stdout",
     "output_type": "stream",
     "text": [
      "['1', '0.646966', '0.782579', '0.0208584', '0.0238631']\n",
      "['0', '0.730607', '0.611999', '0.0683259', '0.383734']\n",
      "Regions:  [(1222, 1468, 453, 868)]\n",
      "Cropped image /mnt/c/Adrianov/Projects/trash-detector/yolo_res/images/result_1097.jpg and saved result to /mnt/c/Adrianov/Projects/trash-detector/masks/imgs/result_110_0.jpg\n",
      "/mnt/c/Adrianov/Projects/trash-detector/yolo_res/label/result_1098.txt\n",
      "/mnt/c/Adrianov/Projects/trash-detector/yolo_res/images/result_1098.jpg\n",
      "Cropped image /mnt/c/Adrianov/Projects/trash-detector/yolo_res/images/result_1098.jpg and saved result to None\n",
      "/mnt/c/Adrianov/Projects/trash-detector/yolo_res/label/result_1099.txt\n",
      "/mnt/c/Adrianov/Projects/trash-detector/yolo_res/images/result_1099.jpg\n"
     ]
    },
    {
     "name": "stderr",
     "output_type": "stream",
     "text": [
      "  9%|██▌                        | 114/1219 [00:14<02:35,  7.13it/s]"
     ]
    },
    {
     "name": "stdout",
     "output_type": "stream",
     "text": [
      "Cropped image /mnt/c/Adrianov/Projects/trash-detector/yolo_res/images/result_1099.jpg and saved result to None\n",
      "/mnt/c/Adrianov/Projects/trash-detector/yolo_res/label/result_11.txt\n",
      "/mnt/c/Adrianov/Projects/trash-detector/yolo_res/images/result_11.jpg\n",
      "Cropped image /mnt/c/Adrianov/Projects/trash-detector/yolo_res/images/result_11.jpg and saved result to None\n",
      "/mnt/c/Adrianov/Projects/trash-detector/yolo_res/label/result_110.txt\n",
      "/mnt/c/Adrianov/Projects/trash-detector/yolo_res/images/result_110.jpg\n"
     ]
    },
    {
     "name": "stderr",
     "output_type": "stream",
     "text": [
      "  9%|██▌                        | 115/1219 [00:14<02:38,  6.96it/s]"
     ]
    },
    {
     "name": "stdout",
     "output_type": "stream",
     "text": [
      "obj: 2, obj: 0\n",
      "0.35518676666666665 0.11189123333333333 0.5598730148148148 0.9615929851851852\n",
      "0.8531489999999999 0.683557 0.287619 0.938369\n",
      "False\n",
      "True\n",
      "False\n",
      "True\n",
      "True\n",
      "obj: 2, obj: 1\n",
      "0.35518676666666665 0.11189123333333333 0.5598730148148148 0.9615929851851852\n",
      "0.3335305 0.23044550000000003 0.32137899999999997 0.7191649999999999\n",
      "True\n",
      "False\n",
      "False\n",
      "True\n",
      "True\n",
      "obj: 2, obj: 3\n",
      "0.35518676666666665 0.11189123333333333 0.5598730148148148 0.9615929851851852\n",
      "0.178729 0.0 0.6075785 0.9999994999999999\n",
      "True\n",
      "False\n",
      "False\n",
      "True\n",
      "True\n",
      "['1', '0.233539', '0.760733', '0.0349622', '0.0313496']\n",
      "['0', '0.281988', '0.520272', '0.103085', '0.397786']\n",
      "['0', '0.0893645', '0.803789', '0.178729', '0.392421']\n",
      "Regions:  [(0, 640, 347, 1079)]\n",
      "Cropped image /mnt/c/Adrianov/Projects/trash-detector/yolo_res/images/result_110.jpg and saved result to /mnt/c/Adrianov/Projects/trash-detector/masks/imgs/result_114_0.jpg\n",
      "/mnt/c/Adrianov/Projects/trash-detector/yolo_res/label/result_1100.txt\n",
      "/mnt/c/Adrianov/Projects/trash-detector/yolo_res/images/result_1100.jpg\n"
     ]
    },
    {
     "name": "stderr",
     "output_type": "stream",
     "text": [
      " 10%|██▌                        | 117/1219 [00:15<02:42,  6.77it/s]"
     ]
    },
    {
     "name": "stdout",
     "output_type": "stream",
     "text": [
      "Cropped image /mnt/c/Adrianov/Projects/trash-detector/yolo_res/images/result_1100.jpg and saved result to None\n",
      "/mnt/c/Adrianov/Projects/trash-detector/yolo_res/label/result_1101.txt\n",
      "/mnt/c/Adrianov/Projects/trash-detector/yolo_res/images/result_1101.jpg\n",
      "Cropped image /mnt/c/Adrianov/Projects/trash-detector/yolo_res/images/result_1101.jpg and saved result to None\n",
      "/mnt/c/Adrianov/Projects/trash-detector/yolo_res/label/result_1102.txt\n",
      "/mnt/c/Adrianov/Projects/trash-detector/yolo_res/images/result_1102.jpg\n"
     ]
    },
    {
     "name": "stderr",
     "output_type": "stream",
     "text": [
      " 10%|██▋                        | 120/1219 [00:15<02:10,  8.41it/s]"
     ]
    },
    {
     "name": "stdout",
     "output_type": "stream",
     "text": [
      "Cropped image /mnt/c/Adrianov/Projects/trash-detector/yolo_res/images/result_1102.jpg and saved result to None\n",
      "/mnt/c/Adrianov/Projects/trash-detector/yolo_res/label/result_1103.txt\n",
      "/mnt/c/Adrianov/Projects/trash-detector/yolo_res/images/result_1103.jpg\n",
      "Cropped image /mnt/c/Adrianov/Projects/trash-detector/yolo_res/images/result_1103.jpg and saved result to None\n",
      "/mnt/c/Adrianov/Projects/trash-detector/yolo_res/label/result_1104.txt\n",
      "/mnt/c/Adrianov/Projects/trash-detector/yolo_res/images/result_1104.jpg\n",
      "Cropped image /mnt/c/Adrianov/Projects/trash-detector/yolo_res/images/result_1104.jpg and saved result to None\n",
      "/mnt/c/Adrianov/Projects/trash-detector/yolo_res/label/result_1105.txt\n",
      "/mnt/c/Adrianov/Projects/trash-detector/yolo_res/images/result_1105.jpg\n"
     ]
    },
    {
     "name": "stderr",
     "output_type": "stream",
     "text": [
      " 10%|██▋                        | 122/1219 [00:15<01:57,  9.30it/s]"
     ]
    },
    {
     "name": "stdout",
     "output_type": "stream",
     "text": [
      "obj: 2, obj: 0\n",
      "0.3209816166666667 0.09470438333333334 0.5435821148148149 0.9325378851851852\n",
      "0.693415 0.5768129999999999 0.365428 0.677898\n",
      "False\n",
      "True\n",
      "False\n",
      "True\n",
      "True\n",
      "obj: 2, obj: 1\n",
      "0.3209816166666667 0.09470438333333334 0.5435821148148149 0.9325378851851852\n",
      "0.43789429999999996 0.3769557 0.382793 0.5449189999999999\n",
      "False\n",
      "True\n",
      "False\n",
      "True\n",
      "True\n",
      "Cropped image /mnt/c/Adrianov/Projects/trash-detector/yolo_res/images/result_1105.jpg and saved result to None\n",
      "/mnt/c/Adrianov/Projects/trash-detector/yolo_res/label/result_1106.txt\n",
      "/mnt/c/Adrianov/Projects/trash-detector/yolo_res/images/result_1106.jpg\n",
      "Cropped image /mnt/c/Adrianov/Projects/trash-detector/yolo_res/images/result_1106.jpg and saved result to None\n",
      "/mnt/c/Adrianov/Projects/trash-detector/yolo_res/label/result_1107.txt\n",
      "/mnt/c/Adrianov/Projects/trash-detector/yolo_res/images/result_1107.jpg\n",
      "obj: 2, obj: 0\n",
      "0.7647014666666666 0.5342205333333333 0.5840949648148148 0.9784370351851852\n",
      "0.7756938 0.7099522 0.4202095 0.8118485000000001\n",
      "True\n",
      "False\n",
      "False\n",
      "True\n",
      "True\n",
      "obj: 2, obj: 1\n",
      "0.7647014666666666 0.5342205333333333 0.5840949648148148 0.9784370351851852\n",
      "0.41860240000000004 0.3612016 0.43819700000000006 0.741629\n",
      "False\n",
      "False\n",
      "True\n",
      "True\n",
      "True\n",
      "['1', '0.649461', '0.781266', '0.0221476', '0.0239717']\n",
      "['0', '0.742823', '0.616029', '0.0657416', '0.391639']\n",
      "Regions:  [(1225, 1489, 453, 876)]\n",
      "Cropped image /mnt/c/Adrianov/Projects/trash-detector/yolo_res/images/result_1107.jpg and saved result to /mnt/c/Adrianov/Projects/trash-detector/masks/imgs/result_122_0.jpg\n",
      "/mnt/c/Adrianov/Projects/trash-detector/yolo_res/label/result_1108.txt\n",
      "/mnt/c/Adrianov/Projects/trash-detector/yolo_res/images/result_1108.jpg\n",
      "Cropped image /mnt/c/Adrianov/Projects/trash-detector/yolo_res/images/result_1108.jpg and saved result to None\n"
     ]
    },
    {
     "name": "stderr",
     "output_type": "stream",
     "text": [
      " 10%|██▊                        | 125/1219 [00:15<02:08,  8.48it/s]"
     ]
    },
    {
     "name": "stdout",
     "output_type": "stream",
     "text": [
      "/mnt/c/Adrianov/Projects/trash-detector/yolo_res/label/result_1109.txt\n",
      "/mnt/c/Adrianov/Projects/trash-detector/yolo_res/images/result_1109.jpg\n",
      "obj: 2, obj: 0\n",
      "0.7645349166666666 0.5346530833333334 0.5838061648148148 0.9784398351851852\n",
      "0.77810555 0.71176645 0.42536549999999995 0.8124705\n",
      "True\n",
      "False\n",
      "False\n",
      "True\n",
      "True\n",
      "obj: 2, obj: 1\n",
      "0.7645349166666666 0.5346530833333334 0.5838061648148148 0.9784398351851852\n",
      "0.41813645 0.35372755 0.42797399999999997 0.745378\n",
      "False\n",
      "False\n",
      "True\n",
      "True\n",
      "True\n",
      "['1', '0.649594', '0.781123', '0.0215485', '0.0242633']\n",
      "['0', '0.744936', '0.618918', '0.0663391', '0.387105']\n",
      "Regions:  [(1226, 1493, 459, 877)]\n",
      "Cropped image /mnt/c/Adrianov/Projects/trash-detector/yolo_res/images/result_1109.jpg and saved result to /mnt/c/Adrianov/Projects/trash-detector/masks/imgs/result_124_0.jpg\n",
      "/mnt/c/Adrianov/Projects/trash-detector/yolo_res/label/result_111.txt\n",
      "/mnt/c/Adrianov/Projects/trash-detector/yolo_res/images/result_111.jpg\n",
      "obj: 2, obj: 0\n",
      "0.7084375666666667 0.46718243333333337 0.4475711648148148 0.8454668351851851\n",
      "0.7051749 0.6303771 0.322149 0.656015\n",
      "True\n",
      "False\n",
      "False\n",
      "True\n",
      "True\n",
      "obj: 2, obj: 1\n",
      "0.7084375666666667 0.46718243333333337 0.4475711648148148 0.8454668351851851\n",
      "0.48761319999999997 0.4355348 0.3155165 0.5298075\n",
      "True\n",
      "False\n",
      "False\n",
      "True\n",
      "True\n"
     ]
    },
    {
     "name": "stderr",
     "output_type": "stream",
     "text": [
      " 11%|██▊                        | 128/1219 [00:16<01:57,  9.27it/s]"
     ]
    },
    {
     "name": "stdout",
     "output_type": "stream",
     "text": [
      "['1', '0.58781', '0.646519', '0.0329218', '0.0275253']\n",
      "['0', '0.667776', '0.489082', '0.0747978', '0.333866']\n",
      "['0', '0.461574', '0.422662', '0.0520784', '0.214291']\n",
      "Regions:  [(836, 1353, 340, 713)]\n",
      "Cropped image /mnt/c/Adrianov/Projects/trash-detector/yolo_res/images/result_111.jpg and saved result to /mnt/c/Adrianov/Projects/trash-detector/masks/imgs/result_125_0.jpg\n",
      "/mnt/c/Adrianov/Projects/trash-detector/yolo_res/label/result_1110.txt\n",
      "/mnt/c/Adrianov/Projects/trash-detector/yolo_res/images/result_1110.jpg\n",
      "Cropped image /mnt/c/Adrianov/Projects/trash-detector/yolo_res/images/result_1110.jpg and saved result to None\n",
      "/mnt/c/Adrianov/Projects/trash-detector/yolo_res/label/result_1111.txt\n",
      "/mnt/c/Adrianov/Projects/trash-detector/yolo_res/images/result_1111.jpg\n",
      "Cropped image /mnt/c/Adrianov/Projects/trash-detector/yolo_res/images/result_1111.jpg and saved result to None\n",
      "/mnt/c/Adrianov/Projects/trash-detector/yolo_res/label/result_1112.txt\n",
      "/mnt/c/Adrianov/Projects/trash-detector/yolo_res/images/result_1112.jpg\n"
     ]
    },
    {
     "name": "stderr",
     "output_type": "stream",
     "text": [
      " 11%|██▉                        | 130/1219 [00:16<01:48, 10.08it/s]"
     ]
    },
    {
     "name": "stdout",
     "output_type": "stream",
     "text": [
      "obj: 2, obj: 0\n",
      "0.7665910666666667 0.5349049333333333 0.5828304648148148 0.9787995351851853\n",
      "0.78586955 0.71503445 0.43033800000000005 0.815766\n",
      "True\n",
      "False\n",
      "False\n",
      "True\n",
      "True\n",
      "obj: 2, obj: 1\n",
      "0.7665910666666667 0.5349049333333333 0.5828304648148148 0.9787995351851853\n",
      "0.4203235 0.33566250000000003 0.423371 0.759047\n",
      "False\n",
      "False\n",
      "True\n",
      "True\n",
      "True\n",
      "['1', '0.650748', '0.780815', '0.0233528', '0.0255987']\n",
      "['0', '0.750452', '0.623052', '0.0708351', '0.385428']\n",
      "Regions:  [(1227, 1508, 464, 881)]\n",
      "Cropped image /mnt/c/Adrianov/Projects/trash-detector/yolo_res/images/result_1112.jpg and saved result to /mnt/c/Adrianov/Projects/trash-detector/masks/imgs/result_128_0.jpg\n",
      "/mnt/c/Adrianov/Projects/trash-detector/yolo_res/label/result_1113.txt\n",
      "/mnt/c/Adrianov/Projects/trash-detector/yolo_res/images/result_1113.jpg\n",
      "Cropped image /mnt/c/Adrianov/Projects/trash-detector/yolo_res/images/result_1113.jpg and saved result to None\n",
      "/mnt/c/Adrianov/Projects/trash-detector/yolo_res/label/result_1114.txt\n",
      "/mnt/c/Adrianov/Projects/trash-detector/yolo_res/images/result_1114.jpg\n",
      "Cropped image /mnt/c/Adrianov/Projects/trash-detector/yolo_res/images/result_1114.jpg and saved result to None\n",
      "/mnt/c/Adrianov/Projects/trash-detector/yolo_res/label/result_1115.txt\n",
      "/mnt/c/Adrianov/Projects/trash-detector/yolo_res/images/result_1115.jpg\n"
     ]
    },
    {
     "name": "stderr",
     "output_type": "stream",
     "text": [
      " 11%|██▉                        | 134/1219 [00:16<01:46, 10.19it/s]"
     ]
    },
    {
     "name": "stdout",
     "output_type": "stream",
     "text": [
      "Cropped image /mnt/c/Adrianov/Projects/trash-detector/yolo_res/images/result_1115.jpg and saved result to None\n",
      "/mnt/c/Adrianov/Projects/trash-detector/yolo_res/label/result_1116.txt\n",
      "/mnt/c/Adrianov/Projects/trash-detector/yolo_res/images/result_1116.jpg\n",
      "Cropped image /mnt/c/Adrianov/Projects/trash-detector/yolo_res/images/result_1116.jpg and saved result to None\n",
      "/mnt/c/Adrianov/Projects/trash-detector/yolo_res/label/result_1117.txt\n",
      "/mnt/c/Adrianov/Projects/trash-detector/yolo_res/images/result_1117.jpg\n",
      "Cropped image /mnt/c/Adrianov/Projects/trash-detector/yolo_res/images/result_1117.jpg and saved result to None\n",
      "/mnt/c/Adrianov/Projects/trash-detector/yolo_res/label/result_1118.txt\n",
      "/mnt/c/Adrianov/Projects/trash-detector/yolo_res/images/result_1118.jpg\n"
     ]
    },
    {
     "name": "stderr",
     "output_type": "stream",
     "text": [
      " 11%|███                        | 136/1219 [00:16<01:42, 10.61it/s]"
     ]
    },
    {
     "name": "stdout",
     "output_type": "stream",
     "text": [
      "Cropped image /mnt/c/Adrianov/Projects/trash-detector/yolo_res/images/result_1118.jpg and saved result to None\n",
      "/mnt/c/Adrianov/Projects/trash-detector/yolo_res/label/result_1119.txt\n",
      "/mnt/c/Adrianov/Projects/trash-detector/yolo_res/images/result_1119.jpg\n",
      "Cropped image /mnt/c/Adrianov/Projects/trash-detector/yolo_res/images/result_1119.jpg and saved result to None\n",
      "/mnt/c/Adrianov/Projects/trash-detector/yolo_res/label/result_112.txt\n",
      "/mnt/c/Adrianov/Projects/trash-detector/yolo_res/images/result_112.jpg\n",
      "Cropped image /mnt/c/Adrianov/Projects/trash-detector/yolo_res/images/result_112.jpg and saved result to None\n",
      "/mnt/c/Adrianov/Projects/trash-detector/yolo_res/label/result_1120.txt\n",
      "/mnt/c/Adrianov/Projects/trash-detector/yolo_res/images/result_1120.jpg\n"
     ]
    },
    {
     "name": "stderr",
     "output_type": "stream",
     "text": [
      " 11%|███                        | 138/1219 [00:17<01:45, 10.28it/s]"
     ]
    },
    {
     "name": "stdout",
     "output_type": "stream",
     "text": [
      "Cropped image /mnt/c/Adrianov/Projects/trash-detector/yolo_res/images/result_1120.jpg and saved result to None\n",
      "/mnt/c/Adrianov/Projects/trash-detector/yolo_res/label/result_1121.txt\n",
      "/mnt/c/Adrianov/Projects/trash-detector/yolo_res/images/result_1121.jpg\n",
      "Cropped image /mnt/c/Adrianov/Projects/trash-detector/yolo_res/images/result_1121.jpg and saved result to None\n",
      "/mnt/c/Adrianov/Projects/trash-detector/yolo_res/label/result_1122.txt\n",
      "/mnt/c/Adrianov/Projects/trash-detector/yolo_res/images/result_1122.jpg\n"
     ]
    },
    {
     "name": "stderr",
     "output_type": "stream",
     "text": [
      " 12%|███                        | 141/1219 [00:17<02:11,  8.21it/s]"
     ]
    },
    {
     "name": "stdout",
     "output_type": "stream",
     "text": [
      "Cropped image /mnt/c/Adrianov/Projects/trash-detector/yolo_res/images/result_1122.jpg and saved result to None\n",
      "/mnt/c/Adrianov/Projects/trash-detector/yolo_res/label/result_1123.txt\n",
      "/mnt/c/Adrianov/Projects/trash-detector/yolo_res/images/result_1123.jpg\n",
      "Cropped image /mnt/c/Adrianov/Projects/trash-detector/yolo_res/images/result_1123.jpg and saved result to None\n",
      "/mnt/c/Adrianov/Projects/trash-detector/yolo_res/label/result_1124.txt\n",
      "/mnt/c/Adrianov/Projects/trash-detector/yolo_res/images/result_1124.jpg\n"
     ]
    },
    {
     "name": "stderr",
     "output_type": "stream",
     "text": [
      " 12%|███▏                       | 143/1219 [00:17<02:11,  8.16it/s]"
     ]
    },
    {
     "name": "stdout",
     "output_type": "stream",
     "text": [
      "Cropped image /mnt/c/Adrianov/Projects/trash-detector/yolo_res/images/result_1124.jpg and saved result to None\n",
      "/mnt/c/Adrianov/Projects/trash-detector/yolo_res/label/result_1125.txt\n",
      "/mnt/c/Adrianov/Projects/trash-detector/yolo_res/images/result_1125.jpg\n",
      "Cropped image /mnt/c/Adrianov/Projects/trash-detector/yolo_res/images/result_1125.jpg and saved result to None\n",
      "/mnt/c/Adrianov/Projects/trash-detector/yolo_res/label/result_1126.txt\n",
      "/mnt/c/Adrianov/Projects/trash-detector/yolo_res/images/result_1126.jpg\n",
      "Cropped image /mnt/c/Adrianov/Projects/trash-detector/yolo_res/images/result_1126.jpg and saved result to None\n",
      "/mnt/c/Adrianov/Projects/trash-detector/yolo_res/label/result_1127.txt\n",
      "/mnt/c/Adrianov/Projects/trash-detector/yolo_res/images/result_1127.jpg\n"
     ]
    },
    {
     "name": "stderr",
     "output_type": "stream",
     "text": [
      " 12%|███▏                       | 145/1219 [00:18<02:27,  7.28it/s]"
     ]
    },
    {
     "name": "stdout",
     "output_type": "stream",
     "text": [
      "Cropped image /mnt/c/Adrianov/Projects/trash-detector/yolo_res/images/result_1127.jpg and saved result to None\n",
      "/mnt/c/Adrianov/Projects/trash-detector/yolo_res/label/result_1128.txt\n",
      "/mnt/c/Adrianov/Projects/trash-detector/yolo_res/images/result_1128.jpg\n"
     ]
    },
    {
     "name": "stderr",
     "output_type": "stream",
     "text": [
      " 12%|███▏                       | 146/1219 [00:18<02:51,  6.26it/s]"
     ]
    },
    {
     "name": "stdout",
     "output_type": "stream",
     "text": [
      "Cropped image /mnt/c/Adrianov/Projects/trash-detector/yolo_res/images/result_1128.jpg and saved result to None\n",
      "/mnt/c/Adrianov/Projects/trash-detector/yolo_res/label/result_1129.txt\n",
      "/mnt/c/Adrianov/Projects/trash-detector/yolo_res/images/result_1129.jpg\n"
     ]
    },
    {
     "name": "stderr",
     "output_type": "stream",
     "text": [
      " 12%|███▎                       | 147/1219 [00:18<03:05,  5.77it/s]"
     ]
    },
    {
     "name": "stdout",
     "output_type": "stream",
     "text": [
      "Cropped image /mnt/c/Adrianov/Projects/trash-detector/yolo_res/images/result_1129.jpg and saved result to None\n",
      "/mnt/c/Adrianov/Projects/trash-detector/yolo_res/label/result_113.txt\n",
      "/mnt/c/Adrianov/Projects/trash-detector/yolo_res/images/result_113.jpg\n",
      "obj: 2, obj: 0\n",
      "0.3559608666666667 0.11180913333333334 0.5594625648148148 0.9613654351851852\n",
      "0.85223 0.680984 0.27961549999999996 0.9387304999999999\n",
      "False\n",
      "True\n",
      "False\n",
      "True\n",
      "True\n",
      "obj: 2, obj: 1\n",
      "0.3559608666666667 0.11180913333333334 0.5594625648148148 0.9613654351851852\n",
      "0.33420625 0.24521575 0.322183 0.717237\n",
      "True\n",
      "False\n",
      "False\n",
      "True\n",
      "True\n",
      "obj: 2, obj: 3\n",
      "0.3559608666666667 0.11180913333333334 0.5594625648148148 0.9613654351851852\n",
      "0.18419 0.0 0.6105585 0.9999994999999999\n",
      "True\n",
      "False\n",
      "False\n",
      "True\n",
      "True\n"
     ]
    },
    {
     "name": "stderr",
     "output_type": "stream",
     "text": [
      " 12%|███▎                       | 148/1219 [00:18<03:43,  4.79it/s]"
     ]
    },
    {
     "name": "stdout",
     "output_type": "stream",
     "text": [
      "['1', '0.233885', '0.760414', '0.0358184', '0.0315325']\n",
      "['0', '0.289711', '0.51971', '0.0889905', '0.395054']\n",
      "['0', '0.092095', '0.805279', '0.18419', '0.389441']\n",
      "Regions:  [(0, 641, 347, 1079)]\n",
      "Cropped image /mnt/c/Adrianov/Projects/trash-detector/yolo_res/images/result_113.jpg and saved result to /mnt/c/Adrianov/Projects/trash-detector/masks/imgs/result_147_0.jpg\n",
      "/mnt/c/Adrianov/Projects/trash-detector/yolo_res/label/result_1130.txt\n",
      "/mnt/c/Adrianov/Projects/trash-detector/yolo_res/images/result_1130.jpg\n"
     ]
    },
    {
     "name": "stderr",
     "output_type": "stream",
     "text": [
      " 12%|███▎                       | 150/1219 [00:19<03:08,  5.66it/s]"
     ]
    },
    {
     "name": "stdout",
     "output_type": "stream",
     "text": [
      "Cropped image /mnt/c/Adrianov/Projects/trash-detector/yolo_res/images/result_1130.jpg and saved result to None\n",
      "/mnt/c/Adrianov/Projects/trash-detector/yolo_res/label/result_1131.txt\n",
      "/mnt/c/Adrianov/Projects/trash-detector/yolo_res/images/result_1131.jpg\n",
      "Cropped image /mnt/c/Adrianov/Projects/trash-detector/yolo_res/images/result_1131.jpg and saved result to None\n",
      "/mnt/c/Adrianov/Projects/trash-detector/yolo_res/label/result_1132.txt\n",
      "/mnt/c/Adrianov/Projects/trash-detector/yolo_res/images/result_1132.jpg\n"
     ]
    },
    {
     "name": "stderr",
     "output_type": "stream",
     "text": [
      " 12%|███▎                       | 152/1219 [00:19<02:45,  6.45it/s]"
     ]
    },
    {
     "name": "stdout",
     "output_type": "stream",
     "text": [
      "Cropped image /mnt/c/Adrianov/Projects/trash-detector/yolo_res/images/result_1132.jpg and saved result to None\n",
      "/mnt/c/Adrianov/Projects/trash-detector/yolo_res/label/result_1133.txt\n",
      "/mnt/c/Adrianov/Projects/trash-detector/yolo_res/images/result_1133.jpg\n",
      "obj: 2, obj: 0\n",
      "0.7996510666666666 0.5637049333333334 0.6576946648148149 1.0669893351851854\n",
      "0.71159165 0.62945035 0.32544399999999996 0.663158\n",
      "True\n",
      "False\n",
      "False\n",
      "True\n",
      "True\n",
      "obj: 2, obj: 1\n",
      "0.7996510666666666 0.5637049333333334 0.6576946648148149 1.0669893351851854\n",
      "0.30406310000000003 0.2248549 0.43260050000000005 0.6527815\n",
      "False\n",
      "False\n",
      "True\n",
      "False\n",
      "True\n",
      "['1', '0.681678', '0.862342', '0.0276128', '0.0389243']\n",
      "['0', '0.670521', '0.494301', '0.0821413', '0.337714']\n",
      "Regions:  [(1208, 1366, 351, 952)]\n",
      "Cropped image /mnt/c/Adrianov/Projects/trash-detector/yolo_res/images/result_1133.jpg and saved result to /mnt/c/Adrianov/Projects/trash-detector/masks/imgs/result_151_0.jpg\n",
      "/mnt/c/Adrianov/Projects/trash-detector/yolo_res/label/result_1134.txt\n",
      "/mnt/c/Adrianov/Projects/trash-detector/yolo_res/images/result_1134.jpg\n"
     ]
    },
    {
     "name": "stderr",
     "output_type": "stream",
     "text": [
      " 13%|███▍                       | 154/1219 [00:19<02:35,  6.84it/s]"
     ]
    },
    {
     "name": "stdout",
     "output_type": "stream",
     "text": [
      "Cropped image /mnt/c/Adrianov/Projects/trash-detector/yolo_res/images/result_1134.jpg and saved result to None\n",
      "/mnt/c/Adrianov/Projects/trash-detector/yolo_res/label/result_1135.txt\n",
      "/mnt/c/Adrianov/Projects/trash-detector/yolo_res/images/result_1135.jpg\n",
      "Cropped image /mnt/c/Adrianov/Projects/trash-detector/yolo_res/images/result_1135.jpg and saved result to None\n",
      "/mnt/c/Adrianov/Projects/trash-detector/yolo_res/label/result_1136.txt\n",
      "/mnt/c/Adrianov/Projects/trash-detector/yolo_res/images/result_1136.jpg\n"
     ]
    },
    {
     "name": "stderr",
     "output_type": "stream",
     "text": [
      " 13%|███▍                       | 156/1219 [00:20<02:15,  7.82it/s]"
     ]
    },
    {
     "name": "stdout",
     "output_type": "stream",
     "text": [
      "Cropped image /mnt/c/Adrianov/Projects/trash-detector/yolo_res/images/result_1136.jpg and saved result to None\n",
      "/mnt/c/Adrianov/Projects/trash-detector/yolo_res/label/result_1137.txt\n",
      "/mnt/c/Adrianov/Projects/trash-detector/yolo_res/images/result_1137.jpg\n",
      "Cropped image /mnt/c/Adrianov/Projects/trash-detector/yolo_res/images/result_1137.jpg and saved result to None\n",
      "/mnt/c/Adrianov/Projects/trash-detector/yolo_res/label/result_1138.txt\n",
      "/mnt/c/Adrianov/Projects/trash-detector/yolo_res/images/result_1138.jpg\n"
     ]
    },
    {
     "name": "stderr",
     "output_type": "stream",
     "text": [
      " 13%|███▍                       | 157/1219 [00:20<02:11,  8.07it/s]"
     ]
    },
    {
     "name": "stdout",
     "output_type": "stream",
     "text": [
      "Cropped image /mnt/c/Adrianov/Projects/trash-detector/yolo_res/images/result_1138.jpg and saved result to None\n",
      "/mnt/c/Adrianov/Projects/trash-detector/yolo_res/label/result_1139.txt\n",
      "/mnt/c/Adrianov/Projects/trash-detector/yolo_res/images/result_1139.jpg\n",
      "obj: 2, obj: 0\n",
      "0.7546871666666667 0.5255308333333334 0.5874090148148148 0.9844789851851852\n",
      "0.71508775 0.63589225 0.440353 0.790599\n",
      "True\n",
      "False\n",
      "False\n",
      "True\n",
      "True\n",
      "obj: 2, obj: 1\n",
      "0.7546871666666667 0.5255308333333334 0.5874090148148148 0.9844789851851852\n",
      "0.4168382 0.34378179999999997 0.4452625 0.7346635\n",
      "False\n",
      "False\n",
      "True\n",
      "True\n",
      "True\n",
      "['1', '0.640109', '0.785944', '0.020823', '0.0266996']\n",
      "['0', '0.67549', '0.615476', '0.0791955', '0.350246']\n",
      "Regions:  [(1209, 1372, 475, 863)]\n",
      "Cropped image /mnt/c/Adrianov/Projects/trash-detector/yolo_res/images/result_1139.jpg and saved result to /mnt/c/Adrianov/Projects/trash-detector/masks/imgs/result_157_0.jpg\n",
      "/mnt/c/Adrianov/Projects/trash-detector/yolo_res/label/result_114.txt\n",
      "/mnt/c/Adrianov/Projects/trash-detector/yolo_res/images/result_114.jpg\n",
      "obj: 2, obj: 0\n",
      "0.7106116166666667 0.46840438333333334 0.4472443648148149 0.8472676351851852\n",
      "0.7047171999999999 0.6295708 0.3206845 0.6377915000000001\n",
      "True\n",
      "False\n",
      "False\n",
      "True\n",
      "True\n",
      "obj: 2, obj: 1\n",
      "0.7106116166666667 0.46840438333333334 0.4472443648148149 0.8472676351851852\n",
      "0.48757835 0.43611565 0.3084015 0.5332805\n",
      "True\n",
      "False\n",
      "False\n",
      "True\n",
      "True\n",
      "['1', '0.589508', '0.647256', '0.0338739', '0.0296529']\n",
      "['0', '0.667144', '0.479238', '0.0751464', '0.317107']\n",
      "['0', '0.461847', '0.420841', '0.0514627', '0.224879']\n",
      "Regions:  [(837, 1353, 333, 715)]\n"
     ]
    },
    {
     "name": "stderr",
     "output_type": "stream",
     "text": [
      " 13%|███▌                       | 159/1219 [00:20<02:01,  8.76it/s]"
     ]
    },
    {
     "name": "stdout",
     "output_type": "stream",
     "text": [
      "Cropped image /mnt/c/Adrianov/Projects/trash-detector/yolo_res/images/result_114.jpg and saved result to /mnt/c/Adrianov/Projects/trash-detector/masks/imgs/result_158_0.jpg\n",
      "/mnt/c/Adrianov/Projects/trash-detector/yolo_res/label/result_1140.txt\n",
      "/mnt/c/Adrianov/Projects/trash-detector/yolo_res/images/result_1140.jpg\n",
      "Cropped image /mnt/c/Adrianov/Projects/trash-detector/yolo_res/images/result_1140.jpg and saved result to None\n",
      "/mnt/c/Adrianov/Projects/trash-detector/yolo_res/label/result_1141.txt\n",
      "/mnt/c/Adrianov/Projects/trash-detector/yolo_res/images/result_1141.jpg\n"
     ]
    },
    {
     "name": "stderr",
     "output_type": "stream",
     "text": [
      " 13%|███▌                       | 163/1219 [00:20<01:51,  9.47it/s]"
     ]
    },
    {
     "name": "stdout",
     "output_type": "stream",
     "text": [
      "Cropped image /mnt/c/Adrianov/Projects/trash-detector/yolo_res/images/result_1141.jpg and saved result to None\n",
      "/mnt/c/Adrianov/Projects/trash-detector/yolo_res/label/result_1142.txt\n",
      "/mnt/c/Adrianov/Projects/trash-detector/yolo_res/images/result_1142.jpg\n",
      "Cropped image /mnt/c/Adrianov/Projects/trash-detector/yolo_res/images/result_1142.jpg and saved result to None\n",
      "/mnt/c/Adrianov/Projects/trash-detector/yolo_res/label/result_1143.txt\n",
      "/mnt/c/Adrianov/Projects/trash-detector/yolo_res/images/result_1143.jpg\n",
      "Cropped image /mnt/c/Adrianov/Projects/trash-detector/yolo_res/images/result_1143.jpg and saved result to None\n",
      "/mnt/c/Adrianov/Projects/trash-detector/yolo_res/label/result_1144.txt\n",
      "/mnt/c/Adrianov/Projects/trash-detector/yolo_res/images/result_1144.jpg\n"
     ]
    },
    {
     "name": "stderr",
     "output_type": "stream",
     "text": [
      " 14%|███▋                       | 165/1219 [00:20<01:47,  9.83it/s]"
     ]
    },
    {
     "name": "stdout",
     "output_type": "stream",
     "text": [
      "Cropped image /mnt/c/Adrianov/Projects/trash-detector/yolo_res/images/result_1144.jpg and saved result to None\n",
      "/mnt/c/Adrianov/Projects/trash-detector/yolo_res/label/result_1145.txt\n",
      "/mnt/c/Adrianov/Projects/trash-detector/yolo_res/images/result_1145.jpg\n",
      "Cropped image /mnt/c/Adrianov/Projects/trash-detector/yolo_res/images/result_1145.jpg and saved result to None\n",
      "/mnt/c/Adrianov/Projects/trash-detector/yolo_res/label/result_1146.txt\n",
      "/mnt/c/Adrianov/Projects/trash-detector/yolo_res/images/result_1146.jpg\n",
      "Cropped image /mnt/c/Adrianov/Projects/trash-detector/yolo_res/images/result_1146.jpg and saved result to None\n",
      "/mnt/c/Adrianov/Projects/trash-detector/yolo_res/label/result_1147.txt\n",
      "/mnt/c/Adrianov/Projects/trash-detector/yolo_res/images/result_1147.jpg\n"
     ]
    },
    {
     "name": "stderr",
     "output_type": "stream",
     "text": [
      " 14%|███▋                       | 169/1219 [00:21<01:40, 10.47it/s]"
     ]
    },
    {
     "name": "stdout",
     "output_type": "stream",
     "text": [
      "Cropped image /mnt/c/Adrianov/Projects/trash-detector/yolo_res/images/result_1147.jpg and saved result to None\n",
      "/mnt/c/Adrianov/Projects/trash-detector/yolo_res/label/result_1148.txt\n",
      "/mnt/c/Adrianov/Projects/trash-detector/yolo_res/images/result_1148.jpg\n",
      "Cropped image /mnt/c/Adrianov/Projects/trash-detector/yolo_res/images/result_1148.jpg and saved result to None\n",
      "/mnt/c/Adrianov/Projects/trash-detector/yolo_res/label/result_1149.txt\n",
      "/mnt/c/Adrianov/Projects/trash-detector/yolo_res/images/result_1149.jpg\n",
      "Cropped image /mnt/c/Adrianov/Projects/trash-detector/yolo_res/images/result_1149.jpg and saved result to None\n",
      "/mnt/c/Adrianov/Projects/trash-detector/yolo_res/label/result_115.txt\n",
      "/mnt/c/Adrianov/Projects/trash-detector/yolo_res/images/result_115.jpg\n"
     ]
    },
    {
     "name": "stderr",
     "output_type": "stream",
     "text": [
      " 14%|███▊                       | 171/1219 [00:21<01:36, 10.85it/s]"
     ]
    },
    {
     "name": "stdout",
     "output_type": "stream",
     "text": [
      "Cropped image /mnt/c/Adrianov/Projects/trash-detector/yolo_res/images/result_115.jpg and saved result to None\n",
      "/mnt/c/Adrianov/Projects/trash-detector/yolo_res/label/result_1150.txt\n",
      "/mnt/c/Adrianov/Projects/trash-detector/yolo_res/images/result_1150.jpg\n",
      "Cropped image /mnt/c/Adrianov/Projects/trash-detector/yolo_res/images/result_1150.jpg and saved result to None\n",
      "/mnt/c/Adrianov/Projects/trash-detector/yolo_res/label/result_1151.txt\n",
      "/mnt/c/Adrianov/Projects/trash-detector/yolo_res/images/result_1151.jpg\n",
      "Cropped image /mnt/c/Adrianov/Projects/trash-detector/yolo_res/images/result_1151.jpg and saved result to None\n",
      "/mnt/c/Adrianov/Projects/trash-detector/yolo_res/label/result_1152.txt\n",
      "/mnt/c/Adrianov/Projects/trash-detector/yolo_res/images/result_1152.jpg\n"
     ]
    },
    {
     "name": "stderr",
     "output_type": "stream",
     "text": [
      " 14%|███▉                       | 175/1219 [00:21<01:41, 10.33it/s]"
     ]
    },
    {
     "name": "stdout",
     "output_type": "stream",
     "text": [
      "Cropped image /mnt/c/Adrianov/Projects/trash-detector/yolo_res/images/result_1152.jpg and saved result to None\n",
      "/mnt/c/Adrianov/Projects/trash-detector/yolo_res/label/result_1153.txt\n",
      "/mnt/c/Adrianov/Projects/trash-detector/yolo_res/images/result_1153.jpg\n",
      "Cropped image /mnt/c/Adrianov/Projects/trash-detector/yolo_res/images/result_1153.jpg and saved result to None\n",
      "/mnt/c/Adrianov/Projects/trash-detector/yolo_res/label/result_1154.txt\n",
      "/mnt/c/Adrianov/Projects/trash-detector/yolo_res/images/result_1154.jpg\n",
      "Cropped image /mnt/c/Adrianov/Projects/trash-detector/yolo_res/images/result_1154.jpg and saved result to None\n",
      "/mnt/c/Adrianov/Projects/trash-detector/yolo_res/label/result_1155.txt\n",
      "/mnt/c/Adrianov/Projects/trash-detector/yolo_res/images/result_1155.jpg\n"
     ]
    },
    {
     "name": "stderr",
     "output_type": "stream",
     "text": [
      " 15%|███▉                       | 177/1219 [00:22<01:45,  9.86it/s]"
     ]
    },
    {
     "name": "stdout",
     "output_type": "stream",
     "text": [
      "Cropped image /mnt/c/Adrianov/Projects/trash-detector/yolo_res/images/result_1155.jpg and saved result to None\n",
      "/mnt/c/Adrianov/Projects/trash-detector/yolo_res/label/result_1156.txt\n",
      "/mnt/c/Adrianov/Projects/trash-detector/yolo_res/images/result_1156.jpg\n",
      "Cropped image /mnt/c/Adrianov/Projects/trash-detector/yolo_res/images/result_1156.jpg and saved result to None\n",
      "/mnt/c/Adrianov/Projects/trash-detector/yolo_res/label/result_1157.txt\n",
      "/mnt/c/Adrianov/Projects/trash-detector/yolo_res/images/result_1157.jpg\n"
     ]
    },
    {
     "name": "stderr",
     "output_type": "stream",
     "text": [
      " 15%|███▉                       | 180/1219 [00:22<01:43, 10.04it/s]"
     ]
    },
    {
     "name": "stdout",
     "output_type": "stream",
     "text": [
      "Cropped image /mnt/c/Adrianov/Projects/trash-detector/yolo_res/images/result_1157.jpg and saved result to None\n",
      "/mnt/c/Adrianov/Projects/trash-detector/yolo_res/label/result_1158.txt\n",
      "/mnt/c/Adrianov/Projects/trash-detector/yolo_res/images/result_1158.jpg\n",
      "Cropped image /mnt/c/Adrianov/Projects/trash-detector/yolo_res/images/result_1158.jpg and saved result to None\n",
      "/mnt/c/Adrianov/Projects/trash-detector/yolo_res/label/result_1159.txt\n",
      "/mnt/c/Adrianov/Projects/trash-detector/yolo_res/images/result_1159.jpg\n",
      "Cropped image /mnt/c/Adrianov/Projects/trash-detector/yolo_res/images/result_1159.jpg and saved result to None\n",
      "/mnt/c/Adrianov/Projects/trash-detector/yolo_res/label/result_116.txt\n",
      "/mnt/c/Adrianov/Projects/trash-detector/yolo_res/images/result_116.jpg\n"
     ]
    },
    {
     "name": "stderr",
     "output_type": "stream",
     "text": [
      " 15%|████                       | 181/1219 [00:22<02:00,  8.59it/s]"
     ]
    },
    {
     "name": "stdout",
     "output_type": "stream",
     "text": [
      "obj: 2, obj: 0\n",
      "0.35201911666666663 0.09711288333333332 0.5612001148148149 0.9759738851851851\n",
      "0.3344401 0.2374879 0.3185215 0.7254565000000001\n",
      "True\n",
      "False\n",
      "False\n",
      "True\n",
      "True\n",
      "obj: 2, obj: 1\n",
      "0.35201911666666663 0.09711288333333332 0.5612001148148149 0.9759738851851851\n",
      "0.8594780000000001 0.645444 0.575241 0.9950709999999999\n",
      "False\n",
      "True\n",
      "False\n",
      "True\n",
      "True\n",
      "['1', '0.224566', '0.768587', '0.0465729', '0.0444034']\n",
      "['0', '0.285964', '0.521989', '0.0969522', '0.406935']\n",
      "Regions:  [(386, 642, 344, 854)]\n",
      "Cropped image /mnt/c/Adrianov/Projects/trash-detector/yolo_res/images/result_116.jpg and saved result to /mnt/c/Adrianov/Projects/trash-detector/masks/imgs/result_180_0.jpg\n",
      "/mnt/c/Adrianov/Projects/trash-detector/yolo_res/label/result_1160.txt\n",
      "/mnt/c/Adrianov/Projects/trash-detector/yolo_res/images/result_1160.jpg\n"
     ]
    },
    {
     "name": "stderr",
     "output_type": "stream",
     "text": [
      " 15%|████                       | 183/1219 [00:22<02:14,  7.71it/s]"
     ]
    },
    {
     "name": "stdout",
     "output_type": "stream",
     "text": [
      "Cropped image /mnt/c/Adrianov/Projects/trash-detector/yolo_res/images/result_1160.jpg and saved result to None\n",
      "/mnt/c/Adrianov/Projects/trash-detector/yolo_res/label/result_1161.txt\n",
      "/mnt/c/Adrianov/Projects/trash-detector/yolo_res/images/result_1161.jpg\n",
      "Cropped image /mnt/c/Adrianov/Projects/trash-detector/yolo_res/images/result_1161.jpg and saved result to None\n",
      "/mnt/c/Adrianov/Projects/trash-detector/yolo_res/label/result_1162.txt\n",
      "/mnt/c/Adrianov/Projects/trash-detector/yolo_res/images/result_1162.jpg\n"
     ]
    },
    {
     "name": "stderr",
     "output_type": "stream",
     "text": [
      " 15%|████                       | 185/1219 [00:23<01:59,  8.66it/s]"
     ]
    },
    {
     "name": "stdout",
     "output_type": "stream",
     "text": [
      "Cropped image /mnt/c/Adrianov/Projects/trash-detector/yolo_res/images/result_1162.jpg and saved result to None\n",
      "/mnt/c/Adrianov/Projects/trash-detector/yolo_res/label/result_1163.txt\n",
      "/mnt/c/Adrianov/Projects/trash-detector/yolo_res/images/result_1163.jpg\n",
      "Cropped image /mnt/c/Adrianov/Projects/trash-detector/yolo_res/images/result_1163.jpg and saved result to None\n",
      "/mnt/c/Adrianov/Projects/trash-detector/yolo_res/label/result_1164.txt\n",
      "/mnt/c/Adrianov/Projects/trash-detector/yolo_res/images/result_1164.jpg\n",
      "Cropped image /mnt/c/Adrianov/Projects/trash-detector/yolo_res/images/result_1164.jpg and saved result to None\n",
      "/mnt/c/Adrianov/Projects/trash-detector/yolo_res/label/result_1165.txt\n",
      "/mnt/c/Adrianov/Projects/trash-detector/yolo_res/images/result_1165.jpg\n"
     ]
    },
    {
     "name": "stderr",
     "output_type": "stream",
     "text": [
      " 15%|████▏                      | 188/1219 [00:23<02:13,  7.74it/s]"
     ]
    },
    {
     "name": "stdout",
     "output_type": "stream",
     "text": [
      "Cropped image /mnt/c/Adrianov/Projects/trash-detector/yolo_res/images/result_1165.jpg and saved result to None\n",
      "/mnt/c/Adrianov/Projects/trash-detector/yolo_res/label/result_1166.txt\n",
      "/mnt/c/Adrianov/Projects/trash-detector/yolo_res/images/result_1166.jpg\n",
      "Cropped image /mnt/c/Adrianov/Projects/trash-detector/yolo_res/images/result_1166.jpg and saved result to None\n",
      "/mnt/c/Adrianov/Projects/trash-detector/yolo_res/label/result_1167.txt\n",
      "/mnt/c/Adrianov/Projects/trash-detector/yolo_res/images/result_1167.jpg\n"
     ]
    },
    {
     "name": "stderr",
     "output_type": "stream",
     "text": [
      " 16%|████▏                      | 190/1219 [00:23<02:27,  6.96it/s]"
     ]
    },
    {
     "name": "stdout",
     "output_type": "stream",
     "text": [
      "Cropped image /mnt/c/Adrianov/Projects/trash-detector/yolo_res/images/result_1167.jpg and saved result to None\n",
      "/mnt/c/Adrianov/Projects/trash-detector/yolo_res/label/result_1168.txt\n",
      "/mnt/c/Adrianov/Projects/trash-detector/yolo_res/images/result_1168.jpg\n",
      "Cropped image /mnt/c/Adrianov/Projects/trash-detector/yolo_res/images/result_1168.jpg and saved result to None\n",
      "/mnt/c/Adrianov/Projects/trash-detector/yolo_res/label/result_1169.txt\n",
      "/mnt/c/Adrianov/Projects/trash-detector/yolo_res/images/result_1169.jpg\n"
     ]
    },
    {
     "name": "stderr",
     "output_type": "stream",
     "text": [
      " 16%|████▎                      | 192/1219 [00:24<02:08,  8.01it/s]"
     ]
    },
    {
     "name": "stdout",
     "output_type": "stream",
     "text": [
      "Cropped image /mnt/c/Adrianov/Projects/trash-detector/yolo_res/images/result_1169.jpg and saved result to None\n",
      "/mnt/c/Adrianov/Projects/trash-detector/yolo_res/label/result_117.txt\n",
      "/mnt/c/Adrianov/Projects/trash-detector/yolo_res/images/result_117.jpg\n",
      "Cropped image /mnt/c/Adrianov/Projects/trash-detector/yolo_res/images/result_117.jpg and saved result to None\n",
      "/mnt/c/Adrianov/Projects/trash-detector/yolo_res/label/result_1170.txt\n",
      "/mnt/c/Adrianov/Projects/trash-detector/yolo_res/images/result_1170.jpg\n",
      "Cropped image /mnt/c/Adrianov/Projects/trash-detector/yolo_res/images/result_1170.jpg and saved result to None\n",
      "/mnt/c/Adrianov/Projects/trash-detector/yolo_res/label/result_1171.txt\n",
      "/mnt/c/Adrianov/Projects/trash-detector/yolo_res/images/result_1171.jpg\n"
     ]
    },
    {
     "name": "stderr",
     "output_type": "stream",
     "text": [
      " 16%|████▎                      | 196/1219 [00:24<01:47,  9.49it/s]"
     ]
    },
    {
     "name": "stdout",
     "output_type": "stream",
     "text": [
      "Cropped image /mnt/c/Adrianov/Projects/trash-detector/yolo_res/images/result_1171.jpg and saved result to None\n",
      "/mnt/c/Adrianov/Projects/trash-detector/yolo_res/label/result_1172.txt\n",
      "/mnt/c/Adrianov/Projects/trash-detector/yolo_res/images/result_1172.jpg\n",
      "Cropped image /mnt/c/Adrianov/Projects/trash-detector/yolo_res/images/result_1172.jpg and saved result to None\n",
      "/mnt/c/Adrianov/Projects/trash-detector/yolo_res/label/result_1173.txt\n",
      "/mnt/c/Adrianov/Projects/trash-detector/yolo_res/images/result_1173.jpg\n",
      "Cropped image /mnt/c/Adrianov/Projects/trash-detector/yolo_res/images/result_1173.jpg and saved result to None\n",
      "/mnt/c/Adrianov/Projects/trash-detector/yolo_res/label/result_1174.txt\n",
      "/mnt/c/Adrianov/Projects/trash-detector/yolo_res/images/result_1174.jpg\n"
     ]
    },
    {
     "name": "stderr",
     "output_type": "stream",
     "text": [
      " 16%|████▍                      | 198/1219 [00:24<01:40, 10.13it/s]"
     ]
    },
    {
     "name": "stdout",
     "output_type": "stream",
     "text": [
      "Cropped image /mnt/c/Adrianov/Projects/trash-detector/yolo_res/images/result_1174.jpg and saved result to None\n",
      "/mnt/c/Adrianov/Projects/trash-detector/yolo_res/label/result_1175.txt\n",
      "/mnt/c/Adrianov/Projects/trash-detector/yolo_res/images/result_1175.jpg\n",
      "Cropped image /mnt/c/Adrianov/Projects/trash-detector/yolo_res/images/result_1175.jpg and saved result to None\n",
      "/mnt/c/Adrianov/Projects/trash-detector/yolo_res/label/result_1176.txt\n",
      "/mnt/c/Adrianov/Projects/trash-detector/yolo_res/images/result_1176.jpg\n",
      "Cropped image /mnt/c/Adrianov/Projects/trash-detector/yolo_res/images/result_1176.jpg and saved result to None\n",
      "/mnt/c/Adrianov/Projects/trash-detector/yolo_res/label/result_1177.txt\n",
      "/mnt/c/Adrianov/Projects/trash-detector/yolo_res/images/result_1177.jpg\n"
     ]
    },
    {
     "name": "stderr",
     "output_type": "stream",
     "text": [
      " 16%|████▍                      | 200/1219 [00:24<01:39, 10.29it/s]"
     ]
    },
    {
     "name": "stdout",
     "output_type": "stream",
     "text": [
      "Cropped image /mnt/c/Adrianov/Projects/trash-detector/yolo_res/images/result_1177.jpg and saved result to None\n",
      "/mnt/c/Adrianov/Projects/trash-detector/yolo_res/label/result_1178.txt\n",
      "/mnt/c/Adrianov/Projects/trash-detector/yolo_res/images/result_1178.jpg\n",
      "Cropped image /mnt/c/Adrianov/Projects/trash-detector/yolo_res/images/result_1178.jpg and saved result to None\n",
      "/mnt/c/Adrianov/Projects/trash-detector/yolo_res/label/result_1179.txt\n",
      "/mnt/c/Adrianov/Projects/trash-detector/yolo_res/images/result_1179.jpg\n"
     ]
    },
    {
     "name": "stderr",
     "output_type": "stream",
     "text": [
      " 17%|████▍                      | 203/1219 [00:25<01:45,  9.59it/s]"
     ]
    },
    {
     "name": "stdout",
     "output_type": "stream",
     "text": [
      "Cropped image /mnt/c/Adrianov/Projects/trash-detector/yolo_res/images/result_1179.jpg and saved result to None\n",
      "/mnt/c/Adrianov/Projects/trash-detector/yolo_res/label/result_118.txt\n",
      "/mnt/c/Adrianov/Projects/trash-detector/yolo_res/images/result_118.jpg\n",
      "obj: 2, obj: 0\n",
      "0.35695031666666666 0.11262968333333333 0.5601136648148148 0.9620043351851852\n",
      "0.84858 0.67802 0.283339 0.935173\n",
      "False\n",
      "True\n",
      "False\n",
      "True\n",
      "True\n",
      "obj: 2, obj: 1\n",
      "0.35695031666666666 0.11262968333333333 0.5601136648148148 0.9620043351851852\n",
      "0.33364544999999995 0.24623454999999997 0.3155220000000001 0.718426\n",
      "True\n",
      "False\n",
      "False\n",
      "True\n",
      "True\n",
      "obj: 2, obj: 3\n",
      "0.35695031666666666 0.11262968333333333 0.5601136648148148 0.9620043351851852\n",
      "0.203346 0.0 0.606916 0.9999\n",
      "True\n",
      "False\n",
      "False\n",
      "True\n",
      "True\n",
      "['1', '0.23479', '0.761059', '0.0359873', '0.0315203']\n",
      "['0', '0.28994', '0.516974', '0.0874109', '0.402904']\n",
      "['0', '0.101673', '0.803408', '0.203346', '0.392984']\n",
      "Regions:  [(0, 640, 340, 1079)]\n",
      "Cropped image /mnt/c/Adrianov/Projects/trash-detector/yolo_res/images/result_118.jpg and saved result to /mnt/c/Adrianov/Projects/trash-detector/masks/imgs/result_202_0.jpg\n",
      "/mnt/c/Adrianov/Projects/trash-detector/yolo_res/label/result_1180.txt\n",
      "/mnt/c/Adrianov/Projects/trash-detector/yolo_res/images/result_1180.jpg\n"
     ]
    },
    {
     "name": "stderr",
     "output_type": "stream",
     "text": [
      " 17%|████▌                      | 205/1219 [00:25<02:07,  7.98it/s]"
     ]
    },
    {
     "name": "stdout",
     "output_type": "stream",
     "text": [
      "Cropped image /mnt/c/Adrianov/Projects/trash-detector/yolo_res/images/result_1180.jpg and saved result to None\n",
      "/mnt/c/Adrianov/Projects/trash-detector/yolo_res/label/result_1181.txt\n",
      "/mnt/c/Adrianov/Projects/trash-detector/yolo_res/images/result_1181.jpg\n",
      "Cropped image /mnt/c/Adrianov/Projects/trash-detector/yolo_res/images/result_1181.jpg and saved result to None\n",
      "/mnt/c/Adrianov/Projects/trash-detector/yolo_res/label/result_1182.txt\n",
      "/mnt/c/Adrianov/Projects/trash-detector/yolo_res/images/result_1182.jpg\n"
     ]
    },
    {
     "name": "stderr",
     "output_type": "stream",
     "text": [
      " 17%|████▌                      | 207/1219 [00:25<02:13,  7.57it/s]"
     ]
    },
    {
     "name": "stdout",
     "output_type": "stream",
     "text": [
      "Cropped image /mnt/c/Adrianov/Projects/trash-detector/yolo_res/images/result_1182.jpg and saved result to None\n",
      "/mnt/c/Adrianov/Projects/trash-detector/yolo_res/label/result_1183.txt\n",
      "/mnt/c/Adrianov/Projects/trash-detector/yolo_res/images/result_1183.jpg\n",
      "Cropped image /mnt/c/Adrianov/Projects/trash-detector/yolo_res/images/result_1183.jpg and saved result to None\n",
      "/mnt/c/Adrianov/Projects/trash-detector/yolo_res/label/result_1184.txt\n",
      "/mnt/c/Adrianov/Projects/trash-detector/yolo_res/images/result_1184.jpg\n"
     ]
    },
    {
     "name": "stderr",
     "output_type": "stream",
     "text": [
      " 17%|████▋                      | 209/1219 [00:25<01:59,  8.43it/s]"
     ]
    },
    {
     "name": "stdout",
     "output_type": "stream",
     "text": [
      "Cropped image /mnt/c/Adrianov/Projects/trash-detector/yolo_res/images/result_1184.jpg and saved result to None\n",
      "/mnt/c/Adrianov/Projects/trash-detector/yolo_res/label/result_1185.txt\n",
      "/mnt/c/Adrianov/Projects/trash-detector/yolo_res/images/result_1185.jpg\n",
      "Cropped image /mnt/c/Adrianov/Projects/trash-detector/yolo_res/images/result_1185.jpg and saved result to None\n",
      "/mnt/c/Adrianov/Projects/trash-detector/yolo_res/label/result_1186.txt\n",
      "/mnt/c/Adrianov/Projects/trash-detector/yolo_res/images/result_1186.jpg\n"
     ]
    },
    {
     "name": "stderr",
     "output_type": "stream",
     "text": [
      " 17%|████▋                      | 211/1219 [00:26<01:46,  9.51it/s]"
     ]
    },
    {
     "name": "stdout",
     "output_type": "stream",
     "text": [
      "Cropped image /mnt/c/Adrianov/Projects/trash-detector/yolo_res/images/result_1186.jpg and saved result to None\n",
      "/mnt/c/Adrianov/Projects/trash-detector/yolo_res/label/result_1187.txt\n",
      "/mnt/c/Adrianov/Projects/trash-detector/yolo_res/images/result_1187.jpg\n",
      "Cropped image /mnt/c/Adrianov/Projects/trash-detector/yolo_res/images/result_1187.jpg and saved result to None\n",
      "/mnt/c/Adrianov/Projects/trash-detector/yolo_res/label/result_1188.txt\n",
      "/mnt/c/Adrianov/Projects/trash-detector/yolo_res/images/result_1188.jpg\n"
     ]
    },
    {
     "name": "stderr",
     "output_type": "stream",
     "text": [
      " 17%|████▋                      | 212/1219 [00:26<02:02,  8.23it/s]"
     ]
    },
    {
     "name": "stdout",
     "output_type": "stream",
     "text": [
      "Cropped image /mnt/c/Adrianov/Projects/trash-detector/yolo_res/images/result_1188.jpg and saved result to None\n",
      "/mnt/c/Adrianov/Projects/trash-detector/yolo_res/label/result_1189.txt\n",
      "/mnt/c/Adrianov/Projects/trash-detector/yolo_res/images/result_1189.jpg\n"
     ]
    },
    {
     "name": "stderr",
     "output_type": "stream",
     "text": [
      " 18%|████▋                      | 214/1219 [00:26<02:30,  6.68it/s]"
     ]
    },
    {
     "name": "stdout",
     "output_type": "stream",
     "text": [
      "Cropped image /mnt/c/Adrianov/Projects/trash-detector/yolo_res/images/result_1189.jpg and saved result to None\n",
      "/mnt/c/Adrianov/Projects/trash-detector/yolo_res/label/result_119.txt\n",
      "/mnt/c/Adrianov/Projects/trash-detector/yolo_res/images/result_119.jpg\n",
      "Cropped image /mnt/c/Adrianov/Projects/trash-detector/yolo_res/images/result_119.jpg and saved result to None\n",
      "/mnt/c/Adrianov/Projects/trash-detector/yolo_res/label/result_1190.txt\n",
      "/mnt/c/Adrianov/Projects/trash-detector/yolo_res/images/result_1190.jpg\n"
     ]
    },
    {
     "name": "stderr",
     "output_type": "stream",
     "text": [
      " 18%|████▊                      | 216/1219 [00:26<02:04,  8.06it/s]"
     ]
    },
    {
     "name": "stdout",
     "output_type": "stream",
     "text": [
      "Cropped image /mnt/c/Adrianov/Projects/trash-detector/yolo_res/images/result_1190.jpg and saved result to None\n",
      "/mnt/c/Adrianov/Projects/trash-detector/yolo_res/label/result_1191.txt\n",
      "/mnt/c/Adrianov/Projects/trash-detector/yolo_res/images/result_1191.jpg\n",
      "Cropped image /mnt/c/Adrianov/Projects/trash-detector/yolo_res/images/result_1191.jpg and saved result to None\n",
      "/mnt/c/Adrianov/Projects/trash-detector/yolo_res/label/result_1192.txt\n",
      "/mnt/c/Adrianov/Projects/trash-detector/yolo_res/images/result_1192.jpg\n",
      "Cropped image /mnt/c/Adrianov/Projects/trash-detector/yolo_res/images/result_1192.jpg and saved result to None\n",
      "/mnt/c/Adrianov/Projects/trash-detector/yolo_res/label/result_1193.txt\n",
      "/mnt/c/Adrianov/Projects/trash-detector/yolo_res/images/result_1193.jpg\n"
     ]
    },
    {
     "name": "stderr",
     "output_type": "stream",
     "text": [
      " 18%|████▊                      | 220/1219 [00:27<01:46,  9.36it/s]"
     ]
    },
    {
     "name": "stdout",
     "output_type": "stream",
     "text": [
      "Cropped image /mnt/c/Adrianov/Projects/trash-detector/yolo_res/images/result_1193.jpg and saved result to None\n",
      "/mnt/c/Adrianov/Projects/trash-detector/yolo_res/label/result_1194.txt\n",
      "/mnt/c/Adrianov/Projects/trash-detector/yolo_res/images/result_1194.jpg\n",
      "Cropped image /mnt/c/Adrianov/Projects/trash-detector/yolo_res/images/result_1194.jpg and saved result to None\n",
      "/mnt/c/Adrianov/Projects/trash-detector/yolo_res/label/result_1195.txt\n",
      "/mnt/c/Adrianov/Projects/trash-detector/yolo_res/images/result_1195.jpg\n",
      "Cropped image /mnt/c/Adrianov/Projects/trash-detector/yolo_res/images/result_1195.jpg and saved result to None\n",
      "/mnt/c/Adrianov/Projects/trash-detector/yolo_res/label/result_1196.txt\n",
      "/mnt/c/Adrianov/Projects/trash-detector/yolo_res/images/result_1196.jpg\n"
     ]
    },
    {
     "name": "stderr",
     "output_type": "stream",
     "text": [
      " 18%|████▉                      | 222/1219 [00:27<01:38, 10.12it/s]"
     ]
    },
    {
     "name": "stdout",
     "output_type": "stream",
     "text": [
      "Cropped image /mnt/c/Adrianov/Projects/trash-detector/yolo_res/images/result_1196.jpg and saved result to None\n",
      "/mnt/c/Adrianov/Projects/trash-detector/yolo_res/label/result_1197.txt\n",
      "/mnt/c/Adrianov/Projects/trash-detector/yolo_res/images/result_1197.jpg\n",
      "Cropped image /mnt/c/Adrianov/Projects/trash-detector/yolo_res/images/result_1197.jpg and saved result to None\n",
      "/mnt/c/Adrianov/Projects/trash-detector/yolo_res/label/result_1198.txt\n",
      "/mnt/c/Adrianov/Projects/trash-detector/yolo_res/images/result_1198.jpg\n",
      "Cropped image /mnt/c/Adrianov/Projects/trash-detector/yolo_res/images/result_1198.jpg and saved result to None\n",
      "/mnt/c/Adrianov/Projects/trash-detector/yolo_res/label/result_1199.txt\n",
      "/mnt/c/Adrianov/Projects/trash-detector/yolo_res/images/result_1199.jpg\n"
     ]
    },
    {
     "name": "stderr",
     "output_type": "stream",
     "text": [
      " 18%|████▉                      | 224/1219 [00:27<01:33, 10.60it/s]"
     ]
    },
    {
     "name": "stdout",
     "output_type": "stream",
     "text": [
      "Cropped image /mnt/c/Adrianov/Projects/trash-detector/yolo_res/images/result_1199.jpg and saved result to None\n",
      "/mnt/c/Adrianov/Projects/trash-detector/yolo_res/label/result_12.txt\n",
      "/mnt/c/Adrianov/Projects/trash-detector/yolo_res/images/result_12.jpg\n",
      "Cropped image /mnt/c/Adrianov/Projects/trash-detector/yolo_res/images/result_12.jpg and saved result to None\n",
      "/mnt/c/Adrianov/Projects/trash-detector/yolo_res/label/result_120.txt\n",
      "/mnt/c/Adrianov/Projects/trash-detector/yolo_res/images/result_120.jpg\n",
      "obj: 2, obj: 0\n",
      "0.7067739666666666 0.4691560333333333 0.4492902648148148 0.8451637351851852\n",
      "0.70136075 0.63117525 0.31638449999999996 0.6188135\n",
      "True\n",
      "False\n",
      "False\n",
      "True\n",
      "True\n",
      "obj: 2, obj: 1\n",
      "0.7067739666666666 0.4691560333333333 0.4492902648148148 0.8451637351851852\n",
      "0.4949713 0.4411267 0.2994285 0.5398655\n",
      "True\n",
      "False\n",
      "False\n",
      "True\n",
      "True\n",
      "['1', '0.587965', '0.647227', '0.0292846', '0.0255031']\n",
      "['0', '0.666268', '0.467599', '0.0701855', '0.302429']\n",
      "['0', '0.468049', '0.419647', '0.0538446', '0.240437']\n",
      "Regions:  [(846, 1346, 323, 712)]\n"
     ]
    },
    {
     "name": "stderr",
     "output_type": "stream",
     "text": [
      " 19%|█████                      | 228/1219 [00:27<01:32, 10.67it/s]"
     ]
    },
    {
     "name": "stdout",
     "output_type": "stream",
     "text": [
      "Cropped image /mnt/c/Adrianov/Projects/trash-detector/yolo_res/images/result_120.jpg and saved result to /mnt/c/Adrianov/Projects/trash-detector/masks/imgs/result_225_0.jpg\n",
      "/mnt/c/Adrianov/Projects/trash-detector/yolo_res/label/result_1200.txt\n",
      "/mnt/c/Adrianov/Projects/trash-detector/yolo_res/images/result_1200.jpg\n",
      "Cropped image /mnt/c/Adrianov/Projects/trash-detector/yolo_res/images/result_1200.jpg and saved result to None\n",
      "/mnt/c/Adrianov/Projects/trash-detector/yolo_res/label/result_1201.txt\n",
      "/mnt/c/Adrianov/Projects/trash-detector/yolo_res/images/result_1201.jpg\n",
      "Cropped image /mnt/c/Adrianov/Projects/trash-detector/yolo_res/images/result_1201.jpg and saved result to None\n",
      "/mnt/c/Adrianov/Projects/trash-detector/yolo_res/label/result_1202.txt\n",
      "/mnt/c/Adrianov/Projects/trash-detector/yolo_res/images/result_1202.jpg\n"
     ]
    },
    {
     "name": "stderr",
     "output_type": "stream",
     "text": [
      " 19%|█████                      | 230/1219 [00:28<01:30, 10.96it/s]"
     ]
    },
    {
     "name": "stdout",
     "output_type": "stream",
     "text": [
      "Cropped image /mnt/c/Adrianov/Projects/trash-detector/yolo_res/images/result_1202.jpg and saved result to None\n",
      "/mnt/c/Adrianov/Projects/trash-detector/yolo_res/label/result_1203.txt\n",
      "/mnt/c/Adrianov/Projects/trash-detector/yolo_res/images/result_1203.jpg\n",
      "Cropped image /mnt/c/Adrianov/Projects/trash-detector/yolo_res/images/result_1203.jpg and saved result to None\n",
      "/mnt/c/Adrianov/Projects/trash-detector/yolo_res/label/result_1204.txt\n",
      "/mnt/c/Adrianov/Projects/trash-detector/yolo_res/images/result_1204.jpg\n",
      "Cropped image /mnt/c/Adrianov/Projects/trash-detector/yolo_res/images/result_1204.jpg and saved result to None\n",
      "/mnt/c/Adrianov/Projects/trash-detector/yolo_res/label/result_1205.txt\n",
      "/mnt/c/Adrianov/Projects/trash-detector/yolo_res/images/result_1205.jpg\n"
     ]
    },
    {
     "name": "stderr",
     "output_type": "stream",
     "text": [
      " 19%|█████▏                     | 234/1219 [00:28<01:35, 10.27it/s]"
     ]
    },
    {
     "name": "stdout",
     "output_type": "stream",
     "text": [
      "Cropped image /mnt/c/Adrianov/Projects/trash-detector/yolo_res/images/result_1205.jpg and saved result to None\n",
      "/mnt/c/Adrianov/Projects/trash-detector/yolo_res/label/result_1206.txt\n",
      "/mnt/c/Adrianov/Projects/trash-detector/yolo_res/images/result_1206.jpg\n",
      "Cropped image /mnt/c/Adrianov/Projects/trash-detector/yolo_res/images/result_1206.jpg and saved result to None\n",
      "/mnt/c/Adrianov/Projects/trash-detector/yolo_res/label/result_1207.txt\n",
      "/mnt/c/Adrianov/Projects/trash-detector/yolo_res/images/result_1207.jpg\n",
      "Cropped image /mnt/c/Adrianov/Projects/trash-detector/yolo_res/images/result_1207.jpg and saved result to None\n",
      "/mnt/c/Adrianov/Projects/trash-detector/yolo_res/label/result_1208.txt\n",
      "/mnt/c/Adrianov/Projects/trash-detector/yolo_res/images/result_1208.jpg\n"
     ]
    },
    {
     "name": "stderr",
     "output_type": "stream",
     "text": [
      " 19%|█████▏                     | 236/1219 [00:28<01:57,  8.34it/s]"
     ]
    },
    {
     "name": "stdout",
     "output_type": "stream",
     "text": [
      "Cropped image /mnt/c/Adrianov/Projects/trash-detector/yolo_res/images/result_1208.jpg and saved result to None\n",
      "/mnt/c/Adrianov/Projects/trash-detector/yolo_res/label/result_1209.txt\n",
      "/mnt/c/Adrianov/Projects/trash-detector/yolo_res/images/result_1209.jpg\n",
      "Cropped image /mnt/c/Adrianov/Projects/trash-detector/yolo_res/images/result_1209.jpg and saved result to None\n",
      "/mnt/c/Adrianov/Projects/trash-detector/yolo_res/label/result_121.txt\n",
      "/mnt/c/Adrianov/Projects/trash-detector/yolo_res/images/result_121.jpg\n"
     ]
    },
    {
     "name": "stderr",
     "output_type": "stream",
     "text": [
      " 20%|█████▎                     | 238/1219 [00:29<01:55,  8.49it/s]"
     ]
    },
    {
     "name": "stdout",
     "output_type": "stream",
     "text": [
      "Cropped image /mnt/c/Adrianov/Projects/trash-detector/yolo_res/images/result_121.jpg and saved result to None\n",
      "/mnt/c/Adrianov/Projects/trash-detector/yolo_res/label/result_1210.txt\n",
      "/mnt/c/Adrianov/Projects/trash-detector/yolo_res/images/result_1210.jpg\n",
      "Cropped image /mnt/c/Adrianov/Projects/trash-detector/yolo_res/images/result_1210.jpg and saved result to None\n",
      "/mnt/c/Adrianov/Projects/trash-detector/yolo_res/label/result_1211.txt\n",
      "/mnt/c/Adrianov/Projects/trash-detector/yolo_res/images/result_1211.jpg\n"
     ]
    },
    {
     "name": "stderr",
     "output_type": "stream",
     "text": [
      " 20%|█████▎                     | 240/1219 [00:29<01:45,  9.29it/s]"
     ]
    },
    {
     "name": "stdout",
     "output_type": "stream",
     "text": [
      "Cropped image /mnt/c/Adrianov/Projects/trash-detector/yolo_res/images/result_1211.jpg and saved result to None\n",
      "/mnt/c/Adrianov/Projects/trash-detector/yolo_res/label/result_1212.txt\n",
      "/mnt/c/Adrianov/Projects/trash-detector/yolo_res/images/result_1212.jpg\n",
      "Cropped image /mnt/c/Adrianov/Projects/trash-detector/yolo_res/images/result_1212.jpg and saved result to None\n",
      "/mnt/c/Adrianov/Projects/trash-detector/yolo_res/label/result_1213.txt\n",
      "/mnt/c/Adrianov/Projects/trash-detector/yolo_res/images/result_1213.jpg\n",
      "Cropped image /mnt/c/Adrianov/Projects/trash-detector/yolo_res/images/result_1213.jpg and saved result to None\n",
      "/mnt/c/Adrianov/Projects/trash-detector/yolo_res/label/result_1214.txt\n",
      "/mnt/c/Adrianov/Projects/trash-detector/yolo_res/images/result_1214.jpg\n"
     ]
    },
    {
     "name": "stderr",
     "output_type": "stream",
     "text": [
      " 20%|█████▍                     | 244/1219 [00:29<01:34, 10.29it/s]"
     ]
    },
    {
     "name": "stdout",
     "output_type": "stream",
     "text": [
      "Cropped image /mnt/c/Adrianov/Projects/trash-detector/yolo_res/images/result_1214.jpg and saved result to None\n",
      "/mnt/c/Adrianov/Projects/trash-detector/yolo_res/label/result_1215.txt\n",
      "/mnt/c/Adrianov/Projects/trash-detector/yolo_res/images/result_1215.jpg\n",
      "Cropped image /mnt/c/Adrianov/Projects/trash-detector/yolo_res/images/result_1215.jpg and saved result to None\n",
      "/mnt/c/Adrianov/Projects/trash-detector/yolo_res/label/result_1216.txt\n",
      "/mnt/c/Adrianov/Projects/trash-detector/yolo_res/images/result_1216.jpg\n",
      "Cropped image /mnt/c/Adrianov/Projects/trash-detector/yolo_res/images/result_1216.jpg and saved result to None\n",
      "/mnt/c/Adrianov/Projects/trash-detector/yolo_res/label/result_1217.txt\n",
      "/mnt/c/Adrianov/Projects/trash-detector/yolo_res/images/result_1217.jpg\n"
     ]
    },
    {
     "name": "stderr",
     "output_type": "stream",
     "text": [
      " 20%|█████▍                     | 246/1219 [00:29<01:46,  9.14it/s]"
     ]
    },
    {
     "name": "stdout",
     "output_type": "stream",
     "text": [
      "Cropped image /mnt/c/Adrianov/Projects/trash-detector/yolo_res/images/result_1217.jpg and saved result to None\n",
      "/mnt/c/Adrianov/Projects/trash-detector/yolo_res/label/result_1218.txt\n",
      "/mnt/c/Adrianov/Projects/trash-detector/yolo_res/images/result_1218.jpg\n",
      "Cropped image /mnt/c/Adrianov/Projects/trash-detector/yolo_res/images/result_1218.jpg and saved result to None\n",
      "/mnt/c/Adrianov/Projects/trash-detector/yolo_res/label/result_1219.txt\n",
      "/mnt/c/Adrianov/Projects/trash-detector/yolo_res/images/result_1219.jpg\n"
     ]
    },
    {
     "name": "stderr",
     "output_type": "stream",
     "text": [
      " 20%|█████▍                     | 248/1219 [00:30<01:54,  8.51it/s]"
     ]
    },
    {
     "name": "stdout",
     "output_type": "stream",
     "text": [
      "Cropped image /mnt/c/Adrianov/Projects/trash-detector/yolo_res/images/result_1219.jpg and saved result to None\n",
      "/mnt/c/Adrianov/Projects/trash-detector/yolo_res/label/result_122.txt\n",
      "/mnt/c/Adrianov/Projects/trash-detector/yolo_res/images/result_122.jpg\n",
      "obj: 3, obj: 0\n",
      "0.36014176666666664 0.11047423333333331 0.5167574648148148 0.9640625351851853\n",
      "0.8578615 0.6768164999999999 0.2733715 0.9390145\n",
      "False\n",
      "True\n",
      "False\n",
      "True\n",
      "True\n",
      "obj: 3, obj: 1\n",
      "0.36014176666666664 0.11047423333333331 0.5167574648148148 0.9640625351851853\n",
      "0.33362165 0.24622635 0.310546 0.7189300000000001\n",
      "True\n",
      "False\n",
      "False\n",
      "True\n",
      "True\n",
      "obj: 3, obj: 2\n",
      "0.36014176666666664 0.11047423333333331 0.5167574648148148 0.9640625351851853\n",
      "0.238422 0.0 0.6053014999999999 1.0000005\n",
      "True\n",
      "False\n",
      "False\n",
      "True\n",
      "True\n",
      "['1', '0.235308', '0.74041', '0.0413342', '0.0769347']\n",
      "['0', '0.289924', '0.514738', '0.0873953', '0.408384']\n",
      "['0', '0.119211', '0.802651', '0.238422', '0.394699']\n",
      "Regions:  [(0, 640, 335, 1080)]\n",
      "Cropped image /mnt/c/Adrianov/Projects/trash-detector/yolo_res/images/result_122.jpg and saved result to /mnt/c/Adrianov/Projects/trash-detector/masks/imgs/result_247_0.jpg\n",
      "/mnt/c/Adrianov/Projects/trash-detector/yolo_res/label/result_1220.txt\n",
      "/mnt/c/Adrianov/Projects/trash-detector/yolo_res/images/result_1220.jpg\n"
     ]
    },
    {
     "name": "stderr",
     "output_type": "stream",
     "text": [
      " 21%|█████▌                     | 250/1219 [00:30<02:08,  7.57it/s]"
     ]
    },
    {
     "name": "stdout",
     "output_type": "stream",
     "text": [
      "Cropped image /mnt/c/Adrianov/Projects/trash-detector/yolo_res/images/result_1220.jpg and saved result to None\n",
      "/mnt/c/Adrianov/Projects/trash-detector/yolo_res/label/result_1221.txt\n",
      "/mnt/c/Adrianov/Projects/trash-detector/yolo_res/images/result_1221.jpg\n",
      "Cropped image /mnt/c/Adrianov/Projects/trash-detector/yolo_res/images/result_1221.jpg and saved result to None\n",
      "/mnt/c/Adrianov/Projects/trash-detector/yolo_res/label/result_1222.txt\n",
      "/mnt/c/Adrianov/Projects/trash-detector/yolo_res/images/result_1222.jpg\n"
     ]
    },
    {
     "name": "stderr",
     "output_type": "stream",
     "text": [
      " 21%|█████▌                     | 252/1219 [00:30<02:27,  6.58it/s]"
     ]
    },
    {
     "name": "stdout",
     "output_type": "stream",
     "text": [
      "Cropped image /mnt/c/Adrianov/Projects/trash-detector/yolo_res/images/result_1222.jpg and saved result to None\n",
      "/mnt/c/Adrianov/Projects/trash-detector/yolo_res/label/result_1223.txt\n",
      "/mnt/c/Adrianov/Projects/trash-detector/yolo_res/images/result_1223.jpg\n",
      "Cropped image /mnt/c/Adrianov/Projects/trash-detector/yolo_res/images/result_1223.jpg and saved result to None\n",
      "/mnt/c/Adrianov/Projects/trash-detector/yolo_res/label/result_1224.txt\n",
      "/mnt/c/Adrianov/Projects/trash-detector/yolo_res/images/result_1224.jpg\n"
     ]
    },
    {
     "name": "stderr",
     "output_type": "stream",
     "text": [
      " 21%|█████▋                     | 254/1219 [00:30<02:05,  7.67it/s]"
     ]
    },
    {
     "name": "stdout",
     "output_type": "stream",
     "text": [
      "Cropped image /mnt/c/Adrianov/Projects/trash-detector/yolo_res/images/result_1224.jpg and saved result to None\n",
      "/mnt/c/Adrianov/Projects/trash-detector/yolo_res/label/result_1225.txt\n",
      "/mnt/c/Adrianov/Projects/trash-detector/yolo_res/images/result_1225.jpg\n",
      "Cropped image /mnt/c/Adrianov/Projects/trash-detector/yolo_res/images/result_1225.jpg and saved result to None\n",
      "/mnt/c/Adrianov/Projects/trash-detector/yolo_res/label/result_1226.txt\n",
      "/mnt/c/Adrianov/Projects/trash-detector/yolo_res/images/result_1226.jpg\n"
     ]
    },
    {
     "name": "stderr",
     "output_type": "stream",
     "text": [
      " 21%|█████▋                     | 257/1219 [00:31<01:44,  9.23it/s]"
     ]
    },
    {
     "name": "stdout",
     "output_type": "stream",
     "text": [
      "Cropped image /mnt/c/Adrianov/Projects/trash-detector/yolo_res/images/result_1226.jpg and saved result to None\n",
      "/mnt/c/Adrianov/Projects/trash-detector/yolo_res/label/result_1227.txt\n",
      "/mnt/c/Adrianov/Projects/trash-detector/yolo_res/images/result_1227.jpg\n",
      "Cropped image /mnt/c/Adrianov/Projects/trash-detector/yolo_res/images/result_1227.jpg and saved result to None\n",
      "/mnt/c/Adrianov/Projects/trash-detector/yolo_res/label/result_1228.txt\n",
      "/mnt/c/Adrianov/Projects/trash-detector/yolo_res/images/result_1228.jpg\n",
      "Cropped image /mnt/c/Adrianov/Projects/trash-detector/yolo_res/images/result_1228.jpg and saved result to None\n",
      "/mnt/c/Adrianov/Projects/trash-detector/yolo_res/label/result_1229.txt\n",
      "/mnt/c/Adrianov/Projects/trash-detector/yolo_res/images/result_1229.jpg\n"
     ]
    },
    {
     "name": "stderr",
     "output_type": "stream",
     "text": [
      " 21%|█████▊                     | 260/1219 [00:31<01:33, 10.21it/s]"
     ]
    },
    {
     "name": "stdout",
     "output_type": "stream",
     "text": [
      "Cropped image /mnt/c/Adrianov/Projects/trash-detector/yolo_res/images/result_1229.jpg and saved result to None\n",
      "/mnt/c/Adrianov/Projects/trash-detector/yolo_res/label/result_123.txt\n",
      "/mnt/c/Adrianov/Projects/trash-detector/yolo_res/images/result_123.jpg\n",
      "Cropped image /mnt/c/Adrianov/Projects/trash-detector/yolo_res/images/result_123.jpg and saved result to None\n",
      "/mnt/c/Adrianov/Projects/trash-detector/yolo_res/label/result_1230.txt\n",
      "/mnt/c/Adrianov/Projects/trash-detector/yolo_res/images/result_1230.jpg\n",
      "Cropped image /mnt/c/Adrianov/Projects/trash-detector/yolo_res/images/result_1230.jpg and saved result to None\n",
      "/mnt/c/Adrianov/Projects/trash-detector/yolo_res/label/result_1231.txt\n",
      "/mnt/c/Adrianov/Projects/trash-detector/yolo_res/images/result_1231.jpg\n"
     ]
    },
    {
     "name": "stderr",
     "output_type": "stream",
     "text": [
      " 21%|█████▊                     | 262/1219 [00:31<01:33, 10.22it/s]"
     ]
    },
    {
     "name": "stdout",
     "output_type": "stream",
     "text": [
      "Cropped image /mnt/c/Adrianov/Projects/trash-detector/yolo_res/images/result_1231.jpg and saved result to None\n",
      "/mnt/c/Adrianov/Projects/trash-detector/yolo_res/label/result_124.txt\n",
      "/mnt/c/Adrianov/Projects/trash-detector/yolo_res/images/result_124.jpg\n",
      "Cropped image /mnt/c/Adrianov/Projects/trash-detector/yolo_res/images/result_124.jpg and saved result to None\n",
      "/mnt/c/Adrianov/Projects/trash-detector/yolo_res/label/result_125.txt\n",
      "/mnt/c/Adrianov/Projects/trash-detector/yolo_res/images/result_125.jpg\n",
      "obj: 2, obj: 0\n",
      "0.6983668166666668 0.4710831833333334 0.44880446481481484 0.8508735351851853\n",
      "0.7040509 0.6324091 0.31585450000000004 0.6301355\n",
      "True\n",
      "False\n",
      "False\n",
      "True\n",
      "True\n",
      "obj: 2, obj: 1\n",
      "0.6983668166666668 0.4710831833333334 0.44880446481481484 0.8508735351851853\n",
      "0.49417135 0.44696265 0.29801599999999995 0.537026\n",
      "True\n",
      "False\n",
      "False\n",
      "True\n",
      "True\n",
      "['1', '0.584725', '0.649839', '0.0189503', '0.0316987']\n",
      "['0', '0.66823', '0.472995', '0.0716418', '0.314281']\n",
      "['0', '0.470567', '0.417521', '0.0472087', '0.23901']\n",
      "Regions:  [(858, 1351, 321, 718)]\n"
     ]
    },
    {
     "name": "stderr",
     "output_type": "stream",
     "text": [
      " 22%|█████▊                     | 264/1219 [00:31<01:32, 10.38it/s]"
     ]
    },
    {
     "name": "stdout",
     "output_type": "stream",
     "text": [
      "Cropped image /mnt/c/Adrianov/Projects/trash-detector/yolo_res/images/result_125.jpg and saved result to /mnt/c/Adrianov/Projects/trash-detector/masks/imgs/result_262_0.jpg\n",
      "/mnt/c/Adrianov/Projects/trash-detector/yolo_res/label/result_126.txt\n",
      "/mnt/c/Adrianov/Projects/trash-detector/yolo_res/images/result_126.jpg\n",
      "Cropped image /mnt/c/Adrianov/Projects/trash-detector/yolo_res/images/result_126.jpg and saved result to None\n",
      "/mnt/c/Adrianov/Projects/trash-detector/yolo_res/label/result_127.txt\n",
      "/mnt/c/Adrianov/Projects/trash-detector/yolo_res/images/result_127.jpg\n",
      "Cropped image /mnt/c/Adrianov/Projects/trash-detector/yolo_res/images/result_127.jpg and saved result to None\n",
      "/mnt/c/Adrianov/Projects/trash-detector/yolo_res/label/result_128.txt\n",
      "/mnt/c/Adrianov/Projects/trash-detector/yolo_res/images/result_128.jpg\n"
     ]
    },
    {
     "name": "stderr",
     "output_type": "stream",
     "text": [
      " 22%|█████▉                     | 267/1219 [00:32<01:54,  8.33it/s]"
     ]
    },
    {
     "name": "stdout",
     "output_type": "stream",
     "text": [
      "Cropped image /mnt/c/Adrianov/Projects/trash-detector/yolo_res/images/result_128.jpg and saved result to None\n",
      "/mnt/c/Adrianov/Projects/trash-detector/yolo_res/label/result_129.txt\n",
      "/mnt/c/Adrianov/Projects/trash-detector/yolo_res/images/result_129.jpg\n",
      "Cropped image /mnt/c/Adrianov/Projects/trash-detector/yolo_res/images/result_129.jpg and saved result to None\n",
      "/mnt/c/Adrianov/Projects/trash-detector/yolo_res/label/result_13.txt\n",
      "/mnt/c/Adrianov/Projects/trash-detector/yolo_res/images/result_13.jpg\n",
      "obj: 3, obj: 0\n",
      "0.9028407166666667 0.6453872833333333 0.7500244148148149 1.1654295851851852\n",
      "0.5497227 0.47183130000000006 0.39222650000000003 0.7194235\n",
      "False\n",
      "False\n",
      "True\n",
      "False\n",
      "True\n",
      "obj: 3, obj: 1\n",
      "0.9028407166666667 0.6453872833333333 0.7500244148148149 1.1654295851851852\n",
      "0.8851975000000001 0.7739285 0.361558 0.907786\n",
      "True\n",
      "False\n",
      "False\n",
      "True\n",
      "True\n",
      "obj: 3, obj: 2\n",
      "0.9028407166666667 0.6453872833333333 0.7500244148148149 1.1654295851851852\n",
      "0.2279405 -5.000000000005e-07 0.6401300000000001 1.0\n",
      "False\n",
      "False\n",
      "True\n",
      "True\n",
      "True\n"
     ]
    },
    {
     "name": "stderr",
     "output_type": "stream",
     "text": [
      " 22%|█████▉                     | 269/1219 [00:32<01:52,  8.42it/s]"
     ]
    },
    {
     "name": "stdout",
     "output_type": "stream",
     "text": [
      "['1', '0.774114', '0.957727', '0.0491201', '0.0450348']\n",
      "['0', '0.829563', '0.634672', '0.111269', '0.546228']\n",
      "Regions:  [(1439, 1699, 390, 1058)]\n",
      "Cropped image /mnt/c/Adrianov/Projects/trash-detector/yolo_res/images/result_13.jpg and saved result to /mnt/c/Adrianov/Projects/trash-detector/masks/imgs/result_267_0.jpg\n",
      "/mnt/c/Adrianov/Projects/trash-detector/yolo_res/label/result_130.txt\n",
      "/mnt/c/Adrianov/Projects/trash-detector/yolo_res/images/result_130.jpg\n",
      "obj: 3, obj: 0\n",
      "0.35995136666666666 0.11236063333333333 0.5149882148148148 0.9627597851851852\n",
      "0.8624364999999999 0.6665795 0.2677235 0.9305565\n",
      "False\n",
      "True\n",
      "False\n",
      "True\n",
      "True\n",
      "obj: 3, obj: 1\n",
      "0.35995136666666666 0.11236063333333333 0.5149882148148148 0.9627597851851852\n",
      "0.33415900000000004 0.22282900000000003 0.3159265 0.7181895\n",
      "True\n",
      "False\n",
      "False\n",
      "True\n",
      "True\n",
      "obj: 3, obj: 2\n",
      "0.35995136666666666 0.11236063333333333 0.5149882148148148 0.9627597851851852\n",
      "0.244202 0.0 0.603246 1.0\n",
      "True\n",
      "False\n",
      "False\n",
      "True\n",
      "True\n",
      "['1', '0.236156', '0.738874', '0.0392574', '0.0774012']\n",
      "['0', '0.278494', '0.517058', '0.11133', '0.402263']\n",
      "['0', '0.122101', '0.801623', '0.244202', '0.396754']\n",
      "Regions:  [(0, 641, 341, 1080)]\n",
      "Cropped image /mnt/c/Adrianov/Projects/trash-detector/yolo_res/images/result_130.jpg and saved result to /mnt/c/Adrianov/Projects/trash-detector/masks/imgs/result_268_0.jpg\n",
      "/mnt/c/Adrianov/Projects/trash-detector/yolo_res/label/result_131.txt\n",
      "/mnt/c/Adrianov/Projects/trash-detector/yolo_res/images/result_131.jpg\n"
     ]
    },
    {
     "name": "stderr",
     "output_type": "stream",
     "text": [
      " 22%|██████                     | 271/1219 [00:32<01:46,  8.90it/s]"
     ]
    },
    {
     "name": "stdout",
     "output_type": "stream",
     "text": [
      "Cropped image /mnt/c/Adrianov/Projects/trash-detector/yolo_res/images/result_131.jpg and saved result to None\n",
      "/mnt/c/Adrianov/Projects/trash-detector/yolo_res/label/result_132.txt\n",
      "/mnt/c/Adrianov/Projects/trash-detector/yolo_res/images/result_132.jpg\n",
      "Cropped image /mnt/c/Adrianov/Projects/trash-detector/yolo_res/images/result_132.jpg and saved result to None\n",
      "/mnt/c/Adrianov/Projects/trash-detector/yolo_res/label/result_133.txt\n",
      "/mnt/c/Adrianov/Projects/trash-detector/yolo_res/images/result_133.jpg\n",
      "obj: 3, obj: 0\n",
      "0.35997096666666667 0.11205503333333333 0.5150715648148148 0.9624244351851852\n",
      "0.863733 0.6726530000000001 0.27515850000000003 0.9312315\n",
      "False\n",
      "True\n",
      "False\n",
      "True\n",
      "True\n",
      "obj: 3, obj: 1\n",
      "0.35997096666666667 0.11205503333333333 0.5150715648148148 0.9624244351851852\n",
      "0.3356245 0.20689349999999995 0.333526 0.728308\n",
      "True\n",
      "False\n",
      "False\n",
      "True\n",
      "True\n",
      "obj: 3, obj: 2\n",
      "0.35997096666666667 0.11205503333333333 0.5150715648148148 0.9624244351851852\n",
      "0.236384 0.0 0.6042974999999999 1.0000005\n",
      "True\n",
      "False\n",
      "False\n",
      "True\n",
      "True\n"
     ]
    },
    {
     "name": "stderr",
     "output_type": "stream",
     "text": [
      " 22%|██████                     | 272/1219 [00:32<01:50,  8.58it/s]"
     ]
    },
    {
     "name": "stdout",
     "output_type": "stream",
     "text": [
      "['1', '0.236013', '0.738748', '0.0395826', '0.0769825']\n",
      "['0', '0.271259', '0.530917', '0.128731', '0.394782']\n",
      "['0', '0.118192', '0.802149', '0.236384', '0.395703']\n",
      "Regions:  [(0, 644, 360, 1080)]\n",
      "Cropped image /mnt/c/Adrianov/Projects/trash-detector/yolo_res/images/result_133.jpg and saved result to /mnt/c/Adrianov/Projects/trash-detector/masks/imgs/result_271_0.jpg\n",
      "/mnt/c/Adrianov/Projects/trash-detector/yolo_res/label/result_134.txt\n",
      "/mnt/c/Adrianov/Projects/trash-detector/yolo_res/images/result_134.jpg\n",
      "Cropped image /mnt/c/Adrianov/Projects/trash-detector/yolo_res/images/result_134.jpg and saved result to None\n",
      "/mnt/c/Adrianov/Projects/trash-detector/yolo_res/label/result_135.txt\n",
      "/mnt/c/Adrianov/Projects/trash-detector/yolo_res/images/result_135.jpg\n"
     ]
    },
    {
     "name": "stderr",
     "output_type": "stream",
     "text": [
      " 22%|██████                     | 274/1219 [00:33<01:55,  8.21it/s]"
     ]
    },
    {
     "name": "stdout",
     "output_type": "stream",
     "text": [
      "Cropped image /mnt/c/Adrianov/Projects/trash-detector/yolo_res/images/result_135.jpg and saved result to None\n",
      "/mnt/c/Adrianov/Projects/trash-detector/yolo_res/label/result_136.txt\n",
      "/mnt/c/Adrianov/Projects/trash-detector/yolo_res/images/result_136.jpg\n",
      "obj: 3, obj: 0\n",
      "0.3604055666666667 0.11208843333333335 0.5150962148148148 0.9627077851851851\n",
      "0.864166 0.678002 0.27267099999999994 0.930277\n",
      "False\n",
      "True\n",
      "False\n",
      "True\n",
      "True\n",
      "obj: 3, obj: 1\n",
      "0.3604055666666667 0.11208843333333335 0.5150962148148148 0.9627077851851851\n",
      "0.3261535 0.2020305 0.3409555000000001 0.7333465\n",
      "True\n",
      "False\n",
      "False\n",
      "True\n",
      "True\n",
      "obj: 3, obj: 2\n",
      "0.3604055666666667 0.11208843333333335 0.5150962148148148 0.9627077851851851\n",
      "0.22764 0.0 0.6053360000000001 1.0\n",
      "True\n",
      "False\n",
      "False\n",
      "True\n",
      "True\n"
     ]
    },
    {
     "name": "stderr",
     "output_type": "stream",
     "text": [
      " 23%|██████                     | 276/1219 [00:33<02:21,  6.65it/s]"
     ]
    },
    {
     "name": "stdout",
     "output_type": "stream",
     "text": [
      "['1', '0.236247', '0.738902', '0.0399838', '0.0772412']\n",
      "['0', '0.264092', '0.537151', '0.124123', '0.392391']\n",
      "['0', '0.11382', '0.802668', '0.22764', '0.394664']\n",
      "Regions:  [(0, 626, 368, 1080)]\n",
      "Cropped image /mnt/c/Adrianov/Projects/trash-detector/yolo_res/images/result_136.jpg and saved result to /mnt/c/Adrianov/Projects/trash-detector/masks/imgs/result_274_0.jpg\n",
      "/mnt/c/Adrianov/Projects/trash-detector/yolo_res/label/result_137.txt\n",
      "/mnt/c/Adrianov/Projects/trash-detector/yolo_res/images/result_137.jpg\n",
      "Cropped image /mnt/c/Adrianov/Projects/trash-detector/yolo_res/images/result_137.jpg and saved result to None\n",
      "/mnt/c/Adrianov/Projects/trash-detector/yolo_res/label/result_138.txt\n",
      "/mnt/c/Adrianov/Projects/trash-detector/yolo_res/images/result_138.jpg\n"
     ]
    },
    {
     "name": "stderr",
     "output_type": "stream",
     "text": [
      " 23%|██████▏                    | 278/1219 [00:33<02:08,  7.30it/s]"
     ]
    },
    {
     "name": "stdout",
     "output_type": "stream",
     "text": [
      "Cropped image /mnt/c/Adrianov/Projects/trash-detector/yolo_res/images/result_138.jpg and saved result to None\n",
      "/mnt/c/Adrianov/Projects/trash-detector/yolo_res/label/result_139.txt\n",
      "/mnt/c/Adrianov/Projects/trash-detector/yolo_res/images/result_139.jpg\n",
      "Cropped image /mnt/c/Adrianov/Projects/trash-detector/yolo_res/images/result_139.jpg and saved result to None\n",
      "/mnt/c/Adrianov/Projects/trash-detector/yolo_res/label/result_14.txt\n",
      "/mnt/c/Adrianov/Projects/trash-detector/yolo_res/images/result_14.jpg\n"
     ]
    },
    {
     "name": "stderr",
     "output_type": "stream",
     "text": [
      " 23%|██████▏                    | 280/1219 [00:35<05:27,  2.86it/s]"
     ]
    },
    {
     "name": "stdout",
     "output_type": "stream",
     "text": [
      "Cropped image /mnt/c/Adrianov/Projects/trash-detector/yolo_res/images/result_14.jpg and saved result to None\n",
      "/mnt/c/Adrianov/Projects/trash-detector/yolo_res/label/result_140.txt\n",
      "/mnt/c/Adrianov/Projects/trash-detector/yolo_res/images/result_140.jpg\n",
      "obj: 2, obj: 0\n",
      "0.7304461166666667 0.4779978833333334 0.4441909148148149 0.8519250851851852\n",
      "0.7144854500000001 0.64500455 0.32957499999999995 0.631665\n",
      "True\n",
      "False\n",
      "False\n",
      "True\n",
      "True\n",
      "obj: 2, obj: 1\n",
      "0.7304461166666667 0.4779978833333334 0.4441909148148149 0.8519250851851852\n",
      "0.50177875 0.45863725 0.30418249999999997 0.5514534999999999\n",
      "True\n",
      "False\n",
      "False\n",
      "True\n",
      "True\n",
      "['1', '0.604222', '0.648058', '0.0441149', '0.0373638']\n",
      "['0', '0.679745', '0.48062', '0.0694809', '0.30209']\n",
      "['0', '0.480208', '0.427818', '0.0431415', '0.247271']\n",
      "Regions:  [(880, 1371, 328, 720)]\n",
      "Cropped image /mnt/c/Adrianov/Projects/trash-detector/yolo_res/images/result_140.jpg and saved result to /mnt/c/Adrianov/Projects/trash-detector/masks/imgs/result_279_0.jpg\n",
      "/mnt/c/Adrianov/Projects/trash-detector/yolo_res/label/result_141.txt\n",
      "/mnt/c/Adrianov/Projects/trash-detector/yolo_res/images/result_141.jpg\n"
     ]
    },
    {
     "name": "stderr",
     "output_type": "stream",
     "text": [
      " 23%|██████▏                    | 282/1219 [00:35<04:29,  3.47it/s]"
     ]
    },
    {
     "name": "stdout",
     "output_type": "stream",
     "text": [
      "Cropped image /mnt/c/Adrianov/Projects/trash-detector/yolo_res/images/result_141.jpg and saved result to None\n",
      "/mnt/c/Adrianov/Projects/trash-detector/yolo_res/label/result_142.txt\n",
      "/mnt/c/Adrianov/Projects/trash-detector/yolo_res/images/result_142.jpg\n",
      "Cropped image /mnt/c/Adrianov/Projects/trash-detector/yolo_res/images/result_142.jpg and saved result to None\n",
      "/mnt/c/Adrianov/Projects/trash-detector/yolo_res/label/result_143.txt\n",
      "/mnt/c/Adrianov/Projects/trash-detector/yolo_res/images/result_143.jpg\n"
     ]
    },
    {
     "name": "stderr",
     "output_type": "stream",
     "text": [
      " 23%|██████▎                    | 283/1219 [00:35<03:59,  3.91it/s]"
     ]
    },
    {
     "name": "stdout",
     "output_type": "stream",
     "text": [
      "Cropped image /mnt/c/Adrianov/Projects/trash-detector/yolo_res/images/result_143.jpg and saved result to None\n",
      "/mnt/c/Adrianov/Projects/trash-detector/yolo_res/label/result_144.txt\n",
      "/mnt/c/Adrianov/Projects/trash-detector/yolo_res/images/result_144.jpg\n"
     ]
    },
    {
     "name": "stderr",
     "output_type": "stream",
     "text": [
      " 23%|██████▎                    | 285/1219 [00:36<03:19,  4.67it/s]"
     ]
    },
    {
     "name": "stdout",
     "output_type": "stream",
     "text": [
      "Cropped image /mnt/c/Adrianov/Projects/trash-detector/yolo_res/images/result_144.jpg and saved result to None\n",
      "/mnt/c/Adrianov/Projects/trash-detector/yolo_res/label/result_145.txt\n",
      "/mnt/c/Adrianov/Projects/trash-detector/yolo_res/images/result_145.jpg\n",
      "Cropped image /mnt/c/Adrianov/Projects/trash-detector/yolo_res/images/result_145.jpg and saved result to None\n",
      "/mnt/c/Adrianov/Projects/trash-detector/yolo_res/label/result_146.txt\n",
      "/mnt/c/Adrianov/Projects/trash-detector/yolo_res/images/result_146.jpg\n"
     ]
    },
    {
     "name": "stderr",
     "output_type": "stream",
     "text": [
      " 23%|██████▎                    | 286/1219 [00:36<02:58,  5.23it/s]"
     ]
    },
    {
     "name": "stdout",
     "output_type": "stream",
     "text": [
      "obj: 2, obj: 0\n",
      "0.3519563666666667 0.10299963333333334 0.5578877148148149 0.9700762851851852\n",
      "0.3348335 0.2268285 0.32179100000000005 0.738895\n",
      "True\n",
      "False\n",
      "False\n",
      "True\n",
      "True\n",
      "obj: 2, obj: 1\n",
      "0.3519563666666667 0.10299963333333334 0.5578877148148149 0.9700762851851852\n",
      "0.855872 0.661176 0.571273 0.921587\n",
      "False\n",
      "True\n",
      "False\n",
      "True\n",
      "True\n",
      "['1', '0.227478', '0.763982', '0.0406234', '0.0418182']\n",
      "['0', '0.280831', '0.530343', '0.108005', '0.417104']\n",
      "Regions:  [(397, 642, 347, 847)]\n",
      "Cropped image /mnt/c/Adrianov/Projects/trash-detector/yolo_res/images/result_146.jpg and saved result to /mnt/c/Adrianov/Projects/trash-detector/masks/imgs/result_285_0.jpg\n",
      "/mnt/c/Adrianov/Projects/trash-detector/yolo_res/label/result_147.txt\n",
      "/mnt/c/Adrianov/Projects/trash-detector/yolo_res/images/result_147.jpg\n"
     ]
    },
    {
     "name": "stderr",
     "output_type": "stream",
     "text": [
      " 24%|██████▎                    | 287/1219 [00:36<02:55,  5.32it/s]"
     ]
    },
    {
     "name": "stdout",
     "output_type": "stream",
     "text": [
      "Cropped image /mnt/c/Adrianov/Projects/trash-detector/yolo_res/images/result_147.jpg and saved result to None\n",
      "/mnt/c/Adrianov/Projects/trash-detector/yolo_res/label/result_148.txt\n",
      "/mnt/c/Adrianov/Projects/trash-detector/yolo_res/images/result_148.jpg\n"
     ]
    },
    {
     "name": "stderr",
     "output_type": "stream",
     "text": [
      " 24%|██████▍                    | 289/1219 [00:36<02:53,  5.35it/s]"
     ]
    },
    {
     "name": "stdout",
     "output_type": "stream",
     "text": [
      "Cropped image /mnt/c/Adrianov/Projects/trash-detector/yolo_res/images/result_148.jpg and saved result to None\n",
      "/mnt/c/Adrianov/Projects/trash-detector/yolo_res/label/result_149.txt\n",
      "/mnt/c/Adrianov/Projects/trash-detector/yolo_res/images/result_149.jpg\n",
      "Cropped image /mnt/c/Adrianov/Projects/trash-detector/yolo_res/images/result_149.jpg and saved result to None\n",
      "/mnt/c/Adrianov/Projects/trash-detector/yolo_res/label/result_15.txt\n",
      "/mnt/c/Adrianov/Projects/trash-detector/yolo_res/images/result_15.jpg\n"
     ]
    },
    {
     "name": "stderr",
     "output_type": "stream",
     "text": [
      " 24%|██████▍                    | 291/1219 [00:37<02:26,  6.32it/s]"
     ]
    },
    {
     "name": "stdout",
     "output_type": "stream",
     "text": [
      "Cropped image /mnt/c/Adrianov/Projects/trash-detector/yolo_res/images/result_15.jpg and saved result to None\n",
      "/mnt/c/Adrianov/Projects/trash-detector/yolo_res/label/result_150.txt\n",
      "/mnt/c/Adrianov/Projects/trash-detector/yolo_res/images/result_150.jpg\n",
      "Cropped image /mnt/c/Adrianov/Projects/trash-detector/yolo_res/images/result_150.jpg and saved result to None\n",
      "/mnt/c/Adrianov/Projects/trash-detector/yolo_res/label/result_151.txt\n",
      "/mnt/c/Adrianov/Projects/trash-detector/yolo_res/images/result_151.jpg\n"
     ]
    },
    {
     "name": "stderr",
     "output_type": "stream",
     "text": [
      " 24%|██████▍                    | 292/1219 [00:37<03:06,  4.97it/s]"
     ]
    },
    {
     "name": "stdout",
     "output_type": "stream",
     "text": [
      "obj: 2, obj: 0\n",
      "0.3544986166666667 0.10644738333333334 0.5581790148148148 0.9666829851851851\n",
      "0.868708 0.6741820000000001 0.5497434999999999 0.9974745\n",
      "False\n",
      "True\n",
      "False\n",
      "True\n",
      "True\n",
      "obj: 2, obj: 1\n",
      "0.3544986166666667 0.10644738333333334 0.5581790148148148 0.9666829851851851\n",
      "0.33448705 0.23985095 0.31013599999999997 0.721104\n",
      "True\n",
      "False\n",
      "False\n",
      "True\n",
      "True\n",
      "obj: 2, obj: 3\n",
      "0.3544986166666667 0.10644738333333334 0.5581790148148148 0.9666829851851851\n",
      "0.2401745 -5.000000000005e-07 0.596948 0.9996860000000001\n",
      "True\n",
      "False\n",
      "False\n",
      "True\n",
      "True\n",
      "['1', '0.230473', '0.762431', '0.0397179', '0.0381336']\n",
      "['0', '0.287169', '0.51562', '0.0946361', '0.410968']\n",
      "['0', '0.120087', '0.798317', '0.240175', '0.402738']\n",
      "Regions:  [(0, 642, 334, 1079)]\n",
      "Cropped image /mnt/c/Adrianov/Projects/trash-detector/yolo_res/images/result_151.jpg and saved result to /mnt/c/Adrianov/Projects/trash-detector/masks/imgs/result_291_0.jpg\n",
      "/mnt/c/Adrianov/Projects/trash-detector/yolo_res/label/result_152.txt\n",
      "/mnt/c/Adrianov/Projects/trash-detector/yolo_res/images/result_152.jpg\n"
     ]
    },
    {
     "name": "stderr",
     "output_type": "stream",
     "text": [
      " 24%|██████▌                    | 294/1219 [00:37<02:54,  5.30it/s]"
     ]
    },
    {
     "name": "stdout",
     "output_type": "stream",
     "text": [
      "Cropped image /mnt/c/Adrianov/Projects/trash-detector/yolo_res/images/result_152.jpg and saved result to None\n",
      "/mnt/c/Adrianov/Projects/trash-detector/yolo_res/label/result_153.txt\n",
      "/mnt/c/Adrianov/Projects/trash-detector/yolo_res/images/result_153.jpg\n",
      "obj: 2, obj: 0\n",
      "0.35650761666666664 0.10955438333333331 0.5607807148148148 0.9638132851851852\n",
      "0.86714 0.678914 0.5400294999999999 1.0000005\n",
      "False\n",
      "True\n",
      "False\n",
      "True\n",
      "True\n",
      "obj: 2, obj: 1\n",
      "0.35650761666666664 0.10955438333333331 0.5607807148148148 0.9638132851851852\n",
      "0.33466579999999996 0.2383262 0.3206195 0.7246845\n",
      "True\n",
      "False\n",
      "False\n",
      "True\n",
      "True\n",
      "obj: 2, obj: 3\n",
      "0.35650761666666664 0.10955438333333331 0.5607807148148148 0.9638132851851852\n",
      "0.22474 0.0 0.598444 1.0\n",
      "True\n",
      "False\n",
      "False\n",
      "True\n",
      "True\n",
      "['1', '0.233031', '0.762297', '0.0386199', '0.0326622']\n",
      "['0', '0.286496', '0.522652', '0.0963396', '0.404065']\n",
      "['0', '0.11237', '0.799222', '0.22474', '0.401556']\n",
      "Regions:  [(0, 642, 346, 1080)]\n",
      "Cropped image /mnt/c/Adrianov/Projects/trash-detector/yolo_res/images/result_153.jpg and saved result to /mnt/c/Adrianov/Projects/trash-detector/masks/imgs/result_293_0.jpg\n",
      "/mnt/c/Adrianov/Projects/trash-detector/yolo_res/label/result_154.txt\n",
      "/mnt/c/Adrianov/Projects/trash-detector/yolo_res/images/result_154.jpg\n"
     ]
    },
    {
     "name": "stderr",
     "output_type": "stream",
     "text": [
      " 24%|██████▌                    | 296/1219 [00:38<02:52,  5.36it/s]"
     ]
    },
    {
     "name": "stdout",
     "output_type": "stream",
     "text": [
      "Cropped image /mnt/c/Adrianov/Projects/trash-detector/yolo_res/images/result_154.jpg and saved result to None\n",
      "/mnt/c/Adrianov/Projects/trash-detector/yolo_res/label/result_155.txt\n",
      "/mnt/c/Adrianov/Projects/trash-detector/yolo_res/images/result_155.jpg\n",
      "obj: 2, obj: 0\n",
      "0.3578380166666667 0.11206998333333332 0.5593316648148148 0.9612903351851851\n",
      "0.8727755 0.6789945000000001 0.5344979999999999 1.0\n",
      "False\n",
      "True\n",
      "False\n",
      "True\n",
      "True\n",
      "obj: 2, obj: 1\n",
      "0.3578380166666667 0.11206998333333332 0.5593316648148148 0.9612903351851851\n",
      "0.33586765 0.24232435000000002 0.327507 0.7186969999999999\n",
      "True\n",
      "False\n",
      "False\n",
      "True\n",
      "True\n",
      "obj: 2, obj: 3\n",
      "0.3578380166666667 0.11206998333333332 0.5593316648148148 0.9612903351851851\n",
      "0.21932449999999998 -5.000000000005e-07 0.596902 1.0\n",
      "True\n",
      "False\n",
      "False\n",
      "True\n",
      "True\n",
      "['1', '0.234954', '0.760311', '0.0374347', '0.0315883']\n",
      "['0', '0.289096', '0.523102', '0.0935433', '0.39119']\n",
      "['0', '0.109662', '0.798451', '0.219325', '0.403098']\n",
      "Regions:  [(0, 644, 353, 1080)]\n",
      "Cropped image /mnt/c/Adrianov/Projects/trash-detector/yolo_res/images/result_155.jpg and saved result to /mnt/c/Adrianov/Projects/trash-detector/masks/imgs/result_295_0.jpg\n",
      "/mnt/c/Adrianov/Projects/trash-detector/yolo_res/label/result_156.txt\n",
      "/mnt/c/Adrianov/Projects/trash-detector/yolo_res/images/result_156.jpg\n"
     ]
    },
    {
     "name": "stderr",
     "output_type": "stream",
     "text": [
      " 24%|██████▌                    | 298/1219 [00:38<02:30,  6.12it/s]"
     ]
    },
    {
     "name": "stdout",
     "output_type": "stream",
     "text": [
      "Cropped image /mnt/c/Adrianov/Projects/trash-detector/yolo_res/images/result_156.jpg and saved result to None\n",
      "/mnt/c/Adrianov/Projects/trash-detector/yolo_res/label/result_157.txt\n",
      "/mnt/c/Adrianov/Projects/trash-detector/yolo_res/images/result_157.jpg\n",
      "Cropped image /mnt/c/Adrianov/Projects/trash-detector/yolo_res/images/result_157.jpg and saved result to None\n",
      "/mnt/c/Adrianov/Projects/trash-detector/yolo_res/label/result_158.txt\n",
      "/mnt/c/Adrianov/Projects/trash-detector/yolo_res/images/result_158.jpg\n"
     ]
    },
    {
     "name": "stderr",
     "output_type": "stream",
     "text": [
      " 25%|██████▋                    | 300/1219 [00:38<02:52,  5.33it/s]"
     ]
    },
    {
     "name": "stdout",
     "output_type": "stream",
     "text": [
      "Cropped image /mnt/c/Adrianov/Projects/trash-detector/yolo_res/images/result_158.jpg and saved result to None\n",
      "/mnt/c/Adrianov/Projects/trash-detector/yolo_res/label/result_159.txt\n",
      "/mnt/c/Adrianov/Projects/trash-detector/yolo_res/images/result_159.jpg\n",
      "obj: 2, obj: 0\n",
      "0.3575832166666667 0.11343878333333332 0.5535868648148148 0.9593471351851852\n",
      "0.8708835 0.6818485 0.5293760000000001 1.0\n",
      "False\n",
      "True\n",
      "False\n",
      "True\n",
      "True\n",
      "obj: 2, obj: 1\n",
      "0.3575832166666667 0.11343878333333332 0.5535868648148148 0.9593471351851852\n",
      "0.33639465 0.24376935 0.32577599999999995 0.7256319999999999\n",
      "True\n",
      "False\n",
      "False\n",
      "True\n",
      "True\n",
      "obj: 2, obj: 3\n",
      "0.3575832166666667 0.11343878333333332 0.5535868648148148 0.9593471351851852\n",
      "0.179746 0.0 0.6030439999999999 1.0\n",
      "True\n",
      "False\n",
      "False\n",
      "True\n",
      "True\n",
      "['1', '0.235511', '0.756467', '0.0358111', '0.0353899']\n",
      "['0', '0.290082', '0.525704', '0.0926253', '0.399856']\n",
      "['0', '0.089873', '0.801522', '0.179746', '0.396956']\n",
      "Regions:  [(0, 645, 351, 1080)]\n",
      "Cropped image /mnt/c/Adrianov/Projects/trash-detector/yolo_res/images/result_159.jpg and saved result to /mnt/c/Adrianov/Projects/trash-detector/masks/imgs/result_299_0.jpg\n",
      "/mnt/c/Adrianov/Projects/trash-detector/yolo_res/label/result_16.txt\n",
      "/mnt/c/Adrianov/Projects/trash-detector/yolo_res/images/result_16.jpg\n"
     ]
    },
    {
     "name": "stderr",
     "output_type": "stream",
     "text": [
      " 25%|██████▋                    | 301/1219 [00:39<02:42,  5.65it/s]"
     ]
    },
    {
     "name": "stdout",
     "output_type": "stream",
     "text": [
      "Cropped image /mnt/c/Adrianov/Projects/trash-detector/yolo_res/images/result_16.jpg and saved result to None\n",
      "/mnt/c/Adrianov/Projects/trash-detector/yolo_res/label/result_160.txt\n",
      "/mnt/c/Adrianov/Projects/trash-detector/yolo_res/images/result_160.jpg\n",
      "obj: 3, obj: 0\n",
      "0.36054641666666665 0.11326158333333333 0.5501630148148149 0.9591189851851851\n",
      "0.87697 0.68509 0.5025919999999999 0.982834\n",
      "False\n",
      "True\n",
      "False\n",
      "True\n",
      "True\n",
      "obj: 3, obj: 1\n",
      "0.36054641666666665 0.11326158333333333 0.5501630148148149 0.9591189851851851\n",
      "0.33626065 0.24422534999999998 0.32829600000000003 0.724244\n",
      "True\n",
      "False\n",
      "False\n",
      "True\n",
      "True\n",
      "obj: 3, obj: 2\n",
      "0.36054641666666665 0.11326158333333333 0.5501630148148149 0.9591189851851851\n",
      "0.855874 0.681894 0.5040465 0.8740795\n",
      "False\n",
      "True\n",
      "False\n",
      "True\n",
      "True\n",
      "obj: 3, obj: 4\n",
      "0.36054641666666665 0.11326158333333333 0.5501630148148149 0.9591189851851851\n",
      "0.20374750000000003 5.000000000005e-07 0.6033705 0.9999994999999999\n",
      "True\n",
      "False\n",
      "False\n",
      "True\n",
      "True\n",
      "obj: 3, obj: 5\n",
      "0.36054641666666665 0.11326158333333333 0.5501630148148149 0.9591189851851851\n",
      "0.8728545 0.7406594999999999 0.50556 0.9964740000000001\n",
      "False\n",
      "True\n",
      "False\n",
      "True\n",
      "True\n"
     ]
    },
    {
     "name": "stderr",
     "output_type": "stream",
     "text": [
      " 25%|██████▋                    | 303/1219 [00:39<02:47,  5.46it/s]"
     ]
    },
    {
     "name": "stdout",
     "output_type": "stream",
     "text": [
      "['1', '0.236904', '0.754641', '0.0389515', '0.0385856']\n",
      "['0', '0.290243', '0.52627', '0.0920353', '0.395948']\n",
      "['0', '0.101874', '0.801685', '0.203747', '0.396629']\n",
      "Regions:  [(0, 645, 354, 1079)]\n",
      "Cropped image /mnt/c/Adrianov/Projects/trash-detector/yolo_res/images/result_160.jpg and saved result to /mnt/c/Adrianov/Projects/trash-detector/masks/imgs/result_301_0.jpg\n",
      "/mnt/c/Adrianov/Projects/trash-detector/yolo_res/label/result_161.txt\n",
      "/mnt/c/Adrianov/Projects/trash-detector/yolo_res/images/result_161.jpg\n",
      "Cropped image /mnt/c/Adrianov/Projects/trash-detector/yolo_res/images/result_161.jpg and saved result to None\n",
      "/mnt/c/Adrianov/Projects/trash-detector/yolo_res/label/result_162.txt\n",
      "/mnt/c/Adrianov/Projects/trash-detector/yolo_res/images/result_162.jpg\n"
     ]
    },
    {
     "name": "stderr",
     "output_type": "stream",
     "text": [
      " 25%|██████▊                    | 305/1219 [00:39<02:17,  6.67it/s]"
     ]
    },
    {
     "name": "stdout",
     "output_type": "stream",
     "text": [
      "obj: 3, obj: 0\n",
      "0.35957876666666666 0.11339723333333333 0.5528977648148148 0.9592942351851852\n",
      "0.8803570000000001 0.681073 0.460813 0.993511\n",
      "False\n",
      "True\n",
      "False\n",
      "True\n",
      "True\n",
      "obj: 3, obj: 1\n",
      "0.35957876666666666 0.11339723333333333 0.5528977648148148 0.9592942351851852\n",
      "0.33661435 0.24397965000000002 0.33211 0.722244\n",
      "True\n",
      "False\n",
      "False\n",
      "True\n",
      "True\n",
      "obj: 3, obj: 2\n",
      "0.35957876666666666 0.11339723333333333 0.5528977648148148 0.9592942351851852\n",
      "0.1763042 2.0000000000575113e-07 0.604476 1.0\n",
      "True\n",
      "False\n",
      "False\n",
      "True\n",
      "True\n",
      "['1', '0.236488', '0.756096', '0.0378482', '0.0360261']\n",
      "['0', '0.290297', '0.527177', '0.0926347', '0.390134']\n",
      "['0', '0.0881522', '0.802238', '0.176304', '0.395524']\n",
      "Regions:  [(0, 646, 358, 1080)]\n",
      "Cropped image /mnt/c/Adrianov/Projects/trash-detector/yolo_res/images/result_162.jpg and saved result to /mnt/c/Adrianov/Projects/trash-detector/masks/imgs/result_303_0.jpg\n",
      "/mnt/c/Adrianov/Projects/trash-detector/yolo_res/label/result_163.txt\n",
      "/mnt/c/Adrianov/Projects/trash-detector/yolo_res/images/result_163.jpg\n",
      "Cropped image /mnt/c/Adrianov/Projects/trash-detector/yolo_res/images/result_163.jpg and saved result to None\n",
      "/mnt/c/Adrianov/Projects/trash-detector/yolo_res/label/result_164.txt\n",
      "/mnt/c/Adrianov/Projects/trash-detector/yolo_res/images/result_164.jpg\n"
     ]
    },
    {
     "name": "stderr",
     "output_type": "stream",
     "text": [
      " 25%|██████▊                    | 307/1219 [00:39<02:16,  6.68it/s]"
     ]
    },
    {
     "name": "stdout",
     "output_type": "stream",
     "text": [
      "Cropped image /mnt/c/Adrianov/Projects/trash-detector/yolo_res/images/result_164.jpg and saved result to None\n",
      "/mnt/c/Adrianov/Projects/trash-detector/yolo_res/label/result_165.txt\n",
      "/mnt/c/Adrianov/Projects/trash-detector/yolo_res/images/result_165.jpg\n",
      "Cropped image /mnt/c/Adrianov/Projects/trash-detector/yolo_res/images/result_165.jpg and saved result to None\n",
      "/mnt/c/Adrianov/Projects/trash-detector/yolo_res/label/result_166.txt\n",
      "/mnt/c/Adrianov/Projects/trash-detector/yolo_res/images/result_166.jpg\n"
     ]
    },
    {
     "name": "stderr",
     "output_type": "stream",
     "text": [
      " 25%|██████▊                    | 308/1219 [00:40<02:27,  6.18it/s]"
     ]
    },
    {
     "name": "stdout",
     "output_type": "stream",
     "text": [
      "obj: 2, obj: 0\n",
      "0.35924521666666664 0.11264878333333332 0.5595005648148148 0.9609294351851851\n",
      "0.8867035 0.6781745 0.41873800000000005 1.0\n",
      "False\n",
      "True\n",
      "False\n",
      "True\n",
      "True\n",
      "obj: 2, obj: 1\n",
      "0.35924521666666664 0.11264878333333332 0.5595005648148148 0.9609294351851851\n",
      "0.3362225 0.24243749999999997 0.32888699999999993 0.723665\n",
      "True\n",
      "False\n",
      "False\n",
      "True\n",
      "True\n",
      "obj: 2, obj: 3\n",
      "0.35924521666666664 0.11264878333333332 0.5595005648148148 0.9609294351851851\n",
      "0.1778261 9.999999998899778e-08 0.603812 1.0\n",
      "True\n",
      "False\n",
      "False\n",
      "True\n",
      "True\n",
      "['1', '0.235947', '0.760215', '0.0382631', '0.0310585']\n",
      "['0', '0.28933', '0.526276', '0.093785', '0.394778']\n",
      "['0', '0.0889131', '0.801906', '0.177826', '0.396188']\n",
      "Regions:  [(0, 645, 355, 1080)]\n",
      "Cropped image /mnt/c/Adrianov/Projects/trash-detector/yolo_res/images/result_166.jpg and saved result to /mnt/c/Adrianov/Projects/trash-detector/masks/imgs/result_307_0.jpg\n",
      "/mnt/c/Adrianov/Projects/trash-detector/yolo_res/label/result_167.txt\n",
      "/mnt/c/Adrianov/Projects/trash-detector/yolo_res/images/result_167.jpg\n"
     ]
    },
    {
     "name": "stderr",
     "output_type": "stream",
     "text": [
      " 25%|██████▊                    | 310/1219 [00:40<02:22,  6.38it/s]"
     ]
    },
    {
     "name": "stdout",
     "output_type": "stream",
     "text": [
      "Cropped image /mnt/c/Adrianov/Projects/trash-detector/yolo_res/images/result_167.jpg and saved result to None\n",
      "/mnt/c/Adrianov/Projects/trash-detector/yolo_res/label/result_168.txt\n",
      "/mnt/c/Adrianov/Projects/trash-detector/yolo_res/images/result_168.jpg\n",
      "Cropped image /mnt/c/Adrianov/Projects/trash-detector/yolo_res/images/result_168.jpg and saved result to None\n",
      "/mnt/c/Adrianov/Projects/trash-detector/yolo_res/label/result_169.txt\n",
      "/mnt/c/Adrianov/Projects/trash-detector/yolo_res/images/result_169.jpg\n"
     ]
    },
    {
     "name": "stderr",
     "output_type": "stream",
     "text": [
      " 26%|██████▉                    | 311/1219 [00:40<02:14,  6.75it/s]"
     ]
    },
    {
     "name": "stdout",
     "output_type": "stream",
     "text": [
      "Cropped image /mnt/c/Adrianov/Projects/trash-detector/yolo_res/images/result_169.jpg and saved result to None\n",
      "/mnt/c/Adrianov/Projects/trash-detector/yolo_res/label/result_17.txt\n",
      "/mnt/c/Adrianov/Projects/trash-detector/yolo_res/images/result_17.jpg\n",
      "obj: 3, obj: 0\n",
      "0.9038252666666666 0.6462867333333333 0.7500029648148148 1.1669770351851851\n",
      "0.5537584 0.47191160000000004 0.393536 0.7187720000000001\n",
      "False\n",
      "False\n",
      "True\n",
      "False\n",
      "True\n",
      "obj: 3, obj: 1\n",
      "0.9038252666666666 0.6462867333333333 0.7500029648148148 1.1669770351851851\n",
      "0.8873575 0.7759125 0.364329 0.899711\n",
      "True\n",
      "False\n",
      "False\n",
      "True\n",
      "True\n",
      "obj: 3, obj: 2\n",
      "0.9038252666666666 0.6462867333333333 0.7500029648148148 1.1669770351851851\n",
      "0.228866 0.0 0.63964 1.0\n",
      "False\n",
      "False\n",
      "True\n",
      "True\n",
      "True\n"
     ]
    },
    {
     "name": "stderr",
     "output_type": "stream",
     "text": [
      " 26%|██████▉                    | 313/1219 [00:40<02:41,  5.60it/s]"
     ]
    },
    {
     "name": "stdout",
     "output_type": "stream",
     "text": [
      "['1', '0.775056', '0.95849', '0.0492052', '0.0466037']\n",
      "['0', '0.831635', '0.63202', '0.111445', '0.535382']\n",
      "Regions:  [(1440, 1703, 393, 1060)]\n",
      "Cropped image /mnt/c/Adrianov/Projects/trash-detector/yolo_res/images/result_17.jpg and saved result to /mnt/c/Adrianov/Projects/trash-detector/masks/imgs/result_311_0.jpg\n",
      "/mnt/c/Adrianov/Projects/trash-detector/yolo_res/label/result_170.txt\n",
      "/mnt/c/Adrianov/Projects/trash-detector/yolo_res/images/result_170.jpg\n",
      "obj: 2, obj: 0\n",
      "0.6590821166666667 0.4334318833333333 0.35015461481481486 0.7533193851851852\n",
      "0.4136575 0.2803325 0.27383850000000004 0.7884095\n",
      "False\n",
      "False\n",
      "True\n",
      "True\n",
      "True\n",
      "obj: 2, obj: 1\n",
      "0.6590821166666667 0.4334318833333333 0.35015461481481486 0.7533193851851852\n",
      "0.53395045 0.49158555 0.2354995 0.5599665\n",
      "True\n",
      "False\n",
      "False\n",
      "True\n",
      "True\n",
      "['1', '0.546257', '0.551737', '0.0173169', '0.0327944']\n",
      "['0', '0.512768', '0.397733', '0.0423649', '0.324467']\n",
      "Regions:  [(943, 1065, 254, 613)]\n",
      "Cropped image /mnt/c/Adrianov/Projects/trash-detector/yolo_res/images/result_170.jpg and saved result to /mnt/c/Adrianov/Projects/trash-detector/masks/imgs/result_312_0.jpg\n",
      "/mnt/c/Adrianov/Projects/trash-detector/yolo_res/label/result_171.txt\n",
      "/mnt/c/Adrianov/Projects/trash-detector/yolo_res/images/result_171.jpg\n"
     ]
    },
    {
     "name": "stderr",
     "output_type": "stream",
     "text": [
      " 26%|██████▉                    | 315/1219 [00:41<02:29,  6.04it/s]"
     ]
    },
    {
     "name": "stdout",
     "output_type": "stream",
     "text": [
      "Cropped image /mnt/c/Adrianov/Projects/trash-detector/yolo_res/images/result_171.jpg and saved result to None\n",
      "/mnt/c/Adrianov/Projects/trash-detector/yolo_res/label/result_172.txt\n",
      "/mnt/c/Adrianov/Projects/trash-detector/yolo_res/images/result_172.jpg\n",
      "Cropped image /mnt/c/Adrianov/Projects/trash-detector/yolo_res/images/result_172.jpg and saved result to None\n",
      "/mnt/c/Adrianov/Projects/trash-detector/yolo_res/label/result_173.txt\n",
      "/mnt/c/Adrianov/Projects/trash-detector/yolo_res/images/result_173.jpg\n"
     ]
    },
    {
     "name": "stderr",
     "output_type": "stream",
     "text": [
      " 26%|██████▉                    | 316/1219 [00:41<02:44,  5.49it/s]"
     ]
    },
    {
     "name": "stdout",
     "output_type": "stream",
     "text": [
      "Cropped image /mnt/c/Adrianov/Projects/trash-detector/yolo_res/images/result_173.jpg and saved result to None\n",
      "/mnt/c/Adrianov/Projects/trash-detector/yolo_res/label/result_174.txt\n",
      "/mnt/c/Adrianov/Projects/trash-detector/yolo_res/images/result_174.jpg\n"
     ]
    },
    {
     "name": "stderr",
     "output_type": "stream",
     "text": [
      " 26%|███████                    | 318/1219 [00:41<02:38,  5.69it/s]"
     ]
    },
    {
     "name": "stdout",
     "output_type": "stream",
     "text": [
      "Cropped image /mnt/c/Adrianov/Projects/trash-detector/yolo_res/images/result_174.jpg and saved result to None\n",
      "/mnt/c/Adrianov/Projects/trash-detector/yolo_res/label/result_175.txt\n",
      "/mnt/c/Adrianov/Projects/trash-detector/yolo_res/images/result_175.jpg\n",
      "Cropped image /mnt/c/Adrianov/Projects/trash-detector/yolo_res/images/result_175.jpg and saved result to None\n",
      "/mnt/c/Adrianov/Projects/trash-detector/yolo_res/label/result_176.txt\n",
      "/mnt/c/Adrianov/Projects/trash-detector/yolo_res/images/result_176.jpg\n"
     ]
    },
    {
     "name": "stderr",
     "output_type": "stream",
     "text": [
      " 26%|███████                    | 320/1219 [00:42<02:15,  6.62it/s]"
     ]
    },
    {
     "name": "stdout",
     "output_type": "stream",
     "text": [
      "Cropped image /mnt/c/Adrianov/Projects/trash-detector/yolo_res/images/result_176.jpg and saved result to None\n",
      "/mnt/c/Adrianov/Projects/trash-detector/yolo_res/label/result_177.txt\n",
      "/mnt/c/Adrianov/Projects/trash-detector/yolo_res/images/result_177.jpg\n",
      "obj: 2, obj: 0\n",
      "0.8730131666666667 0.5627748333333333 0.1900353148148148 0.6636826851851851\n",
      "0.413681 0.288375 0.27162899999999995 0.788675\n",
      "False\n",
      "False\n",
      "True\n",
      "True\n",
      "True\n",
      "obj: 2, obj: 1\n",
      "0.8730131666666667 0.5627748333333333 0.1900353148148148 0.6636826851851851\n",
      "0.5386926000000001 0.4876634 0.230887 0.566309\n",
      "False\n",
      "False\n",
      "True\n",
      "True\n",
      "True\n",
      "Cropped image /mnt/c/Adrianov/Projects/trash-detector/yolo_res/images/result_177.jpg and saved result to None\n",
      "/mnt/c/Adrianov/Projects/trash-detector/yolo_res/label/result_178.txt\n",
      "/mnt/c/Adrianov/Projects/trash-detector/yolo_res/images/result_178.jpg\n"
     ]
    },
    {
     "name": "stderr",
     "output_type": "stream",
     "text": [
      " 26%|███████▏                   | 322/1219 [00:42<01:59,  7.50it/s]"
     ]
    },
    {
     "name": "stdout",
     "output_type": "stream",
     "text": [
      "obj: 2, obj: 0\n",
      "0.8736326666666666 0.5626833333333333 0.18907191481481483 0.6582420851851851\n",
      "0.4165225 0.2890815 0.274372 0.7831079999999999\n",
      "False\n",
      "False\n",
      "True\n",
      "True\n",
      "True\n",
      "obj: 2, obj: 1\n",
      "0.8736326666666666 0.5626833333333333 0.18907191481481483 0.6582420851851851\n",
      "0.5399081 0.4874819 0.23066350000000002 0.5689185\n",
      "False\n",
      "False\n",
      "True\n",
      "True\n",
      "True\n",
      "Cropped image /mnt/c/Adrianov/Projects/trash-detector/yolo_res/images/result_178.jpg and saved result to None\n",
      "/mnt/c/Adrianov/Projects/trash-detector/yolo_res/label/result_179.txt\n",
      "/mnt/c/Adrianov/Projects/trash-detector/yolo_res/images/result_179.jpg\n",
      "Cropped image /mnt/c/Adrianov/Projects/trash-detector/yolo_res/images/result_179.jpg and saved result to None\n",
      "/mnt/c/Adrianov/Projects/trash-detector/yolo_res/label/result_18.txt\n",
      "/mnt/c/Adrianov/Projects/trash-detector/yolo_res/images/result_18.jpg\n"
     ]
    },
    {
     "name": "stderr",
     "output_type": "stream",
     "text": [
      " 27%|███████▏                   | 324/1219 [00:42<01:47,  8.34it/s]"
     ]
    },
    {
     "name": "stdout",
     "output_type": "stream",
     "text": [
      "Cropped image /mnt/c/Adrianov/Projects/trash-detector/yolo_res/images/result_18.jpg and saved result to None\n",
      "/mnt/c/Adrianov/Projects/trash-detector/yolo_res/label/result_180.txt\n",
      "/mnt/c/Adrianov/Projects/trash-detector/yolo_res/images/result_180.jpg\n",
      "Cropped image /mnt/c/Adrianov/Projects/trash-detector/yolo_res/images/result_180.jpg and saved result to None\n",
      "/mnt/c/Adrianov/Projects/trash-detector/yolo_res/label/result_181.txt\n",
      "/mnt/c/Adrianov/Projects/trash-detector/yolo_res/images/result_181.jpg\n"
     ]
    },
    {
     "name": "stderr",
     "output_type": "stream",
     "text": [
      " 27%|███████▏                   | 326/1219 [00:42<01:43,  8.60it/s]"
     ]
    },
    {
     "name": "stdout",
     "output_type": "stream",
     "text": [
      "obj: 2, obj: 0\n",
      "0.8824756666666667 0.5636303333333332 0.1860883148148148 0.6568576851851852\n",
      "0.417805 0.289539 0.2660825 0.7819775\n",
      "False\n",
      "False\n",
      "True\n",
      "True\n",
      "True\n",
      "obj: 2, obj: 1\n",
      "0.8824756666666667 0.5636303333333332 0.1860883148148148 0.6568576851851852\n",
      "0.5409453500000001 0.49028465000000004 0.230576 0.576252\n",
      "False\n",
      "False\n",
      "True\n",
      "True\n",
      "True\n",
      "obj: 3, obj: 0\n",
      "0.8468786666666668 0.5661773333333333 0.18785951481481483 0.6546664851851851\n",
      "0.417805 0.289539 0.2660825 0.7819775\n",
      "False\n",
      "False\n",
      "True\n",
      "True\n",
      "True\n",
      "obj: 3, obj: 1\n",
      "0.8468786666666668 0.5661773333333333 0.18785951481481483 0.6546664851851851\n",
      "0.5409453500000001 0.49028465000000004 0.230576 0.576252\n",
      "False\n",
      "False\n",
      "True\n",
      "True\n",
      "True\n",
      "Cropped image /mnt/c/Adrianov/Projects/trash-detector/yolo_res/images/result_181.jpg and saved result to None\n",
      "/mnt/c/Adrianov/Projects/trash-detector/yolo_res/label/result_182.txt\n",
      "/mnt/c/Adrianov/Projects/trash-detector/yolo_res/images/result_182.jpg\n",
      "Cropped image /mnt/c/Adrianov/Projects/trash-detector/yolo_res/images/result_182.jpg and saved result to None\n",
      "/mnt/c/Adrianov/Projects/trash-detector/yolo_res/label/result_183.txt\n",
      "/mnt/c/Adrianov/Projects/trash-detector/yolo_res/images/result_183.jpg\n"
     ]
    },
    {
     "name": "stderr",
     "output_type": "stream",
     "text": [
      " 27%|███████▎                   | 329/1219 [00:43<01:39,  8.93it/s]"
     ]
    },
    {
     "name": "stdout",
     "output_type": "stream",
     "text": [
      "Cropped image /mnt/c/Adrianov/Projects/trash-detector/yolo_res/images/result_183.jpg and saved result to None\n",
      "/mnt/c/Adrianov/Projects/trash-detector/yolo_res/label/result_184.txt\n",
      "/mnt/c/Adrianov/Projects/trash-detector/yolo_res/images/result_184.jpg\n",
      "obj: 2, obj: 0\n",
      "0.8842611666666667 0.5623808333333333 0.1864773148148148 0.6529706851851852\n",
      "0.4196045 0.2916475 0.27340400000000004 0.7787120000000001\n",
      "False\n",
      "False\n",
      "True\n",
      "True\n",
      "True\n",
      "obj: 2, obj: 1\n",
      "0.8842611666666667 0.5623808333333333 0.1864773148148148 0.6529706851851852\n",
      "0.5406157500000001 0.49046025000000004 0.231444 0.57159\n",
      "False\n",
      "False\n",
      "True\n",
      "True\n",
      "True\n",
      "Cropped image /mnt/c/Adrianov/Projects/trash-detector/yolo_res/images/result_184.jpg and saved result to None\n",
      "/mnt/c/Adrianov/Projects/trash-detector/yolo_res/label/result_185.txt\n",
      "/mnt/c/Adrianov/Projects/trash-detector/yolo_res/images/result_185.jpg\n",
      "obj: 2, obj: 0\n",
      "0.8675028166666666 0.5647511833333333 0.1855723648148148 0.6515196351851852\n",
      "0.418831 0.293349 0.2654540000000001 0.776672\n",
      "False\n",
      "False\n",
      "True\n",
      "True\n",
      "True\n",
      "obj: 2, obj: 1\n",
      "0.8675028166666666 0.5647511833333333 0.1855723648148148 0.6515196351851852\n",
      "0.5402631999999999 0.49110079999999995 0.22917749999999998 0.5684145\n",
      "False\n",
      "False\n",
      "True\n",
      "True\n",
      "True\n",
      "obj: 3, obj: 0\n",
      "0.8434585666666666 0.5683354333333334 0.19047441481481486 0.6519375851851852\n",
      "0.418831 0.293349 0.2654540000000001 0.776672\n",
      "False\n",
      "False\n",
      "True\n",
      "True\n",
      "True\n",
      "obj: 3, obj: 1\n",
      "0.8434585666666666 0.5683354333333334 0.19047441481481486 0.6519375851851852\n",
      "0.5402631999999999 0.49110079999999995 0.22917749999999998 0.5684145\n",
      "False\n",
      "False\n",
      "True\n",
      "True\n",
      "True\n",
      "Cropped image /mnt/c/Adrianov/Projects/trash-detector/yolo_res/images/result_185.jpg and saved result to None\n",
      "/mnt/c/Adrianov/Projects/trash-detector/yolo_res/label/result_186.txt\n",
      "/mnt/c/Adrianov/Projects/trash-detector/yolo_res/images/result_186.jpg\n"
     ]
    },
    {
     "name": "stderr",
     "output_type": "stream",
     "text": [
      " 27%|███████▎                   | 331/1219 [00:43<01:48,  8.20it/s]"
     ]
    },
    {
     "name": "stdout",
     "output_type": "stream",
     "text": [
      "obj: 3, obj: 0\n",
      "0.5889987666666666 0.3628592333333333 0.44186626481481484 0.8432857351851852\n",
      "0.59766405 0.54084195 0.4089825 0.7005975\n",
      "True\n",
      "False\n",
      "False\n",
      "True\n",
      "True\n",
      "obj: 3, obj: 1\n",
      "0.5889987666666666 0.3628592333333333 0.44186626481481484 0.8432857351851852\n",
      "0.3612957 0.2837923 0.4571255000000001 0.7475125\n",
      "False\n",
      "False\n",
      "True\n",
      "True\n",
      "True\n",
      "obj: 3, obj: 2\n",
      "0.5889987666666666 0.3628592333333333 0.44186626481481484 0.8432857351851852\n",
      "0.2971206 0.2370054 0.4570555 0.5795065\n",
      "False\n",
      "False\n",
      "True\n",
      "True\n",
      "True\n",
      "['1', '0.475929', '0.642576', '0.0178062', '0.0310491']\n",
      "['0', '0.569253', '0.55479', '0.0568221', '0.291615']\n",
      "Regions:  [(896, 1147, 441, 756)]\n",
      "Cropped image /mnt/c/Adrianov/Projects/trash-detector/yolo_res/images/result_186.jpg and saved result to /mnt/c/Adrianov/Projects/trash-detector/masks/imgs/result_329_0.jpg\n",
      "/mnt/c/Adrianov/Projects/trash-detector/yolo_res/label/result_187.txt\n",
      "/mnt/c/Adrianov/Projects/trash-detector/yolo_res/images/result_187.jpg\n",
      "Cropped image /mnt/c/Adrianov/Projects/trash-detector/yolo_res/images/result_187.jpg and saved result to None\n",
      "/mnt/c/Adrianov/Projects/trash-detector/yolo_res/label/result_188.txt\n",
      "/mnt/c/Adrianov/Projects/trash-detector/yolo_res/images/result_188.jpg\n"
     ]
    },
    {
     "name": "stderr",
     "output_type": "stream",
     "text": [
      " 27%|███████▍                   | 334/1219 [00:43<01:42,  8.67it/s]"
     ]
    },
    {
     "name": "stdout",
     "output_type": "stream",
     "text": [
      "Cropped image /mnt/c/Adrianov/Projects/trash-detector/yolo_res/images/result_188.jpg and saved result to None\n",
      "/mnt/c/Adrianov/Projects/trash-detector/yolo_res/label/result_189.txt\n",
      "/mnt/c/Adrianov/Projects/trash-detector/yolo_res/images/result_189.jpg\n",
      "Cropped image /mnt/c/Adrianov/Projects/trash-detector/yolo_res/images/result_189.jpg and saved result to None\n",
      "/mnt/c/Adrianov/Projects/trash-detector/yolo_res/label/result_19.txt\n",
      "/mnt/c/Adrianov/Projects/trash-detector/yolo_res/images/result_19.jpg\n",
      "obj: 3, obj: 0\n",
      "0.9041263166666668 0.6457676833333333 0.7499524148148148 1.166905585185185\n",
      "0.5565245 0.4701274999999999 0.39629200000000003 0.724208\n",
      "False\n",
      "False\n",
      "True\n",
      "False\n",
      "True\n",
      "obj: 3, obj: 1\n",
      "0.9041263166666668 0.6457676833333333 0.7499524148148148 1.166905585185185\n",
      "0.8906395 0.7787485000000001 0.368912 0.895404\n",
      "True\n",
      "False\n",
      "False\n",
      "True\n",
      "True\n",
      "obj: 3, obj: 2\n",
      "0.9041263166666668 0.6457676833333333 0.7499524148148148 1.166905585185185\n",
      "0.23367749999999998 5.000000000005e-07 0.639454 1.0\n",
      "False\n",
      "False\n",
      "True\n",
      "True\n",
      "True\n",
      "['1', '0.774947', '0.958429', '0.0500253', '0.0465828']\n",
      "['0', '0.834694', '0.632158', '0.111891', '0.526492']\n",
      "Regions:  [(1439, 1710, 398, 1060)]\n",
      "Cropped image /mnt/c/Adrianov/Projects/trash-detector/yolo_res/images/result_19.jpg and saved result to /mnt/c/Adrianov/Projects/trash-detector/masks/imgs/result_333_0.jpg\n",
      "/mnt/c/Adrianov/Projects/trash-detector/yolo_res/label/result_190.txt\n",
      "/mnt/c/Adrianov/Projects/trash-detector/yolo_res/images/result_190.jpg\n"
     ]
    },
    {
     "name": "stderr",
     "output_type": "stream",
     "text": [
      " 28%|███████▍                   | 336/1219 [00:43<01:38,  8.99it/s]"
     ]
    },
    {
     "name": "stdout",
     "output_type": "stream",
     "text": [
      "obj: 2, obj: 0\n",
      "0.8720444666666667 0.5649375333333333 0.18334416481481483 0.6506038351851852\n",
      "0.41861000000000004 0.29535 0.26740500000000006 0.774651\n",
      "False\n",
      "False\n",
      "True\n",
      "True\n",
      "True\n",
      "obj: 2, obj: 1\n",
      "0.8720444666666667 0.5649375333333333 0.18334416481481483 0.6506038351851852\n",
      "0.5411232500000001 0.49034675000000005 0.2293395 0.5698985\n",
      "False\n",
      "False\n",
      "True\n",
      "True\n",
      "True\n",
      "Cropped image /mnt/c/Adrianov/Projects/trash-detector/yolo_res/images/result_190.jpg and saved result to None\n",
      "/mnt/c/Adrianov/Projects/trash-detector/yolo_res/label/result_191.txt\n",
      "/mnt/c/Adrianov/Projects/trash-detector/yolo_res/images/result_191.jpg\n",
      "obj: 2, obj: 0\n",
      "0.8608200666666667 0.5664299333333332 0.18534221481481483 0.6509257851851852\n",
      "0.418564 0.296908 0.263561 0.775277\n",
      "False\n",
      "False\n",
      "True\n",
      "True\n",
      "True\n",
      "obj: 2, obj: 1\n",
      "0.8608200666666667 0.5664299333333332 0.18534221481481483 0.6509257851851852\n",
      "0.5369606 0.49238540000000003 0.2293395 0.5635585\n",
      "False\n",
      "False\n",
      "True\n",
      "True\n",
      "True\n",
      "Cropped image /mnt/c/Adrianov/Projects/trash-detector/yolo_res/images/result_191.jpg and saved result to None\n",
      "/mnt/c/Adrianov/Projects/trash-detector/yolo_res/label/result_192.txt\n",
      "/mnt/c/Adrianov/Projects/trash-detector/yolo_res/images/result_192.jpg\n"
     ]
    },
    {
     "name": "stderr",
     "output_type": "stream",
     "text": [
      " 28%|███████▍                   | 338/1219 [00:44<01:31,  9.61it/s]"
     ]
    },
    {
     "name": "stdout",
     "output_type": "stream",
     "text": [
      "Cropped image /mnt/c/Adrianov/Projects/trash-detector/yolo_res/images/result_192.jpg and saved result to None\n",
      "/mnt/c/Adrianov/Projects/trash-detector/yolo_res/label/result_193.txt\n",
      "/mnt/c/Adrianov/Projects/trash-detector/yolo_res/images/result_193.jpg\n",
      "Cropped image /mnt/c/Adrianov/Projects/trash-detector/yolo_res/images/result_193.jpg and saved result to None\n",
      "/mnt/c/Adrianov/Projects/trash-detector/yolo_res/label/result_194.txt\n",
      "/mnt/c/Adrianov/Projects/trash-detector/yolo_res/images/result_194.jpg\n"
     ]
    },
    {
     "name": "stderr",
     "output_type": "stream",
     "text": [
      " 28%|███████▌                   | 339/1219 [00:44<01:34,  9.29it/s]"
     ]
    },
    {
     "name": "stdout",
     "output_type": "stream",
     "text": [
      "Cropped image /mnt/c/Adrianov/Projects/trash-detector/yolo_res/images/result_194.jpg and saved result to None\n",
      "/mnt/c/Adrianov/Projects/trash-detector/yolo_res/label/result_195.txt\n",
      "/mnt/c/Adrianov/Projects/trash-detector/yolo_res/images/result_195.jpg\n",
      "Cropped image /mnt/c/Adrianov/Projects/trash-detector/yolo_res/images/result_195.jpg and saved result to None\n",
      "/mnt/c/Adrianov/Projects/trash-detector/yolo_res/label/result_196.txt\n",
      "/mnt/c/Adrianov/Projects/trash-detector/yolo_res/images/result_196.jpg\n"
     ]
    },
    {
     "name": "stderr",
     "output_type": "stream",
     "text": [
      " 28%|███████▌                   | 341/1219 [00:44<01:44,  8.44it/s]"
     ]
    },
    {
     "name": "stdout",
     "output_type": "stream",
     "text": [
      "Cropped image /mnt/c/Adrianov/Projects/trash-detector/yolo_res/images/result_196.jpg and saved result to None\n",
      "/mnt/c/Adrianov/Projects/trash-detector/yolo_res/label/result_197.txt\n",
      "/mnt/c/Adrianov/Projects/trash-detector/yolo_res/images/result_197.jpg\n",
      "obj: 2, obj: 0\n",
      "0.8637041166666667 0.5668338833333334 0.1833675648148148 0.6509424351851851\n",
      "0.4197835 0.2974745 0.26990449999999994 0.7731334999999999\n",
      "False\n",
      "False\n",
      "True\n",
      "True\n",
      "True\n",
      "obj: 2, obj: 1\n",
      "0.8637041166666667 0.5668338833333334 0.1833675648148148 0.6509424351851851\n",
      "0.5375734 0.4920566 0.22412800000000002 0.560668\n",
      "False\n",
      "False\n",
      "True\n",
      "True\n",
      "True\n",
      "obj: 3, obj: 0\n",
      "0.8393780166666667 0.5790899833333334 0.24941721481481485 0.6522667851851852\n",
      "0.4197835 0.2974745 0.26990449999999994 0.7731334999999999\n",
      "False\n",
      "False\n",
      "True\n",
      "True\n",
      "True\n",
      "obj: 3, obj: 1\n",
      "0.8393780166666667 0.5790899833333334 0.24941721481481485 0.6522667851851852\n",
      "0.5375734 0.4920566 0.22412800000000002 0.560668\n",
      "False\n",
      "False\n",
      "True\n",
      "True\n",
      "True\n",
      "obj: 4, obj: 0\n",
      "0.6482204666666667 0.4178175333333334 0.38052221481481474 0.7750217851851852\n",
      "0.4197835 0.2974745 0.26990449999999994 0.7731334999999999\n",
      "True\n",
      "False\n",
      "False\n",
      "True\n",
      "True\n",
      "obj: 4, obj: 1\n",
      "0.6482204666666667 0.4178175333333334 0.38052221481481474 0.7750217851851852\n",
      "0.5375734 0.4920566 0.22412800000000002 0.560668\n",
      "True\n",
      "False\n",
      "False\n",
      "True\n",
      "True\n"
     ]
    },
    {
     "name": "stderr",
     "output_type": "stream",
     "text": [
      " 28%|███████▌                   | 344/1219 [00:44<01:46,  8.22it/s]"
     ]
    },
    {
     "name": "stdout",
     "output_type": "stream",
     "text": [
      "['1', '0.533019', '0.577772', '0.0220696', '0.0241292']\n",
      "['0', '0.358629', '0.521519', '0.122309', '0.503229']\n",
      "['0', '0.514815', '0.392398', '0.0455168', '0.33654']\n",
      "Regions:  [(571, 1044, 242, 834)]\n",
      "Cropped image /mnt/c/Adrianov/Projects/trash-detector/yolo_res/images/result_197.jpg and saved result to /mnt/c/Adrianov/Projects/trash-detector/masks/imgs/result_341_0.jpg\n",
      "/mnt/c/Adrianov/Projects/trash-detector/yolo_res/label/result_198.txt\n",
      "/mnt/c/Adrianov/Projects/trash-detector/yolo_res/images/result_198.jpg\n",
      "Cropped image /mnt/c/Adrianov/Projects/trash-detector/yolo_res/images/result_198.jpg and saved result to None\n",
      "/mnt/c/Adrianov/Projects/trash-detector/yolo_res/label/result_199.txt\n",
      "/mnt/c/Adrianov/Projects/trash-detector/yolo_res/images/result_199.jpg\n",
      "Cropped image /mnt/c/Adrianov/Projects/trash-detector/yolo_res/images/result_199.jpg and saved result to None\n",
      "/mnt/c/Adrianov/Projects/trash-detector/yolo_res/label/result_2.txt\n",
      "/mnt/c/Adrianov/Projects/trash-detector/yolo_res/images/result_2.jpg\n",
      "Cropped image /mnt/c/Adrianov/Projects/trash-detector/yolo_res/images/result_2.jpg and saved result to None\n",
      "/mnt/c/Adrianov/Projects/trash-detector/yolo_res/label/result_20.txt\n",
      "/mnt/c/Adrianov/Projects/trash-detector/yolo_res/images/result_20.jpg\n"
     ]
    },
    {
     "name": "stderr",
     "output_type": "stream",
     "text": [
      " 28%|███████▋                   | 347/1219 [00:45<01:47,  8.09it/s]"
     ]
    },
    {
     "name": "stdout",
     "output_type": "stream",
     "text": [
      "Cropped image /mnt/c/Adrianov/Projects/trash-detector/yolo_res/images/result_20.jpg and saved result to None\n",
      "/mnt/c/Adrianov/Projects/trash-detector/yolo_res/label/result_200.txt\n",
      "/mnt/c/Adrianov/Projects/trash-detector/yolo_res/images/result_200.jpg\n",
      "obj: 2, obj: 0\n",
      "0.8593665666666667 0.5670434333333333 0.18403731481481483 0.6497086851851852\n",
      "0.4205175 0.2999005 0.270609 0.773105\n",
      "False\n",
      "False\n",
      "True\n",
      "True\n",
      "True\n",
      "obj: 2, obj: 1\n",
      "0.8593665666666667 0.5670434333333333 0.18403731481481483 0.6497086851851852\n",
      "0.53743065 0.49246935000000003 0.2261055 0.5539665\n",
      "False\n",
      "False\n",
      "True\n",
      "True\n",
      "True\n",
      "obj: 3, obj: 0\n",
      "0.8871826666666667 0.5665353333333334 0.18125281481481484 0.6538031851851852\n",
      "0.4205175 0.2999005 0.270609 0.773105\n",
      "False\n",
      "False\n",
      "True\n",
      "True\n",
      "True\n",
      "obj: 3, obj: 1\n",
      "0.8871826666666667 0.5665353333333334 0.18125281481481484 0.6538031851851852\n",
      "0.53743065 0.49246935000000003 0.2261055 0.5539665\n",
      "False\n",
      "False\n",
      "True\n",
      "True\n",
      "True\n",
      "obj: 4, obj: 0\n",
      "0.6483993166666667 0.41717468333333335 0.3810415648148149 0.7746244351851852\n",
      "0.4205175 0.2999005 0.270609 0.773105\n",
      "True\n",
      "False\n",
      "False\n",
      "True\n",
      "True\n",
      "obj: 4, obj: 1\n",
      "0.6483993166666667 0.41717468333333335 0.3810415648148149 0.7746244351851852\n",
      "0.53743065 0.49246935000000003 0.2261055 0.5539665\n",
      "True\n",
      "False\n",
      "False\n",
      "True\n",
      "True\n",
      "obj: 5, obj: 0\n",
      "0.8379927166666666 0.5767412833333333 0.24660831481481482 0.6506956851851852\n",
      "0.4205175 0.2999005 0.270609 0.773105\n",
      "False\n",
      "False\n",
      "True\n",
      "True\n",
      "True\n",
      "obj: 5, obj: 1\n",
      "0.8379927166666666 0.5767412833333333 0.24660831481481482 0.6506956851851852\n",
      "0.53743065 0.49246935000000003 0.2261055 0.5539665\n",
      "False\n",
      "False\n",
      "True\n",
      "True\n",
      "True\n",
      "['1', '0.532787', '0.577833', '0.0228913', '0.0232125']\n",
      "['0', '0.360209', '0.521857', '0.120617', '0.502496']\n",
      "['0', '0.51495', '0.390036', '0.0449613', '0.327861']\n",
      "Regions:  [(575, 1044, 244, 834)]\n",
      "Cropped image /mnt/c/Adrianov/Projects/trash-detector/yolo_res/images/result_200.jpg and saved result to /mnt/c/Adrianov/Projects/trash-detector/masks/imgs/result_346_0.jpg\n",
      "/mnt/c/Adrianov/Projects/trash-detector/yolo_res/label/result_201.txt\n",
      "/mnt/c/Adrianov/Projects/trash-detector/yolo_res/images/result_201.jpg\n"
     ]
    },
    {
     "name": "stderr",
     "output_type": "stream",
     "text": [
      " 29%|███████▋                   | 349/1219 [00:45<01:43,  8.42it/s]"
     ]
    },
    {
     "name": "stdout",
     "output_type": "stream",
     "text": [
      "Cropped image /mnt/c/Adrianov/Projects/trash-detector/yolo_res/images/result_201.jpg and saved result to None\n",
      "/mnt/c/Adrianov/Projects/trash-detector/yolo_res/label/result_202.txt\n",
      "/mnt/c/Adrianov/Projects/trash-detector/yolo_res/images/result_202.jpg\n",
      "obj: 2, obj: 0\n",
      "0.8586807666666667 0.5673732333333332 0.18440851481481482 0.6476034851851852\n",
      "0.4204545 0.30033550000000003 0.27289650000000004 0.7743175\n",
      "False\n",
      "False\n",
      "True\n",
      "True\n",
      "True\n",
      "obj: 2, obj: 1\n",
      "0.8586807666666667 0.5673732333333332 0.18440851481481482 0.6476034851851852\n",
      "0.5387449999999999 0.49130499999999994 0.22442 0.5539160000000001\n",
      "False\n",
      "False\n",
      "True\n",
      "True\n",
      "True\n",
      "obj: 3, obj: 0\n",
      "0.8868021666666668 0.5665698333333333 0.18073131481481486 0.6531746851851852\n",
      "0.4204545 0.30033550000000003 0.27289650000000004 0.7743175\n",
      "False\n",
      "False\n",
      "True\n",
      "True\n",
      "True\n",
      "obj: 3, obj: 1\n",
      "0.8868021666666668 0.5665698333333333 0.18073131481481486 0.6531746851851852\n",
      "0.5387449999999999 0.49130499999999994 0.22442 0.5539160000000001\n",
      "False\n",
      "False\n",
      "True\n",
      "True\n",
      "True\n",
      "obj: 4, obj: 0\n",
      "0.8411290666666666 0.5727569333333333 0.22514256481481482 0.6488154351851851\n",
      "0.4204545 0.30033550000000003 0.27289650000000004 0.7743175\n",
      "False\n",
      "False\n",
      "True\n",
      "True\n",
      "True\n",
      "obj: 4, obj: 1\n",
      "0.8411290666666666 0.5727569333333333 0.22514256481481482 0.6488154351851851\n",
      "0.5387449999999999 0.49130499999999994 0.22442 0.5539160000000001\n",
      "False\n",
      "False\n",
      "True\n",
      "True\n",
      "True\n",
      "Cropped image /mnt/c/Adrianov/Projects/trash-detector/yolo_res/images/result_202.jpg and saved result to None\n",
      "/mnt/c/Adrianov/Projects/trash-detector/yolo_res/label/result_203.txt\n",
      "/mnt/c/Adrianov/Projects/trash-detector/yolo_res/images/result_203.jpg\n"
     ]
    },
    {
     "name": "stderr",
     "output_type": "stream",
     "text": [
      " 29%|███████▊                   | 350/1219 [00:45<01:57,  7.42it/s]"
     ]
    },
    {
     "name": "stdout",
     "output_type": "stream",
     "text": [
      "obj: 2, obj: 0\n",
      "0.8562317666666667 0.5670542333333334 0.18329576481481483 0.6474702351851852\n",
      "0.4223325 0.2996255 0.2754915 0.7672924999999999\n",
      "False\n",
      "False\n",
      "True\n",
      "True\n",
      "True\n",
      "obj: 2, obj: 1\n",
      "0.8562317666666667 0.5670542333333334 0.18329576481481483 0.6474702351851852\n",
      "0.5405002999999999 0.49186769999999996 0.2242915 0.5497785000000001\n",
      "False\n",
      "False\n",
      "True\n",
      "True\n",
      "True\n",
      "obj: 3, obj: 0\n",
      "0.8406814666666667 0.5725345333333334 0.2308786148148148 0.6481353851851852\n",
      "0.4223325 0.2996255 0.2754915 0.7672924999999999\n",
      "False\n",
      "False\n",
      "True\n",
      "True\n",
      "True\n",
      "obj: 3, obj: 1\n",
      "0.8406814666666667 0.5725345333333334 0.2308786148148148 0.6481353851851852\n",
      "0.5405002999999999 0.49186769999999996 0.2242915 0.5497785000000001\n",
      "False\n",
      "False\n",
      "True\n",
      "True\n",
      "True\n",
      "Cropped image /mnt/c/Adrianov/Projects/trash-detector/yolo_res/images/result_203.jpg and saved result to None\n",
      "/mnt/c/Adrianov/Projects/trash-detector/yolo_res/label/result_204.txt\n",
      "/mnt/c/Adrianov/Projects/trash-detector/yolo_res/images/result_204.jpg\n"
     ]
    },
    {
     "name": "stderr",
     "output_type": "stream",
     "text": [
      " 29%|███████▊                   | 352/1219 [00:46<02:11,  6.60it/s]"
     ]
    },
    {
     "name": "stdout",
     "output_type": "stream",
     "text": [
      "Cropped image /mnt/c/Adrianov/Projects/trash-detector/yolo_res/images/result_204.jpg and saved result to None\n",
      "/mnt/c/Adrianov/Projects/trash-detector/yolo_res/label/result_205.txt\n",
      "/mnt/c/Adrianov/Projects/trash-detector/yolo_res/images/result_205.jpg\n",
      "Cropped image /mnt/c/Adrianov/Projects/trash-detector/yolo_res/images/result_205.jpg and saved result to None\n",
      "/mnt/c/Adrianov/Projects/trash-detector/yolo_res/label/result_206.txt\n",
      "/mnt/c/Adrianov/Projects/trash-detector/yolo_res/images/result_206.jpg\n"
     ]
    },
    {
     "name": "stderr",
     "output_type": "stream",
     "text": [
      " 29%|███████▊                   | 354/1219 [00:46<02:08,  6.73it/s]"
     ]
    },
    {
     "name": "stdout",
     "output_type": "stream",
     "text": [
      "Cropped image /mnt/c/Adrianov/Projects/trash-detector/yolo_res/images/result_206.jpg and saved result to None\n",
      "/mnt/c/Adrianov/Projects/trash-detector/yolo_res/label/result_207.txt\n",
      "/mnt/c/Adrianov/Projects/trash-detector/yolo_res/images/result_207.jpg\n",
      "obj: 2, obj: 0\n",
      "0.8573197666666666 0.5672542333333334 0.18248781481481485 0.6480321851851851\n",
      "0.424633 0.299479 0.274355 0.767443\n",
      "False\n",
      "False\n",
      "True\n",
      "True\n",
      "True\n",
      "obj: 2, obj: 1\n",
      "0.8573197666666666 0.5672542333333334 0.18248781481481485 0.6480321851851851\n",
      "0.5400369 0.49189510000000003 0.22580199999999997 0.554752\n",
      "False\n",
      "False\n",
      "True\n",
      "True\n",
      "True\n",
      "obj: 3, obj: 0\n",
      "0.8844701666666668 0.5665458333333333 0.1798193148148148 0.6538066851851851\n",
      "0.424633 0.299479 0.274355 0.767443\n",
      "False\n",
      "False\n",
      "True\n",
      "True\n",
      "True\n",
      "obj: 3, obj: 1\n",
      "0.8844701666666668 0.5665458333333333 0.1798193148148148 0.6538066851851851\n",
      "0.5400369 0.49189510000000003 0.22580199999999997 0.554752\n",
      "False\n",
      "False\n",
      "True\n",
      "True\n",
      "True\n",
      "obj: 4, obj: 0\n",
      "0.8398652666666667 0.5723087333333333 0.2242997148148148 0.6480962851851851\n",
      "0.424633 0.299479 0.274355 0.767443\n",
      "False\n",
      "False\n",
      "True\n",
      "True\n",
      "True\n",
      "obj: 4, obj: 1\n",
      "0.8398652666666667 0.5723087333333333 0.2242997148148148 0.6480962851851851\n",
      "0.5400369 0.49189510000000003 0.22580199999999997 0.554752\n",
      "False\n",
      "False\n",
      "True\n",
      "True\n",
      "True\n",
      "Cropped image /mnt/c/Adrianov/Projects/trash-detector/yolo_res/images/result_207.jpg and saved result to None\n",
      "/mnt/c/Adrianov/Projects/trash-detector/yolo_res/label/result_208.txt\n",
      "/mnt/c/Adrianov/Projects/trash-detector/yolo_res/images/result_208.jpg\n"
     ]
    },
    {
     "name": "stderr",
     "output_type": "stream",
     "text": [
      " 29%|███████▉                   | 356/1219 [00:46<02:21,  6.11it/s]"
     ]
    },
    {
     "name": "stdout",
     "output_type": "stream",
     "text": [
      "Cropped image /mnt/c/Adrianov/Projects/trash-detector/yolo_res/images/result_208.jpg and saved result to None\n",
      "/mnt/c/Adrianov/Projects/trash-detector/yolo_res/label/result_209.txt\n",
      "/mnt/c/Adrianov/Projects/trash-detector/yolo_res/images/result_209.jpg\n",
      "obj: 2, obj: 0\n",
      "0.6493832166666667 0.41857078333333336 0.38179156481481485 0.7743824351851851\n",
      "0.42531850000000004 0.2990895 0.2751735 0.7705565000000001\n",
      "True\n",
      "False\n",
      "False\n",
      "True\n",
      "True\n",
      "obj: 2, obj: 1\n",
      "0.6493832166666667 0.41857078333333336 0.38179156481481485 0.7743824351851851\n",
      "0.53644565 0.49322435000000003 0.223099 0.5528770000000001\n",
      "True\n",
      "False\n",
      "False\n",
      "True\n",
      "True\n",
      "obj: 3, obj: 0\n",
      "0.8684717166666667 0.5660522833333332 0.18204501481481483 0.6503689851851852\n",
      "0.42531850000000004 0.2990895 0.2751735 0.7705565000000001\n",
      "False\n",
      "False\n",
      "True\n",
      "True\n",
      "True\n",
      "obj: 3, obj: 1\n",
      "0.8684717166666667 0.5660522833333332 0.18204501481481483 0.6503689851851852\n",
      "0.53644565 0.49322435000000003 0.223099 0.5528770000000001\n",
      "False\n",
      "False\n",
      "True\n",
      "True\n",
      "True\n",
      "['1', '0.533977', '0.578087', '0.0224791', '0.0222205']\n",
      "['0', '0.362204', '0.522865', '0.126229', '0.495383']\n",
      "['0', '0.514835', '0.387988', '0.0432213', '0.329778']\n",
      "Regions:  [(574, 1046, 240, 832)]\n",
      "Cropped image /mnt/c/Adrianov/Projects/trash-detector/yolo_res/images/result_209.jpg and saved result to /mnt/c/Adrianov/Projects/trash-detector/masks/imgs/result_355_0.jpg\n",
      "/mnt/c/Adrianov/Projects/trash-detector/yolo_res/label/result_21.txt\n",
      "/mnt/c/Adrianov/Projects/trash-detector/yolo_res/images/result_21.jpg\n"
     ]
    },
    {
     "name": "stderr",
     "output_type": "stream",
     "text": [
      " 29%|███████▉                   | 357/1219 [00:46<02:27,  5.86it/s]"
     ]
    },
    {
     "name": "stdout",
     "output_type": "stream",
     "text": [
      "obj: 3, obj: 0\n",
      "0.9040094666666667 0.6457065333333334 0.7498882648148149 1.1696057351851852\n",
      "0.8962595 0.7805445 0.365709 0.8927449999999999\n",
      "True\n",
      "False\n",
      "False\n",
      "True\n",
      "True\n",
      "obj: 3, obj: 1\n",
      "0.9040094666666667 0.6457065333333334 0.7498882648148149 1.1696057351851852\n",
      "0.5585451499999999 0.47040885 0.39719000000000004 0.724776\n",
      "False\n",
      "False\n",
      "True\n",
      "False\n",
      "True\n",
      "obj: 3, obj: 2\n",
      "0.9040094666666667 0.6457065333333334 0.7498882648148149 1.1696057351851852\n",
      "0.2326645 -5.000000000005e-07 0.6415175 1.0000005\n",
      "False\n",
      "False\n",
      "True\n",
      "True\n",
      "True\n",
      "['1', '0.774858', '0.959747', '0.0499696', '0.0493471']\n",
      "['0', '0.838402', '0.629227', '0.115715', '0.527036']\n",
      "Regions:  [(1439, 1720, 394, 1063)]\n",
      "Cropped image /mnt/c/Adrianov/Projects/trash-detector/yolo_res/images/result_21.jpg and saved result to /mnt/c/Adrianov/Projects/trash-detector/masks/imgs/result_356_0.jpg\n",
      "/mnt/c/Adrianov/Projects/trash-detector/yolo_res/label/result_210.txt\n",
      "/mnt/c/Adrianov/Projects/trash-detector/yolo_res/images/result_210.jpg\n"
     ]
    },
    {
     "name": "stderr",
     "output_type": "stream",
     "text": [
      " 29%|███████▉                   | 359/1219 [00:47<02:35,  5.51it/s]"
     ]
    },
    {
     "name": "stdout",
     "output_type": "stream",
     "text": [
      "Cropped image /mnt/c/Adrianov/Projects/trash-detector/yolo_res/images/result_210.jpg and saved result to None\n",
      "/mnt/c/Adrianov/Projects/trash-detector/yolo_res/label/result_211.txt\n",
      "/mnt/c/Adrianov/Projects/trash-detector/yolo_res/images/result_211.jpg\n",
      "obj: 2, obj: 0\n",
      "0.6501668166666668 0.41865918333333335 0.3819582648148148 0.7742757351851852\n",
      "0.424851 0.300493 0.26966900000000005 0.766023\n",
      "True\n",
      "False\n",
      "False\n",
      "True\n",
      "True\n",
      "obj: 2, obj: 1\n",
      "0.6501668166666668 0.41865918333333335 0.3819582648148148 0.7742757351851852\n",
      "0.53694425 0.49436775 0.2237575 0.5528405000000001\n",
      "True\n",
      "False\n",
      "False\n",
      "True\n",
      "True\n",
      "['1', '0.534413', '0.578117', '0.0231743', '0.0219471']\n",
      "['0', '0.362672', '0.517846', '0.124358', '0.496354']\n",
      "['0', '0.515656', '0.388299', '0.0425765', '0.329083']\n",
      "Regions:  [(576, 1048, 241, 827)]\n",
      "Cropped image /mnt/c/Adrianov/Projects/trash-detector/yolo_res/images/result_211.jpg and saved result to /mnt/c/Adrianov/Projects/trash-detector/masks/imgs/result_358_0.jpg\n",
      "/mnt/c/Adrianov/Projects/trash-detector/yolo_res/label/result_212.txt\n",
      "/mnt/c/Adrianov/Projects/trash-detector/yolo_res/images/result_212.jpg\n"
     ]
    },
    {
     "name": "stderr",
     "output_type": "stream",
     "text": [
      " 30%|███████▉                   | 361/1219 [00:47<02:34,  5.55it/s]"
     ]
    },
    {
     "name": "stdout",
     "output_type": "stream",
     "text": [
      "Cropped image /mnt/c/Adrianov/Projects/trash-detector/yolo_res/images/result_212.jpg and saved result to None\n",
      "/mnt/c/Adrianov/Projects/trash-detector/yolo_res/label/result_213.txt\n",
      "/mnt/c/Adrianov/Projects/trash-detector/yolo_res/images/result_213.jpg\n",
      "Cropped image /mnt/c/Adrianov/Projects/trash-detector/yolo_res/images/result_213.jpg and saved result to None\n",
      "/mnt/c/Adrianov/Projects/trash-detector/yolo_res/label/result_214.txt\n",
      "/mnt/c/Adrianov/Projects/trash-detector/yolo_res/images/result_214.jpg\n"
     ]
    },
    {
     "name": "stderr",
     "output_type": "stream",
     "text": [
      " 30%|████████                   | 362/1219 [00:47<03:09,  4.52it/s]"
     ]
    },
    {
     "name": "stdout",
     "output_type": "stream",
     "text": [
      "obj: 2, obj: 0\n",
      "0.40932556666666664 0.16410043333333332 0.6355483648148148 1.0541216351851852\n",
      "0.423702 0.30601 0.26954999999999996 0.7704759999999999\n",
      "True\n",
      "False\n",
      "False\n",
      "True\n",
      "True\n",
      "obj: 2, obj: 1\n",
      "0.40932556666666664 0.16410043333333332 0.6355483648148148 1.0541216351851852\n",
      "0.5359386 0.4939214 0.2336565 0.5532535000000001\n",
      "False\n",
      "True\n",
      "False\n",
      "False\n",
      "True\n",
      "obj: 3, obj: 0\n",
      "0.6486803166666667 0.41841368333333334 0.3816292148148148 0.7743107851851851\n",
      "0.423702 0.30601 0.26954999999999996 0.7704759999999999\n",
      "True\n",
      "False\n",
      "False\n",
      "True\n",
      "True\n",
      "obj: 3, obj: 1\n",
      "0.6486803166666667 0.41841368333333334 0.3816292148148148 0.7743107851851851\n",
      "0.5359386 0.4939214 0.2336565 0.5532535000000001\n",
      "True\n",
      "False\n",
      "False\n",
      "True\n",
      "True\n",
      "['1', '0.286713', '0.844835', '0.0368918', '0.0482029']\n",
      "['0', '0.364856', '0.520013', '0.117692', '0.500926']\n",
      "Regions:  [(515, 813, 291, 938)]\n",
      "['1', '0.533547', '0.57797', '0.0219333', '0.0223112']\n",
      "['0', '0.364856', '0.520013', '0.117692', '0.500926']\n",
      "['0', '0.51493', '0.393455', '0.0420172', '0.319597']\n",
      "Regions:  [(515, 813, 291, 938), (587, 1045, 252, 832)]\n",
      "Cropped image /mnt/c/Adrianov/Projects/trash-detector/yolo_res/images/result_214.jpg and saved result to /mnt/c/Adrianov/Projects/trash-detector/masks/imgs/result_361_0.jpg\n",
      "/mnt/c/Adrianov/Projects/trash-detector/yolo_res/label/result_215.txt\n",
      "/mnt/c/Adrianov/Projects/trash-detector/yolo_res/images/result_215.jpg\n"
     ]
    },
    {
     "name": "stderr",
     "output_type": "stream",
     "text": [
      " 30%|████████                   | 363/1219 [00:48<03:10,  4.48it/s]"
     ]
    },
    {
     "name": "stdout",
     "output_type": "stream",
     "text": [
      "obj: 2, obj: 0\n",
      "0.37726266666666664 0.1268753333333333 0.5273153648148148 0.9557906351851853\n",
      "0.3633975 0.2845545 0.45611050000000003 0.7571435\n",
      "True\n",
      "False\n",
      "False\n",
      "True\n",
      "True\n",
      "obj: 2, obj: 1\n",
      "0.37726266666666664 0.1268753333333333 0.5273153648148148 0.9557906351851853\n",
      "0.5974304 0.5538295999999999 0.40357999999999994 0.666308\n",
      "False\n",
      "True\n",
      "False\n",
      "True\n",
      "True\n",
      "obj: 2, obj: 3\n",
      "0.37726266666666664 0.1268753333333333 0.5273153648148148 0.9557906351851853\n",
      "0.2919343 0.24364969999999997 0.4511015 0.5789905\n",
      "True\n",
      "False\n",
      "False\n",
      "True\n",
      "True\n",
      "['1', '0.252069', '0.741553', '0.042054', '0.0581049']\n",
      "['0', '0.323976', '0.606627', '0.078843', '0.301033']\n",
      "['0', '0.267792', '0.515046', '0.0482846', '0.127889']\n",
      "Regions:  [(443, 697, 487, 832)]\n",
      "Cropped image /mnt/c/Adrianov/Projects/trash-detector/yolo_res/images/result_215.jpg and saved result to /mnt/c/Adrianov/Projects/trash-detector/masks/imgs/result_362_0.jpg\n",
      "/mnt/c/Adrianov/Projects/trash-detector/yolo_res/label/result_216.txt\n",
      "/mnt/c/Adrianov/Projects/trash-detector/yolo_res/images/result_216.jpg\n"
     ]
    },
    {
     "name": "stderr",
     "output_type": "stream",
     "text": [
      " 30%|████████                   | 364/1219 [00:48<03:06,  4.59it/s]"
     ]
    },
    {
     "name": "stdout",
     "output_type": "stream",
     "text": [
      "Cropped image /mnt/c/Adrianov/Projects/trash-detector/yolo_res/images/result_216.jpg and saved result to None\n",
      "/mnt/c/Adrianov/Projects/trash-detector/yolo_res/label/result_217.txt\n",
      "/mnt/c/Adrianov/Projects/trash-detector/yolo_res/images/result_217.jpg\n",
      "obj: 3, obj: 0\n",
      "0.3763501166666666 0.1274818833333333 0.5269562148148148 0.9533057851851852\n",
      "0.36409295 0.28946305 0.4562735 0.7571025\n",
      "True\n",
      "False\n",
      "False\n",
      "True\n",
      "True\n",
      "obj: 3, obj: 1\n",
      "0.3763501166666666 0.1274818833333333 0.5269562148148148 0.9533057851851852\n",
      "0.59706495 0.55341905 0.40299100000000004 0.665203\n",
      "False\n",
      "True\n",
      "False\n",
      "True\n",
      "True\n",
      "obj: 3, obj: 2\n",
      "0.3763501166666666 0.1274818833333333 0.5269562148148148 0.9533057851851852\n",
      "0.29332365 0.24312035 0.4492485 0.5798015\n",
      "True\n",
      "False\n",
      "False\n",
      "True\n",
      "True\n",
      "['1', '0.251916', '0.740131', '0.0405349', '0.0559792']\n",
      "['0', '0.326778', '0.606688', '0.0746299', '0.300829']\n",
      "['0', '0.268222', '0.514525', '0.0502033', '0.130553']\n",
      "Regions:  [(444, 699, 485, 829)]\n"
     ]
    },
    {
     "name": "stderr",
     "output_type": "stream",
     "text": [
      " 30%|████████                   | 365/1219 [00:48<03:02,  4.68it/s]"
     ]
    },
    {
     "name": "stdout",
     "output_type": "stream",
     "text": [
      "Cropped image /mnt/c/Adrianov/Projects/trash-detector/yolo_res/images/result_217.jpg and saved result to /mnt/c/Adrianov/Projects/trash-detector/masks/imgs/result_364_0.jpg\n",
      "/mnt/c/Adrianov/Projects/trash-detector/yolo_res/label/result_218.txt\n",
      "/mnt/c/Adrianov/Projects/trash-detector/yolo_res/images/result_218.jpg\n",
      "obj: 2, obj: 0\n",
      "0.4014783666666667 0.14982163333333334 0.6409192148148148 1.0732587851851851\n",
      "0.423109 0.30760899999999997 0.2723224999999999 0.7713095\n",
      "True\n",
      "False\n",
      "False\n",
      "True\n",
      "True\n",
      "obj: 2, obj: 1\n",
      "0.4014783666666667 0.14982163333333334 0.6409192148148148 1.0732587851851851\n",
      "0.5365253 0.4945487 0.225203 0.554165\n",
      "False\n",
      "True\n",
      "False\n",
      "False\n",
      "True\n",
      "obj: 3, obj: 0\n",
      "0.6502465666666666 0.4183434333333333 0.3813835148148148 0.7740444851851851\n",
      "0.423109 0.30760899999999997 0.2723224999999999 0.7713095\n",
      "True\n",
      "False\n",
      "False\n",
      "True\n",
      "True\n",
      "obj: 3, obj: 1\n",
      "0.6502465666666666 0.4183434333333333 0.3813835148148148 0.7740444851851851\n",
      "0.5365253 0.4945487 0.225203 0.554165\n",
      "True\n",
      "False\n",
      "False\n",
      "True\n",
      "True\n",
      "['1', '0.27565', '0.857089', '0.0433234', '0.0619692']\n",
      "['0', '0.365359', '0.521816', '0.1155', '0.498987']\n",
      "Regions:  [(487, 812, 294, 959)]\n"
     ]
    },
    {
     "name": "stderr",
     "output_type": "stream",
     "text": [
      " 30%|████████                   | 366/1219 [00:48<03:10,  4.47it/s]"
     ]
    },
    {
     "name": "stdout",
     "output_type": "stream",
     "text": [
      "['1', '0.534295', '0.577714', '0.0235698', '0.0222906']\n",
      "['0', '0.365359', '0.521816', '0.1155', '0.498987']\n",
      "['0', '0.515537', '0.389684', '0.0419766', '0.328962']\n",
      "Regions:  [(487, 812, 294, 959), (590, 1048, 243, 833)]\n",
      "Cropped image /mnt/c/Adrianov/Projects/trash-detector/yolo_res/images/result_218.jpg and saved result to /mnt/c/Adrianov/Projects/trash-detector/masks/imgs/result_365_0.jpg\n",
      "/mnt/c/Adrianov/Projects/trash-detector/yolo_res/label/result_219.txt\n",
      "/mnt/c/Adrianov/Projects/trash-detector/yolo_res/images/result_219.jpg\n"
     ]
    },
    {
     "name": "stderr",
     "output_type": "stream",
     "text": [
      " 30%|████████▏                  | 367/1219 [00:49<03:11,  4.44it/s]"
     ]
    },
    {
     "name": "stdout",
     "output_type": "stream",
     "text": [
      "Cropped image /mnt/c/Adrianov/Projects/trash-detector/yolo_res/images/result_219.jpg and saved result to None\n",
      "/mnt/c/Adrianov/Projects/trash-detector/yolo_res/label/result_22.txt\n",
      "/mnt/c/Adrianov/Projects/trash-detector/yolo_res/images/result_22.jpg\n"
     ]
    },
    {
     "name": "stderr",
     "output_type": "stream",
     "text": [
      " 30%|████████▏                  | 369/1219 [00:49<03:05,  4.57it/s]"
     ]
    },
    {
     "name": "stdout",
     "output_type": "stream",
     "text": [
      "Cropped image /mnt/c/Adrianov/Projects/trash-detector/yolo_res/images/result_22.jpg and saved result to None\n",
      "/mnt/c/Adrianov/Projects/trash-detector/yolo_res/label/result_220.txt\n",
      "/mnt/c/Adrianov/Projects/trash-detector/yolo_res/images/result_220.jpg\n",
      "Cropped image /mnt/c/Adrianov/Projects/trash-detector/yolo_res/images/result_220.jpg and saved result to None\n",
      "/mnt/c/Adrianov/Projects/trash-detector/yolo_res/label/result_221.txt\n",
      "/mnt/c/Adrianov/Projects/trash-detector/yolo_res/images/result_221.jpg\n"
     ]
    },
    {
     "name": "stderr",
     "output_type": "stream",
     "text": [
      " 30%|████████▏                  | 370/1219 [00:49<02:41,  5.27it/s]"
     ]
    },
    {
     "name": "stdout",
     "output_type": "stream",
     "text": [
      "Cropped image /mnt/c/Adrianov/Projects/trash-detector/yolo_res/images/result_221.jpg and saved result to None\n",
      "/mnt/c/Adrianov/Projects/trash-detector/yolo_res/label/result_222.txt\n",
      "/mnt/c/Adrianov/Projects/trash-detector/yolo_res/images/result_222.jpg\n"
     ]
    },
    {
     "name": "stderr",
     "output_type": "stream",
     "text": [
      " 30%|████████▏                  | 371/1219 [00:49<02:47,  5.07it/s]"
     ]
    },
    {
     "name": "stdout",
     "output_type": "stream",
     "text": [
      "Cropped image /mnt/c/Adrianov/Projects/trash-detector/yolo_res/images/result_222.jpg and saved result to None\n",
      "/mnt/c/Adrianov/Projects/trash-detector/yolo_res/label/result_223.txt\n",
      "/mnt/c/Adrianov/Projects/trash-detector/yolo_res/images/result_223.jpg\n",
      "obj: 2, obj: 0\n",
      "0.39252661666666666 0.14726738333333333 0.6398490148148148 1.0657429851851852\n",
      "0.4228065 0.3081815 0.274548 0.7712760000000001\n",
      "True\n",
      "False\n",
      "False\n",
      "True\n",
      "True\n",
      "obj: 2, obj: 1\n",
      "0.39252661666666666 0.14726738333333333 0.6398490148148148 1.0657429851851852\n",
      "0.53589315 0.49565885 0.23742649999999998 0.5518955\n",
      "False\n",
      "True\n",
      "False\n",
      "False\n",
      "True\n",
      "obj: 3, obj: 0\n",
      "0.6516045666666668 0.41892143333333337 0.3805895148148148 0.7742224851851851\n",
      "0.4228065 0.3081815 0.274548 0.7712760000000001\n",
      "True\n",
      "False\n",
      "False\n",
      "True\n",
      "True\n",
      "obj: 3, obj: 1\n",
      "0.6516045666666668 0.41892143333333337 0.3805895148148148 0.7742224851851851\n",
      "0.53589315 0.49565885 0.23742649999999998 0.5518955\n",
      "True\n",
      "False\n",
      "False\n",
      "True\n",
      "True\n",
      "['1', '0.269897', '0.852796', '0.0369259', '0.0555236']\n",
      "['0', '0.365494', '0.522912', '0.114625', '0.496728']\n",
      "Regions:  [(482, 811, 296, 951)]\n",
      "['1', '0.535263', '0.577406', '0.0243498', '0.0232626']\n",
      "['0', '0.365494', '0.522912', '0.114625', '0.496728']\n",
      "['0', '0.515776', '0.394661', '0.0402343', '0.314469']\n",
      "Regions:  [(482, 811, 296, 951), (591, 1051, 256, 832)]\n"
     ]
    },
    {
     "name": "stderr",
     "output_type": "stream",
     "text": [
      " 31%|████████▎                  | 373/1219 [00:50<02:52,  4.91it/s]"
     ]
    },
    {
     "name": "stdout",
     "output_type": "stream",
     "text": [
      "Cropped image /mnt/c/Adrianov/Projects/trash-detector/yolo_res/images/result_223.jpg and saved result to /mnt/c/Adrianov/Projects/trash-detector/masks/imgs/result_371_0.jpg\n",
      "/mnt/c/Adrianov/Projects/trash-detector/yolo_res/label/result_224.txt\n",
      "/mnt/c/Adrianov/Projects/trash-detector/yolo_res/images/result_224.jpg\n",
      "Cropped image /mnt/c/Adrianov/Projects/trash-detector/yolo_res/images/result_224.jpg and saved result to None\n",
      "/mnt/c/Adrianov/Projects/trash-detector/yolo_res/label/result_225.txt\n",
      "/mnt/c/Adrianov/Projects/trash-detector/yolo_res/images/result_225.jpg\n"
     ]
    },
    {
     "name": "stderr",
     "output_type": "stream",
     "text": [
      " 31%|████████▎                  | 375/1219 [00:50<02:24,  5.83it/s]"
     ]
    },
    {
     "name": "stdout",
     "output_type": "stream",
     "text": [
      "Cropped image /mnt/c/Adrianov/Projects/trash-detector/yolo_res/images/result_225.jpg and saved result to None\n",
      "/mnt/c/Adrianov/Projects/trash-detector/yolo_res/label/result_226.txt\n",
      "/mnt/c/Adrianov/Projects/trash-detector/yolo_res/images/result_226.jpg\n",
      "Cropped image /mnt/c/Adrianov/Projects/trash-detector/yolo_res/images/result_226.jpg and saved result to None\n",
      "/mnt/c/Adrianov/Projects/trash-detector/yolo_res/label/result_227.txt\n",
      "/mnt/c/Adrianov/Projects/trash-detector/yolo_res/images/result_227.jpg\n"
     ]
    },
    {
     "name": "stderr",
     "output_type": "stream",
     "text": [
      " 31%|████████▎                  | 377/1219 [00:50<01:58,  7.08it/s]"
     ]
    },
    {
     "name": "stdout",
     "output_type": "stream",
     "text": [
      "Cropped image /mnt/c/Adrianov/Projects/trash-detector/yolo_res/images/result_227.jpg and saved result to None\n",
      "/mnt/c/Adrianov/Projects/trash-detector/yolo_res/label/result_228.txt\n",
      "/mnt/c/Adrianov/Projects/trash-detector/yolo_res/images/result_228.jpg\n",
      "Cropped image /mnt/c/Adrianov/Projects/trash-detector/yolo_res/images/result_228.jpg and saved result to None\n",
      "/mnt/c/Adrianov/Projects/trash-detector/yolo_res/label/result_229.txt\n",
      "/mnt/c/Adrianov/Projects/trash-detector/yolo_res/images/result_229.jpg\n"
     ]
    },
    {
     "name": "stderr",
     "output_type": "stream",
     "text": [
      " 31%|████████▍                  | 379/1219 [00:51<01:53,  7.39it/s]"
     ]
    },
    {
     "name": "stdout",
     "output_type": "stream",
     "text": [
      "Cropped image /mnt/c/Adrianov/Projects/trash-detector/yolo_res/images/result_229.jpg and saved result to None\n",
      "/mnt/c/Adrianov/Projects/trash-detector/yolo_res/label/result_23.txt\n",
      "/mnt/c/Adrianov/Projects/trash-detector/yolo_res/images/result_23.jpg\n",
      "Cropped image /mnt/c/Adrianov/Projects/trash-detector/yolo_res/images/result_23.jpg and saved result to None\n",
      "/mnt/c/Adrianov/Projects/trash-detector/yolo_res/label/result_230.txt\n",
      "/mnt/c/Adrianov/Projects/trash-detector/yolo_res/images/result_230.jpg\n"
     ]
    },
    {
     "name": "stderr",
     "output_type": "stream",
     "text": [
      " 31%|████████▍                  | 381/1219 [00:51<01:49,  7.66it/s]"
     ]
    },
    {
     "name": "stdout",
     "output_type": "stream",
     "text": [
      "Cropped image /mnt/c/Adrianov/Projects/trash-detector/yolo_res/images/result_230.jpg and saved result to None\n",
      "/mnt/c/Adrianov/Projects/trash-detector/yolo_res/label/result_231.txt\n",
      "/mnt/c/Adrianov/Projects/trash-detector/yolo_res/images/result_231.jpg\n",
      "Cropped image /mnt/c/Adrianov/Projects/trash-detector/yolo_res/images/result_231.jpg and saved result to None\n",
      "/mnt/c/Adrianov/Projects/trash-detector/yolo_res/label/result_232.txt\n",
      "/mnt/c/Adrianov/Projects/trash-detector/yolo_res/images/result_232.jpg\n"
     ]
    },
    {
     "name": "stderr",
     "output_type": "stream",
     "text": [
      " 31%|████████▍                  | 383/1219 [00:51<01:51,  7.49it/s]"
     ]
    },
    {
     "name": "stdout",
     "output_type": "stream",
     "text": [
      "Cropped image /mnt/c/Adrianov/Projects/trash-detector/yolo_res/images/result_232.jpg and saved result to None\n",
      "/mnt/c/Adrianov/Projects/trash-detector/yolo_res/label/result_233.txt\n",
      "/mnt/c/Adrianov/Projects/trash-detector/yolo_res/images/result_233.jpg\n",
      "Cropped image /mnt/c/Adrianov/Projects/trash-detector/yolo_res/images/result_233.jpg and saved result to None\n",
      "/mnt/c/Adrianov/Projects/trash-detector/yolo_res/label/result_234.txt\n",
      "/mnt/c/Adrianov/Projects/trash-detector/yolo_res/images/result_234.jpg\n"
     ]
    },
    {
     "name": "stderr",
     "output_type": "stream",
     "text": [
      " 32%|████████▌                  | 385/1219 [00:51<01:48,  7.66it/s]"
     ]
    },
    {
     "name": "stdout",
     "output_type": "stream",
     "text": [
      "Cropped image /mnt/c/Adrianov/Projects/trash-detector/yolo_res/images/result_234.jpg and saved result to None\n",
      "/mnt/c/Adrianov/Projects/trash-detector/yolo_res/label/result_235.txt\n",
      "/mnt/c/Adrianov/Projects/trash-detector/yolo_res/images/result_235.jpg\n",
      "Cropped image /mnt/c/Adrianov/Projects/trash-detector/yolo_res/images/result_235.jpg and saved result to None\n",
      "/mnt/c/Adrianov/Projects/trash-detector/yolo_res/label/result_236.txt\n",
      "/mnt/c/Adrianov/Projects/trash-detector/yolo_res/images/result_236.jpg\n"
     ]
    },
    {
     "name": "stderr",
     "output_type": "stream",
     "text": [
      " 32%|████████▌                  | 387/1219 [00:52<01:43,  8.01it/s]"
     ]
    },
    {
     "name": "stdout",
     "output_type": "stream",
     "text": [
      "Cropped image /mnt/c/Adrianov/Projects/trash-detector/yolo_res/images/result_236.jpg and saved result to None\n",
      "/mnt/c/Adrianov/Projects/trash-detector/yolo_res/label/result_237.txt\n",
      "/mnt/c/Adrianov/Projects/trash-detector/yolo_res/images/result_237.jpg\n",
      "Cropped image /mnt/c/Adrianov/Projects/trash-detector/yolo_res/images/result_237.jpg and saved result to None\n",
      "/mnt/c/Adrianov/Projects/trash-detector/yolo_res/label/result_238.txt\n",
      "/mnt/c/Adrianov/Projects/trash-detector/yolo_res/images/result_238.jpg\n"
     ]
    },
    {
     "name": "stderr",
     "output_type": "stream",
     "text": [
      " 32%|████████▌                  | 389/1219 [00:52<01:36,  8.58it/s]"
     ]
    },
    {
     "name": "stdout",
     "output_type": "stream",
     "text": [
      "Cropped image /mnt/c/Adrianov/Projects/trash-detector/yolo_res/images/result_238.jpg and saved result to None\n",
      "/mnt/c/Adrianov/Projects/trash-detector/yolo_res/label/result_239.txt\n",
      "/mnt/c/Adrianov/Projects/trash-detector/yolo_res/images/result_239.jpg\n",
      "Cropped image /mnt/c/Adrianov/Projects/trash-detector/yolo_res/images/result_239.jpg and saved result to None\n",
      "/mnt/c/Adrianov/Projects/trash-detector/yolo_res/label/result_24.txt\n",
      "/mnt/c/Adrianov/Projects/trash-detector/yolo_res/images/result_24.jpg\n"
     ]
    },
    {
     "name": "stderr",
     "output_type": "stream",
     "text": [
      " 32%|████████▋                  | 391/1219 [00:52<01:37,  8.53it/s]"
     ]
    },
    {
     "name": "stdout",
     "output_type": "stream",
     "text": [
      "Cropped image /mnt/c/Adrianov/Projects/trash-detector/yolo_res/images/result_24.jpg and saved result to None\n",
      "/mnt/c/Adrianov/Projects/trash-detector/yolo_res/label/result_240.txt\n",
      "/mnt/c/Adrianov/Projects/trash-detector/yolo_res/images/result_240.jpg\n",
      "Cropped image /mnt/c/Adrianov/Projects/trash-detector/yolo_res/images/result_240.jpg and saved result to None\n",
      "/mnt/c/Adrianov/Projects/trash-detector/yolo_res/label/result_241.txt\n",
      "/mnt/c/Adrianov/Projects/trash-detector/yolo_res/images/result_241.jpg\n"
     ]
    },
    {
     "name": "stderr",
     "output_type": "stream",
     "text": [
      " 32%|████████▋                  | 393/1219 [00:52<01:49,  7.56it/s]"
     ]
    },
    {
     "name": "stdout",
     "output_type": "stream",
     "text": [
      "Cropped image /mnt/c/Adrianov/Projects/trash-detector/yolo_res/images/result_241.jpg and saved result to None\n",
      "/mnt/c/Adrianov/Projects/trash-detector/yolo_res/label/result_242.txt\n",
      "/mnt/c/Adrianov/Projects/trash-detector/yolo_res/images/result_242.jpg\n",
      "Cropped image /mnt/c/Adrianov/Projects/trash-detector/yolo_res/images/result_242.jpg and saved result to None\n",
      "/mnt/c/Adrianov/Projects/trash-detector/yolo_res/label/result_243.txt\n",
      "/mnt/c/Adrianov/Projects/trash-detector/yolo_res/images/result_243.jpg\n"
     ]
    },
    {
     "name": "stderr",
     "output_type": "stream",
     "text": [
      " 32%|████████▋                  | 395/1219 [00:53<01:53,  7.26it/s]"
     ]
    },
    {
     "name": "stdout",
     "output_type": "stream",
     "text": [
      "Cropped image /mnt/c/Adrianov/Projects/trash-detector/yolo_res/images/result_243.jpg and saved result to None\n",
      "/mnt/c/Adrianov/Projects/trash-detector/yolo_res/label/result_244.txt\n",
      "/mnt/c/Adrianov/Projects/trash-detector/yolo_res/images/result_244.jpg\n",
      "Cropped image /mnt/c/Adrianov/Projects/trash-detector/yolo_res/images/result_244.jpg and saved result to None\n",
      "/mnt/c/Adrianov/Projects/trash-detector/yolo_res/label/result_245.txt\n",
      "/mnt/c/Adrianov/Projects/trash-detector/yolo_res/images/result_245.jpg\n"
     ]
    },
    {
     "name": "stderr",
     "output_type": "stream",
     "text": [
      " 33%|████████▊                  | 397/1219 [00:53<01:47,  7.63it/s]"
     ]
    },
    {
     "name": "stdout",
     "output_type": "stream",
     "text": [
      "Cropped image /mnt/c/Adrianov/Projects/trash-detector/yolo_res/images/result_245.jpg and saved result to None\n",
      "/mnt/c/Adrianov/Projects/trash-detector/yolo_res/label/result_246.txt\n",
      "/mnt/c/Adrianov/Projects/trash-detector/yolo_res/images/result_246.jpg\n",
      "Cropped image /mnt/c/Adrianov/Projects/trash-detector/yolo_res/images/result_246.jpg and saved result to None\n",
      "/mnt/c/Adrianov/Projects/trash-detector/yolo_res/label/result_247.txt\n",
      "/mnt/c/Adrianov/Projects/trash-detector/yolo_res/images/result_247.jpg\n"
     ]
    },
    {
     "name": "stderr",
     "output_type": "stream",
     "text": [
      " 33%|████████▊                  | 399/1219 [00:53<01:49,  7.46it/s]"
     ]
    },
    {
     "name": "stdout",
     "output_type": "stream",
     "text": [
      "Cropped image /mnt/c/Adrianov/Projects/trash-detector/yolo_res/images/result_247.jpg and saved result to None\n",
      "/mnt/c/Adrianov/Projects/trash-detector/yolo_res/label/result_248.txt\n",
      "/mnt/c/Adrianov/Projects/trash-detector/yolo_res/images/result_248.jpg\n",
      "Cropped image /mnt/c/Adrianov/Projects/trash-detector/yolo_res/images/result_248.jpg and saved result to None\n",
      "/mnt/c/Adrianov/Projects/trash-detector/yolo_res/label/result_249.txt\n",
      "/mnt/c/Adrianov/Projects/trash-detector/yolo_res/images/result_249.jpg\n"
     ]
    },
    {
     "name": "stderr",
     "output_type": "stream",
     "text": [
      " 33%|████████▊                  | 400/1219 [00:53<01:53,  7.20it/s]"
     ]
    },
    {
     "name": "stdout",
     "output_type": "stream",
     "text": [
      "Cropped image /mnt/c/Adrianov/Projects/trash-detector/yolo_res/images/result_249.jpg and saved result to None\n",
      "/mnt/c/Adrianov/Projects/trash-detector/yolo_res/label/result_25.txt\n",
      "/mnt/c/Adrianov/Projects/trash-detector/yolo_res/images/result_25.jpg\n",
      "obj: 3, obj: 0\n",
      "0.9043814166666666 0.6466025833333333 0.7524252148148148 1.1691527851851853\n",
      "0.90416 0.780962 0.365918 0.8923460000000001\n",
      "True\n",
      "False\n",
      "False\n",
      "True\n",
      "True\n",
      "obj: 3, obj: 1\n",
      "0.9043814166666666 0.6466025833333333 0.7524252148148148 1.1691527851851853\n",
      "0.55927835 0.47217165 0.397172 0.728332\n",
      "False\n",
      "False\n",
      "True\n",
      "False\n",
      "True\n",
      "obj: 3, obj: 2\n",
      "0.9043814166666666 0.6466025833333333 0.7524252148148148 1.1691527851851853\n",
      "0.23166 0.0 0.6436599999999999 1.0\n",
      "False\n",
      "False\n",
      "True\n",
      "True\n",
      "True\n",
      "['1', '0.775492', '0.960789', '0.0494455', '0.0463572']\n",
      "['0', '0.842561', '0.629132', '0.123198', '0.526428']\n",
      "Regions:  [(1441, 1735, 395, 1062)]\n"
     ]
    },
    {
     "name": "stderr",
     "output_type": "stream",
     "text": [
      " 33%|████████▉                  | 402/1219 [00:54<02:09,  6.29it/s]"
     ]
    },
    {
     "name": "stdout",
     "output_type": "stream",
     "text": [
      "Cropped image /mnt/c/Adrianov/Projects/trash-detector/yolo_res/images/result_25.jpg and saved result to /mnt/c/Adrianov/Projects/trash-detector/masks/imgs/result_400_0.jpg\n",
      "/mnt/c/Adrianov/Projects/trash-detector/yolo_res/label/result_250.txt\n",
      "/mnt/c/Adrianov/Projects/trash-detector/yolo_res/images/result_250.jpg\n",
      "Cropped image /mnt/c/Adrianov/Projects/trash-detector/yolo_res/images/result_250.jpg and saved result to None\n",
      "/mnt/c/Adrianov/Projects/trash-detector/yolo_res/label/result_251.txt\n",
      "/mnt/c/Adrianov/Projects/trash-detector/yolo_res/images/result_251.jpg\n"
     ]
    },
    {
     "name": "stderr",
     "output_type": "stream",
     "text": [
      " 33%|████████▉                  | 404/1219 [00:54<01:52,  7.26it/s]"
     ]
    },
    {
     "name": "stdout",
     "output_type": "stream",
     "text": [
      "Cropped image /mnt/c/Adrianov/Projects/trash-detector/yolo_res/images/result_251.jpg and saved result to None\n",
      "/mnt/c/Adrianov/Projects/trash-detector/yolo_res/label/result_252.txt\n",
      "/mnt/c/Adrianov/Projects/trash-detector/yolo_res/images/result_252.jpg\n",
      "Cropped image /mnt/c/Adrianov/Projects/trash-detector/yolo_res/images/result_252.jpg and saved result to None\n",
      "/mnt/c/Adrianov/Projects/trash-detector/yolo_res/label/result_253.txt\n",
      "/mnt/c/Adrianov/Projects/trash-detector/yolo_res/images/result_253.jpg\n"
     ]
    },
    {
     "name": "stderr",
     "output_type": "stream",
     "text": [
      " 33%|████████▉                  | 406/1219 [00:54<01:56,  6.97it/s]"
     ]
    },
    {
     "name": "stdout",
     "output_type": "stream",
     "text": [
      "Cropped image /mnt/c/Adrianov/Projects/trash-detector/yolo_res/images/result_253.jpg and saved result to None\n",
      "/mnt/c/Adrianov/Projects/trash-detector/yolo_res/label/result_254.txt\n",
      "/mnt/c/Adrianov/Projects/trash-detector/yolo_res/images/result_254.jpg\n",
      "Cropped image /mnt/c/Adrianov/Projects/trash-detector/yolo_res/images/result_254.jpg and saved result to None\n",
      "/mnt/c/Adrianov/Projects/trash-detector/yolo_res/label/result_255.txt\n",
      "/mnt/c/Adrianov/Projects/trash-detector/yolo_res/images/result_255.jpg\n"
     ]
    },
    {
     "name": "stderr",
     "output_type": "stream",
     "text": [
      " 34%|█████████                  | 409/1219 [00:55<01:41,  8.00it/s]"
     ]
    },
    {
     "name": "stdout",
     "output_type": "stream",
     "text": [
      "Cropped image /mnt/c/Adrianov/Projects/trash-detector/yolo_res/images/result_255.jpg and saved result to None\n",
      "/mnt/c/Adrianov/Projects/trash-detector/yolo_res/label/result_256.txt\n",
      "/mnt/c/Adrianov/Projects/trash-detector/yolo_res/images/result_256.jpg\n",
      "Cropped image /mnt/c/Adrianov/Projects/trash-detector/yolo_res/images/result_256.jpg and saved result to None\n",
      "/mnt/c/Adrianov/Projects/trash-detector/yolo_res/label/result_257.txt\n",
      "/mnt/c/Adrianov/Projects/trash-detector/yolo_res/images/result_257.jpg\n",
      "Cropped image /mnt/c/Adrianov/Projects/trash-detector/yolo_res/images/result_257.jpg and saved result to None\n",
      "/mnt/c/Adrianov/Projects/trash-detector/yolo_res/label/result_258.txt\n",
      "/mnt/c/Adrianov/Projects/trash-detector/yolo_res/images/result_258.jpg\n"
     ]
    },
    {
     "name": "stderr",
     "output_type": "stream",
     "text": [
      " 34%|█████████                  | 411/1219 [00:55<01:52,  7.19it/s]"
     ]
    },
    {
     "name": "stdout",
     "output_type": "stream",
     "text": [
      "Cropped image /mnt/c/Adrianov/Projects/trash-detector/yolo_res/images/result_258.jpg and saved result to None\n",
      "/mnt/c/Adrianov/Projects/trash-detector/yolo_res/label/result_259.txt\n",
      "/mnt/c/Adrianov/Projects/trash-detector/yolo_res/images/result_259.jpg\n",
      "Cropped image /mnt/c/Adrianov/Projects/trash-detector/yolo_res/images/result_259.jpg and saved result to None\n",
      "/mnt/c/Adrianov/Projects/trash-detector/yolo_res/label/result_26.txt\n",
      "/mnt/c/Adrianov/Projects/trash-detector/yolo_res/images/result_26.jpg\n"
     ]
    },
    {
     "name": "stderr",
     "output_type": "stream",
     "text": [
      " 34%|█████████▏                 | 413/1219 [00:55<01:59,  6.76it/s]"
     ]
    },
    {
     "name": "stdout",
     "output_type": "stream",
     "text": [
      "Cropped image /mnt/c/Adrianov/Projects/trash-detector/yolo_res/images/result_26.jpg and saved result to None\n",
      "/mnt/c/Adrianov/Projects/trash-detector/yolo_res/label/result_260.txt\n",
      "/mnt/c/Adrianov/Projects/trash-detector/yolo_res/images/result_260.jpg\n",
      "obj: 2, obj: 0\n",
      "0.6813645666666667 0.43401943333333326 0.1520681148148148 0.6207298851851852\n",
      "0.3899145 0.0003675000000000206 0.21364449999999996 0.9960914999999999\n",
      "False\n",
      "False\n",
      "True\n",
      "True\n",
      "True\n",
      "obj: 2, obj: 1\n",
      "0.6813645666666667 0.43401943333333326 0.1520681148148148 0.6207298851851852\n",
      "0.3557635 0.2352725 0.29085550000000004 0.7576565000000001\n",
      "False\n",
      "False\n",
      "True\n",
      "True\n",
      "True\n",
      "Cropped image /mnt/c/Adrianov/Projects/trash-detector/yolo_res/images/result_260.jpg and saved result to None\n",
      "/mnt/c/Adrianov/Projects/trash-detector/yolo_res/label/result_261.txt\n",
      "/mnt/c/Adrianov/Projects/trash-detector/yolo_res/images/result_261.jpg\n"
     ]
    },
    {
     "name": "stderr",
     "output_type": "stream",
     "text": [
      " 34%|█████████▏                 | 414/1219 [00:55<01:57,  6.83it/s]"
     ]
    },
    {
     "name": "stdout",
     "output_type": "stream",
     "text": [
      "Cropped image /mnt/c/Adrianov/Projects/trash-detector/yolo_res/images/result_261.jpg and saved result to None\n",
      "/mnt/c/Adrianov/Projects/trash-detector/yolo_res/label/result_262.txt\n",
      "/mnt/c/Adrianov/Projects/trash-detector/yolo_res/images/result_262.jpg\n",
      "obj: 2, obj: 0\n",
      "0.6812757166666666 0.4311662833333333 0.15187946481481485 0.6197765351851852\n",
      "0.3197175 0.0006384999999999863 0.23568050000000001 0.9973955000000001\n",
      "False\n",
      "False\n",
      "True\n",
      "True\n",
      "True\n",
      "obj: 2, obj: 1\n",
      "0.6812757166666666 0.4311662833333333 0.15187946481481485 0.6197765351851852\n",
      "0.367589 0.235651 0.292551 0.802219\n",
      "False\n",
      "False\n",
      "True\n",
      "True\n",
      "True\n",
      "obj: 3, obj: 0\n",
      "0.5112066666666667 0.25016533333333335 0.6706936148148148 1.1040703851851852\n",
      "0.3197175 0.0006384999999999863 0.23568050000000001 0.9973955000000001\n",
      "True\n",
      "False\n",
      "False\n",
      "True\n",
      "True\n",
      "obj: 3, obj: 1\n",
      "0.5112066666666667 0.25016533333333335 0.6706936148148148 1.1040703851851852\n",
      "0.367589 0.235651 0.292551 0.802219\n",
      "True\n",
      "False\n",
      "False\n",
      "True\n",
      "True\n",
      "['1', '0.380686', '0.887382', '0.052708', '0.0630064']\n",
      "['0', '0.160178', '0.616538', '0.319079', '0.761715']\n",
      "['0', '0.30162', '0.547385', '0.131938', '0.509668']\n",
      "Regions:  [(1, 781, 254, 1077)]\n"
     ]
    },
    {
     "name": "stderr",
     "output_type": "stream",
     "text": [
      " 34%|█████████▏                 | 415/1219 [00:56<02:19,  5.76it/s]"
     ]
    },
    {
     "name": "stdout",
     "output_type": "stream",
     "text": [
      "Cropped image /mnt/c/Adrianov/Projects/trash-detector/yolo_res/images/result_262.jpg and saved result to /mnt/c/Adrianov/Projects/trash-detector/masks/imgs/result_414_0.jpg\n",
      "/mnt/c/Adrianov/Projects/trash-detector/yolo_res/label/result_263.txt\n",
      "/mnt/c/Adrianov/Projects/trash-detector/yolo_res/images/result_263.jpg\n"
     ]
    },
    {
     "name": "stderr",
     "output_type": "stream",
     "text": [
      " 34%|█████████▏                 | 416/1219 [00:56<02:29,  5.39it/s]"
     ]
    },
    {
     "name": "stdout",
     "output_type": "stream",
     "text": [
      "Cropped image /mnt/c/Adrianov/Projects/trash-detector/yolo_res/images/result_263.jpg and saved result to None\n",
      "/mnt/c/Adrianov/Projects/trash-detector/yolo_res/label/result_264.txt\n",
      "/mnt/c/Adrianov/Projects/trash-detector/yolo_res/images/result_264.jpg\n"
     ]
    },
    {
     "name": "stderr",
     "output_type": "stream",
     "text": [
      " 34%|█████████▏                 | 417/1219 [00:56<02:45,  4.84it/s]"
     ]
    },
    {
     "name": "stdout",
     "output_type": "stream",
     "text": [
      "Cropped image /mnt/c/Adrianov/Projects/trash-detector/yolo_res/images/result_264.jpg and saved result to None\n",
      "/mnt/c/Adrianov/Projects/trash-detector/yolo_res/label/result_265.txt\n",
      "/mnt/c/Adrianov/Projects/trash-detector/yolo_res/images/result_265.jpg\n"
     ]
    },
    {
     "name": "stderr",
     "output_type": "stream",
     "text": [
      " 34%|█████████▎                 | 418/1219 [00:56<03:03,  4.37it/s]"
     ]
    },
    {
     "name": "stdout",
     "output_type": "stream",
     "text": [
      "Cropped image /mnt/c/Adrianov/Projects/trash-detector/yolo_res/images/result_265.jpg and saved result to None\n",
      "/mnt/c/Adrianov/Projects/trash-detector/yolo_res/label/result_266.txt\n",
      "/mnt/c/Adrianov/Projects/trash-detector/yolo_res/images/result_266.jpg\n",
      "obj: 2, obj: 0\n",
      "0.5099288666666666 0.2501811333333333 0.6655882148148148 1.097389785185185\n",
      "0.256175 0.0002530000000000032 0.241288 0.9997400000000001\n",
      "True\n",
      "False\n",
      "False\n",
      "True\n",
      "True\n",
      "obj: 2, obj: 1\n",
      "0.5099288666666666 0.2501811333333333 0.6655882148148148 1.097389785185185\n",
      "0.3828705 0.2365275 0.2866225 0.8354895\n",
      "True\n",
      "False\n",
      "False\n",
      "True\n",
      "True\n",
      "obj: 3, obj: 0\n",
      "0.6815033166666666 0.4302986833333333 0.15298676481481482 0.6187192351851851\n",
      "0.256175 0.0002530000000000032 0.241288 0.9997400000000001\n",
      "False\n",
      "False\n",
      "True\n",
      "True\n",
      "True\n",
      "obj: 3, obj: 1\n",
      "0.6815033166666666 0.4302986833333333 0.15298676481481482 0.6187192351851851\n",
      "0.3828705 0.2365275 0.2866225 0.8354895\n",
      "False\n",
      "False\n",
      "True\n",
      "True\n",
      "True\n",
      "['1', '0.380055', '0.881489', '0.0514144', '0.0614312']\n",
      "['0', '0.128214', '0.620514', '0.255922', '0.758452']\n",
      "['0', '0.309699', '0.561056', '0.146343', '0.548867']\n",
      "Regions:  [(0, 779, 260, 1079)]\n"
     ]
    },
    {
     "name": "stderr",
     "output_type": "stream",
     "text": [
      " 34%|█████████▎                 | 420/1219 [00:57<02:32,  5.25it/s]"
     ]
    },
    {
     "name": "stdout",
     "output_type": "stream",
     "text": [
      "Cropped image /mnt/c/Adrianov/Projects/trash-detector/yolo_res/images/result_266.jpg and saved result to /mnt/c/Adrianov/Projects/trash-detector/masks/imgs/result_418_0.jpg\n",
      "/mnt/c/Adrianov/Projects/trash-detector/yolo_res/label/result_267.txt\n",
      "/mnt/c/Adrianov/Projects/trash-detector/yolo_res/images/result_267.jpg\n",
      "Cropped image /mnt/c/Adrianov/Projects/trash-detector/yolo_res/images/result_267.jpg and saved result to None\n",
      "/mnt/c/Adrianov/Projects/trash-detector/yolo_res/label/result_268.txt\n",
      "/mnt/c/Adrianov/Projects/trash-detector/yolo_res/images/result_268.jpg\n"
     ]
    },
    {
     "name": "stderr",
     "output_type": "stream",
     "text": [
      " 35%|█████████▎                 | 422/1219 [00:57<02:07,  6.26it/s]"
     ]
    },
    {
     "name": "stdout",
     "output_type": "stream",
     "text": [
      "Cropped image /mnt/c/Adrianov/Projects/trash-detector/yolo_res/images/result_268.jpg and saved result to None\n",
      "/mnt/c/Adrianov/Projects/trash-detector/yolo_res/label/result_269.txt\n",
      "/mnt/c/Adrianov/Projects/trash-detector/yolo_res/images/result_269.jpg\n",
      "Cropped image /mnt/c/Adrianov/Projects/trash-detector/yolo_res/images/result_269.jpg and saved result to None\n",
      "/mnt/c/Adrianov/Projects/trash-detector/yolo_res/label/result_27.txt\n",
      "/mnt/c/Adrianov/Projects/trash-detector/yolo_res/images/result_27.jpg\n"
     ]
    },
    {
     "name": "stderr",
     "output_type": "stream",
     "text": [
      " 35%|█████████▍                 | 424/1219 [00:57<02:04,  6.40it/s]"
     ]
    },
    {
     "name": "stdout",
     "output_type": "stream",
     "text": [
      "Cropped image /mnt/c/Adrianov/Projects/trash-detector/yolo_res/images/result_27.jpg and saved result to None\n",
      "/mnt/c/Adrianov/Projects/trash-detector/yolo_res/label/result_270.txt\n",
      "/mnt/c/Adrianov/Projects/trash-detector/yolo_res/images/result_270.jpg\n",
      "Cropped image /mnt/c/Adrianov/Projects/trash-detector/yolo_res/images/result_270.jpg and saved result to None\n",
      "/mnt/c/Adrianov/Projects/trash-detector/yolo_res/label/result_271.txt\n",
      "/mnt/c/Adrianov/Projects/trash-detector/yolo_res/images/result_271.jpg\n"
     ]
    },
    {
     "name": "stderr",
     "output_type": "stream",
     "text": [
      " 35%|█████████▍                 | 426/1219 [00:58<02:08,  6.16it/s]"
     ]
    },
    {
     "name": "stdout",
     "output_type": "stream",
     "text": [
      "Cropped image /mnt/c/Adrianov/Projects/trash-detector/yolo_res/images/result_271.jpg and saved result to None\n",
      "/mnt/c/Adrianov/Projects/trash-detector/yolo_res/label/result_272.txt\n",
      "/mnt/c/Adrianov/Projects/trash-detector/yolo_res/images/result_272.jpg\n",
      "obj: 1, obj: 0\n",
      "0.5096835166666667 0.25082248333333335 0.6602595148148148 1.095190485185185\n",
      "0.38947350000000003 0.2376265 0.28851800000000005 0.845836\n",
      "True\n",
      "False\n",
      "False\n",
      "True\n",
      "True\n",
      "['1', '0.380253', '0.877725', '0.0505277', '0.0645606']\n",
      "['0', '0.31355', '0.567177', '0.151847', '0.557318']\n",
      "Regions:  [(456, 778, 311, 982)]\n",
      "Cropped image /mnt/c/Adrianov/Projects/trash-detector/yolo_res/images/result_272.jpg and saved result to /mnt/c/Adrianov/Projects/trash-detector/masks/imgs/result_425_0.jpg\n",
      "/mnt/c/Adrianov/Projects/trash-detector/yolo_res/label/result_273.txt\n",
      "/mnt/c/Adrianov/Projects/trash-detector/yolo_res/images/result_273.jpg\n"
     ]
    },
    {
     "name": "stderr",
     "output_type": "stream",
     "text": [
      " 35%|█████████▍                 | 427/1219 [00:58<01:57,  6.76it/s]"
     ]
    },
    {
     "name": "stdout",
     "output_type": "stream",
     "text": [
      "obj: 2, obj: 0\n",
      "0.32007216666666666 -0.002698166666666668 0.4246629148148148 0.8596590851851852\n",
      "0.42828350000000004 0.3028765 0.3357035 0.9893825\n",
      "True\n",
      "False\n",
      "False\n",
      "True\n",
      "True\n",
      "obj: 2, obj: 1\n",
      "0.32007216666666666 -0.002698166666666668 0.4246629148148148 0.8596590851851852\n",
      "0.8796459999999999 0.737328 0.39238900000000004 0.9953069999999999\n",
      "False\n",
      "True\n",
      "False\n",
      "True\n",
      "True\n",
      "['1', '0.158687', '0.642161', '0.114437', '0.0646258']\n",
      "['0', '0.36558', '0.662543', '0.125407', '0.653679']\n",
      "Regions:  [(194, 822, 362, 1068)]\n",
      "Cropped image /mnt/c/Adrianov/Projects/trash-detector/yolo_res/images/result_273.jpg and saved result to /mnt/c/Adrianov/Projects/trash-detector/masks/imgs/result_426_0.jpg\n",
      "/mnt/c/Adrianov/Projects/trash-detector/yolo_res/label/result_274.txt\n",
      "/mnt/c/Adrianov/Projects/trash-detector/yolo_res/images/result_274.jpg\n"
     ]
    },
    {
     "name": "stderr",
     "output_type": "stream",
     "text": [
      " 35%|█████████▍                 | 428/1219 [00:58<02:05,  6.30it/s]"
     ]
    },
    {
     "name": "stdout",
     "output_type": "stream",
     "text": [
      "Cropped image /mnt/c/Adrianov/Projects/trash-detector/yolo_res/images/result_274.jpg and saved result to None\n",
      "/mnt/c/Adrianov/Projects/trash-detector/yolo_res/label/result_275.txt\n",
      "/mnt/c/Adrianov/Projects/trash-detector/yolo_res/images/result_275.jpg\n"
     ]
    },
    {
     "name": "stderr",
     "output_type": "stream",
     "text": [
      " 35%|█████████▌                 | 429/1219 [00:58<02:23,  5.50it/s]"
     ]
    },
    {
     "name": "stdout",
     "output_type": "stream",
     "text": [
      "Cropped image /mnt/c/Adrianov/Projects/trash-detector/yolo_res/images/result_275.jpg and saved result to None\n",
      "/mnt/c/Adrianov/Projects/trash-detector/yolo_res/label/result_276.txt\n",
      "/mnt/c/Adrianov/Projects/trash-detector/yolo_res/images/result_276.jpg\n",
      "obj: 2, obj: 0\n",
      "0.3195161666666667 -0.003218166666666661 0.4239524148148148 0.8580615851851852\n",
      "0.433237 0.309117 0.32769800000000004 0.93547\n",
      "True\n",
      "False\n",
      "False\n",
      "True\n",
      "True\n",
      "obj: 2, obj: 1\n",
      "0.3195161666666667 -0.003218166666666661 0.4239524148148148 0.8580615851851852\n",
      "0.8787775 0.7346865 0.39084949999999996 0.9857705\n",
      "False\n",
      "True\n",
      "False\n",
      "True\n",
      "True\n"
     ]
    },
    {
     "name": "stderr",
     "output_type": "stream",
     "text": [
      " 35%|█████████▌                 | 430/1219 [00:58<02:37,  5.01it/s]"
     ]
    },
    {
     "name": "stdout",
     "output_type": "stream",
     "text": [
      "['1', '0.158149', '0.641007', '0.114401', '0.0637388']\n",
      "['0', '0.371177', '0.631584', '0.12412', '0.607772']\n",
      "Regions:  [(193, 831, 353, 1010)]\n",
      "Cropped image /mnt/c/Adrianov/Projects/trash-detector/yolo_res/images/result_276.jpg and saved result to /mnt/c/Adrianov/Projects/trash-detector/masks/imgs/result_429_0.jpg\n",
      "/mnt/c/Adrianov/Projects/trash-detector/yolo_res/label/result_277.txt\n",
      "/mnt/c/Adrianov/Projects/trash-detector/yolo_res/images/result_277.jpg\n",
      "obj: 1, obj: 0\n",
      "0.5110297666666667 0.2522542333333333 0.6595294148148148 1.0909925851851852\n",
      "0.41920399999999997 0.238682 0.286128 0.8245720000000001\n",
      "True\n",
      "False\n",
      "False\n",
      "True\n",
      "True\n",
      "obj: 1, obj: 2\n",
      "0.5110297666666667 0.2522542333333333 0.6595294148148148 1.0909925851851852\n",
      "0.3554965 0.2378995 0.28659599999999996 0.827738\n",
      "True\n",
      "False\n",
      "False\n",
      "True\n",
      "True\n"
     ]
    },
    {
     "name": "stderr",
     "output_type": "stream",
     "text": [
      " 35%|█████████▌                 | 431/1219 [00:59<02:53,  4.55it/s]"
     ]
    },
    {
     "name": "stdout",
     "output_type": "stream",
     "text": [
      "['1', '0.381642', '0.875261', '0.0504422', '0.0610928']\n",
      "['0', '0.328943', '0.55535', '0.180522', '0.538444']\n",
      "['0', '0.296698', '0.557167', '0.117597', '0.541142']\n",
      "Regions:  [(456, 804, 309, 978)]\n",
      "Cropped image /mnt/c/Adrianov/Projects/trash-detector/yolo_res/images/result_277.jpg and saved result to /mnt/c/Adrianov/Projects/trash-detector/masks/imgs/result_430_0.jpg\n",
      "/mnt/c/Adrianov/Projects/trash-detector/yolo_res/label/result_278.txt\n",
      "/mnt/c/Adrianov/Projects/trash-detector/yolo_res/images/result_278.jpg\n"
     ]
    },
    {
     "name": "stderr",
     "output_type": "stream",
     "text": [
      " 35%|█████████▌                 | 432/1219 [00:59<02:49,  4.65it/s]"
     ]
    },
    {
     "name": "stdout",
     "output_type": "stream",
     "text": [
      "Cropped image /mnt/c/Adrianov/Projects/trash-detector/yolo_res/images/result_278.jpg and saved result to None\n",
      "/mnt/c/Adrianov/Projects/trash-detector/yolo_res/label/result_279.txt\n",
      "/mnt/c/Adrianov/Projects/trash-detector/yolo_res/images/result_279.jpg\n",
      "obj: 2, obj: 0\n",
      "0.31875966666666666 -0.0026976666666666815 0.4237303148148148 0.8578296851851852\n",
      "0.4378285 0.31287950000000003 0.32775950000000004 0.9225045000000001\n",
      "True\n",
      "False\n",
      "False\n",
      "True\n",
      "True\n",
      "obj: 2, obj: 1\n",
      "0.31875966666666666 -0.0026976666666666815 0.4237303148148148 0.8578296851851852\n",
      "0.874534 0.726006 0.385577 0.970251\n",
      "False\n",
      "True\n",
      "False\n",
      "True\n",
      "True\n"
     ]
    },
    {
     "name": "stderr",
     "output_type": "stream",
     "text": [
      " 36%|█████████▌                 | 434/1219 [00:59<02:40,  4.91it/s]"
     ]
    },
    {
     "name": "stdout",
     "output_type": "stream",
     "text": [
      "['1', '0.158031', '0.64078', '0.113124', '0.063729']\n",
      "['0', '0.375354', '0.625132', '0.124949', '0.594745']\n",
      "Regions:  [(194, 840, 353, 996)]\n",
      "Cropped image /mnt/c/Adrianov/Projects/trash-detector/yolo_res/images/result_279.jpg and saved result to /mnt/c/Adrianov/Projects/trash-detector/masks/imgs/result_432_0.jpg\n",
      "/mnt/c/Adrianov/Projects/trash-detector/yolo_res/label/result_28.txt\n",
      "/mnt/c/Adrianov/Projects/trash-detector/yolo_res/images/result_28.jpg\n",
      "Cropped image /mnt/c/Adrianov/Projects/trash-detector/yolo_res/images/result_28.jpg and saved result to None\n",
      "/mnt/c/Adrianov/Projects/trash-detector/yolo_res/label/result_280.txt\n",
      "/mnt/c/Adrianov/Projects/trash-detector/yolo_res/images/result_280.jpg\n"
     ]
    },
    {
     "name": "stderr",
     "output_type": "stream",
     "text": [
      " 36%|█████████▋                 | 435/1219 [00:59<02:25,  5.38it/s]"
     ]
    },
    {
     "name": "stdout",
     "output_type": "stream",
     "text": [
      "Cropped image /mnt/c/Adrianov/Projects/trash-detector/yolo_res/images/result_280.jpg and saved result to None\n",
      "/mnt/c/Adrianov/Projects/trash-detector/yolo_res/label/result_281.txt\n",
      "/mnt/c/Adrianov/Projects/trash-detector/yolo_res/images/result_281.jpg\n",
      "obj: 1, obj: 0\n",
      "0.5119926666666667 0.25255533333333335 0.6592022148148148 1.089329785185185\n",
      "0.345235 0.239033 0.2859565 0.8339075\n",
      "True\n",
      "False\n",
      "False\n",
      "True\n",
      "True\n",
      "obj: 1, obj: 2\n",
      "0.5119926666666667 0.25255533333333335 0.6592022148148148 1.089329785185185\n",
      "0.40407099999999996 0.239247 0.28736350000000005 0.8310605\n",
      "True\n",
      "False\n",
      "False\n",
      "True\n",
      "True\n",
      "['1', '0.382274', '0.874266', '0.051104', '0.0597572']\n",
      "['0', '0.292134', '0.559932', '0.106202', '0.547951']\n",
      "['0', '0.321659', '0.559212', '0.164824', '0.543697']\n",
      "Regions:  [(458, 783, 308, 976)]\n"
     ]
    },
    {
     "name": "stderr",
     "output_type": "stream",
     "text": [
      " 36%|█████████▋                 | 437/1219 [01:00<02:24,  5.40it/s]"
     ]
    },
    {
     "name": "stdout",
     "output_type": "stream",
     "text": [
      "Cropped image /mnt/c/Adrianov/Projects/trash-detector/yolo_res/images/result_281.jpg and saved result to /mnt/c/Adrianov/Projects/trash-detector/masks/imgs/result_435_0.jpg\n",
      "/mnt/c/Adrianov/Projects/trash-detector/yolo_res/label/result_282.txt\n",
      "/mnt/c/Adrianov/Projects/trash-detector/yolo_res/images/result_282.jpg\n",
      "obj: 1, obj: 0\n",
      "0.5133162666666666 0.25316373333333336 0.6578201148148148 1.0898338851851852\n",
      "0.3465015 0.2399005 0.283117 0.821475\n",
      "True\n",
      "False\n",
      "False\n",
      "True\n",
      "True\n",
      "obj: 1, obj: 2\n",
      "0.5133162666666666 0.25316373333333336 0.6578201148148148 1.0898338851851852\n",
      "0.42298800000000003 0.240186 0.28457050000000006 0.8315455\n",
      "True\n",
      "False\n",
      "False\n",
      "True\n",
      "True\n",
      "['1', '0.38324', '0.873827', '0.0518192', '0.0616434']\n",
      "['0', '0.293201', '0.552296', '0.106601', '0.538358']\n",
      "['0', '0.331587', '0.558058', '0.182802', '0.546975']\n",
      "Regions:  [(460, 812, 305, 977)]\n",
      "Cropped image /mnt/c/Adrianov/Projects/trash-detector/yolo_res/images/result_282.jpg and saved result to /mnt/c/Adrianov/Projects/trash-detector/masks/imgs/result_436_0.jpg\n",
      "/mnt/c/Adrianov/Projects/trash-detector/yolo_res/label/result_283.txt\n",
      "/mnt/c/Adrianov/Projects/trash-detector/yolo_res/images/result_283.jpg\n"
     ]
    },
    {
     "name": "stderr",
     "output_type": "stream",
     "text": [
      " 36%|█████████▋                 | 439/1219 [01:00<02:10,  5.97it/s]"
     ]
    },
    {
     "name": "stdout",
     "output_type": "stream",
     "text": [
      "Cropped image /mnt/c/Adrianov/Projects/trash-detector/yolo_res/images/result_283.jpg and saved result to None\n",
      "/mnt/c/Adrianov/Projects/trash-detector/yolo_res/label/result_284.txt\n",
      "/mnt/c/Adrianov/Projects/trash-detector/yolo_res/images/result_284.jpg\n",
      "Cropped image /mnt/c/Adrianov/Projects/trash-detector/yolo_res/images/result_284.jpg and saved result to None\n",
      "/mnt/c/Adrianov/Projects/trash-detector/yolo_res/label/result_285.txt\n",
      "/mnt/c/Adrianov/Projects/trash-detector/yolo_res/images/result_285.jpg\n"
     ]
    },
    {
     "name": "stderr",
     "output_type": "stream",
     "text": [
      " 36%|█████████▊                 | 441/1219 [01:00<02:07,  6.12it/s]"
     ]
    },
    {
     "name": "stdout",
     "output_type": "stream",
     "text": [
      "Cropped image /mnt/c/Adrianov/Projects/trash-detector/yolo_res/images/result_285.jpg and saved result to None\n",
      "/mnt/c/Adrianov/Projects/trash-detector/yolo_res/label/result_286.txt\n",
      "/mnt/c/Adrianov/Projects/trash-detector/yolo_res/images/result_286.jpg\n",
      "Cropped image /mnt/c/Adrianov/Projects/trash-detector/yolo_res/images/result_286.jpg and saved result to None\n",
      "/mnt/c/Adrianov/Projects/trash-detector/yolo_res/label/result_287.txt\n",
      "/mnt/c/Adrianov/Projects/trash-detector/yolo_res/images/result_287.jpg\n"
     ]
    },
    {
     "name": "stderr",
     "output_type": "stream",
     "text": [
      " 36%|█████████▊                 | 442/1219 [01:00<02:09,  6.01it/s]"
     ]
    },
    {
     "name": "stdout",
     "output_type": "stream",
     "text": [
      "Cropped image /mnt/c/Adrianov/Projects/trash-detector/yolo_res/images/result_287.jpg and saved result to None\n",
      "/mnt/c/Adrianov/Projects/trash-detector/yolo_res/label/result_288.txt\n",
      "/mnt/c/Adrianov/Projects/trash-detector/yolo_res/images/result_288.jpg\n"
     ]
    },
    {
     "name": "stderr",
     "output_type": "stream",
     "text": [
      " 36%|█████████▊                 | 444/1219 [01:01<02:28,  5.22it/s]"
     ]
    },
    {
     "name": "stdout",
     "output_type": "stream",
     "text": [
      "Cropped image /mnt/c/Adrianov/Projects/trash-detector/yolo_res/images/result_288.jpg and saved result to None\n",
      "/mnt/c/Adrianov/Projects/trash-detector/yolo_res/label/result_289.txt\n",
      "/mnt/c/Adrianov/Projects/trash-detector/yolo_res/images/result_289.jpg\n",
      "Cropped image /mnt/c/Adrianov/Projects/trash-detector/yolo_res/images/result_289.jpg and saved result to None\n",
      "/mnt/c/Adrianov/Projects/trash-detector/yolo_res/label/result_29.txt\n",
      "/mnt/c/Adrianov/Projects/trash-detector/yolo_res/images/result_29.jpg\n"
     ]
    },
    {
     "name": "stderr",
     "output_type": "stream",
     "text": [
      " 37%|█████████▊                 | 445/1219 [01:01<02:35,  4.97it/s]"
     ]
    },
    {
     "name": "stdout",
     "output_type": "stream",
     "text": [
      "obj: 2, obj: 0\n",
      "0.9055036666666666 0.6474883333333333 0.7543449648148148 1.168171035185185\n",
      "0.9098515 0.7830485 0.36330850000000003 0.8932415\n",
      "True\n",
      "False\n",
      "False\n",
      "True\n",
      "True\n",
      "obj: 2, obj: 1\n",
      "0.9055036666666666 0.6474883333333333 0.7543449648148148 1.168171035185185\n",
      "0.5604606999999999 0.4766873 0.39600649999999993 0.7343875\n",
      "False\n",
      "False\n",
      "True\n",
      "False\n",
      "True\n",
      "obj: 2, obj: 3\n",
      "0.9055036666666666 0.6474883333333333 0.7543449648148148 1.168171035185185\n",
      "0.23780449999999997 -5.000000000005e-07 0.6456600000000001 0.999544\n",
      "False\n",
      "False\n",
      "True\n",
      "True\n",
      "True\n",
      "['1', '0.776496', '0.961258', '0.049682', '0.0434557']\n",
      "['0', '0.84645', '0.628275', '0.126803', '0.529933']\n",
      "Regions:  [(1443, 1746, 392, 1061)]\n",
      "Cropped image /mnt/c/Adrianov/Projects/trash-detector/yolo_res/images/result_29.jpg and saved result to /mnt/c/Adrianov/Projects/trash-detector/masks/imgs/result_444_0.jpg\n",
      "/mnt/c/Adrianov/Projects/trash-detector/yolo_res/label/result_290.txt\n",
      "/mnt/c/Adrianov/Projects/trash-detector/yolo_res/images/result_290.jpg\n"
     ]
    },
    {
     "name": "stderr",
     "output_type": "stream",
     "text": [
      " 37%|█████████▉                 | 446/1219 [01:01<02:30,  5.12it/s]"
     ]
    },
    {
     "name": "stdout",
     "output_type": "stream",
     "text": [
      "Cropped image /mnt/c/Adrianov/Projects/trash-detector/yolo_res/images/result_290.jpg and saved result to None\n",
      "/mnt/c/Adrianov/Projects/trash-detector/yolo_res/label/result_291.txt\n",
      "/mnt/c/Adrianov/Projects/trash-detector/yolo_res/images/result_291.jpg\n",
      "Cropped image /mnt/c/Adrianov/Projects/trash-detector/yolo_res/images/result_291.jpg and saved result to None\n",
      "/mnt/c/Adrianov/Projects/trash-detector/yolo_res/label/result_292.txt\n",
      "/mnt/c/Adrianov/Projects/trash-detector/yolo_res/images/result_292.jpg\n"
     ]
    },
    {
     "name": "stderr",
     "output_type": "stream",
     "text": [
      " 37%|█████████▉                 | 449/1219 [01:02<02:09,  5.94it/s]"
     ]
    },
    {
     "name": "stdout",
     "output_type": "stream",
     "text": [
      "Cropped image /mnt/c/Adrianov/Projects/trash-detector/yolo_res/images/result_292.jpg and saved result to None\n",
      "/mnt/c/Adrianov/Projects/trash-detector/yolo_res/label/result_293.txt\n",
      "/mnt/c/Adrianov/Projects/trash-detector/yolo_res/images/result_293.jpg\n",
      "obj: 1, obj: 0\n",
      "0.5140785666666666 0.25349543333333335 0.6581241148148148 1.0915338851851852\n",
      "0.347634 0.24143 0.2817125 0.8247015\n",
      "True\n",
      "False\n",
      "False\n",
      "True\n",
      "True\n",
      "['1', '0.383787', '0.874829', '0.0522498', '0.0630394']\n",
      "['0', '0.294532', '0.553207', '0.106204', '0.542989']\n",
      "Regions:  [(463, 787, 304, 978)]\n",
      "Cropped image /mnt/c/Adrianov/Projects/trash-detector/yolo_res/images/result_293.jpg and saved result to /mnt/c/Adrianov/Projects/trash-detector/masks/imgs/result_448_0.jpg\n",
      "/mnt/c/Adrianov/Projects/trash-detector/yolo_res/label/result_294.txt\n",
      "/mnt/c/Adrianov/Projects/trash-detector/yolo_res/images/result_294.jpg\n"
     ]
    },
    {
     "name": "stderr",
     "output_type": "stream",
     "text": [
      " 37%|█████████▉                 | 451/1219 [01:02<02:15,  5.66it/s]"
     ]
    },
    {
     "name": "stdout",
     "output_type": "stream",
     "text": [
      "Cropped image /mnt/c/Adrianov/Projects/trash-detector/yolo_res/images/result_294.jpg and saved result to None\n",
      "/mnt/c/Adrianov/Projects/trash-detector/yolo_res/label/result_295.txt\n",
      "/mnt/c/Adrianov/Projects/trash-detector/yolo_res/images/result_295.jpg\n",
      "Cropped image /mnt/c/Adrianov/Projects/trash-detector/yolo_res/images/result_295.jpg and saved result to None\n",
      "/mnt/c/Adrianov/Projects/trash-detector/yolo_res/label/result_296.txt\n",
      "/mnt/c/Adrianov/Projects/trash-detector/yolo_res/images/result_296.jpg\n"
     ]
    },
    {
     "name": "stderr",
     "output_type": "stream",
     "text": [
      " 37%|██████████                 | 452/1219 [01:02<02:35,  4.95it/s]"
     ]
    },
    {
     "name": "stdout",
     "output_type": "stream",
     "text": [
      "obj: 1, obj: 0\n",
      "0.5154175166666667 0.25336648333333334 0.6569013148148148 1.090886685185185\n",
      "0.3474965 0.24406150000000001 0.2821620000000001 0.8203560000000001\n",
      "True\n",
      "False\n",
      "False\n",
      "True\n",
      "True\n",
      "['1', '0.384392', '0.873894', '0.0537177', '0.063615']\n",
      "['0', '0.295779', '0.551259', '0.103435', '0.538194']\n",
      "Regions:  [(468, 789, 304, 978)]\n",
      "Cropped image /mnt/c/Adrianov/Projects/trash-detector/yolo_res/images/result_296.jpg and saved result to /mnt/c/Adrianov/Projects/trash-detector/masks/imgs/result_451_0.jpg\n",
      "/mnt/c/Adrianov/Projects/trash-detector/yolo_res/label/result_297.txt\n",
      "/mnt/c/Adrianov/Projects/trash-detector/yolo_res/images/result_297.jpg\n"
     ]
    },
    {
     "name": "stderr",
     "output_type": "stream",
     "text": [
      " 37%|██████████                 | 454/1219 [01:03<02:18,  5.51it/s]"
     ]
    },
    {
     "name": "stdout",
     "output_type": "stream",
     "text": [
      "Cropped image /mnt/c/Adrianov/Projects/trash-detector/yolo_res/images/result_297.jpg and saved result to None\n",
      "/mnt/c/Adrianov/Projects/trash-detector/yolo_res/label/result_298.txt\n",
      "/mnt/c/Adrianov/Projects/trash-detector/yolo_res/images/result_298.jpg\n",
      "Cropped image /mnt/c/Adrianov/Projects/trash-detector/yolo_res/images/result_298.jpg and saved result to None\n",
      "/mnt/c/Adrianov/Projects/trash-detector/yolo_res/label/result_299.txt\n",
      "/mnt/c/Adrianov/Projects/trash-detector/yolo_res/images/result_299.jpg\n"
     ]
    },
    {
     "name": "stderr",
     "output_type": "stream",
     "text": [
      " 37%|██████████                 | 456/1219 [01:03<01:56,  6.55it/s]"
     ]
    },
    {
     "name": "stdout",
     "output_type": "stream",
     "text": [
      "Cropped image /mnt/c/Adrianov/Projects/trash-detector/yolo_res/images/result_299.jpg and saved result to None\n",
      "/mnt/c/Adrianov/Projects/trash-detector/yolo_res/label/result_3.txt\n",
      "/mnt/c/Adrianov/Projects/trash-detector/yolo_res/images/result_3.jpg\n",
      "Cropped image /mnt/c/Adrianov/Projects/trash-detector/yolo_res/images/result_3.jpg and saved result to None\n",
      "/mnt/c/Adrianov/Projects/trash-detector/yolo_res/label/result_30.txt\n",
      "/mnt/c/Adrianov/Projects/trash-detector/yolo_res/images/result_30.jpg\n"
     ]
    },
    {
     "name": "stderr",
     "output_type": "stream",
     "text": [
      " 38%|██████████▏                | 458/1219 [01:03<01:44,  7.32it/s]"
     ]
    },
    {
     "name": "stdout",
     "output_type": "stream",
     "text": [
      "obj: 1, obj: 0\n",
      "0.7875313666666668 0.49620863333333337 0.4326953148148149 0.9674266851851852\n",
      "0.43980065 0.40208535 0.29385900000000004 0.5330130000000001\n",
      "False\n",
      "False\n",
      "True\n",
      "True\n",
      "True\n",
      "obj: 2, obj: 0\n",
      "0.43637201666666664 0.19135998333333332 0.6045958648148149 1.0284441351851852\n",
      "0.43980065 0.40208535 0.29385900000000004 0.5330130000000001\n",
      "False\n",
      "False\n",
      "False\n",
      "False\n",
      "True\n",
      "Cropped image /mnt/c/Adrianov/Projects/trash-detector/yolo_res/images/result_30.jpg and saved result to None\n",
      "/mnt/c/Adrianov/Projects/trash-detector/yolo_res/label/result_300.txt\n",
      "/mnt/c/Adrianov/Projects/trash-detector/yolo_res/images/result_300.jpg\n",
      "obj: 1, obj: 0\n",
      "0.5153992666666667 0.25330473333333337 0.6555305148148148 1.090973485185185\n",
      "0.3485295 0.2453565 0.28405149999999996 0.8259725\n",
      "True\n",
      "False\n",
      "False\n",
      "True\n",
      "True\n",
      "['1', '0.384352', '0.873252', '0.0537612', '0.0650726']\n",
      "['0', '0.296943', '0.555012', '0.103173', '0.541921']\n",
      "Regions:  [(471, 789, 306, 978)]\n",
      "Cropped image /mnt/c/Adrianov/Projects/trash-detector/yolo_res/images/result_300.jpg and saved result to /mnt/c/Adrianov/Projects/trash-detector/masks/imgs/result_457_0.jpg\n",
      "/mnt/c/Adrianov/Projects/trash-detector/yolo_res/label/result_301.txt\n",
      "/mnt/c/Adrianov/Projects/trash-detector/yolo_res/images/result_301.jpg\n"
     ]
    },
    {
     "name": "stderr",
     "output_type": "stream",
     "text": [
      " 38%|██████████▏                | 460/1219 [01:04<01:51,  6.79it/s]"
     ]
    },
    {
     "name": "stdout",
     "output_type": "stream",
     "text": [
      "Cropped image /mnt/c/Adrianov/Projects/trash-detector/yolo_res/images/result_301.jpg and saved result to None\n",
      "/mnt/c/Adrianov/Projects/trash-detector/yolo_res/label/result_302.txt\n",
      "/mnt/c/Adrianov/Projects/trash-detector/yolo_res/images/result_302.jpg\n",
      "obj: 1, obj: 0\n",
      "0.5155558666666666 0.25385213333333334 0.6563116648148148 1.0897043351851852\n",
      "0.347726 0.245552 0.28588149999999996 0.8283045\n",
      "True\n",
      "False\n",
      "False\n",
      "True\n",
      "True\n",
      "obj: 2, obj: 0\n",
      "0.8546231166666667 0.5654548833333333 0.1988504148148148 0.6638635851851852\n",
      "0.347726 0.245552 0.28588149999999996 0.8283045\n",
      "False\n",
      "False\n",
      "True\n",
      "True\n",
      "True\n",
      "['1', '0.384704', '0.873008', '0.0533704', '0.0630223']\n",
      "['0', '0.296639', '0.557093', '0.102174', '0.542423']\n",
      "Regions:  [(471, 789, 308, 976)]\n",
      "Cropped image /mnt/c/Adrianov/Projects/trash-detector/yolo_res/images/result_302.jpg and saved result to /mnt/c/Adrianov/Projects/trash-detector/masks/imgs/result_459_0.jpg\n",
      "/mnt/c/Adrianov/Projects/trash-detector/yolo_res/label/result_303.txt\n",
      "/mnt/c/Adrianov/Projects/trash-detector/yolo_res/images/result_303.jpg\n"
     ]
    },
    {
     "name": "stderr",
     "output_type": "stream",
     "text": [
      " 38%|██████████▎                | 463/1219 [01:04<01:29,  8.45it/s]"
     ]
    },
    {
     "name": "stdout",
     "output_type": "stream",
     "text": [
      "Cropped image /mnt/c/Adrianov/Projects/trash-detector/yolo_res/images/result_303.jpg and saved result to None\n",
      "/mnt/c/Adrianov/Projects/trash-detector/yolo_res/label/result_304.txt\n",
      "/mnt/c/Adrianov/Projects/trash-detector/yolo_res/images/result_304.jpg\n",
      "Cropped image /mnt/c/Adrianov/Projects/trash-detector/yolo_res/images/result_304.jpg and saved result to None\n",
      "/mnt/c/Adrianov/Projects/trash-detector/yolo_res/label/result_305.txt\n",
      "/mnt/c/Adrianov/Projects/trash-detector/yolo_res/images/result_305.jpg\n",
      "obj: 2, obj: 0\n",
      "0.32052416666666667 -0.0032981666666666576 0.4243372148148148 0.8575447851851852\n",
      "0.4364905 0.31109549999999997 0.3285285 0.9297715\n",
      "True\n",
      "False\n",
      "False\n",
      "True\n",
      "True\n",
      "obj: 2, obj: 1\n",
      "0.32052416666666667 -0.0032981666666666576 0.4243372148148148 0.8575447851851852\n",
      "0.8769899999999999 0.733044 0.386936 0.9814940000000001\n",
      "False\n",
      "True\n",
      "False\n",
      "True\n",
      "True\n",
      "['1', '0.158613', '0.640941', '0.115489', '0.0628372']\n",
      "['0', '0.373793', '0.62915', '0.125395', '0.601243']\n",
      "Regions:  [(193, 838, 354, 1004)]\n",
      "Cropped image /mnt/c/Adrianov/Projects/trash-detector/yolo_res/images/result_305.jpg and saved result to /mnt/c/Adrianov/Projects/trash-detector/masks/imgs/result_462_0.jpg\n",
      "/mnt/c/Adrianov/Projects/trash-detector/yolo_res/label/result_306.txt\n",
      "/mnt/c/Adrianov/Projects/trash-detector/yolo_res/images/result_306.jpg\n"
     ]
    },
    {
     "name": "stderr",
     "output_type": "stream",
     "text": [
      " 38%|██████████▎                | 464/1219 [01:04<01:33,  8.07it/s]"
     ]
    },
    {
     "name": "stdout",
     "output_type": "stream",
     "text": [
      "Cropped image /mnt/c/Adrianov/Projects/trash-detector/yolo_res/images/result_306.jpg and saved result to None\n",
      "/mnt/c/Adrianov/Projects/trash-detector/yolo_res/label/result_307.txt\n",
      "/mnt/c/Adrianov/Projects/trash-detector/yolo_res/images/result_307.jpg\n",
      "obj: 1, obj: 0\n",
      "0.5157613666666667 0.2542686333333333 0.6567352148148149 1.0894507851851851\n",
      "0.348449 0.248103 0.29038949999999997 0.8266924999999999\n",
      "True\n",
      "False\n",
      "False\n",
      "True\n",
      "True\n",
      "obj: 2, obj: 0\n",
      "0.8559911166666666 0.5657388833333333 0.19823986481481481 0.6634981351851852\n",
      "0.348449 0.248103 0.29038949999999997 0.8266924999999999\n",
      "False\n",
      "False\n",
      "True\n",
      "True\n",
      "True\n",
      "['1', '0.385015', '0.873093', '0.0531594', '0.0623452']\n",
      "['0', '0.298276', '0.558541', '0.100346', '0.536303']\n",
      "Regions:  [(476, 790, 313, 976)]\n",
      "Cropped image /mnt/c/Adrianov/Projects/trash-detector/yolo_res/images/result_307.jpg and saved result to /mnt/c/Adrianov/Projects/trash-detector/masks/imgs/result_464_0.jpg\n",
      "/mnt/c/Adrianov/Projects/trash-detector/yolo_res/label/result_308.txt\n",
      "/mnt/c/Adrianov/Projects/trash-detector/yolo_res/images/result_308.jpg\n"
     ]
    },
    {
     "name": "stderr",
     "output_type": "stream",
     "text": [
      " 38%|██████████▎                | 467/1219 [01:04<01:32,  8.15it/s]"
     ]
    },
    {
     "name": "stdout",
     "output_type": "stream",
     "text": [
      "Cropped image /mnt/c/Adrianov/Projects/trash-detector/yolo_res/images/result_308.jpg and saved result to None\n",
      "/mnt/c/Adrianov/Projects/trash-detector/yolo_res/label/result_309.txt\n",
      "/mnt/c/Adrianov/Projects/trash-detector/yolo_res/images/result_309.jpg\n",
      "Cropped image /mnt/c/Adrianov/Projects/trash-detector/yolo_res/images/result_309.jpg and saved result to None\n",
      "/mnt/c/Adrianov/Projects/trash-detector/yolo_res/label/result_31.txt\n",
      "/mnt/c/Adrianov/Projects/trash-detector/yolo_res/images/result_31.jpg\n"
     ]
    },
    {
     "name": "stderr",
     "output_type": "stream",
     "text": [
      " 38%|██████████▍                | 469/1219 [01:05<01:20,  9.37it/s]"
     ]
    },
    {
     "name": "stdout",
     "output_type": "stream",
     "text": [
      "Cropped image /mnt/c/Adrianov/Projects/trash-detector/yolo_res/images/result_31.jpg and saved result to None\n",
      "/mnt/c/Adrianov/Projects/trash-detector/yolo_res/label/result_310.txt\n",
      "/mnt/c/Adrianov/Projects/trash-detector/yolo_res/images/result_310.jpg\n",
      "Cropped image /mnt/c/Adrianov/Projects/trash-detector/yolo_res/images/result_310.jpg and saved result to None\n",
      "/mnt/c/Adrianov/Projects/trash-detector/yolo_res/label/result_311.txt\n",
      "/mnt/c/Adrianov/Projects/trash-detector/yolo_res/images/result_311.jpg\n"
     ]
    },
    {
     "name": "stderr",
     "output_type": "stream",
     "text": [
      " 39%|██████████▍                | 472/1219 [01:05<01:24,  8.87it/s]"
     ]
    },
    {
     "name": "stdout",
     "output_type": "stream",
     "text": [
      "Cropped image /mnt/c/Adrianov/Projects/trash-detector/yolo_res/images/result_311.jpg and saved result to None\n",
      "/mnt/c/Adrianov/Projects/trash-detector/yolo_res/label/result_312.txt\n",
      "/mnt/c/Adrianov/Projects/trash-detector/yolo_res/images/result_312.jpg\n",
      "obj: 1, obj: 0\n",
      "0.5159350666666667 0.2550969333333334 0.6568906648148148 1.0890033351851853\n",
      "0.3506495 0.24964250000000002 0.288667 0.823377\n",
      "True\n",
      "False\n",
      "False\n",
      "True\n",
      "True\n",
      "obj: 2, obj: 0\n",
      "0.8559075666666667 0.5657704333333333 0.19804991481481482 0.6607880851851852\n",
      "0.3506495 0.24964250000000002 0.288667 0.823377\n",
      "False\n",
      "False\n",
      "True\n",
      "True\n",
      "True\n",
      "['1', '0.385516', '0.872947', '0.0525048', '0.0617423']\n",
      "['0', '0.300146', '0.556022', '0.101007', '0.53471']\n",
      "Regions:  [(479, 790, 311, 976)]\n",
      "Cropped image /mnt/c/Adrianov/Projects/trash-detector/yolo_res/images/result_312.jpg and saved result to /mnt/c/Adrianov/Projects/trash-detector/masks/imgs/result_470_0.jpg\n",
      "/mnt/c/Adrianov/Projects/trash-detector/yolo_res/label/result_313.txt\n",
      "/mnt/c/Adrianov/Projects/trash-detector/yolo_res/images/result_313.jpg\n",
      "Cropped image /mnt/c/Adrianov/Projects/trash-detector/yolo_res/images/result_313.jpg and saved result to None\n",
      "/mnt/c/Adrianov/Projects/trash-detector/yolo_res/label/result_314.txt\n",
      "/mnt/c/Adrianov/Projects/trash-detector/yolo_res/images/result_314.jpg\n"
     ]
    },
    {
     "name": "stderr",
     "output_type": "stream",
     "text": [
      " 39%|██████████▍                | 474/1219 [01:05<01:42,  7.23it/s]"
     ]
    },
    {
     "name": "stdout",
     "output_type": "stream",
     "text": [
      "Cropped image /mnt/c/Adrianov/Projects/trash-detector/yolo_res/images/result_314.jpg and saved result to None\n",
      "/mnt/c/Adrianov/Projects/trash-detector/yolo_res/label/result_315.txt\n",
      "/mnt/c/Adrianov/Projects/trash-detector/yolo_res/images/result_315.jpg\n",
      "Cropped image /mnt/c/Adrianov/Projects/trash-detector/yolo_res/images/result_315.jpg and saved result to None\n",
      "/mnt/c/Adrianov/Projects/trash-detector/yolo_res/label/result_316.txt\n",
      "/mnt/c/Adrianov/Projects/trash-detector/yolo_res/images/result_316.jpg\n"
     ]
    },
    {
     "name": "stderr",
     "output_type": "stream",
     "text": [
      " 39%|██████████▌                | 475/1219 [01:05<01:57,  6.35it/s]"
     ]
    },
    {
     "name": "stdout",
     "output_type": "stream",
     "text": [
      "obj: 1, obj: 0\n",
      "0.5161477666666667 0.25569823333333336 0.6568959148148148 1.0884220851851851\n",
      "0.35331900000000005 0.250533 0.29036749999999995 0.8204285\n",
      "True\n",
      "False\n",
      "False\n",
      "True\n",
      "True\n",
      "obj: 2, obj: 0\n",
      "0.8574527166666667 0.5656872833333334 0.1980746148148148 0.6618253851851852\n",
      "0.35331900000000005 0.250533 0.29036749999999995 0.8204285\n",
      "False\n",
      "False\n",
      "True\n",
      "True\n",
      "True\n",
      "obj: 3, obj: 0\n",
      "0.6870839666666667 0.4379480333333333 0.14883951481481486 0.6140344851851852\n",
      "0.35331900000000005 0.250533 0.29036749999999995 0.8204285\n",
      "False\n",
      "False\n",
      "True\n",
      "True\n",
      "True\n",
      "['1', '0.385923', '0.872659', '0.0521162', '0.0611558']\n",
      "['0', '0.301926', '0.555398', '0.102786', '0.530061']\n",
      "Regions:  [(481, 791, 313, 975)]\n",
      "Cropped image /mnt/c/Adrianov/Projects/trash-detector/yolo_res/images/result_316.jpg and saved result to /mnt/c/Adrianov/Projects/trash-detector/masks/imgs/result_474_0.jpg\n",
      "/mnt/c/Adrianov/Projects/trash-detector/yolo_res/label/result_317.txt\n",
      "/mnt/c/Adrianov/Projects/trash-detector/yolo_res/images/result_317.jpg\n"
     ]
    },
    {
     "name": "stderr",
     "output_type": "stream",
     "text": [
      " 39%|██████████▌                | 477/1219 [01:06<01:59,  6.18it/s]"
     ]
    },
    {
     "name": "stdout",
     "output_type": "stream",
     "text": [
      "Cropped image /mnt/c/Adrianov/Projects/trash-detector/yolo_res/images/result_317.jpg and saved result to None\n",
      "/mnt/c/Adrianov/Projects/trash-detector/yolo_res/label/result_318.txt\n",
      "/mnt/c/Adrianov/Projects/trash-detector/yolo_res/images/result_318.jpg\n",
      "Cropped image /mnt/c/Adrianov/Projects/trash-detector/yolo_res/images/result_318.jpg and saved result to None\n",
      "/mnt/c/Adrianov/Projects/trash-detector/yolo_res/label/result_319.txt\n",
      "/mnt/c/Adrianov/Projects/trash-detector/yolo_res/images/result_319.jpg\n"
     ]
    },
    {
     "name": "stderr",
     "output_type": "stream",
     "text": [
      " 39%|██████████▌                | 478/1219 [01:06<02:10,  5.68it/s]"
     ]
    },
    {
     "name": "stdout",
     "output_type": "stream",
     "text": [
      "obj: 1, obj: 0\n",
      "0.5162159166666667 0.2550280833333334 0.6553322148148149 1.0880837851851852\n",
      "0.35014104999999995 0.25338295 0.28988499999999995 0.820641\n",
      "True\n",
      "False\n",
      "False\n",
      "True\n",
      "True\n",
      "obj: 2, obj: 0\n",
      "0.8561675666666666 0.5657464333333333 0.19801236481481482 0.6612776351851852\n",
      "0.35014104999999995 0.25338295 0.28988499999999995 0.820641\n",
      "False\n",
      "False\n",
      "True\n",
      "True\n",
      "True\n",
      "['1', '0.385622', '0.871708', '0.0528545', '0.0623812']\n",
      "['0', '0.301762', '0.555263', '0.0967581', '0.530756']\n",
      "Regions:  [(486, 791, 313, 975)]\n",
      "Cropped image /mnt/c/Adrianov/Projects/trash-detector/yolo_res/images/result_319.jpg and saved result to /mnt/c/Adrianov/Projects/trash-detector/masks/imgs/result_477_0.jpg\n",
      "/mnt/c/Adrianov/Projects/trash-detector/yolo_res/label/result_32.txt\n",
      "/mnt/c/Adrianov/Projects/trash-detector/yolo_res/images/result_32.jpg\n"
     ]
    },
    {
     "name": "stderr",
     "output_type": "stream",
     "text": [
      " 39%|██████████▌                | 479/1219 [01:06<02:10,  5.69it/s]"
     ]
    },
    {
     "name": "stdout",
     "output_type": "stream",
     "text": [
      "Cropped image /mnt/c/Adrianov/Projects/trash-detector/yolo_res/images/result_32.jpg and saved result to None\n",
      "/mnt/c/Adrianov/Projects/trash-detector/yolo_res/label/result_320.txt\n",
      "/mnt/c/Adrianov/Projects/trash-detector/yolo_res/images/result_320.jpg\n",
      "Cropped image /mnt/c/Adrianov/Projects/trash-detector/yolo_res/images/result_320.jpg and saved result to None\n",
      "/mnt/c/Adrianov/Projects/trash-detector/yolo_res/label/result_321.txt\n",
      "/mnt/c/Adrianov/Projects/trash-detector/yolo_res/images/result_321.jpg\n"
     ]
    },
    {
     "name": "stderr",
     "output_type": "stream",
     "text": [
      " 40%|██████████▋                | 482/1219 [01:07<01:56,  6.35it/s]"
     ]
    },
    {
     "name": "stdout",
     "output_type": "stream",
     "text": [
      "Cropped image /mnt/c/Adrianov/Projects/trash-detector/yolo_res/images/result_321.jpg and saved result to None\n",
      "/mnt/c/Adrianov/Projects/trash-detector/yolo_res/label/result_322.txt\n",
      "/mnt/c/Adrianov/Projects/trash-detector/yolo_res/images/result_322.jpg\n",
      "Cropped image /mnt/c/Adrianov/Projects/trash-detector/yolo_res/images/result_322.jpg and saved result to None\n",
      "/mnt/c/Adrianov/Projects/trash-detector/yolo_res/label/result_323.txt\n",
      "/mnt/c/Adrianov/Projects/trash-detector/yolo_res/images/result_323.jpg\n"
     ]
    },
    {
     "name": "stderr",
     "output_type": "stream",
     "text": [
      " 40%|██████████▋                | 483/1219 [01:07<01:59,  6.17it/s]"
     ]
    },
    {
     "name": "stdout",
     "output_type": "stream",
     "text": [
      "obj: 1, obj: 0\n",
      "0.5165183166666667 0.2546976833333333 0.6531056148148148 1.0884743851851852\n",
      "0.35012719999999997 0.2548888 0.28876499999999994 0.816325\n",
      "True\n",
      "False\n",
      "False\n",
      "True\n",
      "True\n",
      "obj: 2, obj: 0\n",
      "0.5406118666666667 0.30954013333333336 0.4952848148148148 0.9210651851851852\n",
      "0.35012719999999997 0.2548888 0.28876499999999994 0.816325\n",
      "True\n",
      "False\n",
      "False\n",
      "True\n",
      "True\n",
      "obj: 3, obj: 0\n",
      "0.8558380166666666 0.5661239833333334 0.19778926481481485 0.6613207351851852\n",
      "0.35012719999999997 0.2548888 0.28876499999999994 0.816325\n",
      "False\n",
      "False\n",
      "True\n",
      "True\n",
      "True\n",
      "['1', '0.385608', '0.87079', '0.0534873', '0.0649984']\n",
      "['0', '0.302508', '0.552545', '0.0952384', '0.52756']\n",
      "Regions:  [(489, 791, 311, 975)]\n",
      "['1', '0.425076', '0.708175', '0.0227384', '0.05541']\n",
      "['0', '0.302508', '0.552545', '0.0952384', '0.52756']\n",
      "Regions:  [(489, 791, 311, 975), (489, 837, 311, 881)]\n",
      "Cropped image /mnt/c/Adrianov/Projects/trash-detector/yolo_res/images/result_323.jpg and saved result to /mnt/c/Adrianov/Projects/trash-detector/masks/imgs/result_482_0.jpg\n",
      "/mnt/c/Adrianov/Projects/trash-detector/yolo_res/label/result_324.txt\n",
      "/mnt/c/Adrianov/Projects/trash-detector/yolo_res/images/result_324.jpg\n"
     ]
    },
    {
     "name": "stderr",
     "output_type": "stream",
     "text": [
      " 40%|██████████▋                | 484/1219 [01:09<07:11,  1.70it/s]"
     ]
    },
    {
     "name": "stdout",
     "output_type": "stream",
     "text": [
      "Cropped image /mnt/c/Adrianov/Projects/trash-detector/yolo_res/images/result_324.jpg and saved result to None\n",
      "/mnt/c/Adrianov/Projects/trash-detector/yolo_res/label/result_325.txt\n",
      "/mnt/c/Adrianov/Projects/trash-detector/yolo_res/images/result_325.jpg\n"
     ]
    },
    {
     "name": "stderr",
     "output_type": "stream",
     "text": [
      " 40%|██████████▋                | 485/1219 [01:09<06:01,  2.03it/s]"
     ]
    },
    {
     "name": "stdout",
     "output_type": "stream",
     "text": [
      "Cropped image /mnt/c/Adrianov/Projects/trash-detector/yolo_res/images/result_325.jpg and saved result to None\n",
      "/mnt/c/Adrianov/Projects/trash-detector/yolo_res/label/result_326.txt\n",
      "/mnt/c/Adrianov/Projects/trash-detector/yolo_res/images/result_326.jpg\n"
     ]
    },
    {
     "name": "stderr",
     "output_type": "stream",
     "text": [
      " 40%|██████████▊                | 487/1219 [01:09<04:12,  2.90it/s]"
     ]
    },
    {
     "name": "stdout",
     "output_type": "stream",
     "text": [
      "Cropped image /mnt/c/Adrianov/Projects/trash-detector/yolo_res/images/result_326.jpg and saved result to None\n",
      "/mnt/c/Adrianov/Projects/trash-detector/yolo_res/label/result_327.txt\n",
      "/mnt/c/Adrianov/Projects/trash-detector/yolo_res/images/result_327.jpg\n",
      "obj: 1, obj: 0\n",
      "0.5165544666666667 0.25480153333333333 0.6536545148148147 1.0868134851851852\n",
      "0.35151235 0.25609765 0.28841700000000003 0.807837\n",
      "True\n",
      "False\n",
      "False\n",
      "True\n",
      "True\n",
      "obj: 2, obj: 0\n",
      "0.5400584166666667 0.30892358333333336 0.4931422148148149 0.9212657851851852\n",
      "0.35151235 0.25609765 0.28841700000000003 0.807837\n",
      "True\n",
      "False\n",
      "False\n",
      "True\n",
      "True\n",
      "obj: 3, obj: 0\n",
      "0.8562952666666666 0.5666067333333333 0.19699311481481485 0.6590048851851852\n",
      "0.35151235 0.25609765 0.28841700000000003 0.807837\n",
      "False\n",
      "False\n",
      "True\n",
      "True\n",
      "True\n",
      "['1', '0.385678', '0.870234', '0.0534196', '0.0627886']\n",
      "['0', '0.303805', '0.548127', '0.0954147', '0.51942']\n",
      "Regions:  [(491, 791, 311, 973)]\n",
      "['1', '0.424491', '0.707204', '0.0228015', '0.0577532']\n",
      "['0', '0.303805', '0.548127', '0.0954147', '0.51942']\n",
      "Regions:  [(491, 791, 311, 973), (491, 836, 311, 872)]\n",
      "Cropped image /mnt/c/Adrianov/Projects/trash-detector/yolo_res/images/result_327.jpg and saved result to /mnt/c/Adrianov/Projects/trash-detector/masks/imgs/result_486_0.jpg\n",
      "/mnt/c/Adrianov/Projects/trash-detector/yolo_res/label/result_328.txt\n",
      "/mnt/c/Adrianov/Projects/trash-detector/yolo_res/images/result_328.jpg\n"
     ]
    },
    {
     "name": "stderr",
     "output_type": "stream",
     "text": [
      " 40%|██████████▊                | 488/1219 [01:09<03:25,  3.55it/s]"
     ]
    },
    {
     "name": "stdout",
     "output_type": "stream",
     "text": [
      "Cropped image /mnt/c/Adrianov/Projects/trash-detector/yolo_res/images/result_328.jpg and saved result to None\n",
      "/mnt/c/Adrianov/Projects/trash-detector/yolo_res/label/result_329.txt\n",
      "/mnt/c/Adrianov/Projects/trash-detector/yolo_res/images/result_329.jpg\n",
      "Cropped image /mnt/c/Adrianov/Projects/trash-detector/yolo_res/images/result_329.jpg and saved result to None\n",
      "/mnt/c/Adrianov/Projects/trash-detector/yolo_res/label/result_33.txt\n",
      "/mnt/c/Adrianov/Projects/trash-detector/yolo_res/images/result_33.jpg\n"
     ]
    },
    {
     "name": "stderr",
     "output_type": "stream",
     "text": [
      " 40%|██████████▉                | 491/1219 [01:10<02:14,  5.43it/s]"
     ]
    },
    {
     "name": "stdout",
     "output_type": "stream",
     "text": [
      "Cropped image /mnt/c/Adrianov/Projects/trash-detector/yolo_res/images/result_33.jpg and saved result to None\n",
      "/mnt/c/Adrianov/Projects/trash-detector/yolo_res/label/result_330.txt\n",
      "/mnt/c/Adrianov/Projects/trash-detector/yolo_res/images/result_330.jpg\n",
      "Cropped image /mnt/c/Adrianov/Projects/trash-detector/yolo_res/images/result_330.jpg and saved result to None\n",
      "/mnt/c/Adrianov/Projects/trash-detector/yolo_res/label/result_331.txt\n",
      "/mnt/c/Adrianov/Projects/trash-detector/yolo_res/images/result_331.jpg\n"
     ]
    },
    {
     "name": "stderr",
     "output_type": "stream",
     "text": [
      " 40%|██████████▉                | 492/1219 [01:10<02:22,  5.11it/s]"
     ]
    },
    {
     "name": "stdout",
     "output_type": "stream",
     "text": [
      "Cropped image /mnt/c/Adrianov/Projects/trash-detector/yolo_res/images/result_331.jpg and saved result to None\n",
      "/mnt/c/Adrianov/Projects/trash-detector/yolo_res/label/result_332.txt\n",
      "/mnt/c/Adrianov/Projects/trash-detector/yolo_res/images/result_332.jpg\n"
     ]
    },
    {
     "name": "stderr",
     "output_type": "stream",
     "text": [
      " 41%|██████████▉                | 494/1219 [01:10<02:16,  5.31it/s]"
     ]
    },
    {
     "name": "stdout",
     "output_type": "stream",
     "text": [
      "Cropped image /mnt/c/Adrianov/Projects/trash-detector/yolo_res/images/result_332.jpg and saved result to None\n",
      "/mnt/c/Adrianov/Projects/trash-detector/yolo_res/label/result_333.txt\n",
      "/mnt/c/Adrianov/Projects/trash-detector/yolo_res/images/result_333.jpg\n",
      "Cropped image /mnt/c/Adrianov/Projects/trash-detector/yolo_res/images/result_333.jpg and saved result to None\n",
      "/mnt/c/Adrianov/Projects/trash-detector/yolo_res/label/result_334.txt\n",
      "/mnt/c/Adrianov/Projects/trash-detector/yolo_res/images/result_334.jpg\n"
     ]
    },
    {
     "name": "stderr",
     "output_type": "stream",
     "text": [
      " 41%|██████████▉                | 496/1219 [01:11<01:52,  6.44it/s]"
     ]
    },
    {
     "name": "stdout",
     "output_type": "stream",
     "text": [
      "obj: 1, obj: 0\n",
      "0.5160412666666667 0.25499073333333333 0.6535408148148147 1.0850811851851851\n",
      "0.3507051 0.2582729 0.28895449999999995 0.8148314999999999\n",
      "True\n",
      "False\n",
      "False\n",
      "True\n",
      "True\n",
      "obj: 2, obj: 0\n",
      "0.5423185666666667 0.3083614333333333 0.4949910648148148 0.9176529351851852\n",
      "0.3507051 0.2582729 0.28895449999999995 0.8148314999999999\n",
      "True\n",
      "False\n",
      "False\n",
      "True\n",
      "True\n",
      "obj: 3, obj: 0\n",
      "0.8594295166666668 0.5680204833333333 0.19589651481481485 0.6581214851851852\n",
      "0.3507051 0.2582729 0.28895449999999995 0.8148314999999999\n",
      "False\n",
      "False\n",
      "True\n",
      "True\n",
      "True\n",
      "['1', '0.385516', '0.869311', '0.0527172', '0.06117']\n",
      "['0', '0.304489', '0.551893', '0.0924322', '0.525877']\n",
      "Regions:  [(495, 790, 312, 971)]\n",
      "['1', '0.42534', '0.706322', '0.0256238', '0.0522915']\n",
      "['0', '0.304489', '0.551893', '0.0924322', '0.525877']\n",
      "Regions:  [(495, 790, 312, 971), (495, 841, 312, 880)]\n",
      "Cropped image /mnt/c/Adrianov/Projects/trash-detector/yolo_res/images/result_334.jpg and saved result to /mnt/c/Adrianov/Projects/trash-detector/masks/imgs/result_494_0.jpg\n",
      "/mnt/c/Adrianov/Projects/trash-detector/yolo_res/label/result_335.txt\n",
      "/mnt/c/Adrianov/Projects/trash-detector/yolo_res/images/result_335.jpg\n",
      "Cropped image /mnt/c/Adrianov/Projects/trash-detector/yolo_res/images/result_335.jpg and saved result to None\n",
      "/mnt/c/Adrianov/Projects/trash-detector/yolo_res/label/result_336.txt\n",
      "/mnt/c/Adrianov/Projects/trash-detector/yolo_res/images/result_336.jpg\n"
     ]
    },
    {
     "name": "stderr",
     "output_type": "stream",
     "text": [
      " 41%|███████████                | 498/1219 [01:11<01:47,  6.70it/s]"
     ]
    },
    {
     "name": "stdout",
     "output_type": "stream",
     "text": [
      "Cropped image /mnt/c/Adrianov/Projects/trash-detector/yolo_res/images/result_336.jpg and saved result to None\n",
      "/mnt/c/Adrianov/Projects/trash-detector/yolo_res/label/result_337.txt\n",
      "/mnt/c/Adrianov/Projects/trash-detector/yolo_res/images/result_337.jpg\n",
      "Cropped image /mnt/c/Adrianov/Projects/trash-detector/yolo_res/images/result_337.jpg and saved result to None\n",
      "/mnt/c/Adrianov/Projects/trash-detector/yolo_res/label/result_338.txt\n",
      "/mnt/c/Adrianov/Projects/trash-detector/yolo_res/images/result_338.jpg\n"
     ]
    },
    {
     "name": "stderr",
     "output_type": "stream",
     "text": [
      " 41%|███████████                | 499/1219 [01:11<01:48,  6.65it/s]"
     ]
    },
    {
     "name": "stdout",
     "output_type": "stream",
     "text": [
      "Cropped image /mnt/c/Adrianov/Projects/trash-detector/yolo_res/images/result_338.jpg and saved result to None\n",
      "/mnt/c/Adrianov/Projects/trash-detector/yolo_res/label/result_339.txt\n",
      "/mnt/c/Adrianov/Projects/trash-detector/yolo_res/images/result_339.jpg\n"
     ]
    },
    {
     "name": "stderr",
     "output_type": "stream",
     "text": [
      " 41%|███████████                | 501/1219 [01:11<02:05,  5.71it/s]"
     ]
    },
    {
     "name": "stdout",
     "output_type": "stream",
     "text": [
      "Cropped image /mnt/c/Adrianov/Projects/trash-detector/yolo_res/images/result_339.jpg and saved result to None\n",
      "/mnt/c/Adrianov/Projects/trash-detector/yolo_res/label/result_34.txt\n",
      "/mnt/c/Adrianov/Projects/trash-detector/yolo_res/images/result_34.jpg\n",
      "Cropped image /mnt/c/Adrianov/Projects/trash-detector/yolo_res/images/result_34.jpg and saved result to None\n",
      "/mnt/c/Adrianov/Projects/trash-detector/yolo_res/label/result_340.txt\n",
      "/mnt/c/Adrianov/Projects/trash-detector/yolo_res/images/result_340.jpg\n"
     ]
    },
    {
     "name": "stderr",
     "output_type": "stream",
     "text": [
      " 41%|███████████▏               | 503/1219 [01:12<02:09,  5.53it/s]"
     ]
    },
    {
     "name": "stdout",
     "output_type": "stream",
     "text": [
      "Cropped image /mnt/c/Adrianov/Projects/trash-detector/yolo_res/images/result_340.jpg and saved result to None\n",
      "/mnt/c/Adrianov/Projects/trash-detector/yolo_res/label/result_341.txt\n",
      "/mnt/c/Adrianov/Projects/trash-detector/yolo_res/images/result_341.jpg\n",
      "Cropped image /mnt/c/Adrianov/Projects/trash-detector/yolo_res/images/result_341.jpg and saved result to None\n",
      "/mnt/c/Adrianov/Projects/trash-detector/yolo_res/label/result_342.txt\n",
      "/mnt/c/Adrianov/Projects/trash-detector/yolo_res/images/result_342.jpg\n"
     ]
    },
    {
     "name": "stderr",
     "output_type": "stream",
     "text": [
      " 41%|███████████▏               | 504/1219 [01:12<02:20,  5.09it/s]"
     ]
    },
    {
     "name": "stdout",
     "output_type": "stream",
     "text": [
      "Cropped image /mnt/c/Adrianov/Projects/trash-detector/yolo_res/images/result_342.jpg and saved result to None\n",
      "/mnt/c/Adrianov/Projects/trash-detector/yolo_res/label/result_343.txt\n",
      "/mnt/c/Adrianov/Projects/trash-detector/yolo_res/images/result_343.jpg\n"
     ]
    },
    {
     "name": "stderr",
     "output_type": "stream",
     "text": [
      " 42%|███████████▏               | 506/1219 [01:12<02:21,  5.03it/s]"
     ]
    },
    {
     "name": "stdout",
     "output_type": "stream",
     "text": [
      "Cropped image /mnt/c/Adrianov/Projects/trash-detector/yolo_res/images/result_343.jpg and saved result to None\n",
      "/mnt/c/Adrianov/Projects/trash-detector/yolo_res/label/result_344.txt\n",
      "/mnt/c/Adrianov/Projects/trash-detector/yolo_res/images/result_344.jpg\n",
      "Cropped image /mnt/c/Adrianov/Projects/trash-detector/yolo_res/images/result_344.jpg and saved result to None\n",
      "/mnt/c/Adrianov/Projects/trash-detector/yolo_res/label/result_345.txt\n",
      "/mnt/c/Adrianov/Projects/trash-detector/yolo_res/images/result_345.jpg\n"
     ]
    },
    {
     "name": "stderr",
     "output_type": "stream",
     "text": [
      " 42%|███████████▎               | 508/1219 [01:13<01:54,  6.20it/s]"
     ]
    },
    {
     "name": "stdout",
     "output_type": "stream",
     "text": [
      "Cropped image /mnt/c/Adrianov/Projects/trash-detector/yolo_res/images/result_345.jpg and saved result to None\n",
      "/mnt/c/Adrianov/Projects/trash-detector/yolo_res/label/result_346.txt\n",
      "/mnt/c/Adrianov/Projects/trash-detector/yolo_res/images/result_346.jpg\n",
      "Cropped image /mnt/c/Adrianov/Projects/trash-detector/yolo_res/images/result_346.jpg and saved result to None\n",
      "/mnt/c/Adrianov/Projects/trash-detector/yolo_res/label/result_347.txt\n",
      "/mnt/c/Adrianov/Projects/trash-detector/yolo_res/images/result_347.jpg\n"
     ]
    },
    {
     "name": "stderr",
     "output_type": "stream",
     "text": [
      " 42%|███████████▎               | 510/1219 [01:13<02:01,  5.84it/s]"
     ]
    },
    {
     "name": "stdout",
     "output_type": "stream",
     "text": [
      "Cropped image /mnt/c/Adrianov/Projects/trash-detector/yolo_res/images/result_347.jpg and saved result to None\n",
      "/mnt/c/Adrianov/Projects/trash-detector/yolo_res/label/result_348.txt\n",
      "/mnt/c/Adrianov/Projects/trash-detector/yolo_res/images/result_348.jpg\n",
      "Cropped image /mnt/c/Adrianov/Projects/trash-detector/yolo_res/images/result_348.jpg and saved result to None\n",
      "/mnt/c/Adrianov/Projects/trash-detector/yolo_res/label/result_349.txt\n",
      "/mnt/c/Adrianov/Projects/trash-detector/yolo_res/images/result_349.jpg\n"
     ]
    },
    {
     "name": "stderr",
     "output_type": "stream",
     "text": [
      " 42%|███████████▎               | 512/1219 [01:13<01:59,  5.94it/s]"
     ]
    },
    {
     "name": "stdout",
     "output_type": "stream",
     "text": [
      "Cropped image /mnt/c/Adrianov/Projects/trash-detector/yolo_res/images/result_349.jpg and saved result to None\n",
      "/mnt/c/Adrianov/Projects/trash-detector/yolo_res/label/result_35.txt\n",
      "/mnt/c/Adrianov/Projects/trash-detector/yolo_res/images/result_35.jpg\n",
      "obj: 3, obj: 0\n",
      "0.9053946666666667 0.6476393333333333 0.7541290148148148 1.1699969851851852\n",
      "0.9171125 0.7812315000000001 0.3590295 0.8959585\n",
      "True\n",
      "False\n",
      "False\n",
      "True\n",
      "True\n",
      "obj: 3, obj: 1\n",
      "0.9053946666666667 0.6476393333333333 0.7541290148148148 1.1699969851851852\n",
      "0.5620442999999999 0.4795657 0.3970250000000001 0.744595\n",
      "False\n",
      "False\n",
      "True\n",
      "False\n",
      "True\n",
      "obj: 3, obj: 2\n",
      "0.9053946666666667 0.6476393333333333 0.7541290148148148 1.1699969851851852\n",
      "0.246236 0.0 0.6416465 0.9999994999999999\n",
      "False\n",
      "False\n",
      "True\n",
      "True\n",
      "True\n",
      "['1', '0.776517', '0.962063', '0.049422', '0.0454976']\n",
      "['0', '0.849172', '0.627494', '0.135881', '0.536929']\n",
      "Regions:  [(1443, 1760, 387, 1063)]\n",
      "Cropped image /mnt/c/Adrianov/Projects/trash-detector/yolo_res/images/result_35.jpg and saved result to /mnt/c/Adrianov/Projects/trash-detector/masks/imgs/result_511_0.jpg\n",
      "/mnt/c/Adrianov/Projects/trash-detector/yolo_res/label/result_350.txt\n",
      "/mnt/c/Adrianov/Projects/trash-detector/yolo_res/images/result_350.jpg\n"
     ]
    },
    {
     "name": "stderr",
     "output_type": "stream",
     "text": [
      " 42%|███████████▍               | 514/1219 [01:14<01:40,  7.04it/s]"
     ]
    },
    {
     "name": "stdout",
     "output_type": "stream",
     "text": [
      "Cropped image /mnt/c/Adrianov/Projects/trash-detector/yolo_res/images/result_350.jpg and saved result to None\n",
      "/mnt/c/Adrianov/Projects/trash-detector/yolo_res/label/result_351.txt\n",
      "/mnt/c/Adrianov/Projects/trash-detector/yolo_res/images/result_351.jpg\n",
      "Cropped image /mnt/c/Adrianov/Projects/trash-detector/yolo_res/images/result_351.jpg and saved result to None\n",
      "/mnt/c/Adrianov/Projects/trash-detector/yolo_res/label/result_352.txt\n",
      "/mnt/c/Adrianov/Projects/trash-detector/yolo_res/images/result_352.jpg\n"
     ]
    },
    {
     "name": "stderr",
     "output_type": "stream",
     "text": [
      " 42%|███████████▍               | 515/1219 [01:14<01:45,  6.69it/s]"
     ]
    },
    {
     "name": "stdout",
     "output_type": "stream",
     "text": [
      "Cropped image /mnt/c/Adrianov/Projects/trash-detector/yolo_res/images/result_352.jpg and saved result to None\n",
      "/mnt/c/Adrianov/Projects/trash-detector/yolo_res/label/result_353.txt\n",
      "/mnt/c/Adrianov/Projects/trash-detector/yolo_res/images/result_353.jpg\n"
     ]
    },
    {
     "name": "stderr",
     "output_type": "stream",
     "text": [
      " 42%|███████████▍               | 516/1219 [01:14<01:56,  6.04it/s]"
     ]
    },
    {
     "name": "stdout",
     "output_type": "stream",
     "text": [
      "Cropped image /mnt/c/Adrianov/Projects/trash-detector/yolo_res/images/result_353.jpg and saved result to None\n",
      "/mnt/c/Adrianov/Projects/trash-detector/yolo_res/label/result_354.txt\n",
      "/mnt/c/Adrianov/Projects/trash-detector/yolo_res/images/result_354.jpg\n"
     ]
    },
    {
     "name": "stderr",
     "output_type": "stream",
     "text": [
      " 42%|███████████▍               | 518/1219 [01:14<01:51,  6.27it/s]"
     ]
    },
    {
     "name": "stdout",
     "output_type": "stream",
     "text": [
      "Cropped image /mnt/c/Adrianov/Projects/trash-detector/yolo_res/images/result_354.jpg and saved result to None\n",
      "/mnt/c/Adrianov/Projects/trash-detector/yolo_res/label/result_355.txt\n",
      "/mnt/c/Adrianov/Projects/trash-detector/yolo_res/images/result_355.jpg\n",
      "Cropped image /mnt/c/Adrianov/Projects/trash-detector/yolo_res/images/result_355.jpg and saved result to None\n",
      "/mnt/c/Adrianov/Projects/trash-detector/yolo_res/label/result_356.txt\n",
      "/mnt/c/Adrianov/Projects/trash-detector/yolo_res/images/result_356.jpg\n"
     ]
    },
    {
     "name": "stderr",
     "output_type": "stream",
     "text": [
      " 43%|███████████▌               | 520/1219 [01:15<01:59,  5.83it/s]"
     ]
    },
    {
     "name": "stdout",
     "output_type": "stream",
     "text": [
      "Cropped image /mnt/c/Adrianov/Projects/trash-detector/yolo_res/images/result_356.jpg and saved result to None\n",
      "/mnt/c/Adrianov/Projects/trash-detector/yolo_res/label/result_357.txt\n",
      "/mnt/c/Adrianov/Projects/trash-detector/yolo_res/images/result_357.jpg\n",
      "Cropped image /mnt/c/Adrianov/Projects/trash-detector/yolo_res/images/result_357.jpg and saved result to None\n",
      "/mnt/c/Adrianov/Projects/trash-detector/yolo_res/label/result_358.txt\n",
      "/mnt/c/Adrianov/Projects/trash-detector/yolo_res/images/result_358.jpg\n"
     ]
    },
    {
     "name": "stderr",
     "output_type": "stream",
     "text": [
      " 43%|███████████▌               | 522/1219 [01:15<01:57,  5.93it/s]"
     ]
    },
    {
     "name": "stdout",
     "output_type": "stream",
     "text": [
      "Cropped image /mnt/c/Adrianov/Projects/trash-detector/yolo_res/images/result_358.jpg and saved result to None\n",
      "/mnt/c/Adrianov/Projects/trash-detector/yolo_res/label/result_359.txt\n",
      "/mnt/c/Adrianov/Projects/trash-detector/yolo_res/images/result_359.jpg\n",
      "Cropped image /mnt/c/Adrianov/Projects/trash-detector/yolo_res/images/result_359.jpg and saved result to None\n",
      "/mnt/c/Adrianov/Projects/trash-detector/yolo_res/label/result_36.txt\n",
      "/mnt/c/Adrianov/Projects/trash-detector/yolo_res/images/result_36.jpg\n"
     ]
    },
    {
     "name": "stderr",
     "output_type": "stream",
     "text": [
      " 43%|███████████▌               | 524/1219 [01:15<01:59,  5.81it/s]"
     ]
    },
    {
     "name": "stdout",
     "output_type": "stream",
     "text": [
      "Cropped image /mnt/c/Adrianov/Projects/trash-detector/yolo_res/images/result_36.jpg and saved result to None\n",
      "/mnt/c/Adrianov/Projects/trash-detector/yolo_res/label/result_360.txt\n",
      "/mnt/c/Adrianov/Projects/trash-detector/yolo_res/images/result_360.jpg\n",
      "Cropped image /mnt/c/Adrianov/Projects/trash-detector/yolo_res/images/result_360.jpg and saved result to None\n",
      "/mnt/c/Adrianov/Projects/trash-detector/yolo_res/label/result_361.txt\n",
      "/mnt/c/Adrianov/Projects/trash-detector/yolo_res/images/result_361.jpg\n"
     ]
    },
    {
     "name": "stderr",
     "output_type": "stream",
     "text": [
      " 43%|███████████▋               | 526/1219 [01:16<01:57,  5.88it/s]"
     ]
    },
    {
     "name": "stdout",
     "output_type": "stream",
     "text": [
      "Cropped image /mnt/c/Adrianov/Projects/trash-detector/yolo_res/images/result_361.jpg and saved result to None\n",
      "/mnt/c/Adrianov/Projects/trash-detector/yolo_res/label/result_362.txt\n",
      "/mnt/c/Adrianov/Projects/trash-detector/yolo_res/images/result_362.jpg\n",
      "Cropped image /mnt/c/Adrianov/Projects/trash-detector/yolo_res/images/result_362.jpg and saved result to None\n",
      "/mnt/c/Adrianov/Projects/trash-detector/yolo_res/label/result_363.txt\n",
      "/mnt/c/Adrianov/Projects/trash-detector/yolo_res/images/result_363.jpg\n"
     ]
    },
    {
     "name": "stderr",
     "output_type": "stream",
     "text": [
      " 43%|███████████▋               | 527/1219 [01:16<01:57,  5.88it/s]"
     ]
    },
    {
     "name": "stdout",
     "output_type": "stream",
     "text": [
      "Cropped image /mnt/c/Adrianov/Projects/trash-detector/yolo_res/images/result_363.jpg and saved result to None\n",
      "/mnt/c/Adrianov/Projects/trash-detector/yolo_res/label/result_364.txt\n",
      "/mnt/c/Adrianov/Projects/trash-detector/yolo_res/images/result_364.jpg\n"
     ]
    },
    {
     "name": "stderr",
     "output_type": "stream",
     "text": [
      " 43%|███████████▋               | 528/1219 [01:16<02:14,  5.16it/s]"
     ]
    },
    {
     "name": "stdout",
     "output_type": "stream",
     "text": [
      "Cropped image /mnt/c/Adrianov/Projects/trash-detector/yolo_res/images/result_364.jpg and saved result to None\n",
      "/mnt/c/Adrianov/Projects/trash-detector/yolo_res/label/result_365.txt\n",
      "/mnt/c/Adrianov/Projects/trash-detector/yolo_res/images/result_365.jpg\n"
     ]
    },
    {
     "name": "stderr",
     "output_type": "stream",
     "text": [
      " 43%|███████████▋               | 529/1219 [01:16<02:20,  4.92it/s]"
     ]
    },
    {
     "name": "stdout",
     "output_type": "stream",
     "text": [
      "Cropped image /mnt/c/Adrianov/Projects/trash-detector/yolo_res/images/result_365.jpg and saved result to None\n",
      "/mnt/c/Adrianov/Projects/trash-detector/yolo_res/label/result_366.txt\n",
      "/mnt/c/Adrianov/Projects/trash-detector/yolo_res/images/result_366.jpg\n"
     ]
    },
    {
     "name": "stderr",
     "output_type": "stream",
     "text": [
      " 43%|███████████▋               | 530/1219 [01:17<02:25,  4.74it/s]"
     ]
    },
    {
     "name": "stdout",
     "output_type": "stream",
     "text": [
      "Cropped image /mnt/c/Adrianov/Projects/trash-detector/yolo_res/images/result_366.jpg and saved result to None\n",
      "/mnt/c/Adrianov/Projects/trash-detector/yolo_res/label/result_367.txt\n",
      "/mnt/c/Adrianov/Projects/trash-detector/yolo_res/images/result_367.jpg\n"
     ]
    },
    {
     "name": "stderr",
     "output_type": "stream",
     "text": [
      " 44%|███████████▊               | 531/1219 [01:17<02:23,  4.80it/s]"
     ]
    },
    {
     "name": "stdout",
     "output_type": "stream",
     "text": [
      "Cropped image /mnt/c/Adrianov/Projects/trash-detector/yolo_res/images/result_367.jpg and saved result to None\n",
      "/mnt/c/Adrianov/Projects/trash-detector/yolo_res/label/result_368.txt\n",
      "/mnt/c/Adrianov/Projects/trash-detector/yolo_res/images/result_368.jpg\n"
     ]
    },
    {
     "name": "stderr",
     "output_type": "stream",
     "text": [
      " 44%|███████████▊               | 533/1219 [01:17<02:08,  5.32it/s]"
     ]
    },
    {
     "name": "stdout",
     "output_type": "stream",
     "text": [
      "Cropped image /mnt/c/Adrianov/Projects/trash-detector/yolo_res/images/result_368.jpg and saved result to None\n",
      "/mnt/c/Adrianov/Projects/trash-detector/yolo_res/label/result_369.txt\n",
      "/mnt/c/Adrianov/Projects/trash-detector/yolo_res/images/result_369.jpg\n",
      "Cropped image /mnt/c/Adrianov/Projects/trash-detector/yolo_res/images/result_369.jpg and saved result to None\n",
      "/mnt/c/Adrianov/Projects/trash-detector/yolo_res/label/result_37.txt\n",
      "/mnt/c/Adrianov/Projects/trash-detector/yolo_res/images/result_37.jpg\n",
      "obj: 3, obj: 0\n",
      "0.9054838166666667 0.6484681833333333 0.7535845148148148 1.171263485185185\n",
      "0.921534 0.791926 0.350944 0.880236\n",
      "True\n",
      "False\n",
      "False\n",
      "True\n",
      "True\n",
      "obj: 3, obj: 1\n",
      "0.9054838166666667 0.6484681833333333 0.7535845148148148 1.171263485185185\n",
      "0.56370825 0.47602175 0.4014 0.749144\n",
      "False\n",
      "False\n",
      "True\n",
      "False\n",
      "True\n",
      "obj: 3, obj: 2\n",
      "0.9054838166666667 0.6484681833333333 0.7535845148148148 1.171263485185185\n",
      "0.249534 0.0 0.6443415 1.0000005\n",
      "False\n",
      "False\n",
      "True\n",
      "True\n",
      "True\n"
     ]
    },
    {
     "name": "stderr",
     "output_type": "stream",
     "text": [
      " 44%|███████████▊               | 535/1219 [01:17<01:46,  6.40it/s]"
     ]
    },
    {
     "name": "stdout",
     "output_type": "stream",
     "text": [
      "['1', '0.776976', '0.962424', '0.0486823', '0.0473086']\n",
      "['0', '0.85673', '0.61559', '0.129608', '0.529292']\n",
      "Regions:  [(1445, 1769, 379, 1064)]\n",
      "Cropped image /mnt/c/Adrianov/Projects/trash-detector/yolo_res/images/result_37.jpg and saved result to /mnt/c/Adrianov/Projects/trash-detector/masks/imgs/result_533_0.jpg\n",
      "/mnt/c/Adrianov/Projects/trash-detector/yolo_res/label/result_370.txt\n",
      "/mnt/c/Adrianov/Projects/trash-detector/yolo_res/images/result_370.jpg\n",
      "Cropped image /mnt/c/Adrianov/Projects/trash-detector/yolo_res/images/result_370.jpg and saved result to None\n",
      "/mnt/c/Adrianov/Projects/trash-detector/yolo_res/label/result_371.txt\n",
      "/mnt/c/Adrianov/Projects/trash-detector/yolo_res/images/result_371.jpg\n"
     ]
    },
    {
     "name": "stderr",
     "output_type": "stream",
     "text": [
      " 44%|███████████▉               | 537/1219 [01:18<01:42,  6.66it/s]"
     ]
    },
    {
     "name": "stdout",
     "output_type": "stream",
     "text": [
      "Cropped image /mnt/c/Adrianov/Projects/trash-detector/yolo_res/images/result_371.jpg and saved result to None\n",
      "/mnt/c/Adrianov/Projects/trash-detector/yolo_res/label/result_372.txt\n",
      "/mnt/c/Adrianov/Projects/trash-detector/yolo_res/images/result_372.jpg\n",
      "Cropped image /mnt/c/Adrianov/Projects/trash-detector/yolo_res/images/result_372.jpg and saved result to None\n",
      "/mnt/c/Adrianov/Projects/trash-detector/yolo_res/label/result_373.txt\n",
      "/mnt/c/Adrianov/Projects/trash-detector/yolo_res/images/result_373.jpg\n"
     ]
    },
    {
     "name": "stderr",
     "output_type": "stream",
     "text": [
      " 44%|███████████▉               | 538/1219 [01:18<01:37,  6.97it/s]"
     ]
    },
    {
     "name": "stdout",
     "output_type": "stream",
     "text": [
      "Cropped image /mnt/c/Adrianov/Projects/trash-detector/yolo_res/images/result_373.jpg and saved result to None\n",
      "/mnt/c/Adrianov/Projects/trash-detector/yolo_res/label/result_374.txt\n",
      "/mnt/c/Adrianov/Projects/trash-detector/yolo_res/images/result_374.jpg\n"
     ]
    },
    {
     "name": "stderr",
     "output_type": "stream",
     "text": [
      " 44%|███████████▉               | 539/1219 [01:18<02:01,  5.61it/s]"
     ]
    },
    {
     "name": "stdout",
     "output_type": "stream",
     "text": [
      "Cropped image /mnt/c/Adrianov/Projects/trash-detector/yolo_res/images/result_374.jpg and saved result to None\n",
      "/mnt/c/Adrianov/Projects/trash-detector/yolo_res/label/result_375.txt\n",
      "/mnt/c/Adrianov/Projects/trash-detector/yolo_res/images/result_375.jpg\n"
     ]
    },
    {
     "name": "stderr",
     "output_type": "stream",
     "text": [
      " 44%|███████████▉               | 541/1219 [01:18<01:54,  5.92it/s]"
     ]
    },
    {
     "name": "stdout",
     "output_type": "stream",
     "text": [
      "Cropped image /mnt/c/Adrianov/Projects/trash-detector/yolo_res/images/result_375.jpg and saved result to None\n",
      "/mnt/c/Adrianov/Projects/trash-detector/yolo_res/label/result_376.txt\n",
      "/mnt/c/Adrianov/Projects/trash-detector/yolo_res/images/result_376.jpg\n",
      "Cropped image /mnt/c/Adrianov/Projects/trash-detector/yolo_res/images/result_376.jpg and saved result to None\n",
      "/mnt/c/Adrianov/Projects/trash-detector/yolo_res/label/result_377.txt\n",
      "/mnt/c/Adrianov/Projects/trash-detector/yolo_res/images/result_377.jpg\n"
     ]
    },
    {
     "name": "stderr",
     "output_type": "stream",
     "text": [
      " 45%|████████████               | 543/1219 [01:19<01:48,  6.22it/s]"
     ]
    },
    {
     "name": "stdout",
     "output_type": "stream",
     "text": [
      "Cropped image /mnt/c/Adrianov/Projects/trash-detector/yolo_res/images/result_377.jpg and saved result to None\n",
      "/mnt/c/Adrianov/Projects/trash-detector/yolo_res/label/result_378.txt\n",
      "/mnt/c/Adrianov/Projects/trash-detector/yolo_res/images/result_378.jpg\n",
      "Cropped image /mnt/c/Adrianov/Projects/trash-detector/yolo_res/images/result_378.jpg and saved result to None\n",
      "/mnt/c/Adrianov/Projects/trash-detector/yolo_res/label/result_379.txt\n",
      "/mnt/c/Adrianov/Projects/trash-detector/yolo_res/images/result_379.jpg\n"
     ]
    },
    {
     "name": "stderr",
     "output_type": "stream",
     "text": [
      " 45%|████████████               | 545/1219 [01:19<01:37,  6.91it/s]"
     ]
    },
    {
     "name": "stdout",
     "output_type": "stream",
     "text": [
      "Cropped image /mnt/c/Adrianov/Projects/trash-detector/yolo_res/images/result_379.jpg and saved result to None\n",
      "/mnt/c/Adrianov/Projects/trash-detector/yolo_res/label/result_38.txt\n",
      "/mnt/c/Adrianov/Projects/trash-detector/yolo_res/images/result_38.jpg\n",
      "Cropped image /mnt/c/Adrianov/Projects/trash-detector/yolo_res/images/result_38.jpg and saved result to None\n",
      "/mnt/c/Adrianov/Projects/trash-detector/yolo_res/label/result_380.txt\n",
      "/mnt/c/Adrianov/Projects/trash-detector/yolo_res/images/result_380.jpg\n"
     ]
    },
    {
     "name": "stderr",
     "output_type": "stream",
     "text": [
      " 45%|████████████               | 547/1219 [01:19<01:30,  7.42it/s]"
     ]
    },
    {
     "name": "stdout",
     "output_type": "stream",
     "text": [
      "Cropped image /mnt/c/Adrianov/Projects/trash-detector/yolo_res/images/result_380.jpg and saved result to None\n",
      "/mnt/c/Adrianov/Projects/trash-detector/yolo_res/label/result_381.txt\n",
      "/mnt/c/Adrianov/Projects/trash-detector/yolo_res/images/result_381.jpg\n",
      "Cropped image /mnt/c/Adrianov/Projects/trash-detector/yolo_res/images/result_381.jpg and saved result to None\n",
      "/mnt/c/Adrianov/Projects/trash-detector/yolo_res/label/result_382.txt\n",
      "/mnt/c/Adrianov/Projects/trash-detector/yolo_res/images/result_382.jpg\n"
     ]
    },
    {
     "name": "stderr",
     "output_type": "stream",
     "text": [
      " 45%|████████████▏              | 549/1219 [01:19<01:26,  7.76it/s]"
     ]
    },
    {
     "name": "stdout",
     "output_type": "stream",
     "text": [
      "Cropped image /mnt/c/Adrianov/Projects/trash-detector/yolo_res/images/result_382.jpg and saved result to None\n",
      "/mnt/c/Adrianov/Projects/trash-detector/yolo_res/label/result_383.txt\n",
      "/mnt/c/Adrianov/Projects/trash-detector/yolo_res/images/result_383.jpg\n",
      "Cropped image /mnt/c/Adrianov/Projects/trash-detector/yolo_res/images/result_383.jpg and saved result to None\n",
      "/mnt/c/Adrianov/Projects/trash-detector/yolo_res/label/result_384.txt\n",
      "/mnt/c/Adrianov/Projects/trash-detector/yolo_res/images/result_384.jpg\n"
     ]
    },
    {
     "name": "stderr",
     "output_type": "stream",
     "text": [
      " 45%|████████████▏              | 550/1219 [01:20<01:22,  8.07it/s]"
     ]
    },
    {
     "name": "stdout",
     "output_type": "stream",
     "text": [
      "Cropped image /mnt/c/Adrianov/Projects/trash-detector/yolo_res/images/result_384.jpg and saved result to None\n",
      "/mnt/c/Adrianov/Projects/trash-detector/yolo_res/label/result_385.txt\n",
      "/mnt/c/Adrianov/Projects/trash-detector/yolo_res/images/result_385.jpg\n",
      "Cropped image /mnt/c/Adrianov/Projects/trash-detector/yolo_res/images/result_385.jpg and saved result to None\n",
      "/mnt/c/Adrianov/Projects/trash-detector/yolo_res/label/result_386.txt\n",
      "/mnt/c/Adrianov/Projects/trash-detector/yolo_res/images/result_386.jpg\n",
      "Cropped image /mnt/c/Adrianov/Projects/trash-detector/yolo_res/images/result_386.jpg and saved result to None\n"
     ]
    },
    {
     "name": "stderr",
     "output_type": "stream",
     "text": [
      " 45%|████████████▏              | 553/1219 [01:20<01:14,  8.96it/s]"
     ]
    },
    {
     "name": "stdout",
     "output_type": "stream",
     "text": [
      "/mnt/c/Adrianov/Projects/trash-detector/yolo_res/label/result_387.txt\n",
      "/mnt/c/Adrianov/Projects/trash-detector/yolo_res/images/result_387.jpg\n",
      "Cropped image /mnt/c/Adrianov/Projects/trash-detector/yolo_res/images/result_387.jpg and saved result to None\n",
      "/mnt/c/Adrianov/Projects/trash-detector/yolo_res/label/result_388.txt\n",
      "/mnt/c/Adrianov/Projects/trash-detector/yolo_res/images/result_388.jpg\n"
     ]
    },
    {
     "name": "stderr",
     "output_type": "stream",
     "text": [
      " 46%|████████████▎              | 555/1219 [01:20<01:17,  8.61it/s]"
     ]
    },
    {
     "name": "stdout",
     "output_type": "stream",
     "text": [
      "Cropped image /mnt/c/Adrianov/Projects/trash-detector/yolo_res/images/result_388.jpg and saved result to None\n",
      "/mnt/c/Adrianov/Projects/trash-detector/yolo_res/label/result_389.txt\n",
      "/mnt/c/Adrianov/Projects/trash-detector/yolo_res/images/result_389.jpg\n",
      "Cropped image /mnt/c/Adrianov/Projects/trash-detector/yolo_res/images/result_389.jpg and saved result to None\n",
      "/mnt/c/Adrianov/Projects/trash-detector/yolo_res/label/result_39.txt\n",
      "/mnt/c/Adrianov/Projects/trash-detector/yolo_res/images/result_39.jpg\n"
     ]
    },
    {
     "name": "stderr",
     "output_type": "stream",
     "text": [
      " 46%|████████████▎              | 557/1219 [01:20<01:37,  6.80it/s]"
     ]
    },
    {
     "name": "stdout",
     "output_type": "stream",
     "text": [
      "Cropped image /mnt/c/Adrianov/Projects/trash-detector/yolo_res/images/result_39.jpg and saved result to None\n",
      "/mnt/c/Adrianov/Projects/trash-detector/yolo_res/label/result_390.txt\n",
      "/mnt/c/Adrianov/Projects/trash-detector/yolo_res/images/result_390.jpg\n",
      "Cropped image /mnt/c/Adrianov/Projects/trash-detector/yolo_res/images/result_390.jpg and saved result to None\n",
      "/mnt/c/Adrianov/Projects/trash-detector/yolo_res/label/result_391.txt\n",
      "/mnt/c/Adrianov/Projects/trash-detector/yolo_res/images/result_391.jpg\n"
     ]
    },
    {
     "name": "stderr",
     "output_type": "stream",
     "text": [
      " 46%|████████████▍              | 559/1219 [01:21<01:36,  6.85it/s]"
     ]
    },
    {
     "name": "stdout",
     "output_type": "stream",
     "text": [
      "Cropped image /mnt/c/Adrianov/Projects/trash-detector/yolo_res/images/result_391.jpg and saved result to None\n",
      "/mnt/c/Adrianov/Projects/trash-detector/yolo_res/label/result_392.txt\n",
      "/mnt/c/Adrianov/Projects/trash-detector/yolo_res/images/result_392.jpg\n",
      "Cropped image /mnt/c/Adrianov/Projects/trash-detector/yolo_res/images/result_392.jpg and saved result to None\n",
      "/mnt/c/Adrianov/Projects/trash-detector/yolo_res/label/result_393.txt\n",
      "/mnt/c/Adrianov/Projects/trash-detector/yolo_res/images/result_393.jpg\n"
     ]
    },
    {
     "name": "stderr",
     "output_type": "stream",
     "text": [
      " 46%|████████████▍              | 561/1219 [01:21<01:27,  7.49it/s]"
     ]
    },
    {
     "name": "stdout",
     "output_type": "stream",
     "text": [
      "Cropped image /mnt/c/Adrianov/Projects/trash-detector/yolo_res/images/result_393.jpg and saved result to None\n",
      "/mnt/c/Adrianov/Projects/trash-detector/yolo_res/label/result_394.txt\n",
      "/mnt/c/Adrianov/Projects/trash-detector/yolo_res/images/result_394.jpg\n",
      "Cropped image /mnt/c/Adrianov/Projects/trash-detector/yolo_res/images/result_394.jpg and saved result to None\n",
      "/mnt/c/Adrianov/Projects/trash-detector/yolo_res/label/result_395.txt\n",
      "/mnt/c/Adrianov/Projects/trash-detector/yolo_res/images/result_395.jpg\n"
     ]
    },
    {
     "name": "stderr",
     "output_type": "stream",
     "text": [
      " 46%|████████████▍              | 563/1219 [01:21<01:39,  6.59it/s]"
     ]
    },
    {
     "name": "stdout",
     "output_type": "stream",
     "text": [
      "Cropped image /mnt/c/Adrianov/Projects/trash-detector/yolo_res/images/result_395.jpg and saved result to None\n",
      "/mnt/c/Adrianov/Projects/trash-detector/yolo_res/label/result_396.txt\n",
      "/mnt/c/Adrianov/Projects/trash-detector/yolo_res/images/result_396.jpg\n",
      "Cropped image /mnt/c/Adrianov/Projects/trash-detector/yolo_res/images/result_396.jpg and saved result to None\n",
      "/mnt/c/Adrianov/Projects/trash-detector/yolo_res/label/result_397.txt\n",
      "/mnt/c/Adrianov/Projects/trash-detector/yolo_res/images/result_397.jpg\n"
     ]
    },
    {
     "name": "stderr",
     "output_type": "stream",
     "text": [
      " 46%|████████████▌              | 565/1219 [01:22<01:45,  6.19it/s]"
     ]
    },
    {
     "name": "stdout",
     "output_type": "stream",
     "text": [
      "Cropped image /mnt/c/Adrianov/Projects/trash-detector/yolo_res/images/result_397.jpg and saved result to None\n",
      "/mnt/c/Adrianov/Projects/trash-detector/yolo_res/label/result_398.txt\n",
      "/mnt/c/Adrianov/Projects/trash-detector/yolo_res/images/result_398.jpg\n",
      "Cropped image /mnt/c/Adrianov/Projects/trash-detector/yolo_res/images/result_398.jpg and saved result to None\n",
      "/mnt/c/Adrianov/Projects/trash-detector/yolo_res/label/result_399.txt\n",
      "/mnt/c/Adrianov/Projects/trash-detector/yolo_res/images/result_399.jpg\n"
     ]
    },
    {
     "name": "stderr",
     "output_type": "stream",
     "text": [
      " 47%|████████████▌              | 567/1219 [01:22<01:55,  5.64it/s]"
     ]
    },
    {
     "name": "stdout",
     "output_type": "stream",
     "text": [
      "Cropped image /mnt/c/Adrianov/Projects/trash-detector/yolo_res/images/result_399.jpg and saved result to None\n",
      "/mnt/c/Adrianov/Projects/trash-detector/yolo_res/label/result_4.txt\n",
      "/mnt/c/Adrianov/Projects/trash-detector/yolo_res/images/result_4.jpg\n",
      "Cropped image /mnt/c/Adrianov/Projects/trash-detector/yolo_res/images/result_4.jpg and saved result to None\n",
      "/mnt/c/Adrianov/Projects/trash-detector/yolo_res/label/result_40.txt\n",
      "/mnt/c/Adrianov/Projects/trash-detector/yolo_res/images/result_40.jpg\n"
     ]
    },
    {
     "name": "stderr",
     "output_type": "stream",
     "text": [
      " 47%|████████████▌              | 568/1219 [01:22<01:53,  5.72it/s]"
     ]
    },
    {
     "name": "stdout",
     "output_type": "stream",
     "text": [
      "obj: 2, obj: 0\n",
      "0.9056478666666666 0.6483341333333333 0.7540355648148148 1.171966435185185\n",
      "0.925377 0.7982049999999999 0.3529335 0.8773365\n",
      "True\n",
      "False\n",
      "False\n",
      "True\n",
      "True\n",
      "obj: 2, obj: 1\n",
      "0.9056478666666666 0.6483341333333333 0.7540355648148148 1.171966435185185\n",
      "0.56713705 0.47587295 0.403825 0.765421\n",
      "False\n",
      "False\n",
      "True\n",
      "True\n",
      "True\n",
      "obj: 2, obj: 3\n",
      "0.9056478666666666 0.6483341333333333 0.7540355648148148 1.171966435185185\n",
      "0.24741449999999998 -5.000000000005e-07 0.6458015 1.0000005\n",
      "False\n",
      "False\n",
      "True\n",
      "True\n",
      "True\n",
      "['1', '0.776991', '0.963001', '0.0489804', '0.0475605']\n",
      "['0', '0.861791', '0.615135', '0.127172', '0.524403']\n",
      "Regions:  [(1444, 1776, 381, 1065)]\n",
      "Cropped image /mnt/c/Adrianov/Projects/trash-detector/yolo_res/images/result_40.jpg and saved result to /mnt/c/Adrianov/Projects/trash-detector/masks/imgs/result_567_0.jpg\n",
      "/mnt/c/Adrianov/Projects/trash-detector/yolo_res/label/result_400.txt\n",
      "/mnt/c/Adrianov/Projects/trash-detector/yolo_res/images/result_400.jpg\n"
     ]
    },
    {
     "name": "stderr",
     "output_type": "stream",
     "text": [
      " 47%|████████████▋              | 570/1219 [01:23<01:48,  5.99it/s]"
     ]
    },
    {
     "name": "stdout",
     "output_type": "stream",
     "text": [
      "Cropped image /mnt/c/Adrianov/Projects/trash-detector/yolo_res/images/result_400.jpg and saved result to None\n",
      "/mnt/c/Adrianov/Projects/trash-detector/yolo_res/label/result_401.txt\n",
      "/mnt/c/Adrianov/Projects/trash-detector/yolo_res/images/result_401.jpg\n",
      "Cropped image /mnt/c/Adrianov/Projects/trash-detector/yolo_res/images/result_401.jpg and saved result to None\n",
      "/mnt/c/Adrianov/Projects/trash-detector/yolo_res/label/result_402.txt\n",
      "/mnt/c/Adrianov/Projects/trash-detector/yolo_res/images/result_402.jpg\n"
     ]
    },
    {
     "name": "stderr",
     "output_type": "stream",
     "text": [
      " 47%|████████████▋              | 572/1219 [01:23<01:50,  5.87it/s]"
     ]
    },
    {
     "name": "stdout",
     "output_type": "stream",
     "text": [
      "Cropped image /mnt/c/Adrianov/Projects/trash-detector/yolo_res/images/result_402.jpg and saved result to None\n",
      "/mnt/c/Adrianov/Projects/trash-detector/yolo_res/label/result_403.txt\n",
      "/mnt/c/Adrianov/Projects/trash-detector/yolo_res/images/result_403.jpg\n",
      "Cropped image /mnt/c/Adrianov/Projects/trash-detector/yolo_res/images/result_403.jpg and saved result to None\n",
      "/mnt/c/Adrianov/Projects/trash-detector/yolo_res/label/result_404.txt\n",
      "/mnt/c/Adrianov/Projects/trash-detector/yolo_res/images/result_404.jpg\n"
     ]
    },
    {
     "name": "stderr",
     "output_type": "stream",
     "text": [
      " 47%|████████████▋              | 574/1219 [01:23<01:58,  5.44it/s]"
     ]
    },
    {
     "name": "stdout",
     "output_type": "stream",
     "text": [
      "Cropped image /mnt/c/Adrianov/Projects/trash-detector/yolo_res/images/result_404.jpg and saved result to None\n",
      "/mnt/c/Adrianov/Projects/trash-detector/yolo_res/label/result_405.txt\n",
      "/mnt/c/Adrianov/Projects/trash-detector/yolo_res/images/result_405.jpg\n",
      "Cropped image /mnt/c/Adrianov/Projects/trash-detector/yolo_res/images/result_405.jpg and saved result to None\n",
      "/mnt/c/Adrianov/Projects/trash-detector/yolo_res/label/result_406.txt\n",
      "/mnt/c/Adrianov/Projects/trash-detector/yolo_res/images/result_406.jpg\n"
     ]
    },
    {
     "name": "stderr",
     "output_type": "stream",
     "text": [
      " 47%|████████████▊              | 576/1219 [01:24<02:04,  5.15it/s]"
     ]
    },
    {
     "name": "stdout",
     "output_type": "stream",
     "text": [
      "Cropped image /mnt/c/Adrianov/Projects/trash-detector/yolo_res/images/result_406.jpg and saved result to None\n",
      "/mnt/c/Adrianov/Projects/trash-detector/yolo_res/label/result_407.txt\n",
      "/mnt/c/Adrianov/Projects/trash-detector/yolo_res/images/result_407.jpg\n",
      "Cropped image /mnt/c/Adrianov/Projects/trash-detector/yolo_res/images/result_407.jpg and saved result to None\n",
      "/mnt/c/Adrianov/Projects/trash-detector/yolo_res/label/result_408.txt\n",
      "/mnt/c/Adrianov/Projects/trash-detector/yolo_res/images/result_408.jpg\n"
     ]
    },
    {
     "name": "stderr",
     "output_type": "stream",
     "text": [
      " 47%|████████████▊              | 577/1219 [01:24<01:51,  5.75it/s]"
     ]
    },
    {
     "name": "stdout",
     "output_type": "stream",
     "text": [
      "Cropped image /mnt/c/Adrianov/Projects/trash-detector/yolo_res/images/result_408.jpg and saved result to None\n",
      "/mnt/c/Adrianov/Projects/trash-detector/yolo_res/label/result_409.txt\n",
      "/mnt/c/Adrianov/Projects/trash-detector/yolo_res/images/result_409.jpg\n"
     ]
    },
    {
     "name": "stderr",
     "output_type": "stream",
     "text": [
      " 47%|████████████▊              | 578/1219 [01:24<02:07,  5.03it/s]"
     ]
    },
    {
     "name": "stdout",
     "output_type": "stream",
     "text": [
      "Cropped image /mnt/c/Adrianov/Projects/trash-detector/yolo_res/images/result_409.jpg and saved result to None\n",
      "/mnt/c/Adrianov/Projects/trash-detector/yolo_res/label/result_41.txt\n",
      "/mnt/c/Adrianov/Projects/trash-detector/yolo_res/images/result_41.jpg\n"
     ]
    },
    {
     "name": "stderr",
     "output_type": "stream",
     "text": [
      " 47%|████████████▊              | 579/1219 [01:24<02:12,  4.84it/s]"
     ]
    },
    {
     "name": "stdout",
     "output_type": "stream",
     "text": [
      "Cropped image /mnt/c/Adrianov/Projects/trash-detector/yolo_res/images/result_41.jpg and saved result to None\n",
      "/mnt/c/Adrianov/Projects/trash-detector/yolo_res/label/result_410.txt\n",
      "/mnt/c/Adrianov/Projects/trash-detector/yolo_res/images/result_410.jpg\n"
     ]
    },
    {
     "name": "stderr",
     "output_type": "stream",
     "text": [
      " 48%|████████████▊              | 580/1219 [01:25<02:22,  4.49it/s]"
     ]
    },
    {
     "name": "stdout",
     "output_type": "stream",
     "text": [
      "Cropped image /mnt/c/Adrianov/Projects/trash-detector/yolo_res/images/result_410.jpg and saved result to None\n",
      "/mnt/c/Adrianov/Projects/trash-detector/yolo_res/label/result_411.txt\n",
      "/mnt/c/Adrianov/Projects/trash-detector/yolo_res/images/result_411.jpg\n",
      "Cropped image /mnt/c/Adrianov/Projects/trash-detector/yolo_res/images/result_411.jpg and saved result to None\n"
     ]
    },
    {
     "name": "stderr",
     "output_type": "stream",
     "text": [
      " 48%|████████████▉              | 582/1219 [01:25<02:09,  4.91it/s]"
     ]
    },
    {
     "name": "stdout",
     "output_type": "stream",
     "text": [
      "/mnt/c/Adrianov/Projects/trash-detector/yolo_res/label/result_412.txt\n",
      "/mnt/c/Adrianov/Projects/trash-detector/yolo_res/images/result_412.jpg\n",
      "Cropped image /mnt/c/Adrianov/Projects/trash-detector/yolo_res/images/result_412.jpg and saved result to None\n",
      "/mnt/c/Adrianov/Projects/trash-detector/yolo_res/label/result_413.txt\n",
      "/mnt/c/Adrianov/Projects/trash-detector/yolo_res/images/result_413.jpg\n"
     ]
    },
    {
     "name": "stderr",
     "output_type": "stream",
     "text": [
      " 48%|████████████▉              | 583/1219 [01:25<02:14,  4.74it/s]"
     ]
    },
    {
     "name": "stdout",
     "output_type": "stream",
     "text": [
      "Cropped image /mnt/c/Adrianov/Projects/trash-detector/yolo_res/images/result_413.jpg and saved result to None\n",
      "/mnt/c/Adrianov/Projects/trash-detector/yolo_res/label/result_414.txt\n",
      "/mnt/c/Adrianov/Projects/trash-detector/yolo_res/images/result_414.jpg\n"
     ]
    },
    {
     "name": "stderr",
     "output_type": "stream",
     "text": [
      " 48%|████████████▉              | 584/1219 [01:25<02:22,  4.46it/s]"
     ]
    },
    {
     "name": "stdout",
     "output_type": "stream",
     "text": [
      "Cropped image /mnt/c/Adrianov/Projects/trash-detector/yolo_res/images/result_414.jpg and saved result to None\n",
      "/mnt/c/Adrianov/Projects/trash-detector/yolo_res/label/result_415.txt\n",
      "/mnt/c/Adrianov/Projects/trash-detector/yolo_res/images/result_415.jpg\n"
     ]
    },
    {
     "name": "stderr",
     "output_type": "stream",
     "text": [
      " 48%|████████████▉              | 585/1219 [01:26<02:20,  4.51it/s]"
     ]
    },
    {
     "name": "stdout",
     "output_type": "stream",
     "text": [
      "Cropped image /mnt/c/Adrianov/Projects/trash-detector/yolo_res/images/result_415.jpg and saved result to None\n",
      "/mnt/c/Adrianov/Projects/trash-detector/yolo_res/label/result_416.txt\n",
      "/mnt/c/Adrianov/Projects/trash-detector/yolo_res/images/result_416.jpg\n",
      "Cropped image /mnt/c/Adrianov/Projects/trash-detector/yolo_res/images/result_416.jpg and saved result to None\n"
     ]
    },
    {
     "name": "stderr",
     "output_type": "stream",
     "text": [
      " 48%|████████████▉              | 586/1219 [01:26<02:16,  4.65it/s]"
     ]
    },
    {
     "name": "stdout",
     "output_type": "stream",
     "text": [
      "/mnt/c/Adrianov/Projects/trash-detector/yolo_res/label/result_417.txt\n",
      "/mnt/c/Adrianov/Projects/trash-detector/yolo_res/images/result_417.jpg\n"
     ]
    },
    {
     "name": "stderr",
     "output_type": "stream",
     "text": [
      " 48%|█████████████              | 587/1219 [01:26<02:18,  4.55it/s]"
     ]
    },
    {
     "name": "stdout",
     "output_type": "stream",
     "text": [
      "Cropped image /mnt/c/Adrianov/Projects/trash-detector/yolo_res/images/result_417.jpg and saved result to None\n",
      "/mnt/c/Adrianov/Projects/trash-detector/yolo_res/label/result_418.txt\n",
      "/mnt/c/Adrianov/Projects/trash-detector/yolo_res/images/result_418.jpg\n"
     ]
    },
    {
     "name": "stderr",
     "output_type": "stream",
     "text": [
      " 48%|█████████████              | 589/1219 [01:27<02:10,  4.83it/s]"
     ]
    },
    {
     "name": "stdout",
     "output_type": "stream",
     "text": [
      "Cropped image /mnt/c/Adrianov/Projects/trash-detector/yolo_res/images/result_418.jpg and saved result to None\n",
      "/mnt/c/Adrianov/Projects/trash-detector/yolo_res/label/result_419.txt\n",
      "/mnt/c/Adrianov/Projects/trash-detector/yolo_res/images/result_419.jpg\n",
      "Cropped image /mnt/c/Adrianov/Projects/trash-detector/yolo_res/images/result_419.jpg and saved result to None\n",
      "/mnt/c/Adrianov/Projects/trash-detector/yolo_res/label/result_42.txt\n",
      "/mnt/c/Adrianov/Projects/trash-detector/yolo_res/images/result_42.jpg\n"
     ]
    },
    {
     "name": "stderr",
     "output_type": "stream",
     "text": [
      " 48%|█████████████              | 590/1219 [01:27<02:09,  4.84it/s]"
     ]
    },
    {
     "name": "stdout",
     "output_type": "stream",
     "text": [
      "Cropped image /mnt/c/Adrianov/Projects/trash-detector/yolo_res/images/result_42.jpg and saved result to None\n",
      "/mnt/c/Adrianov/Projects/trash-detector/yolo_res/label/result_420.txt\n",
      "/mnt/c/Adrianov/Projects/trash-detector/yolo_res/images/result_420.jpg\n"
     ]
    },
    {
     "name": "stderr",
     "output_type": "stream",
     "text": [
      " 48%|█████████████              | 591/1219 [01:27<02:10,  4.83it/s]"
     ]
    },
    {
     "name": "stdout",
     "output_type": "stream",
     "text": [
      "Cropped image /mnt/c/Adrianov/Projects/trash-detector/yolo_res/images/result_420.jpg and saved result to None\n",
      "/mnt/c/Adrianov/Projects/trash-detector/yolo_res/label/result_421.txt\n",
      "/mnt/c/Adrianov/Projects/trash-detector/yolo_res/images/result_421.jpg\n"
     ]
    },
    {
     "name": "stderr",
     "output_type": "stream",
     "text": [
      " 49%|█████████████              | 592/1219 [01:27<02:18,  4.52it/s]"
     ]
    },
    {
     "name": "stdout",
     "output_type": "stream",
     "text": [
      "Cropped image /mnt/c/Adrianov/Projects/trash-detector/yolo_res/images/result_421.jpg and saved result to None\n",
      "/mnt/c/Adrianov/Projects/trash-detector/yolo_res/label/result_422.txt\n",
      "/mnt/c/Adrianov/Projects/trash-detector/yolo_res/images/result_422.jpg\n"
     ]
    },
    {
     "name": "stderr",
     "output_type": "stream",
     "text": [
      " 49%|█████████████▏             | 593/1219 [01:27<02:18,  4.51it/s]"
     ]
    },
    {
     "name": "stdout",
     "output_type": "stream",
     "text": [
      "Cropped image /mnt/c/Adrianov/Projects/trash-detector/yolo_res/images/result_422.jpg and saved result to None\n",
      "/mnt/c/Adrianov/Projects/trash-detector/yolo_res/label/result_423.txt\n",
      "/mnt/c/Adrianov/Projects/trash-detector/yolo_res/images/result_423.jpg\n"
     ]
    },
    {
     "name": "stderr",
     "output_type": "stream",
     "text": [
      " 49%|█████████████▏             | 594/1219 [01:28<02:25,  4.29it/s]"
     ]
    },
    {
     "name": "stdout",
     "output_type": "stream",
     "text": [
      "Cropped image /mnt/c/Adrianov/Projects/trash-detector/yolo_res/images/result_423.jpg and saved result to None\n",
      "/mnt/c/Adrianov/Projects/trash-detector/yolo_res/label/result_424.txt\n",
      "/mnt/c/Adrianov/Projects/trash-detector/yolo_res/images/result_424.jpg\n"
     ]
    },
    {
     "name": "stderr",
     "output_type": "stream",
     "text": [
      " 49%|█████████████▏             | 595/1219 [01:28<02:23,  4.34it/s]"
     ]
    },
    {
     "name": "stdout",
     "output_type": "stream",
     "text": [
      "Cropped image /mnt/c/Adrianov/Projects/trash-detector/yolo_res/images/result_424.jpg and saved result to None\n",
      "/mnt/c/Adrianov/Projects/trash-detector/yolo_res/label/result_425.txt\n",
      "/mnt/c/Adrianov/Projects/trash-detector/yolo_res/images/result_425.jpg\n"
     ]
    },
    {
     "name": "stderr",
     "output_type": "stream",
     "text": [
      " 49%|█████████████▏             | 596/1219 [01:28<02:29,  4.18it/s]"
     ]
    },
    {
     "name": "stdout",
     "output_type": "stream",
     "text": [
      "Cropped image /mnt/c/Adrianov/Projects/trash-detector/yolo_res/images/result_425.jpg and saved result to None\n",
      "/mnt/c/Adrianov/Projects/trash-detector/yolo_res/label/result_426.txt\n",
      "/mnt/c/Adrianov/Projects/trash-detector/yolo_res/images/result_426.jpg\n"
     ]
    },
    {
     "name": "stderr",
     "output_type": "stream",
     "text": [
      " 49%|█████████████▏             | 598/1219 [01:29<02:18,  4.49it/s]"
     ]
    },
    {
     "name": "stdout",
     "output_type": "stream",
     "text": [
      "Cropped image /mnt/c/Adrianov/Projects/trash-detector/yolo_res/images/result_426.jpg and saved result to None\n",
      "/mnt/c/Adrianov/Projects/trash-detector/yolo_res/label/result_427.txt\n",
      "/mnt/c/Adrianov/Projects/trash-detector/yolo_res/images/result_427.jpg\n",
      "Cropped image /mnt/c/Adrianov/Projects/trash-detector/yolo_res/images/result_427.jpg and saved result to None\n",
      "/mnt/c/Adrianov/Projects/trash-detector/yolo_res/label/result_428.txt\n",
      "/mnt/c/Adrianov/Projects/trash-detector/yolo_res/images/result_428.jpg\n"
     ]
    },
    {
     "name": "stderr",
     "output_type": "stream",
     "text": [
      " 49%|█████████████▎             | 599/1219 [01:29<02:02,  5.05it/s]"
     ]
    },
    {
     "name": "stdout",
     "output_type": "stream",
     "text": [
      "Cropped image /mnt/c/Adrianov/Projects/trash-detector/yolo_res/images/result_428.jpg and saved result to None\n",
      "/mnt/c/Adrianov/Projects/trash-detector/yolo_res/label/result_429.txt\n",
      "/mnt/c/Adrianov/Projects/trash-detector/yolo_res/images/result_429.jpg\n"
     ]
    },
    {
     "name": "stderr",
     "output_type": "stream",
     "text": [
      " 49%|█████████████▎             | 601/1219 [01:29<01:59,  5.19it/s]"
     ]
    },
    {
     "name": "stdout",
     "output_type": "stream",
     "text": [
      "Cropped image /mnt/c/Adrianov/Projects/trash-detector/yolo_res/images/result_429.jpg and saved result to None\n",
      "/mnt/c/Adrianov/Projects/trash-detector/yolo_res/label/result_43.txt\n",
      "/mnt/c/Adrianov/Projects/trash-detector/yolo_res/images/result_43.jpg\n",
      "Cropped image /mnt/c/Adrianov/Projects/trash-detector/yolo_res/images/result_43.jpg and saved result to None\n",
      "/mnt/c/Adrianov/Projects/trash-detector/yolo_res/label/result_430.txt\n",
      "/mnt/c/Adrianov/Projects/trash-detector/yolo_res/images/result_430.jpg\n"
     ]
    },
    {
     "name": "stderr",
     "output_type": "stream",
     "text": [
      " 49%|█████████████▎             | 603/1219 [01:29<01:56,  5.30it/s]"
     ]
    },
    {
     "name": "stdout",
     "output_type": "stream",
     "text": [
      "Cropped image /mnt/c/Adrianov/Projects/trash-detector/yolo_res/images/result_430.jpg and saved result to None\n",
      "/mnt/c/Adrianov/Projects/trash-detector/yolo_res/label/result_431.txt\n",
      "/mnt/c/Adrianov/Projects/trash-detector/yolo_res/images/result_431.jpg\n",
      "Cropped image /mnt/c/Adrianov/Projects/trash-detector/yolo_res/images/result_431.jpg and saved result to None\n",
      "/mnt/c/Adrianov/Projects/trash-detector/yolo_res/label/result_432.txt\n",
      "/mnt/c/Adrianov/Projects/trash-detector/yolo_res/images/result_432.jpg\n"
     ]
    },
    {
     "name": "stderr",
     "output_type": "stream",
     "text": [
      " 50%|█████████████▍             | 605/1219 [01:30<01:40,  6.11it/s]"
     ]
    },
    {
     "name": "stdout",
     "output_type": "stream",
     "text": [
      "Cropped image /mnt/c/Adrianov/Projects/trash-detector/yolo_res/images/result_432.jpg and saved result to None\n",
      "/mnt/c/Adrianov/Projects/trash-detector/yolo_res/label/result_433.txt\n",
      "/mnt/c/Adrianov/Projects/trash-detector/yolo_res/images/result_433.jpg\n",
      "Cropped image /mnt/c/Adrianov/Projects/trash-detector/yolo_res/images/result_433.jpg and saved result to None\n",
      "/mnt/c/Adrianov/Projects/trash-detector/yolo_res/label/result_434.txt\n",
      "/mnt/c/Adrianov/Projects/trash-detector/yolo_res/images/result_434.jpg\n"
     ]
    },
    {
     "name": "stderr",
     "output_type": "stream",
     "text": [
      " 50%|█████████████▍             | 607/1219 [01:30<01:44,  5.88it/s]"
     ]
    },
    {
     "name": "stdout",
     "output_type": "stream",
     "text": [
      "Cropped image /mnt/c/Adrianov/Projects/trash-detector/yolo_res/images/result_434.jpg and saved result to None\n",
      "/mnt/c/Adrianov/Projects/trash-detector/yolo_res/label/result_435.txt\n",
      "/mnt/c/Adrianov/Projects/trash-detector/yolo_res/images/result_435.jpg\n",
      "Cropped image /mnt/c/Adrianov/Projects/trash-detector/yolo_res/images/result_435.jpg and saved result to None\n",
      "/mnt/c/Adrianov/Projects/trash-detector/yolo_res/label/result_436.txt\n",
      "/mnt/c/Adrianov/Projects/trash-detector/yolo_res/images/result_436.jpg\n"
     ]
    },
    {
     "name": "stderr",
     "output_type": "stream",
     "text": [
      " 50%|█████████████▍             | 609/1219 [01:30<01:38,  6.22it/s]"
     ]
    },
    {
     "name": "stdout",
     "output_type": "stream",
     "text": [
      "Cropped image /mnt/c/Adrianov/Projects/trash-detector/yolo_res/images/result_436.jpg and saved result to None\n",
      "/mnt/c/Adrianov/Projects/trash-detector/yolo_res/label/result_437.txt\n",
      "/mnt/c/Adrianov/Projects/trash-detector/yolo_res/images/result_437.jpg\n",
      "Cropped image /mnt/c/Adrianov/Projects/trash-detector/yolo_res/images/result_437.jpg and saved result to None\n",
      "/mnt/c/Adrianov/Projects/trash-detector/yolo_res/label/result_438.txt\n",
      "/mnt/c/Adrianov/Projects/trash-detector/yolo_res/images/result_438.jpg\n"
     ]
    },
    {
     "name": "stderr",
     "output_type": "stream",
     "text": [
      " 50%|█████████████▌             | 611/1219 [01:31<01:28,  6.88it/s]"
     ]
    },
    {
     "name": "stdout",
     "output_type": "stream",
     "text": [
      "Cropped image /mnt/c/Adrianov/Projects/trash-detector/yolo_res/images/result_438.jpg and saved result to None\n",
      "/mnt/c/Adrianov/Projects/trash-detector/yolo_res/label/result_439.txt\n",
      "/mnt/c/Adrianov/Projects/trash-detector/yolo_res/images/result_439.jpg\n",
      "Cropped image /mnt/c/Adrianov/Projects/trash-detector/yolo_res/images/result_439.jpg and saved result to None\n",
      "/mnt/c/Adrianov/Projects/trash-detector/yolo_res/label/result_44.txt\n",
      "/mnt/c/Adrianov/Projects/trash-detector/yolo_res/images/result_44.jpg\n"
     ]
    },
    {
     "name": "stderr",
     "output_type": "stream",
     "text": [
      " 50%|█████████████▌             | 612/1219 [01:31<01:34,  6.39it/s]"
     ]
    },
    {
     "name": "stdout",
     "output_type": "stream",
     "text": [
      "obj: 2, obj: 0\n",
      "0.9066980666666666 0.6488679333333334 0.7532038148148148 1.1734701851851852\n",
      "0.925101 0.7988310000000001 0.345803 0.878547\n",
      "True\n",
      "False\n",
      "False\n",
      "True\n",
      "True\n",
      "obj: 2, obj: 1\n",
      "0.9066980666666666 0.6488679333333334 0.7532038148148148 1.1734701851851852\n",
      "0.57084205 0.48571395 0.40886300000000003 0.7708090000000001\n",
      "False\n",
      "False\n",
      "True\n",
      "True\n",
      "True\n",
      "obj: 2, obj: 3\n",
      "0.9066980666666666 0.6488679333333334 0.7532038148148148 1.1734701851851852\n",
      "0.2565815 4.999999999866223e-07 0.647912 1.0\n",
      "False\n",
      "False\n",
      "True\n",
      "True\n",
      "True\n",
      "['1', '0.777783', '0.963337', '0.0494968', '0.049896']\n",
      "['0', '0.861966', '0.612175', '0.12627', '0.532744']\n",
      "Regions:  [(1445, 1776, 373, 1067)]\n",
      "Cropped image /mnt/c/Adrianov/Projects/trash-detector/yolo_res/images/result_44.jpg and saved result to /mnt/c/Adrianov/Projects/trash-detector/masks/imgs/result_611_0.jpg\n",
      "/mnt/c/Adrianov/Projects/trash-detector/yolo_res/label/result_440.txt\n",
      "/mnt/c/Adrianov/Projects/trash-detector/yolo_res/images/result_440.jpg\n"
     ]
    },
    {
     "name": "stderr",
     "output_type": "stream",
     "text": [
      " 50%|█████████████▌             | 614/1219 [01:31<01:26,  6.98it/s]"
     ]
    },
    {
     "name": "stdout",
     "output_type": "stream",
     "text": [
      "Cropped image /mnt/c/Adrianov/Projects/trash-detector/yolo_res/images/result_440.jpg and saved result to None\n",
      "/mnt/c/Adrianov/Projects/trash-detector/yolo_res/label/result_441.txt\n",
      "/mnt/c/Adrianov/Projects/trash-detector/yolo_res/images/result_441.jpg\n",
      "Cropped image /mnt/c/Adrianov/Projects/trash-detector/yolo_res/images/result_441.jpg and saved result to None\n",
      "/mnt/c/Adrianov/Projects/trash-detector/yolo_res/label/result_442.txt\n",
      "/mnt/c/Adrianov/Projects/trash-detector/yolo_res/images/result_442.jpg\n"
     ]
    },
    {
     "name": "stderr",
     "output_type": "stream",
     "text": [
      " 51%|█████████████▋             | 616/1219 [01:31<01:32,  6.51it/s]"
     ]
    },
    {
     "name": "stdout",
     "output_type": "stream",
     "text": [
      "Cropped image /mnt/c/Adrianov/Projects/trash-detector/yolo_res/images/result_442.jpg and saved result to None\n",
      "/mnt/c/Adrianov/Projects/trash-detector/yolo_res/label/result_443.txt\n",
      "/mnt/c/Adrianov/Projects/trash-detector/yolo_res/images/result_443.jpg\n",
      "Cropped image /mnt/c/Adrianov/Projects/trash-detector/yolo_res/images/result_443.jpg and saved result to None\n",
      "/mnt/c/Adrianov/Projects/trash-detector/yolo_res/label/result_444.txt\n",
      "/mnt/c/Adrianov/Projects/trash-detector/yolo_res/images/result_444.jpg\n"
     ]
    },
    {
     "name": "stderr",
     "output_type": "stream",
     "text": [
      " 51%|█████████████▋             | 618/1219 [01:32<01:22,  7.26it/s]"
     ]
    },
    {
     "name": "stdout",
     "output_type": "stream",
     "text": [
      "Cropped image /mnt/c/Adrianov/Projects/trash-detector/yolo_res/images/result_444.jpg and saved result to None\n",
      "/mnt/c/Adrianov/Projects/trash-detector/yolo_res/label/result_445.txt\n",
      "/mnt/c/Adrianov/Projects/trash-detector/yolo_res/images/result_445.jpg\n",
      "Cropped image /mnt/c/Adrianov/Projects/trash-detector/yolo_res/images/result_445.jpg and saved result to None\n",
      "/mnt/c/Adrianov/Projects/trash-detector/yolo_res/label/result_446.txt\n",
      "/mnt/c/Adrianov/Projects/trash-detector/yolo_res/images/result_446.jpg\n",
      "Cropped image /mnt/c/Adrianov/Projects/trash-detector/yolo_res/images/result_446.jpg and saved result to None\n",
      "/mnt/c/Adrianov/Projects/trash-detector/yolo_res/label/result_447.txt\n",
      "/mnt/c/Adrianov/Projects/trash-detector/yolo_res/images/result_447.jpg\n"
     ]
    },
    {
     "name": "stderr",
     "output_type": "stream",
     "text": [
      " 51%|█████████████▊             | 622/1219 [01:32<01:01,  9.78it/s]"
     ]
    },
    {
     "name": "stdout",
     "output_type": "stream",
     "text": [
      "Cropped image /mnt/c/Adrianov/Projects/trash-detector/yolo_res/images/result_447.jpg and saved result to None\n",
      "/mnt/c/Adrianov/Projects/trash-detector/yolo_res/label/result_448.txt\n",
      "/mnt/c/Adrianov/Projects/trash-detector/yolo_res/images/result_448.jpg\n",
      "Cropped image /mnt/c/Adrianov/Projects/trash-detector/yolo_res/images/result_448.jpg and saved result to None\n",
      "/mnt/c/Adrianov/Projects/trash-detector/yolo_res/label/result_449.txt\n",
      "/mnt/c/Adrianov/Projects/trash-detector/yolo_res/images/result_449.jpg\n",
      "Cropped image /mnt/c/Adrianov/Projects/trash-detector/yolo_res/images/result_449.jpg and saved result to None\n",
      "/mnt/c/Adrianov/Projects/trash-detector/yolo_res/label/result_45.txt\n",
      "/mnt/c/Adrianov/Projects/trash-detector/yolo_res/images/result_45.jpg\n"
     ]
    },
    {
     "name": "stderr",
     "output_type": "stream",
     "text": [
      " 51%|█████████████▊             | 624/1219 [01:32<00:59,  9.94it/s]"
     ]
    },
    {
     "name": "stdout",
     "output_type": "stream",
     "text": [
      "Cropped image /mnt/c/Adrianov/Projects/trash-detector/yolo_res/images/result_45.jpg and saved result to None\n",
      "/mnt/c/Adrianov/Projects/trash-detector/yolo_res/label/result_450.txt\n",
      "/mnt/c/Adrianov/Projects/trash-detector/yolo_res/images/result_450.jpg\n",
      "Cropped image /mnt/c/Adrianov/Projects/trash-detector/yolo_res/images/result_450.jpg and saved result to None\n",
      "/mnt/c/Adrianov/Projects/trash-detector/yolo_res/label/result_451.txt\n",
      "/mnt/c/Adrianov/Projects/trash-detector/yolo_res/images/result_451.jpg\n"
     ]
    },
    {
     "name": "stderr",
     "output_type": "stream",
     "text": [
      " 51%|█████████████▊             | 626/1219 [01:32<00:58, 10.12it/s]"
     ]
    },
    {
     "name": "stdout",
     "output_type": "stream",
     "text": [
      "Cropped image /mnt/c/Adrianov/Projects/trash-detector/yolo_res/images/result_451.jpg and saved result to None\n",
      "/mnt/c/Adrianov/Projects/trash-detector/yolo_res/label/result_452.txt\n",
      "/mnt/c/Adrianov/Projects/trash-detector/yolo_res/images/result_452.jpg\n",
      "Cropped image /mnt/c/Adrianov/Projects/trash-detector/yolo_res/images/result_452.jpg and saved result to None\n",
      "/mnt/c/Adrianov/Projects/trash-detector/yolo_res/label/result_453.txt\n",
      "/mnt/c/Adrianov/Projects/trash-detector/yolo_res/images/result_453.jpg\n",
      "Cropped image /mnt/c/Adrianov/Projects/trash-detector/yolo_res/images/result_453.jpg and saved result to None\n",
      "/mnt/c/Adrianov/Projects/trash-detector/yolo_res/label/result_454.txt\n",
      "/mnt/c/Adrianov/Projects/trash-detector/yolo_res/images/result_454.jpg\n"
     ]
    },
    {
     "name": "stderr",
     "output_type": "stream",
     "text": [
      " 52%|█████████████▉             | 630/1219 [01:33<00:57, 10.16it/s]"
     ]
    },
    {
     "name": "stdout",
     "output_type": "stream",
     "text": [
      "Cropped image /mnt/c/Adrianov/Projects/trash-detector/yolo_res/images/result_454.jpg and saved result to None\n",
      "/mnt/c/Adrianov/Projects/trash-detector/yolo_res/label/result_455.txt\n",
      "/mnt/c/Adrianov/Projects/trash-detector/yolo_res/images/result_455.jpg\n",
      "Cropped image /mnt/c/Adrianov/Projects/trash-detector/yolo_res/images/result_455.jpg and saved result to None\n",
      "/mnt/c/Adrianov/Projects/trash-detector/yolo_res/label/result_456.txt\n",
      "/mnt/c/Adrianov/Projects/trash-detector/yolo_res/images/result_456.jpg\n",
      "Cropped image /mnt/c/Adrianov/Projects/trash-detector/yolo_res/images/result_456.jpg and saved result to None\n",
      "/mnt/c/Adrianov/Projects/trash-detector/yolo_res/label/result_457.txt\n",
      "/mnt/c/Adrianov/Projects/trash-detector/yolo_res/images/result_457.jpg\n"
     ]
    },
    {
     "name": "stderr",
     "output_type": "stream",
     "text": [
      " 52%|█████████████▉             | 632/1219 [01:33<00:56, 10.40it/s]"
     ]
    },
    {
     "name": "stdout",
     "output_type": "stream",
     "text": [
      "Cropped image /mnt/c/Adrianov/Projects/trash-detector/yolo_res/images/result_457.jpg and saved result to None\n",
      "/mnt/c/Adrianov/Projects/trash-detector/yolo_res/label/result_458.txt\n",
      "/mnt/c/Adrianov/Projects/trash-detector/yolo_res/images/result_458.jpg\n",
      "Cropped image /mnt/c/Adrianov/Projects/trash-detector/yolo_res/images/result_458.jpg and saved result to None\n",
      "/mnt/c/Adrianov/Projects/trash-detector/yolo_res/label/result_459.txt\n",
      "/mnt/c/Adrianov/Projects/trash-detector/yolo_res/images/result_459.jpg\n",
      "Cropped image /mnt/c/Adrianov/Projects/trash-detector/yolo_res/images/result_459.jpg and saved result to None\n",
      "/mnt/c/Adrianov/Projects/trash-detector/yolo_res/label/result_46.txt\n",
      "/mnt/c/Adrianov/Projects/trash-detector/yolo_res/images/result_46.jpg\n"
     ]
    },
    {
     "name": "stderr",
     "output_type": "stream",
     "text": [
      " 52%|██████████████             | 636/1219 [01:33<00:53, 10.97it/s]"
     ]
    },
    {
     "name": "stdout",
     "output_type": "stream",
     "text": [
      "Cropped image /mnt/c/Adrianov/Projects/trash-detector/yolo_res/images/result_46.jpg and saved result to None\n",
      "/mnt/c/Adrianov/Projects/trash-detector/yolo_res/label/result_460.txt\n",
      "/mnt/c/Adrianov/Projects/trash-detector/yolo_res/images/result_460.jpg\n",
      "Cropped image /mnt/c/Adrianov/Projects/trash-detector/yolo_res/images/result_460.jpg and saved result to None\n",
      "/mnt/c/Adrianov/Projects/trash-detector/yolo_res/label/result_461.txt\n",
      "/mnt/c/Adrianov/Projects/trash-detector/yolo_res/images/result_461.jpg\n",
      "Cropped image /mnt/c/Adrianov/Projects/trash-detector/yolo_res/images/result_461.jpg and saved result to None\n",
      "/mnt/c/Adrianov/Projects/trash-detector/yolo_res/label/result_462.txt\n",
      "/mnt/c/Adrianov/Projects/trash-detector/yolo_res/images/result_462.jpg\n"
     ]
    },
    {
     "name": "stderr",
     "output_type": "stream",
     "text": [
      " 52%|██████████████▏            | 638/1219 [01:34<00:50, 11.44it/s]"
     ]
    },
    {
     "name": "stdout",
     "output_type": "stream",
     "text": [
      "Cropped image /mnt/c/Adrianov/Projects/trash-detector/yolo_res/images/result_462.jpg and saved result to None\n",
      "/mnt/c/Adrianov/Projects/trash-detector/yolo_res/label/result_463.txt\n",
      "/mnt/c/Adrianov/Projects/trash-detector/yolo_res/images/result_463.jpg\n",
      "Cropped image /mnt/c/Adrianov/Projects/trash-detector/yolo_res/images/result_463.jpg and saved result to None\n",
      "/mnt/c/Adrianov/Projects/trash-detector/yolo_res/label/result_464.txt\n",
      "/mnt/c/Adrianov/Projects/trash-detector/yolo_res/images/result_464.jpg\n",
      "Cropped image /mnt/c/Adrianov/Projects/trash-detector/yolo_res/images/result_464.jpg and saved result to None\n",
      "/mnt/c/Adrianov/Projects/trash-detector/yolo_res/label/result_465.txt\n",
      "/mnt/c/Adrianov/Projects/trash-detector/yolo_res/images/result_465.jpg\n"
     ]
    },
    {
     "name": "stderr",
     "output_type": "stream",
     "text": [
      " 53%|██████████████▏            | 640/1219 [01:34<00:56, 10.22it/s]"
     ]
    },
    {
     "name": "stdout",
     "output_type": "stream",
     "text": [
      "Cropped image /mnt/c/Adrianov/Projects/trash-detector/yolo_res/images/result_465.jpg and saved result to None\n",
      "/mnt/c/Adrianov/Projects/trash-detector/yolo_res/label/result_466.txt\n",
      "/mnt/c/Adrianov/Projects/trash-detector/yolo_res/images/result_466.jpg\n",
      "Cropped image /mnt/c/Adrianov/Projects/trash-detector/yolo_res/images/result_466.jpg and saved result to None\n",
      "/mnt/c/Adrianov/Projects/trash-detector/yolo_res/label/result_467.txt\n",
      "/mnt/c/Adrianov/Projects/trash-detector/yolo_res/images/result_467.jpg\n"
     ]
    },
    {
     "name": "stderr",
     "output_type": "stream",
     "text": [
      " 53%|██████████████▎            | 644/1219 [01:34<00:55, 10.30it/s]"
     ]
    },
    {
     "name": "stdout",
     "output_type": "stream",
     "text": [
      "Cropped image /mnt/c/Adrianov/Projects/trash-detector/yolo_res/images/result_467.jpg and saved result to None\n",
      "/mnt/c/Adrianov/Projects/trash-detector/yolo_res/label/result_468.txt\n",
      "/mnt/c/Adrianov/Projects/trash-detector/yolo_res/images/result_468.jpg\n",
      "Cropped image /mnt/c/Adrianov/Projects/trash-detector/yolo_res/images/result_468.jpg and saved result to None\n",
      "/mnt/c/Adrianov/Projects/trash-detector/yolo_res/label/result_469.txt\n",
      "/mnt/c/Adrianov/Projects/trash-detector/yolo_res/images/result_469.jpg\n",
      "Cropped image /mnt/c/Adrianov/Projects/trash-detector/yolo_res/images/result_469.jpg and saved result to None\n",
      "/mnt/c/Adrianov/Projects/trash-detector/yolo_res/label/result_47.txt\n",
      "/mnt/c/Adrianov/Projects/trash-detector/yolo_res/images/result_47.jpg\n"
     ]
    },
    {
     "name": "stderr",
     "output_type": "stream",
     "text": [
      " 53%|██████████████▎            | 646/1219 [01:34<01:02,  9.23it/s]"
     ]
    },
    {
     "name": "stdout",
     "output_type": "stream",
     "text": [
      "obj: 2, obj: 0\n",
      "0.9075753166666667 0.6492406833333333 0.7534688648148148 1.175367135185185\n",
      "0.9236175 0.8000805 0.3470965 0.8777735\n",
      "True\n",
      "False\n",
      "False\n",
      "True\n",
      "True\n",
      "obj: 2, obj: 1\n",
      "0.9075753166666667 0.6492406833333333 0.7534688648148148 1.175367135185185\n",
      "0.57510335 0.48869265 0.412751 0.7697029999999999\n",
      "False\n",
      "False\n",
      "True\n",
      "True\n",
      "True\n",
      "obj: 2, obj: 3\n",
      "0.9075753166666667 0.6492406833333333 0.7534688648148148 1.175367135185185\n",
      "0.2597605 -5.000000000143778e-07 0.6473295 1.0000005\n",
      "False\n",
      "False\n",
      "True\n",
      "True\n",
      "True\n",
      "['1', '0.778408', '0.964418', '0.0500013', '0.0515279']\n",
      "['0', '0.861849', '0.612435', '0.123537', '0.530677']\n",
      "Regions:  [(1446, 1773, 374, 1069)]\n",
      "Cropped image /mnt/c/Adrianov/Projects/trash-detector/yolo_res/images/result_47.jpg and saved result to /mnt/c/Adrianov/Projects/trash-detector/masks/imgs/result_644_0.jpg\n",
      "/mnt/c/Adrianov/Projects/trash-detector/yolo_res/label/result_470.txt\n",
      "/mnt/c/Adrianov/Projects/trash-detector/yolo_res/images/result_470.jpg\n",
      "Cropped image /mnt/c/Adrianov/Projects/trash-detector/yolo_res/images/result_470.jpg and saved result to None\n",
      "/mnt/c/Adrianov/Projects/trash-detector/yolo_res/label/result_471.txt\n",
      "/mnt/c/Adrianov/Projects/trash-detector/yolo_res/images/result_471.jpg\n"
     ]
    },
    {
     "name": "stderr",
     "output_type": "stream",
     "text": [
      " 53%|██████████████▎            | 648/1219 [01:35<01:06,  8.56it/s]"
     ]
    },
    {
     "name": "stdout",
     "output_type": "stream",
     "text": [
      "Cropped image /mnt/c/Adrianov/Projects/trash-detector/yolo_res/images/result_471.jpg and saved result to None\n",
      "/mnt/c/Adrianov/Projects/trash-detector/yolo_res/label/result_472.txt\n",
      "/mnt/c/Adrianov/Projects/trash-detector/yolo_res/images/result_472.jpg\n",
      "Cropped image /mnt/c/Adrianov/Projects/trash-detector/yolo_res/images/result_472.jpg and saved result to None\n",
      "/mnt/c/Adrianov/Projects/trash-detector/yolo_res/label/result_473.txt\n",
      "/mnt/c/Adrianov/Projects/trash-detector/yolo_res/images/result_473.jpg\n"
     ]
    },
    {
     "name": "stderr",
     "output_type": "stream",
     "text": [
      " 53%|██████████████▍            | 650/1219 [01:35<01:02,  9.14it/s]"
     ]
    },
    {
     "name": "stdout",
     "output_type": "stream",
     "text": [
      "Cropped image /mnt/c/Adrianov/Projects/trash-detector/yolo_res/images/result_473.jpg and saved result to None\n",
      "/mnt/c/Adrianov/Projects/trash-detector/yolo_res/label/result_474.txt\n",
      "/mnt/c/Adrianov/Projects/trash-detector/yolo_res/images/result_474.jpg\n",
      "Cropped image /mnt/c/Adrianov/Projects/trash-detector/yolo_res/images/result_474.jpg and saved result to None\n",
      "/mnt/c/Adrianov/Projects/trash-detector/yolo_res/label/result_475.txt\n",
      "/mnt/c/Adrianov/Projects/trash-detector/yolo_res/images/result_475.jpg\n",
      "Cropped image /mnt/c/Adrianov/Projects/trash-detector/yolo_res/images/result_475.jpg and saved result to None\n",
      "/mnt/c/Adrianov/Projects/trash-detector/yolo_res/label/result_476.txt\n",
      "/mnt/c/Adrianov/Projects/trash-detector/yolo_res/images/result_476.jpg\n"
     ]
    },
    {
     "name": "stderr",
     "output_type": "stream",
     "text": [
      " 53%|██████████████▍            | 652/1219 [01:35<00:56, 10.07it/s]"
     ]
    },
    {
     "name": "stdout",
     "output_type": "stream",
     "text": [
      "Cropped image /mnt/c/Adrianov/Projects/trash-detector/yolo_res/images/result_476.jpg and saved result to None\n",
      "/mnt/c/Adrianov/Projects/trash-detector/yolo_res/label/result_477.txt\n",
      "/mnt/c/Adrianov/Projects/trash-detector/yolo_res/images/result_477.jpg\n",
      "Cropped image /mnt/c/Adrianov/Projects/trash-detector/yolo_res/images/result_477.jpg and saved result to None\n",
      "/mnt/c/Adrianov/Projects/trash-detector/yolo_res/label/result_478.txt\n",
      "/mnt/c/Adrianov/Projects/trash-detector/yolo_res/images/result_478.jpg\n"
     ]
    },
    {
     "name": "stderr",
     "output_type": "stream",
     "text": [
      " 54%|██████████████▌            | 655/1219 [01:36<01:17,  7.27it/s]"
     ]
    },
    {
     "name": "stdout",
     "output_type": "stream",
     "text": [
      "Cropped image /mnt/c/Adrianov/Projects/trash-detector/yolo_res/images/result_478.jpg and saved result to None\n",
      "/mnt/c/Adrianov/Projects/trash-detector/yolo_res/label/result_479.txt\n",
      "/mnt/c/Adrianov/Projects/trash-detector/yolo_res/images/result_479.jpg\n",
      "Cropped image /mnt/c/Adrianov/Projects/trash-detector/yolo_res/images/result_479.jpg and saved result to None\n",
      "/mnt/c/Adrianov/Projects/trash-detector/yolo_res/label/result_48.txt\n",
      "/mnt/c/Adrianov/Projects/trash-detector/yolo_res/images/result_48.jpg\n",
      "obj: 2, obj: 0\n",
      "0.9075282166666667 0.6497317833333334 0.7538657148148148 1.174720285185185\n",
      "0.922541 0.799347 0.3540875 0.8777885\n",
      "True\n",
      "False\n",
      "False\n",
      "True\n",
      "True\n",
      "obj: 2, obj: 1\n",
      "0.9075282166666667 0.6497317833333334 0.7538657148148148 1.174720285185185\n",
      "0.58058145 0.48920055 0.412292 0.770806\n",
      "False\n",
      "False\n",
      "True\n",
      "True\n",
      "True\n",
      "obj: 2, obj: 3\n",
      "0.9075282166666667 0.6497317833333334 0.7538657148148148 1.174720285185185\n",
      "0.26627049999999997 -4.999999999866223e-07 0.646007 0.999171\n",
      "False\n",
      "False\n",
      "True\n",
      "True\n",
      "True\n"
     ]
    },
    {
     "name": "stderr",
     "output_type": "stream",
     "text": [
      " 54%|██████████████▌            | 658/1219 [01:36<01:03,  8.87it/s]"
     ]
    },
    {
     "name": "stdout",
     "output_type": "stream",
     "text": [
      "['1', '0.77863', '0.964293', '0.0494631', '0.0504842']\n",
      "['0', '0.860944', '0.615938', '0.123194', '0.523701']\n",
      "Regions:  [(1447, 1771, 382, 1068)]\n",
      "Cropped image /mnt/c/Adrianov/Projects/trash-detector/yolo_res/images/result_48.jpg and saved result to /mnt/c/Adrianov/Projects/trash-detector/masks/imgs/result_655_0.jpg\n",
      "/mnt/c/Adrianov/Projects/trash-detector/yolo_res/label/result_480.txt\n",
      "/mnt/c/Adrianov/Projects/trash-detector/yolo_res/images/result_480.jpg\n",
      "Cropped image /mnt/c/Adrianov/Projects/trash-detector/yolo_res/images/result_480.jpg and saved result to None\n",
      "/mnt/c/Adrianov/Projects/trash-detector/yolo_res/label/result_481.txt\n",
      "/mnt/c/Adrianov/Projects/trash-detector/yolo_res/images/result_481.jpg\n",
      "Cropped image /mnt/c/Adrianov/Projects/trash-detector/yolo_res/images/result_481.jpg and saved result to None\n",
      "/mnt/c/Adrianov/Projects/trash-detector/yolo_res/label/result_482.txt\n",
      "/mnt/c/Adrianov/Projects/trash-detector/yolo_res/images/result_482.jpg\n"
     ]
    },
    {
     "name": "stderr",
     "output_type": "stream",
     "text": [
      " 54%|██████████████▌            | 660/1219 [01:36<01:08,  8.22it/s]"
     ]
    },
    {
     "name": "stdout",
     "output_type": "stream",
     "text": [
      "Cropped image /mnt/c/Adrianov/Projects/trash-detector/yolo_res/images/result_482.jpg and saved result to None\n",
      "/mnt/c/Adrianov/Projects/trash-detector/yolo_res/label/result_483.txt\n",
      "/mnt/c/Adrianov/Projects/trash-detector/yolo_res/images/result_483.jpg\n",
      "Cropped image /mnt/c/Adrianov/Projects/trash-detector/yolo_res/images/result_483.jpg and saved result to None\n",
      "/mnt/c/Adrianov/Projects/trash-detector/yolo_res/label/result_484.txt\n",
      "/mnt/c/Adrianov/Projects/trash-detector/yolo_res/images/result_484.jpg\n"
     ]
    },
    {
     "name": "stderr",
     "output_type": "stream",
     "text": [
      " 54%|██████████████▋            | 663/1219 [01:36<00:59,  9.33it/s]"
     ]
    },
    {
     "name": "stdout",
     "output_type": "stream",
     "text": [
      "Cropped image /mnt/c/Adrianov/Projects/trash-detector/yolo_res/images/result_484.jpg and saved result to None\n",
      "/mnt/c/Adrianov/Projects/trash-detector/yolo_res/label/result_485.txt\n",
      "/mnt/c/Adrianov/Projects/trash-detector/yolo_res/images/result_485.jpg\n",
      "Cropped image /mnt/c/Adrianov/Projects/trash-detector/yolo_res/images/result_485.jpg and saved result to None\n",
      "/mnt/c/Adrianov/Projects/trash-detector/yolo_res/label/result_486.txt\n",
      "/mnt/c/Adrianov/Projects/trash-detector/yolo_res/images/result_486.jpg\n",
      "Cropped image /mnt/c/Adrianov/Projects/trash-detector/yolo_res/images/result_486.jpg and saved result to None\n",
      "/mnt/c/Adrianov/Projects/trash-detector/yolo_res/label/result_487.txt\n",
      "/mnt/c/Adrianov/Projects/trash-detector/yolo_res/images/result_487.jpg\n"
     ]
    },
    {
     "name": "stderr",
     "output_type": "stream",
     "text": [
      " 55%|██████████████▋            | 665/1219 [01:37<00:57,  9.64it/s]"
     ]
    },
    {
     "name": "stdout",
     "output_type": "stream",
     "text": [
      "obj: 3, obj: 0\n",
      "0.4200329166666667 0.16460308333333334 0.7307037148148148 1.1657942851851852\n",
      "0.5856716999999999 0.5096423 0.33689 0.667974\n",
      "False\n",
      "True\n",
      "False\n",
      "False\n",
      "True\n",
      "obj: 3, obj: 1\n",
      "0.4200329166666667 0.16460308333333334 0.7307037148148148 1.1657942851851852\n",
      "0.29339899999999997 0.165631 0.24818649999999998 0.9437355\n",
      "True\n",
      "False\n",
      "False\n",
      "True\n",
      "True\n",
      "obj: 3, obj: 2\n",
      "0.4200329166666667 0.16460308333333334 0.7307037148148148 1.1657942851851852\n",
      "0.6800855 0.5871445000000001 0.370256 0.6221479999999999\n",
      "False\n",
      "True\n",
      "False\n",
      "False\n",
      "True\n",
      "['1', '0.292318', '0.948249', '0.0470965', '0.0647202']\n",
      "['0', '0.229515', '0.595961', '0.127768', '0.695549']\n",
      "Regions:  [(318, 606, 268, 1059)]\n",
      "Cropped image /mnt/c/Adrianov/Projects/trash-detector/yolo_res/images/result_487.jpg and saved result to /mnt/c/Adrianov/Projects/trash-detector/masks/imgs/result_663_0.jpg\n",
      "/mnt/c/Adrianov/Projects/trash-detector/yolo_res/label/result_488.txt\n",
      "/mnt/c/Adrianov/Projects/trash-detector/yolo_res/images/result_488.jpg\n",
      "Cropped image /mnt/c/Adrianov/Projects/trash-detector/yolo_res/images/result_488.jpg and saved result to None\n",
      "/mnt/c/Adrianov/Projects/trash-detector/yolo_res/label/result_489.txt\n",
      "/mnt/c/Adrianov/Projects/trash-detector/yolo_res/images/result_489.jpg\n"
     ]
    },
    {
     "name": "stderr",
     "output_type": "stream",
     "text": [
      " 55%|██████████████▊            | 667/1219 [01:37<01:00,  9.16it/s]"
     ]
    },
    {
     "name": "stdout",
     "output_type": "stream",
     "text": [
      "obj: 2, obj: 0\n",
      "0.33062861666666665 0.09010138333333333 0.5284476148148148 0.9445583851851852\n",
      "0.6358039000000001 0.5557921 0.26369999999999993 0.623958\n",
      "False\n",
      "True\n",
      "False\n",
      "True\n",
      "True\n",
      "obj: 2, obj: 1\n",
      "0.33062861666666665 0.09010138333333333 0.5284476148148148 0.9445583851851852\n",
      "0.167222 0.043492 0.274253 0.779207\n",
      "True\n",
      "False\n",
      "False\n",
      "True\n",
      "True\n",
      "obj: 3, obj: 0\n",
      "0.7559509666666666 0.5191970333333333 0.42235661481481485 0.8147653851851853\n",
      "0.6358039000000001 0.5557921 0.26369999999999993 0.623958\n",
      "True\n",
      "False\n",
      "False\n",
      "True\n",
      "True\n",
      "obj: 3, obj: 1\n",
      "0.7559509666666666 0.5191970333333333 0.42235661481481485 0.8147653851851853\n",
      "0.167222 0.043492 0.274253 0.779207\n",
      "False\n",
      "False\n",
      "True\n",
      "True\n",
      "True\n",
      "['1', '0.210365', '0.736503', '0.0321939', '0.0457404']\n",
      "['0', '0.105357', '0.52673', '0.12373', '0.504954']\n",
      "Regions:  [(83, 434, 296, 841)]\n",
      "['1', '0.637574', '0.618561', '0.0284206', '0.0220384']\n",
      "['0', '0.595798', '0.443829', '0.0800118', '0.360258']\n",
      "Regions:  [(83, 434, 296, 841), (1067, 1251, 284, 679)]\n",
      "Cropped image /mnt/c/Adrianov/Projects/trash-detector/yolo_res/images/result_489.jpg and saved result to /mnt/c/Adrianov/Projects/trash-detector/masks/imgs/result_665_0.jpg\n",
      "/mnt/c/Adrianov/Projects/trash-detector/yolo_res/label/result_49.txt\n",
      "/mnt/c/Adrianov/Projects/trash-detector/yolo_res/images/result_49.jpg\n",
      "Cropped image /mnt/c/Adrianov/Projects/trash-detector/yolo_res/images/result_49.jpg and saved result to None\n",
      "/mnt/c/Adrianov/Projects/trash-detector/yolo_res/label/result_490.txt\n",
      "/mnt/c/Adrianov/Projects/trash-detector/yolo_res/images/result_490.jpg\n"
     ]
    },
    {
     "name": "stderr",
     "output_type": "stream",
     "text": [
      " 55%|██████████████▊            | 670/1219 [01:37<00:56,  9.76it/s]"
     ]
    },
    {
     "name": "stdout",
     "output_type": "stream",
     "text": [
      "Cropped image /mnt/c/Adrianov/Projects/trash-detector/yolo_res/images/result_490.jpg and saved result to None\n",
      "/mnt/c/Adrianov/Projects/trash-detector/yolo_res/label/result_491.txt\n",
      "/mnt/c/Adrianov/Projects/trash-detector/yolo_res/images/result_491.jpg\n",
      "obj: 3, obj: 0\n",
      "0.4208140166666666 0.16519798333333333 0.7310723648148149 1.1657336351851852\n",
      "0.29412550000000004 0.1670385 0.2553515 0.9427665000000001\n",
      "True\n",
      "False\n",
      "False\n",
      "True\n",
      "True\n",
      "obj: 3, obj: 1\n",
      "0.4208140166666666 0.16519798333333333 0.7310723648148149 1.1657336351851852\n",
      "0.582111 0.503463 0.33894149999999995 0.6670624999999999\n",
      "False\n",
      "True\n",
      "False\n",
      "False\n",
      "True\n",
      "obj: 3, obj: 2\n",
      "0.4208140166666666 0.16519798333333333 0.7310723648148149 1.1657336351851852\n",
      "0.6804395999999999 0.5883904 0.37684799999999996 0.629296\n",
      "False\n",
      "True\n",
      "False\n",
      "False\n",
      "True\n",
      "['1', '0.293006', '0.948403', '0.0472827', '0.0642909']\n",
      "['0', '0.230582', '0.599059', '0.127087', '0.687415']\n",
      "Regions:  [(320, 607, 275, 1058)]\n",
      "Cropped image /mnt/c/Adrianov/Projects/trash-detector/yolo_res/images/result_491.jpg and saved result to /mnt/c/Adrianov/Projects/trash-detector/masks/imgs/result_668_0.jpg\n",
      "/mnt/c/Adrianov/Projects/trash-detector/yolo_res/label/result_492.txt\n",
      "/mnt/c/Adrianov/Projects/trash-detector/yolo_res/images/result_492.jpg\n",
      "obj: 2, obj: 0\n",
      "0.32951901666666666 0.09036298333333331 0.5292048148148149 0.9481711851851852\n",
      "0.63626195 0.55656605 0.26324200000000003 0.612304\n",
      "False\n",
      "True\n",
      "False\n",
      "True\n",
      "True\n",
      "obj: 2, obj: 1\n",
      "0.32951901666666666 0.09036298333333331 0.5292048148148149 0.9481711851851852\n",
      "0.1668 0.03705800000000001 0.27617749999999996 0.8082285\n",
      "True\n",
      "False\n",
      "False\n",
      "True\n",
      "True\n",
      "['1', '0.209941', '0.738688', '0.0308227', '0.048596']\n",
      "['0', '0.101929', '0.542203', '0.129742', '0.532051']\n",
      "Regions:  [(71, 432, 298, 872)]\n",
      "Cropped image /mnt/c/Adrianov/Projects/trash-detector/yolo_res/images/result_492.jpg and saved result to /mnt/c/Adrianov/Projects/trash-detector/masks/imgs/result_669_0.jpg\n",
      "/mnt/c/Adrianov/Projects/trash-detector/yolo_res/label/result_493.txt\n",
      "/mnt/c/Adrianov/Projects/trash-detector/yolo_res/images/result_493.jpg\n"
     ]
    },
    {
     "name": "stderr",
     "output_type": "stream",
     "text": [
      " 55%|██████████████▉            | 672/1219 [01:37<00:53, 10.18it/s]"
     ]
    },
    {
     "name": "stdout",
     "output_type": "stream",
     "text": [
      "obj: 2, obj: 0\n",
      "0.3308070666666667 0.08915893333333333 0.5280705148148148 0.9472614851851853\n",
      "0.1680195 0.033030500000000004 0.27582100000000004 0.814193\n",
      "True\n",
      "False\n",
      "False\n",
      "True\n",
      "True\n",
      "obj: 2, obj: 1\n",
      "0.3308070666666667 0.08915893333333333 0.5280705148148148 0.9472614851851853\n",
      "0.6369932500000001 0.55609275 0.2664015 0.5981245\n",
      "False\n",
      "True\n",
      "False\n",
      "True\n",
      "True\n",
      "['1', '0.209983', '0.737666', '0.0333148', '0.0488206']\n",
      "['0', '0.100525', '0.545007', '0.134989', '0.538372']\n",
      "Regions:  [(63, 435, 297, 879)]\n",
      "Cropped image /mnt/c/Adrianov/Projects/trash-detector/yolo_res/images/result_493.jpg and saved result to /mnt/c/Adrianov/Projects/trash-detector/masks/imgs/result_670_0.jpg\n",
      "/mnt/c/Adrianov/Projects/trash-detector/yolo_res/label/result_494.txt\n",
      "/mnt/c/Adrianov/Projects/trash-detector/yolo_res/images/result_494.jpg\n",
      "obj: 3, obj: 0\n",
      "0.42005356666666666 0.16603243333333334 0.7320832148148149 1.1646307851851851\n",
      "0.5826975 0.5026145000000001 0.34139499999999995 0.667073\n",
      "False\n",
      "True\n",
      "False\n",
      "False\n",
      "True\n",
      "obj: 3, obj: 1\n",
      "0.42005356666666666 0.16603243333333334 0.7320832148148149 1.1646307851851851\n",
      "0.29521200000000003 0.168056 0.260007 0.940435\n",
      "True\n",
      "False\n",
      "False\n",
      "True\n",
      "True\n",
      "obj: 3, obj: 2\n",
      "0.42005356666666666 0.16603243333333334 0.7320832148148149 1.1646307851851851\n",
      "0.6788545500000001 0.58915545 0.376228 0.6343179999999999\n",
      "False\n",
      "True\n",
      "False\n",
      "False\n",
      "True\n",
      "['1', '0.293043', '0.948357', '0.0456878', '0.0621772']\n",
      "['0', '0.231634', '0.600221', '0.127156', '0.680428']\n",
      "Regions:  [(322, 606, 280, 1057)]\n",
      "Cropped image /mnt/c/Adrianov/Projects/trash-detector/yolo_res/images/result_494.jpg and saved result to /mnt/c/Adrianov/Projects/trash-detector/masks/imgs/result_671_0.jpg\n",
      "/mnt/c/Adrianov/Projects/trash-detector/yolo_res/label/result_495.txt\n",
      "/mnt/c/Adrianov/Projects/trash-detector/yolo_res/images/result_495.jpg\n"
     ]
    },
    {
     "name": "stderr",
     "output_type": "stream",
     "text": [
      " 55%|██████████████▉            | 674/1219 [01:38<00:54, 10.04it/s]"
     ]
    },
    {
     "name": "stdout",
     "output_type": "stream",
     "text": [
      "Cropped image /mnt/c/Adrianov/Projects/trash-detector/yolo_res/images/result_495.jpg and saved result to None\n",
      "/mnt/c/Adrianov/Projects/trash-detector/yolo_res/label/result_496.txt\n",
      "/mnt/c/Adrianov/Projects/trash-detector/yolo_res/images/result_496.jpg\n",
      "Cropped image /mnt/c/Adrianov/Projects/trash-detector/yolo_res/images/result_496.jpg and saved result to None\n",
      "/mnt/c/Adrianov/Projects/trash-detector/yolo_res/label/result_497.txt\n",
      "/mnt/c/Adrianov/Projects/trash-detector/yolo_res/images/result_497.jpg\n",
      "obj: 3, obj: 0\n",
      "0.4199219166666667 0.16607408333333332 0.7325352148148149 1.164868785185185\n",
      "0.5782894000000001 0.4986046 0.340785 0.6656650000000001\n",
      "False\n",
      "True\n",
      "False\n",
      "False\n",
      "True\n",
      "obj: 3, obj: 1\n",
      "0.4199219166666667 0.16607408333333332 0.7325352148148149 1.164868785185185\n",
      "0.295107 0.17080499999999998 0.2617595 0.9392525\n",
      "True\n",
      "False\n",
      "False\n",
      "True\n",
      "True\n",
      "obj: 3, obj: 2\n",
      "0.4199219166666667 0.16607408333333332 0.7325352148148149 1.164868785185185\n",
      "0.67910225 0.5868417499999999 0.38530800000000004 0.6364400000000001\n",
      "False\n",
      "True\n",
      "False\n",
      "False\n",
      "True\n"
     ]
    },
    {
     "name": "stderr",
     "output_type": "stream",
     "text": [
      " 56%|██████████████▉            | 677/1219 [01:38<00:54, 10.02it/s]"
     ]
    },
    {
     "name": "stdout",
     "output_type": "stream",
     "text": [
      "['1', '0.292998', '0.948702', '0.0455145', '0.0619632']\n",
      "['0', '0.232956', '0.600506', '0.124302', '0.677493']\n",
      "Regions:  [(327, 606, 282, 1058)]\n",
      "Cropped image /mnt/c/Adrianov/Projects/trash-detector/yolo_res/images/result_497.jpg and saved result to /mnt/c/Adrianov/Projects/trash-detector/masks/imgs/result_674_0.jpg\n",
      "/mnt/c/Adrianov/Projects/trash-detector/yolo_res/label/result_498.txt\n",
      "/mnt/c/Adrianov/Projects/trash-detector/yolo_res/images/result_498.jpg\n",
      "Cropped image /mnt/c/Adrianov/Projects/trash-detector/yolo_res/images/result_498.jpg and saved result to None\n",
      "/mnt/c/Adrianov/Projects/trash-detector/yolo_res/label/result_499.txt\n",
      "/mnt/c/Adrianov/Projects/trash-detector/yolo_res/images/result_499.jpg\n",
      "obj: 2, obj: 0\n",
      "0.3273326666666667 0.08937133333333333 0.5281726648148148 0.9511933351851851\n",
      "0.1683445 0.03461550000000001 0.278289 0.814999\n",
      "True\n",
      "False\n",
      "False\n",
      "True\n",
      "True\n",
      "obj: 2, obj: 1\n",
      "0.3273326666666667 0.08937133333333333 0.5281726648148148 0.9511933351851851\n",
      "0.63855555 0.55584045 0.26807800000000004 0.590974\n",
      "False\n",
      "True\n",
      "False\n",
      "True\n",
      "True\n",
      "obj: 3, obj: 0\n",
      "0.7560982166666667 0.5178637833333334 0.4231426648148148 0.8194253351851851\n",
      "0.1683445 0.03461550000000001 0.278289 0.814999\n",
      "False\n",
      "False\n",
      "True\n",
      "True\n",
      "True\n",
      "obj: 3, obj: 1\n",
      "0.7560982166666667 0.5178637833333334 0.4231426648148148 0.8194253351851851\n",
      "0.63855555 0.55584045 0.26807800000000004 0.590974\n",
      "True\n",
      "False\n",
      "False\n",
      "True\n",
      "True\n",
      "['1', '0.208352', '0.739683', '0.029628', '0.0526503']\n",
      "['0', '0.10148', '0.546644', '0.133729', '0.53671']\n",
      "Regions:  [(66, 428, 300, 880)]\n",
      "['1', '0.636981', '0.621284', '0.0299011', '0.0259123']\n",
      "['0', '0.597198', '0.429526', '0.0827151', '0.322896']\n",
      "Regions:  [(66, 428, 300, 880), (1067, 1251, 289, 684)]\n",
      "Cropped image /mnt/c/Adrianov/Projects/trash-detector/yolo_res/images/result_499.jpg and saved result to /mnt/c/Adrianov/Projects/trash-detector/masks/imgs/result_676_0.jpg\n",
      "/mnt/c/Adrianov/Projects/trash-detector/yolo_res/label/result_5.txt\n",
      "/mnt/c/Adrianov/Projects/trash-detector/yolo_res/images/result_5.jpg\n"
     ]
    },
    {
     "name": "stderr",
     "output_type": "stream",
     "text": [
      " 56%|███████████████            | 678/1219 [01:38<01:03,  8.50it/s]"
     ]
    },
    {
     "name": "stdout",
     "output_type": "stream",
     "text": [
      "obj: 3, obj: 0\n",
      "0.9019451166666667 0.6415948833333333 0.7449065648148148 1.1655114351851852\n",
      "0.881337 0.7582329999999999 0.368641 0.915727\n",
      "True\n",
      "False\n",
      "False\n",
      "True\n",
      "True\n",
      "obj: 3, obj: 1\n",
      "0.9019451166666667 0.6415948833333333 0.7449065648148148 1.1655114351851852\n",
      "0.5428156000000001 0.47051440000000005 0.38671450000000007 0.7085835\n",
      "False\n",
      "False\n",
      "True\n",
      "False\n",
      "True\n",
      "obj: 3, obj: 2\n",
      "0.9019451166666667 0.6415948833333333 0.7449065648148148 1.1655114351851852\n",
      "0.226762 0.0 0.635616 1.0\n",
      "False\n",
      "False\n",
      "True\n",
      "True\n",
      "True\n",
      "['1', '0.77177', '0.955209', '0.0520169', '0.0502345']\n",
      "['0', '0.819785', '0.642184', '0.123104', '0.547086']\n",
      "Regions:  [(1431, 1692, 398, 1058)]\n",
      "Cropped image /mnt/c/Adrianov/Projects/trash-detector/yolo_res/images/result_5.jpg and saved result to /mnt/c/Adrianov/Projects/trash-detector/masks/imgs/result_677_0.jpg\n",
      "/mnt/c/Adrianov/Projects/trash-detector/yolo_res/label/result_50.txt\n",
      "/mnt/c/Adrianov/Projects/trash-detector/yolo_res/images/result_50.jpg\n",
      "Cropped image /mnt/c/Adrianov/Projects/trash-detector/yolo_res/images/result_50.jpg and saved result to None\n",
      "/mnt/c/Adrianov/Projects/trash-detector/yolo_res/label/result_500.txt\n",
      "/mnt/c/Adrianov/Projects/trash-detector/yolo_res/images/result_500.jpg\n"
     ]
    },
    {
     "name": "stderr",
     "output_type": "stream",
     "text": [
      " 56%|███████████████            | 680/1219 [01:38<01:01,  8.81it/s]"
     ]
    },
    {
     "name": "stdout",
     "output_type": "stream",
     "text": [
      "obj: 2, obj: 0\n",
      "0.7551454666666667 0.5189425333333334 0.42349911481481484 0.8194988851851852\n",
      "0.1660195 0.03725450000000001 0.27845050000000005 0.8143515\n",
      "False\n",
      "False\n",
      "True\n",
      "True\n",
      "True\n",
      "obj: 2, obj: 1\n",
      "0.7551454666666667 0.5189425333333334 0.42349911481481484 0.8194988851851852\n",
      "0.63770465 0.55473735 0.2669665 0.5899375\n",
      "True\n",
      "False\n",
      "False\n",
      "True\n",
      "True\n",
      "obj: 3, obj: 0\n",
      "0.3272319166666667 0.08911808333333332 0.5286860648148148 0.9516919351851851\n",
      "0.1660195 0.03725450000000001 0.27845050000000005 0.8143515\n",
      "True\n",
      "False\n",
      "False\n",
      "True\n",
      "True\n",
      "obj: 3, obj: 1\n",
      "0.3272319166666667 0.08911808333333332 0.5286860648148148 0.9516919351851851\n",
      "0.63770465 0.55473735 0.2669665 0.5899375\n",
      "False\n",
      "True\n",
      "False\n",
      "True\n",
      "True\n",
      "['1', '0.637044', '0.621499', '0.0278696', '0.0256294']\n",
      "['0', '0.596221', '0.428452', '0.0829673', '0.322971']\n",
      "Regions:  [(1065, 1249, 288, 685)]\n",
      "['1', '0.208175', '0.740189', '0.0297805', '0.0526355']\n",
      "['0', '0.101637', '0.546401', '0.128765', '0.535901']\n",
      "Regions:  [(1065, 1249, 288, 685), (71, 428, 300, 879)]\n",
      "Cropped image /mnt/c/Adrianov/Projects/trash-detector/yolo_res/images/result_500.jpg and saved result to /mnt/c/Adrianov/Projects/trash-detector/masks/imgs/result_679_0.jpg\n",
      "/mnt/c/Adrianov/Projects/trash-detector/yolo_res/label/result_501.txt\n",
      "/mnt/c/Adrianov/Projects/trash-detector/yolo_res/images/result_501.jpg\n",
      "obj: 3, obj: 0\n",
      "0.41977756666666666 0.16614043333333336 0.7327557648148149 1.164466235185185\n",
      "0.5762101 0.4942899 0.33519249999999995 0.6677074999999999\n",
      "False\n",
      "True\n",
      "False\n",
      "False\n",
      "True\n",
      "obj: 3, obj: 1\n",
      "0.41977756666666666 0.16614043333333336 0.7327557648148149 1.164466235185185\n",
      "0.30189 0.17339 0.268315 0.930839\n",
      "True\n",
      "False\n",
      "False\n",
      "True\n",
      "True\n",
      "obj: 3, obj: 2\n",
      "0.41977756666666666 0.16614043333333336 0.7327557648148149 1.164466235185185\n",
      "0.6729345 0.5894675 0.384351 0.6359929999999999\n",
      "False\n",
      "True\n",
      "False\n",
      "False\n",
      "True\n",
      "['1', '0.292959', '0.948611', '0.0453038', '0.0613401']\n",
      "['0', '0.23764', '0.599577', '0.1285', '0.662524']\n",
      "Regions:  [(332, 605, 289, 1057)]\n",
      "Cropped image /mnt/c/Adrianov/Projects/trash-detector/yolo_res/images/result_501.jpg and saved result to /mnt/c/Adrianov/Projects/trash-detector/masks/imgs/result_680_0.jpg\n",
      "/mnt/c/Adrianov/Projects/trash-detector/yolo_res/label/result_502.txt\n",
      "/mnt/c/Adrianov/Projects/trash-detector/yolo_res/images/result_502.jpg\n"
     ]
    },
    {
     "name": "stderr",
     "output_type": "stream",
     "text": [
      " 56%|███████████████▏           | 683/1219 [01:39<01:04,  8.31it/s]"
     ]
    },
    {
     "name": "stdout",
     "output_type": "stream",
     "text": [
      "Cropped image /mnt/c/Adrianov/Projects/trash-detector/yolo_res/images/result_502.jpg and saved result to None\n",
      "/mnt/c/Adrianov/Projects/trash-detector/yolo_res/label/result_503.txt\n",
      "/mnt/c/Adrianov/Projects/trash-detector/yolo_res/images/result_503.jpg\n",
      "Cropped image /mnt/c/Adrianov/Projects/trash-detector/yolo_res/images/result_503.jpg and saved result to None\n",
      "/mnt/c/Adrianov/Projects/trash-detector/yolo_res/label/result_504.txt\n",
      "/mnt/c/Adrianov/Projects/trash-detector/yolo_res/images/result_504.jpg\n"
     ]
    },
    {
     "name": "stderr",
     "output_type": "stream",
     "text": [
      " 56%|███████████████▏           | 685/1219 [01:39<01:15,  7.03it/s]"
     ]
    },
    {
     "name": "stdout",
     "output_type": "stream",
     "text": [
      "Cropped image /mnt/c/Adrianov/Projects/trash-detector/yolo_res/images/result_504.jpg and saved result to None\n",
      "/mnt/c/Adrianov/Projects/trash-detector/yolo_res/label/result_505.txt\n",
      "/mnt/c/Adrianov/Projects/trash-detector/yolo_res/images/result_505.jpg\n",
      "obj: 2, obj: 0\n",
      "0.7545333166666667 0.5193406833333333 0.4242773648148148 0.8195926351851852\n",
      "0.63774955 0.55279445 0.26691699999999996 0.590287\n",
      "True\n",
      "False\n",
      "False\n",
      "True\n",
      "True\n",
      "obj: 2, obj: 1\n",
      "0.7545333166666667 0.5193406833333333 0.4242773648148148 0.8195926351851852\n",
      "0.160507 0.040989000000000005 0.28070199999999995 0.8155159999999999\n",
      "False\n",
      "False\n",
      "True\n",
      "True\n",
      "True\n",
      "obj: 3, obj: 0\n",
      "0.3271043166666667 0.08975968333333334 0.5296122648148148 0.9517477351851852\n",
      "0.63774955 0.55279445 0.26691699999999996 0.590287\n",
      "False\n",
      "True\n",
      "False\n",
      "True\n",
      "True\n",
      "obj: 3, obj: 1\n",
      "0.3271043166666667 0.08975968333333334 0.5296122648148148 0.9517477351851852\n",
      "0.160507 0.040989000000000005 0.28070199999999995 0.8155159999999999\n",
      "True\n",
      "False\n",
      "False\n",
      "True\n",
      "True\n",
      "['1', '0.636937', '0.621935', '0.0268593', '0.0249449']\n",
      "['0', '0.595272', '0.428602', '0.0849551', '0.32337']\n",
      "Regions:  [(1061, 1248, 288, 685)]\n",
      "['1', '0.208432', '0.74068', '0.0290113', '0.0517651']\n",
      "['0', '0.100748', '0.548109', '0.119518', '0.534814']\n",
      "Regions:  [(1061, 1248, 288, 685), (78, 428, 303, 880)]\n",
      "Cropped image /mnt/c/Adrianov/Projects/trash-detector/yolo_res/images/result_505.jpg and saved result to /mnt/c/Adrianov/Projects/trash-detector/masks/imgs/result_684_0.jpg\n",
      "/mnt/c/Adrianov/Projects/trash-detector/yolo_res/label/result_506.txt\n",
      "/mnt/c/Adrianov/Projects/trash-detector/yolo_res/images/result_506.jpg\n"
     ]
    },
    {
     "name": "stderr",
     "output_type": "stream",
     "text": [
      " 56%|███████████████▏           | 687/1219 [01:39<01:19,  6.69it/s]"
     ]
    },
    {
     "name": "stdout",
     "output_type": "stream",
     "text": [
      "Cropped image /mnt/c/Adrianov/Projects/trash-detector/yolo_res/images/result_506.jpg and saved result to None\n",
      "/mnt/c/Adrianov/Projects/trash-detector/yolo_res/label/result_507.txt\n",
      "/mnt/c/Adrianov/Projects/trash-detector/yolo_res/images/result_507.jpg\n",
      "obj: 3, obj: 0\n",
      "0.41982091666666665 0.16639708333333333 0.7327368648148148 1.164587135185185\n",
      "0.5726306 0.4923374 0.33306499999999994 0.668809\n",
      "False\n",
      "True\n",
      "False\n",
      "False\n",
      "True\n",
      "obj: 3, obj: 1\n",
      "0.41982091666666665 0.16639708333333333 0.7327368648148148 1.164587135185185\n",
      "0.302891 0.177207 0.26397050000000005 0.9477935\n",
      "True\n",
      "False\n",
      "False\n",
      "True\n",
      "True\n",
      "obj: 3, obj: 2\n",
      "0.41982091666666665 0.16639708333333333 0.7327368648148148 1.164587135185185\n",
      "0.6681580500000001 0.59307795 0.3847275 0.5950725\n",
      "False\n",
      "True\n",
      "False\n",
      "False\n",
      "True\n",
      "['1', '0.293109', '0.948662', '0.0450905', '0.0614799']\n",
      "['0', '0.240049', '0.605882', '0.125684', '0.683823']\n",
      "Regions:  [(340, 606, 285, 1057)]\n",
      "Cropped image /mnt/c/Adrianov/Projects/trash-detector/yolo_res/images/result_507.jpg and saved result to /mnt/c/Adrianov/Projects/trash-detector/masks/imgs/result_686_0.jpg\n",
      "/mnt/c/Adrianov/Projects/trash-detector/yolo_res/label/result_508.txt\n",
      "/mnt/c/Adrianov/Projects/trash-detector/yolo_res/images/result_508.jpg\n"
     ]
    },
    {
     "name": "stderr",
     "output_type": "stream",
     "text": [
      " 57%|███████████████▎           | 689/1219 [01:40<01:30,  5.86it/s]"
     ]
    },
    {
     "name": "stdout",
     "output_type": "stream",
     "text": [
      "Cropped image /mnt/c/Adrianov/Projects/trash-detector/yolo_res/images/result_508.jpg and saved result to None\n",
      "/mnt/c/Adrianov/Projects/trash-detector/yolo_res/label/result_509.txt\n",
      "/mnt/c/Adrianov/Projects/trash-detector/yolo_res/images/result_509.jpg\n",
      "Cropped image /mnt/c/Adrianov/Projects/trash-detector/yolo_res/images/result_509.jpg and saved result to None\n",
      "/mnt/c/Adrianov/Projects/trash-detector/yolo_res/label/result_51.txt\n",
      "/mnt/c/Adrianov/Projects/trash-detector/yolo_res/images/result_51.jpg\n"
     ]
    },
    {
     "name": "stderr",
     "output_type": "stream",
     "text": [
      " 57%|███████████████▎           | 691/1219 [01:40<01:12,  7.32it/s]"
     ]
    },
    {
     "name": "stdout",
     "output_type": "stream",
     "text": [
      "Cropped image /mnt/c/Adrianov/Projects/trash-detector/yolo_res/images/result_51.jpg and saved result to None\n",
      "/mnt/c/Adrianov/Projects/trash-detector/yolo_res/label/result_510.txt\n",
      "/mnt/c/Adrianov/Projects/trash-detector/yolo_res/images/result_510.jpg\n",
      "Cropped image /mnt/c/Adrianov/Projects/trash-detector/yolo_res/images/result_510.jpg and saved result to None\n",
      "/mnt/c/Adrianov/Projects/trash-detector/yolo_res/label/result_511.txt\n",
      "/mnt/c/Adrianov/Projects/trash-detector/yolo_res/images/result_511.jpg\n",
      "Cropped image /mnt/c/Adrianov/Projects/trash-detector/yolo_res/images/result_511.jpg and saved result to None\n"
     ]
    },
    {
     "name": "stderr",
     "output_type": "stream",
     "text": [
      " 57%|███████████████▎           | 693/1219 [01:40<01:04,  8.14it/s]"
     ]
    },
    {
     "name": "stdout",
     "output_type": "stream",
     "text": [
      "/mnt/c/Adrianov/Projects/trash-detector/yolo_res/label/result_512.txt\n",
      "/mnt/c/Adrianov/Projects/trash-detector/yolo_res/images/result_512.jpg\n",
      "obj: 2, obj: 0\n",
      "0.32728311666666665 0.09050288333333333 0.5307555648148148 0.9514544351851852\n",
      "0.63767975 0.5520302500000001 0.265282 0.5908559999999999\n",
      "False\n",
      "True\n",
      "False\n",
      "True\n",
      "True\n",
      "obj: 2, obj: 1\n",
      "0.32728311666666665 0.09050288333333333 0.5307555648148148 0.9514544351851852\n",
      "0.16006399999999998 0.042838 0.2825425 0.8085355000000001\n",
      "True\n",
      "False\n",
      "False\n",
      "True\n",
      "True\n",
      "obj: 3, obj: 0\n",
      "0.7549527666666667 0.5206692333333334 0.42399451481481476 0.8186894851851851\n",
      "0.63767975 0.5520302500000001 0.265282 0.5908559999999999\n",
      "True\n",
      "False\n",
      "False\n",
      "True\n",
      "True\n",
      "obj: 3, obj: 1\n",
      "0.7549527666666667 0.5206692333333334 0.42399451481481476 0.8186894851851851\n",
      "0.16006399999999998 0.042838 0.2825425 0.8085355000000001\n",
      "False\n",
      "False\n",
      "True\n",
      "True\n",
      "True\n",
      "['1', '0.208893', '0.741105', '0.0284469', '0.0503285']\n",
      "['0', '0.101451', '0.545539', '0.117226', '0.525993']\n",
      "Regions:  [(82, 428, 305, 873)]\n",
      "['1', '0.637811', '0.621342', '0.0259502', '0.0243246']\n",
      "['0', '0.594855', '0.428069', '0.0856495', '0.325574']\n",
      "Regions:  [(82, 428, 305, 873), (1059, 1249, 286, 684)]\n",
      "Cropped image /mnt/c/Adrianov/Projects/trash-detector/yolo_res/images/result_512.jpg and saved result to /mnt/c/Adrianov/Projects/trash-detector/masks/imgs/result_692_0.jpg\n",
      "/mnt/c/Adrianov/Projects/trash-detector/yolo_res/label/result_513.txt\n",
      "/mnt/c/Adrianov/Projects/trash-detector/yolo_res/images/result_513.jpg\n"
     ]
    },
    {
     "name": "stderr",
     "output_type": "stream",
     "text": [
      " 57%|███████████████▍           | 696/1219 [01:40<00:56,  9.28it/s]"
     ]
    },
    {
     "name": "stdout",
     "output_type": "stream",
     "text": [
      "Cropped image /mnt/c/Adrianov/Projects/trash-detector/yolo_res/images/result_513.jpg and saved result to None\n",
      "/mnt/c/Adrianov/Projects/trash-detector/yolo_res/label/result_514.txt\n",
      "/mnt/c/Adrianov/Projects/trash-detector/yolo_res/images/result_514.jpg\n",
      "Cropped image /mnt/c/Adrianov/Projects/trash-detector/yolo_res/images/result_514.jpg and saved result to None\n",
      "/mnt/c/Adrianov/Projects/trash-detector/yolo_res/label/result_515.txt\n",
      "/mnt/c/Adrianov/Projects/trash-detector/yolo_res/images/result_515.jpg\n",
      "obj: 2, obj: 0\n",
      "0.3272615166666667 0.09053448333333333 0.5332549148148148 0.9507070851851852\n",
      "0.6360855 0.5527945 0.267408 0.588746\n",
      "False\n",
      "True\n",
      "False\n",
      "True\n",
      "True\n",
      "obj: 2, obj: 1\n",
      "0.3272615166666667 0.09053448333333333 0.5332549148148148 0.9507070851851852\n",
      "0.165292 0.04183800000000001 0.28612800000000005 0.813926\n",
      "True\n",
      "False\n",
      "False\n",
      "True\n",
      "True\n",
      "obj: 3, obj: 0\n",
      "0.7538648166666666 0.5218691833333333 0.4245096148148148 0.8179903851851851\n",
      "0.6360855 0.5527945 0.267408 0.588746\n",
      "True\n",
      "False\n",
      "False\n",
      "True\n",
      "True\n",
      "obj: 3, obj: 1\n",
      "0.7538648166666666 0.5218691833333333 0.4245096148148148 0.8179903851851851\n",
      "0.165292 0.04183800000000001 0.28612800000000005 0.813926\n",
      "False\n",
      "False\n",
      "True\n",
      "True\n",
      "True\n",
      "['1', '0.208898', '0.741981', '0.0283937', '0.0470818']\n",
      "['0', '0.103565', '0.550027', '0.123454', '0.527798']\n",
      "Regions:  [(80, 428, 309, 879)]\n",
      "['1', '0.637867', '0.62125', '0.0236623', '0.0231104']\n",
      "['0', '0.59444', '0.428077', '0.083291', '0.321338']\n",
      "Regions:  [(80, 428, 309, 879), (1061, 1247, 288, 683)]\n",
      "Cropped image /mnt/c/Adrianov/Projects/trash-detector/yolo_res/images/result_515.jpg and saved result to /mnt/c/Adrianov/Projects/trash-detector/masks/imgs/result_695_0.jpg\n",
      "/mnt/c/Adrianov/Projects/trash-detector/yolo_res/label/result_516.txt\n",
      "/mnt/c/Adrianov/Projects/trash-detector/yolo_res/images/result_516.jpg\n"
     ]
    },
    {
     "name": "stderr",
     "output_type": "stream",
     "text": [
      " 57%|███████████████▍           | 698/1219 [01:41<00:59,  8.77it/s]"
     ]
    },
    {
     "name": "stdout",
     "output_type": "stream",
     "text": [
      "Cropped image /mnt/c/Adrianov/Projects/trash-detector/yolo_res/images/result_516.jpg and saved result to None\n",
      "/mnt/c/Adrianov/Projects/trash-detector/yolo_res/label/result_517.txt\n",
      "/mnt/c/Adrianov/Projects/trash-detector/yolo_res/images/result_517.jpg\n",
      "Cropped image /mnt/c/Adrianov/Projects/trash-detector/yolo_res/images/result_517.jpg and saved result to None\n",
      "/mnt/c/Adrianov/Projects/trash-detector/yolo_res/label/result_518.txt\n",
      "/mnt/c/Adrianov/Projects/trash-detector/yolo_res/images/result_518.jpg\n",
      "Cropped image /mnt/c/Adrianov/Projects/trash-detector/yolo_res/images/result_518.jpg and saved result to None\n",
      "/mnt/c/Adrianov/Projects/trash-detector/yolo_res/label/result_519.txt\n",
      "/mnt/c/Adrianov/Projects/trash-detector/yolo_res/images/result_519.jpg\n"
     ]
    },
    {
     "name": "stderr",
     "output_type": "stream",
     "text": [
      " 58%|███████████████▌           | 701/1219 [01:42<03:35,  2.40it/s]"
     ]
    },
    {
     "name": "stdout",
     "output_type": "stream",
     "text": [
      "Cropped image /mnt/c/Adrianov/Projects/trash-detector/yolo_res/images/result_519.jpg and saved result to None\n",
      "/mnt/c/Adrianov/Projects/trash-detector/yolo_res/label/result_52.txt\n",
      "/mnt/c/Adrianov/Projects/trash-detector/yolo_res/images/result_52.jpg\n",
      "obj: 2, obj: 0\n",
      "0.9078256166666667 0.6500903833333334 0.7534733648148149 1.1748106351851852\n",
      "0.9204045 0.7921675 0.365091 0.879581\n",
      "True\n",
      "False\n",
      "False\n",
      "True\n",
      "True\n",
      "obj: 2, obj: 1\n",
      "0.9078256166666667 0.6500903833333334 0.7534733648148149 1.1748106351851852\n",
      "0.5816155999999999 0.49433239999999995 0.410196 0.770554\n",
      "False\n",
      "False\n",
      "True\n",
      "True\n",
      "True\n",
      "obj: 2, obj: 3\n",
      "0.9078256166666667 0.6500903833333334 0.7534733648148149 1.1748106351851852\n",
      "0.2569805 -5.000000000143778e-07 0.647307 0.999683\n",
      "False\n",
      "False\n",
      "True\n",
      "True\n",
      "True\n",
      "['1', '0.778958', '0.964142', '0.0494019', '0.0509669']\n",
      "['0', '0.856286', '0.622336', '0.128237', '0.51449']\n",
      "Regions:  [(1448, 1767, 394, 1068)]\n",
      "Cropped image /mnt/c/Adrianov/Projects/trash-detector/yolo_res/images/result_52.jpg and saved result to /mnt/c/Adrianov/Projects/trash-detector/masks/imgs/result_700_0.jpg\n",
      "/mnt/c/Adrianov/Projects/trash-detector/yolo_res/label/result_520.txt\n",
      "/mnt/c/Adrianov/Projects/trash-detector/yolo_res/images/result_520.jpg\n",
      "obj: 2, obj: 0\n",
      "0.32740291666666665 0.08986508333333332 0.5337707648148148 0.9509212351851851\n",
      "0.6362625 0.5532375 0.264574 0.589446\n",
      "False\n",
      "True\n",
      "False\n",
      "True\n",
      "True\n",
      "obj: 2, obj: 1\n",
      "0.32740291666666665 0.08986508333333332 0.5337707648148148 0.9509212351851851\n",
      "0.1598134 0.039227399999999996 0.294523 0.816437\n",
      "True\n",
      "False\n",
      "False\n",
      "True\n",
      "True\n",
      "obj: 3, obj: 0\n",
      "0.7533746166666667 0.5222313833333333 0.4254167148148148 0.8188192851851851\n",
      "0.6362625 0.5532375 0.264574 0.589446\n",
      "True\n",
      "False\n",
      "False\n",
      "True\n",
      "True\n",
      "obj: 3, obj: 1\n",
      "0.7533746166666667 0.5222313833333333 0.4254167148148148 0.8188192851851851\n",
      "0.1598134 0.039227399999999996 0.294523 0.816437\n",
      "False\n",
      "False\n",
      "True\n",
      "True\n",
      "True\n",
      "['1', '0.208634', '0.742346', '0.0292045', '0.0467801']\n",
      "['0', '0.0995204', '0.55548', '0.120586', '0.521914']\n",
      "Regions:  [(75, 428, 318, 881)]\n",
      "['1', '0.637803', '0.622118', '0.0228099', '0.0230322']\n",
      "['0', '0.59475', '0.42701', '0.083025', '0.324872']\n",
      "Regions:  [(75, 428, 318, 881), (1062, 1246, 285, 684)]\n"
     ]
    },
    {
     "name": "stderr",
     "output_type": "stream",
     "text": [
      " 58%|███████████████▌           | 704/1219 [01:43<02:02,  4.19it/s]"
     ]
    },
    {
     "name": "stdout",
     "output_type": "stream",
     "text": [
      "Cropped image /mnt/c/Adrianov/Projects/trash-detector/yolo_res/images/result_520.jpg and saved result to /mnt/c/Adrianov/Projects/trash-detector/masks/imgs/result_701_0.jpg\n",
      "/mnt/c/Adrianov/Projects/trash-detector/yolo_res/label/result_521.txt\n",
      "/mnt/c/Adrianov/Projects/trash-detector/yolo_res/images/result_521.jpg\n",
      "Cropped image /mnt/c/Adrianov/Projects/trash-detector/yolo_res/images/result_521.jpg and saved result to None\n",
      "/mnt/c/Adrianov/Projects/trash-detector/yolo_res/label/result_522.txt\n",
      "/mnt/c/Adrianov/Projects/trash-detector/yolo_res/images/result_522.jpg\n",
      "Cropped image /mnt/c/Adrianov/Projects/trash-detector/yolo_res/images/result_522.jpg and saved result to None\n",
      "/mnt/c/Adrianov/Projects/trash-detector/yolo_res/label/result_523.txt\n",
      "/mnt/c/Adrianov/Projects/trash-detector/yolo_res/images/result_523.jpg\n"
     ]
    },
    {
     "name": "stderr",
     "output_type": "stream",
     "text": [
      " 58%|███████████████▋           | 706/1219 [01:43<01:33,  5.46it/s]"
     ]
    },
    {
     "name": "stdout",
     "output_type": "stream",
     "text": [
      "Cropped image /mnt/c/Adrianov/Projects/trash-detector/yolo_res/images/result_523.jpg and saved result to None\n",
      "/mnt/c/Adrianov/Projects/trash-detector/yolo_res/label/result_524.txt\n",
      "/mnt/c/Adrianov/Projects/trash-detector/yolo_res/images/result_524.jpg\n",
      "obj: 2, obj: 0\n",
      "0.33005931666666666 0.08886468333333333 0.5334267148148149 0.9503292851851852\n",
      "0.6337448 0.5578671999999999 0.2648195 0.5894165\n",
      "False\n",
      "True\n",
      "False\n",
      "True\n",
      "True\n",
      "obj: 2, obj: 1\n",
      "0.33005931666666666 0.08886468333333333 0.5334267148148149 0.9503292851851852\n",
      "0.155859 0.036655999999999994 0.292514 0.8183640000000001\n",
      "True\n",
      "False\n",
      "False\n",
      "True\n",
      "True\n",
      "obj: 3, obj: 0\n",
      "0.7532567166666666 0.5225632833333334 0.42416681481481483 0.8184131851851852\n",
      "0.6337448 0.5578671999999999 0.2648195 0.5894165\n",
      "True\n",
      "False\n",
      "False\n",
      "True\n",
      "True\n",
      "obj: 3, obj: 1\n",
      "0.7532567166666666 0.5225632833333334 0.42416681481481483 0.8184131851851852\n",
      "0.155859 0.036655999999999994 0.292514 0.8183640000000001\n",
      "False\n",
      "False\n",
      "True\n",
      "True\n",
      "True\n",
      "['1', '0.209462', '0.741878', '0.0328613', '0.0465322']\n",
      "['0', '0.0962575', '0.555439', '0.119203', '0.52585']\n",
      "Regions:  [(70, 433, 315, 883)]\n",
      "['1', '0.63791', '0.62129', '0.0223601', '0.023876']\n",
      "['0', '0.595806', '0.427118', '0.0758776', '0.324597']\n",
      "Regions:  [(70, 433, 315, 883), (1071, 1246, 286, 683)]\n",
      "Cropped image /mnt/c/Adrianov/Projects/trash-detector/yolo_res/images/result_524.jpg and saved result to /mnt/c/Adrianov/Projects/trash-detector/masks/imgs/result_705_0.jpg\n",
      "/mnt/c/Adrianov/Projects/trash-detector/yolo_res/label/result_526.txt\n",
      "/mnt/c/Adrianov/Projects/trash-detector/yolo_res/images/result_525.jpg\n"
     ]
    },
    {
     "name": "stderr",
     "output_type": "stream",
     "text": [
      " 58%|███████████████▋           | 709/1219 [01:43<01:10,  7.20it/s]"
     ]
    },
    {
     "name": "stdout",
     "output_type": "stream",
     "text": [
      "Cropped image /mnt/c/Adrianov/Projects/trash-detector/yolo_res/images/result_525.jpg and saved result to None\n",
      "/mnt/c/Adrianov/Projects/trash-detector/yolo_res/label/result_527.txt\n",
      "/mnt/c/Adrianov/Projects/trash-detector/yolo_res/images/result_526.jpg\n",
      "Cropped image /mnt/c/Adrianov/Projects/trash-detector/yolo_res/images/result_526.jpg and saved result to None\n",
      "/mnt/c/Adrianov/Projects/trash-detector/yolo_res/label/result_528.txt\n",
      "/mnt/c/Adrianov/Projects/trash-detector/yolo_res/images/result_527.jpg\n",
      "Cropped image /mnt/c/Adrianov/Projects/trash-detector/yolo_res/images/result_527.jpg and saved result to None\n",
      "/mnt/c/Adrianov/Projects/trash-detector/yolo_res/label/result_529.txt\n",
      "/mnt/c/Adrianov/Projects/trash-detector/yolo_res/images/result_528.jpg\n"
     ]
    },
    {
     "name": "stderr",
     "output_type": "stream",
     "text": [
      " 58%|███████████████▋           | 711/1219 [01:43<01:06,  7.68it/s]"
     ]
    },
    {
     "name": "stdout",
     "output_type": "stream",
     "text": [
      "obj: 2, obj: 0\n",
      "0.3303180666666667 0.08880793333333332 0.5331091648148149 0.9509368351851851\n",
      "0.1507958 0.0377168 0.29688 0.8167659999999999\n",
      "True\n",
      "False\n",
      "False\n",
      "True\n",
      "True\n",
      "obj: 2, obj: 1\n",
      "0.3303180666666667 0.08880793333333332 0.5331091648148149 0.9509368351851851\n",
      "0.62947125 0.55838675 0.269107 0.589681\n",
      "False\n",
      "True\n",
      "False\n",
      "True\n",
      "True\n",
      "['1', '0.209563', '0.742023', '0.0331768', '0.0474573']\n",
      "['0', '0.0942563', '0.556823', '0.113079', '0.519886']\n",
      "Regions:  [(72, 434, 320, 882)]\n",
      "Cropped image /mnt/c/Adrianov/Projects/trash-detector/yolo_res/images/result_528.jpg and saved result to /mnt/c/Adrianov/Projects/trash-detector/masks/imgs/result_709_0.jpg\n",
      "/mnt/c/Adrianov/Projects/trash-detector/yolo_res/label/result_53.txt\n",
      "/mnt/c/Adrianov/Projects/trash-detector/yolo_res/images/result_529.jpg\n",
      "Cropped image /mnt/c/Adrianov/Projects/trash-detector/yolo_res/images/result_529.jpg and saved result to None\n",
      "/mnt/c/Adrianov/Projects/trash-detector/yolo_res/label/result_530.txt\n",
      "/mnt/c/Adrianov/Projects/trash-detector/yolo_res/images/result_53.jpg\n"
     ]
    },
    {
     "name": "stderr",
     "output_type": "stream",
     "text": [
      " 58%|███████████████▊           | 713/1219 [01:44<01:09,  7.29it/s]"
     ]
    },
    {
     "name": "stdout",
     "output_type": "stream",
     "text": [
      "obj: 3, obj: 0\n",
      "0.4197073666666667 0.16373863333333333 0.7336634148148149 1.1680705851851851\n",
      "0.5697749999999999 0.46836099999999997 0.336642 0.674918\n",
      "False\n",
      "True\n",
      "False\n",
      "False\n",
      "True\n",
      "obj: 3, obj: 1\n",
      "0.4197073666666667 0.16373863333333333 0.7336634148148149 1.1680705851851851\n",
      "0.31594249999999996 0.1908315 0.2685465 0.9371795\n",
      "True\n",
      "False\n",
      "False\n",
      "True\n",
      "True\n",
      "obj: 3, obj: 2\n",
      "0.4197073666666667 0.16373863333333333 0.7336634148148149 1.1680705851851851\n",
      "0.6632979000000001 0.5832001 0.38385249999999993 0.6455875\n",
      "False\n",
      "True\n",
      "False\n",
      "False\n",
      "True\n",
      "['1', '0.291723', '0.950867', '0.0476354', '0.0640368']\n",
      "['0', '0.253387', '0.602863', '0.125111', '0.668633']\n",
      "Regions:  [(366, 606, 290, 1061)]\n",
      "Cropped image /mnt/c/Adrianov/Projects/trash-detector/yolo_res/images/result_53.jpg and saved result to /mnt/c/Adrianov/Projects/trash-detector/masks/imgs/result_711_0.jpg\n",
      "/mnt/c/Adrianov/Projects/trash-detector/yolo_res/label/result_532.txt\n",
      "/mnt/c/Adrianov/Projects/trash-detector/yolo_res/images/result_530.jpg\n",
      "Cropped image /mnt/c/Adrianov/Projects/trash-detector/yolo_res/images/result_530.jpg and saved result to None\n",
      "/mnt/c/Adrianov/Projects/trash-detector/yolo_res/label/result_533.txt\n",
      "/mnt/c/Adrianov/Projects/trash-detector/yolo_res/images/result_531.jpg\n"
     ]
    },
    {
     "name": "stderr",
     "output_type": "stream",
     "text": [
      " 59%|███████████████▊           | 714/1219 [01:44<01:07,  7.43it/s]"
     ]
    },
    {
     "name": "stdout",
     "output_type": "stream",
     "text": [
      "obj: 3, obj: 0\n",
      "0.4195859666666667 0.16327603333333332 0.7333704648148148 1.1689395351851852\n",
      "0.5698065 0.46891150000000004 0.34001750000000003 0.6763925\n",
      "False\n",
      "True\n",
      "False\n",
      "False\n",
      "True\n",
      "obj: 3, obj: 1\n",
      "0.4195859666666667 0.16327603333333332 0.7333704648148148 1.1689395351851852\n",
      "0.3187595 0.1900045 0.27250450000000004 0.9418695\n",
      "True\n",
      "False\n",
      "False\n",
      "True\n",
      "True\n",
      "obj: 3, obj: 2\n",
      "0.4195859666666667 0.16327603333333332 0.7333704648148148 1.1689395351851852\n",
      "0.6616405 0.5853015 0.385587 0.637895\n",
      "False\n",
      "True\n",
      "False\n",
      "False\n",
      "True\n",
      "['1', '0.291431', '0.951155', '0.0479766', '0.0651987']\n",
      "['0', '0.254382', '0.607187', '0.128755', '0.669365']\n",
      "Regions:  [(364, 612, 294, 1062)]\n",
      "Cropped image /mnt/c/Adrianov/Projects/trash-detector/yolo_res/images/result_531.jpg and saved result to /mnt/c/Adrianov/Projects/trash-detector/masks/imgs/result_713_0.jpg\n",
      "/mnt/c/Adrianov/Projects/trash-detector/yolo_res/label/result_534.txt\n",
      "/mnt/c/Adrianov/Projects/trash-detector/yolo_res/images/result_532.jpg\n",
      "Cropped image /mnt/c/Adrianov/Projects/trash-detector/yolo_res/images/result_532.jpg and saved result to None\n",
      "/mnt/c/Adrianov/Projects/trash-detector/yolo_res/label/result_536.txt\n",
      "/mnt/c/Adrianov/Projects/trash-detector/yolo_res/images/result_533.jpg\n",
      "obj: 2, obj: 0\n",
      "0.3289757166666667 0.08804228333333333 0.5331684148148148 0.9534655851851852\n",
      "0.1516547 0.0369157 0.2984845 0.8146774999999999\n",
      "True\n",
      "False\n",
      "False\n",
      "True\n",
      "True\n",
      "obj: 2, obj: 1\n",
      "0.3289757166666667 0.08804228333333333 0.5331684148148148 0.9534655851851852\n",
      "0.62629305 0.5595109500000001 0.2689155 0.5838225\n",
      "False\n",
      "True\n",
      "False\n",
      "True\n",
      "True\n"
     ]
    },
    {
     "name": "stderr",
     "output_type": "stream",
     "text": [
      " 59%|███████████████▉           | 718/1219 [01:44<00:54,  9.13it/s]"
     ]
    },
    {
     "name": "stdout",
     "output_type": "stream",
     "text": [
      "['1', '0.208509', '0.743317', '0.0326001', '0.0499268']\n",
      "['0', '0.0942852', '0.556581', '0.114739', '0.516193']\n",
      "Regions:  [(70, 431, 322, 879)]\n",
      "Cropped image /mnt/c/Adrianov/Projects/trash-detector/yolo_res/images/result_533.jpg and saved result to /mnt/c/Adrianov/Projects/trash-detector/masks/imgs/result_715_0.jpg\n",
      "/mnt/c/Adrianov/Projects/trash-detector/yolo_res/label/result_538.txt\n",
      "/mnt/c/Adrianov/Projects/trash-detector/yolo_res/images/result_534.jpg\n",
      "obj: 2, obj: 0\n",
      "0.3277562666666667 0.08785173333333332 0.5338275148148148 0.9528084851851852\n",
      "0.1518557 0.036336700000000006 0.3064545 0.8158894999999999\n",
      "True\n",
      "False\n",
      "False\n",
      "True\n",
      "True\n",
      "obj: 2, obj: 1\n",
      "0.3277562666666667 0.08785173333333332 0.5338275148148148 0.9528084851851852\n",
      "0.6244183 0.5598057 0.2704325 0.5781835\n",
      "False\n",
      "True\n",
      "False\n",
      "True\n",
      "True\n",
      "['1', '0.207804', '0.743318', '0.0315712', '0.0486106']\n",
      "['0', '0.0940962', '0.561172', '0.115519', '0.509435']\n",
      "Regions:  [(69, 429, 330, 881)]\n",
      "Cropped image /mnt/c/Adrianov/Projects/trash-detector/yolo_res/images/result_534.jpg and saved result to /mnt/c/Adrianov/Projects/trash-detector/masks/imgs/result_716_0.jpg\n",
      "/mnt/c/Adrianov/Projects/trash-detector/yolo_res/label/result_539.txt\n",
      "/mnt/c/Adrianov/Projects/trash-detector/yolo_res/images/result_535.jpg\n",
      "obj: 2, obj: 0\n",
      "0.32999971666666666 0.10028828333333333 0.5146187648148148 0.9167112351851852\n",
      "0.251147 0.14699099999999998 0.268354 0.724664\n",
      "True\n",
      "False\n",
      "False\n",
      "True\n",
      "True\n",
      "obj: 2, obj: 1\n",
      "0.32999971666666666 0.10028828333333333 0.5146187648148148 0.9167112351851852\n",
      "0.6540242500000001 0.55929975 0.2673225 0.6604075\n",
      "False\n",
      "True\n",
      "False\n",
      "True\n",
      "True\n",
      "['1', '0.215144', '0.715665', '0.0213781', '0.0317221']\n",
      "['0', '0.199069', '0.496509', '0.104156', '0.45631']\n",
      "Regions:  [(282, 482, 289, 790)]\n",
      "Cropped image /mnt/c/Adrianov/Projects/trash-detector/yolo_res/images/result_535.jpg and saved result to /mnt/c/Adrianov/Projects/trash-detector/masks/imgs/result_717_0.jpg\n",
      "/mnt/c/Adrianov/Projects/trash-detector/yolo_res/label/result_54.txt\n",
      "/mnt/c/Adrianov/Projects/trash-detector/yolo_res/images/result_536.jpg\n"
     ]
    },
    {
     "name": "stderr",
     "output_type": "stream",
     "text": [
      " 59%|███████████████▉           | 720/1219 [01:44<00:55,  8.92it/s]"
     ]
    },
    {
     "name": "stdout",
     "output_type": "stream",
     "text": [
      "Cropped image /mnt/c/Adrianov/Projects/trash-detector/yolo_res/images/result_536.jpg and saved result to None\n",
      "/mnt/c/Adrianov/Projects/trash-detector/yolo_res/label/result_540.txt\n",
      "/mnt/c/Adrianov/Projects/trash-detector/yolo_res/images/result_537.jpg\n",
      "obj: 2, obj: 0\n",
      "0.4191263666666667 0.16353163333333334 0.7336640148148148 1.1681439851851851\n",
      "0.57101165 0.47147635000000004 0.35144699999999995 0.678751\n",
      "False\n",
      "True\n",
      "False\n",
      "False\n",
      "True\n",
      "obj: 2, obj: 1\n",
      "0.4191263666666667 0.16353163333333334 0.7336640148148148 1.1681439851851851\n",
      "0.320095 0.192151 0.26656799999999997 0.938158\n",
      "True\n",
      "False\n",
      "False\n",
      "True\n",
      "True\n",
      "obj: 2, obj: 3\n",
      "0.4191263666666667 0.16353163333333334 0.7336640148148148 1.1681439851851851\n",
      "0.6643103499999999 0.58216565 0.38523549999999995 0.6477345\n",
      "False\n",
      "True\n",
      "False\n",
      "False\n",
      "True\n",
      "['1', '0.291329', '0.950904', '0.0472614', '0.0641096']\n",
      "['0', '0.256123', '0.602363', '0.127944', '0.67159']\n",
      "Regions:  [(368, 614, 287, 1061)]\n",
      "Cropped image /mnt/c/Adrianov/Projects/trash-detector/yolo_res/images/result_537.jpg and saved result to /mnt/c/Adrianov/Projects/trash-detector/masks/imgs/result_719_0.jpg\n",
      "/mnt/c/Adrianov/Projects/trash-detector/yolo_res/label/result_541.txt\n",
      "/mnt/c/Adrianov/Projects/trash-detector/yolo_res/images/result_538.jpg\n"
     ]
    },
    {
     "name": "stderr",
     "output_type": "stream",
     "text": [
      " 59%|███████████████▉           | 722/1219 [01:44<00:50,  9.76it/s]"
     ]
    },
    {
     "name": "stdout",
     "output_type": "stream",
     "text": [
      "Cropped image /mnt/c/Adrianov/Projects/trash-detector/yolo_res/images/result_538.jpg and saved result to None\n",
      "/mnt/c/Adrianov/Projects/trash-detector/yolo_res/label/result_543.txt\n",
      "/mnt/c/Adrianov/Projects/trash-detector/yolo_res/images/result_539.jpg\n",
      "Cropped image /mnt/c/Adrianov/Projects/trash-detector/yolo_res/images/result_539.jpg and saved result to None\n",
      "/mnt/c/Adrianov/Projects/trash-detector/yolo_res/label/result_544.txt\n",
      "/mnt/c/Adrianov/Projects/trash-detector/yolo_res/images/result_54.jpg\n",
      "obj: 3, obj: 0\n",
      "0.41915406666666666 0.1624099333333333 0.7357268148148148 1.1680311851851852\n",
      "0.57097195 0.47620205000000004 0.3525855 0.6781245\n",
      "False\n",
      "True\n",
      "False\n",
      "False\n",
      "True\n",
      "obj: 3, obj: 1\n",
      "0.41915406666666666 0.1624099333333333 0.7357268148148148 1.1680311851851852\n",
      "0.32408 0.19595 0.2656055 0.9261805000000001\n",
      "True\n",
      "False\n",
      "False\n",
      "True\n",
      "True\n",
      "obj: 3, obj: 2\n",
      "0.41915406666666666 0.1624099333333333 0.7357268148148148 1.1680311851851852\n",
      "0.67323495 0.58222305 0.38311950000000006 0.6536165\n",
      "False\n",
      "True\n",
      "False\n",
      "False\n",
      "True\n",
      "['1', '0.290782', '0.951879', '0.0484108', '0.061934']\n",
      "['0', '0.260015', '0.595893', '0.12813', '0.660575']\n",
      "Regions:  [(376, 622, 286, 1061)]\n",
      "Cropped image /mnt/c/Adrianov/Projects/trash-detector/yolo_res/images/result_54.jpg and saved result to /mnt/c/Adrianov/Projects/trash-detector/masks/imgs/result_722_0.jpg\n",
      "/mnt/c/Adrianov/Projects/trash-detector/yolo_res/label/result_545.txt\n",
      "/mnt/c/Adrianov/Projects/trash-detector/yolo_res/images/result_540.jpg\n"
     ]
    },
    {
     "name": "stderr",
     "output_type": "stream",
     "text": [
      " 59%|████████████████           | 724/1219 [01:45<00:49,  9.94it/s]"
     ]
    },
    {
     "name": "stdout",
     "output_type": "stream",
     "text": [
      "obj: 2, obj: 0\n",
      "0.32732706666666667 0.08772293333333331 0.5337512648148148 0.9525227351851853\n",
      "0.6225054 0.5587525999999999 0.26990499999999995 0.574743\n",
      "False\n",
      "True\n",
      "False\n",
      "True\n",
      "True\n",
      "obj: 2, obj: 1\n",
      "0.32732706666666667 0.08772293333333331 0.5337512648148148 0.9525227351851853\n",
      "0.1526939 0.039701900000000005 0.31033700000000003 0.8160689999999999\n",
      "True\n",
      "False\n",
      "False\n",
      "True\n",
      "True\n",
      "['1', '0.207525', '0.743137', '0.0312708', '0.0484011']\n",
      "['0', '0.0961979', '0.563203', '0.112992', '0.505732']\n",
      "Regions:  [(76, 428, 335, 881)]\n",
      "Cropped image /mnt/c/Adrianov/Projects/trash-detector/yolo_res/images/result_540.jpg and saved result to /mnt/c/Adrianov/Projects/trash-detector/masks/imgs/result_723_0.jpg\n",
      "/mnt/c/Adrianov/Projects/trash-detector/yolo_res/label/result_546.txt\n",
      "/mnt/c/Adrianov/Projects/trash-detector/yolo_res/images/result_541.jpg\n",
      "obj: 2, obj: 0\n",
      "0.3271846666666667 0.08787733333333332 0.5340334648148148 0.9527085351851852\n",
      "0.6217547499999999 0.55643725 0.26639999999999997 0.563064\n",
      "False\n",
      "True\n",
      "False\n",
      "True\n",
      "True\n",
      "obj: 2, obj: 1\n",
      "0.3271846666666667 0.08787733333333332 0.5340334648148148 0.9527085351851852\n",
      "0.1600199 0.0382729 0.32997150000000003 0.8121425\n",
      "True\n",
      "False\n",
      "False\n",
      "True\n",
      "True\n",
      "['1', '0.207531', '0.743371', '0.030974', '0.0483047']\n",
      "['0', '0.0991464', '0.571057', '0.121747', '0.482171']\n",
      "Regions:  [(73, 428, 356, 877)]\n",
      "Cropped image /mnt/c/Adrianov/Projects/trash-detector/yolo_res/images/result_541.jpg and saved result to /mnt/c/Adrianov/Projects/trash-detector/masks/imgs/result_724_0.jpg\n",
      "/mnt/c/Adrianov/Projects/trash-detector/yolo_res/label/result_547.txt\n",
      "/mnt/c/Adrianov/Projects/trash-detector/yolo_res/images/result_542.jpg\n"
     ]
    },
    {
     "name": "stderr",
     "output_type": "stream",
     "text": [
      " 60%|████████████████           | 727/1219 [01:45<00:51,  9.49it/s]"
     ]
    },
    {
     "name": "stdout",
     "output_type": "stream",
     "text": [
      "obj: 2, obj: 0\n",
      "0.3306701166666667 0.09709388333333333 0.5248360148148149 0.9251379851851852\n",
      "0.244683 0.129113 0.263954 0.714888\n",
      "True\n",
      "False\n",
      "False\n",
      "True\n",
      "True\n",
      "obj: 2, obj: 1\n",
      "0.3306701166666667 0.09709388333333333 0.5248360148148149 0.9251379851851852\n",
      "0.6501826 0.5595354 0.26814000000000004 0.662366\n",
      "False\n",
      "True\n",
      "False\n",
      "True\n",
      "True\n",
      "['1', '0.213882', '0.724987', '0.0252429', '0.0299316']\n",
      "['0', '0.186898', '0.489421', '0.11557', '0.450934']\n",
      "Regions:  [(247, 469, 285, 799)]\n",
      "Cropped image /mnt/c/Adrianov/Projects/trash-detector/yolo_res/images/result_542.jpg and saved result to /mnt/c/Adrianov/Projects/trash-detector/masks/imgs/result_725_0.jpg\n",
      "/mnt/c/Adrianov/Projects/trash-detector/yolo_res/label/result_549.txt\n",
      "/mnt/c/Adrianov/Projects/trash-detector/yolo_res/images/result_543.jpg\n",
      "obj: 3, obj: 0\n",
      "0.4196430166666667 0.16239098333333335 0.7368237648148148 1.1696482351851851\n",
      "0.5677498 0.4868282 0.3426635 0.6758225\n",
      "False\n",
      "True\n",
      "False\n",
      "False\n",
      "True\n",
      "obj: 3, obj: 1\n",
      "0.4196430166666667 0.16239098333333335 0.7368237648148148 1.1696482351851851\n",
      "0.3251515 0.2048165 0.26935050000000005 0.8999055\n",
      "True\n",
      "False\n",
      "False\n",
      "True\n",
      "True\n",
      "obj: 3, obj: 2\n",
      "0.4196430166666667 0.16239098333333335 0.7368237648148148 1.1696482351851851\n",
      "0.67203585 0.58648015 0.386178 0.656348\n",
      "False\n",
      "True\n",
      "False\n",
      "False\n",
      "True\n",
      "['1', '0.291017', '0.953236', '0.0489187', '0.0624541']\n",
      "['0', '0.264984', '0.584628', '0.120335', '0.630555']\n",
      "Regions:  [(393, 624, 290, 1063)]\n",
      "Cropped image /mnt/c/Adrianov/Projects/trash-detector/yolo_res/images/result_543.jpg and saved result to /mnt/c/Adrianov/Projects/trash-detector/masks/imgs/result_726_0.jpg\n",
      "/mnt/c/Adrianov/Projects/trash-detector/yolo_res/label/result_55.txt\n",
      "/mnt/c/Adrianov/Projects/trash-detector/yolo_res/images/result_544.jpg\n"
     ]
    },
    {
     "name": "stderr",
     "output_type": "stream",
     "text": [
      " 60%|████████████████▏          | 729/1219 [01:45<00:58,  8.39it/s]"
     ]
    },
    {
     "name": "stdout",
     "output_type": "stream",
     "text": [
      "obj: 2, obj: 0\n",
      "0.9080832666666667 0.6499487333333334 0.7526674148148148 1.175566585185185\n",
      "0.9134994999999999 0.7897965 0.36948200000000003 0.879386\n",
      "True\n",
      "False\n",
      "False\n",
      "True\n",
      "True\n",
      "obj: 2, obj: 1\n",
      "0.9080832666666667 0.6499487333333334 0.7526674148148148 1.175566585185185\n",
      "0.58287495 0.49649305000000005 0.40837650000000003 0.7692195000000001\n",
      "False\n",
      "False\n",
      "True\n",
      "True\n",
      "True\n",
      "obj: 2, obj: 3\n",
      "0.9080832666666667 0.6499487333333334 0.7526674148148148 1.175566585185185\n",
      "0.2695125 -5.000000000143778e-07 0.646786 0.99951\n",
      "False\n",
      "False\n",
      "True\n",
      "True\n",
      "True\n",
      "['1', '0.779016', '0.964117', '0.0498012', '0.0525288']\n",
      "['0', '0.851648', '0.624434', '0.123703', '0.509904']\n",
      "Regions:  [(1447, 1753, 399, 1069)]\n",
      "Cropped image /mnt/c/Adrianov/Projects/trash-detector/yolo_res/images/result_544.jpg and saved result to /mnt/c/Adrianov/Projects/trash-detector/masks/imgs/result_727_0.jpg\n",
      "/mnt/c/Adrianov/Projects/trash-detector/yolo_res/label/result_551.txt\n",
      "/mnt/c/Adrianov/Projects/trash-detector/yolo_res/images/result_545.jpg\n",
      "Cropped image /mnt/c/Adrianov/Projects/trash-detector/yolo_res/images/result_545.jpg and saved result to None\n",
      "/mnt/c/Adrianov/Projects/trash-detector/yolo_res/label/result_552.txt\n",
      "/mnt/c/Adrianov/Projects/trash-detector/yolo_res/images/result_546.jpg\n"
     ]
    },
    {
     "name": "stderr",
     "output_type": "stream",
     "text": [
      " 60%|████████████████▏          | 731/1219 [01:45<00:55,  8.73it/s]"
     ]
    },
    {
     "name": "stdout",
     "output_type": "stream",
     "text": [
      "obj: 2, obj: 0\n",
      "0.42002581666666666 0.16235018333333334 0.7375898148148149 1.1691181851851853\n",
      "0.5687989499999999 0.49155904999999994 0.33987449999999997 0.6766935\n",
      "False\n",
      "True\n",
      "False\n",
      "False\n",
      "True\n",
      "obj: 2, obj: 1\n",
      "0.42002581666666666 0.16235018333333334 0.7375898148148149 1.1691181851851853\n",
      "0.326011 0.20566299999999998 0.28106050000000005 0.8949435\n",
      "True\n",
      "False\n",
      "False\n",
      "True\n",
      "True\n",
      "obj: 2, obj: 3\n",
      "0.42002581666666666 0.16235018333333334 0.7375898148148149 1.1691181851851853\n",
      "0.6682303500000001 0.58533965 0.38546 0.6534380000000001\n",
      "False\n",
      "True\n",
      "False\n",
      "False\n",
      "True\n",
      "['1', '0.291188', '0.953354', '0.0493423', '0.061158']\n",
      "['0', '0.265837', '0.588002', '0.120348', '0.613883']\n",
      "Regions:  [(394, 625, 303, 1062)]\n",
      "Cropped image /mnt/c/Adrianov/Projects/trash-detector/yolo_res/images/result_546.jpg and saved result to /mnt/c/Adrianov/Projects/trash-detector/masks/imgs/result_729_0.jpg\n",
      "/mnt/c/Adrianov/Projects/trash-detector/yolo_res/label/result_553.txt\n",
      "/mnt/c/Adrianov/Projects/trash-detector/yolo_res/images/result_547.jpg\n",
      "obj: 2, obj: 0\n",
      "0.33082516666666667 0.09206483333333332 0.5235876148148149 0.9388923851851851\n",
      "0.23810399999999998 0.119728 0.267643 0.7175290000000001\n",
      "True\n",
      "False\n",
      "False\n",
      "True\n",
      "True\n",
      "obj: 2, obj: 1\n",
      "0.33082516666666667 0.09206483333333332 0.5235876148148149 0.9388923851851851\n",
      "0.6470669 0.5585851 0.26472549999999995 0.6597005\n",
      "False\n",
      "True\n",
      "False\n",
      "True\n",
      "True\n",
      "['1', '0.211445', '0.73124', '0.030427', '0.0449344']\n",
      "['0', '0.178916', '0.492586', '0.118376', '0.449886']\n",
      "Regions:  [(229, 457, 289, 814)]\n",
      "Cropped image /mnt/c/Adrianov/Projects/trash-detector/yolo_res/images/result_547.jpg and saved result to /mnt/c/Adrianov/Projects/trash-detector/masks/imgs/result_730_0.jpg\n",
      "/mnt/c/Adrianov/Projects/trash-detector/yolo_res/label/result_554.txt\n",
      "/mnt/c/Adrianov/Projects/trash-detector/yolo_res/images/result_548.jpg\n"
     ]
    },
    {
     "name": "stderr",
     "output_type": "stream",
     "text": [
      " 60%|████████████████▏          | 732/1219 [01:46<01:03,  7.67it/s]"
     ]
    },
    {
     "name": "stdout",
     "output_type": "stream",
     "text": [
      "obj: 2, obj: 0\n",
      "0.32638771666666666 0.08803228333333334 0.5342971148148148 0.9521248851851851\n",
      "0.6213514 0.5558065999999999 0.26880950000000003 0.5603345\n",
      "False\n",
      "True\n",
      "False\n",
      "True\n",
      "True\n",
      "obj: 2, obj: 1\n",
      "0.32638771666666666 0.08803228333333334 0.5342971148148148 0.9521248851851851\n",
      "0.1761575 0.03611249999999999 0.343572 0.7982199999999999\n",
      "True\n",
      "False\n",
      "False\n",
      "True\n",
      "True\n",
      "obj: 3, obj: 0\n",
      "0.7524339666666667 0.5208180333333333 0.4243185648148148 0.8175494351851852\n",
      "0.6213514 0.5558065999999999 0.26880950000000003 0.5603345\n",
      "True\n",
      "False\n",
      "False\n",
      "True\n",
      "True\n",
      "obj: 3, obj: 1\n",
      "0.7524339666666667 0.5208180333333333 0.4243185648148148 0.8175494351851852\n",
      "0.1761575 0.03611249999999999 0.343572 0.7982199999999999\n",
      "False\n",
      "False\n",
      "True\n",
      "True\n",
      "True\n",
      "['1', '0.20721', '0.743211', '0.0300221', '0.0474574']\n",
      "['0', '0.106135', '0.570896', '0.140045', '0.454648']\n",
      "Regions:  [(69, 426, 371, 862)]\n",
      "['1', '0.636626', '0.620934', '0.0232826', '0.0228605']\n",
      "['0', '0.588579', '0.414572', '0.0655448', '0.291525']\n",
      "Regions:  [(69, 426, 371, 862), (1067, 1244, 290, 682)]\n",
      "Cropped image /mnt/c/Adrianov/Projects/trash-detector/yolo_res/images/result_548.jpg and saved result to /mnt/c/Adrianov/Projects/trash-detector/masks/imgs/result_731_0.jpg\n",
      "/mnt/c/Adrianov/Projects/trash-detector/yolo_res/label/result_555.txt\n",
      "/mnt/c/Adrianov/Projects/trash-detector/yolo_res/images/result_549.jpg\n"
     ]
    },
    {
     "name": "stderr",
     "output_type": "stream",
     "text": [
      " 60%|████████████████▎          | 734/1219 [01:46<01:10,  6.91it/s]"
     ]
    },
    {
     "name": "stdout",
     "output_type": "stream",
     "text": [
      "Cropped image /mnt/c/Adrianov/Projects/trash-detector/yolo_res/images/result_549.jpg and saved result to None\n",
      "/mnt/c/Adrianov/Projects/trash-detector/yolo_res/label/result_556.txt\n",
      "/mnt/c/Adrianov/Projects/trash-detector/yolo_res/images/result_55.jpg\n",
      "obj: 2, obj: 0\n",
      "0.41999886666666664 0.16324513333333332 0.7382807148148148 1.1688192851851853\n",
      "0.57078535 0.49241464999999995 0.340467 0.677109\n",
      "False\n",
      "True\n",
      "False\n",
      "False\n",
      "True\n",
      "obj: 2, obj: 1\n",
      "0.41999886666666664 0.16324513333333332 0.7382807148148148 1.1688192851851853\n",
      "0.3258605 0.1978455 0.2851975 0.8818005\n",
      "True\n",
      "False\n",
      "False\n",
      "True\n",
      "True\n",
      "obj: 2, obj: 3\n",
      "0.41999886666666664 0.16324513333333332 0.7382807148148148 1.1688192851851853\n",
      "0.66873525 0.5851387499999999 0.38697600000000004 0.6511180000000001\n",
      "False\n",
      "True\n",
      "False\n",
      "False\n",
      "True\n",
      "['1', '0.291622', '0.95355', '0.0484204', '0.0601682']\n",
      "['0', '0.261853', '0.583499', '0.128015', '0.596603']\n",
      "Regions:  [(379, 625, 308, 1062)]\n",
      "Cropped image /mnt/c/Adrianov/Projects/trash-detector/yolo_res/images/result_55.jpg and saved result to /mnt/c/Adrianov/Projects/trash-detector/masks/imgs/result_733_0.jpg\n",
      "/mnt/c/Adrianov/Projects/trash-detector/yolo_res/label/result_557.txt\n",
      "/mnt/c/Adrianov/Projects/trash-detector/yolo_res/images/result_550.jpg\n"
     ]
    },
    {
     "name": "stderr",
     "output_type": "stream",
     "text": [
      " 60%|████████████████▎          | 735/1219 [01:46<01:15,  6.45it/s]"
     ]
    },
    {
     "name": "stdout",
     "output_type": "stream",
     "text": [
      "obj: 2, obj: 0\n",
      "0.33266071666666663 0.09156128333333333 0.5251258148148148 0.9409281851851852\n",
      "0.64511445 0.5581975499999999 0.2628575 0.6588065000000001\n",
      "False\n",
      "True\n",
      "False\n",
      "True\n",
      "True\n",
      "obj: 2, obj: 1\n",
      "0.33266071666666663 0.09156128333333333 0.5251258148148148 0.9409281851851852\n",
      "0.2280825 0.10710349999999999 0.2686145 0.7163575\n",
      "True\n",
      "False\n",
      "False\n",
      "True\n",
      "True\n",
      "['1', '0.212111', '0.733027', '0.0327661', '0.045432']\n",
      "['0', '0.167593', '0.492486', '0.120979', '0.447743']\n",
      "Regions:  [(205, 438, 290, 816)]\n",
      "Cropped image /mnt/c/Adrianov/Projects/trash-detector/yolo_res/images/result_550.jpg and saved result to /mnt/c/Adrianov/Projects/trash-detector/masks/imgs/result_734_0.jpg\n",
      "/mnt/c/Adrianov/Projects/trash-detector/yolo_res/label/result_558.txt\n",
      "/mnt/c/Adrianov/Projects/trash-detector/yolo_res/images/result_551.jpg\n"
     ]
    },
    {
     "name": "stderr",
     "output_type": "stream",
     "text": [
      " 60%|████████████████▎          | 736/1219 [01:46<01:12,  6.64it/s]"
     ]
    },
    {
     "name": "stdout",
     "output_type": "stream",
     "text": [
      "obj: 2, obj: 0\n",
      "0.32587141666666664 0.08820258333333333 0.5348075648148148 0.9505124351851851\n",
      "0.6199815 0.5535185 0.27718 0.560304\n",
      "False\n",
      "True\n",
      "False\n",
      "True\n",
      "True\n",
      "obj: 2, obj: 1\n",
      "0.32587141666666664 0.08820258333333333 0.5348075648148148 0.9505124351851851\n",
      "0.18026999999999999 0.039251999999999995 0.35782499999999995 0.767999\n",
      "True\n",
      "False\n",
      "False\n",
      "True\n",
      "True\n",
      "['1', '0.207037', '0.74266', '0.0293355', '0.0453345']\n",
      "['0', '0.109761', '0.562912', '0.141018', '0.410174']\n",
      "Regions:  [(75, 425, 386, 829)]\n",
      "Cropped image /mnt/c/Adrianov/Projects/trash-detector/yolo_res/images/result_551.jpg and saved result to /mnt/c/Adrianov/Projects/trash-detector/masks/imgs/result_735_0.jpg\n",
      "/mnt/c/Adrianov/Projects/trash-detector/yolo_res/label/result_56.txt\n",
      "/mnt/c/Adrianov/Projects/trash-detector/yolo_res/images/result_552.jpg\n",
      "Cropped image /mnt/c/Adrianov/Projects/trash-detector/yolo_res/images/result_552.jpg and saved result to None\n",
      "/mnt/c/Adrianov/Projects/trash-detector/yolo_res/label/result_560.txt\n",
      "/mnt/c/Adrianov/Projects/trash-detector/yolo_res/images/result_553.jpg\n",
      "obj: 2, obj: 0\n",
      "0.4195911166666667 0.16397888333333335 0.7386931148148148 1.1681208851851852\n",
      "0.5702626 0.4915574 0.346 0.677912\n",
      "False\n",
      "True\n",
      "False\n",
      "False\n",
      "True\n",
      "obj: 2, obj: 1\n",
      "0.4195911166666667 0.16397888333333335 0.7386931148148148 1.1681208851851852\n",
      "0.32682750000000005 0.19414650000000003 0.279861 0.8773190000000001\n",
      "True\n",
      "False\n",
      "False\n",
      "True\n",
      "True\n",
      "obj: 2, obj: 3\n",
      "0.4195911166666667 0.16397888333333335 0.7386931148148148 1.1681208851851852\n",
      "0.67185555 0.58747045 0.3897085 0.6559995000000001\n",
      "False\n",
      "True\n",
      "False\n",
      "False\n",
      "True\n"
     ]
    },
    {
     "name": "stderr",
     "output_type": "stream",
     "text": [
      " 61%|████████████████▎          | 738/1219 [01:47<00:59,  8.07it/s]"
     ]
    },
    {
     "name": "stdout",
     "output_type": "stream",
     "text": [
      "['1', '0.291785', '0.953407', '0.0472789', '0.0590574']\n",
      "['0', '0.260487', '0.57859', '0.132681', '0.597458']\n",
      "Regions:  [(372, 627, 302, 1061)]\n",
      "Cropped image /mnt/c/Adrianov/Projects/trash-detector/yolo_res/images/result_553.jpg and saved result to /mnt/c/Adrianov/Projects/trash-detector/masks/imgs/result_737_0.jpg\n",
      "/mnt/c/Adrianov/Projects/trash-detector/yolo_res/label/result_561.txt\n",
      "/mnt/c/Adrianov/Projects/trash-detector/yolo_res/images/result_554.jpg\n",
      "Cropped image /mnt/c/Adrianov/Projects/trash-detector/yolo_res/images/result_554.jpg and saved result to None\n",
      "/mnt/c/Adrianov/Projects/trash-detector/yolo_res/label/result_562.txt\n",
      "/mnt/c/Adrianov/Projects/trash-detector/yolo_res/images/result_555.jpg\n"
     ]
    },
    {
     "name": "stderr",
     "output_type": "stream",
     "text": [
      " 61%|████████████████▍          | 742/1219 [01:47<00:52,  9.07it/s]"
     ]
    },
    {
     "name": "stdout",
     "output_type": "stream",
     "text": [
      "Cropped image /mnt/c/Adrianov/Projects/trash-detector/yolo_res/images/result_555.jpg and saved result to None\n",
      "/mnt/c/Adrianov/Projects/trash-detector/yolo_res/label/result_563.txt\n",
      "/mnt/c/Adrianov/Projects/trash-detector/yolo_res/images/result_556.jpg\n",
      "obj: 2, obj: 0\n",
      "0.3255515666666666 0.08844443333333332 0.5351449148148149 0.9511650851851852\n",
      "0.6166206 0.5496294 0.26951 0.560446\n",
      "False\n",
      "True\n",
      "False\n",
      "True\n",
      "True\n",
      "obj: 2, obj: 1\n",
      "0.3255515666666666 0.08844443333333332 0.5351449148148149 0.9511650851851852\n",
      "0.218781 0.03855900000000001 0.3753345 0.7636135000000001\n",
      "True\n",
      "False\n",
      "False\n",
      "True\n",
      "True\n",
      "['1', '0.206998', '0.743155', '0.0287738', '0.0456498']\n",
      "['0', '0.12867', '0.569474', '0.180222', '0.388279']\n",
      "Regions:  [(74, 425, 405, 827)]\n",
      "Cropped image /mnt/c/Adrianov/Projects/trash-detector/yolo_res/images/result_556.jpg and saved result to /mnt/c/Adrianov/Projects/trash-detector/masks/imgs/result_740_0.jpg\n",
      "/mnt/c/Adrianov/Projects/trash-detector/yolo_res/label/result_564.txt\n",
      "/mnt/c/Adrianov/Projects/trash-detector/yolo_res/images/result_557.jpg\n",
      "obj: 2, obj: 0\n",
      "0.4196933666666667 0.16397863333333332 0.7391756648148148 1.1673883351851853\n",
      "0.5710729999999999 0.49143099999999995 0.34605849999999994 0.6770195\n",
      "False\n",
      "True\n",
      "False\n",
      "False\n",
      "True\n",
      "obj: 2, obj: 1\n",
      "0.4196933666666667 0.16397863333333332 0.7391756648148148 1.1673883351851853\n",
      "0.327379 0.190071 0.2792585000000001 0.8815895\n",
      "True\n",
      "False\n",
      "False\n",
      "True\n",
      "True\n",
      "obj: 2, obj: 3\n",
      "0.4196933666666667 0.16397863333333332 0.7391756648148148 1.1673883351851853\n",
      "0.6719668 0.5857912 0.39323050000000004 0.6563755\n",
      "False\n",
      "True\n",
      "False\n",
      "False\n",
      "True\n",
      "['1', '0.291836', '0.953282', '0.0473814', '0.0578423']\n",
      "['0', '0.258725', '0.580424', '0.137308', '0.602331']\n",
      "Regions:  [(364, 628, 301, 1060)]\n",
      "Cropped image /mnt/c/Adrianov/Projects/trash-detector/yolo_res/images/result_557.jpg and saved result to /mnt/c/Adrianov/Projects/trash-detector/masks/imgs/result_741_0.jpg\n",
      "/mnt/c/Adrianov/Projects/trash-detector/yolo_res/label/result_565.txt\n",
      "/mnt/c/Adrianov/Projects/trash-detector/yolo_res/images/result_558.jpg\n"
     ]
    },
    {
     "name": "stderr",
     "output_type": "stream",
     "text": [
      " 61%|████████████████▍          | 744/1219 [01:47<00:50,  9.38it/s]"
     ]
    },
    {
     "name": "stdout",
     "output_type": "stream",
     "text": [
      "obj: 2, obj: 0\n",
      "0.32546681666666666 0.08885718333333334 0.5353693648148148 0.9504366351851852\n",
      "0.22013850000000001 0.04073149999999999 0.40306050000000004 0.7695155\n",
      "True\n",
      "False\n",
      "False\n",
      "True\n",
      "True\n",
      "obj: 2, obj: 1\n",
      "0.32546681666666666 0.08885718333333334 0.5353693648148148 0.9504366351851852\n",
      "0.6133303 0.5504456999999999 0.2754975 0.5619525000000001\n",
      "False\n",
      "True\n",
      "False\n",
      "True\n",
      "True\n",
      "['1', '0.207162', '0.742903', '0.0282763', '0.0446969']\n",
      "['0', '0.130435', '0.586288', '0.179407', '0.366455']\n",
      "Regions:  [(78, 424, 435, 831)]\n",
      "Cropped image /mnt/c/Adrianov/Projects/trash-detector/yolo_res/images/result_558.jpg and saved result to /mnt/c/Adrianov/Projects/trash-detector/masks/imgs/result_742_0.jpg\n",
      "/mnt/c/Adrianov/Projects/trash-detector/yolo_res/label/result_566.txt\n",
      "/mnt/c/Adrianov/Projects/trash-detector/yolo_res/images/result_559.jpg\n",
      "Cropped image /mnt/c/Adrianov/Projects/trash-detector/yolo_res/images/result_559.jpg and saved result to None\n",
      "/mnt/c/Adrianov/Projects/trash-detector/yolo_res/label/result_568.txt\n",
      "/mnt/c/Adrianov/Projects/trash-detector/yolo_res/images/result_56.jpg\n"
     ]
    },
    {
     "name": "stderr",
     "output_type": "stream",
     "text": [
      " 61%|████████████████▌          | 747/1219 [01:47<00:49,  9.59it/s]"
     ]
    },
    {
     "name": "stdout",
     "output_type": "stream",
     "text": [
      "Cropped image /mnt/c/Adrianov/Projects/trash-detector/yolo_res/images/result_56.jpg and saved result to None\n",
      "/mnt/c/Adrianov/Projects/trash-detector/yolo_res/label/result_569.txt\n",
      "/mnt/c/Adrianov/Projects/trash-detector/yolo_res/images/result_560.jpg\n",
      "obj: 2, obj: 0\n",
      "0.3254216166666667 0.09019638333333332 0.5363948648148149 0.9504411351851851\n",
      "0.6134465 0.5519315 0.282667 0.563161\n",
      "False\n",
      "True\n",
      "False\n",
      "True\n",
      "True\n",
      "obj: 2, obj: 1\n",
      "0.3254216166666667 0.09019638333333332 0.5363948648148149 0.9504411351851851\n",
      "0.2149465 0.04134950000000001 0.42126450000000004 0.7893795\n",
      "True\n",
      "False\n",
      "False\n",
      "True\n",
      "True\n",
      "['1', '0.207809', '0.743418', '0.0268919', '0.0436759']\n",
      "['0', '0.128148', '0.605322', '0.173597', '0.368115']\n",
      "Regions:  [(79, 424, 454, 852)]\n",
      "Cropped image /mnt/c/Adrianov/Projects/trash-detector/yolo_res/images/result_560.jpg and saved result to /mnt/c/Adrianov/Projects/trash-detector/masks/imgs/result_745_0.jpg\n",
      "/mnt/c/Adrianov/Projects/trash-detector/yolo_res/label/result_57.txt\n",
      "/mnt/c/Adrianov/Projects/trash-detector/yolo_res/images/result_561.jpg\n",
      "Cropped image /mnt/c/Adrianov/Projects/trash-detector/yolo_res/images/result_561.jpg and saved result to None\n",
      "/mnt/c/Adrianov/Projects/trash-detector/yolo_res/label/result_570.txt\n",
      "/mnt/c/Adrianov/Projects/trash-detector/yolo_res/images/result_562.jpg\n"
     ]
    },
    {
     "name": "stderr",
     "output_type": "stream",
     "text": [
      " 61%|████████████████▌          | 749/1219 [01:48<00:51,  9.12it/s]"
     ]
    },
    {
     "name": "stdout",
     "output_type": "stream",
     "text": [
      "obj: 2, obj: 0\n",
      "0.4195732666666667 0.16312873333333336 0.7392795148148148 1.168202485185185\n",
      "0.32775200000000004 0.188314 0.27524 0.882846\n",
      "True\n",
      "False\n",
      "False\n",
      "True\n",
      "True\n",
      "obj: 2, obj: 1\n",
      "0.4195732666666667 0.16312873333333336 0.7392795148148148 1.168202485185185\n",
      "0.56931465 0.49104135000000004 0.345371 0.675609\n",
      "False\n",
      "True\n",
      "False\n",
      "False\n",
      "True\n",
      "['1', '0.291351', '0.953741', '0.0481112', '0.0585526']\n",
      "['0', '0.258033', '0.579043', '0.139438', '0.607606']\n",
      "Regions:  [(361, 629, 297, 1061)]\n",
      "Cropped image /mnt/c/Adrianov/Projects/trash-detector/yolo_res/images/result_562.jpg and saved result to /mnt/c/Adrianov/Projects/trash-detector/masks/imgs/result_747_0.jpg\n",
      "/mnt/c/Adrianov/Projects/trash-detector/yolo_res/label/result_571.txt\n",
      "/mnt/c/Adrianov/Projects/trash-detector/yolo_res/images/result_563.jpg\n",
      "obj: 2, obj: 0\n",
      "0.33118366666666665 0.09167833333333333 0.5288576148148149 0.9425183851851852\n",
      "0.6389587 0.5541193000000001 0.2592505 0.6355014999999999\n",
      "False\n",
      "True\n",
      "False\n",
      "True\n",
      "True\n",
      "obj: 2, obj: 1\n",
      "0.33118366666666665 0.09167833333333333 0.5288576148148149 0.9425183851851852\n",
      "0.230218 0.082292 0.260907 0.742813\n",
      "True\n",
      "False\n",
      "False\n",
      "True\n",
      "True\n",
      "['1', '0.211431', '0.735688', '0.031172', '0.0432904']\n",
      "['0', '0.156255', '0.50186', '0.147926', '0.481906']\n",
      "Regions:  [(158, 442, 281, 817)]\n",
      "Cropped image /mnt/c/Adrianov/Projects/trash-detector/yolo_res/images/result_563.jpg and saved result to /mnt/c/Adrianov/Projects/trash-detector/masks/imgs/result_748_0.jpg\n",
      "/mnt/c/Adrianov/Projects/trash-detector/yolo_res/label/result_573.txt\n",
      "/mnt/c/Adrianov/Projects/trash-detector/yolo_res/images/result_564.jpg\n"
     ]
    },
    {
     "name": "stderr",
     "output_type": "stream",
     "text": [
      " 62%|████████████████▋          | 751/1219 [01:48<01:02,  7.46it/s]"
     ]
    },
    {
     "name": "stdout",
     "output_type": "stream",
     "text": [
      "Cropped image /mnt/c/Adrianov/Projects/trash-detector/yolo_res/images/result_564.jpg and saved result to None\n",
      "/mnt/c/Adrianov/Projects/trash-detector/yolo_res/label/result_574.txt\n",
      "/mnt/c/Adrianov/Projects/trash-detector/yolo_res/images/result_565.jpg\n",
      "obj: 2, obj: 0\n",
      "0.3320182666666667 0.09076173333333332 0.5282645148148148 0.9428694851851851\n",
      "0.6386960500000001 0.55316795 0.259839 0.6313690000000001\n",
      "False\n",
      "True\n",
      "False\n",
      "True\n",
      "True\n",
      "obj: 2, obj: 1\n",
      "0.3320182666666667 0.09076173333333332 0.5282645148148148 0.9428694851851851\n",
      "0.191628 0.07929 0.2711295 0.7493485\n",
      "True\n",
      "False\n",
      "False\n",
      "True\n",
      "True\n",
      "['1', '0.21139', '0.735567', '0.0329232', '0.0442346']\n",
      "['0', '0.135459', '0.510239', '0.112338', '0.478219']\n",
      "Regions:  [(152, 437, 292, 818)]\n",
      "Cropped image /mnt/c/Adrianov/Projects/trash-detector/yolo_res/images/result_565.jpg and saved result to /mnt/c/Adrianov/Projects/trash-detector/masks/imgs/result_750_0.jpg\n",
      "/mnt/c/Adrianov/Projects/trash-detector/yolo_res/label/result_575.txt\n",
      "/mnt/c/Adrianov/Projects/trash-detector/yolo_res/images/result_566.jpg\n"
     ]
    },
    {
     "name": "stderr",
     "output_type": "stream",
     "text": [
      " 62%|████████████████▋          | 753/1219 [01:48<00:57,  8.11it/s]"
     ]
    },
    {
     "name": "stdout",
     "output_type": "stream",
     "text": [
      "obj: 2, obj: 0\n",
      "0.41790636666666664 0.16226363333333332 0.7335420148148148 1.1664719851851852\n",
      "0.60178205 0.52580995 0.334338 0.655994\n",
      "False\n",
      "True\n",
      "False\n",
      "False\n",
      "True\n",
      "obj: 2, obj: 1\n",
      "0.41790636666666664 0.16226363333333332 0.7335420148148148 1.1664719851851852\n",
      "0.2903385 0.1684715 0.24458500000000005 0.943513\n",
      "True\n",
      "False\n",
      "False\n",
      "True\n",
      "True\n",
      "['1', '0.290085', '0.950007', '0.0473094', '0.0625596']\n",
      "['0', '0.229405', '0.594049', '0.121867', '0.698928']\n",
      "Regions:  [(323, 602, 264, 1059)]\n",
      "Cropped image /mnt/c/Adrianov/Projects/trash-detector/yolo_res/images/result_566.jpg and saved result to /mnt/c/Adrianov/Projects/trash-detector/masks/imgs/result_751_0.jpg\n",
      "/mnt/c/Adrianov/Projects/trash-detector/yolo_res/label/result_577.txt\n",
      "/mnt/c/Adrianov/Projects/trash-detector/yolo_res/images/result_567.jpg\n",
      "Cropped image /mnt/c/Adrianov/Projects/trash-detector/yolo_res/images/result_567.jpg and saved result to None\n",
      "/mnt/c/Adrianov/Projects/trash-detector/yolo_res/label/result_578.txt\n",
      "/mnt/c/Adrianov/Projects/trash-detector/yolo_res/images/result_568.jpg\n"
     ]
    },
    {
     "name": "stderr",
     "output_type": "stream",
     "text": [
      " 62%|████████████████▋          | 755/1219 [01:48<00:49,  9.45it/s]"
     ]
    },
    {
     "name": "stdout",
     "output_type": "stream",
     "text": [
      "Cropped image /mnt/c/Adrianov/Projects/trash-detector/yolo_res/images/result_568.jpg and saved result to None\n",
      "/mnt/c/Adrianov/Projects/trash-detector/yolo_res/label/result_579.txt\n",
      "/mnt/c/Adrianov/Projects/trash-detector/yolo_res/images/result_569.jpg\n",
      "Cropped image /mnt/c/Adrianov/Projects/trash-detector/yolo_res/images/result_569.jpg and saved result to None\n",
      "/mnt/c/Adrianov/Projects/trash-detector/yolo_res/label/result_58.txt\n",
      "/mnt/c/Adrianov/Projects/trash-detector/yolo_res/images/result_57.jpg\n",
      "Cropped image /mnt/c/Adrianov/Projects/trash-detector/yolo_res/images/result_57.jpg and saved result to None\n",
      "/mnt/c/Adrianov/Projects/trash-detector/yolo_res/label/result_580.txt\n",
      "/mnt/c/Adrianov/Projects/trash-detector/yolo_res/images/result_570.jpg\n"
     ]
    },
    {
     "name": "stderr",
     "output_type": "stream",
     "text": [
      " 62%|████████████████▊          | 757/1219 [01:49<00:44, 10.47it/s]"
     ]
    },
    {
     "name": "stdout",
     "output_type": "stream",
     "text": [
      "Cropped image /mnt/c/Adrianov/Projects/trash-detector/yolo_res/images/result_570.jpg and saved result to None\n",
      "/mnt/c/Adrianov/Projects/trash-detector/yolo_res/label/result_581.txt\n",
      "/mnt/c/Adrianov/Projects/trash-detector/yolo_res/images/result_571.jpg\n",
      "obj: 2, obj: 0\n",
      "0.41952881666666664 0.16276918333333332 0.7385300148148148 1.1678699851851853\n",
      "0.57347755 0.49017445000000004 0.34649949999999996 0.6751125\n",
      "False\n",
      "True\n",
      "False\n",
      "False\n",
      "True\n",
      "obj: 2, obj: 1\n",
      "0.41952881666666664 0.16276918333333332 0.7385300148148148 1.1678699851851853\n",
      "0.3271965 0.18758750000000002 0.26718099999999995 0.879707\n",
      "True\n",
      "False\n",
      "False\n",
      "True\n",
      "True\n",
      "obj: 2, obj: 3\n",
      "0.41952881666666664 0.16276918333333332 0.7385300148148148 1.1678699851851853\n",
      "0.6763151 0.5938769 0.418411 0.643231\n",
      "False\n",
      "True\n",
      "False\n",
      "False\n",
      "True\n",
      "['1', '0.291149', '0.9532', '0.0484263', '0.0589696']\n",
      "['0', '0.257392', '0.573444', '0.139609', '0.612526']\n",
      "Regions:  [(360, 628, 288, 1061)]\n",
      "Cropped image /mnt/c/Adrianov/Projects/trash-detector/yolo_res/images/result_571.jpg and saved result to /mnt/c/Adrianov/Projects/trash-detector/masks/imgs/result_757_0.jpg\n",
      "/mnt/c/Adrianov/Projects/trash-detector/yolo_res/label/result_582.txt\n",
      "/mnt/c/Adrianov/Projects/trash-detector/yolo_res/images/result_572.jpg\n"
     ]
    },
    {
     "name": "stderr",
     "output_type": "stream",
     "text": [
      " 62%|████████████████▊          | 761/1219 [01:49<00:45, 10.06it/s]"
     ]
    },
    {
     "name": "stdout",
     "output_type": "stream",
     "text": [
      "Cropped image /mnt/c/Adrianov/Projects/trash-detector/yolo_res/images/result_572.jpg and saved result to None\n",
      "/mnt/c/Adrianov/Projects/trash-detector/yolo_res/label/result_583.txt\n",
      "/mnt/c/Adrianov/Projects/trash-detector/yolo_res/images/result_573.jpg\n",
      "obj: 2, obj: 0\n",
      "0.3318711166666667 0.09187488333333334 0.5261735648148149 0.9426804351851852\n",
      "0.6371523499999999 0.55212165 0.259406 0.630728\n",
      "False\n",
      "True\n",
      "False\n",
      "True\n",
      "True\n",
      "obj: 2, obj: 1\n",
      "0.3318711166666667 0.09187488333333334 0.5261735648148149 0.9426804351851852\n",
      "0.189565 0.072441 0.27447249999999995 0.7618935\n",
      "True\n",
      "False\n",
      "False\n",
      "True\n",
      "True\n",
      "['1', '0.211873', '0.734427', '0.0316629', '0.0461365']\n",
      "['0', '0.131003', '0.518183', '0.117124', '0.487421']\n",
      "Regions:  [(139, 437, 296, 822)]\n",
      "Cropped image /mnt/c/Adrianov/Projects/trash-detector/yolo_res/images/result_573.jpg and saved result to /mnt/c/Adrianov/Projects/trash-detector/masks/imgs/result_759_0.jpg\n",
      "/mnt/c/Adrianov/Projects/trash-detector/yolo_res/label/result_584.txt\n",
      "/mnt/c/Adrianov/Projects/trash-detector/yolo_res/images/result_574.jpg\n",
      "Cropped image /mnt/c/Adrianov/Projects/trash-detector/yolo_res/images/result_574.jpg and saved result to None\n",
      "/mnt/c/Adrianov/Projects/trash-detector/yolo_res/label/result_587.txt\n",
      "/mnt/c/Adrianov/Projects/trash-detector/yolo_res/images/result_575.jpg\n",
      "obj: 2, obj: 0\n",
      "0.4178002666666667 0.16394773333333335 0.7331617148148148 1.1660942851851852\n",
      "0.6060345500000001 0.52692945 0.334055 0.657035\n",
      "False\n",
      "True\n",
      "False\n",
      "False\n",
      "True\n",
      "obj: 2, obj: 1\n",
      "0.4178002666666667 0.16394773333333335 0.7331617148148148 1.1660942851851852\n",
      "0.29202700000000004 0.164573 0.24346550000000006 0.9463625\n",
      "True\n",
      "False\n",
      "False\n",
      "True\n",
      "True\n",
      "['1', '0.290874', '0.949628', '0.0455192', '0.0625622']\n",
      "['0', '0.2283', '0.594914', '0.127454', '0.702897']\n",
      "Regions:  [(315, 602, 262, 1059)]\n",
      "Cropped image /mnt/c/Adrianov/Projects/trash-detector/yolo_res/images/result_575.jpg and saved result to /mnt/c/Adrianov/Projects/trash-detector/masks/imgs/result_761_0.jpg\n",
      "/mnt/c/Adrianov/Projects/trash-detector/yolo_res/label/result_588.txt\n",
      "/mnt/c/Adrianov/Projects/trash-detector/yolo_res/images/result_576.jpg\n",
      "obj: 2, obj: 0\n",
      "0.3310572666666667 0.09163473333333333 0.5271584148148148 0.9425755851851852\n",
      "0.636793 0.555451 0.260641 0.630639\n",
      "False\n",
      "True\n",
      "False\n",
      "True\n",
      "True\n",
      "obj: 2, obj: 1\n",
      "0.3310572666666667 0.09163473333333333 0.5271584148148148 0.9425755851851852\n",
      "0.18581799999999998 0.06922 0.27526649999999997 0.7704435\n",
      "True\n",
      "False\n",
      "False\n",
      "True\n",
      "True\n"
     ]
    },
    {
     "name": "stderr",
     "output_type": "stream",
     "text": [
      " 63%|████████████████▉          | 764/1219 [01:49<00:58,  7.84it/s]"
     ]
    },
    {
     "name": "stdout",
     "output_type": "stream",
     "text": [
      "['1', '0.211346', '0.734867', '0.0310892', '0.0450468']\n",
      "['0', '0.127519', '0.522855', '0.116598', '0.495177']\n",
      "Regions:  [(132, 435, 297, 832)]\n",
      "Cropped image /mnt/c/Adrianov/Projects/trash-detector/yolo_res/images/result_576.jpg and saved result to /mnt/c/Adrianov/Projects/trash-detector/masks/imgs/result_762_0.jpg\n",
      "/mnt/c/Adrianov/Projects/trash-detector/yolo_res/label/result_589.txt\n",
      "/mnt/c/Adrianov/Projects/trash-detector/yolo_res/images/result_577.jpg\n",
      "obj: 2, obj: 0\n",
      "0.3303775666666667 0.09190643333333333 0.5259107648148148 0.9419812351851852\n",
      "0.6364657 0.5541763 0.26157549999999996 0.6290025\n",
      "False\n",
      "True\n",
      "False\n",
      "True\n",
      "True\n",
      "obj: 2, obj: 1\n",
      "0.3303775666666667 0.09190643333333333 0.5259107648148148 0.9419812351851852\n",
      "0.1816915 0.0661465 0.2757989999999999 0.774937\n",
      "True\n",
      "False\n",
      "False\n",
      "True\n",
      "True\n",
      "['1', '0.211142', '0.733946', '0.0301378', '0.0457001']\n",
      "['0', '0.123919', '0.525368', '0.115545', '0.499138']\n",
      "Regions:  [(127, 434, 297, 836)]\n",
      "Cropped image /mnt/c/Adrianov/Projects/trash-detector/yolo_res/images/result_577.jpg and saved result to /mnt/c/Adrianov/Projects/trash-detector/masks/imgs/result_763_0.jpg\n",
      "/mnt/c/Adrianov/Projects/trash-detector/yolo_res/label/result_59.txt\n",
      "/mnt/c/Adrianov/Projects/trash-detector/yolo_res/images/result_578.jpg\n"
     ]
    },
    {
     "name": "stderr",
     "output_type": "stream",
     "text": [
      " 63%|████████████████▉          | 766/1219 [01:50<00:53,  8.40it/s]"
     ]
    },
    {
     "name": "stdout",
     "output_type": "stream",
     "text": [
      "obj: 2, obj: 0\n",
      "0.9086209666666666 0.6498370333333333 0.7525227148148148 1.1763392851851853\n",
      "0.9080159999999999 0.7882 0.366279 0.879699\n",
      "True\n",
      "False\n",
      "False\n",
      "True\n",
      "True\n",
      "obj: 2, obj: 1\n",
      "0.9086209666666666 0.6498370333333333 0.7525227148148148 1.1763392851851853\n",
      "0.5835320500000001 0.49743395000000007 0.4024295 0.7814705\n",
      "False\n",
      "False\n",
      "True\n",
      "True\n",
      "True\n",
      "obj: 2, obj: 3\n",
      "0.9086209666666666 0.6498370333333333 0.7525227148148148 1.1763392851851853\n",
      "0.262596 0.0 0.648866 0.999866\n",
      "False\n",
      "False\n",
      "True\n",
      "True\n",
      "True\n",
      "['1', '0.779229', '0.964431', '0.0504506', '0.0534462']\n",
      "['0', '0.848108', '0.622989', '0.119816', '0.51342']\n",
      "Regions:  [(1447, 1743, 395, 1070)]\n",
      "Cropped image /mnt/c/Adrianov/Projects/trash-detector/yolo_res/images/result_578.jpg and saved result to /mnt/c/Adrianov/Projects/trash-detector/masks/imgs/result_764_0.jpg\n",
      "/mnt/c/Adrianov/Projects/trash-detector/yolo_res/label/result_590.txt\n",
      "/mnt/c/Adrianov/Projects/trash-detector/yolo_res/images/result_579.jpg\n",
      "obj: 2, obj: 0\n",
      "0.41756576666666667 0.1637782333333333 0.7331897648148149 1.1648762351851851\n",
      "0.6037458 0.5226382 0.335123 0.6578390000000001\n",
      "False\n",
      "True\n",
      "False\n",
      "False\n",
      "True\n",
      "obj: 2, obj: 1\n",
      "0.41756576666666667 0.1637782333333333 0.7331897648148149 1.1648762351851851\n",
      "0.29392999999999997 0.163976 0.24365500000000007 0.937277\n",
      "True\n",
      "False\n",
      "False\n",
      "True\n",
      "True\n",
      "['1', '0.290672', '0.949033', '0.0454542', '0.0613161']\n",
      "['0', '0.228953', '0.590466', '0.129954', '0.693622']\n",
      "Regions:  [(314, 601, 263, 1058)]\n",
      "Cropped image /mnt/c/Adrianov/Projects/trash-detector/yolo_res/images/result_579.jpg and saved result to /mnt/c/Adrianov/Projects/trash-detector/masks/imgs/result_765_0.jpg\n",
      "/mnt/c/Adrianov/Projects/trash-detector/yolo_res/label/result_591.txt\n",
      "/mnt/c/Adrianov/Projects/trash-detector/yolo_res/images/result_58.jpg\n"
     ]
    },
    {
     "name": "stderr",
     "output_type": "stream",
     "text": [
      " 63%|█████████████████          | 768/1219 [01:50<00:58,  7.76it/s]"
     ]
    },
    {
     "name": "stdout",
     "output_type": "stream",
     "text": [
      "Cropped image /mnt/c/Adrianov/Projects/trash-detector/yolo_res/images/result_58.jpg and saved result to None\n",
      "/mnt/c/Adrianov/Projects/trash-detector/yolo_res/label/result_592.txt\n",
      "/mnt/c/Adrianov/Projects/trash-detector/yolo_res/images/result_580.jpg\n",
      "Cropped image /mnt/c/Adrianov/Projects/trash-detector/yolo_res/images/result_580.jpg and saved result to None\n",
      "/mnt/c/Adrianov/Projects/trash-detector/yolo_res/label/result_593.txt\n",
      "/mnt/c/Adrianov/Projects/trash-detector/yolo_res/images/result_581.jpg\n"
     ]
    },
    {
     "name": "stderr",
     "output_type": "stream",
     "text": [
      " 63%|█████████████████          | 770/1219 [01:50<01:02,  7.13it/s]"
     ]
    },
    {
     "name": "stdout",
     "output_type": "stream",
     "text": [
      "obj: 3, obj: 0\n",
      "0.41801201666666665 0.16390798333333334 0.7322273648148148 1.1642446351851852\n",
      "0.60248695 0.51866705 0.33298300000000003 0.663133\n",
      "False\n",
      "True\n",
      "False\n",
      "False\n",
      "True\n",
      "obj: 3, obj: 1\n",
      "0.41801201666666665 0.16390798333333334 0.7322273648148148 1.1642446351851852\n",
      "0.2924065 0.1644995 0.24648449999999994 0.9210674999999999\n",
      "True\n",
      "False\n",
      "False\n",
      "True\n",
      "True\n",
      "obj: 3, obj: 2\n",
      "0.41801201666666665 0.16390798333333334 0.7322273648148148 1.1642446351851852\n",
      "0.67592975 0.59862625 0.3599725 0.6326175\n",
      "False\n",
      "True\n",
      "False\n",
      "False\n",
      "True\n",
      "obj: 4, obj: 0\n",
      "1.1041670666666668 0.8436529333333334 0.6523573148148147 1.1732906851851852\n",
      "0.60248695 0.51866705 0.33298300000000003 0.663133\n",
      "False\n",
      "False\n",
      "True\n",
      "True\n",
      "True\n",
      "obj: 4, obj: 1\n",
      "1.1041670666666668 0.8436529333333334 0.6523573148148147 1.1732906851851852\n",
      "0.2924065 0.1644995 0.24648449999999994 0.9210674999999999\n",
      "False\n",
      "False\n",
      "True\n",
      "True\n",
      "True\n",
      "obj: 4, obj: 2\n",
      "1.1041670666666668 0.8436529333333334 0.6523573148148147 1.1732906851851852\n",
      "0.67592975 0.59862625 0.3599725 0.6326175\n",
      "False\n",
      "False\n",
      "True\n",
      "False\n",
      "True\n",
      "['1', '0.29096', '0.948236', '0.0457707', '0.0616469']\n",
      "['0', '0.228453', '0.583776', '0.127907', '0.674583']\n",
      "Regions:  [(315, 602, 266, 1057)]\n",
      "Cropped image /mnt/c/Adrianov/Projects/trash-detector/yolo_res/images/result_581.jpg and saved result to /mnt/c/Adrianov/Projects/trash-detector/masks/imgs/result_768_0.jpg\n",
      "/mnt/c/Adrianov/Projects/trash-detector/yolo_res/label/result_594.txt\n",
      "/mnt/c/Adrianov/Projects/trash-detector/yolo_res/images/result_582.jpg\n",
      "obj: 2, obj: 0\n",
      "0.33019101666666667 0.09091698333333331 0.5238141148148148 0.9429978851851852\n",
      "0.63360695 0.55556705 0.262278 0.625414\n",
      "False\n",
      "True\n",
      "False\n",
      "True\n",
      "True\n",
      "obj: 2, obj: 1\n",
      "0.33019101666666667 0.09091698333333331 0.5238141148148148 0.9429978851851852\n",
      "0.171518 0.062748 0.27603599999999995 0.7807\n",
      "True\n",
      "False\n",
      "False\n",
      "True\n",
      "True\n",
      "obj: 3, obj: 0\n",
      "0.7568106166666667 0.5208793833333333 0.42272536481481476 0.8145686351851851\n",
      "0.63360695 0.55556705 0.262278 0.625414\n",
      "True\n",
      "False\n",
      "False\n",
      "True\n",
      "True\n",
      "obj: 3, obj: 1\n",
      "0.7568106166666667 0.5208793833333333 0.42272536481481476 0.8145686351851851\n",
      "0.171518 0.062748 0.27603599999999995 0.7807\n",
      "False\n",
      "False\n",
      "True\n",
      "True\n",
      "True\n",
      "['1', '0.210554', '0.733406', '0.0309407', '0.0488134']\n",
      "['0', '0.117133', '0.528368', '0.10877', '0.504664']\n",
      "Regions:  [(120, 433, 298, 843)]\n",
      "['1', '0.638845', '0.618647', '0.0275979', '0.0214729']\n",
      "['0', '0.594587', '0.443846', '0.0780399', '0.363136']\n",
      "Regions:  [(120, 433, 298, 843), (1066, 1253, 283, 679)]\n",
      "Cropped image /mnt/c/Adrianov/Projects/trash-detector/yolo_res/images/result_582.jpg and saved result to /mnt/c/Adrianov/Projects/trash-detector/masks/imgs/result_769_0.jpg\n",
      "/mnt/c/Adrianov/Projects/trash-detector/yolo_res/label/result_595.txt\n",
      "/mnt/c/Adrianov/Projects/trash-detector/yolo_res/images/result_583.jpg\n"
     ]
    },
    {
     "name": "stderr",
     "output_type": "stream",
     "text": [
      " 63%|█████████████████          | 772/1219 [01:51<00:58,  7.65it/s]"
     ]
    },
    {
     "name": "stdout",
     "output_type": "stream",
     "text": [
      "obj: 2, obj: 0\n",
      "0.3299582166666667 0.09026978333333333 0.5248952648148149 0.9435987351851851\n",
      "0.63273425 0.55577175 0.2626595 0.6246605000000001\n",
      "False\n",
      "True\n",
      "False\n",
      "True\n",
      "True\n",
      "obj: 2, obj: 1\n",
      "0.3299582166666667 0.09026978333333333 0.5248952648148149 0.9435987351851851\n",
      "0.16905900000000001 0.061347 0.27869200000000005 0.778892\n",
      "True\n",
      "False\n",
      "False\n",
      "True\n",
      "True\n",
      "obj: 3, obj: 0\n",
      "0.7567483166666666 0.5205996833333333 0.42200881481481484 0.8136131851851851\n",
      "0.63273425 0.55577175 0.2626595 0.6246605000000001\n",
      "True\n",
      "False\n",
      "False\n",
      "True\n",
      "True\n",
      "obj: 3, obj: 1\n",
      "0.7567483166666666 0.5205996833333333 0.42200881481481484 0.8136131851851851\n",
      "0.16905900000000001 0.061347 0.27869200000000005 0.778892\n",
      "False\n",
      "False\n",
      "True\n",
      "True\n",
      "True\n",
      "['1', '0.210114', '0.734247', '0.0313551', '0.0483331']\n",
      "['0', '0.115203', '0.528792', '0.107712', '0.5002']\n",
      "Regions:  [(117, 433, 300, 841)]\n",
      "['1', '0.638674', '0.617811', '0.0278153', '0.021234']\n",
      "['0', '0.594253', '0.44366', '0.0769625', '0.362001']\n",
      "Regions:  [(117, 433, 300, 841), (1067, 1252, 283, 678)]\n",
      "Cropped image /mnt/c/Adrianov/Projects/trash-detector/yolo_res/images/result_583.jpg and saved result to /mnt/c/Adrianov/Projects/trash-detector/masks/imgs/result_770_0.jpg\n",
      "/mnt/c/Adrianov/Projects/trash-detector/yolo_res/label/result_596.txt\n",
      "/mnt/c/Adrianov/Projects/trash-detector/yolo_res/images/result_584.jpg\n",
      "Cropped image /mnt/c/Adrianov/Projects/trash-detector/yolo_res/images/result_584.jpg and saved result to None\n",
      "/mnt/c/Adrianov/Projects/trash-detector/yolo_res/label/result_597.txt\n",
      "/mnt/c/Adrianov/Projects/trash-detector/yolo_res/images/result_585.jpg\n"
     ]
    },
    {
     "name": "stderr",
     "output_type": "stream",
     "text": [
      " 63%|█████████████████          | 773/1219 [01:51<01:08,  6.49it/s]"
     ]
    },
    {
     "name": "stdout",
     "output_type": "stream",
     "text": [
      "Cropped image /mnt/c/Adrianov/Projects/trash-detector/yolo_res/images/result_585.jpg and saved result to None\n",
      "/mnt/c/Adrianov/Projects/trash-detector/yolo_res/label/result_598.txt\n",
      "/mnt/c/Adrianov/Projects/trash-detector/yolo_res/images/result_586.jpg\n"
     ]
    },
    {
     "name": "stderr",
     "output_type": "stream",
     "text": [
      " 64%|█████████████████▏         | 775/1219 [01:51<01:19,  5.60it/s]"
     ]
    },
    {
     "name": "stdout",
     "output_type": "stream",
     "text": [
      "Cropped image /mnt/c/Adrianov/Projects/trash-detector/yolo_res/images/result_586.jpg and saved result to None\n",
      "/mnt/c/Adrianov/Projects/trash-detector/yolo_res/label/result_599.txt\n",
      "/mnt/c/Adrianov/Projects/trash-detector/yolo_res/images/result_587.jpg\n",
      "Cropped image /mnt/c/Adrianov/Projects/trash-detector/yolo_res/images/result_587.jpg and saved result to None\n",
      "/mnt/c/Adrianov/Projects/trash-detector/yolo_res/label/result_6.txt\n",
      "/mnt/c/Adrianov/Projects/trash-detector/yolo_res/images/result_588.jpg\n"
     ]
    },
    {
     "name": "stderr",
     "output_type": "stream",
     "text": [
      " 64%|█████████████████▏         | 777/1219 [01:51<01:13,  6.03it/s]"
     ]
    },
    {
     "name": "stdout",
     "output_type": "stream",
     "text": [
      "Cropped image /mnt/c/Adrianov/Projects/trash-detector/yolo_res/images/result_588.jpg and saved result to None\n",
      "/mnt/c/Adrianov/Projects/trash-detector/yolo_res/label/result_60.txt\n",
      "/mnt/c/Adrianov/Projects/trash-detector/yolo_res/images/result_589.jpg\n",
      "obj: 2, obj: 0\n",
      "0.9089186666666667 0.6502313333333334 0.7532122648148148 1.1764337351851852\n",
      "0.58313195 0.49706405 0.40701699999999996 0.7939849999999999\n",
      "False\n",
      "False\n",
      "True\n",
      "True\n",
      "True\n",
      "obj: 2, obj: 1\n",
      "0.9089186666666667 0.6502313333333334 0.7532122648148148 1.1764337351851852\n",
      "0.9003355 0.7915325 0.36801149999999994 0.8758465\n",
      "True\n",
      "False\n",
      "False\n",
      "True\n",
      "True\n",
      "obj: 2, obj: 3\n",
      "0.9089186666666667 0.6502313333333334 0.7532122648148148 1.1764337351851852\n",
      "0.256082 0.0 0.6480835 1.0000005\n",
      "False\n",
      "False\n",
      "True\n",
      "True\n",
      "True\n",
      "['1', '0.779575', '0.964823', '0.050354', '0.0528511']\n",
      "['0', '0.845934', '0.621929', '0.108803', '0.507835']\n",
      "Regions:  [(1448, 1728, 397, 1070)]\n",
      "Cropped image /mnt/c/Adrianov/Projects/trash-detector/yolo_res/images/result_589.jpg and saved result to /mnt/c/Adrianov/Projects/trash-detector/masks/imgs/result_776_0.jpg\n",
      "/mnt/c/Adrianov/Projects/trash-detector/yolo_res/label/result_600.txt\n",
      "/mnt/c/Adrianov/Projects/trash-detector/yolo_res/images/result_59.jpg\n"
     ]
    },
    {
     "name": "stderr",
     "output_type": "stream",
     "text": [
      " 64%|█████████████████▏         | 778/1219 [01:52<01:27,  5.05it/s]"
     ]
    },
    {
     "name": "stdout",
     "output_type": "stream",
     "text": [
      "Cropped image /mnt/c/Adrianov/Projects/trash-detector/yolo_res/images/result_59.jpg and saved result to None\n",
      "/mnt/c/Adrianov/Projects/trash-detector/yolo_res/label/result_601.txt\n",
      "/mnt/c/Adrianov/Projects/trash-detector/yolo_res/images/result_590.jpg\n",
      "obj: 2, obj: 0\n",
      "0.32873826666666667 0.09019573333333332 0.5279064148148149 0.9482755851851852\n",
      "0.6345608 0.5555492 0.262311 0.625427\n",
      "False\n",
      "True\n",
      "False\n",
      "True\n",
      "True\n",
      "obj: 2, obj: 1\n",
      "0.32873826666666667 0.09019573333333332 0.5279064148148149 0.9482755851851852\n",
      "0.167343 0.055401 0.27289099999999994 0.7821769999999999\n",
      "True\n",
      "False\n",
      "False\n",
      "True\n",
      "True\n",
      "obj: 3, obj: 0\n",
      "0.7567744166666668 0.5199235833333333 0.4224132148148148 0.8128607851851852\n",
      "0.6345608 0.5555492 0.262311 0.625427\n",
      "True\n",
      "False\n",
      "False\n",
      "True\n",
      "True\n",
      "obj: 3, obj: 1\n",
      "0.7567744166666668 0.5199235833333333 0.4224132148148148 0.8128607851851852\n",
      "0.167343 0.055401 0.27289099999999994 0.7821769999999999\n",
      "False\n",
      "False\n",
      "True\n",
      "True\n",
      "True\n"
     ]
    },
    {
     "name": "stderr",
     "output_type": "stream",
     "text": [
      " 64%|█████████████████▎         | 780/1219 [01:52<01:26,  5.07it/s]"
     ]
    },
    {
     "name": "stdout",
     "output_type": "stream",
     "text": [
      "['1', '0.209467', '0.738091', '0.0302092', '0.0499988']\n",
      "['0', '0.111372', '0.527534', '0.111942', '0.509286']\n",
      "Regions:  [(106, 431, 294, 844)]\n",
      "['1', '0.638349', '0.617637', '0.0285175', '0.0200772']\n",
      "['0', '0.595055', '0.443869', '0.0790116', '0.363116']\n",
      "Regions:  [(106, 431, 294, 844), (1066, 1253, 283, 677)]\n",
      "Cropped image /mnt/c/Adrianov/Projects/trash-detector/yolo_res/images/result_590.jpg and saved result to /mnt/c/Adrianov/Projects/trash-detector/masks/imgs/result_778_0.jpg\n",
      "/mnt/c/Adrianov/Projects/trash-detector/yolo_res/label/result_602.txt\n",
      "/mnt/c/Adrianov/Projects/trash-detector/yolo_res/images/result_591.jpg\n",
      "obj: 3, obj: 0\n",
      "0.4194395166666667 0.16390248333333335 0.7308200148148147 1.1643299851851852\n",
      "0.5895158 0.5115882 0.3370815 0.6656584999999999\n",
      "False\n",
      "True\n",
      "False\n",
      "False\n",
      "True\n",
      "obj: 3, obj: 1\n",
      "0.4194395166666667 0.16390248333333335 0.7308200148148147 1.1643299851851852\n",
      "0.292675 0.166543 0.25033049999999996 0.9438475\n",
      "True\n",
      "False\n",
      "False\n",
      "True\n",
      "True\n",
      "obj: 3, obj: 2\n",
      "0.4194395166666667 0.16390248333333335 0.7308200148148147 1.1643299851851852\n",
      "0.6795473999999999 0.5864406 0.36685349999999994 0.6292145\n",
      "False\n",
      "True\n",
      "False\n",
      "False\n",
      "True\n",
      "['1', '0.291671', '0.947575', '0.0472037', '0.0631396']\n",
      "['0', '0.229609', '0.597089', '0.126132', '0.693517']\n",
      "Regions:  [(319, 605, 270, 1057)]\n",
      "Cropped image /mnt/c/Adrianov/Projects/trash-detector/yolo_res/images/result_591.jpg and saved result to /mnt/c/Adrianov/Projects/trash-detector/masks/imgs/result_779_0.jpg\n",
      "/mnt/c/Adrianov/Projects/trash-detector/yolo_res/label/result_603.txt\n",
      "/mnt/c/Adrianov/Projects/trash-detector/yolo_res/images/result_592.jpg\n"
     ]
    },
    {
     "name": "stderr",
     "output_type": "stream",
     "text": [
      " 64%|█████████████████▎         | 782/1219 [01:52<01:05,  6.70it/s]"
     ]
    },
    {
     "name": "stdout",
     "output_type": "stream",
     "text": [
      "Cropped image /mnt/c/Adrianov/Projects/trash-detector/yolo_res/images/result_592.jpg and saved result to None\n",
      "/mnt/c/Adrianov/Projects/trash-detector/yolo_res/label/result_604.txt\n",
      "/mnt/c/Adrianov/Projects/trash-detector/yolo_res/images/result_593.jpg\n",
      "Cropped image /mnt/c/Adrianov/Projects/trash-detector/yolo_res/images/result_593.jpg and saved result to None\n",
      "/mnt/c/Adrianov/Projects/trash-detector/yolo_res/label/result_605.txt\n",
      "/mnt/c/Adrianov/Projects/trash-detector/yolo_res/images/result_594.jpg\n",
      "obj: 2, obj: 0\n",
      "0.3297519666666667 0.08978803333333334 0.5270744648148149 0.9448575351851851\n",
      "0.63534105 0.55568695 0.26267700000000005 0.625721\n",
      "False\n",
      "True\n",
      "False\n",
      "True\n",
      "True\n",
      "obj: 2, obj: 1\n",
      "0.3297519666666667 0.08978803333333334 0.5270744648148149 0.9448575351851851\n",
      "0.16949350000000002 0.0475425 0.26886099999999996 0.7796749999999999\n",
      "True\n",
      "False\n",
      "False\n",
      "True\n",
      "True\n",
      "obj: 3, obj: 0\n",
      "0.7563713166666666 0.5193846833333333 0.42314941481481483 0.8147485851851851\n",
      "0.63534105 0.55568695 0.26267700000000005 0.625721\n",
      "True\n",
      "False\n",
      "False\n",
      "True\n",
      "True\n",
      "obj: 3, obj: 1\n",
      "0.7563713166666666 0.5193846833333333 0.42314941481481483 0.8147485851851851\n",
      "0.16949350000000002 0.0475425 0.26886099999999996 0.7796749999999999\n",
      "False\n",
      "False\n",
      "True\n",
      "True\n",
      "True\n",
      "['1', '0.20977', '0.735966', '0.0316306', '0.0474127']\n",
      "['0', '0.108518', '0.524268', '0.121951', '0.510814']\n",
      "Regions:  [(91, 433, 290, 842)]\n",
      "['1', '0.637878', '0.618949', '0.0286533', '0.0212288']\n",
      "['0', '0.595514', '0.444199', '0.0796541', '0.363044']\n",
      "Regions:  [(91, 433, 290, 842), (1066, 1252, 283, 679)]\n",
      "Cropped image /mnt/c/Adrianov/Projects/trash-detector/yolo_res/images/result_594.jpg and saved result to /mnt/c/Adrianov/Projects/trash-detector/masks/imgs/result_782_0.jpg\n"
     ]
    },
    {
     "name": "stderr",
     "output_type": "stream",
     "text": [
      " 64%|█████████████████▍         | 785/1219 [01:53<00:50,  8.55it/s]"
     ]
    },
    {
     "name": "stdout",
     "output_type": "stream",
     "text": [
      "/mnt/c/Adrianov/Projects/trash-detector/yolo_res/label/result_606.txt\n",
      "/mnt/c/Adrianov/Projects/trash-detector/yolo_res/images/result_595.jpg\n",
      "Cropped image /mnt/c/Adrianov/Projects/trash-detector/yolo_res/images/result_595.jpg and saved result to None\n",
      "/mnt/c/Adrianov/Projects/trash-detector/yolo_res/label/result_607.txt\n",
      "/mnt/c/Adrianov/Projects/trash-detector/yolo_res/images/result_596.jpg\n",
      "obj: 2, obj: 0\n",
      "1.1041670166666666 0.8389149833333334 0.6785168148148149 1.180303185185185\n",
      "0.39341000000000004 0.307554 0.294216 0.6790080000000001\n",
      "False\n",
      "False\n",
      "True\n",
      "True\n",
      "True\n",
      "obj: 2, obj: 1\n",
      "1.1041670166666666 0.8389149833333334 0.6785168148148149 1.180303185185185\n",
      "0.6465022500000001 0.54747975 0.3534554999999999 0.8097485\n",
      "False\n",
      "False\n",
      "True\n",
      "True\n",
      "True\n",
      "Cropped image /mnt/c/Adrianov/Projects/trash-detector/yolo_res/images/result_596.jpg and saved result to None\n",
      "/mnt/c/Adrianov/Projects/trash-detector/yolo_res/label/result_608.txt\n",
      "/mnt/c/Adrianov/Projects/trash-detector/yolo_res/images/result_597.jpg\n"
     ]
    },
    {
     "name": "stderr",
     "output_type": "stream",
     "text": [
      " 65%|█████████████████▍         | 788/1219 [01:53<00:46,  9.33it/s]"
     ]
    },
    {
     "name": "stdout",
     "output_type": "stream",
     "text": [
      "Cropped image /mnt/c/Adrianov/Projects/trash-detector/yolo_res/images/result_597.jpg and saved result to None\n",
      "/mnt/c/Adrianov/Projects/trash-detector/yolo_res/label/result_609.txt\n",
      "/mnt/c/Adrianov/Projects/trash-detector/yolo_res/images/result_598.jpg\n",
      "Cropped image /mnt/c/Adrianov/Projects/trash-detector/yolo_res/images/result_598.jpg and saved result to None\n",
      "/mnt/c/Adrianov/Projects/trash-detector/yolo_res/label/result_61.txt\n",
      "/mnt/c/Adrianov/Projects/trash-detector/yolo_res/images/result_599.jpg\n",
      "Cropped image /mnt/c/Adrianov/Projects/trash-detector/yolo_res/images/result_599.jpg and saved result to None\n"
     ]
    },
    {
     "name": "stderr",
     "output_type": "stream",
     "text": [
      " 65%|█████████████████▍         | 790/1219 [01:53<00:42, 10.06it/s]"
     ]
    },
    {
     "name": "stdout",
     "output_type": "stream",
     "text": [
      "/mnt/c/Adrianov/Projects/trash-detector/yolo_res/label/result_610.txt\n",
      "/mnt/c/Adrianov/Projects/trash-detector/yolo_res/images/result_6.jpg\n",
      "Cropped image /mnt/c/Adrianov/Projects/trash-detector/yolo_res/images/result_6.jpg and saved result to None\n",
      "/mnt/c/Adrianov/Projects/trash-detector/yolo_res/label/result_611.txt\n",
      "/mnt/c/Adrianov/Projects/trash-detector/yolo_res/images/result_60.jpg\n",
      "Cropped image /mnt/c/Adrianov/Projects/trash-detector/yolo_res/images/result_60.jpg and saved result to None\n",
      "/mnt/c/Adrianov/Projects/trash-detector/yolo_res/label/result_612.txt\n",
      "/mnt/c/Adrianov/Projects/trash-detector/yolo_res/images/result_600.jpg\n"
     ]
    },
    {
     "name": "stderr",
     "output_type": "stream",
     "text": [
      " 65%|█████████████████▌         | 792/1219 [01:53<00:40, 10.65it/s]"
     ]
    },
    {
     "name": "stdout",
     "output_type": "stream",
     "text": [
      "Cropped image /mnt/c/Adrianov/Projects/trash-detector/yolo_res/images/result_600.jpg and saved result to None\n",
      "/mnt/c/Adrianov/Projects/trash-detector/yolo_res/label/result_613.txt\n",
      "/mnt/c/Adrianov/Projects/trash-detector/yolo_res/images/result_601.jpg\n",
      "obj: 2, obj: 0\n",
      "1.1041669166666668 0.8394890833333334 0.6796168148148147 1.1805011851851852\n",
      "0.39748485 0.30894115 0.294168 0.679022\n",
      "False\n",
      "False\n",
      "True\n",
      "False\n",
      "True\n",
      "obj: 2, obj: 1\n",
      "1.1041669166666668 0.8394890833333334 0.6796168148148147 1.1805011851851852\n",
      "0.6430835 0.5417785 0.3490065 0.8112055\n",
      "False\n",
      "False\n",
      "True\n",
      "True\n",
      "True\n",
      "Cropped image /mnt/c/Adrianov/Projects/trash-detector/yolo_res/images/result_601.jpg and saved result to None\n",
      "/mnt/c/Adrianov/Projects/trash-detector/yolo_res/label/result_614.txt\n",
      "/mnt/c/Adrianov/Projects/trash-detector/yolo_res/images/result_602.jpg\n",
      "Cropped image /mnt/c/Adrianov/Projects/trash-detector/yolo_res/images/result_602.jpg and saved result to None\n",
      "/mnt/c/Adrianov/Projects/trash-detector/yolo_res/label/result_615.txt\n",
      "/mnt/c/Adrianov/Projects/trash-detector/yolo_res/images/result_603.jpg\n"
     ]
    },
    {
     "name": "stderr",
     "output_type": "stream",
     "text": [
      " 65%|█████████████████▋         | 796/1219 [01:54<00:40, 10.47it/s]"
     ]
    },
    {
     "name": "stdout",
     "output_type": "stream",
     "text": [
      "Cropped image /mnt/c/Adrianov/Projects/trash-detector/yolo_res/images/result_603.jpg and saved result to None\n",
      "/mnt/c/Adrianov/Projects/trash-detector/yolo_res/label/result_616.txt\n",
      "/mnt/c/Adrianov/Projects/trash-detector/yolo_res/images/result_604.jpg\n",
      "Cropped image /mnt/c/Adrianov/Projects/trash-detector/yolo_res/images/result_604.jpg and saved result to None\n",
      "/mnt/c/Adrianov/Projects/trash-detector/yolo_res/label/result_617.txt\n",
      "/mnt/c/Adrianov/Projects/trash-detector/yolo_res/images/result_605.jpg\n",
      "obj: 2, obj: 0\n",
      "1.1041670166666666 0.8395669833333333 0.6794778148148148 1.1808301851851852\n",
      "0.39652315000000005 0.31161485 0.295976 0.678588\n",
      "False\n",
      "False\n",
      "True\n",
      "False\n",
      "True\n",
      "obj: 2, obj: 1\n",
      "1.1041670166666666 0.8395669833333333 0.6794778148148148 1.1808301851851852\n",
      "0.6394439999999999 0.539088 0.347609 0.813143\n",
      "False\n",
      "False\n",
      "True\n",
      "True\n",
      "True\n",
      "Cropped image /mnt/c/Adrianov/Projects/trash-detector/yolo_res/images/result_605.jpg and saved result to None\n",
      "/mnt/c/Adrianov/Projects/trash-detector/yolo_res/label/result_618.txt\n",
      "/mnt/c/Adrianov/Projects/trash-detector/yolo_res/images/result_606.jpg\n"
     ]
    },
    {
     "name": "stderr",
     "output_type": "stream",
     "text": [
      " 65%|█████████████████▋         | 798/1219 [01:54<00:39, 10.63it/s]"
     ]
    },
    {
     "name": "stdout",
     "output_type": "stream",
     "text": [
      "Cropped image /mnt/c/Adrianov/Projects/trash-detector/yolo_res/images/result_606.jpg and saved result to None\n",
      "/mnt/c/Adrianov/Projects/trash-detector/yolo_res/label/result_619.txt\n",
      "/mnt/c/Adrianov/Projects/trash-detector/yolo_res/images/result_607.jpg\n",
      "Cropped image /mnt/c/Adrianov/Projects/trash-detector/yolo_res/images/result_607.jpg and saved result to None\n",
      "/mnt/c/Adrianov/Projects/trash-detector/yolo_res/label/result_62.txt\n",
      "/mnt/c/Adrianov/Projects/trash-detector/yolo_res/images/result_608.jpg\n",
      "Cropped image /mnt/c/Adrianov/Projects/trash-detector/yolo_res/images/result_608.jpg and saved result to None\n",
      "/mnt/c/Adrianov/Projects/trash-detector/yolo_res/label/result_620.txt\n",
      "/mnt/c/Adrianov/Projects/trash-detector/yolo_res/images/result_609.jpg\n"
     ]
    },
    {
     "name": "stderr",
     "output_type": "stream",
     "text": [
      " 66%|█████████████████▋         | 800/1219 [01:54<00:38, 10.98it/s]"
     ]
    },
    {
     "name": "stdout",
     "output_type": "stream",
     "text": [
      "Cropped image /mnt/c/Adrianov/Projects/trash-detector/yolo_res/images/result_609.jpg and saved result to None\n",
      "/mnt/c/Adrianov/Projects/trash-detector/yolo_res/label/result_621.txt\n",
      "/mnt/c/Adrianov/Projects/trash-detector/yolo_res/images/result_61.jpg\n"
     ]
    },
    {
     "name": "stderr",
     "output_type": "stream",
     "text": [
      " 66%|█████████████████▊         | 802/1219 [01:54<00:50,  8.26it/s]"
     ]
    },
    {
     "name": "stdout",
     "output_type": "stream",
     "text": [
      "Cropped image /mnt/c/Adrianov/Projects/trash-detector/yolo_res/images/result_61.jpg and saved result to None\n",
      "/mnt/c/Adrianov/Projects/trash-detector/yolo_res/label/result_622.txt\n",
      "/mnt/c/Adrianov/Projects/trash-detector/yolo_res/images/result_610.jpg\n",
      "obj: 2, obj: 0\n",
      "1.1041663166666666 0.8394176833333333 0.6798103148148148 1.181851685185185\n",
      "0.3942051 0.31344890000000003 0.2967725 0.6781475\n",
      "False\n",
      "False\n",
      "True\n",
      "False\n",
      "True\n",
      "obj: 2, obj: 1\n",
      "1.1041663166666666 0.8394176833333333 0.6798103148148148 1.181851685185185\n",
      "0.6366428500000001 0.54134715 0.346241 0.813561\n",
      "False\n",
      "False\n",
      "True\n",
      "True\n",
      "True\n",
      "Cropped image /mnt/c/Adrianov/Projects/trash-detector/yolo_res/images/result_610.jpg and saved result to None\n",
      "/mnt/c/Adrianov/Projects/trash-detector/yolo_res/label/result_623.txt\n",
      "/mnt/c/Adrianov/Projects/trash-detector/yolo_res/images/result_611.jpg\n"
     ]
    },
    {
     "name": "stderr",
     "output_type": "stream",
     "text": [
      " 66%|█████████████████▊         | 804/1219 [01:55<00:46,  9.02it/s]"
     ]
    },
    {
     "name": "stdout",
     "output_type": "stream",
     "text": [
      "Cropped image /mnt/c/Adrianov/Projects/trash-detector/yolo_res/images/result_611.jpg and saved result to None\n",
      "/mnt/c/Adrianov/Projects/trash-detector/yolo_res/label/result_624.txt\n",
      "/mnt/c/Adrianov/Projects/trash-detector/yolo_res/images/result_612.jpg\n",
      "Cropped image /mnt/c/Adrianov/Projects/trash-detector/yolo_res/images/result_612.jpg and saved result to None\n",
      "/mnt/c/Adrianov/Projects/trash-detector/yolo_res/label/result_625.txt\n",
      "/mnt/c/Adrianov/Projects/trash-detector/yolo_res/images/result_613.jpg\n",
      "obj: 2, obj: 0\n",
      "1.1041665166666665 0.8399094833333333 0.6808843148148148 1.181105685185185\n",
      "0.6262257999999999 0.5410322 0.34697049999999996 0.8157175\n",
      "False\n",
      "False\n",
      "True\n",
      "True\n",
      "True\n",
      "obj: 2, obj: 1\n",
      "1.1041665166666665 0.8399094833333333 0.6808843148148148 1.181105685185185\n",
      "0.3972279 0.3133341 0.30174599999999996 0.67837\n",
      "False\n",
      "False\n",
      "True\n",
      "False\n",
      "True\n",
      "Cropped image /mnt/c/Adrianov/Projects/trash-detector/yolo_res/images/result_613.jpg and saved result to None\n",
      "/mnt/c/Adrianov/Projects/trash-detector/yolo_res/label/result_626.txt\n",
      "/mnt/c/Adrianov/Projects/trash-detector/yolo_res/images/result_614.jpg\n"
     ]
    },
    {
     "name": "stderr",
     "output_type": "stream",
     "text": [
      " 66%|█████████████████▊         | 806/1219 [01:55<00:42,  9.62it/s]"
     ]
    },
    {
     "name": "stdout",
     "output_type": "stream",
     "text": [
      "obj: 2, obj: 0\n",
      "1.1041670166666666 0.8399489833333333 0.6810313148148148 1.1828266851851852\n",
      "0.39680365 0.31536035 0.29952199999999995 0.6795\n",
      "False\n",
      "False\n",
      "True\n",
      "False\n",
      "True\n",
      "obj: 2, obj: 1\n",
      "1.1041670166666666 0.8399489833333333 0.6810313148148148 1.1828266851851852\n",
      "0.62755605 0.53725995 0.35003399999999996 0.814846\n",
      "False\n",
      "False\n",
      "True\n",
      "True\n",
      "True\n",
      "Cropped image /mnt/c/Adrianov/Projects/trash-detector/yolo_res/images/result_614.jpg and saved result to None\n",
      "/mnt/c/Adrianov/Projects/trash-detector/yolo_res/label/result_627.txt\n",
      "/mnt/c/Adrianov/Projects/trash-detector/yolo_res/images/result_615.jpg\n",
      "Cropped image /mnt/c/Adrianov/Projects/trash-detector/yolo_res/images/result_615.jpg and saved result to None\n",
      "/mnt/c/Adrianov/Projects/trash-detector/yolo_res/label/result_628.txt\n",
      "/mnt/c/Adrianov/Projects/trash-detector/yolo_res/images/result_616.jpg\n"
     ]
    },
    {
     "name": "stderr",
     "output_type": "stream",
     "text": [
      " 66%|█████████████████▉         | 810/1219 [01:55<00:38, 10.66it/s]"
     ]
    },
    {
     "name": "stdout",
     "output_type": "stream",
     "text": [
      "Cropped image /mnt/c/Adrianov/Projects/trash-detector/yolo_res/images/result_616.jpg and saved result to None\n",
      "/mnt/c/Adrianov/Projects/trash-detector/yolo_res/label/result_629.txt\n",
      "/mnt/c/Adrianov/Projects/trash-detector/yolo_res/images/result_617.jpg\n",
      "Cropped image /mnt/c/Adrianov/Projects/trash-detector/yolo_res/images/result_617.jpg and saved result to None\n",
      "/mnt/c/Adrianov/Projects/trash-detector/yolo_res/label/result_63.txt\n",
      "/mnt/c/Adrianov/Projects/trash-detector/yolo_res/images/result_618.jpg\n",
      "Cropped image /mnt/c/Adrianov/Projects/trash-detector/yolo_res/images/result_618.jpg and saved result to None\n",
      "/mnt/c/Adrianov/Projects/trash-detector/yolo_res/label/result_630.txt\n",
      "/mnt/c/Adrianov/Projects/trash-detector/yolo_res/images/result_619.jpg\n"
     ]
    },
    {
     "name": "stderr",
     "output_type": "stream",
     "text": [
      " 67%|█████████████████▉         | 812/1219 [01:55<00:39, 10.35it/s]"
     ]
    },
    {
     "name": "stdout",
     "output_type": "stream",
     "text": [
      "Cropped image /mnt/c/Adrianov/Projects/trash-detector/yolo_res/images/result_619.jpg and saved result to None\n",
      "/mnt/c/Adrianov/Projects/trash-detector/yolo_res/label/result_631.txt\n",
      "/mnt/c/Adrianov/Projects/trash-detector/yolo_res/images/result_62.jpg\n",
      "obj: 2, obj: 0\n",
      "1.1041668666666666 0.8397211333333334 0.6797473148148148 1.1837146851851852\n",
      "0.6281048 0.5348991999999999 0.34719449999999996 0.8174855\n",
      "False\n",
      "False\n",
      "True\n",
      "True\n",
      "True\n",
      "obj: 2, obj: 1\n",
      "1.1041668666666666 0.8397211333333334 0.6797473148148148 1.1837146851851852\n",
      "0.3968593 0.3162427 0.29961099999999996 0.678701\n",
      "False\n",
      "False\n",
      "True\n",
      "False\n",
      "True\n",
      "Cropped image /mnt/c/Adrianov/Projects/trash-detector/yolo_res/images/result_62.jpg and saved result to None\n",
      "/mnt/c/Adrianov/Projects/trash-detector/yolo_res/label/result_632.txt\n",
      "/mnt/c/Adrianov/Projects/trash-detector/yolo_res/images/result_620.jpg\n"
     ]
    },
    {
     "name": "stderr",
     "output_type": "stream",
     "text": [
      " 67%|██████████████████         | 814/1219 [01:55<00:43,  9.29it/s]"
     ]
    },
    {
     "name": "stdout",
     "output_type": "stream",
     "text": [
      "Cropped image /mnt/c/Adrianov/Projects/trash-detector/yolo_res/images/result_620.jpg and saved result to None\n",
      "/mnt/c/Adrianov/Projects/trash-detector/yolo_res/label/result_633.txt\n",
      "/mnt/c/Adrianov/Projects/trash-detector/yolo_res/images/result_621.jpg\n",
      "Cropped image /mnt/c/Adrianov/Projects/trash-detector/yolo_res/images/result_621.jpg and saved result to None\n",
      "/mnt/c/Adrianov/Projects/trash-detector/yolo_res/label/result_634.txt\n",
      "/mnt/c/Adrianov/Projects/trash-detector/yolo_res/images/result_622.jpg\n"
     ]
    },
    {
     "name": "stderr",
     "output_type": "stream",
     "text": [
      " 67%|██████████████████         | 815/1219 [01:56<00:49,  8.08it/s]"
     ]
    },
    {
     "name": "stdout",
     "output_type": "stream",
     "text": [
      "obj: 2, obj: 0\n",
      "1.1041664166666667 0.8396215833333334 0.6788513148148148 1.1839986851851851\n",
      "0.4016387 0.3166453 0.29942900000000006 0.678531\n",
      "False\n",
      "False\n",
      "True\n",
      "False\n",
      "True\n",
      "obj: 2, obj: 1\n",
      "1.1041664166666667 0.8396215833333334 0.6788513148148148 1.1839986851851851\n",
      "0.6283037499999999 0.53641625 0.34732799999999997 0.8178759999999999\n",
      "False\n",
      "False\n",
      "True\n",
      "True\n",
      "True\n",
      "Cropped image /mnt/c/Adrianov/Projects/trash-detector/yolo_res/images/result_622.jpg and saved result to None\n",
      "/mnt/c/Adrianov/Projects/trash-detector/yolo_res/label/result_635.txt\n",
      "/mnt/c/Adrianov/Projects/trash-detector/yolo_res/images/result_623.jpg\n",
      "Cropped image /mnt/c/Adrianov/Projects/trash-detector/yolo_res/images/result_623.jpg and saved result to None\n",
      "/mnt/c/Adrianov/Projects/trash-detector/yolo_res/label/result_636.txt\n",
      "/mnt/c/Adrianov/Projects/trash-detector/yolo_res/images/result_624.jpg\n"
     ]
    },
    {
     "name": "stderr",
     "output_type": "stream",
     "text": [
      " 67%|██████████████████         | 817/1219 [01:56<00:45,  8.88it/s]"
     ]
    }
   ],
   "source": [
    "from classifier import segment\n",
    "from tqdm import tqdm\n",
    "\n",
    "labels = [f for f in os.listdir(os.path.join(SCRIPT_DIR,f\"yolo_res/label/\")) if f.endswith(\".txt\")]\n",
    "imgs = [f for f in os.listdir(os.path.join(SCRIPT_DIR,f\"yolo_res/images/\")) if f.endswith(\".jpg\")]\n",
    "\n",
    "for i in tqdm(range(len(labels))):\n",
    "    label = os.path.join(SCRIPT_DIR, f\"yolo_res/label/{labels[i]}\")\n",
    "    img = os.path.join(SCRIPT_DIR, f\"yolo_res/images/{imgs[i]}\")\n",
    "    print(label)\n",
    "    print(img)\n",
    "    overlaps = segment.find_overlapping_regions(label, img)\n",
    "    cropped_regions = segment.crop_regions(img, overlaps, label, i, os.path.join(SCRIPT_DIR,f\"masks/imgs/\"))"
   ]
  },
  {
   "cell_type": "code",
   "execution_count": null,
   "id": "8b78934f-de16-4166-8467-985fd372d970",
   "metadata": {},
   "outputs": [],
   "source": [
    "import cv2\n",
    "\n"
   ]
  },
  {
   "cell_type": "code",
   "execution_count": null,
   "id": "1b5844d1-28b4-4a37-8162-a528566edc05",
   "metadata": {},
   "outputs": [],
   "source": []
  }
 ],
 "metadata": {
  "kernelspec": {
   "display_name": "Python (trah_venv)",
   "language": "python",
   "name": "trash_venv"
  },
  "language_info": {
   "codemirror_mode": {
    "name": "ipython",
    "version": 3
   },
   "file_extension": ".py",
   "mimetype": "text/x-python",
   "name": "python",
   "nbconvert_exporter": "python",
   "pygments_lexer": "ipython3",
   "version": "3.12.3"
  }
 },
 "nbformat": 4,
 "nbformat_minor": 5
}
