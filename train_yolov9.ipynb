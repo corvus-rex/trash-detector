{
 "cells": [
  {
   "cell_type": "code",
   "execution_count": 1,
   "metadata": {
    "vscode": {
     "languageId": "plaintext"
    }
   },
   "outputs": [
    {
     "name": "stdout",
     "output_type": "stream",
     "text": [
      "Tue Nov 26 14:47:10 2024       \n",
      "+-----------------------------------------------------------------------------------------+\n",
      "| NVIDIA-SMI 565.51.01              Driver Version: 565.90         CUDA Version: 12.7     |\n",
      "|-----------------------------------------+------------------------+----------------------+\n",
      "| GPU  Name                 Persistence-M | Bus-Id          Disp.A | Volatile Uncorr. ECC |\n",
      "| Fan  Temp   Perf          Pwr:Usage/Cap |           Memory-Usage | GPU-Util  Compute M. |\n",
      "|                                         |                        |               MIG M. |\n",
      "|=========================================+========================+======================|\n",
      "|   0  NVIDIA GeForce RTX 4050 ...    On  |   00000000:01:00.0 Off |                  N/A |\n",
      "| N/A   49C    P8              1W /   60W |       0MiB /   6141MiB |      0%      Default |\n",
      "|                                         |                        |                  N/A |\n",
      "+-----------------------------------------+------------------------+----------------------+\n",
      "                                                                                         \n",
      "+-----------------------------------------------------------------------------------------+\n",
      "| Processes:                                                                              |\n",
      "|  GPU   GI   CI        PID   Type   Process name                              GPU Memory |\n",
      "|        ID   ID                                                               Usage      |\n",
      "|=========================================================================================|\n",
      "|  No running processes found                                                             |\n",
      "+-----------------------------------------------------------------------------------------+\n"
     ]
    }
   ],
   "source": [
    "!nvidia-smi"
   ]
  },
  {
   "cell_type": "code",
   "execution_count": 2,
   "metadata": {
    "vscode": {
     "languageId": "plaintext"
    }
   },
   "outputs": [
    {
     "name": "stdout",
     "output_type": "stream",
     "text": [
      "Requirement already satisfied: roboflow in ./trash_venv/lib/python3.12/site-packages (1.1.49)\n",
      "Requirement already satisfied: certifi in ./trash_venv/lib/python3.12/site-packages (from roboflow) (2024.8.30)\n",
      "Requirement already satisfied: idna==3.7 in ./trash_venv/lib/python3.12/site-packages (from roboflow) (3.7)\n",
      "Requirement already satisfied: cycler in ./trash_venv/lib/python3.12/site-packages (from roboflow) (0.12.1)\n",
      "Requirement already satisfied: kiwisolver>=1.3.1 in ./trash_venv/lib/python3.12/site-packages (from roboflow) (1.4.7)\n",
      "Requirement already satisfied: matplotlib in ./trash_venv/lib/python3.12/site-packages (from roboflow) (3.9.2)\n",
      "Requirement already satisfied: numpy>=1.18.5 in ./trash_venv/lib/python3.12/site-packages (from roboflow) (2.1.3)\n",
      "Requirement already satisfied: opencv-python-headless==4.10.0.84 in ./trash_venv/lib/python3.12/site-packages (from roboflow) (4.10.0.84)\n",
      "Requirement already satisfied: Pillow>=7.1.2 in ./trash_venv/lib/python3.12/site-packages (from roboflow) (11.0.0)\n",
      "Requirement already satisfied: python-dateutil in ./trash_venv/lib/python3.12/site-packages (from roboflow) (2.9.0.post0)\n",
      "Requirement already satisfied: python-dotenv in ./trash_venv/lib/python3.12/site-packages (from roboflow) (1.0.1)\n",
      "Requirement already satisfied: requests in ./trash_venv/lib/python3.12/site-packages (from roboflow) (2.32.3)\n",
      "Requirement already satisfied: six in ./trash_venv/lib/python3.12/site-packages (from roboflow) (1.16.0)\n",
      "Requirement already satisfied: urllib3>=1.26.6 in ./trash_venv/lib/python3.12/site-packages (from roboflow) (2.2.3)\n",
      "Requirement already satisfied: tqdm>=4.41.0 in ./trash_venv/lib/python3.12/site-packages (from roboflow) (4.67.0)\n",
      "Requirement already satisfied: PyYAML>=5.3.1 in ./trash_venv/lib/python3.12/site-packages (from roboflow) (6.0.2)\n",
      "Requirement already satisfied: requests-toolbelt in ./trash_venv/lib/python3.12/site-packages (from roboflow) (1.0.0)\n",
      "Requirement already satisfied: filetype in ./trash_venv/lib/python3.12/site-packages (from roboflow) (1.2.0)\n",
      "Requirement already satisfied: contourpy>=1.0.1 in ./trash_venv/lib/python3.12/site-packages (from matplotlib->roboflow) (1.3.0)\n",
      "Requirement already satisfied: fonttools>=4.22.0 in ./trash_venv/lib/python3.12/site-packages (from matplotlib->roboflow) (4.54.1)\n",
      "Requirement already satisfied: packaging>=20.0 in ./trash_venv/lib/python3.12/site-packages (from matplotlib->roboflow) (24.2)\n",
      "Requirement already satisfied: pyparsing>=2.3.1 in ./trash_venv/lib/python3.12/site-packages (from matplotlib->roboflow) (3.2.0)\n",
      "Requirement already satisfied: charset-normalizer<4,>=2 in ./trash_venv/lib/python3.12/site-packages (from requests->roboflow) (3.4.0)\n"
     ]
    }
   ],
   "source": [
    "!pip install roboflow"
   ]
  },
  {
   "cell_type": "code",
   "execution_count": 4,
   "metadata": {
    "vscode": {
     "languageId": "plaintext"
    }
   },
   "outputs": [],
   "source": [
    "import os\n",
    "token = os.environ.get(\"ROBOFLOW_TOKEN\")\n",
    "from roboflow import Roboflow\n",
    "rf = Roboflow(api_key=token)"
   ]
  },
  {
   "cell_type": "code",
   "execution_count": 6,
   "metadata": {
    "vscode": {
     "languageId": "plaintext"
    }
   },
   "outputs": [
    {
     "name": "stdout",
     "output_type": "stream",
     "text": [
      "loading Roboflow workspace...\n",
      "loading Roboflow project...\n"
     ]
    },
    {
     "name": "stderr",
     "output_type": "stream",
     "text": [
      "Downloading Dataset Version Zip in TACO-3 to yolov9:: 100%|███████████████████████████████████████████| 239310/239310 [00:52<00:00, 4546.19it/s]"
     ]
    },
    {
     "name": "stdout",
     "output_type": "stream",
     "text": [
      "\n"
     ]
    },
    {
     "name": "stderr",
     "output_type": "stream",
     "text": [
      "\n",
      "Extracting Dataset Version Zip to TACO-3 in yolov9:: 100%|███████████████████████████████████████████████| 12020/12020 [01:45<00:00, 114.09it/s]\n"
     ]
    }
   ],
   "source": [
    "project = rf.workspace(\"divya-lzcld\").project(\"taco-mqclx\")\n",
    "version = project.version(3)\n",
    "dataset = version.download(\"yolov9\")"
   ]
  },
  {
   "cell_type": "code",
   "execution_count": 7,
   "metadata": {},
   "outputs": [
    {
     "name": "stdout",
     "output_type": "stream",
     "text": [
      "loading Roboflow workspace...\n",
      "loading Roboflow project...\n"
     ]
    },
    {
     "name": "stderr",
     "output_type": "stream",
     "text": [
      "Downloading Dataset Version Zip in People-Detection-8 to yolov9:: 100%|█████████████████████████████| 2070347/2070347 [07:28<00:00, 4616.91it/s]"
     ]
    },
    {
     "name": "stdout",
     "output_type": "stream",
     "text": [
      "\n"
     ]
    },
    {
     "name": "stderr",
     "output_type": "stream",
     "text": [
      "\n",
      "Extracting Dataset Version Zip to People-Detection-8 in yolov9:: 100%|███████████████████████████████████| 34814/34814 [05:14<00:00, 110.76it/s]\n"
     ]
    }
   ],
   "source": [
    "project = rf.workspace(\"leo-ueno\").project(\"people-detection-o4rdr\")\n",
    "version = project.version(8)\n",
    "dataset = version.download(\"yolov9\")"
   ]
  },
  {
   "cell_type": "code",
   "execution_count": 8,
   "metadata": {},
   "outputs": [
    {
     "name": "stdout",
     "output_type": "stream",
     "text": [
      "loading Roboflow workspace...\n",
      "loading Roboflow project...\n"
     ]
    },
    {
     "name": "stderr",
     "output_type": "stream",
     "text": [
      "Downloading Dataset Version Zip in Person-detection-16 to yolov9:: 100%|██████████████████████████████| 557171/557171 [02:00<00:00, 4618.56it/s]"
     ]
    },
    {
     "name": "stdout",
     "output_type": "stream",
     "text": [
      "\n"
     ]
    },
    {
     "name": "stderr",
     "output_type": "stream",
     "text": [
      "\n",
      "Extracting Dataset Version Zip to Person-detection-16 in yolov9:: 100%|██████████████████████████████████| 10978/10978 [01:33<00:00, 117.94it/s]\n"
     ]
    }
   ],
   "source": [
    "project = rf.workspace(\"titulacin\").project(\"person-detection-9a6mk\")\n",
    "version = project.version(16)\n",
    "dataset = version.download(\"yolov9\")"
   ]
  },
  {
   "cell_type": "code",
   "execution_count": null,
   "metadata": {},
   "outputs": [],
   "source": [
    "project = rf.workspace(\"trash-recognition-fixed\").project(\"taco_tn_uav\")\n",
    "version = project.version(8)\n",
    "dataset = version.download(\"yolov9\")"
   ]
  },
  {
   "cell_type": "code",
   "execution_count": null,
   "metadata": {},
   "outputs": [],
   "source": [
    "from dataset_util import merge\n",
    "\n",
    "train_sets = [os.path.join(SCRIPT_DIR, 'TACO/data/train'), \n",
    "              os.path.join(SCRIPT_DIR, 'TACO_TN_UAV/train'), \n",
    "              os.path.join(SCRIPT_DIR, 'coco_human/data/train'),\n",
    "              os.path.join(SCRIPT_DIR, 'people_detection/data/train')]\n",
    "taco_index = [0,1]\n",
    "\n",
    "merge.merge_yolo(train_sets, os.path.join(SCRIPT_DIR, 'merged_data/train'), taco_index)\n",
    "\n",
    "output_dir = os.path.join(SCRIPT_DIR, 'merged_data')\n",
    "yaml_content = \"\"\"train: ../train/images\n",
    "val: ../valid/images\n",
    "test: ../test/images\n",
    "\n",
    "nc: 2\n",
    "names: \n",
    "- Person\n",
    "- Trash\n",
    "\"\"\"\n",
    "\n",
    "with open(f\"{output_dir}/data.yaml\", \"w\") as yaml_file:\n",
    "    yaml_file.write(yaml_content)"
   ]
  },
  {
   "cell_type": "code",
   "execution_count": null,
   "metadata": {},
   "outputs": [],
   "source": []
  }
 ],
 "metadata": {
  "kernelspec": {
   "display_name": "Python (trah_venv)",
   "language": "python",
   "name": "trash_venv"
  },
  "language_info": {
   "codemirror_mode": {
    "name": "ipython",
    "version": 3
   },
   "file_extension": ".py",
   "mimetype": "text/x-python",
   "name": "python",
   "nbconvert_exporter": "python",
   "pygments_lexer": "ipython3",
   "version": "3.12.3"
  }
 },
 "nbformat": 4,
 "nbformat_minor": 4
}
